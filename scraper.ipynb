{
 "cells": [
  {
   "cell_type": "code",
   "execution_count": 1,
   "metadata": {},
   "outputs": [],
   "source": [
    "import pandas as pd\n",
    "import os\n",
    "from yt_dlp import YoutubeDL"
   ]
  },
  {
   "cell_type": "code",
   "execution_count": 2,
   "metadata": {},
   "outputs": [],
   "source": [
    "# Output directory\n",
    "output_directory = '/Users/kyleandrecastro/Library/CloudStorage/OneDrive-ust.edu.ph/videos'\n",
    "os.makedirs(output_directory, exist_ok=True)"
   ]
  },
  {
   "cell_type": "code",
   "execution_count": 3,
   "metadata": {},
   "outputs": [],
   "source": [
    "# Load the Dataset\n",
    "df = pd.read_excel('MM-Trailer_dataset.xlsx')"
   ]
  },
  {
   "cell_type": "code",
   "execution_count": 4,
   "metadata": {},
   "outputs": [],
   "source": [
    "# turn the IMDBid and URL column into a list\n",
    "urls = df['URL'].tolist()\n",
    "ids = df['IMDBid'].tolist()"
   ]
  },
  {
   "cell_type": "code",
   "execution_count": 5,
   "metadata": {},
   "outputs": [],
   "source": [
    "# List to keep track of failed downloads\n",
    "failed_downloads = []"
   ]
  },
  {
   "cell_type": "code",
   "execution_count": 6,
   "metadata": {},
   "outputs": [
    {
     "name": "stdout",
     "output_type": "stream",
     "text": [
      "File /Users/kyleandrecastro/Library/CloudStorage/OneDrive-ust.edu.ph/videos/tt0790799.mp4 already exists. Skipping download.\n",
      "File /Users/kyleandrecastro/Library/CloudStorage/OneDrive-ust.edu.ph/videos/tt0478087.mp4 already exists. Skipping download.\n",
      "File /Users/kyleandrecastro/Library/CloudStorage/OneDrive-ust.edu.ph/videos/tt1629439.mp4 already exists. Skipping download.\n",
      "File /Users/kyleandrecastro/Library/CloudStorage/OneDrive-ust.edu.ph/videos/tt1649444.mp4 already exists. Skipping download.\n",
      "File /Users/kyleandrecastro/Library/CloudStorage/OneDrive-ust.edu.ph/videos/tt0147800.mp4 already exists. Skipping download.\n",
      "File /Users/kyleandrecastro/Library/CloudStorage/OneDrive-ust.edu.ph/videos/tt0214388.mp4 already exists. Skipping download.\n",
      "File /Users/kyleandrecastro/Library/CloudStorage/OneDrive-ust.edu.ph/videos/tt1136683.mp4 already exists. Skipping download.\n",
      "File /Users/kyleandrecastro/Library/CloudStorage/OneDrive-ust.edu.ph/videos/tt0211181.mp4 already exists. Skipping download.\n",
      "File /Users/kyleandrecastro/Library/CloudStorage/OneDrive-ust.edu.ph/videos/tt0360323.mp4 already exists. Skipping download.\n",
      "File /Users/kyleandrecastro/Library/CloudStorage/OneDrive-ust.edu.ph/videos/tt4172430.mp4 already exists. Skipping download.\n",
      "File /Users/kyleandrecastro/Library/CloudStorage/OneDrive-ust.edu.ph/videos/tt2059171.mp4 already exists. Skipping download.\n",
      "File /Users/kyleandrecastro/Library/CloudStorage/OneDrive-ust.edu.ph/videos/tt0974661.mp4 already exists. Skipping download.\n",
      "File /Users/kyleandrecastro/Library/CloudStorage/OneDrive-ust.edu.ph/videos/tt0841044.mp4 already exists. Skipping download.\n",
      "File /Users/kyleandrecastro/Library/CloudStorage/OneDrive-ust.edu.ph/videos/tt0086837.mp4 already exists. Skipping download.\n",
      "File /Users/kyleandrecastro/Library/CloudStorage/OneDrive-ust.edu.ph/videos/tt1132130.mp4 already exists. Skipping download.\n",
      "File /Users/kyleandrecastro/Library/CloudStorage/OneDrive-ust.edu.ph/videos/tt1232829.mp4 already exists. Skipping download.\n",
      "File /Users/kyleandrecastro/Library/CloudStorage/OneDrive-ust.edu.ph/videos/tt0988595.mp4 already exists. Skipping download.\n",
      "File /Users/kyleandrecastro/Library/CloudStorage/OneDrive-ust.edu.ph/videos/tt0463854.mp4 already exists. Skipping download.\n",
      "File /Users/kyleandrecastro/Library/CloudStorage/OneDrive-ust.edu.ph/videos/tt0381849.mp4 already exists. Skipping download.\n",
      "File /Users/kyleandrecastro/Library/CloudStorage/OneDrive-ust.edu.ph/videos/tt0417395.mp4 already exists. Skipping download.\n",
      "File /Users/kyleandrecastro/Library/CloudStorage/OneDrive-ust.edu.ph/videos/tt0118541.mp4 already exists. Skipping download.\n",
      "File /Users/kyleandrecastro/Library/CloudStorage/OneDrive-ust.edu.ph/videos/tt0411061.mp4 already exists. Skipping download.\n",
      "File /Users/kyleandrecastro/Library/CloudStorage/OneDrive-ust.edu.ph/videos/tt6359956.mp4 already exists. Skipping download.\n",
      "File /Users/kyleandrecastro/Library/CloudStorage/OneDrive-ust.edu.ph/videos/tt1067106.mp4 already exists. Skipping download.\n",
      "File /Users/kyleandrecastro/Library/CloudStorage/OneDrive-ust.edu.ph/videos/tt4731136.mp4 already exists. Skipping download.\n",
      "File /Users/kyleandrecastro/Library/CloudStorage/OneDrive-ust.edu.ph/videos/tt0365125.mp4 already exists. Skipping download.\n",
      "File /Users/kyleandrecastro/Library/CloudStorage/OneDrive-ust.edu.ph/videos/tt2044729.mp4 already exists. Skipping download.\n",
      "File /Users/kyleandrecastro/Library/CloudStorage/OneDrive-ust.edu.ph/videos/tt1606378.mp4 already exists. Skipping download.\n",
      "File /Users/kyleandrecastro/Library/CloudStorage/OneDrive-ust.edu.ph/videos/tt0379306.mp4 already exists. Skipping download.\n",
      "File /Users/kyleandrecastro/Library/CloudStorage/OneDrive-ust.edu.ph/videos/tt0295289.mp4 already exists. Skipping download.\n",
      "File /Users/kyleandrecastro/Library/CloudStorage/OneDrive-ust.edu.ph/videos/tt2243537.mp4 already exists. Skipping download.\n",
      "File /Users/kyleandrecastro/Library/CloudStorage/OneDrive-ust.edu.ph/videos/tt0829459.mp4 already exists. Skipping download.\n",
      "File /Users/kyleandrecastro/Library/CloudStorage/OneDrive-ust.edu.ph/videos/tt0427543.mp4 already exists. Skipping download.\n",
      "File /Users/kyleandrecastro/Library/CloudStorage/OneDrive-ust.edu.ph/videos/tt2557490.mp4 already exists. Skipping download.\n",
      "File /Users/kyleandrecastro/Library/CloudStorage/OneDrive-ust.edu.ph/videos/tt0105483.mp4 already exists. Skipping download.\n",
      "File /Users/kyleandrecastro/Library/CloudStorage/OneDrive-ust.edu.ph/videos/tt2926810.mp4 already exists. Skipping download.\n",
      "File /Users/kyleandrecastro/Library/CloudStorage/OneDrive-ust.edu.ph/videos/tt10740584.mp4 already exists. Skipping download.\n",
      "File /Users/kyleandrecastro/Library/CloudStorage/OneDrive-ust.edu.ph/videos/tt0257360.mp4 already exists. Skipping download.\n",
      "File /Users/kyleandrecastro/Library/CloudStorage/OneDrive-ust.edu.ph/videos/tt0109035.mp4 already exists. Skipping download.\n",
      "File /Users/kyleandrecastro/Library/CloudStorage/OneDrive-ust.edu.ph/videos/tt0112281.mp4 already exists. Skipping download.\n",
      "File /Users/kyleandrecastro/Library/CloudStorage/OneDrive-ust.edu.ph/videos/tt1185836.mp4 already exists. Skipping download.\n",
      "File /Users/kyleandrecastro/Library/CloudStorage/OneDrive-ust.edu.ph/videos/tt0268126.mp4 already exists. Skipping download.\n",
      "File /Users/kyleandrecastro/Library/CloudStorage/OneDrive-ust.edu.ph/videos/tt0118556.mp4 already exists. Skipping download.\n",
      "File /Users/kyleandrecastro/Library/CloudStorage/OneDrive-ust.edu.ph/videos/tt1074929.mp4 already exists. Skipping download.\n",
      "File /Users/kyleandrecastro/Library/CloudStorage/OneDrive-ust.edu.ph/videos/tt1223236.mp4 already exists. Skipping download.\n",
      "File /Users/kyleandrecastro/Library/CloudStorage/OneDrive-ust.edu.ph/videos/tt1224366.mp4 already exists. Skipping download.\n",
      "File /Users/kyleandrecastro/Library/CloudStorage/OneDrive-ust.edu.ph/videos/tt1780762.mp4 already exists. Skipping download.\n",
      "File /Users/kyleandrecastro/Library/CloudStorage/OneDrive-ust.edu.ph/videos/tt2557276.mp4 already exists. Skipping download.\n",
      "File /Users/kyleandrecastro/Library/CloudStorage/OneDrive-ust.edu.ph/videos/tt0313911.mp4 already exists. Skipping download.\n",
      "File /Users/kyleandrecastro/Library/CloudStorage/OneDrive-ust.edu.ph/videos/tt0099005.mp4 already exists. Skipping download.\n",
      "File /Users/kyleandrecastro/Library/CloudStorage/OneDrive-ust.edu.ph/videos/tt0106233.mp4 already exists. Skipping download.\n",
      "File /Users/kyleandrecastro/Library/CloudStorage/OneDrive-ust.edu.ph/videos/tt0375173.mp4 already exists. Skipping download.\n",
      "File /Users/kyleandrecastro/Library/CloudStorage/OneDrive-ust.edu.ph/videos/tt1014759.mp4 already exists. Skipping download.\n",
      "File /Users/kyleandrecastro/Library/CloudStorage/OneDrive-ust.edu.ph/videos/tt0996979.mp4 already exists. Skipping download.\n",
      "File /Users/kyleandrecastro/Library/CloudStorage/OneDrive-ust.edu.ph/videos/tt2316204.mp4 already exists. Skipping download.\n",
      "File /Users/kyleandrecastro/Library/CloudStorage/OneDrive-ust.edu.ph/videos/tt0881891.mp4 already exists. Skipping download.\n",
      "File /Users/kyleandrecastro/Library/CloudStorage/OneDrive-ust.edu.ph/videos/tt0096787.mp4 already exists. Skipping download.\n",
      "File /Users/kyleandrecastro/Library/CloudStorage/OneDrive-ust.edu.ph/videos/tt1666185.mp4 already exists. Skipping download.\n",
      "File /Users/kyleandrecastro/Library/CloudStorage/OneDrive-ust.edu.ph/videos/tt0821810.mp4 already exists. Skipping download.\n",
      "File /Users/kyleandrecastro/Library/CloudStorage/OneDrive-ust.edu.ph/videos/tt4663548.mp4 already exists. Skipping download.\n",
      "File /Users/kyleandrecastro/Library/CloudStorage/OneDrive-ust.edu.ph/videos/tt0299458.mp4 already exists. Skipping download.\n",
      "File /Users/kyleandrecastro/Library/CloudStorage/OneDrive-ust.edu.ph/videos/tt0369226.mp4 already exists. Skipping download.\n",
      "File /Users/kyleandrecastro/Library/CloudStorage/OneDrive-ust.edu.ph/videos/tt0454776.mp4 already exists. Skipping download.\n",
      "File /Users/kyleandrecastro/Library/CloudStorage/OneDrive-ust.edu.ph/videos/tt0092546.mp4 already exists. Skipping download.\n",
      "File /Users/kyleandrecastro/Library/CloudStorage/OneDrive-ust.edu.ph/videos/tt1129445.mp4 already exists. Skipping download.\n",
      "File /Users/kyleandrecastro/Library/CloudStorage/OneDrive-ust.edu.ph/videos/tt1961175.mp4 already exists. Skipping download.\n",
      "File /Users/kyleandrecastro/Library/CloudStorage/OneDrive-ust.edu.ph/videos/tt0169547.mp4 already exists. Skipping download.\n",
      "File /Users/kyleandrecastro/Library/CloudStorage/OneDrive-ust.edu.ph/videos/tt0415489.mp4 already exists. Skipping download.\n",
      "File /Users/kyleandrecastro/Library/CloudStorage/OneDrive-ust.edu.ph/videos/tt0765429.mp4 already exists. Skipping download.\n",
      "File /Users/kyleandrecastro/Library/CloudStorage/OneDrive-ust.edu.ph/videos/tt0270197.mp4 already exists. Skipping download.\n",
      "File /Users/kyleandrecastro/Library/CloudStorage/OneDrive-ust.edu.ph/videos/tt0120586.mp4 already exists. Skipping download.\n",
      "File /Users/kyleandrecastro/Library/CloudStorage/OneDrive-ust.edu.ph/videos/tt0252866.mp4 already exists. Skipping download.\n",
      "File /Users/kyleandrecastro/Library/CloudStorage/OneDrive-ust.edu.ph/videos/tt0283877.mp4 already exists. Skipping download.\n",
      "File /Users/kyleandrecastro/Library/CloudStorage/OneDrive-ust.edu.ph/videos/tt1605630.mp4 already exists. Skipping download.\n",
      "File /Users/kyleandrecastro/Library/CloudStorage/OneDrive-ust.edu.ph/videos/tt0486259.mp4 already exists. Skipping download.\n",
      "File /Users/kyleandrecastro/Library/CloudStorage/OneDrive-ust.edu.ph/videos/tt3316948.mp4 already exists. Skipping download.\n",
      "File /Users/kyleandrecastro/Library/CloudStorage/OneDrive-ust.edu.ph/videos/tt1152397.mp4 already exists. Skipping download.\n",
      "File /Users/kyleandrecastro/Library/CloudStorage/OneDrive-ust.edu.ph/videos/tt1190617.mp4 already exists. Skipping download.\n",
      "File /Users/kyleandrecastro/Library/CloudStorage/OneDrive-ust.edu.ph/videos/tt0802948.mp4 already exists. Skipping download.\n",
      "File /Users/kyleandrecastro/Library/CloudStorage/OneDrive-ust.edu.ph/videos/tt0118617.mp4 already exists. Skipping download.\n",
      "File /Users/kyleandrecastro/Library/CloudStorage/OneDrive-ust.edu.ph/videos/tt0092563.mp4 already exists. Skipping download.\n",
      "File /Users/kyleandrecastro/Library/CloudStorage/OneDrive-ust.edu.ph/videos/tt0305224.mp4 already exists. Skipping download.\n",
      "File /Users/kyleandrecastro/Library/CloudStorage/OneDrive-ust.edu.ph/videos/tt0112373.mp4 already exists. Skipping download.\n",
      "File /Users/kyleandrecastro/Library/CloudStorage/OneDrive-ust.edu.ph/videos/tt1823664.mp4 already exists. Skipping download.\n",
      "File /Users/kyleandrecastro/Library/CloudStorage/OneDrive-ust.edu.ph/videos/tt0094663.mp4 already exists. Skipping download.\n",
      "File /Users/kyleandrecastro/Library/CloudStorage/OneDrive-ust.edu.ph/videos/tt2099556.mp4 already exists. Skipping download.\n",
      "File /Users/kyleandrecastro/Library/CloudStorage/OneDrive-ust.edu.ph/videos/tt7740510.mp4 already exists. Skipping download.\n",
      "File /Users/kyleandrecastro/Library/CloudStorage/OneDrive-ust.edu.ph/videos/tt0078788.mp4 already exists. Skipping download.\n",
      "File /Users/kyleandrecastro/Library/CloudStorage/OneDrive-ust.edu.ph/videos/tt0472043.mp4 already exists. Skipping download.\n",
      "File /Users/kyleandrecastro/Library/CloudStorage/OneDrive-ust.edu.ph/videos/tt0800308.mp4 already exists. Skipping download.\n",
      "File /Users/kyleandrecastro/Library/CloudStorage/OneDrive-ust.edu.ph/videos/tt5579982.mp4 already exists. Skipping download.\n",
      "File /Users/kyleandrecastro/Library/CloudStorage/OneDrive-ust.edu.ph/videos/tt0273435.mp4 already exists. Skipping download.\n",
      "File /Users/kyleandrecastro/Library/CloudStorage/OneDrive-ust.edu.ph/videos/tt0422774.mp4 already exists. Skipping download.\n",
      "File /Users/kyleandrecastro/Library/CloudStorage/OneDrive-ust.edu.ph/videos/tt0368578.mp4 already exists. Skipping download.\n",
      "File /Users/kyleandrecastro/Library/CloudStorage/OneDrive-ust.edu.ph/videos/tt0845955.mp4 already exists. Skipping download.\n",
      "File /Users/kyleandrecastro/Library/CloudStorage/OneDrive-ust.edu.ph/videos/tt0120591.mp4 already exists. Skipping download.\n",
      "File /Users/kyleandrecastro/Library/CloudStorage/OneDrive-ust.edu.ph/videos/tt2870612.mp4 already exists. Skipping download.\n",
      "File /Users/kyleandrecastro/Library/CloudStorage/OneDrive-ust.edu.ph/videos/tt6205872.mp4 already exists. Skipping download.\n",
      "File /Users/kyleandrecastro/Library/CloudStorage/OneDrive-ust.edu.ph/videos/tt0112401.mp4 already exists. Skipping download.\n",
      "File /Users/kyleandrecastro/Library/CloudStorage/OneDrive-ust.edu.ph/videos/tt2406566.mp4 already exists. Skipping download.\n",
      "File /Users/kyleandrecastro/Library/CloudStorage/OneDrive-ust.edu.ph/videos/tt1724962.mp4 already exists. Skipping download.\n",
      "File /Users/kyleandrecastro/Library/CloudStorage/OneDrive-ust.edu.ph/videos/tt0758730.mp4 already exists. Skipping download.\n",
      "File /Users/kyleandrecastro/Library/CloudStorage/OneDrive-ust.edu.ph/videos/tt0211933.mp4 already exists. Skipping download.\n",
      "File /Users/kyleandrecastro/Library/CloudStorage/OneDrive-ust.edu.ph/videos/tt1176740.mp4 already exists. Skipping download.\n",
      "File /Users/kyleandrecastro/Library/CloudStorage/OneDrive-ust.edu.ph/videos/tt0118663.mp4 already exists. Skipping download.\n",
      "File /Users/kyleandrecastro/Library/CloudStorage/OneDrive-ust.edu.ph/videos/tt0871426.mp4 already exists. Skipping download.\n",
      "File /Users/kyleandrecastro/Library/CloudStorage/OneDrive-ust.edu.ph/videos/tt1920849.mp4 already exists. Skipping download.\n",
      "File /Users/kyleandrecastro/Library/CloudStorage/OneDrive-ust.edu.ph/videos/tt0101393.mp4 already exists. Skipping download.\n",
      "File /Users/kyleandrecastro/Library/CloudStorage/OneDrive-ust.edu.ph/videos/tt1502397.mp4 already exists. Skipping download.\n",
      "File /Users/kyleandrecastro/Library/CloudStorage/OneDrive-ust.edu.ph/videos/tt0172156.mp4 already exists. Skipping download.\n",
      "File /Users/kyleandrecastro/Library/CloudStorage/OneDrive-ust.edu.ph/videos/tt3349578.mp4 already exists. Skipping download.\n",
      "File /Users/kyleandrecastro/Library/CloudStorage/OneDrive-ust.edu.ph/videos/tt2274570.mp4 already exists. Skipping download.\n",
      "File /Users/kyleandrecastro/Library/CloudStorage/OneDrive-ust.edu.ph/videos/tt4651520.mp4 already exists. Skipping download.\n",
      "File /Users/kyleandrecastro/Library/CloudStorage/OneDrive-ust.edu.ph/videos/tt0408524.mp4 already exists. Skipping download.\n",
      "File /Users/kyleandrecastro/Library/CloudStorage/OneDrive-ust.edu.ph/videos/tt1798603.mp4 already exists. Skipping download.\n",
      "File /Users/kyleandrecastro/Library/CloudStorage/OneDrive-ust.edu.ph/videos/tt7050082.mp4 already exists. Skipping download.\n",
      "File /Users/kyleandrecastro/Library/CloudStorage/OneDrive-ust.edu.ph/videos/tt2170299.mp4 already exists. Skipping download.\n",
      "File /Users/kyleandrecastro/Library/CloudStorage/OneDrive-ust.edu.ph/videos/tt2261287.mp4 already exists. Skipping download.\n",
      "File /Users/kyleandrecastro/Library/CloudStorage/OneDrive-ust.edu.ph/videos/tt0424823.mp4 already exists. Skipping download.\n",
      "File /Users/kyleandrecastro/Library/CloudStorage/OneDrive-ust.edu.ph/videos/tt0416496.mp4 already exists. Skipping download.\n",
      "File /Users/kyleandrecastro/Library/CloudStorage/OneDrive-ust.edu.ph/videos/tt0976222.mp4 already exists. Skipping download.\n",
      "File /Users/kyleandrecastro/Library/CloudStorage/OneDrive-ust.edu.ph/videos/tt0083619.mp4 already exists. Skipping download.\n",
      "File /Users/kyleandrecastro/Library/CloudStorage/OneDrive-ust.edu.ph/videos/tt0337579.mp4 already exists. Skipping download.\n",
      "File /Users/kyleandrecastro/Library/CloudStorage/OneDrive-ust.edu.ph/videos/tt1912996.mp4 already exists. Skipping download.\n",
      "File /Users/kyleandrecastro/Library/CloudStorage/OneDrive-ust.edu.ph/videos/tt4448290.mp4 already exists. Skipping download.\n",
      "File /Users/kyleandrecastro/Library/CloudStorage/OneDrive-ust.edu.ph/videos/tt0414853.mp4 already exists. Skipping download.\n",
      "File /Users/kyleandrecastro/Library/CloudStorage/OneDrive-ust.edu.ph/videos/tt0430912.mp4 already exists. Skipping download.\n",
      "File /Users/kyleandrecastro/Library/CloudStorage/OneDrive-ust.edu.ph/videos/tt0118688.mp4 already exists. Skipping download.\n",
      "[youtube] Extracting URL: https://www.youtube.com/watch?v=3NWlsXlHT9Q\n",
      "[youtube] 3NWlsXlHT9Q: Downloading webpage\n",
      "[youtube] Sleeping 1 seconds ...\n",
      "[youtube] 3NWlsXlHT9Q: Downloading ios player API JSON\n"
     ]
    },
    {
     "name": "stderr",
     "output_type": "stream",
     "text": [
      "ERROR: [youtube] 3NWlsXlHT9Q: Video unavailable\n"
     ]
    },
    {
     "name": "stdout",
     "output_type": "stream",
     "text": [
      "Error downloading https://www.youtube.com/watch?v=3NWlsXlHT9Q with IMDB ID tt0200469: ERROR: [youtube] 3NWlsXlHT9Q: Video unavailable\n",
      "File /Users/kyleandrecastro/Library/CloudStorage/OneDrive-ust.edu.ph/videos/tt2210463.mp4 already exists. Skipping download.\n",
      "File /Users/kyleandrecastro/Library/CloudStorage/OneDrive-ust.edu.ph/videos/tt1469304.mp4 already exists. Skipping download.\n",
      "File /Users/kyleandrecastro/Library/CloudStorage/OneDrive-ust.edu.ph/videos/tt0799934.mp4 already exists. Skipping download.\n",
      "File /Users/kyleandrecastro/Library/CloudStorage/OneDrive-ust.edu.ph/videos/tt5512872.mp4 already exists. Skipping download.\n",
      "File /Users/kyleandrecastro/Library/CloudStorage/OneDrive-ust.edu.ph/videos/tt0094715.mp4 already exists. Skipping download.\n",
      "File /Users/kyleandrecastro/Library/CloudStorage/OneDrive-ust.edu.ph/videos/tt2458776.mp4 already exists. Skipping download.\n",
      "File /Users/kyleandrecastro/Library/CloudStorage/OneDrive-ust.edu.ph/videos/tt0101414.mp4 already exists. Skipping download.\n",
      "File /Users/kyleandrecastro/Library/CloudStorage/OneDrive-ust.edu.ph/videos/tt0388500.mp4 already exists. Skipping download.\n",
      "File /Users/kyleandrecastro/Library/CloudStorage/OneDrive-ust.edu.ph/videos/tt0115641.mp4 already exists. Skipping download.\n",
      "File /Users/kyleandrecastro/Library/CloudStorage/OneDrive-ust.edu.ph/videos/tt0960731.mp4 already exists. Skipping download.\n",
      "File /Users/kyleandrecastro/Library/CloudStorage/OneDrive-ust.edu.ph/videos/tt0389790.mp4 already exists. Skipping download.\n",
      "File /Users/kyleandrecastro/Library/CloudStorage/OneDrive-ust.edu.ph/videos/tt0387059.mp4 already exists. Skipping download.\n",
      "File /Users/kyleandrecastro/Library/CloudStorage/OneDrive-ust.edu.ph/videos/tt1178640.mp4 already exists. Skipping download.\n",
      "File /Users/kyleandrecastro/Library/CloudStorage/OneDrive-ust.edu.ph/videos/tt0247196.mp4 already exists. Skipping download.\n",
      "File /Users/kyleandrecastro/Library/CloudStorage/OneDrive-ust.edu.ph/videos/tt0870195.mp4 already exists. Skipping download.\n",
      "File /Users/kyleandrecastro/Library/CloudStorage/OneDrive-ust.edu.ph/videos/tt0437857.mp4 already exists. Skipping download.\n",
      "File /Users/kyleandrecastro/Library/CloudStorage/OneDrive-ust.edu.ph/videos/tt0340012.mp4 already exists. Skipping download.\n",
      "File /Users/kyleandrecastro/Library/CloudStorage/OneDrive-ust.edu.ph/videos/tt0120603.mp4 already exists. Skipping download.\n",
      "File /Users/kyleandrecastro/Library/CloudStorage/OneDrive-ust.edu.ph/videos/tt0276816.mp4 already exists. Skipping download.\n",
      "File /Users/kyleandrecastro/Library/CloudStorage/OneDrive-ust.edu.ph/videos/tt1222698.mp4 already exists. Skipping download.\n",
      "File /Users/kyleandrecastro/Library/CloudStorage/OneDrive-ust.edu.ph/videos/tt0118698.mp4 already exists. Skipping download.\n",
      "File /Users/kyleandrecastro/Library/CloudStorage/OneDrive-ust.edu.ph/videos/tt0442933.mp4 already exists. Skipping download.\n",
      "File /Users/kyleandrecastro/Library/CloudStorage/OneDrive-ust.edu.ph/videos/tt0218839.mp4 already exists. Skipping download.\n",
      "File /Users/kyleandrecastro/Library/CloudStorage/OneDrive-ust.edu.ph/videos/tt0133412.mp4 already exists. Skipping download.\n",
      "File /Users/kyleandrecastro/Library/CloudStorage/OneDrive-ust.edu.ph/videos/tt0118702.mp4 already exists. Skipping download.\n",
      "File /Users/kyleandrecastro/Library/CloudStorage/OneDrive-ust.edu.ph/videos/tt2499414.mp4 already exists. Skipping download.\n",
      "File /Users/kyleandrecastro/Library/CloudStorage/OneDrive-ust.edu.ph/videos/tt1014775.mp4 already exists. Skipping download.\n",
      "File /Users/kyleandrecastro/Library/CloudStorage/OneDrive-ust.edu.ph/videos/tt0109254.mp4 already exists. Skipping download.\n",
      "File /Users/kyleandrecastro/Library/CloudStorage/OneDrive-ust.edu.ph/videos/tt0374536.mp4 already exists. Skipping download.\n",
      "File /Users/kyleandrecastro/Library/CloudStorage/OneDrive-ust.edu.ph/videos/tt0112495.mp4 already exists. Skipping download.\n",
      "File /Users/kyleandrecastro/Library/CloudStorage/OneDrive-ust.edu.ph/videos/tt2433040.mp4 already exists. Skipping download.\n",
      "File /Users/kyleandrecastro/Library/CloudStorage/OneDrive-ust.edu.ph/videos/tt0094737.mp4 already exists. Skipping download.\n",
      "File /Users/kyleandrecastro/Library/CloudStorage/OneDrive-ust.edu.ph/videos/tt0142342.mp4 already exists. Skipping download.\n",
      "File /Users/kyleandrecastro/Library/CloudStorage/OneDrive-ust.edu.ph/videos/tt0319061.mp4 already exists. Skipping download.\n",
      "File /Users/kyleandrecastro/Library/CloudStorage/OneDrive-ust.edu.ph/videos/tt1430615.mp4 already exists. Skipping download.\n",
      "File /Users/kyleandrecastro/Library/CloudStorage/OneDrive-ust.edu.ph/videos/tt0115678.mp4 already exists. Skipping download.\n",
      "File /Users/kyleandrecastro/Library/CloudStorage/OneDrive-ust.edu.ph/videos/tt0488085.mp4 already exists. Skipping download.\n",
      "File /Users/kyleandrecastro/Library/CloudStorage/OneDrive-ust.edu.ph/videos/tt3824648.mp4 already exists. Skipping download.\n",
      "File /Users/kyleandrecastro/Library/CloudStorage/OneDrive-ust.edu.ph/videos/tt0246464.mp4 already exists. Skipping download.\n",
      "File /Users/kyleandrecastro/Library/CloudStorage/OneDrive-ust.edu.ph/videos/tt0249462.mp4 already exists. Skipping download.\n",
      "File /Users/kyleandrecastro/Library/CloudStorage/OneDrive-ust.edu.ph/videos/tt0115683.mp4 already exists. Skipping download.\n",
      "File /Users/kyleandrecastro/Library/CloudStorage/OneDrive-ust.edu.ph/videos/tt1174954.mp4 already exists. Skipping download.\n",
      "File /Users/kyleandrecastro/Library/CloudStorage/OneDrive-ust.edu.ph/videos/tt0337876.mp4 already exists. Skipping download.\n",
      "File /Users/kyleandrecastro/Library/CloudStorage/OneDrive-ust.edu.ph/videos/tt0188453.mp4 already exists. Skipping download.\n",
      "File /Users/kyleandrecastro/Library/CloudStorage/OneDrive-ust.edu.ph/videos/tt0109279.mp4 already exists. Skipping download.\n",
      "File /Users/kyleandrecastro/Library/CloudStorage/OneDrive-ust.edu.ph/videos/tt0120610.mp4 already exists. Skipping download.\n",
      "File /Users/kyleandrecastro/Library/CloudStorage/OneDrive-ust.edu.ph/videos/tt0265086.mp4 already exists. Skipping download.\n",
      "File /Users/kyleandrecastro/Library/CloudStorage/OneDrive-ust.edu.ph/videos/tt0455915.mp4 already exists. Skipping download.\n",
      "File /Users/kyleandrecastro/Library/CloudStorage/OneDrive-ust.edu.ph/videos/tt0265087.mp4 already exists. Skipping download.\n",
      "File /Users/kyleandrecastro/Library/CloudStorage/OneDrive-ust.edu.ph/videos/tt1425922.mp4 already exists. Skipping download.\n",
      "File /Users/kyleandrecastro/Library/CloudStorage/OneDrive-ust.edu.ph/videos/tt0462200.mp4 already exists. Skipping download.\n",
      "File /Users/kyleandrecastro/Library/CloudStorage/OneDrive-ust.edu.ph/videos/tt0816436.mp4 already exists. Skipping download.\n",
      "File /Users/kyleandrecastro/Library/CloudStorage/OneDrive-ust.edu.ph/videos/tt0359013.mp4 already exists. Skipping download.\n",
      "File /Users/kyleandrecastro/Library/CloudStorage/OneDrive-ust.edu.ph/videos/tt0092666.mp4 already exists. Skipping download.\n",
      "File /Users/kyleandrecastro/Library/CloudStorage/OneDrive-ust.edu.ph/videos/tt0337881.mp4 already exists. Skipping download.\n",
      "File /Users/kyleandrecastro/Library/CloudStorage/OneDrive-ust.edu.ph/videos/tt0861689.mp4 already exists. Skipping download.\n",
      "File /Users/kyleandrecastro/Library/CloudStorage/OneDrive-ust.edu.ph/videos/tt2531344.mp4 already exists. Skipping download.\n",
      "File /Users/kyleandrecastro/Library/CloudStorage/OneDrive-ust.edu.ph/videos/tt0887719.mp4 already exists. Skipping download.\n",
      "File /Users/kyleandrecastro/Library/CloudStorage/OneDrive-ust.edu.ph/videos/tt0397044.mp4 already exists. Skipping download.\n",
      "File /Users/kyleandrecastro/Library/CloudStorage/OneDrive-ust.edu.ph/videos/tt1477675.mp4 already exists. Skipping download.\n",
      "File /Users/kyleandrecastro/Library/CloudStorage/OneDrive-ust.edu.ph/videos/tt0290145.mp4 already exists. Skipping download.\n",
      "File /Users/kyleandrecastro/Library/CloudStorage/OneDrive-ust.edu.ph/videos/tt0300532.mp4 already exists. Skipping download.\n",
      "File /Users/kyleandrecastro/Library/CloudStorage/OneDrive-ust.edu.ph/videos/tt0780486.mp4 already exists. Skipping download.\n",
      "File /Users/kyleandrecastro/Library/CloudStorage/OneDrive-ust.edu.ph/videos/tt0181316.mp4 already exists. Skipping download.\n",
      "File /Users/kyleandrecastro/Library/CloudStorage/OneDrive-ust.edu.ph/videos/tt0118747.mp4 already exists. Skipping download.\n",
      "File /Users/kyleandrecastro/Library/CloudStorage/OneDrive-ust.edu.ph/videos/tt0493402.mp4 already exists. Skipping download.\n",
      "File /Users/kyleandrecastro/Library/CloudStorage/OneDrive-ust.edu.ph/videos/tt0375104.mp4 already exists. Skipping download.\n",
      "File /Users/kyleandrecastro/Library/CloudStorage/OneDrive-ust.edu.ph/videos/tt5883570.mp4 already exists. Skipping download.\n",
      "File /Users/kyleandrecastro/Library/CloudStorage/OneDrive-ust.edu.ph/videos/tt0758774.mp4 already exists. Skipping download.\n",
      "File /Users/kyleandrecastro/Library/CloudStorage/OneDrive-ust.edu.ph/videos/tt1081942.mp4 already exists. Skipping download.\n",
      "[youtube] Extracting URL: https://www.youtube.com/watch?v=qtoAsaDXiJg\n",
      "[youtube] qtoAsaDXiJg: Downloading webpage\n",
      "[youtube] Sleeping 1 seconds ...\n",
      "[youtube] qtoAsaDXiJg: Downloading ios player API JSON\n"
     ]
    },
    {
     "name": "stderr",
     "output_type": "stream",
     "text": [
      "ERROR: [youtube] qtoAsaDXiJg: Video unavailable\n"
     ]
    },
    {
     "name": "stdout",
     "output_type": "stream",
     "text": [
      "Error downloading https://www.youtube.com/watch?v=qtoAsaDXiJg with IMDB ID tt4503510: ERROR: [youtube] qtoAsaDXiJg: Video unavailable\n",
      "File /Users/kyleandrecastro/Library/CloudStorage/OneDrive-ust.edu.ph/videos/tt0115725.mp4 already exists. Skipping download.\n",
      "File /Users/kyleandrecastro/Library/CloudStorage/OneDrive-ust.edu.ph/videos/tt0397892.mp4 already exists. Skipping download.\n",
      "File /Users/kyleandrecastro/Library/CloudStorage/OneDrive-ust.edu.ph/videos/tt4429194.mp4 already exists. Skipping download.\n",
      "File /Users/kyleandrecastro/Library/CloudStorage/OneDrive-ust.edu.ph/videos/tt0443453.mp4 already exists. Skipping download.\n",
      "File /Users/kyleandrecastro/Library/CloudStorage/OneDrive-ust.edu.ph/videos/tt0452592.mp4 already exists. Skipping download.\n",
      "File /Users/kyleandrecastro/Library/CloudStorage/OneDrive-ust.edu.ph/videos/tt0026129.mp4 already exists. Skipping download.\n",
      "File /Users/kyleandrecastro/Library/CloudStorage/OneDrive-ust.edu.ph/videos/tt0096969.mp4 already exists. Skipping download.\n",
      "File /Users/kyleandrecastro/Library/CloudStorage/OneDrive-ust.edu.ph/videos/tt0106466.mp4 already exists. Skipping download.\n",
      "File /Users/kyleandrecastro/Library/CloudStorage/OneDrive-ust.edu.ph/videos/tt0914797.mp4 already exists. Skipping download.\n",
      "File /Users/kyleandrecastro/Library/CloudStorage/OneDrive-ust.edu.ph/videos/tt1078188.mp4 already exists. Skipping download.\n",
      "File /Users/kyleandrecastro/Library/CloudStorage/OneDrive-ust.edu.ph/videos/tt0204175.mp4 already exists. Skipping download.\n",
      "File /Users/kyleandrecastro/Library/CloudStorage/OneDrive-ust.edu.ph/videos/tt0112571.mp4 already exists. Skipping download.\n",
      "File /Users/kyleandrecastro/Library/CloudStorage/OneDrive-ust.edu.ph/videos/tt4638148.mp4 already exists. Skipping download.\n",
      "File /Users/kyleandrecastro/Library/CloudStorage/OneDrive-ust.edu.ph/videos/tt1217209.mp4 already exists. Skipping download.\n",
      "[youtube] Extracting URL: https://www.youtube.com/watch?v=viAFsyIzlGg\n",
      "[youtube] viAFsyIzlGg: Downloading webpage\n",
      "[youtube] Sleeping 1 seconds ...\n",
      "[youtube] viAFsyIzlGg: Downloading ios player API JSON\n"
     ]
    },
    {
     "name": "stderr",
     "output_type": "stream",
     "text": [
      "ERROR: [youtube] viAFsyIzlGg: Video unavailable. This video is not available\n"
     ]
    },
    {
     "name": "stdout",
     "output_type": "stream",
     "text": [
      "Error downloading https://www.youtube.com/watch?v=viAFsyIzlGg with IMDB ID tt0401997: ERROR: [youtube] viAFsyIzlGg: Video unavailable. This video is not available\n",
      "File /Users/kyleandrecastro/Library/CloudStorage/OneDrive-ust.edu.ph/videos/tt0120619.mp4 already exists. Skipping download.\n",
      "File /Users/kyleandrecastro/Library/CloudStorage/OneDrive-ust.edu.ph/videos/tt2005164.mp4 already exists. Skipping download.\n",
      "File /Users/kyleandrecastro/Library/CloudStorage/OneDrive-ust.edu.ph/videos/tt0393109.mp4 already exists. Skipping download.\n",
      "File /Users/kyleandrecastro/Library/CloudStorage/OneDrive-ust.edu.ph/videos/tt0361411.mp4 already exists. Skipping download.\n",
      "File /Users/kyleandrecastro/Library/CloudStorage/OneDrive-ust.edu.ph/videos/tt0901476.mp4 already exists. Skipping download.\n",
      "File /Users/kyleandrecastro/Library/CloudStorage/OneDrive-ust.edu.ph/videos/tt0412536.mp4 already exists. Skipping download.\n",
      "File /Users/kyleandrecastro/Library/CloudStorage/OneDrive-ust.edu.ph/videos/tt1478338.mp4 already exists. Skipping download.\n",
      "File /Users/kyleandrecastro/Library/CloudStorage/OneDrive-ust.edu.ph/videos/tt0317198.mp4 already exists. Skipping download.\n",
      "File /Users/kyleandrecastro/Library/CloudStorage/OneDrive-ust.edu.ph/videos/tt0810784.mp4 already exists. Skipping download.\n",
      "File /Users/kyleandrecastro/Library/CloudStorage/OneDrive-ust.edu.ph/videos/tt0204946.mp4 already exists. Skipping download.\n",
      "[youtube] Extracting URL: https://www.youtube.com/watch?v=pvrv8WVqGD8\n",
      "[youtube] pvrv8WVqGD8: Downloading webpage\n",
      "[youtube] Sleeping 1 seconds ...\n",
      "[youtube] pvrv8WVqGD8: Downloading ios player API JSON\n"
     ]
    },
    {
     "name": "stderr",
     "output_type": "stream",
     "text": [
      "ERROR: [youtube] pvrv8WVqGD8: Video unavailable\n"
     ]
    },
    {
     "name": "stdout",
     "output_type": "stream",
     "text": [
      "Error downloading https://www.youtube.com/watch?v=pvrv8WVqGD8 with IMDB ID tt1349482: ERROR: [youtube] pvrv8WVqGD8: Video unavailable\n",
      "File /Users/kyleandrecastro/Library/CloudStorage/OneDrive-ust.edu.ph/videos/tt0305669.mp4 already exists. Skipping download.\n",
      "File /Users/kyleandrecastro/Library/CloudStorage/OneDrive-ust.edu.ph/videos/tt0115759.mp4 already exists. Skipping download.\n",
      "File /Users/kyleandrecastro/Library/CloudStorage/OneDrive-ust.edu.ph/videos/tt0772157.mp4 already exists. Skipping download.\n",
      "File /Users/kyleandrecastro/Library/CloudStorage/OneDrive-ust.edu.ph/videos/tt0328880.mp4 already exists. Skipping download.\n",
      "File /Users/kyleandrecastro/Library/CloudStorage/OneDrive-ust.edu.ph/videos/tt0281686.mp4 already exists. Skipping download.\n",
      "File /Users/kyleandrecastro/Library/CloudStorage/OneDrive-ust.edu.ph/videos/tt1753549.mp4 already exists. Skipping download.\n",
      "File /Users/kyleandrecastro/Library/CloudStorage/OneDrive-ust.edu.ph/videos/tt0371589.mp4 already exists. Skipping download.\n",
      "File /Users/kyleandrecastro/Library/CloudStorage/OneDrive-ust.edu.ph/videos/tt0470705.mp4 already exists. Skipping download.\n",
      "File /Users/kyleandrecastro/Library/CloudStorage/OneDrive-ust.edu.ph/videos/tt0115783.mp4 already exists. Skipping download.\n",
      "File /Users/kyleandrecastro/Library/CloudStorage/OneDrive-ust.edu.ph/videos/tt0331314.mp4 already exists. Skipping download.\n",
      "File /Users/kyleandrecastro/Library/CloudStorage/OneDrive-ust.edu.ph/videos/tt1918908.mp4 already exists. Skipping download.\n",
      "File /Users/kyleandrecastro/Library/CloudStorage/OneDrive-ust.edu.ph/videos/tt0379725.mp4 already exists. Skipping download.\n",
      "File /Users/kyleandrecastro/Library/CloudStorage/OneDrive-ust.edu.ph/videos/tt0289889.mp4 already exists. Skipping download.\n",
      "File /Users/kyleandrecastro/Library/CloudStorage/OneDrive-ust.edu.ph/videos/tt0381061.mp4 already exists. Skipping download.\n",
      "File /Users/kyleandrecastro/Library/CloudStorage/OneDrive-ust.edu.ph/videos/tt0437232.mp4 already exists. Skipping download.\n",
      "File /Users/kyleandrecastro/Library/CloudStorage/OneDrive-ust.edu.ph/videos/tt0264464.mp4 already exists. Skipping download.\n",
      "File /Users/kyleandrecastro/Library/CloudStorage/OneDrive-ust.edu.ph/videos/tt0337917.mp4 already exists. Skipping download.\n",
      "File /Users/kyleandrecastro/Library/CloudStorage/OneDrive-ust.edu.ph/videos/tt1287468.mp4 already exists. Skipping download.\n",
      "File /Users/kyleandrecastro/Library/CloudStorage/OneDrive-ust.edu.ph/videos/tt0398839.mp4 already exists. Skipping download.\n",
      "File /Users/kyleandrecastro/Library/CloudStorage/OneDrive-ust.edu.ph/videos/tt1664894.mp4 already exists. Skipping download.\n",
      "File /Users/kyleandrecastro/Library/CloudStorage/OneDrive-ust.edu.ph/videos/tt0106500.mp4 already exists. Skipping download.\n",
      "File /Users/kyleandrecastro/Library/CloudStorage/OneDrive-ust.edu.ph/videos/tt1145144.mp4 already exists. Skipping download.\n",
      "File /Users/kyleandrecastro/Library/CloudStorage/OneDrive-ust.edu.ph/videos/tt0460742.mp4 already exists. Skipping download.\n",
      "File /Users/kyleandrecastro/Library/CloudStorage/OneDrive-ust.edu.ph/videos/tt0264472.mp4 already exists. Skipping download.\n",
      "File /Users/kyleandrecastro/Library/CloudStorage/OneDrive-ust.edu.ph/videos/tt0103939.mp4 already exists. Skipping download.\n",
      "File /Users/kyleandrecastro/Library/CloudStorage/OneDrive-ust.edu.ph/videos/tt0488988.mp4 already exists. Skipping download.\n",
      "File /Users/kyleandrecastro/Library/CloudStorage/OneDrive-ust.edu.ph/videos/tt0330136.mp4 already exists. Skipping download.\n",
      "File /Users/kyleandrecastro/Library/CloudStorage/OneDrive-ust.edu.ph/videos/tt1629757.mp4 already exists. Skipping download.\n",
      "File /Users/kyleandrecastro/Library/CloudStorage/OneDrive-ust.edu.ph/videos/tt0323572.mp4 already exists. Skipping download.\n",
      "File /Users/kyleandrecastro/Library/CloudStorage/OneDrive-ust.edu.ph/videos/tt0452598.mp4 already exists. Skipping download.\n",
      "File /Users/kyleandrecastro/Library/CloudStorage/OneDrive-ust.edu.ph/videos/tt0473464.mp4 already exists. Skipping download.\n",
      "File /Users/kyleandrecastro/Library/CloudStorage/OneDrive-ust.edu.ph/videos/tt0175526.mp4 already exists. Skipping download.\n",
      "File /Users/kyleandrecastro/Library/CloudStorage/OneDrive-ust.edu.ph/videos/tt0299658.mp4 already exists. Skipping download.\n",
      "File /Users/kyleandrecastro/Library/CloudStorage/OneDrive-ust.edu.ph/videos/tt0371606.mp4 already exists. Skipping download.\n",
      "File /Users/kyleandrecastro/Library/CloudStorage/OneDrive-ust.edu.ph/videos/tt0493405.mp4 already exists. Skipping download.\n",
      "File /Users/kyleandrecastro/Library/CloudStorage/OneDrive-ust.edu.ph/videos/tt1024714.mp4 already exists. Skipping download.\n",
      "File /Users/kyleandrecastro/Library/CloudStorage/OneDrive-ust.edu.ph/videos/tt1024715.mp4 already exists. Skipping download.\n",
      "File /Users/kyleandrecastro/Library/CloudStorage/OneDrive-ust.edu.ph/videos/tt3136168.mp4 already exists. Skipping download.\n",
      "File /Users/kyleandrecastro/Library/CloudStorage/OneDrive-ust.edu.ph/videos/tt1661199.mp4 already exists. Skipping download.\n",
      "File /Users/kyleandrecastro/Library/CloudStorage/OneDrive-ust.edu.ph/videos/tt1792647.mp4 already exists. Skipping download.\n",
      "File /Users/kyleandrecastro/Library/CloudStorage/OneDrive-ust.edu.ph/videos/tt0970411.mp4 already exists. Skipping download.\n",
      "File /Users/kyleandrecastro/Library/CloudStorage/OneDrive-ust.edu.ph/videos/tt0446298.mp4 already exists. Skipping download.\n",
      "[youtube] Extracting URL: https://www.youtube.com/watch?v=5VRqk7yESnw\n",
      "[youtube] 5VRqk7yESnw: Downloading webpage\n",
      "[youtube] Sleeping 1 seconds ...\n",
      "[youtube] 5VRqk7yESnw: Downloading ios player API JSON\n"
     ]
    },
    {
     "name": "stderr",
     "output_type": "stream",
     "text": [
      "ERROR: [youtube] 5VRqk7yESnw: Video unavailable\n"
     ]
    },
    {
     "name": "stdout",
     "output_type": "stream",
     "text": [
      "Error downloading https://www.youtube.com/watch?v=5VRqk7yESnw with IMDB ID tt0082186: ERROR: [youtube] 5VRqk7yESnw: Video unavailable\n",
      "File /Users/kyleandrecastro/Library/CloudStorage/OneDrive-ust.edu.ph/videos/tt0896798.mp4 already exists. Skipping download.\n",
      "File /Users/kyleandrecastro/Library/CloudStorage/OneDrive-ust.edu.ph/videos/tt0109444.mp4 already exists. Skipping download.\n",
      "File /Users/kyleandrecastro/Library/CloudStorage/OneDrive-ust.edu.ph/videos/tt0389860.mp4 already exists. Skipping download.\n",
      "File /Users/kyleandrecastro/Library/CloudStorage/OneDrive-ust.edu.ph/videos/tt0157472.mp4 already exists. Skipping download.\n",
      "File /Users/kyleandrecastro/Library/CloudStorage/OneDrive-ust.edu.ph/videos/tt0075860.mp4 already exists. Skipping download.\n",
      "File /Users/kyleandrecastro/Library/CloudStorage/OneDrive-ust.edu.ph/videos/tt1985966.mp4 already exists. Skipping download.\n",
      "File /Users/kyleandrecastro/Library/CloudStorage/OneDrive-ust.edu.ph/videos/tt1060277.mp4 already exists. Skipping download.\n",
      "File /Users/kyleandrecastro/Library/CloudStorage/OneDrive-ust.edu.ph/videos/tt0088930.mp4 already exists. Skipping download.\n",
      "File /Users/kyleandrecastro/Library/CloudStorage/OneDrive-ust.edu.ph/videos/tt0380268.mp4 already exists. Skipping download.\n",
      "File /Users/kyleandrecastro/Library/CloudStorage/OneDrive-ust.edu.ph/videos/tt1094661.mp4 already exists. Skipping download.\n",
      "File /Users/kyleandrecastro/Library/CloudStorage/OneDrive-ust.edu.ph/videos/tt0345061.mp4 already exists. Skipping download.\n",
      "File /Users/kyleandrecastro/Library/CloudStorage/OneDrive-ust.edu.ph/videos/tt0112701.mp4 already exists. Skipping download.\n",
      "File /Users/kyleandrecastro/Library/CloudStorage/OneDrive-ust.edu.ph/videos/tt0159365.mp4 already exists. Skipping download.\n",
      "File /Users/kyleandrecastro/Library/CloudStorage/OneDrive-ust.edu.ph/videos/tt0233469.mp4 already exists. Skipping download.\n",
      "File /Users/kyleandrecastro/Library/CloudStorage/OneDrive-ust.edu.ph/videos/tt0844671.mp4 already exists. Skipping download.\n",
      "File /Users/kyleandrecastro/Library/CloudStorage/OneDrive-ust.edu.ph/videos/tt0287969.mp4 already exists. Skipping download.\n",
      "File /Users/kyleandrecastro/Library/CloudStorage/OneDrive-ust.edu.ph/videos/tt1637574.mp4 already exists. Skipping download.\n",
      "File /Users/kyleandrecastro/Library/CloudStorage/OneDrive-ust.edu.ph/videos/tt3322364.mp4 already exists. Skipping download.\n",
      "File /Users/kyleandrecastro/Library/CloudStorage/OneDrive-ust.edu.ph/videos/tt0345074.mp4 already exists. Skipping download.\n",
      "File /Users/kyleandrecastro/Library/CloudStorage/OneDrive-ust.edu.ph/videos/tt1043838.mp4 already exists. Skipping download.\n",
      "File /Users/kyleandrecastro/Library/CloudStorage/OneDrive-ust.edu.ph/videos/tt0106611.mp4 already exists. Skipping download.\n",
      "File /Users/kyleandrecastro/Library/CloudStorage/OneDrive-ust.edu.ph/videos/tt0327597.mp4 already exists. Skipping download.\n",
      "File /Users/kyleandrecastro/Library/CloudStorage/OneDrive-ust.edu.ph/videos/tt8366502.mp4 already exists. Skipping download.\n",
      "File /Users/kyleandrecastro/Library/CloudStorage/OneDrive-ust.edu.ph/videos/tt0200550.mp4 already exists. Skipping download.\n",
      "File /Users/kyleandrecastro/Library/CloudStorage/OneDrive-ust.edu.ph/videos/tt0150216.mp4 already exists. Skipping download.\n",
      "File /Users/kyleandrecastro/Library/CloudStorage/OneDrive-ust.edu.ph/videos/tt0479884.mp4 already exists. Skipping download.\n",
      "File /Users/kyleandrecastro/Library/CloudStorage/OneDrive-ust.edu.ph/videos/tt0375679.mp4 already exists. Skipping download.\n",
      "File /Users/kyleandrecastro/Library/CloudStorage/OneDrive-ust.edu.ph/videos/tt4557956.mp4 already exists. Skipping download.\n",
      "File /Users/kyleandrecastro/Library/CloudStorage/OneDrive-ust.edu.ph/videos/tt0470993.mp4 already exists. Skipping download.\n",
      "File /Users/kyleandrecastro/Library/CloudStorage/OneDrive-ust.edu.ph/videos/tt0092794.mp4 already exists. Skipping download.\n",
      "File /Users/kyleandrecastro/Library/CloudStorage/OneDrive-ust.edu.ph/videos/tt0310924.mp4 already exists. Skipping download.\n",
      "File /Users/kyleandrecastro/Library/CloudStorage/OneDrive-ust.edu.ph/videos/tt0112740.mp4 already exists. Skipping download.\n",
      "[imdb] Extracting URL: https://www.imdb.com/videoplayer/vi3752377625\n",
      "[imdb] 3752377625: Downloading webpage\n"
     ]
    },
    {
     "name": "stderr",
     "output_type": "stream",
     "text": [
      "ERROR: [imdb] 3752377625: Unable to download webpage: HTTP Error 404: Not Found (caused by <HTTPError 404: Not Found>)\n"
     ]
    },
    {
     "name": "stdout",
     "output_type": "stream",
     "text": [
      "Error downloading https://www.imdb.com/videoplayer/vi3752377625 with IMDB ID tt0924129: ERROR: [imdb] 3752377625: Unable to download webpage: HTTP Error 404: Not Found (caused by <HTTPError 404: Not Found>)\n",
      "File /Users/kyleandrecastro/Library/CloudStorage/OneDrive-ust.edu.ph/videos/tt0099329.mp4 already exists. Skipping download.\n",
      "[youtube] Extracting URL: https://www.youtube.com/watch?v=H3DM-HHJNyc\n",
      "[youtube] H3DM-HHJNyc: Downloading webpage\n",
      "[youtube] Sleeping 1 seconds ...\n",
      "[youtube] H3DM-HHJNyc: Downloading ios player API JSON\n"
     ]
    },
    {
     "name": "stderr",
     "output_type": "stream",
     "text": [
      "ERROR: [youtube] H3DM-HHJNyc: Video unavailable\n"
     ]
    },
    {
     "name": "stdout",
     "output_type": "stream",
     "text": [
      "Error downloading https://www.youtube.com/watch?v=H3DM-HHJNyc with IMDB ID tt2437712: ERROR: [youtube] H3DM-HHJNyc: Video unavailable\n",
      "File /Users/kyleandrecastro/Library/CloudStorage/OneDrive-ust.edu.ph/videos/tt0834904.mp4 already exists. Skipping download.\n",
      "File /Users/kyleandrecastro/Library/CloudStorage/OneDrive-ust.edu.ph/videos/tt2230358.mp4 already exists. Skipping download.\n",
      "File /Users/kyleandrecastro/Library/CloudStorage/OneDrive-ust.edu.ph/videos/tt0257516.mp4 already exists. Skipping download.\n",
      "[youtube] Extracting URL: https://www.youtube.com/watch?v=BDkeRTKxl34\n",
      "[youtube] BDkeRTKxl34: Downloading webpage\n",
      "[youtube] Sleeping 1 seconds ...\n",
      "[youtube] BDkeRTKxl34: Downloading ios player API JSON\n"
     ]
    },
    {
     "name": "stderr",
     "output_type": "stream",
     "text": [
      "ERROR: [youtube] BDkeRTKxl34: Video unavailable. This video is no longer available because the YouTube account associated with this video has been terminated.\n"
     ]
    },
    {
     "name": "stdout",
     "output_type": "stream",
     "text": [
      "Error downloading https://www.youtube.com/watch?v=BDkeRTKxl34 with IMDB ID tt2917484: ERROR: [youtube] BDkeRTKxl34: Video unavailable. This video is no longer available because the YouTube account associated with this video has been terminated.\n",
      "File /Users/kyleandrecastro/Library/CloudStorage/OneDrive-ust.edu.ph/videos/tt0166158.mp4 already exists. Skipping download.\n",
      "File /Users/kyleandrecastro/Library/CloudStorage/OneDrive-ust.edu.ph/videos/tt0317303.mp4 already exists. Skipping download.\n",
      "File /Users/kyleandrecastro/Library/CloudStorage/OneDrive-ust.edu.ph/videos/tt1153706.mp4 already exists. Skipping download.\n",
      "File /Users/kyleandrecastro/Library/CloudStorage/OneDrive-ust.edu.ph/videos/tt0926063.mp4 already exists. Skipping download.\n",
      "File /Users/kyleandrecastro/Library/CloudStorage/OneDrive-ust.edu.ph/videos/tt0118927.mp4 already exists. Skipping download.\n",
      "File /Users/kyleandrecastro/Library/CloudStorage/OneDrive-ust.edu.ph/videos/tt0094947.mp4 already exists. Skipping download.\n",
      "File /Users/kyleandrecastro/Library/CloudStorage/OneDrive-ust.edu.ph/videos/tt1430077.mp4 already exists. Skipping download.\n",
      "File /Users/kyleandrecastro/Library/CloudStorage/OneDrive-ust.edu.ph/videos/tt0985025.mp4 already exists. Skipping download.\n",
      "File /Users/kyleandrecastro/Library/CloudStorage/OneDrive-ust.edu.ph/videos/tt0433963.mp4 already exists. Skipping download.\n",
      "File /Users/kyleandrecastro/Library/CloudStorage/OneDrive-ust.edu.ph/videos/tt0382628.mp4 already exists. Skipping download.\n",
      "File /Users/kyleandrecastro/Library/CloudStorage/OneDrive-ust.edu.ph/videos/tt0273517.mp4 already exists. Skipping download.\n",
      "File /Users/kyleandrecastro/Library/CloudStorage/OneDrive-ust.edu.ph/videos/tt0282209.mp4 already exists. Skipping download.\n",
      "File /Users/kyleandrecastro/Library/CloudStorage/OneDrive-ust.edu.ph/videos/tt0466342.mp4 already exists. Skipping download.\n",
      "[youtube:tab] Extracting URL: https://www.youtube.com/watch?v=yfjIY2QrczM&list=PLelK7aEMtfK2UinH2cmCdy-4beZh2yfru&index=19\n",
      "[youtube:tab] Downloading just the video yfjIY2QrczM because of --no-playlist\n",
      "[youtube] Extracting URL: https://www.youtube.com/watch?v=yfjIY2QrczM\n",
      "[youtube] yfjIY2QrczM: Downloading webpage\n",
      "[youtube] Sleeping 1 seconds ...\n",
      "[youtube] yfjIY2QrczM: Downloading ios player API JSON\n"
     ]
    },
    {
     "name": "stderr",
     "output_type": "stream",
     "text": [
      "ERROR: [youtube] yfjIY2QrczM: Video unavailable\n"
     ]
    },
    {
     "name": "stdout",
     "output_type": "stream",
     "text": [
      "Error downloading https://www.youtube.com/watch?v=yfjIY2QrczM&list=PLelK7aEMtfK2UinH2cmCdy-4beZh2yfru&index=19 with IMDB ID tt3053228: ERROR: [youtube] yfjIY2QrczM: Video unavailable\n",
      "[youtube] Extracting URL: https://www.youtube.com/watch?v=AhUhuDW_jOw\n",
      "[youtube] AhUhuDW_jOw: Downloading webpage\n",
      "[youtube] Sleeping 1 seconds ...\n",
      "[youtube] AhUhuDW_jOw: Downloading ios player API JSON\n"
     ]
    },
    {
     "name": "stderr",
     "output_type": "stream",
     "text": [
      "ERROR: [youtube] AhUhuDW_jOw: Private video. Sign in if you've been granted access to this video\n"
     ]
    },
    {
     "name": "stdout",
     "output_type": "stream",
     "text": [
      "Error downloading https://www.youtube.com/watch?v=AhUhuDW_jOw with IMDB ID tt0099371: ERROR: [youtube] AhUhuDW_jOw: Private video. Sign in if you've been granted access to this video\n",
      "File /Users/kyleandrecastro/Library/CloudStorage/OneDrive-ust.edu.ph/videos/tt0489019.mp4 already exists. Skipping download.\n",
      "File /Users/kyleandrecastro/Library/CloudStorage/OneDrive-ust.edu.ph/videos/tt0377749.mp4 already exists. Skipping download.\n",
      "File /Users/kyleandrecastro/Library/CloudStorage/OneDrive-ust.edu.ph/videos/tt1079444.mp4 already exists. Skipping download.\n",
      "[youtube:tab] Extracting URL: https://www.youtube.com/watch?v=8ezghupRwCU&list=PLelK7aEMtfK2UinH2cmCdy-4beZh2yfru&index=132&t=0s\n",
      "[youtube:tab] Downloading just the video 8ezghupRwCU because of --no-playlist\n",
      "[youtube] Extracting URL: https://www.youtube.com/watch?v=8ezghupRwCU\n",
      "[youtube] 8ezghupRwCU: Downloading webpage\n",
      "[youtube] Sleeping 1 seconds ...\n",
      "[youtube] 8ezghupRwCU: Downloading ios player API JSON\n"
     ]
    },
    {
     "name": "stderr",
     "output_type": "stream",
     "text": [
      "ERROR: [youtube] 8ezghupRwCU: Video unavailable. This video has been removed by the uploader\n"
     ]
    },
    {
     "name": "stdout",
     "output_type": "stream",
     "text": [
      "Error downloading https://www.youtube.com/watch?v=8ezghupRwCU&list=PLelK7aEMtfK2UinH2cmCdy-4beZh2yfru&index=132&t=0s with IMDB ID tt2101341: ERROR: [youtube] 8ezghupRwCU: Video unavailable. This video has been removed by the uploader\n",
      "File /Users/kyleandrecastro/Library/CloudStorage/OneDrive-ust.edu.ph/videos/tt1431045.mp4 already exists. Skipping download.\n",
      "File /Users/kyleandrecastro/Library/CloudStorage/OneDrive-ust.edu.ph/videos/tt5463162.mp4 already exists. Skipping download.\n",
      "File /Users/kyleandrecastro/Library/CloudStorage/OneDrive-ust.edu.ph/videos/tt0446676.mp4 already exists. Skipping download.\n",
      "File /Users/kyleandrecastro/Library/CloudStorage/OneDrive-ust.edu.ph/videos/tt0377752.mp4 already exists. Skipping download.\n",
      "File /Users/kyleandrecastro/Library/CloudStorage/OneDrive-ust.edu.ph/videos/tt0116059.mp4 already exists. Skipping download.\n",
      "File /Users/kyleandrecastro/Library/CloudStorage/OneDrive-ust.edu.ph/videos/tt2235108.mp4 already exists. Skipping download.\n",
      "File /Users/kyleandrecastro/Library/CloudStorage/OneDrive-ust.edu.ph/videos/tt5493706.mp4 already exists. Skipping download.\n",
      "File /Users/kyleandrecastro/Library/CloudStorage/OneDrive-ust.edu.ph/videos/tt0804461.mp4 already exists. Skipping download.\n",
      "File /Users/kyleandrecastro/Library/CloudStorage/OneDrive-ust.edu.ph/videos/tt3856992.mp4 already exists. Skipping download.\n",
      "[youtube] Extracting URL: https://www.youtube.com/watch?v=Xngl0GyJubY\n",
      "[youtube] Xngl0GyJubY: Downloading webpage\n",
      "[youtube] Sleeping 1 seconds ...\n",
      "[youtube] Xngl0GyJubY: Downloading ios player API JSON\n"
     ]
    },
    {
     "name": "stderr",
     "output_type": "stream",
     "text": [
      "ERROR: [youtube] Xngl0GyJubY: Private video. Sign in if you've been granted access to this video\n"
     ]
    },
    {
     "name": "stdout",
     "output_type": "stream",
     "text": [
      "Error downloading https://www.youtube.com/watch?v=Xngl0GyJubY with IMDB ID tt0099385: ERROR: [youtube] Xngl0GyJubY: Private video. Sign in if you've been granted access to this video\n",
      "File /Users/kyleandrecastro/Library/CloudStorage/OneDrive-ust.edu.ph/videos/tt0109578.mp4 already exists. Skipping download.\n",
      "File /Users/kyleandrecastro/Library/CloudStorage/OneDrive-ust.edu.ph/videos/tt0286306.mp4 already exists. Skipping download.\n",
      "File /Users/kyleandrecastro/Library/CloudStorage/OneDrive-ust.edu.ph/videos/tt0800240.mp4 already exists. Skipping download.\n",
      "File /Users/kyleandrecastro/Library/CloudStorage/OneDrive-ust.edu.ph/videos/tt0790604.mp4 already exists. Skipping download.\n",
      "File /Users/kyleandrecastro/Library/CloudStorage/OneDrive-ust.edu.ph/videos/tt0357585.mp4 already exists. Skipping download.\n",
      "File /Users/kyleandrecastro/Library/CloudStorage/OneDrive-ust.edu.ph/videos/tt0490579.mp4 already exists. Skipping download.\n",
      "File /Users/kyleandrecastro/Library/CloudStorage/OneDrive-ust.edu.ph/videos/tt0120647.mp4 already exists. Skipping download.\n",
      "File /Users/kyleandrecastro/Library/CloudStorage/OneDrive-ust.edu.ph/videos/tt0460766.mp4 already exists. Skipping download.\n",
      "File /Users/kyleandrecastro/Library/CloudStorage/OneDrive-ust.edu.ph/videos/tt2332883.mp4 already exists. Skipping download.\n",
      "File /Users/kyleandrecastro/Library/CloudStorage/OneDrive-ust.edu.ph/videos/tt1034303.mp4 already exists. Skipping download.\n",
      "File /Users/kyleandrecastro/Library/CloudStorage/OneDrive-ust.edu.ph/videos/tt0800003.mp4 already exists. Skipping download.\n",
      "File /Users/kyleandrecastro/Library/CloudStorage/OneDrive-ust.edu.ph/videos/tt1323594.mp4 already exists. Skipping download.\n",
      "File /Users/kyleandrecastro/Library/CloudStorage/OneDrive-ust.edu.ph/videos/tt0367652.mp4 already exists. Skipping download.\n",
      "File /Users/kyleandrecastro/Library/CloudStorage/OneDrive-ust.edu.ph/videos/tt0338512.mp4 already exists. Skipping download.\n",
      "File /Users/kyleandrecastro/Library/CloudStorage/OneDrive-ust.edu.ph/videos/tt0406706.mp4 already exists. Skipping download.\n",
      "File /Users/kyleandrecastro/Library/CloudStorage/OneDrive-ust.edu.ph/videos/tt0116095.mp4 already exists. Skipping download.\n",
      "File /Users/kyleandrecastro/Library/CloudStorage/OneDrive-ust.edu.ph/videos/tt0422093.mp4 already exists. Skipping download.\n",
      "File /Users/kyleandrecastro/Library/CloudStorage/OneDrive-ust.edu.ph/videos/tt1650043.mp4 already exists. Skipping download.\n",
      "File /Users/kyleandrecastro/Library/CloudStorage/OneDrive-ust.edu.ph/videos/tt0325258.mp4 already exists. Skipping download.\n",
      "File /Users/kyleandrecastro/Library/CloudStorage/OneDrive-ust.edu.ph/videos/tt1321862.mp4 already exists. Skipping download.\n",
      "File /Users/kyleandrecastro/Library/CloudStorage/OneDrive-ust.edu.ph/videos/tt3090252.mp4 already exists. Skipping download.\n",
      "File /Users/kyleandrecastro/Library/CloudStorage/OneDrive-ust.edu.ph/videos/tt1860213.mp4 already exists. Skipping download.\n",
      "File /Users/kyleandrecastro/Library/CloudStorage/OneDrive-ust.edu.ph/videos/tt0301199.mp4 already exists. Skipping download.\n",
      "File /Users/kyleandrecastro/Library/CloudStorage/OneDrive-ust.edu.ph/videos/tt1213644.mp4 already exists. Skipping download.\n",
      "File /Users/kyleandrecastro/Library/CloudStorage/OneDrive-ust.edu.ph/videos/tt0279778.mp4 already exists. Skipping download.\n",
      "File /Users/kyleandrecastro/Library/CloudStorage/OneDrive-ust.edu.ph/videos/tt0398913.mp4 already exists. Skipping download.\n",
      "File /Users/kyleandrecastro/Library/CloudStorage/OneDrive-ust.edu.ph/videos/tt0120655.mp4 already exists. Skipping download.\n",
      "File /Users/kyleandrecastro/Library/CloudStorage/OneDrive-ust.edu.ph/videos/tt0276919.mp4 already exists. Skipping download.\n",
      "File /Users/kyleandrecastro/Library/CloudStorage/OneDrive-ust.edu.ph/videos/tt0101751.mp4 already exists. Skipping download.\n",
      "File /Users/kyleandrecastro/Library/CloudStorage/OneDrive-ust.edu.ph/videos/tt1564349.mp4 already exists. Skipping download.\n",
      "File /Users/kyleandrecastro/Library/CloudStorage/OneDrive-ust.edu.ph/videos/tt2978462.mp4 already exists. Skipping download.\n",
      "File /Users/kyleandrecastro/Library/CloudStorage/OneDrive-ust.edu.ph/videos/tt2402105.mp4 already exists. Skipping download.\n",
      "File /Users/kyleandrecastro/Library/CloudStorage/OneDrive-ust.edu.ph/videos/tt1270761.mp4 already exists. Skipping download.\n",
      "File /Users/kyleandrecastro/Library/CloudStorage/OneDrive-ust.edu.ph/videos/tt4160708.mp4 already exists. Skipping download.\n",
      "File /Users/kyleandrecastro/Library/CloudStorage/OneDrive-ust.edu.ph/videos/tt0082276.mp4 already exists. Skipping download.\n",
      "File /Users/kyleandrecastro/Library/CloudStorage/OneDrive-ust.edu.ph/videos/tt0763304.mp4 already exists. Skipping download.\n",
      "File /Users/kyleandrecastro/Library/CloudStorage/OneDrive-ust.edu.ph/videos/tt0483607.mp4 already exists. Skipping download.\n",
      "File /Users/kyleandrecastro/Library/CloudStorage/OneDrive-ust.edu.ph/videos/tt3850214.mp4 already exists. Skipping download.\n",
      "File /Users/kyleandrecastro/Library/CloudStorage/OneDrive-ust.edu.ph/videos/tt0150377.mp4 already exists. Skipping download.\n",
      "File /Users/kyleandrecastro/Library/CloudStorage/OneDrive-ust.edu.ph/videos/tt0918927.mp4 already exists. Skipping download.\n",
      "File /Users/kyleandrecastro/Library/CloudStorage/OneDrive-ust.edu.ph/videos/tt0240462.mp4 already exists. Skipping download.\n",
      "File /Users/kyleandrecastro/Library/CloudStorage/OneDrive-ust.edu.ph/videos/tt1024724.mp4 already exists. Skipping download.\n",
      "File /Users/kyleandrecastro/Library/CloudStorage/OneDrive-ust.edu.ph/videos/tt0079073.mp4 already exists. Skipping download.\n",
      "File /Users/kyleandrecastro/Library/CloudStorage/OneDrive-ust.edu.ph/videos/tt0021814.mp4 already exists. Skipping download.\n",
      "File /Users/kyleandrecastro/Library/CloudStorage/OneDrive-ust.edu.ph/videos/tt1127180.mp4 already exists. Skipping download.\n",
      "[youtube] Extracting URL: https://www.youtube.com/watch?v=ASpqeW3lmuM\n",
      "[youtube] ASpqeW3lmuM: Downloading webpage\n",
      "[youtube] Sleeping 1 seconds ...\n",
      "[youtube] ASpqeW3lmuM: Downloading ios player API JSON\n"
     ]
    },
    {
     "name": "stderr",
     "output_type": "stream",
     "text": [
      "ERROR: [youtube] ASpqeW3lmuM: Video unavailable. This video is no longer available because the YouTube account associated with this video has been terminated.\n"
     ]
    },
    {
     "name": "stdout",
     "output_type": "stream",
     "text": [
      "Error downloading https://www.youtube.com/watch?v=ASpqeW3lmuM with IMDB ID tt0259288: ERROR: [youtube] ASpqeW3lmuM: Video unavailable. This video is no longer available because the YouTube account associated with this video has been terminated.\n",
      "File /Users/kyleandrecastro/Library/CloudStorage/OneDrive-ust.edu.ph/videos/tt0418647.mp4 already exists. Skipping download.\n",
      "File /Users/kyleandrecastro/Library/CloudStorage/OneDrive-ust.edu.ph/videos/tt0443489.mp4 already exists. Skipping download.\n",
      "[youtube] Extracting URL: https://www.youtube.com/watch?v=yEuvMeQcjy4\n",
      "[youtube] yEuvMeQcjy4: Downloading webpage\n",
      "[youtube] Sleeping 1 seconds ...\n",
      "[youtube] yEuvMeQcjy4: Downloading ios player API JSON\n"
     ]
    },
    {
     "name": "stderr",
     "output_type": "stream",
     "text": [
      "ERROR: [youtube] yEuvMeQcjy4: Video unavailable. This video contains content from Talent Web Academy, who has blocked it in your country on copyright grounds\n"
     ]
    },
    {
     "name": "stdout",
     "output_type": "stream",
     "text": [
      "Error downloading https://www.youtube.com/watch?v=yEuvMeQcjy4 with IMDB ID tt1336621: ERROR: [youtube] yEuvMeQcjy4: Video unavailable. This video contains content from Talent Web Academy, who has blocked it in your country on copyright grounds\n",
      "File /Users/kyleandrecastro/Library/CloudStorage/OneDrive-ust.edu.ph/videos/tt0780504.mp4 already exists. Skipping download.\n",
      "File /Users/kyleandrecastro/Library/CloudStorage/OneDrive-ust.edu.ph/videos/tt0109676.mp4 already exists. Skipping download.\n",
      "File /Users/kyleandrecastro/Library/CloudStorage/OneDrive-ust.edu.ph/videos/tt1950135.mp4 already exists. Skipping download.\n",
      "File /Users/kyleandrecastro/Library/CloudStorage/OneDrive-ust.edu.ph/videos/tt0134630.mp4 already exists. Skipping download.\n",
      "File /Users/kyleandrecastro/Library/CloudStorage/OneDrive-ust.edu.ph/videos/tt0190374.mp4 already exists. Skipping download.\n",
      "File /Users/kyleandrecastro/Library/CloudStorage/OneDrive-ust.edu.ph/videos/tt0266489.mp4 already exists. Skipping download.\n",
      "File /Users/kyleandrecastro/Library/CloudStorage/OneDrive-ust.edu.ph/videos/tt1135487.mp4 already exists. Skipping download.\n",
      "File /Users/kyleandrecastro/Library/CloudStorage/OneDrive-ust.edu.ph/videos/tt2183034.mp4 already exists. Skipping download.\n",
      "File /Users/kyleandrecastro/Library/CloudStorage/OneDrive-ust.edu.ph/videos/tt2340650.mp4 already exists. Skipping download.\n",
      "File /Users/kyleandrecastro/Library/CloudStorage/OneDrive-ust.edu.ph/videos/tt0808244.mp4 already exists. Skipping download.\n",
      "File /Users/kyleandrecastro/Library/CloudStorage/OneDrive-ust.edu.ph/videos/tt1124039.mp4 already exists. Skipping download.\n",
      "File /Users/kyleandrecastro/Library/CloudStorage/OneDrive-ust.edu.ph/videos/tt1087842.mp4 already exists. Skipping download.\n",
      "File /Users/kyleandrecastro/Library/CloudStorage/OneDrive-ust.edu.ph/videos/tt0389957.mp4 already exists. Skipping download.\n",
      "File /Users/kyleandrecastro/Library/CloudStorage/OneDrive-ust.edu.ph/videos/tt2165743.mp4 already exists. Skipping download.\n",
      "File /Users/kyleandrecastro/Library/CloudStorage/OneDrive-ust.edu.ph/videos/tt0397313.mp4 already exists. Skipping download.\n",
      "File /Users/kyleandrecastro/Library/CloudStorage/OneDrive-ust.edu.ph/videos/tt0271263.mp4 already exists. Skipping download.\n",
      "File /Users/kyleandrecastro/Library/CloudStorage/OneDrive-ust.edu.ph/videos/tt0119054.mp4 already exists. Skipping download.\n",
      "File /Users/kyleandrecastro/Library/CloudStorage/OneDrive-ust.edu.ph/videos/tt0271367.mp4 already exists. Skipping download.\n",
      "File /Users/kyleandrecastro/Library/CloudStorage/OneDrive-ust.edu.ph/videos/tt0974554.mp4 already exists. Skipping download.\n",
      "File /Users/kyleandrecastro/Library/CloudStorage/OneDrive-ust.edu.ph/videos/tt0357277.mp4 already exists. Skipping download.\n",
      "File /Users/kyleandrecastro/Library/CloudStorage/OneDrive-ust.edu.ph/videos/tt0319343.mp4 already exists. Skipping download.\n",
      "File /Users/kyleandrecastro/Library/CloudStorage/OneDrive-ust.edu.ph/videos/tt0414055.mp4 already exists. Skipping download.\n",
      "File /Users/kyleandrecastro/Library/CloudStorage/OneDrive-ust.edu.ph/videos/tt0327679.mp4 already exists. Skipping download.\n",
      "File /Users/kyleandrecastro/Library/CloudStorage/OneDrive-ust.edu.ph/videos/tt0461770.mp4 already exists. Skipping download.\n",
      "File /Users/kyleandrecastro/Library/CloudStorage/OneDrive-ust.edu.ph/videos/tt1093824.mp4 already exists. Skipping download.\n",
      "File /Users/kyleandrecastro/Library/CloudStorage/OneDrive-ust.edu.ph/videos/tt1855199.mp4 already exists. Skipping download.\n",
      "File /Users/kyleandrecastro/Library/CloudStorage/OneDrive-ust.edu.ph/videos/tt1631707.mp4 already exists. Skipping download.\n",
      "File /Users/kyleandrecastro/Library/CloudStorage/OneDrive-ust.edu.ph/videos/tt0238380.mp4 already exists. Skipping download.\n",
      "File /Users/kyleandrecastro/Library/CloudStorage/OneDrive-ust.edu.ph/videos/tt0449010.mp4 already exists. Skipping download.\n",
      "File /Users/kyleandrecastro/Library/CloudStorage/OneDrive-ust.edu.ph/videos/tt6772804.mp4 already exists. Skipping download.\n",
      "File /Users/kyleandrecastro/Library/CloudStorage/OneDrive-ust.edu.ph/videos/tt0072951.mp4 already exists. Skipping download.\n",
      "[youtube] Extracting URL: https://www.youtube.com/watch?v=8WAulKwKHbY\n",
      "[youtube] 8WAulKwKHbY: Downloading webpage\n",
      "[youtube] Sleeping 1 seconds ...\n",
      "[youtube] 8WAulKwKHbY: Downloading ios player API JSON\n",
      "[youtube] Sleeping 1 seconds ...\n",
      "[youtube] 8WAulKwKHbY: Downloading m3u8 information\n",
      "[youtube] Sleeping 1 seconds ...\n",
      "[youtube] 8WAulKwKHbY: Downloading MPD manifest\n",
      "[info] 8WAulKwKHbY: Downloading 1 format(s): 248+251\n"
     ]
    },
    {
     "name": "stderr",
     "output_type": "stream",
     "text": [
      "ERROR: You have requested merging of multiple formats but ffmpeg is not installed. Aborting due to --abort-on-error\n"
     ]
    },
    {
     "name": "stdout",
     "output_type": "stream",
     "text": [
      "Error downloading https://www.youtube.com/watch?v=8WAulKwKHbY with IMDB ID tt2937696: ERROR: You have requested merging of multiple formats but ffmpeg is not installed. Aborting due to --abort-on-error\n",
      "File /Users/kyleandrecastro/Library/CloudStorage/OneDrive-ust.edu.ph/videos/tt0404030.mp4 already exists. Skipping download.\n",
      "[youtube:tab] Extracting URL: https://www.youtube.com/watch?v=BHDJm1D2ELw&list=PLelK7aEMtfK2UinH2cmCdy-4beZh2yfru&index=134&t=0s\n",
      "[youtube:tab] Downloading just the video BHDJm1D2ELw because of --no-playlist\n",
      "[youtube] Extracting URL: https://www.youtube.com/watch?v=BHDJm1D2ELw\n",
      "[youtube] BHDJm1D2ELw: Downloading webpage\n",
      "[youtube] Sleeping 1 seconds ...\n",
      "[youtube] BHDJm1D2ELw: Downloading ios player API JSON\n"
     ]
    },
    {
     "name": "stderr",
     "output_type": "stream",
     "text": [
      "ERROR: [youtube] BHDJm1D2ELw: Video unavailable\n"
     ]
    },
    {
     "name": "stdout",
     "output_type": "stream",
     "text": [
      "Error downloading https://www.youtube.com/watch?v=BHDJm1D2ELw&list=PLelK7aEMtfK2UinH2cmCdy-4beZh2yfru&index=134&t=0s with IMDB ID tt1288558: ERROR: [youtube] BHDJm1D2ELw: Video unavailable\n",
      "File /Users/kyleandrecastro/Library/CloudStorage/OneDrive-ust.edu.ph/videos/tt1091617.mp4 already exists. Skipping download.\n",
      "File /Users/kyleandrecastro/Library/CloudStorage/OneDrive-ust.edu.ph/videos/tt1244659.mp4 already exists. Skipping download.\n",
      "File /Users/kyleandrecastro/Library/CloudStorage/OneDrive-ust.edu.ph/videos/tt0116260.mp4 already exists. Skipping download.\n",
      "File /Users/kyleandrecastro/Library/CloudStorage/OneDrive-ust.edu.ph/videos/tt0120662.mp4 already exists. Skipping download.\n",
      "File /Users/kyleandrecastro/Library/CloudStorage/OneDrive-ust.edu.ph/videos/tt0432402.mp4 already exists. Skipping download.\n",
      "File /Users/kyleandrecastro/Library/CloudStorage/OneDrive-ust.edu.ph/videos/tt0428518.mp4 already exists. Skipping download.\n",
      "File /Users/kyleandrecastro/Library/CloudStorage/OneDrive-ust.edu.ph/videos/tt0113010.mp4 already exists. Skipping download.\n",
      "File /Users/kyleandrecastro/Library/CloudStorage/OneDrive-ust.edu.ph/videos/tt0850667.mp4 already exists. Skipping download.\n",
      "File /Users/kyleandrecastro/Library/CloudStorage/OneDrive-ust.edu.ph/videos/tt0116269.mp4 already exists. Skipping download.\n",
      "File /Users/kyleandrecastro/Library/CloudStorage/OneDrive-ust.edu.ph/videos/tt1016075.mp4 already exists. Skipping download.\n",
      "File /Users/kyleandrecastro/Library/CloudStorage/OneDrive-ust.edu.ph/videos/tt0460792.mp4 already exists. Skipping download.\n",
      "File /Users/kyleandrecastro/Library/CloudStorage/OneDrive-ust.edu.ph/videos/tt7256866.mp4 already exists. Skipping download.\n",
      "File /Users/kyleandrecastro/Library/CloudStorage/OneDrive-ust.edu.ph/videos/tt0082367.mp4 already exists. Skipping download.\n",
      "File /Users/kyleandrecastro/Library/CloudStorage/OneDrive-ust.edu.ph/videos/tt0800027.mp4 already exists. Skipping download.\n",
      "File /Users/kyleandrecastro/Library/CloudStorage/OneDrive-ust.edu.ph/videos/tt2381335.mp4 already exists. Skipping download.\n",
      "[youtube] Extracting URL: https://www.youtube.com/watch?v=Q-_0DhriSwg\n",
      "[youtube] Q-_0DhriSwg: Downloading webpage\n",
      "[youtube] Sleeping 1 seconds ...\n",
      "[youtube] Q-_0DhriSwg: Downloading ios player API JSON\n"
     ]
    },
    {
     "name": "stderr",
     "output_type": "stream",
     "text": [
      "ERROR: [youtube] Q-_0DhriSwg: Video unavailable. This video has been removed by the uploader\n"
     ]
    },
    {
     "name": "stdout",
     "output_type": "stream",
     "text": [
      "Error downloading https://www.youtube.com/watch?v=Q-_0DhriSwg with IMDB ID tt2524674: ERROR: [youtube] Q-_0DhriSwg: Video unavailable. This video has been removed by the uploader\n",
      "File /Users/kyleandrecastro/Library/CloudStorage/OneDrive-ust.edu.ph/videos/tt0332047.mp4 already exists. Skipping download.\n",
      "File /Users/kyleandrecastro/Library/CloudStorage/OneDrive-ust.edu.ph/videos/tt0457572.mp4 already exists. Skipping download.\n",
      "File /Users/kyleandrecastro/Library/CloudStorage/OneDrive-ust.edu.ph/videos/tt0097351.mp4 already exists. Skipping download.\n",
      "File /Users/kyleandrecastro/Library/CloudStorage/OneDrive-ust.edu.ph/videos/tt4667094.mp4 already exists. Skipping download.\n",
      "File /Users/kyleandrecastro/Library/CloudStorage/OneDrive-ust.edu.ph/videos/tt1450321.mp4 already exists. Skipping download.\n",
      "File /Users/kyleandrecastro/Library/CloudStorage/OneDrive-ust.edu.ph/videos/tt0309593.mp4 already exists. Skipping download.\n",
      "File /Users/kyleandrecastro/Library/CloudStorage/OneDrive-ust.edu.ph/videos/tt0173840.mp4 already exists. Skipping download.\n",
      "File /Users/kyleandrecastro/Library/CloudStorage/OneDrive-ust.edu.ph/videos/tt0419749.mp4 already exists. Skipping download.\n",
      "File /Users/kyleandrecastro/Library/CloudStorage/OneDrive-ust.edu.ph/videos/tt0889134.mp4 already exists. Skipping download.\n",
      "File /Users/kyleandrecastro/Library/CloudStorage/OneDrive-ust.edu.ph/videos/tt0308644.mp4 already exists. Skipping download.\n",
      "File /Users/kyleandrecastro/Library/CloudStorage/OneDrive-ust.edu.ph/videos/tt0432289.mp4 already exists. Skipping download.\n",
      "File /Users/kyleandrecastro/Library/CloudStorage/OneDrive-ust.edu.ph/videos/tt3401882.mp4 already exists. Skipping download.\n",
      "File /Users/kyleandrecastro/Library/CloudStorage/OneDrive-ust.edu.ph/videos/tt0428541.mp4 already exists. Skipping download.\n",
      "File /Users/kyleandrecastro/Library/CloudStorage/OneDrive-ust.edu.ph/videos/tt0080745.mp4 already exists. Skipping download.\n",
      "File /Users/kyleandrecastro/Library/CloudStorage/OneDrive-ust.edu.ph/videos/tt0780516.mp4 already exists. Skipping download.\n",
      "File /Users/kyleandrecastro/Library/CloudStorage/OneDrive-ust.edu.ph/videos/tt0377062.mp4 already exists. Skipping download.\n",
      "File /Users/kyleandrecastro/Library/CloudStorage/OneDrive-ust.edu.ph/videos/tt0817177.mp4 already exists. Skipping download.\n",
      "File /Users/kyleandrecastro/Library/CloudStorage/OneDrive-ust.edu.ph/videos/tt0424095.mp4 already exists. Skipping download.\n",
      "File /Users/kyleandrecastro/Library/CloudStorage/OneDrive-ust.edu.ph/videos/tt0087277.mp4 already exists. Skipping download.\n",
      "File /Users/kyleandrecastro/Library/CloudStorage/OneDrive-ust.edu.ph/videos/tt1996264.mp4 already exists. Skipping download.\n",
      "File /Users/kyleandrecastro/Library/CloudStorage/OneDrive-ust.edu.ph/videos/tt1730294.mp4 already exists. Skipping download.\n",
      "File /Users/kyleandrecastro/Library/CloudStorage/OneDrive-ust.edu.ph/videos/tt4103724.mp4 already exists. Skipping download.\n",
      "File /Users/kyleandrecastro/Library/CloudStorage/OneDrive-ust.edu.ph/videos/tt0800039.mp4 already exists. Skipping download.\n",
      "File /Users/kyleandrecastro/Library/CloudStorage/OneDrive-ust.edu.ph/videos/tt1567233.mp4 already exists. Skipping download.\n",
      "File /Users/kyleandrecastro/Library/CloudStorage/OneDrive-ust.edu.ph/videos/tt0109830.mp4 already exists. Skipping download.\n",
      "File /Users/kyleandrecastro/Library/CloudStorage/OneDrive-ust.edu.ph/videos/tt0369436.mp4 already exists. Skipping download.\n",
      "File /Users/kyleandrecastro/Library/CloudStorage/OneDrive-ust.edu.ph/videos/tt0116353.mp4 already exists. Skipping download.\n",
      "File /Users/kyleandrecastro/Library/CloudStorage/OneDrive-ust.edu.ph/videos/tt0488120.mp4 already exists. Skipping download.\n",
      "File /Users/kyleandrecastro/Library/CloudStorage/OneDrive-ust.edu.ph/videos/tt1925435.mp4 already exists. Skipping download.\n",
      "File /Users/kyleandrecastro/Library/CloudStorage/OneDrive-ust.edu.ph/videos/tt1142977.mp4 already exists. Skipping download.\n",
      "File /Users/kyleandrecastro/Library/CloudStorage/OneDrive-ust.edu.ph/videos/tt1817771.mp4 already exists. Skipping download.\n",
      "File /Users/kyleandrecastro/Library/CloudStorage/OneDrive-ust.edu.ph/videos/tt0486583.mp4 already exists. Skipping download.\n",
      "File /Users/kyleandrecastro/Library/CloudStorage/OneDrive-ust.edu.ph/videos/tt1621039.mp4 already exists. Skipping download.\n",
      "[youtube:tab] Extracting URL: https://www.youtube.com/watch?v=nS8oI8V9sLU&list=PLelK7aEMtfK2UinH2cmCdy-4beZh2yfru&index=67&t=0s\n",
      "[youtube:tab] Downloading just the video nS8oI8V9sLU because of --no-playlist\n",
      "[youtube] Extracting URL: https://www.youtube.com/watch?v=nS8oI8V9sLU\n",
      "[youtube] nS8oI8V9sLU: Downloading webpage\n",
      "[youtube] Sleeping 1 seconds ...\n",
      "[youtube] nS8oI8V9sLU: Downloading ios player API JSON\n"
     ]
    },
    {
     "name": "stderr",
     "output_type": "stream",
     "text": [
      "ERROR: [youtube] nS8oI8V9sLU: Video unavailable. This video has been removed by the uploader\n"
     ]
    },
    {
     "name": "stdout",
     "output_type": "stream",
     "text": [
      "Error downloading https://www.youtube.com/watch?v=nS8oI8V9sLU&list=PLelK7aEMtfK2UinH2cmCdy-4beZh2yfru&index=67&t=0s with IMDB ID tt4158096: ERROR: [youtube] nS8oI8V9sLU: Video unavailable. This video has been removed by the uploader\n",
      "File /Users/kyleandrecastro/Library/CloudStorage/OneDrive-ust.edu.ph/videos/tt1128071.mp4 already exists. Skipping download.\n",
      "File /Users/kyleandrecastro/Library/CloudStorage/OneDrive-ust.edu.ph/videos/tt1815708.mp4 already exists. Skipping download.\n",
      "File /Users/kyleandrecastro/Library/CloudStorage/OneDrive-ust.edu.ph/videos/tt0390022.mp4 already exists. Skipping download.\n",
      "File /Users/kyleandrecastro/Library/CloudStorage/OneDrive-ust.edu.ph/videos/tt0758746.mp4 already exists. Skipping download.\n",
      "File /Users/kyleandrecastro/Library/CloudStorage/OneDrive-ust.edu.ph/videos/tt0339034.mp4 already exists. Skipping download.\n",
      "File /Users/kyleandrecastro/Library/CloudStorage/OneDrive-ust.edu.ph/videos/tt2294629.mp4 already exists. Skipping download.\n",
      "File /Users/kyleandrecastro/Library/CloudStorage/OneDrive-ust.edu.ph/videos/tt0978759.mp4 already exists. Skipping download.\n",
      "File /Users/kyleandrecastro/Library/CloudStorage/OneDrive-ust.edu.ph/videos/tt0407761.mp4 already exists. Skipping download.\n",
      "File /Users/kyleandrecastro/Library/CloudStorage/OneDrive-ust.edu.ph/videos/tt0765451.mp4 already exists. Skipping download.\n",
      "File /Users/kyleandrecastro/Library/CloudStorage/OneDrive-ust.edu.ph/videos/tt0119167.mp4 already exists. Skipping download.\n",
      "File /Users/kyleandrecastro/Library/CloudStorage/OneDrive-ust.edu.ph/videos/tt0244521.mp4 already exists. Skipping download.\n",
      "File /Users/kyleandrecastro/Library/CloudStorage/OneDrive-ust.edu.ph/videos/tt0422295.mp4 already exists. Skipping download.\n",
      "File /Users/kyleandrecastro/Library/CloudStorage/OneDrive-ust.edu.ph/videos/tt0082432.mp4 already exists. Skipping download.\n",
      "File /Users/kyleandrecastro/Library/CloudStorage/OneDrive-ust.edu.ph/videos/tt3687118.mp4 already exists. Skipping download.\n",
      "File /Users/kyleandrecastro/Library/CloudStorage/OneDrive-ust.edu.ph/videos/tt0833960.mp4 already exists. Skipping download.\n",
      "File /Users/kyleandrecastro/Library/CloudStorage/OneDrive-ust.edu.ph/videos/tt0425061.mp4 already exists. Skipping download.\n",
      "File /Users/kyleandrecastro/Library/CloudStorage/OneDrive-ust.edu.ph/videos/tt0259324.mp4 already exists. Skipping download.\n",
      "File /Users/kyleandrecastro/Library/CloudStorage/OneDrive-ust.edu.ph/videos/tt5115546.mp4 already exists. Skipping download.\n",
      "File /Users/kyleandrecastro/Library/CloudStorage/OneDrive-ust.edu.ph/videos/tt0995039.mp4 already exists. Skipping download.\n",
      "File /Users/kyleandrecastro/Library/CloudStorage/OneDrive-ust.edu.ph/videos/tt0116410.mp4 already exists. Skipping download.\n",
      "File /Users/kyleandrecastro/Library/CloudStorage/OneDrive-ust.edu.ph/videos/tt1176251.mp4 already exists. Skipping download.\n",
      "File /Users/kyleandrecastro/Library/CloudStorage/OneDrive-ust.edu.ph/videos/tt0299930.mp4 already exists. Skipping download.\n",
      "File /Users/kyleandrecastro/Library/CloudStorage/OneDrive-ust.edu.ph/videos/tt0353489.mp4 already exists. Skipping download.\n",
      "File /Users/kyleandrecastro/Library/CloudStorage/OneDrive-ust.edu.ph/videos/tt0138467.mp4 already exists. Skipping download.\n",
      "File /Users/kyleandrecastro/Library/CloudStorage/OneDrive-ust.edu.ph/videos/tt3564472.mp4 already exists. Skipping download.\n",
      "File /Users/kyleandrecastro/Library/CloudStorage/OneDrive-ust.edu.ph/videos/tt0498348.mp4 already exists. Skipping download.\n",
      "File /Users/kyleandrecastro/Library/CloudStorage/OneDrive-ust.edu.ph/videos/tt1922612.mp4 already exists. Skipping download.\n",
      "File /Users/kyleandrecastro/Library/CloudStorage/OneDrive-ust.edu.ph/videos/tt0473360.mp4 already exists. Skipping download.\n",
      "File /Users/kyleandrecastro/Library/CloudStorage/OneDrive-ust.edu.ph/videos/tt4437216.mp4 already exists. Skipping download.\n",
      "File /Users/kyleandrecastro/Library/CloudStorage/OneDrive-ust.edu.ph/videos/tt1912398.mp4 already exists. Skipping download.\n",
      "File /Users/kyleandrecastro/Library/CloudStorage/OneDrive-ust.edu.ph/videos/tt0335121.mp4 already exists. Skipping download.\n",
      "File /Users/kyleandrecastro/Library/CloudStorage/OneDrive-ust.edu.ph/videos/tt3675748.mp4 already exists. Skipping download.\n",
      "[youtube:tab] Extracting URL: https://www.youtube.com/watch?v=VXH2Cfere4Q&list=PLelK7aEMtfK2UinH2cmCdy-4beZh2yfru&index=55&t=0s\n",
      "[youtube:tab] Downloading just the video VXH2Cfere4Q because of --no-playlist\n",
      "[youtube] Extracting URL: https://www.youtube.com/watch?v=VXH2Cfere4Q\n",
      "[youtube] VXH2Cfere4Q: Downloading webpage\n",
      "[youtube] Sleeping 1 seconds ...\n",
      "[youtube] VXH2Cfere4Q: Downloading ios player API JSON\n"
     ]
    },
    {
     "name": "stderr",
     "output_type": "stream",
     "text": [
      "ERROR: [youtube] VXH2Cfere4Q: Video unavailable. This video has been removed by the uploader\n"
     ]
    },
    {
     "name": "stdout",
     "output_type": "stream",
     "text": [
      "Error downloading https://www.youtube.com/watch?v=VXH2Cfere4Q&list=PLelK7aEMtfK2UinH2cmCdy-4beZh2yfru&index=55&t=0s with IMDB ID tt1800302: ERROR: [youtube] VXH2Cfere4Q: Video unavailable. This video has been removed by the uploader\n",
      "File /Users/kyleandrecastro/Library/CloudStorage/OneDrive-ust.edu.ph/videos/tt0113189.mp4 already exists. Skipping download.\n",
      "File /Users/kyleandrecastro/Library/CloudStorage/OneDrive-ust.edu.ph/videos/tt0944101.mp4 already exists. Skipping download.\n",
      "File /Users/kyleandrecastro/Library/CloudStorage/OneDrive-ust.edu.ph/videos/tt0452625.mp4 already exists. Skipping download.\n",
      "File /Users/kyleandrecastro/Library/CloudStorage/OneDrive-ust.edu.ph/videos/tt0433383.mp4 already exists. Skipping download.\n",
      "File /Users/kyleandrecastro/Library/CloudStorage/OneDrive-ust.edu.ph/videos/tt1456635.mp4 already exists. Skipping download.\n",
      "File /Users/kyleandrecastro/Library/CloudStorage/OneDrive-ust.edu.ph/videos/tt0772168.mp4 already exists. Skipping download.\n",
      "File /Users/kyleandrecastro/Library/CloudStorage/OneDrive-ust.edu.ph/videos/tt0441007.mp4 already exists. Skipping download.\n",
      "File /Users/kyleandrecastro/Library/CloudStorage/OneDrive-ust.edu.ph/videos/tt0101969.mp4 already exists. Skipping download.\n",
      "File /Users/kyleandrecastro/Library/CloudStorage/OneDrive-ust.edu.ph/videos/tt2950418.mp4 already exists. Skipping download.\n",
      "File /Users/kyleandrecastro/Library/CloudStorage/OneDrive-ust.edu.ph/videos/tt1384590.mp4 already exists. Skipping download.\n",
      "File /Users/kyleandrecastro/Library/CloudStorage/OneDrive-ust.edu.ph/videos/tt4062536.mp4 already exists. Skipping download.\n",
      "File /Users/kyleandrecastro/Library/CloudStorage/OneDrive-ust.edu.ph/videos/tt0421206.mp4 already exists. Skipping download.\n",
      "File /Users/kyleandrecastro/Library/CloudStorage/OneDrive-ust.edu.ph/videos/tt0409043.mp4 already exists. Skipping download.\n",
      "File /Users/kyleandrecastro/Library/CloudStorage/OneDrive-ust.edu.ph/videos/tt3381008.mp4 already exists. Skipping download.\n",
      "File /Users/kyleandrecastro/Library/CloudStorage/OneDrive-ust.edu.ph/videos/tt3721964.mp4 already exists. Skipping download.\n",
      "File /Users/kyleandrecastro/Library/CloudStorage/OneDrive-ust.edu.ph/videos/tt0107048.mp4 already exists. Skipping download.\n",
      "File /Users/kyleandrecastro/Library/CloudStorage/OneDrive-ust.edu.ph/videos/tt10054316.mp4 already exists. Skipping download.\n",
      "File /Users/kyleandrecastro/Library/CloudStorage/OneDrive-ust.edu.ph/videos/tt3526408.mp4 already exists. Skipping download.\n",
      "File /Users/kyleandrecastro/Library/CloudStorage/OneDrive-ust.edu.ph/videos/tt0468492.mp4 already exists. Skipping download.\n",
      "File /Users/kyleandrecastro/Library/CloudStorage/OneDrive-ust.edu.ph/videos/tt4738776.mp4 already exists. Skipping download.\n",
      "File /Users/kyleandrecastro/Library/CloudStorage/OneDrive-ust.edu.ph/videos/tt0468489.mp4 already exists. Skipping download.\n",
      "File /Users/kyleandrecastro/Library/CloudStorage/OneDrive-ust.edu.ph/videos/tt0297162.mp4 already exists. Skipping download.\n",
      "File /Users/kyleandrecastro/Library/CloudStorage/OneDrive-ust.edu.ph/videos/tt0480687.mp4 already exists. Skipping download.\n",
      "File /Users/kyleandrecastro/Library/CloudStorage/OneDrive-ust.edu.ph/videos/tt0116477.mp4 already exists. Skipping download.\n",
      "[imdb] Extracting URL: https://www.imdb.com/videoplayer/vi1659044121\n",
      "[imdb] 1659044121: Downloading webpage\n"
     ]
    },
    {
     "name": "stderr",
     "output_type": "stream",
     "text": [
      "ERROR: [imdb] 1659044121: Unable to download webpage: HTTP Error 404: Not Found (caused by <HTTPError 404: Not Found>)\n"
     ]
    },
    {
     "name": "stdout",
     "output_type": "stream",
     "text": [
      "Error downloading https://www.imdb.com/videoplayer/vi1659044121 with IMDB ID tt1104733: ERROR: [imdb] 1659044121: Unable to download webpage: HTTP Error 404: Not Found (caused by <HTTPError 404: Not Found>)\n",
      "File /Users/kyleandrecastro/Library/CloudStorage/OneDrive-ust.edu.ph/videos/tt2193418.mp4 already exists. Skipping download.\n",
      "File /Users/kyleandrecastro/Library/CloudStorage/OneDrive-ust.edu.ph/videos/tt1781827.mp4 already exists. Skipping download.\n",
      "File /Users/kyleandrecastro/Library/CloudStorage/OneDrive-ust.edu.ph/videos/tt0212985.mp4 already exists. Skipping download.\n",
      "File /Users/kyleandrecastro/Library/CloudStorage/OneDrive-ust.edu.ph/videos/tt0367959.mp4 already exists. Skipping download.\n",
      "File /Users/kyleandrecastro/Library/CloudStorage/OneDrive-ust.edu.ph/videos/tt1402488.mp4 already exists. Skipping download.\n",
      "File /Users/kyleandrecastro/Library/CloudStorage/OneDrive-ust.edu.ph/videos/tt1045670.mp4 already exists. Skipping download.\n",
      "File /Users/kyleandrecastro/Library/CloudStorage/OneDrive-ust.edu.ph/videos/tt0489070.mp4 already exists. Skipping download.\n",
      "File /Users/kyleandrecastro/Library/CloudStorage/OneDrive-ust.edu.ph/videos/tt0366551.mp4 already exists. Skipping download.\n",
      "File /Users/kyleandrecastro/Library/CloudStorage/OneDrive-ust.edu.ph/videos/tt0422401.mp4 already exists. Skipping download.\n",
      "File /Users/kyleandrecastro/Library/CloudStorage/OneDrive-ust.edu.ph/videos/tt2386404.mp4 already exists. Skipping download.\n",
      "File /Users/kyleandrecastro/Library/CloudStorage/OneDrive-ust.edu.ph/videos/tt0099750.mp4 already exists. Skipping download.\n",
      "File /Users/kyleandrecastro/Library/CloudStorage/OneDrive-ust.edu.ph/videos/tt0246677.mp4 already exists. Skipping download.\n",
      "File /Users/kyleandrecastro/Library/CloudStorage/OneDrive-ust.edu.ph/videos/tt3687186.mp4 already exists. Skipping download.\n",
      "File /Users/kyleandrecastro/Library/CloudStorage/OneDrive-ust.edu.ph/videos/tt0165831.mp4 already exists. Skipping download.\n",
      "File /Users/kyleandrecastro/Library/CloudStorage/OneDrive-ust.edu.ph/videos/tt2141773.mp4 already exists. Skipping download.\n",
      "File /Users/kyleandrecastro/Library/CloudStorage/OneDrive-ust.edu.ph/videos/tt2318527.mp4 already exists. Skipping download.\n",
      "File /Users/kyleandrecastro/Library/CloudStorage/OneDrive-ust.edu.ph/videos/tt1999890.mp4 already exists. Skipping download.\n",
      "File /Users/kyleandrecastro/Library/CloudStorage/OneDrive-ust.edu.ph/videos/tt0091192.mp4 already exists. Skipping download.\n",
      "File /Users/kyleandrecastro/Library/CloudStorage/OneDrive-ust.edu.ph/videos/tt0354623.mp4 already exists. Skipping download.\n",
      "File /Users/kyleandrecastro/Library/CloudStorage/OneDrive-ust.edu.ph/videos/tt1029120.mp4 already exists. Skipping download.\n",
      "File /Users/kyleandrecastro/Library/CloudStorage/OneDrive-ust.edu.ph/videos/tt1205558.mp4 already exists. Skipping download.\n",
      "File /Users/kyleandrecastro/Library/CloudStorage/OneDrive-ust.edu.ph/videos/tt0317648.mp4 already exists. Skipping download.\n",
      "File /Users/kyleandrecastro/Library/CloudStorage/OneDrive-ust.edu.ph/videos/tt0382077.mp4 already exists. Skipping download.\n",
      "File /Users/kyleandrecastro/Library/CloudStorage/OneDrive-ust.edu.ph/videos/tt0146882.mp4 already exists. Skipping download.\n",
      "File /Users/kyleandrecastro/Library/CloudStorage/OneDrive-ust.edu.ph/videos/tt1247667.mp4 already exists. Skipping download.\n",
      "File /Users/kyleandrecastro/Library/CloudStorage/OneDrive-ust.edu.ph/videos/tt3451230.mp4 already exists. Skipping download.\n",
      "File /Users/kyleandrecastro/Library/CloudStorage/OneDrive-ust.edu.ph/videos/tt0144964.mp4 already exists. Skipping download.\n",
      "File /Users/kyleandrecastro/Library/CloudStorage/OneDrive-ust.edu.ph/videos/tt0299981.mp4 already exists. Skipping download.\n",
      "File /Users/kyleandrecastro/Library/CloudStorage/OneDrive-ust.edu.ph/videos/tt0386588.mp4 already exists. Skipping download.\n",
      "File /Users/kyleandrecastro/Library/CloudStorage/OneDrive-ust.edu.ph/videos/tt0465494.mp4 already exists. Skipping download.\n",
      "File /Users/kyleandrecastro/Library/CloudStorage/OneDrive-ust.edu.ph/videos/tt0311289.mp4 already exists. Skipping download.\n",
      "File /Users/kyleandrecastro/Library/CloudStorage/OneDrive-ust.edu.ph/videos/tt0278823.mp4 already exists. Skipping download.\n",
      "File /Users/kyleandrecastro/Library/CloudStorage/OneDrive-ust.edu.ph/videos/tt0329717.mp4 already exists. Skipping download.\n",
      "File /Users/kyleandrecastro/Library/CloudStorage/OneDrive-ust.edu.ph/videos/tt2802136.mp4 already exists. Skipping download.\n",
      "File /Users/kyleandrecastro/Library/CloudStorage/OneDrive-ust.edu.ph/videos/tt2312718.mp4 already exists. Skipping download.\n",
      "File /Users/kyleandrecastro/Library/CloudStorage/OneDrive-ust.edu.ph/videos/tt0484207.mp4 already exists. Skipping download.\n",
      "File /Users/kyleandrecastro/Library/CloudStorage/OneDrive-ust.edu.ph/videos/tt0322589.mp4 already exists. Skipping download.\n",
      "File /Users/kyleandrecastro/Library/CloudStorage/OneDrive-ust.edu.ph/videos/tt8151874.mp4 already exists. Skipping download.\n",
      "File /Users/kyleandrecastro/Library/CloudStorage/OneDrive-ust.edu.ph/videos/tt0119311.mp4 already exists. Skipping download.\n",
      "File /Users/kyleandrecastro/Library/CloudStorage/OneDrive-ust.edu.ph/videos/tt0102057.mp4 already exists. Skipping download.\n",
      "File /Users/kyleandrecastro/Library/CloudStorage/OneDrive-ust.edu.ph/videos/tt0314431.mp4 already exists. Skipping download.\n",
      "File /Users/kyleandrecastro/Library/CloudStorage/OneDrive-ust.edu.ph/videos/tt0340163.mp4 already exists. Skipping download.\n",
      "File /Users/kyleandrecastro/Library/CloudStorage/OneDrive-ust.edu.ph/videos/tt0498353.mp4 already exists. Skipping download.\n",
      "File /Users/kyleandrecastro/Library/CloudStorage/OneDrive-ust.edu.ph/videos/tt1231587.mp4 already exists. Skipping download.\n",
      "File /Users/kyleandrecastro/Library/CloudStorage/OneDrive-ust.edu.ph/videos/tt2637294.mp4 already exists. Skipping download.\n",
      "File /Users/kyleandrecastro/Library/CloudStorage/OneDrive-ust.edu.ph/videos/tt5834262.mp4 already exists. Skipping download.\n",
      "File /Users/kyleandrecastro/Library/CloudStorage/OneDrive-ust.edu.ph/videos/tt0395169.mp4 already exists. Skipping download.\n",
      "File /Users/kyleandrecastro/Library/CloudStorage/OneDrive-ust.edu.ph/videos/tt0837796.mp4 already exists. Skipping download.\n",
      "File /Users/kyleandrecastro/Library/CloudStorage/OneDrive-ust.edu.ph/videos/tt0251736.mp4 already exists. Skipping download.\n",
      "File /Users/kyleandrecastro/Library/CloudStorage/OneDrive-ust.edu.ph/videos/tt0435665.mp4 already exists. Skipping download.\n",
      "File /Users/kyleandrecastro/Library/CloudStorage/OneDrive-ust.edu.ph/videos/tt0093225.mp4 already exists. Skipping download.\n",
      "File /Users/kyleandrecastro/Library/CloudStorage/OneDrive-ust.edu.ph/videos/tt0278488.mp4 already exists. Skipping download.\n",
      "File /Users/kyleandrecastro/Library/CloudStorage/OneDrive-ust.edu.ph/videos/tt0462346.mp4 already exists. Skipping download.\n",
      "File /Users/kyleandrecastro/Library/CloudStorage/OneDrive-ust.edu.ph/videos/tt0251127.mp4 already exists. Skipping download.\n",
      "File /Users/kyleandrecastro/Library/CloudStorage/OneDrive-ust.edu.ph/videos/tt0892769.mp4 already exists. Skipping download.\n",
      "File /Users/kyleandrecastro/Library/CloudStorage/OneDrive-ust.edu.ph/videos/tt1646971.mp4 already exists. Skipping download.\n",
      "File /Users/kyleandrecastro/Library/CloudStorage/OneDrive-ust.edu.ph/videos/tt0970179.mp4 already exists. Skipping download.\n",
      "File /Users/kyleandrecastro/Library/CloudStorage/OneDrive-ust.edu.ph/videos/tt0870122.mp4 already exists. Skipping download.\n",
      "File /Users/kyleandrecastro/Library/CloudStorage/OneDrive-ust.edu.ph/videos/tt0118744.mp4 already exists. Skipping download.\n",
      "File /Users/kyleandrecastro/Library/CloudStorage/OneDrive-ust.edu.ph/videos/tt0410097.mp4 already exists. Skipping download.\n",
      "File /Users/kyleandrecastro/Library/CloudStorage/OneDrive-ust.edu.ph/videos/tt4008652.mp4 already exists. Skipping download.\n",
      "File /Users/kyleandrecastro/Library/CloudStorage/OneDrive-ust.edu.ph/videos/tt0327919.mp4 already exists. Skipping download.\n",
      "File /Users/kyleandrecastro/Library/CloudStorage/OneDrive-ust.edu.ph/videos/tt0480249.mp4 already exists. Skipping download.\n",
      "File /Users/kyleandrecastro/Library/CloudStorage/OneDrive-ust.edu.ph/videos/tt0277027.mp4 already exists. Skipping download.\n",
      "File /Users/kyleandrecastro/Library/CloudStorage/OneDrive-ust.edu.ph/videos/tt2244901.mp4 already exists. Skipping download.\n",
      "File /Users/kyleandrecastro/Library/CloudStorage/OneDrive-ust.edu.ph/videos/tt0356721.mp4 already exists. Skipping download.\n",
      "[youtube] Extracting URL: https://www.youtube.com/watch?v=c0OGgqPat_A\n",
      "[youtube] c0OGgqPat_A: Downloading webpage\n",
      "[youtube] Sleeping 1 seconds ...\n",
      "[youtube] c0OGgqPat_A: Downloading ios player API JSON\n"
     ]
    },
    {
     "name": "stderr",
     "output_type": "stream",
     "text": [
      "ERROR: [youtube] c0OGgqPat_A: Video unavailable. This video is no longer available because the YouTube account associated with this video has been terminated.\n"
     ]
    },
    {
     "name": "stdout",
     "output_type": "stream",
     "text": [
      "Error downloading https://www.youtube.com/watch?v=c0OGgqPat_A with IMDB ID tt0110093: ERROR: [youtube] c0OGgqPat_A: Video unavailable. This video is no longer available because the YouTube account associated with this video has been terminated.\n",
      "File /Users/kyleandrecastro/Library/CloudStorage/OneDrive-ust.edu.ph/videos/tt1155056.mp4 already exists. Skipping download.\n",
      "File /Users/kyleandrecastro/Library/CloudStorage/OneDrive-ust.edu.ph/videos/tt0065874.mp4 already exists. Skipping download.\n",
      "[youtube:tab] Extracting URL: https://www.youtube.com/watch?v=fbpWmvPGGws&list=PLelK7aEMtfK2UinH2cmCdy-4beZh2yfru&index=22&t=0s\n",
      "[youtube:tab] Downloading just the video fbpWmvPGGws because of --no-playlist\n",
      "[youtube] Extracting URL: https://www.youtube.com/watch?v=fbpWmvPGGws\n",
      "[youtube] fbpWmvPGGws: Downloading webpage\n",
      "[youtube] Sleeping 1 seconds ...\n",
      "[youtube] fbpWmvPGGws: Downloading ios player API JSON\n"
     ]
    },
    {
     "name": "stderr",
     "output_type": "stream",
     "text": [
      "ERROR: [youtube] fbpWmvPGGws: Video unavailable. This video has been removed by the uploader\n"
     ]
    },
    {
     "name": "stdout",
     "output_type": "stream",
     "text": [
      "Error downloading https://www.youtube.com/watch?v=fbpWmvPGGws&list=PLelK7aEMtfK2UinH2cmCdy-4beZh2yfru&index=22&t=0s with IMDB ID tt5580036: ERROR: [youtube] fbpWmvPGGws: Video unavailable. This video has been removed by the uploader\n",
      "File /Users/kyleandrecastro/Library/CloudStorage/OneDrive-ust.edu.ph/videos/tt0110099.mp4 already exists. Skipping download.\n",
      "File /Users/kyleandrecastro/Library/CloudStorage/OneDrive-ust.edu.ph/videos/tt1080016.mp4 already exists. Skipping download.\n",
      "File /Users/kyleandrecastro/Library/CloudStorage/OneDrive-ust.edu.ph/videos/tt0309698.mp4 already exists. Skipping download.\n",
      "File /Users/kyleandrecastro/Library/CloudStorage/OneDrive-ust.edu.ph/videos/tt0116606.mp4 already exists. Skipping download.\n",
      "File /Users/kyleandrecastro/Library/CloudStorage/OneDrive-ust.edu.ph/videos/tt0332136.mp4 already exists. Skipping download.\n",
      "File /Users/kyleandrecastro/Library/CloudStorage/OneDrive-ust.edu.ph/videos/tt0465502.mp4 already exists. Skipping download.\n",
      "File /Users/kyleandrecastro/Library/CloudStorage/OneDrive-ust.edu.ph/videos/tt0373024.mp4 already exists. Skipping download.\n",
      "File /Users/kyleandrecastro/Library/CloudStorage/OneDrive-ust.edu.ph/videos/tt0780567.mp4 already exists. Skipping download.\n",
      "File /Users/kyleandrecastro/Library/CloudStorage/OneDrive-ust.edu.ph/videos/tt0780536.mp4 already exists. Skipping download.\n",
      "File /Users/kyleandrecastro/Library/CloudStorage/OneDrive-ust.edu.ph/videos/tt0116621.mp4 already exists. Skipping download.\n",
      "File /Users/kyleandrecastro/Library/CloudStorage/OneDrive-ust.edu.ph/videos/tt0247425.mp4 already exists. Skipping download.\n",
      "File /Users/kyleandrecastro/Library/CloudStorage/OneDrive-ust.edu.ph/videos/tt0199626.mp4 already exists. Skipping download.\n",
      "File /Users/kyleandrecastro/Library/CloudStorage/OneDrive-ust.edu.ph/videos/tt0910905.mp4 already exists. Skipping download.\n",
      "File /Users/kyleandrecastro/Library/CloudStorage/OneDrive-ust.edu.ph/videos/tt0460780.mp4 already exists. Skipping download.\n",
      "File /Users/kyleandrecastro/Library/CloudStorage/OneDrive-ust.edu.ph/videos/tt11808946.mp4 already exists. Skipping download.\n",
      "File /Users/kyleandrecastro/Library/CloudStorage/OneDrive-ust.edu.ph/videos/tt1754811.mp4 already exists. Skipping download.\n",
      "File /Users/kyleandrecastro/Library/CloudStorage/OneDrive-ust.edu.ph/videos/tt0087469.mp4 already exists. Skipping download.\n",
      "File /Users/kyleandrecastro/Library/CloudStorage/OneDrive-ust.edu.ph/videos/tt2215151.mp4 already exists. Skipping download.\n",
      "[youtube:tab] Extracting URL: https://www.youtube.com/watch?v=-5MvMS1U_Yk&list=PLelK7aEMtfK2UinH2cmCdy-4beZh2yfru&index=31&t=0s\n",
      "[youtube:tab] Downloading just the video -5MvMS1U_Yk because of --no-playlist\n",
      "[youtube] Extracting URL: https://www.youtube.com/watch?v=-5MvMS1U_Yk\n",
      "[youtube] -5MvMS1U_Yk: Downloading webpage\n",
      "[youtube] Sleeping 1 seconds ...\n",
      "[youtube] -5MvMS1U_Yk: Downloading ios player API JSON\n"
     ]
    },
    {
     "name": "stderr",
     "output_type": "stream",
     "text": [
      "ERROR: [youtube] -5MvMS1U_Yk: Video unavailable. This video has been removed by the uploader\n"
     ]
    },
    {
     "name": "stdout",
     "output_type": "stream",
     "text": [
      "Error downloading https://www.youtube.com/watch?v=-5MvMS1U_Yk&list=PLelK7aEMtfK2UinH2cmCdy-4beZh2yfru&index=31&t=0s with IMDB ID tt5962210: ERROR: [youtube] -5MvMS1U_Yk: Video unavailable. This video has been removed by the uploader\n",
      "File /Users/kyleandrecastro/Library/CloudStorage/OneDrive-ust.edu.ph/videos/tt1103984.mp4 already exists. Skipping download.\n",
      "File /Users/kyleandrecastro/Library/CloudStorage/OneDrive-ust.edu.ph/videos/tt2042568.mp4 already exists. Skipping download.\n",
      "File /Users/kyleandrecastro/Library/CloudStorage/OneDrive-ust.edu.ph/videos/tt0278504.mp4 already exists. Skipping download.\n",
      "File /Users/kyleandrecastro/Library/CloudStorage/OneDrive-ust.edu.ph/videos/tt0141369.mp4 already exists. Skipping download.\n",
      "File /Users/kyleandrecastro/Library/CloudStorage/OneDrive-ust.edu.ph/videos/tt0332658.mp4 already exists. Skipping download.\n",
      "File /Users/kyleandrecastro/Library/CloudStorage/OneDrive-ust.edu.ph/videos/tt0480269.mp4 already exists. Skipping download.\n",
      "File /Users/kyleandrecastro/Library/CloudStorage/OneDrive-ust.edu.ph/videos/tt0378109.mp4 already exists. Skipping download.\n",
      "[imdb] Extracting URL: https://www.imdb.com/videoplayer/vi1175760665\n",
      "[imdb] 1175760665: Downloading webpage\n"
     ]
    },
    {
     "name": "stderr",
     "output_type": "stream",
     "text": [
      "ERROR: [imdb] 1175760665: Unable to download webpage: HTTP Error 404: Not Found (caused by <HTTPError 404: Not Found>)\n"
     ]
    },
    {
     "name": "stdout",
     "output_type": "stream",
     "text": [
      "Error downloading https://www.imdb.com/videoplayer/vi1175760665 with IMDB ID tt2180411: ERROR: [imdb] 1175760665: Unable to download webpage: HTTP Error 404: Not Found (caused by <HTTPError 404: Not Found>)\n",
      "File /Users/kyleandrecastro/Library/CloudStorage/OneDrive-ust.edu.ph/videos/tt0762110.mp4 already exists. Skipping download.\n",
      "[youtube] Extracting URL: https://www.youtube.com/watch?v=nQY-czBdWmQ\n",
      "[youtube] nQY-czBdWmQ: Downloading webpage\n",
      "[youtube] Sleeping 1 seconds ...\n",
      "[youtube] nQY-czBdWmQ: Downloading ios player API JSON\n"
     ]
    },
    {
     "name": "stderr",
     "output_type": "stream",
     "text": [
      "ERROR: [youtube] nQY-czBdWmQ: Video unavailable. This video is no longer available because the YouTube account associated with this video has been terminated.\n"
     ]
    },
    {
     "name": "stdout",
     "output_type": "stream",
     "text": [
      "Error downloading https://www.youtube.com/watch?v=nQY-czBdWmQ with IMDB ID tt0405052: ERROR: [youtube] nQY-czBdWmQ: Video unavailable. This video is no longer available because the YouTube account associated with this video has been terminated.\n",
      "File /Users/kyleandrecastro/Library/CloudStorage/OneDrive-ust.edu.ph/videos/tt0110157.mp4 already exists. Skipping download.\n",
      "File /Users/kyleandrecastro/Library/CloudStorage/OneDrive-ust.edu.ph/videos/tt0448564.mp4 already exists. Skipping download.\n",
      "File /Users/kyleandrecastro/Library/CloudStorage/OneDrive-ust.edu.ph/videos/tt1130088.mp4 already exists. Skipping download.\n",
      "File /Users/kyleandrecastro/Library/CloudStorage/OneDrive-ust.edu.ph/videos/tt0810913.mp4 already exists. Skipping download.\n",
      "File /Users/kyleandrecastro/Library/CloudStorage/OneDrive-ust.edu.ph/videos/tt0116683.mp4 already exists. Skipping download.\n",
      "File /Users/kyleandrecastro/Library/CloudStorage/OneDrive-ust.edu.ph/videos/tt0211443.mp4 already exists. Skipping download.\n",
      "File /Users/kyleandrecastro/Library/CloudStorage/OneDrive-ust.edu.ph/videos/tt0155776.mp4 already exists. Skipping download.\n",
      "File /Users/kyleandrecastro/Library/CloudStorage/OneDrive-ust.edu.ph/videos/tt6521876.mp4 already exists. Skipping download.\n",
      "File /Users/kyleandrecastro/Library/CloudStorage/OneDrive-ust.edu.ph/videos/tt1130988.mp4 already exists. Skipping download.\n",
      "File /Users/kyleandrecastro/Library/CloudStorage/OneDrive-ust.edu.ph/videos/tt3614530.mp4 already exists. Skipping download.\n",
      "File /Users/kyleandrecastro/Library/CloudStorage/OneDrive-ust.edu.ph/videos/tt0116695.mp4 already exists. Skipping download.\n",
      "File /Users/kyleandrecastro/Library/CloudStorage/OneDrive-ust.edu.ph/videos/tt0772175.mp4 already exists. Skipping download.\n",
      "[youtube] Extracting URL: https://www.youtube.com/watch?v=6SjdD_FsS9o\n",
      "[youtube] 6SjdD_FsS9o: Downloading webpage\n",
      "[youtube] Sleeping 1 seconds ...\n",
      "[youtube] 6SjdD_FsS9o: Downloading ios player API JSON\n"
     ]
    },
    {
     "name": "stderr",
     "output_type": "stream",
     "text": [
      "ERROR: [youtube] 6SjdD_FsS9o: Video unavailable\n"
     ]
    },
    {
     "name": "stdout",
     "output_type": "stream",
     "text": [
      "Error downloading https://www.youtube.com/watch?v=6SjdD_FsS9o with IMDB ID tt2713642: ERROR: [youtube] 6SjdD_FsS9o: Video unavailable\n",
      "File /Users/kyleandrecastro/Library/CloudStorage/OneDrive-ust.edu.ph/videos/tt4552524.mp4 already exists. Skipping download.\n",
      "File /Users/kyleandrecastro/Library/CloudStorage/OneDrive-ust.edu.ph/videos/tt0031507.mp4 already exists. Skipping download.\n",
      "File /Users/kyleandrecastro/Library/CloudStorage/OneDrive-ust.edu.ph/videos/tt9354944.mp4 already exists. Skipping download.\n",
      "File /Users/kyleandrecastro/Library/CloudStorage/OneDrive-ust.edu.ph/videos/tt1772925.mp4 already exists. Skipping download.\n",
      "File /Users/kyleandrecastro/Library/CloudStorage/OneDrive-ust.edu.ph/videos/tt0245686.mp4 already exists. Skipping download.\n",
      "File /Users/kyleandrecastro/Library/CloudStorage/OneDrive-ust.edu.ph/videos/tt1783732.mp4 already exists. Skipping download.\n",
      "File /Users/kyleandrecastro/Library/CloudStorage/OneDrive-ust.edu.ph/videos/tt0455967.mp4 already exists. Skipping download.\n",
      "File /Users/kyleandrecastro/Library/CloudStorage/OneDrive-ust.edu.ph/videos/tt0113481.mp4 already exists. Skipping download.\n",
      "File /Users/kyleandrecastro/Library/CloudStorage/OneDrive-ust.edu.ph/videos/tt0359517.mp4 already exists. Skipping download.\n",
      "File /Users/kyleandrecastro/Library/CloudStorage/OneDrive-ust.edu.ph/videos/tt0206314.mp4 already exists. Skipping download.\n",
      "File /Users/kyleandrecastro/Library/CloudStorage/OneDrive-ust.edu.ph/videos/tt0116722.mp4 already exists. Skipping download.\n",
      "File /Users/kyleandrecastro/Library/CloudStorage/OneDrive-ust.edu.ph/videos/tt1547230.mp4 already exists. Skipping download.\n",
      "File /Users/kyleandrecastro/Library/CloudStorage/OneDrive-ust.edu.ph/videos/tt0903627.mp4 already exists. Skipping download.\n",
      "File /Users/kyleandrecastro/Library/CloudStorage/OneDrive-ust.edu.ph/videos/tt0076245.mp4 already exists. Skipping download.\n",
      "File /Users/kyleandrecastro/Library/CloudStorage/OneDrive-ust.edu.ph/videos/tt0489099.mp4 already exists. Skipping download.\n",
      "File /Users/kyleandrecastro/Library/CloudStorage/OneDrive-ust.edu.ph/videos/tt0467406.mp4 already exists. Skipping download.\n",
      "[youtube] Extracting URL: https://www.youtube.com/watch?v=0Sd8KtkvTD8\n",
      "[youtube] 0Sd8KtkvTD8: Downloading webpage\n",
      "[youtube] Sleeping 1 seconds ...\n",
      "[youtube] 0Sd8KtkvTD8: Downloading ios player API JSON\n"
     ]
    },
    {
     "name": "stderr",
     "output_type": "stream",
     "text": [
      "ERROR: [youtube] 0Sd8KtkvTD8: Video unavailable. This video is not available\n"
     ]
    },
    {
     "name": "stdout",
     "output_type": "stream",
     "text": [
      "Error downloading https://www.youtube.com/watch?v=0Sd8KtkvTD8 with IMDB ID tt2980472: ERROR: [youtube] 0Sd8KtkvTD8: Video unavailable. This video is not available\n",
      "File /Users/kyleandrecastro/Library/CloudStorage/OneDrive-ust.edu.ph/videos/tt0425123.mp4 already exists. Skipping download.\n",
      "File /Users/kyleandrecastro/Library/CloudStorage/OneDrive-ust.edu.ph/videos/tt1407061.mp4 already exists. Skipping download.\n",
      "File /Users/kyleandrecastro/Library/CloudStorage/OneDrive-ust.edu.ph/videos/tt0328007.mp4 already exists. Skipping download.\n",
      "File /Users/kyleandrecastro/Library/CloudStorage/OneDrive-ust.edu.ph/videos/tt0107302.mp4 already exists. Skipping download.\n",
      "File /Users/kyleandrecastro/Library/CloudStorage/OneDrive-ust.edu.ph/videos/tt4139124.mp4 already exists. Skipping download.\n",
      "File /Users/kyleandrecastro/Library/CloudStorage/OneDrive-ust.edu.ph/videos/tt0435679.mp4 already exists. Skipping download.\n",
      "File /Users/kyleandrecastro/Library/CloudStorage/OneDrive-ust.edu.ph/videos/tt2609912.mp4 already exists. Skipping download.\n",
      "File /Users/kyleandrecastro/Library/CloudStorage/OneDrive-ust.edu.ph/videos/tt4669186.mp4 already exists. Skipping download.\n",
      "File /Users/kyleandrecastro/Library/CloudStorage/OneDrive-ust.edu.ph/videos/tt1650554.mp4 already exists. Skipping download.\n",
      "File /Users/kyleandrecastro/Library/CloudStorage/OneDrive-ust.edu.ph/videos/tt0384642.mp4 already exists. Skipping download.\n",
      "File /Users/kyleandrecastro/Library/CloudStorage/OneDrive-ust.edu.ph/videos/tt0113537.mp4 already exists. Skipping download.\n",
      "File /Users/kyleandrecastro/Library/CloudStorage/OneDrive-ust.edu.ph/videos/tt2393845.mp4 already exists. Skipping download.\n",
      "File /Users/kyleandrecastro/Library/CloudStorage/OneDrive-ust.edu.ph/videos/tt1448755.mp4 already exists. Skipping download.\n",
      "File /Users/kyleandrecastro/Library/CloudStorage/OneDrive-ust.edu.ph/videos/tt7319064.mp4 already exists. Skipping download.\n",
      "File /Users/kyleandrecastro/Library/CloudStorage/OneDrive-ust.edu.ph/videos/tt0988083.mp4 already exists. Skipping download.\n",
      "File /Users/kyleandrecastro/Library/CloudStorage/OneDrive-ust.edu.ph/videos/tt0443559.mp4 already exists. Skipping download.\n",
      "File /Users/kyleandrecastro/Library/CloudStorage/OneDrive-ust.edu.ph/videos/tt0116778.mp4 already exists. Skipping download.\n",
      "File /Users/kyleandrecastro/Library/CloudStorage/OneDrive-ust.edu.ph/videos/tt4649466.mp4 already exists. Skipping download.\n",
      "File /Users/kyleandrecastro/Library/CloudStorage/OneDrive-ust.edu.ph/videos/tt0434124.mp4 already exists. Skipping download.\n",
      "File /Users/kyleandrecastro/Library/CloudStorage/OneDrive-ust.edu.ph/videos/tt0893346.mp4 already exists. Skipping download.\n",
      "File /Users/kyleandrecastro/Library/CloudStorage/OneDrive-ust.edu.ph/videos/tt0361805.mp4 already exists. Skipping download.\n",
      "File /Users/kyleandrecastro/Library/CloudStorage/OneDrive-ust.edu.ph/videos/tt0441773.mp4 already exists. Skipping download.\n",
      "File /Users/kyleandrecastro/Library/CloudStorage/OneDrive-ust.edu.ph/videos/tt1302011.mp4 already exists. Skipping download.\n",
      "File /Users/kyleandrecastro/Library/CloudStorage/OneDrive-ust.edu.ph/videos/tt3385398.mp4 already exists. Skipping download.\n",
      "File /Users/kyleandrecastro/Library/CloudStorage/OneDrive-ust.edu.ph/videos/tt0449851.mp4 already exists. Skipping download.\n",
      "File /Users/kyleandrecastro/Library/CloudStorage/OneDrive-ust.edu.ph/videos/tt2935564.mp4 already exists. Skipping download.\n",
      "File /Users/kyleandrecastro/Library/CloudStorage/OneDrive-ust.edu.ph/videos/tt2278871.mp4 already exists. Skipping download.\n",
      "File /Users/kyleandrecastro/Library/CloudStorage/OneDrive-ust.edu.ph/videos/tt1231287.mp4 already exists. Skipping download.\n",
      "File /Users/kyleandrecastro/Library/CloudStorage/OneDrive-ust.edu.ph/videos/tt0349710.mp4 already exists. Skipping download.\n",
      "File /Users/kyleandrecastro/Library/CloudStorage/OneDrive-ust.edu.ph/videos/tt4786132.mp4 already exists. Skipping download.\n",
      "File /Users/kyleandrecastro/Library/CloudStorage/OneDrive-ust.edu.ph/videos/tt0839880.mp4 already exists. Skipping download.\n",
      "File /Users/kyleandrecastro/Library/CloudStorage/OneDrive-ust.edu.ph/videos/tt0259393.mp4 already exists. Skipping download.\n",
      "File /Users/kyleandrecastro/Library/CloudStorage/OneDrive-ust.edu.ph/videos/tt0431213.mp4 already exists. Skipping download.\n",
      "File /Users/kyleandrecastro/Library/CloudStorage/OneDrive-ust.edu.ph/videos/tt1046947.mp4 already exists. Skipping download.\n",
      "File /Users/kyleandrecastro/Library/CloudStorage/OneDrive-ust.edu.ph/videos/tt0403217.mp4 already exists. Skipping download.\n",
      "File /Users/kyleandrecastro/Library/CloudStorage/OneDrive-ust.edu.ph/videos/tt0408985.mp4 already exists. Skipping download.\n",
      "File /Users/kyleandrecastro/Library/CloudStorage/OneDrive-ust.edu.ph/videos/tt0116830.mp4 already exists. Skipping download.\n",
      "File /Users/kyleandrecastro/Library/CloudStorage/OneDrive-ust.edu.ph/videos/tt0113617.mp4 already exists. Skipping download.\n",
      "File /Users/kyleandrecastro/Library/CloudStorage/OneDrive-ust.edu.ph/videos/tt2359137.mp4 already exists. Skipping download.\n",
      "File /Users/kyleandrecastro/Library/CloudStorage/OneDrive-ust.edu.ph/videos/tt2965466.mp4 already exists. Skipping download.\n",
      "File /Users/kyleandrecastro/Library/CloudStorage/OneDrive-ust.edu.ph/videos/tt0298408.mp4 already exists. Skipping download.\n",
      "File /Users/kyleandrecastro/Library/CloudStorage/OneDrive-ust.edu.ph/videos/tt1212450.mp4 already exists. Skipping download.\n",
      "File /Users/kyleandrecastro/Library/CloudStorage/OneDrive-ust.edu.ph/videos/tt0375912.mp4 already exists. Skipping download.\n",
      "File /Users/kyleandrecastro/Library/CloudStorage/OneDrive-ust.edu.ph/videos/tt0097722.mp4 already exists. Skipping download.\n",
      "File /Users/kyleandrecastro/Library/CloudStorage/OneDrive-ust.edu.ph/videos/tt2620590.mp4 already exists. Skipping download.\n",
      "File /Users/kyleandrecastro/Library/CloudStorage/OneDrive-ust.edu.ph/videos/tt0333780.mp4 already exists. Skipping download.\n",
      "File /Users/kyleandrecastro/Library/CloudStorage/OneDrive-ust.edu.ph/videos/tt0093407.mp4 already exists. Skipping download.\n",
      "File /Users/kyleandrecastro/Library/CloudStorage/OneDrive-ust.edu.ph/videos/tt0102288.mp4 already exists. Skipping download.\n",
      "File /Users/kyleandrecastro/Library/CloudStorage/OneDrive-ust.edu.ph/videos/tt1924435.mp4 already exists. Skipping download.\n",
      "File /Users/kyleandrecastro/Library/CloudStorage/OneDrive-ust.edu.ph/videos/tt1462054.mp4 already exists. Skipping download.\n",
      "File /Users/kyleandrecastro/Library/CloudStorage/OneDrive-ust.edu.ph/videos/tt0119528.mp4 already exists. Skipping download.\n",
      "File /Users/kyleandrecastro/Library/CloudStorage/OneDrive-ust.edu.ph/videos/tt0280870.mp4 already exists. Skipping download.\n",
      "File /Users/kyleandrecastro/Library/CloudStorage/OneDrive-ust.edu.ph/videos/tt2298990.mp4 already exists. Skipping download.\n",
      "File /Users/kyleandrecastro/Library/CloudStorage/OneDrive-ust.edu.ph/videos/tt0457993.mp4 already exists. Skipping download.\n",
      "File /Users/kyleandrecastro/Library/CloudStorage/OneDrive-ust.edu.ph/videos/tt1104083.mp4 already exists. Skipping download.\n",
      "File /Users/kyleandrecastro/Library/CloudStorage/OneDrive-ust.edu.ph/videos/tt5292624.mp4 already exists. Skipping download.\n",
      "File /Users/kyleandrecastro/Library/CloudStorage/OneDrive-ust.edu.ph/videos/tt0404203.mp4 already exists. Skipping download.\n",
      "File /Users/kyleandrecastro/Library/CloudStorage/OneDrive-ust.edu.ph/videos/tt0382810.mp4 already exists. Skipping download.\n",
      "File /Users/kyleandrecastro/Library/CloudStorage/OneDrive-ust.edu.ph/videos/tt0102316.mp4 already exists. Skipping download.\n",
      "File /Users/kyleandrecastro/Library/CloudStorage/OneDrive-ust.edu.ph/videos/tt0412922.mp4 already exists. Skipping download.\n",
      "File /Users/kyleandrecastro/Library/CloudStorage/OneDrive-ust.edu.ph/videos/tt4919484.mp4 already exists. Skipping download.\n",
      "File /Users/kyleandrecastro/Library/CloudStorage/OneDrive-ust.edu.ph/videos/tt7390588.mp4 already exists. Skipping download.\n",
      "File /Users/kyleandrecastro/Library/CloudStorage/OneDrive-ust.edu.ph/videos/tt0479201.mp4 already exists. Skipping download.\n",
      "[youtube] Extracting URL: https://www.youtube.com/watch?v=BBJgf1wAD04\n",
      "[youtube] BBJgf1wAD04: Downloading webpage\n",
      "[youtube] Sleeping 1 seconds ...\n",
      "[youtube] BBJgf1wAD04: Downloading ios player API JSON\n"
     ]
    },
    {
     "name": "stderr",
     "output_type": "stream",
     "text": [
      "ERROR: [youtube] BBJgf1wAD04: Video unavailable\n"
     ]
    },
    {
     "name": "stdout",
     "output_type": "stream",
     "text": [
      "Error downloading https://www.youtube.com/watch?v=BBJgf1wAD04 with IMDB ID tt0140336: ERROR: [youtube] BBJgf1wAD04: Video unavailable\n",
      "File /Users/kyleandrecastro/Library/CloudStorage/OneDrive-ust.edu.ph/videos/tt3315342.mp4 already exists. Skipping download.\n",
      "File /Users/kyleandrecastro/Library/CloudStorage/OneDrive-ust.edu.ph/videos/tt0385056.mp4 already exists. Skipping download.\n",
      "File /Users/kyleandrecastro/Library/CloudStorage/OneDrive-ust.edu.ph/videos/tt0113690.mp4 already exists. Skipping download.\n",
      "File /Users/kyleandrecastro/Library/CloudStorage/OneDrive-ust.edu.ph/videos/tt0335266.mp4 already exists. Skipping download.\n",
      "File /Users/kyleandrecastro/Library/CloudStorage/OneDrive-ust.edu.ph/videos/tt0116928.mp4 already exists. Skipping download.\n",
      "File /Users/kyleandrecastro/Library/CloudStorage/OneDrive-ust.edu.ph/videos/tt6261048.mp4 already exists. Skipping download.\n",
      "File /Users/kyleandrecastro/Library/CloudStorage/OneDrive-ust.edu.ph/videos/tt1150947.mp4 already exists. Skipping download.\n",
      "File /Users/kyleandrecastro/Library/CloudStorage/OneDrive-ust.edu.ph/videos/tt1129381.mp4 already exists. Skipping download.\n",
      "[youtube] Extracting URL: https://www.youtube.com/watch?v=ynVs8PsMRsk\n",
      "[youtube] ynVs8PsMRsk: Downloading webpage\n",
      "[youtube] Sleeping 1 seconds ...\n",
      "[youtube] ynVs8PsMRsk: Downloading ios player API JSON\n"
     ]
    },
    {
     "name": "stderr",
     "output_type": "stream",
     "text": [
      "ERROR: [youtube] ynVs8PsMRsk: Video unavailable. The uploader has not made this video available in your country\n"
     ]
    },
    {
     "name": "stdout",
     "output_type": "stream",
     "text": [
      "Error downloading https://www.youtube.com/watch?v=ynVs8PsMRsk with IMDB ID tt7248248: ERROR: [youtube] ynVs8PsMRsk: Video unavailable. The uploader has not made this video available in your country\n",
      "File /Users/kyleandrecastro/Library/CloudStorage/OneDrive-ust.edu.ph/videos/tt2002718.mp4 already exists. Skipping download.\n",
      "File /Users/kyleandrecastro/Library/CloudStorage/OneDrive-ust.edu.ph/videos/tt0951216.mp4 already exists. Skipping download.\n",
      "File /Users/kyleandrecastro/Library/CloudStorage/OneDrive-ust.edu.ph/videos/tt0351283.mp4 already exists. Skipping download.\n",
      "File /Users/kyleandrecastro/Library/CloudStorage/OneDrive-ust.edu.ph/videos/tt0479952.mp4 already exists. Skipping download.\n",
      "File /Users/kyleandrecastro/Library/CloudStorage/OneDrive-ust.edu.ph/videos/tt1142800.mp4 already exists. Skipping download.\n",
      "File /Users/kyleandrecastro/Library/CloudStorage/OneDrive-ust.edu.ph/videos/tt0363276.mp4 already exists. Skipping download.\n",
      "File /Users/kyleandrecastro/Library/CloudStorage/OneDrive-ust.edu.ph/videos/tt0113737.mp4 already exists. Skipping download.\n",
      "File /Users/kyleandrecastro/Library/CloudStorage/OneDrive-ust.edu.ph/videos/tt1587310.mp4 already exists. Skipping download.\n",
      "File /Users/kyleandrecastro/Library/CloudStorage/OneDrive-ust.edu.ph/videos/tt0795421.mp4 already exists. Skipping download.\n",
      "File /Users/kyleandrecastro/Library/CloudStorage/OneDrive-ust.edu.ph/videos/tt0489225.mp4 already exists. Skipping download.\n",
      "File /Users/kyleandrecastro/Library/CloudStorage/OneDrive-ust.edu.ph/videos/tt0483726.mp4 already exists. Skipping download.\n",
      "File /Users/kyleandrecastro/Library/CloudStorage/OneDrive-ust.edu.ph/videos/tt1155592.mp4 already exists. Skipping download.\n",
      "File /Users/kyleandrecastro/Library/CloudStorage/OneDrive-ust.edu.ph/videos/tt1082853.mp4 already exists. Skipping download.\n",
      "File /Users/kyleandrecastro/Library/CloudStorage/OneDrive-ust.edu.ph/videos/tt1866197.mp4 already exists. Skipping download.\n",
      "File /Users/kyleandrecastro/Library/CloudStorage/OneDrive-ust.edu.ph/videos/tt2172584.mp4 already exists. Skipping download.\n",
      "File /Users/kyleandrecastro/Library/CloudStorage/OneDrive-ust.edu.ph/videos/tt0422720.mp4 already exists. Skipping download.\n",
      "File /Users/kyleandrecastro/Library/CloudStorage/OneDrive-ust.edu.ph/videos/tt0822832.mp4 already exists. Skipping download.\n",
      "File /Users/kyleandrecastro/Library/CloudStorage/OneDrive-ust.edu.ph/videos/tt1392197.mp4 already exists. Skipping download.\n",
      "File /Users/kyleandrecastro/Library/CloudStorage/OneDrive-ust.edu.ph/videos/tt0804505.mp4 already exists. Skipping download.\n",
      "File /Users/kyleandrecastro/Library/CloudStorage/OneDrive-ust.edu.ph/videos/tt1305591.mp4 already exists. Skipping download.\n",
      "File /Users/kyleandrecastro/Library/CloudStorage/OneDrive-ust.edu.ph/videos/tt0415965.mp4 already exists. Skipping download.\n",
      "File /Users/kyleandrecastro/Library/CloudStorage/OneDrive-ust.edu.ph/videos/tt0416320.mp4 already exists. Skipping download.\n",
      "File /Users/kyleandrecastro/Library/CloudStorage/OneDrive-ust.edu.ph/videos/tt0433412.mp4 already exists. Skipping download.\n",
      "File /Users/kyleandrecastro/Library/CloudStorage/OneDrive-ust.edu.ph/videos/tt0467197.mp4 already exists. Skipping download.\n",
      "File /Users/kyleandrecastro/Library/CloudStorage/OneDrive-ust.edu.ph/videos/tt0117011.mp4 already exists. Skipping download.\n",
      "File /Users/kyleandrecastro/Library/CloudStorage/OneDrive-ust.edu.ph/videos/tt0303361.mp4 already exists. Skipping download.\n",
      "File /Users/kyleandrecastro/Library/CloudStorage/OneDrive-ust.edu.ph/videos/tt2097298.mp4 already exists. Skipping download.\n",
      "File /Users/kyleandrecastro/Library/CloudStorage/OneDrive-ust.edu.ph/videos/tt0377091.mp4 already exists. Skipping download.\n",
      "File /Users/kyleandrecastro/Library/CloudStorage/OneDrive-ust.edu.ph/videos/tt0377092.mp4 already exists. Skipping download.\n",
      "File /Users/kyleandrecastro/Library/CloudStorage/OneDrive-ust.edu.ph/videos/tt0079540.mp4 already exists. Skipping download.\n",
      "[youtube] Extracting URL: https://www.youtube.com/watch?v=Pj_6GEC0wv0\n",
      "[youtube] Pj_6GEC0wv0: Downloading webpage\n",
      "[youtube] Sleeping 1 seconds ...\n",
      "[youtube] Pj_6GEC0wv0: Downloading ios player API JSON\n"
     ]
    },
    {
     "name": "stderr",
     "output_type": "stream",
     "text": [
      "ERROR: [youtube] Pj_6GEC0wv0: Video unavailable. This video is no longer available because the YouTube account associated with this video has been terminated.\n"
     ]
    },
    {
     "name": "stdout",
     "output_type": "stream",
     "text": [
      "Error downloading https://www.youtube.com/watch?v=Pj_6GEC0wv0 with IMDB ID tt0104839: ERROR: [youtube] Pj_6GEC0wv0: Video unavailable. This video is no longer available because the YouTube account associated with this video has been terminated.\n",
      "File /Users/kyleandrecastro/Library/CloudStorage/OneDrive-ust.edu.ph/videos/tt0765476.mp4 already exists. Skipping download.\n",
      "File /Users/kyleandrecastro/Library/CloudStorage/OneDrive-ust.edu.ph/videos/tt1047494.mp4 already exists. Skipping download.\n",
      "File /Users/kyleandrecastro/Library/CloudStorage/OneDrive-ust.edu.ph/videos/tt0212338.mp4 already exists. Skipping download.\n",
      "File /Users/kyleandrecastro/Library/CloudStorage/OneDrive-ust.edu.ph/videos/tt1001526.mp4 already exists. Skipping download.\n",
      "File /Users/kyleandrecastro/Library/CloudStorage/OneDrive-ust.edu.ph/videos/tt0120912.mp4 already exists. Skipping download.\n",
      "File /Users/kyleandrecastro/Library/CloudStorage/OneDrive-ust.edu.ph/videos/tt1728979.mp4 already exists. Skipping download.\n",
      "File /Users/kyleandrecastro/Library/CloudStorage/OneDrive-ust.edu.ph/videos/tt1299653.mp4 already exists. Skipping download.\n",
      "File /Users/kyleandrecastro/Library/CloudStorage/OneDrive-ust.edu.ph/videos/tt2370518.mp4 already exists. Skipping download.\n",
      "File /Users/kyleandrecastro/Library/CloudStorage/OneDrive-ust.edu.ph/videos/tt1634003.mp4 already exists. Skipping download.\n",
      "File /Users/kyleandrecastro/Library/CloudStorage/OneDrive-ust.edu.ph/videos/tt4981636.mp4 already exists. Skipping download.\n",
      "File /Users/kyleandrecastro/Library/CloudStorage/OneDrive-ust.edu.ph/videos/tt2823054.mp4 already exists. Skipping download.\n",
      "File /Users/kyleandrecastro/Library/CloudStorage/OneDrive-ust.edu.ph/videos/tt4560436.mp4 already exists. Skipping download.\n",
      "File /Users/kyleandrecastro/Library/CloudStorage/OneDrive-ust.edu.ph/videos/tt1013753.mp4 already exists. Skipping download.\n",
      "File /Users/kyleandrecastro/Library/CloudStorage/OneDrive-ust.edu.ph/videos/tt1647668.mp4 already exists. Skipping download.\n",
      "File /Users/kyleandrecastro/Library/CloudStorage/OneDrive-ust.edu.ph/videos/tt0366777.mp4 already exists. Skipping download.\n",
      "[youtube] Extracting URL: https://www.youtube.com/watch?v=aNwMZevCiyc\n",
      "[youtube] aNwMZevCiyc: Downloading webpage\n",
      "[youtube] Sleeping 1 seconds ...\n",
      "[youtube] aNwMZevCiyc: Downloading ios player API JSON\n"
     ]
    },
    {
     "name": "stderr",
     "output_type": "stream",
     "text": [
      "ERROR: [youtube] aNwMZevCiyc: Private video. Sign in if you've been granted access to this video\n"
     ]
    },
    {
     "name": "stdout",
     "output_type": "stream",
     "text": [
      "Error downloading https://www.youtube.com/watch?v=aNwMZevCiyc with IMDB ID tt1720164: ERROR: [youtube] aNwMZevCiyc: Private video. Sign in if you've been granted access to this video\n",
      "File /Users/kyleandrecastro/Library/CloudStorage/OneDrive-ust.edu.ph/videos/tt1046997.mp4 already exists. Skipping download.\n",
      "File /Users/kyleandrecastro/Library/CloudStorage/OneDrive-ust.edu.ph/videos/tt0100156.mp4 already exists. Skipping download.\n",
      "File /Users/kyleandrecastro/Library/CloudStorage/OneDrive-ust.edu.ph/videos/tt0790686.mp4 already exists. Skipping download.\n",
      "File /Users/kyleandrecastro/Library/CloudStorage/OneDrive-ust.edu.ph/videos/tt1151922.mp4 already exists. Skipping download.\n",
      "File /Users/kyleandrecastro/Library/CloudStorage/OneDrive-ust.edu.ph/videos/tt0970468.mp4 already exists. Skipping download.\n",
      "File /Users/kyleandrecastro/Library/CloudStorage/OneDrive-ust.edu.ph/videos/tt0117060.mp4 already exists. Skipping download.\n",
      "File /Users/kyleandrecastro/Library/CloudStorage/OneDrive-ust.edu.ph/videos/tt0926110.mp4 already exists. Skipping download.\n",
      "File /Users/kyleandrecastro/Library/CloudStorage/OneDrive-ust.edu.ph/videos/tt0082766.mp4 already exists. Skipping download.\n",
      "File /Users/kyleandrecastro/Library/CloudStorage/OneDrive-ust.edu.ph/videos/tt0304415.mp4 already exists. Skipping download.\n",
      "File /Users/kyleandrecastro/Library/CloudStorage/OneDrive-ust.edu.ph/videos/tt3660770.mp4 already exists. Skipping download.\n",
      "File /Users/kyleandrecastro/Library/CloudStorage/OneDrive-ust.edu.ph/videos/tt0340855.mp4 already exists. Skipping download.\n",
      "File /Users/kyleandrecastro/Library/CloudStorage/OneDrive-ust.edu.ph/videos/tt1182345.mp4 already exists. Skipping download.\n",
      "File /Users/kyleandrecastro/Library/CloudStorage/OneDrive-ust.edu.ph/videos/tt2718440.mp4 already exists. Skipping download.\n",
      "File /Users/kyleandrecastro/Library/CloudStorage/OneDrive-ust.edu.ph/videos/tt1198405.mp4 already exists. Skipping download.\n",
      "[youtube] Extracting URL: https://www.youtube.com/watch?v=bxFoRCvEjUA\n",
      "[youtube] bxFoRCvEjUA: Downloading webpage\n",
      "[youtube] Sleeping 1 seconds ...\n",
      "[youtube] bxFoRCvEjUA: Downloading ios player API JSON\n"
     ]
    },
    {
     "name": "stderr",
     "output_type": "stream",
     "text": [
      "ERROR: [youtube] bxFoRCvEjUA: Video unavailable. The uploader has not made this video available in your country\n"
     ]
    },
    {
     "name": "stdout",
     "output_type": "stream",
     "text": [
      "Error downloading https://www.youtube.com/watch?v=bxFoRCvEjUA with IMDB ID tt0113855: ERROR: [youtube] bxFoRCvEjUA: Video unavailable. The uploader has not made this video available in your country\n",
      "File /Users/kyleandrecastro/Library/CloudStorage/OneDrive-ust.edu.ph/videos/tt1333125.mp4 already exists. Skipping download.\n",
      "File /Users/kyleandrecastro/Library/CloudStorage/OneDrive-ust.edu.ph/videos/tt0356910.mp4 already exists. Skipping download.\n",
      "File /Users/kyleandrecastro/Library/CloudStorage/OneDrive-ust.edu.ph/videos/tt0339412.mp4 already exists. Skipping download.\n",
      "File /Users/kyleandrecastro/Library/CloudStorage/OneDrive-ust.edu.ph/videos/tt0280590.mp4 already exists. Skipping download.\n",
      "File /Users/kyleandrecastro/Library/CloudStorage/OneDrive-ust.edu.ph/videos/tt3168230.mp4 already exists. Skipping download.\n",
      "File /Users/kyleandrecastro/Library/CloudStorage/OneDrive-ust.edu.ph/videos/tt0419984.mp4 already exists. Skipping download.\n",
      "File /Users/kyleandrecastro/Library/CloudStorage/OneDrive-ust.edu.ph/videos/tt2207484.mp4 already exists. Skipping download.\n",
      "File /Users/kyleandrecastro/Library/CloudStorage/OneDrive-ust.edu.ph/videos/tt5084170.mp4 already exists. Skipping download.\n",
      "File /Users/kyleandrecastro/Library/CloudStorage/OneDrive-ust.edu.ph/videos/tt0140397.mp4 already exists. Skipping download.\n",
      "File /Users/kyleandrecastro/Library/CloudStorage/OneDrive-ust.edu.ph/videos/tt0113870.mp4 already exists. Skipping download.\n",
      "File /Users/kyleandrecastro/Library/CloudStorage/OneDrive-ust.edu.ph/videos/tt1790825.mp4 already exists. Skipping download.\n",
      "File /Users/kyleandrecastro/Library/CloudStorage/OneDrive-ust.edu.ph/videos/tt2492916.mp4 already exists. Skipping download.\n",
      "File /Users/kyleandrecastro/Library/CloudStorage/OneDrive-ust.edu.ph/videos/tt0422783.mp4 already exists. Skipping download.\n",
      "File /Users/kyleandrecastro/Library/CloudStorage/OneDrive-ust.edu.ph/videos/tt0042767.mp4 already exists. Skipping download.\n",
      "[youtube] Extracting URL: https://www.youtube.com/watch?v=msUrUTdPluw\n",
      "[youtube] msUrUTdPluw: Downloading webpage\n",
      "[youtube] Sleeping 1 seconds ...\n",
      "[youtube] msUrUTdPluw: Downloading ios player API JSON\n"
     ]
    },
    {
     "name": "stderr",
     "output_type": "stream",
     "text": [
      "ERROR: [youtube] msUrUTdPluw: Video unavailable. This video is no longer available because the YouTube account associated with this video has been terminated.\n"
     ]
    },
    {
     "name": "stdout",
     "output_type": "stream",
     "text": [
      "Error downloading https://www.youtube.com/watch?v=msUrUTdPluw with IMDB ID tt0089652: ERROR: [youtube] msUrUTdPluw: Video unavailable. This video is no longer available because the YouTube account associated with this video has been terminated.\n",
      "File /Users/kyleandrecastro/Library/CloudStorage/OneDrive-ust.edu.ph/videos/tt0382189.mp4 already exists. Skipping download.\n",
      "File /Users/kyleandrecastro/Library/CloudStorage/OneDrive-ust.edu.ph/videos/tt0370986.mp4 already exists. Skipping download.\n",
      "File /Users/kyleandrecastro/Library/CloudStorage/OneDrive-ust.edu.ph/videos/tt0457510.mp4 already exists. Skipping download.\n",
      "File /Users/kyleandrecastro/Library/CloudStorage/OneDrive-ust.edu.ph/videos/tt0102511.mp4 already exists. Skipping download.\n",
      "File /Users/kyleandrecastro/Library/CloudStorage/OneDrive-ust.edu.ph/videos/tt0893356.mp4 already exists. Skipping download.\n",
      "File /Users/kyleandrecastro/Library/CloudStorage/OneDrive-ust.edu.ph/videos/tt0396752.mp4 already exists. Skipping download.\n",
      "File /Users/kyleandrecastro/Library/CloudStorage/OneDrive-ust.edu.ph/videos/tt1415283.mp4 already exists. Skipping download.\n",
      "File /Users/kyleandrecastro/Library/CloudStorage/OneDrive-ust.edu.ph/videos/tt0374900.mp4 already exists. Skipping download.\n",
      "File /Users/kyleandrecastro/Library/CloudStorage/OneDrive-ust.edu.ph/videos/tt2504022.mp4 already exists. Skipping download.\n",
      "File /Users/kyleandrecastro/Library/CloudStorage/OneDrive-ust.edu.ph/videos/tt0465234.mp4 already exists. Skipping download.\n",
      "File /Users/kyleandrecastro/Library/CloudStorage/OneDrive-ust.edu.ph/videos/tt1493157.mp4 already exists. Skipping download.\n",
      "File /Users/kyleandrecastro/Library/CloudStorage/OneDrive-ust.edu.ph/videos/tt1362103.mp4 already exists. Skipping download.\n",
      "File /Users/kyleandrecastro/Library/CloudStorage/OneDrive-ust.edu.ph/videos/tt4438848.mp4 already exists. Skipping download.\n",
      "File /Users/kyleandrecastro/Library/CloudStorage/OneDrive-ust.edu.ph/videos/tt7690016.mp4 already exists. Skipping download.\n",
      "File /Users/kyleandrecastro/Library/CloudStorage/OneDrive-ust.edu.ph/videos/tt1307989.mp4 already exists. Skipping download.\n",
      "File /Users/kyleandrecastro/Library/CloudStorage/OneDrive-ust.edu.ph/videos/tt0113965.mp4 already exists. Skipping download.\n",
      "File /Users/kyleandrecastro/Library/CloudStorage/OneDrive-ust.edu.ph/videos/tt0418004.mp4 already exists. Skipping download.\n",
      "File /Users/kyleandrecastro/Library/CloudStorage/OneDrive-ust.edu.ph/videos/tt0104990.mp4 already exists. Skipping download.\n",
      "File /Users/kyleandrecastro/Library/CloudStorage/OneDrive-ust.edu.ph/videos/tt0435705.mp4 already exists. Skipping download.\n",
      "File /Users/kyleandrecastro/Library/CloudStorage/OneDrive-ust.edu.ph/videos/tt1097013.mp4 already exists. Skipping download.\n",
      "File /Users/kyleandrecastro/Library/CloudStorage/OneDrive-ust.edu.ph/videos/tt0337930.mp4 already exists. Skipping download.\n",
      "File /Users/kyleandrecastro/Library/CloudStorage/OneDrive-ust.edu.ph/videos/tt0042788.mp4 already exists. Skipping download.\n",
      "File /Users/kyleandrecastro/Library/CloudStorage/OneDrive-ust.edu.ph/videos/tt1078912.mp4 already exists. Skipping download.\n",
      "File /Users/kyleandrecastro/Library/CloudStorage/OneDrive-ust.edu.ph/videos/tt0093624.mp4 already exists. Skipping download.\n",
      "File /Users/kyleandrecastro/Library/CloudStorage/OneDrive-ust.edu.ph/videos/tt0460883.mp4 already exists. Skipping download.\n",
      "File /Users/kyleandrecastro/Library/CloudStorage/OneDrive-ust.edu.ph/videos/tt2872718.mp4 already exists. Skipping download.\n",
      "File /Users/kyleandrecastro/Library/CloudStorage/OneDrive-ust.edu.ph/videos/tt1186367.mp4 already exists. Skipping download.\n",
      "File /Users/kyleandrecastro/Library/CloudStorage/OneDrive-ust.edu.ph/videos/tt0477348.mp4 already exists. Skipping download.\n",
      "File /Users/kyleandrecastro/Library/CloudStorage/OneDrive-ust.edu.ph/videos/tt0292610.mp4 already exists. Skipping download.\n",
      "File /Users/kyleandrecastro/Library/CloudStorage/OneDrive-ust.edu.ph/videos/tt1763264.mp4 already exists. Skipping download.\n",
      "File /Users/kyleandrecastro/Library/CloudStorage/OneDrive-ust.edu.ph/videos/tt8097306.mp4 already exists. Skipping download.\n",
      "[youtube:tab] Extracting URL: https://www.youtube.com/watch?v=eZLR8KUE8II&list=PLelK7aEMtfK2UinH2cmCdy-4beZh2yfru&index=54&t=0s\n",
      "[youtube:tab] Downloading just the video eZLR8KUE8II because of --no-playlist\n",
      "[youtube] Extracting URL: https://www.youtube.com/watch?v=eZLR8KUE8II\n",
      "[youtube] eZLR8KUE8II: Downloading webpage\n",
      "[youtube] Sleeping 1 seconds ...\n",
      "[youtube] eZLR8KUE8II: Downloading ios player API JSON\n"
     ]
    },
    {
     "name": "stderr",
     "output_type": "stream",
     "text": [
      "ERROR: [youtube] eZLR8KUE8II: Video unavailable. This video has been removed by the uploader\n"
     ]
    },
    {
     "name": "stdout",
     "output_type": "stream",
     "text": [
      "Error downloading https://www.youtube.com/watch?v=eZLR8KUE8II&list=PLelK7aEMtfK2UinH2cmCdy-4beZh2yfru&index=54&t=0s with IMDB ID tt0220827: ERROR: [youtube] eZLR8KUE8II: Video unavailable. This video has been removed by the uploader\n",
      "File /Users/kyleandrecastro/Library/CloudStorage/OneDrive-ust.edu.ph/videos/tt0477051.mp4 already exists. Skipping download.\n",
      "File /Users/kyleandrecastro/Library/CloudStorage/OneDrive-ust.edu.ph/videos/tt1127221.mp4 already exists. Skipping download.\n",
      "File /Users/kyleandrecastro/Library/CloudStorage/OneDrive-ust.edu.ph/videos/tt1073241.mp4 already exists. Skipping download.\n",
      "File /Users/kyleandrecastro/Library/CloudStorage/OneDrive-ust.edu.ph/videos/tt0472198.mp4 already exists. Skipping download.\n",
      "File /Users/kyleandrecastro/Library/CloudStorage/OneDrive-ust.edu.ph/videos/tt0125439.mp4 already exists. Skipping download.\n",
      "File /Users/kyleandrecastro/Library/CloudStorage/OneDrive-ust.edu.ph/videos/tt0107711.mp4 already exists. Skipping download.\n",
      "[youtube] Extracting URL: https://www.youtube.com/watch?v=eW9Xo2HtlJI\n",
      "[youtube] eW9Xo2HtlJI: Downloading webpage\n",
      "[youtube] Sleeping 1 seconds ...\n",
      "[youtube] eW9Xo2HtlJI: Downloading ios player API JSON\n"
     ]
    },
    {
     "name": "stderr",
     "output_type": "stream",
     "text": [
      "ERROR: [youtube] eW9Xo2HtlJI: Video unavailable. This video is not available\n"
     ]
    },
    {
     "name": "stdout",
     "output_type": "stream",
     "text": [
      "Error downloading https://www.youtube.com/watch?v=eW9Xo2HtlJI with IMDB ID tt0190590: ERROR: [youtube] eW9Xo2HtlJI: Video unavailable. This video is not available\n",
      "File /Users/kyleandrecastro/Library/CloudStorage/OneDrive-ust.edu.ph/videos/tt1198138.mp4 already exists. Skipping download.\n",
      "File /Users/kyleandrecastro/Library/CloudStorage/OneDrive-ust.edu.ph/videos/tt0074991.mp4 already exists. Skipping download.\n",
      "File /Users/kyleandrecastro/Library/CloudStorage/OneDrive-ust.edu.ph/videos/tt0284363.mp4 already exists. Skipping download.\n",
      "File /Users/kyleandrecastro/Library/CloudStorage/OneDrive-ust.edu.ph/videos/tt0765128.mp4 already exists. Skipping download.\n",
      "File /Users/kyleandrecastro/Library/CloudStorage/OneDrive-ust.edu.ph/videos/tt6251024.mp4 already exists. Skipping download.\n",
      "File /Users/kyleandrecastro/Library/CloudStorage/OneDrive-ust.edu.ph/videos/tt0364569.mp4 already exists. Skipping download.\n",
      "File /Users/kyleandrecastro/Library/CloudStorage/OneDrive-ust.edu.ph/videos/tt0040662.mp4 already exists. Skipping download.\n",
      "File /Users/kyleandrecastro/Library/CloudStorage/OneDrive-ust.edu.ph/videos/tt1087524.mp4 already exists. Skipping download.\n",
      "File /Users/kyleandrecastro/Library/CloudStorage/OneDrive-ust.edu.ph/videos/tt4002772.mp4 already exists. Skipping download.\n",
      "File /Users/kyleandrecastro/Library/CloudStorage/OneDrive-ust.edu.ph/videos/tt0285823.mp4 already exists. Skipping download.\n",
      "File /Users/kyleandrecastro/Library/CloudStorage/OneDrive-ust.edu.ph/videos/tt2515086.mp4 already exists. Skipping download.\n",
      "File /Users/kyleandrecastro/Library/CloudStorage/OneDrive-ust.edu.ph/videos/tt0117247.mp4 already exists. Skipping download.\n",
      "File /Users/kyleandrecastro/Library/CloudStorage/OneDrive-ust.edu.ph/videos/tt0102593.mp4 already exists. Skipping download.\n",
      "File /Users/kyleandrecastro/Library/CloudStorage/OneDrive-ust.edu.ph/videos/tt0479968.mp4 already exists. Skipping download.\n",
      "File /Users/kyleandrecastro/Library/CloudStorage/OneDrive-ust.edu.ph/videos/tt1602613.mp4 already exists. Skipping download.\n",
      "File /Users/kyleandrecastro/Library/CloudStorage/OneDrive-ust.edu.ph/videos/tt1107365.mp4 already exists. Skipping download.\n",
      "File /Users/kyleandrecastro/Library/CloudStorage/OneDrive-ust.edu.ph/videos/tt1646926.mp4 already exists. Skipping download.\n",
      "File /Users/kyleandrecastro/Library/CloudStorage/OneDrive-ust.edu.ph/videos/tt4938374.mp4 already exists. Skipping download.\n",
      "File /Users/kyleandrecastro/Library/CloudStorage/OneDrive-ust.edu.ph/videos/tt0374102.mp4 already exists. Skipping download.\n",
      "File /Users/kyleandrecastro/Library/CloudStorage/OneDrive-ust.edu.ph/videos/tt0470055.mp4 already exists. Skipping download.\n",
      "File /Users/kyleandrecastro/Library/CloudStorage/OneDrive-ust.edu.ph/videos/tt4156972.mp4 already exists. Skipping download.\n",
      "File /Users/kyleandrecastro/Library/CloudStorage/OneDrive-ust.edu.ph/videos/tt0273923.mp4 already exists. Skipping download.\n",
      "[youtube:tab] Extracting URL: https://www.youtube.com/watch?v=VXH2Cfere4Q&list=PLelK7aEMtfK2UinH2cmCdy-4beZh2yfru&index=56\n",
      "[youtube:tab] Downloading just the video VXH2Cfere4Q because of --no-playlist\n",
      "[youtube] Extracting URL: https://www.youtube.com/watch?v=VXH2Cfere4Q\n",
      "[youtube] VXH2Cfere4Q: Downloading webpage\n",
      "[youtube] Sleeping 1 seconds ...\n",
      "[youtube] VXH2Cfere4Q: Downloading ios player API JSON\n"
     ]
    },
    {
     "name": "stderr",
     "output_type": "stream",
     "text": [
      "ERROR: [youtube] VXH2Cfere4Q: Video unavailable. This video has been removed by the uploader\n"
     ]
    },
    {
     "name": "stdout",
     "output_type": "stream",
     "text": [
      "Error downloading https://www.youtube.com/watch?v=VXH2Cfere4Q&list=PLelK7aEMtfK2UinH2cmCdy-4beZh2yfru&index=56 with IMDB ID tt5162658: ERROR: [youtube] VXH2Cfere4Q: Video unavailable. This video has been removed by the uploader\n",
      "File /Users/kyleandrecastro/Library/CloudStorage/OneDrive-ust.edu.ph/videos/tt1148204.mp4 already exists. Skipping download.\n",
      "File /Users/kyleandrecastro/Library/CloudStorage/OneDrive-ust.edu.ph/videos/tt0323531.mp4 already exists. Skipping download.\n",
      "File /Users/kyleandrecastro/Library/CloudStorage/OneDrive-ust.edu.ph/videos/tt3491962.mp4 already exists. Skipping download.\n",
      "File /Users/kyleandrecastro/Library/CloudStorage/OneDrive-ust.edu.ph/videos/tt1049400.mp4 already exists. Skipping download.\n",
      "File /Users/kyleandrecastro/Library/CloudStorage/OneDrive-ust.edu.ph/videos/tt0785007.mp4 already exists. Skipping download.\n",
      "File /Users/kyleandrecastro/Library/CloudStorage/OneDrive-ust.edu.ph/videos/tt0431308.mp4 already exists. Skipping download.\n",
      "File /Users/kyleandrecastro/Library/CloudStorage/OneDrive-ust.edu.ph/videos/tt0804516.mp4 already exists. Skipping download.\n",
      "File /Users/kyleandrecastro/Library/CloudStorage/OneDrive-ust.edu.ph/videos/tt1109624.mp4 already exists. Skipping download.\n",
      "File /Users/kyleandrecastro/Library/CloudStorage/OneDrive-ust.edu.ph/videos/tt0259484.mp4 already exists. Skipping download.\n",
      "File /Users/kyleandrecastro/Library/CloudStorage/OneDrive-ust.edu.ph/videos/tt1980209.mp4 already exists. Skipping download.\n",
      "File /Users/kyleandrecastro/Library/CloudStorage/OneDrive-ust.edu.ph/videos/tt0258000.mp4 already exists. Skipping download.\n",
      "File /Users/kyleandrecastro/Library/CloudStorage/OneDrive-ust.edu.ph/videos/tt1331064.mp4 already exists. Skipping download.\n",
      "File /Users/kyleandrecastro/Library/CloudStorage/OneDrive-ust.edu.ph/videos/tt0445620.mp4 already exists. Skipping download.\n",
      "File /Users/kyleandrecastro/Library/CloudStorage/OneDrive-ust.edu.ph/videos/tt0842929.mp4 already exists. Skipping download.\n",
      "File /Users/kyleandrecastro/Library/CloudStorage/OneDrive-ust.edu.ph/videos/tt0098067.mp4 already exists. Skipping download.\n",
      "File /Users/kyleandrecastro/Library/CloudStorage/OneDrive-ust.edu.ph/videos/tt1796581.mp4 already exists. Skipping download.\n",
      "File /Users/kyleandrecastro/Library/CloudStorage/OneDrive-ust.edu.ph/videos/tt0964539.mp4 already exists. Skipping download.\n",
      "File /Users/kyleandrecastro/Library/CloudStorage/OneDrive-ust.edu.ph/videos/tt1114740.mp4 already exists. Skipping download.\n",
      "File /Users/kyleandrecastro/Library/CloudStorage/OneDrive-ust.edu.ph/videos/tt0284674.mp4 already exists. Skipping download.\n",
      "File /Users/kyleandrecastro/Library/CloudStorage/OneDrive-ust.edu.ph/videos/tt1741243.mp4 already exists. Skipping download.\n",
      "File /Users/kyleandrecastro/Library/CloudStorage/OneDrive-ust.edu.ph/videos/tt0338337.mp4 already exists. Skipping download.\n",
      "File /Users/kyleandrecastro/Library/CloudStorage/OneDrive-ust.edu.ph/videos/tt0438315.mp4 already exists. Skipping download.\n",
      "File /Users/kyleandrecastro/Library/CloudStorage/OneDrive-ust.edu.ph/videos/tt0472160.mp4 already exists. Skipping download.\n",
      "File /Users/kyleandrecastro/Library/CloudStorage/OneDrive-ust.edu.ph/videos/tt1911658.mp4 already exists. Skipping download.\n",
      "File /Users/kyleandrecastro/Library/CloudStorage/OneDrive-ust.edu.ph/videos/tt0274711.mp4 already exists. Skipping download.\n",
      "File /Users/kyleandrecastro/Library/CloudStorage/OneDrive-ust.edu.ph/videos/tt0396171.mp4 already exists. Skipping download.\n",
      "File /Users/kyleandrecastro/Library/CloudStorage/OneDrive-ust.edu.ph/videos/tt0079714.mp4 already exists. Skipping download.\n",
      "File /Users/kyleandrecastro/Library/CloudStorage/OneDrive-ust.edu.ph/videos/tt0117333.mp4 already exists. Skipping download.\n",
      "File /Users/kyleandrecastro/Library/CloudStorage/OneDrive-ust.edu.ph/videos/tt0183649.mp4 already exists. Skipping download.\n",
      "File /Users/kyleandrecastro/Library/CloudStorage/OneDrive-ust.edu.ph/videos/tt1076252.mp4 already exists. Skipping download.\n",
      "File /Users/kyleandrecastro/Library/CloudStorage/OneDrive-ust.edu.ph/videos/tt0311648.mp4 already exists. Skipping download.\n",
      "File /Users/kyleandrecastro/Library/CloudStorage/OneDrive-ust.edu.ph/videos/tt6516314.mp4 already exists. Skipping download.\n",
      "File /Users/kyleandrecastro/Library/CloudStorage/OneDrive-ust.edu.ph/videos/tt1543652.mp4 already exists. Skipping download.\n",
      "File /Users/kyleandrecastro/Library/CloudStorage/OneDrive-ust.edu.ph/videos/tt0910936.mp4 already exists. Skipping download.\n",
      "File /Users/kyleandrecastro/Library/CloudStorage/OneDrive-ust.edu.ph/videos/tt0991167.mp4 already exists. Skipping download.\n",
      "File /Users/kyleandrecastro/Library/CloudStorage/OneDrive-ust.edu.ph/videos/tt1714203.mp4 already exists. Skipping download.\n",
      "File /Users/kyleandrecastro/Library/CloudStorage/OneDrive-ust.edu.ph/videos/tt0082910.mp4 already exists. Skipping download.\n",
      "File /Users/kyleandrecastro/Library/CloudStorage/OneDrive-ust.edu.ph/videos/tt0477457.mp4 already exists. Skipping download.\n",
      "File /Users/kyleandrecastro/Library/CloudStorage/OneDrive-ust.edu.ph/videos/tt0325980.mp4 already exists. Skipping download.\n",
      "File /Users/kyleandrecastro/Library/CloudStorage/OneDrive-ust.edu.ph/videos/tt1014801.mp4 already exists. Skipping download.\n",
      "File /Users/kyleandrecastro/Library/CloudStorage/OneDrive-ust.edu.ph/videos/tt1691917.mp4 already exists. Skipping download.\n",
      "File /Users/kyleandrecastro/Library/CloudStorage/OneDrive-ust.edu.ph/videos/tt2980706.mp4 already exists. Skipping download.\n",
      "File /Users/kyleandrecastro/Library/CloudStorage/OneDrive-ust.edu.ph/videos/tt0762125.mp4 already exists. Skipping download.\n",
      "File /Users/kyleandrecastro/Library/CloudStorage/OneDrive-ust.edu.ph/videos/tt1124388.mp4 already exists. Skipping download.\n",
      "[youtube] Extracting URL: https://www.youtube.com/watch?v=o-2ejAnVHrQ\n",
      "[youtube] o-2ejAnVHrQ: Downloading webpage\n",
      "[youtube] Sleeping 1 seconds ...\n",
      "[youtube] o-2ejAnVHrQ: Downloading ios player API JSON\n"
     ]
    },
    {
     "name": "stderr",
     "output_type": "stream",
     "text": [
      "ERROR: [youtube] o-2ejAnVHrQ: Video unavailable. This video is not available\n"
     ]
    },
    {
     "name": "stdout",
     "output_type": "stream",
     "text": [
      "Error downloading https://www.youtube.com/watch?v=o-2ejAnVHrQ with IMDB ID tt1682940: ERROR: [youtube] o-2ejAnVHrQ: Video unavailable. This video is not available\n",
      "File /Users/kyleandrecastro/Library/CloudStorage/OneDrive-ust.edu.ph/videos/tt0906773.mp4 already exists. Skipping download.\n",
      "File /Users/kyleandrecastro/Library/CloudStorage/OneDrive-ust.edu.ph/videos/tt0119906.mp4 already exists. Skipping download.\n",
      "File /Users/kyleandrecastro/Library/CloudStorage/OneDrive-ust.edu.ph/videos/tt0134033.mp4 already exists. Skipping download.\n",
      "File /Users/kyleandrecastro/Library/CloudStorage/OneDrive-ust.edu.ph/videos/tt0102685.mp4 already exists. Skipping download.\n",
      "File /Users/kyleandrecastro/Library/CloudStorage/OneDrive-ust.edu.ph/videos/tt0273982.mp4 already exists. Skipping download.\n",
      "File /Users/kyleandrecastro/Library/CloudStorage/OneDrive-ust.edu.ph/videos/tt3960412.mp4 already exists. Skipping download.\n",
      "File /Users/kyleandrecastro/Library/CloudStorage/OneDrive-ust.edu.ph/videos/tt0256276.mp4 already exists. Skipping download.\n",
      "File /Users/kyleandrecastro/Library/CloudStorage/OneDrive-ust.edu.ph/videos/tt5918982.mp4 already exists. Skipping download.\n",
      "File /Users/kyleandrecastro/Library/CloudStorage/OneDrive-ust.edu.ph/videos/tt1142433.mp4 already exists. Skipping download.\n",
      "File /Users/kyleandrecastro/Library/CloudStorage/OneDrive-ust.edu.ph/videos/tt0477071.mp4 already exists. Skipping download.\n",
      "File /Users/kyleandrecastro/Library/CloudStorage/OneDrive-ust.edu.ph/videos/tt0475355.mp4 already exists. Skipping download.\n",
      "File /Users/kyleandrecastro/Library/CloudStorage/OneDrive-ust.edu.ph/videos/tt0482572.mp4 already exists. Skipping download.\n",
      "File /Users/kyleandrecastro/Library/CloudStorage/OneDrive-ust.edu.ph/videos/tt0772193.mp4 already exists. Skipping download.\n",
      "File /Users/kyleandrecastro/Library/CloudStorage/OneDrive-ust.edu.ph/videos/tt0100419.mp4 already exists. Skipping download.\n",
      "[youtube] Extracting URL: https://www.youtube.com/watch?v=K-XjDyQ_ZUw\n",
      "[youtube] K-XjDyQ_ZUw: Downloading webpage\n",
      "[youtube] Sleeping 1 seconds ...\n",
      "[youtube] K-XjDyQ_ZUw: Downloading ios player API JSON\n"
     ]
    },
    {
     "name": "stderr",
     "output_type": "stream",
     "text": [
      "ERROR: [youtube] K-XjDyQ_ZUw: Video unavailable. The uploader has not made this video available in your country\n"
     ]
    },
    {
     "name": "stdout",
     "output_type": "stream",
     "text": [
      "Error downloading https://www.youtube.com/watch?v=K-XjDyQ_ZUw with IMDB ID tt10327354: ERROR: [youtube] K-XjDyQ_ZUw: Video unavailable. The uploader has not made this video available in your country\n",
      "File /Users/kyleandrecastro/Library/CloudStorage/OneDrive-ust.edu.ph/videos/tt0926129.mp4 already exists. Skipping download.\n",
      "File /Users/kyleandrecastro/Library/CloudStorage/OneDrive-ust.edu.ph/videos/tt0377107.mp4 already exists. Skipping download.\n",
      "File /Users/kyleandrecastro/Library/CloudStorage/OneDrive-ust.edu.ph/videos/tt0228750.mp4 already exists. Skipping download.\n",
      "File /Users/kyleandrecastro/Library/CloudStorage/OneDrive-ust.edu.ph/videos/tt0079758.mp4 already exists. Skipping download.\n",
      "File /Users/kyleandrecastro/Library/CloudStorage/OneDrive-ust.edu.ph/videos/tt1135781.mp4 already exists. Skipping download.\n",
      "[imdb] Extracting URL: https://www.imdb.com/videoplayer/vi3372221209\n",
      "[imdb] 3372221209: Downloading webpage\n"
     ]
    },
    {
     "name": "stderr",
     "output_type": "stream",
     "text": [
      "ERROR: [imdb] 3372221209: Unable to download webpage: HTTP Error 404: Not Found (caused by <HTTPError 404: Not Found>)\n"
     ]
    },
    {
     "name": "stdout",
     "output_type": "stream",
     "text": [
      "Error downloading https://www.imdb.com/videoplayer/vi3372221209 with IMDB ID tt1152836: ERROR: [imdb] 3372221209: Unable to download webpage: HTTP Error 404: Not Found (caused by <HTTPError 404: Not Found>)\n",
      "File /Users/kyleandrecastro/Library/CloudStorage/OneDrive-ust.edu.ph/videos/tt1323946.mp4 already exists. Skipping download.\n",
      "File /Users/kyleandrecastro/Library/CloudStorage/OneDrive-ust.edu.ph/videos/tt0272338.mp4 already exists. Skipping download.\n",
      "File /Users/kyleandrecastro/Library/CloudStorage/OneDrive-ust.edu.ph/videos/tt0450314.mp4 already exists. Skipping download.\n",
      "File /Users/kyleandrecastro/Library/CloudStorage/OneDrive-ust.edu.ph/videos/tt0465580.mp4 already exists. Skipping download.\n",
      "File /Users/kyleandrecastro/Library/CloudStorage/OneDrive-ust.edu.ph/videos/tt0448694.mp4 already exists. Skipping download.\n",
      "File /Users/kyleandrecastro/Library/CloudStorage/OneDrive-ust.edu.ph/videos/tt0252444.mp4 already exists. Skipping download.\n",
      "File /Users/kyleandrecastro/Library/CloudStorage/OneDrive-ust.edu.ph/videos/tt1084950.mp4 already exists. Skipping download.\n",
      "File /Users/kyleandrecastro/Library/CloudStorage/OneDrive-ust.edu.ph/videos/tt2231461.mp4 already exists. Skipping download.\n",
      "File /Users/kyleandrecastro/Library/CloudStorage/OneDrive-ust.edu.ph/videos/tt0156934.mp4 already exists. Skipping download.\n",
      "[youtube:tab] Extracting URL: https://www.youtube.com/watch?v=Gnfe6fwKl8k&list=PLelK7aEMtfK2UinH2cmCdy-4beZh2yfru&index=81&t=0s\n",
      "[youtube:tab] Downloading just the video Gnfe6fwKl8k because of --no-playlist\n",
      "[youtube] Extracting URL: https://www.youtube.com/watch?v=Gnfe6fwKl8k\n",
      "[youtube] Gnfe6fwKl8k: Downloading webpage\n",
      "[youtube] Sleeping 1 seconds ...\n",
      "[youtube] Gnfe6fwKl8k: Downloading ios player API JSON\n"
     ]
    },
    {
     "name": "stderr",
     "output_type": "stream",
     "text": [
      "ERROR: [youtube] Gnfe6fwKl8k: Video unavailable. This video has been removed by the uploader\n"
     ]
    },
    {
     "name": "stdout",
     "output_type": "stream",
     "text": [
      "Error downloading https://www.youtube.com/watch?v=Gnfe6fwKl8k&list=PLelK7aEMtfK2UinH2cmCdy-4beZh2yfru&index=81&t=0s with IMDB ID tt4687276: ERROR: [youtube] Gnfe6fwKl8k: Video unavailable. This video has been removed by the uploader\n",
      "File /Users/kyleandrecastro/Library/CloudStorage/OneDrive-ust.edu.ph/videos/tt1879032.mp4 already exists. Skipping download.\n",
      "File /Users/kyleandrecastro/Library/CloudStorage/OneDrive-ust.edu.ph/videos/tt7650514.mp4 already exists. Skipping download.\n",
      "File /Users/kyleandrecastro/Library/CloudStorage/OneDrive-ust.edu.ph/videos/tt0350258.mp4 already exists. Skipping download.\n",
      "File /Users/kyleandrecastro/Library/CloudStorage/OneDrive-ust.edu.ph/videos/tt7798634.mp4 already exists. Skipping download.\n",
      "File /Users/kyleandrecastro/Library/CloudStorage/OneDrive-ust.edu.ph/videos/tt8045574.mp4 already exists. Skipping download.\n",
      "File /Users/kyleandrecastro/Library/CloudStorage/OneDrive-ust.edu.ph/videos/tt0110950.mp4 already exists. Skipping download.\n",
      "File /Users/kyleandrecastro/Library/CloudStorage/OneDrive-ust.edu.ph/videos/tt0376108.mp4 already exists. Skipping download.\n",
      "File /Users/kyleandrecastro/Library/CloudStorage/OneDrive-ust.edu.ph/videos/tt3264102.mp4 already exists. Skipping download.\n",
      "File /Users/kyleandrecastro/Library/CloudStorage/OneDrive-ust.edu.ph/videos/tt0119994.mp4 already exists. Skipping download.\n",
      "File /Users/kyleandrecastro/Library/CloudStorage/OneDrive-ust.edu.ph/videos/tt0937237.mp4 already exists. Skipping download.\n",
      "File /Users/kyleandrecastro/Library/CloudStorage/OneDrive-ust.edu.ph/videos/tt1012804.mp4 already exists. Skipping download.\n",
      "File /Users/kyleandrecastro/Library/CloudStorage/OneDrive-ust.edu.ph/videos/tt0490204.mp4 already exists. Skipping download.\n",
      "File /Users/kyleandrecastro/Library/CloudStorage/OneDrive-ust.edu.ph/videos/tt0815241.mp4 already exists. Skipping download.\n",
      "File /Users/kyleandrecastro/Library/CloudStorage/OneDrive-ust.edu.ph/videos/tt0210945.mp4 already exists. Skipping download.\n",
      "File /Users/kyleandrecastro/Library/CloudStorage/OneDrive-ust.edu.ph/videos/tt1493828.mp4 already exists. Skipping download.\n",
      "File /Users/kyleandrecastro/Library/CloudStorage/OneDrive-ust.edu.ph/videos/tt0804522.mp4 already exists. Skipping download.\n",
      "File /Users/kyleandrecastro/Library/CloudStorage/OneDrive-ust.edu.ph/videos/tt0963194.mp4 already exists. Skipping download.\n",
      "File /Users/kyleandrecastro/Library/CloudStorage/OneDrive-ust.edu.ph/videos/tt0180093.mp4 already exists. Skipping download.\n",
      "File /Users/kyleandrecastro/Library/CloudStorage/OneDrive-ust.edu.ph/videos/tt0105236.mp4 already exists. Skipping download.\n",
      "File /Users/kyleandrecastro/Library/CloudStorage/OneDrive-ust.edu.ph/videos/tt0120804.mp4 already exists. Skipping download.\n",
      "File /Users/kyleandrecastro/Library/CloudStorage/OneDrive-ust.edu.ph/videos/tt0318627.mp4 already exists. Skipping download.\n",
      "File /Users/kyleandrecastro/Library/CloudStorage/OneDrive-ust.edu.ph/videos/tt0441782.mp4 already exists. Skipping download.\n",
      "File /Users/kyleandrecastro/Library/CloudStorage/OneDrive-ust.edu.ph/videos/tt0411806.mp4 already exists. Skipping download.\n",
      "File /Users/kyleandrecastro/Library/CloudStorage/OneDrive-ust.edu.ph/videos/tt0046238.mp4 already exists. Skipping download.\n",
      "File /Users/kyleandrecastro/Library/CloudStorage/OneDrive-ust.edu.ph/videos/tt1837642.mp4 already exists. Skipping download.\n",
      "File /Users/kyleandrecastro/Library/CloudStorage/OneDrive-ust.edu.ph/videos/tt0365686.mp4 already exists. Skipping download.\n",
      "File /Users/kyleandrecastro/Library/CloudStorage/OneDrive-ust.edu.ph/videos/tt0114279.mp4 already exists. Skipping download.\n",
      "File /Users/kyleandrecastro/Library/CloudStorage/OneDrive-ust.edu.ph/videos/tt1411250.mp4 already exists. Skipping download.\n",
      "File /Users/kyleandrecastro/Library/CloudStorage/OneDrive-ust.edu.ph/videos/tt0355954.mp4 already exists. Skipping download.\n",
      "File /Users/kyleandrecastro/Library/CloudStorage/OneDrive-ust.edu.ph/videos/tt0469965.mp4 already exists. Skipping download.\n",
      "File /Users/kyleandrecastro/Library/CloudStorage/OneDrive-ust.edu.ph/videos/tt0117496.mp4 already exists. Skipping download.\n",
      "File /Users/kyleandrecastro/Library/CloudStorage/OneDrive-ust.edu.ph/videos/tt0358082.mp4 already exists. Skipping download.\n",
      "File /Users/kyleandrecastro/Library/CloudStorage/OneDrive-ust.edu.ph/videos/tt2822672.mp4 already exists. Skipping download.\n",
      "File /Users/kyleandrecastro/Library/CloudStorage/OneDrive-ust.edu.ph/videos/tt0477078.mp4 already exists. Skipping download.\n",
      "File /Users/kyleandrecastro/Library/CloudStorage/OneDrive-ust.edu.ph/videos/tt1032755.mp4 already exists. Skipping download.\n",
      "File /Users/kyleandrecastro/Library/CloudStorage/OneDrive-ust.edu.ph/videos/tt0479143.mp4 already exists. Skipping download.\n",
      "File /Users/kyleandrecastro/Library/CloudStorage/OneDrive-ust.edu.ph/videos/tt0299117.mp4 already exists. Skipping download.\n",
      "File /Users/kyleandrecastro/Library/CloudStorage/OneDrive-ust.edu.ph/videos/tt0479528.mp4 already exists. Skipping download.\n",
      "File /Users/kyleandrecastro/Library/CloudStorage/OneDrive-ust.edu.ph/videos/tt0114296.mp4 already exists. Skipping download.\n",
      "File /Users/kyleandrecastro/Library/CloudStorage/OneDrive-ust.edu.ph/videos/tt0298131.mp4 already exists. Skipping download.\n",
      "File /Users/kyleandrecastro/Library/CloudStorage/OneDrive-ust.edu.ph/videos/tt4799050.mp4 already exists. Skipping download.\n",
      "File /Users/kyleandrecastro/Library/CloudStorage/OneDrive-ust.edu.ph/videos/tt0337711.mp4 already exists. Skipping download.\n",
      "File /Users/kyleandrecastro/Library/CloudStorage/OneDrive-ust.edu.ph/videos/tt0086216.mp4 already exists. Skipping download.\n",
      "File /Users/kyleandrecastro/Library/CloudStorage/OneDrive-ust.edu.ph/videos/tt0398375.mp4 already exists. Skipping download.\n",
      "File /Users/kyleandrecastro/Library/CloudStorage/OneDrive-ust.edu.ph/videos/tt0163187.mp4 already exists. Skipping download.\n",
      "File /Users/kyleandrecastro/Library/CloudStorage/OneDrive-ust.edu.ph/videos/tt4435082.mp4 already exists. Skipping download.\n",
      "File /Users/kyleandrecastro/Library/CloudStorage/OneDrive-ust.edu.ph/videos/tt0439289.mp4 already exists. Skipping download.\n",
      "File /Users/kyleandrecastro/Library/CloudStorage/OneDrive-ust.edu.ph/videos/tt0120812.mp4 already exists. Skipping download.\n",
      "File /Users/kyleandrecastro/Library/CloudStorage/OneDrive-ust.edu.ph/videos/tt0266915.mp4 already exists. Skipping download.\n",
      "File /Users/kyleandrecastro/Library/CloudStorage/OneDrive-ust.edu.ph/videos/tt0293564.mp4 already exists. Skipping download.\n",
      "File /Users/kyleandrecastro/Library/CloudStorage/OneDrive-ust.edu.ph/videos/tt0449089.mp4 already exists. Skipping download.\n",
      "File /Users/kyleandrecastro/Library/CloudStorage/OneDrive-ust.edu.ph/videos/tt1231277.mp4 already exists. Skipping download.\n",
      "File /Users/kyleandrecastro/Library/CloudStorage/OneDrive-ust.edu.ph/videos/tt0257076.mp4 already exists. Skipping download.\n",
      "File /Users/kyleandrecastro/Library/CloudStorage/OneDrive-ust.edu.ph/videos/tt1742334.mp4 already exists. Skipping download.\n",
      "File /Users/kyleandrecastro/Library/CloudStorage/OneDrive-ust.edu.ph/videos/tt0353965.mp4 already exists. Skipping download.\n",
      "File /Users/kyleandrecastro/Library/CloudStorage/OneDrive-ust.edu.ph/videos/tt2449810.mp4 already exists. Skipping download.\n",
      "File /Users/kyleandrecastro/Library/CloudStorage/OneDrive-ust.edu.ph/videos/tt1700841.mp4 already exists. Skipping download.\n",
      "File /Users/kyleandrecastro/Library/CloudStorage/OneDrive-ust.edu.ph/videos/tt0206275.mp4 already exists. Skipping download.\n",
      "File /Users/kyleandrecastro/Library/CloudStorage/OneDrive-ust.edu.ph/videos/tt0432348.mp4 already exists. Skipping download.\n",
      "File /Users/kyleandrecastro/Library/CloudStorage/OneDrive-ust.edu.ph/videos/tt0489270.mp4 already exists. Skipping download.\n",
      "File /Users/kyleandrecastro/Library/CloudStorage/OneDrive-ust.edu.ph/videos/tt0890870.mp4 already exists. Skipping download.\n",
      "File /Users/kyleandrecastro/Library/CloudStorage/OneDrive-ust.edu.ph/videos/tt0081455.mp4 already exists. Skipping download.\n",
      "File /Users/kyleandrecastro/Library/CloudStorage/OneDrive-ust.edu.ph/videos/tt0105323.mp4 already exists. Skipping download.\n",
      "File /Users/kyleandrecastro/Library/CloudStorage/OneDrive-ust.edu.ph/videos/tt0081459.mp4 already exists. Skipping download.\n",
      "File /Users/kyleandrecastro/Library/CloudStorage/OneDrive-ust.edu.ph/videos/tt2179936.mp4 already exists. Skipping download.\n",
      "File /Users/kyleandrecastro/Library/CloudStorage/OneDrive-ust.edu.ph/videos/tt0054279.mp4 already exists. Skipping download.\n",
      "[youtube] Extracting URL: https://www.youtube.com/watch?v=ZMab7AzV310\n",
      "[youtube] ZMab7AzV310: Downloading webpage\n",
      "[youtube] Sleeping 1 seconds ...\n",
      "[youtube] ZMab7AzV310: Downloading ios player API JSON\n"
     ]
    },
    {
     "name": "stderr",
     "output_type": "stream",
     "text": [
      "ERROR: [youtube] ZMab7AzV310: Video unavailable. This video is not available\n"
     ]
    },
    {
     "name": "stdout",
     "output_type": "stream",
     "text": [
      "Error downloading https://www.youtube.com/watch?v=ZMab7AzV310 with IMDB ID tt2293750: ERROR: [youtube] ZMab7AzV310: Video unavailable. This video is not available\n",
      "File /Users/kyleandrecastro/Library/CloudStorage/OneDrive-ust.edu.ph/videos/tt0134084.mp4 already exists. Skipping download.\n",
      "File /Users/kyleandrecastro/Library/CloudStorage/OneDrive-ust.edu.ph/videos/tt1548628.mp4 already exists. Skipping download.\n",
      "File /Users/kyleandrecastro/Library/CloudStorage/OneDrive-ust.edu.ph/videos/tt0114367.mp4 already exists. Skipping download.\n",
      "File /Users/kyleandrecastro/Library/CloudStorage/OneDrive-ust.edu.ph/videos/tt1214983.mp4 already exists. Skipping download.\n",
      "File /Users/kyleandrecastro/Library/CloudStorage/OneDrive-ust.edu.ph/videos/tt0156323.mp4 already exists. Skipping download.\n",
      "File /Users/kyleandrecastro/Library/CloudStorage/OneDrive-ust.edu.ph/videos/tt0066344.mp4 already exists. Skipping download.\n",
      "File /Users/kyleandrecastro/Library/CloudStorage/OneDrive-ust.edu.ph/videos/tt5460226.mp4 already exists. Skipping download.\n",
      "File /Users/kyleandrecastro/Library/CloudStorage/OneDrive-ust.edu.ph/videos/tt2758904.mp4 already exists. Skipping download.\n",
      "File /Users/kyleandrecastro/Library/CloudStorage/OneDrive-ust.edu.ph/videos/tt0363988.mp4 already exists. Skipping download.\n",
      "File /Users/kyleandrecastro/Library/CloudStorage/OneDrive-ust.edu.ph/videos/tt1028576.mp4 already exists. Skipping download.\n",
      "File /Users/kyleandrecastro/Library/CloudStorage/OneDrive-ust.edu.ph/videos/tt0839980.mp4 already exists. Skipping download.\n",
      "File /Users/kyleandrecastro/Library/CloudStorage/OneDrive-ust.edu.ph/videos/tt0473700.mp4 already exists. Skipping download.\n",
      "File /Users/kyleandrecastro/Library/CloudStorage/OneDrive-ust.edu.ph/videos/tt0379786.mp4 already exists. Skipping download.\n",
      "File /Users/kyleandrecastro/Library/CloudStorage/OneDrive-ust.edu.ph/videos/tt0261289.mp4 already exists. Skipping download.\n",
      "File /Users/kyleandrecastro/Library/CloudStorage/OneDrive-ust.edu.ph/videos/tt0261983.mp4 already exists. Skipping download.\n",
      "File /Users/kyleandrecastro/Library/CloudStorage/OneDrive-ust.edu.ph/videos/tt1699147.mp4 already exists. Skipping download.\n",
      "File /Users/kyleandrecastro/Library/CloudStorage/OneDrive-ust.edu.ph/videos/tt0814314.mp4 already exists. Skipping download.\n",
      "File /Users/kyleandrecastro/Library/CloudStorage/OneDrive-ust.edu.ph/videos/tt0120102.mp4 already exists. Skipping download.\n",
      "File /Users/kyleandrecastro/Library/CloudStorage/OneDrive-ust.edu.ph/videos/tt0464196.mp4 already exists. Skipping download.\n",
      "File /Users/kyleandrecastro/Library/CloudStorage/OneDrive-ust.edu.ph/videos/tt1135985.mp4 already exists. Skipping download.\n",
      "File /Users/kyleandrecastro/Library/CloudStorage/OneDrive-ust.edu.ph/videos/tt1956620.mp4 already exists. Skipping download.\n",
      "File /Users/kyleandrecastro/Library/CloudStorage/OneDrive-ust.edu.ph/videos/tt0203119.mp4 already exists. Skipping download.\n",
      "File /Users/kyleandrecastro/Library/CloudStorage/OneDrive-ust.edu.ph/videos/tt0472562.mp4 already exists. Skipping download.\n",
      "File /Users/kyleandrecastro/Library/CloudStorage/OneDrive-ust.edu.ph/videos/tt0029546.mp4 already exists. Skipping download.\n",
      "File /Users/kyleandrecastro/Library/CloudStorage/OneDrive-ust.edu.ph/videos/tt0358135.mp4 already exists. Skipping download.\n",
      "File /Users/kyleandrecastro/Library/CloudStorage/OneDrive-ust.edu.ph/videos/tt0307453.mp4 already exists. Skipping download.\n",
      "File /Users/kyleandrecastro/Library/CloudStorage/OneDrive-ust.edu.ph/videos/tt0323944.mp4 already exists. Skipping download.\n",
      "[youtube] Extracting URL: https://www.youtube.com/watch?v=zV-nIlZ3XeE\n",
      "[youtube] zV-nIlZ3XeE: Downloading webpage\n",
      "[youtube] Sleeping 1 seconds ...\n",
      "[youtube] zV-nIlZ3XeE: Downloading ios player API JSON\n"
     ]
    },
    {
     "name": "stderr",
     "output_type": "stream",
     "text": [
      "ERROR: [youtube] zV-nIlZ3XeE: Video unavailable. This video is no longer available because the YouTube account associated with this video has been terminated.\n"
     ]
    },
    {
     "name": "stdout",
     "output_type": "stream",
     "text": [
      "Error downloading https://www.youtube.com/watch?v=zV-nIlZ3XeE with IMDB ID tt0465602: ERROR: [youtube] zV-nIlZ3XeE: Video unavailable. This video is no longer available because the YouTube account associated with this video has been terminated.\n",
      "File /Users/kyleandrecastro/Library/CloudStorage/OneDrive-ust.edu.ph/videos/tt0338427.mp4 already exists. Skipping download.\n",
      "File /Users/kyleandrecastro/Library/CloudStorage/OneDrive-ust.edu.ph/videos/tt0091949.mp4 already exists. Skipping download.\n",
      "File /Users/kyleandrecastro/Library/CloudStorage/OneDrive-ust.edu.ph/videos/tt1100119.mp4 already exists. Skipping download.\n",
      "File /Users/kyleandrecastro/Library/CloudStorage/OneDrive-ust.edu.ph/videos/tt0952682.mp4 already exists. Skipping download.\n",
      "File /Users/kyleandrecastro/Library/CloudStorage/OneDrive-ust.edu.ph/videos/tt0298148.mp4 already exists. Skipping download.\n",
      "File /Users/kyleandrecastro/Library/CloudStorage/OneDrive-ust.edu.ph/videos/tt0482599.mp4 already exists. Skipping download.\n",
      "File /Users/kyleandrecastro/Library/CloudStorage/OneDrive-ust.edu.ph/videos/tt0239986.mp4 already exists. Skipping download.\n",
      "File /Users/kyleandrecastro/Library/CloudStorage/OneDrive-ust.edu.ph/videos/tt0375063.mp4 already exists. Skipping download.\n",
      "File /Users/kyleandrecastro/Library/CloudStorage/OneDrive-ust.edu.ph/videos/tt0286106.mp4 already exists. Skipping download.\n",
      "File /Users/kyleandrecastro/Library/CloudStorage/OneDrive-ust.edu.ph/videos/tt0384537.mp4 already exists. Skipping download.\n",
      "File /Users/kyleandrecastro/Library/CloudStorage/OneDrive-ust.edu.ph/videos/tt0124879.mp4 already exists. Skipping download.\n",
      "File /Users/kyleandrecastro/Library/CloudStorage/OneDrive-ust.edu.ph/videos/tt0088128.mp4 already exists. Skipping download.\n",
      "File /Users/kyleandrecastro/Library/CloudStorage/OneDrive-ust.edu.ph/videos/tt7545566.mp4 already exists. Skipping download.\n",
      "File /Users/kyleandrecastro/Library/CloudStorage/OneDrive-ust.edu.ph/videos/tt2881698.mp4 already exists. Skipping download.\n",
      "File /Users/kyleandrecastro/Library/CloudStorage/OneDrive-ust.edu.ph/videos/tt0461703.mp4 already exists. Skipping download.\n",
      "File /Users/kyleandrecastro/Library/CloudStorage/OneDrive-ust.edu.ph/videos/tt1830805.mp4 already exists. Skipping download.\n",
      "File /Users/kyleandrecastro/Library/CloudStorage/OneDrive-ust.edu.ph/videos/tt0346156.mp4 already exists. Skipping download.\n",
      "File /Users/kyleandrecastro/Library/CloudStorage/OneDrive-ust.edu.ph/videos/tt5879216.mp4 already exists. Skipping download.\n",
      "File /Users/kyleandrecastro/Library/CloudStorage/OneDrive-ust.edu.ph/videos/tt0804529.mp4 already exists. Skipping download.\n",
      "File /Users/kyleandrecastro/Library/CloudStorage/OneDrive-ust.edu.ph/videos/tt0117665.mp4 already exists. Skipping download.\n",
      "File /Users/kyleandrecastro/Library/CloudStorage/OneDrive-ust.edu.ph/videos/tt3165612.mp4 already exists. Skipping download.\n",
      "File /Users/kyleandrecastro/Library/CloudStorage/OneDrive-ust.edu.ph/videos/tt2072233.mp4 already exists. Skipping download.\n",
      "File /Users/kyleandrecastro/Library/CloudStorage/OneDrive-ust.edu.ph/videos/tt0888693.mp4 already exists. Skipping download.\n",
      "File /Users/kyleandrecastro/Library/CloudStorage/OneDrive-ust.edu.ph/videos/tt0162661.mp4 already exists. Skipping download.\n",
      "File /Users/kyleandrecastro/Library/CloudStorage/OneDrive-ust.edu.ph/videos/tt0857265.mp4 already exists. Skipping download.\n",
      "File /Users/kyleandrecastro/Library/CloudStorage/OneDrive-ust.edu.ph/videos/tt4411234.mp4 already exists. Skipping download.\n",
      "File /Users/kyleandrecastro/Library/CloudStorage/OneDrive-ust.edu.ph/videos/tt0408194.mp4 already exists. Skipping download.\n",
      "File /Users/kyleandrecastro/Library/CloudStorage/OneDrive-ust.edu.ph/videos/tt0499570.mp4 already exists. Skipping download.\n",
      "File /Users/kyleandrecastro/Library/CloudStorage/OneDrive-ust.edu.ph/videos/tt1010048.mp4 already exists. Skipping download.\n",
      "File /Users/kyleandrecastro/Library/CloudStorage/OneDrive-ust.edu.ph/videos/tt2063781.mp4 already exists. Skipping download.\n",
      "File /Users/kyleandrecastro/Library/CloudStorage/OneDrive-ust.edu.ph/videos/tt0780608.mp4 already exists. Skipping download.\n",
      "File /Users/kyleandrecastro/Library/CloudStorage/OneDrive-ust.edu.ph/videos/tt0867591.mp4 already exists. Skipping download.\n",
      "File /Users/kyleandrecastro/Library/CloudStorage/OneDrive-ust.edu.ph/videos/tt0208092.mp4 already exists. Skipping download.\n",
      "File /Users/kyleandrecastro/Library/CloudStorage/OneDrive-ust.edu.ph/videos/tt2334871.mp4 already exists. Skipping download.\n",
      "File /Users/kyleandrecastro/Library/CloudStorage/OneDrive-ust.edu.ph/videos/tt0338450.mp4 already exists. Skipping download.\n",
      "File /Users/kyleandrecastro/Library/CloudStorage/OneDrive-ust.edu.ph/videos/tt0281373.mp4 already exists. Skipping download.\n",
      "File /Users/kyleandrecastro/Library/CloudStorage/OneDrive-ust.edu.ph/videos/tt1541995.mp4 already exists. Skipping download.\n",
      "File /Users/kyleandrecastro/Library/CloudStorage/OneDrive-ust.edu.ph/videos/tt1373406.mp4 already exists. Skipping download.\n",
      "File /Users/kyleandrecastro/Library/CloudStorage/OneDrive-ust.edu.ph/videos/tt1706620.mp4 already exists. Skipping download.\n",
      "File /Users/kyleandrecastro/Library/CloudStorage/OneDrive-ust.edu.ph/videos/tt0244970.mp4 already exists. Skipping download.\n",
      "File /Users/kyleandrecastro/Library/CloudStorage/OneDrive-ust.edu.ph/videos/tt0437777.mp4 already exists. Skipping download.\n",
      "File /Users/kyleandrecastro/Library/CloudStorage/OneDrive-ust.edu.ph/videos/tt0210299.mp4 already exists. Skipping download.\n",
      "File /Users/kyleandrecastro/Library/CloudStorage/OneDrive-ust.edu.ph/videos/tt5688932.mp4 already exists. Skipping download.\n",
      "File /Users/kyleandrecastro/Library/CloudStorage/OneDrive-ust.edu.ph/videos/tt1111948.mp4 already exists. Skipping download.\n",
      "[youtube] Extracting URL: https://www.youtube.com/watch?v=DXrl5K6HngY\n",
      "[youtube] DXrl5K6HngY: Downloading webpage\n",
      "[youtube] Sleeping 1 seconds ...\n",
      "[youtube] DXrl5K6HngY: Downloading ios player API JSON\n"
     ]
    },
    {
     "name": "stderr",
     "output_type": "stream",
     "text": [
      "ERROR: [youtube] DXrl5K6HngY: Video unavailable. This video is not available\n"
     ]
    },
    {
     "name": "stdout",
     "output_type": "stream",
     "text": [
      "Error downloading https://www.youtube.com/watch?v=DXrl5K6HngY with IMDB ID tt0367085: ERROR: [youtube] DXrl5K6HngY: Video unavailable. This video is not available\n",
      "File /Users/kyleandrecastro/Library/CloudStorage/OneDrive-ust.edu.ph/videos/tt1596346.mp4 already exists. Skipping download.\n",
      "File /Users/kyleandrecastro/Library/CloudStorage/OneDrive-ust.edu.ph/videos/tt0218619.mp4 already exists. Skipping download.\n",
      "File /Users/kyleandrecastro/Library/CloudStorage/OneDrive-ust.edu.ph/videos/tt0405336.mp4 already exists. Skipping download.\n",
      "File /Users/kyleandrecastro/Library/CloudStorage/OneDrive-ust.edu.ph/videos/tt0482603.mp4 already exists. Skipping download.\n",
      "File /Users/kyleandrecastro/Library/CloudStorage/OneDrive-ust.edu.ph/videos/tt0111256.mp4 already exists. Skipping download.\n",
      "File /Users/kyleandrecastro/Library/CloudStorage/OneDrive-ust.edu.ph/videos/tt0316654.mp4 already exists. Skipping download.\n",
      "File /Users/kyleandrecastro/Library/CloudStorage/OneDrive-ust.edu.ph/videos/tt0413300.mp4 already exists. Skipping download.\n",
      "File /Users/kyleandrecastro/Library/CloudStorage/OneDrive-ust.edu.ph/videos/tt1031280.mp4 already exists. Skipping download.\n",
      "File /Users/kyleandrecastro/Library/CloudStorage/OneDrive-ust.edu.ph/videos/tt2101441.mp4 already exists. Skipping download.\n",
      "File /Users/kyleandrecastro/Library/CloudStorage/OneDrive-ust.edu.ph/videos/tt3079380.mp4 already exists. Skipping download.\n",
      "[youtube] Extracting URL: https://www.youtube.com/watch?v=EH30237stWM\n",
      "[youtube] EH30237stWM: Downloading webpage\n",
      "[youtube] Sleeping 1 seconds ...\n",
      "[youtube] EH30237stWM: Downloading ios player API JSON\n"
     ]
    },
    {
     "name": "stderr",
     "output_type": "stream",
     "text": [
      "ERROR: [youtube] EH30237stWM: Video unavailable. This video is not available\n"
     ]
    },
    {
     "name": "stdout",
     "output_type": "stream",
     "text": [
      "Error downloading https://www.youtube.com/watch?v=EH30237stWM with IMDB ID tt0266987: ERROR: [youtube] EH30237stWM: Video unavailable. This video is not available\n",
      "File /Users/kyleandrecastro/Library/CloudStorage/OneDrive-ust.edu.ph/videos/tt1517489.mp4 already exists. Skipping download.\n",
      "[youtube] Extracting URL: https://www.youtube.com/watch?v=ddwrbcMmzlc\n",
      "[youtube] ddwrbcMmzlc: Downloading webpage\n",
      "[youtube] Sleeping 1 seconds ...\n",
      "[youtube] ddwrbcMmzlc: Downloading ios player API JSON\n"
     ]
    },
    {
     "name": "stderr",
     "output_type": "stream",
     "text": [
      "ERROR: [youtube] ddwrbcMmzlc: Video unavailable. This video is no longer available because the YouTube account associated with this video has been terminated.\n"
     ]
    },
    {
     "name": "stdout",
     "output_type": "stream",
     "text": [
      "Error downloading https://www.youtube.com/watch?v=ddwrbcMmzlc with IMDB ID tt1273235: ERROR: [youtube] ddwrbcMmzlc: Video unavailable. This video is no longer available because the YouTube account associated with this video has been terminated.\n",
      "File /Users/kyleandrecastro/Library/CloudStorage/OneDrive-ust.edu.ph/videos/tt0368658.mp4 already exists. Skipping download.\n",
      "File /Users/kyleandrecastro/Library/CloudStorage/OneDrive-ust.edu.ph/videos/tt0042994.mp4 already exists. Skipping download.\n",
      "File /Users/kyleandrecastro/Library/CloudStorage/OneDrive-ust.edu.ph/videos/tt0896866.mp4 already exists. Skipping download.\n",
      "File /Users/kyleandrecastro/Library/CloudStorage/OneDrive-ust.edu.ph/videos/tt1303803.mp4 already exists. Skipping download.\n",
      "File /Users/kyleandrecastro/Library/CloudStorage/OneDrive-ust.edu.ph/videos/tt0120915.mp4 already exists. Skipping download.\n",
      "File /Users/kyleandrecastro/Library/CloudStorage/OneDrive-ust.edu.ph/videos/tt0486655.mp4 already exists. Skipping download.\n",
      "File /Users/kyleandrecastro/Library/CloudStorage/OneDrive-ust.edu.ph/videos/tt0382992.mp4 already exists. Skipping download.\n",
      "File /Users/kyleandrecastro/Library/CloudStorage/OneDrive-ust.edu.ph/videos/tt0462590.mp4 already exists. Skipping download.\n",
      "File /Users/kyleandrecastro/Library/CloudStorage/OneDrive-ust.edu.ph/videos/tt1027747.mp4 already exists. Skipping download.\n",
      "File /Users/kyleandrecastro/Library/CloudStorage/OneDrive-ust.edu.ph/videos/tt1116186.mp4 already exists. Skipping download.\n",
      "[youtube] Extracting URL: https://www.youtube.com/watch?v=7RvvnsziOFQ\n",
      "[youtube] 7RvvnsziOFQ: Downloading webpage\n",
      "[youtube] Sleeping 1 seconds ...\n",
      "[youtube] 7RvvnsziOFQ: Downloading ios player API JSON\n"
     ]
    },
    {
     "name": "stderr",
     "output_type": "stream",
     "text": [
      "ERROR: [youtube] 7RvvnsziOFQ: Video unavailable\n"
     ]
    },
    {
     "name": "stdout",
     "output_type": "stream",
     "text": [
      "Error downloading https://www.youtube.com/watch?v=7RvvnsziOFQ with IMDB ID tt2126362: ERROR: [youtube] 7RvvnsziOFQ: Video unavailable\n",
      "File /Users/kyleandrecastro/Library/CloudStorage/OneDrive-ust.edu.ph/videos/tt0286162.mp4 already exists. Skipping download.\n",
      "File /Users/kyleandrecastro/Library/CloudStorage/OneDrive-ust.edu.ph/videos/tt0489281.mp4 already exists. Skipping download.\n",
      "File /Users/kyleandrecastro/Library/CloudStorage/OneDrive-ust.edu.ph/videos/tt1986953.mp4 already exists. Skipping download.\n",
      "File /Users/kyleandrecastro/Library/CloudStorage/OneDrive-ust.edu.ph/videos/tt4191054.mp4 already exists. Skipping download.\n",
      "File /Users/kyleandrecastro/Library/CloudStorage/OneDrive-ust.edu.ph/videos/tt0489282.mp4 already exists. Skipping download.\n",
      "File /Users/kyleandrecastro/Library/CloudStorage/OneDrive-ust.edu.ph/videos/tt0420223.mp4 already exists. Skipping download.\n",
      "File /Users/kyleandrecastro/Library/CloudStorage/OneDrive-ust.edu.ph/videos/tt0891592.mp4 already exists. Skipping download.\n",
      "File /Users/kyleandrecastro/Library/CloudStorage/OneDrive-ust.edu.ph/videos/tt0421073.mp4 already exists. Skipping download.\n",
      "[youtube] Extracting URL: https://www.youtube.com/watch?v=X6bGyfvuz6E\n",
      "[youtube] X6bGyfvuz6E: Downloading webpage\n",
      "[youtube] Sleeping 1 seconds ...\n",
      "[youtube] X6bGyfvuz6E: Downloading ios player API JSON\n"
     ]
    },
    {
     "name": "stderr",
     "output_type": "stream",
     "text": [
      "ERROR: [youtube] X6bGyfvuz6E: Video unavailable\n"
     ]
    },
    {
     "name": "stdout",
     "output_type": "stream",
     "text": [
      "Error downloading https://www.youtube.com/watch?v=X6bGyfvuz6E with IMDB ID tt2494280: ERROR: [youtube] X6bGyfvuz6E: Video unavailable\n",
      "File /Users/kyleandrecastro/Library/CloudStorage/OneDrive-ust.edu.ph/videos/tt0083131.mp4 already exists. Skipping download.\n",
      "File /Users/kyleandrecastro/Library/CloudStorage/OneDrive-ust.edu.ph/videos/tt0243585.mp4 already exists. Skipping download.\n",
      "File /Users/kyleandrecastro/Library/CloudStorage/OneDrive-ust.edu.ph/videos/tt7734218.mp4 already exists. Skipping download.\n",
      "File /Users/kyleandrecastro/Library/CloudStorage/OneDrive-ust.edu.ph/videos/tt0758786.mp4 already exists. Skipping download.\n",
      "File /Users/kyleandrecastro/Library/CloudStorage/OneDrive-ust.edu.ph/videos/tt0338466.mp4 already exists. Skipping download.\n",
      "File /Users/kyleandrecastro/Library/CloudStorage/OneDrive-ust.edu.ph/videos/tt3279176.mp4 already exists. Skipping download.\n",
      "File /Users/kyleandrecastro/Library/CloudStorage/OneDrive-ust.edu.ph/videos/tt0990413.mp4 already exists. Skipping download.\n",
      "File /Users/kyleandrecastro/Library/CloudStorage/OneDrive-ust.edu.ph/videos/tt0906665.mp4 already exists. Skipping download.\n",
      "File /Users/kyleandrecastro/Library/CloudStorage/OneDrive-ust.edu.ph/videos/tt0486020.mp4 already exists. Skipping download.\n",
      "File /Users/kyleandrecastro/Library/CloudStorage/OneDrive-ust.edu.ph/videos/tt0448134.mp4 already exists. Skipping download.\n",
      "File /Users/kyleandrecastro/Library/CloudStorage/OneDrive-ust.edu.ph/videos/tt0862846.mp4 already exists. Skipping download.\n",
      "File /Users/kyleandrecastro/Library/CloudStorage/OneDrive-ust.edu.ph/videos/tt1322313.mp4 already exists. Skipping download.\n",
      "[youtube:tab] Extracting URL: https://www.youtube.com/watch?v=fE97YHD1nNQ&list=PLelK7aEMtfK2UinH2cmCdy-4beZh2yfru&index=15&t=0s\n",
      "[youtube:tab] Downloading just the video fE97YHD1nNQ because of --no-playlist\n",
      "[youtube] Extracting URL: https://www.youtube.com/watch?v=fE97YHD1nNQ\n",
      "[youtube] fE97YHD1nNQ: Downloading webpage\n",
      "[youtube] Sleeping 1 seconds ...\n",
      "[youtube] fE97YHD1nNQ: Downloading ios player API JSON\n"
     ]
    },
    {
     "name": "stderr",
     "output_type": "stream",
     "text": [
      "ERROR: [youtube] fE97YHD1nNQ: Video unavailable\n"
     ]
    },
    {
     "name": "stdout",
     "output_type": "stream",
     "text": [
      "Error downloading https://www.youtube.com/watch?v=fE97YHD1nNQ&list=PLelK7aEMtfK2UinH2cmCdy-4beZh2yfru&index=15&t=0s with IMDB ID tt0859635: ERROR: [youtube] fE97YHD1nNQ: Video unavailable\n",
      "File /Users/kyleandrecastro/Library/CloudStorage/OneDrive-ust.edu.ph/videos/tt0270846.mp4 already exists. Skipping download.\n",
      "File /Users/kyleandrecastro/Library/CloudStorage/OneDrive-ust.edu.ph/videos/tt0829482.mp4 already exists. Skipping download.\n",
      "File /Users/kyleandrecastro/Library/CloudStorage/OneDrive-ust.edu.ph/videos/tt4454078.mp4 already exists. Skipping download.\n",
      "File /Users/kyleandrecastro/Library/CloudStorage/OneDrive-ust.edu.ph/videos/tt4843640.mp4 already exists. Skipping download.\n",
      "File /Users/kyleandrecastro/Library/CloudStorage/OneDrive-ust.edu.ph/videos/tt0134983.mp4 already exists. Skipping download.\n",
      "File /Users/kyleandrecastro/Library/CloudStorage/OneDrive-ust.edu.ph/videos/tt2380564.mp4 already exists. Skipping download.\n",
      "File /Users/kyleandrecastro/Library/CloudStorage/OneDrive-ust.edu.ph/videos/tt0408236.mp4 already exists. Skipping download.\n",
      "File /Users/kyleandrecastro/Library/CloudStorage/OneDrive-ust.edu.ph/videos/tt0313670.mp4 already exists. Skipping download.\n",
      "File /Users/kyleandrecastro/Library/CloudStorage/OneDrive-ust.edu.ph/videos/tt0283026.mp4 already exists. Skipping download.\n",
      "File /Users/kyleandrecastro/Library/CloudStorage/OneDrive-ust.edu.ph/videos/tt4653950.mp4 already exists. Skipping download.\n",
      "File /Users/kyleandrecastro/Library/CloudStorage/OneDrive-ust.edu.ph/videos/tt1027862.mp4 already exists. Skipping download.\n",
      "File /Users/kyleandrecastro/Library/CloudStorage/OneDrive-ust.edu.ph/videos/tt4034354.mp4 already exists. Skipping download.\n",
      "File /Users/kyleandrecastro/Library/CloudStorage/OneDrive-ust.edu.ph/videos/tt0815244.mp4 already exists. Skipping download.\n",
      "File /Users/kyleandrecastro/Library/CloudStorage/OneDrive-ust.edu.ph/videos/tt0365737.mp4 already exists. Skipping download.\n",
      "File /Users/kyleandrecastro/Library/CloudStorage/OneDrive-ust.edu.ph/videos/tt0271219.mp4 already exists. Skipping download.\n",
      "File /Users/kyleandrecastro/Library/CloudStorage/OneDrive-ust.edu.ph/videos/tt0810922.mp4 already exists. Skipping download.\n",
      "File /Users/kyleandrecastro/Library/CloudStorage/OneDrive-ust.edu.ph/videos/tt0936501.mp4 already exists. Skipping download.\n",
      "File /Users/kyleandrecastro/Library/CloudStorage/OneDrive-ust.edu.ph/videos/tt0454962.mp4 already exists. Skipping download.\n",
      "File /Users/kyleandrecastro/Library/CloudStorage/OneDrive-ust.edu.ph/videos/tt0364045.mp4 already exists. Skipping download.\n",
      "File /Users/kyleandrecastro/Library/CloudStorage/OneDrive-ust.edu.ph/videos/tt1127896.mp4 already exists. Skipping download.\n",
      "File /Users/kyleandrecastro/Library/CloudStorage/OneDrive-ust.edu.ph/videos/tt3824458.mp4 already exists. Skipping download.\n",
      "File /Users/kyleandrecastro/Library/CloudStorage/OneDrive-ust.edu.ph/videos/tt0398286.mp4 already exists. Skipping download.\n",
      "File /Users/kyleandrecastro/Library/CloudStorage/OneDrive-ust.edu.ph/videos/tt0854678.mp4 already exists. Skipping download.\n",
      "File /Users/kyleandrecastro/Library/CloudStorage/OneDrive-ust.edu.ph/videos/tt1637725.mp4 already exists. Skipping download.\n",
      "File /Users/kyleandrecastro/Library/CloudStorage/OneDrive-ust.edu.ph/videos/tt2637276.mp4 already exists. Skipping download.\n",
      "File /Users/kyleandrecastro/Library/CloudStorage/OneDrive-ust.edu.ph/videos/tt0301924.mp4 already exists. Skipping download.\n",
      "File /Users/kyleandrecastro/Library/CloudStorage/OneDrive-ust.edu.ph/videos/tt0365830.mp4 already exists. Skipping download.\n",
      "File /Users/kyleandrecastro/Library/CloudStorage/OneDrive-ust.edu.ph/videos/tt0092074.mp4 already exists. Skipping download.\n",
      "File /Users/kyleandrecastro/Library/CloudStorage/OneDrive-ust.edu.ph/videos/tt1800246.mp4 already exists. Skipping download.\n",
      "File /Users/kyleandrecastro/Library/CloudStorage/OneDrive-ust.edu.ph/videos/tt0117887.mp4 already exists. Skipping download.\n",
      "File /Users/kyleandrecastro/Library/CloudStorage/OneDrive-ust.edu.ph/videos/tt1232200.mp4 already exists. Skipping download.\n",
      "File /Users/kyleandrecastro/Library/CloudStorage/OneDrive-ust.edu.ph/videos/tt0809504.mp4 already exists. Skipping download.\n",
      "File /Users/kyleandrecastro/Library/CloudStorage/OneDrive-ust.edu.ph/videos/tt0424774.mp4 already exists. Skipping download.\n",
      "File /Users/kyleandrecastro/Library/CloudStorage/OneDrive-ust.edu.ph/videos/tt3289956.mp4 already exists. Skipping download.\n",
      "File /Users/kyleandrecastro/Library/CloudStorage/OneDrive-ust.edu.ph/videos/tt0357110.mp4 already exists. Skipping download.\n",
      "File /Users/kyleandrecastro/Library/CloudStorage/OneDrive-ust.edu.ph/videos/tt6511932.mp4 already exists. Skipping download.\n",
      "File /Users/kyleandrecastro/Library/CloudStorage/OneDrive-ust.edu.ph/videos/tt0118691.mp4 already exists. Skipping download.\n",
      "File /Users/kyleandrecastro/Library/CloudStorage/OneDrive-ust.edu.ph/videos/tt1082807.mp4 already exists. Skipping download.\n",
      "File /Users/kyleandrecastro/Library/CloudStorage/OneDrive-ust.edu.ph/videos/tt0120609.mp4 already exists. Skipping download.\n",
      "File /Users/kyleandrecastro/Library/CloudStorage/OneDrive-ust.edu.ph/videos/tt0088814.mp4 already exists. Skipping download.\n",
      "File /Users/kyleandrecastro/Library/CloudStorage/OneDrive-ust.edu.ph/videos/tt2262227.mp4 already exists. Skipping download.\n",
      "File /Users/kyleandrecastro/Library/CloudStorage/OneDrive-ust.edu.ph/videos/tt2702724.mp4 already exists. Skipping download.\n",
      "File /Users/kyleandrecastro/Library/CloudStorage/OneDrive-ust.edu.ph/videos/tt0787474.mp4 already exists. Skipping download.\n",
      "File /Users/kyleandrecastro/Library/CloudStorage/OneDrive-ust.edu.ph/videos/tt0356443.mp4 already exists. Skipping download.\n",
      "File /Users/kyleandrecastro/Library/CloudStorage/OneDrive-ust.edu.ph/videos/tt3859304.mp4 already exists. Skipping download.\n",
      "File /Users/kyleandrecastro/Library/CloudStorage/OneDrive-ust.edu.ph/videos/tt0355295.mp4 already exists. Skipping download.\n",
      "File /Users/kyleandrecastro/Library/CloudStorage/OneDrive-ust.edu.ph/videos/tt0209958.mp4 already exists. Skipping download.\n",
      "[youtube] Extracting URL: https://www.youtube.com/watch?v=eEH0WnywzRw\n",
      "[youtube] eEH0WnywzRw: Downloading webpage\n",
      "[youtube] Sleeping 1 seconds ...\n",
      "[youtube] eEH0WnywzRw: Downloading ios player API JSON\n"
     ]
    },
    {
     "name": "stderr",
     "output_type": "stream",
     "text": [
      "ERROR: [youtube] eEH0WnywzRw: Private video. Sign in if you've been granted access to this video\n"
     ]
    },
    {
     "name": "stdout",
     "output_type": "stream",
     "text": [
      "Error downloading https://www.youtube.com/watch?v=eEH0WnywzRw with IMDB ID tt1488555: ERROR: [youtube] eEH0WnywzRw: Private video. Sign in if you've been granted access to this video\n",
      "File /Users/kyleandrecastro/Library/CloudStorage/OneDrive-ust.edu.ph/videos/tt0445946.mp4 already exists. Skipping download.\n",
      "File /Users/kyleandrecastro/Library/CloudStorage/OneDrive-ust.edu.ph/videos/tt0770806.mp4 already exists. Skipping download.\n",
      "File /Users/kyleandrecastro/Library/CloudStorage/OneDrive-ust.edu.ph/videos/tt1071880.mp4 already exists. Skipping download.\n",
      "File /Users/kyleandrecastro/Library/CloudStorage/OneDrive-ust.edu.ph/videos/tt1650056.mp4 already exists. Skipping download.\n",
      "File /Users/kyleandrecastro/Library/CloudStorage/OneDrive-ust.edu.ph/videos/tt2917336.mp4 already exists. Skipping download.\n",
      "File /Users/kyleandrecastro/Library/CloudStorage/OneDrive-ust.edu.ph/videos/tt8695030.mp4 already exists. Skipping download.\n",
      "File /Users/kyleandrecastro/Library/CloudStorage/OneDrive-ust.edu.ph/videos/tt0087998.mp4 already exists. Skipping download.\n",
      "File /Users/kyleandrecastro/Library/CloudStorage/OneDrive-ust.edu.ph/videos/tt1645170.mp4 already exists. Skipping download.\n",
      "File /Users/kyleandrecastro/Library/CloudStorage/OneDrive-ust.edu.ph/videos/tt0104114.mp4 already exists. Skipping download.\n",
      "[youtube] Extracting URL: https://www.youtube.com/watch?v=x059LW-jjc0\n",
      "[youtube] x059LW-jjc0: Downloading webpage\n",
      "[youtube] Sleeping 1 seconds ...\n",
      "[youtube] x059LW-jjc0: Downloading ios player API JSON\n"
     ]
    },
    {
     "name": "stderr",
     "output_type": "stream",
     "text": [
      "ERROR: [youtube] x059LW-jjc0: Video unavailable\n"
     ]
    },
    {
     "name": "stdout",
     "output_type": "stream",
     "text": [
      "Error downloading https://www.youtube.com/watch?v=x059LW-jjc0 with IMDB ID tt4769836: ERROR: [youtube] x059LW-jjc0: Video unavailable\n",
      "File /Users/kyleandrecastro/Library/CloudStorage/OneDrive-ust.edu.ph/videos/tt0864761.mp4 already exists. Skipping download.\n",
      "File /Users/kyleandrecastro/Library/CloudStorage/OneDrive-ust.edu.ph/videos/tt3882074.mp4 already exists. Skipping download.\n",
      "File /Users/kyleandrecastro/Library/CloudStorage/OneDrive-ust.edu.ph/videos/tt1878870.mp4 already exists. Skipping download.\n",
      "File /Users/kyleandrecastro/Library/CloudStorage/OneDrive-ust.edu.ph/videos/tt0077504.mp4 already exists. Skipping download.\n",
      "File /Users/kyleandrecastro/Library/CloudStorage/OneDrive-ust.edu.ph/videos/tt0119062.mp4 already exists. Skipping download.\n",
      "File /Users/kyleandrecastro/Library/CloudStorage/OneDrive-ust.edu.ph/videos/tt2404311.mp4 already exists. Skipping download.\n",
      "File /Users/kyleandrecastro/Library/CloudStorage/OneDrive-ust.edu.ph/videos/tt0356680.mp4 already exists. Skipping download.\n",
      "File /Users/kyleandrecastro/Library/CloudStorage/OneDrive-ust.edu.ph/videos/tt1142798.mp4 already exists. Skipping download.\n",
      "File /Users/kyleandrecastro/Library/CloudStorage/OneDrive-ust.edu.ph/videos/tt0432291.mp4 already exists. Skipping download.\n",
      "File /Users/kyleandrecastro/Library/CloudStorage/OneDrive-ust.edu.ph/videos/tt1296373.mp4 already exists. Skipping download.\n",
      "File /Users/kyleandrecastro/Library/CloudStorage/OneDrive-ust.edu.ph/videos/tt0265208.mp4 already exists. Skipping download.\n",
      "File /Users/kyleandrecastro/Library/CloudStorage/OneDrive-ust.edu.ph/videos/tt2278388.mp4 already exists. Skipping download.\n",
      "File /Users/kyleandrecastro/Library/CloudStorage/OneDrive-ust.edu.ph/videos/tt1601913.mp4 already exists. Skipping download.\n",
      "File /Users/kyleandrecastro/Library/CloudStorage/OneDrive-ust.edu.ph/videos/tt0252480.mp4 already exists. Skipping download.\n",
      "File /Users/kyleandrecastro/Library/CloudStorage/OneDrive-ust.edu.ph/videos/tt0391198.mp4 already exists. Skipping download.\n",
      "File /Users/kyleandrecastro/Library/CloudStorage/OneDrive-ust.edu.ph/videos/tt1308728.mp4 already exists. Skipping download.\n",
      "File /Users/kyleandrecastro/Library/CloudStorage/OneDrive-ust.edu.ph/videos/tt2645164.mp4 already exists. Skipping download.\n",
      "File /Users/kyleandrecastro/Library/CloudStorage/OneDrive-ust.edu.ph/videos/tt2404463.mp4 already exists. Skipping download.\n",
      "File /Users/kyleandrecastro/Library/CloudStorage/OneDrive-ust.edu.ph/videos/tt1959563.mp4 already exists. Skipping download.\n",
      "File /Users/kyleandrecastro/Library/CloudStorage/OneDrive-ust.edu.ph/videos/tt0804492.mp4 already exists. Skipping download.\n",
      "File /Users/kyleandrecastro/Library/CloudStorage/OneDrive-ust.edu.ph/videos/tt4481514.mp4 already exists. Skipping download.\n",
      "File /Users/kyleandrecastro/Library/CloudStorage/OneDrive-ust.edu.ph/videos/tt2980648.mp4 already exists. Skipping download.\n",
      "File /Users/kyleandrecastro/Library/CloudStorage/OneDrive-ust.edu.ph/videos/tt1591504.mp4 already exists. Skipping download.\n",
      "File /Users/kyleandrecastro/Library/CloudStorage/OneDrive-ust.edu.ph/videos/tt1220617.mp4 already exists. Skipping download.\n",
      "File /Users/kyleandrecastro/Library/CloudStorage/OneDrive-ust.edu.ph/videos/tt2788710.mp4 already exists. Skipping download.\n",
      "File /Users/kyleandrecastro/Library/CloudStorage/OneDrive-ust.edu.ph/videos/tt0903135.mp4 already exists. Skipping download.\n",
      "File /Users/kyleandrecastro/Library/CloudStorage/OneDrive-ust.edu.ph/videos/tt0129167.mp4 already exists. Skipping download.\n",
      "File /Users/kyleandrecastro/Library/CloudStorage/OneDrive-ust.edu.ph/videos/tt0116731.mp4 already exists. Skipping download.\n",
      "File /Users/kyleandrecastro/Library/CloudStorage/OneDrive-ust.edu.ph/videos/tt0923752.mp4 already exists. Skipping download.\n",
      "File /Users/kyleandrecastro/Library/CloudStorage/OneDrive-ust.edu.ph/videos/tt2179116.mp4 already exists. Skipping download.\n",
      "File /Users/kyleandrecastro/Library/CloudStorage/OneDrive-ust.edu.ph/videos/tt5895892.mp4 already exists. Skipping download.\n",
      "File /Users/kyleandrecastro/Library/CloudStorage/OneDrive-ust.edu.ph/videos/tt2213342.mp4 already exists. Skipping download.\n",
      "File /Users/kyleandrecastro/Library/CloudStorage/OneDrive-ust.edu.ph/videos/tt1549920.mp4 already exists. Skipping download.\n",
      "File /Users/kyleandrecastro/Library/CloudStorage/OneDrive-ust.edu.ph/videos/tt1490017.mp4 already exists. Skipping download.\n",
      "File /Users/kyleandrecastro/Library/CloudStorage/OneDrive-ust.edu.ph/videos/tt0375920.mp4 already exists. Skipping download.\n",
      "File /Users/kyleandrecastro/Library/CloudStorage/OneDrive-ust.edu.ph/videos/tt0851530.mp4 already exists. Skipping download.\n",
      "File /Users/kyleandrecastro/Library/CloudStorage/OneDrive-ust.edu.ph/videos/tt1390539.mp4 already exists. Skipping download.\n",
      "File /Users/kyleandrecastro/Library/CloudStorage/OneDrive-ust.edu.ph/videos/tt0811138.mp4 already exists. Skipping download.\n",
      "File /Users/kyleandrecastro/Library/CloudStorage/OneDrive-ust.edu.ph/videos/tt2350496.mp4 already exists. Skipping download.\n",
      "File /Users/kyleandrecastro/Library/CloudStorage/OneDrive-ust.edu.ph/videos/tt1839654.mp4 already exists. Skipping download.\n",
      "File /Users/kyleandrecastro/Library/CloudStorage/OneDrive-ust.edu.ph/videos/tt0268995.mp4 already exists. Skipping download.\n",
      "File /Users/kyleandrecastro/Library/CloudStorage/OneDrive-ust.edu.ph/videos/tt0457090.mp4 already exists. Skipping download.\n",
      "File /Users/kyleandrecastro/Library/CloudStorage/OneDrive-ust.edu.ph/videos/tt0472399.mp4 already exists. Skipping download.\n",
      "File /Users/kyleandrecastro/Library/CloudStorage/OneDrive-ust.edu.ph/videos/tt0120753.mp4 already exists. Skipping download.\n",
      "File /Users/kyleandrecastro/Library/CloudStorage/OneDrive-ust.edu.ph/videos/tt0265349.mp4 already exists. Skipping download.\n",
      "File /Users/kyleandrecastro/Library/CloudStorage/OneDrive-ust.edu.ph/videos/tt0144348.mp4 already exists. Skipping download.\n",
      "File /Users/kyleandrecastro/Library/CloudStorage/OneDrive-ust.edu.ph/videos/tt0120616.mp4 already exists. Skipping download.\n",
      "File /Users/kyleandrecastro/Library/CloudStorage/OneDrive-ust.edu.ph/videos/tt0433416.mp4 already exists. Skipping download.\n",
      "File /Users/kyleandrecastro/Library/CloudStorage/OneDrive-ust.edu.ph/videos/tt0762121.mp4 already exists. Skipping download.\n",
      "File /Users/kyleandrecastro/Library/CloudStorage/OneDrive-ust.edu.ph/videos/tt1196948.mp4 already exists. Skipping download.\n",
      "File /Users/kyleandrecastro/Library/CloudStorage/OneDrive-ust.edu.ph/videos/tt0156841.mp4 already exists. Skipping download.\n",
      "File /Users/kyleandrecastro/Library/CloudStorage/OneDrive-ust.edu.ph/videos/tt3799694.mp4 already exists. Skipping download.\n",
      "File /Users/kyleandrecastro/Library/CloudStorage/OneDrive-ust.edu.ph/videos/tt3530002.mp4 already exists. Skipping download.\n",
      "File /Users/kyleandrecastro/Library/CloudStorage/OneDrive-ust.edu.ph/videos/tt1821658.mp4 already exists. Skipping download.\n",
      "File /Users/kyleandrecastro/Library/CloudStorage/OneDrive-ust.edu.ph/videos/tt0117218.mp4 already exists. Skipping download.\n",
      "File /Users/kyleandrecastro/Library/CloudStorage/OneDrive-ust.edu.ph/videos/tt1462769.mp4 already exists. Skipping download.\n",
      "[youtube] Extracting URL: https://www.youtube.com/watch?v=PGRoyNmYEy0\n",
      "[youtube] PGRoyNmYEy0: Downloading webpage\n",
      "[youtube] Sleeping 1 seconds ...\n",
      "[youtube] PGRoyNmYEy0: Downloading ios player API JSON\n"
     ]
    },
    {
     "name": "stderr",
     "output_type": "stream",
     "text": [
      "ERROR: [youtube] PGRoyNmYEy0: Video unavailable. This video has been removed by the uploader\n"
     ]
    },
    {
     "name": "stdout",
     "output_type": "stream",
     "text": [
      "Error downloading https://www.youtube.com/watch?v=PGRoyNmYEy0 with IMDB ID tt1313139: ERROR: [youtube] PGRoyNmYEy0: Video unavailable. This video has been removed by the uploader\n",
      "File /Users/kyleandrecastro/Library/CloudStorage/OneDrive-ust.edu.ph/videos/tt0304711.mp4 already exists. Skipping download.\n",
      "File /Users/kyleandrecastro/Library/CloudStorage/OneDrive-ust.edu.ph/videos/tt0230600.mp4 already exists. Skipping download.\n",
      "File /Users/kyleandrecastro/Library/CloudStorage/OneDrive-ust.edu.ph/videos/tt3844362.mp4 already exists. Skipping download.\n",
      "File /Users/kyleandrecastro/Library/CloudStorage/OneDrive-ust.edu.ph/videos/tt1430626.mp4 already exists. Skipping download.\n",
      "File /Users/kyleandrecastro/Library/CloudStorage/OneDrive-ust.edu.ph/videos/tt3829266.mp4 already exists. Skipping download.\n",
      "File /Users/kyleandrecastro/Library/CloudStorage/OneDrive-ust.edu.ph/videos/tt0406158.mp4 already exists. Skipping download.\n",
      "File /Users/kyleandrecastro/Library/CloudStorage/OneDrive-ust.edu.ph/videos/tt1640718.mp4 already exists. Skipping download.\n",
      "File /Users/kyleandrecastro/Library/CloudStorage/OneDrive-ust.edu.ph/videos/tt0117420.mp4 already exists. Skipping download.\n",
      "File /Users/kyleandrecastro/Library/CloudStorage/OneDrive-ust.edu.ph/videos/tt0861730.mp4 already exists. Skipping download.\n",
      "[youtube] Extracting URL: https://www.youtube.com/watch?v=OHo7iluAo7I\n",
      "[youtube] OHo7iluAo7I: Downloading webpage\n",
      "[youtube] Sleeping 1 seconds ...\n",
      "[youtube] OHo7iluAo7I: Downloading ios player API JSON\n"
     ]
    },
    {
     "name": "stderr",
     "output_type": "stream",
     "text": [
      "ERROR: [youtube] OHo7iluAo7I: Video unavailable\n"
     ]
    },
    {
     "name": "stdout",
     "output_type": "stream",
     "text": [
      "Error downloading https://www.youtube.com/watch?v=OHo7iluAo7I with IMDB ID tt2383068: ERROR: [youtube] OHo7iluAo7I: Video unavailable\n",
      "File /Users/kyleandrecastro/Library/CloudStorage/OneDrive-ust.edu.ph/videos/tt0256359.mp4 already exists. Skipping download.\n",
      "File /Users/kyleandrecastro/Library/CloudStorage/OneDrive-ust.edu.ph/videos/tt0359950.mp4 already exists. Skipping download.\n",
      "File /Users/kyleandrecastro/Library/CloudStorage/OneDrive-ust.edu.ph/videos/tt0314630.mp4 already exists. Skipping download.\n",
      "File /Users/kyleandrecastro/Library/CloudStorage/OneDrive-ust.edu.ph/videos/tt0484562.mp4 already exists. Skipping download.\n",
      "[youtube:tab] Extracting URL: https://www.youtube.com/watch?v=YBw-zRkX0vc&list=PLelK7aEMtfK2UinH2cmCdy-4beZh2yfru&index=21&t=0s\n",
      "[youtube:tab] Downloading just the video YBw-zRkX0vc because of --no-playlist\n",
      "[youtube] Extracting URL: https://www.youtube.com/watch?v=YBw-zRkX0vc\n",
      "[youtube] YBw-zRkX0vc: Downloading webpage\n",
      "[youtube] Sleeping 1 seconds ...\n",
      "[youtube] YBw-zRkX0vc: Downloading ios player API JSON\n"
     ]
    },
    {
     "name": "stderr",
     "output_type": "stream",
     "text": [
      "ERROR: [youtube] YBw-zRkX0vc: Video unavailable\n"
     ]
    },
    {
     "name": "stdout",
     "output_type": "stream",
     "text": [
      "Error downloading https://www.youtube.com/watch?v=YBw-zRkX0vc&list=PLelK7aEMtfK2UinH2cmCdy-4beZh2yfru&index=21&t=0s with IMDB ID tt5580390: ERROR: [youtube] YBw-zRkX0vc: Video unavailable\n",
      "File /Users/kyleandrecastro/Library/CloudStorage/OneDrive-ust.edu.ph/videos/tt0407205.mp4 already exists. Skipping download.\n",
      "File /Users/kyleandrecastro/Library/CloudStorage/OneDrive-ust.edu.ph/videos/tt1366344.mp4 already exists. Skipping download.\n",
      "File /Users/kyleandrecastro/Library/CloudStorage/OneDrive-ust.edu.ph/videos/tt2017020.mp4 already exists. Skipping download.\n",
      "File /Users/kyleandrecastro/Library/CloudStorage/OneDrive-ust.edu.ph/videos/tt0340376.mp4 already exists. Skipping download.\n",
      "File /Users/kyleandrecastro/Library/CloudStorage/OneDrive-ust.edu.ph/videos/tt0340377.mp4 already exists. Skipping download.\n",
      "File /Users/kyleandrecastro/Library/CloudStorage/OneDrive-ust.edu.ph/videos/tt0482606.mp4 already exists. Skipping download.\n",
      "File /Users/kyleandrecastro/Library/CloudStorage/OneDrive-ust.edu.ph/videos/tt3559422.mp4 already exists. Skipping download.\n",
      "File /Users/kyleandrecastro/Library/CloudStorage/OneDrive-ust.edu.ph/videos/tt0236784.mp4 already exists. Skipping download.\n",
      "File /Users/kyleandrecastro/Library/CloudStorage/OneDrive-ust.edu.ph/videos/tt3387648.mp4 already exists. Skipping download.\n",
      "File /Users/kyleandrecastro/Library/CloudStorage/OneDrive-ust.edu.ph/videos/tt0084787.mp4 already exists. Skipping download.\n",
      "File /Users/kyleandrecastro/Library/CloudStorage/OneDrive-ust.edu.ph/videos/tt1831806.mp4 already exists. Skipping download.\n",
      "[youtube:tab] Extracting URL: https://www.youtube.com/watch?v=Xy0gJIx6wlQ&list=PLelK7aEMtfK2UinH2cmCdy-4beZh2yfru&index=128\n",
      "[youtube:tab] Downloading just the video Xy0gJIx6wlQ because of --no-playlist\n",
      "[youtube] Extracting URL: https://www.youtube.com/watch?v=Xy0gJIx6wlQ\n",
      "[youtube] Xy0gJIx6wlQ: Downloading webpage\n",
      "[youtube] Sleeping 1 seconds ...\n",
      "[youtube] Xy0gJIx6wlQ: Downloading ios player API JSON\n"
     ]
    },
    {
     "name": "stderr",
     "output_type": "stream",
     "text": [
      "ERROR: [youtube] Xy0gJIx6wlQ: Video unavailable\n"
     ]
    },
    {
     "name": "stdout",
     "output_type": "stream",
     "text": [
      "Error downloading https://www.youtube.com/watch?v=Xy0gJIx6wlQ&list=PLelK7aEMtfK2UinH2cmCdy-4beZh2yfru&index=128 with IMDB ID tt1758795: ERROR: [youtube] Xy0gJIx6wlQ: Video unavailable\n",
      "File /Users/kyleandrecastro/Library/CloudStorage/OneDrive-ust.edu.ph/videos/tt0473709.mp4 already exists. Skipping download.\n",
      "File /Users/kyleandrecastro/Library/CloudStorage/OneDrive-ust.edu.ph/videos/tt0815245.mp4 already exists. Skipping download.\n",
      "File /Users/kyleandrecastro/Library/CloudStorage/OneDrive-ust.edu.ph/videos/tt0365885.mp4 already exists. Skipping download.\n",
      "File /Users/kyleandrecastro/Library/CloudStorage/OneDrive-ust.edu.ph/videos/tt0159097.mp4 already exists. Skipping download.\n",
      "File /Users/kyleandrecastro/Library/CloudStorage/OneDrive-ust.edu.ph/videos/tt0372532.mp4 already exists. Skipping download.\n",
      "File /Users/kyleandrecastro/Library/CloudStorage/OneDrive-ust.edu.ph/videos/tt0993846.mp4 already exists. Skipping download.\n",
      "File /Users/kyleandrecastro/Library/CloudStorage/OneDrive-ust.edu.ph/videos/tt0430770.mp4 already exists. Skipping download.\n",
      "File /Users/kyleandrecastro/Library/CloudStorage/OneDrive-ust.edu.ph/videos/tt0065225.mp4 already exists. Skipping download.\n",
      "File /Users/kyleandrecastro/Library/CloudStorage/OneDrive-ust.edu.ph/videos/tt1125849.mp4 already exists. Skipping download.\n",
      "File /Users/kyleandrecastro/Library/CloudStorage/OneDrive-ust.edu.ph/videos/tt0455805.mp4 already exists. Skipping download.\n",
      "File /Users/kyleandrecastro/Library/CloudStorage/OneDrive-ust.edu.ph/videos/tt3955808.mp4 already exists. Skipping download.\n",
      "File /Users/kyleandrecastro/Library/CloudStorage/OneDrive-ust.edu.ph/videos/tt0328538.mp4 already exists. Skipping download.\n",
      "File /Users/kyleandrecastro/Library/CloudStorage/OneDrive-ust.edu.ph/videos/tt7947150.mp4 already exists. Skipping download.\n",
      "File /Users/kyleandrecastro/Library/CloudStorage/OneDrive-ust.edu.ph/videos/tt5649108.mp4 already exists. Skipping download.\n",
      "[youtube:tab] Extracting URL: https://www.youtube.com/watch?v=FcmhO9s0VWE&list=PLX8oFA0JuITNDkmWMghr1BZ1fH82vjWJ5&index=43&t=0s\n",
      "[youtube:tab] Downloading just the video FcmhO9s0VWE because of --no-playlist\n",
      "[youtube] Extracting URL: https://www.youtube.com/watch?v=FcmhO9s0VWE\n",
      "[youtube] FcmhO9s0VWE: Downloading webpage\n",
      "[youtube] Sleeping 1 seconds ...\n",
      "[youtube] FcmhO9s0VWE: Downloading ios player API JSON\n"
     ]
    },
    {
     "name": "stderr",
     "output_type": "stream",
     "text": [
      "ERROR: [youtube] FcmhO9s0VWE: Private video. Sign in if you've been granted access to this video\n"
     ]
    },
    {
     "name": "stdout",
     "output_type": "stream",
     "text": [
      "Error downloading https://www.youtube.com/watch?v=FcmhO9s0VWE&list=PLX8oFA0JuITNDkmWMghr1BZ1fH82vjWJ5&index=43&t=0s with IMDB ID tt5027774: ERROR: [youtube] FcmhO9s0VWE: Private video. Sign in if you've been granted access to this video\n",
      "File /Users/kyleandrecastro/Library/CloudStorage/OneDrive-ust.edu.ph/videos/tt0368343.mp4 already exists. Skipping download.\n",
      "File /Users/kyleandrecastro/Library/CloudStorage/OneDrive-ust.edu.ph/videos/tt0318761.mp4 already exists. Skipping download.\n",
      "File /Users/kyleandrecastro/Library/CloudStorage/OneDrive-ust.edu.ph/videos/tt2041488.mp4 already exists. Skipping download.\n",
      "File /Users/kyleandrecastro/Library/CloudStorage/OneDrive-ust.edu.ph/videos/tt1217301.mp4 already exists. Skipping download.\n",
      "File /Users/kyleandrecastro/Library/CloudStorage/OneDrive-ust.edu.ph/videos/tt0196158.mp4 already exists. Skipping download.\n",
      "File /Users/kyleandrecastro/Library/CloudStorage/OneDrive-ust.edu.ph/videos/tt0170691.mp4 already exists. Skipping download.\n",
      "File /Users/kyleandrecastro/Library/CloudStorage/OneDrive-ust.edu.ph/videos/tt0318763.mp4 already exists. Skipping download.\n",
      "File /Users/kyleandrecastro/Library/CloudStorage/OneDrive-ust.edu.ph/videos/tt0300556.mp4 already exists. Skipping download.\n",
      "File /Users/kyleandrecastro/Library/CloudStorage/OneDrive-ust.edu.ph/videos/tt0120913.mp4 already exists. Skipping download.\n",
      "File /Users/kyleandrecastro/Library/CloudStorage/OneDrive-ust.edu.ph/videos/tt0388473.mp4 already exists. Skipping download.\n",
      "File /Users/kyleandrecastro/Library/CloudStorage/OneDrive-ust.edu.ph/videos/tt0246989.mp4 already exists. Skipping download.\n",
      "File /Users/kyleandrecastro/Library/CloudStorage/OneDrive-ust.edu.ph/videos/tt0114694.mp4 already exists. Skipping download.\n",
      "File /Users/kyleandrecastro/Library/CloudStorage/OneDrive-ust.edu.ph/videos/tt0120347.mp4 already exists. Skipping download.\n",
      "File /Users/kyleandrecastro/Library/CloudStorage/OneDrive-ust.edu.ph/videos/tt3564200.mp4 already exists. Skipping download.\n",
      "File /Users/kyleandrecastro/Library/CloudStorage/OneDrive-ust.edu.ph/videos/tt0367153.mp4 already exists. Skipping download.\n",
      "File /Users/kyleandrecastro/Library/CloudStorage/OneDrive-ust.edu.ph/videos/tt0808510.mp4 already exists. Skipping download.\n",
      "File /Users/kyleandrecastro/Library/CloudStorage/OneDrive-ust.edu.ph/videos/tt2626460.mp4 already exists. Skipping download.\n",
      "File /Users/kyleandrecastro/Library/CloudStorage/OneDrive-ust.edu.ph/videos/tt2784678.mp4 already exists. Skipping download.\n",
      "File /Users/kyleandrecastro/Library/CloudStorage/OneDrive-ust.edu.ph/videos/tt0092099.mp4 already exists. Skipping download.\n",
      "File /Users/kyleandrecastro/Library/CloudStorage/OneDrive-ust.edu.ph/videos/tt0374277.mp4 already exists. Skipping download.\n",
      "File /Users/kyleandrecastro/Library/CloudStorage/OneDrive-ust.edu.ph/videos/tt0435761.mp4 already exists. Skipping download.\n",
      "File /Users/kyleandrecastro/Library/CloudStorage/OneDrive-ust.edu.ph/videos/tt0399095.mp4 already exists. Skipping download.\n",
      "[youtube] Extracting URL: https://www.youtube.com/watch?v=6TetUbh6jrU\n",
      "[youtube] 6TetUbh6jrU: Downloading webpage\n",
      "[youtube] Sleeping 1 seconds ...\n",
      "[youtube] 6TetUbh6jrU: Downloading ios player API JSON\n"
     ]
    },
    {
     "name": "stderr",
     "output_type": "stream",
     "text": [
      "ERROR: [youtube] 6TetUbh6jrU: Video unavailable. This video is not available\n"
     ]
    },
    {
     "name": "stdout",
     "output_type": "stream",
     "text": [
      "Error downloading https://www.youtube.com/watch?v=6TetUbh6jrU with IMDB ID tt0181865: ERROR: [youtube] 6TetUbh6jrU: Video unavailable. This video is not available\n",
      "File /Users/kyleandrecastro/Library/CloudStorage/OneDrive-ust.edu.ph/videos/tt1015474.mp4 already exists. Skipping download.\n",
      "File /Users/kyleandrecastro/Library/CloudStorage/OneDrive-ust.edu.ph/videos/tt0117951.mp4 already exists. Skipping download.\n",
      "File /Users/kyleandrecastro/Library/CloudStorage/OneDrive-ust.edu.ph/videos/tt3152624.mp4 already exists. Skipping download.\n",
      "[youtube:tab] Extracting URL: https://www.youtube.com/watch?v=_Mj1d0U4AOg&list=PLelK7aEMtfK2UinH2cmCdy-4beZh2yfru&index=133&t=0s\n",
      "[youtube:tab] Downloading just the video _Mj1d0U4AOg because of --no-playlist\n",
      "[youtube] Extracting URL: https://www.youtube.com/watch?v=_Mj1d0U4AOg\n",
      "[youtube] _Mj1d0U4AOg: Downloading webpage\n",
      "[youtube] Sleeping 1 seconds ...\n",
      "[youtube] _Mj1d0U4AOg: Downloading ios player API JSON\n"
     ]
    },
    {
     "name": "stderr",
     "output_type": "stream",
     "text": [
      "ERROR: [youtube] _Mj1d0U4AOg: Video unavailable. This video has been removed by the uploader\n"
     ]
    },
    {
     "name": "stdout",
     "output_type": "stream",
     "text": [
      "Error downloading https://www.youtube.com/watch?v=_Mj1d0U4AOg&list=PLelK7aEMtfK2UinH2cmCdy-4beZh2yfru&index=133&t=0s with IMDB ID tt1924429: ERROR: [youtube] _Mj1d0U4AOg: Video unavailable. This video has been removed by the uploader\n",
      "File /Users/kyleandrecastro/Library/CloudStorage/OneDrive-ust.edu.ph/videos/tt0407265.mp4 already exists. Skipping download.\n",
      "File /Users/kyleandrecastro/Library/CloudStorage/OneDrive-ust.edu.ph/videos/tt1055369.mp4 already exists. Skipping download.\n",
      "File /Users/kyleandrecastro/Library/CloudStorage/OneDrive-ust.edu.ph/videos/tt1129442.mp4 already exists. Skipping download.\n",
      "File /Users/kyleandrecastro/Library/CloudStorage/OneDrive-ust.edu.ph/videos/tt0800241.mp4 already exists. Skipping download.\n",
      "File /Users/kyleandrecastro/Library/CloudStorage/OneDrive-ust.edu.ph/videos/tt0478303.mp4 already exists. Skipping download.\n",
      "File /Users/kyleandrecastro/Library/CloudStorage/OneDrive-ust.edu.ph/videos/tt6400674.mp4 already exists. Skipping download.\n",
      "File /Users/kyleandrecastro/Library/CloudStorage/OneDrive-ust.edu.ph/videos/tt1663333.mp4 already exists. Skipping download.\n",
      "File /Users/kyleandrecastro/Library/CloudStorage/OneDrive-ust.edu.ph/videos/tt1712261.mp4 already exists. Skipping download.\n",
      "File /Users/kyleandrecastro/Library/CloudStorage/OneDrive-ust.edu.ph/videos/tt0375154.mp4 already exists. Skipping download.\n",
      "File /Users/kyleandrecastro/Library/CloudStorage/OneDrive-ust.edu.ph/videos/tt1104001.mp4 already exists. Skipping download.\n",
      "File /Users/kyleandrecastro/Library/CloudStorage/OneDrive-ust.edu.ph/videos/tt0084827.mp4 already exists. Skipping download.\n",
      "File /Users/kyleandrecastro/Library/CloudStorage/OneDrive-ust.edu.ph/videos/tt0332452.mp4 already exists. Skipping download.\n",
      "File /Users/kyleandrecastro/Library/CloudStorage/OneDrive-ust.edu.ph/videos/tt0267989.mp4 already exists. Skipping download.\n",
      "File /Users/kyleandrecastro/Library/CloudStorage/OneDrive-ust.edu.ph/videos/tt0311941.mp4 already exists. Skipping download.\n",
      "File /Users/kyleandrecastro/Library/CloudStorage/OneDrive-ust.edu.ph/videos/tt0283084.mp4 already exists. Skipping download.\n",
      "File /Users/kyleandrecastro/Library/CloudStorage/OneDrive-ust.edu.ph/videos/tt0491203.mp4 already exists. Skipping download.\n",
      "File /Users/kyleandrecastro/Library/CloudStorage/OneDrive-ust.edu.ph/videos/tt1860353.mp4 already exists. Skipping download.\n",
      "File /Users/kyleandrecastro/Library/CloudStorage/OneDrive-ust.edu.ph/videos/tt3672742.mp4 already exists. Skipping download.\n",
      "File /Users/kyleandrecastro/Library/CloudStorage/OneDrive-ust.edu.ph/videos/tt1266149.mp4 already exists. Skipping download.\n",
      "File /Users/kyleandrecastro/Library/CloudStorage/OneDrive-ust.edu.ph/videos/tt0269341.mp4 already exists. Skipping download.\n",
      "File /Users/kyleandrecastro/Library/CloudStorage/OneDrive-ust.edu.ph/videos/tt0141926.mp4 already exists. Skipping download.\n",
      "File /Users/kyleandrecastro/Library/CloudStorage/OneDrive-ust.edu.ph/videos/tt0491703.mp4 already exists. Skipping download.\n",
      "File /Users/kyleandrecastro/Library/CloudStorage/OneDrive-ust.edu.ph/videos/tt0164212.mp4 already exists. Skipping download.\n",
      "File /Users/kyleandrecastro/Library/CloudStorage/OneDrive-ust.edu.ph/videos/tt0373416.mp4 already exists. Skipping download.\n",
      "File /Users/kyleandrecastro/Library/CloudStorage/OneDrive-ust.edu.ph/videos/tt0279493.mp4 already exists. Skipping download.\n",
      "File /Users/kyleandrecastro/Library/CloudStorage/OneDrive-ust.edu.ph/videos/tt0360130.mp4 already exists. Skipping download.\n",
      "File /Users/kyleandrecastro/Library/CloudStorage/OneDrive-ust.edu.ph/videos/tt0401855.mp4 already exists. Skipping download.\n",
      "File /Users/kyleandrecastro/Library/CloudStorage/OneDrive-ust.edu.ph/videos/tt0834001.mp4 already exists. Skipping download.\n",
      "File /Users/kyleandrecastro/Library/CloudStorage/OneDrive-ust.edu.ph/videos/tt0281322.mp4 already exists. Skipping download.\n",
      "File /Users/kyleandrecastro/Library/CloudStorage/OneDrive-ust.edu.ph/videos/tt0475417.mp4 already exists. Skipping download.\n",
      "File /Users/kyleandrecastro/Library/CloudStorage/OneDrive-ust.edu.ph/videos/tt0475276.mp4 already exists. Skipping download.\n",
      "File /Users/kyleandrecastro/Library/CloudStorage/OneDrive-ust.edu.ph/videos/tt0105698.mp4 already exists. Skipping download.\n",
      "File /Users/kyleandrecastro/Library/CloudStorage/OneDrive-ust.edu.ph/videos/tt0880578.mp4 already exists. Skipping download.\n",
      "File /Users/kyleandrecastro/Library/CloudStorage/OneDrive-ust.edu.ph/videos/tt6499752.mp4 already exists. Skipping download.\n",
      "File /Users/kyleandrecastro/Library/CloudStorage/OneDrive-ust.edu.ph/videos/tt0263757.mp4 already exists. Skipping download.\n",
      "File /Users/kyleandrecastro/Library/CloudStorage/OneDrive-ust.edu.ph/videos/tt0910934.mp4 already exists. Skipping download.\n",
      "File /Users/kyleandrecastro/Library/CloudStorage/OneDrive-ust.edu.ph/videos/tt1524930.mp4 already exists. Skipping download.\n",
      "File /Users/kyleandrecastro/Library/CloudStorage/OneDrive-ust.edu.ph/videos/tt0259711.mp4 already exists. Skipping download.\n",
      "File /Users/kyleandrecastro/Library/CloudStorage/OneDrive-ust.edu.ph/videos/tt0443274.mp4 already exists. Skipping download.\n",
      "File /Users/kyleandrecastro/Library/CloudStorage/OneDrive-ust.edu.ph/videos/tt0139699.mp4 already exists. Skipping download.\n",
      "File /Users/kyleandrecastro/Library/CloudStorage/OneDrive-ust.edu.ph/videos/tt0383694.mp4 already exists. Skipping download.\n",
      "File /Users/kyleandrecastro/Library/CloudStorage/OneDrive-ust.edu.ph/videos/tt1029241.mp4 already exists. Skipping download.\n",
      "File /Users/kyleandrecastro/Library/CloudStorage/OneDrive-ust.edu.ph/videos/tt0090270.mp4 already exists. Skipping download.\n",
      "File /Users/kyleandrecastro/Library/CloudStorage/OneDrive-ust.edu.ph/videos/tt0473308.mp4 already exists. Skipping download.\n",
      "File /Users/kyleandrecastro/Library/CloudStorage/OneDrive-ust.edu.ph/videos/tt1159961.mp4 already exists. Skipping download.\n",
      "File /Users/kyleandrecastro/Library/CloudStorage/OneDrive-ust.edu.ph/videos/tt0127349.mp4 already exists. Skipping download.\n",
      "File /Users/kyleandrecastro/Library/CloudStorage/OneDrive-ust.edu.ph/videos/tt0219400.mp4 already exists. Skipping download.\n",
      "File /Users/kyleandrecastro/Library/CloudStorage/OneDrive-ust.edu.ph/videos/tt0841046.mp4 already exists. Skipping download.\n",
      "File /Users/kyleandrecastro/Library/CloudStorage/OneDrive-ust.edu.ph/videos/tt0457523.mp4 already exists. Skipping download.\n",
      "File /Users/kyleandrecastro/Library/CloudStorage/OneDrive-ust.edu.ph/videos/tt1104006.mp4 already exists. Skipping download.\n",
      "File /Users/kyleandrecastro/Library/CloudStorage/OneDrive-ust.edu.ph/videos/tt1655460.mp4 already exists. Skipping download.\n",
      "File /Users/kyleandrecastro/Library/CloudStorage/OneDrive-ust.edu.ph/videos/tt0493464.mp4 already exists. Skipping download.\n",
      "File /Users/kyleandrecastro/Library/CloudStorage/OneDrive-ust.edu.ph/videos/tt3708886.mp4 already exists. Skipping download.\n",
      "File /Users/kyleandrecastro/Library/CloudStorage/OneDrive-ust.edu.ph/videos/tt3832914.mp4 already exists. Skipping download.\n",
      "File /Users/kyleandrecastro/Library/CloudStorage/OneDrive-ust.edu.ph/videos/tt0409459.mp4 already exists. Skipping download.\n",
      "File /Users/kyleandrecastro/Library/CloudStorage/OneDrive-ust.edu.ph/videos/tt0277434.mp4 already exists. Skipping download.\n",
      "File /Users/kyleandrecastro/Library/CloudStorage/OneDrive-ust.edu.ph/videos/tt1723121.mp4 already exists. Skipping download.\n",
      "File /Users/kyleandrecastro/Library/CloudStorage/OneDrive-ust.edu.ph/videos/tt0494652.mp4 already exists. Skipping download.\n",
      "File /Users/kyleandrecastro/Library/CloudStorage/OneDrive-ust.edu.ph/videos/tt0114906.mp4 already exists. Skipping download.\n",
      "File /Users/kyleandrecastro/Library/CloudStorage/OneDrive-ust.edu.ph/videos/tt10876506.mp4 already exists. Skipping download.\n",
      "File /Users/kyleandrecastro/Library/CloudStorage/OneDrive-ust.edu.ph/videos/tt0298228.mp4 already exists. Skipping download.\n",
      "File /Users/kyleandrecastro/Library/CloudStorage/OneDrive-ust.edu.ph/videos/tt1661461.mp4 already exists. Skipping download.\n",
      "File /Users/kyleandrecastro/Library/CloudStorage/OneDrive-ust.edu.ph/videos/tt0832318.mp4 already exists. Skipping download.\n",
      "File /Users/kyleandrecastro/Library/CloudStorage/OneDrive-ust.edu.ph/videos/tt0486674.mp4 already exists. Skipping download.\n",
      "File /Users/kyleandrecastro/Library/CloudStorage/OneDrive-ust.edu.ph/videos/tt7073710.mp4 already exists. Skipping download.\n",
      "File /Users/kyleandrecastro/Library/CloudStorage/OneDrive-ust.edu.ph/videos/tt7634968.mp4 already exists. Skipping download.\n",
      "File /Users/kyleandrecastro/Library/CloudStorage/OneDrive-ust.edu.ph/videos/tt1178663.mp4 already exists. Skipping download.\n",
      "File /Users/kyleandrecastro/Library/CloudStorage/OneDrive-ust.edu.ph/videos/tt6290736.mp4 already exists. Skipping download.\n",
      "File /Users/kyleandrecastro/Library/CloudStorage/OneDrive-ust.edu.ph/videos/tt2247476.mp4 already exists. Skipping download.\n",
      "File /Users/kyleandrecastro/Library/CloudStorage/OneDrive-ust.edu.ph/videos/tt0396271.mp4 already exists. Skipping download.\n",
      "File /Users/kyleandrecastro/Library/CloudStorage/OneDrive-ust.edu.ph/videos/tt0081748.mp4 already exists. Skipping download.\n",
      "File /Users/kyleandrecastro/Library/CloudStorage/OneDrive-ust.edu.ph/videos/tt0192788.mp4 already exists. Skipping download.\n",
      "File /Users/kyleandrecastro/Library/CloudStorage/OneDrive-ust.edu.ph/videos/tt5716848.mp4 already exists. Skipping download.\n",
      "File /Users/kyleandrecastro/Library/CloudStorage/OneDrive-ust.edu.ph/videos/tt0381707.mp4 already exists. Skipping download.\n",
      "File /Users/kyleandrecastro/Library/CloudStorage/OneDrive-ust.edu.ph/videos/tt1618421.mp4 already exists. Skipping download.\n",
      "File /Users/kyleandrecastro/Library/CloudStorage/OneDrive-ust.edu.ph/videos/tt0118158.mp4 already exists. Skipping download.\n",
      "File /Users/kyleandrecastro/Library/CloudStorage/OneDrive-ust.edu.ph/videos/tt0096438.mp4 already exists. Skipping download.\n",
      "File /Users/kyleandrecastro/Library/CloudStorage/OneDrive-ust.edu.ph/videos/tt0906108.mp4 already exists. Skipping download.\n",
      "File /Users/kyleandrecastro/Library/CloudStorage/OneDrive-ust.edu.ph/videos/tt4501244.mp4 already exists. Skipping download.\n",
      "File /Users/kyleandrecastro/Library/CloudStorage/OneDrive-ust.edu.ph/videos/tt2960470.mp4 already exists. Skipping download.\n",
      "File /Users/kyleandrecastro/Library/CloudStorage/OneDrive-ust.edu.ph/videos/tt0114938.mp4 already exists. Skipping download.\n",
      "File /Users/kyleandrecastro/Library/CloudStorage/OneDrive-ust.edu.ph/videos/tt0486946.mp4 already exists. Skipping download.\n",
      "File /Users/kyleandrecastro/Library/CloudStorage/OneDrive-ust.edu.ph/videos/tt0310357.mp4 already exists. Skipping download.\n",
      "File /Users/kyleandrecastro/Library/CloudStorage/OneDrive-ust.edu.ph/videos/tt1781058.mp4 already exists. Skipping download.\n",
      "File /Users/kyleandrecastro/Library/CloudStorage/OneDrive-ust.edu.ph/videos/tt0335559.mp4 already exists. Skipping download.\n",
      "File /Users/kyleandrecastro/Library/CloudStorage/OneDrive-ust.edu.ph/videos/tt0486051.mp4 already exists. Skipping download.\n",
      "File /Users/kyleandrecastro/Library/CloudStorage/OneDrive-ust.edu.ph/videos/tt0245562.mp4 already exists. Skipping download.\n",
      "File /Users/kyleandrecastro/Library/CloudStorage/OneDrive-ust.edu.ph/videos/tt1449283.mp4 already exists. Skipping download.\n",
      "File /Users/kyleandrecastro/Library/CloudStorage/OneDrive-ust.edu.ph/videos/tt0111732.mp4 already exists. Skipping download.\n",
      "File /Users/kyleandrecastro/Library/CloudStorage/OneDrive-ust.edu.ph/videos/tt0364751.mp4 already exists. Skipping download.\n",
      "File /Users/kyleandrecastro/Library/CloudStorage/OneDrive-ust.edu.ph/videos/tt1547090.mp4 already exists. Skipping download.\n",
      "File /Users/kyleandrecastro/Library/CloudStorage/OneDrive-ust.edu.ph/videos/tt3225318.mp4 already exists. Skipping download.\n",
      "[youtube] Extracting URL: https://www.youtube.com/watch?v=xQvJN8BNkO4\n",
      "[youtube] xQvJN8BNkO4: Downloading webpage\n",
      "[youtube] Sleeping 1 seconds ...\n",
      "[youtube] xQvJN8BNkO4: Downloading ios player API JSON\n"
     ]
    },
    {
     "name": "stderr",
     "output_type": "stream",
     "text": [
      "ERROR: [youtube] xQvJN8BNkO4: Video unavailable\n"
     ]
    },
    {
     "name": "stdout",
     "output_type": "stream",
     "text": [
      "Error downloading https://www.youtube.com/watch?v=xQvJN8BNkO4 with IMDB ID tt1403241: ERROR: [youtube] xQvJN8BNkO4: Video unavailable\n",
      "File /Users/kyleandrecastro/Library/CloudStorage/OneDrive-ust.edu.ph/videos/tt0206420.mp4 already exists. Skipping download.\n",
      "File /Users/kyleandrecastro/Library/CloudStorage/OneDrive-ust.edu.ph/videos/tt0469641.mp4 already exists. Skipping download.\n",
      "File /Users/kyleandrecastro/Library/CloudStorage/OneDrive-ust.edu.ph/videos/tt1772341.mp4 already exists. Skipping download.\n",
      "File /Users/kyleandrecastro/Library/CloudStorage/OneDrive-ust.edu.ph/videos/tt0477139.mp4 already exists. Skipping download.\n",
      "File /Users/kyleandrecastro/Library/CloudStorage/OneDrive-ust.edu.ph/videos/tt0295700.mp4 already exists. Skipping download.\n",
      "File /Users/kyleandrecastro/Library/CloudStorage/OneDrive-ust.edu.ph/videos/tt0120903.mp4 already exists. Skipping download.\n",
      "File /Users/kyleandrecastro/Library/CloudStorage/OneDrive-ust.edu.ph/videos/tt0300620.mp4 already exists. Skipping download.\n",
      "File /Users/kyleandrecastro/Library/CloudStorage/OneDrive-ust.edu.ph/videos/tt0295701.mp4 already exists. Skipping download.\n",
      "[imdb] Extracting URL: https://www.imdb.com/videoplayer/vi812778265\n",
      "[imdb] 812778265: Downloading webpage\n"
     ]
    },
    {
     "name": "stderr",
     "output_type": "stream",
     "text": [
      "ERROR: [imdb] 812778265: Unable to download webpage: HTTP Error 404: Not Found (caused by <HTTPError 404: Not Found>)\n"
     ]
    },
    {
     "name": "stdout",
     "output_type": "stream",
     "text": [
      "Error downloading https://www.imdb.com/videoplayer/vi812778265 with IMDB ID tt1045778: ERROR: [imdb] 812778265: Unable to download webpage: HTTP Error 404: Not Found (caused by <HTTPError 404: Not Found>)\n",
      "File /Users/kyleandrecastro/Library/CloudStorage/OneDrive-ust.edu.ph/videos/tt1068680.mp4 already exists. Skipping download.\n",
      "File /Users/kyleandrecastro/Library/CloudStorage/OneDrive-ust.edu.ph/videos/tt1302067.mp4 already exists. Skipping download.\n",
      "File /Users/kyleandrecastro/Library/CloudStorage/OneDrive-ust.edu.ph/videos/tt1018830.mp4 already exists. Skipping download.\n",
      "File /Users/kyleandrecastro/Library/CloudStorage/OneDrive-ust.edu.ph/videos/tt0365957.mp4 already exists. Skipping download.\n",
      "File /Users/kyleandrecastro/Library/CloudStorage/OneDrive-ust.edu.ph/videos/tt0796375.mp4 already exists. Skipping download.\n",
      "File /Users/kyleandrecastro/Library/CloudStorage/OneDrive-ust.edu.ph/videos/tt0289635.mp4 already exists. Skipping download.\n",
      "File /Users/kyleandrecastro/Library/CloudStorage/OneDrive-ust.edu.ph/videos/tt1240982.mp4 already exists. Skipping download.\n",
      "File /Users/kyleandrecastro/Library/CloudStorage/OneDrive-ust.edu.ph/videos/tt0403702.mp4 already exists. Skipping download.\n",
      "File /Users/kyleandrecastro/Library/CloudStorage/OneDrive-ust.edu.ph/videos/tt4273562.mp4 already exists. Skipping download.\n",
      "File /Users/kyleandrecastro/Library/CloudStorage/OneDrive-ust.edu.ph/videos/tt1007028.mp4 already exists. Skipping download.\n",
      "File /Users/kyleandrecastro/Library/CloudStorage/OneDrive-ust.edu.ph/videos/tt0288330.mp4 already exists. Skipping download.\n",
      "File /Users/kyleandrecastro/Library/CloudStorage/OneDrive-ust.edu.ph/videos/tt0086637.mp4 already exists. Skipping download.\n",
      "File /Users/kyleandrecastro/Library/CloudStorage/OneDrive-ust.edu.ph/videos/tt1881109.mp4 already exists. Skipping download.\n",
      "File /Users/kyleandrecastro/Library/CloudStorage/OneDrive-ust.edu.ph/videos/tt1156398.mp4 already exists. Skipping download.\n",
      "File /Users/kyleandrecastro/Library/CloudStorage/OneDrive-ust.edu.ph/videos/tt0389557.mp4 already exists. Skipping download.\n"
     ]
    }
   ],
   "source": [
    "# Download the videos\n",
    "for id, url in zip(ids, urls):\n",
    "    # Define the output filename\n",
    "    output_filename = os.path.join(output_directory, f'{id}.mp4')\n",
    "\n",
    "    # Check if the file already exists\n",
    "    if os.path.exists(output_filename):\n",
    "        print(f\"File {output_filename} already exists. Skipping download.\")\n",
    "        continue\n",
    "\n",
    "    try:\n",
    "        # Define yt-dlp options with the IMDB ID as the filename\n",
    "        ydl_opts = {\n",
    "            'outtmpl': output_filename,\n",
    "            'format': 'bestvideo+bestaudio/best', \n",
    "            'merge_output_format': 'mp4',\n",
    "            'postprocessors': [\n",
    "            {  # Use ffmpeg for postprocessing\n",
    "                'key': 'FFmpegVideoConvertor',\n",
    "                'preferedformat': 'mp4', # Convert to mp4\n",
    "\n",
    "            }],\n",
    "\n",
    "            'noplaylist': True,                   # Do not download playlists\n",
    "            'concurrent_fragments': 10,            # Download multiple fragments at once\n",
    "            'retries': 10,                        # Retry download up to 10 times\n",
    "            'fragment_retries': 10,               # Retry fragments up to 10 times\n",
    "            'http_chunk_size': 10 * 1024 * 1024,  # Set chunk size to 10 MB\n",
    "            'sleep_interval_requests': 1,         # Sleep 1 second between requests\n",
    "            'sleep_interval': 1,                  # Sleep 1 second between downloads\n",
    "            'socket_timeout': 90,\n",
    "            # 'verbose': True,\n",
    "        }\n",
    "        with YoutubeDL(ydl_opts) as ydl:\n",
    "            ydl.download([url])\n",
    "    except Exception as e:\n",
    "        print(f\"Error downloading {url} with IMDB ID {id}: {e}\")\n",
    "        # Add the failed download to the list\n",
    "        failed_downloads.append(id)"
   ]
  },
  {
   "cell_type": "code",
   "execution_count": 7,
   "metadata": {},
   "outputs": [
    {
     "name": "stdout",
     "output_type": "stream",
     "text": [
      "Failed Downloads:\n",
      "['tt0200469', 'tt4503510', 'tt0401997', 'tt1349482', 'tt0082186', 'tt0924129', 'tt2437712', 'tt2917484', 'tt3053228', 'tt0099371', 'tt2101341', 'tt0099385', 'tt0259288', 'tt1336621', 'tt2937696', 'tt1288558', 'tt2524674', 'tt4158096', 'tt1800302', 'tt1104733', 'tt0110093', 'tt5580036', 'tt5962210', 'tt2180411', 'tt0405052', 'tt2713642', 'tt2980472', 'tt0140336', 'tt7248248', 'tt0104839', 'tt1720164', 'tt0113855', 'tt0089652', 'tt0220827', 'tt0190590', 'tt5162658', 'tt1682940', 'tt10327354', 'tt1152836', 'tt4687276', 'tt2293750', 'tt0465602', 'tt0367085', 'tt0266987', 'tt1273235', 'tt2126362', 'tt2494280', 'tt0859635', 'tt1488555', 'tt4769836', 'tt1313139', 'tt2383068', 'tt5580390', 'tt1758795', 'tt5027774', 'tt0181865', 'tt1924429', 'tt1403241', 'tt1045778']\n"
     ]
    }
   ],
   "source": [
    "# Print the list of failed downloads\n",
    "if failed_downloads:\n",
    "    print(\"Failed Downloads:\")\n",
    "    print(failed_downloads, sep=', ')\n",
    "else:\n",
    "    print(\"All downloads completed successfully.\")"
   ]
  },
  {
   "cell_type": "code",
   "execution_count": 8,
   "metadata": {},
   "outputs": [
    {
     "name": "stdout",
     "output_type": "stream",
     "text": [
      "59\n"
     ]
    }
   ],
   "source": [
    "print(len(failed_downloads))"
   ]
  }
 ],
 "metadata": {
  "kernelspec": {
   "display_name": "Python 3",
   "language": "python",
   "name": "python3"
  },
  "language_info": {
   "codemirror_mode": {
    "name": "ipython",
    "version": 3
   },
   "file_extension": ".py",
   "mimetype": "text/x-python",
   "name": "python",
   "nbconvert_exporter": "python",
   "pygments_lexer": "ipython3",
   "version": "3.12.4"
  }
 },
 "nbformat": 4,
 "nbformat_minor": 2
}
