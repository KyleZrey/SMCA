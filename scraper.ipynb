{
 "cells": [
  {
   "cell_type": "code",
   "execution_count": null,
   "metadata": {},
   "outputs": [],
   "source": [
    "import pandas as pd\n",
    "import os\n",
    "from yt_dlp import YoutubeDL"
   ]
  },
  {
   "cell_type": "code",
   "execution_count": null,
   "metadata": {},
   "outputs": [],
   "source": [
    "# Output directory\n",
    "output_directory = 'E:/videos'\n",
    "os.makedirs(output_directory, exist_ok=True)"
   ]
  },
  {
   "cell_type": "code",
   "execution_count": null,
   "metadata": {},
   "outputs": [],
   "source": [
    "# Load the Dataset\n",
    "df = pd.read_excel('MM-Trailer_dataset.xlsx')"
   ]
  },
  {
   "cell_type": "code",
   "execution_count": null,
   "metadata": {},
   "outputs": [],
   "source": [
    "# turn the IMDBid and URL column into a list\n",
    "urls = df['URL'].tolist()\n",
    "ids = df['IMDBid'].tolist()"
   ]
  },
  {
   "cell_type": "code",
   "execution_count": null,
   "metadata": {},
   "outputs": [],
   "source": [
    "# List to keep track of failed downloads\n",
    "failed_downloads = []"
   ]
  },
  {
   "cell_type": "code",
   "execution_count": null,
   "metadata": {},
   "outputs": [],
   "source": [
    "# Download the videos\n",
    "for id, url in zip(ids, urls):\n",
    "    # Define the output filename\n",
    "    output_filename = os.path.join(output_directory, f'{id}.mp4')\n",
    "\n",
    "    # Check if the file already exists\n",
    "    if os.path.exists(output_filename):\n",
    "        print(f\"File {output_filename} already exists. Skipping download.\")\n",
    "        continue\n",
    "\n",
    "    try:\n",
    "        # Define yt-dlp options with the IMDB ID as the filename\n",
    "        ydl_opts = {\n",
    "            'outtmpl': output_filename,\n",
    "            'format': 'bestvideo+bestaudio/best', \n",
    "            'merge_output_format': 'mp4',\n",
    "            'postprocessors': [\n",
    "            {  # Use ffmpeg for postprocessing\n",
    "                'key': 'FFmpegVideoConvertor',\n",
    "                'preferedformat': 'mp4', # Convert to mp4\n",
    "\n",
    "            },\n",
    "            {  # Use ffmpeg to extract audio\n",
    "                'key': 'FFmpegExtractAudio',\n",
    "                'preferredcodec': 'mp3', # Convert audio to mp3\n",
    "            }],\n",
    "\n",
    "            'noplaylist': True,                   # Do not download playlists\n",
    "            'concurrent_fragments': 10,            # Download multiple fragments at once\n",
    "            'retries': 10,                        # Retry download up to 10 times\n",
    "            'fragment_retries': 10,               # Retry fragments up to 10 times\n",
    "            'http_chunk_size': 10 * 1024 * 1024,  # Set chunk size to 10 MB\n",
    "            'sleep_interval_requests': 1,         # Sleep 1 second between requests\n",
    "            'sleep_interval': 1,                  # Sleep 1 second between downloads\n",
    "            'socket_timeout': 90\n",
    "        }\n",
    "        with YoutubeDL(ydl_opts) as ydl:\n",
    "            ydl.download([url])\n",
    "    except Exception as e:\n",
    "        print(f\"Error downloading {url} with IMDB ID {id}: {e}\")\n",
    "        # Add the failed download to the list\n",
    "        failed_downloads.append((id, url, str(e)))"
   ]
  },
  {
   "cell_type": "code",
   "execution_count": null,
   "metadata": {},
   "outputs": [],
   "source": [
    "# Print the list of failed downloads\n",
    "if failed_downloads:\n",
    "    print(\"\\nFailed Downloads:\")\n",
    "    for imdb_id, url, error in failed_downloads:\n",
    "        print(f\"IMDB ID: {imdb_id}, URL: {url}, Error: {error}\")\n",
    "else:\n",
    "    print(\"All downloads completed successfully.\")"
   ]
  }
 ],
 "metadata": {
  "kernelspec": {
   "display_name": "Python 3",
   "language": "python",
   "name": "python3"
  },
  "language_info": {
   "codemirror_mode": {
    "name": "ipython",
    "version": 3
   },
   "file_extension": ".py",
   "mimetype": "text/x-python",
   "name": "python",
   "nbconvert_exporter": "python",
   "pygments_lexer": "ipython3",
   "version": "3.12.3"
  }
 },
 "nbformat": 4,
 "nbformat_minor": 2
}
