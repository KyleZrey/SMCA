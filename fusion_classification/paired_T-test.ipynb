{
 "cells": [
  {
   "cell_type": "code",
   "execution_count": 1,
   "metadata": {},
   "outputs": [],
   "source": [
    "import numpy as np\n",
    "from scipy import stats\n",
    "import pandas as pd"
   ]
  },
  {
   "cell_type": "code",
   "execution_count": 2,
   "metadata": {},
   "outputs": [
    {
     "name": "stdout",
     "output_type": "stream",
     "text": [
      "GMU Model Cross-Validation F1 scores: [0.73239434 0.76923072 0.65625    0.69444442 0.70175439 0.76470584\n",
      " 0.65116274 0.84090906 0.66666675 0.69999999]\n",
      "Simul-Parallel Cross-Validation F1 scores: [0.07407407 0.07142857 0.         0.1111111  0.1025641  0.06779662\n",
      " 0.07017543 0.         0.03921569 0.12765957]\n",
      "SMCA Model Cross-Validation F1 scores: [0.16666667 0.05405406 0.35772356 0.43023255 0.05263158 0.35555553\n",
      " 0.1891892  0.48571429 0.13636364 0.37209302]\n"
     ]
    }
   ],
   "source": [
    "# Specify the path to the .npy file\n",
    "GMU_File = \"results/gmu-Arevalo-F1_scores.npy\"\n",
    "SimulParallel_File = \"results/simulParallel-Xie-F1_scores.npy\"\n",
    "SMCA_File = \"results/SMCA-F1_scores.npy\"\n",
    "\n",
    "# Load the F1 scores from the file\n",
    "GMU_F1_scores = np.load(GMU_File)\n",
    "SimulParallel_F1_scores = np.load(SimulParallel_File)\n",
    "SMCA_F1_scores = np.load(SMCA_File)\n",
    "\n",
    "# Display the F1 scores\n",
    "print(\"GMU Model Cross-Validation F1 scores:\", GMU_F1_scores)\n",
    "print(\"Simul-Parallel Cross-Validation F1 scores:\", SimulParallel_F1_scores)\n",
    "print(\"SMCA Model Cross-Validation F1 scores:\", SMCA_F1_scores)"
   ]
  },
  {
   "cell_type": "code",
   "execution_count": 3,
   "metadata": {},
   "outputs": [
    {
     "name": "stdout",
     "output_type": "stream",
     "text": [
      "GMU Model Cross-Validation F1 scores:\n",
      "  Fold 1: 0.7324\n",
      "  Fold 2: 0.7692\n",
      "  Fold 3: 0.6562\n",
      "  Fold 4: 0.6944\n",
      "  Fold 5: 0.7018\n",
      "  Fold 6: 0.7647\n",
      "  Fold 7: 0.6512\n",
      "  Fold 8: 0.8409\n",
      "  Fold 9: 0.6667\n",
      "  Fold 10: 0.7000\n",
      "\n",
      "Simul-Parallel Cross-Validation F1 scores:\n",
      "  Fold 1: 0.0741\n",
      "  Fold 2: 0.0714\n",
      "  Fold 3: 0.0000\n",
      "  Fold 4: 0.1111\n",
      "  Fold 5: 0.1026\n",
      "  Fold 6: 0.0678\n",
      "  Fold 7: 0.0702\n",
      "  Fold 8: 0.0000\n",
      "  Fold 9: 0.0392\n",
      "  Fold 10: 0.1277\n",
      "\n",
      "SMCA Model Cross-Validation F1 scores:\n",
      "  Fold 1: 0.1667\n",
      "  Fold 2: 0.0541\n",
      "  Fold 3: 0.3577\n",
      "  Fold 4: 0.4302\n",
      "  Fold 5: 0.0526\n",
      "  Fold 6: 0.3556\n",
      "  Fold 7: 0.1892\n",
      "  Fold 8: 0.4857\n",
      "  Fold 9: 0.1364\n",
      "  Fold 10: 0.3721\n"
     ]
    }
   ],
   "source": [
    "# Display the F1 scores in list form\n",
    "print(\"GMU Model Cross-Validation F1 scores:\")\n",
    "for i, score in enumerate(GMU_F1_scores, start=1):\n",
    "    print(f\"  Fold {i}: {score:.4f}\")\n",
    "\n",
    "print(\"\\nSimul-Parallel Cross-Validation F1 scores:\")\n",
    "for i, score in enumerate(SimulParallel_F1_scores, start=1):\n",
    "    print(f\"  Fold {i}: {score:.4f}\")\n",
    "\n",
    "print(\"\\nSMCA Model Cross-Validation F1 scores:\")\n",
    "for i, score in enumerate(SMCA_F1_scores, start=1):\n",
    "    print(f\"  Fold {i}: {score:.4f}\")"
   ]
  },
  {
   "cell_type": "code",
   "execution_count": 10,
   "metadata": {},
   "outputs": [
    {
     "name": "stdout",
     "output_type": "stream",
     "text": [
      " Fold  GMU F1 Score  Simul-Parallel F1 Score  SMCA F1 Score\n",
      "    1      0.732394                 0.074074       0.166667\n",
      "    2      0.769231                 0.071429       0.054054\n",
      "    3      0.656250                 0.000000       0.357724\n",
      "    4      0.694444                 0.111111       0.430233\n",
      "    5      0.701754                 0.102564       0.052632\n",
      "    6      0.764706                 0.067797       0.355556\n",
      "    7      0.651163                 0.070175       0.189189\n",
      "    8      0.840909                 0.000000       0.485714\n",
      "    9      0.666667                 0.039216       0.136364\n",
      "   10      0.700000                 0.127660       0.372093\n"
     ]
    }
   ],
   "source": [
    "# Create a DataFrame\n",
    "f1_scores_df = pd.DataFrame({\n",
    "    'Fold': np.arange(1, len(GMU_F1_scores) + 1),\n",
    "    'GMU F1 Score': GMU_F1_scores,\n",
    "    'Simul-Parallel F1 Score': SimulParallel_F1_scores,\n",
    "    'SMCA F1 Score': SMCA_F1_scores\n",
    "})\n",
    "# Display the DataFrame without the index\n",
    "print(f1_scores_df.to_string(index=False))"
   ]
  },
  {
   "cell_type": "code",
   "execution_count": 13,
   "metadata": {},
   "outputs": [
    {
     "name": "stdout",
     "output_type": "stream",
     "text": [
      "Paired t-test between SMCA Model and Simul-Parallel Model F1 Scores:\n",
      " t-statistic = 3.545785837, p-value = 0.006257084\n"
     ]
    }
   ],
   "source": [
    "\n",
    "t_stat_SMCA_Simul, p_value_SMCA_Simul = stats.ttest_rel(SMCA_F1_scores, SimulParallel_F1_scores)\n",
    "print(f\"Paired t-test between SMCA Model and Simul-Parallel Model F1 Scores:\\n t-statistic = {t_stat_SMCA_Simul:.9f}, p-value = {p_value_SMCA_Simul:.9f}\")\n"
   ]
  },
  {
   "cell_type": "code",
   "execution_count": 14,
   "metadata": {},
   "outputs": [
    {
     "name": "stdout",
     "output_type": "stream",
     "text": [
      "Paired t-test between SMCA Model and GMU Model F1 Scores:\n",
      " t-statistic = -9.422635058, p-value = 0.000005857\n"
     ]
    }
   ],
   "source": [
    "t_stat_SMCA_GMU, p_value_SMCA_GMU = stats.ttest_rel(SMCA_F1_scores, GMU_F1_scores)\n",
    "print(f\"Paired t-test between SMCA Model and GMU Model F1 Scores:\\n t-statistic = {t_stat_SMCA_GMU:.9f}, p-value = {p_value_SMCA_GMU:.9f}\")"
   ]
  }
 ],
 "metadata": {
  "kernelspec": {
   "display_name": "Python 3",
   "language": "python",
   "name": "python3"
  },
  "language_info": {
   "codemirror_mode": {
    "name": "ipython",
    "version": 3
   },
   "file_extension": ".py",
   "mimetype": "text/x-python",
   "name": "python",
   "nbconvert_exporter": "python",
   "pygments_lexer": "ipython3",
   "version": "3.12.3"
  }
 },
 "nbformat": 4,
 "nbformat_minor": 2
}
