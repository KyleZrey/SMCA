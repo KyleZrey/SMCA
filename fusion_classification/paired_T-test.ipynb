{
 "cells": [
  {
   "cell_type": "code",
   "execution_count": 1,
   "metadata": {},
   "outputs": [],
   "source": [
    "import numpy as np\n",
    "from scipy import stats\n",
    "import pandas as pd"
   ]
  },
  {
   "cell_type": "code",
   "execution_count": null,
   "metadata": {},
   "outputs": [],
   "source": [
    "selected_modality = 'ATV'\n",
    "\n",
    "# Specify the path to the .npy file\n",
    "GMU_File = f'results/gmu/GMU-CV_scores.csv'\n",
    "SimulParallel_File = f'results/simulParallel/SimulParallel-CV_scores.csv'\n",
    "SMCA_File = f'results/smca/SMCA-CV_scores_{selected_modality}.csv'\n",
    "\n",
    "# Load the F1 scores from the file\n",
    "try:\n",
    "    GMU_CV_scores = pd.read_csv(GMU_File)\n",
    "    SimulParallel_CV_scores = pd.read_csv(SimulParallel_File)\n",
    "    SMCA_CV_scores = pd.read_csv(SMCA_File)\n",
    "except FileNotFoundError as e:\n",
    "    print(f\"Error: {e}\")\n",
    "    exit()"
   ]
  },
  {
   "cell_type": "code",
   "execution_count": 3,
   "metadata": {},
   "outputs": [
    {
     "data": {
      "text/html": [
       "<div>\n",
       "<style scoped>\n",
       "    .dataframe tbody tr th:only-of-type {\n",
       "        vertical-align: middle;\n",
       "    }\n",
       "\n",
       "    .dataframe tbody tr th {\n",
       "        vertical-align: top;\n",
       "    }\n",
       "\n",
       "    .dataframe thead th {\n",
       "        text-align: right;\n",
       "    }\n",
       "</style>\n",
       "<table border=\"1\" class=\"dataframe\">\n",
       "  <thead>\n",
       "    <tr style=\"text-align: right;\">\n",
       "      <th></th>\n",
       "      <th>Metrics</th>\n",
       "      <th>Fold 1</th>\n",
       "      <th>Fold 2</th>\n",
       "      <th>Fold 3</th>\n",
       "      <th>Fold 4</th>\n",
       "      <th>Fold 5</th>\n",
       "      <th>Average</th>\n",
       "    </tr>\n",
       "  </thead>\n",
       "  <tbody>\n",
       "    <tr>\n",
       "      <th>0</th>\n",
       "      <td>Loss</td>\n",
       "      <td>0.377499</td>\n",
       "      <td>0.433803</td>\n",
       "      <td>0.286353</td>\n",
       "      <td>0.276229</td>\n",
       "      <td>0.309424</td>\n",
       "      <td>0.336662</td>\n",
       "    </tr>\n",
       "    <tr>\n",
       "      <th>1</th>\n",
       "      <td>Accuracy</td>\n",
       "      <td>0.841509</td>\n",
       "      <td>0.833962</td>\n",
       "      <td>0.875472</td>\n",
       "      <td>0.883019</td>\n",
       "      <td>0.871698</td>\n",
       "      <td>0.861132</td>\n",
       "    </tr>\n",
       "    <tr>\n",
       "      <th>2</th>\n",
       "      <td>Precision</td>\n",
       "      <td>0.736842</td>\n",
       "      <td>0.666667</td>\n",
       "      <td>0.852459</td>\n",
       "      <td>0.712329</td>\n",
       "      <td>0.773585</td>\n",
       "      <td>0.748376</td>\n",
       "    </tr>\n",
       "    <tr>\n",
       "      <th>3</th>\n",
       "      <td>Recall</td>\n",
       "      <td>0.608696</td>\n",
       "      <td>0.625000</td>\n",
       "      <td>0.684211</td>\n",
       "      <td>0.838710</td>\n",
       "      <td>0.650794</td>\n",
       "      <td>0.681482</td>\n",
       "    </tr>\n",
       "    <tr>\n",
       "      <th>4</th>\n",
       "      <td>F1 Score</td>\n",
       "      <td>0.666667</td>\n",
       "      <td>0.645161</td>\n",
       "      <td>0.759124</td>\n",
       "      <td>0.770370</td>\n",
       "      <td>0.706896</td>\n",
       "      <td>0.709644</td>\n",
       "    </tr>\n",
       "  </tbody>\n",
       "</table>\n",
       "</div>"
      ],
      "text/plain": [
       "     Metrics    Fold 1    Fold 2    Fold 3    Fold 4    Fold 5   Average\n",
       "0       Loss  0.377499  0.433803  0.286353  0.276229  0.309424  0.336662\n",
       "1   Accuracy  0.841509  0.833962  0.875472  0.883019  0.871698  0.861132\n",
       "2  Precision  0.736842  0.666667  0.852459  0.712329  0.773585  0.748376\n",
       "3     Recall  0.608696  0.625000  0.684211  0.838710  0.650794  0.681482\n",
       "4   F1 Score  0.666667  0.645161  0.759124  0.770370  0.706896  0.709644"
      ]
     },
     "execution_count": 3,
     "metadata": {},
     "output_type": "execute_result"
    }
   ],
   "source": [
    "GMU_CV_scores"
   ]
  },
  {
   "cell_type": "code",
   "execution_count": 4,
   "metadata": {},
   "outputs": [
    {
     "data": {
      "text/html": [
       "<div>\n",
       "<style scoped>\n",
       "    .dataframe tbody tr th:only-of-type {\n",
       "        vertical-align: middle;\n",
       "    }\n",
       "\n",
       "    .dataframe tbody tr th {\n",
       "        vertical-align: top;\n",
       "    }\n",
       "\n",
       "    .dataframe thead th {\n",
       "        text-align: right;\n",
       "    }\n",
       "</style>\n",
       "<table border=\"1\" class=\"dataframe\">\n",
       "  <thead>\n",
       "    <tr style=\"text-align: right;\">\n",
       "      <th></th>\n",
       "      <th>Metrics</th>\n",
       "      <th>Fold 1</th>\n",
       "      <th>Fold 2</th>\n",
       "      <th>Fold 3</th>\n",
       "      <th>Fold 4</th>\n",
       "      <th>Fold 5</th>\n",
       "      <th>Average</th>\n",
       "    </tr>\n",
       "  </thead>\n",
       "  <tbody>\n",
       "    <tr>\n",
       "      <th>0</th>\n",
       "      <td>Loss</td>\n",
       "      <td>0.523693</td>\n",
       "      <td>0.467899</td>\n",
       "      <td>0.448741</td>\n",
       "      <td>0.497230</td>\n",
       "      <td>0.450829</td>\n",
       "      <td>0.477678</td>\n",
       "    </tr>\n",
       "    <tr>\n",
       "      <th>1</th>\n",
       "      <td>Accuracy</td>\n",
       "      <td>0.739623</td>\n",
       "      <td>0.800000</td>\n",
       "      <td>0.800000</td>\n",
       "      <td>0.803774</td>\n",
       "      <td>0.822641</td>\n",
       "      <td>0.793208</td>\n",
       "    </tr>\n",
       "    <tr>\n",
       "      <th>2</th>\n",
       "      <td>Precision</td>\n",
       "      <td>0.500000</td>\n",
       "      <td>0.627907</td>\n",
       "      <td>0.828571</td>\n",
       "      <td>0.708333</td>\n",
       "      <td>0.700000</td>\n",
       "      <td>0.672962</td>\n",
       "    </tr>\n",
       "    <tr>\n",
       "      <th>3</th>\n",
       "      <td>Recall</td>\n",
       "      <td>0.318841</td>\n",
       "      <td>0.421875</td>\n",
       "      <td>0.381579</td>\n",
       "      <td>0.274194</td>\n",
       "      <td>0.444444</td>\n",
       "      <td>0.368187</td>\n",
       "    </tr>\n",
       "    <tr>\n",
       "      <th>4</th>\n",
       "      <td>F1 Score</td>\n",
       "      <td>0.389381</td>\n",
       "      <td>0.504673</td>\n",
       "      <td>0.522523</td>\n",
       "      <td>0.395349</td>\n",
       "      <td>0.543689</td>\n",
       "      <td>0.471123</td>\n",
       "    </tr>\n",
       "  </tbody>\n",
       "</table>\n",
       "</div>"
      ],
      "text/plain": [
       "     Metrics    Fold 1    Fold 2    Fold 3    Fold 4    Fold 5   Average\n",
       "0       Loss  0.523693  0.467899  0.448741  0.497230  0.450829  0.477678\n",
       "1   Accuracy  0.739623  0.800000  0.800000  0.803774  0.822641  0.793208\n",
       "2  Precision  0.500000  0.627907  0.828571  0.708333  0.700000  0.672962\n",
       "3     Recall  0.318841  0.421875  0.381579  0.274194  0.444444  0.368187\n",
       "4   F1 Score  0.389381  0.504673  0.522523  0.395349  0.543689  0.471123"
      ]
     },
     "execution_count": 4,
     "metadata": {},
     "output_type": "execute_result"
    }
   ],
   "source": [
    "SimulParallel_CV_scores"
   ]
  },
  {
   "cell_type": "code",
   "execution_count": 5,
   "metadata": {},
   "outputs": [
    {
     "data": {
      "text/html": [
       "<div>\n",
       "<style scoped>\n",
       "    .dataframe tbody tr th:only-of-type {\n",
       "        vertical-align: middle;\n",
       "    }\n",
       "\n",
       "    .dataframe tbody tr th {\n",
       "        vertical-align: top;\n",
       "    }\n",
       "\n",
       "    .dataframe thead th {\n",
       "        text-align: right;\n",
       "    }\n",
       "</style>\n",
       "<table border=\"1\" class=\"dataframe\">\n",
       "  <thead>\n",
       "    <tr style=\"text-align: right;\">\n",
       "      <th></th>\n",
       "      <th>Metrics</th>\n",
       "      <th>Fold 1</th>\n",
       "      <th>Fold 2</th>\n",
       "      <th>Fold 3</th>\n",
       "      <th>Fold 4</th>\n",
       "      <th>Fold 5</th>\n",
       "      <th>Average</th>\n",
       "    </tr>\n",
       "  </thead>\n",
       "  <tbody>\n",
       "    <tr>\n",
       "      <th>0</th>\n",
       "      <td>Loss</td>\n",
       "      <td>0.504534</td>\n",
       "      <td>0.435184</td>\n",
       "      <td>0.411452</td>\n",
       "      <td>0.399262</td>\n",
       "      <td>0.369791</td>\n",
       "      <td>0.424045</td>\n",
       "    </tr>\n",
       "    <tr>\n",
       "      <th>1</th>\n",
       "      <td>Accuracy</td>\n",
       "      <td>0.781132</td>\n",
       "      <td>0.800000</td>\n",
       "      <td>0.833962</td>\n",
       "      <td>0.788679</td>\n",
       "      <td>0.841509</td>\n",
       "      <td>0.809057</td>\n",
       "    </tr>\n",
       "    <tr>\n",
       "      <th>2</th>\n",
       "      <td>Precision</td>\n",
       "      <td>0.577465</td>\n",
       "      <td>0.641026</td>\n",
       "      <td>0.750000</td>\n",
       "      <td>0.542857</td>\n",
       "      <td>0.684211</td>\n",
       "      <td>0.639112</td>\n",
       "    </tr>\n",
       "    <tr>\n",
       "      <th>3</th>\n",
       "      <td>Recall</td>\n",
       "      <td>0.594203</td>\n",
       "      <td>0.390625</td>\n",
       "      <td>0.631579</td>\n",
       "      <td>0.612903</td>\n",
       "      <td>0.619048</td>\n",
       "      <td>0.569672</td>\n",
       "    </tr>\n",
       "    <tr>\n",
       "      <th>4</th>\n",
       "      <td>F1 Score</td>\n",
       "      <td>0.585714</td>\n",
       "      <td>0.485437</td>\n",
       "      <td>0.685714</td>\n",
       "      <td>0.575758</td>\n",
       "      <td>0.650000</td>\n",
       "      <td>0.596525</td>\n",
       "    </tr>\n",
       "  </tbody>\n",
       "</table>\n",
       "</div>"
      ],
      "text/plain": [
       "     Metrics    Fold 1    Fold 2    Fold 3    Fold 4    Fold 5   Average\n",
       "0       Loss  0.504534  0.435184  0.411452  0.399262  0.369791  0.424045\n",
       "1   Accuracy  0.781132  0.800000  0.833962  0.788679  0.841509  0.809057\n",
       "2  Precision  0.577465  0.641026  0.750000  0.542857  0.684211  0.639112\n",
       "3     Recall  0.594203  0.390625  0.631579  0.612903  0.619048  0.569672\n",
       "4   F1 Score  0.585714  0.485437  0.685714  0.575758  0.650000  0.596525"
      ]
     },
     "execution_count": 5,
     "metadata": {},
     "output_type": "execute_result"
    }
   ],
   "source": [
    "SMCA_CV_scores"
   ]
  },
  {
   "cell_type": "code",
   "execution_count": null,
   "metadata": {},
   "outputs": [],
   "source": [
    "# Extract F1 scores\n",
    "def extract_f1_scores(df, folds=5):\n",
    "    row = df[df['Metrics'] == 'F1 Score']\n",
    "    scores = row.iloc[0, 1:folds+1].values\n",
    "    avg = row.iloc[0, folds+1]  # Assuming last column is the average\n",
    "    return scores, avg\n",
    "\n",
    "GMU_F1_scores, GMU_avg = extract_f1_scores(GMU_CV_scores)\n",
    "SimulParallel_F1_scores, SimulParallel_avg = extract_f1_scores(SimulParallel_CV_scores)\n",
    "SMCA_F1_scores, SMCA_avg = extract_f1_scores(SMCA_CV_scores)\n",
    "\n",
    "# Calculate standard deviations for fold-wise F1 scores\n",
    "GMU_std = np.std(GMU_F1_scores, ddof=1)  # ddof=1 for sample standard deviation ddof=0 for population standard deviation\n",
    "SimulParallel_std = np.std(SimulParallel_F1_scores, ddof=1)\n",
    "SMCA_std = np.std(SMCA_F1_scores, ddof=1)\n",
    "\n",
    "# Create DataFrame with F1 scores, averages, and standard deviations\n",
    "f1_scores_df = pd.DataFrame({\n",
    "    'Fold': list(range(1, 6)) + ['Average', 'Standard Deviation'],\n",
    "    'GMU F1 Scores': list(GMU_F1_scores) + [GMU_avg, GMU_std],\n",
    "    'Simul-Parallel F1 Scores': list(SimulParallel_F1_scores) + [SimulParallel_avg, SimulParallel_std],\n",
    "    'SMCA F1 Scores': list(SMCA_F1_scores) + [SMCA_avg, SMCA_std],\n",
    "})\n",
    "\n",
    "\n"
   ]
  },
  {
   "cell_type": "code",
   "execution_count": 30,
   "metadata": {},
   "outputs": [
    {
     "data": {
      "text/html": [
       "<div>\n",
       "<style scoped>\n",
       "    .dataframe tbody tr th:only-of-type {\n",
       "        vertical-align: middle;\n",
       "    }\n",
       "\n",
       "    .dataframe tbody tr th {\n",
       "        vertical-align: top;\n",
       "    }\n",
       "\n",
       "    .dataframe thead th {\n",
       "        text-align: right;\n",
       "    }\n",
       "</style>\n",
       "<table border=\"1\" class=\"dataframe\">\n",
       "  <thead>\n",
       "    <tr style=\"text-align: right;\">\n",
       "      <th>Fold</th>\n",
       "      <th>1</th>\n",
       "      <th>2</th>\n",
       "      <th>3</th>\n",
       "      <th>4</th>\n",
       "      <th>5</th>\n",
       "      <th>Average</th>\n",
       "      <th>Standard Deviation</th>\n",
       "    </tr>\n",
       "  </thead>\n",
       "  <tbody>\n",
       "    <tr>\n",
       "      <th>GMU F1 Scores</th>\n",
       "      <td>0.666667</td>\n",
       "      <td>0.645161</td>\n",
       "      <td>0.759124</td>\n",
       "      <td>0.770370</td>\n",
       "      <td>0.706896</td>\n",
       "      <td>0.709644</td>\n",
       "      <td>0.049292</td>\n",
       "    </tr>\n",
       "    <tr>\n",
       "      <th>Simul-Parallel F1 Scores</th>\n",
       "      <td>0.389381</td>\n",
       "      <td>0.504673</td>\n",
       "      <td>0.522523</td>\n",
       "      <td>0.395349</td>\n",
       "      <td>0.543689</td>\n",
       "      <td>0.471123</td>\n",
       "      <td>0.065509</td>\n",
       "    </tr>\n",
       "    <tr>\n",
       "      <th>SMCA F1 Scores</th>\n",
       "      <td>0.585714</td>\n",
       "      <td>0.485437</td>\n",
       "      <td>0.685714</td>\n",
       "      <td>0.575758</td>\n",
       "      <td>0.650000</td>\n",
       "      <td>0.596525</td>\n",
       "      <td>0.068852</td>\n",
       "    </tr>\n",
       "  </tbody>\n",
       "</table>\n",
       "</div>"
      ],
      "text/plain": [
       "Fold                             1         2         3         4         5  \\\n",
       "GMU F1 Scores             0.666667  0.645161  0.759124  0.770370  0.706896   \n",
       "Simul-Parallel F1 Scores  0.389381  0.504673  0.522523  0.395349  0.543689   \n",
       "SMCA F1 Scores            0.585714  0.485437  0.685714  0.575758  0.650000   \n",
       "\n",
       "Fold                       Average  Standard Deviation  \n",
       "GMU F1 Scores             0.709644            0.049292  \n",
       "Simul-Parallel F1 Scores  0.471123            0.065509  \n",
       "SMCA F1 Scores            0.596525            0.068852  "
      ]
     },
     "execution_count": 30,
     "metadata": {},
     "output_type": "execute_result"
    }
   ],
   "source": [
    "# Transpose the DataFrame\n",
    "f1_scores_df_transposed = f1_scores_df.set_index('Fold').transpose()\n",
    "\n",
    "f1_scores_df_transposed"
   ]
  },
  {
   "cell_type": "code",
   "execution_count": 15,
   "metadata": {},
   "outputs": [
    {
     "data": {
      "text/plain": [
       "array([0.6666666865348816, 0.6451612710952759, 0.7591241002082825,\n",
       "       0.7703703045845032, 0.7068964838981628], dtype=object)"
      ]
     },
     "execution_count": 15,
     "metadata": {},
     "output_type": "execute_result"
    }
   ],
   "source": [
    "GMU_F1_scores"
   ]
  },
  {
   "cell_type": "code",
   "execution_count": 16,
   "metadata": {},
   "outputs": [
    {
     "data": {
      "text/plain": [
       "array([0.3893805146217346, 0.5046728849411011, 0.522522509098053,\n",
       "       0.3953488171100616, 0.5436893105506897], dtype=object)"
      ]
     },
     "execution_count": 16,
     "metadata": {},
     "output_type": "execute_result"
    }
   ],
   "source": [
    "SimulParallel_F1_scores"
   ]
  },
  {
   "cell_type": "code",
   "execution_count": 17,
   "metadata": {},
   "outputs": [
    {
     "data": {
      "text/plain": [
       "array([0.5857142806053162, 0.4854369163513183, 0.6857142448425293,\n",
       "       0.5757575631141663, 0.6500000357627869], dtype=object)"
      ]
     },
     "execution_count": 17,
     "metadata": {},
     "output_type": "execute_result"
    }
   ],
   "source": [
    "SMCA_F1_scores"
   ]
  },
  {
   "cell_type": "code",
   "execution_count": 20,
   "metadata": {},
   "outputs": [],
   "source": [
    "# Perform paired t-tests\n",
    "def paired_t_test(scores1, scores2, alpha=0.05, name1=\"Model1\", name2=\"Model2\"):\n",
    "    t_stat, p_value = stats.ttest_rel(scores1, scores2)\n",
    "    print(f\"Paired t-test between {name1} and {name2}:\\n\\tt-statistic = {t_stat:.9f}, p-value = {p_value:.9f}\")\n",
    "    if p_value < alpha:\n",
    "        print(f\"Reject null hypothesis: There is a significant difference between {name1} and {name2}\")\n",
    "    else:\n",
    "        print(f\"Fail to reject null hypothesis: There is no significant difference between {name1} and {name2}\")\n"
   ]
  },
  {
   "cell_type": "code",
   "execution_count": 21,
   "metadata": {},
   "outputs": [
    {
     "name": "stdout",
     "output_type": "stream",
     "text": [
      "Paired t-test between SMCA Model and Simul-Parallel Model:\n",
      "\tt-statistic = 3.197104672, p-value = 0.032991769\n",
      "Reject null hypothesis: There is a significant difference between SMCA Model and Simul-Parallel Model\n"
     ]
    }
   ],
   "source": [
    "paired_t_test(SMCA_F1_scores, SimulParallel_F1_scores, name1=\"SMCA Model\", name2=\"Simul-Parallel Model\")"
   ]
  },
  {
   "cell_type": "code",
   "execution_count": 10,
   "metadata": {},
   "outputs": [
    {
     "name": "stdout",
     "output_type": "stream",
     "text": [
      "Paired t-test between SMCA Model and GMU Model:\n",
      " t-statistic = -4.188769756, p-value = 0.013820212\n",
      "Reject null hypothesis: Significant difference between SMCA Model and GMU Model\n"
     ]
    }
   ],
   "source": [
    "paired_t_test(SMCA_F1_scores, GMU_F1_scores, name1=\"SMCA Model\", name2=\"GMU Model\")"
   ]
  }
 ],
 "metadata": {
  "kernelspec": {
   "display_name": "Python 3",
   "language": "python",
   "name": "python3"
  },
  "language_info": {
   "codemirror_mode": {
    "name": "ipython",
    "version": 3
   },
   "file_extension": ".py",
   "mimetype": "text/x-python",
   "name": "python",
   "nbconvert_exporter": "python",
   "pygments_lexer": "ipython3",
   "version": "3.12.3"
  }
 },
 "nbformat": 4,
 "nbformat_minor": 2
}
