{
 "cells": [
  {
   "cell_type": "code",
   "execution_count": 1,
   "metadata": {},
   "outputs": [],
   "source": [
    "import numpy as np\n",
    "from scipy import stats\n",
    "import pandas as pd"
   ]
  },
  {
   "cell_type": "code",
   "execution_count": 2,
   "metadata": {},
   "outputs": [
    {
     "name": "stdout",
     "output_type": "stream",
     "text": [
      "GMU Model Cross-Validation F1 scores: [0.75       0.71014488 0.73504275 0.77862602 0.73684216]\n",
      "Simul-Parallel Cross-Validation F1 scores: [0.         0.06060607 0.04166666 0.0776699  0.04347826]\n",
      "SMCA Model Cross-Validation F1 scores: [0.2992126  0.33755273 0.3214286  0.18897636 0.24390243]\n"
     ]
    }
   ],
   "source": [
    "# Specify the path to the .npy file\n",
    "GMU_File = \"results/gmu-Arevalo-F1_scores.npy\"\n",
    "SimulParallel_File = \"results/simulParallel-Xie-F1_scores.npy\"\n",
    "SMCA_File = \"results/SMCA-F1_scores.npy\"\n",
    "\n",
    "# Load the F1 scores from the file\n",
    "GMU_F1_scores = np.load(GMU_File)\n",
    "SimulParallel_F1_scores = np.load(SimulParallel_File)\n",
    "SMCA_F1_scores = np.load(SMCA_File)\n",
    "\n",
    "# Display the F1 scores\n",
    "print(\"GMU Model Cross-Validation F1 scores:\", GMU_F1_scores)\n",
    "print(\"Simul-Parallel Cross-Validation F1 scores:\", SimulParallel_F1_scores)\n",
    "print(\"SMCA Model Cross-Validation F1 scores:\", SMCA_F1_scores)"
   ]
  },
  {
   "cell_type": "code",
   "execution_count": 3,
   "metadata": {},
   "outputs": [
    {
     "name": "stdout",
     "output_type": "stream",
     "text": [
      "GMU Model Cross-Validation F1 scores:\n",
      "  Fold 1: 0.7500\n",
      "  Fold 2: 0.7101\n",
      "  Fold 3: 0.7350\n",
      "  Fold 4: 0.7786\n",
      "  Fold 5: 0.7368\n",
      "\n",
      "Simul-Parallel Cross-Validation F1 scores:\n",
      "  Fold 1: 0.0000\n",
      "  Fold 2: 0.0606\n",
      "  Fold 3: 0.0417\n",
      "  Fold 4: 0.0777\n",
      "  Fold 5: 0.0435\n",
      "\n",
      "SMCA Model Cross-Validation F1 scores:\n",
      "  Fold 1: 0.2992\n",
      "  Fold 2: 0.3376\n",
      "  Fold 3: 0.3214\n",
      "  Fold 4: 0.1890\n",
      "  Fold 5: 0.2439\n"
     ]
    }
   ],
   "source": [
    "# Display the F1 scores in list form\n",
    "print(\"GMU Model Cross-Validation F1 scores:\")\n",
    "for i, score in enumerate(GMU_F1_scores, start=1):\n",
    "    print(f\"  Fold {i}: {score:.4f}\")\n",
    "\n",
    "print(\"\\nSimul-Parallel Cross-Validation F1 scores:\")\n",
    "for i, score in enumerate(SimulParallel_F1_scores, start=1):\n",
    "    print(f\"  Fold {i}: {score:.4f}\")\n",
    "\n",
    "print(\"\\nSMCA Model Cross-Validation F1 scores:\")\n",
    "for i, score in enumerate(SMCA_F1_scores, start=1):\n",
    "    print(f\"  Fold {i}: {score:.4f}\")"
   ]
  },
  {
   "cell_type": "code",
   "execution_count": 4,
   "metadata": {},
   "outputs": [
    {
     "name": "stdout",
     "output_type": "stream",
     "text": [
      " Fold  GMU F1 Score  Simul-Parallel F1 Score  SMCA F1 Score\n",
      "    1      0.750000                 0.000000       0.299213\n",
      "    2      0.710145                 0.060606       0.337553\n",
      "    3      0.735043                 0.041667       0.321429\n",
      "    4      0.778626                 0.077670       0.188976\n",
      "    5      0.736842                 0.043478       0.243902\n"
     ]
    }
   ],
   "source": [
    "# Create a DataFrame\n",
    "f1_scores_df = pd.DataFrame({\n",
    "    'Fold': np.arange(1, len(GMU_F1_scores) + 1),\n",
    "    'GMU F1 Score': GMU_F1_scores,\n",
    "    'Simul-Parallel F1 Score': SimulParallel_F1_scores,\n",
    "    'SMCA F1 Score': SMCA_F1_scores\n",
    "})\n",
    "# Display the DataFrame without the index\n",
    "print(f1_scores_df.to_string(index=False))"
   ]
  },
  {
   "cell_type": "code",
   "execution_count": 5,
   "metadata": {},
   "outputs": [
    {
     "name": "stdout",
     "output_type": "stream",
     "text": [
      "Paired t-test between SMCA Model and Simul-Parallel Model F1 Scores:\n",
      " t-statistic = 6.689905207, p-value = 0.002596555\n",
      "Reject null hypothesis: There is a significant difference between the SMCA Model and Simul-Parallel Model F1 Scores\n"
     ]
    }
   ],
   "source": [
    "\n",
    "t_stat_SMCA_Simul, p_value_SMCA_Simul = stats.ttest_rel(SMCA_F1_scores, SimulParallel_F1_scores)\n",
    "print(f\"Paired t-test between SMCA Model and Simul-Parallel Model F1 Scores:\\n t-statistic = {t_stat_SMCA_Simul:.9f}, p-value = {p_value_SMCA_Simul:.9f}\")\n",
    "\n",
    "alpha = 0.05\n",
    "if p_value_SMCA_Simul < alpha:\n",
    "    print(\"Reject null hypothesis: There is a significant difference between the SMCA Model and Simul-Parallel Model F1 Scores\")\n",
    "else:\n",
    "    print(\"Fail to reject the null hypothesis: There is no significant difference between the SMCA Model and Simul-Parallel Model F1 Scores\")\n"
   ]
  },
  {
   "cell_type": "code",
   "execution_count": 6,
   "metadata": {},
   "outputs": [
    {
     "name": "stdout",
     "output_type": "stream",
     "text": [
      "Paired t-test between SMCA Model and GMU Model F1 Scores:\n",
      " t-statistic = -12.467000886, p-value = 0.000238068\n",
      "Reject null hypothesis: There is a significant difference between the SMCA Model and GMU Model F1 Scores\n"
     ]
    }
   ],
   "source": [
    "t_stat_SMCA_GMU, p_value_SMCA_GMU = stats.ttest_rel(SMCA_F1_scores, GMU_F1_scores)\n",
    "print(f\"Paired t-test between SMCA Model and GMU Model F1 Scores:\\n t-statistic = {t_stat_SMCA_GMU:.9f}, p-value = {p_value_SMCA_GMU:.9f}\")\n",
    "\n",
    "alpha = 0.05 \n",
    "if p_value_SMCA_GMU < alpha:\n",
    "    print(\"Reject null hypothesis: There is a significant difference between the SMCA Model and GMU Model F1 Scores\")\n",
    "else:\n",
    "    print(\"Fail to reject the null hypothesis: There is no significant difference between the SMCA Model and GMU Model F1 Scores\")"
   ]
  }
 ],
 "metadata": {
  "kernelspec": {
   "display_name": "Python 3",
   "language": "python",
   "name": "python3"
  },
  "language_info": {
   "codemirror_mode": {
    "name": "ipython",
    "version": 3
   },
   "file_extension": ".py",
   "mimetype": "text/x-python",
   "name": "python",
   "nbconvert_exporter": "python",
   "pygments_lexer": "ipython3",
   "version": "3.12.3"
  }
 },
 "nbformat": 4,
 "nbformat_minor": 2
}
