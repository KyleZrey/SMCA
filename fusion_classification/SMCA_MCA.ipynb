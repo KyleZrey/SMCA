{
 "cells": [
  {
   "cell_type": "markdown",
   "metadata": {},
   "source": [
    "### Prerequisite Packages"
   ]
  },
  {
   "cell_type": "code",
   "execution_count": 1,
   "metadata": {},
   "outputs": [],
   "source": [
    "import sys\n",
    "import os\n",
    "import math\n",
    "import pandas as pd\n",
    "import numpy as np\n",
    "import torch\n",
    "import torch.optim as optim\n",
    "import torch.nn as nn\n",
    "import torch.nn.functional as F\n",
    "import matplotlib.pyplot as plt\n",
    "import seaborn as sns\n",
    "from torch.utils.data import DataLoader, Dataset, WeightedRandomSampler\n",
    "from torcheval.metrics import BinaryAccuracy, BinaryPrecision, BinaryRecall, BinaryF1Score\n",
    "from sklearn.model_selection import train_test_split, KFold\n",
    "from sklearn.metrics import confusion_matrix\n",
    "from tqdm import tqdm"
   ]
  },
  {
   "cell_type": "code",
   "execution_count": 2,
   "metadata": {},
   "outputs": [],
   "source": [
    "sys.path.append('../')\n",
    "\n",
    "from modules.cross_attentionb import CrossAttentionB\n",
    "from modules.dataloader import load_npy_files\n",
    "from modules.classifier import DenseLayer, BCELoss, CustomLoss, BCEWithLogits, FocalLoss\n",
    "from modules.linear_transformation import LinearTransformations"
   ]
  },
  {
   "cell_type": "markdown",
   "metadata": {},
   "source": [
    "### Model and Hyperparameter Configurations"
   ]
  },
  {
   "cell_type": "code",
   "execution_count": 3,
   "metadata": {},
   "outputs": [],
   "source": [
    "torch.manual_seed(42)\n",
    "\n",
    "# Define all possible modality assignments\n",
    "modality_configurations = {\n",
    "    'ATV': {\n",
    "        'modalityAlpha': 'audio_features',\n",
    "        'modalityBeta': 'text_features',\n",
    "        'modalityGamma': 'video_features'\n",
    "    },\n",
    "    'AVT': {\n",
    "        'modalityAlpha': 'audio_features',\n",
    "        'modalityBeta': 'video_features',\n",
    "        'modalityGamma': 'text_features'\n",
    "    },\n",
    "    'TVA': {\n",
    "        'modalityAlpha': 'text_features',\n",
    "        'modalityBeta': 'video_features',\n",
    "        'modalityGamma': 'audio_features'\n",
    "    }\n",
    "}\n",
    "\n",
    "# Function to get the modality assignments by configuration name\n",
    "def get_modality_assignments(config_name):\n",
    "    if config_name in modality_configurations:\n",
    "        return modality_configurations[config_name]\n",
    "    else:\n",
    "        raise ValueError(f\"Configuration '{config_name}' not found.\")\n",
    "    \n",
    "    \n",
    "# Define possible configurations for audio feature directories\n",
    "audio_feature_paths = {\n",
    "    'logmel': '../misc/audio_features/logmel',\n",
    "    'mfcc': '../misc/audio_features/mfcc'\n",
    "}\n",
    "\n",
    "# Function to get the audio feature path based on the selected configuration\n",
    "def get_audio_feature_path(config_name):\n",
    "    if config_name in audio_feature_paths:\n",
    "        return audio_feature_paths[config_name]\n",
    "    else:\n",
    "        raise ValueError(f\"Configuration '{config_name}' not found. Available options: logmel, mfcc.\")\n"
   ]
  },
  {
   "cell_type": "code",
   "execution_count": 4,
   "metadata": {},
   "outputs": [
    {
     "name": "stdout",
     "output_type": "stream",
     "text": [
      "Device: cuda\n"
     ]
    }
   ],
   "source": [
    "### Device configuration\n",
    "device = torch.device(\"cuda\" if torch.cuda.is_available() else \"cpu\")\n",
    "print(f\"Device: {device}\")\n",
    "\n",
    "### Modality Assignment: 'ATV', 'AVT', 'TVA'\n",
    "selected_config = 'AVT'\n",
    "modality_assignments = get_modality_assignments(selected_config)\n",
    "\n",
    "### Audio Feature selection: 'logmel' or 'mfcc'\n",
    "selected_config = 'logmel'\n",
    "audio_features_dir = get_audio_feature_path(selected_config)\n",
    "\n",
    "#### Data Configuration: 8 16 32 64 128\n",
    "train_batch_size = 32   # Set the batch size for training data\n",
    "val_batch_size = 16     # Set the batch size for validation data\n",
    "test_batch_size= 16     # Set the batch size for testing data\n",
    "\n",
    "#FIXED CONSTANT\n",
    "max_pad = 197\n",
    "\n",
    "### Hyperparameters\n",
    "threshold = 0.5              # for predictions\n",
    "learning_rate = 1e-5         # For optimizer\n",
    "cl_dropout_rate = 0.4        # for FinalClassifier\n",
    "att_dropout_rate = 0.4       # for MutualCrossAttention\n",
    "num_epochs = 10              # for model training\n",
    "\n",
    "### Classifier Configuration\n",
    "isBCELoss = True                          # !!! SET ACCORDINGLY !!!\n",
    "criterion = BCELoss()\n",
    "# criterion = BCEWithLogits().to(device)\n",
    "# criterion = CustomLoss(pos_weight=2.94)\n",
    "# criterion = FocalLoss(alpha=0.25, gamma=2, pos_weight=0.34)\n",
    "\n",
    "# !!! Choose Classifier !!! False = Dense Layer, True = Final Classifier\n",
    "isFinalClassifier = True\n",
    "\n",
    "### For cross validation\n",
    "num_folds = 5          # Set the number of folds for cross-validation\n",
    "num_epochs_cv = 10     # Set the number of epochs for cross-validation"
   ]
  },
  {
   "cell_type": "markdown",
   "metadata": {},
   "source": [
    "### Dataset Class"
   ]
  },
  {
   "cell_type": "code",
   "execution_count": 5,
   "metadata": {},
   "outputs": [],
   "source": [
    "class MultimodalDataset(Dataset):\n",
    "    def __init__(self, id_label_df, text_features, audio_features, video_features):\n",
    "        self.id_label_df = id_label_df\n",
    "        \n",
    "        # Convert feature lists to dictionaries for fast lookup\n",
    "        self.text_features = {os.path.basename(file).split('.')[0]: tensor for file, tensor in text_features}\n",
    "        self.audio_features = {os.path.basename(file).split('_')[1].split('.')[0]: tensor for file, tensor in audio_features}\n",
    "        self.video_features = {os.path.basename(file).split('_')[0]: tensor for file, tensor in video_features}\n",
    "\n",
    "        # List to store missing files\n",
    "        self.missing_files = []\n",
    "\n",
    "        # Filter out entries with missing files\n",
    "        self.valid_files = self._filter_valid_files()\n",
    "\n",
    "    def _filter_valid_files(self):\n",
    "        valid_indices = []\n",
    "        missing_files = []\n",
    "\n",
    "        for idx in range(len(self.id_label_df)):\n",
    "            imdbid = self.id_label_df.iloc[idx]['IMDBid']\n",
    "\n",
    "            # Check if the IMDBid exists in each modality's features\n",
    "            if imdbid in self.text_features and imdbid in self.audio_features and imdbid in self.video_features:\n",
    "                valid_indices.append(idx)\n",
    "            else:\n",
    "                missing_files.append({'IMDBid': imdbid})\n",
    "\n",
    "        # Filter id_label_df to only include valid rows\n",
    "        self.id_label_df = self.id_label_df.iloc[valid_indices].reset_index(drop=True)\n",
    "        self.missing_files = missing_files\n",
    "        \n",
    "        # Update valid_indices to reflect the new indices after resetting\n",
    "        valid_indices = list(range(len(self.id_label_df)))\n",
    "\n",
    "        # Return valid indices\n",
    "        return valid_indices\n",
    "\n",
    "    def __len__(self):\n",
    "        return len(self.valid_files)\n",
    "\n",
    "    def __getitem__(self, idx):\n",
    "        # Get the original index from the filtered valid files\n",
    "        original_idx = self.valid_files[idx]\n",
    "        imdbid = self.id_label_df.iloc[original_idx]['IMDBid']\n",
    "        label = self.id_label_df.iloc[original_idx]['Label']\n",
    "\n",
    "        # Retrieve data from the loaded features\n",
    "        text_data = self.text_features.get(imdbid, torch.zeros((1024,)))\n",
    "        audio_data = self.audio_features.get(imdbid, torch.zeros((1, 197, 768)))\n",
    "        video_data = self.video_features.get(imdbid, torch.zeros((95, 768)))\n",
    "        \n",
    "        # Define label mapping\n",
    "        label_map = {'red': 1, 'green': 0} \n",
    "        \n",
    "        # Convert labels to tensor using label_map\n",
    "        try:\n",
    "            label_data = torch.tensor([label_map[label]], dtype=torch.float32)\n",
    "        except KeyError as e:\n",
    "            print(f\"Error: Label '{e}' not found in label_map.\")\n",
    "            raise\n",
    "\n",
    "        return imdbid, text_data, audio_data, video_data, label_data\n"
   ]
  },
  {
   "cell_type": "code",
   "execution_count": 6,
   "metadata": {},
   "outputs": [],
   "source": [
    "def collate_fn(batch):\n",
    "    # Unpack batch elements\n",
    "    imdbids, text_data, audio_data, video_data, label_data = zip(*batch)\n",
    "\n",
    "    # Convert lists to tensors\n",
    "    text_data = torch.stack(text_data)\n",
    "    audio_data = torch.stack(audio_data)\n",
    "\n",
    "    # Padding for video data\n",
    "    # Determine maximum length of video sequences in the batch\n",
    "    video_lengths = [v.size(0) for v in video_data]\n",
    "    max_length = max(video_lengths)\n",
    "\n",
    "    # Pad video sequences to the maximum length\n",
    "    video_data_padded = torch.stack([\n",
    "        F.pad(v, (0, 0, 0, max_length - v.size(0)), \"constant\", 0)\n",
    "        for v in video_data\n",
    "    ])\n",
    "\n",
    "    # Convert labels to tensor and ensure the shape [batch_size, 1]\n",
    "    label_data = torch.stack(label_data)  # Convert list of tensors to a single tensor\n",
    "\n",
    "    return imdbids, text_data, audio_data, video_data_padded, label_data\n"
   ]
  },
  {
   "cell_type": "markdown",
   "metadata": {},
   "source": [
    "### Data Loading\n"
   ]
  },
  {
   "cell_type": "code",
   "execution_count": 7,
   "metadata": {},
   "outputs": [],
   "source": [
    "def filter_video_features(video_features, lower_bound=35, upper_bound=197):\n",
    "    # Assuming video_features is a list of tuples where the second element is the numpy array\n",
    "    filtered_video_features = [v for v in video_features if lower_bound <= v[1].shape[0] <= upper_bound]\n",
    "    return filtered_video_features\n"
   ]
  },
  {
   "cell_type": "code",
   "execution_count": 8,
   "metadata": {},
   "outputs": [
    {
     "name": "stdout",
     "output_type": "stream",
     "text": [
      "Number of text feature vectors loaded: 1353\n",
      "Number of audio feature vectors loaded: 1353\n",
      "Number of video feature vectors loaded: 1325\n",
      "train_df shape: (927, 2)\n",
      "val_df shape: (199, 2)\n",
      "test_df shape: (199, 2)\n",
      "Train label distribution: Label\n",
      "green    693\n",
      "red      234\n",
      "Name: count, dtype: int64\n",
      "Validation label distribution: Label\n",
      "green    149\n",
      "red       50\n",
      "Name: count, dtype: int64\n",
      "Test label distribution: Label\n",
      "green    149\n",
      "red       50\n",
      "Name: count, dtype: int64\n",
      "----------------------------------------\n",
      "Train DataLoader: Total Samples = 927, Number of Batches = 29\n",
      "Validation DataLoader: Total Samples = 199, Number of Batches = 13\n",
      "Test DataLoader: Total Samples = 199, Number of Batches = 13\n"
     ]
    }
   ],
   "source": [
    "# Load the labels DataFrame\n",
    "id_label_df = pd.read_excel('../misc/MM-Trailer_dataset.xlsx')\n",
    "\n",
    "# Define the directories\n",
    "text_features_dir = '../misc/text_features'\n",
    "audio_features_dir = audio_features_dir\n",
    "video_features_dir = '../misc/video_features'\n",
    "\n",
    "# Load the feature vectors from each directory\n",
    "text_features = load_npy_files(text_features_dir)\n",
    "audio_features = load_npy_files(audio_features_dir)\n",
    "video_features = load_npy_files(video_features_dir)\n",
    "\n",
    "video_features = filter_video_features(video_features)\n",
    "\n",
    "print(f\"Number of text feature vectors loaded: {len(text_features)}\")\n",
    "print(f\"Number of audio feature vectors loaded: {len(audio_features)}\")\n",
    "print(f\"Number of video feature vectors loaded: {len(video_features)}\")\n",
    "\n",
    "# Drop unnecessary columns\n",
    "id_label_df = id_label_df.drop(columns=['Movie Title', 'URL'])\n",
    "\n",
    "full_dataset = MultimodalDataset(id_label_df, text_features, audio_features, video_features)\n",
    "\n",
    "# perform train-test split on the filtered DataFrame\n",
    "train_df, val_test_df = train_test_split(\n",
    "    full_dataset.id_label_df, test_size=0.3, random_state=42, stratify=full_dataset.id_label_df['Label'])\n",
    "\n",
    "# Further splitting remaining set into validation and test sets\n",
    "val_df, test_df = train_test_split(\n",
    "    val_test_df, test_size=0.5, random_state=42, stratify=val_test_df['Label'])\n",
    "\n",
    "print(\"train_df shape:\", train_df.shape)\n",
    "print(\"val_df shape:\", val_df.shape)\n",
    "print(\"test_df shape:\", test_df.shape)\n",
    "\n",
    "print(\"Train label distribution:\", train_df['Label'].value_counts())\n",
    "print(\"Validation label distribution:\", val_df['Label'].value_counts())\n",
    "print(\"Test label distribution:\", test_df['Label'].value_counts())\n",
    "\n",
    "print(\"-\" * 40)\n",
    "\n",
    "# create datasets based on these splits\n",
    "train_dataset = MultimodalDataset(train_df, text_features, audio_features, video_features)\n",
    "val_dataset = MultimodalDataset(val_df, text_features, audio_features, video_features)\n",
    "test_dataset = MultimodalDataset(test_df, text_features, audio_features, video_features)\n",
    "\n",
    "# Create DataLoaders\n",
    "train_dataloader = DataLoader(train_dataset, batch_size=train_batch_size, shuffle=True, num_workers=0, collate_fn=collate_fn, generator=torch.Generator().manual_seed(42))\n",
    "val_dataloader = DataLoader(val_dataset, batch_size=val_batch_size, shuffle=True, num_workers=0, collate_fn=collate_fn, generator=torch.Generator().manual_seed(42))\n",
    "test_dataloader = DataLoader(test_dataset, batch_size=test_batch_size, shuffle=False, num_workers=0, collate_fn=collate_fn, generator=torch.Generator().manual_seed(42))\n",
    "\n",
    "# Function to calculate and print the size of each DataLoader\n",
    "def print_dataloader_sizes(dataloader, name):\n",
    "    total_samples = len(dataloader.dataset)  # Get the size of the dataset\n",
    "    num_batches = len(dataloader)  # Get the number of batches\n",
    "    print(f\"{name} DataLoader: Total Samples = {total_samples}, Number of Batches = {num_batches}\")\n",
    "\n",
    "# Print sizes of each DataLoader\n",
    "print_dataloader_sizes(train_dataloader, \"Train\")\n",
    "print_dataloader_sizes(val_dataloader, \"Validation\")\n",
    "print_dataloader_sizes(test_dataloader, \"Test\")\n",
    "\n"
   ]
  },
  {
   "cell_type": "code",
   "execution_count": 9,
   "metadata": {},
   "outputs": [
    {
     "name": "stdout",
     "output_type": "stream",
     "text": [
      "Outliers:\n",
      "Lower Bound: 30\n",
      "Uppder Bound: 197\n",
      "Number of outliers: 0\n"
     ]
    }
   ],
   "source": [
    "# Calculate the Q1 (25th percentile) and Q3 (75th percentile) for sequence lengths\n",
    "sequence_lengths = [tensor.size(0) for _, tensor in video_features]  # Extract sequence lengths\n",
    "\n",
    "Q1 = np.percentile(sequence_lengths, 25)\n",
    "Q3 = np.percentile(sequence_lengths, 75)\n",
    "\n",
    "# Calculate the Interquartile Range (IQR)\n",
    "IQR = Q3 - Q1\n",
    "\n",
    "# Define the lower and upper bounds for outliers\n",
    "# lower_bound = Q1 - 1.5 * IQR\n",
    "# upper_bound = Q3 + 1.5 * IQR\n",
    "\n",
    "lower_bound = 30\n",
    "upper_bound = 197\n",
    "\n",
    "# Find the outliers\n",
    "outliers = []\n",
    "\n",
    "for file, video_tensor in video_features:\n",
    "    imdbid = os.path.basename(file).split('_')[0]  # Extract IMDB ID from the file name\n",
    "    seq_length = video_tensor.size(0)\n",
    "    \n",
    "    # Check if the sequence length is an outlier\n",
    "    if seq_length < lower_bound or seq_length > upper_bound:\n",
    "        outliers.append((imdbid, seq_length))\n",
    "\n",
    "# Print outliers\n",
    "print(\"Outliers:\")\n",
    "for imdbid, seq_length in outliers:\n",
    "    print(f\"IMDB ID: {imdbid}, Sequence Length: {seq_length}\")\n",
    "\n",
    "print(\"Lower Bound:\", lower_bound)\n",
    "print(\"Uppder Bound:\", upper_bound)\n",
    "print(\"Number of outliers:\", len(outliers))"
   ]
  },
  {
   "cell_type": "markdown",
   "metadata": {},
   "source": [
    "### Model Class"
   ]
  },
  {
   "cell_type": "code",
   "execution_count": 10,
   "metadata": {},
   "outputs": [],
   "source": [
    "## MCA Class\n",
    "class MutualCrossAttention(nn.Module):\n",
    "    def __init__(self, dropout):\n",
    "        super(MutualCrossAttention, self).__init__()\n",
    "        self.dropout = nn.Dropout(dropout)\n",
    "        self.layer_norm = nn.LayerNorm(768).to(device)\n",
    "        self.device = device\n",
    "\n",
    "    def forward(self, x1, x2):\n",
    "        # Move x1 and x2 to the correct device\n",
    "        x1, x2 = x1.to(self.device), x2.to(self.device)\n",
    "\n",
    "        # Assign x1 and x2 to query and key\n",
    "        query = x1\n",
    "        key = x2\n",
    "        d = query.shape[-1]\n",
    "\n",
    "        # Basic attention mechanism formula to get intermediate output A\n",
    "        scores = torch.bmm(query, key.transpose(1, 2)) / math.sqrt(d)\n",
    "        output_A = torch.bmm(self.dropout(F.softmax(scores, dim=-1)), x2)\n",
    "        # Basic attention mechanism formula to get intermediate output B\n",
    "        scores = torch.bmm(key, query.transpose(1, 2)) / math.sqrt(d)\n",
    "        output_B = torch.bmm(self.dropout(F.softmax(scores, dim=-1)), x1)\n",
    "\n",
    "        # Make the summation of the two intermediate outputs\n",
    "        output = output_A + output_B  # shape (1280, 32, 60)\n",
    "\n",
    "        output = self.layer_norm(output)\n",
    "\n",
    "        return output"
   ]
  },
  {
   "cell_type": "markdown",
   "metadata": {},
   "source": [
    "### SMCA Functions and Model"
   ]
  },
  {
   "cell_type": "code",
   "execution_count": 11,
   "metadata": {},
   "outputs": [],
   "source": [
    "def SMCAStage1(modalityAlpha, modalityBeta, d_out_kq, d_out_v, device):\n",
    "    \n",
    "    cross_attn = MutualCrossAttention(att_dropout_rate)\n",
    "\n",
    "    # Cross-attention: Alpha + Beta\n",
    "    alphaBeta = cross_attn(modalityAlpha, modalityBeta)  # Shape: (batch_size, num_queries, d_out_v)\n",
    "\n",
    "    # Concatenate cross-attention outputs along the feature dimension (-1)\n",
    "    return alphaBeta"
   ]
  },
  {
   "cell_type": "code",
   "execution_count": 12,
   "metadata": {},
   "outputs": [],
   "source": [
    "def SMCAStage2(modalityAlphaBeta, modalityGamma, d_out_kq, d_out_v, device):\n",
    "    # modalityAlphaBeta: (batch_size, seq_len, 2 * d_out_v) [output of Stage 1]\n",
    "\n",
    "    cross_attn = MutualCrossAttention(att_dropout_rate)\n",
    "\n",
    "    alphaBetaGamma = cross_attn(modalityAlphaBeta, modalityGamma)  # Shape: (batch_size, seq_len_alphaBeta, d_out_v)\n",
    "\n",
    "    return alphaBetaGamma"
   ]
  },
  {
   "cell_type": "markdown",
   "metadata": {},
   "source": []
  },
  {
   "cell_type": "code",
   "execution_count": 13,
   "metadata": {},
   "outputs": [],
   "source": [
    "class SMCAModel(nn.Module):\n",
    "    def __init__(self, d_out_kq, d_out_v, device):\n",
    "        super(SMCAModel, self).__init__()\n",
    "        self.d_out_kq = d_out_kq\n",
    "        self.d_out_v = d_out_v\n",
    "        self.device = device\n",
    "    \n",
    "    def forward(self, modalityAlpha, modalityBeta, modalityGamma):\n",
    "        # Stage 1: Cross attention between modalityAlpha and modalityBeta\n",
    "        modalityAlphaBeta = SMCAStage1(modalityAlpha, modalityBeta, self.d_out_kq, self.d_out_v, self.device)\n",
    "\n",
    "        # Stage 2: Cross attention with modalityAlphaBeta (as query) and modalityGamma (as key-value)\n",
    "        multimodal_representation = SMCAStage2(modalityAlphaBeta, modalityGamma, self.d_out_kq, self.d_out_v, self.device)\n",
    "\n",
    "        return multimodal_representation"
   ]
  },
  {
   "cell_type": "code",
   "execution_count": 14,
   "metadata": {},
   "outputs": [],
   "source": [
    "def pad_features(features, max_pad=max_pad):\n",
    "    # Pad or trim the sequence dimension to `max_pad`\n",
    "    if features.size(1) < max_pad:\n",
    "        # Pad to the right along the sequence dimension\n",
    "        features = F.pad(features, (0, 0, 0, max_pad - features.size(1)))\n",
    "    elif features.size(1) == max_pad:\n",
    "        pass\n",
    "    else:\n",
    "        # Trim if the sequence is longer than `max_pad`\n",
    "        features = features[:, :max_pad, :]\n",
    "        print(\"VIDEO TRIMMED SOMETHING MAY MALI\")\n",
    "    return features"
   ]
  },
  {
   "cell_type": "markdown",
   "metadata": {},
   "source": [
    "### Classifier"
   ]
  },
  {
   "cell_type": "code",
   "execution_count": 15,
   "metadata": {},
   "outputs": [],
   "source": [
    "class FinalClassifier(nn.Module):\n",
    "    def __init__(self, input_size, dropout_rate=cl_dropout_rate):\n",
    "        super(FinalClassifier, self).__init__()\n",
    "        self.fc1 = nn.Linear(input_size, 3072)  # First fully connected layer\n",
    "        self.fc2 = nn.Linear(3072, 768)          # Second fully connected layer\n",
    "        # self.fc3 = nn.Linear(768, 128)          # Third fully connected layer\n",
    "        # self.fc4 = nn.Linear(128, 64)          # Second fully connected layer\n",
    "\n",
    "        self.dropout = nn.Dropout(dropout_rate) # Dropout layer\n",
    "        self.dense = nn.Linear(768, 1)          # Final dense layer for binary classification\n",
    "        self.relu = nn.ReLU()                    # ReLU activation\n",
    "        self.sigmoid = nn.Sigmoid()              # Sigmoid activation for final output\n",
    "\n",
    "    def forward(self, x):\n",
    "        x = self.fc1(x)                         # First fully connected layer\n",
    "        x = self.relu(x)                        # Apply ReLU activation\n",
    "\n",
    "        x = self.fc2(x)                         # second fully connected layer\n",
    "        x = self.relu(x)                        # Apply ReLU activation\n",
    "        x = self.dropout(x)                     # Apply dropout\n",
    "        \n",
    "        # x = self.fc3(x)                         # third fully connected layer\n",
    "        # x = self.relu(x)                        # Apply ReLU activation\n",
    "\n",
    "        # x = self.fc4(x)                         # fourth fully connected layer\n",
    "        # x = self.relu(x)                        # Apply ReLU activation\n",
    "        # x = self.dropout(x)                     # Apply dropout\n",
    "        \n",
    "        x = self.dense(x)                       # Final dense layer\n",
    "        if isBCELoss:\n",
    "            x = self.sigmoid(x)                  # Apply sigmoid activation\n",
    "        return x                                 # Output probabilities for BCELoss\n"
   ]
  },
  {
   "cell_type": "markdown",
   "metadata": {},
   "source": [
    "### Model Training Functions"
   ]
  },
  {
   "cell_type": "code",
   "execution_count": null,
   "metadata": {},
   "outputs": [],
   "source": [
    "def train_model(\n",
    "    model, \n",
    "    dense_layer, \n",
    "    dataloader, \n",
    "    criterion, \n",
    "    optimizer, \n",
    "    device,\n",
    "    output_dir='results/', \n",
    "    output_filename='train_predictions.csv',\n",
    "    output_dim=768\n",
    "):\n",
    "    # model.train()\n",
    "    dense_layer.train()\n",
    "    total_loss = 0.0\n",
    "    \n",
    "    # Create the output directory if it doesn't exist\n",
    "    os.makedirs(output_dir, exist_ok=True)\n",
    "\n",
    "    # Initialize metrics for binary classification\n",
    "    precision_metric = BinaryPrecision().to(device)\n",
    "    recall_metric = BinaryRecall().to(device)\n",
    "    f1_metric = BinaryF1Score().to(device)\n",
    "    accuracy_metric = BinaryAccuracy().to(device) \n",
    "    \n",
    "    # Reset metrics at the start of training\n",
    "    precision_metric.reset()\n",
    "    recall_metric.reset()\n",
    "    f1_metric.reset()\n",
    "    accuracy_metric.reset()\n",
    "    \n",
    "    # List to collect results for CSV\n",
    "    results = []\n",
    "    \n",
    "\n",
    "\n",
    "    for imdbids, text_features, audio_features, video_features, targets in dataloader:\n",
    "        text_features, audio_features, video_features, targets = (\n",
    "            text_features.to(device),\n",
    "            audio_features.to(device),\n",
    "            video_features.to(device),\n",
    "            targets.to(device).view(-1)\n",
    "        )\n",
    "                \n",
    "        # Squeeze the audio features to remove the extra dimension\n",
    "        audio_features = audio_features.squeeze(1).to(device) \n",
    "        text_features = text_features.unsqueeze(1).to(device) \n",
    "\n",
    "        # Apply linear transformations to match dimensions\n",
    "        linear_transform_text = LinearTransformations(text_features.shape[-1], 768).to(device)    \n",
    "        text_features = linear_transform_text(text_features).to(device) \n",
    "        \n",
    "        audio_features = audio_features[:, -1, :].unsqueeze(1).to(device)   # Resulting shape: [batch_size, 1, 768]\n",
    "\n",
    "        video_features = pad_features(video_features).to(device)   # Shape will be [batch_size, max_pad, 768]\n",
    "\n",
    "        transformed_features = {\n",
    "            'audio_features': audio_features,\n",
    "            'text_features': text_features,\n",
    "            'video_features': video_features\n",
    "        }\n",
    "\n",
    "        outputs = model(\n",
    "            modalityAlpha=transformed_features[modality_assignments['modalityAlpha']].to(device) ,  # Use the dictionary for modality assignment\n",
    "            modalityBeta=transformed_features[modality_assignments['modalityBeta']].to(device) ,\n",
    "            modalityGamma=transformed_features[modality_assignments['modalityGamma']].to(device) \n",
    "        ).to(device)\n",
    "\n",
    "        outputs = outputs.view(outputs.size(0), -1)  # Shape will be [batch_size, 153600]\n",
    "\n",
    "        # Pass the fused features through the dense layer\n",
    "        predictions = dense_layer(outputs).view(-1)\n",
    "\n",
    "        # Compute loss\n",
    "        loss = criterion(predictions, targets)\n",
    "        total_loss += loss.item()\n",
    "        \n",
    "        # Backward pass and optimization\n",
    "        optimizer.zero_grad()\n",
    "        loss.backward()\n",
    "        optimizer.step()\n",
    "\n",
    "        # !!!Apply if BCEWithLogits or CustomLoss!!!\n",
    "        if not isBCELoss:\n",
    "            predictions = torch.sigmoid(predictions)\n",
    "\n",
    "        # Apply threshold to get binary predictions\n",
    "        preds = (predictions >= threshold).float()\n",
    "        \n",
    "        # Collect results for each sample\n",
    "        for i in range(len(imdbids)):\n",
    "            results.append({\n",
    "                'IMDBid': imdbids[i],\n",
    "                'Raw Prediction': predictions[i].item(),\n",
    "                'Binary Prediction': preds[i].item(),\n",
    "                'Target': targets[i].item()\n",
    "            })\n",
    "        \n",
    "        # Update metrics for binary classification\n",
    "        precision_metric.update(preds.long(), targets.long())\n",
    "        recall_metric.update(preds.long(), targets.long())\n",
    "        f1_metric.update(preds.long(), targets.long())\n",
    "        accuracy_metric.update(preds.long(), targets.long()) \n",
    "\n",
    "    # Compute average precision, recall, F1 score, and accuracy\n",
    "    train_precision = precision_metric.compute().item()\n",
    "    train_recall = recall_metric.compute().item()\n",
    "    train_f1_score = f1_metric.compute().item()\n",
    "    train_accuracy = accuracy_metric.compute().item()  # Compute accuracy\n",
    "    \n",
    "    train_average_loss = total_loss / len(dataloader)\n",
    "    \n",
    "\n",
    "    # Create DataFrame and save to CSV\n",
    "    results_df = pd.DataFrame(results)\n",
    "    output_filepath = os.path.join(output_dir, output_filename)\n",
    "    results_df.to_csv(output_filepath, index=False, header=True)\n",
    "\n",
    "    return train_average_loss, train_accuracy, train_precision, train_recall, train_f1_score"
   ]
  },
  {
   "cell_type": "code",
   "execution_count": null,
   "metadata": {},
   "outputs": [],
   "source": [
    "def evaluate_model(\n",
    "    model, \n",
    "    dense_layer, \n",
    "    dataloader, \n",
    "    criterion, \n",
    "    device,\n",
    "    output_dir='results/', \n",
    "    output_filename='val_predictions.csv',\n",
    "    output_dim=768\n",
    "):\n",
    "    model.eval()\n",
    "    dense_layer.eval()\n",
    "    total_loss = 0.0\n",
    "\n",
    "    # Create the output directory if it doesn't exist\n",
    "    os.makedirs(output_dir, exist_ok=True)\n",
    "\n",
    "    # Initialize metrics for binary classification\n",
    "    precision_metric = BinaryPrecision().to(device)\n",
    "    recall_metric = BinaryRecall().to(device)\n",
    "    f1_metric = BinaryF1Score().to(device)\n",
    "    accuracy_metric = BinaryAccuracy().to(device) \n",
    "    \n",
    "    # Reset metrics at the start of training\n",
    "    precision_metric.reset()\n",
    "    recall_metric.reset()\n",
    "    f1_metric.reset()\n",
    "    accuracy_metric.reset()\n",
    "    \n",
    "    all_predictions = []\n",
    "    all_targets = []\n",
    "    \n",
    "    # List to collect results for CSV\n",
    "    results = []\n",
    "    \n",
    "\n",
    "    \n",
    "    with torch.no_grad():\n",
    "         for imdbids, text_features, audio_features, video_features, targets in dataloader:\n",
    "            text_features, audio_features, video_features, targets = (\n",
    "                text_features.to(device),\n",
    "                audio_features.to(device),\n",
    "                video_features.to(device),\n",
    "                targets.to(device).view(-1)\n",
    "            )\n",
    "        \n",
    "            # Squeeze the audio features to remove the extra dimension\n",
    "            audio_features = audio_features.squeeze(1).to(device)\n",
    "            text_features = text_features.unsqueeze(1).to(device)\n",
    "\n",
    "            # Apply linear transformations to match dimensions\n",
    "            linear_transform_text = LinearTransformations(text_features.shape[-1], 768).to(device)   \n",
    "            text_features = linear_transform_text(text_features).to(device)\n",
    "            \n",
    "            audio_features = audio_features[:, -1, :].unsqueeze(1).to(device)  # Resulting shape: [batch_size, 1, 768]\n",
    "    \n",
    "            video_features = pad_features(video_features).to(device)  # Shape will be [batch_size, max_pad, 768]\n",
    "                    \n",
    "            transformed_features = {\n",
    "                'audio_features': audio_features,\n",
    "                'text_features': text_features,\n",
    "                'video_features': video_features\n",
    "            }\n",
    "\n",
    "            outputs = model(\n",
    "                modalityAlpha=transformed_features[modality_assignments['modalityAlpha']].to(device),  # Use the dictionary for modality assignment\n",
    "                modalityBeta=transformed_features[modality_assignments['modalityBeta']].to(device),\n",
    "                modalityGamma=transformed_features[modality_assignments['modalityGamma']].to(device)\n",
    "            )\n",
    "\n",
    "            outputs = outputs.view(outputs.size(0), -1)  # Shape will be [batch_size, 153600]\n",
    "\n",
    "            # Pass the fused features through the dense layer\n",
    "            predictions = dense_layer(outputs).view(-1)\n",
    "\n",
    "            # Compute loss\n",
    "            loss = criterion(predictions, targets)\n",
    "            total_loss += loss.item()\n",
    "\n",
    "            # !!!Apply if BCEWithLogits or CustomLoss!!!\n",
    "            if not isBCELoss:\n",
    "                predictions = torch.sigmoid(predictions)\n",
    "\n",
    "            # Apply threshold to get binary predictions\n",
    "            preds = (predictions >= threshold).float()\n",
    "            \n",
    "            all_predictions.extend(predictions.cpu().numpy())\n",
    "            all_targets.extend(targets.cpu().numpy())\n",
    "            \n",
    "            # Collect results for each sample\n",
    "            for i in range(len(imdbids)):\n",
    "                results.append({\n",
    "                    'IMDBid': imdbids[i],\n",
    "                    'Raw Prediction': predictions[i].item(),\n",
    "                    'Binary Prediction': preds[i].item(),\n",
    "                    'Target': targets[i].item()\n",
    "                })\n",
    "            \n",
    "            # Update metrics for binary classification\n",
    "            precision_metric.update(preds.long(), targets.long())\n",
    "            recall_metric.update(preds.long(), targets.long())\n",
    "            f1_metric.update(preds.long(), targets.long())\n",
    "            accuracy_metric.update(preds.long(), targets.long()) \n",
    "\n",
    "    # Compute average precision, recall, F1 score, and accuracy\n",
    "    val_precision = precision_metric.compute().item()\n",
    "    val_recall = recall_metric.compute().item()\n",
    "    val_f1_score = f1_metric.compute().item()\n",
    "    val_accuracy = accuracy_metric.compute().item() \n",
    "    \n",
    "    # Calculate confusion matrix\n",
    "    val_conf_matrix = confusion_matrix(all_targets, np.round(all_predictions))\n",
    "\n",
    "    val_average_loss = total_loss / len(dataloader)\n",
    "    \n",
    "    # Create DataFrame and save to CSV\n",
    "    results_df = pd.DataFrame(results)\n",
    "    output_filepath = os.path.join(output_dir, output_filename)\n",
    "    results_df.to_csv(output_filepath, index=False, header=True)\n",
    "    \n",
    "    return val_average_loss, val_accuracy, val_precision, val_recall, val_f1_score, val_conf_matrix"
   ]
  },
  {
   "cell_type": "code",
   "execution_count": null,
   "metadata": {},
   "outputs": [],
   "source": [
    "def test_model(\n",
    "    model, \n",
    "    dense_layer, \n",
    "    dataloader, \n",
    "    criterion, \n",
    "    device,\n",
    "    output_dir='results/', \n",
    "    output_filename='test_predictions.csv',\n",
    "    output_dim=768\n",
    "):\n",
    "    model.eval()\n",
    "    dense_layer.eval()\n",
    "    total_loss = 0\n",
    "\n",
    "    # Create the output directory if it doesn't exist\n",
    "    os.makedirs(output_dir, exist_ok=True)\n",
    "\n",
    "    # Initialize metrics for binary classification\n",
    "    precision_metric = BinaryPrecision().to(device)\n",
    "    recall_metric = BinaryRecall().to(device)\n",
    "    f1_metric = BinaryF1Score().to(device)\n",
    "    accuracy_metric = BinaryAccuracy().to(device) \n",
    "\n",
    "    all_predictions = []\n",
    "    all_targets = []\n",
    "    \n",
    "    # List to collect results for CSV\n",
    "    results = []\n",
    "    \n",
    "\n",
    "\n",
    "    with torch.no_grad():\n",
    "        for imdbids, text_features, audio_features, video_features, targets in dataloader:\n",
    "            text_features, audio_features, video_features, targets = (\n",
    "                text_features.to(device),\n",
    "                audio_features.to(device),\n",
    "                video_features.to(device),\n",
    "                targets.to(device).view(-1)\n",
    "            )\n",
    "            \n",
    "            # Squeeze the audio features to remove the extra dimension\n",
    "            audio_features = audio_features.squeeze(1).to(device) \n",
    "            text_features = text_features.unsqueeze(1).to(device) \n",
    "\n",
    "            # Apply linear transformations to match dimensions\n",
    "            linear_transform_text = LinearTransformations(text_features.shape[-1], 768).to(device)    \n",
    "            text_features = linear_transform_text(text_features).to(device) \n",
    "            \n",
    "            audio_features = audio_features[:, -1, :].unsqueeze(1).to(device)   # Resulting shape: [batch_size, 1, 768]\n",
    "    \n",
    "            video_features = pad_features(video_features).to(device)   # Shape will be [batch_size, max_pad, 768]\n",
    "\n",
    "            transformed_features = {\n",
    "                'audio_features': audio_features,\n",
    "                'text_features': text_features,\n",
    "                'video_features': video_features\n",
    "            }\n",
    "\n",
    "            outputs = model(\n",
    "                modalityAlpha=transformed_features[modality_assignments['modalityAlpha']].to(device) ,  # Use the dictionary for modality assignment\n",
    "                modalityBeta=transformed_features[modality_assignments['modalityBeta']].to(device) ,\n",
    "                modalityGamma=transformed_features[modality_assignments['modalityGamma']].to(device) \n",
    "            )\n",
    "    \n",
    "            outputs = outputs.view(outputs.size(0), -1)  # Shape will be [batch_size, 153600]\n",
    "\n",
    "            # Pass the fused features through the dense layer\n",
    "            predictions = dense_layer(outputs).view(-1)\n",
    "                \n",
    "            # Compute loss\n",
    "            loss = criterion(predictions, targets)\n",
    "            total_loss += loss.item()\n",
    "\n",
    "            # !!!Apply if BCEWithLogits or CustomLoss!!!\n",
    "            if not isBCELoss:\n",
    "                predictions = torch.sigmoid(predictions)\n",
    "\n",
    "            # Apply threshold to get binary predictions\n",
    "            preds = (predictions >= threshold).float()\n",
    "            \n",
    "            # Collect predictions and targets for the confusion matrix\n",
    "            all_predictions.extend(preds.cpu().numpy())\n",
    "            all_targets.extend(targets.cpu().numpy())\n",
    "\n",
    "            # Collect results for each sample\n",
    "            for i in range(len(imdbids)):\n",
    "                results.append({\n",
    "                    'IMDBid': imdbids[i],\n",
    "                    'Raw Prediction': predictions[i].item(),\n",
    "                    'Binary Prediction': preds[i].item(),\n",
    "                    'Target': targets[i].item()\n",
    "                })\n",
    "            \n",
    "            # Update metrics for binary classification\n",
    "            precision_metric.update(preds.long(), targets.long())\n",
    "            recall_metric.update(preds.long(), targets.long())\n",
    "            f1_metric.update(preds.long(), targets.long())\n",
    "            accuracy_metric.update(preds.long(), targets.long()) \n",
    "\n",
    "     # Compute average precision, recall, F1 score, and accuracy\n",
    "    test_precision = precision_metric.compute().item()\n",
    "    test_recall = recall_metric.compute().item()\n",
    "    test_f1_score = f1_metric.compute().item()\n",
    "    test_accuracy = accuracy_metric.compute().item()\n",
    "    \n",
    "    # Generate confusion matrix\n",
    "    test_conf_matrix = confusion_matrix(all_targets, all_predictions)\n",
    "\n",
    "    test_average_loss = total_loss / len(dataloader)\n",
    "    \n",
    "    # Create DataFrame and save to CSV\n",
    "    results_df = pd.DataFrame(results)\n",
    "    output_filepath = os.path.join(output_dir, output_filename)\n",
    "    results_df.to_csv(output_filepath, index=False, header=True)\n",
    "\n",
    "    return test_average_loss, test_accuracy, test_precision, test_recall, test_f1_score, test_conf_matrix"
   ]
  },
  {
   "cell_type": "code",
   "execution_count": 39,
   "metadata": {},
   "outputs": [],
   "source": [
    "def get_optimizer(parameters, lr=learning_rate):\n",
    "    # Create an optimizer, for example, Adam\n",
    "    return optim.Adam(parameters, lr=lr)"
   ]
  },
  {
   "cell_type": "markdown",
   "metadata": {},
   "source": [
    "### Model Training"
   ]
  },
  {
   "cell_type": "code",
   "execution_count": 40,
   "metadata": {},
   "outputs": [],
   "source": [
    "def plot_confusion_matrix(conf_matrix, class_names=['Negative', 'Positive']):\n",
    "    plt.figure(figsize=(6, 5))\n",
    "    sns.heatmap(conf_matrix, annot=True, fmt=\"d\", cmap=\"Blues\", cbar=False,\n",
    "                xticklabels=class_names, yticklabels=class_names)\n",
    "    plt.xlabel('Predicted Labels')\n",
    "    plt.ylabel('True Labels')\n",
    "    plt.title('Confusion Matrix')\n",
    "    plt.show()"
   ]
  },
  {
   "cell_type": "code",
   "execution_count": 41,
   "metadata": {},
   "outputs": [],
   "source": [
    "# Function to plot training and validation loss\n",
    "def plot_losses(train_losses, val_losses):\n",
    "    plt.figure(figsize=(10, 5))\n",
    "    plt.plot(train_losses, label='Training Loss', color='blue', marker='o')\n",
    "    plt.plot(val_losses, label='Validation Loss', color='orange', marker='x')\n",
    "    plt.title('Training and Validation Loss over Epochs')\n",
    "    plt.xlabel('Epochs')\n",
    "    plt.ylabel('Loss')\n",
    "    plt.legend()\n",
    "    plt.grid()\n",
    "    plt.show()"
   ]
  },
  {
   "cell_type": "code",
   "execution_count": null,
   "metadata": {},
   "outputs": [
    {
     "name": "stdout",
     "output_type": "stream",
     "text": [
      "----------------------------------------\n",
      "Epoch 1/10\n"
     ]
    },
    {
     "ename": "OutOfMemoryError",
     "evalue": "CUDA out of memory. Tried to allocate 1.73 GiB. GPU ",
     "output_type": "error",
     "traceback": [
      "\u001b[1;31m---------------------------------------------------------------------------\u001b[0m",
      "\u001b[1;31mOutOfMemoryError\u001b[0m                          Traceback (most recent call last)",
      "Cell \u001b[1;32mIn[42], line 27\u001b[0m\n\u001b[0;32m     24\u001b[0m \u001b[38;5;28mprint\u001b[39m(\u001b[38;5;124mf\u001b[39m\u001b[38;5;124m\"\u001b[39m\u001b[38;5;124mEpoch \u001b[39m\u001b[38;5;132;01m{\u001b[39;00mepoch\u001b[38;5;250m \u001b[39m\u001b[38;5;241m+\u001b[39m\u001b[38;5;250m \u001b[39m\u001b[38;5;241m1\u001b[39m\u001b[38;5;132;01m}\u001b[39;00m\u001b[38;5;124m/\u001b[39m\u001b[38;5;132;01m{\u001b[39;00mnum_epochs\u001b[38;5;132;01m}\u001b[39;00m\u001b[38;5;124m\"\u001b[39m)\n\u001b[0;32m     26\u001b[0m \u001b[38;5;66;03m# Ensure you have a dataloader that yields inputs and targets\u001b[39;00m\n\u001b[1;32m---> 27\u001b[0m train_average_loss, train_accuracy, train_precision, train_recall, train_f1_score \u001b[38;5;241m=\u001b[39m \u001b[43mtrain_model\u001b[49m\u001b[43m(\u001b[49m\u001b[43mmodel\u001b[49m\u001b[38;5;241;43m=\u001b[39;49m\u001b[43mmodel\u001b[49m\u001b[43m,\u001b[49m\u001b[43m \u001b[49m\u001b[43mdense_layer\u001b[49m\u001b[38;5;241;43m=\u001b[39;49m\u001b[43mdense_layer\u001b[49m\u001b[43m,\u001b[49m\u001b[43m \u001b[49m\u001b[43mdataloader\u001b[49m\u001b[38;5;241;43m=\u001b[39;49m\u001b[43mtrain_dataloader\u001b[49m\u001b[43m,\u001b[49m\u001b[43m \u001b[49m\u001b[43mcriterion\u001b[49m\u001b[38;5;241;43m=\u001b[39;49m\u001b[43mcriterion\u001b[49m\u001b[43m,\u001b[49m\u001b[43m \u001b[49m\u001b[43moptimizer\u001b[49m\u001b[38;5;241;43m=\u001b[39;49m\u001b[43moptimizer\u001b[49m\u001b[43m,\u001b[49m\u001b[43m \u001b[49m\u001b[43mdevice\u001b[49m\u001b[38;5;241;43m=\u001b[39;49m\u001b[43mdevice\u001b[49m\u001b[43m,\u001b[49m\u001b[43m \u001b[49m\u001b[43moutput_dim\u001b[49m\u001b[38;5;241;43m=\u001b[39;49m\u001b[43moutput_dim\u001b[49m\u001b[43m)\u001b[49m\n\u001b[0;32m     28\u001b[0m train_losses\u001b[38;5;241m.\u001b[39mappend(train_average_loss)  \u001b[38;5;66;03m# Store training loss\u001b[39;00m\n\u001b[0;32m     30\u001b[0m \u001b[38;5;28;01mfor\u001b[39;00m name, param \u001b[38;5;129;01min\u001b[39;00m model\u001b[38;5;241m.\u001b[39mnamed_parameters():\n",
      "Cell \u001b[1;32mIn[36], line 80\u001b[0m, in \u001b[0;36mtrain_model\u001b[1;34m(model, dense_layer, dataloader, criterion, optimizer, device, output_dir, output_filename, output_dim)\u001b[0m\n\u001b[0;32m     78\u001b[0m optimizer\u001b[38;5;241m.\u001b[39mzero_grad()\n\u001b[0;32m     79\u001b[0m loss\u001b[38;5;241m.\u001b[39mbackward()\n\u001b[1;32m---> 80\u001b[0m \u001b[43moptimizer\u001b[49m\u001b[38;5;241;43m.\u001b[39;49m\u001b[43mstep\u001b[49m\u001b[43m(\u001b[49m\u001b[43m)\u001b[49m\n\u001b[0;32m     82\u001b[0m \u001b[38;5;66;03m# !!!Apply if BCEWithLogits or CustomLoss!!!\u001b[39;00m\n\u001b[0;32m     83\u001b[0m \u001b[38;5;28;01mif\u001b[39;00m \u001b[38;5;129;01mnot\u001b[39;00m isBCELoss:\n",
      "File \u001b[1;32mc:\\Python312\\Lib\\site-packages\\torch\\optim\\optimizer.py:391\u001b[0m, in \u001b[0;36mOptimizer.profile_hook_step.<locals>.wrapper\u001b[1;34m(*args, **kwargs)\u001b[0m\n\u001b[0;32m    386\u001b[0m         \u001b[38;5;28;01melse\u001b[39;00m:\n\u001b[0;32m    387\u001b[0m             \u001b[38;5;28;01mraise\u001b[39;00m \u001b[38;5;167;01mRuntimeError\u001b[39;00m(\n\u001b[0;32m    388\u001b[0m                 \u001b[38;5;124mf\u001b[39m\u001b[38;5;124m\"\u001b[39m\u001b[38;5;132;01m{\u001b[39;00mfunc\u001b[38;5;132;01m}\u001b[39;00m\u001b[38;5;124m must return None or a tuple of (new_args, new_kwargs), but got \u001b[39m\u001b[38;5;132;01m{\u001b[39;00mresult\u001b[38;5;132;01m}\u001b[39;00m\u001b[38;5;124m.\u001b[39m\u001b[38;5;124m\"\u001b[39m\n\u001b[0;32m    389\u001b[0m             )\n\u001b[1;32m--> 391\u001b[0m out \u001b[38;5;241m=\u001b[39m \u001b[43mfunc\u001b[49m\u001b[43m(\u001b[49m\u001b[38;5;241;43m*\u001b[39;49m\u001b[43margs\u001b[49m\u001b[43m,\u001b[49m\u001b[43m \u001b[49m\u001b[38;5;241;43m*\u001b[39;49m\u001b[38;5;241;43m*\u001b[39;49m\u001b[43mkwargs\u001b[49m\u001b[43m)\u001b[49m\n\u001b[0;32m    392\u001b[0m \u001b[38;5;28mself\u001b[39m\u001b[38;5;241m.\u001b[39m_optimizer_step_code()\n\u001b[0;32m    394\u001b[0m \u001b[38;5;66;03m# call optimizer step post hooks\u001b[39;00m\n",
      "File \u001b[1;32mc:\\Python312\\Lib\\site-packages\\torch\\optim\\optimizer.py:76\u001b[0m, in \u001b[0;36m_use_grad_for_differentiable.<locals>._use_grad\u001b[1;34m(self, *args, **kwargs)\u001b[0m\n\u001b[0;32m     74\u001b[0m     torch\u001b[38;5;241m.\u001b[39mset_grad_enabled(\u001b[38;5;28mself\u001b[39m\u001b[38;5;241m.\u001b[39mdefaults[\u001b[38;5;124m'\u001b[39m\u001b[38;5;124mdifferentiable\u001b[39m\u001b[38;5;124m'\u001b[39m])\n\u001b[0;32m     75\u001b[0m     torch\u001b[38;5;241m.\u001b[39m_dynamo\u001b[38;5;241m.\u001b[39mgraph_break()\n\u001b[1;32m---> 76\u001b[0m     ret \u001b[38;5;241m=\u001b[39m \u001b[43mfunc\u001b[49m\u001b[43m(\u001b[49m\u001b[38;5;28;43mself\u001b[39;49m\u001b[43m,\u001b[49m\u001b[43m \u001b[49m\u001b[38;5;241;43m*\u001b[39;49m\u001b[43margs\u001b[49m\u001b[43m,\u001b[49m\u001b[43m \u001b[49m\u001b[38;5;241;43m*\u001b[39;49m\u001b[38;5;241;43m*\u001b[39;49m\u001b[43mkwargs\u001b[49m\u001b[43m)\u001b[49m\n\u001b[0;32m     77\u001b[0m \u001b[38;5;28;01mfinally\u001b[39;00m:\n\u001b[0;32m     78\u001b[0m     torch\u001b[38;5;241m.\u001b[39m_dynamo\u001b[38;5;241m.\u001b[39mgraph_break()\n",
      "File \u001b[1;32mc:\\Python312\\Lib\\site-packages\\torch\\optim\\adam.py:159\u001b[0m, in \u001b[0;36mAdam.step\u001b[1;34m(self, closure)\u001b[0m\n\u001b[0;32m    156\u001b[0m     state_steps \u001b[38;5;241m=\u001b[39m []\n\u001b[0;32m    157\u001b[0m     beta1, beta2 \u001b[38;5;241m=\u001b[39m group[\u001b[38;5;124m'\u001b[39m\u001b[38;5;124mbetas\u001b[39m\u001b[38;5;124m'\u001b[39m]\n\u001b[1;32m--> 159\u001b[0m     has_complex \u001b[38;5;241m=\u001b[39m \u001b[38;5;28;43mself\u001b[39;49m\u001b[38;5;241;43m.\u001b[39;49m\u001b[43m_init_group\u001b[49m\u001b[43m(\u001b[49m\n\u001b[0;32m    160\u001b[0m \u001b[43m        \u001b[49m\u001b[43mgroup\u001b[49m\u001b[43m,\u001b[49m\n\u001b[0;32m    161\u001b[0m \u001b[43m        \u001b[49m\u001b[43mparams_with_grad\u001b[49m\u001b[43m,\u001b[49m\n\u001b[0;32m    162\u001b[0m \u001b[43m        \u001b[49m\u001b[43mgrads\u001b[49m\u001b[43m,\u001b[49m\n\u001b[0;32m    163\u001b[0m \u001b[43m        \u001b[49m\u001b[43mexp_avgs\u001b[49m\u001b[43m,\u001b[49m\n\u001b[0;32m    164\u001b[0m \u001b[43m        \u001b[49m\u001b[43mexp_avg_sqs\u001b[49m\u001b[43m,\u001b[49m\n\u001b[0;32m    165\u001b[0m \u001b[43m        \u001b[49m\u001b[43mmax_exp_avg_sqs\u001b[49m\u001b[43m,\u001b[49m\n\u001b[0;32m    166\u001b[0m \u001b[43m        \u001b[49m\u001b[43mstate_steps\u001b[49m\u001b[43m)\u001b[49m\n\u001b[0;32m    168\u001b[0m     adam(\n\u001b[0;32m    169\u001b[0m         params_with_grad,\n\u001b[0;32m    170\u001b[0m         grads,\n\u001b[1;32m   (...)\u001b[0m\n\u001b[0;32m    188\u001b[0m         found_inf\u001b[38;5;241m=\u001b[39m\u001b[38;5;28mgetattr\u001b[39m(\u001b[38;5;28mself\u001b[39m, \u001b[38;5;124m\"\u001b[39m\u001b[38;5;124mfound_inf\u001b[39m\u001b[38;5;124m\"\u001b[39m, \u001b[38;5;28;01mNone\u001b[39;00m),\n\u001b[0;32m    189\u001b[0m     )\n\u001b[0;32m    191\u001b[0m \u001b[38;5;28;01mreturn\u001b[39;00m loss\n",
      "File \u001b[1;32mc:\\Python312\\Lib\\site-packages\\torch\\optim\\adam.py:115\u001b[0m, in \u001b[0;36mAdam._init_group\u001b[1;34m(self, group, params_with_grad, grads, exp_avgs, exp_avg_sqs, max_exp_avg_sqs, state_steps)\u001b[0m\n\u001b[0;32m    113\u001b[0m state[\u001b[38;5;124m'\u001b[39m\u001b[38;5;124mexp_avg\u001b[39m\u001b[38;5;124m'\u001b[39m] \u001b[38;5;241m=\u001b[39m torch\u001b[38;5;241m.\u001b[39mzeros_like(p, memory_format\u001b[38;5;241m=\u001b[39mtorch\u001b[38;5;241m.\u001b[39mpreserve_format)\n\u001b[0;32m    114\u001b[0m \u001b[38;5;66;03m# Exponential moving average of squared gradient values\u001b[39;00m\n\u001b[1;32m--> 115\u001b[0m state[\u001b[38;5;124m'\u001b[39m\u001b[38;5;124mexp_avg_sq\u001b[39m\u001b[38;5;124m'\u001b[39m] \u001b[38;5;241m=\u001b[39m \u001b[43mtorch\u001b[49m\u001b[38;5;241;43m.\u001b[39;49m\u001b[43mzeros_like\u001b[49m\u001b[43m(\u001b[49m\u001b[43mp\u001b[49m\u001b[43m,\u001b[49m\u001b[43m \u001b[49m\u001b[43mmemory_format\u001b[49m\u001b[38;5;241;43m=\u001b[39;49m\u001b[43mtorch\u001b[49m\u001b[38;5;241;43m.\u001b[39;49m\u001b[43mpreserve_format\u001b[49m\u001b[43m)\u001b[49m\n\u001b[0;32m    116\u001b[0m \u001b[38;5;28;01mif\u001b[39;00m group[\u001b[38;5;124m'\u001b[39m\u001b[38;5;124mamsgrad\u001b[39m\u001b[38;5;124m'\u001b[39m]:\n\u001b[0;32m    117\u001b[0m     \u001b[38;5;66;03m# Maintains max of all exp. moving avg. of sq. grad. values\u001b[39;00m\n\u001b[0;32m    118\u001b[0m     state[\u001b[38;5;124m'\u001b[39m\u001b[38;5;124mmax_exp_avg_sq\u001b[39m\u001b[38;5;124m'\u001b[39m] \u001b[38;5;241m=\u001b[39m torch\u001b[38;5;241m.\u001b[39mzeros_like(p, memory_format\u001b[38;5;241m=\u001b[39mtorch\u001b[38;5;241m.\u001b[39mpreserve_format)\n",
      "\u001b[1;31mOutOfMemoryError\u001b[0m: CUDA out of memory. Tried to allocate 1.73 GiB. GPU "
     ]
    }
   ],
   "source": [
    "if __name__ == \"__main__\":\n",
    "    torch.manual_seed(42)\n",
    "\n",
    "    # Initialize the SMCA model A\n",
    "    model = SMCAModel(768, 768, device).to(device)  # Dimension for d_out_kq and d_out_v\n",
    "\n",
    "    # Determine the output dimensions\n",
    "    output_dim = 768\n",
    "\n",
    "    # Own DenseLayer or FinalClassifier\n",
    "    if isFinalClassifier:\n",
    "        dense_layer = FinalClassifier(output_dim * max_pad).to(device) \n",
    "    else:\n",
    "        dense_layer = DenseLayer(output_dim).to(device)\n",
    "\n",
    "    optimizer = get_optimizer(list(dense_layer.parameters()), learning_rate)\n",
    "\n",
    "    # Lists to store the training and validation losses\n",
    "    train_losses = []\n",
    "    val_losses = []\n",
    "\n",
    "    for epoch in range(num_epochs):\n",
    "        print(\"-\" * 40)\n",
    "        print(f\"Epoch {epoch + 1}/{num_epochs}\")\n",
    "\n",
    "        # Ensure you have a dataloader that yields inputs and targets\n",
    "        train_average_loss, train_accuracy, train_precision, train_recall, train_f1_score = train_model(model=model, dense_layer=dense_layer, dataloader=train_dataloader, criterion=criterion, optimizer=optimizer, device=device, output_dim=output_dim)\n",
    "        train_losses.append(train_average_loss)  # Store training loss\n",
    "\n",
    "        print(\"-\" * 20, \"Train\", \"-\" * 20)\n",
    "        print(f\"Train Accuracy: {train_accuracy:.4f}\")\n",
    "        print(f\"Train Precision: {train_precision:.4f}\")\n",
    "        print(f\"Train Recall: {train_recall:.4f}\")\n",
    "        print(f\"Train F1 Score: {train_f1_score:.4f}\")\n",
    "        print(f\"Train Loss: {train_average_loss:.4f}\")\n",
    "    \n",
    "        \n",
    "        for name, param in model.named_parameters():\n",
    "            if param.grad is None:\n",
    "                print(\"After train: model:\", \"No gradient for:\", name)\n",
    "        \n",
    "        for name, param in dense_layer.named_parameters():\n",
    "            if param.grad is None:\n",
    "                print(\"After train: classifier:\", \"No gradient for:\", name)\n",
    "\n",
    "        # Validate step\n",
    "        val_average_loss, val_accuracy, val_precision, val_recall, val_f1_score, val_conf_matrix = evaluate_model(model=model, dense_layer=dense_layer, dataloader=val_dataloader, criterion=criterion, device=device, output_dim=output_dim)\n",
    "        val_losses.append(val_average_loss)  # Store validation loss\n",
    "        \n",
    "        print(\"-\" * 20, \"Eval\", \"-\" * 20)\n",
    "        print(f\"Eval Accuracy: {val_accuracy:.4f}\")\n",
    "        print(f\"Eval Precision: {val_precision:.4f}\")\n",
    "        print(f\"Eval Recall: {val_recall:.4f}\")\n",
    "        print(f\"Eval F1 Score: {val_f1_score:.4f}\")\n",
    "        print(f\"Eval Loss: {val_average_loss:.4f}\")\n",
    "        \n",
    "        # print(f\"Training Loss: {train_average_loss:.4f}, Validation Loss: {eval_average_loss:.4f}\")\n",
    "\n",
    "    # Testing the model\n",
    "    print(\"-\" * 40)\n",
    "    print(\"Testing the model on the test set...\")\n",
    "    test_average_loss, test_accuracy, test_precision, test_recall, test_f1_score, test_conf_matrix = test_model(model=model, dense_layer=dense_layer, dataloader=test_dataloader, criterion=criterion, device=device, output_dim=output_dim)\n",
    "    \n",
    "    print(\"-\" * 20, \"Test\", \"-\" * 20)\n",
    "    print(f\"Test Accuracy: {test_accuracy:.4f}\")\n",
    "    print(f\"Test Precision: {test_precision:.4f}\")\n",
    "    print(f\"Test Recall: {test_recall:.4f}\")\n",
    "    print(f\"Test F1 Score: {test_f1_score:.4f}\")\n",
    "    print(f\"Test Loss: {test_average_loss:.4f}\")\n",
    "    \n",
    "    # Summary of metrics\n",
    "    metrics_summary = {\n",
    "        \"Train Accuracy\": [train_accuracy],\n",
    "        \"Validation Accuracy\": [val_accuracy],\n",
    "        \"Test Accuracy\": [test_accuracy],\n",
    "        \"Train Precision\": [train_precision],\n",
    "        \"Validation Precision\": [val_precision],\n",
    "        \"Test Precision\": [test_precision],\n",
    "        \"Train Recall\": [train_recall],\n",
    "        \"Validation Recall\": [val_recall],\n",
    "        \"Test Recall\": [test_recall],\n",
    "        \"Train F1 Score\": [train_f1_score],\n",
    "        \"Validation F1 Score\": [val_f1_score],\n",
    "        \"Test F1 Score\": [test_f1_score],\n",
    "        \"Train Loss\": [train_average_loss],\n",
    "        \"Validation Loss\": [val_average_loss],\n",
    "        \"Test Loss\": [test_average_loss]\n",
    "    }\n",
    "    \n",
    "    # Create DataFrame\n",
    "    metrics_df = pd.DataFrame(metrics_summary)\n",
    "    "
   ]
  },
  {
   "cell_type": "markdown",
   "metadata": {},
   "source": [
    "### Results Monitoring"
   ]
  },
  {
   "cell_type": "code",
   "execution_count": null,
   "metadata": {},
   "outputs": [],
   "source": [
    "plot_losses(train_losses, val_losses)"
   ]
  },
  {
   "cell_type": "code",
   "execution_count": null,
   "metadata": {},
   "outputs": [],
   "source": [
    "plot_confusion_matrix(test_conf_matrix)"
   ]
  },
  {
   "cell_type": "code",
   "execution_count": null,
   "metadata": {},
   "outputs": [],
   "source": [
    "# Display the table\n",
    "metrics_df"
   ]
  },
  {
   "cell_type": "code",
   "execution_count": null,
   "metadata": {},
   "outputs": [
    {
     "name": "stdout",
     "output_type": "stream",
     "text": [
      "Train DataLoader: Total Samples = 927, Number of Batches = 29\n",
      "Validation DataLoader: Total Samples = 199, Number of Batches = 13\n",
      "Test DataLoader: Total Samples = 199, Number of Batches = 13\n"
     ]
    }
   ],
   "source": [
    "# Print sizes of each DataLoader (FOR CHECKING)\n",
    "print_dataloader_sizes(train_dataloader, \"Train\")\n",
    "print_dataloader_sizes(val_dataloader, \"Validation\")\n",
    "print_dataloader_sizes(test_dataloader, \"Test\")\n"
   ]
  },
  {
   "cell_type": "code",
   "execution_count": 27,
   "metadata": {},
   "outputs": [
    {
     "data": {
      "text/html": [
       "<div>\n",
       "<style scoped>\n",
       "    .dataframe tbody tr th:only-of-type {\n",
       "        vertical-align: middle;\n",
       "    }\n",
       "\n",
       "    .dataframe tbody tr th {\n",
       "        vertical-align: top;\n",
       "    }\n",
       "\n",
       "    .dataframe thead th {\n",
       "        text-align: right;\n",
       "    }\n",
       "</style>\n",
       "<table border=\"1\" class=\"dataframe\">\n",
       "  <thead>\n",
       "    <tr style=\"text-align: right;\">\n",
       "      <th></th>\n",
       "      <th>IMDBid</th>\n",
       "      <th>Raw Prediction</th>\n",
       "      <th>Binary Prediction</th>\n",
       "      <th>Target</th>\n",
       "    </tr>\n",
       "  </thead>\n",
       "  <tbody>\n",
       "    <tr>\n",
       "      <th>0</th>\n",
       "      <td>tt5292624</td>\n",
       "      <td>0.736823</td>\n",
       "      <td>1.0</td>\n",
       "      <td>1.0</td>\n",
       "    </tr>\n",
       "    <tr>\n",
       "      <th>1</th>\n",
       "      <td>tt1996264</td>\n",
       "      <td>0.887823</td>\n",
       "      <td>1.0</td>\n",
       "      <td>1.0</td>\n",
       "    </tr>\n",
       "    <tr>\n",
       "      <th>2</th>\n",
       "      <td>tt0110157</td>\n",
       "      <td>0.004624</td>\n",
       "      <td>0.0</td>\n",
       "      <td>0.0</td>\n",
       "    </tr>\n",
       "    <tr>\n",
       "      <th>3</th>\n",
       "      <td>tt0259711</td>\n",
       "      <td>0.053281</td>\n",
       "      <td>0.0</td>\n",
       "      <td>0.0</td>\n",
       "    </tr>\n",
       "    <tr>\n",
       "      <th>4</th>\n",
       "      <td>tt0758774</td>\n",
       "      <td>0.267036</td>\n",
       "      <td>0.0</td>\n",
       "      <td>0.0</td>\n",
       "    </tr>\n",
       "    <tr>\n",
       "      <th>...</th>\n",
       "      <td>...</td>\n",
       "      <td>...</td>\n",
       "      <td>...</td>\n",
       "      <td>...</td>\n",
       "    </tr>\n",
       "    <tr>\n",
       "      <th>1055</th>\n",
       "      <td>tt0328538</td>\n",
       "      <td>0.276780</td>\n",
       "      <td>0.0</td>\n",
       "      <td>0.0</td>\n",
       "    </tr>\n",
       "    <tr>\n",
       "      <th>1056</th>\n",
       "      <td>tt0082367</td>\n",
       "      <td>0.817319</td>\n",
       "      <td>1.0</td>\n",
       "      <td>1.0</td>\n",
       "    </tr>\n",
       "    <tr>\n",
       "      <th>1057</th>\n",
       "      <td>tt1366344</td>\n",
       "      <td>0.562297</td>\n",
       "      <td>1.0</td>\n",
       "      <td>1.0</td>\n",
       "    </tr>\n",
       "    <tr>\n",
       "      <th>1058</th>\n",
       "      <td>tt7634968</td>\n",
       "      <td>0.684587</td>\n",
       "      <td>1.0</td>\n",
       "      <td>1.0</td>\n",
       "    </tr>\n",
       "    <tr>\n",
       "      <th>1059</th>\n",
       "      <td>tt0396271</td>\n",
       "      <td>0.019819</td>\n",
       "      <td>0.0</td>\n",
       "      <td>0.0</td>\n",
       "    </tr>\n",
       "  </tbody>\n",
       "</table>\n",
       "<p>1060 rows × 4 columns</p>\n",
       "</div>"
      ],
      "text/plain": [
       "         IMDBid  Raw Prediction  Binary Prediction  Target\n",
       "0     tt5292624        0.736823                1.0     1.0\n",
       "1     tt1996264        0.887823                1.0     1.0\n",
       "2     tt0110157        0.004624                0.0     0.0\n",
       "3     tt0259711        0.053281                0.0     0.0\n",
       "4     tt0758774        0.267036                0.0     0.0\n",
       "...         ...             ...                ...     ...\n",
       "1055  tt0328538        0.276780                0.0     0.0\n",
       "1056  tt0082367        0.817319                1.0     1.0\n",
       "1057  tt1366344        0.562297                1.0     1.0\n",
       "1058  tt7634968        0.684587                1.0     1.0\n",
       "1059  tt0396271        0.019819                0.0     0.0\n",
       "\n",
       "[1060 rows x 4 columns]"
      ]
     },
     "execution_count": 27,
     "metadata": {},
     "output_type": "execute_result"
    }
   ],
   "source": [
    "train_df = pd.read_csv('results/train_predictions.csv')\n",
    "train_df\n"
   ]
  },
  {
   "cell_type": "code",
   "execution_count": 28,
   "metadata": {},
   "outputs": [
    {
     "data": {
      "text/html": [
       "<div>\n",
       "<style scoped>\n",
       "    .dataframe tbody tr th:only-of-type {\n",
       "        vertical-align: middle;\n",
       "    }\n",
       "\n",
       "    .dataframe tbody tr th {\n",
       "        vertical-align: top;\n",
       "    }\n",
       "\n",
       "    .dataframe thead th {\n",
       "        text-align: right;\n",
       "    }\n",
       "</style>\n",
       "<table border=\"1\" class=\"dataframe\">\n",
       "  <thead>\n",
       "    <tr style=\"text-align: right;\">\n",
       "      <th></th>\n",
       "      <th>IMDBid</th>\n",
       "      <th>Raw Prediction</th>\n",
       "      <th>Binary Prediction</th>\n",
       "      <th>Target</th>\n",
       "    </tr>\n",
       "  </thead>\n",
       "  <tbody>\n",
       "    <tr>\n",
       "      <th>0</th>\n",
       "      <td>tt0300620</td>\n",
       "      <td>0.044776</td>\n",
       "      <td>0.0</td>\n",
       "      <td>0.0</td>\n",
       "    </tr>\n",
       "    <tr>\n",
       "      <th>1</th>\n",
       "      <td>tt0117333</td>\n",
       "      <td>0.024099</td>\n",
       "      <td>0.0</td>\n",
       "      <td>0.0</td>\n",
       "    </tr>\n",
       "    <tr>\n",
       "      <th>2</th>\n",
       "      <td>tt0101414</td>\n",
       "      <td>0.006145</td>\n",
       "      <td>0.0</td>\n",
       "      <td>0.0</td>\n",
       "    </tr>\n",
       "    <tr>\n",
       "      <th>3</th>\n",
       "      <td>tt2557490</td>\n",
       "      <td>0.274969</td>\n",
       "      <td>0.0</td>\n",
       "      <td>1.0</td>\n",
       "    </tr>\n",
       "    <tr>\n",
       "      <th>4</th>\n",
       "      <td>tt5918982</td>\n",
       "      <td>0.888453</td>\n",
       "      <td>1.0</td>\n",
       "      <td>1.0</td>\n",
       "    </tr>\n",
       "    <tr>\n",
       "      <th>...</th>\n",
       "      <td>...</td>\n",
       "      <td>...</td>\n",
       "      <td>...</td>\n",
       "      <td>...</td>\n",
       "    </tr>\n",
       "    <tr>\n",
       "      <th>260</th>\n",
       "      <td>tt1331064</td>\n",
       "      <td>0.025512</td>\n",
       "      <td>0.0</td>\n",
       "      <td>0.0</td>\n",
       "    </tr>\n",
       "    <tr>\n",
       "      <th>261</th>\n",
       "      <td>tt0483607</td>\n",
       "      <td>0.097614</td>\n",
       "      <td>0.0</td>\n",
       "      <td>0.0</td>\n",
       "    </tr>\n",
       "    <tr>\n",
       "      <th>262</th>\n",
       "      <td>tt0102288</td>\n",
       "      <td>0.020075</td>\n",
       "      <td>0.0</td>\n",
       "      <td>0.0</td>\n",
       "    </tr>\n",
       "    <tr>\n",
       "      <th>263</th>\n",
       "      <td>tt0448564</td>\n",
       "      <td>0.004929</td>\n",
       "      <td>0.0</td>\n",
       "      <td>0.0</td>\n",
       "    </tr>\n",
       "    <tr>\n",
       "      <th>264</th>\n",
       "      <td>tt0364751</td>\n",
       "      <td>0.364645</td>\n",
       "      <td>0.0</td>\n",
       "      <td>0.0</td>\n",
       "    </tr>\n",
       "  </tbody>\n",
       "</table>\n",
       "<p>265 rows × 4 columns</p>\n",
       "</div>"
      ],
      "text/plain": [
       "        IMDBid  Raw Prediction  Binary Prediction  Target\n",
       "0    tt0300620        0.044776                0.0     0.0\n",
       "1    tt0117333        0.024099                0.0     0.0\n",
       "2    tt0101414        0.006145                0.0     0.0\n",
       "3    tt2557490        0.274969                0.0     1.0\n",
       "4    tt5918982        0.888453                1.0     1.0\n",
       "..         ...             ...                ...     ...\n",
       "260  tt1331064        0.025512                0.0     0.0\n",
       "261  tt0483607        0.097614                0.0     0.0\n",
       "262  tt0102288        0.020075                0.0     0.0\n",
       "263  tt0448564        0.004929                0.0     0.0\n",
       "264  tt0364751        0.364645                0.0     0.0\n",
       "\n",
       "[265 rows x 4 columns]"
      ]
     },
     "execution_count": 28,
     "metadata": {},
     "output_type": "execute_result"
    }
   ],
   "source": [
    "eval_df = pd.read_csv('results/val_predictions.csv')\n",
    "eval_df"
   ]
  },
  {
   "cell_type": "code",
   "execution_count": 29,
   "metadata": {},
   "outputs": [
    {
     "data": {
      "text/html": [
       "<div>\n",
       "<style scoped>\n",
       "    .dataframe tbody tr th:only-of-type {\n",
       "        vertical-align: middle;\n",
       "    }\n",
       "\n",
       "    .dataframe tbody tr th {\n",
       "        vertical-align: top;\n",
       "    }\n",
       "\n",
       "    .dataframe thead th {\n",
       "        text-align: right;\n",
       "    }\n",
       "</style>\n",
       "<table border=\"1\" class=\"dataframe\">\n",
       "  <thead>\n",
       "    <tr style=\"text-align: right;\">\n",
       "      <th></th>\n",
       "      <th>IMDBid</th>\n",
       "      <th>Raw Prediction</th>\n",
       "      <th>Binary Prediction</th>\n",
       "      <th>Target</th>\n",
       "    </tr>\n",
       "  </thead>\n",
       "  <tbody>\n",
       "    <tr>\n",
       "      <th>0</th>\n",
       "      <td>tt6261048</td>\n",
       "      <td>0.091161</td>\n",
       "      <td>0.0</td>\n",
       "      <td>0.0</td>\n",
       "    </tr>\n",
       "    <tr>\n",
       "      <th>1</th>\n",
       "      <td>tt1596346</td>\n",
       "      <td>0.197217</td>\n",
       "      <td>0.0</td>\n",
       "      <td>0.0</td>\n",
       "    </tr>\n",
       "    <tr>\n",
       "      <th>2</th>\n",
       "      <td>tt0809504</td>\n",
       "      <td>0.114703</td>\n",
       "      <td>0.0</td>\n",
       "      <td>0.0</td>\n",
       "    </tr>\n",
       "    <tr>\n",
       "      <th>3</th>\n",
       "      <td>tt0472562</td>\n",
       "      <td>0.336006</td>\n",
       "      <td>0.0</td>\n",
       "      <td>0.0</td>\n",
       "    </tr>\n",
       "    <tr>\n",
       "      <th>4</th>\n",
       "      <td>tt0134033</td>\n",
       "      <td>0.053163</td>\n",
       "      <td>0.0</td>\n",
       "      <td>0.0</td>\n",
       "    </tr>\n",
       "    <tr>\n",
       "      <th>...</th>\n",
       "      <td>...</td>\n",
       "      <td>...</td>\n",
       "      <td>...</td>\n",
       "      <td>...</td>\n",
       "    </tr>\n",
       "    <tr>\n",
       "      <th>194</th>\n",
       "      <td>tt0770806</td>\n",
       "      <td>0.683721</td>\n",
       "      <td>1.0</td>\n",
       "      <td>0.0</td>\n",
       "    </tr>\n",
       "    <tr>\n",
       "      <th>195</th>\n",
       "      <td>tt0311941</td>\n",
       "      <td>0.239854</td>\n",
       "      <td>0.0</td>\n",
       "      <td>1.0</td>\n",
       "    </tr>\n",
       "    <tr>\n",
       "      <th>196</th>\n",
       "      <td>tt2072233</td>\n",
       "      <td>0.834122</td>\n",
       "      <td>1.0</td>\n",
       "      <td>1.0</td>\n",
       "    </tr>\n",
       "    <tr>\n",
       "      <th>197</th>\n",
       "      <td>tt1178640</td>\n",
       "      <td>0.190963</td>\n",
       "      <td>0.0</td>\n",
       "      <td>0.0</td>\n",
       "    </tr>\n",
       "    <tr>\n",
       "      <th>198</th>\n",
       "      <td>tt0985025</td>\n",
       "      <td>0.596859</td>\n",
       "      <td>1.0</td>\n",
       "      <td>1.0</td>\n",
       "    </tr>\n",
       "  </tbody>\n",
       "</table>\n",
       "<p>199 rows × 4 columns</p>\n",
       "</div>"
      ],
      "text/plain": [
       "        IMDBid  Raw Prediction  Binary Prediction  Target\n",
       "0    tt6261048        0.091161                0.0     0.0\n",
       "1    tt1596346        0.197217                0.0     0.0\n",
       "2    tt0809504        0.114703                0.0     0.0\n",
       "3    tt0472562        0.336006                0.0     0.0\n",
       "4    tt0134033        0.053163                0.0     0.0\n",
       "..         ...             ...                ...     ...\n",
       "194  tt0770806        0.683721                1.0     0.0\n",
       "195  tt0311941        0.239854                0.0     1.0\n",
       "196  tt2072233        0.834122                1.0     1.0\n",
       "197  tt1178640        0.190963                0.0     0.0\n",
       "198  tt0985025        0.596859                1.0     1.0\n",
       "\n",
       "[199 rows x 4 columns]"
      ]
     },
     "execution_count": 29,
     "metadata": {},
     "output_type": "execute_result"
    }
   ],
   "source": [
    "test_df = pd.read_csv('results/test_predictions.csv')\n",
    "test_df"
   ]
  },
  {
   "cell_type": "markdown",
   "metadata": {},
   "source": [
    "### Cross-Validation"
   ]
  },
  {
   "cell_type": "code",
   "execution_count": 30,
   "metadata": {},
   "outputs": [],
   "source": [
    "def plot_average_loss_curves(train_losses_folds, val_losses_folds):\n",
    "    # Transpose folds to calculate averages per epoch\n",
    "    num_epochs = len(train_losses_folds[0])\n",
    "    avg_train_losses = [np.mean([fold[epoch] for fold in train_losses_folds]) for epoch in range(num_epochs)]\n",
    "    avg_val_losses = [np.mean([fold[epoch] for fold in val_losses_folds]) for epoch in range(num_epochs)]\n",
    "\n",
    "    epochs = range(1, num_epochs + 1)\n",
    "\n",
    "    plt.figure(figsize=(10, 6))\n",
    "    plt.plot(epochs, avg_train_losses, label='Average Training Loss', color='blue', marker='o')\n",
    "    plt.plot(epochs, avg_val_losses, label='Average Validation Loss', color='orange', marker='o')\n",
    "    \n",
    "    plt.title('Average Training and Validation Loss Across Folds')\n",
    "    plt.xlabel('Epochs')\n",
    "    plt.ylabel('Loss')\n",
    "    plt.legend()\n",
    "    plt.grid(True)\n",
    "    plt.show()"
   ]
  },
  {
   "cell_type": "code",
   "execution_count": null,
   "metadata": {},
   "outputs": [],
   "source": [
    "\n",
    "def cross_validate_model(\n",
    "    dataset, \n",
    "    model_class, \n",
    "    dense_layer_class, \n",
    "    num_folds, \n",
    "    num_epochs, \n",
    "    output_dim,\n",
    "    criterion,\n",
    "    learning_rate,\n",
    "    train_batch_size,\n",
    "    val_batch_size,\n",
    "    output_file,\n",
    "    device=None\n",
    "):\n",
    "    # Set device configuration\n",
    "    if device is None:\n",
    "        device = torch.device(\"cuda\" if torch.cuda.is_available() else \"cpu\")\n",
    "    print(f\"Device: {device}\")\n",
    "    \n",
    "    # Initialize the KFold splitter\n",
    "    kf = KFold(n_splits=num_folds, shuffle=True, random_state=42)\n",
    "\n",
    "    # lists to store metrics for each fold\n",
    "    fold_losses = []\n",
    "    fold_accuracies = []\n",
    "    fold_precisions = []\n",
    "    fold_recalls = []\n",
    "    fold_f1_scores = []\n",
    "    \n",
    "    # Lists to store metrics and losses for each fold\n",
    "    train_losses_folds = []  # List of lists: train_losses_folds[fold][epoch]\n",
    "    val_losses_folds = []    # List of lists: val_losses_folds[fold][epoch]\n",
    "    \n",
    "    # Perform K-Fold Cross-Validation\n",
    "    for fold, (train_idx, val_idx) in enumerate(kf.split(dataset)):\n",
    "        print(\"-\" * 60)\n",
    "        print(f\"------------------------- Fold {fold + 1 }/{num_folds} -------------------------\")\n",
    "\n",
    "        # Create data loaders for the train and validation sets\n",
    "        train_sampler = torch.utils.data.SubsetRandomSampler(train_idx)\n",
    "        val_sampler = torch.utils.data.SubsetRandomSampler(val_idx)\n",
    "        \n",
    "        train_dataloader = torch.utils.data.DataLoader(dataset, batch_size=train_batch_size, sampler=train_sampler, collate_fn=collate_fn)\n",
    "        val_dataloader = torch.utils.data.DataLoader(dataset, batch_size=val_batch_size, sampler=val_sampler, collate_fn=collate_fn)\n",
    "        \n",
    "        print_dataloader_sizes(train_dataloader, \"Train\")\n",
    "        print_dataloader_sizes(val_dataloader, \"Validation\")\n",
    "        \n",
    "        # Initialize the model, dense layer, criterion, and optimizer for each fold\n",
    "        model = model_class(768, 768, device).to(device)\n",
    "        \n",
    "        dense_layer = dense_layer_class(output_dim * max_pad).to(device)\n",
    "        criterion = criterion.to(device)\n",
    "        optimizer = get_optimizer(list(dense_layer.parameters()), learning_rate)\n",
    "\n",
    "        # Initialize lists to track losses for this fold\n",
    "        train_losses = []\n",
    "        val_losses = []\n",
    "        \n",
    "        # Use tqdm for progress bar\n",
    "        epoch_progress = tqdm(range(num_epochs), desc=f\"Fold {fold + 1}/{num_folds} Training\", leave=True)\n",
    "\n",
    "\n",
    "        # Training loop for each fold\n",
    "        for epoch in epoch_progress:\n",
    "            print(f\"------------------------- Epoch {epoch + 1}/{num_epochs} -------------------------\")\n",
    "            \n",
    "            # Train and evaluate the model on the training and validation sets\n",
    "            train_average_loss, train_accuracy, train_precision, train_recall, train_f1_score = train_model(model=model, dense_layer=dense_layer, dataloader=train_dataloader, criterion=criterion, optimizer=optimizer, device=device)\n",
    "            val_average_loss, val_accuracy, val_precision, val_recall, val_f1_score, val_conf_matrix = evaluate_model(model=model, dense_layer=dense_layer, dataloader=val_dataloader, criterion=criterion, device=device)\n",
    "            \n",
    "            # Track losses for this fold and epoch\n",
    "            train_losses.append(train_average_loss)\n",
    "            val_losses.append(val_average_loss)\n",
    "            \n",
    "            print(f\"\\nTrain Accuracy: {train_accuracy:.4f}\")\n",
    "            print(f\"Train Precision: {train_precision:.4f}\")\n",
    "            print(f\"Train Recall: {train_recall:.4f}\")\n",
    "            print(f\"Train F1 Score: {train_f1_score:.4f}\")\n",
    "            print(f\"Train Loss: {train_average_loss:.4f}\")\n",
    "            \n",
    "            print(f\"\\nEval Accuracy: {val_accuracy:.4f}\")\n",
    "            print(f\"Eval Precision: {val_precision:.4f}\")\n",
    "            print(f\"Eval Recall: {val_recall:.4f}\")\n",
    "            print(f\"Eval F1 Score: {val_f1_score:.4f}\")\n",
    "            print(f\"Eval Loss: {val_average_loss:.4f}\")\n",
    "\n",
    "            \n",
    "            # Update tqdm progress bar description\n",
    "            epoch_progress.set_postfix({\n",
    "                \"Train Loss\": f\"{train_average_loss:.4f}\",\n",
    "                \"Val Loss\": f\"{val_average_loss:.4f}\",\n",
    "                \"Train F1\": f\"{train_f1_score:.4f}\",\n",
    "                \"Val F1\": f\"{val_f1_score:.4f}\",\n",
    "            })\n",
    "        \n",
    "        # Store losses for the fold\n",
    "        train_losses_folds.append(train_losses)\n",
    "        val_losses_folds.append(val_losses)\n",
    "           \n",
    "        # Store the validation metrics for this fold\n",
    "        fold_losses.append(val_average_loss)\n",
    "        fold_accuracies.append(val_accuracy)\n",
    "        fold_precisions.append(val_precision)\n",
    "        fold_recalls.append(val_recall)\n",
    "        fold_f1_scores.append(val_f1_score)\n",
    "\n",
    "    # Calculate the average metrics across all folds\n",
    "    avg_loss = np.mean(fold_losses)\n",
    "    avg_accuracy = np.mean(fold_accuracies)\n",
    "    avg_precision = np.mean(fold_precisions)\n",
    "    avg_recall = np.mean(fold_recalls)\n",
    "    avg_f1_score = np.mean(fold_f1_scores)\n",
    "\n",
    "    print(\"-\" * 50)\n",
    "    print(\"\\nK-Fold Cross-Validation Results:\")\n",
    "    print(f\"Average Loss: {avg_loss:.4f}\")\n",
    "    print(f\"Average Accuracy: {avg_accuracy:.4f}\")\n",
    "    print(f\"Average Precision: {avg_precision:.4f}\")\n",
    "    print(f\"Average Recall: {avg_recall:.4f}\")\n",
    "    print(f\"Average F1 Score: {avg_f1_score:.4f}\")\n",
    "\n",
    "    # Plot average loss curves across folds\n",
    "    plot_average_loss_curves(train_losses_folds, val_losses_folds)\n",
    "\n",
    "    \n",
    "    results_dict = {\"Metrics\": [\"Loss\", \"Accuracy\", \"Precision\", \"Recall\", \"F1 Score\"]}\n",
    "    for i in range(num_folds):\n",
    "        results_dict[f\"Fold {i + 1}\"] = [fold_losses[i], fold_accuracies[i], fold_precisions[i], fold_recalls[i], fold_f1_scores[i]]\n",
    "    results_dict[\"Average\"] = [avg_loss, avg_accuracy, avg_precision, avg_recall, avg_f1_score]\n",
    "\n",
    "    # Create DataFrame\n",
    "    results_df = pd.DataFrame(results_dict)\n",
    "    \n",
    "    # Ensure the output directory exists\n",
    "    output_dir = os.path.dirname(output_file)\n",
    "    if output_dir and not os.path.exists(output_dir):\n",
    "        os.makedirs(output_dir)  \n",
    "        \n",
    "    # Save results to .csv\n",
    "    results_df.to_csv(output_file, index=False)\n",
    "    \n",
    "    return results_df"
   ]
  },
  {
   "cell_type": "code",
   "execution_count": 32,
   "metadata": {},
   "outputs": [
    {
     "name": "stdout",
     "output_type": "stream",
     "text": [
      "Device: cuda\n",
      "------------------------------------------------------------\n",
      "------------------------- Fold 1/5 -------------------------\n"
     ]
    },
    {
     "name": "stderr",
     "output_type": "stream",
     "text": [
      "Fold 1/5 Training:   0%|          | 0/10 [00:00<?, ?it/s]"
     ]
    },
    {
     "name": "stdout",
     "output_type": "stream",
     "text": [
      "------------------------- Epoch 1/10 -------------------------\n"
     ]
    },
    {
     "name": "stderr",
     "output_type": "stream",
     "text": [
      "Fold 1/5 Training:  10%|█         | 1/10 [01:52<16:55, 112.85s/it, Train Loss=0.5010, Val Loss=0.5048, Train F1=0.3592, Val F1=0.5469]"
     ]
    },
    {
     "name": "stdout",
     "output_type": "stream",
     "text": [
      "-------------------- Train --------------------\n",
      "Train Accuracy: 0.7745\n",
      "Train Precision: 0.6204\n",
      "Train Recall: 0.2528\n",
      "Train F1 Score: 0.3592\n",
      "Train Loss: 0.5010\n",
      "-------------------- Eval --------------------\n",
      "Eval Accuracy: 0.7811\n",
      "Eval Precision: 0.5932\n",
      "Eval Recall: 0.5072\n",
      "Eval F1 Score: 0.5469\n",
      "Eval Loss: 0.5048\n",
      "------------------------- Epoch 2/10 -------------------------\n"
     ]
    },
    {
     "name": "stderr",
     "output_type": "stream",
     "text": [
      "Fold 1/5 Training:  20%|██        | 2/10 [03:51<15:30, 116.36s/it, Train Loss=0.3945, Val Loss=0.5417, Train F1=0.6316, Val F1=0.5730]"
     ]
    },
    {
     "name": "stdout",
     "output_type": "stream",
     "text": [
      "-------------------- Train --------------------\n",
      "Train Accuracy: 0.8415\n",
      "Train Precision: 0.7539\n",
      "Train Recall: 0.5434\n",
      "Train F1 Score: 0.6316\n",
      "Train Loss: 0.3945\n",
      "-------------------- Eval --------------------\n",
      "Eval Accuracy: 0.7132\n",
      "Eval Precision: 0.4679\n",
      "Eval Recall: 0.7391\n",
      "Eval F1 Score: 0.5730\n",
      "Eval Loss: 0.5417\n",
      "------------------------- Epoch 3/10 -------------------------\n"
     ]
    },
    {
     "name": "stderr",
     "output_type": "stream",
     "text": [
      "Fold 1/5 Training:  30%|███       | 3/10 [05:43<13:21, 114.44s/it, Train Loss=0.3727, Val Loss=0.4341, Train F1=0.6500, Val F1=0.5902]"
     ]
    },
    {
     "name": "stdout",
     "output_type": "stream",
     "text": [
      "-------------------- Train --------------------\n",
      "Train Accuracy: 0.8415\n",
      "Train Precision: 0.7256\n",
      "Train Recall: 0.5887\n",
      "Train F1 Score: 0.6500\n",
      "Train Loss: 0.3727\n",
      "-------------------- Eval --------------------\n",
      "Eval Accuracy: 0.8113\n",
      "Eval Precision: 0.6792\n",
      "Eval Recall: 0.5217\n",
      "Eval F1 Score: 0.5902\n",
      "Eval Loss: 0.4341\n",
      "------------------------- Epoch 4/10 -------------------------\n"
     ]
    },
    {
     "name": "stderr",
     "output_type": "stream",
     "text": [
      "Fold 1/5 Training:  40%|████      | 4/10 [07:40<11:31, 115.26s/it, Train Loss=0.3386, Val Loss=0.4141, Train F1=0.6837, Val F1=0.6230]"
     ]
    },
    {
     "name": "stdout",
     "output_type": "stream",
     "text": [
      "-------------------- Train --------------------\n",
      "Train Accuracy: 0.8594\n",
      "Train Precision: 0.7816\n",
      "Train Recall: 0.6075\n",
      "Train F1 Score: 0.6837\n",
      "Train Loss: 0.3386\n",
      "-------------------- Eval --------------------\n",
      "Eval Accuracy: 0.8264\n",
      "Eval Precision: 0.7170\n",
      "Eval Recall: 0.5507\n",
      "Eval F1 Score: 0.6230\n",
      "Eval Loss: 0.4141\n",
      "------------------------- Epoch 5/10 -------------------------\n"
     ]
    },
    {
     "name": "stderr",
     "output_type": "stream",
     "text": [
      "Fold 1/5 Training:  50%|█████     | 5/10 [09:33<09:32, 114.56s/it, Train Loss=0.3198, Val Loss=0.4583, Train F1=0.6857, Val F1=0.5812]"
     ]
    },
    {
     "name": "stdout",
     "output_type": "stream",
     "text": [
      "-------------------- Train --------------------\n",
      "Train Accuracy: 0.8547\n",
      "Train Precision: 0.7467\n",
      "Train Recall: 0.6340\n",
      "Train F1 Score: 0.6857\n",
      "Train Loss: 0.3198\n",
      "-------------------- Eval --------------------\n",
      "Eval Accuracy: 0.8151\n",
      "Eval Precision: 0.7083\n",
      "Eval Recall: 0.4928\n",
      "Eval F1 Score: 0.5812\n",
      "Eval Loss: 0.4583\n",
      "------------------------- Epoch 6/10 -------------------------\n"
     ]
    },
    {
     "name": "stderr",
     "output_type": "stream",
     "text": [
      "Fold 1/5 Training:  60%|██████    | 6/10 [11:28<07:38, 114.66s/it, Train Loss=0.2985, Val Loss=0.4322, Train F1=0.7307, Val F1=0.5763]"
     ]
    },
    {
     "name": "stdout",
     "output_type": "stream",
     "text": [
      "-------------------- Train --------------------\n",
      "Train Accuracy: 0.8783\n",
      "Train Precision: 0.8178\n",
      "Train Recall: 0.6604\n",
      "Train F1 Score: 0.7307\n",
      "Train Loss: 0.2985\n",
      "-------------------- Eval --------------------\n",
      "Eval Accuracy: 0.8113\n",
      "Eval Precision: 0.6939\n",
      "Eval Recall: 0.4928\n",
      "Eval F1 Score: 0.5763\n",
      "Eval Loss: 0.4322\n",
      "------------------------- Epoch 7/10 -------------------------\n"
     ]
    },
    {
     "name": "stderr",
     "output_type": "stream",
     "text": [
      "Fold 1/5 Training:  70%|███████   | 7/10 [13:25<05:45, 115.26s/it, Train Loss=0.2806, Val Loss=0.4932, Train F1=0.7280, Val F1=0.4255]"
     ]
    },
    {
     "name": "stdout",
     "output_type": "stream",
     "text": [
      "-------------------- Train --------------------\n",
      "Train Accuracy: 0.8774\n",
      "Train Precision: 0.8169\n",
      "Train Recall: 0.6566\n",
      "Train F1 Score: 0.7280\n",
      "Train Loss: 0.2806\n",
      "-------------------- Eval --------------------\n",
      "Eval Accuracy: 0.7962\n",
      "Eval Precision: 0.8000\n",
      "Eval Recall: 0.2899\n",
      "Eval F1 Score: 0.4255\n",
      "Eval Loss: 0.4932\n",
      "------------------------- Epoch 8/10 -------------------------\n"
     ]
    },
    {
     "name": "stderr",
     "output_type": "stream",
     "text": [
      "Fold 1/5 Training:  80%|████████  | 8/10 [15:12<03:45, 112.69s/it, Train Loss=0.2939, Val Loss=0.4291, Train F1=0.7360, Val F1=0.5984]"
     ]
    },
    {
     "name": "stdout",
     "output_type": "stream",
     "text": [
      "-------------------- Train --------------------\n",
      "Train Accuracy: 0.8755\n",
      "Train Precision: 0.7830\n",
      "Train Recall: 0.6943\n",
      "Train F1 Score: 0.7360\n",
      "Train Loss: 0.2939\n",
      "-------------------- Eval --------------------\n",
      "Eval Accuracy: 0.8075\n",
      "Eval Precision: 0.6552\n",
      "Eval Recall: 0.5507\n",
      "Eval F1 Score: 0.5984\n",
      "Eval Loss: 0.4291\n",
      "------------------------- Epoch 9/10 -------------------------\n"
     ]
    },
    {
     "name": "stderr",
     "output_type": "stream",
     "text": [
      "Fold 1/5 Training:  90%|█████████ | 9/10 [17:00<01:51, 111.37s/it, Train Loss=0.2896, Val Loss=0.4220, Train F1=0.7455, Val F1=0.6528]"
     ]
    },
    {
     "name": "stdout",
     "output_type": "stream",
     "text": [
      "-------------------- Train --------------------\n",
      "Train Accuracy: 0.8802\n",
      "Train Precision: 0.7949\n",
      "Train Recall: 0.7019\n",
      "Train F1 Score: 0.7455\n",
      "Train Loss: 0.2896\n",
      "-------------------- Eval --------------------\n",
      "Eval Accuracy: 0.8113\n",
      "Eval Precision: 0.6267\n",
      "Eval Recall: 0.6812\n",
      "Eval F1 Score: 0.6528\n",
      "Eval Loss: 0.4220\n",
      "------------------------- Epoch 10/10 -------------------------\n"
     ]
    },
    {
     "name": "stderr",
     "output_type": "stream",
     "text": [
      "Fold 1/5 Training: 100%|██████████| 10/10 [18:50<00:00, 113.05s/it, Train Loss=0.3150, Val Loss=0.4174, Train F1=0.6949, Val F1=0.6129]"
     ]
    },
    {
     "name": "stdout",
     "output_type": "stream",
     "text": [
      "-------------------- Train --------------------\n",
      "Train Accuracy: 0.8575\n",
      "Train Precision: 0.7478\n",
      "Train Recall: 0.6491\n",
      "Train F1 Score: 0.6949\n",
      "Train Loss: 0.3150\n",
      "-------------------- Eval --------------------\n",
      "Eval Accuracy: 0.8189\n",
      "Eval Precision: 0.6909\n",
      "Eval Recall: 0.5507\n",
      "Eval F1 Score: 0.6129\n",
      "Eval Loss: 0.4174\n",
      "------------------------------------------------------------\n",
      "------------------------- Fold 2/5 -------------------------\n"
     ]
    },
    {
     "name": "stderr",
     "output_type": "stream",
     "text": [
      "\n",
      "Fold 2/5 Training:   0%|          | 0/10 [00:00<?, ?it/s]"
     ]
    },
    {
     "name": "stdout",
     "output_type": "stream",
     "text": [
      "------------------------- Epoch 1/10 -------------------------\n"
     ]
    },
    {
     "name": "stderr",
     "output_type": "stream",
     "text": [
      "Fold 2/5 Training:  10%|█         | 1/10 [02:10<19:38, 130.93s/it, Train Loss=0.5270, Val Loss=0.4679, Train F1=0.3541, Val F1=0.5039]"
     ]
    },
    {
     "name": "stdout",
     "output_type": "stream",
     "text": [
      "-------------------- Train --------------------\n",
      "Train Accuracy: 0.7557\n",
      "Train Precision: 0.5420\n",
      "Train Recall: 0.2630\n",
      "Train F1 Score: 0.3541\n",
      "Train Loss: 0.5270\n",
      "-------------------- Eval --------------------\n",
      "Eval Accuracy: 0.7623\n",
      "Eval Precision: 0.5079\n",
      "Eval Recall: 0.5000\n",
      "Eval F1 Score: 0.5039\n",
      "Eval Loss: 0.4679\n",
      "------------------------- Epoch 2/10 -------------------------\n"
     ]
    },
    {
     "name": "stderr",
     "output_type": "stream",
     "text": [
      "Fold 2/5 Training:  20%|██        | 2/10 [04:15<16:56, 127.03s/it, Train Loss=0.4098, Val Loss=0.4206, Train F1=0.5541, Val F1=0.5714]"
     ]
    },
    {
     "name": "stdout",
     "output_type": "stream",
     "text": [
      "-------------------- Train --------------------\n",
      "Train Accuracy: 0.8057\n",
      "Train Precision: 0.6667\n",
      "Train Recall: 0.4741\n",
      "Train F1 Score: 0.5541\n",
      "Train Loss: 0.4098\n",
      "-------------------- Eval --------------------\n",
      "Eval Accuracy: 0.8075\n",
      "Eval Precision: 0.6182\n",
      "Eval Recall: 0.5312\n",
      "Eval F1 Score: 0.5714\n",
      "Eval Loss: 0.4206\n",
      "------------------------- Epoch 3/10 -------------------------\n"
     ]
    },
    {
     "name": "stderr",
     "output_type": "stream",
     "text": [
      "Fold 2/5 Training:  30%|███       | 3/10 [06:29<15:13, 130.43s/it, Train Loss=0.3686, Val Loss=0.4039, Train F1=0.7008, Val F1=0.5664]"
     ]
    },
    {
     "name": "stdout",
     "output_type": "stream",
     "text": [
      "-------------------- Train --------------------\n",
      "Train Accuracy: 0.8623\n",
      "Train Precision: 0.7844\n",
      "Train Recall: 0.6333\n",
      "Train F1 Score: 0.7008\n",
      "Train Loss: 0.3686\n",
      "-------------------- Eval --------------------\n",
      "Eval Accuracy: 0.8151\n",
      "Eval Precision: 0.6531\n",
      "Eval Recall: 0.5000\n",
      "Eval F1 Score: 0.5664\n",
      "Eval Loss: 0.4039\n",
      "------------------------- Epoch 4/10 -------------------------\n"
     ]
    },
    {
     "name": "stderr",
     "output_type": "stream",
     "text": [
      "Fold 2/5 Training:  40%|████      | 4/10 [08:51<13:28, 134.80s/it, Train Loss=0.3628, Val Loss=0.5523, Train F1=0.6517, Val F1=0.3117]"
     ]
    },
    {
     "name": "stdout",
     "output_type": "stream",
     "text": [
      "-------------------- Train --------------------\n",
      "Train Accuracy: 0.8387\n",
      "Train Precision: 0.7240\n",
      "Train Recall: 0.5926\n",
      "Train F1 Score: 0.6517\n",
      "Train Loss: 0.3628\n",
      "-------------------- Eval --------------------\n",
      "Eval Accuracy: 0.8000\n",
      "Eval Precision: 0.9231\n",
      "Eval Recall: 0.1875\n",
      "Eval F1 Score: 0.3117\n",
      "Eval Loss: 0.5523\n",
      "------------------------- Epoch 5/10 -------------------------\n"
     ]
    },
    {
     "name": "stderr",
     "output_type": "stream",
     "text": [
      "Fold 2/5 Training:  50%|█████     | 5/10 [11:06<11:14, 134.97s/it, Train Loss=0.4007, Val Loss=0.4013, Train F1=0.6074, Val F1=0.6429]"
     ]
    },
    {
     "name": "stdout",
     "output_type": "stream",
     "text": [
      "-------------------- Train --------------------\n",
      "Train Accuracy: 0.8292\n",
      "Train Precision: 0.7330\n",
      "Train Recall: 0.5185\n",
      "Train F1 Score: 0.6074\n",
      "Train Loss: 0.4007\n",
      "-------------------- Eval --------------------\n",
      "Eval Accuracy: 0.8491\n",
      "Eval Precision: 0.7500\n",
      "Eval Recall: 0.5625\n",
      "Eval F1 Score: 0.6429\n",
      "Eval Loss: 0.4013\n",
      "------------------------- Epoch 6/10 -------------------------\n"
     ]
    },
    {
     "name": "stderr",
     "output_type": "stream",
     "text": [
      "Fold 2/5 Training:  60%|██████    | 6/10 [13:19<08:56, 134.15s/it, Train Loss=0.3116, Val Loss=0.4154, Train F1=0.7202, Val F1=0.5769]"
     ]
    },
    {
     "name": "stdout",
     "output_type": "stream",
     "text": [
      "-------------------- Train --------------------\n",
      "Train Accuracy: 0.8651\n",
      "Train Precision: 0.7635\n",
      "Train Recall: 0.6815\n",
      "Train F1 Score: 0.7202\n",
      "Train Loss: 0.3116\n",
      "-------------------- Eval --------------------\n",
      "Eval Accuracy: 0.8340\n",
      "Eval Precision: 0.7500\n",
      "Eval Recall: 0.4688\n",
      "Eval F1 Score: 0.5769\n",
      "Eval Loss: 0.4154\n",
      "------------------------- Epoch 7/10 -------------------------\n"
     ]
    },
    {
     "name": "stderr",
     "output_type": "stream",
     "text": [
      "Fold 2/5 Training:  70%|███████   | 7/10 [15:31<06:41, 133.75s/it, Train Loss=0.3113, Val Loss=0.3714, Train F1=0.7232, Val F1=0.5946]"
     ]
    },
    {
     "name": "stdout",
     "output_type": "stream",
     "text": [
      "-------------------- Train --------------------\n",
      "Train Accuracy: 0.8708\n",
      "Train Precision: 0.7956\n",
      "Train Recall: 0.6630\n",
      "Train F1 Score: 0.7232\n",
      "Train Loss: 0.3113\n",
      "-------------------- Eval --------------------\n",
      "Eval Accuracy: 0.8302\n",
      "Eval Precision: 0.7021\n",
      "Eval Recall: 0.5156\n",
      "Eval F1 Score: 0.5946\n",
      "Eval Loss: 0.3714\n",
      "------------------------- Epoch 8/10 -------------------------\n"
     ]
    },
    {
     "name": "stderr",
     "output_type": "stream",
     "text": [
      "Fold 2/5 Training:  80%|████████  | 8/10 [17:44<04:26, 133.39s/it, Train Loss=0.3138, Val Loss=0.4078, Train F1=0.6960, Val F1=0.6861]"
     ]
    },
    {
     "name": "stdout",
     "output_type": "stream",
     "text": [
      "-------------------- Train --------------------\n",
      "Train Accuracy: 0.8632\n",
      "Train Precision: 0.8019\n",
      "Train Recall: 0.6148\n",
      "Train F1 Score: 0.6960\n",
      "Train Loss: 0.3138\n",
      "-------------------- Eval --------------------\n",
      "Eval Accuracy: 0.8377\n",
      "Eval Precision: 0.6438\n",
      "Eval Recall: 0.7344\n",
      "Eval F1 Score: 0.6861\n",
      "Eval Loss: 0.4078\n",
      "------------------------- Epoch 9/10 -------------------------\n"
     ]
    },
    {
     "name": "stderr",
     "output_type": "stream",
     "text": [
      "Fold 2/5 Training:  90%|█████████ | 9/10 [19:57<02:13, 133.24s/it, Train Loss=0.3351, Val Loss=0.4025, Train F1=0.6758, Val F1=0.6667]"
     ]
    },
    {
     "name": "stdout",
     "output_type": "stream",
     "text": [
      "-------------------- Train --------------------\n",
      "Train Accuracy: 0.8443\n",
      "Train Precision: 0.7197\n",
      "Train Recall: 0.6370\n",
      "Train F1 Score: 0.6758\n",
      "Train Loss: 0.3351\n",
      "-------------------- Eval --------------------\n",
      "Eval Accuracy: 0.8377\n",
      "Eval Precision: 0.6615\n",
      "Eval Recall: 0.6719\n",
      "Eval F1 Score: 0.6667\n",
      "Eval Loss: 0.4025\n",
      "------------------------- Epoch 10/10 -------------------------\n"
     ]
    },
    {
     "name": "stderr",
     "output_type": "stream",
     "text": [
      "Fold 2/5 Training: 100%|██████████| 10/10 [22:12<00:00, 133.30s/it, Train Loss=0.2786, Val Loss=0.3682, Train F1=0.7570, Val F1=0.6552]"
     ]
    },
    {
     "name": "stdout",
     "output_type": "stream",
     "text": [
      "-------------------- Train --------------------\n",
      "Train Accuracy: 0.8849\n",
      "Train Precision: 0.8190\n",
      "Train Recall: 0.7037\n",
      "Train F1 Score: 0.7570\n",
      "Train Loss: 0.2786\n",
      "-------------------- Eval --------------------\n",
      "Eval Accuracy: 0.8491\n",
      "Eval Precision: 0.7308\n",
      "Eval Recall: 0.5938\n",
      "Eval F1 Score: 0.6552\n",
      "Eval Loss: 0.3682\n",
      "------------------------------------------------------------\n",
      "------------------------- Fold 3/5 -------------------------\n"
     ]
    },
    {
     "name": "stderr",
     "output_type": "stream",
     "text": [
      "\n",
      "Fold 3/5 Training:   0%|          | 0/10 [00:00<?, ?it/s]"
     ]
    },
    {
     "name": "stdout",
     "output_type": "stream",
     "text": [
      "------------------------- Epoch 1/10 -------------------------\n"
     ]
    },
    {
     "name": "stderr",
     "output_type": "stream",
     "text": [
      "Fold 3/5 Training:  10%|█         | 1/10 [02:43<24:32, 163.66s/it, Train Loss=0.5015, Val Loss=0.4770, Train F1=0.2992, Val F1=0.4167]"
     ]
    },
    {
     "name": "stdout",
     "output_type": "stream",
     "text": [
      "-------------------- Train --------------------\n",
      "Train Accuracy: 0.7613\n",
      "Train Precision: 0.5243\n",
      "Train Recall: 0.2093\n",
      "Train F1 Score: 0.2992\n",
      "Train Loss: 0.5015\n",
      "-------------------- Eval --------------------\n",
      "Eval Accuracy: 0.7887\n",
      "Eval Precision: 1.0000\n",
      "Eval Recall: 0.2632\n",
      "Eval F1 Score: 0.4167\n",
      "Eval Loss: 0.4770\n",
      "------------------------- Epoch 2/10 -------------------------\n"
     ]
    },
    {
     "name": "stderr",
     "output_type": "stream",
     "text": [
      "Fold 3/5 Training:  20%|██        | 2/10 [05:15<20:52, 156.58s/it, Train Loss=0.4299, Val Loss=0.4562, Train F1=0.5307, Val F1=0.4167]"
     ]
    },
    {
     "name": "stdout",
     "output_type": "stream",
     "text": [
      "-------------------- Train --------------------\n",
      "Train Accuracy: 0.8198\n",
      "Train Precision: 0.7248\n",
      "Train Recall: 0.4186\n",
      "Train F1 Score: 0.5307\n",
      "Train Loss: 0.4299\n",
      "-------------------- Eval --------------------\n",
      "Eval Accuracy: 0.7887\n",
      "Eval Precision: 1.0000\n",
      "Eval Recall: 0.2632\n",
      "Eval F1 Score: 0.4167\n",
      "Eval Loss: 0.4562\n",
      "------------------------- Epoch 3/10 -------------------------\n"
     ]
    },
    {
     "name": "stderr",
     "output_type": "stream",
     "text": [
      "Fold 3/5 Training:  30%|███       | 3/10 [07:48<18:06, 155.16s/it, Train Loss=0.3523, Val Loss=0.3860, Train F1=0.6175, Val F1=0.7114]"
     ]
    },
    {
     "name": "stdout",
     "output_type": "stream",
     "text": [
      "-------------------- Train --------------------\n",
      "Train Accuracy: 0.8434\n",
      "Train Precision: 0.7614\n",
      "Train Recall: 0.5194\n",
      "Train F1 Score: 0.6175\n",
      "Train Loss: 0.3523\n",
      "-------------------- Eval --------------------\n",
      "Eval Accuracy: 0.8377\n",
      "Eval Precision: 0.7260\n",
      "Eval Recall: 0.6974\n",
      "Eval F1 Score: 0.7114\n",
      "Eval Loss: 0.3860\n",
      "------------------------- Epoch 4/10 -------------------------\n"
     ]
    },
    {
     "name": "stderr",
     "output_type": "stream",
     "text": [
      "Fold 3/5 Training:  40%|████      | 4/10 [10:14<15:07, 151.26s/it, Train Loss=0.3581, Val Loss=0.3664, Train F1=0.6611, Val F1=0.7059]"
     ]
    },
    {
     "name": "stdout",
     "output_type": "stream",
     "text": [
      "-------------------- Train --------------------\n",
      "Train Accuracy: 0.8472\n",
      "Train Precision: 0.7182\n",
      "Train Recall: 0.6124\n",
      "Train F1 Score: 0.6611\n",
      "Train Loss: 0.3581\n",
      "-------------------- Eval --------------------\n",
      "Eval Accuracy: 0.8302\n",
      "Eval Precision: 0.7013\n",
      "Eval Recall: 0.7105\n",
      "Eval F1 Score: 0.7059\n",
      "Eval Loss: 0.3664\n",
      "------------------------- Epoch 5/10 -------------------------\n"
     ]
    },
    {
     "name": "stderr",
     "output_type": "stream",
     "text": [
      "Fold 3/5 Training:  50%|█████     | 5/10 [12:39<12:26, 149.29s/it, Train Loss=0.3520, Val Loss=0.3451, Train F1=0.6637, Val F1=0.7606]"
     ]
    },
    {
     "name": "stdout",
     "output_type": "stream",
     "text": [
      "-------------------- Train --------------------\n",
      "Train Accuracy: 0.8575\n",
      "Train Precision: 0.7801\n",
      "Train Recall: 0.5775\n",
      "Train F1 Score: 0.6637\n",
      "Train Loss: 0.3520\n",
      "-------------------- Eval --------------------\n",
      "Eval Accuracy: 0.8717\n",
      "Eval Precision: 0.8182\n",
      "Eval Recall: 0.7105\n",
      "Eval F1 Score: 0.7606\n",
      "Eval Loss: 0.3451\n",
      "------------------------- Epoch 6/10 -------------------------\n"
     ]
    },
    {
     "name": "stderr",
     "output_type": "stream",
     "text": [
      "Fold 3/5 Training:  60%|██████    | 6/10 [15:09<09:58, 149.54s/it, Train Loss=0.3398, Val Loss=0.3827, Train F1=0.6623, Val F1=0.7273]"
     ]
    },
    {
     "name": "stdout",
     "output_type": "stream",
     "text": [
      "-------------------- Train --------------------\n",
      "Train Accuracy: 0.8557\n",
      "Train Precision: 0.7692\n",
      "Train Recall: 0.5814\n",
      "Train F1 Score: 0.6623\n",
      "Train Loss: 0.3398\n",
      "-------------------- Eval --------------------\n",
      "Eval Accuracy: 0.8302\n",
      "Eval Precision: 0.6742\n",
      "Eval Recall: 0.7895\n",
      "Eval F1 Score: 0.7273\n",
      "Eval Loss: 0.3827\n",
      "------------------------- Epoch 7/10 -------------------------\n"
     ]
    },
    {
     "name": "stderr",
     "output_type": "stream",
     "text": [
      "Fold 3/5 Training:  70%|███████   | 7/10 [17:43<07:32, 150.73s/it, Train Loss=0.3309, Val Loss=0.3885, Train F1=0.6837, Val F1=0.7317]"
     ]
    },
    {
     "name": "stdout",
     "output_type": "stream",
     "text": [
      "-------------------- Train --------------------\n",
      "Train Accuracy: 0.8594\n",
      "Train Precision: 0.7559\n",
      "Train Recall: 0.6240\n",
      "Train F1 Score: 0.6837\n",
      "Train Loss: 0.3309\n",
      "-------------------- Eval --------------------\n",
      "Eval Accuracy: 0.8340\n",
      "Eval Precision: 0.6818\n",
      "Eval Recall: 0.7895\n",
      "Eval F1 Score: 0.7317\n",
      "Eval Loss: 0.3885\n",
      "------------------------- Epoch 8/10 -------------------------\n"
     ]
    },
    {
     "name": "stderr",
     "output_type": "stream",
     "text": [
      "Fold 3/5 Training:  80%|████████  | 8/10 [20:12<05:00, 150.47s/it, Train Loss=0.3083, Val Loss=0.3715, Train F1=0.7113, Val F1=0.6942]"
     ]
    },
    {
     "name": "stdout",
     "output_type": "stream",
     "text": [
      "-------------------- Train --------------------\n",
      "Train Accuracy: 0.8698\n",
      "Train Precision: 0.7727\n",
      "Train Recall: 0.6589\n",
      "Train F1 Score: 0.7113\n",
      "Train Loss: 0.3083\n",
      "-------------------- Eval --------------------\n",
      "Eval Accuracy: 0.8604\n",
      "Eval Precision: 0.9333\n",
      "Eval Recall: 0.5526\n",
      "Eval F1 Score: 0.6942\n",
      "Eval Loss: 0.3715\n",
      "------------------------- Epoch 9/10 -------------------------\n"
     ]
    },
    {
     "name": "stderr",
     "output_type": "stream",
     "text": [
      "Fold 3/5 Training:  90%|█████████ | 9/10 [22:38<02:29, 149.08s/it, Train Loss=0.2689, Val Loss=0.3694, Train F1=0.7401, Val F1=0.7132]"
     ]
    },
    {
     "name": "stdout",
     "output_type": "stream",
     "text": [
      "-------------------- Train --------------------\n",
      "Train Accuracy: 0.8821\n",
      "Train Precision: 0.7982\n",
      "Train Recall: 0.6899\n",
      "Train F1 Score: 0.7401\n",
      "Train Loss: 0.2689\n",
      "-------------------- Eval --------------------\n",
      "Eval Accuracy: 0.8604\n",
      "Eval Precision: 0.8679\n",
      "Eval Recall: 0.6053\n",
      "Eval F1 Score: 0.7132\n",
      "Eval Loss: 0.3694\n",
      "------------------------- Epoch 10/10 -------------------------\n"
     ]
    },
    {
     "name": "stderr",
     "output_type": "stream",
     "text": [
      "Fold 3/5 Training: 100%|██████████| 10/10 [25:06<00:00, 150.68s/it, Train Loss=0.2922, Val Loss=0.3429, Train F1=0.7104, Val F1=0.7660]"
     ]
    },
    {
     "name": "stdout",
     "output_type": "stream",
     "text": [
      "-------------------- Train --------------------\n",
      "Train Accuracy: 0.8708\n",
      "Train Precision: 0.7814\n",
      "Train Recall: 0.6512\n",
      "Train F1 Score: 0.7104\n",
      "Train Loss: 0.2922\n",
      "-------------------- Eval --------------------\n",
      "Eval Accuracy: 0.8755\n",
      "Eval Precision: 0.8308\n",
      "Eval Recall: 0.7105\n",
      "Eval F1 Score: 0.7660\n",
      "Eval Loss: 0.3429\n",
      "------------------------------------------------------------\n",
      "------------------------- Fold 4/5 -------------------------\n"
     ]
    },
    {
     "name": "stderr",
     "output_type": "stream",
     "text": [
      "\n",
      "Fold 4/5 Training:   0%|          | 0/10 [00:00<?, ?it/s]"
     ]
    },
    {
     "name": "stdout",
     "output_type": "stream",
     "text": [
      "------------------------- Epoch 1/10 -------------------------\n"
     ]
    },
    {
     "name": "stderr",
     "output_type": "stream",
     "text": [
      "Fold 4/5 Training:  10%|█         | 1/10 [01:58<17:43, 118.22s/it, Train Loss=0.5255, Val Loss=0.3974, Train F1=0.2507, Val F1=0.6606]"
     ]
    },
    {
     "name": "stdout",
     "output_type": "stream",
     "text": [
      "-------------------- Train --------------------\n",
      "Train Accuracy: 0.7462\n",
      "Train Precision: 0.5172\n",
      "Train Recall: 0.1654\n",
      "Train F1 Score: 0.2507\n",
      "Train Loss: 0.5255\n",
      "-------------------- Eval --------------------\n",
      "Eval Accuracy: 0.8604\n",
      "Eval Precision: 0.7660\n",
      "Eval Recall: 0.5806\n",
      "Eval F1 Score: 0.6606\n",
      "Eval Loss: 0.3974\n",
      "------------------------- Epoch 2/10 -------------------------\n"
     ]
    },
    {
     "name": "stderr",
     "output_type": "stream",
     "text": [
      "Fold 4/5 Training:  20%|██        | 2/10 [04:01<16:08, 121.03s/it, Train Loss=0.4097, Val Loss=0.3639, Train F1=0.5644, Val F1=0.6122]"
     ]
    },
    {
     "name": "stdout",
     "output_type": "stream",
     "text": [
      "-------------------- Train --------------------\n",
      "Train Accuracy: 0.8151\n",
      "Train Precision: 0.7135\n",
      "Train Recall: 0.4669\n",
      "Train F1 Score: 0.5644\n",
      "Train Loss: 0.4097\n",
      "-------------------- Eval --------------------\n",
      "Eval Accuracy: 0.8566\n",
      "Eval Precision: 0.8333\n",
      "Eval Recall: 0.4839\n",
      "Eval F1 Score: 0.6122\n",
      "Eval Loss: 0.3639\n",
      "------------------------- Epoch 3/10 -------------------------\n"
     ]
    },
    {
     "name": "stderr",
     "output_type": "stream",
     "text": [
      "Fold 4/5 Training:  30%|███       | 3/10 [05:55<13:45, 117.86s/it, Train Loss=0.3807, Val Loss=0.4317, Train F1=0.6039, Val F1=0.6944]"
     ]
    },
    {
     "name": "stdout",
     "output_type": "stream",
     "text": [
      "-------------------- Train --------------------\n",
      "Train Accuracy: 0.8292\n",
      "Train Precision: 0.7459\n",
      "Train Recall: 0.5074\n",
      "Train F1 Score: 0.6039\n",
      "Train Loss: 0.3807\n",
      "-------------------- Eval --------------------\n",
      "Eval Accuracy: 0.8340\n",
      "Eval Precision: 0.6098\n",
      "Eval Recall: 0.8065\n",
      "Eval F1 Score: 0.6944\n",
      "Eval Loss: 0.4317\n",
      "------------------------- Epoch 4/10 -------------------------\n"
     ]
    },
    {
     "name": "stderr",
     "output_type": "stream",
     "text": [
      "Fold 4/5 Training:  40%|████      | 4/10 [07:49<11:37, 116.27s/it, Train Loss=0.3724, Val Loss=0.3623, Train F1=0.6531, Val F1=0.5833]"
     ]
    },
    {
     "name": "stdout",
     "output_type": "stream",
     "text": [
      "-------------------- Train --------------------\n",
      "Train Accuracy: 0.8387\n",
      "Train Precision: 0.7285\n",
      "Train Recall: 0.5919\n",
      "Train F1 Score: 0.6531\n",
      "Train Loss: 0.3724\n",
      "-------------------- Eval --------------------\n",
      "Eval Accuracy: 0.8491\n",
      "Eval Precision: 0.8235\n",
      "Eval Recall: 0.4516\n",
      "Eval F1 Score: 0.5833\n",
      "Eval Loss: 0.3623\n",
      "------------------------- Epoch 5/10 -------------------------\n"
     ]
    },
    {
     "name": "stderr",
     "output_type": "stream",
     "text": [
      "Fold 4/5 Training:  50%|█████     | 5/10 [09:42<09:36, 115.35s/it, Train Loss=0.3483, Val Loss=0.4525, Train F1=0.6667, Val F1=0.6410]"
     ]
    },
    {
     "name": "stdout",
     "output_type": "stream",
     "text": [
      "-------------------- Train --------------------\n",
      "Train Accuracy: 0.8500\n",
      "Train Precision: 0.7756\n",
      "Train Recall: 0.5846\n",
      "Train F1 Score: 0.6667\n",
      "Train Loss: 0.3483\n",
      "-------------------- Eval --------------------\n",
      "Eval Accuracy: 0.7887\n",
      "Eval Precision: 0.5319\n",
      "Eval Recall: 0.8065\n",
      "Eval F1 Score: 0.6410\n",
      "Eval Loss: 0.4525\n",
      "------------------------- Epoch 6/10 -------------------------\n"
     ]
    },
    {
     "name": "stderr",
     "output_type": "stream",
     "text": [
      "Fold 4/5 Training:  60%|██████    | 6/10 [11:36<07:39, 114.91s/it, Train Loss=0.3341, Val Loss=0.3431, Train F1=0.6992, Val F1=0.6263]"
     ]
    },
    {
     "name": "stdout",
     "output_type": "stream",
     "text": [
      "-------------------- Train --------------------\n",
      "Train Accuracy: 0.8547\n",
      "Train Precision: 0.7458\n",
      "Train Recall: 0.6581\n",
      "Train F1 Score: 0.6992\n",
      "Train Loss: 0.3341\n",
      "-------------------- Eval --------------------\n",
      "Eval Accuracy: 0.8604\n",
      "Eval Precision: 0.8378\n",
      "Eval Recall: 0.5000\n",
      "Eval F1 Score: 0.6263\n",
      "Eval Loss: 0.3431\n",
      "------------------------- Epoch 7/10 -------------------------\n"
     ]
    },
    {
     "name": "stderr",
     "output_type": "stream",
     "text": [
      "Fold 4/5 Training:  70%|███████   | 7/10 [13:30<05:43, 114.53s/it, Train Loss=0.3234, Val Loss=0.3473, Train F1=0.7097, Val F1=0.7154]"
     ]
    },
    {
     "name": "stdout",
     "output_type": "stream",
     "text": [
      "-------------------- Train --------------------\n",
      "Train Accuracy: 0.8642\n",
      "Train Precision: 0.7857\n",
      "Train Recall: 0.6471\n",
      "Train F1 Score: 0.7097\n",
      "Train Loss: 0.3234\n",
      "-------------------- Eval --------------------\n",
      "Eval Accuracy: 0.8679\n",
      "Eval Precision: 0.7213\n",
      "Eval Recall: 0.7097\n",
      "Eval F1 Score: 0.7154\n",
      "Eval Loss: 0.3473\n",
      "------------------------- Epoch 8/10 -------------------------\n"
     ]
    },
    {
     "name": "stderr",
     "output_type": "stream",
     "text": [
      "Fold 4/5 Training:  80%|████████  | 8/10 [15:23<03:48, 114.13s/it, Train Loss=0.2952, Val Loss=0.3432, Train F1=0.7751, Val F1=0.7111]"
     ]
    },
    {
     "name": "stdout",
     "output_type": "stream",
     "text": [
      "-------------------- Train --------------------\n",
      "Train Accuracy: 0.8943\n",
      "Train Precision: 0.8540\n",
      "Train Recall: 0.7096\n",
      "Train F1 Score: 0.7751\n",
      "Train Loss: 0.2952\n",
      "-------------------- Eval --------------------\n",
      "Eval Accuracy: 0.8528\n",
      "Eval Precision: 0.6575\n",
      "Eval Recall: 0.7742\n",
      "Eval F1 Score: 0.7111\n",
      "Eval Loss: 0.3432\n",
      "------------------------- Epoch 9/10 -------------------------\n"
     ]
    },
    {
     "name": "stderr",
     "output_type": "stream",
     "text": [
      "Fold 4/5 Training:  90%|█████████ | 9/10 [17:17<01:53, 113.99s/it, Train Loss=0.3024, Val Loss=0.3346, Train F1=0.7413, Val F1=0.6471]"
     ]
    },
    {
     "name": "stdout",
     "output_type": "stream",
     "text": [
      "-------------------- Train --------------------\n",
      "Train Accuracy: 0.8736\n",
      "Train Precision: 0.7805\n",
      "Train Recall: 0.7059\n",
      "Train F1 Score: 0.7413\n",
      "Train Loss: 0.3024\n",
      "-------------------- Eval --------------------\n",
      "Eval Accuracy: 0.8642\n",
      "Eval Precision: 0.8250\n",
      "Eval Recall: 0.5323\n",
      "Eval F1 Score: 0.6471\n",
      "Eval Loss: 0.3346\n",
      "------------------------- Epoch 10/10 -------------------------\n"
     ]
    },
    {
     "name": "stderr",
     "output_type": "stream",
     "text": [
      "Fold 4/5 Training: 100%|██████████| 10/10 [19:10<00:00, 115.09s/it, Train Loss=0.3144, Val Loss=0.3625, Train F1=0.7349, Val F1=0.7000]"
     ]
    },
    {
     "name": "stdout",
     "output_type": "stream",
     "text": [
      "-------------------- Train --------------------\n",
      "Train Accuracy: 0.8755\n",
      "Train Precision: 0.8097\n",
      "Train Recall: 0.6728\n",
      "Train F1 Score: 0.7349\n",
      "Train Loss: 0.3144\n",
      "-------------------- Eval --------------------\n",
      "Eval Accuracy: 0.8642\n",
      "Eval Precision: 0.7241\n",
      "Eval Recall: 0.6774\n",
      "Eval F1 Score: 0.7000\n",
      "Eval Loss: 0.3625\n",
      "------------------------------------------------------------\n",
      "------------------------- Fold 5/5 -------------------------\n"
     ]
    },
    {
     "name": "stderr",
     "output_type": "stream",
     "text": [
      "\n",
      "Fold 5/5 Training:   0%|          | 0/10 [00:00<?, ?it/s]"
     ]
    },
    {
     "name": "stdout",
     "output_type": "stream",
     "text": [
      "------------------------- Epoch 1/10 -------------------------\n"
     ]
    },
    {
     "name": "stderr",
     "output_type": "stream",
     "text": [
      "Fold 5/5 Training:  10%|█         | 1/10 [02:27<22:11, 147.99s/it, Train Loss=0.4904, Val Loss=0.3775, Train F1=0.3931, Val F1=0.5161]"
     ]
    },
    {
     "name": "stdout",
     "output_type": "stream",
     "text": [
      "-------------------- Train --------------------\n",
      "Train Accuracy: 0.7670\n",
      "Train Precision: 0.5882\n",
      "Train Recall: 0.2952\n",
      "Train F1 Score: 0.3931\n",
      "Train Loss: 0.4904\n",
      "-------------------- Eval --------------------\n",
      "Eval Accuracy: 0.8302\n",
      "Eval Precision: 0.8000\n",
      "Eval Recall: 0.3810\n",
      "Eval F1 Score: 0.5161\n",
      "Eval Loss: 0.3775\n",
      "------------------------- Epoch 2/10 -------------------------\n"
     ]
    },
    {
     "name": "stderr",
     "output_type": "stream",
     "text": [
      "Fold 5/5 Training:  20%|██        | 2/10 [05:09<20:49, 156.16s/it, Train Loss=0.4450, Val Loss=0.3709, Train F1=0.5746, Val F1=0.5918]"
     ]
    },
    {
     "name": "stdout",
     "output_type": "stream",
     "text": [
      "-------------------- Train --------------------\n",
      "Train Accuracy: 0.8170\n",
      "Train Precision: 0.7081\n",
      "Train Recall: 0.4834\n",
      "Train F1 Score: 0.5746\n",
      "Train Loss: 0.4450\n",
      "-------------------- Eval --------------------\n",
      "Eval Accuracy: 0.8491\n",
      "Eval Precision: 0.8286\n",
      "Eval Recall: 0.4603\n",
      "Eval F1 Score: 0.5918\n",
      "Eval Loss: 0.3709\n",
      "------------------------- Epoch 3/10 -------------------------\n"
     ]
    },
    {
     "name": "stderr",
     "output_type": "stream",
     "text": [
      "Fold 5/5 Training:  30%|███       | 3/10 [07:44<18:07, 155.34s/it, Train Loss=0.4024, Val Loss=0.3240, Train F1=0.6173, Val F1=0.6186]"
     ]
    },
    {
     "name": "stdout",
     "output_type": "stream",
     "text": [
      "-------------------- Train --------------------\n",
      "Train Accuracy: 0.8245\n",
      "Train Precision: 0.6977\n",
      "Train Recall: 0.5535\n",
      "Train F1 Score: 0.6173\n",
      "Train Loss: 0.4024\n",
      "-------------------- Eval --------------------\n",
      "Eval Accuracy: 0.8604\n",
      "Eval Precision: 0.8824\n",
      "Eval Recall: 0.4762\n",
      "Eval F1 Score: 0.6186\n",
      "Eval Loss: 0.3240\n",
      "------------------------- Epoch 4/10 -------------------------\n"
     ]
    },
    {
     "name": "stderr",
     "output_type": "stream",
     "text": [
      "Fold 5/5 Training:  40%|████      | 4/10 [10:09<15:08, 151.46s/it, Train Loss=0.4040, Val Loss=0.3561, Train F1=0.6481, Val F1=0.4889]"
     ]
    },
    {
     "name": "stdout",
     "output_type": "stream",
     "text": [
      "-------------------- Train --------------------\n",
      "Train Accuracy: 0.8330\n",
      "Train Precision: 0.7026\n",
      "Train Recall: 0.6015\n",
      "Train F1 Score: 0.6481\n",
      "Train Loss: 0.4040\n",
      "-------------------- Eval --------------------\n",
      "Eval Accuracy: 0.8264\n",
      "Eval Precision: 0.8148\n",
      "Eval Recall: 0.3492\n",
      "Eval F1 Score: 0.4889\n",
      "Eval Loss: 0.3561\n",
      "------------------------- Epoch 5/10 -------------------------\n"
     ]
    },
    {
     "name": "stderr",
     "output_type": "stream",
     "text": [
      "Fold 5/5 Training:  50%|█████     | 5/10 [12:37<12:30, 150.02s/it, Train Loss=0.3815, Val Loss=0.3837, Train F1=0.6356, Val F1=0.6370]"
     ]
    },
    {
     "name": "stdout",
     "output_type": "stream",
     "text": [
      "-------------------- Train --------------------\n",
      "Train Accuracy: 0.8302\n",
      "Train Precision: 0.7040\n",
      "Train Recall: 0.5793\n",
      "Train F1 Score: 0.6356\n",
      "Train Loss: 0.3815\n",
      "-------------------- Eval --------------------\n",
      "Eval Accuracy: 0.8151\n",
      "Eval Precision: 0.5972\n",
      "Eval Recall: 0.6825\n",
      "Eval F1 Score: 0.6370\n",
      "Eval Loss: 0.3837\n",
      "------------------------- Epoch 6/10 -------------------------\n"
     ]
    },
    {
     "name": "stderr",
     "output_type": "stream",
     "text": [
      "Fold 5/5 Training:  60%|██████    | 6/10 [15:02<09:54, 148.56s/it, Train Loss=0.3494, Val Loss=0.3417, Train F1=0.6625, Val F1=0.7119]"
     ]
    },
    {
     "name": "stdout",
     "output_type": "stream",
     "text": [
      "-------------------- Train --------------------\n",
      "Train Accuracy: 0.8472\n",
      "Train Precision: 0.7608\n",
      "Train Recall: 0.5867\n",
      "Train F1 Score: 0.6625\n",
      "Train Loss: 0.3494\n",
      "-------------------- Eval --------------------\n",
      "Eval Accuracy: 0.8717\n",
      "Eval Precision: 0.7636\n",
      "Eval Recall: 0.6667\n",
      "Eval F1 Score: 0.7119\n",
      "Eval Loss: 0.3417\n",
      "------------------------- Epoch 7/10 -------------------------\n"
     ]
    },
    {
     "name": "stderr",
     "output_type": "stream",
     "text": [
      "Fold 5/5 Training:  70%|███████   | 7/10 [17:30<07:24, 148.17s/it, Train Loss=0.3220, Val Loss=0.3554, Train F1=0.7080, Val F1=0.6917]"
     ]
    },
    {
     "name": "stdout",
     "output_type": "stream",
     "text": [
      "-------------------- Train --------------------\n",
      "Train Accuracy: 0.8623\n",
      "Train Precision: 0.7729\n",
      "Train Recall: 0.6531\n",
      "Train F1 Score: 0.7080\n",
      "Train Loss: 0.3220\n",
      "-------------------- Eval --------------------\n",
      "Eval Accuracy: 0.8453\n",
      "Eval Precision: 0.6571\n",
      "Eval Recall: 0.7302\n",
      "Eval F1 Score: 0.6917\n",
      "Eval Loss: 0.3554\n",
      "------------------------- Epoch 8/10 -------------------------\n"
     ]
    },
    {
     "name": "stderr",
     "output_type": "stream",
     "text": [
      "Fold 5/5 Training:  80%|████████  | 8/10 [19:56<04:54, 147.41s/it, Train Loss=0.3275, Val Loss=0.3219, Train F1=0.6894, Val F1=0.6667]"
     ]
    },
    {
     "name": "stdout",
     "output_type": "stream",
     "text": [
      "-------------------- Train --------------------\n",
      "Train Accuracy: 0.8538\n",
      "Train Precision: 0.7544\n",
      "Train Recall: 0.6347\n",
      "Train F1 Score: 0.6894\n",
      "Train Loss: 0.3275\n",
      "-------------------- Eval --------------------\n",
      "Eval Accuracy: 0.8528\n",
      "Eval Precision: 0.7222\n",
      "Eval Recall: 0.6190\n",
      "Eval F1 Score: 0.6667\n",
      "Eval Loss: 0.3219\n",
      "------------------------- Epoch 9/10 -------------------------\n"
     ]
    },
    {
     "name": "stderr",
     "output_type": "stream",
     "text": [
      "Fold 5/5 Training:  90%|█████████ | 9/10 [22:24<02:27, 147.61s/it, Train Loss=0.3148, Val Loss=0.3714, Train F1=0.7265, Val F1=0.6519]"
     ]
    },
    {
     "name": "stdout",
     "output_type": "stream",
     "text": [
      "-------------------- Train --------------------\n",
      "Train Accuracy: 0.8708\n",
      "Train Precision: 0.7913\n",
      "Train Recall: 0.6716\n",
      "Train F1 Score: 0.7265\n",
      "Train Loss: 0.3148\n",
      "-------------------- Eval --------------------\n",
      "Eval Accuracy: 0.8226\n",
      "Eval Precision: 0.6111\n",
      "Eval Recall: 0.6984\n",
      "Eval F1 Score: 0.6519\n",
      "Eval Loss: 0.3714\n",
      "------------------------- Epoch 10/10 -------------------------\n"
     ]
    },
    {
     "name": "stderr",
     "output_type": "stream",
     "text": [
      "Fold 5/5 Training: 100%|██████████| 10/10 [24:50<00:00, 149.08s/it, Train Loss=0.2903, Val Loss=0.3163, Train F1=0.7381, Val F1=0.6949]"
     ]
    },
    {
     "name": "stdout",
     "output_type": "stream",
     "text": [
      "-------------------- Train --------------------\n",
      "Train Accuracy: 0.8755\n",
      "Train Precision: 0.7983\n",
      "Train Recall: 0.6863\n",
      "Train F1 Score: 0.7381\n",
      "Train Loss: 0.2903\n",
      "-------------------- Eval --------------------\n",
      "Eval Accuracy: 0.8642\n",
      "Eval Precision: 0.7455\n",
      "Eval Recall: 0.6508\n",
      "Eval F1 Score: 0.6949\n",
      "Eval Loss: 0.3163\n",
      "--------------------------------------------------\n",
      "\n",
      "K-Fold Cross-Validation Results:\n",
      "Average Loss: 0.3615\n",
      "Average Accuracy: 0.8543\n",
      "Average Precision: 0.7444\n",
      "Average Recall: 0.6366\n",
      "Average F1 Score: 0.6858\n"
     ]
    },
    {
     "name": "stderr",
     "output_type": "stream",
     "text": [
      "\n"
     ]
    },
    {
     "data": {
      "image/png": "[encoded data removed]",
      "text/plain": [
       "<Figure size 1000x600 with 1 Axes>"
      ]
     },
     "metadata": {},
     "output_type": "display_data"
    }
   ],
   "source": [
    "# DenseLayer or FinalClassifier\n",
    "if isFinalClassifier:\n",
    "    dense_layer_class = FinalClassifier\n",
    "else:\n",
    "    dense_layer_class = DenseLayer\n",
    "    \n",
    "output_dim = 768\n",
    "\n",
    "# Run k-fold cross-validation   \n",
    "results_df = cross_validate_model(\n",
    "    dataset=full_dataset,\n",
    "    model_class=SMCAModel,\n",
    "    dense_layer_class=dense_layer_class,\n",
    "    criterion=criterion,\n",
    "    output_dim=output_dim,\n",
    "    num_epochs=num_epochs_cv,    \n",
    "    num_folds=num_folds,\n",
    "    train_batch_size=train_batch_size,\n",
    "    val_batch_size=val_batch_size,\n",
    "    learning_rate=learning_rate,\n",
    "    output_file=\"results/SMCA-F1_scores.csv\"\n",
    ")"
   ]
  },
  {
   "cell_type": "code",
   "execution_count": 33,
   "metadata": {},
   "outputs": [
    {
     "data": {
      "text/html": [
       "<div>\n",
       "<style scoped>\n",
       "    .dataframe tbody tr th:only-of-type {\n",
       "        vertical-align: middle;\n",
       "    }\n",
       "\n",
       "    .dataframe tbody tr th {\n",
       "        vertical-align: top;\n",
       "    }\n",
       "\n",
       "    .dataframe thead th {\n",
       "        text-align: right;\n",
       "    }\n",
       "</style>\n",
       "<table border=\"1\" class=\"dataframe\">\n",
       "  <thead>\n",
       "    <tr style=\"text-align: right;\">\n",
       "      <th></th>\n",
       "      <th>Metrics</th>\n",
       "      <th>Fold 1</th>\n",
       "      <th>Fold 2</th>\n",
       "      <th>Fold 3</th>\n",
       "      <th>Fold 4</th>\n",
       "      <th>Fold 5</th>\n",
       "      <th>Average</th>\n",
       "    </tr>\n",
       "  </thead>\n",
       "  <tbody>\n",
       "    <tr>\n",
       "      <th>0</th>\n",
       "      <td>Loss</td>\n",
       "      <td>0.417407</td>\n",
       "      <td>0.368194</td>\n",
       "      <td>0.342923</td>\n",
       "      <td>0.362495</td>\n",
       "      <td>0.316262</td>\n",
       "      <td>0.361456</td>\n",
       "    </tr>\n",
       "    <tr>\n",
       "      <th>1</th>\n",
       "      <td>Accuracy</td>\n",
       "      <td>0.818868</td>\n",
       "      <td>0.849057</td>\n",
       "      <td>0.875472</td>\n",
       "      <td>0.864151</td>\n",
       "      <td>0.864151</td>\n",
       "      <td>0.854340</td>\n",
       "    </tr>\n",
       "    <tr>\n",
       "      <th>2</th>\n",
       "      <td>Precision</td>\n",
       "      <td>0.690909</td>\n",
       "      <td>0.730769</td>\n",
       "      <td>0.830769</td>\n",
       "      <td>0.724138</td>\n",
       "      <td>0.745455</td>\n",
       "      <td>0.744408</td>\n",
       "    </tr>\n",
       "    <tr>\n",
       "      <th>3</th>\n",
       "      <td>Recall</td>\n",
       "      <td>0.550725</td>\n",
       "      <td>0.593750</td>\n",
       "      <td>0.710526</td>\n",
       "      <td>0.677419</td>\n",
       "      <td>0.650794</td>\n",
       "      <td>0.636643</td>\n",
       "    </tr>\n",
       "    <tr>\n",
       "      <th>4</th>\n",
       "      <td>F1 Score</td>\n",
       "      <td>0.612903</td>\n",
       "      <td>0.655172</td>\n",
       "      <td>0.765957</td>\n",
       "      <td>0.700000</td>\n",
       "      <td>0.694915</td>\n",
       "      <td>0.685790</td>\n",
       "    </tr>\n",
       "  </tbody>\n",
       "</table>\n",
       "</div>"
      ],
      "text/plain": [
       "     Metrics    Fold 1    Fold 2    Fold 3    Fold 4    Fold 5   Average\n",
       "0       Loss  0.417407  0.368194  0.342923  0.362495  0.316262  0.361456\n",
       "1   Accuracy  0.818868  0.849057  0.875472  0.864151  0.864151  0.854340\n",
       "2  Precision  0.690909  0.730769  0.830769  0.724138  0.745455  0.744408\n",
       "3     Recall  0.550725  0.593750  0.710526  0.677419  0.650794  0.636643\n",
       "4   F1 Score  0.612903  0.655172  0.765957  0.700000  0.694915  0.685790"
      ]
     },
     "execution_count": 33,
     "metadata": {},
     "output_type": "execute_result"
    }
   ],
   "source": [
    "results_df"
   ]
  }
 ],
 "metadata": {
  "kernelspec": {
   "display_name": "Python 3",
   "language": "python",
   "name": "python3"
  },
  "language_info": {
   "codemirror_mode": {
    "name": "ipython",
    "version": 3
   },
   "file_extension": ".py",
   "mimetype": "text/x-python",
   "name": "python",
   "nbconvert_exporter": "python",
   "pygments_lexer": "ipython3",
   "version": "3.12.3"
  }
 },
 "nbformat": 4,
 "nbformat_minor": 2
}
