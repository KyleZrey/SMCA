{
 "cells": [
  {
   "cell_type": "markdown",
   "metadata": {},
   "source": [
    "### Prerequisite Packages"
   ]
  },
  {
   "cell_type": "code",
   "execution_count": 1,
   "metadata": {},
   "outputs": [],
   "source": [
    "import os\n",
    "import sys\n",
    "import numpy as np\n",
    "import pandas as pd\n",
    "\n",
    "import torch\n",
    "import torch.nn as nn\n",
    "import torch.nn.functional as F\n",
    "import torch.nn.init as init\n",
    "import torch.optim as optim\n",
    "import matplotlib.pyplot as plt\n",
    "import seaborn as sns\n",
    "from torch.utils.data import DataLoader, Dataset, WeightedRandomSampler\n",
    "from torcheval.metrics import BinaryAccuracy, BinaryPrecision, BinaryRecall, BinaryF1Score\n",
    "from sklearn.model_selection import train_test_split, KFold\n",
    "from sklearn.metrics import confusion_matrix\n",
    "from tqdm import tqdm\n",
    "\n",
    "sys.path.append('../')\n",
    "\n",
    "from modules.classifier import DenseLayer, BCELoss, CustomLoss, BCEWithLogits, FocalLoss\n",
    "from modules.dataloader import load_npy_files\n",
    "from modules.linear_transformation import LinearTransformations"
   ]
  },
  {
   "cell_type": "markdown",
   "metadata": {},
   "source": [
    "### Model and Hyperparameter Configurations"
   ]
  },
  {
   "cell_type": "code",
   "execution_count": 2,
   "metadata": {},
   "outputs": [],
   "source": [
    "# Ensure reproducibility\n",
    "def set_seed(seed=42):\n",
    "    np.random.seed(seed)\n",
    "    torch.manual_seed(seed)\n",
    "    if torch.cuda.is_available():\n",
    "        torch.cuda.manual_seed(seed)\n",
    "        torch.cuda.manual_seed_all(seed)\n",
    "    torch.backends.cudnn.deterministic = True\n",
    "    torch.backends.cudnn.benchmark = False"
   ]
  },
  {
   "cell_type": "code",
   "execution_count": 3,
   "metadata": {},
   "outputs": [],
   "source": [
    "# Define possible configurations for audio feature directories\n",
    "audio_feature_paths = {\n",
    "    'logmel': '../misc/audio_features/logmel',\n",
    "    'mfcc': '../misc/audio_features/mfcc'\n",
    "}\n",
    "\n",
    "# Function to get the audio feature path based on the selected configuration\n",
    "def get_audio_feature_path(config_name):\n",
    "    if config_name in audio_feature_paths:\n",
    "        return audio_feature_paths[config_name]\n",
    "    else:\n",
    "        raise ValueError(f\"Configuration '{config_name}' not found. Available options: logmel, mfcc.\")\n"
   ]
  },
  {
   "cell_type": "code",
   "execution_count": 4,
   "metadata": {},
   "outputs": [
    {
     "name": "stdout",
     "output_type": "stream",
     "text": [
      "Device: cuda\n"
     ]
    }
   ],
   "source": [
    "### Device configuration\n",
    "device = torch.device(\"cuda\" if torch.cuda.is_available() else \"cpu\")\n",
    "print(f\"Device: {device}\")\n",
    "\n",
    "set_seed(42)  # Set global seed at the start\n",
    "\n",
    "### Audio Feature selection: 'logmel' or 'mfcc'\n",
    "selected_audio_feature = 'logmel'\n",
    "audio_features_dir = get_audio_feature_path(selected_audio_feature)\n",
    "\n",
    "#### Data Configuration: 8 16 32 64 128\n",
    "train_batch_size = 32   # Set the batch size for training data\n",
    "val_batch_size = 16     # Set the batch size for validation data\n",
    "test_batch_size= 16     # Set the batch size for testing data\n",
    "\n",
    "### Filter outliers in video features\n",
    "lower_bound=35\n",
    "upper_bound=197\n",
    "\n",
    "### Hyperparameters\n",
    "threshold = 0.5              # for predictions\n",
    "learning_rate = 1e-4       # For optimizer\n",
    "num_epochs = 10              # for model training\n",
    "cl_dropout_rate = 0.4        # for FinalClassifier\n",
    "\n",
    "### Classifier Configuration\n",
    "isBCELoss = True                          # !!! SET ACCORDINGLY !!!\n",
    "criterion = BCELoss()\n",
    "# criterion = BCEWithLogits().to(device)\n",
    "# criterion = CustomLoss(pos_weight=2.94)\n",
    "# criterion = FocalLoss(alpha=0.25, gamma=2, pos_weight=0.34)\n",
    "\n",
    "# !!! Choose Classifier !!! False = Dense Layer, True = Final Classifier\n",
    "isFinalClassifier = True\n",
    "\n",
    "# Define the dimensions for GMU\n",
    "text_dim = 1024 \n",
    "audio_dim = 768 \n",
    "video_dim = 768  \n",
    "output_dim = 768 \n",
    "\n",
    "## For cross validation\n",
    "num_folds = 5          # Set the number of folds for cross-validation\n",
    "num_epochs_cv = 10     # Set the number of epochs for cross-validation\n"
   ]
  },
  {
   "cell_type": "markdown",
   "metadata": {},
   "source": [
    "### Dataset Class"
   ]
  },
  {
   "cell_type": "code",
   "execution_count": 5,
   "metadata": {},
   "outputs": [],
   "source": [
    "class MultimodalDataset(Dataset):\n",
    "    def __init__(self, id_label_df, text_features, audio_features, video_features):\n",
    "        self.id_label_df = id_label_df\n",
    "        \n",
    "        # Convert feature lists to dictionaries for fast lookup\n",
    "        self.text_features = {os.path.basename(file).split('.')[0]: tensor for file, tensor in text_features}\n",
    "        self.audio_features = {os.path.basename(file).split('_')[1].split('.')[0]: tensor for file, tensor in audio_features}\n",
    "        self.video_features = {os.path.basename(file).split('_')[0]: tensor for file, tensor in video_features}\n",
    "        \n",
    "        # List to store missing files\n",
    "        self.missing_files = []\n",
    "        \n",
    "        # Filter out entries with missing files\n",
    "        self.valid_files = self._filter_valid_files()\n",
    "\n",
    "    def _filter_valid_files(self):\n",
    "        valid_indices = []\n",
    "        missing_files = []\n",
    "\n",
    "        for idx in range(len(self.id_label_df)):\n",
    "            imdbid = self.id_label_df.iloc[idx]['IMDBid']\n",
    "\n",
    "            # Check if the IMDBid exists in each modality's features\n",
    "            if imdbid in self.text_features and imdbid in self.audio_features and imdbid in self.video_features:\n",
    "                valid_indices.append(idx)\n",
    "            else:\n",
    "                missing_files.append({'IMDBid': imdbid})\n",
    "\n",
    "        # Filter id_label_df to only include valid rows\n",
    "        self.id_label_df = self.id_label_df.iloc[valid_indices].reset_index(drop=True)\n",
    "        self.missing_files = missing_files\n",
    "        \n",
    "        # Update valid_indices to reflect the new indices after resetting\n",
    "        valid_indices = list(range(len(self.id_label_df)))\n",
    "\n",
    "        # Return valid indices\n",
    "        return valid_indices\n",
    "\n",
    "    def __len__(self):\n",
    "        return len(self.valid_files)\n",
    "\n",
    "    def __getitem__(self, idx):\n",
    "        # Get the original index from the filtered valid files\n",
    "        original_idx = self.valid_files[idx]\n",
    "        imdbid = self.id_label_df.iloc[original_idx]['IMDBid']\n",
    "        label = self.id_label_df.iloc[original_idx]['Label']\n",
    "        \n",
    "        # Retrieve data from the loaded features\n",
    "        text_data = self.text_features.get(imdbid, torch.zeros((1024,)))\n",
    "        audio_data = self.audio_features.get(imdbid, torch.zeros((1, 197, 768)))\n",
    "        video_data = self.video_features.get(imdbid, torch.zeros((95, 768)))\n",
    "        \n",
    "        # Define label mapping and ensure binary values\n",
    "        label_map = {'red': 1.0, 'green': 0.0}\n",
    "        \n",
    "        try:\n",
    "            label_data = torch.tensor([label_map[label]], dtype=torch.float32)\n",
    "        except KeyError as e:\n",
    "            print(f\"Error: Label '{e}' not found in label_map.\")\n",
    "            raise\n",
    "\n",
    "        return imdbid, text_data, audio_data, video_data, label_data\n"
   ]
  },
  {
   "cell_type": "code",
   "execution_count": 6,
   "metadata": {},
   "outputs": [],
   "source": [
    "def collate_fn(batch):\n",
    "    # Unpack batch elements\n",
    "    imdbids, text_data, audio_data, video_data, label_data = zip(*batch)\n",
    "\n",
    "    # Convert lists to tensors\n",
    "    text_data = torch.stack(text_data)\n",
    "    audio_data = torch.stack(audio_data)\n",
    "\n",
    "    # Padding for video data\n",
    "    # Determine maximum length of video sequences in the batch\n",
    "    video_lengths = [v.size(0) for v in video_data]\n",
    "    max_length = max(video_lengths)\n",
    "\n",
    "    # Pad video sequences to the maximum length\n",
    "    video_data_padded = torch.stack([\n",
    "        F.pad(v, (0, 0, 0, max_length - v.size(0)), \"constant\", 0)\n",
    "        for v in video_data\n",
    "    ])\n",
    "\n",
    "    # Convert labels to tensor and ensure the shape [batch_size, 1]\n",
    "    label_data = torch.stack(label_data)  # Convert list of tensors to a single tensor\n",
    "\n",
    "    return imdbids, text_data, audio_data, video_data_padded, label_data\n"
   ]
  },
  {
   "cell_type": "code",
   "execution_count": 7,
   "metadata": {},
   "outputs": [],
   "source": [
    "def filter_video_features(video_features, lower_bound=lower_bound, upper_bound=upper_bound):\n",
    "    # Assuming video_features is a list of tuples where the second element is the numpy array\n",
    "    filtered_video_features = [v for v in video_features if lower_bound <= v[1].shape[0] <= upper_bound]\n",
    "    return filtered_video_features\n"
   ]
  },
  {
   "cell_type": "markdown",
   "metadata": {},
   "source": [
    "### Data Loading"
   ]
  },
  {
   "cell_type": "code",
   "execution_count": 8,
   "metadata": {},
   "outputs": [
    {
     "name": "stdout",
     "output_type": "stream",
     "text": [
      "Number of text feature vectors loaded: 1353\n",
      "Number of audio feature vectors loaded: 1353\n",
      "Number of video feature vectors loaded: 1325\n",
      "train_df shape: (927, 2)\n",
      "val_df shape: (199, 2)\n",
      "test_df shape: (199, 2)\n",
      "Train label distribution: Label\n",
      "green    693\n",
      "red      234\n",
      "Name: count, dtype: int64\n",
      "Validation label distribution: Label\n",
      "green    149\n",
      "red       50\n",
      "Name: count, dtype: int64\n",
      "Test label distribution: Label\n",
      "green    149\n",
      "red       50\n",
      "Name: count, dtype: int64\n",
      "----------------------------------------\n",
      "Train DataLoader: Total Samples = 927, Number of Batches = 29\n",
      "Validation DataLoader: Total Samples = 199, Number of Batches = 13\n",
      "Test DataLoader: Total Samples = 199, Number of Batches = 13\n"
     ]
    }
   ],
   "source": [
    "# Load the labels DataFrame\n",
    "id_label_df = pd.read_excel('../misc/MM-Trailer_dataset.xlsx')\n",
    "\n",
    "# Define the directories\n",
    "text_features_dir = '../misc/text_features'\n",
    "audio_features_dir = audio_features_dir\n",
    "video_features_dir = '../misc/video_features'\n",
    "\n",
    "# Load the feature vectors from each directory\n",
    "text_features = load_npy_files(text_features_dir)\n",
    "audio_features = load_npy_files(audio_features_dir)\n",
    "video_features = load_npy_files(video_features_dir)\n",
    "\n",
    "video_features = filter_video_features(video_features)\n",
    "\n",
    "print(f\"Number of text feature vectors loaded: {len(text_features)}\")\n",
    "print(f\"Number of audio feature vectors loaded: {len(audio_features)}\")\n",
    "print(f\"Number of video feature vectors loaded: {len(video_features)}\")\n",
    "\n",
    "# Drop unnecessary columns\n",
    "id_label_df = id_label_df.drop(columns=['Movie Title', 'URL'])\n",
    "\n",
    "full_dataset = MultimodalDataset(id_label_df, text_features, audio_features, video_features)\n",
    "\n",
    "# perform train-test split on the filtered DataFrame\n",
    "train_df, val_test_df = train_test_split(\n",
    "    full_dataset.id_label_df, test_size=0.3, random_state=42, stratify=full_dataset.id_label_df['Label'])\n",
    "\n",
    "# Further splitting remaining set into validation and test sets\n",
    "val_df, test_df = train_test_split(\n",
    "    val_test_df, test_size=0.5, random_state=42, stratify=val_test_df['Label'])\n",
    "\n",
    "print(\"train_df shape:\", train_df.shape)\n",
    "print(\"val_df shape:\", val_df.shape)\n",
    "print(\"test_df shape:\", test_df.shape)\n",
    "\n",
    "print(\"Train label distribution:\", train_df['Label'].value_counts())\n",
    "print(\"Validation label distribution:\", val_df['Label'].value_counts())\n",
    "print(\"Test label distribution:\", test_df['Label'].value_counts())\n",
    "\n",
    "print(\"-\" * 40)\n",
    "\n",
    "# create datasets based on these splits\n",
    "train_dataset = MultimodalDataset(train_df, text_features, audio_features, video_features)\n",
    "val_dataset = MultimodalDataset(val_df, text_features, audio_features, video_features)\n",
    "test_dataset = MultimodalDataset(test_df, text_features, audio_features, video_features)\n",
    "\n",
    "# Create DataLoaders\n",
    "train_dataloader = DataLoader(train_dataset, batch_size=train_batch_size, shuffle=True, num_workers=0, collate_fn=collate_fn, generator=torch.Generator().manual_seed(42))\n",
    "val_dataloader = DataLoader(val_dataset, batch_size=val_batch_size, shuffle=True, num_workers=0, collate_fn=collate_fn, generator=torch.Generator().manual_seed(42))\n",
    "test_dataloader = DataLoader(test_dataset, batch_size=test_batch_size, shuffle=False, num_workers=0, collate_fn=collate_fn, generator=torch.Generator().manual_seed(42))\n",
    "\n",
    "# Function to calculate and print the size of each DataLoader\n",
    "def print_dataloader_sizes(dataloader, name):\n",
    "    total_samples = len(dataloader.dataset)  # Get the size of the dataset\n",
    "    num_batches = len(dataloader)  # Get the number of batches\n",
    "    print(f\"{name} DataLoader: Total Samples = {total_samples}, Number of Batches = {num_batches}\")\n",
    "\n",
    "# Print sizes of each DataLoader\n",
    "print_dataloader_sizes(train_dataloader, \"Train\")\n",
    "print_dataloader_sizes(val_dataloader, \"Validation\")\n",
    "print_dataloader_sizes(test_dataloader, \"Test\")\n",
    "\n"
   ]
  },
  {
   "cell_type": "markdown",
   "metadata": {},
   "source": [
    "### GMU Class"
   ]
  },
  {
   "cell_type": "code",
   "execution_count": 9,
   "metadata": {},
   "outputs": [],
   "source": [
    "# Class for Gated Multimodal Unit of Arevalo et al. (2017)\n",
    "class GatedMultimodalUnit(torch.nn.Module):\n",
    "    def __init__(self, text_dim, audio_dim, video_dim, output_dim):\n",
    "        super(GatedMultimodalUnit, self).__init__()\n",
    "        \n",
    "        # Linear transformation for text\n",
    "        self.text_linear = LinearTransformations(text_dim, output_dim)\n",
    "        \n",
    "        # Convolutional layers for audio and video features\n",
    "        self.audio_conv = nn.Conv1d(audio_dim, output_dim, kernel_size=1)\n",
    "        self.video_conv = nn.Conv1d(video_dim, output_dim, kernel_size=1)\n",
    "        \n",
    "        self.output_dim = output_dim \n",
    "        \n",
    "        # Activation functions\n",
    "        self.activation = nn.Tanh()\n",
    "        self.gate_activation = nn.Sigmoid()\n",
    "        \n",
    "        # Weight matrices for each modality\n",
    "        self.W1 = nn.Parameter(torch.Tensor(output_dim, output_dim))\n",
    "        self.W2 = nn.Parameter(torch.Tensor(output_dim, output_dim))\n",
    "        self.W3 = nn.Parameter(torch.Tensor(output_dim, output_dim))\n",
    "        \n",
    "        # Gating matrices\n",
    "        self.Y1 = nn.Parameter(torch.Tensor(output_dim, output_dim))\n",
    "        self.Y2 = nn.Parameter(torch.Tensor(output_dim, output_dim))\n",
    "        self.Y3 = nn.Parameter(torch.Tensor(output_dim, output_dim))\n",
    "        \n",
    "        # Initialize weights\n",
    "        self._initialize_weights()\n",
    "        \n",
    "    def _initialize_weights(self):\n",
    "        \n",
    "        # Initialize weight matrices\n",
    "        init.xavier_uniform_(self.W1)\n",
    "        init.xavier_uniform_(self.W2)\n",
    "        init.xavier_uniform_(self.W3)\n",
    "        \n",
    "        # Initialize gating matrices\n",
    "        init.xavier_uniform_(self.Y1)\n",
    "        init.xavier_uniform_(self.Y2)\n",
    "        init.xavier_uniform_(self.Y3)\n",
    "        \n",
    "        \n",
    "    def forward(self, text_features, audio_features, video_features):\n",
    "\n",
    "        # Process text features to match shape\n",
    "        x_t = self.text_linear(text_features)              # Shape: [batch_size, output_dim]\n",
    "\n",
    "        # Process audio features to match shape\n",
    "        audio_features = audio_features.squeeze(1).permute(0, 2, 1)               # Shape: [batch_size, audio_dim, sequence_length] \n",
    "        x_a = self.audio_conv(audio_features).mean(dim=-1)              # Shape: [batch_size, output_dim]\n",
    "\n",
    "        # Process video features to match shape\n",
    "        video_features = video_features.permute(0, 2, 1)   # Shape: [batch_size, video_dim, sequence_length]\n",
    "        x_v = self.video_conv(video_features).mean(dim=-1)              # Shape: [batch_size, output_dim]\n",
    " \n",
    "        h1 = self.activation(torch.matmul(x_t, self.W1))        # Shape: [batch_size, output_dim]\n",
    "        h2 = self.activation(torch.matmul(x_a, self.W2))        # Shape: [batch_size, output_dim]\n",
    "        h3 = self.activation(torch.matmul(x_v, self.W3))        # Shape: [batch_size, output_dim]\n",
    "        \n",
    "        # Compute modality-specific gating weights\n",
    "        z1 = self.gate_activation(torch.matmul(x_t, self.Y1))  # Shape: [batch_size, output_dim]\n",
    "        z2 = self.gate_activation(torch.matmul(x_a, self.Y2))  # Shape: [batch_size, output_dim]\n",
    "        z3 = self.gate_activation(torch.matmul(x_v, self.Y3))  # Shape: [batch_size, output_dim]\n",
    "        \n",
    "        # Calculate final output\n",
    "        h = z1 * h1 + z2 * h2 + z3 * h3         \n",
    "\n",
    "        return h\n"
   ]
  },
  {
   "cell_type": "markdown",
   "metadata": {},
   "source": [
    "### Classifier"
   ]
  },
  {
   "cell_type": "code",
   "execution_count": 10,
   "metadata": {},
   "outputs": [],
   "source": [
    "class FinalClassifier(nn.Module):\n",
    "    def __init__(self, input_size, dropout_rate=0.5):\n",
    "        super(FinalClassifier, self).__init__()\n",
    "        self.isBCELoss = isBCELoss\n",
    "\n",
    "        self.fc1 = nn.Linear(input_size, 256)\n",
    "        self.fc2 = nn.Linear(256, 128)\n",
    "        \n",
    "        self.dropout = nn.Dropout(dropout_rate)\n",
    "        self.dense = nn.Linear(128, 1)\n",
    "        \n",
    "        self.relu = nn.ReLU()\n",
    "        self.sigmoid = nn.Sigmoid()\n",
    "\n",
    "    def forward(self, x):\n",
    "        x = self.fc1(x)\n",
    "        x = self.relu(x)\n",
    "        \n",
    "        x = self.fc2(x)\n",
    "        x = self.relu(x)\n",
    "        x = self.dropout(x)\n",
    "\n",
    "        x = self.dense(x)\n",
    "        if self.isBCELoss:\n",
    "            x = self.sigmoid(x)\n",
    "        return x"
   ]
  },
  {
   "cell_type": "markdown",
   "metadata": {},
   "source": [
    "### Model Training Functions"
   ]
  },
  {
   "cell_type": "code",
   "execution_count": 11,
   "metadata": {},
   "outputs": [],
   "source": [
    "def get_optimizer(parameters, lr=learning_rate):\n",
    "    return optim.Adam(parameters, lr=lr)"
   ]
  },
  {
   "cell_type": "code",
   "execution_count": 12,
   "metadata": {},
   "outputs": [],
   "source": [
    "def train_model(\n",
    "    model, \n",
    "    dense_layer, \n",
    "    dataloader, \n",
    "    criterion, \n",
    "    optimizer, \n",
    "    device, \n",
    "    output_dir='results/gmu/', \n",
    "    output_filename='train_predictions.csv',\n",
    "):\n",
    "    model.train()\n",
    "    dense_layer.train()\n",
    "    total_loss = 0\n",
    "    \n",
    "    os.makedirs(output_dir, exist_ok=True)\n",
    "    \n",
    "    # Initialize metrics\n",
    "    precision_metric = BinaryPrecision().to(device)\n",
    "    recall_metric = BinaryRecall().to(device)\n",
    "    f1_metric = BinaryF1Score().to(device)\n",
    "    accuracy_metric = BinaryAccuracy().to(device)\n",
    "    \n",
    "    # Reset metrics at the start of training\n",
    "    precision_metric.reset()\n",
    "    recall_metric.reset()\n",
    "    f1_metric.reset()\n",
    "    accuracy_metric.reset()\n",
    "    \n",
    "    results = []\n",
    "    \n",
    "    for imdbids, text_features, audio_features, video_features, targets in dataloader:\n",
    "        # Move all tensors to the same device as the model and criterion\n",
    "        text_features = text_features.to(device)\n",
    "        audio_features = audio_features.to(device)\n",
    "        video_features = video_features.to(device)\n",
    "        targets = targets.view(-1).to(device)\n",
    "        \n",
    "        # Forward pass through GMU\n",
    "        outputs = model(text_features, audio_features, video_features)\n",
    "\n",
    "        # Forward pass through dense layer\n",
    "        predictions = dense_layer(outputs).view(-1)\n",
    "        \n",
    "        # Compute loss\n",
    "        loss = criterion(predictions, targets)\n",
    "        total_loss += loss.item()\n",
    "        \n",
    "        \n",
    "        # Backward pass\n",
    "        optimizer.zero_grad()\n",
    "        loss.backward()\n",
    "        optimizer.step()\n",
    "\n",
    "\n",
    "        # # Apply sigmoid if not using BCELoss\n",
    "        if not isBCELoss:\n",
    "            predictions = torch.sigmoid(predictions)\n",
    "        \n",
    "        # Get binary predictions\n",
    "        binary_preds = (predictions >= threshold).float()\n",
    "        \n",
    "        # Store results\n",
    "        for i in range(len(imdbids)):\n",
    "            results.append({\n",
    "                'IMDBid': imdbids[i],\n",
    "                'Raw Prediction': predictions[i].item(),\n",
    "                'Binary Prediction': binary_preds[i].item(),\n",
    "                'Target': targets[i].item()\n",
    "            })\n",
    "        \n",
    "        # Update metrics\n",
    "        precision_metric.update(binary_preds.long(), targets.long())\n",
    "        recall_metric.update(binary_preds.long(), targets.long())\n",
    "        f1_metric.update(binary_preds.long(), targets.long())\n",
    "        accuracy_metric.update(binary_preds.long(), targets.long())\n",
    "        \n",
    "\n",
    "    # Compute metrics\n",
    "    train_precision = precision_metric.compute().item()\n",
    "    train_recall = recall_metric.compute().item()\n",
    "    train_f1_score = f1_metric.compute().item()\n",
    "    train_accuracy = accuracy_metric.compute().item()\n",
    "    \n",
    "    train_average_loss = total_loss / len(dataloader)\n",
    "    \n",
    "    # Save results\n",
    "    results_df = pd.DataFrame(results)\n",
    "    output_filepath = os.path.join(output_dir, output_filename)\n",
    "    results_df.to_csv(output_filepath, index=False)\n",
    "    \n",
    "    return train_average_loss, train_accuracy, train_precision, train_recall, train_f1_score"
   ]
  },
  {
   "cell_type": "code",
   "execution_count": 13,
   "metadata": {},
   "outputs": [],
   "source": [
    "def evaluate_model(\n",
    "    model, \n",
    "    dense_layer, \n",
    "    dataloader, \n",
    "    criterion, \n",
    "    device,\n",
    "    output_dir='results/gmu/', \n",
    "    output_filename='val_predictions.csv',\n",
    "):\n",
    "    model.eval()\n",
    "    dense_layer.eval()\n",
    "    total_loss = 0\n",
    "    \n",
    "    os.makedirs(output_dir, exist_ok=True)\n",
    "    \n",
    "    # Initialize metrics\n",
    "    precision_metric = BinaryPrecision().to(device)\n",
    "    recall_metric = BinaryRecall().to(device)\n",
    "    f1_metric = BinaryF1Score().to(device)\n",
    "    accuracy_metric = BinaryAccuracy().to(device)\n",
    "    \n",
    "    # Reset metrics at the start of training\n",
    "    precision_metric.reset()\n",
    "    recall_metric.reset()\n",
    "    f1_metric.reset()\n",
    "    accuracy_metric.reset()\n",
    "    \n",
    "    results = []\n",
    "    all_predictions = []\n",
    "    all_targets = []\n",
    "    \n",
    "    with torch.no_grad():\n",
    "        for imdbids, text_features, audio_features, video_features, targets in dataloader:\n",
    "            text_features, audio_features, video_features, targets = (\n",
    "                text_features.to(device),\n",
    "                audio_features.to(device),\n",
    "                video_features.to(device),\n",
    "                targets.view(-1).to(device)\n",
    "            )\n",
    "            \n",
    "\n",
    "            # Forward passes\n",
    "            outputs = model(text_features, audio_features, video_features)\n",
    "            outputs = outputs.view(outputs.size(0), -1)\n",
    "            \n",
    "            predictions = dense_layer(outputs).view(-1)\n",
    "            \n",
    "            # Compute loss\n",
    "            loss = criterion(predictions, targets)\n",
    "            total_loss += loss.item()\n",
    "            \n",
    "            # # Apply sigmoid if not using BCELoss\n",
    "            if not isBCELoss:\n",
    "                predictions = torch.sigmoid(predictions)\n",
    "            \n",
    "            # Get binary predictions\n",
    "            binary_preds = (predictions >= threshold).float()\n",
    "            \n",
    "            # Store predictions and targets for confusion matrix\n",
    "            all_predictions.extend(predictions.cpu().numpy())\n",
    "            all_targets.extend(targets.cpu().numpy())\n",
    "            \n",
    "            # Store results\n",
    "            for i in range(len(imdbids)):\n",
    "                results.append({\n",
    "                    'IMDBid': imdbids[i],\n",
    "                    'Raw Prediction': predictions[i].item(),\n",
    "                    'Binary Prediction': binary_preds[i].item(),\n",
    "                    'Target': targets[i].item()\n",
    "                })\n",
    "            \n",
    "            # Update metrics\n",
    "            precision_metric.update(binary_preds.long(), targets.long())\n",
    "            recall_metric.update(binary_preds.long(), targets.long())\n",
    "            f1_metric.update(binary_preds.long(), targets.long())\n",
    "            accuracy_metric.update(binary_preds.long(), targets.long())\n",
    "    \n",
    "    # Compute metrics\n",
    "    val_precision = precision_metric.compute().item()\n",
    "    val_recall = recall_metric.compute().item()\n",
    "    val_f1_score = f1_metric.compute().item()\n",
    "    val_accuracy = accuracy_metric.compute().item()\n",
    "    \n",
    "    val_average_loss = total_loss / len(dataloader)\n",
    "    \n",
    "    # Calculate confusion matrix\n",
    "    val_conf_matrix = confusion_matrix(all_targets, np.round(all_predictions))\n",
    "    \n",
    "    # Save results\n",
    "    results_df = pd.DataFrame(results)\n",
    "    output_filepath = os.path.join(output_dir, output_filename)\n",
    "    results_df.to_csv(output_filepath, index=False)\n",
    "    \n",
    "    return val_average_loss, val_accuracy, val_precision, val_recall, val_f1_score, val_conf_matrix"
   ]
  },
  {
   "cell_type": "code",
   "execution_count": 14,
   "metadata": {},
   "outputs": [],
   "source": [
    "def test_model(\n",
    "    model, \n",
    "    dense_layer, \n",
    "    dataloader, \n",
    "    criterion, \n",
    "    device,\n",
    "    output_dir='results/test/', \n",
    "    output_filename='test_predictions.csv',\n",
    "):\n",
    "\n",
    "    model.eval()\n",
    "    dense_layer.eval()\n",
    "    total_loss = 0\n",
    "\n",
    "    os.makedirs(output_dir, exist_ok=True)\n",
    "\n",
    "    # Initialize metrics for binary classification\n",
    "    precision_metric = BinaryPrecision().to(device)\n",
    "    recall_metric = BinaryRecall().to(device)\n",
    "    f1_metric = BinaryF1Score().to(device)\n",
    "    accuracy_metric = BinaryAccuracy().to(device) \n",
    "    \n",
    "    # Reset metrics at the start of testing\n",
    "    precision_metric.reset()\n",
    "    recall_metric.reset()\n",
    "    f1_metric.reset()\n",
    "    accuracy_metric.reset()\n",
    "\n",
    "    # List to collect results for CSV\n",
    "    results = []\n",
    "    all_targets = []\n",
    "    all_predictions = []\n",
    "\n",
    "    with torch.no_grad():\n",
    "        for imdbids, text_features, audio_features, video_features, targets in dataloader:\n",
    "            text_features, audio_features, video_features, targets = (\n",
    "                text_features.to(device),\n",
    "                audio_features.to(device),\n",
    "                video_features.to(device),\n",
    "                targets.to(device).view(-1)\n",
    "            )\n",
    "            \n",
    "            # Pass inputs through GMU model\n",
    "            outputs = model(text_features, audio_features, video_features)\n",
    "            outputs = outputs.view(outputs.size(0), -1)  # Shape will be [batch_size, 153600]\n",
    "            \n",
    "            # Pass the GMU outputs through the dense layer to get final predictions\n",
    "            predictions = dense_layer(outputs).view(-1)\n",
    "            \n",
    "            \n",
    "            # Compute loss\n",
    "            loss = criterion(predictions, targets)\n",
    "            total_loss += loss.item()\n",
    "\n",
    "            # # Apply sigmoid if BCELoss is not used\n",
    "            if not isBCELoss:\n",
    "                predictions = torch.sigmoid(predictions)\n",
    "\n",
    "            # Apply threshold to get binary predictions\n",
    "            binary_preds = (predictions >= threshold).float()\n",
    "            \n",
    "            # Store predictions and targets for confusion matrix\n",
    "            all_predictions.extend(predictions.cpu().numpy())\n",
    "            all_targets.extend(targets.cpu().numpy())\n",
    "            \n",
    "            # Store results\n",
    "            for i in range(len(imdbids)):\n",
    "                results.append({\n",
    "                    'IMDBid': imdbids[i],\n",
    "                    'Raw Prediction': predictions[i].item(),\n",
    "                    'Binary Prediction': binary_preds[i].item(),\n",
    "                    'Target': targets[i].item()\n",
    "                })\n",
    "            \n",
    "            # Update metrics\n",
    "            precision_metric.update(binary_preds.long(), targets.long())\n",
    "            recall_metric.update(binary_preds.long(), targets.long())\n",
    "            f1_metric.update(binary_preds.long(), targets.long())\n",
    "            accuracy_metric.update(binary_preds.long(), targets.long())\n",
    "            \n",
    "\n",
    "    # Compute average precision, recall, F1 score, and accuracy\n",
    "    test_precision = precision_metric.compute().item()\n",
    "    test_recall = recall_metric.compute().item()\n",
    "    test_f1_score = f1_metric.compute().item()\n",
    "    test_accuracy = accuracy_metric.compute().item() \n",
    "\n",
    "    test_average_loss = total_loss / len(dataloader)\n",
    "\n",
    "    # Calculate confusion matrix\n",
    "    test_conf_matrix = confusion_matrix(all_targets, np.round(all_predictions))\n",
    "\n",
    "    # Create DataFrame and save to CSV\n",
    "    results_df = pd.DataFrame(results)\n",
    "    output_filepath = os.path.join(output_dir, output_filename)\n",
    "    results_df.to_csv(output_filepath, index=False, header=True)\n",
    "\n",
    "\n",
    "    return test_average_loss, test_accuracy, test_precision, test_recall, test_f1_score, test_conf_matrix\n"
   ]
  },
  {
   "cell_type": "markdown",
   "metadata": {},
   "source": [
    "### Model Training"
   ]
  },
  {
   "cell_type": "code",
   "execution_count": 15,
   "metadata": {},
   "outputs": [],
   "source": [
    "def plot_confusion_matrix(conf_matrix, class_names=['Negative', 'Positive']):\n",
    "    plt.figure(figsize=(6, 5))\n",
    "    sns.heatmap(conf_matrix, annot=True, fmt=\"d\", cmap=\"Blues\", cbar=False,\n",
    "                xticklabels=class_names, yticklabels=class_names)\n",
    "    plt.xlabel('Predicted Labels')\n",
    "    plt.ylabel('True Labels')\n",
    "    plt.title('Confusion Matrix')\n",
    "    plt.show()"
   ]
  },
  {
   "cell_type": "code",
   "execution_count": 16,
   "metadata": {},
   "outputs": [],
   "source": [
    "# Function to plot training and validation loss\n",
    "def plot_losses(train_losses, val_losses):\n",
    "    plt.figure(figsize=(10, 5))\n",
    "    plt.plot(train_losses, label='Training Loss', color='blue', marker='o')\n",
    "    plt.plot(val_losses, label='Validation Loss', color='orange', marker='x')\n",
    "    plt.title('Training and Validation Loss over Epochs')\n",
    "    plt.xlabel('Epochs')\n",
    "    plt.ylabel('Loss')\n",
    "    plt.legend()\n",
    "    plt.grid()\n",
    "    plt.show()"
   ]
  },
  {
   "cell_type": "code",
   "execution_count": 17,
   "metadata": {},
   "outputs": [
    {
     "name": "stdout",
     "output_type": "stream",
     "text": [
      "Device: cuda\n",
      "----------------------------------------\n",
      "Epoch 1/10\n",
      "-------------------- Train --------------------\n",
      "Train Accuracy: 0.7346\n",
      "Train Precision: 0.2273\n",
      "Train Recall: 0.0214\n",
      "Train F1 Score: 0.0391\n",
      "Train Loss: 0.5976\n",
      "-------------------- Eval --------------------\n",
      "Eval Accuracy: 0.7487\n",
      "Eval Precision: 0.0000\n",
      "Eval Recall: 0.0000\n",
      "Eval F1 Score: 0.0000\n",
      "Eval Loss: 0.5561\n",
      "----------------------------------------\n",
      "Epoch 2/10\n",
      "-------------------- Train --------------------\n",
      "Train Accuracy: 0.7476\n",
      "Train Precision: 0.0000\n",
      "Train Recall: 0.0000\n",
      "Train F1 Score: 0.0000\n",
      "Train Loss: 0.5415\n",
      "-------------------- Eval --------------------\n",
      "Eval Accuracy: 0.7487\n",
      "Eval Precision: 0.0000\n",
      "Eval Recall: 0.0000\n",
      "Eval F1 Score: 0.0000\n",
      "Eval Loss: 0.5146\n",
      "----------------------------------------\n",
      "Epoch 3/10\n",
      "-------------------- Train --------------------\n",
      "Train Accuracy: 0.7540\n",
      "Train Precision: 1.0000\n",
      "Train Recall: 0.0256\n",
      "Train F1 Score: 0.0500\n",
      "Train Loss: 0.4816\n",
      "-------------------- Eval --------------------\n",
      "Eval Accuracy: 0.7839\n",
      "Eval Precision: 0.8182\n",
      "Eval Recall: 0.1800\n",
      "Eval F1 Score: 0.2951\n",
      "Eval Loss: 0.4162\n",
      "----------------------------------------\n",
      "Epoch 4/10\n",
      "-------------------- Train --------------------\n",
      "Train Accuracy: 0.8339\n",
      "Train Precision: 0.8077\n",
      "Train Recall: 0.4487\n",
      "Train F1 Score: 0.5769\n",
      "Train Loss: 0.3988\n",
      "-------------------- Eval --------------------\n",
      "Eval Accuracy: 0.8392\n",
      "Eval Precision: 0.8462\n",
      "Eval Recall: 0.4400\n",
      "Eval F1 Score: 0.5789\n",
      "Eval Loss: 0.4024\n",
      "----------------------------------------\n",
      "Epoch 5/10\n",
      "-------------------- Train --------------------\n",
      "Train Accuracy: 0.8835\n",
      "Train Precision: 0.8316\n",
      "Train Recall: 0.6752\n",
      "Train F1 Score: 0.7453\n",
      "Train Loss: 0.3316\n",
      "-------------------- Eval --------------------\n",
      "Eval Accuracy: 0.8492\n",
      "Eval Precision: 0.7941\n",
      "Eval Recall: 0.5400\n",
      "Eval F1 Score: 0.6429\n",
      "Eval Loss: 0.3241\n",
      "----------------------------------------\n",
      "Epoch 6/10\n",
      "-------------------- Train --------------------\n",
      "Train Accuracy: 0.8738\n",
      "Train Precision: 0.7826\n",
      "Train Recall: 0.6923\n",
      "Train F1 Score: 0.7347\n",
      "Train Loss: 0.3034\n",
      "-------------------- Eval --------------------\n",
      "Eval Accuracy: 0.8643\n",
      "Eval Precision: 0.7949\n",
      "Eval Recall: 0.6200\n",
      "Eval F1 Score: 0.6966\n",
      "Eval Loss: 0.2791\n",
      "----------------------------------------\n",
      "Epoch 7/10\n",
      "-------------------- Train --------------------\n",
      "Train Accuracy: 0.9191\n",
      "Train Precision: 0.8597\n",
      "Train Recall: 0.8120\n",
      "Train F1 Score: 0.8352\n",
      "Train Loss: 0.2393\n",
      "-------------------- Eval --------------------\n",
      "Eval Accuracy: 0.8794\n",
      "Eval Precision: 0.7826\n",
      "Eval Recall: 0.7200\n",
      "Eval F1 Score: 0.7500\n",
      "Eval Loss: 0.2642\n",
      "----------------------------------------\n",
      "Epoch 8/10\n",
      "-------------------- Train --------------------\n",
      "Train Accuracy: 0.9320\n",
      "Train Precision: 0.8869\n",
      "Train Recall: 0.8376\n",
      "Train F1 Score: 0.8615\n",
      "Train Loss: 0.2023\n",
      "-------------------- Eval --------------------\n",
      "Eval Accuracy: 0.8945\n",
      "Eval Precision: 0.8085\n",
      "Eval Recall: 0.7600\n",
      "Eval F1 Score: 0.7835\n",
      "Eval Loss: 0.2374\n",
      "----------------------------------------\n",
      "Epoch 9/10\n",
      "-------------------- Train --------------------\n",
      "Train Accuracy: 0.9385\n",
      "Train Precision: 0.9005\n",
      "Train Recall: 0.8504\n",
      "Train F1 Score: 0.8747\n",
      "Train Loss: 0.1748\n",
      "-------------------- Eval --------------------\n",
      "Eval Accuracy: 0.9045\n",
      "Eval Precision: 0.8039\n",
      "Eval Recall: 0.8200\n",
      "Eval F1 Score: 0.8119\n",
      "Eval Loss: 0.2281\n",
      "----------------------------------------\n",
      "Epoch 10/10\n",
      "-------------------- Train --------------------\n",
      "Train Accuracy: 0.9579\n",
      "Train Precision: 0.9452\n",
      "Train Recall: 0.8846\n",
      "Train F1 Score: 0.9139\n",
      "Train Loss: 0.1405\n",
      "-------------------- Eval --------------------\n",
      "Eval Accuracy: 0.8794\n",
      "Eval Precision: 0.7167\n",
      "Eval Recall: 0.8600\n",
      "Eval F1 Score: 0.7818\n",
      "Eval Loss: 0.2693\n",
      "----------------------------------------\n",
      "Testing the model on the test set...\n",
      "-------------------- Test --------------------\n",
      "Test Accuracy: 0.8442\n",
      "Test Precision: 0.6727\n",
      "Test Recall: 0.7400\n",
      "Test F1 Score: 0.7048\n",
      "Test Loss: 0.3899\n"
     ]
    }
   ],
   "source": [
    "if __name__ == \"__main__\":\n",
    "    torch.manual_seed(42)\n",
    "    \n",
    "    # Set device configuration\n",
    "    if device is None:\n",
    "        device = torch.device(\"cuda\" if torch.cuda.is_available() else \"cpu\")\n",
    "    print(f\"Device: {device}\")\n",
    "\n",
    "    # Initialize the SMCA model A\n",
    "    model = GatedMultimodalUnit(text_dim=text_dim, audio_dim=audio_dim, video_dim=video_dim, output_dim=output_dim).to(device)\n",
    "\n",
    "    # Own DenseLayer or FinalClassifier\n",
    "    if isFinalClassifier:\n",
    "        dense_layer = FinalClassifier(output_dim).to(device) \n",
    "    else:\n",
    "        dense_layer = DenseLayer(output_dim).to(device)\n",
    "\n",
    "    optimizer = get_optimizer(list(model.parameters()) + list(dense_layer.parameters()), learning_rate)\n",
    "    \n",
    "    # Lists to store the training and validation losses\n",
    "    train_losses = []\n",
    "    val_losses = []\n",
    "\n",
    "    for epoch in range(num_epochs):\n",
    "        print(\"-\" * 40)\n",
    "        print(f\"Epoch {epoch + 1}/{num_epochs}\")\n",
    "\n",
    "        # Ensure you have a dataloader that yields inputs and targets\n",
    "        train_average_loss, train_accuracy, train_precision, train_recall, train_f1_score = train_model(model=model, dense_layer=dense_layer, dataloader=train_dataloader, criterion=criterion, optimizer=optimizer, device=device)\n",
    "        train_losses.append(train_average_loss)  # Store training loss\n",
    "\n",
    "        print(\"-\" * 20, \"Train\", \"-\" * 20)\n",
    "        print(f\"Train Accuracy: {train_accuracy:.4f}\")\n",
    "        print(f\"Train Precision: {train_precision:.4f}\")\n",
    "        print(f\"Train Recall: {train_recall:.4f}\")\n",
    "        print(f\"Train F1 Score: {train_f1_score:.4f}\")\n",
    "        print(f\"Train Loss: {train_average_loss:.4f}\")\n",
    "    \n",
    "        \n",
    "        for name, param in model.named_parameters():\n",
    "            if param.grad is None:\n",
    "                print(\"After train: model:\", \"No gradient for:\", name)\n",
    "        \n",
    "        for name, param in dense_layer.named_parameters():\n",
    "            if param.grad is None:\n",
    "                print(\"After train: classifier:\", \"No gradient for:\", name)\n",
    "\n",
    "        # Validate step\n",
    "        val_average_loss, val_accuracy, val_precision, val_recall, val_f1_score, val_conf_matrix = evaluate_model(model=model, dense_layer=dense_layer, dataloader=val_dataloader, criterion=criterion, device=device)\n",
    "        val_losses.append(val_average_loss)  # Store validation loss\n",
    "        \n",
    "        print(\"-\" * 20, \"Eval\", \"-\" * 20)\n",
    "        print(f\"Eval Accuracy: {val_accuracy:.4f}\")\n",
    "        print(f\"Eval Precision: {val_precision:.4f}\")\n",
    "        print(f\"Eval Recall: {val_recall:.4f}\")\n",
    "        print(f\"Eval F1 Score: {val_f1_score:.4f}\")\n",
    "        print(f\"Eval Loss: {val_average_loss:.4f}\")\n",
    "        \n",
    "\n",
    "    # Testing the model\n",
    "    print(\"-\" * 40)\n",
    "    print(\"Testing the model on the test set...\")\n",
    "    test_average_loss, test_accuracy, test_precision, test_recall, test_f1_score, test_conf_matrix = test_model(model=model, dense_layer=dense_layer, dataloader=test_dataloader, criterion=criterion, device=device)\n",
    "    \n",
    "    print(\"-\" * 20, \"Test\", \"-\" * 20)\n",
    "    print(f\"Test Accuracy: {test_accuracy:.4f}\")\n",
    "    print(f\"Test Precision: {test_precision:.4f}\")\n",
    "    print(f\"Test Recall: {test_recall:.4f}\")\n",
    "    print(f\"Test F1 Score: {test_f1_score:.4f}\")\n",
    "    print(f\"Test Loss: {test_average_loss:.4f}\")\n",
    "    \n",
    "    # Summary of metrics\n",
    "    metrics_summary = {\n",
    "        \"Train Accuracy\": [train_accuracy],\n",
    "        \"Validation Accuracy\": [val_accuracy],\n",
    "        \"Test Accuracy\": [test_accuracy],\n",
    "        \"Train Precision\": [train_precision],\n",
    "        \"Validation Precision\": [val_precision],\n",
    "        \"Test Precision\": [test_precision],\n",
    "        \"Train Recall\": [train_recall],\n",
    "        \"Validation Recall\": [val_recall],\n",
    "        \"Test Recall\": [test_recall],\n",
    "        \"Train F1 Score\": [train_f1_score],\n",
    "        \"Validation F1 Score\": [val_f1_score],\n",
    "        \"Test F1 Score\": [test_f1_score],\n",
    "        \"Train Loss\": [train_average_loss],\n",
    "        \"Validation Loss\": [val_average_loss],\n",
    "        \"Test Loss\": [test_average_loss]\n",
    "    }\n",
    "    \n",
    "    # Create DataFrame\n",
    "    metrics_df = pd.DataFrame(metrics_summary)"
   ]
  },
  {
   "cell_type": "markdown",
   "metadata": {},
   "source": [
    "### Results Monitoring"
   ]
  },
  {
   "cell_type": "code",
   "execution_count": 18,
   "metadata": {},
   "outputs": [
    {
     "data": {
      "image/png": "[encoded data removed]",
      "text/plain": [
       "<Figure size 1000x500 with 1 Axes>"
      ]
     },
     "metadata": {},
     "output_type": "display_data"
    }
   ],
   "source": [
    "plot_losses(train_losses, val_losses)"
   ]
  },
  {
   "cell_type": "code",
   "execution_count": 19,
   "metadata": {},
   "outputs": [
    {
     "data": {
      "image/png": "[encoded data removed]",
      "text/plain": [
       "<Figure size 600x500 with 1 Axes>"
      ]
     },
     "metadata": {},
     "output_type": "display_data"
    }
   ],
   "source": [
    "plot_confusion_matrix(test_conf_matrix)"
   ]
  },
  {
   "cell_type": "code",
   "execution_count": 20,
   "metadata": {},
   "outputs": [
    {
     "data": {
      "text/html": [
       "<div>\n",
       "<style scoped>\n",
       "    .dataframe tbody tr th:only-of-type {\n",
       "        vertical-align: middle;\n",
       "    }\n",
       "\n",
       "    .dataframe tbody tr th {\n",
       "        vertical-align: top;\n",
       "    }\n",
       "\n",
       "    .dataframe thead th {\n",
       "        text-align: right;\n",
       "    }\n",
       "</style>\n",
       "<table border=\"1\" class=\"dataframe\">\n",
       "  <thead>\n",
       "    <tr style=\"text-align: right;\">\n",
       "      <th></th>\n",
       "      <th>Train Accuracy</th>\n",
       "      <th>Validation Accuracy</th>\n",
       "      <th>Test Accuracy</th>\n",
       "      <th>Train Precision</th>\n",
       "      <th>Validation Precision</th>\n",
       "      <th>Test Precision</th>\n",
       "      <th>Train Recall</th>\n",
       "      <th>Validation Recall</th>\n",
       "      <th>Test Recall</th>\n",
       "      <th>Train F1 Score</th>\n",
       "      <th>Validation F1 Score</th>\n",
       "      <th>Test F1 Score</th>\n",
       "      <th>Train Loss</th>\n",
       "      <th>Validation Loss</th>\n",
       "      <th>Test Loss</th>\n",
       "    </tr>\n",
       "  </thead>\n",
       "  <tbody>\n",
       "    <tr>\n",
       "      <th>0</th>\n",
       "      <td>0.957929</td>\n",
       "      <td>0.879397</td>\n",
       "      <td>0.844221</td>\n",
       "      <td>0.945205</td>\n",
       "      <td>0.716667</td>\n",
       "      <td>0.672727</td>\n",
       "      <td>0.884615</td>\n",
       "      <td>0.86</td>\n",
       "      <td>0.74</td>\n",
       "      <td>0.913907</td>\n",
       "      <td>0.781818</td>\n",
       "      <td>0.704762</td>\n",
       "      <td>0.140512</td>\n",
       "      <td>0.269312</td>\n",
       "      <td>0.389864</td>\n",
       "    </tr>\n",
       "  </tbody>\n",
       "</table>\n",
       "</div>"
      ],
      "text/plain": [
       "   Train Accuracy  Validation Accuracy  Test Accuracy  Train Precision  \\\n",
       "0        0.957929             0.879397       0.844221         0.945205   \n",
       "\n",
       "   Validation Precision  Test Precision  Train Recall  Validation Recall  \\\n",
       "0              0.716667        0.672727      0.884615               0.86   \n",
       "\n",
       "   Test Recall  Train F1 Score  Validation F1 Score  Test F1 Score  \\\n",
       "0         0.74        0.913907             0.781818       0.704762   \n",
       "\n",
       "   Train Loss  Validation Loss  Test Loss  \n",
       "0    0.140512         0.269312   0.389864  "
      ]
     },
     "execution_count": 20,
     "metadata": {},
     "output_type": "execute_result"
    }
   ],
   "source": [
    "# Display the table\n",
    "metrics_df"
   ]
  },
  {
   "cell_type": "markdown",
   "metadata": {},
   "source": [
    "### Cross-Validation"
   ]
  },
  {
   "cell_type": "code",
   "execution_count": 21,
   "metadata": {},
   "outputs": [],
   "source": [
    "def plot_average_loss_curves(train_losses_folds, val_losses_folds):\n",
    "    # Transpose folds to calculate averages per epoch\n",
    "    num_epochs = len(train_losses_folds[0])\n",
    "    avg_train_losses = [np.mean([fold[epoch] for fold in train_losses_folds]) for epoch in range(num_epochs)]\n",
    "    avg_val_losses = [np.mean([fold[epoch] for fold in val_losses_folds]) for epoch in range(num_epochs)]\n",
    "\n",
    "    epochs = range(1, num_epochs + 1)\n",
    "\n",
    "    plt.figure(figsize=(10, 6))\n",
    "    plt.plot(epochs, avg_train_losses, label='Average Training Loss', color='blue', marker='o')\n",
    "    plt.plot(epochs, avg_val_losses, label='Average Validation Loss', color='orange', marker='o')\n",
    "    \n",
    "    plt.title('Average Training and Validation Loss Across Folds')\n",
    "    plt.xlabel('Epochs')\n",
    "    plt.ylabel('Loss')\n",
    "    plt.legend()\n",
    "    plt.grid(True)\n",
    "    plt.show()"
   ]
  },
  {
   "cell_type": "code",
   "execution_count": 22,
   "metadata": {},
   "outputs": [],
   "source": [
    "def print_cv_dataloader(dataloader, name=\"Dataloader\"):\n",
    "    total_samples = len(dataloader.sampler)\n",
    "    num_batches = len(dataloader)\n",
    "    print(f\"{name}: Total Samples = {total_samples}, Number of Batches = {num_batches}\")"
   ]
  },
  {
   "cell_type": "code",
   "execution_count": 23,
   "metadata": {},
   "outputs": [],
   "source": [
    "def cross_validate_model(\n",
    "    dataset, \n",
    "    model_class, \n",
    "    dense_layer_class, \n",
    "    num_folds, \n",
    "    num_epochs,\n",
    "    text_dim,\n",
    "    audio_dim,\n",
    "    video_dim,\n",
    "    output_dim,\n",
    "    criterion,\n",
    "    learning_rate,\n",
    "    train_batch_size,\n",
    "    val_batch_size,\n",
    "    output_file,\n",
    "    device=None\n",
    "):\n",
    "    # Set device configuration\n",
    "    if device is None:\n",
    "        device = torch.device(\"cuda\" if torch.cuda.is_available() else \"cpu\")\n",
    "    print(f\"Device: {device}\")\n",
    "    \n",
    "    set_seed(42)  # Set global seed at the start\n",
    "    \n",
    "    # Initialize the KFold splitter\n",
    "    kf = KFold(n_splits=num_folds, shuffle=True, random_state=42)\n",
    "\n",
    "    # lists to store metrics for each fold\n",
    "    fold_losses = []\n",
    "    fold_accuracies = []\n",
    "    fold_precisions = []\n",
    "    fold_recalls = []\n",
    "    fold_f1_scores = []\n",
    "    \n",
    "    # Lists to store metrics and losses for each fold\n",
    "    train_losses_folds = []  # List of lists: train_losses_folds[fold][epoch]\n",
    "    val_losses_folds = []    # List of lists: val_losses_folds[fold][epoch]\n",
    "       \n",
    "    # Perform K-Fold Cross-Validation\n",
    "    for fold, (train_idx, val_idx) in enumerate(kf.split(dataset)):\n",
    "        print(\"-\" * 60)\n",
    "        print(f\"------------------------- Fold {fold + 1 }/{num_folds} -------------------------\")\n",
    "        \n",
    "        # Create data loaders for the train and validation sets\n",
    "        train_sampler = torch.utils.data.SubsetRandomSampler(train_idx)\n",
    "        val_sampler = torch.utils.data.SubsetRandomSampler(val_idx)\n",
    "        \n",
    "        train_dataloader = torch.utils.data.DataLoader(dataset, batch_size=train_batch_size, sampler=train_sampler, collate_fn=collate_fn)\n",
    "        val_dataloader = torch.utils.data.DataLoader(dataset, batch_size=val_batch_size, sampler=val_sampler, collate_fn=collate_fn)\n",
    "        \n",
    "        print_cv_dataloader(train_dataloader, \"Train DataLoader\")\n",
    "        print_cv_dataloader(val_dataloader, \"Validation DataLoader\")\n",
    "        \n",
    "        # Initialize the model, dense layer, criterion, and optimizer for each fold\n",
    "        model = model_class(text_dim=text_dim, audio_dim=audio_dim, video_dim=video_dim, output_dim=output_dim).to(device)\n",
    "        \n",
    "        dense_layer = dense_layer_class(output_dim).to(device)\n",
    "        \n",
    "        criterion = criterion.to(device)\n",
    "        \n",
    "        optimizer = get_optimizer(list(model.parameters()) + list(dense_layer.parameters()), learning_rate)\n",
    "\n",
    "        # Initialize lists to track losses for this fold\n",
    "        train_losses = []\n",
    "        val_losses = []\n",
    "        \n",
    "        # Use tqdm for progress bar\n",
    "        epoch_progress = tqdm(range(num_epochs), desc=f\"Fold {fold + 1}/{num_folds} Training\", leave=True)\n",
    "\n",
    "\n",
    "        # Training loop for each fold\n",
    "        for epoch in epoch_progress:\n",
    "            print(f\"------------------------- Epoch {epoch + 1}/{num_epochs} -------------------------\")\n",
    "            \n",
    "            # Train and evaluate the model on the training and validation sets\n",
    "            train_average_loss, train_accuracy, train_precision, train_recall, train_f1_score = train_model(model=model, dense_layer=dense_layer, dataloader=train_dataloader, criterion=criterion, optimizer=optimizer, device=device)\n",
    "            val_average_loss, val_accuracy, val_precision, val_recall, val_f1_score, val_conf_matrix = evaluate_model(model=model, dense_layer=dense_layer, dataloader=val_dataloader, criterion=criterion, device=device)\n",
    "            \n",
    "            # Track losses for this fold and epoch\n",
    "            train_losses.append(train_average_loss)\n",
    "            val_losses.append(val_average_loss)\n",
    "            \n",
    "            print(f\"\\nTrain Accuracy: {train_accuracy:.4f}\")\n",
    "            print(f\"Train Precision: {train_precision:.4f}\")\n",
    "            print(f\"Train Recall: {train_recall:.4f}\")\n",
    "            print(f\"Train F1 Score: {train_f1_score:.4f}\")\n",
    "            print(f\"Train Loss: {train_average_loss:.4f}\")\n",
    "            \n",
    "            print(f\"\\nEval Accuracy: {val_accuracy:.4f}\")\n",
    "            print(f\"Eval Precision: {val_precision:.4f}\")   \n",
    "            print(f\"Eval Recall: {val_recall:.4f}\")\n",
    "            print(f\"Eval F1 Score: {val_f1_score:.4f}\")\n",
    "            print(f\"Eval Loss: {val_average_loss:.4f}\")\n",
    "\n",
    "            \n",
    "            # Update tqdm progress bar description\n",
    "            epoch_progress.set_postfix({\n",
    "                \"Train Loss\": f\"{train_average_loss:.4f}\",\n",
    "                \"Val Loss\": f\"{val_average_loss:.4f}\",\n",
    "                \"Train F1\": f\"{train_f1_score:.4f}\",\n",
    "                \"Val F1\": f\"{val_f1_score:.4f}\",\n",
    "            })\n",
    "        \n",
    "        # Store losses for the fold\n",
    "        train_losses_folds.append(train_losses)\n",
    "        val_losses_folds.append(val_losses)\n",
    "           \n",
    "        # Store the validation metrics for this fold\n",
    "        fold_losses.append(val_average_loss)\n",
    "        fold_accuracies.append(val_accuracy)\n",
    "        fold_precisions.append(val_precision)\n",
    "        fold_recalls.append(val_recall)\n",
    "        fold_f1_scores.append(val_f1_score)\n",
    "\n",
    "    # Calculate the average metrics across all folds\n",
    "    avg_loss = np.mean(fold_losses)\n",
    "    avg_accuracy = np.mean(fold_accuracies)\n",
    "    avg_precision = np.mean(fold_precisions)\n",
    "    avg_recall = np.mean(fold_recalls)\n",
    "    avg_f1_score = np.mean(fold_f1_scores)\n",
    "\n",
    "    print(\"-\" * 50)\n",
    "    print(\"\\nK-Fold Cross-Validation Results:\")\n",
    "    print(f\"Average Loss: {avg_loss:.4f}\")\n",
    "    print(f\"Average Accuracy: {avg_accuracy:.4f}\")\n",
    "    print(f\"Average Precision: {avg_precision:.4f}\")\n",
    "    print(f\"Average Recall: {avg_recall:.4f}\")\n",
    "    print(f\"Average F1 Score: {avg_f1_score:.4f}\")\n",
    "\n",
    "    # Plot average loss curves across folds\n",
    "    plot_average_loss_curves(train_losses_folds, val_losses_folds)\n",
    "\n",
    "    results_dict = {\"Metrics\": [\"Loss\", \"Accuracy\", \"Precision\", \"Recall\", \"F1 Score\"]}\n",
    "    for i in range(num_folds):\n",
    "        results_dict[f\"Fold {i + 1}\"] = [fold_losses[i], fold_accuracies[i], fold_precisions[i], fold_recalls[i], fold_f1_scores[i]]\n",
    "    results_dict[\"Average\"] = [avg_loss, avg_accuracy, avg_precision, avg_recall, avg_f1_score]\n",
    "\n",
    "    # Create DataFrame\n",
    "    results_df = pd.DataFrame(results_dict)\n",
    "    \n",
    "    # Ensure the output directory exists\n",
    "    output_dir = os.path.dirname(output_file)\n",
    "    if output_dir and not os.path.exists(output_dir):\n",
    "        os.makedirs(output_dir)  \n",
    "        \n",
    "    # Save results to .csv\n",
    "    results_df.to_csv(output_file, index=False)\n",
    "    \n",
    "    return results_df"
   ]
  },
  {
   "cell_type": "code",
   "execution_count": 24,
   "metadata": {},
   "outputs": [
    {
     "name": "stdout",
     "output_type": "stream",
     "text": [
      "Device: cuda\n",
      "------------------------------------------------------------\n",
      "------------------------- Fold 1/5 -------------------------\n",
      "Train DataLoader: Total Samples = 1060, Number of Batches = 34\n",
      "Validation DataLoader: Total Samples = 265, Number of Batches = 17\n"
     ]
    },
    {
     "name": "stderr",
     "output_type": "stream",
     "text": [
      "Fold 1/5 Training:   0%|          | 0/10 [00:00<?, ?it/s]"
     ]
    },
    {
     "name": "stdout",
     "output_type": "stream",
     "text": [
      "------------------------- Epoch 1/10 -------------------------\n"
     ]
    },
    {
     "name": "stderr",
     "output_type": "stream",
     "text": [
      "Fold 1/5 Training:  10%|█         | 1/10 [00:01<00:12,  1.35s/it, Train Loss=0.5669, Val Loss=0.5617, Train F1=0.0341, Val F1=0.0000]"
     ]
    },
    {
     "name": "stdout",
     "output_type": "stream",
     "text": [
      "\n",
      "Train Accuracy: 0.7330\n",
      "Train Precision: 0.1786\n",
      "Train Recall: 0.0189\n",
      "Train F1 Score: 0.0341\n",
      "Train Loss: 0.5669\n",
      "\n",
      "Eval Accuracy: 0.7396\n",
      "Eval Precision: 0.0000\n",
      "Eval Recall: 0.0000\n",
      "Eval F1 Score: 0.0000\n",
      "Eval Loss: 0.5617\n",
      "------------------------- Epoch 2/10 -------------------------\n"
     ]
    },
    {
     "name": "stderr",
     "output_type": "stream",
     "text": [
      "Fold 1/5 Training:  20%|██        | 2/10 [00:02<00:10,  1.35s/it, Train Loss=0.5162, Val Loss=0.5030, Train F1=0.0000, Val F1=0.0000]"
     ]
    },
    {
     "name": "stdout",
     "output_type": "stream",
     "text": [
      "\n",
      "Train Accuracy: 0.7500\n",
      "Train Precision: 0.0000\n",
      "Train Recall: 0.0000\n",
      "Train F1 Score: 0.0000\n",
      "Train Loss: 0.5162\n",
      "\n",
      "Eval Accuracy: 0.7396\n",
      "Eval Precision: 0.0000\n",
      "Eval Recall: 0.0000\n",
      "Eval F1 Score: 0.0000\n",
      "Eval Loss: 0.5030\n",
      "------------------------- Epoch 3/10 -------------------------\n"
     ]
    },
    {
     "name": "stderr",
     "output_type": "stream",
     "text": [
      "Fold 1/5 Training:  30%|███       | 3/10 [00:04<00:09,  1.35s/it, Train Loss=0.4126, Val Loss=0.4537, Train F1=0.3675, Val F1=0.4356]"
     ]
    },
    {
     "name": "stdout",
     "output_type": "stream",
     "text": [
      "\n",
      "Train Accuracy: 0.8019\n",
      "Train Precision: 0.9104\n",
      "Train Recall: 0.2302\n",
      "Train F1 Score: 0.3675\n",
      "Train Loss: 0.4126\n",
      "\n",
      "Eval Accuracy: 0.7849\n",
      "Eval Precision: 0.6875\n",
      "Eval Recall: 0.3188\n",
      "Eval F1 Score: 0.4356\n",
      "Eval Loss: 0.4537\n",
      "------------------------- Epoch 4/10 -------------------------\n"
     ]
    },
    {
     "name": "stderr",
     "output_type": "stream",
     "text": [
      "Fold 1/5 Training:  40%|████      | 4/10 [00:05<00:08,  1.35s/it, Train Loss=0.3398, Val Loss=0.4392, Train F1=0.6898, Val F1=0.6806]"
     ]
    },
    {
     "name": "stdout",
     "output_type": "stream",
     "text": [
      "\n",
      "Train Accuracy: 0.8651\n",
      "Train Precision: 0.8112\n",
      "Train Recall: 0.6000\n",
      "Train F1 Score: 0.6898\n",
      "Train Loss: 0.3398\n",
      "\n",
      "Eval Accuracy: 0.8264\n",
      "Eval Precision: 0.6533\n",
      "Eval Recall: 0.7101\n",
      "Eval F1 Score: 0.6806\n",
      "Eval Loss: 0.4392\n",
      "------------------------- Epoch 5/10 -------------------------\n"
     ]
    },
    {
     "name": "stderr",
     "output_type": "stream",
     "text": [
      "Fold 1/5 Training:  50%|█████     | 5/10 [00:06<00:06,  1.38s/it, Train Loss=0.2860, Val Loss=0.4476, Train F1=0.7550, Val F1=0.6747]"
     ]
    },
    {
     "name": "stdout",
     "output_type": "stream",
     "text": [
      "\n",
      "Train Accuracy: 0.8849\n",
      "Train Precision: 0.8069\n",
      "Train Recall: 0.7094\n",
      "Train F1 Score: 0.7550\n",
      "Train Loss: 0.2860\n",
      "\n",
      "Eval Accuracy: 0.7962\n",
      "Eval Precision: 0.5773\n",
      "Eval Recall: 0.8116\n",
      "Eval F1 Score: 0.6747\n",
      "Eval Loss: 0.4476\n",
      "------------------------- Epoch 6/10 -------------------------\n"
     ]
    },
    {
     "name": "stderr",
     "output_type": "stream",
     "text": [
      "Fold 1/5 Training:  60%|██████    | 6/10 [00:08<00:05,  1.42s/it, Train Loss=0.2495, Val Loss=0.4412, Train F1=0.7861, Val F1=0.5294]"
     ]
    },
    {
     "name": "stdout",
     "output_type": "stream",
     "text": [
      "\n",
      "Train Accuracy: 0.8953\n",
      "Train Precision: 0.8031\n",
      "Train Recall: 0.7698\n",
      "Train F1 Score: 0.7861\n",
      "Train Loss: 0.2495\n",
      "\n",
      "Eval Accuracy: 0.8189\n",
      "Eval Precision: 0.8182\n",
      "Eval Recall: 0.3913\n",
      "Eval F1 Score: 0.5294\n",
      "Eval Loss: 0.4412\n",
      "------------------------- Epoch 7/10 -------------------------\n"
     ]
    },
    {
     "name": "stderr",
     "output_type": "stream",
     "text": [
      "Fold 1/5 Training:  70%|███████   | 7/10 [00:09<00:04,  1.47s/it, Train Loss=0.2351, Val Loss=0.3986, Train F1=0.8173, Val F1=0.6435]"
     ]
    },
    {
     "name": "stdout",
     "output_type": "stream",
     "text": [
      "\n",
      "Train Accuracy: 0.9123\n",
      "Train Precision: 0.8525\n",
      "Train Recall: 0.7849\n",
      "Train F1 Score: 0.8173\n",
      "Train Loss: 0.2351\n",
      "\n",
      "Eval Accuracy: 0.8453\n",
      "Eval Precision: 0.8043\n",
      "Eval Recall: 0.5362\n",
      "Eval F1 Score: 0.6435\n",
      "Eval Loss: 0.3986\n",
      "------------------------- Epoch 8/10 -------------------------\n"
     ]
    },
    {
     "name": "stderr",
     "output_type": "stream",
     "text": [
      "Fold 1/5 Training:  80%|████████  | 8/10 [00:11<00:02,  1.46s/it, Train Loss=0.1775, Val Loss=0.4350, Train F1=0.8692, Val F1=0.6724]"
     ]
    },
    {
     "name": "stdout",
     "output_type": "stream",
     "text": [
      "\n",
      "Train Accuracy: 0.9358\n",
      "Train Precision: 0.8863\n",
      "Train Recall: 0.8528\n",
      "Train F1 Score: 0.8692\n",
      "Train Loss: 0.1775\n",
      "\n",
      "Eval Accuracy: 0.8566\n",
      "Eval Precision: 0.8298\n",
      "Eval Recall: 0.5652\n",
      "Eval F1 Score: 0.6724\n",
      "Eval Loss: 0.4350\n",
      "------------------------- Epoch 9/10 -------------------------\n"
     ]
    },
    {
     "name": "stderr",
     "output_type": "stream",
     "text": [
      "Fold 1/5 Training:  90%|█████████ | 9/10 [00:12<00:01,  1.48s/it, Train Loss=0.1561, Val Loss=0.4378, Train F1=0.8837, Val F1=0.6552]"
     ]
    },
    {
     "name": "stdout",
     "output_type": "stream",
     "text": [
      "\n",
      "Train Accuracy: 0.9434\n",
      "Train Precision: 0.9084\n",
      "Train Recall: 0.8604\n",
      "Train F1 Score: 0.8837\n",
      "Train Loss: 0.1561\n",
      "\n",
      "Eval Accuracy: 0.8491\n",
      "Eval Precision: 0.8085\n",
      "Eval Recall: 0.5507\n",
      "Eval F1 Score: 0.6552\n",
      "Eval Loss: 0.4378\n",
      "------------------------- Epoch 10/10 -------------------------\n"
     ]
    },
    {
     "name": "stderr",
     "output_type": "stream",
     "text": [
      "Fold 1/5 Training: 100%|██████████| 10/10 [00:14<00:00,  1.46s/it, Train Loss=0.1318, Val Loss=0.4256, Train F1=0.9192, Val F1=0.7237]\n"
     ]
    },
    {
     "name": "stdout",
     "output_type": "stream",
     "text": [
      "\n",
      "Train Accuracy: 0.9604\n",
      "Train Precision: 0.9373\n",
      "Train Recall: 0.9019\n",
      "Train F1 Score: 0.9192\n",
      "Train Loss: 0.1318\n",
      "\n",
      "Eval Accuracy: 0.8415\n",
      "Eval Precision: 0.6627\n",
      "Eval Recall: 0.7971\n",
      "Eval F1 Score: 0.7237\n",
      "Eval Loss: 0.4256\n",
      "------------------------------------------------------------\n",
      "------------------------- Fold 2/5 -------------------------\n",
      "Train DataLoader: Total Samples = 1060, Number of Batches = 34\n",
      "Validation DataLoader: Total Samples = 265, Number of Batches = 17\n"
     ]
    },
    {
     "name": "stderr",
     "output_type": "stream",
     "text": [
      "Fold 2/5 Training:   0%|          | 0/10 [00:00<?, ?it/s]"
     ]
    },
    {
     "name": "stdout",
     "output_type": "stream",
     "text": [
      "------------------------- Epoch 1/10 -------------------------\n"
     ]
    },
    {
     "name": "stderr",
     "output_type": "stream",
     "text": [
      "Fold 2/5 Training:  10%|█         | 1/10 [00:01<00:14,  1.56s/it, Train Loss=0.6118, Val Loss=0.5408, Train F1=0.1748, Val F1=0.0000]"
     ]
    },
    {
     "name": "stdout",
     "output_type": "stream",
     "text": [
      "\n",
      "Train Accuracy: 0.6972\n",
      "Train Precision: 0.2857\n",
      "Train Recall: 0.1259\n",
      "Train F1 Score: 0.1748\n",
      "Train Loss: 0.6118\n",
      "\n",
      "Eval Accuracy: 0.7585\n",
      "Eval Precision: 0.0000\n",
      "Eval Recall: 0.0000\n",
      "Eval F1 Score: 0.0000\n",
      "Eval Loss: 0.5408\n",
      "------------------------- Epoch 2/10 -------------------------\n"
     ]
    },
    {
     "name": "stderr",
     "output_type": "stream",
     "text": [
      "Fold 2/5 Training:  20%|██        | 2/10 [00:03<00:12,  1.52s/it, Train Loss=0.5635, Val Loss=0.5199, Train F1=0.0000, Val F1=0.0000]"
     ]
    },
    {
     "name": "stdout",
     "output_type": "stream",
     "text": [
      "\n",
      "Train Accuracy: 0.7453\n",
      "Train Precision: 0.0000\n",
      "Train Recall: 0.0000\n",
      "Train F1 Score: 0.0000\n",
      "Train Loss: 0.5635\n",
      "\n",
      "Eval Accuracy: 0.7585\n",
      "Eval Precision: 0.0000\n",
      "Eval Recall: 0.0000\n",
      "Eval F1 Score: 0.0000\n",
      "Eval Loss: 0.5199\n",
      "------------------------- Epoch 3/10 -------------------------\n"
     ]
    },
    {
     "name": "stderr",
     "output_type": "stream",
     "text": [
      "Fold 2/5 Training:  30%|███       | 3/10 [00:04<00:10,  1.55s/it, Train Loss=0.4908, Val Loss=0.4588, Train F1=0.2105, Val F1=0.2821]"
     ]
    },
    {
     "name": "stdout",
     "output_type": "stream",
     "text": [
      "\n",
      "Train Accuracy: 0.7736\n",
      "Train Precision: 0.9412\n",
      "Train Recall: 0.1185\n",
      "Train F1 Score: 0.2105\n",
      "Train Loss: 0.4908\n",
      "\n",
      "Eval Accuracy: 0.7887\n",
      "Eval Precision: 0.7857\n",
      "Eval Recall: 0.1719\n",
      "Eval F1 Score: 0.2821\n",
      "Eval Loss: 0.4588\n",
      "------------------------- Epoch 4/10 -------------------------\n"
     ]
    },
    {
     "name": "stderr",
     "output_type": "stream",
     "text": [
      "Fold 2/5 Training:  40%|████      | 4/10 [00:06<00:10,  1.76s/it, Train Loss=0.3810, Val Loss=0.4823, Train F1=0.6447, Val F1=0.3333]"
     ]
    },
    {
     "name": "stdout",
     "output_type": "stream",
     "text": [
      "\n",
      "Train Accuracy: 0.8472\n",
      "Train Precision: 0.7903\n",
      "Train Recall: 0.5444\n",
      "Train F1 Score: 0.6447\n",
      "Train Loss: 0.3810\n",
      "\n",
      "Eval Accuracy: 0.8038\n",
      "Eval Precision: 0.9286\n",
      "Eval Recall: 0.2031\n",
      "Eval F1 Score: 0.3333\n",
      "Eval Loss: 0.4823\n",
      "------------------------- Epoch 5/10 -------------------------\n"
     ]
    },
    {
     "name": "stderr",
     "output_type": "stream",
     "text": [
      "Fold 2/5 Training:  50%|█████     | 5/10 [00:08<00:08,  1.62s/it, Train Loss=0.3324, Val Loss=0.4243, Train F1=0.7019, Val F1=0.6099]"
     ]
    },
    {
     "name": "stdout",
     "output_type": "stream",
     "text": [
      "\n",
      "Train Accuracy: 0.8670\n",
      "Train Precision: 0.8177\n",
      "Train Recall: 0.6148\n",
      "Train F1 Score: 0.7019\n",
      "Train Loss: 0.3324\n",
      "\n",
      "Eval Accuracy: 0.7925\n",
      "Eval Precision: 0.5584\n",
      "Eval Recall: 0.6719\n",
      "Eval F1 Score: 0.6099\n",
      "Eval Loss: 0.4243\n",
      "------------------------- Epoch 6/10 -------------------------\n"
     ]
    },
    {
     "name": "stderr",
     "output_type": "stream",
     "text": [
      "Fold 2/5 Training:  60%|██████    | 6/10 [00:09<00:06,  1.56s/it, Train Loss=0.2645, Val Loss=0.4133, Train F1=0.7871, Val F1=0.5806]"
     ]
    },
    {
     "name": "stdout",
     "output_type": "stream",
     "text": [
      "\n",
      "Train Accuracy: 0.8943\n",
      "Train Precision: 0.8086\n",
      "Train Recall: 0.7667\n",
      "Train F1 Score: 0.7871\n",
      "Train Loss: 0.2645\n",
      "\n",
      "Eval Accuracy: 0.8528\n",
      "Eval Precision: 0.9310\n",
      "Eval Recall: 0.4219\n",
      "Eval F1 Score: 0.5806\n",
      "Eval Loss: 0.4133\n",
      "------------------------- Epoch 7/10 -------------------------\n"
     ]
    },
    {
     "name": "stderr",
     "output_type": "stream",
     "text": [
      "Fold 2/5 Training:  70%|███████   | 7/10 [00:11<00:04,  1.53s/it, Train Loss=0.2573, Val Loss=0.3820, Train F1=0.7826, Val F1=0.6415]"
     ]
    },
    {
     "name": "stdout",
     "output_type": "stream",
     "text": [
      "\n",
      "Train Accuracy: 0.8962\n",
      "Train Precision: 0.8390\n",
      "Train Recall: 0.7333\n",
      "Train F1 Score: 0.7826\n",
      "Train Loss: 0.2573\n",
      "\n",
      "Eval Accuracy: 0.8566\n",
      "Eval Precision: 0.8095\n",
      "Eval Recall: 0.5312\n",
      "Eval F1 Score: 0.6415\n",
      "Eval Loss: 0.3820\n",
      "------------------------- Epoch 8/10 -------------------------\n"
     ]
    },
    {
     "name": "stderr",
     "output_type": "stream",
     "text": [
      "Fold 2/5 Training:  80%|████████  | 8/10 [00:12<00:03,  1.52s/it, Train Loss=0.2092, Val Loss=0.3584, Train F1=0.8369, Val F1=0.7009]"
     ]
    },
    {
     "name": "stdout",
     "output_type": "stream",
     "text": [
      "\n",
      "Train Accuracy: 0.9217\n",
      "Train Precision: 0.8912\n",
      "Train Recall: 0.7889\n",
      "Train F1 Score: 0.8369\n",
      "Train Loss: 0.2092\n",
      "\n",
      "Eval Accuracy: 0.8679\n",
      "Eval Precision: 0.7736\n",
      "Eval Recall: 0.6406\n",
      "Eval F1 Score: 0.7009\n",
      "Eval Loss: 0.3584\n",
      "------------------------- Epoch 9/10 -------------------------\n"
     ]
    },
    {
     "name": "stderr",
     "output_type": "stream",
     "text": [
      "Fold 2/5 Training:  90%|█████████ | 9/10 [00:14<00:01,  1.53s/it, Train Loss=0.1775, Val Loss=0.4583, Train F1=0.8788, Val F1=0.6061]"
     ]
    },
    {
     "name": "stdout",
     "output_type": "stream",
     "text": [
      "\n",
      "Train Accuracy: 0.9396\n",
      "Train Precision: 0.8992\n",
      "Train Recall: 0.8593\n",
      "Train F1 Score: 0.8788\n",
      "Train Loss: 0.1775\n",
      "\n",
      "Eval Accuracy: 0.8528\n",
      "Eval Precision: 0.8571\n",
      "Eval Recall: 0.4688\n",
      "Eval F1 Score: 0.6061\n",
      "Eval Loss: 0.4583\n",
      "------------------------- Epoch 10/10 -------------------------\n"
     ]
    },
    {
     "name": "stderr",
     "output_type": "stream",
     "text": [
      "Fold 2/5 Training: 100%|██████████| 10/10 [00:15<00:00,  1.55s/it, Train Loss=0.1694, Val Loss=0.4843, Train F1=0.8781, Val F1=0.6289]\n"
     ]
    },
    {
     "name": "stdout",
     "output_type": "stream",
     "text": [
      "\n",
      "Train Accuracy: 0.9406\n",
      "Train Precision: 0.9190\n",
      "Train Recall: 0.8407\n",
      "Train F1 Score: 0.8781\n",
      "Train Loss: 0.1694\n",
      "\n",
      "Eval Accuracy: 0.7774\n",
      "Eval Precision: 0.5263\n",
      "Eval Recall: 0.7812\n",
      "Eval F1 Score: 0.6289\n",
      "Eval Loss: 0.4843\n",
      "------------------------------------------------------------\n",
      "------------------------- Fold 3/5 -------------------------\n",
      "Train DataLoader: Total Samples = 1060, Number of Batches = 34\n",
      "Validation DataLoader: Total Samples = 265, Number of Batches = 17\n"
     ]
    },
    {
     "name": "stderr",
     "output_type": "stream",
     "text": [
      "Fold 3/5 Training:   0%|          | 0/10 [00:00<?, ?it/s]"
     ]
    },
    {
     "name": "stdout",
     "output_type": "stream",
     "text": [
      "------------------------- Epoch 1/10 -------------------------\n"
     ]
    },
    {
     "name": "stderr",
     "output_type": "stream",
     "text": [
      "Fold 3/5 Training:  10%|█         | 1/10 [00:01<00:13,  1.54s/it, Train Loss=0.5788, Val Loss=0.5727, Train F1=0.0000, Val F1=0.0000]"
     ]
    },
    {
     "name": "stdout",
     "output_type": "stream",
     "text": [
      "\n",
      "Train Accuracy: 0.7566\n",
      "Train Precision: 0.0000\n",
      "Train Recall: 0.0000\n",
      "Train F1 Score: 0.0000\n",
      "Train Loss: 0.5788\n",
      "\n",
      "Eval Accuracy: 0.7132\n",
      "Eval Precision: 0.0000\n",
      "Eval Recall: 0.0000\n",
      "Eval F1 Score: 0.0000\n",
      "Eval Loss: 0.5727\n",
      "------------------------- Epoch 2/10 -------------------------\n"
     ]
    },
    {
     "name": "stderr",
     "output_type": "stream",
     "text": [
      "Fold 3/5 Training:  20%|██        | 2/10 [00:03<00:12,  1.52s/it, Train Loss=0.5249, Val Loss=0.5133, Train F1=0.0000, Val F1=0.0000]"
     ]
    },
    {
     "name": "stdout",
     "output_type": "stream",
     "text": [
      "\n",
      "Train Accuracy: 0.7566\n",
      "Train Precision: 0.0000\n",
      "Train Recall: 0.0000\n",
      "Train F1 Score: 0.0000\n",
      "Train Loss: 0.5249\n",
      "\n",
      "Eval Accuracy: 0.7132\n",
      "Eval Precision: 0.0000\n",
      "Eval Recall: 0.0000\n",
      "Eval F1 Score: 0.0000\n",
      "Eval Loss: 0.5133\n",
      "------------------------- Epoch 3/10 -------------------------\n"
     ]
    },
    {
     "name": "stderr",
     "output_type": "stream",
     "text": [
      "Fold 3/5 Training:  30%|███       | 3/10 [00:04<00:10,  1.52s/it, Train Loss=0.4566, Val Loss=0.4248, Train F1=0.1946, Val F1=0.6977]"
     ]
    },
    {
     "name": "stdout",
     "output_type": "stream",
     "text": [
      "\n",
      "Train Accuracy: 0.7736\n",
      "Train Precision: 0.7250\n",
      "Train Recall: 0.1124\n",
      "Train F1 Score: 0.1946\n",
      "Train Loss: 0.4566\n",
      "\n",
      "Eval Accuracy: 0.8528\n",
      "Eval Precision: 0.8491\n",
      "Eval Recall: 0.5921\n",
      "Eval F1 Score: 0.6977\n",
      "Eval Loss: 0.4248\n",
      "------------------------- Epoch 4/10 -------------------------\n"
     ]
    },
    {
     "name": "stderr",
     "output_type": "stream",
     "text": [
      "Fold 3/5 Training:  40%|████      | 4/10 [00:06<00:08,  1.50s/it, Train Loss=0.3737, Val Loss=0.3427, Train F1=0.6135, Val F1=0.7259]"
     ]
    },
    {
     "name": "stdout",
     "output_type": "stream",
     "text": [
      "\n",
      "Train Accuracy: 0.8491\n",
      "Train Precision: 0.8141\n",
      "Train Recall: 0.4922\n",
      "Train F1 Score: 0.6135\n",
      "Train Loss: 0.3737\n",
      "\n",
      "Eval Accuracy: 0.8604\n",
      "Eval Precision: 0.8305\n",
      "Eval Recall: 0.6447\n",
      "Eval F1 Score: 0.7259\n",
      "Eval Loss: 0.3427\n",
      "------------------------- Epoch 5/10 -------------------------\n"
     ]
    },
    {
     "name": "stderr",
     "output_type": "stream",
     "text": [
      "Fold 3/5 Training:  50%|█████     | 5/10 [00:07<00:07,  1.51s/it, Train Loss=0.3028, Val Loss=0.3225, Train F1=0.7197, Val F1=0.7613]"
     ]
    },
    {
     "name": "stdout",
     "output_type": "stream",
     "text": [
      "\n",
      "Train Accuracy: 0.8736\n",
      "Train Precision: 0.7818\n",
      "Train Recall: 0.6667\n",
      "Train F1 Score: 0.7197\n",
      "Train Loss: 0.3028\n",
      "\n",
      "Eval Accuracy: 0.8604\n",
      "Eval Precision: 0.7468\n",
      "Eval Recall: 0.7763\n",
      "Eval F1 Score: 0.7613\n",
      "Eval Loss: 0.3225\n",
      "------------------------- Epoch 6/10 -------------------------\n"
     ]
    },
    {
     "name": "stderr",
     "output_type": "stream",
     "text": [
      "Fold 3/5 Training:  60%|██████    | 6/10 [00:08<00:05,  1.46s/it, Train Loss=0.2883, Val Loss=0.3028, Train F1=0.7714, Val F1=0.7561]"
     ]
    },
    {
     "name": "stdout",
     "output_type": "stream",
     "text": [
      "\n",
      "Train Accuracy: 0.8943\n",
      "Train Precision: 0.8147\n",
      "Train Recall: 0.7326\n",
      "Train F1 Score: 0.7714\n",
      "Train Loss: 0.2883\n",
      "\n",
      "Eval Accuracy: 0.8491\n",
      "Eval Precision: 0.7045\n",
      "Eval Recall: 0.8158\n",
      "Eval F1 Score: 0.7561\n",
      "Eval Loss: 0.3028\n",
      "------------------------- Epoch 7/10 -------------------------\n"
     ]
    },
    {
     "name": "stderr",
     "output_type": "stream",
     "text": [
      "Fold 3/5 Training:  70%|███████   | 7/10 [00:10<00:04,  1.44s/it, Train Loss=0.2171, Val Loss=0.3101, Train F1=0.8277, Val F1=0.7576]"
     ]
    },
    {
     "name": "stdout",
     "output_type": "stream",
     "text": [
      "\n",
      "Train Accuracy: 0.9179\n",
      "Train Precision: 0.8462\n",
      "Train Recall: 0.8101\n",
      "Train F1 Score: 0.8277\n",
      "Train Loss: 0.2171\n",
      "\n",
      "Eval Accuracy: 0.8792\n",
      "Eval Precision: 0.8929\n",
      "Eval Recall: 0.6579\n",
      "Eval F1 Score: 0.7576\n",
      "Eval Loss: 0.3101\n",
      "------------------------- Epoch 8/10 -------------------------\n"
     ]
    },
    {
     "name": "stderr",
     "output_type": "stream",
     "text": [
      "Fold 3/5 Training:  80%|████████  | 8/10 [00:11<00:02,  1.43s/it, Train Loss=0.2060, Val Loss=0.2839, Train F1=0.8169, Val F1=0.7826]"
     ]
    },
    {
     "name": "stdout",
     "output_type": "stream",
     "text": [
      "\n",
      "Train Accuracy: 0.9142\n",
      "Train Precision: 0.8494\n",
      "Train Recall: 0.7868\n",
      "Train F1 Score: 0.8169\n",
      "Train Loss: 0.2060\n",
      "\n",
      "Eval Accuracy: 0.8868\n",
      "Eval Precision: 0.8710\n",
      "Eval Recall: 0.7105\n",
      "Eval F1 Score: 0.7826\n",
      "Eval Loss: 0.2839\n",
      "------------------------- Epoch 9/10 -------------------------\n"
     ]
    },
    {
     "name": "stderr",
     "output_type": "stream",
     "text": [
      "Fold 3/5 Training:  90%|█████████ | 9/10 [00:13<00:01,  1.44s/it, Train Loss=0.1775, Val Loss=0.2893, Train F1=0.8402, Val F1=0.7771]"
     ]
    },
    {
     "name": "stdout",
     "output_type": "stream",
     "text": [
      "\n",
      "Train Accuracy: 0.9236\n",
      "Train Precision: 0.8554\n",
      "Train Recall: 0.8256\n",
      "Train F1 Score: 0.8402\n",
      "Train Loss: 0.1775\n",
      "\n",
      "Eval Accuracy: 0.8679\n",
      "Eval Precision: 0.7531\n",
      "Eval Recall: 0.8026\n",
      "Eval F1 Score: 0.7771\n",
      "Eval Loss: 0.2893\n",
      "------------------------- Epoch 10/10 -------------------------\n"
     ]
    },
    {
     "name": "stderr",
     "output_type": "stream",
     "text": [
      "Fold 3/5 Training: 100%|██████████| 10/10 [00:14<00:00,  1.46s/it, Train Loss=0.1511, Val Loss=0.2903, Train F1=0.8924, Val F1=0.8312]\n"
     ]
    },
    {
     "name": "stdout",
     "output_type": "stream",
     "text": [
      "\n",
      "Train Accuracy: 0.9481\n",
      "Train Precision: 0.9012\n",
      "Train Recall: 0.8837\n",
      "Train F1 Score: 0.8924\n",
      "Train Loss: 0.1511\n",
      "\n",
      "Eval Accuracy: 0.9019\n",
      "Eval Precision: 0.8205\n",
      "Eval Recall: 0.8421\n",
      "Eval F1 Score: 0.8312\n",
      "Eval Loss: 0.2903\n",
      "------------------------------------------------------------\n",
      "------------------------- Fold 4/5 -------------------------\n",
      "Train DataLoader: Total Samples = 1060, Number of Batches = 34\n",
      "Validation DataLoader: Total Samples = 265, Number of Batches = 17\n"
     ]
    },
    {
     "name": "stderr",
     "output_type": "stream",
     "text": [
      "Fold 4/5 Training:   0%|          | 0/10 [00:00<?, ?it/s]"
     ]
    },
    {
     "name": "stdout",
     "output_type": "stream",
     "text": [
      "------------------------- Epoch 1/10 -------------------------\n"
     ]
    },
    {
     "name": "stderr",
     "output_type": "stream",
     "text": [
      "Fold 4/5 Training:  10%|█         | 1/10 [00:01<00:13,  1.55s/it, Train Loss=0.5981, Val Loss=0.5283, Train F1=0.0889, Val F1=0.0000]"
     ]
    },
    {
     "name": "stdout",
     "output_type": "stream",
     "text": [
      "\n",
      "Train Accuracy: 0.7292\n",
      "Train Precision: 0.3256\n",
      "Train Recall: 0.0515\n",
      "Train F1 Score: 0.0889\n",
      "Train Loss: 0.5981\n",
      "\n",
      "Eval Accuracy: 0.7660\n",
      "Eval Precision: 0.0000\n",
      "Eval Recall: 0.0000\n",
      "Eval F1 Score: 0.0000\n",
      "Eval Loss: 0.5283\n",
      "------------------------- Epoch 2/10 -------------------------\n"
     ]
    },
    {
     "name": "stderr",
     "output_type": "stream",
     "text": [
      "Fold 4/5 Training:  20%|██        | 2/10 [00:03<00:12,  1.52s/it, Train Loss=0.5466, Val Loss=0.5069, Train F1=0.0000, Val F1=0.0000]"
     ]
    },
    {
     "name": "stdout",
     "output_type": "stream",
     "text": [
      "\n",
      "Train Accuracy: 0.7434\n",
      "Train Precision: 0.0000\n",
      "Train Recall: 0.0000\n",
      "Train F1 Score: 0.0000\n",
      "Train Loss: 0.5466\n",
      "\n",
      "Eval Accuracy: 0.7660\n",
      "Eval Precision: 0.0000\n",
      "Eval Recall: 0.0000\n",
      "Eval F1 Score: 0.0000\n",
      "Eval Loss: 0.5069\n",
      "------------------------- Epoch 3/10 -------------------------\n"
     ]
    },
    {
     "name": "stderr",
     "output_type": "stream",
     "text": [
      "Fold 4/5 Training:  30%|███       | 3/10 [00:04<00:11,  1.58s/it, Train Loss=0.4692, Val Loss=0.3940, Train F1=0.1038, Val F1=0.5532]"
     ]
    },
    {
     "name": "stdout",
     "output_type": "stream",
     "text": [
      "\n",
      "Train Accuracy: 0.7557\n",
      "Train Precision: 0.8824\n",
      "Train Recall: 0.0551\n",
      "Train F1 Score: 0.1038\n",
      "Train Loss: 0.4692\n",
      "\n",
      "Eval Accuracy: 0.8415\n",
      "Eval Precision: 0.8125\n",
      "Eval Recall: 0.4194\n",
      "Eval F1 Score: 0.5532\n",
      "Eval Loss: 0.3940\n",
      "------------------------- Epoch 4/10 -------------------------\n"
     ]
    },
    {
     "name": "stderr",
     "output_type": "stream",
     "text": [
      "Fold 4/5 Training:  40%|████      | 4/10 [00:06<00:09,  1.54s/it, Train Loss=0.3819, Val Loss=0.3137, Train F1=0.6127, Val F1=0.7059]"
     ]
    },
    {
     "name": "stdout",
     "output_type": "stream",
     "text": [
      "\n",
      "Train Accuracy: 0.8330\n",
      "Train Precision: 0.7568\n",
      "Train Recall: 0.5147\n",
      "Train F1 Score: 0.6127\n",
      "Train Loss: 0.3819\n",
      "\n",
      "Eval Accuracy: 0.8679\n",
      "Eval Precision: 0.7368\n",
      "Eval Recall: 0.6774\n",
      "Eval F1 Score: 0.7059\n",
      "Eval Loss: 0.3137\n",
      "------------------------- Epoch 5/10 -------------------------\n"
     ]
    },
    {
     "name": "stderr",
     "output_type": "stream",
     "text": [
      "Fold 4/5 Training:  50%|█████     | 5/10 [00:07<00:07,  1.58s/it, Train Loss=0.3226, Val Loss=0.2710, Train F1=0.7094, Val F1=0.7317]"
     ]
    },
    {
     "name": "stdout",
     "output_type": "stream",
     "text": [
      "\n",
      "Train Accuracy: 0.8632\n",
      "Train Precision: 0.7797\n",
      "Train Recall: 0.6507\n",
      "Train F1 Score: 0.7094\n",
      "Train Loss: 0.3226\n",
      "\n",
      "Eval Accuracy: 0.8755\n",
      "Eval Precision: 0.7377\n",
      "Eval Recall: 0.7258\n",
      "Eval F1 Score: 0.7317\n",
      "Eval Loss: 0.2710\n",
      "------------------------- Epoch 6/10 -------------------------\n"
     ]
    },
    {
     "name": "stderr",
     "output_type": "stream",
     "text": [
      "Fold 4/5 Training:  60%|██████    | 6/10 [00:09<00:06,  1.54s/it, Train Loss=0.2807, Val Loss=0.2695, Train F1=0.7838, Val F1=0.7559]"
     ]
    },
    {
     "name": "stdout",
     "output_type": "stream",
     "text": [
      "\n",
      "Train Accuracy: 0.8943\n",
      "Train Precision: 0.8252\n",
      "Train Recall: 0.7463\n",
      "Train F1 Score: 0.7838\n",
      "Train Loss: 0.2807\n",
      "\n",
      "Eval Accuracy: 0.8830\n",
      "Eval Precision: 0.7385\n",
      "Eval Recall: 0.7742\n",
      "Eval F1 Score: 0.7559\n",
      "Eval Loss: 0.2695\n",
      "------------------------- Epoch 7/10 -------------------------\n"
     ]
    },
    {
     "name": "stderr",
     "output_type": "stream",
     "text": [
      "Fold 4/5 Training:  70%|███████   | 7/10 [00:10<00:04,  1.54s/it, Train Loss=0.2504, Val Loss=0.2490, Train F1=0.7753, Val F1=0.7788]"
     ]
    },
    {
     "name": "stdout",
     "output_type": "stream",
     "text": [
      "\n",
      "Train Accuracy: 0.8934\n",
      "Train Precision: 0.8442\n",
      "Train Recall: 0.7169\n",
      "Train F1 Score: 0.7753\n",
      "Train Loss: 0.2504\n",
      "\n",
      "Eval Accuracy: 0.9057\n",
      "Eval Precision: 0.8627\n",
      "Eval Recall: 0.7097\n",
      "Eval F1 Score: 0.7788\n",
      "Eval Loss: 0.2490\n",
      "------------------------- Epoch 8/10 -------------------------\n"
     ]
    },
    {
     "name": "stderr",
     "output_type": "stream",
     "text": [
      "Fold 4/5 Training:  80%|████████  | 8/10 [00:12<00:03,  1.56s/it, Train Loss=0.2029, Val Loss=0.3134, Train F1=0.8327, Val F1=0.7429]"
     ]
    },
    {
     "name": "stdout",
     "output_type": "stream",
     "text": [
      "\n",
      "Train Accuracy: 0.9170\n",
      "Train Precision: 0.8622\n",
      "Train Recall: 0.8051\n",
      "Train F1 Score: 0.8327\n",
      "Train Loss: 0.2029\n",
      "\n",
      "Eval Accuracy: 0.8642\n",
      "Eval Precision: 0.6667\n",
      "Eval Recall: 0.8387\n",
      "Eval F1 Score: 0.7429\n",
      "Eval Loss: 0.3134\n",
      "------------------------- Epoch 9/10 -------------------------\n"
     ]
    },
    {
     "name": "stderr",
     "output_type": "stream",
     "text": [
      "Fold 4/5 Training:  90%|█████████ | 9/10 [00:13<00:01,  1.52s/it, Train Loss=0.1876, Val Loss=0.2513, Train F1=0.8566, Val F1=0.7719]"
     ]
    },
    {
     "name": "stdout",
     "output_type": "stream",
     "text": [
      "\n",
      "Train Accuracy: 0.9283\n",
      "Train Precision: 0.8798\n",
      "Train Recall: 0.8346\n",
      "Train F1 Score: 0.8566\n",
      "Train Loss: 0.1876\n",
      "\n",
      "Eval Accuracy: 0.9019\n",
      "Eval Precision: 0.8462\n",
      "Eval Recall: 0.7097\n",
      "Eval F1 Score: 0.7719\n",
      "Eval Loss: 0.2513\n",
      "------------------------- Epoch 10/10 -------------------------\n"
     ]
    },
    {
     "name": "stderr",
     "output_type": "stream",
     "text": [
      "Fold 4/5 Training: 100%|██████████| 10/10 [00:15<00:00,  1.52s/it, Train Loss=0.1502, Val Loss=0.2862, Train F1=0.8839, Val F1=0.7477]\n"
     ]
    },
    {
     "name": "stdout",
     "output_type": "stream",
     "text": [
      "\n",
      "Train Accuracy: 0.9415\n",
      "Train Precision: 0.9008\n",
      "Train Recall: 0.8676\n",
      "Train F1 Score: 0.8839\n",
      "Train Loss: 0.1502\n",
      "\n",
      "Eval Accuracy: 0.8981\n",
      "Eval Precision: 0.8889\n",
      "Eval Recall: 0.6452\n",
      "Eval F1 Score: 0.7477\n",
      "Eval Loss: 0.2862\n",
      "------------------------------------------------------------\n",
      "------------------------- Fold 5/5 -------------------------\n",
      "Train DataLoader: Total Samples = 1060, Number of Batches = 34\n",
      "Validation DataLoader: Total Samples = 265, Number of Batches = 17\n"
     ]
    },
    {
     "name": "stderr",
     "output_type": "stream",
     "text": [
      "Fold 5/5 Training:   0%|          | 0/10 [00:00<?, ?it/s]"
     ]
    },
    {
     "name": "stdout",
     "output_type": "stream",
     "text": [
      "------------------------- Epoch 1/10 -------------------------\n"
     ]
    },
    {
     "name": "stderr",
     "output_type": "stream",
     "text": [
      "Fold 5/5 Training:  10%|█         | 1/10 [00:01<00:12,  1.43s/it, Train Loss=0.5844, Val Loss=0.5400, Train F1=0.0000, Val F1=0.0000]"
     ]
    },
    {
     "name": "stdout",
     "output_type": "stream",
     "text": [
      "\n",
      "Train Accuracy: 0.7443\n",
      "Train Precision: 0.0000\n",
      "Train Recall: 0.0000\n",
      "Train F1 Score: 0.0000\n",
      "Train Loss: 0.5844\n",
      "\n",
      "Eval Accuracy: 0.7623\n",
      "Eval Precision: 0.0000\n",
      "Eval Recall: 0.0000\n",
      "Eval F1 Score: 0.0000\n",
      "Eval Loss: 0.5400\n",
      "------------------------- Epoch 2/10 -------------------------\n"
     ]
    },
    {
     "name": "stderr",
     "output_type": "stream",
     "text": [
      "Fold 5/5 Training:  20%|██        | 2/10 [00:02<00:11,  1.47s/it, Train Loss=0.5477, Val Loss=0.5012, Train F1=0.0000, Val F1=0.0000]"
     ]
    },
    {
     "name": "stdout",
     "output_type": "stream",
     "text": [
      "\n",
      "Train Accuracy: 0.7443\n",
      "Train Precision: 0.0000\n",
      "Train Recall: 0.0000\n",
      "Train F1 Score: 0.0000\n",
      "Train Loss: 0.5477\n",
      "\n",
      "Eval Accuracy: 0.7623\n",
      "Eval Precision: 0.0000\n",
      "Eval Recall: 0.0000\n",
      "Eval F1 Score: 0.0000\n",
      "Eval Loss: 0.5012\n",
      "------------------------- Epoch 3/10 -------------------------\n"
     ]
    },
    {
     "name": "stderr",
     "output_type": "stream",
     "text": [
      "Fold 5/5 Training:  30%|███       | 3/10 [00:04<00:10,  1.49s/it, Train Loss=0.4805, Val Loss=0.3941, Train F1=0.0845, Val F1=0.4337]"
     ]
    },
    {
     "name": "stdout",
     "output_type": "stream",
     "text": [
      "\n",
      "Train Accuracy: 0.7547\n",
      "Train Precision: 0.9231\n",
      "Train Recall: 0.0443\n",
      "Train F1 Score: 0.0845\n",
      "Train Loss: 0.4805\n",
      "\n",
      "Eval Accuracy: 0.8226\n",
      "Eval Precision: 0.9000\n",
      "Eval Recall: 0.2857\n",
      "Eval F1 Score: 0.4337\n",
      "Eval Loss: 0.3941\n",
      "------------------------- Epoch 4/10 -------------------------\n"
     ]
    },
    {
     "name": "stderr",
     "output_type": "stream",
     "text": [
      "Fold 5/5 Training:  40%|████      | 4/10 [00:06<00:09,  1.52s/it, Train Loss=0.3846, Val Loss=0.3374, Train F1=0.6161, Val F1=0.5918]"
     ]
    },
    {
     "name": "stdout",
     "output_type": "stream",
     "text": [
      "\n",
      "Train Accuracy: 0.8377\n",
      "Train Precision: 0.7797\n",
      "Train Recall: 0.5092\n",
      "Train F1 Score: 0.6161\n",
      "Train Loss: 0.3846\n",
      "\n",
      "Eval Accuracy: 0.8491\n",
      "Eval Precision: 0.8286\n",
      "Eval Recall: 0.4603\n",
      "Eval F1 Score: 0.5918\n",
      "Eval Loss: 0.3374\n",
      "------------------------- Epoch 5/10 -------------------------\n"
     ]
    },
    {
     "name": "stderr",
     "output_type": "stream",
     "text": [
      "Fold 5/5 Training:  50%|█████     | 5/10 [00:07<00:07,  1.51s/it, Train Loss=0.3198, Val Loss=0.2955, Train F1=0.7349, Val F1=0.7317]"
     ]
    },
    {
     "name": "stdout",
     "output_type": "stream",
     "text": [
      "\n",
      "Train Accuracy: 0.8755\n",
      "Train Precision: 0.8062\n",
      "Train Recall: 0.6753\n",
      "Train F1 Score: 0.7349\n",
      "Train Loss: 0.3198\n",
      "\n",
      "Eval Accuracy: 0.8755\n",
      "Eval Precision: 0.7500\n",
      "Eval Recall: 0.7143\n",
      "Eval F1 Score: 0.7317\n",
      "Eval Loss: 0.2955\n",
      "------------------------- Epoch 6/10 -------------------------\n"
     ]
    },
    {
     "name": "stderr",
     "output_type": "stream",
     "text": [
      "Fold 5/5 Training:  60%|██████    | 6/10 [00:09<00:06,  1.55s/it, Train Loss=0.2708, Val Loss=0.2979, Train F1=0.7765, Val F1=0.6729]"
     ]
    },
    {
     "name": "stdout",
     "output_type": "stream",
     "text": [
      "\n",
      "Train Accuracy: 0.8925\n",
      "Train Precision: 0.8285\n",
      "Train Recall: 0.7306\n",
      "Train F1 Score: 0.7765\n",
      "Train Loss: 0.2708\n",
      "\n",
      "Eval Accuracy: 0.8679\n",
      "Eval Precision: 0.8182\n",
      "Eval Recall: 0.5714\n",
      "Eval F1 Score: 0.6729\n",
      "Eval Loss: 0.2979\n",
      "------------------------- Epoch 7/10 -------------------------\n"
     ]
    },
    {
     "name": "stderr",
     "output_type": "stream",
     "text": [
      "Fold 5/5 Training:  70%|███████   | 7/10 [00:10<00:04,  1.57s/it, Train Loss=0.2326, Val Loss=0.2976, Train F1=0.8314, Val F1=0.7213]"
     ]
    },
    {
     "name": "stdout",
     "output_type": "stream",
     "text": [
      "\n",
      "Train Accuracy: 0.9189\n",
      "Train Precision: 0.8870\n",
      "Train Recall: 0.7823\n",
      "Train F1 Score: 0.8314\n",
      "Train Loss: 0.2326\n",
      "\n",
      "Eval Accuracy: 0.8717\n",
      "Eval Precision: 0.7458\n",
      "Eval Recall: 0.6984\n",
      "Eval F1 Score: 0.7213\n",
      "Eval Loss: 0.2976\n",
      "------------------------- Epoch 8/10 -------------------------\n"
     ]
    },
    {
     "name": "stderr",
     "output_type": "stream",
     "text": [
      "Fold 5/5 Training:  80%|████████  | 8/10 [00:12<00:03,  1.58s/it, Train Loss=0.2010, Val Loss=0.6619, Train F1=0.8478, Val F1=0.6289]"
     ]
    },
    {
     "name": "stdout",
     "output_type": "stream",
     "text": [
      "\n",
      "Train Accuracy: 0.9255\n",
      "Train Precision: 0.8871\n",
      "Train Recall: 0.8118\n",
      "Train F1 Score: 0.8478\n",
      "Train Loss: 0.2010\n",
      "\n",
      "Eval Accuracy: 0.7283\n",
      "Eval Precision: 0.4656\n",
      "Eval Recall: 0.9683\n",
      "Eval F1 Score: 0.6289\n",
      "Eval Loss: 0.6619\n",
      "------------------------- Epoch 9/10 -------------------------\n"
     ]
    },
    {
     "name": "stderr",
     "output_type": "stream",
     "text": [
      "Fold 5/5 Training:  90%|█████████ | 9/10 [00:14<00:01,  1.61s/it, Train Loss=0.2394, Val Loss=0.3060, Train F1=0.8204, Val F1=0.7353]"
     ]
    },
    {
     "name": "stdout",
     "output_type": "stream",
     "text": [
      "\n",
      "Train Accuracy: 0.9104\n",
      "Train Precision: 0.8411\n",
      "Train Recall: 0.8007\n",
      "Train F1 Score: 0.8204\n",
      "Train Loss: 0.2394\n",
      "\n",
      "Eval Accuracy: 0.8642\n",
      "Eval Precision: 0.6849\n",
      "Eval Recall: 0.7937\n",
      "Eval F1 Score: 0.7353\n",
      "Eval Loss: 0.3060\n",
      "------------------------- Epoch 10/10 -------------------------\n"
     ]
    },
    {
     "name": "stderr",
     "output_type": "stream",
     "text": [
      "Fold 5/5 Training: 100%|██████████| 10/10 [00:15<00:00,  1.55s/it, Train Loss=0.1518, Val Loss=0.2908, Train F1=0.8944, Val F1=0.6897]"
     ]
    },
    {
     "name": "stdout",
     "output_type": "stream",
     "text": [
      "\n",
      "Train Accuracy: 0.9481\n",
      "Train Precision: 0.9320\n",
      "Train Recall: 0.8598\n",
      "Train F1 Score: 0.8944\n",
      "Train Loss: 0.1518\n",
      "\n",
      "Eval Accuracy: 0.8642\n",
      "Eval Precision: 0.7547\n",
      "Eval Recall: 0.6349\n",
      "Eval F1 Score: 0.6897\n",
      "Eval Loss: 0.2908\n",
      "--------------------------------------------------\n",
      "\n",
      "K-Fold Cross-Validation Results:\n",
      "Average Loss: 0.3554\n",
      "Average Accuracy: 0.8566\n",
      "Average Precision: 0.7306\n",
      "Average Recall: 0.7401\n",
      "Average F1 Score: 0.7242\n"
     ]
    },
    {
     "name": "stderr",
     "output_type": "stream",
     "text": [
      "\n"
     ]
    },
    {
     "data": {
      "image/png": "[encoded data removed]",
      "text/plain": [
       "<Figure size 1000x600 with 1 Axes>"
      ]
     },
     "metadata": {},
     "output_type": "display_data"
    }
   ],
   "source": [
    "# DenseLayer or FinalClassifier\n",
    "if isFinalClassifier:\n",
    "    dense_layer_class = FinalClassifier\n",
    "else:\n",
    "    dense_layer_class = DenseLayer\n",
    "\n",
    "# Run k-fold cross-validation   \n",
    "results_df = cross_validate_model(\n",
    "    dataset=full_dataset,\n",
    "    model_class=GatedMultimodalUnit,\n",
    "    dense_layer_class=dense_layer_class,\n",
    "    criterion=criterion,\n",
    "    text_dim=text_dim,\n",
    "    audio_dim=audio_dim,\n",
    "    video_dim=video_dim,\n",
    "    output_dim=output_dim,\n",
    "    num_epochs=num_epochs_cv,    \n",
    "    num_folds=num_folds,\n",
    "    train_batch_size=train_batch_size,\n",
    "    val_batch_size=val_batch_size,\n",
    "    learning_rate=learning_rate,\n",
    "    output_file=f'results/gmu/GMU-CV_scores.csv'\n",
    ")"
   ]
  },
  {
   "cell_type": "code",
   "execution_count": 25,
   "metadata": {},
   "outputs": [
    {
     "data": {
      "text/html": [
       "<div>\n",
       "<style scoped>\n",
       "    .dataframe tbody tr th:only-of-type {\n",
       "        vertical-align: middle;\n",
       "    }\n",
       "\n",
       "    .dataframe tbody tr th {\n",
       "        vertical-align: top;\n",
       "    }\n",
       "\n",
       "    .dataframe thead th {\n",
       "        text-align: right;\n",
       "    }\n",
       "</style>\n",
       "<table border=\"1\" class=\"dataframe\">\n",
       "  <thead>\n",
       "    <tr style=\"text-align: right;\">\n",
       "      <th></th>\n",
       "      <th>Metrics</th>\n",
       "      <th>Fold 1</th>\n",
       "      <th>Fold 2</th>\n",
       "      <th>Fold 3</th>\n",
       "      <th>Fold 4</th>\n",
       "      <th>Fold 5</th>\n",
       "      <th>Average</th>\n",
       "    </tr>\n",
       "  </thead>\n",
       "  <tbody>\n",
       "    <tr>\n",
       "      <th>0</th>\n",
       "      <td>Loss</td>\n",
       "      <td>0.425599</td>\n",
       "      <td>0.484258</td>\n",
       "      <td>0.290266</td>\n",
       "      <td>0.286199</td>\n",
       "      <td>0.290838</td>\n",
       "      <td>0.355432</td>\n",
       "    </tr>\n",
       "    <tr>\n",
       "      <th>1</th>\n",
       "      <td>Accuracy</td>\n",
       "      <td>0.841509</td>\n",
       "      <td>0.777358</td>\n",
       "      <td>0.901887</td>\n",
       "      <td>0.898113</td>\n",
       "      <td>0.864151</td>\n",
       "      <td>0.856604</td>\n",
       "    </tr>\n",
       "    <tr>\n",
       "      <th>2</th>\n",
       "      <td>Precision</td>\n",
       "      <td>0.662651</td>\n",
       "      <td>0.526316</td>\n",
       "      <td>0.820513</td>\n",
       "      <td>0.888889</td>\n",
       "      <td>0.754717</td>\n",
       "      <td>0.730617</td>\n",
       "    </tr>\n",
       "    <tr>\n",
       "      <th>3</th>\n",
       "      <td>Recall</td>\n",
       "      <td>0.797101</td>\n",
       "      <td>0.781250</td>\n",
       "      <td>0.842105</td>\n",
       "      <td>0.645161</td>\n",
       "      <td>0.634921</td>\n",
       "      <td>0.740108</td>\n",
       "    </tr>\n",
       "    <tr>\n",
       "      <th>4</th>\n",
       "      <td>F1 Score</td>\n",
       "      <td>0.723684</td>\n",
       "      <td>0.628931</td>\n",
       "      <td>0.831169</td>\n",
       "      <td>0.747663</td>\n",
       "      <td>0.689655</td>\n",
       "      <td>0.724220</td>\n",
       "    </tr>\n",
       "  </tbody>\n",
       "</table>\n",
       "</div>"
      ],
      "text/plain": [
       "     Metrics    Fold 1    Fold 2    Fold 3    Fold 4    Fold 5   Average\n",
       "0       Loss  0.425599  0.484258  0.290266  0.286199  0.290838  0.355432\n",
       "1   Accuracy  0.841509  0.777358  0.901887  0.898113  0.864151  0.856604\n",
       "2  Precision  0.662651  0.526316  0.820513  0.888889  0.754717  0.730617\n",
       "3     Recall  0.797101  0.781250  0.842105  0.645161  0.634921  0.740108\n",
       "4   F1 Score  0.723684  0.628931  0.831169  0.747663  0.689655  0.724220"
      ]
     },
     "execution_count": 25,
     "metadata": {},
     "output_type": "execute_result"
    }
   ],
   "source": [
    "df = pd.read_csv(f'results/gmu/GMU-CV_scores.csv')\n",
    "df"
   ]
  }
 ],
 "metadata": {
  "kernelspec": {
   "display_name": "Python 3",
   "language": "python",
   "name": "python3"
  },
  "language_info": {
   "codemirror_mode": {
    "name": "ipython",
    "version": 3
   },
   "file_extension": ".py",
   "mimetype": "text/x-python",
   "name": "python",
   "nbconvert_exporter": "python",
   "pygments_lexer": "ipython3",
   "version": "3.12.3"
  }
 },
 "nbformat": 4,
 "nbformat_minor": 2
}
