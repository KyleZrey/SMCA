{
 "cells": [
  {
   "cell_type": "markdown",
   "metadata": {},
   "source": [
    "### Prerequisite Packages"
   ]
  },
  {
   "cell_type": "code",
   "execution_count": 1,
   "metadata": {},
   "outputs": [],
   "source": [
    "\n",
    "import os\n",
    "import sys\n",
    "import numpy as np\n",
    "import pandas as pd\n",
    "\n",
    "import torch\n",
    "import torch.nn as nn\n",
    "import torch.nn.functional as F\n",
    "import torch.nn.init as init\n",
    "import torch.optim as optim\n",
    "\n",
    "import matplotlib.pyplot as plt\n",
    "import matplotlib.patches as mpatches\n",
    "import seaborn as sns\n",
    "\n",
    "from torch.optim.lr_scheduler import StepLR, ReduceLROnPlateau, ExponentialLR\n",
    "from torch.utils.data import DataLoader, Dataset, WeightedRandomSampler\n",
    "from torcheval.metrics import BinaryAccuracy, BinaryPrecision, BinaryRecall, BinaryF1Score\n",
    "from sklearn.model_selection import train_test_split, KFold\n",
    "from sklearn.metrics import confusion_matrix\n",
    "from tqdm import tqdm\n",
    "\n",
    "sys.path.append('../')\n",
    "\n",
    "from modules.classifier import DenseLayer, BCELoss, CustomLoss, BCEWithLogits\n",
    "from modules.dataloader import load_npy_files\n",
    "from modules.linear_transformation import LinearTransformations"
   ]
  },
  {
   "cell_type": "markdown",
   "metadata": {},
   "source": [
    "### Model and Hyperparameter Configurations"
   ]
  },
  {
   "cell_type": "code",
   "execution_count": 2,
   "metadata": {},
   "outputs": [],
   "source": [
    "# Ensure reproducibility\n",
    "def set_seed(seed=42):\n",
    "    np.random.seed(seed)\n",
    "    torch.manual_seed(seed)\n",
    "    if torch.cuda.is_available():\n",
    "        torch.cuda.manual_seed(seed)\n",
    "        torch.cuda.manual_seed_all(seed)\n",
    "    torch.backends.cudnn.deterministic = True\n",
    "    torch.backends.cudnn.benchmark = False\n",
    "\n",
    "    # Worker seed function for DataLoader\n",
    "    def seed_worker(worker_id):\n",
    "        worker_seed = seed + worker_id\n",
    "        np.random.seed(worker_seed)\n",
    "\n",
    "        return seed_worker"
   ]
  },
  {
   "cell_type": "code",
   "execution_count": 3,
   "metadata": {},
   "outputs": [],
   "source": [
    "# Define possible configurations for audio feature directories\n",
    "audio_feature_paths = {\n",
    "    'logmel': '../misc/audio_features/logmel',\n",
    "    'mfcc': '../misc/audio_features/mfcc'\n",
    "}\n",
    "\n",
    "# Function to get the audio feature path based on the selected configuration\n",
    "def get_audio_feature_path(config_name):\n",
    "    if config_name in audio_feature_paths:\n",
    "        return audio_feature_paths[config_name]\n",
    "    else:\n",
    "        raise ValueError(f\"Configuration '{config_name}' not found. Available options: logmel, mfcc.\")\n"
   ]
  },
  {
   "cell_type": "code",
   "execution_count": 4,
   "metadata": {},
   "outputs": [
    {
     "name": "stdout",
     "output_type": "stream",
     "text": [
      "Device: cuda\n"
     ]
    }
   ],
   "source": [
    "### Device configuration\n",
    "device = torch.device(\"cuda\" if torch.cuda.is_available() else \"cpu\")\n",
    "print(f\"Device: {device}\")\n",
    "\n",
    "set_seed(42)  # Set global seed at the start\n",
    "\n",
    "### Audio Feature selection: 'logmel' or 'mfcc'\n",
    "selected_audio_feature = 'logmel'\n",
    "audio_features_dir = get_audio_feature_path(selected_audio_feature)\n",
    "\n",
    "#### Data Configuration: 8 16 32 64 128\n",
    "train_batch_size = 32   # Set the batch size for training data\n",
    "val_batch_size = 16     # Set the batch size for validation data\n",
    "test_batch_size= 16     # Set the batch size for testing data\n",
    "\n",
    "### Filter outliers in video features\n",
    "lower_bound=35\n",
    "upper_bound=197\n",
    "\n",
    "### Hyperparameters\n",
    "threshold = 0.5              # for predictions\n",
    "num_epochs = 10              # for model training\n",
    "cl_dropout_rate = 0.4        # for FinalClassifier\n",
    "\n",
    "### LR Scheduler Parameters     \n",
    "learning_rate = 1e-4      \n",
    "decay_rate = 0.9  \n",
    "\n",
    "\n",
    "### Classifier Configuration\n",
    "isBCELoss = True                          # !!! SET ACCORDINGLY !!!\n",
    "criterion = BCELoss()\n",
    "# criterion = BCEWithLogits().to(device)\n",
    "# criterion = CustomLoss(pos_weight=2.94)\n",
    "# criterion = FocalLoss(alpha=0.25, gamma=2, pos_weight=0.34)\n",
    "\n",
    "# !!! Choose Classifier !!! False = Dense Layer, True = Final Classifier\n",
    "isFinalClassifier = True\n",
    "\n",
    "# Define the dimensions for GMU\n",
    "text_dim = 1024  \n",
    "audio_dim = 768 \n",
    "video_dim = 768  \n",
    "output_dim = 768 \n",
    "\n",
    "## For cross validation\n",
    "num_folds = 5          # Set the number of folds for cross-validation\n",
    "num_epochs_cv = 10     # Set the number of epochs for cross-validation\n"
   ]
  },
  {
   "cell_type": "markdown",
   "metadata": {},
   "source": [
    "### Dataset Class"
   ]
  },
  {
   "cell_type": "code",
   "execution_count": 5,
   "metadata": {},
   "outputs": [],
   "source": [
    "class MultimodalDataset(Dataset):\n",
    "    def __init__(self, id_label_df, text_features, audio_features, video_features):\n",
    "        self.id_label_df = id_label_df\n",
    "        \n",
    "        # Convert feature lists to dictionaries for fast lookup\n",
    "        self.text_features = {os.path.basename(file).split('.')[0]: tensor for file, tensor in text_features}\n",
    "        self.audio_features = {os.path.basename(file).split('_')[1].split('.')[0]: tensor for file, tensor in audio_features}\n",
    "        self.video_features = {os.path.basename(file).split('_')[0]: tensor for file, tensor in video_features}\n",
    "        \n",
    "        # List to store missing files\n",
    "        self.missing_files = []\n",
    "        \n",
    "        # Filter out entries with missing files\n",
    "        self.valid_files = self._filter_valid_files()\n",
    "\n",
    "    def _filter_valid_files(self):\n",
    "        valid_indices = []\n",
    "        missing_files = []\n",
    "\n",
    "        for idx in range(len(self.id_label_df)):\n",
    "            imdbid = self.id_label_df.iloc[idx]['IMDBid']\n",
    "\n",
    "            # Check if the IMDBid exists in each modality's features\n",
    "            if imdbid in self.text_features and imdbid in self.audio_features and imdbid in self.video_features:\n",
    "                valid_indices.append(idx)\n",
    "            else:\n",
    "                missing_files.append({'IMDBid': imdbid})\n",
    "\n",
    "        # Filter id_label_df to only include valid rows\n",
    "        self.id_label_df = self.id_label_df.iloc[valid_indices].reset_index(drop=True)\n",
    "        self.missing_files = missing_files\n",
    "        \n",
    "        # Update valid_indices to reflect the new indices after resetting\n",
    "        valid_indices = list(range(len(self.id_label_df)))\n",
    "\n",
    "        # Return valid indices\n",
    "        return valid_indices\n",
    "\n",
    "    def __len__(self):\n",
    "        return len(self.valid_files)\n",
    "\n",
    "    def __getitem__(self, idx):\n",
    "        # Get the original index from the filtered valid files\n",
    "        original_idx = self.valid_files[idx]\n",
    "        imdbid = self.id_label_df.iloc[original_idx]['IMDBid']\n",
    "        label = self.id_label_df.iloc[original_idx]['Label']\n",
    "        \n",
    "        # Retrieve data from the loaded features\n",
    "        text_data = self.text_features.get(imdbid, torch.zeros((1024,)))\n",
    "        audio_data = self.audio_features.get(imdbid, torch.zeros((1, 197, 768)))\n",
    "        video_data = self.video_features.get(imdbid, torch.zeros((95, 768)))\n",
    "        \n",
    "        # Define label mapping and ensure binary values\n",
    "        label_map = {'red': 1.0, 'green': 0.0}\n",
    "        \n",
    "        try:\n",
    "            label_data = torch.tensor([label_map[label]], dtype=torch.float32)\n",
    "        except KeyError as e:\n",
    "            print(f\"Error: Label '{e}' not found in label_map.\")\n",
    "            raise\n",
    "\n",
    "        return imdbid, text_data, audio_data, video_data, label_data\n"
   ]
  },
  {
   "cell_type": "code",
   "execution_count": 6,
   "metadata": {},
   "outputs": [],
   "source": [
    "def collate_fn(batch):\n",
    "    # Unpack batch elements\n",
    "    imdbids, text_data, audio_data, video_data, label_data = zip(*batch)\n",
    "\n",
    "    # Convert lists to tensors\n",
    "    text_data = torch.stack(text_data)\n",
    "    audio_data = torch.stack(audio_data)\n",
    "\n",
    "    # Padding for video data\n",
    "    # Determine maximum length of video sequences in the batch\n",
    "    video_lengths = [v.size(0) for v in video_data]\n",
    "    max_length = max(video_lengths)\n",
    "\n",
    "    # Pad video sequences to the maximum length\n",
    "    video_data_padded = torch.stack([\n",
    "        F.pad(v, (0, 0, 0, max_length - v.size(0)), \"constant\", 0)\n",
    "        for v in video_data\n",
    "    ])\n",
    "\n",
    "    # Convert labels to tensor and ensure the shape [batch_size, 1]\n",
    "    label_data = torch.stack(label_data)  # Convert list of tensors to a single tensor\n",
    "\n",
    "    return imdbids, text_data, audio_data, video_data_padded, label_data\n"
   ]
  },
  {
   "cell_type": "code",
   "execution_count": 7,
   "metadata": {},
   "outputs": [],
   "source": [
    "def filter_video_features(video_features, lower_bound=lower_bound, upper_bound=upper_bound):\n",
    "    # Assuming video_features is a list of tuples where the second element is the numpy array\n",
    "    filtered_video_features = [v for v in video_features if lower_bound <= v[1].shape[0] <= upper_bound]\n",
    "    return filtered_video_features\n"
   ]
  },
  {
   "cell_type": "markdown",
   "metadata": {},
   "source": [
    "### Data Loading"
   ]
  },
  {
   "cell_type": "code",
   "execution_count": 8,
   "metadata": {},
   "outputs": [
    {
     "name": "stdout",
     "output_type": "stream",
     "text": [
      "Number of text feature vectors loaded: 1353\n",
      "Number of audio feature vectors loaded: 1353\n",
      "Number of video feature vectors loaded: 1325\n",
      "train_df shape: (927, 2)\n",
      "val_df shape: (199, 2)\n",
      "test_df shape: (199, 2)\n",
      "Train label distribution: Label\n",
      "green    693\n",
      "red      234\n",
      "Name: count, dtype: int64\n",
      "Validation label distribution: Label\n",
      "green    149\n",
      "red       50\n",
      "Name: count, dtype: int64\n",
      "Test label distribution: Label\n",
      "green    149\n",
      "red       50\n",
      "Name: count, dtype: int64\n",
      "----------------------------------------\n",
      "Train DataLoader: Total Samples = 927, Number of Batches = 29\n",
      "Validation DataLoader: Total Samples = 199, Number of Batches = 13\n",
      "Test DataLoader: Total Samples = 199, Number of Batches = 13\n"
     ]
    }
   ],
   "source": [
    "# Load the labels DataFrame\n",
    "id_label_df = pd.read_excel('../misc/MM-Trailer_dataset.xlsx')\n",
    "\n",
    "# Define the directories\n",
    "text_features_dir = '../misc/text_features'\n",
    "audio_features_dir = audio_features_dir\n",
    "video_features_dir = '../misc/video_features'\n",
    "\n",
    "# Load the feature vectors from each directory\n",
    "text_features = load_npy_files(text_features_dir)\n",
    "audio_features = load_npy_files(audio_features_dir)\n",
    "video_features = load_npy_files(video_features_dir)\n",
    "\n",
    "video_features = filter_video_features(video_features)\n",
    "\n",
    "print(f\"Number of text feature vectors loaded: {len(text_features)}\")\n",
    "print(f\"Number of audio feature vectors loaded: {len(audio_features)}\")\n",
    "print(f\"Number of video feature vectors loaded: {len(video_features)}\")\n",
    "\n",
    "# Drop unnecessary columns\n",
    "id_label_df = id_label_df.drop(columns=['Movie Title', 'URL'])\n",
    "\n",
    "full_dataset = MultimodalDataset(id_label_df, text_features, audio_features, video_features)\n",
    "\n",
    "# perform train-test split on the filtered DataFrame\n",
    "train_df, val_test_df = train_test_split(\n",
    "    full_dataset.id_label_df, test_size=0.3, random_state=42, stratify=full_dataset.id_label_df['Label'])\n",
    "\n",
    "# Further splitting remaining set into validation and test sets\n",
    "val_df, test_df = train_test_split(\n",
    "    val_test_df, test_size=0.5, random_state=42, stratify=val_test_df['Label'])\n",
    "\n",
    "print(\"train_df shape:\", train_df.shape)\n",
    "print(\"val_df shape:\", val_df.shape)\n",
    "print(\"test_df shape:\", test_df.shape)\n",
    "\n",
    "print(\"Train label distribution:\", train_df['Label'].value_counts())\n",
    "print(\"Validation label distribution:\", val_df['Label'].value_counts())\n",
    "print(\"Test label distribution:\", test_df['Label'].value_counts())\n",
    "\n",
    "print(\"-\" * 40)\n",
    "\n",
    "# create datasets based on these splits\n",
    "train_dataset = MultimodalDataset(train_df, text_features, audio_features, video_features)\n",
    "val_dataset = MultimodalDataset(val_df, text_features, audio_features, video_features)\n",
    "test_dataset = MultimodalDataset(test_df, text_features, audio_features, video_features)\n",
    "\n",
    "# Create DataLoaders\n",
    "train_dataloader = DataLoader(train_dataset, batch_size=train_batch_size, shuffle=True, num_workers=0, collate_fn=collate_fn, generator=torch.Generator().manual_seed(42), worker_init_fn=set_seed(42))\n",
    "val_dataloader = DataLoader(val_dataset, batch_size=val_batch_size, shuffle=True, num_workers=0, collate_fn=collate_fn, generator=torch.Generator().manual_seed(42), worker_init_fn=set_seed(42))\n",
    "test_dataloader = DataLoader(test_dataset, batch_size=test_batch_size, shuffle=False, num_workers=0, collate_fn=collate_fn, generator=torch.Generator().manual_seed(42), worker_init_fn=set_seed(42))\n",
    "\n",
    "# Function to calculate and print the size of each DataLoader\n",
    "def print_dataloader_sizes(dataloader, name):\n",
    "    total_samples = len(dataloader.dataset)  # Get the size of the dataset\n",
    "    num_batches = len(dataloader)  # Get the number of batches\n",
    "    print(f\"{name} DataLoader: Total Samples = {total_samples}, Number of Batches = {num_batches}\")\n",
    "\n",
    "# Print sizes of each DataLoader\n",
    "print_dataloader_sizes(train_dataloader, \"Train\")\n",
    "print_dataloader_sizes(val_dataloader, \"Validation\")\n",
    "print_dataloader_sizes(test_dataloader, \"Test\")\n",
    "\n"
   ]
  },
  {
   "cell_type": "markdown",
   "metadata": {},
   "source": [
    "### GMU Class"
   ]
  },
  {
   "cell_type": "code",
   "execution_count": 9,
   "metadata": {},
   "outputs": [],
   "source": [
    "# Class for Gated Multimodal Unit of Arevalo et al. (2017)\n",
    "class GatedMultimodalUnit(torch.nn.Module):\n",
    "    def __init__(self, text_dim, audio_dim, video_dim, output_dim):\n",
    "        super(GatedMultimodalUnit, self).__init__()\n",
    "        \n",
    "        # Linear transformation for text\n",
    "        self.text_linear = LinearTransformations(text_dim, output_dim)\n",
    "        \n",
    "        # Convolutional layers for audio and video features\n",
    "        self.audio_conv = nn.Conv1d(audio_dim, output_dim, kernel_size=1)\n",
    "        self.video_conv = nn.Conv1d(video_dim, output_dim, kernel_size=1)\n",
    "        \n",
    "        self.output_dim = output_dim \n",
    "        \n",
    "        # Activation functions\n",
    "        self.activation = nn.Tanh()\n",
    "        self.gate_activation = nn.Sigmoid()\n",
    "        \n",
    "        # Weight matrices for each modality\n",
    "        self.W1 = nn.Parameter(torch.Tensor(output_dim, output_dim))\n",
    "        self.W2 = nn.Parameter(torch.Tensor(output_dim, output_dim))\n",
    "        self.W3 = nn.Parameter(torch.Tensor(output_dim, output_dim))\n",
    "        \n",
    "        # Gating matrices\n",
    "        self.Y1 = nn.Parameter(torch.Tensor(output_dim, output_dim))\n",
    "        self.Y2 = nn.Parameter(torch.Tensor(output_dim, output_dim))\n",
    "        self.Y3 = nn.Parameter(torch.Tensor(output_dim, output_dim))\n",
    "        \n",
    "        # Initialize weights\n",
    "        self._initialize_weights()\n",
    "        \n",
    "    def _initialize_weights(self):\n",
    "        \n",
    "        # Initialize weight matrices\n",
    "        init.xavier_uniform_(self.W1)\n",
    "        init.xavier_uniform_(self.W2)\n",
    "        init.xavier_uniform_(self.W3)\n",
    "        \n",
    "        # Initialize gating matrices\n",
    "        init.xavier_uniform_(self.Y1)\n",
    "        init.xavier_uniform_(self.Y2)\n",
    "        init.xavier_uniform_(self.Y3)\n",
    "        \n",
    "        \n",
    "    def forward(self, text_features, audio_features, video_features):\n",
    "\n",
    "        # Process text features to match shape\n",
    "        x_t = self.text_linear(text_features)              # Shape: [batch_size, output_dim]\n",
    "\n",
    "        # Process audio features to match shape\n",
    "        audio_features = audio_features.squeeze(1).permute(0, 2, 1)               # Shape: [batch_size, audio_dim, sequence_length] \n",
    "        x_a = self.audio_conv(audio_features).mean(dim=-1)              # Shape: [batch_size, output_dim]\n",
    "\n",
    "        # Process video features to match shape\n",
    "        video_features = video_features.permute(0, 2, 1)   # Shape: [batch_size, video_dim, sequence_length]\n",
    "        x_v = self.video_conv(video_features).mean(dim=-1)              # Shape: [batch_size, output_dim]\n",
    " \n",
    "        h1 = self.activation(torch.matmul(x_t, self.W1))        # Shape: [batch_size, output_dim]\n",
    "        h2 = self.activation(torch.matmul(x_a, self.W2))        # Shape: [batch_size, output_dim]\n",
    "        h3 = self.activation(torch.matmul(x_v, self.W3))        # Shape: [batch_size, output_dim]\n",
    "        \n",
    "        # Compute modality-specific gating weights\n",
    "        z1 = self.gate_activation(torch.matmul(x_t, self.Y1))  # Shape: [batch_size, output_dim]\n",
    "        z2 = self.gate_activation(torch.matmul(x_a, self.Y2))  # Shape: [batch_size, output_dim]\n",
    "        z3 = self.gate_activation(torch.matmul(x_v, self.Y3))  # Shape: [batch_size, output_dim]\n",
    "        \n",
    "        # Calculate final output\n",
    "        h = z1 * h1 + z2 * h2 + z3 * h3         \n",
    "\n",
    "        return h\n"
   ]
  },
  {
   "cell_type": "markdown",
   "metadata": {},
   "source": [
    "### Classifier"
   ]
  },
  {
   "cell_type": "code",
   "execution_count": 10,
   "metadata": {},
   "outputs": [],
   "source": [
    "class FinalClassifier(nn.Module):\n",
    "    def __init__(self, input_size, dropout_rate=0.5):\n",
    "        super(FinalClassifier, self).__init__()\n",
    "        self.isBCELoss = isBCELoss\n",
    "\n",
    "        self.fc1 = nn.Linear(input_size, 256)\n",
    "        self.fc2 = nn.Linear(256, 128)\n",
    "        \n",
    "        self.dropout = nn.Dropout(dropout_rate)\n",
    "        self.dense = nn.Linear(128, 1)\n",
    "        \n",
    "        self.relu = nn.ReLU()\n",
    "        self.sigmoid = nn.Sigmoid()\n",
    "\n",
    "    def forward(self, x):\n",
    "        x = self.fc1(x)\n",
    "        x = self.relu(x)\n",
    "        \n",
    "        x = self.fc2(x)\n",
    "        x = self.relu(x)\n",
    "        x = self.dropout(x)\n",
    "\n",
    "        x = self.dense(x)\n",
    "        if self.isBCELoss:\n",
    "            x = self.sigmoid(x)\n",
    "        return x"
   ]
  },
  {
   "cell_type": "markdown",
   "metadata": {},
   "source": [
    "### Model Training Functions"
   ]
  },
  {
   "cell_type": "code",
   "execution_count": 11,
   "metadata": {},
   "outputs": [],
   "source": [
    "def get_optimizer(parameters, lr=learning_rate):\n",
    "    return optim.Adam(parameters, lr=lr)\n"
   ]
  },
  {
   "cell_type": "code",
   "execution_count": 12,
   "metadata": {},
   "outputs": [],
   "source": [
    "def train_model(\n",
    "    model, \n",
    "    dense_layer, \n",
    "    dataloader, \n",
    "    criterion, \n",
    "    optimizer, \n",
    "    device, \n",
    "    output_dir='results/gmu/', \n",
    "    output_filename='train_predictions.csv',\n",
    "):\n",
    "    model.train()\n",
    "    dense_layer.train()\n",
    "    total_loss = 0.0\n",
    "    \n",
    "    os.makedirs(output_dir, exist_ok=True)\n",
    "    \n",
    "    # Initialize metrics\n",
    "    precision_metric = BinaryPrecision().to(device)\n",
    "    recall_metric = BinaryRecall().to(device)\n",
    "    f1_metric = BinaryF1Score().to(device)\n",
    "    accuracy_metric = BinaryAccuracy().to(device)\n",
    "    \n",
    "    # Reset metrics at the start of training\n",
    "    precision_metric.reset()\n",
    "    recall_metric.reset()\n",
    "    f1_metric.reset()\n",
    "    accuracy_metric.reset()\n",
    "    \n",
    "    results = []\n",
    "    \n",
    "    for imdbids, text_features, audio_features, video_features, targets in dataloader:\n",
    "        # Move all tensors to the same device as the model and criterion\n",
    "        text_features = text_features.to(device)\n",
    "        audio_features = audio_features.to(device)\n",
    "        video_features = video_features.to(device)\n",
    "        targets = targets.view(-1).to(device)\n",
    "        \n",
    "        # Forward pass through GMU\n",
    "        outputs = model(text_features, audio_features, video_features)\n",
    "\n",
    "        # Forward pass through dense layer\n",
    "        predictions = dense_layer(outputs).view(-1)\n",
    "        \n",
    "        # Compute loss\n",
    "        loss = criterion(predictions, targets)\n",
    "        total_loss += loss.item()\n",
    "        \n",
    "        \n",
    "        # Backward pass\n",
    "        optimizer.zero_grad()\n",
    "        loss.backward()\n",
    "        optimizer.step()\n",
    "\n",
    "        # # Apply sigmoid if not using BCELoss\n",
    "        if not isBCELoss:\n",
    "            predictions = torch.sigmoid(predictions)\n",
    "        \n",
    "        # Get binary predictions\n",
    "        binary_preds = (predictions >= threshold).float()\n",
    "        \n",
    "        # Store results\n",
    "        for i in range(len(imdbids)):\n",
    "            results.append({\n",
    "                'IMDBid': imdbids[i],\n",
    "                'Raw Prediction': predictions[i].item(),\n",
    "                'Binary Prediction': binary_preds[i].item(),\n",
    "                'Target': targets[i].item()\n",
    "            })\n",
    "        \n",
    "        # Update metrics\n",
    "        precision_metric.update(binary_preds.long(), targets.long())\n",
    "        recall_metric.update(binary_preds.long(), targets.long())\n",
    "        f1_metric.update(binary_preds.long(), targets.long())\n",
    "        accuracy_metric.update(binary_preds.long(), targets.long())\n",
    "        \n",
    "\n",
    "    # Compute metrics\n",
    "    train_precision = precision_metric.compute().item()\n",
    "    train_recall = recall_metric.compute().item()\n",
    "    train_f1_score = f1_metric.compute().item()\n",
    "    train_accuracy = accuracy_metric.compute().item()\n",
    "    \n",
    "    train_average_loss = total_loss / len(dataloader)\n",
    "    \n",
    "    # Save results\n",
    "    results_df = pd.DataFrame(results)\n",
    "    output_filepath = os.path.join(output_dir, output_filename)\n",
    "    results_df.to_csv(output_filepath, index=False)\n",
    "    \n",
    "    return train_average_loss, train_accuracy, train_precision, train_recall, train_f1_score"
   ]
  },
  {
   "cell_type": "code",
   "execution_count": 13,
   "metadata": {},
   "outputs": [],
   "source": [
    "def evaluate_model(\n",
    "    model, \n",
    "    dense_layer, \n",
    "    dataloader, \n",
    "    criterion, \n",
    "    device,\n",
    "    output_dir='results/gmu/', \n",
    "    output_filename='val_predictions.csv',\n",
    "):\n",
    "    model.eval()\n",
    "    dense_layer.eval()\n",
    "    total_loss = 0\n",
    "    \n",
    "    os.makedirs(output_dir, exist_ok=True)\n",
    "    \n",
    "    # Initialize metrics\n",
    "    precision_metric = BinaryPrecision().to(device)\n",
    "    recall_metric = BinaryRecall().to(device)\n",
    "    f1_metric = BinaryF1Score().to(device)\n",
    "    accuracy_metric = BinaryAccuracy().to(device)\n",
    "    \n",
    "    # Reset metrics at the start of training\n",
    "    precision_metric.reset()\n",
    "    recall_metric.reset()\n",
    "    f1_metric.reset()\n",
    "    accuracy_metric.reset()\n",
    "    \n",
    "    results = []\n",
    "    all_predictions = []\n",
    "    all_targets = []\n",
    "    \n",
    "    with torch.no_grad():\n",
    "        for imdbids, text_features, audio_features, video_features, targets in dataloader:\n",
    "            text_features, audio_features, video_features, targets = (\n",
    "                text_features.to(device),\n",
    "                audio_features.to(device),\n",
    "                video_features.to(device),\n",
    "                targets.view(-1).to(device)\n",
    "            )\n",
    "            \n",
    "\n",
    "            # Forward passes\n",
    "            outputs = model(text_features, audio_features, video_features)\n",
    "            outputs = outputs.view(outputs.size(0), -1)\n",
    "            \n",
    "            predictions = dense_layer(outputs).view(-1)\n",
    "            \n",
    "            # Compute loss\n",
    "            loss = criterion(predictions, targets)\n",
    "            total_loss += loss.item()\n",
    "            \n",
    "            # # Apply sigmoid if not using BCELoss\n",
    "            if not isBCELoss:\n",
    "                predictions = torch.sigmoid(predictions)\n",
    "            \n",
    "            # Get binary predictions\n",
    "            binary_preds = (predictions >= threshold).float()\n",
    "            \n",
    "            # Store predictions and targets for confusion matrix\n",
    "            all_predictions.extend(predictions.cpu().numpy())\n",
    "            all_targets.extend(targets.cpu().numpy())\n",
    "            \n",
    "            # Store results\n",
    "            for i in range(len(imdbids)):\n",
    "                results.append({\n",
    "                    'IMDBid': imdbids[i],\n",
    "                    'Raw Prediction': predictions[i].item(),\n",
    "                    'Binary Prediction': binary_preds[i].item(),\n",
    "                    'Target': targets[i].item()\n",
    "                })\n",
    "            \n",
    "            # Update metrics\n",
    "            precision_metric.update(binary_preds.long(), targets.long())\n",
    "            recall_metric.update(binary_preds.long(), targets.long())\n",
    "            f1_metric.update(binary_preds.long(), targets.long())\n",
    "            accuracy_metric.update(binary_preds.long(), targets.long())\n",
    "    \n",
    "    # Compute metrics\n",
    "    val_precision = precision_metric.compute().item()\n",
    "    val_recall = recall_metric.compute().item()\n",
    "    val_f1_score = f1_metric.compute().item()\n",
    "    val_accuracy = accuracy_metric.compute().item()\n",
    "    \n",
    "    val_average_loss = total_loss / len(dataloader)\n",
    "    \n",
    "    # Calculate confusion matrix\n",
    "    val_conf_matrix = confusion_matrix(all_targets, np.round(all_predictions))\n",
    "    \n",
    "    # Save results\n",
    "    results_df = pd.DataFrame(results)\n",
    "    output_filepath = os.path.join(output_dir, output_filename)\n",
    "    results_df.to_csv(output_filepath, index=False)\n",
    "    \n",
    "    return val_average_loss, val_accuracy, val_precision, val_recall, val_f1_score, val_conf_matrix"
   ]
  },
  {
   "cell_type": "code",
   "execution_count": 14,
   "metadata": {},
   "outputs": [],
   "source": [
    "def test_model(\n",
    "    model, \n",
    "    dense_layer, \n",
    "    dataloader, \n",
    "    criterion, \n",
    "    device,\n",
    "    output_dir='results/gmu/', \n",
    "    output_filename='test_predictions.csv',\n",
    "):\n",
    "\n",
    "    model.eval()\n",
    "    dense_layer.eval()\n",
    "    total_loss = 0\n",
    "\n",
    "    os.makedirs(output_dir, exist_ok=True)\n",
    "\n",
    "    # Initialize metrics for binary classification\n",
    "    precision_metric = BinaryPrecision().to(device)\n",
    "    recall_metric = BinaryRecall().to(device)\n",
    "    f1_metric = BinaryF1Score().to(device)\n",
    "    accuracy_metric = BinaryAccuracy().to(device) \n",
    "    \n",
    "    # Reset metrics at the start of testing\n",
    "    precision_metric.reset()\n",
    "    recall_metric.reset()\n",
    "    f1_metric.reset()\n",
    "    accuracy_metric.reset()\n",
    "\n",
    "    # List to collect results for CSV\n",
    "    results = []\n",
    "    all_targets = []\n",
    "    all_predictions = []\n",
    "\n",
    "    with torch.no_grad():\n",
    "        for imdbids, text_features, audio_features, video_features, targets in dataloader:\n",
    "            text_features, audio_features, video_features, targets = (\n",
    "                text_features.to(device),\n",
    "                audio_features.to(device),\n",
    "                video_features.to(device),\n",
    "                targets.to(device).view(-1)\n",
    "            )\n",
    "            \n",
    "            # Pass inputs through GMU model\n",
    "            outputs = model(text_features, audio_features, video_features)\n",
    "            outputs = outputs.view(outputs.size(0), -1)  # Shape will be [batch_size, 153600]\n",
    "            \n",
    "            # Pass the GMU outputs through the dense layer to get final predictions\n",
    "            predictions = dense_layer(outputs).view(-1)\n",
    "            \n",
    "            \n",
    "            # Compute loss\n",
    "            loss = criterion(predictions, targets)\n",
    "            total_loss += loss.item()\n",
    "\n",
    "            # # Apply sigmoid if BCELoss is not used\n",
    "            if not isBCELoss:\n",
    "                predictions = torch.sigmoid(predictions)\n",
    "\n",
    "            # Apply threshold to get binary predictions\n",
    "            binary_preds = (predictions >= threshold).float()\n",
    "            \n",
    "            # Store predictions and targets for confusion matrix\n",
    "            all_predictions.extend(predictions.cpu().numpy())\n",
    "            all_targets.extend(targets.cpu().numpy())\n",
    "            \n",
    "            # Store results\n",
    "            for i in range(len(imdbids)):\n",
    "                results.append({\n",
    "                    'IMDBid': imdbids[i],\n",
    "                    'Raw Prediction': predictions[i].item(),\n",
    "                    'Binary Prediction': binary_preds[i].item(),\n",
    "                    'Target': targets[i].item()\n",
    "                })\n",
    "            \n",
    "            # Update metrics\n",
    "            precision_metric.update(binary_preds.long(), targets.long())\n",
    "            recall_metric.update(binary_preds.long(), targets.long())\n",
    "            f1_metric.update(binary_preds.long(), targets.long())\n",
    "            accuracy_metric.update(binary_preds.long(), targets.long())\n",
    "            \n",
    "\n",
    "    # Compute average precision, recall, F1 score, and accuracy\n",
    "    test_precision = precision_metric.compute().item()\n",
    "    test_recall = recall_metric.compute().item()\n",
    "    test_f1_score = f1_metric.compute().item()\n",
    "    test_accuracy = accuracy_metric.compute().item() \n",
    "\n",
    "    test_average_loss = total_loss / len(dataloader)\n",
    "\n",
    "    # Calculate confusion matrix\n",
    "    test_conf_matrix = confusion_matrix(all_targets, np.round(all_predictions))\n",
    "\n",
    "    # Create DataFrame and save to CSV\n",
    "    results_df = pd.DataFrame(results)\n",
    "    output_filepath = os.path.join(output_dir, output_filename)\n",
    "    results_df.to_csv(output_filepath, index=False, header=True)\n",
    "\n",
    "\n",
    "    return test_average_loss, test_accuracy, test_precision, test_recall, test_f1_score, test_conf_matrix\n"
   ]
  },
  {
   "cell_type": "markdown",
   "metadata": {},
   "source": [
    "### Model Training"
   ]
  },
  {
   "cell_type": "code",
   "execution_count": 15,
   "metadata": {},
   "outputs": [],
   "source": [
    "def plot_confusion_matrix(conf_matrix, class_names=['Negative', 'Positive']):\n",
    "    plt.figure(figsize=(6, 5))\n",
    "    sns.heatmap(conf_matrix, annot=True, fmt=\"d\", cmap=\"Blues\", cbar=False,\n",
    "                xticklabels=class_names, yticklabels=class_names)\n",
    "    plt.xlabel('Predicted Labels')\n",
    "    plt.ylabel('True Labels')\n",
    "    plt.title('Confusion Matrix')\n",
    "    plt.show()"
   ]
  },
  {
   "cell_type": "code",
   "execution_count": 16,
   "metadata": {},
   "outputs": [],
   "source": [
    "# Function to plot training and validation loss\n",
    "def plot_losses(train_losses, val_losses):\n",
    "    plt.figure(figsize=(10, 5))\n",
    "    epochs = range(1, len(train_losses) + 1)  # Generate epoch numbers starting from 1\n",
    "    plt.plot(epochs, train_losses, label='Training Loss', color='#1f77b4', linestyle='-', marker='o')\n",
    "    plt.plot(epochs, val_losses, label='Validation Loss', color='#ff7f0e', linestyle='-', marker='x')\n",
    "    plt.title('Training and Validation Loss over Epochs')    \n",
    "    plt.xlabel('Epochs')\n",
    "    plt.ylabel('Loss')\n",
    "    plt.legend()\n",
    "    plt.grid()\n",
    "    plt.show()\n"
   ]
  },
  {
   "cell_type": "code",
   "execution_count": 17,
   "metadata": {},
   "outputs": [
    {
     "name": "stdout",
     "output_type": "stream",
     "text": [
      "Device: cuda\n",
      "----------------------------------------\n",
      "Epoch 1/10\n",
      "-------------------- Train --------------------\n",
      "Train Accuracy: 0.7346\n",
      "Train Precision: 0.2273\n",
      "Train Recall: 0.0214\n",
      "Train F1 Score: 0.0391\n",
      "Train Loss: 0.5976\n",
      "-------------------- Eval --------------------\n",
      "Eval Accuracy: 0.7487\n",
      "Eval Precision: 0.0000\n",
      "Eval Recall: 0.0000\n",
      "Eval F1 Score: 0.0000\n",
      "Eval Loss: 0.5561\n",
      "Learning Rate after Epoch 1: 0.00009000\n",
      "----------------------------------------\n",
      "Epoch 2/10\n",
      "-------------------- Train --------------------\n",
      "Train Accuracy: 0.7476\n",
      "Train Precision: 0.0000\n",
      "Train Recall: 0.0000\n",
      "Train F1 Score: 0.0000\n",
      "Train Loss: 0.5433\n",
      "-------------------- Eval --------------------\n",
      "Eval Accuracy: 0.7487\n",
      "Eval Precision: 0.0000\n",
      "Eval Recall: 0.0000\n",
      "Eval F1 Score: 0.0000\n",
      "Eval Loss: 0.5208\n",
      "Learning Rate after Epoch 2: 0.00008100\n",
      "----------------------------------------\n",
      "Epoch 3/10\n",
      "-------------------- Train --------------------\n",
      "Train Accuracy: 0.7487\n",
      "Train Precision: 1.0000\n",
      "Train Recall: 0.0043\n",
      "Train F1 Score: 0.0085\n",
      "Train Loss: 0.4950\n",
      "-------------------- Eval --------------------\n",
      "Eval Accuracy: 0.7588\n",
      "Eval Precision: 1.0000\n",
      "Eval Recall: 0.0400\n",
      "Eval F1 Score: 0.0769\n",
      "Eval Loss: 0.4373\n",
      "Learning Rate after Epoch 3: 0.00007290\n",
      "----------------------------------------\n",
      "Epoch 4/10\n",
      "-------------------- Train --------------------\n",
      "Train Accuracy: 0.8123\n",
      "Train Precision: 0.8571\n",
      "Train Recall: 0.3077\n",
      "Train F1 Score: 0.4528\n",
      "Train Loss: 0.4212\n",
      "-------------------- Eval --------------------\n",
      "Eval Accuracy: 0.8141\n",
      "Eval Precision: 0.8824\n",
      "Eval Recall: 0.3000\n",
      "Eval F1 Score: 0.4478\n",
      "Eval Loss: 0.4291\n",
      "Learning Rate after Epoch 4: 0.00006561\n",
      "----------------------------------------\n",
      "Epoch 5/10\n",
      "-------------------- Train --------------------\n",
      "Train Accuracy: 0.8630\n",
      "Train Precision: 0.8365\n",
      "Train Recall: 0.5684\n",
      "Train F1 Score: 0.6768\n",
      "Train Loss: 0.3709\n",
      "-------------------- Eval --------------------\n",
      "Eval Accuracy: 0.8342\n",
      "Eval Precision: 0.9048\n",
      "Eval Recall: 0.3800\n",
      "Eval F1 Score: 0.5352\n",
      "Eval Loss: 0.3839\n",
      "Learning Rate after Epoch 5: 0.00005905\n",
      "----------------------------------------\n",
      "Epoch 6/10\n",
      "-------------------- Train --------------------\n",
      "Train Accuracy: 0.8565\n",
      "Train Precision: 0.7563\n",
      "Train Recall: 0.6368\n",
      "Train F1 Score: 0.6914\n",
      "Train Loss: 0.3465\n",
      "-------------------- Eval --------------------\n",
      "Eval Accuracy: 0.8442\n",
      "Eval Precision: 0.7879\n",
      "Eval Recall: 0.5200\n",
      "Eval F1 Score: 0.6265\n",
      "Eval Loss: 0.3307\n",
      "Learning Rate after Epoch 6: 0.00005314\n",
      "----------------------------------------\n",
      "Epoch 7/10\n",
      "-------------------- Train --------------------\n",
      "Train Accuracy: 0.8954\n",
      "Train Precision: 0.8408\n",
      "Train Recall: 0.7222\n",
      "Train F1 Score: 0.7770\n",
      "Train Loss: 0.3022\n",
      "-------------------- Eval --------------------\n",
      "Eval Accuracy: 0.8543\n",
      "Eval Precision: 0.7234\n",
      "Eval Recall: 0.6800\n",
      "Eval F1 Score: 0.7010\n",
      "Eval Loss: 0.3072\n",
      "Learning Rate after Epoch 7: 0.00004783\n",
      "----------------------------------------\n",
      "Epoch 8/10\n",
      "-------------------- Train --------------------\n",
      "Train Accuracy: 0.9051\n",
      "Train Precision: 0.8578\n",
      "Train Recall: 0.7479\n",
      "Train F1 Score: 0.7991\n",
      "Train Loss: 0.2670\n",
      "-------------------- Eval --------------------\n",
      "Eval Accuracy: 0.8693\n",
      "Eval Precision: 0.7609\n",
      "Eval Recall: 0.7000\n",
      "Eval F1 Score: 0.7292\n",
      "Eval Loss: 0.2732\n",
      "Learning Rate after Epoch 8: 0.00004305\n",
      "----------------------------------------\n",
      "Epoch 9/10\n",
      "-------------------- Train --------------------\n",
      "Train Accuracy: 0.9051\n",
      "Train Precision: 0.8544\n",
      "Train Recall: 0.7521\n",
      "Train F1 Score: 0.8000\n",
      "Train Loss: 0.2461\n",
      "-------------------- Eval --------------------\n",
      "Eval Accuracy: 0.8794\n",
      "Eval Precision: 0.7407\n",
      "Eval Recall: 0.8000\n",
      "Eval F1 Score: 0.7692\n",
      "Eval Loss: 0.2749\n",
      "Learning Rate after Epoch 9: 0.00003874\n",
      "----------------------------------------\n",
      "Epoch 10/10\n",
      "-------------------- Train --------------------\n",
      "Train Accuracy: 0.9191\n",
      "Train Precision: 0.8698\n",
      "Train Recall: 0.7991\n",
      "Train F1 Score: 0.8330\n",
      "Train Loss: 0.2254\n",
      "-------------------- Eval --------------------\n",
      "Eval Accuracy: 0.8693\n",
      "Eval Precision: 0.7500\n",
      "Eval Recall: 0.7200\n",
      "Eval F1 Score: 0.7347\n",
      "Eval Loss: 0.2696\n",
      "Learning Rate after Epoch 10: 0.00003487\n",
      "----------------------------------------\n",
      "Testing the model on the test set...\n",
      "-------------------- Test --------------------\n",
      "Test Accuracy: 0.8442\n",
      "Test Precision: 0.6863\n",
      "Test Recall: 0.7000\n",
      "Test F1 Score: 0.6931\n",
      "Test Loss: 0.3423\n"
     ]
    }
   ],
   "source": [
    "if __name__ == \"__main__\":\n",
    "    set_seed(42)\n",
    "    \n",
    "    # Set device configuration\n",
    "    if device is None:\n",
    "        device = torch.device(\"cuda\" if torch.cuda.is_available() else \"cpu\")\n",
    "    print(f\"Device: {device}\")\n",
    "    \n",
    "    # Initialize the SMCA model A\n",
    "    model = GatedMultimodalUnit(text_dim=text_dim, audio_dim=audio_dim, video_dim=video_dim, output_dim=output_dim).to(device)\n",
    "\n",
    "    # Own DenseLayer or FinalClassifier\n",
    "    if isFinalClassifier:\n",
    "        dense_layer = FinalClassifier(output_dim).to(device) \n",
    "    else:\n",
    "        dense_layer = DenseLayer(output_dim).to(device)\n",
    "\n",
    "    optimizer = get_optimizer(list(model.parameters()) + list(dense_layer.parameters()), learning_rate)\n",
    "    \n",
    "    scheduler = ExponentialLR(optimizer, gamma=decay_rate)\n",
    "    \n",
    "    # Lists to store the training and validation losses\n",
    "    train_losses = []\n",
    "    val_losses = []\n",
    "\n",
    "    for epoch in range(num_epochs):\n",
    "        print(\"-\" * 40)\n",
    "        print(f\"Epoch {epoch + 1}/{num_epochs}\")\n",
    "\n",
    "        # Ensure you have a dataloader that yields inputs and targets\n",
    "        train_average_loss, train_accuracy, train_precision, train_recall, train_f1_score = train_model(model=model, dense_layer=dense_layer, dataloader=train_dataloader, criterion=criterion, optimizer=optimizer, device=device)\n",
    "        train_losses.append(train_average_loss)  # Store training loss\n",
    "\n",
    "        print(\"-\" * 20, \"Train\", \"-\" * 20)\n",
    "        print(f\"Train Accuracy: {train_accuracy:.4f}\")\n",
    "        print(f\"Train Precision: {train_precision:.4f}\")\n",
    "        print(f\"Train Recall: {train_recall:.4f}\")\n",
    "        print(f\"Train F1 Score: {train_f1_score:.4f}\")\n",
    "        print(f\"Train Loss: {train_average_loss:.4f}\")\n",
    "    \n",
    "        for name, param in model.named_parameters():\n",
    "            if param.grad is None:\n",
    "                print(\"After train: model:\", \"No gradient for:\", name)\n",
    "        \n",
    "        for name, param in dense_layer.named_parameters():\n",
    "            if param.grad is None:\n",
    "                print(\"After train: classifier:\", \"No gradient for:\", name)\n",
    "\n",
    "        # Validate step\n",
    "        val_average_loss, val_accuracy, val_precision, val_recall, val_f1_score, val_conf_matrix = evaluate_model(model=model, dense_layer=dense_layer, dataloader=val_dataloader, criterion=criterion, device=device)\n",
    "        val_losses.append(val_average_loss)  # Store validation loss\n",
    "        \n",
    "        print(\"-\" * 20, \"Eval\", \"-\" * 20)\n",
    "        print(f\"Eval Accuracy: {val_accuracy:.4f}\")\n",
    "        print(f\"Eval Precision: {val_precision:.4f}\")\n",
    "        print(f\"Eval Recall: {val_recall:.4f}\")\n",
    "        print(f\"Eval F1 Score: {val_f1_score:.4f}\")\n",
    "        print(f\"Eval Loss: {val_average_loss:.4f}\")\n",
    "        \n",
    "        # Update learning rate\n",
    "        scheduler.step()\n",
    "\n",
    "        # Log current learning rate\n",
    "        current_lr = scheduler.get_last_lr()[0]\n",
    "        print(f\"Learning Rate after Epoch {epoch + 1}: {current_lr:.8f}\")\n",
    "        \n",
    "    # Testing the model\n",
    "    print(\"-\" * 40)\n",
    "    print(\"Testing the model on the test set...\")\n",
    "    test_average_loss, test_accuracy, test_precision, test_recall, test_f1_score, test_conf_matrix = test_model(model=model, dense_layer=dense_layer, dataloader=test_dataloader, criterion=criterion, device=device)\n",
    "    \n",
    "    print(\"-\" * 20, \"Test\", \"-\" * 20)\n",
    "    print(f\"Test Accuracy: {test_accuracy:.4f}\")\n",
    "    print(f\"Test Precision: {test_precision:.4f}\")\n",
    "    print(f\"Test Recall: {test_recall:.4f}\")\n",
    "    print(f\"Test F1 Score: {test_f1_score:.4f}\")\n",
    "    print(f\"Test Loss: {test_average_loss:.4f}\")\n",
    "    \n",
    "    # Summary of metrics\n",
    "    metrics_summary = {\n",
    "        \"Train Accuracy\": [train_accuracy],\n",
    "        \"Validation Accuracy\": [val_accuracy],\n",
    "        \"Test Accuracy\": [test_accuracy],\n",
    "        \"Train Precision\": [train_precision],\n",
    "        \"Validation Precision\": [val_precision],\n",
    "        \"Test Precision\": [test_precision],\n",
    "        \"Train Recall\": [train_recall],\n",
    "        \"Validation Recall\": [val_recall],\n",
    "        \"Test Recall\": [test_recall],\n",
    "        \"Train F1 Score\": [train_f1_score],\n",
    "        \"Validation F1 Score\": [val_f1_score],\n",
    "        \"Test F1 Score\": [test_f1_score],\n",
    "        \"Train Loss\": [train_average_loss],\n",
    "        \"Validation Loss\": [val_average_loss],\n",
    "        \"Test Loss\": [test_average_loss]\n",
    "    }\n",
    "    \n",
    "    # Create DataFrame\n",
    "    metrics_df = pd.DataFrame(metrics_summary)"
   ]
  },
  {
   "cell_type": "markdown",
   "metadata": {},
   "source": [
    "### Results Monitoring"
   ]
  },
  {
   "cell_type": "code",
   "execution_count": 18,
   "metadata": {},
   "outputs": [
    {
     "data": {
      "image/png": "[encoded data removed]",
      "text/plain": [
       "<Figure size 1000x500 with 1 Axes>"
      ]
     },
     "metadata": {},
     "output_type": "display_data"
    }
   ],
   "source": [
    "plot_losses(train_losses, val_losses)"
   ]
  },
  {
   "cell_type": "code",
   "execution_count": 19,
   "metadata": {},
   "outputs": [
    {
     "data": {
      "image/png": "[encoded data removed]",
      "text/plain": [
       "<Figure size 600x500 with 1 Axes>"
      ]
     },
     "metadata": {},
     "output_type": "display_data"
    }
   ],
   "source": [
    "plot_confusion_matrix(test_conf_matrix)"
   ]
  },
  {
   "cell_type": "code",
   "execution_count": 20,
   "metadata": {},
   "outputs": [
    {
     "data": {
      "text/html": [
       "<div>\n",
       "<style scoped>\n",
       "    .dataframe tbody tr th:only-of-type {\n",
       "        vertical-align: middle;\n",
       "    }\n",
       "\n",
       "    .dataframe tbody tr th {\n",
       "        vertical-align: top;\n",
       "    }\n",
       "\n",
       "    .dataframe thead th {\n",
       "        text-align: right;\n",
       "    }\n",
       "</style>\n",
       "<table border=\"1\" class=\"dataframe\">\n",
       "  <thead>\n",
       "    <tr style=\"text-align: right;\">\n",
       "      <th></th>\n",
       "      <th>Train Accuracy</th>\n",
       "      <th>Validation Accuracy</th>\n",
       "      <th>Test Accuracy</th>\n",
       "      <th>Train Precision</th>\n",
       "      <th>Validation Precision</th>\n",
       "      <th>Test Precision</th>\n",
       "      <th>Train Recall</th>\n",
       "      <th>Validation Recall</th>\n",
       "      <th>Test Recall</th>\n",
       "      <th>Train F1 Score</th>\n",
       "      <th>Validation F1 Score</th>\n",
       "      <th>Test F1 Score</th>\n",
       "      <th>Train Loss</th>\n",
       "      <th>Validation Loss</th>\n",
       "      <th>Test Loss</th>\n",
       "    </tr>\n",
       "  </thead>\n",
       "  <tbody>\n",
       "    <tr>\n",
       "      <th>0</th>\n",
       "      <td>0.919094</td>\n",
       "      <td>0.869347</td>\n",
       "      <td>0.844221</td>\n",
       "      <td>0.869767</td>\n",
       "      <td>0.75</td>\n",
       "      <td>0.686275</td>\n",
       "      <td>0.799145</td>\n",
       "      <td>0.72</td>\n",
       "      <td>0.7</td>\n",
       "      <td>0.832962</td>\n",
       "      <td>0.734694</td>\n",
       "      <td>0.693069</td>\n",
       "      <td>0.225399</td>\n",
       "      <td>0.269635</td>\n",
       "      <td>0.342293</td>\n",
       "    </tr>\n",
       "  </tbody>\n",
       "</table>\n",
       "</div>"
      ],
      "text/plain": [
       "   Train Accuracy  Validation Accuracy  Test Accuracy  Train Precision  \\\n",
       "0        0.919094             0.869347       0.844221         0.869767   \n",
       "\n",
       "   Validation Precision  Test Precision  Train Recall  Validation Recall  \\\n",
       "0                  0.75        0.686275      0.799145               0.72   \n",
       "\n",
       "   Test Recall  Train F1 Score  Validation F1 Score  Test F1 Score  \\\n",
       "0          0.7        0.832962             0.734694       0.693069   \n",
       "\n",
       "   Train Loss  Validation Loss  Test Loss  \n",
       "0    0.225399         0.269635   0.342293  "
      ]
     },
     "execution_count": 20,
     "metadata": {},
     "output_type": "execute_result"
    }
   ],
   "source": [
    "# Display the table\n",
    "metrics_df"
   ]
  },
  {
   "cell_type": "markdown",
   "metadata": {},
   "source": [
    "### Cross-Validation"
   ]
  },
  {
   "cell_type": "code",
   "execution_count": 21,
   "metadata": {},
   "outputs": [],
   "source": [
    "def plot_average_loss_curves(train_losses_folds, val_losses_folds):\n",
    "    # Transpose folds to calculate averages and standard deviations per epoch\n",
    "    num_epochs = len(train_losses_folds[0])\n",
    "    \n",
    "    # Calculate average and standard deviation for training losses\n",
    "    avg_train_losses = [np.mean([fold[epoch] for fold in train_losses_folds]) for epoch in range(num_epochs)]\n",
    "    std_train_losses = [np.std([fold[epoch] for fold in train_losses_folds]) for epoch in range(num_epochs)]\n",
    "    \n",
    "    # Calculate average and standard deviation for validation losses\n",
    "    avg_val_losses = [np.mean([fold[epoch] for fold in val_losses_folds]) for epoch in range(num_epochs)]\n",
    "    std_val_losses = [np.std([fold[epoch] for fold in val_losses_folds]) for epoch in range(num_epochs)]\n",
    "    \n",
    "    # Define the epochs\n",
    "    epochs = range(1, num_epochs + 1)\n",
    "    \n",
    "    # Plotting\n",
    "    plt.figure(figsize=(12, 7))\n",
    "    \n",
    "    # Plot average training loss with markers and shaded standard deviation\n",
    "    plt.plot(epochs, avg_train_losses, label='Average Training Loss', color='#1f77b4', linewidth=2, marker='o')\n",
    "    plt.fill_between(epochs, \n",
    "                     np.array(avg_train_losses) - np.array(std_train_losses), \n",
    "                     np.array(avg_train_losses) + np.array(std_train_losses), \n",
    "                     color='#1f77b4', alpha=0.2)\n",
    "    \n",
    "    # Plot average validation loss with markers and shaded standard deviation\n",
    "    plt.plot(epochs, avg_val_losses, label='Average Validation Loss', color='#ff7f0e', linewidth=2, marker='o')\n",
    "    plt.fill_between(epochs, \n",
    "                     np.array(avg_val_losses) - np.array(std_val_losses), \n",
    "                     np.array(avg_val_losses) + np.array(std_val_losses), \n",
    "                     color='#ff7f0e', alpha=0.2)\n",
    "    \n",
    "    # Add titles and labels\n",
    "    plt.title('Average Training and Validation Loss Across Folds', fontsize=16, weight='bold')\n",
    "    plt.xlabel('Epochs', fontsize=14)\n",
    "    plt.ylabel('Loss', fontsize=14)\n",
    "    plt.xticks(fontsize=12)\n",
    "    plt.yticks(fontsize=12)\n",
    "    \n",
    "    # Highlight the minimum validation loss epoch\n",
    "    min_val_epoch = np.argmin(avg_val_losses) + 1\n",
    "    min_val_loss = avg_val_losses[min_val_epoch - 1]\n",
    "    plt.scatter(min_val_epoch, min_val_loss, color='red', zorder=5)\n",
    "    \n",
    "    # Dynamically position the annotation text slightly above the marker\n",
    "    text_offset = (max(avg_val_losses) - min(avg_val_losses)) * 0.05\n",
    "    plt.text(min_val_epoch, min_val_loss + text_offset, \n",
    "             f'Min Val Loss: {min_val_loss:.4f}', \n",
    "             color='black', fontsize=12, ha='center')\n",
    "    \n",
    "    # Add legend\n",
    "    plt.legend(fontsize=12, frameon=True, edgecolor='black')\n",
    "    \n",
    "    # Add grid\n",
    "    plt.grid(True, linestyle='--', alpha=0.5)\n",
    "    \n",
    "    # Show the plot\n",
    "    plt.tight_layout()\n",
    "    plt.show()\n"
   ]
  },
  {
   "cell_type": "code",
   "execution_count": 22,
   "metadata": {},
   "outputs": [],
   "source": [
    "def visualize_kfold_distribution(fold_data, num_folds):\n",
    "\n",
    "    training_color = \"#3399ff\"\n",
    "    testing_color = \"#ff9933\"  \n",
    "\n",
    "    plt.figure(figsize=(14, 7))\n",
    "    \n",
    "    for fold_idx, fold in enumerate(fold_data):\n",
    "        for sample_idx, val in enumerate(fold):\n",
    "            if val == 1:  \n",
    "                plt.barh(fold_idx, width=1, left=sample_idx, color=training_color)\n",
    "            elif val == -1:  \n",
    "                plt.barh(fold_idx, width=1, left=sample_idx, color=testing_color)\n",
    "\n",
    "    # Enhance plot aesthetics\n",
    "    plt.title(\"K-Fold Training and Testing Set Distribution\", fontsize=18, weight='bold', pad=20)\n",
    "    plt.xlabel(\"Data Index\", fontsize=14, labelpad=10)\n",
    "    plt.ylabel(\"Fold\", fontsize=14, labelpad=10)\n",
    "    plt.yticks(range(num_folds), [f\"Fold {i+1}\" for i in range(num_folds)], fontsize=12)\n",
    "    plt.xticks(fontsize=12)\n",
    "    plt.grid(axis='x', linestyle='--', alpha=0.4)\n",
    "    \n",
    "    # Create a custom legend\n",
    "    training_patch = mpatches.Patch(color=training_color, label='Training Set')\n",
    "    testing_patch = mpatches.Patch(color=testing_color, label='Testing Set')\n",
    "    plt.legend(handles=[training_patch, testing_patch], loc='upper right', fontsize=12, frameon=True, facecolor='white', edgecolor='black')\n",
    "    \n",
    "    plt.tight_layout()\n",
    "    plt.show()"
   ]
  },
  {
   "cell_type": "code",
   "execution_count": 23,
   "metadata": {},
   "outputs": [],
   "source": [
    "def print_cv_dataloader(dataloader, name=\"Dataloader\"):\n",
    "    total_samples = len(dataloader.sampler)\n",
    "    num_batches = len(dataloader)\n",
    "    print(f\"{name}: Total Samples = {total_samples}, Number of Batches = {num_batches}\")"
   ]
  },
  {
   "cell_type": "code",
   "execution_count": 24,
   "metadata": {},
   "outputs": [],
   "source": [
    "def cross_validate_model(\n",
    "    dataset, \n",
    "    model_class, \n",
    "    dense_layer_class, \n",
    "    num_folds, \n",
    "    num_epochs,\n",
    "    text_dim,\n",
    "    audio_dim,\n",
    "    video_dim,\n",
    "    output_dim,\n",
    "    criterion,\n",
    "    learning_rate,\n",
    "    train_batch_size,\n",
    "    val_batch_size,\n",
    "    output_file,\n",
    "    device=None\n",
    "):\n",
    "    \n",
    "    # Initialize the KFold splitter\n",
    "    kf = KFold(n_splits=num_folds, shuffle=True, random_state=42)\n",
    "\n",
    "    # lists to store metrics for each fold\n",
    "    fold_losses = []\n",
    "    fold_accuracies = []\n",
    "    fold_precisions = []\n",
    "    fold_recalls = []\n",
    "    fold_f1_scores = []\n",
    "    \n",
    "    # Lists to store metrics and losses for each fold\n",
    "    train_losses_folds = []  # List of lists: train_losses_folds[fold][epoch]\n",
    "    val_losses_folds = []    # List of lists: val_losses_folds[fold][epoch]\n",
    "    \n",
    "    # Visualization data structure\n",
    "    num_samples = len(dataset)\n",
    "    fold_data = np.zeros((num_folds, num_samples))  # Rows: folds, Columns: dataset samples\n",
    "       \n",
    "    # Perform K-Fold Cross-Validation\n",
    "    for fold, (train_idx, val_idx) in enumerate(kf.split(dataset)):\n",
    "        print(\"-\" * 60)\n",
    "        print(f\"------------------------- Fold {fold + 1 }/{num_folds} -------------------------\")\n",
    "        \n",
    "        # Set device configuration\n",
    "        if device is None:\n",
    "            device = torch.device(\"cuda\" if torch.cuda.is_available() else \"cpu\")\n",
    "        print(f\"Device: {device}\")\n",
    "        \n",
    "        set_seed(42)  # Set global seed at the start\n",
    "        \n",
    "        # Mark train and test samples for visualization\n",
    "        fold_data[fold, train_idx] = 1  # Training set\n",
    "        fold_data[fold, val_idx] = -1  # Testing set\n",
    "        \n",
    "        # Create data loaders for the train and validation sets\n",
    "        train_sampler = torch.utils.data.SubsetRandomSampler(train_idx)\n",
    "        val_sampler = torch.utils.data.SubsetRandomSampler(val_idx)\n",
    "        \n",
    "        train_dataloader = torch.utils.data.DataLoader(dataset, batch_size=train_batch_size, sampler=train_sampler, collate_fn=collate_fn)\n",
    "        val_dataloader = torch.utils.data.DataLoader(dataset, batch_size=val_batch_size, sampler=val_sampler, collate_fn=collate_fn)\n",
    "        \n",
    "        print_cv_dataloader(train_dataloader, \"Train DataLoader\")\n",
    "        print_cv_dataloader(val_dataloader, \"Validation DataLoader\")\n",
    "        \n",
    "        # Initialize the model, dense layer, criterion, and optimizer for each fold\n",
    "        model = model_class(text_dim=text_dim, audio_dim=audio_dim, video_dim=video_dim, output_dim=output_dim).to(device)\n",
    "        \n",
    "        dense_layer = dense_layer_class(output_dim).to(device)\n",
    "        \n",
    "        criterion = criterion.to(device)\n",
    "        \n",
    "        optimizer = get_optimizer(list(model.parameters()) + list(dense_layer.parameters()), learning_rate)\n",
    "        \n",
    "        scheduler = ExponentialLR(optimizer, gamma=decay_rate)\n",
    "\n",
    "        # Initialize lists to track losses for this fold\n",
    "        train_losses = []\n",
    "        val_losses = []\n",
    "        \n",
    "        # Use tqdm for progress bar\n",
    "        epoch_progress = tqdm(range(num_epochs), desc=f\"Fold {fold + 1}/{num_folds} Training\", leave=True)\n",
    "\n",
    "        # Training loop for each fold\n",
    "        for epoch in epoch_progress:\n",
    "            print(f\"------------------------- Epoch {epoch + 1}/{num_epochs} -------------------------\")\n",
    "            \n",
    "            # Train and evaluate the model on the training and validation sets\n",
    "            train_average_loss, train_accuracy, train_precision, train_recall, train_f1_score = train_model(model=model, dense_layer=dense_layer, dataloader=train_dataloader, criterion=criterion, optimizer=optimizer, device=device)\n",
    "            val_average_loss, val_accuracy, val_precision, val_recall, val_f1_score, val_conf_matrix = evaluate_model(model=model, dense_layer=dense_layer, dataloader=val_dataloader, criterion=criterion, device=device)\n",
    "            \n",
    "            # Track losses for this fold and epoch\n",
    "            train_losses.append(train_average_loss)\n",
    "            val_losses.append(val_average_loss)\n",
    "            \n",
    "            print(f\"\\nTrain Accuracy: {train_accuracy:.4f}\")\n",
    "            print(f\"Train Precision: {train_precision:.4f}\")\n",
    "            print(f\"Train Recall: {train_recall:.4f}\")\n",
    "            print(f\"Train F1 Score: {train_f1_score:.4f}\")\n",
    "            print(f\"Train Loss: {train_average_loss:.4f}\")\n",
    "            \n",
    "            print(f\"\\nEval Accuracy: {val_accuracy:.4f}\")\n",
    "            print(f\"Eval Precision: {val_precision:.4f}\")   \n",
    "            print(f\"Eval Recall: {val_recall:.4f}\")\n",
    "            print(f\"Eval F1 Score: {val_f1_score:.4f}\")\n",
    "            print(f\"Eval Loss: {val_average_loss:.4f}\")\n",
    "            \n",
    "            # Update learning rate\n",
    "            scheduler.step()\n",
    "\n",
    "            # Log current learning rate\n",
    "            current_lr = scheduler.get_last_lr()[0]\n",
    "            print(f\"Learning Rate after Epoch {epoch + 1}: {current_lr:.8f}\")\n",
    "            \n",
    "            # Update tqdm progress bar description\n",
    "            epoch_progress.set_postfix({\n",
    "                \"Train Loss\": f\"{train_average_loss:.4f}\",\n",
    "                \"Val Loss\": f\"{val_average_loss:.4f}\",\n",
    "                \"Train F1\": f\"{train_f1_score:.4f}\",\n",
    "                \"Val F1\": f\"{val_f1_score:.4f}\",\n",
    "            })\n",
    "        \n",
    "        # Store losses for the fold\n",
    "        train_losses_folds.append(train_losses)\n",
    "        val_losses_folds.append(val_losses)\n",
    "           \n",
    "        # Store the validation metrics for this fold\n",
    "        fold_losses.append(val_average_loss)\n",
    "        fold_accuracies.append(val_accuracy)\n",
    "        fold_precisions.append(val_precision)\n",
    "        fold_recalls.append(val_recall)\n",
    "        fold_f1_scores.append(val_f1_score)\n",
    "\n",
    "    # Calculate the average metrics across all folds\n",
    "    avg_loss = np.mean(fold_losses)\n",
    "    avg_accuracy = np.mean(fold_accuracies)\n",
    "    avg_precision = np.mean(fold_precisions)\n",
    "    avg_recall = np.mean(fold_recalls)\n",
    "    avg_f1_score = np.mean(fold_f1_scores)\n",
    "\n",
    "    print(\"-\" * 50)\n",
    "    print(\"\\nK-Fold Cross-Validation Results:\")\n",
    "    print(f\"Average Loss: {avg_loss:.4f}\")\n",
    "    print(f\"Average Accuracy: {avg_accuracy:.4f}\")\n",
    "    print(f\"Average Precision: {avg_precision:.4f}\")\n",
    "    print(f\"Average Recall: {avg_recall:.4f}\")\n",
    "    print(f\"Average F1 Score: {avg_f1_score:.4f}\")\n",
    "\n",
    "    results_dict = {\"Metrics\": [\"Loss\", \"Accuracy\", \"Precision\", \"Recall\", \"F1 Score\"]}\n",
    "    for i in range(num_folds):\n",
    "        results_dict[f\"Fold {i + 1}\"] = [fold_losses[i], fold_accuracies[i], fold_precisions[i], fold_recalls[i], fold_f1_scores[i]]\n",
    "    results_dict[\"Average\"] = [avg_loss, avg_accuracy, avg_precision, avg_recall, avg_f1_score]\n",
    "\n",
    "    # Create DataFrame\n",
    "    results_df = pd.DataFrame(results_dict)\n",
    "    \n",
    "    # Ensure the output directory exists\n",
    "    output_dir = os.path.dirname(output_file)\n",
    "    if output_dir and not os.path.exists(output_dir):\n",
    "        os.makedirs(output_dir)  \n",
    "        \n",
    "    # Save results to .csv\n",
    "    results_df.to_csv(output_file, index=False)\n",
    "    \n",
    "    return results_df, train_losses_folds, val_losses_folds, fold_data"
   ]
  },
  {
   "cell_type": "code",
   "execution_count": 25,
   "metadata": {},
   "outputs": [
    {
     "name": "stdout",
     "output_type": "stream",
     "text": [
      "------------------------------------------------------------\n",
      "------------------------- Fold 1/5 -------------------------\n",
      "Device: cuda\n",
      "Train DataLoader: Total Samples = 1060, Number of Batches = 34\n",
      "Validation DataLoader: Total Samples = 265, Number of Batches = 17\n"
     ]
    },
    {
     "name": "stderr",
     "output_type": "stream",
     "text": [
      "Fold 1/5 Training:   0%|          | 0/10 [00:00<?, ?it/s]"
     ]
    },
    {
     "name": "stdout",
     "output_type": "stream",
     "text": [
      "------------------------- Epoch 1/10 -------------------------\n"
     ]
    },
    {
     "name": "stderr",
     "output_type": "stream",
     "text": [
      "Fold 1/5 Training:  10%|█         | 1/10 [00:01<00:12,  1.34s/it, Train Loss=0.5669, Val Loss=0.5617, Train F1=0.0341, Val F1=0.0000]"
     ]
    },
    {
     "name": "stdout",
     "output_type": "stream",
     "text": [
      "\n",
      "Train Accuracy: 0.7330\n",
      "Train Precision: 0.1786\n",
      "Train Recall: 0.0189\n",
      "Train F1 Score: 0.0341\n",
      "Train Loss: 0.5669\n",
      "\n",
      "Eval Accuracy: 0.7396\n",
      "Eval Precision: 0.0000\n",
      "Eval Recall: 0.0000\n",
      "Eval F1 Score: 0.0000\n",
      "Eval Loss: 0.5617\n",
      "Learning Rate after Epoch 1: 0.00009000\n",
      "------------------------- Epoch 2/10 -------------------------\n"
     ]
    },
    {
     "name": "stderr",
     "output_type": "stream",
     "text": [
      "Fold 1/5 Training:  20%|██        | 2/10 [00:02<00:10,  1.35s/it, Train Loss=0.5194, Val Loss=0.5096, Train F1=0.0000, Val F1=0.0000]"
     ]
    },
    {
     "name": "stdout",
     "output_type": "stream",
     "text": [
      "\n",
      "Train Accuracy: 0.7500\n",
      "Train Precision: 0.0000\n",
      "Train Recall: 0.0000\n",
      "Train F1 Score: 0.0000\n",
      "Train Loss: 0.5194\n",
      "\n",
      "Eval Accuracy: 0.7396\n",
      "Eval Precision: 0.0000\n",
      "Eval Recall: 0.0000\n",
      "Eval F1 Score: 0.0000\n",
      "Eval Loss: 0.5096\n",
      "Learning Rate after Epoch 2: 0.00008100\n",
      "------------------------- Epoch 3/10 -------------------------\n"
     ]
    },
    {
     "name": "stderr",
     "output_type": "stream",
     "text": [
      "Fold 1/5 Training:  30%|███       | 3/10 [00:04<00:09,  1.36s/it, Train Loss=0.4301, Val Loss=0.4581, Train F1=0.2830, Val F1=0.3736]"
     ]
    },
    {
     "name": "stdout",
     "output_type": "stream",
     "text": [
      "\n",
      "Train Accuracy: 0.7896\n",
      "Train Precision: 0.9565\n",
      "Train Recall: 0.1660\n",
      "Train F1 Score: 0.2830\n",
      "Train Loss: 0.4301\n",
      "\n",
      "Eval Accuracy: 0.7849\n",
      "Eval Precision: 0.7727\n",
      "Eval Recall: 0.2464\n",
      "Eval F1 Score: 0.3736\n",
      "Eval Loss: 0.4581\n",
      "Learning Rate after Epoch 3: 0.00007290\n",
      "------------------------- Epoch 4/10 -------------------------\n"
     ]
    },
    {
     "name": "stderr",
     "output_type": "stream",
     "text": [
      "Fold 1/5 Training:  40%|████      | 4/10 [00:05<00:08,  1.36s/it, Train Loss=0.3625, Val Loss=0.4450, Train F1=0.6514, Val F1=0.6525]"
     ]
    },
    {
     "name": "stdout",
     "output_type": "stream",
     "text": [
      "\n",
      "Train Accuracy: 0.8566\n",
      "Train Precision: 0.8304\n",
      "Train Recall: 0.5358\n",
      "Train F1 Score: 0.6514\n",
      "Train Loss: 0.3625\n",
      "\n",
      "Eval Accuracy: 0.8151\n",
      "Eval Precision: 0.6389\n",
      "Eval Recall: 0.6667\n",
      "Eval F1 Score: 0.6525\n",
      "Eval Loss: 0.4450\n",
      "Learning Rate after Epoch 4: 0.00006561\n",
      "------------------------- Epoch 5/10 -------------------------\n"
     ]
    },
    {
     "name": "stderr",
     "output_type": "stream",
     "text": [
      "Fold 1/5 Training:  50%|█████     | 5/10 [00:06<00:06,  1.35s/it, Train Loss=0.3065, Val Loss=0.4378, Train F1=0.7250, Val F1=0.6625]"
     ]
    },
    {
     "name": "stdout",
     "output_type": "stream",
     "text": [
      "\n",
      "Train Accuracy: 0.8755\n",
      "Train Precision: 0.8093\n",
      "Train Recall: 0.6566\n",
      "Train F1 Score: 0.7250\n",
      "Train Loss: 0.3065\n",
      "\n",
      "Eval Accuracy: 0.7962\n",
      "Eval Precision: 0.5824\n",
      "Eval Recall: 0.7681\n",
      "Eval F1 Score: 0.6625\n",
      "Eval Loss: 0.4378\n",
      "Learning Rate after Epoch 5: 0.00005905\n",
      "------------------------- Epoch 6/10 -------------------------\n"
     ]
    },
    {
     "name": "stderr",
     "output_type": "stream",
     "text": [
      "Fold 1/5 Training:  60%|██████    | 6/10 [00:08<00:05,  1.32s/it, Train Loss=0.2811, Val Loss=0.4271, Train F1=0.7821, Val F1=0.5714]"
     ]
    },
    {
     "name": "stdout",
     "output_type": "stream",
     "text": [
      "\n",
      "Train Accuracy: 0.8943\n",
      "Train Precision: 0.8072\n",
      "Train Recall: 0.7585\n",
      "Train F1 Score: 0.7821\n",
      "Train Loss: 0.2811\n",
      "\n",
      "Eval Accuracy: 0.8189\n",
      "Eval Precision: 0.7442\n",
      "Eval Recall: 0.4638\n",
      "Eval F1 Score: 0.5714\n",
      "Eval Loss: 0.4271\n",
      "Learning Rate after Epoch 6: 0.00005314\n",
      "------------------------- Epoch 7/10 -------------------------\n"
     ]
    },
    {
     "name": "stderr",
     "output_type": "stream",
     "text": [
      "Fold 1/5 Training:  70%|███████   | 7/10 [00:09<00:04,  1.44s/it, Train Loss=0.2563, Val Loss=0.4160, Train F1=0.7807, Val F1=0.6000]"
     ]
    },
    {
     "name": "stdout",
     "output_type": "stream",
     "text": [
      "\n",
      "Train Accuracy: 0.8972\n",
      "Train Precision: 0.8362\n",
      "Train Recall: 0.7321\n",
      "Train F1 Score: 0.7807\n",
      "Train Loss: 0.2563\n",
      "\n",
      "Eval Accuracy: 0.8340\n",
      "Eval Precision: 0.8049\n",
      "Eval Recall: 0.4783\n",
      "Eval F1 Score: 0.6000\n",
      "Eval Loss: 0.4160\n",
      "Learning Rate after Epoch 7: 0.00004783\n",
      "------------------------- Epoch 8/10 -------------------------\n"
     ]
    },
    {
     "name": "stderr",
     "output_type": "stream",
     "text": [
      "Fold 1/5 Training:  80%|████████  | 8/10 [00:11<00:02,  1.42s/it, Train Loss=0.2319, Val Loss=0.3974, Train F1=0.8144, Val F1=0.6772]"
     ]
    },
    {
     "name": "stdout",
     "output_type": "stream",
     "text": [
      "\n",
      "Train Accuracy: 0.9123\n",
      "Train Precision: 0.8644\n",
      "Train Recall: 0.7698\n",
      "Train F1 Score: 0.8144\n",
      "Train Loss: 0.2319\n",
      "\n",
      "Eval Accuracy: 0.8453\n",
      "Eval Precision: 0.7414\n",
      "Eval Recall: 0.6232\n",
      "Eval F1 Score: 0.6772\n",
      "Eval Loss: 0.3974\n",
      "Learning Rate after Epoch 8: 0.00004305\n",
      "------------------------- Epoch 9/10 -------------------------\n"
     ]
    },
    {
     "name": "stderr",
     "output_type": "stream",
     "text": [
      "Fold 1/5 Training:  90%|█████████ | 9/10 [00:12<00:01,  1.40s/it, Train Loss=0.2122, Val Loss=0.3870, Train F1=0.8224, Val F1=0.6721]"
     ]
    },
    {
     "name": "stdout",
     "output_type": "stream",
     "text": [
      "\n",
      "Train Accuracy: 0.9160\n",
      "Train Precision: 0.8729\n",
      "Train Recall: 0.7774\n",
      "Train F1 Score: 0.8224\n",
      "Train Loss: 0.2122\n",
      "\n",
      "Eval Accuracy: 0.8491\n",
      "Eval Precision: 0.7736\n",
      "Eval Recall: 0.5942\n",
      "Eval F1 Score: 0.6721\n",
      "Eval Loss: 0.3870\n",
      "Learning Rate after Epoch 9: 0.00003874\n",
      "------------------------- Epoch 10/10 -------------------------\n"
     ]
    },
    {
     "name": "stderr",
     "output_type": "stream",
     "text": [
      "Fold 1/5 Training: 100%|██████████| 10/10 [00:13<00:00,  1.38s/it, Train Loss=0.1974, Val Loss=0.3908, Train F1=0.8713, Val F1=0.7067]\n"
     ]
    },
    {
     "name": "stdout",
     "output_type": "stream",
     "text": [
      "\n",
      "Train Accuracy: 0.9387\n",
      "Train Precision: 0.9167\n",
      "Train Recall: 0.8302\n",
      "Train F1 Score: 0.8713\n",
      "Train Loss: 0.1974\n",
      "\n",
      "Eval Accuracy: 0.8340\n",
      "Eval Precision: 0.6543\n",
      "Eval Recall: 0.7681\n",
      "Eval F1 Score: 0.7067\n",
      "Eval Loss: 0.3908\n",
      "Learning Rate after Epoch 10: 0.00003487\n",
      "------------------------------------------------------------\n",
      "------------------------- Fold 2/5 -------------------------\n",
      "Device: cuda\n",
      "Train DataLoader: Total Samples = 1060, Number of Batches = 34\n",
      "Validation DataLoader: Total Samples = 265, Number of Batches = 17\n"
     ]
    },
    {
     "name": "stderr",
     "output_type": "stream",
     "text": [
      "Fold 2/5 Training:   0%|          | 0/10 [00:00<?, ?it/s]"
     ]
    },
    {
     "name": "stdout",
     "output_type": "stream",
     "text": [
      "------------------------- Epoch 1/10 -------------------------\n"
     ]
    },
    {
     "name": "stderr",
     "output_type": "stream",
     "text": [
      "Fold 2/5 Training:  10%|█         | 1/10 [00:01<00:12,  1.39s/it, Train Loss=0.5659, Val Loss=0.5450, Train F1=0.0673, Val F1=0.0000]"
     ]
    },
    {
     "name": "stdout",
     "output_type": "stream",
     "text": [
      "\n",
      "Train Accuracy: 0.7387\n",
      "Train Precision: 0.3704\n",
      "Train Recall: 0.0370\n",
      "Train F1 Score: 0.0673\n",
      "Train Loss: 0.5659\n",
      "\n",
      "Eval Accuracy: 0.7585\n",
      "Eval Precision: 0.0000\n",
      "Eval Recall: 0.0000\n",
      "Eval F1 Score: 0.0000\n",
      "Eval Loss: 0.5450\n",
      "Learning Rate after Epoch 1: 0.00009000\n",
      "------------------------- Epoch 2/10 -------------------------\n"
     ]
    },
    {
     "name": "stderr",
     "output_type": "stream",
     "text": [
      "Fold 2/5 Training:  20%|██        | 2/10 [00:03<00:12,  1.52s/it, Train Loss=0.5137, Val Loss=0.4924, Train F1=0.0000, Val F1=0.0000]"
     ]
    },
    {
     "name": "stdout",
     "output_type": "stream",
     "text": [
      "\n",
      "Train Accuracy: 0.7453\n",
      "Train Precision: 0.0000\n",
      "Train Recall: 0.0000\n",
      "Train F1 Score: 0.0000\n",
      "Train Loss: 0.5137\n",
      "\n",
      "Eval Accuracy: 0.7585\n",
      "Eval Precision: 0.0000\n",
      "Eval Recall: 0.0000\n",
      "Eval F1 Score: 0.0000\n",
      "Eval Loss: 0.4924\n",
      "Learning Rate after Epoch 2: 0.00008100\n",
      "------------------------- Epoch 3/10 -------------------------\n"
     ]
    },
    {
     "name": "stderr",
     "output_type": "stream",
     "text": [
      "Fold 2/5 Training:  30%|███       | 3/10 [00:04<00:10,  1.43s/it, Train Loss=0.4277, Val Loss=0.4364, Train F1=0.3522, Val F1=0.4694]"
     ]
    },
    {
     "name": "stdout",
     "output_type": "stream",
     "text": [
      "\n",
      "Train Accuracy: 0.7953\n",
      "Train Precision: 0.9077\n",
      "Train Recall: 0.2185\n",
      "Train F1 Score: 0.3522\n",
      "Train Loss: 0.4277\n",
      "\n",
      "Eval Accuracy: 0.8038\n",
      "Eval Precision: 0.6765\n",
      "Eval Recall: 0.3594\n",
      "Eval F1 Score: 0.4694\n",
      "Eval Loss: 0.4364\n",
      "Learning Rate after Epoch 3: 0.00007290\n",
      "------------------------- Epoch 4/10 -------------------------\n"
     ]
    },
    {
     "name": "stderr",
     "output_type": "stream",
     "text": [
      "Fold 2/5 Training:  40%|████      | 4/10 [00:05<00:08,  1.35s/it, Train Loss=0.3531, Val Loss=0.4220, Train F1=0.6989, Val F1=0.5333]"
     ]
    },
    {
     "name": "stdout",
     "output_type": "stream",
     "text": [
      "\n",
      "Train Accuracy: 0.8651\n",
      "Train Precision: 0.8098\n",
      "Train Recall: 0.6148\n",
      "Train F1 Score: 0.6989\n",
      "Train Loss: 0.3531\n",
      "\n",
      "Eval Accuracy: 0.8151\n",
      "Eval Precision: 0.6829\n",
      "Eval Recall: 0.4375\n",
      "Eval F1 Score: 0.5333\n",
      "Eval Loss: 0.4220\n",
      "Learning Rate after Epoch 4: 0.00006561\n",
      "------------------------- Epoch 5/10 -------------------------\n"
     ]
    },
    {
     "name": "stderr",
     "output_type": "stream",
     "text": [
      "Fold 2/5 Training:  50%|█████     | 5/10 [00:06<00:06,  1.31s/it, Train Loss=0.3056, Val Loss=0.4082, Train F1=0.7480, Val F1=0.5738]"
     ]
    },
    {
     "name": "stdout",
     "output_type": "stream",
     "text": [
      "\n",
      "Train Accuracy: 0.8811\n",
      "Train Precision: 0.8130\n",
      "Train Recall: 0.6926\n",
      "Train F1 Score: 0.7480\n",
      "Train Loss: 0.3056\n",
      "\n",
      "Eval Accuracy: 0.8038\n",
      "Eval Precision: 0.6034\n",
      "Eval Recall: 0.5469\n",
      "Eval F1 Score: 0.5738\n",
      "Eval Loss: 0.4082\n",
      "Learning Rate after Epoch 5: 0.00005905\n",
      "------------------------- Epoch 6/10 -------------------------\n"
     ]
    },
    {
     "name": "stderr",
     "output_type": "stream",
     "text": [
      "Fold 2/5 Training:  60%|██████    | 6/10 [00:08<00:05,  1.31s/it, Train Loss=0.2585, Val Loss=0.4037, Train F1=0.8177, Val F1=0.5946]"
     ]
    },
    {
     "name": "stdout",
     "output_type": "stream",
     "text": [
      "\n",
      "Train Accuracy: 0.9104\n",
      "Train Precision: 0.8486\n",
      "Train Recall: 0.7889\n",
      "Train F1 Score: 0.8177\n",
      "Train Loss: 0.2585\n",
      "\n",
      "Eval Accuracy: 0.8302\n",
      "Eval Precision: 0.7021\n",
      "Eval Recall: 0.5156\n",
      "Eval F1 Score: 0.5946\n",
      "Eval Loss: 0.4037\n",
      "Learning Rate after Epoch 6: 0.00005314\n",
      "------------------------- Epoch 7/10 -------------------------\n"
     ]
    },
    {
     "name": "stderr",
     "output_type": "stream",
     "text": [
      "Fold 2/5 Training:  70%|███████   | 7/10 [00:09<00:03,  1.32s/it, Train Loss=0.2383, Val Loss=0.4082, Train F1=0.8016, Val F1=0.5882]"
     ]
    },
    {
     "name": "stdout",
     "output_type": "stream",
     "text": [
      "\n",
      "Train Accuracy: 0.9057\n",
      "Train Precision: 0.8632\n",
      "Train Recall: 0.7481\n",
      "Train F1 Score: 0.8016\n",
      "Train Loss: 0.2383\n",
      "\n",
      "Eval Accuracy: 0.8415\n",
      "Eval Precision: 0.7895\n",
      "Eval Recall: 0.4688\n",
      "Eval F1 Score: 0.5882\n",
      "Eval Loss: 0.4082\n",
      "Learning Rate after Epoch 7: 0.00004783\n",
      "------------------------- Epoch 8/10 -------------------------\n"
     ]
    },
    {
     "name": "stderr",
     "output_type": "stream",
     "text": [
      "Fold 2/5 Training:  80%|████████  | 8/10 [00:10<00:02,  1.30s/it, Train Loss=0.1969, Val Loss=0.4125, Train F1=0.8533, Val F1=0.6176]"
     ]
    },
    {
     "name": "stdout",
     "output_type": "stream",
     "text": [
      "\n",
      "Train Accuracy: 0.9283\n",
      "Train Precision: 0.8911\n",
      "Train Recall: 0.8185\n",
      "Train F1 Score: 0.8533\n",
      "Train Loss: 0.1969\n",
      "\n",
      "Eval Accuracy: 0.8038\n",
      "Eval Precision: 0.5833\n",
      "Eval Recall: 0.6562\n",
      "Eval F1 Score: 0.6176\n",
      "Eval Loss: 0.4125\n",
      "Learning Rate after Epoch 8: 0.00004305\n",
      "------------------------- Epoch 9/10 -------------------------\n"
     ]
    },
    {
     "name": "stderr",
     "output_type": "stream",
     "text": [
      "Fold 2/5 Training:  90%|█████████ | 9/10 [00:12<00:01,  1.35s/it, Train Loss=0.1868, Val Loss=0.4066, Train F1=0.8609, Val F1=0.6504]"
     ]
    },
    {
     "name": "stdout",
     "output_type": "stream",
     "text": [
      "\n",
      "Train Accuracy: 0.9302\n",
      "Train Precision: 0.8740\n",
      "Train Recall: 0.8481\n",
      "Train F1 Score: 0.8609\n",
      "Train Loss: 0.1868\n",
      "\n",
      "Eval Accuracy: 0.8377\n",
      "Eval Precision: 0.6780\n",
      "Eval Recall: 0.6250\n",
      "Eval F1 Score: 0.6504\n",
      "Eval Loss: 0.4066\n",
      "Learning Rate after Epoch 9: 0.00003874\n",
      "------------------------- Epoch 10/10 -------------------------\n"
     ]
    },
    {
     "name": "stderr",
     "output_type": "stream",
     "text": [
      "Fold 2/5 Training: 100%|██████████| 10/10 [00:13<00:00,  1.36s/it, Train Loss=0.1704, Val Loss=0.4383, Train F1=0.8795, Val F1=0.6331]\n"
     ]
    },
    {
     "name": "stdout",
     "output_type": "stream",
     "text": [
      "\n",
      "Train Accuracy: 0.9406\n",
      "Train Precision: 0.9091\n",
      "Train Recall: 0.8519\n",
      "Train F1 Score: 0.8795\n",
      "Train Loss: 0.1704\n",
      "\n",
      "Eval Accuracy: 0.8075\n",
      "Eval Precision: 0.5867\n",
      "Eval Recall: 0.6875\n",
      "Eval F1 Score: 0.6331\n",
      "Eval Loss: 0.4383\n",
      "Learning Rate after Epoch 10: 0.00003487\n",
      "------------------------------------------------------------\n",
      "------------------------- Fold 3/5 -------------------------\n",
      "Device: cuda\n",
      "Train DataLoader: Total Samples = 1060, Number of Batches = 34\n",
      "Validation DataLoader: Total Samples = 265, Number of Batches = 17\n"
     ]
    },
    {
     "name": "stderr",
     "output_type": "stream",
     "text": [
      "Fold 3/5 Training:   0%|          | 0/10 [00:00<?, ?it/s]"
     ]
    },
    {
     "name": "stdout",
     "output_type": "stream",
     "text": [
      "------------------------- Epoch 1/10 -------------------------\n"
     ]
    },
    {
     "name": "stderr",
     "output_type": "stream",
     "text": [
      "Fold 3/5 Training:  10%|█         | 1/10 [00:01<00:12,  1.34s/it, Train Loss=0.5734, Val Loss=0.5702, Train F1=0.0283, Val F1=0.0000]"
     ]
    },
    {
     "name": "stdout",
     "output_type": "stream",
     "text": [
      "\n",
      "Train Accuracy: 0.7406\n",
      "Train Precision: 0.1600\n",
      "Train Recall: 0.0155\n",
      "Train F1 Score: 0.0283\n",
      "Train Loss: 0.5734\n",
      "\n",
      "Eval Accuracy: 0.7132\n",
      "Eval Precision: 0.0000\n",
      "Eval Recall: 0.0000\n",
      "Eval F1 Score: 0.0000\n",
      "Eval Loss: 0.5702\n",
      "Learning Rate after Epoch 1: 0.00009000\n",
      "------------------------- Epoch 2/10 -------------------------\n"
     ]
    },
    {
     "name": "stderr",
     "output_type": "stream",
     "text": [
      "Fold 3/5 Training:  20%|██        | 2/10 [00:02<00:10,  1.28s/it, Train Loss=0.5279, Val Loss=0.5369, Train F1=0.0000, Val F1=0.0000]"
     ]
    },
    {
     "name": "stdout",
     "output_type": "stream",
     "text": [
      "\n",
      "Train Accuracy: 0.7566\n",
      "Train Precision: 0.0000\n",
      "Train Recall: 0.0000\n",
      "Train F1 Score: 0.0000\n",
      "Train Loss: 0.5279\n",
      "\n",
      "Eval Accuracy: 0.7132\n",
      "Eval Precision: 0.0000\n",
      "Eval Recall: 0.0000\n",
      "Eval F1 Score: 0.0000\n",
      "Eval Loss: 0.5369\n",
      "Learning Rate after Epoch 2: 0.00008100\n",
      "------------------------- Epoch 3/10 -------------------------\n"
     ]
    },
    {
     "name": "stderr",
     "output_type": "stream",
     "text": [
      "Fold 3/5 Training:  30%|███       | 3/10 [00:03<00:09,  1.31s/it, Train Loss=0.4813, Val Loss=0.4429, Train F1=0.0077, Val F1=0.3918]"
     ]
    },
    {
     "name": "stdout",
     "output_type": "stream",
     "text": [
      "\n",
      "Train Accuracy: 0.7575\n",
      "Train Precision: 1.0000\n",
      "Train Recall: 0.0039\n",
      "Train F1 Score: 0.0077\n",
      "Train Loss: 0.4813\n",
      "\n",
      "Eval Accuracy: 0.7774\n",
      "Eval Precision: 0.9048\n",
      "Eval Recall: 0.2500\n",
      "Eval F1 Score: 0.3918\n",
      "Eval Loss: 0.4429\n",
      "Learning Rate after Epoch 3: 0.00007290\n",
      "------------------------- Epoch 4/10 -------------------------\n"
     ]
    },
    {
     "name": "stderr",
     "output_type": "stream",
     "text": [
      "Fold 3/5 Training:  40%|████      | 4/10 [00:05<00:08,  1.36s/it, Train Loss=0.4084, Val Loss=0.3822, Train F1=0.5326, Val F1=0.6610]"
     ]
    },
    {
     "name": "stdout",
     "output_type": "stream",
     "text": [
      "\n",
      "Train Accuracy: 0.8311\n",
      "Train Precision: 0.8160\n",
      "Train Recall: 0.3953\n",
      "Train F1 Score: 0.5326\n",
      "Train Loss: 0.4084\n",
      "\n",
      "Eval Accuracy: 0.8491\n",
      "Eval Precision: 0.9286\n",
      "Eval Recall: 0.5132\n",
      "Eval F1 Score: 0.6610\n",
      "Eval Loss: 0.3822\n",
      "Learning Rate after Epoch 4: 0.00006561\n",
      "------------------------- Epoch 5/10 -------------------------\n"
     ]
    },
    {
     "name": "stderr",
     "output_type": "stream",
     "text": [
      "Fold 3/5 Training:  50%|█████     | 5/10 [00:06<00:06,  1.38s/it, Train Loss=0.3485, Val Loss=0.3414, Train F1=0.6544, Val F1=0.7482]"
     ]
    },
    {
     "name": "stdout",
     "output_type": "stream",
     "text": [
      "\n",
      "Train Accuracy: 0.8585\n",
      "Train Precision: 0.8068\n",
      "Train Recall: 0.5504\n",
      "Train F1 Score: 0.6544\n",
      "Train Loss: 0.3485\n",
      "\n",
      "Eval Accuracy: 0.8679\n",
      "Eval Precision: 0.8254\n",
      "Eval Recall: 0.6842\n",
      "Eval F1 Score: 0.7482\n",
      "Eval Loss: 0.3414\n",
      "Learning Rate after Epoch 5: 0.00005905\n",
      "------------------------- Epoch 6/10 -------------------------\n"
     ]
    },
    {
     "name": "stderr",
     "output_type": "stream",
     "text": [
      "Fold 3/5 Training:  60%|██████    | 6/10 [00:08<00:05,  1.41s/it, Train Loss=0.3202, Val Loss=0.3310, Train F1=0.7158, Val F1=0.7632]"
     ]
    },
    {
     "name": "stdout",
     "output_type": "stream",
     "text": [
      "\n",
      "Train Accuracy: 0.8764\n",
      "Train Precision: 0.8128\n",
      "Train Recall: 0.6395\n",
      "Train F1 Score: 0.7158\n",
      "Train Loss: 0.3202\n",
      "\n",
      "Eval Accuracy: 0.8642\n",
      "Eval Precision: 0.7632\n",
      "Eval Recall: 0.7632\n",
      "Eval F1 Score: 0.7632\n",
      "Eval Loss: 0.3310\n",
      "Learning Rate after Epoch 6: 0.00005314\n",
      "------------------------- Epoch 7/10 -------------------------\n"
     ]
    },
    {
     "name": "stderr",
     "output_type": "stream",
     "text": [
      "Fold 3/5 Training:  70%|███████   | 7/10 [00:09<00:04,  1.40s/it, Train Loss=0.2707, Val Loss=0.3247, Train F1=0.7531, Val F1=0.7481]"
     ]
    },
    {
     "name": "stdout",
     "output_type": "stream",
     "text": [
      "\n",
      "Train Accuracy: 0.8868\n",
      "Train Precision: 0.8026\n",
      "Train Recall: 0.7093\n",
      "Train F1 Score: 0.7531\n",
      "Train Loss: 0.2707\n",
      "\n",
      "Eval Accuracy: 0.8755\n",
      "Eval Precision: 0.8909\n",
      "Eval Recall: 0.6447\n",
      "Eval F1 Score: 0.7481\n",
      "Eval Loss: 0.3247\n",
      "Learning Rate after Epoch 7: 0.00004783\n",
      "------------------------- Epoch 8/10 -------------------------\n"
     ]
    },
    {
     "name": "stderr",
     "output_type": "stream",
     "text": [
      "Fold 3/5 Training:  80%|████████  | 8/10 [00:10<00:02,  1.36s/it, Train Loss=0.2652, Val Loss=0.2906, Train F1=0.8008, Val F1=0.7733]"
     ]
    },
    {
     "name": "stdout",
     "output_type": "stream",
     "text": [
      "\n",
      "Train Accuracy: 0.9085\n",
      "Train Precision: 0.8515\n",
      "Train Recall: 0.7558\n",
      "Train F1 Score: 0.8008\n",
      "Train Loss: 0.2652\n",
      "\n",
      "Eval Accuracy: 0.8717\n",
      "Eval Precision: 0.7838\n",
      "Eval Recall: 0.7632\n",
      "Eval F1 Score: 0.7733\n",
      "Eval Loss: 0.2906\n",
      "Learning Rate after Epoch 8: 0.00004305\n",
      "------------------------- Epoch 9/10 -------------------------\n"
     ]
    },
    {
     "name": "stderr",
     "output_type": "stream",
     "text": [
      "Fold 3/5 Training:  90%|█████████ | 9/10 [00:12<00:01,  1.32s/it, Train Loss=0.2161, Val Loss=0.2985, Train F1=0.8320, Val F1=0.7883]"
     ]
    },
    {
     "name": "stdout",
     "output_type": "stream",
     "text": [
      "\n",
      "Train Accuracy: 0.9226\n",
      "Train Precision: 0.8826\n",
      "Train Recall: 0.7868\n",
      "Train F1 Score: 0.8320\n",
      "Train Loss: 0.2161\n",
      "\n",
      "Eval Accuracy: 0.8906\n",
      "Eval Precision: 0.8852\n",
      "Eval Recall: 0.7105\n",
      "Eval F1 Score: 0.7883\n",
      "Eval Loss: 0.2985\n",
      "Learning Rate after Epoch 9: 0.00003874\n",
      "------------------------- Epoch 10/10 -------------------------\n"
     ]
    },
    {
     "name": "stderr",
     "output_type": "stream",
     "text": [
      "Fold 3/5 Training: 100%|██████████| 10/10 [00:13<00:00,  1.35s/it, Train Loss=0.2058, Val Loss=0.2829, Train F1=0.8507, Val F1=0.7887]\n"
     ]
    },
    {
     "name": "stdout",
     "output_type": "stream",
     "text": [
      "\n",
      "Train Accuracy: 0.9311\n",
      "Train Precision: 0.9004\n",
      "Train Recall: 0.8062\n",
      "Train F1 Score: 0.8507\n",
      "Train Loss: 0.2058\n",
      "\n",
      "Eval Accuracy: 0.8868\n",
      "Eval Precision: 0.8485\n",
      "Eval Recall: 0.7368\n",
      "Eval F1 Score: 0.7887\n",
      "Eval Loss: 0.2829\n",
      "Learning Rate after Epoch 10: 0.00003487\n",
      "------------------------------------------------------------\n",
      "------------------------- Fold 4/5 -------------------------\n",
      "Device: cuda\n",
      "Train DataLoader: Total Samples = 1060, Number of Batches = 34\n",
      "Validation DataLoader: Total Samples = 265, Number of Batches = 17\n"
     ]
    },
    {
     "name": "stderr",
     "output_type": "stream",
     "text": [
      "Fold 4/5 Training:   0%|          | 0/10 [00:00<?, ?it/s]"
     ]
    },
    {
     "name": "stdout",
     "output_type": "stream",
     "text": [
      "------------------------- Epoch 1/10 -------------------------\n"
     ]
    },
    {
     "name": "stderr",
     "output_type": "stream",
     "text": [
      "Fold 4/5 Training:  10%|█         | 1/10 [00:01<00:13,  1.46s/it, Train Loss=0.5869, Val Loss=0.5231, Train F1=0.0271, Val F1=0.0000]"
     ]
    },
    {
     "name": "stdout",
     "output_type": "stream",
     "text": [
      "\n",
      "Train Accuracy: 0.7292\n",
      "Train Precision: 0.1739\n",
      "Train Recall: 0.0147\n",
      "Train F1 Score: 0.0271\n",
      "Train Loss: 0.5869\n",
      "\n",
      "Eval Accuracy: 0.7660\n",
      "Eval Precision: 0.0000\n",
      "Eval Recall: 0.0000\n",
      "Eval F1 Score: 0.0000\n",
      "Eval Loss: 0.5231\n",
      "Learning Rate after Epoch 1: 0.00009000\n",
      "------------------------- Epoch 2/10 -------------------------\n"
     ]
    },
    {
     "name": "stderr",
     "output_type": "stream",
     "text": [
      "Fold 4/5 Training:  20%|██        | 2/10 [00:02<00:11,  1.45s/it, Train Loss=0.5446, Val Loss=0.4950, Train F1=0.0000, Val F1=0.0000]"
     ]
    },
    {
     "name": "stdout",
     "output_type": "stream",
     "text": [
      "\n",
      "Train Accuracy: 0.7434\n",
      "Train Precision: 0.0000\n",
      "Train Recall: 0.0000\n",
      "Train F1 Score: 0.0000\n",
      "Train Loss: 0.5446\n",
      "\n",
      "Eval Accuracy: 0.7660\n",
      "Eval Precision: 0.0000\n",
      "Eval Recall: 0.0000\n",
      "Eval F1 Score: 0.0000\n",
      "Eval Loss: 0.4950\n",
      "Learning Rate after Epoch 2: 0.00008100\n",
      "------------------------- Epoch 3/10 -------------------------\n"
     ]
    },
    {
     "name": "stderr",
     "output_type": "stream",
     "text": [
      "Fold 4/5 Training:  30%|███       | 3/10 [00:04<00:10,  1.47s/it, Train Loss=0.4839, Val Loss=0.4273, Train F1=0.0430, Val F1=0.2286]"
     ]
    },
    {
     "name": "stdout",
     "output_type": "stream",
     "text": [
      "\n",
      "Train Accuracy: 0.7481\n",
      "Train Precision: 0.8571\n",
      "Train Recall: 0.0221\n",
      "Train F1 Score: 0.0430\n",
      "Train Loss: 0.4839\n",
      "\n",
      "Eval Accuracy: 0.7962\n",
      "Eval Precision: 1.0000\n",
      "Eval Recall: 0.1290\n",
      "Eval F1 Score: 0.2286\n",
      "Eval Loss: 0.4273\n",
      "Learning Rate after Epoch 3: 0.00007290\n",
      "------------------------- Epoch 4/10 -------------------------\n"
     ]
    },
    {
     "name": "stderr",
     "output_type": "stream",
     "text": [
      "Fold 4/5 Training:  40%|████      | 4/10 [00:05<00:08,  1.46s/it, Train Loss=0.4187, Val Loss=0.3674, Train F1=0.4368, Val F1=0.4390]"
     ]
    },
    {
     "name": "stdout",
     "output_type": "stream",
     "text": [
      "\n",
      "Train Accuracy: 0.7981\n",
      "Train Precision: 0.7685\n",
      "Train Recall: 0.3051\n",
      "Train F1 Score: 0.4368\n",
      "Train Loss: 0.4187\n",
      "\n",
      "Eval Accuracy: 0.8264\n",
      "Eval Precision: 0.9000\n",
      "Eval Recall: 0.2903\n",
      "Eval F1 Score: 0.4390\n",
      "Eval Loss: 0.3674\n",
      "Learning Rate after Epoch 4: 0.00006561\n",
      "------------------------- Epoch 5/10 -------------------------\n"
     ]
    },
    {
     "name": "stderr",
     "output_type": "stream",
     "text": [
      "Fold 4/5 Training:  50%|█████     | 5/10 [00:07<00:07,  1.44s/it, Train Loss=0.3536, Val Loss=0.3247, Train F1=0.6781, Val F1=0.7480]"
     ]
    },
    {
     "name": "stdout",
     "output_type": "stream",
     "text": [
      "\n",
      "Train Accuracy: 0.8585\n",
      "Train Precision: 0.8144\n",
      "Train Recall: 0.5809\n",
      "Train F1 Score: 0.6781\n",
      "Train Loss: 0.3536\n",
      "\n",
      "Eval Accuracy: 0.8830\n",
      "Eval Precision: 0.7541\n",
      "Eval Recall: 0.7419\n",
      "Eval F1 Score: 0.7480\n",
      "Eval Loss: 0.3247\n",
      "Learning Rate after Epoch 5: 0.00005905\n",
      "------------------------- Epoch 6/10 -------------------------\n"
     ]
    },
    {
     "name": "stderr",
     "output_type": "stream",
     "text": [
      "Fold 4/5 Training:  60%|██████    | 6/10 [00:09<00:06,  1.63s/it, Train Loss=0.3207, Val Loss=0.2916, Train F1=0.7480, Val F1=0.7288]"
     ]
    },
    {
     "name": "stdout",
     "output_type": "stream",
     "text": [
      "\n",
      "Train Accuracy: 0.8792\n",
      "Train Precision: 0.8051\n",
      "Train Recall: 0.6985\n",
      "Train F1 Score: 0.7480\n",
      "Train Loss: 0.3207\n",
      "\n",
      "Eval Accuracy: 0.8792\n",
      "Eval Precision: 0.7679\n",
      "Eval Recall: 0.6935\n",
      "Eval F1 Score: 0.7288\n",
      "Eval Loss: 0.2916\n",
      "Learning Rate after Epoch 6: 0.00005314\n",
      "------------------------- Epoch 7/10 -------------------------\n"
     ]
    },
    {
     "name": "stderr",
     "output_type": "stream",
     "text": [
      "Fold 4/5 Training:  70%|███████   | 7/10 [00:10<00:04,  1.60s/it, Train Loss=0.2739, Val Loss=0.2689, Train F1=0.7892, Val F1=0.7273]"
     ]
    },
    {
     "name": "stdout",
     "output_type": "stream",
     "text": [
      "\n",
      "Train Accuracy: 0.8972\n",
      "Train Precision: 0.8327\n",
      "Train Recall: 0.7500\n",
      "Train F1 Score: 0.7892\n",
      "Train Loss: 0.2739\n",
      "\n",
      "Eval Accuracy: 0.8755\n",
      "Eval Precision: 0.7458\n",
      "Eval Recall: 0.7097\n",
      "Eval F1 Score: 0.7273\n",
      "Eval Loss: 0.2689\n",
      "Learning Rate after Epoch 7: 0.00004783\n",
      "------------------------- Epoch 8/10 -------------------------\n"
     ]
    },
    {
     "name": "stderr",
     "output_type": "stream",
     "text": [
      "Fold 4/5 Training:  80%|████████  | 8/10 [00:12<00:03,  1.51s/it, Train Loss=0.2544, Val Loss=0.2619, Train F1=0.7881, Val F1=0.7288]"
     ]
    },
    {
     "name": "stdout",
     "output_type": "stream",
     "text": [
      "\n",
      "Train Accuracy: 0.8991\n",
      "Train Precision: 0.8541\n",
      "Train Recall: 0.7316\n",
      "Train F1 Score: 0.7881\n",
      "Train Loss: 0.2544\n",
      "\n",
      "Eval Accuracy: 0.8792\n",
      "Eval Precision: 0.7679\n",
      "Eval Recall: 0.6935\n",
      "Eval F1 Score: 0.7288\n",
      "Eval Loss: 0.2619\n",
      "Learning Rate after Epoch 8: 0.00004305\n",
      "------------------------- Epoch 9/10 -------------------------\n"
     ]
    },
    {
     "name": "stderr",
     "output_type": "stream",
     "text": [
      "Fold 4/5 Training:  90%|█████████ | 9/10 [00:13<00:01,  1.46s/it, Train Loss=0.2279, Val Loss=0.2738, Train F1=0.8263, Val F1=0.7727]"
     ]
    },
    {
     "name": "stdout",
     "output_type": "stream",
     "text": [
      "\n",
      "Train Accuracy: 0.9151\n",
      "Train Precision: 0.8699\n",
      "Train Recall: 0.7868\n",
      "Train F1 Score: 0.8263\n",
      "Train Loss: 0.2279\n",
      "\n",
      "Eval Accuracy: 0.8868\n",
      "Eval Precision: 0.7286\n",
      "Eval Recall: 0.8226\n",
      "Eval F1 Score: 0.7727\n",
      "Eval Loss: 0.2738\n",
      "Learning Rate after Epoch 9: 0.00003874\n",
      "------------------------- Epoch 10/10 -------------------------\n"
     ]
    },
    {
     "name": "stderr",
     "output_type": "stream",
     "text": [
      "Fold 4/5 Training: 100%|██████████| 10/10 [00:14<00:00,  1.50s/it, Train Loss=0.2096, Val Loss=0.2633, Train F1=0.8459, Val F1=0.7523]\n"
     ]
    },
    {
     "name": "stdout",
     "output_type": "stream",
     "text": [
      "\n",
      "Train Accuracy: 0.9226\n",
      "Train Precision: 0.8654\n",
      "Train Recall: 0.8272\n",
      "Train F1 Score: 0.8459\n",
      "Train Loss: 0.2096\n",
      "\n",
      "Eval Accuracy: 0.8981\n",
      "Eval Precision: 0.8723\n",
      "Eval Recall: 0.6613\n",
      "Eval F1 Score: 0.7523\n",
      "Eval Loss: 0.2633\n",
      "Learning Rate after Epoch 10: 0.00003487\n",
      "------------------------------------------------------------\n",
      "------------------------- Fold 5/5 -------------------------\n",
      "Device: cuda\n",
      "Train DataLoader: Total Samples = 1060, Number of Batches = 34\n",
      "Validation DataLoader: Total Samples = 265, Number of Batches = 17\n"
     ]
    },
    {
     "name": "stderr",
     "output_type": "stream",
     "text": [
      "Fold 5/5 Training:   0%|          | 0/10 [00:00<?, ?it/s]"
     ]
    },
    {
     "name": "stdout",
     "output_type": "stream",
     "text": [
      "------------------------- Epoch 1/10 -------------------------\n"
     ]
    },
    {
     "name": "stderr",
     "output_type": "stream",
     "text": [
      "Fold 5/5 Training:  10%|█         | 1/10 [00:01<00:12,  1.34s/it, Train Loss=0.5874, Val Loss=0.5354, Train F1=0.0535, Val F1=0.0000]"
     ]
    },
    {
     "name": "stdout",
     "output_type": "stream",
     "text": [
      "\n",
      "Train Accuracy: 0.7330\n",
      "Train Precision: 0.2857\n",
      "Train Recall: 0.0295\n",
      "Train F1 Score: 0.0535\n",
      "Train Loss: 0.5874\n",
      "\n",
      "Eval Accuracy: 0.7623\n",
      "Eval Precision: 0.0000\n",
      "Eval Recall: 0.0000\n",
      "Eval F1 Score: 0.0000\n",
      "Eval Loss: 0.5354\n",
      "Learning Rate after Epoch 1: 0.00009000\n",
      "------------------------- Epoch 2/10 -------------------------\n"
     ]
    },
    {
     "name": "stderr",
     "output_type": "stream",
     "text": [
      "Fold 5/5 Training:  20%|██        | 2/10 [00:02<00:11,  1.40s/it, Train Loss=0.5299, Val Loss=0.4886, Train F1=0.0000, Val F1=0.0000]"
     ]
    },
    {
     "name": "stdout",
     "output_type": "stream",
     "text": [
      "\n",
      "Train Accuracy: 0.7443\n",
      "Train Precision: 0.0000\n",
      "Train Recall: 0.0000\n",
      "Train F1 Score: 0.0000\n",
      "Train Loss: 0.5299\n",
      "\n",
      "Eval Accuracy: 0.7623\n",
      "Eval Precision: 0.0000\n",
      "Eval Recall: 0.0000\n",
      "Eval F1 Score: 0.0000\n",
      "Eval Loss: 0.4886\n",
      "Learning Rate after Epoch 2: 0.00008100\n",
      "------------------------- Epoch 3/10 -------------------------\n"
     ]
    },
    {
     "name": "stderr",
     "output_type": "stream",
     "text": [
      "Fold 5/5 Training:  30%|███       | 3/10 [00:04<00:09,  1.41s/it, Train Loss=0.4738, Val Loss=0.4109, Train F1=0.1616, Val F1=0.3333]"
     ]
    },
    {
     "name": "stdout",
     "output_type": "stream",
     "text": [
      "\n",
      "Train Accuracy: 0.7651\n",
      "Train Precision: 0.9231\n",
      "Train Recall: 0.0886\n",
      "Train F1 Score: 0.1616\n",
      "Train Loss: 0.4738\n",
      "\n",
      "Eval Accuracy: 0.8038\n",
      "Eval Precision: 0.8667\n",
      "Eval Recall: 0.2063\n",
      "Eval F1 Score: 0.3333\n",
      "Eval Loss: 0.4109\n",
      "Learning Rate after Epoch 3: 0.00007290\n",
      "------------------------- Epoch 4/10 -------------------------\n"
     ]
    },
    {
     "name": "stderr",
     "output_type": "stream",
     "text": [
      "Fold 5/5 Training:  40%|████      | 4/10 [00:05<00:08,  1.40s/it, Train Loss=0.3995, Val Loss=0.3510, Train F1=0.5511, Val F1=0.6364]"
     ]
    },
    {
     "name": "stdout",
     "output_type": "stream",
     "text": [
      "\n",
      "Train Accuracy: 0.8217\n",
      "Train Precision: 0.7733\n",
      "Train Recall: 0.4280\n",
      "Train F1 Score: 0.5511\n",
      "Train Loss: 0.3995\n",
      "\n",
      "Eval Accuracy: 0.8491\n",
      "Eval Precision: 0.7447\n",
      "Eval Recall: 0.5556\n",
      "Eval F1 Score: 0.6364\n",
      "Eval Loss: 0.3510\n",
      "Learning Rate after Epoch 4: 0.00006561\n",
      "------------------------- Epoch 5/10 -------------------------\n"
     ]
    },
    {
     "name": "stderr",
     "output_type": "stream",
     "text": [
      "Fold 5/5 Training:  50%|█████     | 5/10 [00:06<00:06,  1.37s/it, Train Loss=0.3395, Val Loss=0.3475, Train F1=0.7036, Val F1=0.7000]"
     ]
    },
    {
     "name": "stdout",
     "output_type": "stream",
     "text": [
      "\n",
      "Train Accuracy: 0.8689\n",
      "Train Precision: 0.8333\n",
      "Train Recall: 0.6089\n",
      "Train F1 Score: 0.7036\n",
      "Train Loss: 0.3395\n",
      "\n",
      "Eval Accuracy: 0.8415\n",
      "Eval Precision: 0.6364\n",
      "Eval Recall: 0.7778\n",
      "Eval F1 Score: 0.7000\n",
      "Eval Loss: 0.3475\n",
      "Learning Rate after Epoch 5: 0.00005905\n",
      "------------------------- Epoch 6/10 -------------------------\n"
     ]
    },
    {
     "name": "stderr",
     "output_type": "stream",
     "text": [
      "Fold 5/5 Training:  60%|██████    | 6/10 [00:08<00:05,  1.38s/it, Train Loss=0.3213, Val Loss=0.2956, Train F1=0.7375, Val F1=0.6545]"
     ]
    },
    {
     "name": "stdout",
     "output_type": "stream",
     "text": [
      "\n",
      "Train Accuracy: 0.8764\n",
      "Train Precision: 0.8070\n",
      "Train Recall: 0.6790\n",
      "Train F1 Score: 0.7375\n",
      "Train Loss: 0.3213\n",
      "\n",
      "Eval Accuracy: 0.8566\n",
      "Eval Precision: 0.7660\n",
      "Eval Recall: 0.5714\n",
      "Eval F1 Score: 0.6545\n",
      "Eval Loss: 0.2956\n",
      "Learning Rate after Epoch 6: 0.00005314\n",
      "------------------------- Epoch 7/10 -------------------------\n"
     ]
    },
    {
     "name": "stderr",
     "output_type": "stream",
     "text": [
      "Fold 5/5 Training:  70%|███████   | 7/10 [00:09<00:04,  1.35s/it, Train Loss=0.2802, Val Loss=0.2940, Train F1=0.7689, Val F1=0.6942]"
     ]
    },
    {
     "name": "stdout",
     "output_type": "stream",
     "text": [
      "\n",
      "Train Accuracy: 0.8906\n",
      "Train Precision: 0.8355\n",
      "Train Recall: 0.7122\n",
      "Train F1 Score: 0.7689\n",
      "Train Loss: 0.2802\n",
      "\n",
      "Eval Accuracy: 0.8604\n",
      "Eval Precision: 0.7241\n",
      "Eval Recall: 0.6667\n",
      "Eval F1 Score: 0.6942\n",
      "Eval Loss: 0.2940\n",
      "Learning Rate after Epoch 7: 0.00004783\n",
      "------------------------- Epoch 8/10 -------------------------\n"
     ]
    },
    {
     "name": "stderr",
     "output_type": "stream",
     "text": [
      "Fold 5/5 Training:  80%|████████  | 8/10 [00:10<00:02,  1.32s/it, Train Loss=0.2308, Val Loss=0.2860, Train F1=0.8176, Val F1=0.6726]"
     ]
    },
    {
     "name": "stdout",
     "output_type": "stream",
     "text": [
      "\n",
      "Train Accuracy: 0.9142\n",
      "Train Precision: 0.8947\n",
      "Train Recall: 0.7528\n",
      "Train F1 Score: 0.8176\n",
      "Train Loss: 0.2308\n",
      "\n",
      "Eval Accuracy: 0.8604\n",
      "Eval Precision: 0.7600\n",
      "Eval Recall: 0.6032\n",
      "Eval F1 Score: 0.6726\n",
      "Eval Loss: 0.2860\n",
      "Learning Rate after Epoch 8: 0.00004305\n",
      "------------------------- Epoch 9/10 -------------------------\n"
     ]
    },
    {
     "name": "stderr",
     "output_type": "stream",
     "text": [
      "Fold 5/5 Training:  90%|█████████ | 9/10 [00:12<00:01,  1.30s/it, Train Loss=0.2136, Val Loss=0.2826, Train F1=0.8320, Val F1=0.6842]"
     ]
    },
    {
     "name": "stdout",
     "output_type": "stream",
     "text": [
      "\n",
      "Train Accuracy: 0.9189\n",
      "Train Precision: 0.8838\n",
      "Train Recall: 0.7860\n",
      "Train F1 Score: 0.8320\n",
      "Train Loss: 0.2136\n",
      "\n",
      "Eval Accuracy: 0.8642\n",
      "Eval Precision: 0.7647\n",
      "Eval Recall: 0.6190\n",
      "Eval F1 Score: 0.6842\n",
      "Eval Loss: 0.2826\n",
      "Learning Rate after Epoch 9: 0.00003874\n",
      "------------------------- Epoch 10/10 -------------------------\n"
     ]
    },
    {
     "name": "stderr",
     "output_type": "stream",
     "text": [
      "Fold 5/5 Training: 100%|██████████| 10/10 [00:13<00:00,  1.34s/it, Train Loss=0.1913, Val Loss=0.2834, Train F1=0.8511, Val F1=0.6903]"
     ]
    },
    {
     "name": "stdout",
     "output_type": "stream",
     "text": [
      "\n",
      "Train Accuracy: 0.9264\n",
      "Train Precision: 0.8814\n",
      "Train Recall: 0.8229\n",
      "Train F1 Score: 0.8511\n",
      "Train Loss: 0.1913\n",
      "\n",
      "Eval Accuracy: 0.8679\n",
      "Eval Precision: 0.7800\n",
      "Eval Recall: 0.6190\n",
      "Eval F1 Score: 0.6903\n",
      "Eval Loss: 0.2834\n",
      "Learning Rate after Epoch 10: 0.00003487\n",
      "--------------------------------------------------\n",
      "\n",
      "K-Fold Cross-Validation Results:\n",
      "Average Loss: 0.3317\n",
      "Average Accuracy: 0.8589\n",
      "Average Precision: 0.7484\n",
      "Average Recall: 0.6946\n",
      "Average F1 Score: 0.7142\n"
     ]
    },
    {
     "name": "stderr",
     "output_type": "stream",
     "text": [
      "\n"
     ]
    }
   ],
   "source": [
    "# DenseLayer or FinalClassifier\n",
    "if isFinalClassifier:\n",
    "    dense_layer_class = FinalClassifier\n",
    "else:\n",
    "    dense_layer_class = DenseLayer\n",
    "\n",
    "# Run k-fold cross-validation   \n",
    "results_df, train_losses_folds, val_losses_folds, fold_data = cross_validate_model(\n",
    "    dataset=full_dataset,\n",
    "    model_class=GatedMultimodalUnit,\n",
    "    dense_layer_class=dense_layer_class,\n",
    "    criterion=criterion,\n",
    "    text_dim=text_dim,\n",
    "    audio_dim=audio_dim,\n",
    "    video_dim=video_dim,\n",
    "    output_dim=output_dim,\n",
    "    num_epochs=num_epochs_cv,    \n",
    "    num_folds=num_folds,\n",
    "    train_batch_size=train_batch_size,\n",
    "    val_batch_size=val_batch_size,\n",
    "    learning_rate=learning_rate,\n",
    "    output_file=f'results/gmu/GMU-CV_scores.csv'\n",
    ")"
   ]
  },
  {
   "cell_type": "code",
   "execution_count": 26,
   "metadata": {},
   "outputs": [
    {
     "data": {
      "image/png": "[encoded data removed]",
      "text/plain": [
       "<Figure size 1400x700 with 1 Axes>"
      ]
     },
     "metadata": {},
     "output_type": "display_data"
    }
   ],
   "source": [
    "visualize_kfold_distribution(fold_data, num_folds)"
   ]
  },
  {
   "cell_type": "code",
   "execution_count": 27,
   "metadata": {},
   "outputs": [
    {
     "data": {
      "image/png": "[encoded data removed]",
      "text/plain": [
       "<Figure size 1200x700 with 1 Axes>"
      ]
     },
     "metadata": {},
     "output_type": "display_data"
    }
   ],
   "source": [
    "# Plot average loss curves across folds\n",
    "plot_average_loss_curves(train_losses_folds, val_losses_folds)"
   ]
  },
  {
   "cell_type": "code",
   "execution_count": 28,
   "metadata": {},
   "outputs": [
    {
     "data": {
      "text/html": [
       "<div>\n",
       "<style scoped>\n",
       "    .dataframe tbody tr th:only-of-type {\n",
       "        vertical-align: middle;\n",
       "    }\n",
       "\n",
       "    .dataframe tbody tr th {\n",
       "        vertical-align: top;\n",
       "    }\n",
       "\n",
       "    .dataframe thead th {\n",
       "        text-align: right;\n",
       "    }\n",
       "</style>\n",
       "<table border=\"1\" class=\"dataframe\">\n",
       "  <thead>\n",
       "    <tr style=\"text-align: right;\">\n",
       "      <th></th>\n",
       "      <th>Metrics</th>\n",
       "      <th>Fold 1</th>\n",
       "      <th>Fold 2</th>\n",
       "      <th>Fold 3</th>\n",
       "      <th>Fold 4</th>\n",
       "      <th>Fold 5</th>\n",
       "      <th>Average</th>\n",
       "    </tr>\n",
       "  </thead>\n",
       "  <tbody>\n",
       "    <tr>\n",
       "      <th>0</th>\n",
       "      <td>Loss</td>\n",
       "      <td>0.390802</td>\n",
       "      <td>0.438283</td>\n",
       "      <td>0.282895</td>\n",
       "      <td>0.263279</td>\n",
       "      <td>0.283449</td>\n",
       "      <td>0.331742</td>\n",
       "    </tr>\n",
       "    <tr>\n",
       "      <th>1</th>\n",
       "      <td>Accuracy</td>\n",
       "      <td>0.833962</td>\n",
       "      <td>0.807547</td>\n",
       "      <td>0.886792</td>\n",
       "      <td>0.898113</td>\n",
       "      <td>0.867925</td>\n",
       "      <td>0.858868</td>\n",
       "    </tr>\n",
       "    <tr>\n",
       "      <th>2</th>\n",
       "      <td>Precision</td>\n",
       "      <td>0.654321</td>\n",
       "      <td>0.586667</td>\n",
       "      <td>0.848485</td>\n",
       "      <td>0.872340</td>\n",
       "      <td>0.780000</td>\n",
       "      <td>0.748363</td>\n",
       "    </tr>\n",
       "    <tr>\n",
       "      <th>3</th>\n",
       "      <td>Recall</td>\n",
       "      <td>0.768116</td>\n",
       "      <td>0.687500</td>\n",
       "      <td>0.736842</td>\n",
       "      <td>0.661290</td>\n",
       "      <td>0.619048</td>\n",
       "      <td>0.694559</td>\n",
       "    </tr>\n",
       "    <tr>\n",
       "      <th>4</th>\n",
       "      <td>F1 Score</td>\n",
       "      <td>0.706667</td>\n",
       "      <td>0.633094</td>\n",
       "      <td>0.788732</td>\n",
       "      <td>0.752294</td>\n",
       "      <td>0.690265</td>\n",
       "      <td>0.714210</td>\n",
       "    </tr>\n",
       "  </tbody>\n",
       "</table>\n",
       "</div>"
      ],
      "text/plain": [
       "     Metrics    Fold 1    Fold 2    Fold 3    Fold 4    Fold 5   Average\n",
       "0       Loss  0.390802  0.438283  0.282895  0.263279  0.283449  0.331742\n",
       "1   Accuracy  0.833962  0.807547  0.886792  0.898113  0.867925  0.858868\n",
       "2  Precision  0.654321  0.586667  0.848485  0.872340  0.780000  0.748363\n",
       "3     Recall  0.768116  0.687500  0.736842  0.661290  0.619048  0.694559\n",
       "4   F1 Score  0.706667  0.633094  0.788732  0.752294  0.690265  0.714210"
      ]
     },
     "execution_count": 28,
     "metadata": {},
     "output_type": "execute_result"
    }
   ],
   "source": [
    "df = pd.read_csv(f'results/gmu/GMU-CV_scores.csv')\n",
    "df"
   ]
  }
 ],
 "metadata": {
  "kernelspec": {
   "display_name": "Python 3",
   "language": "python",
   "name": "python3"
  },
  "language_info": {
   "codemirror_mode": {
    "name": "ipython",
    "version": 3
   },
   "file_extension": ".py",
   "mimetype": "text/x-python",
   "name": "python",
   "nbconvert_exporter": "python",
   "pygments_lexer": "ipython3",
   "version": "3.12.3"
  }
 },
 "nbformat": 4,
 "nbformat_minor": 2
}
