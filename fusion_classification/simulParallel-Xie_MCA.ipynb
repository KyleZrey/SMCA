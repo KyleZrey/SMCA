{
 "cells": [
  {
   "cell_type": "markdown",
   "metadata": {},
   "source": [
    "### Prerequisite Packages"
   ]
  },
  {
   "cell_type": "code",
   "execution_count": 1,
   "metadata": {},
   "outputs": [],
   "source": [
    "import sys\n",
    "import os\n",
    "import math\n",
    "import pandas as pd\n",
    "import numpy as np\n",
    "import torch\n",
    "import torch.optim as optim\n",
    "import torch.nn as nn\n",
    "import torch.nn.functional as F\n",
    "import matplotlib.pyplot as plt\n",
    "import matplotlib.patches as mpatches\n",
    "import seaborn as sns\n",
    "\n",
    "from torch.optim.lr_scheduler import StepLR, ReduceLROnPlateau, ExponentialLR\n",
    "from torch.utils.data import DataLoader, Dataset, WeightedRandomSampler\n",
    "from torcheval.metrics import BinaryAccuracy, BinaryPrecision, BinaryRecall, BinaryF1Score\n",
    "from sklearn.model_selection import train_test_split, KFold\n",
    "from sklearn.metrics import confusion_matrix\n",
    "from tqdm import tqdm"
   ]
  },
  {
   "cell_type": "code",
   "execution_count": 2,
   "metadata": {},
   "outputs": [],
   "source": [
    "sys.path.append('../')\n",
    "\n",
    "from modules.cross_attentionb import CrossAttentionB\n",
    "from modules.dataloader import load_npy_files\n",
    "from modules.classifier import DenseLayer, BCELoss, CustomLoss, BCEWithLogits\n",
    "from modules.linear_transformation import LinearTransformations"
   ]
  },
  {
   "cell_type": "markdown",
   "metadata": {},
   "source": [
    "### Model and Hyperparameter Configurations"
   ]
  },
  {
   "cell_type": "code",
   "execution_count": 3,
   "metadata": {},
   "outputs": [],
   "source": [
    "# Define possible configurations for audio feature directories\n",
    "audio_feature_paths = {\n",
    "    'logmel': '../misc/audio_features/logmel',\n",
    "    'mfcc': '../misc/audio_features/mfcc'\n",
    "}\n",
    "\n",
    "# Function to get the audio feature path based on the selected configuration\n",
    "def get_audio_feature_path(config_name):\n",
    "    if config_name in audio_feature_paths:\n",
    "        return audio_feature_paths[config_name]\n",
    "    else:\n",
    "        raise ValueError(f\"Configuration '{config_name}' not found. Available options: logmel, mfcc.\")\n"
   ]
  },
  {
   "cell_type": "code",
   "execution_count": 4,
   "metadata": {},
   "outputs": [],
   "source": [
    "# Ensure reproducibility\n",
    "def set_seed(seed=42):\n",
    "    np.random.seed(seed)\n",
    "    torch.manual_seed(seed)\n",
    "    if torch.cuda.is_available():\n",
    "        torch.cuda.manual_seed(seed)\n",
    "        torch.cuda.manual_seed_all(seed)\n",
    "    torch.backends.cudnn.deterministic = True\n",
    "    torch.backends.cudnn.benchmark = False\n",
    "\n",
    "    # Worker seed function for DataLoader\n",
    "    def seed_worker(worker_id):\n",
    "        worker_seed = seed + worker_id\n",
    "        np.random.seed(worker_seed)\n",
    "\n",
    "        return seed_worker"
   ]
  },
  {
   "cell_type": "code",
   "execution_count": 5,
   "metadata": {},
   "outputs": [
    {
     "name": "stdout",
     "output_type": "stream",
     "text": [
      "Device: cuda\n"
     ]
    }
   ],
   "source": [
    "### Device configuration\n",
    "device = torch.device(\"cuda\" if torch.cuda.is_available() else \"cpu\")\n",
    "print(f\"Device: {device}\")\n",
    "\n",
    "### Modality Assignment: No Diff for assignments, but the sequence is TAV\n",
    "\n",
    "set_seed(42)  # Set global seed at the start\n",
    "\n",
    "### Audio Feature selection: 'logmel' or 'mfcc'\n",
    "selected_audio_feature= 'logmel'\n",
    "audio_features_dir = get_audio_feature_path(selected_audio_feature)\n",
    "\n",
    "#### Data Configuration: 8 16 32 64 128\n",
    "train_batch_size = 32   # Set the batch size for training data\n",
    "val_batch_size = 16     # Set the batch size for validation data\n",
    "test_batch_size= 16     # Set the batch size for testing data\n",
    "\n",
    "### Filter outliers in video features\n",
    "lower_bound=35\n",
    "upper_bound=197\n",
    "\n",
    "#FIXED CONSTANT\n",
    "max_pad = 197\n",
    "\n",
    "### Hyperparameters\n",
    "threshold = 0.5              # for predictions\n",
    "cl_dropout_rate = 0.4        # for FinalClassifier\n",
    "att_dropout_rate = 0.4       # for MutualCrossAttention\n",
    "num_epochs = 10              # for model training\n",
    "\n",
    "### LR Scheduler Parameters     \n",
    "learning_rate = 1e-4      \n",
    "decay_rate = 0.9\n",
    "\n",
    "### Classifier Configuration\n",
    "isBCELoss = True                          # !!! SET ACCORDINGLY !!!\n",
    "criterion = BCELoss()\n",
    "# criterion = BCEWithLogits()\n",
    "# criterion = CustomLoss(pos_weight=2.94)\n",
    "# criterion = FocalLoss(alpha=0.25, gamma=2, pos_weight=0.34)\n",
    "\n",
    "# !!! Choose Classifier !!! False = Dense Layer, True = Final Classifier\n",
    "isFinalClassifier = True\n",
    "\n",
    "#\n",
    "# ## For cross validation\n",
    "num_folds = 5          # Set the number of folds for cross-validation\n",
    "num_epochs_cv = 10     # Set the number of epochs for cross-validation\n"
   ]
  },
  {
   "cell_type": "markdown",
   "metadata": {},
   "source": [
    "### Dataset Class"
   ]
  },
  {
   "cell_type": "code",
   "execution_count": 6,
   "metadata": {},
   "outputs": [],
   "source": [
    "class MultimodalDataset(Dataset):\n",
    "    def __init__(self, id_label_df, text_features, audio_features, video_features):\n",
    "        self.id_label_df = id_label_df\n",
    "        \n",
    "        # Convert feature lists to dictionaries for fast lookup\n",
    "        self.text_features = {os.path.basename(file).split('.')[0]: tensor for file, tensor in text_features}\n",
    "        self.audio_features = {os.path.basename(file).split('_')[1].split('.')[0]: tensor for file, tensor in audio_features}\n",
    "        self.video_features = {os.path.basename(file).split('_')[0]: tensor for file, tensor in video_features}\n",
    "\n",
    "        # List to store missing files\n",
    "        self.missing_files = []\n",
    "\n",
    "        # Filter out entries with missing files\n",
    "        self.valid_files = self._filter_valid_files()\n",
    "\n",
    "    def _filter_valid_files(self):\n",
    "        valid_indices = []\n",
    "        missing_files = []\n",
    "\n",
    "        for idx in range(len(self.id_label_df)):\n",
    "            imdbid = self.id_label_df.iloc[idx]['IMDBid']\n",
    "\n",
    "            # Check if the IMDBid exists in each modality's features\n",
    "            if imdbid in self.text_features and imdbid in self.audio_features and imdbid in self.video_features:\n",
    "                valid_indices.append(idx)\n",
    "            else:\n",
    "                missing_files.append({'IMDBid': imdbid})\n",
    "\n",
    "        # Filter id_label_df to only include valid rows\n",
    "        self.id_label_df = self.id_label_df.iloc[valid_indices].reset_index(drop=True)\n",
    "        self.missing_files = missing_files\n",
    "        \n",
    "        # Update valid_indices to reflect the new indices after resetting\n",
    "        valid_indices = list(range(len(self.id_label_df)))\n",
    "\n",
    "        # Return valid indices\n",
    "        return valid_indices\n",
    "\n",
    "    def __len__(self):\n",
    "        return len(self.valid_files)\n",
    "\n",
    "    def __getitem__(self, idx):\n",
    "        # Get the original index from the filtered valid files\n",
    "        original_idx = self.valid_files[idx]\n",
    "        imdbid = self.id_label_df.iloc[original_idx]['IMDBid']\n",
    "        label = self.id_label_df.iloc[original_idx]['Label']\n",
    "\n",
    "        # Retrieve data from the loaded features\n",
    "        text_data = self.text_features.get(imdbid, torch.zeros((1024,)))\n",
    "        audio_data = self.audio_features.get(imdbid, torch.zeros((1, 197, 768)))\n",
    "        video_data = self.video_features.get(imdbid, torch.zeros((95, 768)))\n",
    "        \n",
    "        # Define label mapping\n",
    "        label_map = {'red': 1, 'green': 0} \n",
    "        \n",
    "        # Convert labels to tensor using label_map\n",
    "        try:\n",
    "            label_data = torch.tensor([label_map[label]], dtype=torch.float32)\n",
    "        except KeyError as e:\n",
    "            print(f\"Error: Label '{e}' not found in label_map.\")\n",
    "            raise\n",
    "\n",
    "        return imdbid, text_data, audio_data, video_data, label_data\n"
   ]
  },
  {
   "cell_type": "code",
   "execution_count": 7,
   "metadata": {},
   "outputs": [],
   "source": [
    "def collate_fn(batch):\n",
    "    # Unpack batch elements\n",
    "    imdbids, text_data, audio_data, video_data, label_data = zip(*batch)\n",
    "\n",
    "    # Convert lists to tensors\n",
    "    text_data = torch.stack(text_data)\n",
    "    audio_data = torch.stack(audio_data)\n",
    "\n",
    "    # Padding for video data\n",
    "    # Determine maximum length of video sequences in the batch\n",
    "    video_lengths = [v.size(0) for v in video_data]\n",
    "    max_length = max(video_lengths)\n",
    "\n",
    "    # Pad video sequences to the maximum length\n",
    "    video_data_padded = torch.stack([\n",
    "        F.pad(v, (0, 0, 0, max_length - v.size(0)), \"constant\", 0)\n",
    "        for v in video_data\n",
    "    ])\n",
    "\n",
    "    # Convert labels to tensor and ensure the shape [batch_size, 1]\n",
    "    label_data = torch.stack(label_data)  # Convert list of tensors to a single tensor\n",
    "\n",
    "    return imdbids, text_data, audio_data, video_data_padded, label_data\n"
   ]
  },
  {
   "cell_type": "markdown",
   "metadata": {},
   "source": [
    "### Data Loading\n"
   ]
  },
  {
   "cell_type": "code",
   "execution_count": 8,
   "metadata": {},
   "outputs": [],
   "source": [
    "def filter_video_features(video_features, lower_bound=lower_bound, upper_bound=upper_bound):\n",
    "    # Assuming video_features is a list of tuples where the second element is the numpy array\n",
    "    filtered_video_features = [v for v in video_features if lower_bound <= v[1].shape[0] <= upper_bound]\n",
    "    return filtered_video_features\n"
   ]
  },
  {
   "cell_type": "code",
   "execution_count": 9,
   "metadata": {},
   "outputs": [
    {
     "name": "stdout",
     "output_type": "stream",
     "text": [
      "Number of text feature vectors loaded: 1353\n",
      "Number of audio feature vectors loaded: 1353\n",
      "Number of video feature vectors loaded: 1325\n",
      "train_df shape: (927, 2)\n",
      "val_df shape: (199, 2)\n",
      "test_df shape: (199, 2)\n",
      "Train label distribution: Label\n",
      "green    693\n",
      "red      234\n",
      "Name: count, dtype: int64\n",
      "Validation label distribution: Label\n",
      "green    149\n",
      "red       50\n",
      "Name: count, dtype: int64\n",
      "Test label distribution: Label\n",
      "green    149\n",
      "red       50\n",
      "Name: count, dtype: int64\n",
      "----------------------------------------\n",
      "Train DataLoader: Total Samples = 927, Number of Batches = 29\n",
      "Validation DataLoader: Total Samples = 199, Number of Batches = 13\n",
      "Test DataLoader: Total Samples = 199, Number of Batches = 13\n"
     ]
    }
   ],
   "source": [
    "# Load the labels DataFrame\n",
    "id_label_df = pd.read_excel('../misc/MM-Trailer_dataset.xlsx')\n",
    "\n",
    "# Define the directories\n",
    "text_features_dir = '../misc/text_features'\n",
    "audio_features_dir = audio_features_dir\n",
    "video_features_dir = '../misc/video_features'\n",
    "\n",
    "# Load the feature vectors from each directory\n",
    "text_features = load_npy_files(text_features_dir)\n",
    "audio_features = load_npy_files(audio_features_dir)\n",
    "video_features = load_npy_files(video_features_dir)\n",
    "\n",
    "video_features = filter_video_features(video_features)\n",
    "\n",
    "print(f\"Number of text feature vectors loaded: {len(text_features)}\")\n",
    "print(f\"Number of audio feature vectors loaded: {len(audio_features)}\")\n",
    "print(f\"Number of video feature vectors loaded: {len(video_features)}\")\n",
    "\n",
    "# Drop unnecessary columns\n",
    "id_label_df = id_label_df.drop(columns=['Movie Title', 'URL'])\n",
    "\n",
    "full_dataset = MultimodalDataset(id_label_df, text_features, audio_features, video_features)\n",
    "\n",
    "# perform train-test split on the filtered DataFrame\n",
    "train_df, val_test_df = train_test_split(\n",
    "    full_dataset.id_label_df, test_size=0.3, random_state=42, stratify=full_dataset.id_label_df['Label'])\n",
    "\n",
    "# Further splitting remaining set into validation and test sets\n",
    "val_df, test_df = train_test_split(\n",
    "    val_test_df, test_size=0.5, random_state=42, stratify=val_test_df['Label'])\n",
    "\n",
    "print(\"train_df shape:\", train_df.shape)\n",
    "print(\"val_df shape:\", val_df.shape)\n",
    "print(\"test_df shape:\", test_df.shape)\n",
    "\n",
    "print(\"Train label distribution:\", train_df['Label'].value_counts())\n",
    "print(\"Validation label distribution:\", val_df['Label'].value_counts())\n",
    "print(\"Test label distribution:\", test_df['Label'].value_counts())\n",
    "\n",
    "print(\"-\" * 40)\n",
    "\n",
    "# create datasets based on these splits\n",
    "train_dataset = MultimodalDataset(train_df, text_features, audio_features, video_features)\n",
    "val_dataset = MultimodalDataset(val_df, text_features, audio_features, video_features)\n",
    "test_dataset = MultimodalDataset(test_df, text_features, audio_features, video_features)\n",
    "\n",
    "# Create DataLoaders\n",
    "train_dataloader = DataLoader(train_dataset, batch_size=train_batch_size, shuffle=True, num_workers=0, collate_fn=collate_fn, generator=torch.Generator().manual_seed(42), worker_init_fn=set_seed(42))\n",
    "val_dataloader = DataLoader(val_dataset, batch_size=val_batch_size, shuffle=True, num_workers=0, collate_fn=collate_fn, generator=torch.Generator().manual_seed(42), worker_init_fn=set_seed(42))\n",
    "test_dataloader = DataLoader(test_dataset, batch_size=test_batch_size, shuffle=False, num_workers=0, collate_fn=collate_fn, generator=torch.Generator().manual_seed(42), worker_init_fn=set_seed(42))\n",
    "\n",
    "# Function to calculate and print the size of each DataLoader\n",
    "def print_dataloader_sizes(dataloader, name):\n",
    "    total_samples = len(dataloader.dataset)  # Get the size of the dataset\n",
    "    num_batches = len(dataloader)  # Get the number of batches\n",
    "    print(f\"{name} DataLoader: Total Samples = {total_samples}, Number of Batches = {num_batches}\")\n",
    "\n",
    "# Print sizes of each DataLoader\n",
    "print_dataloader_sizes(train_dataloader, \"Train\")\n",
    "print_dataloader_sizes(val_dataloader, \"Validation\")\n",
    "print_dataloader_sizes(test_dataloader, \"Test\")\n",
    "\n"
   ]
  },
  {
   "cell_type": "markdown",
   "metadata": {},
   "source": [
    "### Model Class"
   ]
  },
  {
   "cell_type": "code",
   "execution_count": 10,
   "metadata": {},
   "outputs": [],
   "source": [
    "class MutualCrossAttention(nn.Module):\n",
    "    def __init__(self, dropout):\n",
    "        super(MutualCrossAttention, self).__init__()\n",
    "        self.dropout = nn.Dropout(dropout)\n",
    "        self.layer_norm = nn.LayerNorm(768)\n",
    "        self.device = torch.device(\"cpu\")\n",
    "\n",
    "    def forward(self, x1, x2):\n",
    "        # Move x1 and x2 to the correct device\n",
    "        x1, x2 = x1.to(self.device), x2.to(self.device)\n",
    "\n",
    "        # Ensure inputs are 3D\n",
    "        if x1.dim() == 2:\n",
    "            x1 = x1.unsqueeze(0)\n",
    "        if x2.dim() == 2:\n",
    "            x2 = x2.unsqueeze(0)\n",
    "\n",
    "        # Assign x1 and x2 to query and key\n",
    "        query = x1\n",
    "        key = x2\n",
    "        d = query.shape[-1]\n",
    "\n",
    "        # Basic attention mechanism formula to get intermediate output A\n",
    "        scores = torch.bmm(query, key.transpose(1, 2)) / math.sqrt(d)\n",
    "        output_A = torch.bmm(self.dropout(F.softmax(scores, dim=-1)), x2)\n",
    "\n",
    "        # Make the summation of the two intermediate outputs\n",
    "        output = output_A\n",
    "        \n",
    "        return output.to(self.device)"
   ]
  },
  {
   "cell_type": "code",
   "execution_count": 11,
   "metadata": {},
   "outputs": [],
   "source": [
    "def HadamardProduct(tensor1, tensor2):\n",
    "    # Ensure both tensors have the same shape\n",
    "    if tensor1.shape != tensor2.shape:\n",
    "        raise ValueError(\"Tensors must have the same shape for Hadamard product.\")\n",
    "    \n",
    "    # Compute the Hadamard product\n",
    "    return tensor1 * tensor2"
   ]
  },
  {
   "cell_type": "code",
   "execution_count": 12,
   "metadata": {},
   "outputs": [],
   "source": [
    "# Element Add\n",
    "class EmbracementLayer(nn.Module):\n",
    "    def __init__(self):\n",
    "        super(EmbracementLayer, self).__init__()\n",
    "        self.norm = nn.LayerNorm(768)\n",
    "        \n",
    "    def forward(self, video_features, audio_features, text_features):\n",
    "        combined_features = video_features + audio_features + text_features\n",
    "        norm_features = self.norm(combined_features)\n",
    "        return norm_features.to(device)"
   ]
  },
  {
   "cell_type": "code",
   "execution_count": 13,
   "metadata": {},
   "outputs": [],
   "source": [
    "def PairCrossAttention(modalityAlpha, modalityBeta, dropout=att_dropout_rate):\n",
    "    mutual_cross_attn = MutualCrossAttention(dropout).to(device)\n",
    "\n",
    "    return mutual_cross_attn(modalityAlpha, modalityBeta)"
   ]
  },
  {
   "cell_type": "markdown",
   "metadata": {},
   "source": [
    "### Simul-parallel Functions and Model"
   ]
  },
  {
   "cell_type": "code",
   "execution_count": 14,
   "metadata": {},
   "outputs": [],
   "source": [
    "class SimultaneousParallel(nn.Module):\n",
    "    def __init__(self, device):\n",
    "        super(SimultaneousParallel, self).__init__()\n",
    "        self.device = device\n",
    "        self.embrace = EmbracementLayer()\n",
    "        self.norm = nn.LayerNorm(768)\n",
    "        \n",
    "    def forward(self, text_feature, audio_feature, video_feature):\n",
    "\n",
    "        # One way cross-attention\n",
    "        text_video = PairCrossAttention(text_feature, video_feature).to(self.device) \n",
    "        text_audio = PairCrossAttention(text_feature, audio_feature).to(self.device)\n",
    "        audio_video = PairCrossAttention(audio_feature, video_feature).to(self.device)\n",
    "        audio_text = PairCrossAttention(audio_feature, text_feature).to(self.device)\n",
    "        video_text = PairCrossAttention(video_feature, text_feature).to(self.device)\n",
    "        video_audio = PairCrossAttention(video_feature, audio_feature).to(self.device)\n",
    "\n",
    "        # Hadamard products for pairs\n",
    "        text_combined = HadamardProduct(text_video, text_audio).to(self.device)\n",
    "        audio_combined = HadamardProduct(audio_video, audio_text).to(self.device)\n",
    "        video_combined = HadamardProduct(video_text, video_audio).to(self.device)\n",
    "\n",
    "        text_combined = self.norm(text_combined)\n",
    "        audio_combined = self.norm(audio_combined)\n",
    "        video_combined = self.norm(video_combined)\n",
    "\n",
    "        # Combine products using element add then normalize\n",
    "        fused = self.embrace(audio_combined, video_combined, text_combined).to(self.device)\n",
    "\n",
    "        return fused"
   ]
  },
  {
   "cell_type": "code",
   "execution_count": 15,
   "metadata": {},
   "outputs": [],
   "source": [
    "def pad_features(features, max_pad=max_pad):\n",
    "    # Pad or trim the sequence dimension to `max_pad`\n",
    "    if features.size(1) < max_pad:\n",
    "        # Pad to the right along the sequence dimension\n",
    "        features = F.pad(features, (0, 0, 0, max_pad - features.size(1)))\n",
    "    elif features.size(1) == max_pad:\n",
    "        pass\n",
    "    else:\n",
    "        # Trim if the sequence is longer than `max_pad`\n",
    "        features = features[:, :max_pad, :]\n",
    "        print(\"VIDEO TRIMMED SOMETHING MAY MALI\")\n",
    "    return features"
   ]
  },
  {
   "cell_type": "markdown",
   "metadata": {},
   "source": [
    "### Classifier"
   ]
  },
  {
   "cell_type": "code",
   "execution_count": 16,
   "metadata": {},
   "outputs": [],
   "source": [
    "class FinalClassifier(nn.Module):\n",
    "    def __init__(self, input_size, dropout_rate=cl_dropout_rate):\n",
    "        super(FinalClassifier, self).__init__()\n",
    "        self.fc1 = nn.Linear(input_size, 3072)  # First fully connected layer\n",
    "        self.fc2 = nn.Linear(3072, 768)          # Second fully connected layer\n",
    "        # self.fc3 = nn.Linear(768, 128)          # Third fully connected layer\n",
    "        # self.fc4 = nn.Linear(128, 64)          # Second fully connected layer\n",
    "\n",
    "        self.dropout = nn.Dropout(dropout_rate) # Dropout layer\n",
    "        self.dense = nn.Linear(768, 1)          # Final dense layer for binary classification\n",
    "        self.relu = nn.ReLU()                    # ReLU activation\n",
    "        self.sigmoid = nn.Sigmoid()              # Sigmoid activation for final output\n",
    "\n",
    "    def forward(self, x):\n",
    "        x = self.fc1(x)                         # First fully connected layer\n",
    "        x = self.relu(x)                        # Apply ReLU activation\n",
    "\n",
    "        x = self.fc2(x)                         # second fully connected layer\n",
    "        x = self.relu(x)                        # Apply ReLU activation\n",
    "        x = self.dropout(x)                     # Apply dropout\n",
    "        \n",
    "        # x = self.fc3(x)                         # third fully connected layer\n",
    "        # x = self.relu(x)                        # Apply ReLU activation\n",
    "\n",
    "        # x = self.fc4(x)                         # fourth fully connected layer\n",
    "        # x = self.relu(x)                        # Apply ReLU activation\n",
    "        # x = self.dropout(x)                     # Apply dropout\n",
    "        \n",
    "        x = self.dense(x)                       # Final dense layer\n",
    "        if isBCELoss:\n",
    "            x = self.sigmoid(x)                  # Apply sigmoid activation\n",
    "        return x                                 # Output probabilities for BCELoss\n"
   ]
  },
  {
   "cell_type": "markdown",
   "metadata": {},
   "source": [
    "### Model Training Functions"
   ]
  },
  {
   "cell_type": "code",
   "execution_count": 17,
   "metadata": {},
   "outputs": [],
   "source": [
    "def train_model(\n",
    "    model, \n",
    "    dense_layer, \n",
    "    dataloader, \n",
    "    criterion, \n",
    "    optimizer, \n",
    "    device,\n",
    "    output_dir='results/simulParallel/', \n",
    "    output_filename='train_predictions.csv',\n",
    "):\n",
    "    # model.train()\n",
    "    dense_layer.train()\n",
    "    total_loss = 0.0\n",
    "    \n",
    "    # Create the output directory if it doesn't exist\n",
    "    os.makedirs(output_dir, exist_ok=True)\n",
    "\n",
    "    # Initialize metrics for binary classification\n",
    "    precision_metric = BinaryPrecision().to(device)\n",
    "    recall_metric = BinaryRecall().to(device)\n",
    "    f1_metric = BinaryF1Score().to(device)\n",
    "    accuracy_metric = BinaryAccuracy().to(device) \n",
    "    \n",
    "    # Reset metrics at the start of training\n",
    "    precision_metric.reset()\n",
    "    recall_metric.reset()\n",
    "    f1_metric.reset()\n",
    "    accuracy_metric.reset()\n",
    "    \n",
    "    # List to collect results for CSV\n",
    "    results = []\n",
    "    \n",
    "\n",
    "    for imdbids, text_features, audio_features, video_features, targets in dataloader:\n",
    "        text_features, audio_features, video_features, targets = (\n",
    "            text_features.to(device),\n",
    "            audio_features.to(device),\n",
    "            video_features.to(device),\n",
    "            targets.to(device).view(-1)\n",
    "        )\n",
    "                \n",
    "        # Squeeze the audio features to remove the extra dimension\n",
    "        audio_features = audio_features.squeeze(1).to(device) \n",
    "        text_features = text_features.unsqueeze(1).to(device) \n",
    "\n",
    "        # Apply linear transformations to match dimensions\n",
    "        linear_transform_text = LinearTransformations(text_features.shape[-1], 768).to(device)    \n",
    "        text_features = linear_transform_text(text_features).to(device) \n",
    "        \n",
    "        audio_features = audio_features[:, -1, :].unsqueeze(1).to(device)   # Resulting shape: [batch_size, 1, 768]\n",
    "\n",
    "        video_features = pad_features(video_features).to(device)   # Shape will be [batch_size, max_pad, 768]\n",
    "\n",
    "        outputs = model(text_features, audio_features, video_features).to(device)\n",
    "\n",
    "        outputs = outputs.view(outputs.size(0), -1)  # Shape will be [batch_size, 153600]\n",
    "\n",
    "        # Pass the fused features through the dense layer\n",
    "        predictions = dense_layer(outputs).view(-1)\n",
    "\n",
    "        # Compute loss\n",
    "        loss = criterion(predictions, targets)\n",
    "        total_loss += loss.item()\n",
    "        \n",
    "        # Backward pass and optimization\n",
    "        optimizer.zero_grad()\n",
    "        loss.backward()\n",
    "        optimizer.step()\n",
    "\n",
    "        # !!!Apply if BCEWithLogits or CustomLoss!!!\n",
    "        if not isBCELoss:\n",
    "            predictions = torch.sigmoid(predictions)\n",
    "\n",
    "        # Apply threshold to get binary predictions\n",
    "        preds = (predictions >= threshold).float()\n",
    "        \n",
    "        # Collect results for each sample\n",
    "        for i in range(len(imdbids)):\n",
    "            results.append({\n",
    "                'IMDBid': imdbids[i],\n",
    "                'Raw Prediction': predictions[i].item(),\n",
    "                'Binary Prediction': preds[i].item(),\n",
    "                'Target': targets[i].item()\n",
    "            })\n",
    "        \n",
    "        # Update metrics for binary classification\n",
    "        precision_metric.update(preds.long(), targets.long())\n",
    "        recall_metric.update(preds.long(), targets.long())\n",
    "        f1_metric.update(preds.long(), targets.long())\n",
    "        accuracy_metric.update(preds.long(), targets.long()) \n",
    "\n",
    "    # Compute average precision, recall, F1 score, and accuracy\n",
    "    train_precision = precision_metric.compute().item()\n",
    "    train_recall = recall_metric.compute().item()\n",
    "    train_f1_score = f1_metric.compute().item()\n",
    "    train_accuracy = accuracy_metric.compute().item()  # Compute accuracy\n",
    "    \n",
    "    train_average_loss = total_loss / len(dataloader)\n",
    "    \n",
    "    # Create DataFrame and save to CSV\n",
    "    results_df = pd.DataFrame(results)\n",
    "    output_filepath = os.path.join(output_dir, output_filename)\n",
    "    results_df.to_csv(output_filepath, index=False, header=True)\n",
    "\n",
    "    return train_average_loss, train_accuracy, train_precision, train_recall, train_f1_score"
   ]
  },
  {
   "cell_type": "code",
   "execution_count": 18,
   "metadata": {},
   "outputs": [],
   "source": [
    "def evaluate_model(\n",
    "    model, \n",
    "    dense_layer, \n",
    "    dataloader, \n",
    "    criterion, \n",
    "    device,\n",
    "    output_dir='results/simulParallel/', \n",
    "    output_filename='val_predictions.csv',\n",
    "):\n",
    "    model.eval()\n",
    "    dense_layer.eval()\n",
    "    total_loss = 0.0\n",
    "\n",
    "    # Create the output directory if it doesn't exist\n",
    "    os.makedirs(output_dir, exist_ok=True)\n",
    "\n",
    "    # Initialize metrics for binary classification\n",
    "    precision_metric = BinaryPrecision().to(device)\n",
    "    recall_metric = BinaryRecall().to(device)\n",
    "    f1_metric = BinaryF1Score().to(device)\n",
    "    accuracy_metric = BinaryAccuracy().to(device) \n",
    "    \n",
    "    # Reset metrics at the start of training\n",
    "    precision_metric.reset()\n",
    "    recall_metric.reset()\n",
    "    f1_metric.reset()\n",
    "    accuracy_metric.reset()\n",
    "    \n",
    "    all_predictions = []\n",
    "    all_targets = []\n",
    "    \n",
    "    # List to collect results for CSV\n",
    "    results = []\n",
    "    \n",
    "    with torch.no_grad():\n",
    "         for imdbids, text_features, audio_features, video_features, targets in dataloader:\n",
    "            text_features, audio_features, video_features, targets = (\n",
    "                text_features.to(device),\n",
    "                audio_features.to(device),\n",
    "                video_features.to(device),\n",
    "                targets.to(device).view(-1)\n",
    "            )\n",
    "        \n",
    "            # Squeeze the audio features to remove the extra dimension\n",
    "            audio_features = audio_features.squeeze(1).to(device)\n",
    "            text_features = text_features.unsqueeze(1).to(device)\n",
    "\n",
    "            # Apply linear transformations to match dimensions\n",
    "            linear_transform_text = LinearTransformations(text_features.shape[-1], 768).to(device)   \n",
    "            text_features = linear_transform_text(text_features).to(device)\n",
    "            \n",
    "            audio_features = audio_features[:, -1, :].unsqueeze(1).to(device)  # Resulting shape: [batch_size, 1, 768]\n",
    "    \n",
    "            video_features = pad_features(video_features).to(device)  # Shape will be [batch_size, max_pad, 768]\n",
    "                    \n",
    "            outputs = model(text_features, audio_features, video_features).to(device)\n",
    "\n",
    "            outputs = outputs.view(outputs.size(0), -1)  # Shape will be [batch_size, 153600]\n",
    "\n",
    "            # Pass the fused features through the dense layer\n",
    "            predictions = dense_layer(outputs).view(-1)\n",
    "\n",
    "            # Compute loss\n",
    "            loss = criterion(predictions, targets)\n",
    "            total_loss += loss.item()\n",
    "\n",
    "            # !!!Apply if BCEWithLogits or CustomLoss!!!\n",
    "            if not isBCELoss:\n",
    "                predictions = torch.sigmoid(predictions)\n",
    "\n",
    "            # Apply threshold to get binary predictions\n",
    "            preds = (predictions >= threshold).float()\n",
    "            \n",
    "            all_predictions.extend(predictions.cpu().numpy())\n",
    "            all_targets.extend(targets.cpu().numpy())\n",
    "            \n",
    "            # Collect results for each sample\n",
    "            for i in range(len(imdbids)):\n",
    "                results.append({\n",
    "                    'IMDBid': imdbids[i],\n",
    "                    'Raw Prediction': predictions[i].item(),\n",
    "                    'Binary Prediction': preds[i].item(),\n",
    "                    'Target': targets[i].item()\n",
    "                })\n",
    "            \n",
    "            # Update metrics for binary classification\n",
    "            precision_metric.update(preds.long(), targets.long())\n",
    "            recall_metric.update(preds.long(), targets.long())\n",
    "            f1_metric.update(preds.long(), targets.long())\n",
    "            accuracy_metric.update(preds.long(), targets.long()) \n",
    "\n",
    "    # Compute average precision, recall, F1 score, and accuracy\n",
    "    val_precision = precision_metric.compute().item()\n",
    "    val_recall = recall_metric.compute().item()\n",
    "    val_f1_score = f1_metric.compute().item()\n",
    "    val_accuracy = accuracy_metric.compute().item() \n",
    "    \n",
    "    # Calculate confusion matrix\n",
    "    val_conf_matrix = confusion_matrix(all_targets, np.round(all_predictions))\n",
    "\n",
    "    val_average_loss = total_loss / len(dataloader)\n",
    "\n",
    "    \n",
    "    # Create DataFrame and save to CSV\n",
    "    results_df = pd.DataFrame(results)\n",
    "    output_filepath = os.path.join(output_dir, output_filename)\n",
    "    results_df.to_csv(output_filepath, index=False, header=True)\n",
    "    \n",
    "    return val_average_loss, val_accuracy, val_precision, val_recall, val_f1_score, val_conf_matrix"
   ]
  },
  {
   "cell_type": "code",
   "execution_count": 19,
   "metadata": {},
   "outputs": [],
   "source": [
    "def test_model(\n",
    "    model, \n",
    "    dense_layer, \n",
    "    dataloader, \n",
    "    criterion, \n",
    "    device,\n",
    "    output_dir='results/simulParallel/', \n",
    "    output_filename='test_predictions.csv',\n",
    "):\n",
    "    model.eval()\n",
    "    dense_layer.eval()\n",
    "    total_loss = 0\n",
    "\n",
    "    # Create the output directory if it doesn't exist\n",
    "    os.makedirs(output_dir, exist_ok=True)\n",
    "\n",
    "    # Initialize metrics for binary classification\n",
    "    precision_metric = BinaryPrecision().to(device)\n",
    "    recall_metric = BinaryRecall().to(device)\n",
    "    f1_metric = BinaryF1Score().to(device)\n",
    "    accuracy_metric = BinaryAccuracy().to(device) \n",
    "\n",
    "    all_predictions = []\n",
    "    all_targets = []\n",
    "    \n",
    "    # List to collect results for CSV\n",
    "    results = []\n",
    "\n",
    "    with torch.no_grad():\n",
    "        for imdbids, text_features, audio_features, video_features, targets in dataloader:\n",
    "            text_features, audio_features, video_features, targets = (\n",
    "                text_features.to(device),\n",
    "                audio_features.to(device),\n",
    "                video_features.to(device),\n",
    "                targets.to(device).view(-1)\n",
    "            )\n",
    "            \n",
    "            # Squeeze the audio features to remove the extra dimension\n",
    "            audio_features = audio_features.squeeze(1).to(device) \n",
    "            text_features = text_features.unsqueeze(1).to(device) \n",
    "\n",
    "            # Apply linear transformations to match dimensions\n",
    "            linear_transform_text = LinearTransformations(text_features.shape[-1], 768).to(device)    \n",
    "            text_features = linear_transform_text(text_features).to(device) \n",
    "            \n",
    "            audio_features = audio_features[:, -1, :].unsqueeze(1).to(device)   # Resulting shape: [batch_size, 1, 768]\n",
    "    \n",
    "            video_features = pad_features(video_features).to(device)   # Shape will be [batch_size, max_pad, 768]\n",
    "\n",
    "            outputs = model(text_features, audio_features, video_features).to(device) \n",
    "    \n",
    "            outputs = outputs.view(outputs.size(0), -1)  # Shape will be [batch_size, 153600]\n",
    "\n",
    "            # Pass the fused features through the dense layer\n",
    "            predictions = dense_layer(outputs).view(-1)\n",
    "                \n",
    "            # Compute loss\n",
    "            loss = criterion(predictions, targets)\n",
    "            total_loss += loss.item()\n",
    "\n",
    "            # !!!Apply if BCEWithLogits or CustomLoss!!!\n",
    "            if not isBCELoss:\n",
    "                predictions = torch.sigmoid(predictions)\n",
    "\n",
    "            # Apply threshold to get binary predictions\n",
    "            preds = (predictions >= threshold).float()\n",
    "            \n",
    "            # Collect predictions and targets for the confusion matrix\n",
    "            all_predictions.extend(preds.cpu().numpy())\n",
    "            all_targets.extend(targets.cpu().numpy())\n",
    "\n",
    "            # Collect results for each sample\n",
    "            for i in range(len(imdbids)):\n",
    "                results.append({\n",
    "                    'IMDBid': imdbids[i],\n",
    "                    'Raw Prediction': predictions[i].item(),\n",
    "                    'Binary Prediction': preds[i].item(),\n",
    "                    'Target': targets[i].item()\n",
    "                })\n",
    "            \n",
    "            # Update metrics for binary classification\n",
    "            precision_metric.update(preds.long(), targets.long())\n",
    "            recall_metric.update(preds.long(), targets.long())\n",
    "            f1_metric.update(preds.long(), targets.long())\n",
    "            accuracy_metric.update(preds.long(), targets.long()) \n",
    "\n",
    "     # Compute average precision, recall, F1 score, and accuracy\n",
    "    test_precision = precision_metric.compute().item()\n",
    "    test_recall = recall_metric.compute().item()\n",
    "    test_f1_score = f1_metric.compute().item()\n",
    "    test_accuracy = accuracy_metric.compute().item()\n",
    "    \n",
    "    # Generate confusion matrix\n",
    "    test_conf_matrix = confusion_matrix(all_targets, all_predictions)\n",
    "\n",
    "    test_average_loss = total_loss / len(dataloader)\n",
    "\n",
    "    \n",
    "    # Create DataFrame and save to CSV\n",
    "    results_df = pd.DataFrame(results)\n",
    "    output_filepath = os.path.join(output_dir, output_filename)\n",
    "    results_df.to_csv(output_filepath, index=False, header=True)\n",
    "\n",
    "    return test_average_loss, test_accuracy, test_precision, test_recall, test_f1_score, test_conf_matrix"
   ]
  },
  {
   "cell_type": "code",
   "execution_count": 20,
   "metadata": {},
   "outputs": [],
   "source": [
    "def get_optimizer(parameters, lr=learning_rate):\n",
    "    # Create an optimizer, for example, Adam\n",
    "    return optim.Adam(parameters, lr=lr)"
   ]
  },
  {
   "cell_type": "markdown",
   "metadata": {},
   "source": [
    "### Model Training"
   ]
  },
  {
   "cell_type": "code",
   "execution_count": 21,
   "metadata": {},
   "outputs": [],
   "source": [
    "def plot_confusion_matrix(conf_matrix, class_names=['Negative', 'Positive']):\n",
    "    plt.figure(figsize=(6, 5))\n",
    "    sns.heatmap(conf_matrix, annot=True, fmt=\"d\", cmap=\"Blues\", cbar=False,\n",
    "                xticklabels=class_names, yticklabels=class_names)\n",
    "    plt.xlabel('Predicted Labels')\n",
    "    plt.ylabel('True Labels')\n",
    "    plt.title('Confusion Matrix')\n",
    "    plt.show()"
   ]
  },
  {
   "cell_type": "code",
   "execution_count": 22,
   "metadata": {},
   "outputs": [],
   "source": [
    "# Function to plot training and validation loss\n",
    "def plot_losses(train_losses, val_losses):\n",
    "    plt.figure(figsize=(10, 5))\n",
    "    epochs = range(1, len(train_losses) + 1)  # Generate epoch numbers starting from 1\n",
    "    plt.plot(epochs, train_losses, label='Training Loss', color='#1f77b4', linestyle='-', marker='o')\n",
    "    plt.plot(epochs, val_losses, label='Validation Loss', color='#ff7f0e', linestyle='-', marker='x')\n",
    "    plt.title('Training and Validation Loss over Epochs')    \n",
    "    plt.xlabel('Epochs')\n",
    "    plt.ylabel('Loss')\n",
    "    plt.legend()\n",
    "    plt.grid()\n",
    "    plt.show()\n"
   ]
  },
  {
   "cell_type": "code",
   "execution_count": 23,
   "metadata": {},
   "outputs": [
    {
     "name": "stdout",
     "output_type": "stream",
     "text": [
      "Number of Epochs: 10\n",
      "learning rate: 0.0001\n",
      "----------------------------------------\n",
      "Epoch 1/10\n",
      "-------------------- Train --------------------\n",
      "Train Accuracy: 0.6861\n",
      "Train Precision: 0.3273\n",
      "Train Recall: 0.2308\n",
      "Train F1 Score: 0.2707\n",
      "Train Loss: 0.7169\n",
      "-------------------- Eval --------------------\n",
      "Eval Accuracy: 0.7588\n",
      "Eval Precision: 0.5238\n",
      "Eval Recall: 0.4400\n",
      "Eval F1 Score: 0.4783\n",
      "Eval Loss: 0.5432\n",
      "Learning Rate after Epoch 1: 0.00009000\n",
      "----------------------------------------\n",
      "Epoch 2/10\n",
      "-------------------- Train --------------------\n",
      "Train Accuracy: 0.7497\n",
      "Train Precision: 0.5068\n",
      "Train Recall: 0.3162\n",
      "Train F1 Score: 0.3895\n",
      "Train Loss: 0.5918\n",
      "-------------------- Eval --------------------\n",
      "Eval Accuracy: 0.8191\n",
      "Eval Precision: 0.8500\n",
      "Eval Recall: 0.3400\n",
      "Eval F1 Score: 0.4857\n",
      "Eval Loss: 0.4706\n",
      "Learning Rate after Epoch 2: 0.00008100\n",
      "----------------------------------------\n",
      "Epoch 3/10\n",
      "-------------------- Train --------------------\n",
      "Train Accuracy: 0.7735\n",
      "Train Precision: 0.5870\n",
      "Train Recall: 0.3462\n",
      "Train F1 Score: 0.4355\n",
      "Train Loss: 0.5269\n",
      "-------------------- Eval --------------------\n",
      "Eval Accuracy: 0.7638\n",
      "Eval Precision: 0.5714\n",
      "Eval Recall: 0.2400\n",
      "Eval F1 Score: 0.3380\n",
      "Eval Loss: 0.4790\n",
      "Learning Rate after Epoch 3: 0.00007290\n",
      "----------------------------------------\n",
      "Epoch 4/10\n",
      "-------------------- Train --------------------\n",
      "Train Accuracy: 0.7702\n",
      "Train Precision: 0.5724\n",
      "Train Recall: 0.3547\n",
      "Train F1 Score: 0.4380\n",
      "Train Loss: 0.5054\n",
      "-------------------- Eval --------------------\n",
      "Eval Accuracy: 0.7940\n",
      "Eval Precision: 0.7647\n",
      "Eval Recall: 0.2600\n",
      "Eval F1 Score: 0.3881\n",
      "Eval Loss: 0.5158\n",
      "Learning Rate after Epoch 4: 0.00006561\n",
      "----------------------------------------\n",
      "Epoch 5/10\n",
      "-------------------- Train --------------------\n",
      "Train Accuracy: 0.7940\n",
      "Train Precision: 0.6838\n",
      "Train Recall: 0.3419\n",
      "Train F1 Score: 0.4558\n",
      "Train Loss: 0.4834\n",
      "-------------------- Eval --------------------\n",
      "Eval Accuracy: 0.7739\n",
      "Eval Precision: 0.5510\n",
      "Eval Recall: 0.5400\n",
      "Eval F1 Score: 0.5455\n",
      "Eval Loss: 0.4993\n",
      "Learning Rate after Epoch 5: 0.00005905\n",
      "----------------------------------------\n",
      "Epoch 6/10\n",
      "-------------------- Train --------------------\n",
      "Train Accuracy: 0.7907\n",
      "Train Precision: 0.6250\n",
      "Train Recall: 0.4274\n",
      "Train F1 Score: 0.5076\n",
      "Train Loss: 0.4697\n",
      "-------------------- Eval --------------------\n",
      "Eval Accuracy: 0.8241\n",
      "Eval Precision: 0.7586\n",
      "Eval Recall: 0.4400\n",
      "Eval F1 Score: 0.5570\n",
      "Eval Loss: 0.4521\n",
      "Learning Rate after Epoch 6: 0.00005314\n",
      "----------------------------------------\n",
      "Epoch 7/10\n",
      "-------------------- Train --------------------\n",
      "Train Accuracy: 0.7983\n",
      "Train Precision: 0.6767\n",
      "Train Recall: 0.3846\n",
      "Train F1 Score: 0.4905\n",
      "Train Loss: 0.4501\n",
      "-------------------- Eval --------------------\n",
      "Eval Accuracy: 0.7538\n",
      "Eval Precision: 0.5116\n",
      "Eval Recall: 0.4400\n",
      "Eval F1 Score: 0.4731\n",
      "Eval Loss: 0.4920\n",
      "Learning Rate after Epoch 7: 0.00004783\n",
      "----------------------------------------\n",
      "Epoch 8/10\n",
      "-------------------- Train --------------------\n",
      "Train Accuracy: 0.7778\n",
      "Train Precision: 0.5753\n",
      "Train Recall: 0.4573\n",
      "Train F1 Score: 0.5095\n",
      "Train Loss: 0.4531\n",
      "-------------------- Eval --------------------\n",
      "Eval Accuracy: 0.7940\n",
      "Eval Precision: 0.8000\n",
      "Eval Recall: 0.2400\n",
      "Eval F1 Score: 0.3692\n",
      "Eval Loss: 0.5000\n",
      "Learning Rate after Epoch 8: 0.00004305\n",
      "----------------------------------------\n",
      "Epoch 9/10\n",
      "-------------------- Train --------------------\n",
      "Train Accuracy: 0.8317\n",
      "Train Precision: 0.7868\n",
      "Train Recall: 0.4573\n",
      "Train F1 Score: 0.5784\n",
      "Train Loss: 0.4064\n",
      "-------------------- Eval --------------------\n",
      "Eval Accuracy: 0.8040\n",
      "Eval Precision: 0.7037\n",
      "Eval Recall: 0.3800\n",
      "Eval F1 Score: 0.4935\n",
      "Eval Loss: 0.4560\n",
      "Learning Rate after Epoch 9: 0.00003874\n",
      "----------------------------------------\n",
      "Epoch 10/10\n",
      "-------------------- Train --------------------\n",
      "Train Accuracy: 0.8101\n",
      "Train Precision: 0.6790\n",
      "Train Recall: 0.4701\n",
      "Train F1 Score: 0.5556\n",
      "Train Loss: 0.4023\n",
      "-------------------- Eval --------------------\n",
      "Eval Accuracy: 0.8241\n",
      "Eval Precision: 0.8261\n",
      "Eval Recall: 0.3800\n",
      "Eval F1 Score: 0.5205\n",
      "Eval Loss: 0.4333\n",
      "Learning Rate after Epoch 10: 0.00003487\n",
      "----------------------------------------\n",
      "Testing the model on the test set...\n",
      "-------------------- Test --------------------\n",
      "Test Accuracy: 0.7789\n",
      "Test Precision: 0.6364\n",
      "Test Recall: 0.2800\n",
      "Test F1 Score: 0.3889\n",
      "Test Loss: 0.5458\n"
     ]
    }
   ],
   "source": [
    "if __name__ == \"__main__\":\n",
    "    set_seed(42)\n",
    "\n",
    "    # Initialize the SMCA model A\n",
    "    model = SimultaneousParallel(device).to(device)  # Dimension for d_out_kq and d_out_v\n",
    "\n",
    "    # Determine the output dimensions\n",
    "    output_dim = 768\n",
    "\n",
    "    # Own DenseLayer or FinalClassifier\n",
    "    if isFinalClassifier:\n",
    "        dense_layer = FinalClassifier(output_dim * max_pad).to(device) \n",
    "    else:\n",
    "        dense_layer = DenseLayer(output_dim * max_pad).to(device)\n",
    "\n",
    "    optimizer = get_optimizer(list(dense_layer.parameters()), learning_rate)\n",
    "\n",
    "    scheduler = ExponentialLR(optimizer, gamma=decay_rate)\n",
    "    \n",
    "    # Lists to store the training and validation losses\n",
    "    train_losses = []\n",
    "    val_losses = []\n",
    "    \n",
    "    print(\"Number of Epochs:\", num_epochs)\n",
    "    print(\"learning rate:\", learning_rate)\n",
    "\n",
    "    for epoch in range(num_epochs):\n",
    "        print(\"-\" * 40)\n",
    "        print(f\"Epoch {epoch + 1}/{num_epochs}\")\n",
    "\n",
    "        # Ensure you have a dataloader that yields inputs and targets\n",
    "        train_average_loss, train_accuracy, train_precision, train_recall, train_f1_score = train_model(model=model, dense_layer=dense_layer, dataloader=train_dataloader, criterion=criterion, optimizer=optimizer, device=device)\n",
    "        train_losses.append(train_average_loss)  # Store training loss\n",
    "        \n",
    "        print(\"-\" * 20, \"Train\", \"-\" * 20)\n",
    "        print(f\"Train Accuracy: {train_accuracy:.4f}\")\n",
    "        print(f\"Train Precision: {train_precision:.4f}\")\n",
    "        print(f\"Train Recall: {train_recall:.4f}\")\n",
    "        print(f\"Train F1 Score: {train_f1_score:.4f}\")\n",
    "        print(f\"Train Loss: {train_average_loss:.4f}\")\n",
    "        \n",
    "        for name, param in model.named_parameters():\n",
    "            if param.grad is None:\n",
    "                print(\"After train: model:\", \"No gradient for:\", name)\n",
    "        \n",
    "        for name, param in dense_layer.named_parameters():\n",
    "            if param.grad is None:\n",
    "                print(\"After train: classifier:\", \"No gradient for:\", name)\n",
    "\n",
    "        # Validate step\n",
    "        val_average_loss, val_accuracy, val_precision, val_recall, val_f1_score, val_conf_matrix = evaluate_model(model=model, dense_layer=dense_layer, dataloader=val_dataloader, criterion=criterion, device=device)\n",
    "        val_losses.append(val_average_loss)  # Store validation loss\n",
    "        \n",
    "        print(\"-\" * 20, \"Eval\", \"-\" * 20)\n",
    "        print(f\"Eval Accuracy: {val_accuracy:.4f}\")\n",
    "        print(f\"Eval Precision: {val_precision:.4f}\")\n",
    "        print(f\"Eval Recall: {val_recall:.4f}\")\n",
    "        print(f\"Eval F1 Score: {val_f1_score:.4f}\")\n",
    "        print(f\"Eval Loss: {val_average_loss:.4f}\")\n",
    "        \n",
    "        # Update learning rate\n",
    "        scheduler.step()\n",
    "\n",
    "        # Log current learning rate\n",
    "        current_lr = scheduler.get_last_lr()[0]\n",
    "        print(f\"Learning Rate after Epoch {epoch + 1}: {current_lr:.8f}\")\n",
    "        \n",
    "    # Testing the model\n",
    "    print(\"-\" * 40)\n",
    "    print(\"Testing the model on the test set...\")\n",
    "    test_average_loss, test_accuracy, test_precision, test_recall, test_f1_score, test_conf_matrix = test_model(model=model, dense_layer=dense_layer, dataloader=test_dataloader, criterion=criterion, device=device)\n",
    "    \n",
    "    print(\"-\" * 20, \"Test\", \"-\" * 20)\n",
    "    print(f\"Test Accuracy: {test_accuracy:.4f}\")\n",
    "    print(f\"Test Precision: {test_precision:.4f}\")\n",
    "    print(f\"Test Recall: {test_recall:.4f}\")\n",
    "    print(f\"Test F1 Score: {test_f1_score:.4f}\")\n",
    "    print(f\"Test Loss: {test_average_loss:.4f}\")\n",
    "    \n",
    "    # Summary of metrics\n",
    "    metrics_summary = {\n",
    "        \"Train Accuracy\": [train_accuracy],\n",
    "        \"Validation Accuracy\": [val_accuracy],\n",
    "        \"Test Accuracy\": [test_accuracy],\n",
    "        \"Train Precision\": [train_precision],\n",
    "        \"Validation Precision\": [val_precision],\n",
    "        \"Test Precision\": [test_precision],\n",
    "        \"Train Recall\": [train_recall],\n",
    "        \"Validation Recall\": [val_recall],\n",
    "        \"Test Recall\": [test_recall],\n",
    "        \"Train F1 Score\": [train_f1_score],\n",
    "        \"Validation F1 Score\": [val_f1_score],\n",
    "        \"Test F1 Score\": [test_f1_score],\n",
    "        \"Train Loss\": [train_average_loss],\n",
    "        \"Validation Loss\": [val_average_loss],\n",
    "        \"Test Loss\": [test_average_loss]\n",
    "    }\n",
    "    \n",
    "    # Create DataFrame\n",
    "    metrics_df = pd.DataFrame(metrics_summary)\n",
    "    "
   ]
  },
  {
   "cell_type": "markdown",
   "metadata": {},
   "source": [
    "### Results Monitoring"
   ]
  },
  {
   "cell_type": "code",
   "execution_count": 24,
   "metadata": {},
   "outputs": [
    {
     "data": {
      "image/png": "[encoded data removed]",
      "text/plain": [
       "<Figure size 1000x500 with 1 Axes>"
      ]
     },
     "metadata": {},
     "output_type": "display_data"
    }
   ],
   "source": [
    "plot_losses(train_losses, val_losses)"
   ]
  },
  {
   "cell_type": "code",
   "execution_count": 25,
   "metadata": {},
   "outputs": [
    {
     "data": {
      "image/png": "[encoded data removed]",
      "text/plain": [
       "<Figure size 600x500 with 1 Axes>"
      ]
     },
     "metadata": {},
     "output_type": "display_data"
    }
   ],
   "source": [
    "plot_confusion_matrix(test_conf_matrix)"
   ]
  },
  {
   "cell_type": "code",
   "execution_count": 26,
   "metadata": {},
   "outputs": [
    {
     "data": {
      "text/html": [
       "<div>\n",
       "<style scoped>\n",
       "    .dataframe tbody tr th:only-of-type {\n",
       "        vertical-align: middle;\n",
       "    }\n",
       "\n",
       "    .dataframe tbody tr th {\n",
       "        vertical-align: top;\n",
       "    }\n",
       "\n",
       "    .dataframe thead th {\n",
       "        text-align: right;\n",
       "    }\n",
       "</style>\n",
       "<table border=\"1\" class=\"dataframe\">\n",
       "  <thead>\n",
       "    <tr style=\"text-align: right;\">\n",
       "      <th></th>\n",
       "      <th>Train Accuracy</th>\n",
       "      <th>Validation Accuracy</th>\n",
       "      <th>Test Accuracy</th>\n",
       "      <th>Train Precision</th>\n",
       "      <th>Validation Precision</th>\n",
       "      <th>Test Precision</th>\n",
       "      <th>Train Recall</th>\n",
       "      <th>Validation Recall</th>\n",
       "      <th>Test Recall</th>\n",
       "      <th>Train F1 Score</th>\n",
       "      <th>Validation F1 Score</th>\n",
       "      <th>Test F1 Score</th>\n",
       "      <th>Train Loss</th>\n",
       "      <th>Validation Loss</th>\n",
       "      <th>Test Loss</th>\n",
       "    </tr>\n",
       "  </thead>\n",
       "  <tbody>\n",
       "    <tr>\n",
       "      <th>0</th>\n",
       "      <td>0.81014</td>\n",
       "      <td>0.824121</td>\n",
       "      <td>0.778894</td>\n",
       "      <td>0.679012</td>\n",
       "      <td>0.826087</td>\n",
       "      <td>0.636364</td>\n",
       "      <td>0.470085</td>\n",
       "      <td>0.38</td>\n",
       "      <td>0.28</td>\n",
       "      <td>0.555556</td>\n",
       "      <td>0.520548</td>\n",
       "      <td>0.388889</td>\n",
       "      <td>0.402324</td>\n",
       "      <td>0.433349</td>\n",
       "      <td>0.545837</td>\n",
       "    </tr>\n",
       "  </tbody>\n",
       "</table>\n",
       "</div>"
      ],
      "text/plain": [
       "   Train Accuracy  Validation Accuracy  Test Accuracy  Train Precision  \\\n",
       "0         0.81014             0.824121       0.778894         0.679012   \n",
       "\n",
       "   Validation Precision  Test Precision  Train Recall  Validation Recall  \\\n",
       "0              0.826087        0.636364      0.470085               0.38   \n",
       "\n",
       "   Test Recall  Train F1 Score  Validation F1 Score  Test F1 Score  \\\n",
       "0         0.28        0.555556             0.520548       0.388889   \n",
       "\n",
       "   Train Loss  Validation Loss  Test Loss  \n",
       "0    0.402324         0.433349   0.545837  "
      ]
     },
     "execution_count": 26,
     "metadata": {},
     "output_type": "execute_result"
    }
   ],
   "source": [
    "# Display the table\n",
    "metrics_df"
   ]
  },
  {
   "cell_type": "code",
   "execution_count": 27,
   "metadata": {},
   "outputs": [
    {
     "name": "stdout",
     "output_type": "stream",
     "text": [
      "Train DataLoader: Total Samples = 927, Number of Batches = 29\n",
      "Validation DataLoader: Total Samples = 199, Number of Batches = 13\n",
      "Test DataLoader: Total Samples = 199, Number of Batches = 13\n"
     ]
    }
   ],
   "source": [
    "# Print sizes of each DataLoader (FOR CHECKING)\n",
    "print_dataloader_sizes(train_dataloader, \"Train\")\n",
    "print_dataloader_sizes(val_dataloader, \"Validation\")\n",
    "print_dataloader_sizes(test_dataloader, \"Test\")\n"
   ]
  },
  {
   "cell_type": "markdown",
   "metadata": {},
   "source": [
    "### Cross-Validation"
   ]
  },
  {
   "cell_type": "code",
   "execution_count": 28,
   "metadata": {},
   "outputs": [],
   "source": [
    "def plot_average_loss_curves(train_losses_folds, val_losses_folds):\n",
    "    # Transpose folds to calculate averages and standard deviations per epoch\n",
    "    num_epochs = len(train_losses_folds[0])\n",
    "    \n",
    "    # Calculate average and standard deviation for training losses\n",
    "    avg_train_losses = [np.mean([fold[epoch] for fold in train_losses_folds]) for epoch in range(num_epochs)]\n",
    "    std_train_losses = [np.std([fold[epoch] for fold in train_losses_folds]) for epoch in range(num_epochs)]\n",
    "    \n",
    "    # Calculate average and standard deviation for validation losses\n",
    "    avg_val_losses = [np.mean([fold[epoch] for fold in val_losses_folds]) for epoch in range(num_epochs)]\n",
    "    std_val_losses = [np.std([fold[epoch] for fold in val_losses_folds]) for epoch in range(num_epochs)]\n",
    "    \n",
    "    # Define the epochs\n",
    "    epochs = range(1, num_epochs + 1)\n",
    "    \n",
    "    # Plotting\n",
    "    plt.figure(figsize=(12, 7))\n",
    "    \n",
    "    # Plot average training loss with markers and shaded standard deviation\n",
    "    plt.plot(epochs, avg_train_losses, label='Average Training Loss', color='#1f77b4', linewidth=2, marker='o')\n",
    "    plt.fill_between(epochs, \n",
    "                     np.array(avg_train_losses) - np.array(std_train_losses), \n",
    "                     np.array(avg_train_losses) + np.array(std_train_losses), \n",
    "                     color='#1f77b4', alpha=0.2)\n",
    "    \n",
    "    # Plot average validation loss with markers and shaded standard deviation\n",
    "    plt.plot(epochs, avg_val_losses, label='Average Validation Loss', color='#ff7f0e', linewidth=2, marker='o')\n",
    "    plt.fill_between(epochs, \n",
    "                     np.array(avg_val_losses) - np.array(std_val_losses), \n",
    "                     np.array(avg_val_losses) + np.array(std_val_losses), \n",
    "                     color='#ff7f0e', alpha=0.2)\n",
    "    \n",
    "    # Add titles and labels\n",
    "    plt.title('Average Training and Validation Loss Across Folds', fontsize=16, weight='bold')\n",
    "    plt.xlabel('Epochs', fontsize=14)\n",
    "    plt.ylabel('Loss', fontsize=14)\n",
    "    plt.xticks(fontsize=12)\n",
    "    plt.yticks(fontsize=12)\n",
    "    \n",
    "    # Highlight the minimum validation loss epoch\n",
    "    min_val_epoch = np.argmin(avg_val_losses) + 1\n",
    "    min_val_loss = avg_val_losses[min_val_epoch - 1]\n",
    "    plt.scatter(min_val_epoch, min_val_loss, color='red', zorder=5)\n",
    "    \n",
    "    # Dynamically position the annotation text slightly above the marker\n",
    "    text_offset = (max(avg_val_losses) - min(avg_val_losses)) * 0.05\n",
    "    plt.text(min_val_epoch, min_val_loss + text_offset, \n",
    "             f'Min Val Loss: {min_val_loss:.4f}', \n",
    "             color='black', fontsize=12, ha='center')\n",
    "    \n",
    "    # Add legend\n",
    "    plt.legend(fontsize=12, frameon=True, edgecolor='black')\n",
    "    \n",
    "    # Add grid\n",
    "    plt.grid(True, linestyle='--', alpha=0.5)\n",
    "    \n",
    "    # Show the plot\n",
    "    plt.tight_layout()\n",
    "    plt.show()\n"
   ]
  },
  {
   "cell_type": "code",
   "execution_count": 29,
   "metadata": {},
   "outputs": [],
   "source": [
    "def visualize_kfold_distribution(fold_data, num_folds):\n",
    "\n",
    "    training_color = \"#3399ff\"\n",
    "    testing_color = \"#ff9933\"  \n",
    "\n",
    "    plt.figure(figsize=(14, 7))\n",
    "    \n",
    "    for fold_idx, fold in enumerate(fold_data):\n",
    "        for sample_idx, val in enumerate(fold):\n",
    "            if val == 1:  \n",
    "                plt.barh(fold_idx, width=1, left=sample_idx, color=training_color)\n",
    "            elif val == -1:  \n",
    "                plt.barh(fold_idx, width=1, left=sample_idx, color=testing_color)\n",
    "\n",
    "    # Enhance plot aesthetics\n",
    "    plt.title(\"K-Fold Training and Testing Set Distribution\", fontsize=18, weight='bold', pad=20)\n",
    "    plt.xlabel(\"Data Index\", fontsize=14, labelpad=10)\n",
    "    plt.ylabel(\"Fold\", fontsize=14, labelpad=10)\n",
    "    plt.yticks(range(num_folds), [f\"Fold {i+1}\" for i in range(num_folds)], fontsize=12)\n",
    "    plt.xticks(fontsize=12)\n",
    "    plt.grid(axis='x', linestyle='--', alpha=0.4)\n",
    "    \n",
    "    # Create a custom legend\n",
    "    training_patch = mpatches.Patch(color=training_color, label='Training Set')\n",
    "    testing_patch = mpatches.Patch(color=testing_color, label='Testing Set')\n",
    "    plt.legend(handles=[training_patch, testing_patch], loc='upper right', fontsize=12, frameon=True, facecolor='white', edgecolor='black')\n",
    "    \n",
    "    plt.tight_layout()\n",
    "    plt.show()"
   ]
  },
  {
   "cell_type": "code",
   "execution_count": 30,
   "metadata": {},
   "outputs": [],
   "source": [
    "def print_cv_dataloader(dataloader, name=\"Dataloader\"):\n",
    "    total_samples = len(dataloader.sampler)\n",
    "    num_batches = len(dataloader)\n",
    "    print(f\"{name}: Total Samples = {total_samples}, Number of Batches = {num_batches}\")"
   ]
  },
  {
   "cell_type": "code",
   "execution_count": 31,
   "metadata": {},
   "outputs": [],
   "source": [
    "def cross_validate_model(\n",
    "    dataset, \n",
    "    model_class, \n",
    "    dense_layer_class, \n",
    "    num_folds, \n",
    "    num_epochs, \n",
    "    output_dim,\n",
    "    criterion,\n",
    "    learning_rate,\n",
    "    train_batch_size,\n",
    "    val_batch_size,\n",
    "    output_file,\n",
    "    device=None\n",
    "):\n",
    "    # Set device configuration\n",
    "    if device is None:\n",
    "        device = torch.device(\"cuda\" if torch.cuda.is_available() else \"cpu\")\n",
    "    print(f\"Device: {device}\")\n",
    "    \n",
    "    set_seed(42)  # Set global seed at the start\n",
    "    \n",
    "    # Initialize the KFold splitter\n",
    "    kf = KFold(n_splits=num_folds, shuffle=True, random_state=42)\n",
    "\n",
    "    # lists to store metrics for each fold\n",
    "    fold_losses = []\n",
    "    fold_accuracies = []\n",
    "    fold_precisions = []\n",
    "    fold_recalls = []\n",
    "    fold_f1_scores = []\n",
    "    \n",
    "    # Lists to store metrics and losses for each fold\n",
    "    train_losses_folds = []  # List of lists: train_losses_folds[fold][epoch]\n",
    "    val_losses_folds = []    # List of lists: val_losses_folds[fold][epoch]\n",
    "    \n",
    "    print(\"Number of Epochs:\", num_epochs)\n",
    "    print(\"learning rate:\", learning_rate)\n",
    "    \n",
    "    # Visualization data structure\n",
    "    num_samples = len(dataset)\n",
    "    fold_data = np.zeros((num_folds, num_samples))  # Rows: folds, Columns: dataset samples\n",
    "    \n",
    "    # Perform K-Fold Cross-Validation\n",
    "    for fold, (train_idx, val_idx) in enumerate(kf.split(dataset)):\n",
    "        print(\"-\" * 60)\n",
    "        print(f\"------------------------- Fold {fold + 1 }/{num_folds} -------------------------\")\n",
    "        \n",
    "        # Mark train and test samples for visualization\n",
    "        fold_data[fold, train_idx] = 1  # Training set\n",
    "        fold_data[fold, val_idx] = -1  # Testing set\n",
    "        \n",
    "        # Create data loaders for the train and validation sets\n",
    "        train_sampler = torch.utils.data.SubsetRandomSampler(train_idx)\n",
    "        val_sampler = torch.utils.data.SubsetRandomSampler(val_idx)\n",
    "        \n",
    "        train_dataloader = torch.utils.data.DataLoader(dataset, batch_size=train_batch_size, sampler=train_sampler, collate_fn=collate_fn)\n",
    "        val_dataloader = torch.utils.data.DataLoader(dataset, batch_size=val_batch_size, sampler=val_sampler, collate_fn=collate_fn)\n",
    "        \n",
    "        print_cv_dataloader(train_dataloader, \"Train DataLoader\")\n",
    "        print_cv_dataloader(val_dataloader, \"Validation DataLoader\")\n",
    "        \n",
    "        # Initialize the model, dense layer, criterion, and optimizer for each fold\n",
    "        model = model_class(device).to(device)\n",
    "        \n",
    "        dense_layer = dense_layer_class(output_dim * max_pad).to(device)\n",
    "        criterion = criterion.to(device)\n",
    "        optimizer = get_optimizer(list(dense_layer.parameters()), learning_rate)\n",
    "\n",
    "        scheduler = ExponentialLR(optimizer, gamma=decay_rate)\n",
    "        \n",
    "        # Initialize lists to track losses for this fold\n",
    "        train_losses = []\n",
    "        val_losses = []\n",
    "        \n",
    "        # Use tqdm for progress bar\n",
    "        epoch_progress = tqdm(range(num_epochs), desc=f\"Fold {fold + 1}/{num_folds} Training\", leave=True)\n",
    "\n",
    "\n",
    "        # Training loop for each fold\n",
    "        for epoch in epoch_progress:\n",
    "            print(f\"------------------------- Epoch {epoch + 1}/{num_epochs} -------------------------\")\n",
    "            \n",
    "            # Train and evaluate the model on the training and validation sets\n",
    "            train_average_loss, train_accuracy, train_precision, train_recall, train_f1_score = train_model(model=model, dense_layer=dense_layer, dataloader=train_dataloader, criterion=criterion, optimizer=optimizer, device=device)\n",
    "            val_average_loss, val_accuracy, val_precision, val_recall, val_f1_score, val_conf_matrix = evaluate_model(model=model, dense_layer=dense_layer, dataloader=val_dataloader, criterion=criterion, device=device)\n",
    "            \n",
    "            # Track losses for this fold and epoch\n",
    "            train_losses.append(train_average_loss)\n",
    "            val_losses.append(val_average_loss)\n",
    "            \n",
    "            print(f\"\\nTrain Accuracy: {train_accuracy:.4f}\")\n",
    "            print(f\"Train Precision: {train_precision:.4f}\")\n",
    "            print(f\"Train Recall: {train_recall:.4f}\")\n",
    "            print(f\"Train F1 Score: {train_f1_score:.4f}\")\n",
    "            print(f\"Train Loss: {train_average_loss:.4f}\")\n",
    "            \n",
    "            print(f\"\\nEval Accuracy: {val_accuracy:.4f}\")\n",
    "            print(f\"Eval Precision: {val_precision:.4f}\")   \n",
    "            print(f\"Eval Recall: {val_recall:.4f}\")\n",
    "            print(f\"Eval F1 Score: {val_f1_score:.4f}\")\n",
    "            print(f\"Eval Loss: {val_average_loss:.4f}\")\n",
    "\n",
    "            # Update learning rate\n",
    "            scheduler.step()\n",
    "\n",
    "            # Log current learning rate\n",
    "            current_lr = scheduler.get_last_lr()[0]\n",
    "            print(f\"Learning Rate after Epoch {epoch + 1}: {current_lr:.8f}\")\n",
    "            \n",
    "            # Update tqdm progress bar description\n",
    "            epoch_progress.set_postfix({\n",
    "                \"Train Loss\": f\"{train_average_loss:.4f}\",\n",
    "                \"Val Loss\": f\"{val_average_loss:.4f}\",\n",
    "                \"Train F1\": f\"{train_f1_score:.4f}\",\n",
    "                \"Val F1\": f\"{val_f1_score:.4f}\",\n",
    "            })\n",
    "        \n",
    "        # Store losses for the fold\n",
    "        train_losses_folds.append(train_losses)\n",
    "        val_losses_folds.append(val_losses)\n",
    "           \n",
    "        # Store the validation metrics for this fold\n",
    "        fold_losses.append(val_average_loss)\n",
    "        fold_accuracies.append(val_accuracy)\n",
    "        fold_precisions.append(val_precision)\n",
    "        fold_recalls.append(val_recall)\n",
    "        fold_f1_scores.append(val_f1_score)\n",
    "\n",
    "    # Calculate the average metrics across all folds\n",
    "    avg_loss = np.mean(fold_losses)\n",
    "    avg_accuracy = np.mean(fold_accuracies)\n",
    "    avg_precision = np.mean(fold_precisions)\n",
    "    avg_recall = np.mean(fold_recalls)\n",
    "    avg_f1_score = np.mean(fold_f1_scores)\n",
    "\n",
    "    print(\"-\" * 50)\n",
    "    print(\"\\nK-Fold Cross-Validation Results:\")\n",
    "    print(f\"Average Loss: {avg_loss:.4f}\")\n",
    "    print(f\"Average Accuracy: {avg_accuracy:.4f}\")\n",
    "    print(f\"Average Precision: {avg_precision:.4f}\")\n",
    "    print(f\"Average Recall: {avg_recall:.4f}\")\n",
    "    print(f\"Average F1 Score: {avg_f1_score:.4f}\")\n",
    "\n",
    "    results_dict = {\"Metrics\": [\"Loss\", \"Accuracy\", \"Precision\", \"Recall\", \"F1 Score\"]}\n",
    "    for i in range(num_folds):\n",
    "        results_dict[f\"Fold {i + 1}\"] = [fold_losses[i], fold_accuracies[i], fold_precisions[i], fold_recalls[i], fold_f1_scores[i]]\n",
    "    results_dict[\"Average\"] = [avg_loss, avg_accuracy, avg_precision, avg_recall, avg_f1_score]\n",
    "\n",
    "    # Create DataFrame\n",
    "    results_df = pd.DataFrame(results_dict)\n",
    "    \n",
    "    # Ensure the output directory exists\n",
    "    output_dir = os.path.dirname(output_file)\n",
    "    if output_dir and not os.path.exists(output_dir):\n",
    "        os.makedirs(output_dir)  \n",
    "        \n",
    "    # Save results to .csv\n",
    "    results_df.to_csv(output_file, index=False)\n",
    "    \n",
    "    return results_df, train_losses_folds, val_losses_folds, fold_data"
   ]
  },
  {
   "cell_type": "code",
   "execution_count": 32,
   "metadata": {},
   "outputs": [
    {
     "name": "stdout",
     "output_type": "stream",
     "text": [
      "Device: cuda\n",
      "Number of Epochs: 10\n",
      "learning rate: 0.0001\n",
      "------------------------------------------------------------\n",
      "------------------------- Fold 1/5 -------------------------\n",
      "Train DataLoader: Total Samples = 1060, Number of Batches = 34\n",
      "Validation DataLoader: Total Samples = 265, Number of Batches = 17\n"
     ]
    },
    {
     "name": "stderr",
     "output_type": "stream",
     "text": [
      "Fold 1/5 Training:   0%|          | 0/10 [00:00<?, ?it/s]"
     ]
    },
    {
     "name": "stdout",
     "output_type": "stream",
     "text": [
      "------------------------- Epoch 1/10 -------------------------\n"
     ]
    },
    {
     "name": "stderr",
     "output_type": "stream",
     "text": [
      "Fold 1/5 Training:  10%|█         | 1/10 [03:09<28:22, 189.21s/it, Train Loss=0.7302, Val Loss=0.5700, Train F1=0.2850, Val F1=0.3967]"
     ]
    },
    {
     "name": "stdout",
     "output_type": "stream",
     "text": [
      "\n",
      "Train Accuracy: 0.7160\n",
      "Train Precision: 0.3846\n",
      "Train Recall: 0.2264\n",
      "Train F1 Score: 0.2850\n",
      "Train Loss: 0.7302\n",
      "\n",
      "Eval Accuracy: 0.7245\n",
      "Eval Precision: 0.4615\n",
      "Eval Recall: 0.3478\n",
      "Eval F1 Score: 0.3967\n",
      "Eval Loss: 0.5700\n",
      "Learning Rate after Epoch 1: 0.00009000\n",
      "------------------------- Epoch 2/10 -------------------------\n"
     ]
    },
    {
     "name": "stderr",
     "output_type": "stream",
     "text": [
      "Fold 1/5 Training:  20%|██        | 2/10 [06:25<25:48, 193.56s/it, Train Loss=0.5670, Val Loss=0.5532, Train F1=0.4101, Val F1=0.1750]"
     ]
    },
    {
     "name": "stdout",
     "output_type": "stream",
     "text": [
      "\n",
      "Train Accuracy: 0.7368\n",
      "Train Precision: 0.4663\n",
      "Train Recall: 0.3660\n",
      "Train F1 Score: 0.4101\n",
      "Train Loss: 0.5670\n",
      "\n",
      "Eval Accuracy: 0.7509\n",
      "Eval Precision: 0.6364\n",
      "Eval Recall: 0.1014\n",
      "Eval F1 Score: 0.1750\n",
      "Eval Loss: 0.5532\n",
      "Learning Rate after Epoch 2: 0.00008100\n",
      "------------------------- Epoch 3/10 -------------------------\n"
     ]
    },
    {
     "name": "stderr",
     "output_type": "stream",
     "text": [
      "Fold 1/5 Training:  30%|███       | 3/10 [09:41<22:41, 194.47s/it, Train Loss=0.5226, Val Loss=0.5811, Train F1=0.4151, Val F1=0.2804]"
     ]
    },
    {
     "name": "stdout",
     "output_type": "stream",
     "text": [
      "\n",
      "Train Accuracy: 0.7660\n",
      "Train Precision: 0.5535\n",
      "Train Recall: 0.3321\n",
      "Train F1 Score: 0.4151\n",
      "Train Loss: 0.5226\n",
      "\n",
      "Eval Accuracy: 0.7094\n",
      "Eval Precision: 0.3947\n",
      "Eval Recall: 0.2174\n",
      "Eval F1 Score: 0.2804\n",
      "Eval Loss: 0.5811\n",
      "Learning Rate after Epoch 3: 0.00007290\n",
      "------------------------- Epoch 4/10 -------------------------\n"
     ]
    },
    {
     "name": "stderr",
     "output_type": "stream",
     "text": [
      "Fold 1/5 Training:  40%|████      | 4/10 [12:56<19:29, 194.89s/it, Train Loss=0.4624, Val Loss=0.5190, Train F1=0.4962, Val F1=0.4158]"
     ]
    },
    {
     "name": "stdout",
     "output_type": "stream",
     "text": [
      "\n",
      "Train Accuracy: 0.8104\n",
      "Train Precision: 0.7388\n",
      "Train Recall: 0.3736\n",
      "Train F1 Score: 0.4962\n",
      "Train Loss: 0.4624\n",
      "\n",
      "Eval Accuracy: 0.7774\n",
      "Eval Precision: 0.6562\n",
      "Eval Recall: 0.3043\n",
      "Eval F1 Score: 0.4158\n",
      "Eval Loss: 0.5190\n",
      "Learning Rate after Epoch 4: 0.00006561\n",
      "------------------------- Epoch 5/10 -------------------------\n"
     ]
    },
    {
     "name": "stderr",
     "output_type": "stream",
     "text": [
      "Fold 1/5 Training:  50%|█████     | 5/10 [16:11<16:14, 194.96s/it, Train Loss=0.4696, Val Loss=0.4939, Train F1=0.4965, Val F1=0.4865]"
     ]
    },
    {
     "name": "stdout",
     "output_type": "stream",
     "text": [
      "\n",
      "Train Accuracy: 0.7991\n",
      "Train Precision: 0.6646\n",
      "Train Recall: 0.3962\n",
      "Train F1 Score: 0.4965\n",
      "Train Loss: 0.4696\n",
      "\n",
      "Eval Accuracy: 0.7849\n",
      "Eval Precision: 0.6429\n",
      "Eval Recall: 0.3913\n",
      "Eval F1 Score: 0.4865\n",
      "Eval Loss: 0.4939\n",
      "Learning Rate after Epoch 5: 0.00005905\n",
      "------------------------- Epoch 6/10 -------------------------\n"
     ]
    },
    {
     "name": "stderr",
     "output_type": "stream",
     "text": [
      "Fold 1/5 Training:  60%|██████    | 6/10 [19:27<13:00, 195.03s/it, Train Loss=0.4508, Val Loss=0.5016, Train F1=0.4927, Val F1=0.4737]"
     ]
    },
    {
     "name": "stdout",
     "output_type": "stream",
     "text": [
      "\n",
      "Train Accuracy: 0.8038\n",
      "Train Precision: 0.6966\n",
      "Train Recall: 0.3811\n",
      "Train F1 Score: 0.4927\n",
      "Train Loss: 0.4508\n",
      "\n",
      "Eval Accuracy: 0.7736\n",
      "Eval Precision: 0.6000\n",
      "Eval Recall: 0.3913\n",
      "Eval F1 Score: 0.4737\n",
      "Eval Loss: 0.5016\n",
      "Learning Rate after Epoch 6: 0.00005314\n",
      "------------------------- Epoch 7/10 -------------------------\n"
     ]
    },
    {
     "name": "stderr",
     "output_type": "stream",
     "text": [
      "Fold 1/5 Training:  70%|███████   | 7/10 [22:43<09:45, 195.32s/it, Train Loss=0.4567, Val Loss=0.5687, Train F1=0.4416, Val F1=0.3429]"
     ]
    },
    {
     "name": "stdout",
     "output_type": "stream",
     "text": [
      "\n",
      "Train Accuracy: 0.7925\n",
      "Train Precision: 0.6744\n",
      "Train Recall: 0.3283\n",
      "Train F1 Score: 0.4416\n",
      "Train Loss: 0.4567\n",
      "\n",
      "Eval Accuracy: 0.7396\n",
      "Eval Precision: 0.5000\n",
      "Eval Recall: 0.2609\n",
      "Eval F1 Score: 0.3429\n",
      "Eval Loss: 0.5687\n",
      "Learning Rate after Epoch 7: 0.00004783\n",
      "------------------------- Epoch 8/10 -------------------------\n"
     ]
    },
    {
     "name": "stderr",
     "output_type": "stream",
     "text": [
      "Fold 1/5 Training:  80%|████████  | 8/10 [25:58<06:30, 195.32s/it, Train Loss=0.4026, Val Loss=0.5275, Train F1=0.5642, Val F1=0.3960]"
     ]
    },
    {
     "name": "stdout",
     "output_type": "stream",
     "text": [
      "\n",
      "Train Accuracy: 0.8208\n",
      "Train Precision: 0.7193\n",
      "Train Recall: 0.4642\n",
      "Train F1 Score: 0.5642\n",
      "Train Loss: 0.4026\n",
      "\n",
      "Eval Accuracy: 0.7698\n",
      "Eval Precision: 0.6250\n",
      "Eval Recall: 0.2899\n",
      "Eval F1 Score: 0.3960\n",
      "Eval Loss: 0.5275\n",
      "Learning Rate after Epoch 8: 0.00004305\n",
      "------------------------- Epoch 9/10 -------------------------\n"
     ]
    },
    {
     "name": "stderr",
     "output_type": "stream",
     "text": [
      "Fold 1/5 Training:  90%|█████████ | 9/10 [29:13<03:15, 195.25s/it, Train Loss=0.4157, Val Loss=0.5569, Train F1=0.5111, Val F1=0.3800]"
     ]
    },
    {
     "name": "stdout",
     "output_type": "stream",
     "text": [
      "\n",
      "Train Accuracy: 0.8123\n",
      "Train Precision: 0.7324\n",
      "Train Recall: 0.3925\n",
      "Train F1 Score: 0.5111\n",
      "Train Loss: 0.4157\n",
      "\n",
      "Eval Accuracy: 0.7660\n",
      "Eval Precision: 0.6129\n",
      "Eval Recall: 0.2754\n",
      "Eval F1 Score: 0.3800\n",
      "Eval Loss: 0.5569\n",
      "Learning Rate after Epoch 9: 0.00003874\n",
      "------------------------- Epoch 10/10 -------------------------\n"
     ]
    },
    {
     "name": "stderr",
     "output_type": "stream",
     "text": [
      "Fold 1/5 Training: 100%|██████████| 10/10 [32:28<00:00, 194.89s/it, Train Loss=0.3826, Val Loss=0.5149, Train F1=0.5545, Val F1=0.4035]"
     ]
    },
    {
     "name": "stdout",
     "output_type": "stream",
     "text": [
      "\n",
      "Train Accuracy: 0.8226\n",
      "Train Precision: 0.7452\n",
      "Train Recall: 0.4415\n",
      "Train F1 Score: 0.5545\n",
      "Train Loss: 0.3826\n",
      "\n",
      "Eval Accuracy: 0.7434\n",
      "Eval Precision: 0.5111\n",
      "Eval Recall: 0.3333\n",
      "Eval F1 Score: 0.4035\n",
      "Eval Loss: 0.5149\n",
      "Learning Rate after Epoch 10: 0.00003487\n",
      "------------------------------------------------------------\n",
      "------------------------- Fold 2/5 -------------------------\n",
      "Train DataLoader: Total Samples = 1060, Number of Batches = 34\n",
      "Validation DataLoader: Total Samples = 265, Number of Batches = 17\n"
     ]
    },
    {
     "name": "stderr",
     "output_type": "stream",
     "text": [
      "\n",
      "Fold 2/5 Training:   0%|          | 0/10 [00:00<?, ?it/s]"
     ]
    },
    {
     "name": "stdout",
     "output_type": "stream",
     "text": [
      "------------------------- Epoch 1/10 -------------------------\n"
     ]
    },
    {
     "name": "stderr",
     "output_type": "stream",
     "text": [
      "Fold 2/5 Training:  10%|█         | 1/10 [03:01<27:17, 181.90s/it, Train Loss=0.7788, Val Loss=0.5207, Train F1=0.2664, Val F1=0.4182]"
     ]
    },
    {
     "name": "stdout",
     "output_type": "stream",
     "text": [
      "\n",
      "Train Accuracy: 0.6830\n",
      "Train Precision: 0.3245\n",
      "Train Recall: 0.2259\n",
      "Train F1 Score: 0.2664\n",
      "Train Loss: 0.7788\n",
      "\n",
      "Eval Accuracy: 0.7585\n",
      "Eval Precision: 0.5000\n",
      "Eval Recall: 0.3594\n",
      "Eval F1 Score: 0.4182\n",
      "Eval Loss: 0.5207\n",
      "Learning Rate after Epoch 1: 0.00009000\n",
      "------------------------- Epoch 2/10 -------------------------\n"
     ]
    },
    {
     "name": "stderr",
     "output_type": "stream",
     "text": [
      "Fold 2/5 Training:  20%|██        | 2/10 [06:06<24:26, 183.26s/it, Train Loss=0.5360, Val Loss=0.6175, Train F1=0.4525, Val F1=0.2368]"
     ]
    },
    {
     "name": "stdout",
     "output_type": "stream",
     "text": [
      "\n",
      "Train Accuracy: 0.7717\n",
      "Train Precision: 0.5814\n",
      "Train Recall: 0.3704\n",
      "Train F1 Score: 0.4525\n",
      "Train Loss: 0.5360\n",
      "\n",
      "Eval Accuracy: 0.7811\n",
      "Eval Precision: 0.7500\n",
      "Eval Recall: 0.1406\n",
      "Eval F1 Score: 0.2368\n",
      "Eval Loss: 0.6175\n",
      "Learning Rate after Epoch 2: 0.00008100\n",
      "------------------------- Epoch 3/10 -------------------------\n"
     ]
    },
    {
     "name": "stderr",
     "output_type": "stream",
     "text": [
      "Fold 2/5 Training:  30%|███       | 3/10 [09:09<21:23, 183.35s/it, Train Loss=0.4993, Val Loss=0.6423, Train F1=0.4802, Val F1=0.2469]"
     ]
    },
    {
     "name": "stdout",
     "output_type": "stream",
     "text": [
      "\n",
      "Train Accuracy: 0.7774\n",
      "Train Precision: 0.5924\n",
      "Train Recall: 0.4037\n",
      "Train F1 Score: 0.4802\n",
      "Train Loss: 0.4993\n",
      "\n",
      "Eval Accuracy: 0.7698\n",
      "Eval Precision: 0.5882\n",
      "Eval Recall: 0.1562\n",
      "Eval F1 Score: 0.2469\n",
      "Eval Loss: 0.6423\n",
      "Learning Rate after Epoch 3: 0.00007290\n",
      "------------------------- Epoch 4/10 -------------------------\n"
     ]
    },
    {
     "name": "stderr",
     "output_type": "stream",
     "text": [
      "Fold 2/5 Training:  40%|████      | 4/10 [12:12<18:19, 183.31s/it, Train Loss=0.4817, Val Loss=0.5090, Train F1=0.5208, Val F1=0.2970]"
     ]
    },
    {
     "name": "stdout",
     "output_type": "stream",
     "text": [
      "\n",
      "Train Accuracy: 0.7934\n",
      "Train Precision: 0.6364\n",
      "Train Recall: 0.4407\n",
      "Train F1 Score: 0.5208\n",
      "Train Loss: 0.4817\n",
      "\n",
      "Eval Accuracy: 0.7321\n",
      "Eval Precision: 0.4054\n",
      "Eval Recall: 0.2344\n",
      "Eval F1 Score: 0.2970\n",
      "Eval Loss: 0.5090\n",
      "Learning Rate after Epoch 4: 0.00006561\n",
      "------------------------- Epoch 5/10 -------------------------\n"
     ]
    },
    {
     "name": "stderr",
     "output_type": "stream",
     "text": [
      "Fold 2/5 Training:  50%|█████     | 5/10 [15:15<15:16, 183.24s/it, Train Loss=0.4971, Val Loss=0.5503, Train F1=0.5249, Val F1=0.1951]"
     ]
    },
    {
     "name": "stdout",
     "output_type": "stream",
     "text": [
      "\n",
      "Train Accuracy: 0.8019\n",
      "Train Precision: 0.6744\n",
      "Train Recall: 0.4296\n",
      "Train F1 Score: 0.5249\n",
      "Train Loss: 0.4971\n",
      "\n",
      "Eval Accuracy: 0.7509\n",
      "Eval Precision: 0.4444\n",
      "Eval Recall: 0.1250\n",
      "Eval F1 Score: 0.1951\n",
      "Eval Loss: 0.5503\n",
      "Learning Rate after Epoch 5: 0.00005905\n",
      "------------------------- Epoch 6/10 -------------------------\n"
     ]
    },
    {
     "name": "stderr",
     "output_type": "stream",
     "text": [
      "Fold 2/5 Training:  60%|██████    | 6/10 [18:19<12:13, 183.42s/it, Train Loss=0.4610, Val Loss=0.4610, Train F1=0.4792, Val F1=0.4583]"
     ]
    },
    {
     "name": "stdout",
     "output_type": "stream",
     "text": [
      "\n",
      "Train Accuracy: 0.7991\n",
      "Train Precision: 0.7050\n",
      "Train Recall: 0.3630\n",
      "Train F1 Score: 0.4792\n",
      "Train Loss: 0.4610\n",
      "\n",
      "Eval Accuracy: 0.8038\n",
      "Eval Precision: 0.6875\n",
      "Eval Recall: 0.3438\n",
      "Eval F1 Score: 0.4583\n",
      "Eval Loss: 0.4610\n",
      "Learning Rate after Epoch 6: 0.00005314\n",
      "------------------------- Epoch 7/10 -------------------------\n"
     ]
    },
    {
     "name": "stderr",
     "output_type": "stream",
     "text": [
      "Fold 2/5 Training:  70%|███████   | 7/10 [21:23<09:10, 183.43s/it, Train Loss=0.4612, Val Loss=0.4520, Train F1=0.4772, Val F1=0.3171]"
     ]
    },
    {
     "name": "stdout",
     "output_type": "stream",
     "text": [
      "\n",
      "Train Accuracy: 0.7726\n",
      "Train Precision: 0.5759\n",
      "Train Recall: 0.4074\n",
      "Train F1 Score: 0.4772\n",
      "Train Loss: 0.4612\n",
      "\n",
      "Eval Accuracy: 0.7887\n",
      "Eval Precision: 0.7222\n",
      "Eval Recall: 0.2031\n",
      "Eval F1 Score: 0.3171\n",
      "Eval Loss: 0.4520\n",
      "Learning Rate after Epoch 7: 0.00004783\n",
      "------------------------- Epoch 8/10 -------------------------\n"
     ]
    },
    {
     "name": "stderr",
     "output_type": "stream",
     "text": [
      "Fold 2/5 Training:  80%|████████  | 8/10 [24:26<06:06, 183.36s/it, Train Loss=0.4085, Val Loss=0.5105, Train F1=0.5714, Val F1=0.4130]"
     ]
    },
    {
     "name": "stdout",
     "output_type": "stream",
     "text": [
      "\n",
      "Train Accuracy: 0.8217\n",
      "Train Precision: 0.7368\n",
      "Train Recall: 0.4667\n",
      "Train F1 Score: 0.5714\n",
      "Train Loss: 0.4085\n",
      "\n",
      "Eval Accuracy: 0.7962\n",
      "Eval Precision: 0.6786\n",
      "Eval Recall: 0.2969\n",
      "Eval F1 Score: 0.4130\n",
      "Eval Loss: 0.5105\n",
      "Learning Rate after Epoch 8: 0.00004305\n",
      "------------------------- Epoch 9/10 -------------------------\n"
     ]
    },
    {
     "name": "stderr",
     "output_type": "stream",
     "text": [
      "Fold 2/5 Training:  90%|█████████ | 9/10 [27:29<03:03, 183.24s/it, Train Loss=0.4191, Val Loss=0.4732, Train F1=0.5337, Val F1=0.3956]"
     ]
    },
    {
     "name": "stdout",
     "output_type": "stream",
     "text": [
      "\n",
      "Train Accuracy: 0.8170\n",
      "Train Precision: 0.7603\n",
      "Train Recall: 0.4111\n",
      "Train F1 Score: 0.5337\n",
      "Train Loss: 0.4191\n",
      "\n",
      "Eval Accuracy: 0.7925\n",
      "Eval Precision: 0.6667\n",
      "Eval Recall: 0.2812\n",
      "Eval F1 Score: 0.3956\n",
      "Eval Loss: 0.4732\n",
      "Learning Rate after Epoch 9: 0.00003874\n",
      "------------------------- Epoch 10/10 -------------------------\n"
     ]
    },
    {
     "name": "stderr",
     "output_type": "stream",
     "text": [
      "Fold 2/5 Training: 100%|██████████| 10/10 [30:32<00:00, 183.23s/it, Train Loss=0.4254, Val Loss=0.5030, Train F1=0.5471, Val F1=0.5000]"
     ]
    },
    {
     "name": "stdout",
     "output_type": "stream",
     "text": [
      "\n",
      "Train Accuracy: 0.8142\n",
      "Train Precision: 0.7212\n",
      "Train Recall: 0.4407\n",
      "Train F1 Score: 0.5471\n",
      "Train Loss: 0.4254\n",
      "\n",
      "Eval Accuracy: 0.8038\n",
      "Eval Precision: 0.6500\n",
      "Eval Recall: 0.4062\n",
      "Eval F1 Score: 0.5000\n",
      "Eval Loss: 0.5030\n",
      "Learning Rate after Epoch 10: 0.00003487\n",
      "------------------------------------------------------------\n",
      "------------------------- Fold 3/5 -------------------------\n",
      "Train DataLoader: Total Samples = 1060, Number of Batches = 34\n",
      "Validation DataLoader: Total Samples = 265, Number of Batches = 17\n"
     ]
    },
    {
     "name": "stderr",
     "output_type": "stream",
     "text": [
      "\n",
      "Fold 3/5 Training:   0%|          | 0/10 [00:00<?, ?it/s]"
     ]
    },
    {
     "name": "stdout",
     "output_type": "stream",
     "text": [
      "------------------------- Epoch 1/10 -------------------------\n"
     ]
    },
    {
     "name": "stderr",
     "output_type": "stream",
     "text": [
      "Fold 3/5 Training:  10%|█         | 1/10 [03:04<27:43, 184.87s/it, Train Loss=0.6507, Val Loss=0.5642, Train F1=0.2918, Val F1=0.3704]"
     ]
    },
    {
     "name": "stdout",
     "output_type": "stream",
     "text": [
      "\n",
      "Train Accuracy: 0.7160\n",
      "Train Precision: 0.3713\n",
      "Train Recall: 0.2403\n",
      "Train F1 Score: 0.2918\n",
      "Train Loss: 0.6507\n",
      "\n",
      "Eval Accuracy: 0.6792\n",
      "Eval Precision: 0.4237\n",
      "Eval Recall: 0.3289\n",
      "Eval F1 Score: 0.3704\n",
      "Eval Loss: 0.5642\n",
      "Learning Rate after Epoch 1: 0.00009000\n",
      "------------------------- Epoch 2/10 -------------------------\n"
     ]
    },
    {
     "name": "stderr",
     "output_type": "stream",
     "text": [
      "Fold 3/5 Training:  20%|██        | 2/10 [06:19<25:24, 190.62s/it, Train Loss=0.6069, Val Loss=0.6397, Train F1=0.3990, Val F1=0.1205]"
     ]
    },
    {
     "name": "stdout",
     "output_type": "stream",
     "text": [
      "\n",
      "Train Accuracy: 0.7613\n",
      "Train Precision: 0.5153\n",
      "Train Recall: 0.3256\n",
      "Train F1 Score: 0.3990\n",
      "Train Loss: 0.6069\n",
      "\n",
      "Eval Accuracy: 0.7245\n",
      "Eval Precision: 0.7143\n",
      "Eval Recall: 0.0658\n",
      "Eval F1 Score: 0.1205\n",
      "Eval Loss: 0.6397\n",
      "Learning Rate after Epoch 2: 0.00008100\n",
      "------------------------- Epoch 3/10 -------------------------\n"
     ]
    },
    {
     "name": "stderr",
     "output_type": "stream",
     "text": [
      "Fold 3/5 Training:  30%|███       | 3/10 [09:34<22:29, 192.77s/it, Train Loss=0.5121, Val Loss=0.5197, Train F1=0.3860, Val F1=0.5197]"
     ]
    },
    {
     "name": "stdout",
     "output_type": "stream",
     "text": [
      "\n",
      "Train Accuracy: 0.7689\n",
      "Train Precision: 0.5461\n",
      "Train Recall: 0.2984\n",
      "Train F1 Score: 0.3860\n",
      "Train Loss: 0.5121\n",
      "\n",
      "Eval Accuracy: 0.7698\n",
      "Eval Precision: 0.6471\n",
      "Eval Recall: 0.4342\n",
      "Eval F1 Score: 0.5197\n",
      "Eval Loss: 0.5197\n",
      "Learning Rate after Epoch 3: 0.00007290\n",
      "------------------------- Epoch 4/10 -------------------------\n"
     ]
    },
    {
     "name": "stderr",
     "output_type": "stream",
     "text": [
      "Fold 3/5 Training:  40%|████      | 4/10 [12:49<19:21, 193.57s/it, Train Loss=0.5048, Val Loss=0.4866, Train F1=0.4000, Val F1=0.5714]"
     ]
    },
    {
     "name": "stdout",
     "output_type": "stream",
     "text": [
      "\n",
      "Train Accuracy: 0.7736\n",
      "Train Precision: 0.5634\n",
      "Train Recall: 0.3101\n",
      "Train F1 Score: 0.4000\n",
      "Train Loss: 0.5048\n",
      "\n",
      "Eval Accuracy: 0.7736\n",
      "Eval Precision: 0.6250\n",
      "Eval Recall: 0.5263\n",
      "Eval F1 Score: 0.5714\n",
      "Eval Loss: 0.4866\n",
      "Learning Rate after Epoch 4: 0.00006561\n",
      "------------------------- Epoch 5/10 -------------------------\n"
     ]
    },
    {
     "name": "stderr",
     "output_type": "stream",
     "text": [
      "Fold 3/5 Training:  50%|█████     | 5/10 [16:04<16:09, 193.99s/it, Train Loss=0.4585, Val Loss=0.4878, Train F1=0.5170, Val F1=0.4381]"
     ]
    },
    {
     "name": "stdout",
     "output_type": "stream",
     "text": [
      "\n",
      "Train Accuracy: 0.7991\n",
      "Train Precision: 0.6230\n",
      "Train Recall: 0.4419\n",
      "Train F1 Score: 0.5170\n",
      "Train Loss: 0.4585\n",
      "\n",
      "Eval Accuracy: 0.7774\n",
      "Eval Precision: 0.7931\n",
      "Eval Recall: 0.3026\n",
      "Eval F1 Score: 0.4381\n",
      "Eval Loss: 0.4878\n",
      "Learning Rate after Epoch 5: 0.00005905\n",
      "------------------------- Epoch 6/10 -------------------------\n"
     ]
    },
    {
     "name": "stderr",
     "output_type": "stream",
     "text": [
      "Fold 3/5 Training:  60%|██████    | 6/10 [19:19<12:57, 194.40s/it, Train Loss=0.4543, Val Loss=0.5168, Train F1=0.4976, Val F1=0.4685]"
     ]
    },
    {
     "name": "stdout",
     "output_type": "stream",
     "text": [
      "\n",
      "Train Accuracy: 0.8019\n",
      "Train Precision: 0.6500\n",
      "Train Recall: 0.4031\n",
      "Train F1 Score: 0.4976\n",
      "Train Loss: 0.4543\n",
      "\n",
      "Eval Accuracy: 0.7774\n",
      "Eval Precision: 0.7429\n",
      "Eval Recall: 0.3421\n",
      "Eval F1 Score: 0.4685\n",
      "Eval Loss: 0.5168\n",
      "Learning Rate after Epoch 6: 0.00005314\n",
      "------------------------- Epoch 7/10 -------------------------\n"
     ]
    },
    {
     "name": "stderr",
     "output_type": "stream",
     "text": [
      "Fold 3/5 Training:  70%|███████   | 7/10 [22:34<09:44, 194.71s/it, Train Loss=0.4568, Val Loss=0.4662, Train F1=0.4503, Val F1=0.5614]"
     ]
    },
    {
     "name": "stdout",
     "output_type": "stream",
     "text": [
      "\n",
      "Train Accuracy: 0.8019\n",
      "Train Precision: 0.6935\n",
      "Train Recall: 0.3333\n",
      "Train F1 Score: 0.4503\n",
      "Train Loss: 0.4568\n",
      "\n",
      "Eval Accuracy: 0.8113\n",
      "Eval Precision: 0.8421\n",
      "Eval Recall: 0.4211\n",
      "Eval F1 Score: 0.5614\n",
      "Eval Loss: 0.4662\n",
      "Learning Rate after Epoch 7: 0.00004783\n",
      "------------------------- Epoch 8/10 -------------------------\n"
     ]
    },
    {
     "name": "stderr",
     "output_type": "stream",
     "text": [
      "Fold 3/5 Training:  80%|████████  | 8/10 [25:50<06:29, 194.90s/it, Train Loss=0.4474, Val Loss=0.5073, Train F1=0.4422, Val F1=0.4112]"
     ]
    },
    {
     "name": "stdout",
     "output_type": "stream",
     "text": [
      "\n",
      "Train Accuracy: 0.7953\n",
      "Train Precision: 0.6565\n",
      "Train Recall: 0.3333\n",
      "Train F1 Score: 0.4422\n",
      "Train Loss: 0.4474\n",
      "\n",
      "Eval Accuracy: 0.7623\n",
      "Eval Precision: 0.7097\n",
      "Eval Recall: 0.2895\n",
      "Eval F1 Score: 0.4112\n",
      "Eval Loss: 0.5073\n",
      "Learning Rate after Epoch 8: 0.00004305\n",
      "------------------------- Epoch 9/10 -------------------------\n"
     ]
    },
    {
     "name": "stderr",
     "output_type": "stream",
     "text": [
      "Fold 3/5 Training:  90%|█████████ | 9/10 [29:06<03:15, 195.19s/it, Train Loss=0.4074, Val Loss=0.4580, Train F1=0.5330, Val F1=0.5505]"
     ]
    },
    {
     "name": "stdout",
     "output_type": "stream",
     "text": [
      "\n",
      "Train Accuracy: 0.8264\n",
      "Train Precision: 0.7721\n",
      "Train Recall: 0.4070\n",
      "Train F1 Score: 0.5330\n",
      "Train Loss: 0.4074\n",
      "\n",
      "Eval Accuracy: 0.8151\n",
      "Eval Precision: 0.9091\n",
      "Eval Recall: 0.3947\n",
      "Eval F1 Score: 0.5505\n",
      "Eval Loss: 0.4580\n",
      "Learning Rate after Epoch 9: 0.00003874\n",
      "------------------------- Epoch 10/10 -------------------------\n"
     ]
    },
    {
     "name": "stderr",
     "output_type": "stream",
     "text": [
      "Fold 3/5 Training: 100%|██████████| 10/10 [32:20<00:00, 194.07s/it, Train Loss=0.4072, Val Loss=0.4654, Train F1=0.5463, Val F1=0.5273]"
     ]
    },
    {
     "name": "stdout",
     "output_type": "stream",
     "text": [
      "\n",
      "Train Accuracy: 0.8245\n",
      "Train Precision: 0.7368\n",
      "Train Recall: 0.4341\n",
      "Train F1 Score: 0.5463\n",
      "Train Loss: 0.4072\n",
      "\n",
      "Eval Accuracy: 0.8038\n",
      "Eval Precision: 0.8529\n",
      "Eval Recall: 0.3816\n",
      "Eval F1 Score: 0.5273\n",
      "Eval Loss: 0.4654\n",
      "Learning Rate after Epoch 10: 0.00003487\n",
      "------------------------------------------------------------\n",
      "------------------------- Fold 4/5 -------------------------\n",
      "Train DataLoader: Total Samples = 1060, Number of Batches = 34\n",
      "Validation DataLoader: Total Samples = 265, Number of Batches = 17\n"
     ]
    },
    {
     "name": "stderr",
     "output_type": "stream",
     "text": [
      "\n",
      "Fold 4/5 Training:   0%|          | 0/10 [00:00<?, ?it/s]"
     ]
    },
    {
     "name": "stdout",
     "output_type": "stream",
     "text": [
      "------------------------- Epoch 1/10 -------------------------\n"
     ]
    },
    {
     "name": "stderr",
     "output_type": "stream",
     "text": [
      "Fold 4/5 Training:  10%|█         | 1/10 [03:03<27:30, 183.35s/it, Train Loss=0.7002, Val Loss=0.5054, Train F1=0.3009, Val F1=0.3226]"
     ]
    },
    {
     "name": "stdout",
     "output_type": "stream",
     "text": [
      "\n",
      "Train Accuracy: 0.7019\n",
      "Train Precision: 0.3778\n",
      "Train Recall: 0.2500\n",
      "Train F1 Score: 0.3009\n",
      "Train Loss: 0.7002\n",
      "\n",
      "Eval Accuracy: 0.7623\n",
      "Eval Precision: 0.4839\n",
      "Eval Recall: 0.2419\n",
      "Eval F1 Score: 0.3226\n",
      "Eval Loss: 0.5054\n",
      "Learning Rate after Epoch 1: 0.00009000\n",
      "------------------------- Epoch 2/10 -------------------------\n"
     ]
    },
    {
     "name": "stderr",
     "output_type": "stream",
     "text": [
      "Fold 4/5 Training:  20%|██        | 2/10 [06:07<24:31, 183.90s/it, Train Loss=0.5502, Val Loss=0.5511, Train F1=0.4170, Val F1=0.3265]"
     ]
    },
    {
     "name": "stdout",
     "output_type": "stream",
     "text": [
      "\n",
      "Train Accuracy: 0.7547\n",
      "Train Precision: 0.5345\n",
      "Train Recall: 0.3419\n",
      "Train F1 Score: 0.4170\n",
      "Train Loss: 0.5502\n",
      "\n",
      "Eval Accuracy: 0.7509\n",
      "Eval Precision: 0.4444\n",
      "Eval Recall: 0.2581\n",
      "Eval F1 Score: 0.3265\n",
      "Eval Loss: 0.5511\n",
      "Learning Rate after Epoch 2: 0.00008100\n",
      "------------------------- Epoch 3/10 -------------------------\n"
     ]
    },
    {
     "name": "stderr",
     "output_type": "stream",
     "text": [
      "Fold 4/5 Training:  30%|███       | 3/10 [09:11<21:26, 183.80s/it, Train Loss=0.5630, Val Loss=0.4512, Train F1=0.4489, Val F1=0.5614]"
     ]
    },
    {
     "name": "stdout",
     "output_type": "stream",
     "text": [
      "\n",
      "Train Accuracy: 0.7660\n",
      "Train Precision: 0.5674\n",
      "Train Recall: 0.3713\n",
      "Train F1 Score: 0.4489\n",
      "Train Loss: 0.5630\n",
      "\n",
      "Eval Accuracy: 0.8113\n",
      "Eval Precision: 0.6154\n",
      "Eval Recall: 0.5161\n",
      "Eval F1 Score: 0.5614\n",
      "Eval Loss: 0.4512\n",
      "Learning Rate after Epoch 3: 0.00007290\n",
      "------------------------- Epoch 4/10 -------------------------\n"
     ]
    },
    {
     "name": "stderr",
     "output_type": "stream",
     "text": [
      "Fold 4/5 Training:  40%|████      | 4/10 [12:15<18:22, 183.77s/it, Train Loss=0.5061, Val Loss=0.5421, Train F1=0.4143, Val F1=0.5290]"
     ]
    },
    {
     "name": "stdout",
     "output_type": "stream",
     "text": [
      "\n",
      "Train Accuracy: 0.7679\n",
      "Train Precision: 0.5878\n",
      "Train Recall: 0.3199\n",
      "Train F1 Score: 0.4143\n",
      "Train Loss: 0.5061\n",
      "\n",
      "Eval Accuracy: 0.7245\n",
      "Eval Precision: 0.4409\n",
      "Eval Recall: 0.6613\n",
      "Eval F1 Score: 0.5290\n",
      "Eval Loss: 0.5421\n",
      "Learning Rate after Epoch 4: 0.00006561\n",
      "------------------------- Epoch 5/10 -------------------------\n"
     ]
    },
    {
     "name": "stderr",
     "output_type": "stream",
     "text": [
      "Fold 4/5 Training:  50%|█████     | 5/10 [15:18<15:17, 183.52s/it, Train Loss=0.4777, Val Loss=0.4605, Train F1=0.4798, Val F1=0.4946]"
     ]
    },
    {
     "name": "stdout",
     "output_type": "stream",
     "text": [
      "\n",
      "Train Accuracy: 0.7689\n",
      "Train Precision: 0.5678\n",
      "Train Recall: 0.4154\n",
      "Train F1 Score: 0.4798\n",
      "Train Loss: 0.4777\n",
      "\n",
      "Eval Accuracy: 0.8226\n",
      "Eval Precision: 0.7419\n",
      "Eval Recall: 0.3710\n",
      "Eval F1 Score: 0.4946\n",
      "Eval Loss: 0.4605\n",
      "Learning Rate after Epoch 5: 0.00005905\n",
      "------------------------- Epoch 6/10 -------------------------\n"
     ]
    },
    {
     "name": "stderr",
     "output_type": "stream",
     "text": [
      "Fold 4/5 Training:  60%|██████    | 6/10 [18:21<12:13, 183.37s/it, Train Loss=0.4830, Val Loss=0.4977, Train F1=0.4742, Val F1=0.4167]"
     ]
    },
    {
     "name": "stdout",
     "output_type": "stream",
     "text": [
      "\n",
      "Train Accuracy: 0.7887\n",
      "Train Precision: 0.6558\n",
      "Train Recall: 0.3713\n",
      "Train F1 Score: 0.4742\n",
      "Train Loss: 0.4830\n",
      "\n",
      "Eval Accuracy: 0.7887\n",
      "Eval Precision: 0.5882\n",
      "Eval Recall: 0.3226\n",
      "Eval F1 Score: 0.4167\n",
      "Eval Loss: 0.4977\n",
      "Learning Rate after Epoch 6: 0.00005314\n",
      "------------------------- Epoch 7/10 -------------------------\n"
     ]
    },
    {
     "name": "stderr",
     "output_type": "stream",
     "text": [
      "Fold 4/5 Training:  70%|███████   | 7/10 [21:25<09:10, 183.56s/it, Train Loss=0.4666, Val Loss=0.5120, Train F1=0.5113, Val F1=0.4286]"
     ]
    },
    {
     "name": "stdout",
     "output_type": "stream",
     "text": [
      "\n",
      "Train Accuracy: 0.7962\n",
      "Train Precision: 0.6647\n",
      "Train Recall: 0.4154\n",
      "Train F1 Score: 0.5113\n",
      "Train Loss: 0.4666\n",
      "\n",
      "Eval Accuracy: 0.7887\n",
      "Eval Precision: 0.5833\n",
      "Eval Recall: 0.3387\n",
      "Eval F1 Score: 0.4286\n",
      "Eval Loss: 0.5120\n",
      "Learning Rate after Epoch 7: 0.00004783\n",
      "------------------------- Epoch 8/10 -------------------------\n"
     ]
    },
    {
     "name": "stderr",
     "output_type": "stream",
     "text": [
      "Fold 4/5 Training:  80%|████████  | 8/10 [24:28<06:06, 183.35s/it, Train Loss=0.4252, Val Loss=0.4691, Train F1=0.5294, Val F1=0.4950]"
     ]
    },
    {
     "name": "stdout",
     "output_type": "stream",
     "text": [
      "\n",
      "Train Accuracy: 0.8038\n",
      "Train Precision: 0.6882\n",
      "Train Recall: 0.4301\n",
      "Train F1 Score: 0.5294\n",
      "Train Loss: 0.4252\n",
      "\n",
      "Eval Accuracy: 0.8075\n",
      "Eval Precision: 0.6410\n",
      "Eval Recall: 0.4032\n",
      "Eval F1 Score: 0.4950\n",
      "Eval Loss: 0.4691\n",
      "Learning Rate after Epoch 8: 0.00004305\n",
      "------------------------- Epoch 9/10 -------------------------\n"
     ]
    },
    {
     "name": "stderr",
     "output_type": "stream",
     "text": [
      "Fold 4/5 Training:  90%|█████████ | 9/10 [27:31<03:03, 183.33s/it, Train Loss=0.4159, Val Loss=0.5050, Train F1=0.5776, Val F1=0.4242]"
     ]
    },
    {
     "name": "stdout",
     "output_type": "stream",
     "text": [
      "\n",
      "Train Accuracy: 0.8151\n",
      "Train Precision: 0.6979\n",
      "Train Recall: 0.4926\n",
      "Train F1 Score: 0.5776\n",
      "Train Loss: 0.4159\n",
      "\n",
      "Eval Accuracy: 0.7849\n",
      "Eval Precision: 0.5676\n",
      "Eval Recall: 0.3387\n",
      "Eval F1 Score: 0.4242\n",
      "Eval Loss: 0.5050\n",
      "Learning Rate after Epoch 9: 0.00003874\n",
      "------------------------- Epoch 10/10 -------------------------\n"
     ]
    },
    {
     "name": "stderr",
     "output_type": "stream",
     "text": [
      "Fold 4/5 Training: 100%|██████████| 10/10 [30:34<00:00, 183.46s/it, Train Loss=0.4460, Val Loss=0.4722, Train F1=0.4952, Val F1=0.4270]"
     ]
    },
    {
     "name": "stdout",
     "output_type": "stream",
     "text": [
      "\n",
      "Train Accuracy: 0.8000\n",
      "Train Precision: 0.7027\n",
      "Train Recall: 0.3824\n",
      "Train F1 Score: 0.4952\n",
      "Train Loss: 0.4460\n",
      "\n",
      "Eval Accuracy: 0.8075\n",
      "Eval Precision: 0.7037\n",
      "Eval Recall: 0.3065\n",
      "Eval F1 Score: 0.4270\n",
      "Eval Loss: 0.4722\n",
      "Learning Rate after Epoch 10: 0.00003487\n",
      "------------------------------------------------------------\n",
      "------------------------- Fold 5/5 -------------------------\n",
      "Train DataLoader: Total Samples = 1060, Number of Batches = 34\n",
      "Validation DataLoader: Total Samples = 265, Number of Batches = 17\n"
     ]
    },
    {
     "name": "stderr",
     "output_type": "stream",
     "text": [
      "\n",
      "Fold 5/5 Training:   0%|          | 0/10 [00:00<?, ?it/s]"
     ]
    },
    {
     "name": "stdout",
     "output_type": "stream",
     "text": [
      "------------------------- Epoch 1/10 -------------------------\n"
     ]
    },
    {
     "name": "stderr",
     "output_type": "stream",
     "text": [
      "Fold 5/5 Training:  10%|█         | 1/10 [03:04<27:43, 184.84s/it, Train Loss=0.6885, Val Loss=0.5724, Train F1=0.2691, Val F1=0.2326]"
     ]
    },
    {
     "name": "stdout",
     "output_type": "stream",
     "text": [
      "\n",
      "Train Accuracy: 0.6925\n",
      "Train Precision: 0.3429\n",
      "Train Recall: 0.2214\n",
      "Train F1 Score: 0.2691\n",
      "Train Loss: 0.6885\n",
      "\n",
      "Eval Accuracy: 0.7509\n",
      "Eval Precision: 0.4348\n",
      "Eval Recall: 0.1587\n",
      "Eval F1 Score: 0.2326\n",
      "Eval Loss: 0.5724\n",
      "Learning Rate after Epoch 1: 0.00009000\n",
      "------------------------- Epoch 2/10 -------------------------\n"
     ]
    },
    {
     "name": "stderr",
     "output_type": "stream",
     "text": [
      "Fold 5/5 Training:  20%|██        | 2/10 [06:09<24:36, 184.51s/it, Train Loss=0.6040, Val Loss=0.4616, Train F1=0.3514, Val F1=0.3415]"
     ]
    },
    {
     "name": "stdout",
     "output_type": "stream",
     "text": [
      "\n",
      "Train Accuracy: 0.7179\n",
      "Train Precision: 0.4263\n",
      "Train Recall: 0.2989\n",
      "Train F1 Score: 0.3514\n",
      "Train Loss: 0.6040\n",
      "\n",
      "Eval Accuracy: 0.7962\n",
      "Eval Precision: 0.7368\n",
      "Eval Recall: 0.2222\n",
      "Eval F1 Score: 0.3415\n",
      "Eval Loss: 0.4616\n",
      "Learning Rate after Epoch 2: 0.00008100\n",
      "------------------------- Epoch 3/10 -------------------------\n"
     ]
    },
    {
     "name": "stderr",
     "output_type": "stream",
     "text": [
      "Fold 5/5 Training:  30%|███       | 3/10 [09:23<22:04, 189.17s/it, Train Loss=0.5190, Val Loss=0.5109, Train F1=0.4095, Val F1=0.3958]"
     ]
    },
    {
     "name": "stdout",
     "output_type": "stream",
     "text": [
      "\n",
      "Train Accuracy: 0.7415\n",
      "Train Precision: 0.4922\n",
      "Train Recall: 0.3506\n",
      "Train F1 Score: 0.4095\n",
      "Train Loss: 0.5190\n",
      "\n",
      "Eval Accuracy: 0.7811\n",
      "Eval Precision: 0.5758\n",
      "Eval Recall: 0.3016\n",
      "Eval F1 Score: 0.3958\n",
      "Eval Loss: 0.5109\n",
      "Learning Rate after Epoch 3: 0.00007290\n",
      "------------------------- Epoch 4/10 -------------------------\n"
     ]
    },
    {
     "name": "stderr",
     "output_type": "stream",
     "text": [
      "Fold 5/5 Training:  40%|████      | 4/10 [12:39<19:09, 191.59s/it, Train Loss=0.5107, Val Loss=0.5204, Train F1=0.4424, Val F1=0.1687]"
     ]
    },
    {
     "name": "stdout",
     "output_type": "stream",
     "text": [
      "\n",
      "Train Accuracy: 0.7670\n",
      "Train Precision: 0.5698\n",
      "Train Recall: 0.3616\n",
      "Train F1 Score: 0.4424\n",
      "Train Loss: 0.5107\n",
      "\n",
      "Eval Accuracy: 0.7396\n",
      "Eval Precision: 0.3500\n",
      "Eval Recall: 0.1111\n",
      "Eval F1 Score: 0.1687\n",
      "Eval Loss: 0.5204\n",
      "Learning Rate after Epoch 4: 0.00006561\n",
      "------------------------- Epoch 5/10 -------------------------\n"
     ]
    },
    {
     "name": "stderr",
     "output_type": "stream",
     "text": [
      "Fold 5/5 Training:  50%|█████     | 5/10 [15:55<16:07, 193.47s/it, Train Loss=0.5030, Val Loss=0.4343, Train F1=0.4037, Val F1=0.3830]"
     ]
    },
    {
     "name": "stdout",
     "output_type": "stream",
     "text": [
      "\n",
      "Train Accuracy: 0.7547\n",
      "Train Precision: 0.5333\n",
      "Train Recall: 0.3247\n",
      "Train F1 Score: 0.4037\n",
      "Train Loss: 0.5030\n",
      "\n",
      "Eval Accuracy: 0.7811\n",
      "Eval Precision: 0.5806\n",
      "Eval Recall: 0.2857\n",
      "Eval F1 Score: 0.3830\n",
      "Eval Loss: 0.4343\n",
      "Learning Rate after Epoch 5: 0.00005905\n",
      "------------------------- Epoch 6/10 -------------------------\n"
     ]
    },
    {
     "name": "stderr",
     "output_type": "stream",
     "text": [
      "Fold 5/5 Training:  60%|██████    | 6/10 [19:11<12:56, 194.09s/it, Train Loss=0.4809, Val Loss=0.4745, Train F1=0.4920, Val F1=0.5120]"
     ]
    },
    {
     "name": "stdout",
     "output_type": "stream",
     "text": [
      "\n",
      "Train Accuracy: 0.7896\n",
      "Train Precision: 0.6429\n",
      "Train Recall: 0.3985\n",
      "Train F1 Score: 0.4920\n",
      "Train Loss: 0.4809\n",
      "\n",
      "Eval Accuracy: 0.7698\n",
      "Eval Precision: 0.5161\n",
      "Eval Recall: 0.5079\n",
      "Eval F1 Score: 0.5120\n",
      "Eval Loss: 0.4745\n",
      "Learning Rate after Epoch 6: 0.00005314\n",
      "------------------------- Epoch 7/10 -------------------------\n"
     ]
    },
    {
     "name": "stderr",
     "output_type": "stream",
     "text": [
      "Fold 5/5 Training:  70%|███████   | 7/10 [22:27<09:44, 194.71s/it, Train Loss=0.4383, Val Loss=0.4273, Train F1=0.5315, Val F1=0.5053]"
     ]
    },
    {
     "name": "stdout",
     "output_type": "stream",
     "text": [
      "\n",
      "Train Accuracy: 0.8038\n",
      "Train Precision: 0.6821\n",
      "Train Recall: 0.4354\n",
      "Train F1 Score: 0.5315\n",
      "Train Loss: 0.4383\n",
      "\n",
      "Eval Accuracy: 0.8226\n",
      "Eval Precision: 0.7500\n",
      "Eval Recall: 0.3810\n",
      "Eval F1 Score: 0.5053\n",
      "Eval Loss: 0.4273\n",
      "Learning Rate after Epoch 7: 0.00004783\n",
      "------------------------- Epoch 8/10 -------------------------\n"
     ]
    },
    {
     "name": "stderr",
     "output_type": "stream",
     "text": [
      "Fold 5/5 Training:  80%|████████  | 8/10 [25:42<06:29, 194.90s/it, Train Loss=0.4303, Val Loss=0.5084, Train F1=0.5238, Val F1=0.4394]"
     ]
    },
    {
     "name": "stdout",
     "output_type": "stream",
     "text": [
      "\n",
      "Train Accuracy: 0.8113\n",
      "Train Precision: 0.7383\n",
      "Train Recall: 0.4059\n",
      "Train F1 Score: 0.5238\n",
      "Train Loss: 0.4303\n",
      "\n",
      "Eval Accuracy: 0.7208\n",
      "Eval Precision: 0.4203\n",
      "Eval Recall: 0.4603\n",
      "Eval F1 Score: 0.4394\n",
      "Eval Loss: 0.5084\n",
      "Learning Rate after Epoch 8: 0.00004305\n",
      "------------------------- Epoch 9/10 -------------------------\n"
     ]
    },
    {
     "name": "stderr",
     "output_type": "stream",
     "text": [
      "Fold 5/5 Training:  90%|█████████ | 9/10 [28:58<03:15, 195.18s/it, Train Loss=0.3980, Val Loss=0.4114, Train F1=0.6223, Val F1=0.4946]"
     ]
    },
    {
     "name": "stdout",
     "output_type": "stream",
     "text": [
      "\n",
      "Train Accuracy: 0.8340\n",
      "Train Precision: 0.7436\n",
      "Train Recall: 0.5351\n",
      "Train F1 Score: 0.6223\n",
      "Train Loss: 0.3980\n",
      "\n",
      "Eval Accuracy: 0.8226\n",
      "Eval Precision: 0.7667\n",
      "Eval Recall: 0.3651\n",
      "Eval F1 Score: 0.4946\n",
      "Eval Loss: 0.4114\n",
      "Learning Rate after Epoch 9: 0.00003874\n",
      "------------------------- Epoch 10/10 -------------------------\n"
     ]
    },
    {
     "name": "stderr",
     "output_type": "stream",
     "text": [
      "Fold 5/5 Training: 100%|██████████| 10/10 [32:13<00:00, 193.38s/it, Train Loss=0.3881, Val Loss=0.4623, Train F1=0.5768, Val F1=0.4330]"
     ]
    },
    {
     "name": "stdout",
     "output_type": "stream",
     "text": [
      "\n",
      "Train Accuracy: 0.8311\n",
      "Train Precision: 0.8026\n",
      "Train Recall: 0.4502\n",
      "Train F1 Score: 0.5768\n",
      "Train Loss: 0.3881\n",
      "\n",
      "Eval Accuracy: 0.7925\n",
      "Eval Precision: 0.6176\n",
      "Eval Recall: 0.3333\n",
      "Eval F1 Score: 0.4330\n",
      "Eval Loss: 0.4623\n",
      "Learning Rate after Epoch 10: 0.00003487\n",
      "--------------------------------------------------\n",
      "\n",
      "K-Fold Cross-Validation Results:\n",
      "Average Loss: 0.4836\n",
      "Average Accuracy: 0.7902\n",
      "Average Precision: 0.6671\n",
      "Average Recall: 0.3522\n",
      "Average F1 Score: 0.4581\n"
     ]
    },
    {
     "name": "stderr",
     "output_type": "stream",
     "text": [
      "\n"
     ]
    }
   ],
   "source": [
    "# DenseLayer or FinalClassifier\n",
    "if isFinalClassifier:\n",
    "    dense_layer_class = FinalClassifier\n",
    "else:\n",
    "    dense_layer_class = DenseLayer\n",
    "    \n",
    "output_dim = 768\n",
    "\n",
    "# Run k-fold cross-validation   \n",
    "results_df, train_losses_folds, val_losses_folds, fold_data = cross_validate_model(\n",
    "    dataset=full_dataset,\n",
    "    model_class=SimultaneousParallel,\n",
    "    dense_layer_class=dense_layer_class,\n",
    "    criterion=criterion,\n",
    "    output_dim=output_dim,\n",
    "    num_epochs=num_epochs_cv,    \n",
    "    num_folds=num_folds,\n",
    "    train_batch_size=train_batch_size,\n",
    "    val_batch_size=val_batch_size,\n",
    "    learning_rate=learning_rate,\n",
    "    output_file=f'results/simulParallel/SimulParallel-CV_scores.csv'\n",
    ")"
   ]
  },
  {
   "cell_type": "code",
   "execution_count": 33,
   "metadata": {},
   "outputs": [
    {
     "data": {
      "image/png": "[encoded data removed]",
      "text/plain": [
       "<Figure size 1400x700 with 1 Axes>"
      ]
     },
     "metadata": {},
     "output_type": "display_data"
    }
   ],
   "source": [
    "visualize_kfold_distribution(fold_data, num_folds)"
   ]
  },
  {
   "cell_type": "code",
   "execution_count": 34,
   "metadata": {},
   "outputs": [
    {
     "data": {
      "image/png": "[encoded data removed]",
      "text/plain": [
       "<Figure size 1200x700 with 1 Axes>"
      ]
     },
     "metadata": {},
     "output_type": "display_data"
    }
   ],
   "source": [
    "# Plot average loss curves across folds\n",
    "plot_average_loss_curves(train_losses_folds, val_losses_folds)"
   ]
  },
  {
   "cell_type": "code",
   "execution_count": 35,
   "metadata": {},
   "outputs": [
    {
     "data": {
      "text/html": [
       "<div>\n",
       "<style scoped>\n",
       "    .dataframe tbody tr th:only-of-type {\n",
       "        vertical-align: middle;\n",
       "    }\n",
       "\n",
       "    .dataframe tbody tr th {\n",
       "        vertical-align: top;\n",
       "    }\n",
       "\n",
       "    .dataframe thead th {\n",
       "        text-align: right;\n",
       "    }\n",
       "</style>\n",
       "<table border=\"1\" class=\"dataframe\">\n",
       "  <thead>\n",
       "    <tr style=\"text-align: right;\">\n",
       "      <th></th>\n",
       "      <th>Metrics</th>\n",
       "      <th>Fold 1</th>\n",
       "      <th>Fold 2</th>\n",
       "      <th>Fold 3</th>\n",
       "      <th>Fold 4</th>\n",
       "      <th>Fold 5</th>\n",
       "      <th>Average</th>\n",
       "    </tr>\n",
       "  </thead>\n",
       "  <tbody>\n",
       "    <tr>\n",
       "      <th>0</th>\n",
       "      <td>Loss</td>\n",
       "      <td>0.514928</td>\n",
       "      <td>0.503009</td>\n",
       "      <td>0.465449</td>\n",
       "      <td>0.472151</td>\n",
       "      <td>0.462324</td>\n",
       "      <td>0.483572</td>\n",
       "    </tr>\n",
       "    <tr>\n",
       "      <th>1</th>\n",
       "      <td>Accuracy</td>\n",
       "      <td>0.743396</td>\n",
       "      <td>0.803774</td>\n",
       "      <td>0.803774</td>\n",
       "      <td>0.807547</td>\n",
       "      <td>0.792453</td>\n",
       "      <td>0.790189</td>\n",
       "    </tr>\n",
       "    <tr>\n",
       "      <th>2</th>\n",
       "      <td>Precision</td>\n",
       "      <td>0.511111</td>\n",
       "      <td>0.650000</td>\n",
       "      <td>0.852941</td>\n",
       "      <td>0.703704</td>\n",
       "      <td>0.617647</td>\n",
       "      <td>0.667081</td>\n",
       "    </tr>\n",
       "    <tr>\n",
       "      <th>3</th>\n",
       "      <td>Recall</td>\n",
       "      <td>0.333333</td>\n",
       "      <td>0.406250</td>\n",
       "      <td>0.381579</td>\n",
       "      <td>0.306452</td>\n",
       "      <td>0.333333</td>\n",
       "      <td>0.352189</td>\n",
       "    </tr>\n",
       "    <tr>\n",
       "      <th>4</th>\n",
       "      <td>F1 Score</td>\n",
       "      <td>0.403509</td>\n",
       "      <td>0.500000</td>\n",
       "      <td>0.527273</td>\n",
       "      <td>0.426966</td>\n",
       "      <td>0.432990</td>\n",
       "      <td>0.458148</td>\n",
       "    </tr>\n",
       "  </tbody>\n",
       "</table>\n",
       "</div>"
      ],
      "text/plain": [
       "     Metrics    Fold 1    Fold 2    Fold 3    Fold 4    Fold 5   Average\n",
       "0       Loss  0.514928  0.503009  0.465449  0.472151  0.462324  0.483572\n",
       "1   Accuracy  0.743396  0.803774  0.803774  0.807547  0.792453  0.790189\n",
       "2  Precision  0.511111  0.650000  0.852941  0.703704  0.617647  0.667081\n",
       "3     Recall  0.333333  0.406250  0.381579  0.306452  0.333333  0.352189\n",
       "4   F1 Score  0.403509  0.500000  0.527273  0.426966  0.432990  0.458148"
      ]
     },
     "execution_count": 35,
     "metadata": {},
     "output_type": "execute_result"
    }
   ],
   "source": [
    "df = pd.read_csv(f'results/simulParallel/SimulParallel-CV_scores.csv')\n",
    "df"
   ]
  }
 ],
 "metadata": {
  "kernelspec": {
   "display_name": "Python 3",
   "language": "python",
   "name": "python3"
  },
  "language_info": {
   "codemirror_mode": {
    "name": "ipython",
    "version": 3
   },
   "file_extension": ".py",
   "mimetype": "text/x-python",
   "name": "python",
   "nbconvert_exporter": "python",
   "pygments_lexer": "ipython3",
   "version": "3.12.3"
  }
 },
 "nbformat": 4,
 "nbformat_minor": 2
}
