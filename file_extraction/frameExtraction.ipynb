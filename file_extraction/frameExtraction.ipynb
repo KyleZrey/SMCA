{
 "cells": [
  {
   "cell_type": "code",
   "execution_count": null,
   "metadata": {},
   "outputs": [],
   "source": [
    "import cv2\n",
    "import os"
   ]
  },
  {
   "cell_type": "code",
   "execution_count": null,
   "metadata": {},
   "outputs": [],
   "source": [
    "# Create folders for frames\n",
    "frames_path = os.path.join('..', 'frames')\n",
    "if not os.path.exists(frames_path):\n",
    "    os.makedirs(frames_path)"
   ]
  },
  {
   "cell_type": "code",
   "execution_count": null,
   "metadata": {},
   "outputs": [],
   "source": [
    "def video_to_frames(file_path, file_name, target_fps=20):\n",
    "\n",
    "    # Open video file\n",
    "    cam = cv2.VideoCapture(file_path)\n",
    "\n",
    "    # Check if the video opened successfully\n",
    "    if not cam.isOpened():\n",
    "        print(f\"Error: Could not open video {file_name}\")\n",
    "        return\n",
    "\n",
    "    # Get the original FPS of the video\n",
    "    original_fps = cam.get(cv2.CAP_PROP_FPS)\n",
    "    frame_interval = int(original_fps // target_fps)\n",
    "\n",
    "    # Create folder for the current video frames\n",
    "    save_folder = os.path.join(frames_path, file_name)\n",
    "    if not os.path.exists(save_folder):\n",
    "        os.makedirs(save_folder)\n",
    "\n",
    "    # Initialize index\n",
    "    current_frame = 0\n",
    "    saved_frame = 0\n",
    "\n",
    "    while(True):\n",
    "        # grabs frame, if failed sets ret = false \n",
    "        ret, frame = cam.read()\n",
    "        \n",
    "        if not ret:\n",
    "            break\n",
    "        # Only save every 'frame_interval' frame to match the target FPS\n",
    "        if current_frame % frame_interval == 0:\n",
    "            save_path = os.path.join(save_folder, f'{saved_frame}.jpg')\n",
    "            \n",
    "            # Save the frame\n",
    "            saved = cv2.imwrite(save_path, frame)\n",
    "            if not saved:\n",
    "                print(f\"Failed to save {saved_frame}: {save_path}\")\n",
    "            \n",
    "            saved_frame += 1\n",
    "        current_frame += 1\n",
    "\n",
    "        # writing the extracted images\n",
    "        cv2.imwrite(save_path, frame)\n",
    "\n",
    "        # iterate index\n",
    "        current_frame += 1\n",
    "    cam.release()\n",
    "    print(f\"{file_name}: Success frames conversion!\")\n"
   ]
  },
  {
   "cell_type": "code",
   "execution_count": null,
   "metadata": {},
   "outputs": [],
   "source": [
    "# Path to videos folder\n",
    "input_path = ('../../videos')"
   ]
  },
  {
   "cell_type": "code",
   "execution_count": null,
   "metadata": {},
   "outputs": [],
   "source": [
    "# List all video files in the folder without extensions\n",
    "video_files = [os.path.splitext(f)[0] for f in os.listdir(input_path) if os.path.isfile(os.path.join(input_path, f)) and f.endswith('.mp4')]"
   ]
  },
  {
   "cell_type": "code",
   "execution_count": null,
   "metadata": {},
   "outputs": [],
   "source": [
    "# Process each video\n",
    "for video_file in video_files:\n",
    "    video_path = os.path.join(input_path, f'{video_file}.mp4')\n",
    "    video_to_frames(video_path, video_file, target_fps=5)"
   ]
  },
  {
   "cell_type": "code",
   "execution_count": null,
   "metadata": {},
   "outputs": [],
   "source": [
    "# Release all space and windows once done \n",
    "cv2.destroyAllWindows()"
   ]
  }
 ],
 "metadata": {
  "kernelspec": {
   "display_name": "Python 3",
   "language": "python",
   "name": "python3"
  },
  "language_info": {
   "codemirror_mode": {
    "name": "ipython",
    "version": 3
   },
   "file_extension": ".py",
   "mimetype": "text/x-python",
   "name": "python",
   "nbconvert_exporter": "python",
   "pygments_lexer": "ipython3",
   "version": "3.12.4"
  }
 },
 "nbformat": 4,
 "nbformat_minor": 2
}
