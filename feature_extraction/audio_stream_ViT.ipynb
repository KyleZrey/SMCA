{
 "cells": [
  {
   "cell_type": "code",
   "execution_count": 1,
   "metadata": {},
   "outputs": [
    {
     "name": "stderr",
     "output_type": "stream",
     "text": [
      "/opt/anaconda3/envs/SMCA/lib/python3.12/site-packages/tqdm/auto.py:21: TqdmWarning: IProgress not found. Please update jupyter and ipywidgets. See https://ipywidgets.readthedocs.io/en/stable/user_install.html\n",
      "  from .autonotebook import tqdm as notebook_tqdm\n"
     ]
    }
   ],
   "source": [
    "import os\n",
    "from PIL import Image\n",
    "import numpy as np\n",
    "import torch\n",
    "from transformers import ViTFeatureExtractor, ViTModel\n",
    "from tqdm import tqdm"
   ]
  },
  {
   "cell_type": "code",
   "execution_count": 3,
   "metadata": {},
   "outputs": [],
   "source": [
    "mfcc_path = '../misc/audio_fe/mfcc'\n",
    "output_path = '../misc/audio_fe/'\n",
    "\n",
    "mfcc_output_path = os.path.join(output_path, 'mfcc_extracted')"
   ]
  },
  {
   "cell_type": "code",
   "execution_count": 5,
   "metadata": {},
   "outputs": [],
   "source": [
    "def verify_paths(paths):\n",
    "    for path in paths:\n",
    "        if not os.path.exists(path):\n",
    "            raise FileNotFoundError(f\"The path {path} does not exist or is not accessible.\")\n",
    "\n",
    "verify_paths([mfcc_path, output_path])"
   ]
  },
  {
   "cell_type": "code",
   "execution_count": 6,
   "metadata": {},
   "outputs": [],
   "source": [
    "os.makedirs(mfcc_output_path, exist_ok=True)"
   ]
  },
  {
   "cell_type": "code",
   "execution_count": 7,
   "metadata": {},
   "outputs": [
    {
     "name": "stderr",
     "output_type": "stream",
     "text": [
      "/opt/anaconda3/envs/SMCA/lib/python3.12/site-packages/transformers/models/vit/feature_extraction_vit.py:28: FutureWarning: The class ViTFeatureExtractor is deprecated and will be removed in version 5 of Transformers. Please use ViTImageProcessor instead.\n",
      "  warnings.warn(\n"
     ]
    }
   ],
   "source": [
    "feature_extractor = ViTFeatureExtractor.from_pretrained('google/vit-base-patch16-224-in21k')\n",
    "model = ViTModel.from_pretrained('google/vit-base-patch16-224-in21k')"
   ]
  },
  {
   "cell_type": "code",
   "execution_count": 8,
   "metadata": {},
   "outputs": [
    {
     "data": {
      "text/plain": [
       "ViTModel(\n",
       "  (embeddings): ViTEmbeddings(\n",
       "    (patch_embeddings): ViTPatchEmbeddings(\n",
       "      (projection): Conv2d(3, 768, kernel_size=(16, 16), stride=(16, 16))\n",
       "    )\n",
       "    (dropout): Dropout(p=0.0, inplace=False)\n",
       "  )\n",
       "  (encoder): ViTEncoder(\n",
       "    (layer): ModuleList(\n",
       "      (0-11): 12 x ViTLayer(\n",
       "        (attention): ViTSdpaAttention(\n",
       "          (attention): ViTSdpaSelfAttention(\n",
       "            (query): Linear(in_features=768, out_features=768, bias=True)\n",
       "            (key): Linear(in_features=768, out_features=768, bias=True)\n",
       "            (value): Linear(in_features=768, out_features=768, bias=True)\n",
       "            (dropout): Dropout(p=0.0, inplace=False)\n",
       "          )\n",
       "          (output): ViTSelfOutput(\n",
       "            (dense): Linear(in_features=768, out_features=768, bias=True)\n",
       "            (dropout): Dropout(p=0.0, inplace=False)\n",
       "          )\n",
       "        )\n",
       "        (intermediate): ViTIntermediate(\n",
       "          (dense): Linear(in_features=768, out_features=3072, bias=True)\n",
       "          (intermediate_act_fn): GELUActivation()\n",
       "        )\n",
       "        (output): ViTOutput(\n",
       "          (dense): Linear(in_features=3072, out_features=768, bias=True)\n",
       "          (dropout): Dropout(p=0.0, inplace=False)\n",
       "        )\n",
       "        (layernorm_before): LayerNorm((768,), eps=1e-12, elementwise_affine=True)\n",
       "        (layernorm_after): LayerNorm((768,), eps=1e-12, elementwise_affine=True)\n",
       "      )\n",
       "    )\n",
       "  )\n",
       "  (layernorm): LayerNorm((768,), eps=1e-12, elementwise_affine=True)\n",
       "  (pooler): ViTPooler(\n",
       "    (dense): Linear(in_features=768, out_features=768, bias=True)\n",
       "    (activation): Tanh()\n",
       "  )\n",
       ")"
      ]
     },
     "execution_count": 8,
     "metadata": {},
     "output_type": "execute_result"
    }
   ],
   "source": [
    "device = torch.device(\"mps\" if torch.backends.mps.is_available() else \"cpu\")\n",
    "model.to(device)\n",
    "model.eval()"
   ]
  },
  {
   "cell_type": "code",
   "execution_count": 9,
   "metadata": {},
   "outputs": [],
   "source": [
    "def process_image(image_path):\n",
    "    image = Image.open(image_path).convert(\"RGB\")\n",
    "    inputs = feature_extractor(images=image, return_tensors=\"pt\")\n",
    "    inputs = inputs.to(device)\n",
    "    with torch.no_grad():\n",
    "        outputs = model(**inputs)\n",
    "    \n",
    "    last_token_features = outputs.last_hidden_state[:, 0, :].squeeze().cpu().numpy()\n",
    "    print(f\"Processed {image_path} with feature shape: {last_token_features.shape}\")\n",
    "    return last_token_features"
   ]
  },
  {
   "cell_type": "code",
   "execution_count": 10,
   "metadata": {},
   "outputs": [],
   "source": [
    "def extract_features(input_path, output_path, feature_suffix=\"\"):\n",
    "    image_files = [f for f in os.listdir(input_path) if f.endswith(\".png\") or f.endswith(\".jpg\")]\n",
    "    \n",
    "    for filename in tqdm(image_files):\n",
    "        image_path = os.path.join(input_path, filename)\n",
    "        feature_vector = process_image(image_path)\n",
    "        base_filename = os.path.splitext(filename)[0]\n",
    "        output_file = os.path.join(output_path, f\"feature_{base_filename}{feature_suffix}.npy\")\n",
    "\n",
    "        np.save(output_file, feature_vector)\n"
   ]
  },
  {
   "cell_type": "code",
   "execution_count": 11,
   "metadata": {},
   "outputs": [
    {
     "name": "stderr",
     "output_type": "stream",
     "text": [
      "  0%|          | 3/1356 [00:02<17:23,  1.30it/s]  "
     ]
    },
    {
     "name": "stdout",
     "output_type": "stream",
     "text": [
      "Processed ../misc/audio_fe/mfcc/tt0408524_mfcc.png with feature shape: (768,)\n",
      "Processed ../misc/audio_fe/mfcc/tt0439289_mfcc.png with feature shape: (768,)\n",
      "Processed ../misc/audio_fe/mfcc/tt0251127_mfcc.png with feature shape: (768,)\n",
      "Processed ../misc/audio_fe/mfcc/tt0804505_mfcc.png with feature shape: (768,)\n",
      "Processed ../misc/audio_fe/mfcc/tt0443559_mfcc.png with feature shape: (768,)\n"
     ]
    },
    {
     "name": "stderr",
     "output_type": "stream",
     "text": [
      "  1%|          | 9/1356 [00:03<04:22,  5.13it/s]"
     ]
    },
    {
     "name": "stdout",
     "output_type": "stream",
     "text": [
      "Processed ../misc/audio_fe/mfcc/tt0092074_mfcc.png with feature shape: (768,)\n",
      "Processed ../misc/audio_fe/mfcc/tt0119528_mfcc.png with feature shape: (768,)\n",
      "Processed ../misc/audio_fe/mfcc/tt1136683_mfcc.png with feature shape: (768,)\n",
      "Processed ../misc/audio_fe/mfcc/tt0286106_mfcc.png with feature shape: (768,)\n",
      "Processed ../misc/audio_fe/mfcc/tt0800039_mfcc.png with feature shape: (768,)\n"
     ]
    },
    {
     "name": "stderr",
     "output_type": "stream",
     "text": [
      "  1%|          | 12/1356 [00:03<03:09,  7.11it/s]"
     ]
    },
    {
     "name": "stdout",
     "output_type": "stream",
     "text": [
      "Processed ../misc/audio_fe/mfcc/tt2402105_mfcc.png with feature shape: (768,)\n",
      "Processed ../misc/audio_fe/mfcc/tt1299653_mfcc.png with feature shape: (768,)\n",
      "Processed ../misc/audio_fe/mfcc/tt1790825_mfcc.png with feature shape: (768,)\n",
      "Processed ../misc/audio_fe/mfcc/tt1430626_mfcc.png with feature shape: (768,)\n"
     ]
    },
    {
     "name": "stderr",
     "output_type": "stream",
     "text": [
      "  1%|▏         | 18/1356 [00:03<01:54, 11.65it/s]"
     ]
    },
    {
     "name": "stdout",
     "output_type": "stream",
     "text": [
      "Processed ../misc/audio_fe/mfcc/tt1130988_mfcc.png with feature shape: (768,)\n",
      "Processed ../misc/audio_fe/mfcc/tt3387648_mfcc.png with feature shape: (768,)\n",
      "Processed ../misc/audio_fe/mfcc/tt0116059_mfcc.png with feature shape: (768,)\n",
      "Processed ../misc/audio_fe/mfcc/tt0360323_mfcc.png with feature shape: (768,)\n",
      "Processed ../misc/audio_fe/mfcc/tt0271219_mfcc.png with feature shape: (768,)\n"
     ]
    },
    {
     "name": "stderr",
     "output_type": "stream",
     "text": [
      "  2%|▏         | 21/1356 [00:03<01:37, 13.74it/s]"
     ]
    },
    {
     "name": "stdout",
     "output_type": "stream",
     "text": [
      "Processed ../misc/audio_fe/mfcc/tt0115759_mfcc.png with feature shape: (768,)\n",
      "Processed ../misc/audio_fe/mfcc/tt1605630_mfcc.png with feature shape: (768,)\n",
      "Processed ../misc/audio_fe/mfcc/tt0079073_mfcc.png with feature shape: (768,)\n",
      "Processed ../misc/audio_fe/mfcc/tt0211443_mfcc.png with feature shape: (768,)\n"
     ]
    },
    {
     "name": "stderr",
     "output_type": "stream",
     "text": [
      "  2%|▏         | 27/1356 [00:04<01:22, 16.13it/s]"
     ]
    },
    {
     "name": "stdout",
     "output_type": "stream",
     "text": [
      "Processed ../misc/audio_fe/mfcc/tt0101751_mfcc.png with feature shape: (768,)\n",
      "Processed ../misc/audio_fe/mfcc/tt0100156_mfcc.png with feature shape: (768,)\n",
      "Processed ../misc/audio_fe/mfcc/tt1661199_mfcc.png with feature shape: (768,)\n",
      "Processed ../misc/audio_fe/mfcc/tt0159097_mfcc.png with feature shape: (768,)\n",
      "Processed ../misc/audio_fe/mfcc/tt0314431_mfcc.png with feature shape: (768,)\n"
     ]
    },
    {
     "name": "stderr",
     "output_type": "stream",
     "text": [
      "  2%|▏         | 33/1356 [00:04<01:11, 18.62it/s]"
     ]
    },
    {
     "name": "stdout",
     "output_type": "stream",
     "text": [
      "Processed ../misc/audio_fe/mfcc/tt0230600_mfcc.png with feature shape: (768,)\n",
      "Processed ../misc/audio_fe/mfcc/tt0115783_mfcc.png with feature shape: (768,)\n",
      "Processed ../misc/audio_fe/mfcc/tt1091617_mfcc.png with feature shape: (768,)\n",
      "Processed ../misc/audio_fe/mfcc/tt0355295_mfcc.png with feature shape: (768,)\n",
      "Processed ../misc/audio_fe/mfcc/tt4448290_mfcc.png with feature shape: (768,)\n"
     ]
    },
    {
     "name": "stderr",
     "output_type": "stream",
     "text": [
      "  3%|▎         | 36/1356 [00:04<01:12, 18.12it/s]"
     ]
    },
    {
     "name": "stdout",
     "output_type": "stream",
     "text": [
      "Processed ../misc/audio_fe/mfcc/tt0409459_mfcc.png with feature shape: (768,)\n",
      "Processed ../misc/audio_fe/mfcc/tt0335266_mfcc.png with feature shape: (768,)\n",
      "Processed ../misc/audio_fe/mfcc/tt0288330_mfcc.png with feature shape: (768,)\n",
      "Processed ../misc/audio_fe/mfcc/tt1912996_mfcc.png with feature shape: (768,)\n"
     ]
    },
    {
     "name": "stderr",
     "output_type": "stream",
     "text": [
      "  3%|▎         | 42/1356 [00:04<01:06, 19.83it/s]"
     ]
    },
    {
     "name": "stdout",
     "output_type": "stream",
     "text": [
      "Processed ../misc/audio_fe/mfcc/tt0455915_mfcc.png with feature shape: (768,)\n",
      "Processed ../misc/audio_fe/mfcc/tt0758746_mfcc.png with feature shape: (768,)\n",
      "Processed ../misc/audio_fe/mfcc/tt0281373_mfcc.png with feature shape: (768,)\n",
      "Processed ../misc/audio_fe/mfcc/tt0462346_mfcc.png with feature shape: (768,)\n",
      "Processed ../misc/audio_fe/mfcc/tt0114279_mfcc.png with feature shape: (768,)\n"
     ]
    },
    {
     "name": "stderr",
     "output_type": "stream",
     "text": [
      "  3%|▎         | 45/1356 [00:04<01:05, 20.14it/s]"
     ]
    },
    {
     "name": "stdout",
     "output_type": "stream",
     "text": [
      "Processed ../misc/audio_fe/mfcc/tt0116722_mfcc.png with feature shape: (768,)\n",
      "Processed ../misc/audio_fe/mfcc/tt1152397_mfcc.png with feature shape: (768,)\n",
      "Processed ../misc/audio_fe/mfcc/tt1079444_mfcc.png with feature shape: (768,)\n",
      "Processed ../misc/audio_fe/mfcc/tt0379786_mfcc.png with feature shape: (768,)\n"
     ]
    },
    {
     "name": "stderr",
     "output_type": "stream",
     "text": [
      "  4%|▍         | 51/1356 [00:05<01:06, 19.59it/s]"
     ]
    },
    {
     "name": "stdout",
     "output_type": "stream",
     "text": [
      "Processed ../misc/audio_fe/mfcc/tt0491703_mfcc.png with feature shape: (768,)\n",
      "Processed ../misc/audio_fe/mfcc/tt2230358_mfcc.png with feature shape: (768,)\n",
      "Processed ../misc/audio_fe/mfcc/tt0479952_mfcc.png with feature shape: (768,)\n",
      "Processed ../misc/audio_fe/mfcc/tt0259393_mfcc.png with feature shape: (768,)\n",
      "Processed ../misc/audio_fe/mfcc/tt0358135_mfcc.png with feature shape: (768,)\n"
     ]
    },
    {
     "name": "stderr",
     "output_type": "stream",
     "text": [
      "  4%|▍         | 54/1356 [00:05<01:04, 20.25it/s]"
     ]
    },
    {
     "name": "stdout",
     "output_type": "stream",
     "text": [
      "Processed ../misc/audio_fe/mfcc/tt0125439_mfcc.png with feature shape: (768,)\n",
      "Processed ../misc/audio_fe/mfcc/tt0310924_mfcc.png with feature shape: (768,)\n",
      "Processed ../misc/audio_fe/mfcc/tt0257076_mfcc.png with feature shape: (768,)\n",
      "Processed ../misc/audio_fe/mfcc/tt0277027_mfcc.png with feature shape: (768,)\n"
     ]
    },
    {
     "name": "stderr",
     "output_type": "stream",
     "text": [
      "  4%|▍         | 60/1356 [00:05<01:06, 19.44it/s]"
     ]
    },
    {
     "name": "stdout",
     "output_type": "stream",
     "text": [
      "Processed ../misc/audio_fe/mfcc/tt1517489_mfcc.png with feature shape: (768,)\n",
      "Processed ../misc/audio_fe/mfcc/tt3614530_mfcc.png with feature shape: (768,)\n",
      "Processed ../misc/audio_fe/mfcc/tt2042568_mfcc.png with feature shape: (768,)\n",
      "Processed ../misc/audio_fe/mfcc/tt0280590_mfcc.png with feature shape: (768,)\n",
      "Processed ../misc/audio_fe/mfcc/tt0113965_mfcc.png with feature shape: (768,)\n"
     ]
    },
    {
     "name": "stderr",
     "output_type": "stream",
     "text": [
      "  5%|▍         | 63/1356 [00:05<01:03, 20.22it/s]"
     ]
    },
    {
     "name": "stdout",
     "output_type": "stream",
     "text": [
      "Processed ../misc/audio_fe/mfcc/tt2449810_mfcc.png with feature shape: (768,)\n",
      "Processed ../misc/audio_fe/mfcc/tt1323594_mfcc.png with feature shape: (768,)\n",
      "Processed ../misc/audio_fe/mfcc/tt0214388_mfcc.png with feature shape: (768,)\n",
      "Processed ../misc/audio_fe/mfcc/tt0357110_mfcc.png with feature shape: (768,)\n",
      "Processed ../misc/audio_fe/mfcc/tt0974554_mfcc.png with feature shape: (768,)\n"
     ]
    },
    {
     "name": "stderr",
     "output_type": "stream",
     "text": [
      "  5%|▌         | 69/1356 [00:06<01:06, 19.27it/s]"
     ]
    },
    {
     "name": "stdout",
     "output_type": "stream",
     "text": [
      "Processed ../misc/audio_fe/mfcc/tt4034354_mfcc.png with feature shape: (768,)\n",
      "Processed ../misc/audio_fe/mfcc/tt3687186_mfcc.png with feature shape: (768,)\n",
      "Processed ../misc/audio_fe/mfcc/tt2170299_mfcc.png with feature shape: (768,)\n",
      "Processed ../misc/audio_fe/mfcc/tt1111948_mfcc.png with feature shape: (768,)\n"
     ]
    },
    {
     "name": "stderr",
     "output_type": "stream",
     "text": [
      "  5%|▌         | 72/1356 [00:06<01:04, 20.03it/s]"
     ]
    },
    {
     "name": "stdout",
     "output_type": "stream",
     "text": [
      "Processed ../misc/audio_fe/mfcc/tt8097306_mfcc.png with feature shape: (768,)\n",
      "Processed ../misc/audio_fe/mfcc/tt0880578_mfcc.png with feature shape: (768,)\n",
      "Processed ../misc/audio_fe/mfcc/tt1043838_mfcc.png with feature shape: (768,)\n",
      "Processed ../misc/audio_fe/mfcc/tt0327597_mfcc.png with feature shape: (768,)\n",
      "Processed ../misc/audio_fe/mfcc/tt2609912_mfcc.png with feature shape: (768,)\n"
     ]
    },
    {
     "name": "stderr",
     "output_type": "stream",
     "text": [
      "  6%|▌         | 78/1356 [00:06<01:05, 19.37it/s]"
     ]
    },
    {
     "name": "stdout",
     "output_type": "stream",
     "text": [
      "Processed ../misc/audio_fe/mfcc/tt1129445_mfcc.png with feature shape: (768,)\n",
      "Processed ../misc/audio_fe/mfcc/tt0271367_mfcc.png with feature shape: (768,)\n",
      "Processed ../misc/audio_fe/mfcc/tt2620590_mfcc.png with feature shape: (768,)\n",
      "Processed ../misc/audio_fe/mfcc/tt0431213_mfcc.png with feature shape: (768,)\n"
     ]
    },
    {
     "name": "stderr",
     "output_type": "stream",
     "text": [
      "  6%|▌         | 81/1356 [00:06<01:03, 20.07it/s]"
     ]
    },
    {
     "name": "stdout",
     "output_type": "stream",
     "text": [
      "Processed ../misc/audio_fe/mfcc/tt7734218_mfcc.png with feature shape: (768,)\n",
      "Processed ../misc/audio_fe/mfcc/tt0156841_mfcc.png with feature shape: (768,)\n",
      "Processed ../misc/audio_fe/mfcc/tt3856992_mfcc.png with feature shape: (768,)\n",
      "Processed ../misc/audio_fe/mfcc/tt0790686_mfcc.png with feature shape: (768,)\n"
     ]
    },
    {
     "name": "stderr",
     "output_type": "stream",
     "text": [
      "  6%|▌         | 84/1356 [00:07<01:09, 18.32it/s]"
     ]
    },
    {
     "name": "stdout",
     "output_type": "stream",
     "text": [
      "Processed ../misc/audio_fe/mfcc/tt0340163_mfcc.png with feature shape: (768,)\n",
      "Processed ../misc/audio_fe/mfcc/tt2557276_mfcc.png with feature shape: (768,)\n",
      "Processed ../misc/audio_fe/mfcc/tt2041488_mfcc.png with feature shape: (768,)\n"
     ]
    },
    {
     "name": "stderr",
     "output_type": "stream",
     "text": [
      "  7%|▋         | 89/1356 [00:07<01:11, 17.76it/s]"
     ]
    },
    {
     "name": "stdout",
     "output_type": "stream",
     "text": [
      "Processed ../misc/audio_fe/mfcc/tt0365830_mfcc.png with feature shape: (768,)\n",
      "Processed ../misc/audio_fe/mfcc/tt0377092_mfcc.png with feature shape: (768,)\n",
      "Processed ../misc/audio_fe/mfcc/tt0441773_mfcc.png with feature shape: (768,)\n",
      "Processed ../misc/audio_fe/mfcc/tt0772157_mfcc.png with feature shape: (768,)\n",
      "Processed ../misc/audio_fe/mfcc/tt0118556_mfcc.png with feature shape: (768,)\n"
     ]
    },
    {
     "name": "stderr",
     "output_type": "stream",
     "text": [
      "  7%|▋         | 94/1356 [00:07<01:13, 17.09it/s]"
     ]
    },
    {
     "name": "stdout",
     "output_type": "stream",
     "text": [
      "Processed ../misc/audio_fe/mfcc/tt0112740_mfcc.png with feature shape: (768,)\n",
      "Processed ../misc/audio_fe/mfcc/tt0472043_mfcc.png with feature shape: (768,)\n",
      "Processed ../misc/audio_fe/mfcc/tt2393845_mfcc.png with feature shape: (768,)\n",
      "Processed ../misc/audio_fe/mfcc/tt0978759_mfcc.png with feature shape: (768,)\n"
     ]
    },
    {
     "name": "stderr",
     "output_type": "stream",
     "text": [
      "  7%|▋         | 98/1356 [00:07<01:10, 17.73it/s]"
     ]
    },
    {
     "name": "stdout",
     "output_type": "stream",
     "text": [
      "Processed ../misc/audio_fe/mfcc/tt1645170_mfcc.png with feature shape: (768,)\n",
      "Processed ../misc/audio_fe/mfcc/tt0433412_mfcc.png with feature shape: (768,)\n",
      "Processed ../misc/audio_fe/mfcc/tt0854678_mfcc.png with feature shape: (768,)\n",
      "Processed ../misc/audio_fe/mfcc/tt0422720_mfcc.png with feature shape: (768,)\n",
      "Processed ../misc/audio_fe/mfcc/tt2499414_mfcc.png with feature shape: (768,)\n"
     ]
    },
    {
     "name": "stderr",
     "output_type": "stream",
     "text": [
      "  8%|▊         | 103/1356 [00:08<01:10, 17.77it/s]"
     ]
    },
    {
     "name": "stdout",
     "output_type": "stream",
     "text": [
      "Processed ../misc/audio_fe/mfcc/tt0256359_mfcc.png with feature shape: (768,)\n",
      "Processed ../misc/audio_fe/mfcc/tt0350258_mfcc.png with feature shape: (768,)\n",
      "Processed ../misc/audio_fe/mfcc/tt0113481_mfcc.png with feature shape: (768,)\n",
      "Processed ../misc/audio_fe/mfcc/tt0116621_mfcc.png with feature shape: (768,)\n"
     ]
    },
    {
     "name": "stderr",
     "output_type": "stream",
     "text": [
      "  8%|▊         | 106/1356 [00:08<01:05, 19.02it/s]"
     ]
    },
    {
     "name": "stdout",
     "output_type": "stream",
     "text": [
      "Processed ../misc/audio_fe/mfcc/tt0120812_mfcc.png with feature shape: (768,)\n",
      "Processed ../misc/audio_fe/mfcc/tt3844362_mfcc.png with feature shape: (768,)\n",
      "Processed ../misc/audio_fe/mfcc/tt0092563_mfcc.png with feature shape: (768,)\n",
      "Processed ../misc/audio_fe/mfcc/tt0156934_mfcc.png with feature shape: (768,)\n",
      "Processed ../misc/audio_fe/mfcc/tt2637276_mfcc.png with feature shape: (768,)\n"
     ]
    },
    {
     "name": "stderr",
     "output_type": "stream",
     "text": [
      "  8%|▊         | 111/1356 [00:08<01:05, 18.98it/s]"
     ]
    },
    {
     "name": "stdout",
     "output_type": "stream",
     "text": [
      "Processed ../misc/audio_fe/mfcc/tt0084827_mfcc.png with feature shape: (768,)\n",
      "Processed ../misc/audio_fe/mfcc/tt0093225_mfcc.png with feature shape: (768,)\n",
      "Processed ../misc/audio_fe/mfcc/tt0822832_mfcc.png with feature shape: (768,)\n"
     ]
    },
    {
     "name": "stderr",
     "output_type": "stream",
     "text": [
      "  8%|▊         | 113/1356 [00:08<01:45, 11.75it/s]"
     ]
    },
    {
     "name": "stdout",
     "output_type": "stream",
     "text": [
      "Processed ../misc/audio_fe/mfcc/tt0414853_mfcc.png with feature shape: (768,)\n",
      "Processed ../misc/audio_fe/mfcc/tt0963194_mfcc.png with feature shape: (768,)\n"
     ]
    },
    {
     "name": "stderr",
     "output_type": "stream",
     "text": [
      "  8%|▊         | 115/1356 [00:09<01:55, 10.76it/s]"
     ]
    },
    {
     "name": "stdout",
     "output_type": "stream",
     "text": [
      "Processed ../misc/audio_fe/mfcc/tt0780567_mfcc.png with feature shape: (768,)\n",
      "Processed ../misc/audio_fe/mfcc/tt0257516_mfcc.png with feature shape: (768,)\n",
      "Processed ../misc/audio_fe/mfcc/tt0480249_mfcc.png with feature shape: (768,)\n"
     ]
    },
    {
     "name": "stderr",
     "output_type": "stream",
     "text": [
      "  9%|▉         | 119/1356 [00:09<02:09,  9.53it/s]"
     ]
    },
    {
     "name": "stdout",
     "output_type": "stream",
     "text": [
      "Processed ../misc/audio_fe/mfcc/tt0464196_mfcc.png with feature shape: (768,)\n",
      "Processed ../misc/audio_fe/mfcc/tt1621039_mfcc.png with feature shape: (768,)\n",
      "Processed ../misc/audio_fe/mfcc/tt0480687_mfcc.png with feature shape: (768,)\n"
     ]
    },
    {
     "name": "stderr",
     "output_type": "stream",
     "text": [
      "  9%|▉         | 121/1356 [00:09<02:02, 10.09it/s]"
     ]
    },
    {
     "name": "stdout",
     "output_type": "stream",
     "text": [
      "Processed ../misc/audio_fe/mfcc/tt0411806_mfcc.png with feature shape: (768,)\n",
      "Processed ../misc/audio_fe/mfcc/tt0083619_mfcc.png with feature shape: (768,)\n",
      "Processed ../misc/audio_fe/mfcc/tt0293564_mfcc.png with feature shape: (768,)\n"
     ]
    },
    {
     "name": "stderr",
     "output_type": "stream",
     "text": [
      "  9%|▉         | 125/1356 [00:10<02:09,  9.49it/s]"
     ]
    },
    {
     "name": "stdout",
     "output_type": "stream",
     "text": [
      "Processed ../misc/audio_fe/mfcc/tt8366502_mfcc.png with feature shape: (768,)\n",
      "Processed ../misc/audio_fe/mfcc/tt1493157_mfcc.png with feature shape: (768,)\n",
      "Processed ../misc/audio_fe/mfcc/tt0337881_mfcc.png with feature shape: (768,)\n"
     ]
    },
    {
     "name": "stderr",
     "output_type": "stream",
     "text": [
      "  9%|▉         | 127/1356 [00:10<01:55, 10.66it/s]"
     ]
    },
    {
     "name": "stdout",
     "output_type": "stream",
     "text": [
      "Processed ../misc/audio_fe/mfcc/tt0780608_mfcc.png with feature shape: (768,)\n",
      "Processed ../misc/audio_fe/mfcc/tt0486259_mfcc.png with feature shape: (768,)\n",
      "Processed ../misc/audio_fe/mfcc/tt0102685_mfcc.png with feature shape: (768,)\n"
     ]
    },
    {
     "name": "stderr",
     "output_type": "stream",
     "text": [
      " 10%|▉         | 129/1356 [00:10<02:27,  8.35it/s]"
     ]
    },
    {
     "name": "stdout",
     "output_type": "stream",
     "text": [
      "Processed ../misc/audio_fe/mfcc/tt1323946_mfcc.png with feature shape: (768,)\n",
      "Processed ../misc/audio_fe/mfcc/tt0817177_mfcc.png with feature shape: (768,)\n"
     ]
    },
    {
     "name": "stderr",
     "output_type": "stream",
     "text": [
      " 10%|▉         | 132/1356 [00:11<03:58,  5.14it/s]"
     ]
    },
    {
     "name": "stdout",
     "output_type": "stream",
     "text": [
      "Processed ../misc/audio_fe/mfcc/tt0430770_mfcc.png with feature shape: (768,)\n",
      "Processed ../misc/audio_fe/mfcc/tt0772168_mfcc.png with feature shape: (768,)\n"
     ]
    },
    {
     "name": "stderr",
     "output_type": "stream",
     "text": [
      " 10%|▉         | 134/1356 [00:11<03:08,  6.49it/s]"
     ]
    },
    {
     "name": "stdout",
     "output_type": "stream",
     "text": [
      "Processed ../misc/audio_fe/mfcc/tt3530002_mfcc.png with feature shape: (768,)\n",
      "Processed ../misc/audio_fe/mfcc/tt0353965_mfcc.png with feature shape: (768,)\n"
     ]
    },
    {
     "name": "stderr",
     "output_type": "stream",
     "text": [
      " 10%|▉         | 135/1356 [00:12<03:39,  5.55it/s]"
     ]
    },
    {
     "name": "stdout",
     "output_type": "stream",
     "text": [
      "Processed ../misc/audio_fe/mfcc/tt0810784_mfcc.png with feature shape: (768,)\n"
     ]
    },
    {
     "name": "stderr",
     "output_type": "stream",
     "text": [
      " 10%|█         | 136/1356 [00:12<05:25,  3.75it/s]"
     ]
    },
    {
     "name": "stdout",
     "output_type": "stream",
     "text": [
      "Processed ../misc/audio_fe/mfcc/tt1124039_mfcc.png with feature shape: (768,)\n",
      "Processed ../misc/audio_fe/mfcc/tt0448694_mfcc.png with feature shape: (768,)\n"
     ]
    },
    {
     "name": "stderr",
     "output_type": "stream",
     "text": [
      " 10%|█         | 139/1356 [00:13<04:45,  4.26it/s]"
     ]
    },
    {
     "name": "stdout",
     "output_type": "stream",
     "text": [
      "Processed ../misc/audio_fe/mfcc/tt1231277_mfcc.png with feature shape: (768,)\n",
      "Processed ../misc/audio_fe/mfcc/tt0115725_mfcc.png with feature shape: (768,)\n"
     ]
    },
    {
     "name": "stderr",
     "output_type": "stream",
     "text": [
      " 10%|█         | 141/1356 [00:13<05:14,  3.87it/s]"
     ]
    },
    {
     "name": "stdout",
     "output_type": "stream",
     "text": [
      "Processed ../misc/audio_fe/mfcc/tt0359517_mfcc.png with feature shape: (768,)\n",
      "Processed ../misc/audio_fe/mfcc/tt0465580_mfcc.png with feature shape: (768,)\n"
     ]
    },
    {
     "name": "stderr",
     "output_type": "stream",
     "text": [
      " 10%|█         | 142/1356 [00:14<04:37,  4.37it/s]"
     ]
    },
    {
     "name": "stdout",
     "output_type": "stream",
     "text": [
      "Processed ../misc/audio_fe/mfcc/tt0415489_mfcc.png with feature shape: (768,)\n"
     ]
    },
    {
     "name": "stderr",
     "output_type": "stream",
     "text": [
      " 11%|█         | 143/1356 [00:14<04:56,  4.09it/s]"
     ]
    },
    {
     "name": "stdout",
     "output_type": "stream",
     "text": [
      "Processed ../misc/audio_fe/mfcc/tt0283026_mfcc.png with feature shape: (768,)\n"
     ]
    },
    {
     "name": "stderr",
     "output_type": "stream",
     "text": [
      " 11%|█         | 145/1356 [00:14<05:08,  3.92it/s]"
     ]
    },
    {
     "name": "stdout",
     "output_type": "stream",
     "text": [
      "Processed ../misc/audio_fe/mfcc/tt0448134_mfcc.png with feature shape: (768,)\n",
      "Processed ../misc/audio_fe/mfcc/tt6516314_mfcc.png with feature shape: (768,)\n"
     ]
    },
    {
     "name": "stderr",
     "output_type": "stream",
     "text": [
      " 11%|█         | 147/1356 [00:15<06:26,  3.13it/s]"
     ]
    },
    {
     "name": "stdout",
     "output_type": "stream",
     "text": [
      "Processed ../misc/audio_fe/mfcc/tt0349710_mfcc.png with feature shape: (768,)\n",
      "Processed ../misc/audio_fe/mfcc/tt0435665_mfcc.png with feature shape: (768,)\n"
     ]
    },
    {
     "name": "stderr",
     "output_type": "stream",
     "text": [
      " 11%|█         | 149/1356 [00:16<06:50,  2.94it/s]"
     ]
    },
    {
     "name": "stdout",
     "output_type": "stream",
     "text": [
      "Processed ../misc/audio_fe/mfcc/tt2386404_mfcc.png with feature shape: (768,)\n",
      "Processed ../misc/audio_fe/mfcc/tt1217301_mfcc.png with feature shape: (768,)\n"
     ]
    },
    {
     "name": "stderr",
     "output_type": "stream",
     "text": [
      " 11%|█         | 151/1356 [00:16<04:52,  4.12it/s]"
     ]
    },
    {
     "name": "stdout",
     "output_type": "stream",
     "text": [
      "Processed ../misc/audio_fe/mfcc/tt3850214_mfcc.png with feature shape: (768,)\n",
      "Processed ../misc/audio_fe/mfcc/tt0118747_mfcc.png with feature shape: (768,)\n"
     ]
    },
    {
     "name": "stderr",
     "output_type": "stream",
     "text": [
      " 11%|█         | 152/1356 [00:17<08:25,  2.38it/s]"
     ]
    },
    {
     "name": "stdout",
     "output_type": "stream",
     "text": [
      "Processed ../misc/audio_fe/mfcc/tt1918908_mfcc.png with feature shape: (768,)\n"
     ]
    },
    {
     "name": "stderr",
     "output_type": "stream",
     "text": [
      " 11%|█▏        | 154/1356 [00:18<06:03,  3.30it/s]"
     ]
    },
    {
     "name": "stdout",
     "output_type": "stream",
     "text": [
      "Processed ../misc/audio_fe/mfcc/tt0960731_mfcc.png with feature shape: (768,)\n",
      "Processed ../misc/audio_fe/mfcc/tt0110099_mfcc.png with feature shape: (768,)\n"
     ]
    },
    {
     "name": "stderr",
     "output_type": "stream",
     "text": [
      " 11%|█▏        | 155/1356 [00:18<05:17,  3.78it/s]"
     ]
    },
    {
     "name": "stdout",
     "output_type": "stream",
     "text": [
      "Processed ../misc/audio_fe/mfcc/tt4481514_mfcc.png with feature shape: (768,)\n"
     ]
    },
    {
     "name": "stderr",
     "output_type": "stream",
     "text": [
      " 12%|█▏        | 158/1356 [00:18<03:50,  5.20it/s]"
     ]
    },
    {
     "name": "stdout",
     "output_type": "stream",
     "text": [
      "Processed ../misc/audio_fe/mfcc/tt0114296_mfcc.png with feature shape: (768,)\n",
      "Processed ../misc/audio_fe/mfcc/tt0094715_mfcc.png with feature shape: (768,)\n",
      "Processed ../misc/audio_fe/mfcc/tt1649444_mfcc.png with feature shape: (768,)\n"
     ]
    },
    {
     "name": "stderr",
     "output_type": "stream",
     "text": [
      " 12%|█▏        | 160/1356 [00:19<03:06,  6.40it/s]"
     ]
    },
    {
     "name": "stdout",
     "output_type": "stream",
     "text": [
      "Processed ../misc/audio_fe/mfcc/tt0267989_mfcc.png with feature shape: (768,)\n",
      "Processed ../misc/audio_fe/mfcc/tt0144964_mfcc.png with feature shape: (768,)\n"
     ]
    },
    {
     "name": "stderr",
     "output_type": "stream",
     "text": [
      " 12%|█▏        | 162/1356 [00:19<03:48,  5.22it/s]"
     ]
    },
    {
     "name": "stdout",
     "output_type": "stream",
     "text": [
      "Processed ../misc/audio_fe/mfcc/tt0313670_mfcc.png with feature shape: (768,)\n",
      "Processed ../misc/audio_fe/mfcc/tt1217209_mfcc.png with feature shape: (768,)\n"
     ]
    },
    {
     "name": "stderr",
     "output_type": "stream",
     "text": [
      " 12%|█▏        | 164/1356 [00:19<03:19,  5.97it/s]"
     ]
    },
    {
     "name": "stdout",
     "output_type": "stream",
     "text": [
      "Processed ../misc/audio_fe/mfcc/tt0850667_mfcc.png with feature shape: (768,)\n",
      "Processed ../misc/audio_fe/mfcc/tt0134033_mfcc.png with feature shape: (768,)\n"
     ]
    },
    {
     "name": "stderr",
     "output_type": "stream",
     "text": [
      " 12%|█▏        | 167/1356 [00:20<03:16,  6.06it/s]"
     ]
    },
    {
     "name": "stdout",
     "output_type": "stream",
     "text": [
      "Processed ../misc/audio_fe/mfcc/tt0428541_mfcc.png with feature shape: (768,)\n",
      "Processed ../misc/audio_fe/mfcc/tt0113690_mfcc.png with feature shape: (768,)\n",
      "Processed ../misc/audio_fe/mfcc/tt0183649_mfcc.png with feature shape: (768,)\n",
      "Processed ../misc/audio_fe/mfcc/tt0446298_mfcc.png with feature shape: (768,)\n"
     ]
    },
    {
     "name": "stderr",
     "output_type": "stream",
     "text": [
      " 13%|█▎        | 170/1356 [00:20<02:59,  6.62it/s]"
     ]
    },
    {
     "name": "stdout",
     "output_type": "stream",
     "text": [
      "Processed ../misc/audio_fe/mfcc/tt0365125_mfcc.png with feature shape: (768,)\n",
      "Processed ../misc/audio_fe/mfcc/tt0845955_mfcc.png with feature shape: (768,)\n",
      "Processed ../misc/audio_fe/mfcc/tt0800308_mfcc.png with feature shape: (768,)\n"
     ]
    },
    {
     "name": "stderr",
     "output_type": "stream",
     "text": [
      " 13%|█▎        | 173/1356 [00:21<03:26,  5.72it/s]"
     ]
    },
    {
     "name": "stdout",
     "output_type": "stream",
     "text": [
      "Processed ../misc/audio_fe/mfcc/tt1781827_mfcc.png with feature shape: (768,)\n",
      "Processed ../misc/audio_fe/mfcc/tt0477457_mfcc.png with feature shape: (768,)\n"
     ]
    },
    {
     "name": "stderr",
     "output_type": "stream",
     "text": [
      " 13%|█▎        | 175/1356 [00:21<02:43,  7.25it/s]"
     ]
    },
    {
     "name": "stdout",
     "output_type": "stream",
     "text": [
      "Processed ../misc/audio_fe/mfcc/tt0206314_mfcc.png with feature shape: (768,)\n",
      "Processed ../misc/audio_fe/mfcc/tt1321862_mfcc.png with feature shape: (768,)\n"
     ]
    },
    {
     "name": "stderr",
     "output_type": "stream",
     "text": [
      " 13%|█▎        | 176/1356 [00:21<02:38,  7.45it/s]"
     ]
    },
    {
     "name": "stdout",
     "output_type": "stream",
     "text": [
      "Processed ../misc/audio_fe/mfcc/tt0116260_mfcc.png with feature shape: (768,)\n"
     ]
    },
    {
     "name": "stderr",
     "output_type": "stream",
     "text": [
      " 13%|█▎        | 179/1356 [00:22<02:42,  7.23it/s]"
     ]
    },
    {
     "name": "stdout",
     "output_type": "stream",
     "text": [
      "Processed ../misc/audio_fe/mfcc/tt0114367_mfcc.png with feature shape: (768,)\n",
      "Processed ../misc/audio_fe/mfcc/tt4663548_mfcc.png with feature shape: (768,)\n",
      "Processed ../misc/audio_fe/mfcc/tt0309698_mfcc.png with feature shape: (768,)\n",
      "Processed ../misc/audio_fe/mfcc/tt0382992_mfcc.png with feature shape: (768,)\n"
     ]
    },
    {
     "name": "stderr",
     "output_type": "stream",
     "text": [
      " 13%|█▎        | 183/1356 [00:22<01:52, 10.43it/s]"
     ]
    },
    {
     "name": "stdout",
     "output_type": "stream",
     "text": [
      "Processed ../misc/audio_fe/mfcc/tt0116095_mfcc.png with feature shape: (768,)\n",
      "Processed ../misc/audio_fe/mfcc/tt0042994_mfcc.png with feature shape: (768,)\n",
      "Processed ../misc/audio_fe/mfcc/tt2207484_mfcc.png with feature shape: (768,)\n"
     ]
    },
    {
     "name": "stderr",
     "output_type": "stream",
     "text": [
      " 14%|█▎        | 185/1356 [00:22<01:51, 10.52it/s]"
     ]
    },
    {
     "name": "stdout",
     "output_type": "stream",
     "text": [
      "Processed ../misc/audio_fe/mfcc/tt0371589_mfcc.png with feature shape: (768,)\n",
      "Processed ../misc/audio_fe/mfcc/tt6359956_mfcc.png with feature shape: (768,)\n"
     ]
    },
    {
     "name": "stderr",
     "output_type": "stream",
     "text": [
      " 14%|█▍        | 187/1356 [00:23<02:15,  8.63it/s]"
     ]
    },
    {
     "name": "stdout",
     "output_type": "stream",
     "text": [
      "Processed ../misc/audio_fe/mfcc/tt1174954_mfcc.png with feature shape: (768,)\n",
      "Processed ../misc/audio_fe/mfcc/tt0396271_mfcc.png with feature shape: (768,)\n",
      "Processed ../misc/audio_fe/mfcc/tt0488988_mfcc.png with feature shape: (768,)\n"
     ]
    },
    {
     "name": "stderr",
     "output_type": "stream",
     "text": [
      " 14%|█▍        | 189/1356 [00:23<02:08,  9.11it/s]"
     ]
    },
    {
     "name": "stdout",
     "output_type": "stream",
     "text": [
      "Processed ../misc/audio_fe/mfcc/tt4435082_mfcc.png with feature shape: (768,)\n"
     ]
    },
    {
     "name": "stderr",
     "output_type": "stream",
     "text": [
      " 14%|█▍        | 191/1356 [00:23<02:35,  7.48it/s]"
     ]
    },
    {
     "name": "stdout",
     "output_type": "stream",
     "text": [
      "Processed ../misc/audio_fe/mfcc/tt0384642_mfcc.png with feature shape: (768,)\n",
      "Processed ../misc/audio_fe/mfcc/tt2165743_mfcc.png with feature shape: (768,)\n",
      "Processed ../misc/audio_fe/mfcc/tt1240982_mfcc.png with feature shape: (768,)\n"
     ]
    },
    {
     "name": "stderr",
     "output_type": "stream",
     "text": [
      " 14%|█▍        | 195/1356 [00:23<01:57,  9.85it/s]"
     ]
    },
    {
     "name": "stdout",
     "output_type": "stream",
     "text": [
      "Processed ../misc/audio_fe/mfcc/tt0432348_mfcc.png with feature shape: (768,)\n",
      "Processed ../misc/audio_fe/mfcc/tt1046997_mfcc.png with feature shape: (768,)\n",
      "Processed ../misc/audio_fe/mfcc/tt0021814_mfcc.png with feature shape: (768,)\n"
     ]
    },
    {
     "name": "stderr",
     "output_type": "stream",
     "text": [
      " 15%|█▍        | 197/1356 [00:24<02:04,  9.31it/s]"
     ]
    },
    {
     "name": "stdout",
     "output_type": "stream",
     "text": [
      "Processed ../misc/audio_fe/mfcc/tt0054279_mfcc.png with feature shape: (768,)\n",
      "Processed ../misc/audio_fe/mfcc/tt0094737_mfcc.png with feature shape: (768,)\n"
     ]
    },
    {
     "name": "stderr",
     "output_type": "stream",
     "text": [
      " 15%|█▍        | 199/1356 [00:24<01:59,  9.68it/s]"
     ]
    },
    {
     "name": "stdout",
     "output_type": "stream",
     "text": [
      "Processed ../misc/audio_fe/mfcc/tt2960470_mfcc.png with feature shape: (768,)\n",
      "Processed ../misc/audio_fe/mfcc/tt0340855_mfcc.png with feature shape: (768,)\n",
      "Processed ../misc/audio_fe/mfcc/tt0325258_mfcc.png with feature shape: (768,)\n"
     ]
    },
    {
     "name": "stderr",
     "output_type": "stream",
     "text": [
      " 15%|█▍        | 203/1356 [00:24<02:08,  9.00it/s]"
     ]
    },
    {
     "name": "stdout",
     "output_type": "stream",
     "text": [
      "Processed ../misc/audio_fe/mfcc/tt0482606_mfcc.png with feature shape: (768,)\n",
      "Processed ../misc/audio_fe/mfcc/tt0489070_mfcc.png with feature shape: (768,)\n",
      "Processed ../misc/audio_fe/mfcc/tt0422774_mfcc.png with feature shape: (768,)\n"
     ]
    },
    {
     "name": "stderr",
     "output_type": "stream",
     "text": [
      " 15%|█▌        | 205/1356 [00:24<01:56,  9.86it/s]"
     ]
    },
    {
     "name": "stdout",
     "output_type": "stream",
     "text": [
      "Processed ../misc/audio_fe/mfcc/tt1462054_mfcc.png with feature shape: (768,)\n",
      "Processed ../misc/audio_fe/mfcc/tt0150377_mfcc.png with feature shape: (768,)\n",
      "Processed ../misc/audio_fe/mfcc/tt4103724_mfcc.png with feature shape: (768,)\n"
     ]
    },
    {
     "name": "stderr",
     "output_type": "stream",
     "text": [
      " 15%|█▌        | 207/1356 [00:25<01:45, 10.86it/s]"
     ]
    },
    {
     "name": "stdout",
     "output_type": "stream",
     "text": [
      "Processed ../misc/audio_fe/mfcc/tt1407061_mfcc.png with feature shape: (768,)\n",
      "Processed ../misc/audio_fe/mfcc/tt0377752_mfcc.png with feature shape: (768,)\n"
     ]
    },
    {
     "name": "stderr",
     "output_type": "stream",
     "text": [
      " 16%|█▌        | 211/1356 [00:25<01:50, 10.41it/s]"
     ]
    },
    {
     "name": "stdout",
     "output_type": "stream",
     "text": [
      "Processed ../misc/audio_fe/mfcc/tt0118688_mfcc.png with feature shape: (768,)\n",
      "Processed ../misc/audio_fe/mfcc/tt0110157_mfcc.png with feature shape: (768,)\n",
      "Processed ../misc/audio_fe/mfcc/tt2261287_mfcc.png with feature shape: (768,)\n"
     ]
    },
    {
     "name": "stderr",
     "output_type": "stream",
     "text": [
      " 16%|█▌        | 213/1356 [00:25<01:43, 11.00it/s]"
     ]
    },
    {
     "name": "stdout",
     "output_type": "stream",
     "text": [
      "Processed ../misc/audio_fe/mfcc/tt0120655_mfcc.png with feature shape: (768,)\n",
      "Processed ../misc/audio_fe/mfcc/tt0772175_mfcc.png with feature shape: (768,)\n",
      "Processed ../misc/audio_fe/mfcc/tt1007028_mfcc.png with feature shape: (768,)\n"
     ]
    },
    {
     "name": "stderr",
     "output_type": "stream",
     "text": [
      " 16%|█▌        | 215/1356 [00:25<02:06,  9.01it/s]"
     ]
    },
    {
     "name": "stdout",
     "output_type": "stream",
     "text": [
      "Processed ../misc/audio_fe/mfcc/tt0396752_mfcc.png with feature shape: (768,)\n"
     ]
    },
    {
     "name": "stderr",
     "output_type": "stream",
     "text": [
      " 16%|█▌        | 218/1356 [00:26<01:57,  9.67it/s]"
     ]
    },
    {
     "name": "stdout",
     "output_type": "stream",
     "text": [
      "Processed ../misc/audio_fe/mfcc/tt5460226_mfcc.png with feature shape: (768,)\n",
      "Processed ../misc/audio_fe/mfcc/tt0335121_mfcc.png with feature shape: (768,)\n",
      "Processed ../misc/audio_fe/mfcc/tt3090252_mfcc.png with feature shape: (768,)\n"
     ]
    },
    {
     "name": "stderr",
     "output_type": "stream",
     "text": [
      " 16%|█▌        | 220/1356 [00:26<03:09,  5.99it/s]"
     ]
    },
    {
     "name": "stdout",
     "output_type": "stream",
     "text": [
      "Processed ../misc/audio_fe/mfcc/tt0834001_mfcc.png with feature shape: (768,)\n",
      "Processed ../misc/audio_fe/mfcc/tt1763264_mfcc.png with feature shape: (768,)\n",
      "Processed ../misc/audio_fe/mfcc/tt0203119_mfcc.png with feature shape: (768,)\n"
     ]
    },
    {
     "name": "stderr",
     "output_type": "stream",
     "text": [
      " 17%|█▋        | 224/1356 [00:27<02:14,  8.41it/s]"
     ]
    },
    {
     "name": "stdout",
     "output_type": "stream",
     "text": [
      "Processed ../misc/audio_fe/mfcc/tt1730294_mfcc.png with feature shape: (768,)\n",
      "Processed ../misc/audio_fe/mfcc/tt0475355_mfcc.png with feature shape: (768,)\n",
      "Processed ../misc/audio_fe/mfcc/tt0790799_mfcc.png with feature shape: (768,)\n",
      "Processed ../misc/audio_fe/mfcc/tt2262227_mfcc.png with feature shape: (768,)\n"
     ]
    },
    {
     "name": "stderr",
     "output_type": "stream",
     "text": [
      " 17%|█▋        | 227/1356 [00:27<03:01,  6.23it/s]"
     ]
    },
    {
     "name": "stdout",
     "output_type": "stream",
     "text": [
      "Processed ../misc/audio_fe/mfcc/tt11808946_mfcc.png with feature shape: (768,)\n",
      "Processed ../misc/audio_fe/mfcc/tt0364045_mfcc.png with feature shape: (768,)\n",
      "Processed ../misc/audio_fe/mfcc/tt1016075_mfcc.png with feature shape: (768,)\n"
     ]
    },
    {
     "name": "stderr",
     "output_type": "stream",
     "text": [
      " 17%|█▋        | 230/1356 [00:28<02:39,  7.07it/s]"
     ]
    },
    {
     "name": "stdout",
     "output_type": "stream",
     "text": [
      "Processed ../misc/audio_fe/mfcc/tt1303803_mfcc.png with feature shape: (768,)\n",
      "Processed ../misc/audio_fe/mfcc/tt0318761_mfcc.png with feature shape: (768,)\n"
     ]
    },
    {
     "name": "stderr",
     "output_type": "stream",
     "text": [
      " 17%|█▋        | 231/1356 [00:28<03:17,  5.71it/s]"
     ]
    },
    {
     "name": "stdout",
     "output_type": "stream",
     "text": [
      "Processed ../misc/audio_fe/mfcc/tt0092666_mfcc.png with feature shape: (768,)\n"
     ]
    },
    {
     "name": "stderr",
     "output_type": "stream",
     "text": [
      " 17%|█▋        | 233/1356 [00:29<03:37,  5.16it/s]"
     ]
    },
    {
     "name": "stdout",
     "output_type": "stream",
     "text": [
      "Processed ../misc/audio_fe/mfcc/tt0345061_mfcc.png with feature shape: (768,)\n",
      "Processed ../misc/audio_fe/mfcc/tt1232829_mfcc.png with feature shape: (768,)\n"
     ]
    },
    {
     "name": "stderr",
     "output_type": "stream",
     "text": [
      " 17%|█▋        | 234/1356 [00:29<04:14,  4.41it/s]"
     ]
    },
    {
     "name": "stdout",
     "output_type": "stream",
     "text": [
      "Processed ../misc/audio_fe/mfcc/tt0493402_mfcc.png with feature shape: (768,)\n"
     ]
    },
    {
     "name": "stderr",
     "output_type": "stream",
     "text": [
      " 17%|█▋        | 235/1356 [00:29<04:08,  4.51it/s]"
     ]
    },
    {
     "name": "stdout",
     "output_type": "stream",
     "text": [
      "Processed ../misc/audio_fe/mfcc/tt0299658_mfcc.png with feature shape: (768,)\n"
     ]
    },
    {
     "name": "stderr",
     "output_type": "stream",
     "text": [
      " 18%|█▊        | 238/1356 [00:30<03:52,  4.82it/s]"
     ]
    },
    {
     "name": "stdout",
     "output_type": "stream",
     "text": [
      "Processed ../misc/audio_fe/mfcc/tt7319064_mfcc.png with feature shape: (768,)\n",
      "Processed ../misc/audio_fe/mfcc/tt1390539_mfcc.png with feature shape: (768,)\n",
      "Processed ../misc/audio_fe/mfcc/tt1629757_mfcc.png with feature shape: (768,)\n"
     ]
    },
    {
     "name": "stderr",
     "output_type": "stream",
     "text": [
      " 18%|█▊        | 240/1356 [00:30<02:59,  6.23it/s]"
     ]
    },
    {
     "name": "stdout",
     "output_type": "stream",
     "text": [
      "Processed ../misc/audio_fe/mfcc/tt0435679_mfcc.png with feature shape: (768,)\n",
      "Processed ../misc/audio_fe/mfcc/tt1543652_mfcc.png with feature shape: (768,)\n"
     ]
    },
    {
     "name": "stderr",
     "output_type": "stream",
     "text": [
      " 18%|█▊        | 243/1356 [00:31<03:39,  5.07it/s]"
     ]
    },
    {
     "name": "stdout",
     "output_type": "stream",
     "text": [
      "Processed ../misc/audio_fe/mfcc/tt0119054_mfcc.png with feature shape: (768,)\n",
      "Processed ../misc/audio_fe/mfcc/tt1029120_mfcc.png with feature shape: (768,)\n",
      "Processed ../misc/audio_fe/mfcc/tt1449283_mfcc.png with feature shape: (768,)\n"
     ]
    },
    {
     "name": "stderr",
     "output_type": "stream",
     "text": [
      " 18%|█▊        | 245/1356 [00:31<03:40,  5.04it/s]"
     ]
    },
    {
     "name": "stdout",
     "output_type": "stream",
     "text": [
      "Processed ../misc/audio_fe/mfcc/tt0102316_mfcc.png with feature shape: (768,)\n",
      "Processed ../misc/audio_fe/mfcc/tt0802948_mfcc.png with feature shape: (768,)\n"
     ]
    },
    {
     "name": "stderr",
     "output_type": "stream",
     "text": [
      " 18%|█▊        | 246/1356 [00:31<03:14,  5.71it/s]"
     ]
    },
    {
     "name": "stdout",
     "output_type": "stream",
     "text": [
      "Processed ../misc/audio_fe/mfcc/tt1783732_mfcc.png with feature shape: (768,)\n"
     ]
    },
    {
     "name": "stderr",
     "output_type": "stream",
     "text": [
      " 18%|█▊        | 248/1356 [00:32<04:28,  4.12it/s]"
     ]
    },
    {
     "name": "stdout",
     "output_type": "stream",
     "text": [
      "Processed ../misc/audio_fe/mfcc/tt1078912_mfcc.png with feature shape: (768,)\n",
      "Processed ../misc/audio_fe/mfcc/tt1629439_mfcc.png with feature shape: (768,)\n",
      "Processed ../misc/audio_fe/mfcc/tt0109035_mfcc.png with feature shape: (768,)\n"
     ]
    },
    {
     "name": "stderr",
     "output_type": "stream",
     "text": [
      " 19%|█▊        | 252/1356 [00:32<02:26,  7.53it/s]"
     ]
    },
    {
     "name": "stdout",
     "output_type": "stream",
     "text": [
      "Processed ../misc/audio_fe/mfcc/tt0115678_mfcc.png with feature shape: (768,)\n",
      "Processed ../misc/audio_fe/mfcc/tt0478303_mfcc.png with feature shape: (768,)\n",
      "Processed ../misc/audio_fe/mfcc/tt0139699_mfcc.png with feature shape: (768,)\n"
     ]
    },
    {
     "name": "stderr",
     "output_type": "stream",
     "text": [
      " 19%|█▊        | 254/1356 [00:32<02:04,  8.88it/s]"
     ]
    },
    {
     "name": "stdout",
     "output_type": "stream",
     "text": [
      "Processed ../misc/audio_fe/mfcc/tt0113010_mfcc.png with feature shape: (768,)\n",
      "Processed ../misc/audio_fe/mfcc/tt0498348_mfcc.png with feature shape: (768,)\n"
     ]
    },
    {
     "name": "stderr",
     "output_type": "stream",
     "text": [
      " 19%|█▉        | 256/1356 [00:33<02:04,  8.84it/s]"
     ]
    },
    {
     "name": "stdout",
     "output_type": "stream",
     "text": [
      "Processed ../misc/audio_fe/mfcc/tt1220617_mfcc.png with feature shape: (768,)\n",
      "Processed ../misc/audio_fe/mfcc/tt3381008_mfcc.png with feature shape: (768,)\n"
     ]
    },
    {
     "name": "stderr",
     "output_type": "stream",
     "text": [
      " 19%|█▉        | 258/1356 [00:33<02:50,  6.44it/s]"
     ]
    },
    {
     "name": "stdout",
     "output_type": "stream",
     "text": [
      "Processed ../misc/audio_fe/mfcc/tt0332452_mfcc.png with feature shape: (768,)\n",
      "Processed ../misc/audio_fe/mfcc/tt0491203_mfcc.png with feature shape: (768,)\n",
      "Processed ../misc/audio_fe/mfcc/tt0087998_mfcc.png with feature shape: (768,)\n"
     ]
    },
    {
     "name": "stderr",
     "output_type": "stream",
     "text": [
      " 19%|█▉        | 262/1356 [00:33<02:04,  8.79it/s]"
     ]
    },
    {
     "name": "stdout",
     "output_type": "stream",
     "text": [
      "Processed ../misc/audio_fe/mfcc/tt2718440_mfcc.png with feature shape: (768,)\n",
      "Processed ../misc/audio_fe/mfcc/tt0082367_mfcc.png with feature shape: (768,)\n",
      "Processed ../misc/audio_fe/mfcc/tt1142800_mfcc.png with feature shape: (768,)\n",
      "Processed ../misc/audio_fe/mfcc/tt1524930_mfcc.png with feature shape: (768,)\n"
     ]
    },
    {
     "name": "stderr",
     "output_type": "stream",
     "text": [
      " 20%|█▉        | 265/1356 [00:34<03:15,  5.57it/s]"
     ]
    },
    {
     "name": "stdout",
     "output_type": "stream",
     "text": [
      "Processed ../misc/audio_fe/mfcc/tt0365737_mfcc.png with feature shape: (768,)\n",
      "Processed ../misc/audio_fe/mfcc/tt1855199_mfcc.png with feature shape: (768,)\n"
     ]
    },
    {
     "name": "stderr",
     "output_type": "stream",
     "text": [
      " 20%|█▉        | 268/1356 [00:35<02:46,  6.55it/s]"
     ]
    },
    {
     "name": "stdout",
     "output_type": "stream",
     "text": [
      "Processed ../misc/audio_fe/mfcc/tt2870612_mfcc.png with feature shape: (768,)\n",
      "Processed ../misc/audio_fe/mfcc/tt0810913_mfcc.png with feature shape: (768,)\n",
      "Processed ../misc/audio_fe/mfcc/tt0066344_mfcc.png with feature shape: (768,)\n"
     ]
    },
    {
     "name": "stderr",
     "output_type": "stream",
     "text": [
      " 20%|█▉        | 271/1356 [00:35<02:49,  6.38it/s]"
     ]
    },
    {
     "name": "stdout",
     "output_type": "stream",
     "text": [
      "Processed ../misc/audio_fe/mfcc/tt0332047_mfcc.png with feature shape: (768,)\n",
      "Processed ../misc/audio_fe/mfcc/tt2965466_mfcc.png with feature shape: (768,)\n",
      "Processed ../misc/audio_fe/mfcc/tt1961175_mfcc.png with feature shape: (768,)\n"
     ]
    },
    {
     "name": "stderr",
     "output_type": "stream",
     "text": [
      " 20%|██        | 273/1356 [00:35<02:16,  7.91it/s]"
     ]
    },
    {
     "name": "stdout",
     "output_type": "stream",
     "text": [
      "Processed ../misc/audio_fe/mfcc/tt1145144_mfcc.png with feature shape: (768,)\n",
      "Processed ../misc/audio_fe/mfcc/tt0442933_mfcc.png with feature shape: (768,)\n",
      "Processed ../misc/audio_fe/mfcc/tt1046947_mfcc.png with feature shape: (768,)\n"
     ]
    },
    {
     "name": "stderr",
     "output_type": "stream",
     "text": [
      " 20%|██        | 276/1356 [00:36<02:33,  7.02it/s]"
     ]
    },
    {
     "name": "stdout",
     "output_type": "stream",
     "text": [
      "Processed ../misc/audio_fe/mfcc/tt0816436_mfcc.png with feature shape: (768,)\n",
      "Processed ../misc/audio_fe/mfcc/tt0120804_mfcc.png with feature shape: (768,)\n"
     ]
    },
    {
     "name": "stderr",
     "output_type": "stream",
     "text": [
      " 21%|██        | 280/1356 [00:36<01:44, 10.27it/s]"
     ]
    },
    {
     "name": "stdout",
     "output_type": "stream",
     "text": [
      "Processed ../misc/audio_fe/mfcc/tt0867591_mfcc.png with feature shape: (768,)\n",
      "Processed ../misc/audio_fe/mfcc/tt1742334_mfcc.png with feature shape: (768,)\n",
      "Processed ../misc/audio_fe/mfcc/tt0084787_mfcc.png with feature shape: (768,)\n",
      "Processed ../misc/audio_fe/mfcc/tt0374277_mfcc.png with feature shape: (768,)\n"
     ]
    },
    {
     "name": "stderr",
     "output_type": "stream",
     "text": [
      " 21%|██        | 282/1356 [00:36<01:34, 11.39it/s]"
     ]
    },
    {
     "name": "stdout",
     "output_type": "stream",
     "text": [
      "Processed ../misc/audio_fe/mfcc/tt0923752_mfcc.png with feature shape: (768,)\n",
      "Processed ../misc/audio_fe/mfcc/tt0811138_mfcc.png with feature shape: (768,)\n",
      "Processed ../misc/audio_fe/mfcc/tt0762121_mfcc.png with feature shape: (768,)\n"
     ]
    },
    {
     "name": "stderr",
     "output_type": "stream",
     "text": [
      " 21%|██        | 286/1356 [00:37<01:52,  9.49it/s]"
     ]
    },
    {
     "name": "stdout",
     "output_type": "stream",
     "text": [
      "Processed ../misc/audio_fe/mfcc/tt2404463_mfcc.png with feature shape: (768,)\n",
      "Processed ../misc/audio_fe/mfcc/tt0910934_mfcc.png with feature shape: (768,)\n",
      "Processed ../misc/audio_fe/mfcc/tt0996979_mfcc.png with feature shape: (768,)\n"
     ]
    },
    {
     "name": "stderr",
     "output_type": "stream",
     "text": [
      " 21%|██        | 288/1356 [00:37<01:59,  8.94it/s]"
     ]
    },
    {
     "name": "stdout",
     "output_type": "stream",
     "text": [
      "Processed ../misc/audio_fe/mfcc/tt0373416_mfcc.png with feature shape: (768,)\n",
      "Processed ../misc/audio_fe/mfcc/tt0079714_mfcc.png with feature shape: (768,)\n"
     ]
    },
    {
     "name": "stderr",
     "output_type": "stream",
     "text": [
      " 21%|██▏       | 290/1356 [00:37<02:30,  7.06it/s]"
     ]
    },
    {
     "name": "stdout",
     "output_type": "stream",
     "text": [
      "Processed ../misc/audio_fe/mfcc/tt0141369_mfcc.png with feature shape: (768,)\n",
      "Processed ../misc/audio_fe/mfcc/tt0936501_mfcc.png with feature shape: (768,)\n",
      "Processed ../misc/audio_fe/mfcc/tt0432291_mfcc.png with feature shape: (768,)\n"
     ]
    },
    {
     "name": "stderr",
     "output_type": "stream",
     "text": [
      " 22%|██▏       | 292/1356 [00:38<02:12,  8.04it/s]"
     ]
    },
    {
     "name": "stdout",
     "output_type": "stream",
     "text": [
      "Processed ../misc/audio_fe/mfcc/tt0299117_mfcc.png with feature shape: (768,)\n"
     ]
    },
    {
     "name": "stderr",
     "output_type": "stream",
     "text": [
      " 22%|██▏       | 293/1356 [00:38<02:45,  6.42it/s]"
     ]
    },
    {
     "name": "stdout",
     "output_type": "stream",
     "text": [
      "Processed ../misc/audio_fe/mfcc/tt0118541_mfcc.png with feature shape: (768,)\n"
     ]
    },
    {
     "name": "stderr",
     "output_type": "stream",
     "text": [
      " 22%|██▏       | 295/1356 [00:38<03:18,  5.34it/s]"
     ]
    },
    {
     "name": "stdout",
     "output_type": "stream",
     "text": [
      "Processed ../misc/audio_fe/mfcc/tt0393109_mfcc.png with feature shape: (768,)\n",
      "Processed ../misc/audio_fe/mfcc/tt1047494_mfcc.png with feature shape: (768,)\n"
     ]
    },
    {
     "name": "stderr",
     "output_type": "stream",
     "text": [
      " 22%|██▏       | 296/1356 [00:39<03:16,  5.40it/s]"
     ]
    },
    {
     "name": "stdout",
     "output_type": "stream",
     "text": [
      "Processed ../misc/audio_fe/mfcc/tt1128071_mfcc.png with feature shape: (768,)\n",
      "Processed ../misc/audio_fe/mfcc/tt0499570_mfcc.png with feature shape: (768,)\n"
     ]
    },
    {
     "name": "stderr",
     "output_type": "stream",
     "text": [
      " 22%|██▏       | 298/1356 [00:39<04:06,  4.30it/s]"
     ]
    },
    {
     "name": "stdout",
     "output_type": "stream",
     "text": [
      "Processed ../misc/audio_fe/mfcc/tt0330136_mfcc.png with feature shape: (768,)\n"
     ]
    },
    {
     "name": "stderr",
     "output_type": "stream",
     "text": [
      " 22%|██▏       | 301/1356 [00:40<02:52,  6.12it/s]"
     ]
    },
    {
     "name": "stdout",
     "output_type": "stream",
     "text": [
      "Processed ../misc/audio_fe/mfcc/tt0319343_mfcc.png with feature shape: (768,)\n",
      "Processed ../misc/audio_fe/mfcc/tt4454078_mfcc.png with feature shape: (768,)\n",
      "Processed ../misc/audio_fe/mfcc/tt0298408_mfcc.png with feature shape: (768,)\n",
      "Processed ../misc/audio_fe/mfcc/tt0457572_mfcc.png with feature shape: (768,)\n"
     ]
    },
    {
     "name": "stderr",
     "output_type": "stream",
     "text": [
      " 22%|██▏       | 305/1356 [00:40<01:59,  8.83it/s]"
     ]
    },
    {
     "name": "stdout",
     "output_type": "stream",
     "text": [
      "Processed ../misc/audio_fe/mfcc/tt2215151_mfcc.png with feature shape: (768,)\n",
      "Processed ../misc/audio_fe/mfcc/tt2926810_mfcc.png with feature shape: (768,)\n",
      "Processed ../misc/audio_fe/mfcc/tt0952682_mfcc.png with feature shape: (768,)\n"
     ]
    },
    {
     "name": "stderr",
     "output_type": "stream",
     "text": [
      " 23%|██▎       | 307/1356 [00:40<01:53,  9.25it/s]"
     ]
    },
    {
     "name": "stdout",
     "output_type": "stream",
     "text": [
      "Processed ../misc/audio_fe/mfcc/tt0113870_mfcc.png with feature shape: (768,)\n",
      "Processed ../misc/audio_fe/mfcc/tt0164212_mfcc.png with feature shape: (768,)\n"
     ]
    },
    {
     "name": "stderr",
     "output_type": "stream",
     "text": [
      " 23%|██▎       | 309/1356 [00:40<02:07,  8.20it/s]"
     ]
    },
    {
     "name": "stdout",
     "output_type": "stream",
     "text": [
      "Processed ../misc/audio_fe/mfcc/tt0120616_mfcc.png with feature shape: (768,)\n",
      "Processed ../misc/audio_fe/mfcc/tt0096969_mfcc.png with feature shape: (768,)\n",
      "Processed ../misc/audio_fe/mfcc/tt0129167_mfcc.png with feature shape: (768,)\n"
     ]
    },
    {
     "name": "stderr",
     "output_type": "stream",
     "text": [
      " 23%|██▎       | 313/1356 [00:41<02:26,  7.13it/s]"
     ]
    },
    {
     "name": "stdout",
     "output_type": "stream",
     "text": [
      "Processed ../misc/audio_fe/mfcc/tt0196158_mfcc.png with feature shape: (768,)\n",
      "Processed ../misc/audio_fe/mfcc/tt2822672_mfcc.png with feature shape: (768,)\n",
      "Processed ../misc/audio_fe/mfcc/tt3559422_mfcc.png with feature shape: (768,)\n"
     ]
    },
    {
     "name": "stderr",
     "output_type": "stream",
     "text": [
      " 23%|██▎       | 315/1356 [00:41<02:03,  8.42it/s]"
     ]
    },
    {
     "name": "stdout",
     "output_type": "stream",
     "text": [
      "Processed ../misc/audio_fe/mfcc/tt1493828_mfcc.png with feature shape: (768,)\n",
      "Processed ../misc/audio_fe/mfcc/tt0399095_mfcc.png with feature shape: (768,)\n",
      "Processed ../misc/audio_fe/mfcc/tt4552524_mfcc.png with feature shape: (768,)\n"
     ]
    },
    {
     "name": "stderr",
     "output_type": "stream",
     "text": [
      " 23%|██▎       | 318/1356 [00:42<02:55,  5.93it/s]"
     ]
    },
    {
     "name": "stdout",
     "output_type": "stream",
     "text": [
      "Processed ../misc/audio_fe/mfcc/tt1637725_mfcc.png with feature shape: (768,)\n",
      "Processed ../misc/audio_fe/mfcc/tt0141926_mfcc.png with feature shape: (768,)\n"
     ]
    },
    {
     "name": "stderr",
     "output_type": "stream",
     "text": [
      " 24%|██▎       | 320/1356 [00:42<02:23,  7.24it/s]"
     ]
    },
    {
     "name": "stdout",
     "output_type": "stream",
     "text": [
      "Processed ../misc/audio_fe/mfcc/tt0081459_mfcc.png with feature shape: (768,)\n",
      "Processed ../misc/audio_fe/mfcc/tt1366344_mfcc.png with feature shape: (768,)\n",
      "Processed ../misc/audio_fe/mfcc/tt1430077_mfcc.png with feature shape: (768,)\n"
     ]
    },
    {
     "name": "stderr",
     "output_type": "stream",
     "text": [
      " 24%|██▎       | 322/1356 [00:42<02:10,  7.91it/s]"
     ]
    },
    {
     "name": "stdout",
     "output_type": "stream",
     "text": [
      "Processed ../misc/audio_fe/mfcc/tt1879032_mfcc.png with feature shape: (768,)\n"
     ]
    },
    {
     "name": "stderr",
     "output_type": "stream",
     "text": [
      " 24%|██▍       | 325/1356 [00:43<02:21,  7.31it/s]"
     ]
    },
    {
     "name": "stdout",
     "output_type": "stream",
     "text": [
      "Processed ../misc/audio_fe/mfcc/tt0398286_mfcc.png with feature shape: (768,)\n",
      "Processed ../misc/audio_fe/mfcc/tt3832914_mfcc.png with feature shape: (768,)\n",
      "Processed ../misc/audio_fe/mfcc/tt0410097_mfcc.png with feature shape: (768,)\n"
     ]
    },
    {
     "name": "stderr",
     "output_type": "stream",
     "text": [
      " 24%|██▍       | 327/1356 [00:43<01:57,  8.73it/s]"
     ]
    },
    {
     "name": "stdout",
     "output_type": "stream",
     "text": [
      "Processed ../misc/audio_fe/mfcc/tt0276919_mfcc.png with feature shape: (768,)\n",
      "Processed ../misc/audio_fe/mfcc/tt0114694_mfcc.png with feature shape: (768,)\n",
      "Processed ../misc/audio_fe/mfcc/tt0425061_mfcc.png with feature shape: (768,)\n"
     ]
    },
    {
     "name": "stderr",
     "output_type": "stream",
     "text": [
      " 24%|██▍       | 329/1356 [00:43<01:44,  9.81it/s]"
     ]
    },
    {
     "name": "stdout",
     "output_type": "stream",
     "text": [
      "Processed ../misc/audio_fe/mfcc/tt6251024_mfcc.png with feature shape: (768,)\n",
      "Processed ../misc/audio_fe/mfcc/tt0785007_mfcc.png with feature shape: (768,)\n"
     ]
    },
    {
     "name": "stderr",
     "output_type": "stream",
     "text": [
      " 25%|██▍       | 333/1356 [00:44<01:47,  9.50it/s]"
     ]
    },
    {
     "name": "stdout",
     "output_type": "stream",
     "text": [
      "Processed ../misc/audio_fe/mfcc/tt0147800_mfcc.png with feature shape: (768,)\n",
      "Processed ../misc/audio_fe/mfcc/tt1308728_mfcc.png with feature shape: (768,)\n",
      "Processed ../misc/audio_fe/mfcc/tt1031280_mfcc.png with feature shape: (768,)\n"
     ]
    },
    {
     "name": "stderr",
     "output_type": "stream",
     "text": [
      " 25%|██▍       | 335/1356 [00:44<01:37, 10.42it/s]"
     ]
    },
    {
     "name": "stdout",
     "output_type": "stream",
     "text": [
      "Processed ../misc/audio_fe/mfcc/tt1362103_mfcc.png with feature shape: (768,)\n",
      "Processed ../misc/audio_fe/mfcc/tt0162661_mfcc.png with feature shape: (768,)\n"
     ]
    },
    {
     "name": "stderr",
     "output_type": "stream",
     "text": [
      " 25%|██▌       | 339/1356 [00:44<01:43,  9.81it/s]"
     ]
    },
    {
     "name": "stdout",
     "output_type": "stream",
     "text": [
      "Processed ../misc/audio_fe/mfcc/tt0339034_mfcc.png with feature shape: (768,)\n",
      "Processed ../misc/audio_fe/mfcc/tt1185836_mfcc.png with feature shape: (768,)\n",
      "Processed ../misc/audio_fe/mfcc/tt7390588_mfcc.png with feature shape: (768,)\n",
      "Processed ../misc/audio_fe/mfcc/tt0337579_mfcc.png with feature shape: (768,)\n"
     ]
    },
    {
     "name": "stderr",
     "output_type": "stream",
     "text": [
      " 25%|██▌       | 341/1356 [00:44<01:35, 10.59it/s]"
     ]
    },
    {
     "name": "stdout",
     "output_type": "stream",
     "text": [
      "Processed ../misc/audio_fe/mfcc/tt1094661_mfcc.png with feature shape: (768,)\n",
      "Processed ../misc/audio_fe/mfcc/tt0112495_mfcc.png with feature shape: (768,)\n"
     ]
    },
    {
     "name": "stderr",
     "output_type": "stream",
     "text": [
      " 25%|██▌       | 343/1356 [00:45<01:47,  9.41it/s]"
     ]
    },
    {
     "name": "stdout",
     "output_type": "stream",
     "text": [
      "Processed ../misc/audio_fe/mfcc/tt7798634_mfcc.png with feature shape: (768,)\n",
      "Processed ../misc/audio_fe/mfcc/tt1135985_mfcc.png with feature shape: (768,)\n",
      "Processed ../misc/audio_fe/mfcc/tt1956620_mfcc.png with feature shape: (768,)\n"
     ]
    },
    {
     "name": "stderr",
     "output_type": "stream",
     "text": [
      " 25%|██▌       | 345/1356 [00:45<01:37, 10.39it/s]"
     ]
    },
    {
     "name": "stdout",
     "output_type": "stream",
     "text": [
      "Processed ../misc/audio_fe/mfcc/tt1712261_mfcc.png with feature shape: (768,)\n",
      "Processed ../misc/audio_fe/mfcc/tt0040662_mfcc.png with feature shape: (768,)\n"
     ]
    },
    {
     "name": "stderr",
     "output_type": "stream",
     "text": [
      " 26%|██▌       | 349/1356 [00:45<01:37, 10.29it/s]"
     ]
    },
    {
     "name": "stdout",
     "output_type": "stream",
     "text": [
      "Processed ../misc/audio_fe/mfcc/tt0246677_mfcc.png with feature shape: (768,)\n",
      "Processed ../misc/audio_fe/mfcc/tt0470993_mfcc.png with feature shape: (768,)\n",
      "Processed ../misc/audio_fe/mfcc/tt4649466_mfcc.png with feature shape: (768,)\n"
     ]
    },
    {
     "name": "stderr",
     "output_type": "stream",
     "text": [
      " 26%|██▌       | 351/1356 [00:45<01:30, 11.13it/s]"
     ]
    },
    {
     "name": "stdout",
     "output_type": "stream",
     "text": [
      "Processed ../misc/audio_fe/mfcc/tt1650056_mfcc.png with feature shape: (768,)\n",
      "Processed ../misc/audio_fe/mfcc/tt0091949_mfcc.png with feature shape: (768,)\n",
      "Processed ../misc/audio_fe/mfcc/tt0120591_mfcc.png with feature shape: (768,)\n"
     ]
    },
    {
     "name": "stderr",
     "output_type": "stream",
     "text": [
      " 26%|██▌       | 355/1356 [00:46<01:31, 10.93it/s]"
     ]
    },
    {
     "name": "stdout",
     "output_type": "stream",
     "text": [
      "Processed ../misc/audio_fe/mfcc/tt0246989_mfcc.png with feature shape: (768,)\n",
      "Processed ../misc/audio_fe/mfcc/tt0338466_mfcc.png with feature shape: (768,)\n",
      "Processed ../misc/audio_fe/mfcc/tt7634968_mfcc.png with feature shape: (768,)\n"
     ]
    },
    {
     "name": "stderr",
     "output_type": "stream",
     "text": [
      " 26%|██▋       | 357/1356 [00:46<01:26, 11.51it/s]"
     ]
    },
    {
     "name": "stdout",
     "output_type": "stream",
     "text": [
      "Processed ../misc/audio_fe/mfcc/tt1159961_mfcc.png with feature shape: (768,)\n",
      "Processed ../misc/audio_fe/mfcc/tt0206420_mfcc.png with feature shape: (768,)\n"
     ]
    },
    {
     "name": "stderr",
     "output_type": "stream",
     "text": [
      " 26%|██▋       | 359/1356 [00:46<01:41,  9.82it/s]"
     ]
    },
    {
     "name": "stdout",
     "output_type": "stream",
     "text": [
      "Processed ../misc/audio_fe/mfcc/tt0903135_mfcc.png with feature shape: (768,)\n",
      "Processed ../misc/audio_fe/mfcc/tt0391198_mfcc.png with feature shape: (768,)\n",
      "Processed ../misc/audio_fe/mfcc/tt0261983_mfcc.png with feature shape: (768,)\n"
     ]
    },
    {
     "name": "stderr",
     "output_type": "stream",
     "text": [
      " 27%|██▋       | 361/1356 [00:46<01:35, 10.43it/s]"
     ]
    },
    {
     "name": "stdout",
     "output_type": "stream",
     "text": [
      "Processed ../misc/audio_fe/mfcc/tt1198405_mfcc.png with feature shape: (768,)\n",
      "Processed ../misc/audio_fe/mfcc/tt1093824_mfcc.png with feature shape: (768,)\n"
     ]
    },
    {
     "name": "stderr",
     "output_type": "stream",
     "text": [
      " 27%|██▋       | 364/1356 [00:47<01:49,  9.07it/s]"
     ]
    },
    {
     "name": "stdout",
     "output_type": "stream",
     "text": [
      "Processed ../misc/audio_fe/mfcc/tt0339412_mfcc.png with feature shape: (768,)\n",
      "Processed ../misc/audio_fe/mfcc/tt0115641_mfcc.png with feature shape: (768,)\n",
      "Processed ../misc/audio_fe/mfcc/tt0421073_mfcc.png with feature shape: (768,)\n"
     ]
    },
    {
     "name": "stderr",
     "output_type": "stream",
     "text": [
      " 27%|██▋       | 368/1356 [00:47<01:23, 11.78it/s]"
     ]
    },
    {
     "name": "stdout",
     "output_type": "stream",
     "text": [
      "Processed ../misc/audio_fe/mfcc/tt0303361_mfcc.png with feature shape: (768,)\n",
      "Processed ../misc/audio_fe/mfcc/tt1772341_mfcc.png with feature shape: (768,)\n",
      "Processed ../misc/audio_fe/mfcc/tt0118158_mfcc.png with feature shape: (768,)\n",
      "Processed ../misc/audio_fe/mfcc/tt1097013_mfcc.png with feature shape: (768,)\n"
     ]
    },
    {
     "name": "stderr",
     "output_type": "stream",
     "text": [
      " 27%|██▋       | 372/1356 [00:47<01:24, 11.62it/s]"
     ]
    },
    {
     "name": "stdout",
     "output_type": "stream",
     "text": [
      "Processed ../misc/audio_fe/mfcc/tt0083131_mfcc.png with feature shape: (768,)\n",
      "Processed ../misc/audio_fe/mfcc/tt1081942_mfcc.png with feature shape: (768,)\n",
      "Processed ../misc/audio_fe/mfcc/tt1055369_mfcc.png with feature shape: (768,)\n"
     ]
    },
    {
     "name": "stderr",
     "output_type": "stream",
     "text": [
      " 28%|██▊       | 374/1356 [00:47<01:25, 11.43it/s]"
     ]
    },
    {
     "name": "stdout",
     "output_type": "stream",
     "text": [
      "Processed ../misc/audio_fe/mfcc/tt0475417_mfcc.png with feature shape: (768,)\n",
      "Processed ../misc/audio_fe/mfcc/tt4191054_mfcc.png with feature shape: (768,)\n",
      "Processed ../misc/audio_fe/mfcc/tt0245562_mfcc.png with feature shape: (768,)\n"
     ]
    },
    {
     "name": "stderr",
     "output_type": "stream",
     "text": [
      " 28%|██▊       | 376/1356 [00:48<01:23, 11.72it/s]"
     ]
    },
    {
     "name": "stdout",
     "output_type": "stream",
     "text": [
      "Processed ../misc/audio_fe/mfcc/tt0461770_mfcc.png with feature shape: (768,)\n"
     ]
    },
    {
     "name": "stderr",
     "output_type": "stream",
     "text": [
      " 28%|██▊       | 380/1356 [00:48<01:41,  9.59it/s]"
     ]
    },
    {
     "name": "stdout",
     "output_type": "stream",
     "text": [
      "Processed ../misc/audio_fe/mfcc/tt2872718_mfcc.png with feature shape: (768,)\n",
      "Processed ../misc/audio_fe/mfcc/tt1866197_mfcc.png with feature shape: (768,)\n",
      "Processed ../misc/audio_fe/mfcc/tt1302011_mfcc.png with feature shape: (768,)\n",
      "Processed ../misc/audio_fe/mfcc/tt0163187_mfcc.png with feature shape: (768,)\n"
     ]
    },
    {
     "name": "stderr",
     "output_type": "stream",
     "text": [
      " 28%|██▊       | 382/1356 [00:48<01:31, 10.70it/s]"
     ]
    },
    {
     "name": "stdout",
     "output_type": "stream",
     "text": [
      "Processed ../misc/audio_fe/mfcc/tt2210463_mfcc.png with feature shape: (768,)\n",
      "Processed ../misc/audio_fe/mfcc/tt0489282_mfcc.png with feature shape: (768,)\n"
     ]
    },
    {
     "name": "stderr",
     "output_type": "stream",
     "text": [
      " 28%|██▊       | 384/1356 [00:49<01:59,  8.11it/s]"
     ]
    },
    {
     "name": "stdout",
     "output_type": "stream",
     "text": [
      "Processed ../misc/audio_fe/mfcc/tt0134084_mfcc.png with feature shape: (768,)\n",
      "Processed ../misc/audio_fe/mfcc/tt1373406_mfcc.png with feature shape: (768,)\n",
      "Processed ../misc/audio_fe/mfcc/tt1116186_mfcc.png with feature shape: (768,)\n"
     ]
    },
    {
     "name": "stderr",
     "output_type": "stream",
     "text": [
      " 29%|██▊       | 388/1356 [00:49<01:33, 10.30it/s]"
     ]
    },
    {
     "name": "stdout",
     "output_type": "stream",
     "text": [
      "Processed ../misc/audio_fe/mfcc/tt1655460_mfcc.png with feature shape: (768,)\n",
      "Processed ../misc/audio_fe/mfcc/tt0829482_mfcc.png with feature shape: (768,)\n",
      "Processed ../misc/audio_fe/mfcc/tt0861730_mfcc.png with feature shape: (768,)\n"
     ]
    },
    {
     "name": "stderr",
     "output_type": "stream",
     "text": [
      " 29%|██▉       | 390/1356 [00:49<01:27, 11.00it/s]"
     ]
    },
    {
     "name": "stdout",
     "output_type": "stream",
     "text": [
      "Processed ../misc/audio_fe/mfcc/tt0790604_mfcc.png with feature shape: (768,)\n",
      "Processed ../misc/audio_fe/mfcc/tt0286306_mfcc.png with feature shape: (768,)\n"
     ]
    },
    {
     "name": "stderr",
     "output_type": "stream",
     "text": [
      " 29%|██▉       | 392/1356 [00:49<01:33, 10.26it/s]"
     ]
    },
    {
     "name": "stdout",
     "output_type": "stream",
     "text": [
      "Processed ../misc/audio_fe/mfcc/tt0092546_mfcc.png with feature shape: (768,)\n",
      "Processed ../misc/audio_fe/mfcc/tt1631707_mfcc.png with feature shape: (768,)\n",
      "Processed ../misc/audio_fe/mfcc/tt1331064_mfcc.png with feature shape: (768,)\n"
     ]
    },
    {
     "name": "stderr",
     "output_type": "stream",
     "text": [
      " 29%|██▉       | 396/1356 [00:50<01:30, 10.60it/s]"
     ]
    },
    {
     "name": "stdout",
     "output_type": "stream",
     "text": [
      "Processed ../misc/audio_fe/mfcc/tt1302067_mfcc.png with feature shape: (768,)\n",
      "Processed ../misc/audio_fe/mfcc/tt0304711_mfcc.png with feature shape: (768,)\n",
      "Processed ../misc/audio_fe/mfcc/tt0449089_mfcc.png with feature shape: (768,)\n"
     ]
    },
    {
     "name": "stderr",
     "output_type": "stream",
     "text": [
      " 29%|██▉       | 398/1356 [00:50<01:27, 10.90it/s]"
     ]
    },
    {
     "name": "stdout",
     "output_type": "stream",
     "text": [
      "Processed ../misc/audio_fe/mfcc/tt0311941_mfcc.png with feature shape: (768,)\n",
      "Processed ../misc/audio_fe/mfcc/tt2072233_mfcc.png with feature shape: (768,)\n",
      "Processed ../misc/audio_fe/mfcc/tt0170691_mfcc.png with feature shape: (768,)\n"
     ]
    },
    {
     "name": "stderr",
     "output_type": "stream",
     "text": [
      " 29%|██▉       | 400/1356 [00:50<01:26, 11.11it/s]"
     ]
    },
    {
     "name": "stdout",
     "output_type": "stream",
     "text": [
      "Processed ../misc/audio_fe/mfcc/tt0078788_mfcc.png with feature shape: (768,)\n"
     ]
    },
    {
     "name": "stderr",
     "output_type": "stream",
     "text": [
      " 30%|██▉       | 402/1356 [00:51<03:04,  5.17it/s]"
     ]
    },
    {
     "name": "stdout",
     "output_type": "stream",
     "text": [
      "Processed ../misc/audio_fe/mfcc/tt1647668_mfcc.png with feature shape: (768,)\n",
      "Processed ../misc/audio_fe/mfcc/tt0079540_mfcc.png with feature shape: (768,)\n"
     ]
    },
    {
     "name": "stderr",
     "output_type": "stream",
     "text": [
      " 30%|██▉       | 404/1356 [00:51<02:49,  5.60it/s]"
     ]
    },
    {
     "name": "stdout",
     "output_type": "stream",
     "text": [
      "Processed ../misc/audio_fe/mfcc/tt1646971_mfcc.png with feature shape: (768,)\n",
      "Processed ../misc/audio_fe/mfcc/tt2298990_mfcc.png with feature shape: (768,)\n",
      "Processed ../misc/audio_fe/mfcc/tt0314630_mfcc.png with feature shape: (768,)\n"
     ]
    },
    {
     "name": "stderr",
     "output_type": "stream",
     "text": [
      " 30%|███       | 408/1356 [00:52<02:26,  6.47it/s]"
     ]
    },
    {
     "name": "stdout",
     "output_type": "stream",
     "text": [
      "Processed ../misc/audio_fe/mfcc/tt0386588_mfcc.png with feature shape: (768,)\n",
      "Processed ../misc/audio_fe/mfcc/tt0065874_mfcc.png with feature shape: (768,)\n",
      "Processed ../misc/audio_fe/mfcc/tt0088814_mfcc.png with feature shape: (768,)\n"
     ]
    },
    {
     "name": "stderr",
     "output_type": "stream",
     "text": [
      " 30%|███       | 410/1356 [00:52<01:59,  7.91it/s]"
     ]
    },
    {
     "name": "stdout",
     "output_type": "stream",
     "text": [
      "Processed ../misc/audio_fe/mfcc/tt1214983_mfcc.png with feature shape: (768,)\n",
      "Processed ../misc/audio_fe/mfcc/tt1080016_mfcc.png with feature shape: (768,)\n",
      "Processed ../misc/audio_fe/mfcc/tt0109254_mfcc.png with feature shape: (768,)\n"
     ]
    },
    {
     "name": "stderr",
     "output_type": "stream",
     "text": [
      " 30%|███       | 412/1356 [00:52<01:43,  9.13it/s]"
     ]
    },
    {
     "name": "stdout",
     "output_type": "stream",
     "text": [
      "Processed ../misc/audio_fe/mfcc/tt1156398_mfcc.png with feature shape: (768,)\n"
     ]
    },
    {
     "name": "stderr",
     "output_type": "stream",
     "text": [
      " 31%|███       | 414/1356 [00:52<02:01,  7.78it/s]"
     ]
    },
    {
     "name": "stdout",
     "output_type": "stream",
     "text": [
      "Processed ../misc/audio_fe/mfcc/tt1155056_mfcc.png with feature shape: (768,)\n",
      "Processed ../misc/audio_fe/mfcc/tt7650514_mfcc.png with feature shape: (768,)\n",
      "Processed ../misc/audio_fe/mfcc/tt0366551_mfcc.png with feature shape: (768,)\n"
     ]
    },
    {
     "name": "stderr",
     "output_type": "stream",
     "text": [
      " 31%|███       | 416/1356 [00:53<01:45,  8.91it/s]"
     ]
    },
    {
     "name": "stdout",
     "output_type": "stream",
     "text": [
      "Processed ../misc/audio_fe/mfcc/tt0081455_mfcc.png with feature shape: (768,)\n",
      "Processed ../misc/audio_fe/mfcc/tt0815245_mfcc.png with feature shape: (768,)\n"
     ]
    },
    {
     "name": "stderr",
     "output_type": "stream",
     "text": [
      " 31%|███       | 419/1356 [00:53<01:50,  8.49it/s]"
     ]
    },
    {
     "name": "stdout",
     "output_type": "stream",
     "text": [
      "Processed ../misc/audio_fe/mfcc/tt0829459_mfcc.png with feature shape: (768,)\n",
      "Processed ../misc/audio_fe/mfcc/tt0815244_mfcc.png with feature shape: (768,)\n",
      "Processed ../misc/audio_fe/mfcc/tt0318627_mfcc.png with feature shape: (768,)\n"
     ]
    },
    {
     "name": "stderr",
     "output_type": "stream",
     "text": [
      " 31%|███       | 421/1356 [00:53<01:39,  9.44it/s]"
     ]
    },
    {
     "name": "stdout",
     "output_type": "stream",
     "text": [
      "Processed ../misc/audio_fe/mfcc/tt0493405_mfcc.png with feature shape: (768,)\n"
     ]
    },
    {
     "name": "stderr",
     "output_type": "stream",
     "text": [
      " 31%|███       | 423/1356 [00:53<01:52,  8.29it/s]"
     ]
    },
    {
     "name": "stdout",
     "output_type": "stream",
     "text": [
      "Processed ../misc/audio_fe/mfcc/tt0300556_mfcc.png with feature shape: (768,)\n",
      "Processed ../misc/audio_fe/mfcc/tt1606378_mfcc.png with feature shape: (768,)\n",
      "Processed ../misc/audio_fe/mfcc/tt2243537_mfcc.png with feature shape: (768,)\n"
     ]
    },
    {
     "name": "stderr",
     "output_type": "stream",
     "text": [
      " 31%|███▏      | 427/1356 [00:54<01:28, 10.51it/s]"
     ]
    },
    {
     "name": "stdout",
     "output_type": "stream",
     "text": [
      "Processed ../misc/audio_fe/mfcc/tt1700841_mfcc.png with feature shape: (768,)\n",
      "Processed ../misc/audio_fe/mfcc/tt0117887_mfcc.png with feature shape: (768,)\n",
      "Processed ../misc/audio_fe/mfcc/tt4669186_mfcc.png with feature shape: (768,)\n"
     ]
    },
    {
     "name": "stderr",
     "output_type": "stream",
     "text": [
      " 32%|███▏      | 429/1356 [00:54<01:39,  9.27it/s]"
     ]
    },
    {
     "name": "stdout",
     "output_type": "stream",
     "text": [
      "Processed ../misc/audio_fe/mfcc/tt0891592_mfcc.png with feature shape: (768,)\n",
      "Processed ../misc/audio_fe/mfcc/tt0420223_mfcc.png with feature shape: (768,)\n",
      "Processed ../misc/audio_fe/mfcc/tt0329717_mfcc.png with feature shape: (768,)\n"
     ]
    },
    {
     "name": "stderr",
     "output_type": "stream",
     "text": [
      " 32%|███▏      | 433/1356 [00:54<01:25, 10.81it/s]"
     ]
    },
    {
     "name": "stdout",
     "output_type": "stream",
     "text": [
      "Processed ../misc/audio_fe/mfcc/tt3316948_mfcc.png with feature shape: (768,)\n",
      "Processed ../misc/audio_fe/mfcc/tt3451230_mfcc.png with feature shape: (768,)\n",
      "Processed ../misc/audio_fe/mfcc/tt0758786_mfcc.png with feature shape: (768,)\n"
     ]
    },
    {
     "name": "stderr",
     "output_type": "stream",
     "text": [
      " 32%|███▏      | 435/1356 [00:55<01:27, 10.59it/s]"
     ]
    },
    {
     "name": "stdout",
     "output_type": "stream",
     "text": [
      "Processed ../misc/audio_fe/mfcc/tt0821810_mfcc.png with feature shape: (768,)\n",
      "Processed ../misc/audio_fe/mfcc/tt1190617_mfcc.png with feature shape: (768,)\n"
     ]
    },
    {
     "name": "stderr",
     "output_type": "stream",
     "text": [
      " 32%|███▏      | 437/1356 [00:55<01:26, 10.57it/s]"
     ]
    },
    {
     "name": "stdout",
     "output_type": "stream",
     "text": [
      "Processed ../misc/audio_fe/mfcc/tt0375063_mfcc.png with feature shape: (768,)\n",
      "Processed ../misc/audio_fe/mfcc/tt3315342_mfcc.png with feature shape: (768,)\n"
     ]
    },
    {
     "name": "stderr",
     "output_type": "stream",
     "text": [
      " 32%|███▏      | 439/1356 [00:55<01:42,  8.94it/s]"
     ]
    },
    {
     "name": "stdout",
     "output_type": "stream",
     "text": [
      "Processed ../misc/audio_fe/mfcc/tt0259324_mfcc.png with feature shape: (768,)\n",
      "Processed ../misc/audio_fe/mfcc/tt0382189_mfcc.png with feature shape: (768,)\n"
     ]
    },
    {
     "name": "stderr",
     "output_type": "stream",
     "text": [
      " 33%|███▎      | 441/1356 [00:55<01:31, 10.04it/s]"
     ]
    },
    {
     "name": "stdout",
     "output_type": "stream",
     "text": [
      "Processed ../misc/audio_fe/mfcc/tt0100419_mfcc.png with feature shape: (768,)\n",
      "Processed ../misc/audio_fe/mfcc/tt0272338_mfcc.png with feature shape: (768,)\n",
      "Processed ../misc/audio_fe/mfcc/tt0117218_mfcc.png with feature shape: (768,)\n"
     ]
    },
    {
     "name": "stderr",
     "output_type": "stream",
     "text": [
      " 33%|███▎      | 443/1356 [00:55<01:23, 10.94it/s]"
     ]
    },
    {
     "name": "stdout",
     "output_type": "stream",
     "text": [
      "Processed ../misc/audio_fe/mfcc/tt2978462_mfcc.png with feature shape: (768,)\n",
      "Processed ../misc/audio_fe/mfcc/tt0970411_mfcc.png with feature shape: (768,)\n"
     ]
    },
    {
     "name": "stderr",
     "output_type": "stream",
     "text": [
      " 33%|███▎      | 447/1356 [00:56<01:29, 10.14it/s]"
     ]
    },
    {
     "name": "stdout",
     "output_type": "stream",
     "text": [
      "Processed ../misc/audio_fe/mfcc/tt0382628_mfcc.png with feature shape: (768,)\n",
      "Processed ../misc/audio_fe/mfcc/tt0259484_mfcc.png with feature shape: (768,)\n",
      "Processed ../misc/audio_fe/mfcc/tt1384590_mfcc.png with feature shape: (768,)\n"
     ]
    },
    {
     "name": "stderr",
     "output_type": "stream",
     "text": [
      " 33%|███▎      | 449/1356 [00:56<01:23, 10.85it/s]"
     ]
    },
    {
     "name": "stdout",
     "output_type": "stream",
     "text": [
      "Processed ../misc/audio_fe/mfcc/tt0414055_mfcc.png with feature shape: (768,)\n",
      "Processed ../misc/audio_fe/mfcc/tt0765429_mfcc.png with feature shape: (768,)\n",
      "Processed ../misc/audio_fe/mfcc/tt3401882_mfcc.png with feature shape: (768,)\n"
     ]
    },
    {
     "name": "stderr",
     "output_type": "stream",
     "text": [
      " 33%|███▎      | 453/1356 [00:56<01:25, 10.50it/s]"
     ]
    },
    {
     "name": "stdout",
     "output_type": "stream",
     "text": [
      "Processed ../misc/audio_fe/mfcc/tt9354944_mfcc.png with feature shape: (768,)\n",
      "Processed ../misc/audio_fe/mfcc/tt0252480_mfcc.png with feature shape: (768,)\n",
      "Processed ../misc/audio_fe/mfcc/tt0082910_mfcc.png with feature shape: (768,)\n"
     ]
    },
    {
     "name": "stderr",
     "output_type": "stream",
     "text": [
      " 34%|███▎      | 455/1356 [00:56<01:22, 10.89it/s]"
     ]
    },
    {
     "name": "stdout",
     "output_type": "stream",
     "text": [
      "Processed ../misc/audio_fe/mfcc/tt1223236_mfcc.png with feature shape: (768,)\n",
      "Processed ../misc/audio_fe/mfcc/tt0457993_mfcc.png with feature shape: (768,)\n"
     ]
    },
    {
     "name": "stderr",
     "output_type": "stream",
     "text": [
      " 34%|███▎      | 457/1356 [00:57<01:34,  9.48it/s]"
     ]
    },
    {
     "name": "stdout",
     "output_type": "stream",
     "text": [
      "Processed ../misc/audio_fe/mfcc/tt4919484_mfcc.png with feature shape: (768,)\n",
      "Processed ../misc/audio_fe/mfcc/tt0395169_mfcc.png with feature shape: (768,)\n"
     ]
    },
    {
     "name": "stderr",
     "output_type": "stream",
     "text": [
      " 34%|███▍      | 459/1356 [00:57<01:30,  9.87it/s]"
     ]
    },
    {
     "name": "stdout",
     "output_type": "stream",
     "text": [
      "Processed ../misc/audio_fe/mfcc/tt0486946_mfcc.png with feature shape: (768,)\n",
      "Processed ../misc/audio_fe/mfcc/tt0378109_mfcc.png with feature shape: (768,)\n"
     ]
    },
    {
     "name": "stderr",
     "output_type": "stream",
     "text": [
      " 34%|███▍      | 461/1356 [00:57<01:42,  8.77it/s]"
     ]
    },
    {
     "name": "stdout",
     "output_type": "stream",
     "text": [
      "Processed ../misc/audio_fe/mfcc/tt0120610_mfcc.png with feature shape: (768,)\n",
      "Processed ../misc/audio_fe/mfcc/tt8695030_mfcc.png with feature shape: (768,)\n",
      "Processed ../misc/audio_fe/mfcc/tt7740510_mfcc.png with feature shape: (768,)\n"
     ]
    },
    {
     "name": "stderr",
     "output_type": "stream",
     "text": [
      " 34%|███▍      | 463/1356 [00:57<01:30,  9.88it/s]"
     ]
    },
    {
     "name": "stdout",
     "output_type": "stream",
     "text": [
      "Processed ../misc/audio_fe/mfcc/tt0796375_mfcc.png with feature shape: (768,)\n"
     ]
    },
    {
     "name": "stderr",
     "output_type": "stream",
     "text": [
      " 34%|███▍      | 465/1356 [00:58<01:57,  7.57it/s]"
     ]
    },
    {
     "name": "stdout",
     "output_type": "stream",
     "text": [
      "Processed ../misc/audio_fe/mfcc/tt0252866_mfcc.png with feature shape: (768,)\n",
      "Processed ../misc/audio_fe/mfcc/tt1068680_mfcc.png with feature shape: (768,)\n",
      "Processed ../misc/audio_fe/mfcc/tt0156323_mfcc.png with feature shape: (768,)\n"
     ]
    },
    {
     "name": "stderr",
     "output_type": "stream",
     "text": [
      " 34%|███▍      | 467/1356 [00:58<01:40,  8.83it/s]"
     ]
    },
    {
     "name": "stdout",
     "output_type": "stream",
     "text": [
      "Processed ../misc/audio_fe/mfcc/tt1027862_mfcc.png with feature shape: (768,)\n",
      "Processed ../misc/audio_fe/mfcc/tt0450314_mfcc.png with feature shape: (768,)\n"
     ]
    },
    {
     "name": "stderr",
     "output_type": "stream",
     "text": [
      " 35%|███▍      | 470/1356 [00:59<02:14,  6.59it/s]"
     ]
    },
    {
     "name": "stdout",
     "output_type": "stream",
     "text": [
      "Processed ../misc/audio_fe/mfcc/tt0289635_mfcc.png with feature shape: (768,)\n",
      "Processed ../misc/audio_fe/mfcc/tt0489225_mfcc.png with feature shape: (768,)\n"
     ]
    },
    {
     "name": "stderr",
     "output_type": "stream",
     "text": [
      " 35%|███▍      | 472/1356 [00:59<01:52,  7.89it/s]"
     ]
    },
    {
     "name": "stdout",
     "output_type": "stream",
     "text": [
      "Processed ../misc/audio_fe/mfcc/tt1287468_mfcc.png with feature shape: (768,)\n",
      "Processed ../misc/audio_fe/mfcc/tt0466342_mfcc.png with feature shape: (768,)\n",
      "Processed ../misc/audio_fe/mfcc/tt0247196_mfcc.png with feature shape: (768,)\n"
     ]
    },
    {
     "name": "stderr",
     "output_type": "stream",
     "text": [
      " 35%|███▍      | 474/1356 [00:59<01:39,  8.83it/s]"
     ]
    },
    {
     "name": "stdout",
     "output_type": "stream",
     "text": [
      "Processed ../misc/audio_fe/mfcc/tt0346156_mfcc.png with feature shape: (768,)\n"
     ]
    },
    {
     "name": "stderr",
     "output_type": "stream",
     "text": [
      " 35%|███▌      | 476/1356 [00:59<02:17,  6.42it/s]"
     ]
    },
    {
     "name": "stdout",
     "output_type": "stream",
     "text": [
      "Processed ../misc/audio_fe/mfcc/tt0477071_mfcc.png with feature shape: (768,)\n",
      "Processed ../misc/audio_fe/mfcc/tt0375154_mfcc.png with feature shape: (768,)\n",
      "Processed ../misc/audio_fe/mfcc/tt1924435_mfcc.png with feature shape: (768,)\n"
     ]
    },
    {
     "name": "stderr",
     "output_type": "stream",
     "text": [
      " 35%|███▌      | 479/1356 [01:00<01:50,  7.93it/s]"
     ]
    },
    {
     "name": "stdout",
     "output_type": "stream",
     "text": [
      "Processed ../misc/audio_fe/mfcc/tt0338512_mfcc.png with feature shape: (768,)\n",
      "Processed ../misc/audio_fe/mfcc/tt0258000_mfcc.png with feature shape: (768,)\n"
     ]
    },
    {
     "name": "stderr",
     "output_type": "stream",
     "text": [
      " 35%|███▌      | 480/1356 [01:00<01:48,  8.11it/s]"
     ]
    },
    {
     "name": "stdout",
     "output_type": "stream",
     "text": [
      "Processed ../misc/audio_fe/mfcc/tt0437857_mfcc.png with feature shape: (768,)\n"
     ]
    },
    {
     "name": "stderr",
     "output_type": "stream",
     "text": [
      " 36%|███▌      | 482/1356 [01:00<02:23,  6.08it/s]"
     ]
    },
    {
     "name": "stdout",
     "output_type": "stream",
     "text": [
      "Processed ../misc/audio_fe/mfcc/tt0418647_mfcc.png with feature shape: (768,)\n",
      "Processed ../misc/audio_fe/mfcc/tt6290736_mfcc.png with feature shape: (768,)\n",
      "Processed ../misc/audio_fe/mfcc/tt4139124_mfcc.png with feature shape: (768,)\n"
     ]
    },
    {
     "name": "stderr",
     "output_type": "stream",
     "text": [
      " 36%|███▌      | 486/1356 [01:00<01:33,  9.27it/s]"
     ]
    },
    {
     "name": "stdout",
     "output_type": "stream",
     "text": [
      "Processed ../misc/audio_fe/mfcc/tt0106233_mfcc.png with feature shape: (768,)\n",
      "Processed ../misc/audio_fe/mfcc/tt5512872_mfcc.png with feature shape: (768,)\n",
      "Processed ../misc/audio_fe/mfcc/tt0276816_mfcc.png with feature shape: (768,)\n"
     ]
    },
    {
     "name": "stderr",
     "output_type": "stream",
     "text": [
      " 36%|███▌      | 488/1356 [01:01<02:05,  6.94it/s]"
     ]
    },
    {
     "name": "stdout",
     "output_type": "stream",
     "text": [
      "Processed ../misc/audio_fe/mfcc/tt3165612_mfcc.png with feature shape: (768,)\n",
      "Processed ../misc/audio_fe/mfcc/tt0489099_mfcc.png with feature shape: (768,)\n",
      "Processed ../misc/audio_fe/mfcc/tt1027747_mfcc.png with feature shape: (768,)\n"
     ]
    },
    {
     "name": "stderr",
     "output_type": "stream",
     "text": [
      " 36%|███▌      | 491/1356 [01:01<02:02,  7.08it/s]"
     ]
    },
    {
     "name": "stdout",
     "output_type": "stream",
     "text": [
      "Processed ../misc/audio_fe/mfcc/tt0419984_mfcc.png with feature shape: (768,)\n",
      "Processed ../misc/audio_fe/mfcc/tt0465502_mfcc.png with feature shape: (768,)\n"
     ]
    },
    {
     "name": "stderr",
     "output_type": "stream",
     "text": [
      " 36%|███▋      | 493/1356 [01:02<02:11,  6.57it/s]"
     ]
    },
    {
     "name": "stdout",
     "output_type": "stream",
     "text": [
      "Processed ../misc/audio_fe/mfcc/tt0804461_mfcc.png with feature shape: (768,)\n",
      "Processed ../misc/audio_fe/mfcc/tt0090270_mfcc.png with feature shape: (768,)\n",
      "Processed ../misc/audio_fe/mfcc/tt0080745_mfcc.png with feature shape: (768,)\n"
     ]
    },
    {
     "name": "stderr",
     "output_type": "stream",
     "text": [
      " 37%|███▋      | 497/1356 [01:02<01:23, 10.26it/s]"
     ]
    },
    {
     "name": "stdout",
     "output_type": "stream",
     "text": [
      "Processed ../misc/audio_fe/mfcc/tt2381335_mfcc.png with feature shape: (768,)\n",
      "Processed ../misc/audio_fe/mfcc/tt0106500_mfcc.png with feature shape: (768,)\n",
      "Processed ../misc/audio_fe/mfcc/tt0278504_mfcc.png with feature shape: (768,)\n"
     ]
    },
    {
     "name": "stderr",
     "output_type": "stream",
     "text": [
      " 37%|███▋      | 499/1356 [01:02<01:28,  9.71it/s]"
     ]
    },
    {
     "name": "stdout",
     "output_type": "stream",
     "text": [
      "Processed ../misc/audio_fe/mfcc/tt2370518_mfcc.png with feature shape: (768,)\n",
      "Processed ../misc/audio_fe/mfcc/tt1127180_mfcc.png with feature shape: (768,)\n"
     ]
    },
    {
     "name": "stderr",
     "output_type": "stream",
     "text": [
      " 37%|███▋      | 501/1356 [01:03<01:53,  7.55it/s]"
     ]
    },
    {
     "name": "stdout",
     "output_type": "stream",
     "text": [
      "Processed ../misc/audio_fe/mfcc/tt0112401_mfcc.png with feature shape: (768,)\n",
      "Processed ../misc/audio_fe/mfcc/tt1564349_mfcc.png with feature shape: (768,)\n",
      "Processed ../misc/audio_fe/mfcc/tt0937237_mfcc.png with feature shape: (768,)\n"
     ]
    },
    {
     "name": "stderr",
     "output_type": "stream",
     "text": [
      " 37%|███▋      | 505/1356 [01:03<01:31,  9.34it/s]"
     ]
    },
    {
     "name": "stdout",
     "output_type": "stream",
     "text": [
      "Processed ../misc/audio_fe/mfcc/tt4411234_mfcc.png with feature shape: (768,)\n",
      "Processed ../misc/audio_fe/mfcc/tt0118617_mfcc.png with feature shape: (768,)\n",
      "Processed ../misc/audio_fe/mfcc/tt0212985_mfcc.png with feature shape: (768,)\n"
     ]
    },
    {
     "name": "stderr",
     "output_type": "stream",
     "text": [
      " 37%|███▋      | 507/1356 [01:03<01:31,  9.27it/s]"
     ]
    },
    {
     "name": "stdout",
     "output_type": "stream",
     "text": [
      "Processed ../misc/audio_fe/mfcc/tt0449010_mfcc.png with feature shape: (768,)\n",
      "Processed ../misc/audio_fe/mfcc/tt0325980_mfcc.png with feature shape: (768,)\n"
     ]
    },
    {
     "name": "stderr",
     "output_type": "stream",
     "text": [
      " 38%|███▊      | 511/1356 [01:04<01:34,  8.90it/s]"
     ]
    },
    {
     "name": "stdout",
     "output_type": "stream",
     "text": [
      "Processed ../misc/audio_fe/mfcc/tt0889134_mfcc.png with feature shape: (768,)\n",
      "Processed ../misc/audio_fe/mfcc/tt0428518_mfcc.png with feature shape: (768,)\n",
      "Processed ../misc/audio_fe/mfcc/tt1100119_mfcc.png with feature shape: (768,)\n",
      "Processed ../misc/audio_fe/mfcc/tt0839880_mfcc.png with feature shape: (768,)\n"
     ]
    },
    {
     "name": "stderr",
     "output_type": "stream",
     "text": [
      " 38%|███▊      | 513/1356 [01:04<01:25,  9.90it/s]"
     ]
    },
    {
     "name": "stdout",
     "output_type": "stream",
     "text": [
      "Processed ../misc/audio_fe/mfcc/tt2492916_mfcc.png with feature shape: (768,)\n",
      "Processed ../misc/audio_fe/mfcc/tt0462200_mfcc.png with feature shape: (768,)\n",
      "Processed ../misc/audio_fe/mfcc/tt1114740_mfcc.png with feature shape: (768,)\n"
     ]
    },
    {
     "name": "stderr",
     "output_type": "stream",
     "text": [
      " 38%|███▊      | 515/1356 [01:04<01:24,  9.93it/s]"
     ]
    },
    {
     "name": "stdout",
     "output_type": "stream",
     "text": [
      "Processed ../misc/audio_fe/mfcc/tt0114906_mfcc.png with feature shape: (768,)\n"
     ]
    },
    {
     "name": "stderr",
     "output_type": "stream",
     "text": [
      " 38%|███▊      | 517/1356 [01:05<02:32,  5.51it/s]"
     ]
    },
    {
     "name": "stdout",
     "output_type": "stream",
     "text": [
      "Processed ../misc/audio_fe/mfcc/tt0479143_mfcc.png with feature shape: (768,)\n",
      "Processed ../misc/audio_fe/mfcc/tt0379306_mfcc.png with feature shape: (768,)\n",
      "Processed ../misc/audio_fe/mfcc/tt6499752_mfcc.png with feature shape: (768,)\n"
     ]
    },
    {
     "name": "stderr",
     "output_type": "stream",
     "text": [
      " 38%|███▊      | 521/1356 [01:05<01:46,  7.85it/s]"
     ]
    },
    {
     "name": "stdout",
     "output_type": "stream",
     "text": [
      "Processed ../misc/audio_fe/mfcc/tt4557956_mfcc.png with feature shape: (768,)\n",
      "Processed ../misc/audio_fe/mfcc/tt4560436_mfcc.png with feature shape: (768,)\n",
      "Processed ../misc/audio_fe/mfcc/tt0765128_mfcc.png with feature shape: (768,)\n",
      "Processed ../misc/audio_fe/mfcc/tt0407761_mfcc.png with feature shape: (768,)\n"
     ]
    },
    {
     "name": "stderr",
     "output_type": "stream",
     "text": [
      " 39%|███▊      | 525/1356 [01:06<02:07,  6.51it/s]"
     ]
    },
    {
     "name": "stdout",
     "output_type": "stream",
     "text": [
      "Processed ../misc/audio_fe/mfcc/tt0457090_mfcc.png with feature shape: (768,)\n",
      "Processed ../misc/audio_fe/mfcc/tt0102057_mfcc.png with feature shape: (768,)\n",
      "Processed ../misc/audio_fe/mfcc/tt2702724_mfcc.png with feature shape: (768,)\n",
      "Processed ../misc/audio_fe/mfcc/tt0266915_mfcc.png with feature shape: (768,)\n"
     ]
    },
    {
     "name": "stderr",
     "output_type": "stream",
     "text": [
      " 39%|███▉      | 529/1356 [01:06<01:33,  8.88it/s]"
     ]
    },
    {
     "name": "stdout",
     "output_type": "stream",
     "text": [
      "Processed ../misc/audio_fe/mfcc/tt0944101_mfcc.png with feature shape: (768,)\n",
      "Processed ../misc/audio_fe/mfcc/tt1073241_mfcc.png with feature shape: (768,)\n",
      "Processed ../misc/audio_fe/mfcc/tt0473709_mfcc.png with feature shape: (768,)\n",
      "Processed ../misc/audio_fe/mfcc/tt0486583_mfcc.png with feature shape: (768,)\n"
     ]
    },
    {
     "name": "stderr",
     "output_type": "stream",
     "text": [
      " 39%|███▉      | 531/1356 [01:06<01:43,  7.94it/s]"
     ]
    },
    {
     "name": "stdout",
     "output_type": "stream",
     "text": [
      "Processed ../misc/audio_fe/mfcc/tt0337917_mfcc.png with feature shape: (768,)\n",
      "Processed ../misc/audio_fe/mfcc/tt1839654_mfcc.png with feature shape: (768,)\n"
     ]
    },
    {
     "name": "stderr",
     "output_type": "stream",
     "text": [
      " 39%|███▉      | 535/1356 [01:07<01:29,  9.14it/s]"
     ]
    },
    {
     "name": "stdout",
     "output_type": "stream",
     "text": [
      "Processed ../misc/audio_fe/mfcc/tt2063781_mfcc.png with feature shape: (768,)\n",
      "Processed ../misc/audio_fe/mfcc/tt0374102_mfcc.png with feature shape: (768,)\n",
      "Processed ../misc/audio_fe/mfcc/tt0120586_mfcc.png with feature shape: (768,)\n"
     ]
    },
    {
     "name": "stderr",
     "output_type": "stream",
     "text": [
      " 40%|███▉      | 537/1356 [01:07<01:23,  9.78it/s]"
     ]
    },
    {
     "name": "stdout",
     "output_type": "stream",
     "text": [
      "Processed ../misc/audio_fe/mfcc/tt0991167_mfcc.png with feature shape: (768,)\n",
      "Processed ../misc/audio_fe/mfcc/tt0269341_mfcc.png with feature shape: (768,)\n"
     ]
    },
    {
     "name": "stderr",
     "output_type": "stream",
     "text": [
      " 40%|███▉      | 539/1356 [01:07<01:29,  9.10it/s]"
     ]
    },
    {
     "name": "stdout",
     "output_type": "stream",
     "text": [
      "Processed ../misc/audio_fe/mfcc/tt0284674_mfcc.png with feature shape: (768,)\n",
      "Processed ../misc/audio_fe/mfcc/tt2950418_mfcc.png with feature shape: (768,)\n",
      "Processed ../misc/audio_fe/mfcc/tt0460780_mfcc.png with feature shape: (768,)\n"
     ]
    },
    {
     "name": "stderr",
     "output_type": "stream",
     "text": [
      " 40%|███▉      | 541/1356 [01:07<01:22,  9.86it/s]"
     ]
    },
    {
     "name": "stdout",
     "output_type": "stream",
     "text": [
      "Processed ../misc/audio_fe/mfcc/tt0299458_mfcc.png with feature shape: (768,)\n",
      "Processed ../misc/audio_fe/mfcc/tt0493464_mfcc.png with feature shape: (768,)\n"
     ]
    },
    {
     "name": "stderr",
     "output_type": "stream",
     "text": [
      " 40%|████      | 545/1356 [01:08<01:25,  9.48it/s]"
     ]
    },
    {
     "name": "stdout",
     "output_type": "stream",
     "text": [
      "Processed ../misc/audio_fe/mfcc/tt0328880_mfcc.png with feature shape: (768,)\n",
      "Processed ../misc/audio_fe/mfcc/tt1196948_mfcc.png with feature shape: (768,)\n",
      "Processed ../misc/audio_fe/mfcc/tt0369226_mfcc.png with feature shape: (768,)\n"
     ]
    },
    {
     "name": "stderr",
     "output_type": "stream",
     "text": [
      " 40%|████      | 547/1356 [01:08<01:18, 10.36it/s]"
     ]
    },
    {
     "name": "stdout",
     "output_type": "stream",
     "text": [
      "Processed ../misc/audio_fe/mfcc/tt0210299_mfcc.png with feature shape: (768,)\n",
      "Processed ../misc/audio_fe/mfcc/tt0270197_mfcc.png with feature shape: (768,)\n"
     ]
    },
    {
     "name": "stderr",
     "output_type": "stream",
     "text": [
      " 40%|████      | 549/1356 [01:08<01:24,  9.57it/s]"
     ]
    },
    {
     "name": "stdout",
     "output_type": "stream",
     "text": [
      "Processed ../misc/audio_fe/mfcc/tt0091192_mfcc.png with feature shape: (768,)\n",
      "Processed ../misc/audio_fe/mfcc/tt0298131_mfcc.png with feature shape: (768,)\n",
      "Processed ../misc/audio_fe/mfcc/tt1753549_mfcc.png with feature shape: (768,)\n"
     ]
    },
    {
     "name": "stderr",
     "output_type": "stream",
     "text": [
      " 41%|████      | 551/1356 [01:08<01:19, 10.09it/s]"
     ]
    },
    {
     "name": "stdout",
     "output_type": "stream",
     "text": [
      "Processed ../misc/audio_fe/mfcc/tt1831806_mfcc.png with feature shape: (768,)\n",
      "Processed ../misc/audio_fe/mfcc/tt0452625_mfcc.png with feature shape: (768,)\n"
     ]
    },
    {
     "name": "stderr",
     "output_type": "stream",
     "text": [
      " 41%|████      | 555/1356 [01:09<01:17, 10.36it/s]"
     ]
    },
    {
     "name": "stdout",
     "output_type": "stream",
     "text": [
      "Processed ../misc/audio_fe/mfcc/tt0862846_mfcc.png with feature shape: (768,)\n",
      "Processed ../misc/audio_fe/mfcc/tt0406158_mfcc.png with feature shape: (768,)\n",
      "Processed ../misc/audio_fe/mfcc/tt1232200_mfcc.png with feature shape: (768,)\n"
     ]
    },
    {
     "name": "stderr",
     "output_type": "stream",
     "text": [
      " 41%|████      | 557/1356 [01:09<01:12, 10.98it/s]"
     ]
    },
    {
     "name": "stdout",
     "output_type": "stream",
     "text": [
      "Processed ../misc/audio_fe/mfcc/tt0297162_mfcc.png with feature shape: (768,)\n",
      "Processed ../misc/audio_fe/mfcc/tt0117333_mfcc.png with feature shape: (768,)\n",
      "Processed ../misc/audio_fe/mfcc/tt0072951_mfcc.png with feature shape: (768,)\n"
     ]
    },
    {
     "name": "stderr",
     "output_type": "stream",
     "text": [
      " 41%|████▏     | 561/1356 [01:09<01:15, 10.54it/s]"
     ]
    },
    {
     "name": "stdout",
     "output_type": "stream",
     "text": [
      "Processed ../misc/audio_fe/mfcc/tt0298228_mfcc.png with feature shape: (768,)\n",
      "Processed ../misc/audio_fe/mfcc/tt0114938_mfcc.png with feature shape: (768,)\n",
      "Processed ../misc/audio_fe/mfcc/tt0110950_mfcc.png with feature shape: (768,)\n"
     ]
    },
    {
     "name": "stderr",
     "output_type": "stream",
     "text": [
      " 42%|████▏     | 563/1356 [01:10<01:10, 11.19it/s]"
     ]
    },
    {
     "name": "stdout",
     "output_type": "stream",
     "text": [
      "Processed ../misc/audio_fe/mfcc/tt1205558_mfcc.png with feature shape: (768,)\n",
      "Processed ../misc/audio_fe/mfcc/tt2557490_mfcc.png with feature shape: (768,)\n",
      "Processed ../misc/audio_fe/mfcc/tt0359950_mfcc.png with feature shape: (768,)\n"
     ]
    },
    {
     "name": "stderr",
     "output_type": "stream",
     "text": [
      " 42%|████▏     | 567/1356 [01:10<01:12, 10.93it/s]"
     ]
    },
    {
     "name": "stdout",
     "output_type": "stream",
     "text": [
      "Processed ../misc/audio_fe/mfcc/tt1135781_mfcc.png with feature shape: (768,)\n",
      "Processed ../misc/audio_fe/mfcc/tt0433963_mfcc.png with feature shape: (768,)\n",
      "Processed ../misc/audio_fe/mfcc/tt2917336_mfcc.png with feature shape: (768,)\n"
     ]
    },
    {
     "name": "stderr",
     "output_type": "stream",
     "text": [
      " 42%|████▏     | 569/1356 [01:10<01:24,  9.33it/s]"
     ]
    },
    {
     "name": "stdout",
     "output_type": "stream",
     "text": [
      "Processed ../misc/audio_fe/mfcc/tt3168230_mfcc.png with feature shape: (768,)\n",
      "Processed ../misc/audio_fe/mfcc/tt0313911_mfcc.png with feature shape: (768,)\n"
     ]
    },
    {
     "name": "stderr",
     "output_type": "stream",
     "text": [
      " 42%|████▏     | 571/1356 [01:11<02:03,  6.35it/s]"
     ]
    },
    {
     "name": "stdout",
     "output_type": "stream",
     "text": [
      "Processed ../misc/audio_fe/mfcc/tt6511932_mfcc.png with feature shape: (768,)\n",
      "Processed ../misc/audio_fe/mfcc/tt1477675_mfcc.png with feature shape: (768,)\n",
      "Processed ../misc/audio_fe/mfcc/tt0435761_mfcc.png with feature shape: (768,)\n"
     ]
    },
    {
     "name": "stderr",
     "output_type": "stream",
     "text": [
      " 42%|████▏     | 574/1356 [01:11<01:39,  7.83it/s]"
     ]
    },
    {
     "name": "stdout",
     "output_type": "stream",
     "text": [
      "Processed ../misc/audio_fe/mfcc/tt1186367_mfcc.png with feature shape: (768,)\n",
      "Processed ../misc/audio_fe/mfcc/tt0470705_mfcc.png with feature shape: (768,)\n"
     ]
    },
    {
     "name": "stderr",
     "output_type": "stream",
     "text": [
      " 42%|████▏     | 576/1356 [01:11<02:10,  5.98it/s]"
     ]
    },
    {
     "name": "stdout",
     "output_type": "stream",
     "text": [
      "Processed ../misc/audio_fe/mfcc/tt0467197_mfcc.png with feature shape: (768,)\n",
      "Processed ../misc/audio_fe/mfcc/tt0401855_mfcc.png with feature shape: (768,)\n"
     ]
    },
    {
     "name": "stderr",
     "output_type": "stream",
     "text": [
      " 43%|████▎     | 578/1356 [01:12<01:39,  7.84it/s]"
     ]
    },
    {
     "name": "stdout",
     "output_type": "stream",
     "text": [
      "Processed ../misc/audio_fe/mfcc/tt0918927_mfcc.png with feature shape: (768,)\n",
      "Processed ../misc/audio_fe/mfcc/tt0046238_mfcc.png with feature shape: (768,)\n"
     ]
    },
    {
     "name": "stderr",
     "output_type": "stream",
     "text": [
      " 43%|████▎     | 579/1356 [01:12<01:42,  7.59it/s]"
     ]
    },
    {
     "name": "stdout",
     "output_type": "stream",
     "text": [
      "Processed ../misc/audio_fe/mfcc/tt2179936_mfcc.png with feature shape: (768,)\n"
     ]
    },
    {
     "name": "stderr",
     "output_type": "stream",
     "text": [
      " 43%|████▎     | 581/1356 [01:12<02:26,  5.28it/s]"
     ]
    },
    {
     "name": "stdout",
     "output_type": "stream",
     "text": [
      "Processed ../misc/audio_fe/mfcc/tt0795421_mfcc.png with feature shape: (768,)\n",
      "Processed ../misc/audio_fe/mfcc/tt0424774_mfcc.png with feature shape: (768,)\n",
      "Processed ../misc/audio_fe/mfcc/tt1014759_mfcc.png with feature shape: (768,)\n"
     ]
    },
    {
     "name": "stderr",
     "output_type": "stream",
     "text": [
      " 43%|████▎     | 584/1356 [01:13<01:39,  7.80it/s]"
     ]
    },
    {
     "name": "stdout",
     "output_type": "stream",
     "text": [
      "Processed ../misc/audio_fe/mfcc/tt3660770_mfcc.png with feature shape: (768,)\n",
      "Processed ../misc/audio_fe/mfcc/tt0906773_mfcc.png with feature shape: (768,)\n",
      "Processed ../misc/audio_fe/mfcc/tt0086637_mfcc.png with feature shape: (768,)\n"
     ]
    },
    {
     "name": "stderr",
     "output_type": "stream",
     "text": [
      " 43%|████▎     | 588/1356 [01:13<01:38,  7.79it/s]"
     ]
    },
    {
     "name": "stdout",
     "output_type": "stream",
     "text": [
      "Processed ../misc/audio_fe/mfcc/tt0118698_mfcc.png with feature shape: (768,)\n",
      "Processed ../misc/audio_fe/mfcc/tt0277434_mfcc.png with feature shape: (768,)\n",
      "Processed ../misc/audio_fe/mfcc/tt1490017_mfcc.png with feature shape: (768,)\n"
     ]
    },
    {
     "name": "stderr",
     "output_type": "stream",
     "text": [
      " 44%|████▎     | 590/1356 [01:13<01:24,  9.10it/s]"
     ]
    },
    {
     "name": "stdout",
     "output_type": "stream",
     "text": [
      "Processed ../misc/audio_fe/mfcc/tt0780486_mfcc.png with feature shape: (768,)\n",
      "Processed ../misc/audio_fe/mfcc/tt1830805_mfcc.png with feature shape: (768,)\n",
      "Processed ../misc/audio_fe/mfcc/tt0332658_mfcc.png with feature shape: (768,)\n"
     ]
    },
    {
     "name": "stderr",
     "output_type": "stream",
     "text": [
      " 44%|████▍     | 594/1356 [01:14<01:33,  8.14it/s]"
     ]
    },
    {
     "name": "stdout",
     "output_type": "stream",
     "text": [
      "Processed ../misc/audio_fe/mfcc/tt0448564_mfcc.png with feature shape: (768,)\n",
      "Processed ../misc/audio_fe/mfcc/tt0118702_mfcc.png with feature shape: (768,)\n",
      "Processed ../misc/audio_fe/mfcc/tt0489270_mfcc.png with feature shape: (768,)\n"
     ]
    },
    {
     "name": "stderr",
     "output_type": "stream",
     "text": [
      " 44%|████▍     | 596/1356 [01:14<01:35,  7.94it/s]"
     ]
    },
    {
     "name": "stdout",
     "output_type": "stream",
     "text": [
      "Processed ../misc/audio_fe/mfcc/tt0832318_mfcc.png with feature shape: (768,)\n",
      "Processed ../misc/audio_fe/mfcc/tt1129442_mfcc.png with feature shape: (768,)\n"
     ]
    },
    {
     "name": "stderr",
     "output_type": "stream",
     "text": [
      " 44%|████▍     | 598/1356 [01:15<01:56,  6.52it/s]"
     ]
    },
    {
     "name": "stdout",
     "output_type": "stream",
     "text": [
      "Processed ../misc/audio_fe/mfcc/tt0445620_mfcc.png with feature shape: (768,)\n",
      "Processed ../misc/audio_fe/mfcc/tt0238380_mfcc.png with feature shape: (768,)\n"
     ]
    },
    {
     "name": "stderr",
     "output_type": "stream",
     "text": [
      " 44%|████▍     | 601/1356 [01:15<01:28,  8.57it/s]"
     ]
    },
    {
     "name": "stdout",
     "output_type": "stream",
     "text": [
      "Processed ../misc/audio_fe/mfcc/tt0995039_mfcc.png with feature shape: (768,)\n",
      "Processed ../misc/audio_fe/mfcc/tt0841044_mfcc.png with feature shape: (768,)\n",
      "Processed ../misc/audio_fe/mfcc/tt2278388_mfcc.png with feature shape: (768,)\n"
     ]
    },
    {
     "name": "stderr",
     "output_type": "stream",
     "text": [
      " 44%|████▍     | 602/1356 [01:15<01:25,  8.81it/s]"
     ]
    },
    {
     "name": "stdout",
     "output_type": "stream",
     "text": [
      "Processed ../misc/audio_fe/mfcc/tt0335559_mfcc.png with feature shape: (768,)\n",
      "Processed ../misc/audio_fe/mfcc/tt0390022_mfcc.png with feature shape: (768,)\n"
     ]
    },
    {
     "name": "stderr",
     "output_type": "stream",
     "text": [
      " 45%|████▍     | 607/1356 [01:15<01:13, 10.23it/s]"
     ]
    },
    {
     "name": "stdout",
     "output_type": "stream",
     "text": [
      "Processed ../misc/audio_fe/mfcc/tt2980706_mfcc.png with feature shape: (768,)\n",
      "Processed ../misc/audio_fe/mfcc/tt1640718_mfcc.png with feature shape: (768,)\n",
      "Processed ../misc/audio_fe/mfcc/tt0861689_mfcc.png with feature shape: (768,)\n",
      "Processed ../misc/audio_fe/mfcc/tt5879216_mfcc.png with feature shape: (768,)\n"
     ]
    },
    {
     "name": "stderr",
     "output_type": "stream",
     "text": [
      " 45%|████▍     | 609/1356 [01:16<01:06, 11.26it/s]"
     ]
    },
    {
     "name": "stdout",
     "output_type": "stream",
     "text": [
      "Processed ../misc/audio_fe/mfcc/tt0117247_mfcc.png with feature shape: (768,)\n",
      "Processed ../misc/audio_fe/mfcc/tt0112281_mfcc.png with feature shape: (768,)\n",
      "Processed ../misc/audio_fe/mfcc/tt0290145_mfcc.png with feature shape: (768,)\n"
     ]
    },
    {
     "name": "stderr",
     "output_type": "stream",
     "text": [
      " 45%|████▌     | 611/1356 [01:16<01:07, 11.04it/s]"
     ]
    },
    {
     "name": "stdout",
     "output_type": "stream",
     "text": [
      "Processed ../misc/audio_fe/mfcc/tt0389957_mfcc.png with feature shape: (768,)\n",
      "Processed ../misc/audio_fe/mfcc/tt6521876_mfcc.png with feature shape: (768,)\n"
     ]
    },
    {
     "name": "stderr",
     "output_type": "stream",
     "text": [
      " 45%|████▌     | 615/1356 [01:16<01:11, 10.35it/s]"
     ]
    },
    {
     "name": "stdout",
     "output_type": "stream",
     "text": [
      "Processed ../misc/audio_fe/mfcc/tt0372532_mfcc.png with feature shape: (768,)\n",
      "Processed ../misc/audio_fe/mfcc/tt2316204_mfcc.png with feature shape: (768,)\n",
      "Processed ../misc/audio_fe/mfcc/tt0316654_mfcc.png with feature shape: (768,)\n"
     ]
    },
    {
     "name": "stderr",
     "output_type": "stream",
     "text": [
      " 46%|████▌     | 617/1356 [01:16<01:06, 11.09it/s]"
     ]
    },
    {
     "name": "stdout",
     "output_type": "stream",
     "text": [
      "Processed ../misc/audio_fe/mfcc/tt0494652_mfcc.png with feature shape: (768,)\n",
      "Processed ../misc/audio_fe/mfcc/tt0088128_mfcc.png with feature shape: (768,)\n",
      "Processed ../misc/audio_fe/mfcc/tt1014801_mfcc.png with feature shape: (768,)\n"
     ]
    },
    {
     "name": "stderr",
     "output_type": "stream",
     "text": [
      " 46%|████▌     | 621/1356 [01:17<01:10, 10.48it/s]"
     ]
    },
    {
     "name": "stdout",
     "output_type": "stream",
     "text": [
      "Processed ../misc/audio_fe/mfcc/tt1881109_mfcc.png with feature shape: (768,)\n",
      "Processed ../misc/audio_fe/mfcc/tt0377749_mfcc.png with feature shape: (768,)\n",
      "Processed ../misc/audio_fe/mfcc/tt0086216_mfcc.png with feature shape: (768,)\n"
     ]
    },
    {
     "name": "stderr",
     "output_type": "stream",
     "text": [
      " 46%|████▌     | 623/1356 [01:17<01:09, 10.57it/s]"
     ]
    },
    {
     "name": "stdout",
     "output_type": "stream",
     "text": [
      "Processed ../misc/audio_fe/mfcc/tt1305591_mfcc.png with feature shape: (768,)\n",
      "Processed ../misc/audio_fe/mfcc/tt0804492_mfcc.png with feature shape: (768,)\n",
      "Processed ../misc/audio_fe/mfcc/tt0304415_mfcc.png with feature shape: (768,)\n"
     ]
    },
    {
     "name": "stderr",
     "output_type": "stream",
     "text": [
      " 46%|████▌     | 625/1356 [01:17<01:07, 10.88it/s]"
     ]
    },
    {
     "name": "stdout",
     "output_type": "stream",
     "text": [
      "Processed ../misc/audio_fe/mfcc/tt0384537_mfcc.png with feature shape: (768,)\n"
     ]
    },
    {
     "name": "stderr",
     "output_type": "stream",
     "text": [
      " 46%|████▋     | 629/1356 [01:18<01:14,  9.80it/s]"
     ]
    },
    {
     "name": "stdout",
     "output_type": "stream",
     "text": [
      "Processed ../misc/audio_fe/mfcc/tt0985025_mfcc.png with feature shape: (768,)\n",
      "Processed ../misc/audio_fe/mfcc/tt2359137_mfcc.png with feature shape: (768,)\n",
      "Processed ../misc/audio_fe/mfcc/tt0486674_mfcc.png with feature shape: (768,)\n",
      "Processed ../misc/audio_fe/mfcc/tt5493706_mfcc.png with feature shape: (768,)\n"
     ]
    },
    {
     "name": "stderr",
     "output_type": "stream",
     "text": [
      " 47%|████▋     | 631/1356 [01:18<01:07, 10.67it/s]"
     ]
    },
    {
     "name": "stdout",
     "output_type": "stream",
     "text": [
      "Processed ../misc/audio_fe/mfcc/tt0403702_mfcc.png with feature shape: (768,)\n",
      "Processed ../misc/audio_fe/mfcc/tt0833960_mfcc.png with feature shape: (768,)\n",
      "Processed ../misc/audio_fe/mfcc/tt1024714_mfcc.png with feature shape: (768,)\n"
     ]
    },
    {
     "name": "stderr",
     "output_type": "stream",
     "text": [
      " 47%|████▋     | 633/1356 [01:18<01:04, 11.20it/s]"
     ]
    },
    {
     "name": "stdout",
     "output_type": "stream",
     "text": [
      "Processed ../misc/audio_fe/mfcc/tt0268995_mfcc.png with feature shape: (768,)\n"
     ]
    },
    {
     "name": "stderr",
     "output_type": "stream",
     "text": [
      " 47%|████▋     | 637/1356 [01:18<01:15,  9.48it/s]"
     ]
    },
    {
     "name": "stdout",
     "output_type": "stream",
     "text": [
      "Processed ../misc/audio_fe/mfcc/tt0101393_mfcc.png with feature shape: (768,)\n",
      "Processed ../misc/audio_fe/mfcc/tt0134630_mfcc.png with feature shape: (768,)\n",
      "Processed ../misc/audio_fe/mfcc/tt1024715_mfcc.png with feature shape: (768,)\n",
      "Processed ../misc/audio_fe/mfcc/tt0311289_mfcc.png with feature shape: (768,)\n"
     ]
    },
    {
     "name": "stderr",
     "output_type": "stream",
     "text": [
      " 47%|████▋     | 639/1356 [01:19<01:08, 10.50it/s]"
     ]
    },
    {
     "name": "stdout",
     "output_type": "stream",
     "text": [
      "Processed ../misc/audio_fe/mfcc/tt0074991_mfcc.png with feature shape: (768,)\n",
      "Processed ../misc/audio_fe/mfcc/tt0422401_mfcc.png with feature shape: (768,)\n"
     ]
    },
    {
     "name": "stderr",
     "output_type": "stream",
     "text": [
      " 47%|████▋     | 641/1356 [01:19<01:23,  8.55it/s]"
     ]
    },
    {
     "name": "stdout",
     "output_type": "stream",
     "text": [
      "Processed ../misc/audio_fe/mfcc/tt0354623_mfcc.png with feature shape: (768,)\n",
      "Processed ../misc/audio_fe/mfcc/tt0482572_mfcc.png with feature shape: (768,)\n",
      "Processed ../misc/audio_fe/mfcc/tt0287969_mfcc.png with feature shape: (768,)\n"
     ]
    },
    {
     "name": "stderr",
     "output_type": "stream",
     "text": [
      " 48%|████▊     | 645/1356 [01:19<01:09, 10.29it/s]"
     ]
    },
    {
     "name": "stdout",
     "output_type": "stream",
     "text": [
      "Processed ../misc/audio_fe/mfcc/tt0765476_mfcc.png with feature shape: (768,)\n",
      "Processed ../misc/audio_fe/mfcc/tt1723121_mfcc.png with feature shape: (768,)\n",
      "Processed ../misc/audio_fe/mfcc/tt0317303_mfcc.png with feature shape: (768,)\n"
     ]
    },
    {
     "name": "stderr",
     "output_type": "stream",
     "text": [
      " 48%|████▊     | 647/1356 [01:20<01:26,  8.18it/s]"
     ]
    },
    {
     "name": "stdout",
     "output_type": "stream",
     "text": [
      "Processed ../misc/audio_fe/mfcc/tt0157472_mfcc.png with feature shape: (768,)\n",
      "Processed ../misc/audio_fe/mfcc/tt1142798_mfcc.png with feature shape: (768,)\n",
      "Processed ../misc/audio_fe/mfcc/tt2340650_mfcc.png with feature shape: (768,)\n"
     ]
    },
    {
     "name": "stderr",
     "output_type": "stream",
     "text": [
      " 48%|████▊     | 651/1356 [01:20<01:09, 10.10it/s]"
     ]
    },
    {
     "name": "stdout",
     "output_type": "stream",
     "text": [
      "Processed ../misc/audio_fe/mfcc/tt0445946_mfcc.png with feature shape: (768,)\n",
      "Processed ../misc/audio_fe/mfcc/tt0758774_mfcc.png with feature shape: (768,)\n",
      "Processed ../misc/audio_fe/mfcc/tt0434124_mfcc.png with feature shape: (768,)\n"
     ]
    },
    {
     "name": "stderr",
     "output_type": "stream",
     "text": [
      " 48%|████▊     | 653/1356 [01:20<01:06, 10.60it/s]"
     ]
    },
    {
     "name": "stdout",
     "output_type": "stream",
     "text": [
      "Processed ../misc/audio_fe/mfcc/tt2637294_mfcc.png with feature shape: (768,)\n",
      "Processed ../misc/audio_fe/mfcc/tt0389860_mfcc.png with feature shape: (768,)\n"
     ]
    },
    {
     "name": "stderr",
     "output_type": "stream",
     "text": [
      " 48%|████▊     | 655/1356 [01:20<01:11,  9.81it/s]"
     ]
    },
    {
     "name": "stdout",
     "output_type": "stream",
     "text": [
      "Processed ../misc/audio_fe/mfcc/tt0484562_mfcc.png with feature shape: (768,)\n",
      "Processed ../misc/audio_fe/mfcc/tt0430912_mfcc.png with feature shape: (768,)\n",
      "Processed ../misc/audio_fe/mfcc/tt0278488_mfcc.png with feature shape: (768,)\n"
     ]
    },
    {
     "name": "stderr",
     "output_type": "stream",
     "text": [
      " 48%|████▊     | 657/1356 [01:21<01:08, 10.22it/s]"
     ]
    },
    {
     "name": "stdout",
     "output_type": "stream",
     "text": [
      "Processed ../misc/audio_fe/mfcc/tt1132130_mfcc.png with feature shape: (768,)\n"
     ]
    },
    {
     "name": "stderr",
     "output_type": "stream",
     "text": [
      " 49%|████▊     | 660/1356 [01:21<01:16,  9.05it/s]"
     ]
    },
    {
     "name": "stdout",
     "output_type": "stream",
     "text": [
      "Processed ../misc/audio_fe/mfcc/tt0211933_mfcc.png with feature shape: (768,)\n",
      "Processed ../misc/audio_fe/mfcc/tt2626460_mfcc.png with feature shape: (768,)\n",
      "Processed ../misc/audio_fe/mfcc/tt0212338_mfcc.png with feature shape: (768,)\n"
     ]
    },
    {
     "name": "stderr",
     "output_type": "stream",
     "text": [
      " 49%|████▉     | 662/1356 [01:21<01:08, 10.14it/s]"
     ]
    },
    {
     "name": "stdout",
     "output_type": "stream",
     "text": [
      "Processed ../misc/audio_fe/mfcc/tt0780516_mfcc.png with feature shape: (768,)\n",
      "Processed ../misc/audio_fe/mfcc/tt0082432_mfcc.png with feature shape: (768,)\n",
      "Processed ../misc/audio_fe/mfcc/tt0281686_mfcc.png with feature shape: (768,)\n"
     ]
    },
    {
     "name": "stderr",
     "output_type": "stream",
     "text": [
      " 49%|████▉     | 664/1356 [01:21<01:06, 10.36it/s]"
     ]
    },
    {
     "name": "stdout",
     "output_type": "stream",
     "text": [
      "Processed ../misc/audio_fe/mfcc/tt0271263_mfcc.png with feature shape: (768,)\n",
      "Processed ../misc/audio_fe/mfcc/tt0363988_mfcc.png with feature shape: (768,)\n"
     ]
    },
    {
     "name": "stderr",
     "output_type": "stream",
     "text": [
      " 49%|████▉     | 668/1356 [01:22<01:05, 10.46it/s]"
     ]
    },
    {
     "name": "stdout",
     "output_type": "stream",
     "text": [
      "Processed ../misc/audio_fe/mfcc/tt1450321_mfcc.png with feature shape: (768,)\n",
      "Processed ../misc/audio_fe/mfcc/tt3687118_mfcc.png with feature shape: (768,)\n",
      "Processed ../misc/audio_fe/mfcc/tt7050082_mfcc.png with feature shape: (768,)\n"
     ]
    },
    {
     "name": "stderr",
     "output_type": "stream",
     "text": [
      " 49%|████▉     | 670/1356 [01:22<01:10,  9.79it/s]"
     ]
    },
    {
     "name": "stdout",
     "output_type": "stream",
     "text": [
      "Processed ../misc/audio_fe/mfcc/tt0273517_mfcc.png with feature shape: (768,)\n",
      "Processed ../misc/audio_fe/mfcc/tt0411061_mfcc.png with feature shape: (768,)\n",
      "Processed ../misc/audio_fe/mfcc/tt0413300_mfcc.png with feature shape: (768,)\n"
     ]
    },
    {
     "name": "stderr",
     "output_type": "stream",
     "text": [
      " 50%|████▉     | 674/1356 [01:22<01:03, 10.71it/s]"
     ]
    },
    {
     "name": "stdout",
     "output_type": "stream",
     "text": [
      "Processed ../misc/audio_fe/mfcc/tt0473360_mfcc.png with feature shape: (768,)\n",
      "Processed ../misc/audio_fe/mfcc/tt0192788_mfcc.png with feature shape: (768,)\n",
      "Processed ../misc/audio_fe/mfcc/tt0834904_mfcc.png with feature shape: (768,)\n"
     ]
    },
    {
     "name": "stderr",
     "output_type": "stream",
     "text": [
      " 50%|████▉     | 676/1356 [01:22<01:04, 10.61it/s]"
     ]
    },
    {
     "name": "stdout",
     "output_type": "stream",
     "text": [
      "Processed ../misc/audio_fe/mfcc/tt1430615_mfcc.png with feature shape: (768,)\n",
      "Processed ../misc/audio_fe/mfcc/tt1920849_mfcc.png with feature shape: (768,)\n",
      "Processed ../misc/audio_fe/mfcc/tt1270761_mfcc.png with feature shape: (768,)\n"
     ]
    },
    {
     "name": "stderr",
     "output_type": "stream",
     "text": [
      " 50%|█████     | 680/1356 [01:23<01:14,  9.13it/s]"
     ]
    },
    {
     "name": "stdout",
     "output_type": "stream",
     "text": [
      "Processed ../misc/audio_fe/mfcc/tt0111256_mfcc.png with feature shape: (768,)\n",
      "Processed ../misc/audio_fe/mfcc/tt0356680_mfcc.png with feature shape: (768,)\n",
      "Processed ../misc/audio_fe/mfcc/tt0964539_mfcc.png with feature shape: (768,)\n",
      "Processed ../misc/audio_fe/mfcc/tt4638148_mfcc.png with feature shape: (768,)\n"
     ]
    },
    {
     "name": "stderr",
     "output_type": "stream",
     "text": [
      " 50%|█████     | 684/1356 [01:23<01:00, 11.16it/s]"
     ]
    },
    {
     "name": "stdout",
     "output_type": "stream",
     "text": [
      "Processed ../misc/audio_fe/mfcc/tt0113189_mfcc.png with feature shape: (768,)\n",
      "Processed ../misc/audio_fe/mfcc/tt0368343_mfcc.png with feature shape: (768,)\n",
      "Processed ../misc/audio_fe/mfcc/tt1231287_mfcc.png with feature shape: (768,)\n"
     ]
    },
    {
     "name": "stderr",
     "output_type": "stream",
     "text": [
      " 51%|█████     | 686/1356 [01:23<00:56, 11.78it/s]"
     ]
    },
    {
     "name": "stdout",
     "output_type": "stream",
     "text": [
      "Processed ../misc/audio_fe/mfcc/tt0097351_mfcc.png with feature shape: (768,)\n",
      "Processed ../misc/audio_fe/mfcc/tt0460742_mfcc.png with feature shape: (768,)\n",
      "Processed ../misc/audio_fe/mfcc/tt1028576_mfcc.png with feature shape: (768,)\n"
     ]
    },
    {
     "name": "stderr",
     "output_type": "stream",
     "text": [
      " 51%|█████     | 690/1356 [01:24<00:53, 12.39it/s]"
     ]
    },
    {
     "name": "stdout",
     "output_type": "stream",
     "text": [
      "Processed ../misc/audio_fe/mfcc/tt0800240_mfcc.png with feature shape: (768,)\n",
      "Processed ../misc/audio_fe/mfcc/tt2278871_mfcc.png with feature shape: (768,)\n",
      "Processed ../misc/audio_fe/mfcc/tt0155776_mfcc.png with feature shape: (768,)\n"
     ]
    },
    {
     "name": "stderr",
     "output_type": "stream",
     "text": [
      " 51%|█████     | 692/1356 [01:24<00:52, 12.71it/s]"
     ]
    },
    {
     "name": "stdout",
     "output_type": "stream",
     "text": [
      "Processed ../misc/audio_fe/mfcc/tt0443274_mfcc.png with feature shape: (768,)\n",
      "Processed ../misc/audio_fe/mfcc/tt0119062_mfcc.png with feature shape: (768,)\n",
      "Processed ../misc/audio_fe/mfcc/tt0800027_mfcc.png with feature shape: (768,)\n"
     ]
    },
    {
     "name": "stderr",
     "output_type": "stream",
     "text": [
      " 51%|█████▏    | 696/1356 [01:24<00:48, 13.68it/s]"
     ]
    },
    {
     "name": "stdout",
     "output_type": "stream",
     "text": [
      "Processed ../misc/audio_fe/mfcc/tt0800241_mfcc.png with feature shape: (768,)\n",
      "Processed ../misc/audio_fe/mfcc/tt1541995_mfcc.png with feature shape: (768,)\n",
      "Processed ../misc/audio_fe/mfcc/tt2172584_mfcc.png with feature shape: (768,)\n",
      "Processed ../misc/audio_fe/mfcc/tt2784678_mfcc.png with feature shape: (768,)\n"
     ]
    },
    {
     "name": "stderr",
     "output_type": "stream",
     "text": [
      " 52%|█████▏    | 700/1356 [01:24<00:45, 14.41it/s]"
     ]
    },
    {
     "name": "stdout",
     "output_type": "stream",
     "text": [
      "Processed ../misc/audio_fe/mfcc/tt2141773_mfcc.png with feature shape: (768,)\n",
      "Processed ../misc/audio_fe/mfcc/tt1548628_mfcc.png with feature shape: (768,)\n",
      "Processed ../misc/audio_fe/mfcc/tt0469965_mfcc.png with feature shape: (768,)\n",
      "Processed ../misc/audio_fe/mfcc/tt0368578_mfcc.png with feature shape: (768,)\n"
     ]
    },
    {
     "name": "stderr",
     "output_type": "stream",
     "text": [
      " 52%|█████▏    | 704/1356 [01:25<00:44, 14.63it/s]"
     ]
    },
    {
     "name": "stdout",
     "output_type": "stream",
     "text": [
      "Processed ../misc/audio_fe/mfcc/tt3225318_mfcc.png with feature shape: (768,)\n",
      "Processed ../misc/audio_fe/mfcc/tt1247667_mfcc.png with feature shape: (768,)\n",
      "Processed ../misc/audio_fe/mfcc/tt0888693_mfcc.png with feature shape: (768,)\n"
     ]
    },
    {
     "name": "stderr",
     "output_type": "stream",
     "text": [
      " 52%|█████▏    | 706/1356 [01:25<00:44, 14.66it/s]"
     ]
    },
    {
     "name": "stdout",
     "output_type": "stream",
     "text": [
      "Processed ../misc/audio_fe/mfcc/tt0463854_mfcc.png with feature shape: (768,)\n",
      "Processed ../misc/audio_fe/mfcc/tt0204175_mfcc.png with feature shape: (768,)\n",
      "Processed ../misc/audio_fe/mfcc/tt0093624_mfcc.png with feature shape: (768,)\n"
     ]
    },
    {
     "name": "stderr",
     "output_type": "stream",
     "text": [
      " 52%|█████▏    | 710/1356 [01:25<00:50, 12.82it/s]"
     ]
    },
    {
     "name": "stdout",
     "output_type": "stream",
     "text": [
      "Processed ../misc/audio_fe/mfcc/tt0388473_mfcc.png with feature shape: (768,)\n",
      "Processed ../misc/audio_fe/mfcc/tt2334871_mfcc.png with feature shape: (768,)\n",
      "Processed ../misc/audio_fe/mfcc/tt3960412_mfcc.png with feature shape: (768,)\n"
     ]
    },
    {
     "name": "stderr",
     "output_type": "stream",
     "text": [
      " 53%|█████▎    | 712/1356 [01:25<00:53, 11.96it/s]"
     ]
    },
    {
     "name": "stdout",
     "output_type": "stream",
     "text": [
      "Processed ../misc/audio_fe/mfcc/tt1130088_mfcc.png with feature shape: (768,)\n",
      "Processed ../misc/audio_fe/mfcc/tt0404030_mfcc.png with feature shape: (768,)\n",
      "Processed ../misc/audio_fe/mfcc/tt0116269_mfcc.png with feature shape: (768,)\n"
     ]
    },
    {
     "name": "stderr",
     "output_type": "stream",
     "text": [
      " 53%|█████▎    | 716/1356 [01:26<00:58, 10.98it/s]"
     ]
    },
    {
     "name": "stdout",
     "output_type": "stream",
     "text": [
      "Processed ../misc/audio_fe/mfcc/tt2406566_mfcc.png with feature shape: (768,)\n",
      "Processed ../misc/audio_fe/mfcc/tt3322364_mfcc.png with feature shape: (768,)\n",
      "Processed ../misc/audio_fe/mfcc/tt0910936_mfcc.png with feature shape: (768,)\n"
     ]
    },
    {
     "name": "stderr",
     "output_type": "stream",
     "text": [
      " 53%|█████▎    | 720/1356 [01:26<00:49, 12.74it/s]"
     ]
    },
    {
     "name": "stdout",
     "output_type": "stream",
     "text": [
      "Processed ../misc/audio_fe/mfcc/tt0120662_mfcc.png with feature shape: (768,)\n",
      "Processed ../misc/audio_fe/mfcc/tt5292624_mfcc.png with feature shape: (768,)\n",
      "Processed ../misc/audio_fe/mfcc/tt2059171_mfcc.png with feature shape: (768,)\n",
      "Processed ../misc/audio_fe/mfcc/tt0469641_mfcc.png with feature shape: (768,)\n"
     ]
    },
    {
     "name": "stderr",
     "output_type": "stream",
     "text": [
      " 53%|█████▎    | 722/1356 [01:26<00:47, 13.32it/s]"
     ]
    },
    {
     "name": "stdout",
     "output_type": "stream",
     "text": [
      "Processed ../misc/audio_fe/mfcc/tt0407265_mfcc.png with feature shape: (768,)\n",
      "Processed ../misc/audio_fe/mfcc/tt0468489_mfcc.png with feature shape: (768,)\n",
      "Processed ../misc/audio_fe/mfcc/tt0419749_mfcc.png with feature shape: (768,)\n"
     ]
    },
    {
     "name": "stderr",
     "output_type": "stream",
     "text": [
      " 54%|█████▎    | 726/1356 [01:26<00:45, 13.85it/s]"
     ]
    },
    {
     "name": "stdout",
     "output_type": "stream",
     "text": [
      "Processed ../misc/audio_fe/mfcc/tt3564200_mfcc.png with feature shape: (768,)\n",
      "Processed ../misc/audio_fe/mfcc/tt0408236_mfcc.png with feature shape: (768,)\n",
      "Processed ../misc/audio_fe/mfcc/tt0337930_mfcc.png with feature shape: (768,)\n"
     ]
    },
    {
     "name": "stderr",
     "output_type": "stream",
     "text": [
      " 54%|█████▎    | 728/1356 [01:27<00:44, 14.05it/s]"
     ]
    },
    {
     "name": "stdout",
     "output_type": "stream",
     "text": [
      "Processed ../misc/audio_fe/mfcc/tt0441782_mfcc.png with feature shape: (768,)\n",
      "Processed ../misc/audio_fe/mfcc/tt0144348_mfcc.png with feature shape: (768,)\n",
      "Processed ../misc/audio_fe/mfcc/tt0295289_mfcc.png with feature shape: (768,)\n"
     ]
    },
    {
     "name": "stderr",
     "output_type": "stream",
     "text": [
      " 54%|█████▍    | 732/1356 [01:27<00:43, 14.33it/s]"
     ]
    },
    {
     "name": "stdout",
     "output_type": "stream",
     "text": [
      "Processed ../misc/audio_fe/mfcc/tt1109624_mfcc.png with feature shape: (768,)\n",
      "Processed ../misc/audio_fe/mfcc/tt1013753_mfcc.png with feature shape: (768,)\n",
      "Processed ../misc/audio_fe/mfcc/tt1999890_mfcc.png with feature shape: (768,)\n"
     ]
    },
    {
     "name": "stderr",
     "output_type": "stream",
     "text": [
      " 54%|█████▍    | 734/1356 [01:27<00:43, 14.40it/s]"
     ]
    },
    {
     "name": "stdout",
     "output_type": "stream",
     "text": [
      "Processed ../misc/audio_fe/mfcc/tt4981636_mfcc.png with feature shape: (768,)\n",
      "Processed ../misc/audio_fe/mfcc/tt0460883_mfcc.png with feature shape: (768,)\n",
      "Processed ../misc/audio_fe/mfcc/tt4156972_mfcc.png with feature shape: (768,)\n"
     ]
    },
    {
     "name": "stderr",
     "output_type": "stream",
     "text": [
      " 54%|█████▍    | 738/1356 [01:27<00:43, 14.30it/s]"
     ]
    },
    {
     "name": "stdout",
     "output_type": "stream",
     "text": [
      "Processed ../misc/audio_fe/mfcc/tt3079380_mfcc.png with feature shape: (768,)\n",
      "Processed ../misc/audio_fe/mfcc/tt1333125_mfcc.png with feature shape: (768,)\n",
      "Processed ../misc/audio_fe/mfcc/tt0425123_mfcc.png with feature shape: (768,)\n"
     ]
    },
    {
     "name": "stderr",
     "output_type": "stream",
     "text": [
      " 55%|█████▍    | 740/1356 [01:27<00:42, 14.37it/s]"
     ]
    },
    {
     "name": "stdout",
     "output_type": "stream",
     "text": [
      "Processed ../misc/audio_fe/mfcc/tt0437777_mfcc.png with feature shape: (768,)\n",
      "Processed ../misc/audio_fe/mfcc/tt0113617_mfcc.png with feature shape: (768,)\n",
      "Processed ../misc/audio_fe/mfcc/tt6400674_mfcc.png with feature shape: (768,)\n"
     ]
    },
    {
     "name": "stderr",
     "output_type": "stream",
     "text": [
      " 55%|█████▍    | 744/1356 [01:28<00:41, 14.62it/s]"
     ]
    },
    {
     "name": "stdout",
     "output_type": "stream",
     "text": [
      "Processed ../misc/audio_fe/mfcc/tt1691917_mfcc.png with feature shape: (768,)\n",
      "Processed ../misc/audio_fe/mfcc/tt0327919_mfcc.png with feature shape: (768,)\n",
      "Processed ../misc/audio_fe/mfcc/tt2458776_mfcc.png with feature shape: (768,)\n",
      "Processed ../misc/audio_fe/mfcc/tt0472160_mfcc.png with feature shape: (768,)\n"
     ]
    },
    {
     "name": "stderr",
     "output_type": "stream",
     "text": [
      " 55%|█████▌    | 748/1356 [01:28<00:44, 13.81it/s]"
     ]
    },
    {
     "name": "stdout",
     "output_type": "stream",
     "text": [
      "Processed ../misc/audio_fe/mfcc/tt0490579_mfcc.png with feature shape: (768,)\n",
      "Processed ../misc/audio_fe/mfcc/tt0893346_mfcc.png with feature shape: (768,)\n",
      "Processed ../misc/audio_fe/mfcc/tt0107302_mfcc.png with feature shape: (768,)\n"
     ]
    },
    {
     "name": "stderr",
     "output_type": "stream",
     "text": [
      " 55%|█████▌    | 750/1356 [01:28<00:45, 13.19it/s]"
     ]
    },
    {
     "name": "stdout",
     "output_type": "stream",
     "text": [
      "Processed ../misc/audio_fe/mfcc/tt2788710_mfcc.png with feature shape: (768,)\n",
      "Processed ../misc/audio_fe/mfcc/tt0780504_mfcc.png with feature shape: (768,)\n",
      "Processed ../misc/audio_fe/mfcc/tt0914797_mfcc.png with feature shape: (768,)\n"
     ]
    },
    {
     "name": "stderr",
     "output_type": "stream",
     "text": [
      " 56%|█████▌    | 754/1356 [01:28<00:44, 13.44it/s]"
     ]
    },
    {
     "name": "stdout",
     "output_type": "stream",
     "text": [
      "Processed ../misc/audio_fe/mfcc/tt3564472_mfcc.png with feature shape: (768,)\n",
      "Processed ../misc/audio_fe/mfcc/tt1176740_mfcc.png with feature shape: (768,)\n",
      "Processed ../misc/audio_fe/mfcc/tt0465234_mfcc.png with feature shape: (768,)\n"
     ]
    },
    {
     "name": "stderr",
     "output_type": "stream",
     "text": [
      " 56%|█████▌    | 758/1356 [01:29<00:41, 14.45it/s]"
     ]
    },
    {
     "name": "stdout",
     "output_type": "stream",
     "text": [
      "Processed ../misc/audio_fe/mfcc/tt0323572_mfcc.png with feature shape: (768,)\n",
      "Processed ../misc/audio_fe/mfcc/tt4160708_mfcc.png with feature shape: (768,)\n",
      "Processed ../misc/audio_fe/mfcc/tt0417395_mfcc.png with feature shape: (768,)\n",
      "Processed ../misc/audio_fe/mfcc/tt1014775_mfcc.png with feature shape: (768,)\n"
     ]
    },
    {
     "name": "stderr",
     "output_type": "stream",
     "text": [
      " 56%|█████▌    | 762/1356 [01:29<00:39, 15.02it/s]"
     ]
    },
    {
     "name": "stdout",
     "output_type": "stream",
     "text": [
      "Processed ../misc/audio_fe/mfcc/tt0460792_mfcc.png with feature shape: (768,)\n",
      "Processed ../misc/audio_fe/mfcc/tt0890870_mfcc.png with feature shape: (768,)\n",
      "Processed ../misc/audio_fe/mfcc/tt3824648_mfcc.png with feature shape: (768,)\n",
      "Processed ../misc/audio_fe/mfcc/tt1714203_mfcc.png with feature shape: (768,)\n"
     ]
    },
    {
     "name": "stderr",
     "output_type": "stream",
     "text": [
      " 56%|█████▋    | 766/1356 [01:29<00:38, 15.28it/s]"
     ]
    },
    {
     "name": "stdout",
     "output_type": "stream",
     "text": [
      "Processed ../misc/audio_fe/mfcc/tt0406706_mfcc.png with feature shape: (768,)\n",
      "Processed ../misc/audio_fe/mfcc/tt0101969_mfcc.png with feature shape: (768,)\n",
      "Processed ../misc/audio_fe/mfcc/tt0398913_mfcc.png with feature shape: (768,)\n",
      "Processed ../misc/audio_fe/mfcc/tt0323944_mfcc.png with feature shape: (768,)\n"
     ]
    },
    {
     "name": "stderr",
     "output_type": "stream",
     "text": [
      " 57%|█████▋    | 770/1356 [01:29<00:37, 15.46it/s]"
     ]
    },
    {
     "name": "stdout",
     "output_type": "stream",
     "text": [
      "Processed ../misc/audio_fe/mfcc/tt0279493_mfcc.png with feature shape: (768,)\n",
      "Processed ../misc/audio_fe/mfcc/tt1001526_mfcc.png with feature shape: (768,)\n",
      "Processed ../misc/audio_fe/mfcc/tt0435705_mfcc.png with feature shape: (768,)\n",
      "Processed ../misc/audio_fe/mfcc/tt3349578_mfcc.png with feature shape: (768,)\n"
     ]
    },
    {
     "name": "stderr",
     "output_type": "stream",
     "text": [
      " 57%|█████▋    | 774/1356 [01:30<00:37, 15.66it/s]"
     ]
    },
    {
     "name": "stdout",
     "output_type": "stream",
     "text": [
      "Processed ../misc/audio_fe/mfcc/tt0356910_mfcc.png with feature shape: (768,)\n",
      "Processed ../misc/audio_fe/mfcc/tt1425922_mfcc.png with feature shape: (768,)\n",
      "Processed ../misc/audio_fe/mfcc/tt0081748_mfcc.png with feature shape: (768,)\n",
      "Processed ../misc/audio_fe/mfcc/tt1456635_mfcc.png with feature shape: (768,)\n"
     ]
    },
    {
     "name": "stderr",
     "output_type": "stream",
     "text": [
      " 57%|█████▋    | 778/1356 [01:30<00:37, 15.45it/s]"
     ]
    },
    {
     "name": "stdout",
     "output_type": "stream",
     "text": [
      "Processed ../misc/audio_fe/mfcc/tt0112571_mfcc.png with feature shape: (768,)\n",
      "Processed ../misc/audio_fe/mfcc/tt2404311_mfcc.png with feature shape: (768,)\n",
      "Processed ../misc/audio_fe/mfcc/tt1637574_mfcc.png with feature shape: (768,)\n",
      "Processed ../misc/audio_fe/mfcc/tt0412922_mfcc.png with feature shape: (768,)\n"
     ]
    },
    {
     "name": "stderr",
     "output_type": "stream",
     "text": [
      " 58%|█████▊    | 782/1356 [01:30<00:37, 15.28it/s]"
     ]
    },
    {
     "name": "stdout",
     "output_type": "stream",
     "text": [
      "Processed ../misc/audio_fe/mfcc/tt1104001_mfcc.png with feature shape: (768,)\n",
      "Processed ../misc/audio_fe/mfcc/tt0102511_mfcc.png with feature shape: (768,)\n",
      "Processed ../misc/audio_fe/mfcc/tt1821658_mfcc.png with feature shape: (768,)\n",
      "Processed ../misc/audio_fe/mfcc/tt0317198_mfcc.png with feature shape: (768,)\n"
     ]
    },
    {
     "name": "stderr",
     "output_type": "stream",
     "text": [
      " 58%|█████▊    | 784/1356 [01:30<00:37, 15.33it/s]"
     ]
    },
    {
     "name": "stdout",
     "output_type": "stream",
     "text": [
      "Processed ../misc/audio_fe/mfcc/tt1815708_mfcc.png with feature shape: (768,)\n",
      "Processed ../misc/audio_fe/mfcc/tt0116410_mfcc.png with feature shape: (768,)\n",
      "Processed ../misc/audio_fe/mfcc/tt0446676_mfcc.png with feature shape: (768,)\n"
     ]
    },
    {
     "name": "stderr",
     "output_type": "stream",
     "text": [
      " 58%|█████▊    | 788/1356 [01:31<00:39, 14.41it/s]"
     ]
    },
    {
     "name": "stdout",
     "output_type": "stream",
     "text": [
      "Processed ../misc/audio_fe/mfcc/tt0086837_mfcc.png with feature shape: (768,)\n",
      "Processed ../misc/audio_fe/mfcc/tt0377062_mfcc.png with feature shape: (768,)\n",
      "Processed ../misc/audio_fe/mfcc/tt0772193_mfcc.png with feature shape: (768,)\n"
     ]
    },
    {
     "name": "stderr",
     "output_type": "stream",
     "text": [
      " 58%|█████▊    | 790/1356 [01:31<00:39, 14.19it/s]"
     ]
    },
    {
     "name": "stdout",
     "output_type": "stream",
     "text": [
      "Processed ../misc/audio_fe/mfcc/tt0418004_mfcc.png with feature shape: (768,)\n",
      "Processed ../misc/audio_fe/mfcc/tt0117951_mfcc.png with feature shape: (768,)\n",
      "Processed ../misc/audio_fe/mfcc/tt7690016_mfcc.png with feature shape: (768,)\n"
     ]
    },
    {
     "name": "stderr",
     "output_type": "stream",
     "text": [
      " 59%|█████▊    | 794/1356 [01:31<00:38, 14.61it/s]"
     ]
    },
    {
     "name": "stdout",
     "output_type": "stream",
     "text": [
      "Processed ../misc/audio_fe/mfcc/tt1817771_mfcc.png with feature shape: (768,)\n",
      "Processed ../misc/audio_fe/mfcc/tt0887719_mfcc.png with feature shape: (768,)\n",
      "Processed ../misc/audio_fe/mfcc/tt0864761_mfcc.png with feature shape: (768,)\n",
      "Processed ../misc/audio_fe/mfcc/tt0486020_mfcc.png with feature shape: (768,)\n"
     ]
    },
    {
     "name": "stderr",
     "output_type": "stream",
     "text": [
      " 59%|█████▉    | 798/1356 [01:31<00:37, 15.01it/s]"
     ]
    },
    {
     "name": "stdout",
     "output_type": "stream",
     "text": [
      "Processed ../misc/audio_fe/mfcc/tt0461703_mfcc.png with feature shape: (768,)\n",
      "Processed ../misc/audio_fe/mfcc/tt7073710_mfcc.png with feature shape: (768,)\n",
      "Processed ../misc/audio_fe/mfcc/tt0301924_mfcc.png with feature shape: (768,)\n",
      "Processed ../misc/audio_fe/mfcc/tt0397892_mfcc.png with feature shape: (768,)\n"
     ]
    },
    {
     "name": "stderr",
     "output_type": "stream",
     "text": [
      " 59%|█████▉    | 802/1356 [01:32<00:35, 15.39it/s]"
     ]
    },
    {
     "name": "stdout",
     "output_type": "stream",
     "text": [
      "Processed ../misc/audio_fe/mfcc/tt0318763_mfcc.png with feature shape: (768,)\n",
      "Processed ../misc/audio_fe/mfcc/tt1060277_mfcc.png with feature shape: (768,)\n",
      "Processed ../misc/audio_fe/mfcc/tt3721964_mfcc.png with feature shape: (768,)\n",
      "Processed ../misc/audio_fe/mfcc/tt2758904_mfcc.png with feature shape: (768,)\n"
     ]
    },
    {
     "name": "stderr",
     "output_type": "stream",
     "text": [
      " 59%|█████▉    | 806/1356 [01:32<00:35, 15.64it/s]"
     ]
    },
    {
     "name": "stdout",
     "output_type": "stream",
     "text": [
      "Processed ../misc/audio_fe/mfcc/tt1142977_mfcc.png with feature shape: (768,)\n",
      "Processed ../misc/audio_fe/mfcc/tt1018830_mfcc.png with feature shape: (768,)\n",
      "Processed ../misc/audio_fe/mfcc/tt1071880_mfcc.png with feature shape: (768,)\n",
      "Processed ../misc/audio_fe/mfcc/tt3491962_mfcc.png with feature shape: (768,)\n"
     ]
    },
    {
     "name": "stderr",
     "output_type": "stream",
     "text": [
      " 60%|█████▉    | 810/1356 [01:32<00:34, 15.62it/s]"
     ]
    },
    {
     "name": "stdout",
     "output_type": "stream",
     "text": [
      "Processed ../misc/audio_fe/mfcc/tt0098067_mfcc.png with feature shape: (768,)\n",
      "Processed ../misc/audio_fe/mfcc/tt0970468_mfcc.png with feature shape: (768,)\n",
      "Processed ../misc/audio_fe/mfcc/tt0261289_mfcc.png with feature shape: (768,)\n",
      "Processed ../misc/audio_fe/mfcc/tt0265087_mfcc.png with feature shape: (768,)\n"
     ]
    },
    {
     "name": "stderr",
     "output_type": "stream",
     "text": [
      " 60%|██████    | 814/1356 [01:32<00:34, 15.78it/s]"
     ]
    },
    {
     "name": "stdout",
     "output_type": "stream",
     "text": [
      "Processed ../misc/audio_fe/mfcc/tt0104990_mfcc.png with feature shape: (768,)\n",
      "Processed ../misc/audio_fe/mfcc/tt0265086_mfcc.png with feature shape: (768,)\n",
      "Processed ../misc/audio_fe/mfcc/tt5579982_mfcc.png with feature shape: (768,)\n",
      "Processed ../misc/audio_fe/mfcc/tt0765451_mfcc.png with feature shape: (768,)\n"
     ]
    },
    {
     "name": "stderr",
     "output_type": "stream",
     "text": [
      " 60%|██████    | 818/1356 [01:33<00:34, 15.77it/s]"
     ]
    },
    {
     "name": "stdout",
     "output_type": "stream",
     "text": [
      "Processed ../misc/audio_fe/mfcc/tt0305669_mfcc.png with feature shape: (768,)\n",
      "Processed ../misc/audio_fe/mfcc/tt0251736_mfcc.png with feature shape: (768,)\n",
      "Processed ../misc/audio_fe/mfcc/tt3824458_mfcc.png with feature shape: (768,)\n",
      "Processed ../misc/audio_fe/mfcc/tt0323531_mfcc.png with feature shape: (768,)\n"
     ]
    },
    {
     "name": "stderr",
     "output_type": "stream",
     "text": [
      " 61%|██████    | 822/1356 [01:33<00:36, 14.67it/s]"
     ]
    },
    {
     "name": "stdout",
     "output_type": "stream",
     "text": [
      "Processed ../misc/audio_fe/mfcc/tt0815241_mfcc.png with feature shape: (768,)\n",
      "Processed ../misc/audio_fe/mfcc/tt0104114_mfcc.png with feature shape: (768,)\n",
      "Processed ../misc/audio_fe/mfcc/tt0483607_mfcc.png with feature shape: (768,)\n"
     ]
    },
    {
     "name": "stderr",
     "output_type": "stream",
     "text": [
      " 61%|██████    | 824/1356 [01:33<00:36, 14.42it/s]"
     ]
    },
    {
     "name": "stdout",
     "output_type": "stream",
     "text": [
      "Processed ../misc/audio_fe/mfcc/tt0361805_mfcc.png with feature shape: (768,)\n",
      "Processed ../misc/audio_fe/mfcc/tt5834262_mfcc.png with feature shape: (768,)\n",
      "Processed ../misc/audio_fe/mfcc/tt0355954_mfcc.png with feature shape: (768,)\n"
     ]
    },
    {
     "name": "stderr",
     "output_type": "stream",
     "text": [
      " 61%|██████    | 828/1356 [01:33<00:39, 13.28it/s]"
     ]
    },
    {
     "name": "stdout",
     "output_type": "stream",
     "text": [
      "Processed ../misc/audio_fe/mfcc/tt1153706_mfcc.png with feature shape: (768,)\n",
      "Processed ../misc/audio_fe/mfcc/tt0479201_mfcc.png with feature shape: (768,)\n",
      "Processed ../misc/audio_fe/mfcc/tt0480269_mfcc.png with feature shape: (768,)\n"
     ]
    },
    {
     "name": "stderr",
     "output_type": "stream",
     "text": [
      " 61%|██████    | 830/1356 [01:33<00:40, 12.93it/s]"
     ]
    },
    {
     "name": "stdout",
     "output_type": "stream",
     "text": [
      "Processed ../misc/audio_fe/mfcc/tt0844671_mfcc.png with feature shape: (768,)\n",
      "Processed ../misc/audio_fe/mfcc/tt0101414_mfcc.png with feature shape: (768,)\n",
      "Processed ../misc/audio_fe/mfcc/tt2235108_mfcc.png with feature shape: (768,)\n"
     ]
    },
    {
     "name": "stderr",
     "output_type": "stream",
     "text": [
      " 62%|██████▏   | 834/1356 [01:34<00:38, 13.52it/s]"
     ]
    },
    {
     "name": "stdout",
     "output_type": "stream",
     "text": [
      "Processed ../misc/audio_fe/mfcc/tt3955808_mfcc.png with feature shape: (768,)\n",
      "Processed ../misc/audio_fe/mfcc/tt0763304_mfcc.png with feature shape: (768,)\n",
      "Processed ../misc/audio_fe/mfcc/tt0138467_mfcc.png with feature shape: (768,)\n"
     ]
    },
    {
     "name": "stderr",
     "output_type": "stream",
     "text": [
      " 62%|██████▏   | 836/1356 [01:34<00:37, 13.85it/s]"
     ]
    },
    {
     "name": "stdout",
     "output_type": "stream",
     "text": [
      "Processed ../misc/audio_fe/mfcc/tt0809504_mfcc.png with feature shape: (768,)\n",
      "Processed ../misc/audio_fe/mfcc/tt1547090_mfcc.png with feature shape: (768,)\n",
      "Processed ../misc/audio_fe/mfcc/tt4273562_mfcc.png with feature shape: (768,)\n"
     ]
    },
    {
     "name": "stderr",
     "output_type": "stream",
     "text": [
      " 62%|██████▏   | 840/1356 [01:34<00:39, 13.15it/s]"
     ]
    },
    {
     "name": "stdout",
     "output_type": "stream",
     "text": [
      "Processed ../misc/audio_fe/mfcc/tt0115683_mfcc.png with feature shape: (768,)\n",
      "Processed ../misc/audio_fe/mfcc/tt0397313_mfcc.png with feature shape: (768,)\n",
      "Processed ../misc/audio_fe/mfcc/tt0278823_mfcc.png with feature shape: (768,)\n"
     ]
    },
    {
     "name": "stderr",
     "output_type": "stream",
     "text": [
      " 62%|██████▏   | 842/1356 [01:34<00:39, 12.85it/s]"
     ]
    },
    {
     "name": "stdout",
     "output_type": "stream",
     "text": [
      "Processed ../misc/audio_fe/mfcc/tt0285823_mfcc.png with feature shape: (768,)\n",
      "Processed ../misc/audio_fe/mfcc/tt2097298_mfcc.png with feature shape: (768,)\n",
      "Processed ../misc/audio_fe/mfcc/tt1076252_mfcc.png with feature shape: (768,)\n"
     ]
    },
    {
     "name": "stderr",
     "output_type": "stream",
     "text": [
      " 62%|██████▏   | 846/1356 [01:35<00:39, 12.99it/s]"
     ]
    },
    {
     "name": "stdout",
     "output_type": "stream",
     "text": [
      "Processed ../misc/audio_fe/mfcc/tt5649108_mfcc.png with feature shape: (768,)\n",
      "Processed ../misc/audio_fe/mfcc/tt0092794_mfcc.png with feature shape: (768,)\n",
      "Processed ../misc/audio_fe/mfcc/tt0901476_mfcc.png with feature shape: (768,)\n"
     ]
    },
    {
     "name": "stderr",
     "output_type": "stream",
     "text": [
      " 63%|██████▎   | 848/1356 [01:35<00:39, 12.98it/s]"
     ]
    },
    {
     "name": "stdout",
     "output_type": "stream",
     "text": [
      "Processed ../misc/audio_fe/mfcc/tt0134983_mfcc.png with feature shape: (768,)\n",
      "Processed ../misc/audio_fe/mfcc/tt2433040_mfcc.png with feature shape: (768,)\n",
      "Processed ../misc/audio_fe/mfcc/tt0926129_mfcc.png with feature shape: (768,)\n"
     ]
    },
    {
     "name": "stderr",
     "output_type": "stream",
     "text": [
      " 63%|██████▎   | 852/1356 [01:35<00:44, 11.29it/s]"
     ]
    },
    {
     "name": "stdout",
     "output_type": "stream",
     "text": [
      "Processed ../misc/audio_fe/mfcc/tt0124879_mfcc.png with feature shape: (768,)\n",
      "Processed ../misc/audio_fe/mfcc/tt0457510_mfcc.png with feature shape: (768,)\n",
      "Processed ../misc/audio_fe/mfcc/tt0082766_mfcc.png with feature shape: (768,)\n"
     ]
    },
    {
     "name": "stderr",
     "output_type": "stream",
     "text": [
      " 63%|██████▎   | 854/1356 [01:35<00:43, 11.52it/s]"
     ]
    },
    {
     "name": "stdout",
     "output_type": "stream",
     "text": [
      "Processed ../misc/audio_fe/mfcc/tt2244901_mfcc.png with feature shape: (768,)\n",
      "Processed ../misc/audio_fe/mfcc/tt5918982_mfcc.png with feature shape: (768,)\n",
      "Processed ../misc/audio_fe/mfcc/tt0356721_mfcc.png with feature shape: (768,)\n"
     ]
    },
    {
     "name": "stderr",
     "output_type": "stream",
     "text": [
      " 63%|██████▎   | 858/1356 [01:36<00:39, 12.65it/s]"
     ]
    },
    {
     "name": "stdout",
     "output_type": "stream",
     "text": [
      "Processed ../misc/audio_fe/mfcc/tt0166158_mfcc.png with feature shape: (768,)\n",
      "Processed ../misc/audio_fe/mfcc/tt3799694_mfcc.png with feature shape: (768,)\n",
      "Processed ../misc/audio_fe/mfcc/tt0282209_mfcc.png with feature shape: (768,)\n"
     ]
    },
    {
     "name": "stderr",
     "output_type": "stream",
     "text": [
      " 63%|██████▎   | 860/1356 [01:36<00:39, 12.51it/s]"
     ]
    },
    {
     "name": "stdout",
     "output_type": "stream",
     "text": [
      "Processed ../misc/audio_fe/mfcc/tt0415965_mfcc.png with feature shape: (768,)\n",
      "Processed ../misc/audio_fe/mfcc/tt0245686_mfcc.png with feature shape: (768,)\n",
      "Processed ../misc/audio_fe/mfcc/tt4786132_mfcc.png with feature shape: (768,)\n"
     ]
    },
    {
     "name": "stderr",
     "output_type": "stream",
     "text": [
      " 64%|██████▎   | 864/1356 [01:36<00:41, 11.87it/s]"
     ]
    },
    {
     "name": "stdout",
     "output_type": "stream",
     "text": [
      "Processed ../misc/audio_fe/mfcc/tt0353489_mfcc.png with feature shape: (768,)\n",
      "Processed ../misc/audio_fe/mfcc/tt0274711_mfcc.png with feature shape: (768,)\n",
      "Processed ../misc/audio_fe/mfcc/tt0383694_mfcc.png with feature shape: (768,)\n"
     ]
    },
    {
     "name": "stderr",
     "output_type": "stream",
     "text": [
      " 64%|██████▍   | 866/1356 [01:36<00:42, 11.48it/s]"
     ]
    },
    {
     "name": "stdout",
     "output_type": "stream",
     "text": [
      "Processed ../misc/audio_fe/mfcc/tt0113737_mfcc.png with feature shape: (768,)\n",
      "Processed ../misc/audio_fe/mfcc/tt1792647_mfcc.png with feature shape: (768,)\n",
      "Processed ../misc/audio_fe/mfcc/tt0380268_mfcc.png with feature shape: (768,)\n"
     ]
    },
    {
     "name": "stderr",
     "output_type": "stream",
     "text": [
      " 64%|██████▍   | 870/1356 [01:37<00:44, 10.91it/s]"
     ]
    },
    {
     "name": "stdout",
     "output_type": "stream",
     "text": [
      "Processed ../misc/audio_fe/mfcc/tt1837642_mfcc.png with feature shape: (768,)\n",
      "Processed ../misc/audio_fe/mfcc/tt4651520_mfcc.png with feature shape: (768,)\n",
      "Processed ../misc/audio_fe/mfcc/tt3708886_mfcc.png with feature shape: (768,)\n"
     ]
    },
    {
     "name": "stderr",
     "output_type": "stream",
     "text": [
      " 64%|██████▍   | 872/1356 [01:37<00:44, 10.86it/s]"
     ]
    },
    {
     "name": "stdout",
     "output_type": "stream",
     "text": [
      "Processed ../misc/audio_fe/mfcc/tt0398839_mfcc.png with feature shape: (768,)\n",
      "Processed ../misc/audio_fe/mfcc/tt1547230_mfcc.png with feature shape: (768,)\n",
      "Processed ../misc/audio_fe/mfcc/tt0367652_mfcc.png with feature shape: (768,)\n"
     ]
    },
    {
     "name": "stderr",
     "output_type": "stream",
     "text": [
      " 65%|██████▍   | 876/1356 [01:37<00:44, 10.73it/s]"
     ]
    },
    {
     "name": "stdout",
     "output_type": "stream",
     "text": [
      "Processed ../misc/audio_fe/mfcc/tt0382077_mfcc.png with feature shape: (768,)\n",
      "Processed ../misc/audio_fe/mfcc/tt1078188_mfcc.png with feature shape: (768,)\n",
      "Processed ../misc/audio_fe/mfcc/tt4429194_mfcc.png with feature shape: (768,)\n"
     ]
    },
    {
     "name": "stderr",
     "output_type": "stream",
     "text": [
      " 65%|██████▍   | 878/1356 [01:38<00:52,  9.16it/s]"
     ]
    },
    {
     "name": "stdout",
     "output_type": "stream",
     "text": [
      "Processed ../misc/audio_fe/mfcc/tt0092099_mfcc.png with feature shape: (768,)\n",
      "Processed ../misc/audio_fe/mfcc/tt0150216_mfcc.png with feature shape: (768,)\n"
     ]
    },
    {
     "name": "stderr",
     "output_type": "stream",
     "text": [
      " 65%|██████▍   | 880/1356 [01:38<00:51,  9.22it/s]"
     ]
    },
    {
     "name": "stdout",
     "output_type": "stream",
     "text": [
      "Processed ../misc/audio_fe/mfcc/tt0871426_mfcc.png with feature shape: (768,)\n",
      "Processed ../misc/audio_fe/mfcc/tt0218619_mfcc.png with feature shape: (768,)\n"
     ]
    },
    {
     "name": "stderr",
     "output_type": "stream",
     "text": [
      " 65%|██████▌   | 882/1356 [01:38<00:49,  9.49it/s]"
     ]
    },
    {
     "name": "stdout",
     "output_type": "stream",
     "text": [
      "Processed ../misc/audio_fe/mfcc/tt1781058_mfcc.png with feature shape: (768,)\n",
      "Processed ../misc/audio_fe/mfcc/tt2183034_mfcc.png with feature shape: (768,)\n",
      "Processed ../misc/audio_fe/mfcc/tt0489019_mfcc.png with feature shape: (768,)\n"
     ]
    },
    {
     "name": "stderr",
     "output_type": "stream",
     "text": [
      " 65%|██████▌   | 886/1356 [01:38<00:47, 10.00it/s]"
     ]
    },
    {
     "name": "stdout",
     "output_type": "stream",
     "text": [
      "Processed ../misc/audio_fe/mfcc/tt1912398_mfcc.png with feature shape: (768,)\n",
      "Processed ../misc/audio_fe/mfcc/tt0408194_mfcc.png with feature shape: (768,)\n",
      "Processed ../misc/audio_fe/mfcc/tt2231461_mfcc.png with feature shape: (768,)\n"
     ]
    },
    {
     "name": "stderr",
     "output_type": "stream",
     "text": [
      " 65%|██████▌   | 888/1356 [01:39<00:48,  9.66it/s]"
     ]
    },
    {
     "name": "stdout",
     "output_type": "stream",
     "text": [
      "Processed ../misc/audio_fe/mfcc/tt2294629_mfcc.png with feature shape: (768,)\n",
      "Processed ../misc/audio_fe/mfcc/tt1087842_mfcc.png with feature shape: (768,)\n"
     ]
    },
    {
     "name": "stderr",
     "output_type": "stream",
     "text": [
      " 66%|██████▌   | 891/1356 [01:39<00:46, 10.02it/s]"
     ]
    },
    {
     "name": "stdout",
     "output_type": "stream",
     "text": [
      "Processed ../misc/audio_fe/mfcc/tt2044729_mfcc.png with feature shape: (768,)\n",
      "Processed ../misc/audio_fe/mfcc/tt0099329_mfcc.png with feature shape: (768,)\n",
      "Processed ../misc/audio_fe/mfcc/tt0993846_mfcc.png with feature shape: (768,)\n"
     ]
    },
    {
     "name": "stderr",
     "output_type": "stream",
     "text": [
      " 66%|██████▌   | 893/1356 [01:39<00:43, 10.70it/s]"
     ]
    },
    {
     "name": "stdout",
     "output_type": "stream",
     "text": [
      "Processed ../misc/audio_fe/mfcc/tt0118744_mfcc.png with feature shape: (768,)\n",
      "Processed ../misc/audio_fe/mfcc/tt0365686_mfcc.png with feature shape: (768,)\n",
      "Processed ../misc/audio_fe/mfcc/tt0407205_mfcc.png with feature shape: (768,)\n"
     ]
    },
    {
     "name": "stderr",
     "output_type": "stream",
     "text": [
      " 66%|██████▌   | 897/1356 [01:39<00:40, 11.44it/s]"
     ]
    },
    {
     "name": "stdout",
     "output_type": "stream",
     "text": [
      "Processed ../misc/audio_fe/mfcc/tt0116830_mfcc.png with feature shape: (768,)\n",
      "Processed ../misc/audio_fe/mfcc/tt0120603_mfcc.png with feature shape: (768,)\n",
      "Processed ../misc/audio_fe/mfcc/tt0472562_mfcc.png with feature shape: (768,)\n"
     ]
    },
    {
     "name": "stderr",
     "output_type": "stream",
     "text": [
      " 66%|██████▋   | 899/1356 [01:40<00:37, 12.05it/s]"
     ]
    },
    {
     "name": "stdout",
     "output_type": "stream",
     "text": [
      "Processed ../misc/audio_fe/mfcc/tt0870195_mfcc.png with feature shape: (768,)\n",
      "Processed ../misc/audio_fe/mfcc/tt6261048_mfcc.png with feature shape: (768,)\n",
      "Processed ../misc/audio_fe/mfcc/tt0206275_mfcc.png with feature shape: (768,)\n"
     ]
    },
    {
     "name": "stderr",
     "output_type": "stream",
     "text": [
      " 67%|██████▋   | 903/1356 [01:40<00:41, 11.03it/s]"
     ]
    },
    {
     "name": "stdout",
     "output_type": "stream",
     "text": [
      "Processed ../misc/audio_fe/mfcc/tt5115546_mfcc.png with feature shape: (768,)\n",
      "Processed ../misc/audio_fe/mfcc/tt5895892_mfcc.png with feature shape: (768,)\n",
      "Processed ../misc/audio_fe/mfcc/tt0351283_mfcc.png with feature shape: (768,)\n"
     ]
    },
    {
     "name": "stderr",
     "output_type": "stream",
     "text": [
      " 67%|██████▋   | 905/1356 [01:40<00:40, 11.23it/s]"
     ]
    },
    {
     "name": "stdout",
     "output_type": "stream",
     "text": [
      "Processed ../misc/audio_fe/mfcc/tt0273982_mfcc.png with feature shape: (768,)\n",
      "Processed ../misc/audio_fe/mfcc/tt0298148_mfcc.png with feature shape: (768,)\n",
      "Processed ../misc/audio_fe/mfcc/tt0357277_mfcc.png with feature shape: (768,)\n"
     ]
    },
    {
     "name": "stderr",
     "output_type": "stream",
     "text": [
      " 67%|██████▋   | 909/1356 [01:40<00:35, 12.56it/s]"
     ]
    },
    {
     "name": "stdout",
     "output_type": "stream",
     "text": [
      "Processed ../misc/audio_fe/mfcc/tt0462590_mfcc.png with feature shape: (768,)\n",
      "Processed ../misc/audio_fe/mfcc/tt0300620_mfcc.png with feature shape: (768,)\n",
      "Processed ../misc/audio_fe/mfcc/tt2099556_mfcc.png with feature shape: (768,)\n"
     ]
    },
    {
     "name": "stderr",
     "output_type": "stream",
     "text": [
      " 67%|██████▋   | 911/1356 [01:41<01:09,  6.44it/s]"
     ]
    },
    {
     "name": "stdout",
     "output_type": "stream",
     "text": [
      "Processed ../misc/audio_fe/mfcc/tt0483726_mfcc.png with feature shape: (768,)\n",
      "Processed ../misc/audio_fe/mfcc/tt0412536_mfcc.png with feature shape: (768,)\n",
      "Processed ../misc/audio_fe/mfcc/tt0094947_mfcc.png with feature shape: (768,)\n"
     ]
    },
    {
     "name": "stderr",
     "output_type": "stream",
     "text": [
      " 67%|██████▋   | 915/1356 [01:41<00:49,  8.96it/s]"
     ]
    },
    {
     "name": "stdout",
     "output_type": "stream",
     "text": [
      "Processed ../misc/audio_fe/mfcc/tt0106466_mfcc.png with feature shape: (768,)\n",
      "Processed ../misc/audio_fe/mfcc/tt1212450_mfcc.png with feature shape: (768,)\n",
      "Processed ../misc/audio_fe/mfcc/tt0109279_mfcc.png with feature shape: (768,)\n"
     ]
    },
    {
     "name": "stderr",
     "output_type": "stream",
     "text": [
      " 68%|██████▊   | 917/1356 [01:41<00:44,  9.94it/s]"
     ]
    },
    {
     "name": "stdout",
     "output_type": "stream",
     "text": [
      "Processed ../misc/audio_fe/mfcc/tt0421206_mfcc.png with feature shape: (768,)\n",
      "Processed ../misc/audio_fe/mfcc/tt0375173_mfcc.png with feature shape: (768,)\n",
      "Processed ../misc/audio_fe/mfcc/tt5688932_mfcc.png with feature shape: (768,)\n"
     ]
    },
    {
     "name": "stderr",
     "output_type": "stream",
     "text": [
      " 68%|██████▊   | 921/1356 [01:42<00:39, 10.91it/s]"
     ]
    },
    {
     "name": "stdout",
     "output_type": "stream",
     "text": [
      "Processed ../misc/audio_fe/mfcc/tt0398375_mfcc.png with feature shape: (768,)\n",
      "Processed ../misc/audio_fe/mfcc/tt0926063_mfcc.png with feature shape: (768,)\n",
      "Processed ../misc/audio_fe/mfcc/tt1922612_mfcc.png with feature shape: (768,)\n",
      "Processed ../misc/audio_fe/mfcc/tt0119311_mfcc.png with feature shape: (768,)\n"
     ]
    },
    {
     "name": "stderr",
     "output_type": "stream",
     "text": [
      " 68%|██████▊   | 925/1356 [01:42<00:43,  9.98it/s]"
     ]
    },
    {
     "name": "stdout",
     "output_type": "stream",
     "text": [
      "Processed ../misc/audio_fe/mfcc/tt8045574_mfcc.png with feature shape: (768,)\n",
      "Processed ../misc/audio_fe/mfcc/tt0454962_mfcc.png with feature shape: (768,)\n",
      "Processed ../misc/audio_fe/mfcc/tt0088930_mfcc.png with feature shape: (768,)\n"
     ]
    },
    {
     "name": "stderr",
     "output_type": "stream",
     "text": [
      " 68%|██████▊   | 927/1356 [01:42<00:39, 10.88it/s]"
     ]
    },
    {
     "name": "stdout",
     "output_type": "stream",
     "text": [
      "Processed ../misc/audio_fe/mfcc/tt0112701_mfcc.png with feature shape: (768,)\n",
      "Processed ../misc/audio_fe/mfcc/tt0404203_mfcc.png with feature shape: (768,)\n",
      "Processed ../misc/audio_fe/mfcc/tt0243585_mfcc.png with feature shape: (768,)\n"
     ]
    },
    {
     "name": "stderr",
     "output_type": "stream",
     "text": [
      " 69%|██████▊   | 931/1356 [01:43<00:35, 11.84it/s]"
     ]
    },
    {
     "name": "stdout",
     "output_type": "stream",
     "text": [
      "Processed ../misc/audio_fe/mfcc/tt2274570_mfcc.png with feature shape: (768,)\n",
      "Processed ../misc/audio_fe/mfcc/tt2980648_mfcc.png with feature shape: (768,)\n",
      "Processed ../misc/audio_fe/mfcc/tt2823054_mfcc.png with feature shape: (768,)\n"
     ]
    },
    {
     "name": "stderr",
     "output_type": "stream",
     "text": [
      " 69%|██████▉   | 933/1356 [01:43<00:37, 11.37it/s]"
     ]
    },
    {
     "name": "stdout",
     "output_type": "stream",
     "text": [
      "Processed ../misc/audio_fe/mfcc/tt0103939_mfcc.png with feature shape: (768,)\n",
      "Processed ../misc/audio_fe/mfcc/tt0472198_mfcc.png with feature shape: (768,)\n",
      "Processed ../misc/audio_fe/mfcc/tt0111732_mfcc.png with feature shape: (768,)\n"
     ]
    },
    {
     "name": "stderr",
     "output_type": "stream",
     "text": [
      " 69%|██████▉   | 937/1356 [01:43<00:35, 11.73it/s]"
     ]
    },
    {
     "name": "stdout",
     "output_type": "stream",
     "text": [
      "Processed ../misc/audio_fe/mfcc/tt0443453_mfcc.png with feature shape: (768,)\n",
      "Processed ../misc/audio_fe/mfcc/tt0405336_mfcc.png with feature shape: (768,)\n",
      "Processed ../misc/audio_fe/mfcc/tt0311648_mfcc.png with feature shape: (768,)\n"
     ]
    },
    {
     "name": "stderr",
     "output_type": "stream",
     "text": [
      " 69%|██████▉   | 939/1356 [01:43<00:34, 11.96it/s]"
     ]
    },
    {
     "name": "stdout",
     "output_type": "stream",
     "text": [
      "Processed ../misc/audio_fe/mfcc/tt0808510_mfcc.png with feature shape: (768,)\n",
      "Processed ../misc/audio_fe/mfcc/tt0266489_mfcc.png with feature shape: (768,)\n",
      "Processed ../misc/audio_fe/mfcc/tt4008652_mfcc.png with feature shape: (768,)\n"
     ]
    },
    {
     "name": "stderr",
     "output_type": "stream",
     "text": [
      " 70%|██████▉   | 943/1356 [01:44<00:33, 12.25it/s]"
     ]
    },
    {
     "name": "stdout",
     "output_type": "stream",
     "text": [
      "Processed ../misc/audio_fe/mfcc/tt0199626_mfcc.png with feature shape: (768,)\n",
      "Processed ../misc/audio_fe/mfcc/tt5883570_mfcc.png with feature shape: (768,)\n",
      "Processed ../misc/audio_fe/mfcc/tt0951216_mfcc.png with feature shape: (768,)\n"
     ]
    },
    {
     "name": "stderr",
     "output_type": "stream",
     "text": [
      " 70%|██████▉   | 945/1356 [01:44<00:34, 11.96it/s]"
     ]
    },
    {
     "name": "stdout",
     "output_type": "stream",
     "text": [
      "Processed ../misc/audio_fe/mfcc/tt1032755_mfcc.png with feature shape: (768,)\n",
      "Processed ../misc/audio_fe/mfcc/tt0376108_mfcc.png with feature shape: (768,)\n",
      "Processed ../misc/audio_fe/mfcc/tt0443489_mfcc.png with feature shape: (768,)\n"
     ]
    },
    {
     "name": "stderr",
     "output_type": "stream",
     "text": [
      " 70%|██████▉   | 949/1356 [01:44<00:32, 12.36it/s]"
     ]
    },
    {
     "name": "stdout",
     "output_type": "stream",
     "text": [
      "Processed ../misc/audio_fe/mfcc/tt0787474_mfcc.png with feature shape: (768,)\n",
      "Processed ../misc/audio_fe/mfcc/tt2531344_mfcc.png with feature shape: (768,)\n",
      "Processed ../misc/audio_fe/mfcc/tt1780762_mfcc.png with feature shape: (768,)\n"
     ]
    },
    {
     "name": "stderr",
     "output_type": "stream",
     "text": [
      " 70%|███████   | 951/1356 [01:44<00:36, 11.04it/s]"
     ]
    },
    {
     "name": "stdout",
     "output_type": "stream",
     "text": [
      "Processed ../misc/audio_fe/mfcc/tt0094663_mfcc.png with feature shape: (768,)\n",
      "Processed ../misc/audio_fe/mfcc/tt0279778_mfcc.png with feature shape: (768,)\n"
     ]
    },
    {
     "name": "stderr",
     "output_type": "stream",
     "text": [
      " 70%|███████   | 953/1356 [01:45<00:34, 11.64it/s]"
     ]
    },
    {
     "name": "stdout",
     "output_type": "stream",
     "text": [
      "Processed ../misc/audio_fe/mfcc/tt0475276_mfcc.png with feature shape: (768,)\n",
      "Processed ../misc/audio_fe/mfcc/tt0814314_mfcc.png with feature shape: (768,)\n",
      "Processed ../misc/audio_fe/mfcc/tt0300532_mfcc.png with feature shape: (768,)\n"
     ]
    },
    {
     "name": "stderr",
     "output_type": "stream",
     "text": [
      " 71%|███████   | 957/1356 [01:45<00:35, 11.24it/s]"
     ]
    },
    {
     "name": "stdout",
     "output_type": "stream",
     "text": [
      "Processed ../misc/audio_fe/mfcc/tt1878870_mfcc.png with feature shape: (768,)\n",
      "Processed ../misc/audio_fe/mfcc/tt1911658_mfcc.png with feature shape: (768,)\n",
      "Processed ../misc/audio_fe/mfcc/tt0120912_mfcc.png with feature shape: (768,)\n"
     ]
    },
    {
     "name": "stderr",
     "output_type": "stream",
     "text": [
      " 71%|███████   | 959/1356 [01:45<00:33, 11.73it/s]"
     ]
    },
    {
     "name": "stdout",
     "output_type": "stream",
     "text": [
      "Processed ../misc/audio_fe/mfcc/tt0120913_mfcc.png with feature shape: (768,)\n",
      "Processed ../misc/audio_fe/mfcc/tt0424823_mfcc.png with feature shape: (768,)\n",
      "Processed ../misc/audio_fe/mfcc/tt0770806_mfcc.png with feature shape: (768,)\n"
     ]
    },
    {
     "name": "stderr",
     "output_type": "stream",
     "text": [
      " 71%|███████   | 963/1356 [01:45<00:32, 12.24it/s]"
     ]
    },
    {
     "name": "stdout",
     "output_type": "stream",
     "text": [
      "Processed ../misc/audio_fe/mfcc/tt1798603_mfcc.png with feature shape: (768,)\n",
      "Processed ../misc/audio_fe/mfcc/tt0361411_mfcc.png with feature shape: (768,)\n",
      "Processed ../misc/audio_fe/mfcc/tt0219400_mfcc.png with feature shape: (768,)\n"
     ]
    },
    {
     "name": "stderr",
     "output_type": "stream",
     "text": [
      " 71%|███████   | 965/1356 [01:46<00:31, 12.29it/s]"
     ]
    },
    {
     "name": "stdout",
     "output_type": "stream",
     "text": [
      "Processed ../misc/audio_fe/mfcc/tt1986953_mfcc.png with feature shape: (768,)\n",
      "Processed ../misc/audio_fe/mfcc/tt0375912_mfcc.png with feature shape: (768,)\n",
      "Processed ../misc/audio_fe/mfcc/tt0117496_mfcc.png with feature shape: (768,)\n"
     ]
    },
    {
     "name": "stderr",
     "output_type": "stream",
     "text": [
      " 71%|███████▏  | 968/1356 [01:46<00:49,  7.79it/s]"
     ]
    },
    {
     "name": "stdout",
     "output_type": "stream",
     "text": [
      "Processed ../misc/audio_fe/mfcc/tt1045670_mfcc.png with feature shape: (768,)\n",
      "Processed ../misc/audio_fe/mfcc/tt0208092_mfcc.png with feature shape: (768,)\n"
     ]
    },
    {
     "name": "stderr",
     "output_type": "stream",
     "text": [
      " 72%|███████▏  | 970/1356 [01:46<00:46,  8.35it/s]"
     ]
    },
    {
     "name": "stdout",
     "output_type": "stream",
     "text": [
      "Processed ../misc/audio_fe/mfcc/tt0244970_mfcc.png with feature shape: (768,)\n",
      "Processed ../misc/audio_fe/mfcc/tt1150947_mfcc.png with feature shape: (768,)\n"
     ]
    },
    {
     "name": "stderr",
     "output_type": "stream",
     "text": [
      " 72%|███████▏  | 972/1356 [01:47<00:51,  7.47it/s]"
     ]
    },
    {
     "name": "stdout",
     "output_type": "stream",
     "text": [
      "Processed ../misc/audio_fe/mfcc/tt0120609_mfcc.png with feature shape: (768,)\n",
      "Processed ../misc/audio_fe/mfcc/tt1618421_mfcc.png with feature shape: (768,)\n"
     ]
    },
    {
     "name": "stderr",
     "output_type": "stream",
     "text": [
      " 72%|███████▏  | 974/1356 [01:47<01:00,  6.36it/s]"
     ]
    },
    {
     "name": "stdout",
     "output_type": "stream",
     "text": [
      "Processed ../misc/audio_fe/mfcc/tt0099005_mfcc.png with feature shape: (768,)\n",
      "Processed ../misc/audio_fe/mfcc/tt1024724_mfcc.png with feature shape: (768,)\n",
      "Processed ../misc/audio_fe/mfcc/tt0322589_mfcc.png with feature shape: (768,)\n"
     ]
    },
    {
     "name": "stderr",
     "output_type": "stream",
     "text": [
      " 72%|███████▏  | 977/1356 [01:48<00:53,  7.09it/s]"
     ]
    },
    {
     "name": "stdout",
     "output_type": "stream",
     "text": [
      "Processed ../misc/audio_fe/mfcc/tt1049400_mfcc.png with feature shape: (768,)\n",
      "Processed ../misc/audio_fe/mfcc/tt0345074_mfcc.png with feature shape: (768,)\n"
     ]
    },
    {
     "name": "stderr",
     "output_type": "stream",
     "text": [
      " 72%|███████▏  | 979/1356 [01:48<00:54,  6.86it/s]"
     ]
    },
    {
     "name": "stdout",
     "output_type": "stream",
     "text": [
      "Processed ../misc/audio_fe/mfcc/tt0117011_mfcc.png with feature shape: (768,)\n",
      "Processed ../misc/audio_fe/mfcc/tt0976222_mfcc.png with feature shape: (768,)\n"
     ]
    },
    {
     "name": "stderr",
     "output_type": "stream",
     "text": [
      " 72%|███████▏  | 981/1356 [01:48<00:46,  8.12it/s]"
     ]
    },
    {
     "name": "stdout",
     "output_type": "stream",
     "text": [
      "Processed ../misc/audio_fe/mfcc/tt0076245_mfcc.png with feature shape: (768,)\n",
      "Processed ../misc/audio_fe/mfcc/tt0482599_mfcc.png with feature shape: (768,)\n"
     ]
    },
    {
     "name": "stderr",
     "output_type": "stream",
     "text": [
      " 72%|███████▏  | 983/1356 [01:48<00:50,  7.35it/s]"
     ]
    },
    {
     "name": "stdout",
     "output_type": "stream",
     "text": [
      "Processed ../misc/audio_fe/mfcc/tt0087469_mfcc.png with feature shape: (768,)\n",
      "Processed ../misc/audio_fe/mfcc/tt0180093_mfcc.png with feature shape: (768,)\n"
     ]
    },
    {
     "name": "stderr",
     "output_type": "stream",
     "text": [
      " 73%|███████▎  | 985/1356 [01:49<00:43,  8.44it/s]"
     ]
    },
    {
     "name": "stdout",
     "output_type": "stream",
     "text": [
      "Processed ../misc/audio_fe/mfcc/tt0310357_mfcc.png with feature shape: (768,)\n",
      "Processed ../misc/audio_fe/mfcc/tt0233469_mfcc.png with feature shape: (768,)\n"
     ]
    },
    {
     "name": "stderr",
     "output_type": "stream",
     "text": [
      " 73%|███████▎  | 987/1356 [01:49<00:41,  8.89it/s]"
     ]
    },
    {
     "name": "stdout",
     "output_type": "stream",
     "text": [
      "Processed ../misc/audio_fe/mfcc/tt0263757_mfcc.png with feature shape: (768,)\n",
      "Processed ../misc/audio_fe/mfcc/tt0375104_mfcc.png with feature shape: (768,)\n",
      "Processed ../misc/audio_fe/mfcc/tt4653950_mfcc.png with feature shape: (768,)\n"
     ]
    },
    {
     "name": "stderr",
     "output_type": "stream",
     "text": [
      " 73%|███████▎  | 991/1356 [01:49<00:32, 11.25it/s]"
     ]
    },
    {
     "name": "stdout",
     "output_type": "stream",
     "text": [
      "Processed ../misc/audio_fe/mfcc/tt4738776_mfcc.png with feature shape: (768,)\n",
      "Processed ../misc/audio_fe/mfcc/tt7545566_mfcc.png with feature shape: (768,)\n",
      "Processed ../misc/audio_fe/mfcc/tt0377091_mfcc.png with feature shape: (768,)\n"
     ]
    },
    {
     "name": "stderr",
     "output_type": "stream",
     "text": [
      " 73%|███████▎  | 993/1356 [01:49<00:33, 10.91it/s]"
     ]
    },
    {
     "name": "stdout",
     "output_type": "stream",
     "text": [
      "Processed ../misc/audio_fe/mfcc/tt0360130_mfcc.png with feature shape: (768,)\n",
      "Processed ../misc/audio_fe/mfcc/tt10740584_mfcc.png with feature shape: (768,)\n",
      "Processed ../misc/audio_fe/mfcc/tt0364751_mfcc.png with feature shape: (768,)\n"
     ]
    },
    {
     "name": "stderr",
     "output_type": "stream",
     "text": [
      " 73%|███████▎  | 996/1356 [01:50<00:52,  6.91it/s]"
     ]
    },
    {
     "name": "stdout",
     "output_type": "stream",
     "text": [
      "Processed ../misc/audio_fe/mfcc/tt3136168_mfcc.png with feature shape: (768,)\n",
      "Processed ../misc/audio_fe/mfcc/tt0280870_mfcc.png with feature shape: (768,)\n"
     ]
    },
    {
     "name": "stderr",
     "output_type": "stream",
     "text": [
      " 74%|███████▎  | 998/1356 [01:50<00:50,  7.11it/s]"
     ]
    },
    {
     "name": "stdout",
     "output_type": "stream",
     "text": [
      "Processed ../misc/audio_fe/mfcc/tt0065225_mfcc.png with feature shape: (768,)\n",
      "Processed ../misc/audio_fe/mfcc/tt1754811_mfcc.png with feature shape: (768,)\n",
      "Processed ../misc/audio_fe/mfcc/tt0159365_mfcc.png with feature shape: (768,)\n"
     ]
    },
    {
     "name": "stderr",
     "output_type": "stream",
     "text": [
      " 74%|███████▍  | 1002/1356 [01:51<00:39,  9.03it/s]"
     ]
    },
    {
     "name": "stdout",
     "output_type": "stream",
     "text": [
      "Processed ../misc/audio_fe/mfcc/tt0105323_mfcc.png with feature shape: (768,)\n",
      "Processed ../misc/audio_fe/mfcc/tt0433416_mfcc.png with feature shape: (768,)\n",
      "Processed ../misc/audio_fe/mfcc/tt3882074_mfcc.png with feature shape: (768,)\n"
     ]
    },
    {
     "name": "stderr",
     "output_type": "stream",
     "text": [
      " 74%|███████▍  | 1004/1356 [01:51<00:35,  9.85it/s]"
     ]
    },
    {
     "name": "stdout",
     "output_type": "stream",
     "text": [
      "Processed ../misc/audio_fe/mfcc/tt1549920_mfcc.png with feature shape: (768,)\n",
      "Processed ../misc/audio_fe/mfcc/tt1392197_mfcc.png with feature shape: (768,)\n"
     ]
    },
    {
     "name": "stderr",
     "output_type": "stream",
     "text": [
      " 74%|███████▍  | 1006/1356 [01:51<00:39,  8.97it/s]"
     ]
    },
    {
     "name": "stdout",
     "output_type": "stream",
     "text": [
      "Processed ../misc/audio_fe/mfcc/tt0382810_mfcc.png with feature shape: (768,)\n",
      "Processed ../misc/audio_fe/mfcc/tt0146882_mfcc.png with feature shape: (768,)\n"
     ]
    },
    {
     "name": "stderr",
     "output_type": "stream",
     "text": [
      " 74%|███████▍  | 1008/1356 [01:51<00:47,  7.34it/s]"
     ]
    },
    {
     "name": "stdout",
     "output_type": "stream",
     "text": [
      "Processed ../misc/audio_fe/mfcc/tt1860353_mfcc.png with feature shape: (768,)\n",
      "Processed ../misc/audio_fe/mfcc/tt1596346_mfcc.png with feature shape: (768,)\n"
     ]
    },
    {
     "name": "stderr",
     "output_type": "stream",
     "text": [
      " 74%|███████▍  | 1010/1356 [01:52<00:45,  7.55it/s]"
     ]
    },
    {
     "name": "stdout",
     "output_type": "stream",
     "text": [
      "Processed ../misc/audio_fe/mfcc/tt1666185_mfcc.png with feature shape: (768,)\n",
      "Processed ../misc/audio_fe/mfcc/tt0257360_mfcc.png with feature shape: (768,)\n"
     ]
    },
    {
     "name": "stderr",
     "output_type": "stream",
     "text": [
      " 75%|███████▍  | 1012/1356 [01:52<00:38,  8.95it/s]"
     ]
    },
    {
     "name": "stdout",
     "output_type": "stream",
     "text": [
      "Processed ../misc/audio_fe/mfcc/tt1411250_mfcc.png with feature shape: (768,)\n",
      "Processed ../misc/audio_fe/mfcc/tt0200550_mfcc.png with feature shape: (768,)\n",
      "Processed ../misc/audio_fe/mfcc/tt0105483_mfcc.png with feature shape: (768,)\n"
     ]
    },
    {
     "name": "stderr",
     "output_type": "stream",
     "text": [
      " 75%|███████▍  | 1016/1356 [01:52<00:34,  9.94it/s]"
     ]
    },
    {
     "name": "stdout",
     "output_type": "stream",
     "text": [
      "Processed ../misc/audio_fe/mfcc/tt0416320_mfcc.png with feature shape: (768,)\n",
      "Processed ../misc/audio_fe/mfcc/tt0299981_mfcc.png with feature shape: (768,)\n",
      "Processed ../misc/audio_fe/mfcc/tt0340012_mfcc.png with feature shape: (768,)\n",
      "Processed ../misc/audio_fe/mfcc/tt0375920_mfcc.png with feature shape: (768,)\n"
     ]
    },
    {
     "name": "stderr",
     "output_type": "stream",
     "text": [
      " 75%|███████▌  | 1020/1356 [01:53<00:36,  9.16it/s]"
     ]
    },
    {
     "name": "stdout",
     "output_type": "stream",
     "text": [
      "Processed ../misc/audio_fe/mfcc/tt0209958_mfcc.png with feature shape: (768,)\n",
      "Processed ../misc/audio_fe/mfcc/tt0228750_mfcc.png with feature shape: (768,)\n",
      "Processed ../misc/audio_fe/mfcc/tt0839980_mfcc.png with feature shape: (768,)\n",
      "Processed ../misc/audio_fe/mfcc/tt0190374_mfcc.png with feature shape: (768,)\n"
     ]
    },
    {
     "name": "stderr",
     "output_type": "stream",
     "text": [
      " 76%|███████▌  | 1024/1356 [01:53<00:29, 11.14it/s]"
     ]
    },
    {
     "name": "stdout",
     "output_type": "stream",
     "text": [
      "Processed ../misc/audio_fe/mfcc/tt2247476_mfcc.png with feature shape: (768,)\n",
      "Processed ../misc/audio_fe/mfcc/tt0473700_mfcc.png with feature shape: (768,)\n",
      "Processed ../misc/audio_fe/mfcc/tt0452598_mfcc.png with feature shape: (768,)\n"
     ]
    },
    {
     "name": "stderr",
     "output_type": "stream",
     "text": [
      " 76%|███████▌  | 1026/1356 [01:53<00:29, 11.30it/s]"
     ]
    },
    {
     "name": "stdout",
     "output_type": "stream",
     "text": [
      "Processed ../misc/audio_fe/mfcc/tt1860213_mfcc.png with feature shape: (768,)\n",
      "Processed ../misc/audio_fe/mfcc/tt1650554_mfcc.png with feature shape: (768,)\n",
      "Processed ../misc/audio_fe/mfcc/tt0333780_mfcc.png with feature shape: (768,)\n"
     ]
    },
    {
     "name": "stderr",
     "output_type": "stream",
     "text": [
      " 76%|███████▌  | 1030/1356 [01:53<00:27, 11.92it/s]"
     ]
    },
    {
     "name": "stdout",
     "output_type": "stream",
     "text": [
      "Processed ../misc/audio_fe/mfcc/tt7256866_mfcc.png with feature shape: (768,)\n",
      "Processed ../misc/audio_fe/mfcc/tt1664894_mfcc.png with feature shape: (768,)\n",
      "Processed ../misc/audio_fe/mfcc/tt2179116_mfcc.png with feature shape: (768,)\n"
     ]
    },
    {
     "name": "stderr",
     "output_type": "stream",
     "text": [
      " 76%|███████▋  | 1034/1356 [01:54<00:24, 13.23it/s]"
     ]
    },
    {
     "name": "stdout",
     "output_type": "stream",
     "text": [
      "Processed ../misc/audio_fe/mfcc/tt1103984_mfcc.png with feature shape: (768,)\n",
      "Processed ../misc/audio_fe/mfcc/tt0249462_mfcc.png with feature shape: (768,)\n",
      "Processed ../misc/audio_fe/mfcc/tt0409043_mfcc.png with feature shape: (768,)\n",
      "Processed ../misc/audio_fe/mfcc/tt1222698_mfcc.png with feature shape: (768,)\n"
     ]
    },
    {
     "name": "stderr",
     "output_type": "stream",
     "text": [
      " 77%|███████▋  | 1038/1356 [01:54<00:22, 14.37it/s]"
     ]
    },
    {
     "name": "stdout",
     "output_type": "stream",
     "text": [
      "Processed ../misc/audio_fe/mfcc/tt1015474_mfcc.png with feature shape: (768,)\n",
      "Processed ../misc/audio_fe/mfcc/tt0172156_mfcc.png with feature shape: (768,)\n",
      "Processed ../misc/audio_fe/mfcc/tt0381707_mfcc.png with feature shape: (768,)\n",
      "Processed ../misc/audio_fe/mfcc/tt5463162_mfcc.png with feature shape: (768,)\n"
     ]
    },
    {
     "name": "stderr",
     "output_type": "stream",
     "text": [
      " 77%|███████▋  | 1042/1356 [01:54<00:20, 15.02it/s]"
     ]
    },
    {
     "name": "stdout",
     "output_type": "stream",
     "text": [
      "Processed ../misc/audio_fe/mfcc/tt0396171_mfcc.png with feature shape: (768,)\n",
      "Processed ../misc/audio_fe/mfcc/tt1198138_mfcc.png with feature shape: (768,)\n",
      "Processed ../misc/audio_fe/mfcc/tt0307453_mfcc.png with feature shape: (768,)\n",
      "Processed ../misc/audio_fe/mfcc/tt0893356_mfcc.png with feature shape: (768,)\n"
     ]
    },
    {
     "name": "stderr",
     "output_type": "stream",
     "text": [
      " 77%|███████▋  | 1046/1356 [01:54<00:20, 15.18it/s]"
     ]
    },
    {
     "name": "stdout",
     "output_type": "stream",
     "text": [
      "Processed ../misc/audio_fe/mfcc/tt0926110_mfcc.png with feature shape: (768,)\n",
      "Processed ../misc/audio_fe/mfcc/tt0799934_mfcc.png with feature shape: (768,)\n",
      "Processed ../misc/audio_fe/mfcc/tt1646926_mfcc.png with feature shape: (768,)\n",
      "Processed ../misc/audio_fe/mfcc/tt0175526_mfcc.png with feature shape: (768,)\n"
     ]
    },
    {
     "name": "stderr",
     "output_type": "stream",
     "text": [
      " 77%|███████▋  | 1050/1356 [01:55<00:20, 15.29it/s]"
     ]
    },
    {
     "name": "stdout",
     "output_type": "stream",
     "text": [
      "Processed ../misc/audio_fe/mfcc/tt2645164_mfcc.png with feature shape: (768,)\n",
      "Processed ../misc/audio_fe/mfcc/tt0379725_mfcc.png with feature shape: (768,)\n",
      "Processed ../misc/audio_fe/mfcc/tt1178640_mfcc.png with feature shape: (768,)\n",
      "Processed ../misc/audio_fe/mfcc/tt0397044_mfcc.png with feature shape: (768,)\n"
     ]
    },
    {
     "name": "stderr",
     "output_type": "stream",
     "text": [
      " 78%|███████▊  | 1052/1356 [01:55<00:21, 14.43it/s]"
     ]
    },
    {
     "name": "stdout",
     "output_type": "stream",
     "text": [
      "Processed ../misc/audio_fe/mfcc/tt0842929_mfcc.png with feature shape: (768,)\n",
      "Processed ../misc/audio_fe/mfcc/tt0377107_mfcc.png with feature shape: (768,)\n",
      "Processed ../misc/audio_fe/mfcc/tt0118691_mfcc.png with feature shape: (768,)\n"
     ]
    },
    {
     "name": "stderr",
     "output_type": "stream",
     "text": [
      " 78%|███████▊  | 1056/1356 [01:55<00:22, 13.55it/s]"
     ]
    },
    {
     "name": "stdout",
     "output_type": "stream",
     "text": [
      "Processed ../misc/audio_fe/mfcc/tt0096438_mfcc.png with feature shape: (768,)\n",
      "Processed ../misc/audio_fe/mfcc/tt4437216_mfcc.png with feature shape: (768,)\n",
      "Processed ../misc/audio_fe/mfcc/tt0903627_mfcc.png with feature shape: (768,)\n"
     ]
    },
    {
     "name": "stderr",
     "output_type": "stream",
     "text": [
      " 78%|███████▊  | 1058/1356 [01:55<00:21, 13.58it/s]"
     ]
    },
    {
     "name": "stdout",
     "output_type": "stream",
     "text": [
      "Processed ../misc/audio_fe/mfcc/tt1602613_mfcc.png with feature shape: (768,)\n",
      "Processed ../misc/audio_fe/mfcc/tt0851530_mfcc.png with feature shape: (768,)\n",
      "Processed ../misc/audio_fe/mfcc/tt0109578_mfcc.png with feature shape: (768,)\n"
     ]
    },
    {
     "name": "stderr",
     "output_type": "stream",
     "text": [
      " 78%|███████▊  | 1062/1356 [01:56<00:20, 14.31it/s]"
     ]
    },
    {
     "name": "stdout",
     "output_type": "stream",
     "text": [
      "Processed ../misc/audio_fe/mfcc/tt0029546_mfcc.png with feature shape: (768,)\n",
      "Processed ../misc/audio_fe/mfcc/tt0479528_mfcc.png with feature shape: (768,)\n",
      "Processed ../misc/audio_fe/mfcc/tt0906108_mfcc.png with feature shape: (768,)\n",
      "Processed ../misc/audio_fe/mfcc/tt0118927_mfcc.png with feature shape: (768,)\n"
     ]
    },
    {
     "name": "stderr",
     "output_type": "stream",
     "text": [
      " 79%|███████▊  | 1066/1356 [01:56<00:19, 14.75it/s]"
     ]
    },
    {
     "name": "stdout",
     "output_type": "stream",
     "text": [
      "Processed ../misc/audio_fe/mfcc/tt0424095_mfcc.png with feature shape: (768,)\n",
      "Processed ../misc/audio_fe/mfcc/tt0210945_mfcc.png with feature shape: (768,)\n",
      "Processed ../misc/audio_fe/mfcc/tt1980209_mfcc.png with feature shape: (768,)\n",
      "Processed ../misc/audio_fe/mfcc/tt0408985_mfcc.png with feature shape: (768,)\n"
     ]
    },
    {
     "name": "stderr",
     "output_type": "stream",
     "text": [
      " 79%|███████▉  | 1070/1356 [01:56<00:19, 14.68it/s]"
     ]
    },
    {
     "name": "stdout",
     "output_type": "stream",
     "text": [
      "Processed ../misc/audio_fe/mfcc/tt3152624_mfcc.png with feature shape: (768,)\n",
      "Processed ../misc/audio_fe/mfcc/tt0437232_mfcc.png with feature shape: (768,)\n",
      "Processed ../misc/audio_fe/mfcc/tt1127221_mfcc.png with feature shape: (768,)\n"
     ]
    },
    {
     "name": "stderr",
     "output_type": "stream",
     "text": [
      " 79%|███████▉  | 1072/1356 [01:56<00:20, 13.67it/s]"
     ]
    },
    {
     "name": "stdout",
     "output_type": "stream",
     "text": [
      "Processed ../misc/audio_fe/mfcc/tt2213342_mfcc.png with feature shape: (768,)\n",
      "Processed ../misc/audio_fe/mfcc/tt1124388_mfcc.png with feature shape: (768,)\n",
      "Processed ../misc/audio_fe/mfcc/tt0422295_mfcc.png with feature shape: (768,)\n"
     ]
    },
    {
     "name": "stderr",
     "output_type": "stream",
     "text": [
      " 79%|███████▉  | 1076/1356 [01:57<00:21, 12.87it/s]"
     ]
    },
    {
     "name": "stdout",
     "output_type": "stream",
     "text": [
      "Processed ../misc/audio_fe/mfcc/tt1728979_mfcc.png with feature shape: (768,)\n",
      "Processed ../misc/audio_fe/mfcc/tt0236784_mfcc.png with feature shape: (768,)\n",
      "Processed ../misc/audio_fe/mfcc/tt0857265_mfcc.png with feature shape: (768,)\n"
     ]
    },
    {
     "name": "stderr",
     "output_type": "stream",
     "text": [
      " 79%|███████▉  | 1078/1356 [01:57<00:21, 12.66it/s]"
     ]
    },
    {
     "name": "stdout",
     "output_type": "stream",
     "text": [
      "Processed ../misc/audio_fe/mfcc/tt0181316_mfcc.png with feature shape: (768,)\n",
      "Processed ../misc/audio_fe/mfcc/tt0097722_mfcc.png with feature shape: (768,)\n",
      "Processed ../misc/audio_fe/mfcc/tt0109444_mfcc.png with feature shape: (768,)\n"
     ]
    },
    {
     "name": "stderr",
     "output_type": "stream",
     "text": [
      " 80%|███████▉  | 1080/1356 [01:57<00:26, 10.59it/s]"
     ]
    },
    {
     "name": "stdout",
     "output_type": "stream",
     "text": [
      "Processed ../misc/audio_fe/mfcc/tt0140397_mfcc.png with feature shape: (768,)\n",
      "Processed ../misc/audio_fe/mfcc/tt0479884_mfcc.png with feature shape: (768,)\n"
     ]
    },
    {
     "name": "stderr",
     "output_type": "stream",
     "text": [
      " 80%|███████▉  | 1084/1356 [01:57<00:25, 10.83it/s]"
     ]
    },
    {
     "name": "stdout",
     "output_type": "stream",
     "text": [
      "Processed ../misc/audio_fe/mfcc/tt0441007_mfcc.png with feature shape: (768,)\n",
      "Processed ../misc/audio_fe/mfcc/tt3289956_mfcc.png with feature shape: (768,)\n",
      "Processed ../misc/audio_fe/mfcc/tt0473464_mfcc.png with feature shape: (768,)\n"
     ]
    },
    {
     "name": "stderr",
     "output_type": "stream",
     "text": [
      " 80%|████████  | 1086/1356 [01:58<00:23, 11.66it/s]"
     ]
    },
    {
     "name": "stdout",
     "output_type": "stream",
     "text": [
      "Processed ../misc/audio_fe/mfcc/tt2802136_mfcc.png with feature shape: (768,)\n",
      "Processed ../misc/audio_fe/mfcc/tt1634003_mfcc.png with feature shape: (768,)\n",
      "Processed ../misc/audio_fe/mfcc/tt0120102_mfcc.png with feature shape: (768,)\n"
     ]
    },
    {
     "name": "stderr",
     "output_type": "stream",
     "text": [
      " 80%|████████  | 1090/1356 [01:58<00:21, 12.60it/s]"
     ]
    },
    {
     "name": "stdout",
     "output_type": "stream",
     "text": [
      "Processed ../misc/audio_fe/mfcc/tt0385056_mfcc.png with feature shape: (768,)\n",
      "Processed ../misc/audio_fe/mfcc/tt0340376_mfcc.png with feature shape: (768,)\n",
      "Processed ../misc/audio_fe/mfcc/tt0340377_mfcc.png with feature shape: (768,)\n"
     ]
    },
    {
     "name": "stderr",
     "output_type": "stream",
     "text": [
      " 81%|████████  | 1092/1356 [01:58<00:20, 12.79it/s]"
     ]
    },
    {
     "name": "stdout",
     "output_type": "stream",
     "text": [
      "Processed ../misc/audio_fe/mfcc/tt0273923_mfcc.png with feature shape: (768,)\n",
      "Processed ../misc/audio_fe/mfcc/tt1478338_mfcc.png with feature shape: (768,)\n",
      "Processed ../misc/audio_fe/mfcc/tt0188453_mfcc.png with feature shape: (768,)\n"
     ]
    },
    {
     "name": "stderr",
     "output_type": "stream",
     "text": [
      " 81%|████████  | 1096/1356 [01:58<00:19, 13.20it/s]"
     ]
    },
    {
     "name": "stdout",
     "output_type": "stream",
     "text": [
      "Processed ../misc/audio_fe/mfcc/tt1074929_mfcc.png with feature shape: (768,)\n",
      "Processed ../misc/audio_fe/mfcc/tt2005164_mfcc.png with feature shape: (768,)\n",
      "Processed ../misc/audio_fe/mfcc/tt0102593_mfcc.png with feature shape: (768,)\n"
     ]
    },
    {
     "name": "stderr",
     "output_type": "stream",
     "text": [
      " 81%|████████  | 1098/1356 [01:58<00:19, 12.90it/s]"
     ]
    },
    {
     "name": "stdout",
     "output_type": "stream",
     "text": [
      "Processed ../misc/audio_fe/mfcc/tt1104083_mfcc.png with feature shape: (768,)\n",
      "Processed ../misc/audio_fe/mfcc/tt0117060_mfcc.png with feature shape: (768,)\n",
      "Processed ../misc/audio_fe/mfcc/tt0082276_mfcc.png with feature shape: (768,)\n"
     ]
    },
    {
     "name": "stderr",
     "output_type": "stream",
     "text": [
      " 81%|████████▏ | 1102/1356 [01:59<00:21, 11.73it/s]"
     ]
    },
    {
     "name": "stdout",
     "output_type": "stream",
     "text": [
      "Processed ../misc/audio_fe/mfcc/tt0452592_mfcc.png with feature shape: (768,)\n",
      "Processed ../misc/audio_fe/mfcc/tt0328007_mfcc.png with feature shape: (768,)\n",
      "Processed ../misc/audio_fe/mfcc/tt0165831_mfcc.png with feature shape: (768,)\n"
     ]
    },
    {
     "name": "stderr",
     "output_type": "stream",
     "text": [
      " 81%|████████▏ | 1104/1356 [01:59<00:21, 11.96it/s]"
     ]
    },
    {
     "name": "stdout",
     "output_type": "stream",
     "text": [
      "Processed ../misc/audio_fe/mfcc/tt3829266_mfcc.png with feature shape: (768,)\n",
      "Processed ../misc/audio_fe/mfcc/tt0387059_mfcc.png with feature shape: (768,)\n",
      "Processed ../misc/audio_fe/mfcc/tt0252444_mfcc.png with feature shape: (768,)\n"
     ]
    },
    {
     "name": "stderr",
     "output_type": "stream",
     "text": [
      " 82%|████████▏ | 1108/1356 [01:59<00:20, 12.30it/s]"
     ]
    },
    {
     "name": "stdout",
     "output_type": "stream",
     "text": [
      "Processed ../misc/audio_fe/mfcc/tt1448755_mfcc.png with feature shape: (768,)\n",
      "Processed ../misc/audio_fe/mfcc/tt0356443_mfcc.png with feature shape: (768,)\n",
      "Processed ../misc/audio_fe/mfcc/tt0211181_mfcc.png with feature shape: (768,)\n"
     ]
    },
    {
     "name": "stderr",
     "output_type": "stream",
     "text": [
      " 82%|████████▏ | 1110/1356 [02:00<00:21, 11.48it/s]"
     ]
    },
    {
     "name": "stdout",
     "output_type": "stream",
     "text": [
      "Processed ../misc/audio_fe/mfcc/tt0477051_mfcc.png with feature shape: (768,)\n",
      "Processed ../misc/audio_fe/mfcc/tt0468492_mfcc.png with feature shape: (768,)\n",
      "Processed ../misc/audio_fe/mfcc/tt0403217_mfcc.png with feature shape: (768,)\n"
     ]
    },
    {
     "name": "stderr",
     "output_type": "stream",
     "text": [
      " 82%|████████▏ | 1114/1356 [02:00<00:21, 11.17it/s]"
     ]
    },
    {
     "name": "stdout",
     "output_type": "stream",
     "text": [
      "Processed ../misc/audio_fe/mfcc/tt0142342_mfcc.png with feature shape: (768,)\n",
      "Processed ../misc/audio_fe/mfcc/tt2318527_mfcc.png with feature shape: (768,)\n",
      "Processed ../misc/audio_fe/mfcc/tt1706620_mfcc.png with feature shape: (768,)\n"
     ]
    },
    {
     "name": "stderr",
     "output_type": "stream",
     "text": [
      " 82%|████████▏ | 1116/1356 [02:00<00:20, 11.47it/s]"
     ]
    },
    {
     "name": "stdout",
     "output_type": "stream",
     "text": [
      "Processed ../misc/audio_fe/mfcc/tt0240462_mfcc.png with feature shape: (768,)\n",
      "Processed ../misc/audio_fe/mfcc/tt0432289_mfcc.png with feature shape: (768,)\n",
      "Processed ../misc/audio_fe/mfcc/tt0283084_mfcc.png with feature shape: (768,)\n"
     ]
    },
    {
     "name": "stderr",
     "output_type": "stream",
     "text": [
      " 83%|████████▎ | 1120/1356 [02:00<00:18, 13.05it/s]"
     ]
    },
    {
     "name": "stdout",
     "output_type": "stream",
     "text": [
      "Processed ../misc/audio_fe/mfcc/tt0120915_mfcc.png with feature shape: (768,)\n",
      "Processed ../misc/audio_fe/mfcc/tt1213644_mfcc.png with feature shape: (768,)\n",
      "Processed ../misc/audio_fe/mfcc/tt0367153_mfcc.png with feature shape: (768,)\n",
      "Processed ../misc/audio_fe/mfcc/tt0107048_mfcc.png with feature shape: (768,)\n"
     ]
    },
    {
     "name": "stderr",
     "output_type": "stream",
     "text": [
      " 83%|████████▎ | 1124/1356 [02:01<00:16, 13.77it/s]"
     ]
    },
    {
     "name": "stdout",
     "output_type": "stream",
     "text": [
      "Processed ../misc/audio_fe/mfcc/tt2515086_mfcc.png with feature shape: (768,)\n",
      "Processed ../misc/audio_fe/mfcc/tt1650043_mfcc.png with feature shape: (768,)\n",
      "Processed ../misc/audio_fe/mfcc/tt0488085_mfcc.png with feature shape: (768,)\n"
     ]
    },
    {
     "name": "stderr",
     "output_type": "stream",
     "text": [
      " 83%|████████▎ | 1126/1356 [02:01<00:17, 12.78it/s]"
     ]
    },
    {
     "name": "stdout",
     "output_type": "stream",
     "text": [
      "Processed ../misc/audio_fe/mfcc/tt4731136_mfcc.png with feature shape: (768,)\n",
      "Processed ../misc/audio_fe/mfcc/tt5716848_mfcc.png with feature shape: (768,)\n"
     ]
    },
    {
     "name": "stderr",
     "output_type": "stream",
     "text": [
      " 83%|████████▎ | 1128/1356 [02:01<00:23,  9.87it/s]"
     ]
    },
    {
     "name": "stdout",
     "output_type": "stream",
     "text": [
      "Processed ../misc/audio_fe/mfcc/tt1587310_mfcc.png with feature shape: (768,)\n",
      "Processed ../misc/audio_fe/mfcc/tt2380564_mfcc.png with feature shape: (768,)\n",
      "Processed ../misc/audio_fe/mfcc/tt0117665_mfcc.png with feature shape: (768,)\n"
     ]
    },
    {
     "name": "stderr",
     "output_type": "stream",
     "text": [
      " 83%|████████▎ | 1132/1356 [02:01<00:21, 10.45it/s]"
     ]
    },
    {
     "name": "stdout",
     "output_type": "stream",
     "text": [
      "Processed ../misc/audio_fe/mfcc/tt1800246_mfcc.png with feature shape: (768,)\n",
      "Processed ../misc/audio_fe/mfcc/tt1082853_mfcc.png with feature shape: (768,)\n",
      "Processed ../misc/audio_fe/mfcc/tt0438315_mfcc.png with feature shape: (768,)\n"
     ]
    },
    {
     "name": "stderr",
     "output_type": "stream",
     "text": [
      " 84%|████████▎ | 1134/1356 [02:02<00:19, 11.21it/s]"
     ]
    },
    {
     "name": "stdout",
     "output_type": "stream",
     "text": [
      "Processed ../misc/audio_fe/mfcc/tt0096787_mfcc.png with feature shape: (768,)\n",
      "Processed ../misc/audio_fe/mfcc/tt0105698_mfcc.png with feature shape: (768,)\n"
     ]
    },
    {
     "name": "stderr",
     "output_type": "stream",
     "text": [
      " 84%|████████▍ | 1136/1356 [02:02<00:29,  7.56it/s]"
     ]
    },
    {
     "name": "stdout",
     "output_type": "stream",
     "text": [
      "Processed ../misc/audio_fe/mfcc/tt0338337_mfcc.png with feature shape: (768,)\n",
      "Processed ../misc/audio_fe/mfcc/tt1010048_mfcc.png with feature shape: (768,)\n",
      "Processed ../misc/audio_fe/mfcc/tt0077504_mfcc.png with feature shape: (768,)\n"
     ]
    },
    {
     "name": "stderr",
     "output_type": "stream",
     "text": [
      " 84%|████████▍ | 1140/1356 [02:02<00:21,  9.98it/s]"
     ]
    },
    {
     "name": "stdout",
     "output_type": "stream",
     "text": [
      "Processed ../misc/audio_fe/mfcc/tt0373024_mfcc.png with feature shape: (768,)\n",
      "Processed ../misc/audio_fe/mfcc/tt0218839_mfcc.png with feature shape: (768,)\n",
      "Processed ../misc/audio_fe/mfcc/tt0305224_mfcc.png with feature shape: (768,)\n"
     ]
    },
    {
     "name": "stderr",
     "output_type": "stream",
     "text": [
      " 84%|████████▍ | 1142/1356 [02:02<00:19, 10.74it/s]"
     ]
    },
    {
     "name": "stdout",
     "output_type": "stream",
     "text": [
      "Processed ../misc/audio_fe/mfcc/tt4438848_mfcc.png with feature shape: (768,)\n",
      "Processed ../misc/audio_fe/mfcc/tt0309593_mfcc.png with feature shape: (768,)\n",
      "Processed ../misc/audio_fe/mfcc/tt0455967_mfcc.png with feature shape: (768,)\n"
     ]
    },
    {
     "name": "stderr",
     "output_type": "stream",
     "text": [
      " 85%|████████▍ | 1146/1356 [02:03<00:18, 11.39it/s]"
     ]
    },
    {
     "name": "stdout",
     "output_type": "stream",
     "text": [
      "Processed ../misc/audio_fe/mfcc/tt1985966_mfcc.png with feature shape: (768,)\n",
      "Processed ../misc/audio_fe/mfcc/tt0460766_mfcc.png with feature shape: (768,)\n",
      "Processed ../misc/audio_fe/mfcc/tt0375679_mfcc.png with feature shape: (768,)\n"
     ]
    },
    {
     "name": "stderr",
     "output_type": "stream",
     "text": [
      " 85%|████████▍ | 1148/1356 [02:03<00:17, 11.74it/s]"
     ]
    },
    {
     "name": "stdout",
     "output_type": "stream",
     "text": [
      "Processed ../misc/audio_fe/mfcc/tt0204946_mfcc.png with feature shape: (768,)\n",
      "Processed ../misc/audio_fe/mfcc/tt0800003_mfcc.png with feature shape: (768,)\n",
      "Processed ../misc/audio_fe/mfcc/tt2101441_mfcc.png with feature shape: (768,)\n"
     ]
    },
    {
     "name": "stderr",
     "output_type": "stream",
     "text": [
      " 85%|████████▍ | 1152/1356 [02:03<00:17, 11.84it/s]"
     ]
    },
    {
     "name": "stdout",
     "output_type": "stream",
     "text": [
      "Processed ../misc/audio_fe/mfcc/tt0422783_mfcc.png with feature shape: (768,)\n",
      "Processed ../misc/audio_fe/mfcc/tt0881891_mfcc.png with feature shape: (768,)\n",
      "Processed ../misc/audio_fe/mfcc/tt0264464_mfcc.png with feature shape: (768,)\n"
     ]
    },
    {
     "name": "stderr",
     "output_type": "stream",
     "text": [
      " 85%|████████▌ | 1154/1356 [02:03<00:16, 12.04it/s]"
     ]
    },
    {
     "name": "stdout",
     "output_type": "stream",
     "text": [
      "Processed ../misc/audio_fe/mfcc/tt0120647_mfcc.png with feature shape: (768,)\n",
      "Processed ../misc/audio_fe/mfcc/tt0433383_mfcc.png with feature shape: (768,)\n",
      "Processed ../misc/audio_fe/mfcc/tt0173840_mfcc.png with feature shape: (768,)\n"
     ]
    },
    {
     "name": "stderr",
     "output_type": "stream",
     "text": [
      " 85%|████████▌ | 1158/1356 [02:04<00:15, 12.66it/s]"
     ]
    },
    {
     "name": "stdout",
     "output_type": "stream",
     "text": [
      "Processed ../misc/audio_fe/mfcc/tt0479968_mfcc.png with feature shape: (768,)\n",
      "Processed ../misc/audio_fe/mfcc/tt0116683_mfcc.png with feature shape: (768,)\n",
      "Processed ../misc/audio_fe/mfcc/tt0477348_mfcc.png with feature shape: (768,)\n"
     ]
    },
    {
     "name": "stderr",
     "output_type": "stream",
     "text": [
      " 86%|████████▌ | 1160/1356 [02:04<00:18, 10.85it/s]"
     ]
    },
    {
     "name": "stdout",
     "output_type": "stream",
     "text": [
      "Processed ../misc/audio_fe/mfcc/tt0127349_mfcc.png with feature shape: (768,)\n",
      "Processed ../misc/audio_fe/mfcc/tt0239986_mfcc.png with feature shape: (768,)\n"
     ]
    },
    {
     "name": "stderr",
     "output_type": "stream",
     "text": [
      " 86%|████████▌ | 1162/1356 [02:04<00:16, 11.53it/s]"
     ]
    },
    {
     "name": "stdout",
     "output_type": "stream",
     "text": [
      "Processed ../misc/audio_fe/mfcc/tt0488120_mfcc.png with feature shape: (768,)\n",
      "Processed ../misc/audio_fe/mfcc/tt0259711_mfcc.png with feature shape: (768,)\n",
      "Processed ../misc/audio_fe/mfcc/tt0457523_mfcc.png with feature shape: (768,)\n"
     ]
    },
    {
     "name": "stderr",
     "output_type": "stream",
     "text": [
      " 86%|████████▌ | 1166/1356 [02:04<00:15, 12.44it/s]"
     ]
    },
    {
     "name": "stdout",
     "output_type": "stream",
     "text": [
      "Processed ../misc/audio_fe/mfcc/tt0116477_mfcc.png with feature shape: (768,)\n",
      "Processed ../misc/audio_fe/mfcc/tt0841046_mfcc.png with feature shape: (768,)\n",
      "Processed ../misc/audio_fe/mfcc/tt0449851_mfcc.png with feature shape: (768,)\n"
     ]
    },
    {
     "name": "stderr",
     "output_type": "stream",
     "text": [
      " 86%|████████▋ | 1170/1356 [02:05<00:13, 13.71it/s]"
     ]
    },
    {
     "name": "stdout",
     "output_type": "stream",
     "text": [
      "Processed ../misc/audio_fe/mfcc/tt0454776_mfcc.png with feature shape: (768,)\n",
      "Processed ../misc/audio_fe/mfcc/tt0268126_mfcc.png with feature shape: (768,)\n",
      "Processed ../misc/audio_fe/mfcc/tt0109830_mfcc.png with feature shape: (768,)\n",
      "Processed ../misc/audio_fe/mfcc/tt0283877_mfcc.png with feature shape: (768,)\n"
     ]
    },
    {
     "name": "stderr",
     "output_type": "stream",
     "text": [
      " 87%|████████▋ | 1174/1356 [02:05<00:12, 14.53it/s]"
     ]
    },
    {
     "name": "stdout",
     "output_type": "stream",
     "text": [
      "Processed ../misc/audio_fe/mfcc/tt1182345_mfcc.png with feature shape: (768,)\n",
      "Processed ../misc/audio_fe/mfcc/tt3385398_mfcc.png with feature shape: (768,)\n",
      "Processed ../misc/audio_fe/mfcc/tt10876506_mfcc.png with feature shape: (768,)\n",
      "Processed ../misc/audio_fe/mfcc/tt0117420_mfcc.png with feature shape: (768,)\n"
     ]
    },
    {
     "name": "stderr",
     "output_type": "stream",
     "text": [
      " 87%|████████▋ | 1176/1356 [02:05<00:12, 14.42it/s]"
     ]
    },
    {
     "name": "stdout",
     "output_type": "stream",
     "text": [
      "Processed ../misc/audio_fe/mfcc/tt1741243_mfcc.png with feature shape: (768,)\n",
      "Processed ../misc/audio_fe/mfcc/tt1950135_mfcc.png with feature shape: (768,)\n",
      "Processed ../misc/audio_fe/mfcc/tt1699147_mfcc.png with feature shape: (768,)\n"
     ]
    },
    {
     "name": "stderr",
     "output_type": "stream",
     "text": [
      " 87%|████████▋ | 1178/1356 [02:05<00:13, 13.44it/s]"
     ]
    },
    {
     "name": "stdout",
     "output_type": "stream",
     "text": [
      "Processed ../misc/audio_fe/mfcc/tt1925435_mfcc.png with feature shape: (768,)\n",
      "Processed ../misc/audio_fe/mfcc/tt0338427_mfcc.png with feature shape: (768,)\n"
     ]
    },
    {
     "name": "stderr",
     "output_type": "stream",
     "text": [
      " 87%|████████▋ | 1182/1356 [02:06<00:26,  6.65it/s]"
     ]
    },
    {
     "name": "stdout",
     "output_type": "stream",
     "text": [
      "Processed ../misc/audio_fe/mfcc/tt0367959_mfcc.png with feature shape: (768,)\n",
      "Processed ../misc/audio_fe/mfcc/tt0273435_mfcc.png with feature shape: (768,)\n",
      "Processed ../misc/audio_fe/mfcc/tt0265208_mfcc.png with feature shape: (768,)\n",
      "Processed ../misc/audio_fe/mfcc/tt0079758_mfcc.png with feature shape: (768,)\n"
     ]
    },
    {
     "name": "stderr",
     "output_type": "stream",
     "text": [
      " 87%|████████▋ | 1186/1356 [02:07<00:19,  8.68it/s]"
     ]
    },
    {
     "name": "stdout",
     "output_type": "stream",
     "text": [
      "Processed ../misc/audio_fe/mfcc/tt1307989_mfcc.png with feature shape: (768,)\n",
      "Processed ../misc/audio_fe/mfcc/tt2002718_mfcc.png with feature shape: (768,)\n",
      "Processed ../misc/audio_fe/mfcc/tt1462769_mfcc.png with feature shape: (768,)\n"
     ]
    },
    {
     "name": "stderr",
     "output_type": "stream",
     "text": [
      " 88%|████████▊ | 1188/1356 [02:07<00:17,  9.54it/s]"
     ]
    },
    {
     "name": "stdout",
     "output_type": "stream",
     "text": [
      "Processed ../misc/audio_fe/mfcc/tt0281322_mfcc.png with feature shape: (768,)\n",
      "Processed ../misc/audio_fe/mfcc/tt0365957_mfcc.png with feature shape: (768,)\n"
     ]
    },
    {
     "name": "stderr",
     "output_type": "stream",
     "text": [
      " 88%|████████▊ | 1190/1356 [02:08<00:29,  5.61it/s]"
     ]
    },
    {
     "name": "stdout",
     "output_type": "stream",
     "text": [
      "Processed ../misc/audio_fe/mfcc/tt0364569_mfcc.png with feature shape: (768,)\n",
      "Processed ../misc/audio_fe/mfcc/tt0118663_mfcc.png with feature shape: (768,)\n",
      "Processed ../misc/audio_fe/mfcc/tt0109676_mfcc.png with feature shape: (768,)\n"
     ]
    },
    {
     "name": "stderr",
     "output_type": "stream",
     "text": [
      " 88%|████████▊ | 1194/1356 [02:08<00:19,  8.25it/s]"
     ]
    },
    {
     "name": "stdout",
     "output_type": "stream",
     "text": [
      "Processed ../misc/audio_fe/mfcc/tt3279176_mfcc.png with feature shape: (768,)\n",
      "Processed ../misc/audio_fe/mfcc/tt1296373_mfcc.png with feature shape: (768,)\n",
      "Processed ../misc/audio_fe/mfcc/tt1148204_mfcc.png with feature shape: (768,)\n",
      "Processed ../misc/audio_fe/mfcc/tt0762125_mfcc.png with feature shape: (768,)\n"
     ]
    },
    {
     "name": "stderr",
     "output_type": "stream",
     "text": [
      " 88%|████████▊ | 1198/1356 [02:08<00:15, 10.24it/s]"
     ]
    },
    {
     "name": "stdout",
     "output_type": "stream",
     "text": [
      "Processed ../misc/audio_fe/mfcc/tt1224366_mfcc.png with feature shape: (768,)\n",
      "Processed ../misc/audio_fe/mfcc/tt0087277_mfcc.png with feature shape: (768,)\n",
      "Processed ../misc/audio_fe/mfcc/tt0455805_mfcc.png with feature shape: (768,)\n"
     ]
    },
    {
     "name": "stderr",
     "output_type": "stream",
     "text": [
      " 88%|████████▊ | 1200/1356 [02:08<00:14, 10.80it/s]"
     ]
    },
    {
     "name": "stdout",
     "output_type": "stream",
     "text": [
      "Processed ../misc/audio_fe/mfcc/tt0247425_mfcc.png with feature shape: (768,)\n",
      "Processed ../misc/audio_fe/mfcc/tt4172430_mfcc.png with feature shape: (768,)\n",
      "Processed ../misc/audio_fe/mfcc/tt0422093_mfcc.png with feature shape: (768,)\n"
     ]
    },
    {
     "name": "stderr",
     "output_type": "stream",
     "text": [
      " 89%|████████▊ | 1203/1356 [02:09<00:23,  6.55it/s]"
     ]
    },
    {
     "name": "stdout",
     "output_type": "stream",
     "text": [
      "Processed ../misc/audio_fe/mfcc/tt1663333_mfcc.png with feature shape: (768,)\n",
      "Processed ../misc/audio_fe/mfcc/tt4062536_mfcc.png with feature shape: (768,)\n"
     ]
    },
    {
     "name": "stderr",
     "output_type": "stream",
     "text": [
      " 89%|████████▉ | 1206/1356 [02:10<00:23,  6.38it/s]"
     ]
    },
    {
     "name": "stdout",
     "output_type": "stream",
     "text": [
      "Processed ../misc/audio_fe/mfcc/tt0265349_mfcc.png with feature shape: (768,)\n",
      "Processed ../misc/audio_fe/mfcc/tt2332883_mfcc.png with feature shape: (768,)\n",
      "Processed ../misc/audio_fe/mfcc/tt0368658_mfcc.png with feature shape: (768,)\n"
     ]
    },
    {
     "name": "stderr",
     "output_type": "stream",
     "text": [
      " 89%|████████▉ | 1210/1356 [02:10<00:15,  9.52it/s]"
     ]
    },
    {
     "name": "stdout",
     "output_type": "stream",
     "text": [
      "Processed ../misc/audio_fe/mfcc/tt1959563_mfcc.png with feature shape: (768,)\n",
      "Processed ../misc/audio_fe/mfcc/tt1135487_mfcc.png with feature shape: (768,)\n",
      "Processed ../misc/audio_fe/mfcc/tt0416496_mfcc.png with feature shape: (768,)\n",
      "Processed ../misc/audio_fe/mfcc/tt0365885_mfcc.png with feature shape: (768,)\n"
     ]
    },
    {
     "name": "stderr",
     "output_type": "stream",
     "text": [
      " 89%|████████▉ | 1212/1356 [02:10<00:14, 10.28it/s]"
     ]
    },
    {
     "name": "stdout",
     "output_type": "stream",
     "text": [
      "Processed ../misc/audio_fe/mfcc/tt1502397_mfcc.png with feature shape: (768,)\n",
      "Processed ../misc/audio_fe/mfcc/tt1029241_mfcc.png with feature shape: (768,)\n",
      "Processed ../misc/audio_fe/mfcc/tt4799050_mfcc.png with feature shape: (768,)\n"
     ]
    },
    {
     "name": "stderr",
     "output_type": "stream",
     "text": [
      " 90%|████████▉ | 1216/1356 [02:10<00:13, 10.21it/s]"
     ]
    },
    {
     "name": "stdout",
     "output_type": "stream",
     "text": [
      "Processed ../misc/audio_fe/mfcc/tt2017020_mfcc.png with feature shape: (768,)\n",
      "Processed ../misc/audio_fe/mfcc/tt1266149_mfcc.png with feature shape: (768,)\n",
      "Processed ../misc/audio_fe/mfcc/tt6772804_mfcc.png with feature shape: (768,)\n"
     ]
    },
    {
     "name": "stderr",
     "output_type": "stream",
     "text": [
      " 90%|████████▉ | 1218/1356 [02:11<00:19,  7.20it/s]"
     ]
    },
    {
     "name": "stdout",
     "output_type": "stream",
     "text": [
      "Processed ../misc/audio_fe/mfcc/tt1601913_mfcc.png with feature shape: (768,)\n",
      "Processed ../misc/audio_fe/mfcc/tt0120347_mfcc.png with feature shape: (768,)\n",
      "Processed ../misc/audio_fe/mfcc/tt1067106_mfcc.png with feature shape: (768,)\n"
     ]
    },
    {
     "name": "stderr",
     "output_type": "stream",
     "text": [
      " 90%|█████████ | 1221/1356 [02:11<00:16,  8.18it/s]"
     ]
    },
    {
     "name": "stdout",
     "output_type": "stream",
     "text": [
      "Processed ../misc/audio_fe/mfcc/tt0042788_mfcc.png with feature shape: (768,)\n",
      "Processed ../misc/audio_fe/mfcc/tt0970179_mfcc.png with feature shape: (768,)\n"
     ]
    },
    {
     "name": "stderr",
     "output_type": "stream",
     "text": [
      " 90%|█████████ | 1223/1356 [02:12<00:20,  6.61it/s]"
     ]
    },
    {
     "name": "stdout",
     "output_type": "stream",
     "text": [
      "Processed ../misc/audio_fe/mfcc/tt1012804_mfcc.png with feature shape: (768,)\n",
      "Processed ../misc/audio_fe/mfcc/tt0107711_mfcc.png with feature shape: (768,)\n"
     ]
    },
    {
     "name": "stderr",
     "output_type": "stream",
     "text": [
      " 90%|█████████ | 1224/1356 [02:12<00:19,  6.72it/s]"
     ]
    },
    {
     "name": "stdout",
     "output_type": "stream",
     "text": [
      "Processed ../misc/audio_fe/mfcc/tt1034303_mfcc.png with feature shape: (768,)\n"
     ]
    },
    {
     "name": "stderr",
     "output_type": "stream",
     "text": [
      " 90%|█████████ | 1226/1356 [02:12<00:27,  4.77it/s]"
     ]
    },
    {
     "name": "stdout",
     "output_type": "stream",
     "text": [
      "Processed ../misc/audio_fe/mfcc/tt2504022_mfcc.png with feature shape: (768,)\n",
      "Processed ../misc/audio_fe/mfcc/tt0026129_mfcc.png with feature shape: (768,)\n"
     ]
    },
    {
     "name": "stderr",
     "output_type": "stream",
     "text": [
      " 91%|█████████ | 1229/1356 [02:13<00:17,  7.22it/s]"
     ]
    },
    {
     "name": "stdout",
     "output_type": "stream",
     "text": [
      "Processed ../misc/audio_fe/mfcc/tt0892769_mfcc.png with feature shape: (768,)\n",
      "Processed ../misc/audio_fe/mfcc/tt0374536_mfcc.png with feature shape: (768,)\n",
      "Processed ../misc/audio_fe/mfcc/tt1823664_mfcc.png with feature shape: (768,)\n"
     ]
    },
    {
     "name": "stderr",
     "output_type": "stream",
     "text": [
      " 91%|█████████ | 1231/1356 [02:13<00:18,  6.65it/s]"
     ]
    },
    {
     "name": "stdout",
     "output_type": "stream",
     "text": [
      "Processed ../misc/audio_fe/mfcc/tt7947150_mfcc.png with feature shape: (768,)\n",
      "Processed ../misc/audio_fe/mfcc/tt0116928_mfcc.png with feature shape: (768,)\n"
     ]
    },
    {
     "name": "stderr",
     "output_type": "stream",
     "text": [
      " 91%|█████████ | 1233/1356 [02:13<00:17,  6.95it/s]"
     ]
    },
    {
     "name": "stdout",
     "output_type": "stream",
     "text": [
      "Processed ../misc/audio_fe/mfcc/tt0804522_mfcc.png with feature shape: (768,)\n",
      "Processed ../misc/audio_fe/mfcc/tt0490204_mfcc.png with feature shape: (768,)\n"
     ]
    },
    {
     "name": "stderr",
     "output_type": "stream",
     "text": [
      " 91%|█████████ | 1235/1356 [02:14<00:18,  6.53it/s]"
     ]
    },
    {
     "name": "stdout",
     "output_type": "stream",
     "text": [
      "Processed ../misc/audio_fe/mfcc/tt0169547_mfcc.png with feature shape: (768,)\n",
      "Processed ../misc/audio_fe/mfcc/tt0467406_mfcc.png with feature shape: (768,)\n"
     ]
    },
    {
     "name": "stderr",
     "output_type": "stream",
     "text": [
      " 91%|█████████ | 1237/1356 [02:14<00:16,  7.11it/s]"
     ]
    },
    {
     "name": "stdout",
     "output_type": "stream",
     "text": [
      "Processed ../misc/audio_fe/mfcc/tt0031507_mfcc.png with feature shape: (768,)\n",
      "Processed ../misc/audio_fe/mfcc/tt0295701_mfcc.png with feature shape: (768,)\n",
      "Processed ../misc/audio_fe/mfcc/tt1082807_mfcc.png with feature shape: (768,)\n"
     ]
    },
    {
     "name": "stderr",
     "output_type": "stream",
     "text": [
      " 91%|█████████▏| 1240/1356 [02:14<00:13,  8.70it/s]"
     ]
    },
    {
     "name": "stdout",
     "output_type": "stream",
     "text": [
      "Processed ../misc/audio_fe/mfcc/tt2193418_mfcc.png with feature shape: (768,)\n",
      "Processed ../misc/audio_fe/mfcc/tt0295700_mfcc.png with feature shape: (768,)\n",
      "Processed ../misc/audio_fe/mfcc/tt0366777_mfcc.png with feature shape: (768,)\n"
     ]
    },
    {
     "name": "stderr",
     "output_type": "stream",
     "text": [
      " 92%|█████████▏| 1242/1356 [02:14<00:11, 10.16it/s]"
     ]
    },
    {
     "name": "stdout",
     "output_type": "stream",
     "text": [
      "Processed ../misc/audio_fe/mfcc/tt0432402_mfcc.png with feature shape: (768,)\n",
      "Processed ../misc/audio_fe/mfcc/tt0338450_mfcc.png with feature shape: (768,)\n"
     ]
    },
    {
     "name": "stderr",
     "output_type": "stream",
     "text": [
      " 92%|█████████▏| 1246/1356 [02:15<00:11,  9.56it/s]"
     ]
    },
    {
     "name": "stdout",
     "output_type": "stream",
     "text": [
      "Processed ../misc/audio_fe/mfcc/tt3264102_mfcc.png with feature shape: (768,)\n",
      "Processed ../misc/audio_fe/mfcc/tt0337876_mfcc.png with feature shape: (768,)\n",
      "Processed ../misc/audio_fe/mfcc/tt8151874_mfcc.png with feature shape: (768,)\n",
      "Processed ../misc/audio_fe/mfcc/tt0289889_mfcc.png with feature shape: (768,)\n"
     ]
    },
    {
     "name": "stderr",
     "output_type": "stream",
     "text": [
      " 92%|█████████▏| 1249/1356 [02:15<00:12,  8.36it/s]"
     ]
    },
    {
     "name": "stdout",
     "output_type": "stream",
     "text": [
      "Processed ../misc/audio_fe/mfcc/tt0319061_mfcc.png with feature shape: (768,)\n",
      "Processed ../misc/audio_fe/mfcc/tt0906665_mfcc.png with feature shape: (768,)\n"
     ]
    },
    {
     "name": "stderr",
     "output_type": "stream",
     "text": [
      " 92%|█████████▏| 1251/1356 [02:15<00:12,  8.43it/s]"
     ]
    },
    {
     "name": "stdout",
     "output_type": "stream",
     "text": [
      "Processed ../misc/audio_fe/mfcc/tt0113537_mfcc.png with feature shape: (768,)\n",
      "Processed ../misc/audio_fe/mfcc/tt4938374_mfcc.png with feature shape: (768,)\n"
     ]
    },
    {
     "name": "stderr",
     "output_type": "stream",
     "text": [
      " 92%|█████████▏| 1254/1356 [02:16<00:12,  8.27it/s]"
     ]
    },
    {
     "name": "stdout",
     "output_type": "stream",
     "text": [
      "Processed ../misc/audio_fe/mfcc/tt0120753_mfcc.png with feature shape: (768,)\n",
      "Processed ../misc/audio_fe/mfcc/tt0328538_mfcc.png with feature shape: (768,)\n",
      "Processed ../misc/audio_fe/mfcc/tt0370986_mfcc.png with feature shape: (768,)\n"
     ]
    },
    {
     "name": "stderr",
     "output_type": "stream",
     "text": [
      " 93%|█████████▎| 1255/1356 [02:16<00:13,  7.63it/s]"
     ]
    },
    {
     "name": "stdout",
     "output_type": "stream",
     "text": [
      "Processed ../misc/audio_fe/mfcc/tt1125849_mfcc.png with feature shape: (768,)\n"
     ]
    },
    {
     "name": "stderr",
     "output_type": "stream",
     "text": [
      " 93%|█████████▎| 1258/1356 [02:16<00:11,  8.69it/s]"
     ]
    },
    {
     "name": "stdout",
     "output_type": "stream",
     "text": [
      "Processed ../misc/audio_fe/mfcc/tt1415283_mfcc.png with feature shape: (768,)\n",
      "Processed ../misc/audio_fe/mfcc/tt0244521_mfcc.png with feature shape: (768,)\n",
      "Processed ../misc/audio_fe/mfcc/tt3859304_mfcc.png with feature shape: (768,)\n",
      "Processed ../misc/audio_fe/mfcc/tt0363276_mfcc.png with feature shape: (768,)\n"
     ]
    },
    {
     "name": "stderr",
     "output_type": "stream",
     "text": [
      " 93%|█████████▎| 1262/1356 [02:16<00:08, 11.53it/s]"
     ]
    },
    {
     "name": "stdout",
     "output_type": "stream",
     "text": [
      "Processed ../misc/audio_fe/mfcc/tt1244659_mfcc.png with feature shape: (768,)\n",
      "Processed ../misc/audio_fe/mfcc/tt0075860_mfcc.png with feature shape: (768,)\n",
      "Processed ../misc/audio_fe/mfcc/tt0270846_mfcc.png with feature shape: (768,)\n"
     ]
    },
    {
     "name": "stderr",
     "output_type": "stream",
     "text": [
      " 93%|█████████▎| 1264/1356 [02:17<00:07, 12.18it/s]"
     ]
    },
    {
     "name": "stdout",
     "output_type": "stream",
     "text": [
      "Processed ../misc/audio_fe/mfcc/tt1178663_mfcc.png with feature shape: (768,)\n",
      "Processed ../misc/audio_fe/mfcc/tt1796581_mfcc.png with feature shape: (768,)\n",
      "Processed ../misc/audio_fe/mfcc/tt0470055_mfcc.png with feature shape: (768,)\n"
     ]
    },
    {
     "name": "stderr",
     "output_type": "stream",
     "text": [
      " 93%|█████████▎| 1266/1356 [02:17<00:07, 12.81it/s]"
     ]
    },
    {
     "name": "stdout",
     "output_type": "stream",
     "text": [
      "Processed ../misc/audio_fe/mfcc/tt0042767_mfcc.png with feature shape: (768,)\n",
      "Processed ../misc/audio_fe/mfcc/tt0099750_mfcc.png with feature shape: (768,)\n",
      "Processed ../misc/audio_fe/mfcc/tt0381061_mfcc.png with feature shape: (768,)\n"
     ]
    },
    {
     "name": "stderr",
     "output_type": "stream",
     "text": [
      " 94%|█████████▍| 1272/1356 [02:18<00:10,  8.30it/s]"
     ]
    },
    {
     "name": "stdout",
     "output_type": "stream",
     "text": [
      "Processed ../misc/audio_fe/mfcc/tt0780536_mfcc.png with feature shape: (768,)\n",
      "Processed ../misc/audio_fe/mfcc/tt6205872_mfcc.png with feature shape: (768,)\n",
      "Processed ../misc/audio_fe/mfcc/tt0105236_mfcc.png with feature shape: (768,)\n",
      "Processed ../misc/audio_fe/mfcc/tt0473308_mfcc.png with feature shape: (768,)\n"
     ]
    },
    {
     "name": "stderr",
     "output_type": "stream",
     "text": [
      " 94%|█████████▍| 1274/1356 [02:18<00:12,  6.60it/s]"
     ]
    },
    {
     "name": "stdout",
     "output_type": "stream",
     "text": [
      "Processed ../misc/audio_fe/mfcc/tt0331314_mfcc.png with feature shape: (768,)\n",
      "Processed ../misc/audio_fe/mfcc/tt0120903_mfcc.png with feature shape: (768,)\n"
     ]
    },
    {
     "name": "stderr",
     "output_type": "stream",
     "text": [
      " 94%|█████████▍| 1276/1356 [02:18<00:11,  6.83it/s]"
     ]
    },
    {
     "name": "stdout",
     "output_type": "stream",
     "text": [
      "Processed ../misc/audio_fe/mfcc/tt1996264_mfcc.png with feature shape: (768,)\n",
      "Processed ../misc/audio_fe/mfcc/tt0116731_mfcc.png with feature shape: (768,)\n"
     ]
    },
    {
     "name": "stderr",
     "output_type": "stream",
     "text": [
      " 94%|█████████▍| 1278/1356 [02:19<00:09,  8.41it/s]"
     ]
    },
    {
     "name": "stdout",
     "output_type": "stream",
     "text": [
      "Processed ../misc/audio_fe/mfcc/tt0301199_mfcc.png with feature shape: (768,)\n",
      "Processed ../misc/audio_fe/mfcc/tt0870122_mfcc.png with feature shape: (768,)\n",
      "Processed ../misc/audio_fe/mfcc/tt0358082_mfcc.png with feature shape: (768,)\n"
     ]
    },
    {
     "name": "stderr",
     "output_type": "stream",
     "text": [
      " 95%|█████████▍| 1282/1356 [02:19<00:07,  9.70it/s]"
     ]
    },
    {
     "name": "stdout",
     "output_type": "stream",
     "text": [
      "Processed ../misc/audio_fe/mfcc/tt0482603_mfcc.png with feature shape: (768,)\n",
      "Processed ../misc/audio_fe/mfcc/tt0804516_mfcc.png with feature shape: (768,)\n",
      "Processed ../misc/audio_fe/mfcc/tt1087524_mfcc.png with feature shape: (768,)\n"
     ]
    },
    {
     "name": "stderr",
     "output_type": "stream",
     "text": [
      " 95%|█████████▍| 1284/1356 [02:19<00:06, 10.40it/s]"
     ]
    },
    {
     "name": "stdout",
     "output_type": "stream",
     "text": [
      "Processed ../misc/audio_fe/mfcc/tt4501244_mfcc.png with feature shape: (768,)\n",
      "Processed ../misc/audio_fe/mfcc/tt0093407_mfcc.png with feature shape: (768,)\n",
      "Processed ../misc/audio_fe/mfcc/tt0106611_mfcc.png with feature shape: (768,)\n"
     ]
    },
    {
     "name": "stderr",
     "output_type": "stream",
     "text": [
      " 95%|█████████▍| 1288/1356 [02:19<00:05, 12.06it/s]"
     ]
    },
    {
     "name": "stdout",
     "output_type": "stream",
     "text": [
      "Processed ../misc/audio_fe/mfcc/tt0116778_mfcc.png with feature shape: (768,)\n",
      "Processed ../misc/audio_fe/mfcc/tt0486051_mfcc.png with feature shape: (768,)\n",
      "Processed ../misc/audio_fe/mfcc/tt0374900_mfcc.png with feature shape: (768,)\n"
     ]
    },
    {
     "name": "stderr",
     "output_type": "stream",
     "text": [
      " 95%|█████████▌| 1290/1356 [02:19<00:05, 12.72it/s]"
     ]
    },
    {
     "name": "stdout",
     "output_type": "stream",
     "text": [
      "Processed ../misc/audio_fe/mfcc/tt0119167_mfcc.png with feature shape: (768,)\n",
      "Processed ../misc/audio_fe/mfcc/tt0427543_mfcc.png with feature shape: (768,)\n",
      "Processed ../misc/audio_fe/mfcc/tt0489281_mfcc.png with feature shape: (768,)\n"
     ]
    },
    {
     "name": "stderr",
     "output_type": "stream",
     "text": [
      " 95%|█████████▌| 1294/1356 [02:20<00:04, 12.55it/s]"
     ]
    },
    {
     "name": "stdout",
     "output_type": "stream",
     "text": [
      "Processed ../misc/audio_fe/mfcc/tt4002772_mfcc.png with feature shape: (768,)\n",
      "Processed ../misc/audio_fe/mfcc/tt0133412_mfcc.png with feature shape: (768,)\n",
      "Processed ../misc/audio_fe/mfcc/tt1104006_mfcc.png with feature shape: (768,)\n"
     ]
    },
    {
     "name": "stderr",
     "output_type": "stream",
     "text": [
      " 96%|█████████▌| 1296/1356 [02:20<00:05, 10.76it/s]"
     ]
    },
    {
     "name": "stdout",
     "output_type": "stream",
     "text": [
      "Processed ../misc/audio_fe/mfcc/tt2881698_mfcc.png with feature shape: (768,)\n",
      "Processed ../misc/audio_fe/mfcc/tt1129381_mfcc.png with feature shape: (768,)\n"
     ]
    },
    {
     "name": "stderr",
     "output_type": "stream",
     "text": [
      " 96%|█████████▌| 1298/1356 [02:20<00:05, 10.25it/s]"
     ]
    },
    {
     "name": "stdout",
     "output_type": "stream",
     "text": [
      "Processed ../misc/audio_fe/mfcc/tt0116606_mfcc.png with feature shape: (768,)\n",
      "Processed ../misc/audio_fe/mfcc/tt1591504_mfcc.png with feature shape: (768,)\n",
      "Processed ../misc/audio_fe/mfcc/tt1151922_mfcc.png with feature shape: (768,)\n"
     ]
    },
    {
     "name": "stderr",
     "output_type": "stream",
     "text": [
      " 96%|█████████▌| 1302/1356 [02:21<00:04, 11.54it/s]"
     ]
    },
    {
     "name": "stdout",
     "output_type": "stream",
     "text": [
      "Processed ../misc/audio_fe/mfcc/tt0286162_mfcc.png with feature shape: (768,)\n",
      "Processed ../misc/audio_fe/mfcc/tt0327679_mfcc.png with feature shape: (768,)\n",
      "Processed ../misc/audio_fe/mfcc/tt1469304_mfcc.png with feature shape: (768,)\n"
     ]
    },
    {
     "name": "stderr",
     "output_type": "stream",
     "text": [
      " 96%|█████████▌| 1304/1356 [02:21<00:04, 10.97it/s]"
     ]
    },
    {
     "name": "stdout",
     "output_type": "stream",
     "text": [
      "Processed ../misc/audio_fe/mfcc/tt0317648_mfcc.png with feature shape: (768,)\n",
      "Processed ../misc/audio_fe/mfcc/tt0974661_mfcc.png with feature shape: (768,)\n"
     ]
    },
    {
     "name": "stderr",
     "output_type": "stream",
     "text": [
      " 96%|█████████▋| 1306/1356 [02:21<00:04, 10.11it/s]"
     ]
    },
    {
     "name": "stdout",
     "output_type": "stream",
     "text": [
      "Processed ../misc/audio_fe/mfcc/tt0478087_mfcc.png with feature shape: (768,)\n",
      "Processed ../misc/audio_fe/mfcc/tt0116353_mfcc.png with feature shape: (768,)\n",
      "Processed ../misc/audio_fe/mfcc/tt0264472_mfcc.png with feature shape: (768,)\n"
     ]
    },
    {
     "name": "stderr",
     "output_type": "stream",
     "text": [
      " 97%|█████████▋| 1310/1356 [02:21<00:04, 10.77it/s]"
     ]
    },
    {
     "name": "stdout",
     "output_type": "stream",
     "text": [
      "Processed ../misc/audio_fe/mfcc/tt10054316_mfcc.png with feature shape: (768,)\n",
      "Processed ../misc/audio_fe/mfcc/tt0256276_mfcc.png with feature shape: (768,)\n",
      "Processed ../misc/audio_fe/mfcc/tt2312718_mfcc.png with feature shape: (768,)\n"
     ]
    },
    {
     "name": "stderr",
     "output_type": "stream",
     "text": [
      " 97%|█████████▋| 1312/1356 [02:21<00:03, 11.57it/s]"
     ]
    },
    {
     "name": "stdout",
     "output_type": "stream",
     "text": [
      "Processed ../misc/audio_fe/mfcc/tt0837796_mfcc.png with feature shape: (768,)\n",
      "Processed ../misc/audio_fe/mfcc/tt0808244_mfcc.png with feature shape: (768,)\n",
      "Processed ../misc/audio_fe/mfcc/tt0431308_mfcc.png with feature shape: (768,)\n"
     ]
    },
    {
     "name": "stderr",
     "output_type": "stream",
     "text": [
      " 97%|█████████▋| 1314/1356 [02:22<00:03, 11.99it/s]"
     ]
    },
    {
     "name": "stdout",
     "output_type": "stream",
     "text": [
      "Processed ../misc/audio_fe/mfcc/tt1402488_mfcc.png with feature shape: (768,)\n",
      "Processed ../misc/audio_fe/mfcc/tt0472399_mfcc.png with feature shape: (768,)\n"
     ]
    },
    {
     "name": "stderr",
     "output_type": "stream",
     "text": [
      " 97%|█████████▋| 1318/1356 [02:22<00:03, 10.85it/s]"
     ]
    },
    {
     "name": "stdout",
     "output_type": "stream",
     "text": [
      "Processed ../misc/audio_fe/mfcc/tt0477139_mfcc.png with feature shape: (768,)\n",
      "Processed ../misc/audio_fe/mfcc/tt0369436_mfcc.png with feature shape: (768,)\n",
      "Processed ../misc/audio_fe/mfcc/tt0337711_mfcc.png with feature shape: (768,)\n"
     ]
    },
    {
     "name": "stderr",
     "output_type": "stream",
     "text": [
      " 97%|█████████▋| 1320/1356 [02:22<00:03, 11.05it/s]"
     ]
    },
    {
     "name": "stdout",
     "output_type": "stream",
     "text": [
      "Processed ../misc/audio_fe/mfcc/tt1431045_mfcc.png with feature shape: (768,)\n",
      "Processed ../misc/audio_fe/mfcc/tt0116695_mfcc.png with feature shape: (768,)\n",
      "Processed ../misc/audio_fe/mfcc/tt0910905_mfcc.png with feature shape: (768,)\n"
     ]
    },
    {
     "name": "stderr",
     "output_type": "stream",
     "text": [
      " 98%|█████████▊| 1324/1356 [02:22<00:02, 12.53it/s]"
     ]
    },
    {
     "name": "stdout",
     "output_type": "stream",
     "text": [
      "Processed ../misc/audio_fe/mfcc/tt0357585_mfcc.png with feature shape: (768,)\n",
      "Processed ../misc/audio_fe/mfcc/tt0762110_mfcc.png with feature shape: (768,)\n",
      "Processed ../misc/audio_fe/mfcc/tt0112373_mfcc.png with feature shape: (768,)\n"
     ]
    },
    {
     "name": "stderr",
     "output_type": "stream",
     "text": [
      " 98%|█████████▊| 1328/1356 [02:23<00:02, 13.67it/s]"
     ]
    },
    {
     "name": "stdout",
     "output_type": "stream",
     "text": [
      "Processed ../misc/audio_fe/mfcc/tt1231587_mfcc.png with feature shape: (768,)\n",
      "Processed ../misc/audio_fe/mfcc/tt1142433_mfcc.png with feature shape: (768,)\n",
      "Processed ../misc/audio_fe/mfcc/tt1322313_mfcc.png with feature shape: (768,)\n",
      "Processed ../misc/audio_fe/mfcc/tt0896866_mfcc.png with feature shape: (768,)\n"
     ]
    },
    {
     "name": "stderr",
     "output_type": "stream",
     "text": [
      " 98%|█████████▊| 1332/1356 [02:23<00:01, 14.29it/s]"
     ]
    },
    {
     "name": "stdout",
     "output_type": "stream",
     "text": [
      "Processed ../misc/audio_fe/mfcc/tt0486655_mfcc.png with feature shape: (768,)\n",
      "Processed ../misc/audio_fe/mfcc/tt0102288_mfcc.png with feature shape: (768,)\n",
      "Processed ../misc/audio_fe/mfcc/tt0119994_mfcc.png with feature shape: (768,)\n",
      "Processed ../misc/audio_fe/mfcc/tt0804529_mfcc.png with feature shape: (768,)\n"
     ]
    },
    {
     "name": "stderr",
     "output_type": "stream",
     "text": [
      " 99%|█████████▊| 1336/1356 [02:23<00:01, 14.80it/s]"
     ]
    },
    {
     "name": "stdout",
     "output_type": "stream",
     "text": [
      "Processed ../misc/audio_fe/mfcc/tt0477078_mfcc.png with feature shape: (768,)\n",
      "Processed ../misc/audio_fe/mfcc/tt4843640_mfcc.png with feature shape: (768,)\n",
      "Processed ../misc/audio_fe/mfcc/tt4667094_mfcc.png with feature shape: (768,)\n",
      "Processed ../misc/audio_fe/mfcc/tt1127896_mfcc.png with feature shape: (768,)\n"
     ]
    },
    {
     "name": "stderr",
     "output_type": "stream",
     "text": [
      " 99%|█████████▉| 1340/1356 [02:24<00:01, 15.14it/s]"
     ]
    },
    {
     "name": "stdout",
     "output_type": "stream",
     "text": [
      "Processed ../misc/audio_fe/mfcc/tt0359013_mfcc.png with feature shape: (768,)\n",
      "Processed ../misc/audio_fe/mfcc/tt1107365_mfcc.png with feature shape: (768,)\n",
      "Processed ../misc/audio_fe/mfcc/tt0371606_mfcc.png with feature shape: (768,)\n",
      "Processed ../misc/audio_fe/mfcc/tt0292610_mfcc.png with feature shape: (768,)\n"
     ]
    },
    {
     "name": "stderr",
     "output_type": "stream",
     "text": [
      " 99%|█████████▉| 1344/1356 [02:24<00:00, 15.11it/s]"
     ]
    },
    {
     "name": "stdout",
     "output_type": "stream",
     "text": [
      "Processed ../misc/audio_fe/mfcc/tt0484207_mfcc.png with feature shape: (768,)\n",
      "Processed ../misc/audio_fe/mfcc/tt0246464_mfcc.png with feature shape: (768,)\n",
      "Processed ../misc/audio_fe/mfcc/tt3672742_mfcc.png with feature shape: (768,)\n",
      "Processed ../misc/audio_fe/mfcc/tt1155592_mfcc.png with feature shape: (768,)\n"
     ]
    },
    {
     "name": "stderr",
     "output_type": "stream",
     "text": [
      " 99%|█████████▉| 1346/1356 [02:24<00:00, 14.02it/s]"
     ]
    },
    {
     "name": "stdout",
     "output_type": "stream",
     "text": [
      "Processed ../misc/audio_fe/mfcc/tt0810922_mfcc.png with feature shape: (768,)\n",
      "Processed ../misc/audio_fe/mfcc/tt0332136_mfcc.png with feature shape: (768,)\n",
      "Processed ../misc/audio_fe/mfcc/tt0308644_mfcc.png with feature shape: (768,)\n"
     ]
    },
    {
     "name": "stderr",
     "output_type": "stream",
     "text": [
      "100%|█████████▉| 1350/1356 [02:24<00:00, 13.75it/s]"
     ]
    },
    {
     "name": "stdout",
     "output_type": "stream",
     "text": [
      "Processed ../misc/audio_fe/mfcc/tt1176251_mfcc.png with feature shape: (768,)\n",
      "Processed ../misc/audio_fe/mfcc/tt0120619_mfcc.png with feature shape: (768,)\n",
      "Processed ../misc/audio_fe/mfcc/tt0896798_mfcc.png with feature shape: (768,)\n"
     ]
    },
    {
     "name": "stderr",
     "output_type": "stream",
     "text": [
      "100%|█████████▉| 1352/1356 [02:24<00:00, 13.93it/s]"
     ]
    },
    {
     "name": "stdout",
     "output_type": "stream",
     "text": [
      "Processed ../misc/audio_fe/mfcc/tt0381849_mfcc.png with feature shape: (768,)\n",
      "Processed ../misc/audio_fe/mfcc/tt1567233_mfcc.png with feature shape: (768,)\n",
      "Processed ../misc/audio_fe/mfcc/tt0388500_mfcc.png with feature shape: (768,)\n"
     ]
    },
    {
     "name": "stderr",
     "output_type": "stream",
     "text": [
      "100%|██████████| 1356/1356 [02:25<00:00,  9.34it/s]"
     ]
    },
    {
     "name": "stdout",
     "output_type": "stream",
     "text": [
      "Processed ../misc/audio_fe/mfcc/tt0299930_mfcc.png with feature shape: (768,)\n",
      "Processed ../misc/audio_fe/mfcc/tt0119906_mfcc.png with feature shape: (768,)\n",
      "Processed ../misc/audio_fe/mfcc/tt3526408_mfcc.png with feature shape: (768,)\n"
     ]
    },
    {
     "name": "stderr",
     "output_type": "stream",
     "text": [
      "\n"
     ]
    }
   ],
   "source": [
    "extract_features(mfcc_path, mfcc_output_path)"
   ]
  }
 ],
 "metadata": {
  "kernelspec": {
   "display_name": "SMCA",
   "language": "python",
   "name": "python3"
  },
  "language_info": {
   "codemirror_mode": {
    "name": "ipython",
    "version": 3
   },
   "file_extension": ".py",
   "mimetype": "text/x-python",
   "name": "python",
   "nbconvert_exporter": "python",
   "pygments_lexer": "ipython3",
   "version": "3.12.4"
  }
 },
 "nbformat": 4,
 "nbformat_minor": 2
}
