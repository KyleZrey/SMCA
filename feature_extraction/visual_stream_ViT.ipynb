{
 "cells": [
  {
   "cell_type": "code",
   "execution_count": null,
   "metadata": {},
   "outputs": [],
   "source": [
    "import os\n",
    "import numpy as np\n",
    "import torch\n",
    "from PIL import Image\n",
    "from transformers import ViTFeatureExtractor, ViTModel"
   ]
  },
  {
   "cell_type": "code",
   "execution_count": null,
   "metadata": {},
   "outputs": [],
   "source": [
    "#load the feature extractor and the model\n",
    "feature_extractor = ViTFeatureExtractor.from_pretrained('google/vit-base-patch16-224-in21k')\n",
    "model = ViTModel.from_pretrained('google/vit-base-patch16-224-in21k')"
   ]
  },
  {
   "cell_type": "code",
   "execution_count": null,
   "metadata": {},
   "outputs": [],
   "source": [
    "frames_dir = '../frames/'\n",
    "features_dir = './features/'\n",
    "\n",
    "# Create the features directory if it doesn't exist\n",
    "os.makedirs(features_dir, exist_ok=True)"
   ]
  },
  {
   "cell_type": "code",
   "execution_count": null,
   "metadata": {},
   "outputs": [],
   "source": [
    "# Function to extract features from a single image\n",
    "def extract_features(image_path):\n",
    "    image = Image.open(image_path).convert(\"RGB\")\n",
    "    inputs = feature_extractor(images=image, return_tensors=\"pt\")\n",
    "    with torch.no_grad():\n",
    "        outputs = model(**inputs)\n",
    "    return outputs.last_hidden_state[:, 0, :].squeeze().cpu().numpy()"
   ]
  },
  {
   "cell_type": "code",
   "execution_count": null,
   "metadata": {},
   "outputs": [],
   "source": [
    "# Loop over each video folder\n",
    "for video_folder in os.listdir(frames_dir):\n",
    "    video_folder_path = os.path.join(frames_dir, video_folder)\n",
    "    if os.path.isdir(video_folder_path):\n",
    "        features = []\n",
    "        # Loop over each frame in the video folder\n",
    "        for frame_file in os.listdir(video_folder_path):\n",
    "            frame_path = os.path.join(video_folder_path, frame_file)\n",
    "            if frame_file.endswith(('.png', '.jpg', '.jpeg')):  # Adjust based on your frame file types\n",
    "                feature = extract_features(frame_path)\n",
    "                features.append(feature)\n",
    "        \n",
    "        # Convert the list of features to a numpy array\n",
    "        features_array = np.stack(features)\n",
    "        \n",
    "        # Save the features array as a .npy file\n",
    "        save_path = os.path.join(features_dir, f\"{video_folder}_features.npy\")\n",
    "        np.save(save_path, features_array)\n",
    "        print(f\"Saved features for {video_folder} to {save_path}\")"
   ]
  }
 ],
 "metadata": {
  "kernelspec": {
   "display_name": "Python 3",
   "language": "python",
   "name": "python3"
  },
  "language_info": {
   "codemirror_mode": {
    "name": "ipython",
    "version": 3
   },
   "file_extension": ".py",
   "mimetype": "text/x-python",
   "name": "python",
   "nbconvert_exporter": "python",
   "pygments_lexer": "ipython3",
   "version": "3.12.3"
  }
 },
 "nbformat": 4,
 "nbformat_minor": 2
}
