{
 "cells": [
  {
   "cell_type": "code",
   "execution_count": 2,
   "metadata": {},
   "outputs": [
    {
     "name": "stderr",
     "output_type": "stream",
     "text": [
      "Matplotlib is building the font cache; this may take a moment.\n"
     ]
    }
   ],
   "source": [
    "import numpy as np\n",
    "import matplotlib.pyplot as plt"
   ]
  },
  {
   "cell_type": "code",
   "execution_count": 4,
   "metadata": {},
   "outputs": [],
   "source": [
    "npy_file_path = 'D:\\\\Projects\\\\SMCA\\\\audio_fe\\\\logmel_spectrograms\\\\feature_tt0021814.npy'\n",
    "feature_vector = np.load(npy_file_path)\n"
   ]
  },
  {
   "cell_type": "code",
   "execution_count": 6,
   "metadata": {},
   "outputs": [
    {
     "name": "stdout",
     "output_type": "stream",
     "text": [
      "Shape of feature vector: (1, 197, 768)\n",
      "Data type: float32\n",
      "The feature vector is not 2D, so it cannot be visualized as an image.\n",
      "Contents of the feature vector:\n",
      "[[[-2.5234365e-01 -4.2035326e-01  2.2034918e-01 ... -9.0245202e-02\n",
      "   -9.9440798e-02 -2.6165497e-02]\n",
      "  [-2.6982108e-01 -5.1771259e-01  2.2491172e-02 ... -1.2371807e-01\n",
      "   -6.5882154e-02 -2.4046917e-01]\n",
      "  [-2.4994089e-01 -3.6624748e-01  1.4735471e-01 ... -7.4591100e-02\n",
      "   -4.4963326e-02 -4.7269497e-02]\n",
      "  ...\n",
      "  [-8.7898552e-02 -2.5418493e-01  2.6983209e-05 ...  3.9940931e-02\n",
      "   -3.1368998e-01 -1.6051683e-01]\n",
      "  [-5.6102395e-02 -4.4393247e-01 -6.5386571e-02 ... -5.8472823e-02\n",
      "   -1.1718422e-01 -1.6906893e-01]\n",
      "  [-1.4920565e-01 -4.7327292e-01 -7.7793211e-02 ...  1.0550699e-02\n",
      "   -1.1244433e-01 -2.6565847e-01]]]\n"
     ]
    }
   ],
   "source": [
    "print(f\"Shape of feature vector: {feature_vector.shape}\")\n",
    "print(f\"Data type: {feature_vector.dtype}\")\n",
    "\n",
    "print(\"The feature vector is not 2D, so it cannot be visualized as an image.\")\n",
    "print(\"Contents of the feature vector:\")\n",
    "print(feature_vector)"
   ]
  }
 ],
 "metadata": {
  "kernelspec": {
   "display_name": "smca",
   "language": "python",
   "name": "python3"
  },
  "language_info": {
   "codemirror_mode": {
    "name": "ipython",
    "version": 3
   },
   "file_extension": ".py",
   "mimetype": "text/x-python",
   "name": "python",
   "nbconvert_exporter": "python",
   "pygments_lexer": "ipython3",
   "version": "3.11.9"
  }
 },
 "nbformat": 4,
 "nbformat_minor": 2
}
