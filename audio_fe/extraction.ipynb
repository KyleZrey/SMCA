{
 "cells": [
  {
   "cell_type": "code",
   "execution_count": 1,
   "metadata": {},
   "outputs": [
    {
     "name": "stderr",
     "output_type": "stream",
     "text": [
      "/opt/anaconda3/envs/SMCA/lib/python3.12/site-packages/tqdm/auto.py:21: TqdmWarning: IProgress not found. Please update jupyter and ipywidgets. See https://ipywidgets.readthedocs.io/en/stable/user_install.html\n",
      "  from .autonotebook import tqdm as notebook_tqdm\n"
     ]
    }
   ],
   "source": [
    "import os\n",
    "from PIL import Image\n",
    "import numpy as np\n",
    "import torch\n",
    "from transformers import ViTFeatureExtractor, ViTModel\n",
    "from tqdm import tqdm"
   ]
  },
  {
   "cell_type": "code",
   "execution_count": 2,
   "metadata": {},
   "outputs": [],
   "source": [
    "log_mel_spectrograms_path = '/Users/chy/Projects/Thesis/spectrograms'\n",
    "mfcc_path = '/Users/chy/Projects/Thesis/mfcc'\n",
    "output_path = '/Users/chy/Projects/Thesis/audio_extracted'\n",
    "\n",
    "logmel_output_path = os.path.join(output_path, 'logmel_extracted')\n",
    "mfcc_output_path = os.path.join(output_path, 'mfcc_extracted')"
   ]
  },
  {
   "cell_type": "code",
   "execution_count": 3,
   "metadata": {},
   "outputs": [],
   "source": [
    "def verify_paths(paths):\n",
    "    for path in paths:\n",
    "        if not os.path.exists(path):\n",
    "            raise FileNotFoundError(f\"The path {path} does not exist or is not accessible.\")\n",
    "\n",
    "verify_paths([log_mel_spectrograms_path, mfcc_path, output_path])"
   ]
  },
  {
   "cell_type": "code",
   "execution_count": 4,
   "metadata": {},
   "outputs": [],
   "source": [
    "os.makedirs(logmel_output_path, exist_ok=True)\n",
    "os.makedirs(mfcc_output_path, exist_ok=True)"
   ]
  },
  {
   "cell_type": "code",
   "execution_count": 5,
   "metadata": {},
   "outputs": [
    {
     "name": "stderr",
     "output_type": "stream",
     "text": [
      "/opt/anaconda3/envs/SMCA/lib/python3.12/site-packages/transformers/models/vit/feature_extraction_vit.py:28: FutureWarning: The class ViTFeatureExtractor is deprecated and will be removed in version 5 of Transformers. Please use ViTImageProcessor instead.\n",
      "  warnings.warn(\n"
     ]
    }
   ],
   "source": [
    "feature_extractor = ViTFeatureExtractor.from_pretrained('google/vit-base-patch16-224-in21k')\n",
    "model = ViTModel.from_pretrained('google/vit-base-patch16-224-in21k')"
   ]
  },
  {
   "cell_type": "code",
   "execution_count": 6,
   "metadata": {},
   "outputs": [
    {
     "data": {
      "text/plain": [
       "ViTModel(\n",
       "  (embeddings): ViTEmbeddings(\n",
       "    (patch_embeddings): ViTPatchEmbeddings(\n",
       "      (projection): Conv2d(3, 768, kernel_size=(16, 16), stride=(16, 16))\n",
       "    )\n",
       "    (dropout): Dropout(p=0.0, inplace=False)\n",
       "  )\n",
       "  (encoder): ViTEncoder(\n",
       "    (layer): ModuleList(\n",
       "      (0-11): 12 x ViTLayer(\n",
       "        (attention): ViTSdpaAttention(\n",
       "          (attention): ViTSdpaSelfAttention(\n",
       "            (query): Linear(in_features=768, out_features=768, bias=True)\n",
       "            (key): Linear(in_features=768, out_features=768, bias=True)\n",
       "            (value): Linear(in_features=768, out_features=768, bias=True)\n",
       "            (dropout): Dropout(p=0.0, inplace=False)\n",
       "          )\n",
       "          (output): ViTSelfOutput(\n",
       "            (dense): Linear(in_features=768, out_features=768, bias=True)\n",
       "            (dropout): Dropout(p=0.0, inplace=False)\n",
       "          )\n",
       "        )\n",
       "        (intermediate): ViTIntermediate(\n",
       "          (dense): Linear(in_features=768, out_features=3072, bias=True)\n",
       "          (intermediate_act_fn): GELUActivation()\n",
       "        )\n",
       "        (output): ViTOutput(\n",
       "          (dense): Linear(in_features=3072, out_features=768, bias=True)\n",
       "          (dropout): Dropout(p=0.0, inplace=False)\n",
       "        )\n",
       "        (layernorm_before): LayerNorm((768,), eps=1e-12, elementwise_affine=True)\n",
       "        (layernorm_after): LayerNorm((768,), eps=1e-12, elementwise_affine=True)\n",
       "      )\n",
       "    )\n",
       "  )\n",
       "  (layernorm): LayerNorm((768,), eps=1e-12, elementwise_affine=True)\n",
       "  (pooler): ViTPooler(\n",
       "    (dense): Linear(in_features=768, out_features=768, bias=True)\n",
       "    (activation): Tanh()\n",
       "  )\n",
       ")"
      ]
     },
     "execution_count": 6,
     "metadata": {},
     "output_type": "execute_result"
    }
   ],
   "source": [
    "device = torch.device(\"mps\" if torch.backends.mps.is_available() else \"cpu\")\n",
    "model.to(device)\n",
    "model.eval()"
   ]
  },
  {
   "cell_type": "code",
   "execution_count": 7,
   "metadata": {},
   "outputs": [],
   "source": [
    "def process_image(image_path):\n",
    "    image = Image.open(image_path).convert(\"RGB\")\n",
    "    inputs = feature_extractor(images=image, return_tensors=\"pt\")\n",
    "    inputs = inputs.to(device)\n",
    "    with torch.no_grad():\n",
    "        outputs = model(**inputs)\n",
    "    last_hidden_states = outputs.last_hidden_state\n",
    "    print(f\"Processed {image_path} with feature shape: {last_hidden_states.shape}\")\n",
    "    return last_hidden_states.cpu().numpy()"
   ]
  },
  {
   "cell_type": "code",
   "execution_count": 8,
   "metadata": {},
   "outputs": [],
   "source": [
    "def extract_features(input_path, output_path, feature_suffix=\"\"):\n",
    "    image_files = [f for f in os.listdir(input_path) if f.endswith(\".png\") or f.endswith(\".jpg\")]\n",
    "    \n",
    "    for filename in tqdm(image_files):\n",
    "        image_path = os.path.join(input_path, filename)\n",
    "        feature_vector = process_image(image_path)\n",
    "        base_filename = os.path.splitext(filename)[0]\n",
    "        output_file = os.path.join(output_path, f\"feature_{base_filename}{feature_suffix}.npy\")\n",
    "\n",
    "        np.save(output_file, feature_vector)\n"
   ]
  },
  {
   "cell_type": "code",
   "execution_count": 11,
   "metadata": {},
   "outputs": [
    {
     "name": "stderr",
     "output_type": "stream",
     "text": [
      "  0%|          | 1/1356 [00:00<06:01,  3.75it/s]"
     ]
    },
    {
     "name": "stdout",
     "output_type": "stream",
     "text": [
      "Processed /Users/chy/Projects/Thesis/spectrograms/tt5512872.png with feature shape: torch.Size([1, 197, 768])\n",
      "Processed /Users/chy/Projects/Thesis/spectrograms/tt0180093.png with feature shape: torch.Size([1, 197, 768])\n"
     ]
    },
    {
     "name": "stderr",
     "output_type": "stream",
     "text": [
      "  0%|          | 5/1356 [00:00<02:10, 10.37it/s]"
     ]
    },
    {
     "name": "stdout",
     "output_type": "stream",
     "text": [
      "Processed /Users/chy/Projects/Thesis/spectrograms/tt0382628.png with feature shape: torch.Size([1, 197, 768])\n",
      "Processed /Users/chy/Projects/Thesis/spectrograms/tt1299653.png with feature shape: torch.Size([1, 197, 768])\n",
      "Processed /Users/chy/Projects/Thesis/spectrograms/tt0113189.png with feature shape: torch.Size([1, 197, 768])\n"
     ]
    },
    {
     "name": "stderr",
     "output_type": "stream",
     "text": [
      "  1%|          | 7/1356 [00:00<02:01, 11.08it/s]"
     ]
    },
    {
     "name": "stdout",
     "output_type": "stream",
     "text": [
      "Processed /Users/chy/Projects/Thesis/spectrograms/tt0960731.png with feature shape: torch.Size([1, 197, 768])\n",
      "Processed /Users/chy/Projects/Thesis/spectrograms/tt1649444.png with feature shape: torch.Size([1, 197, 768])\n",
      "Processed /Users/chy/Projects/Thesis/spectrograms/tt8695030.png with feature shape: torch.Size([1, 197, 768])\n"
     ]
    },
    {
     "name": "stderr",
     "output_type": "stream",
     "text": [
      "  1%|          | 11/1356 [00:01<01:53, 11.80it/s]"
     ]
    },
    {
     "name": "stdout",
     "output_type": "stream",
     "text": [
      "Processed /Users/chy/Projects/Thesis/spectrograms/tt0335121.png with feature shape: torch.Size([1, 197, 768])\n",
      "Processed /Users/chy/Projects/Thesis/spectrograms/tt4062536.png with feature shape: torch.Size([1, 197, 768])\n",
      "Processed /Users/chy/Projects/Thesis/spectrograms/tt2042568.png with feature shape: torch.Size([1, 197, 768])\n"
     ]
    },
    {
     "name": "stderr",
     "output_type": "stream",
     "text": [
      "  1%|          | 13/1356 [00:01<01:54, 11.70it/s]"
     ]
    },
    {
     "name": "stdout",
     "output_type": "stream",
     "text": [
      "Processed /Users/chy/Projects/Thesis/spectrograms/tt0366551.png with feature shape: torch.Size([1, 197, 768])\n",
      "Processed /Users/chy/Projects/Thesis/spectrograms/tt0461703.png with feature shape: torch.Size([1, 197, 768])\n",
      "Processed /Users/chy/Projects/Thesis/spectrograms/tt1796581.png with feature shape: torch.Size([1, 197, 768])\n"
     ]
    },
    {
     "name": "stderr",
     "output_type": "stream",
     "text": [
      "  1%|▏         | 17/1356 [00:01<01:50, 12.08it/s]"
     ]
    },
    {
     "name": "stdout",
     "output_type": "stream",
     "text": [
      "Processed /Users/chy/Projects/Thesis/spectrograms/tt2499414.png with feature shape: torch.Size([1, 197, 768])\n",
      "Processed /Users/chy/Projects/Thesis/spectrograms/tt0478087.png with feature shape: torch.Size([1, 197, 768])\n",
      "Processed /Users/chy/Projects/Thesis/spectrograms/tt1231287.png with feature shape: torch.Size([1, 197, 768])\n"
     ]
    },
    {
     "name": "stderr",
     "output_type": "stream",
     "text": [
      "  1%|▏         | 19/1356 [00:01<01:48, 12.28it/s]"
     ]
    },
    {
     "name": "stdout",
     "output_type": "stream",
     "text": [
      "Processed /Users/chy/Projects/Thesis/spectrograms/tt4799050.png with feature shape: torch.Size([1, 197, 768])\n",
      "Processed /Users/chy/Projects/Thesis/spectrograms/tt0375920.png with feature shape: torch.Size([1, 197, 768])\n",
      "Processed /Users/chy/Projects/Thesis/spectrograms/tt0281686.png with feature shape: torch.Size([1, 197, 768])\n"
     ]
    },
    {
     "name": "stderr",
     "output_type": "stream",
     "text": [
      "  2%|▏         | 23/1356 [00:02<01:49, 12.18it/s]"
     ]
    },
    {
     "name": "stdout",
     "output_type": "stream",
     "text": [
      "Processed /Users/chy/Projects/Thesis/spectrograms/tt0086637.png with feature shape: torch.Size([1, 197, 768])\n",
      "Processed /Users/chy/Projects/Thesis/spectrograms/tt1007028.png with feature shape: torch.Size([1, 197, 768])\n",
      "Processed /Users/chy/Projects/Thesis/spectrograms/tt1618421.png with feature shape: torch.Size([1, 197, 768])\n"
     ]
    },
    {
     "name": "stderr",
     "output_type": "stream",
     "text": [
      "  2%|▏         | 25/1356 [00:02<01:49, 12.21it/s]"
     ]
    },
    {
     "name": "stdout",
     "output_type": "stream",
     "text": [
      "Processed /Users/chy/Projects/Thesis/spectrograms/tt0169547.png with feature shape: torch.Size([1, 197, 768])\n",
      "Processed /Users/chy/Projects/Thesis/spectrograms/tt1321862.png with feature shape: torch.Size([1, 197, 768])\n",
      "Processed /Users/chy/Projects/Thesis/spectrograms/tt0460780.png with feature shape: torch.Size([1, 197, 768])\n"
     ]
    },
    {
     "name": "stderr",
     "output_type": "stream",
     "text": [
      "  2%|▏         | 29/1356 [00:02<02:05, 10.59it/s]"
     ]
    },
    {
     "name": "stdout",
     "output_type": "stream",
     "text": [
      "Processed /Users/chy/Projects/Thesis/spectrograms/tt1411250.png with feature shape: torch.Size([1, 197, 768])\n",
      "Processed /Users/chy/Projects/Thesis/spectrograms/tt1159961.png with feature shape: torch.Size([1, 197, 768])\n",
      "Processed /Users/chy/Projects/Thesis/spectrograms/tt1132130.png with feature shape: torch.Size([1, 197, 768])\n"
     ]
    },
    {
     "name": "stderr",
     "output_type": "stream",
     "text": [
      "  2%|▏         | 31/1356 [00:02<02:01, 10.87it/s]"
     ]
    },
    {
     "name": "stdout",
     "output_type": "stream",
     "text": [
      "Processed /Users/chy/Projects/Thesis/spectrograms/tt0120609.png with feature shape: torch.Size([1, 197, 768])\n",
      "Processed /Users/chy/Projects/Thesis/spectrograms/tt1185836.png with feature shape: torch.Size([1, 197, 768])\n",
      "Processed /Users/chy/Projects/Thesis/spectrograms/tt0396271.png with feature shape: torch.Size([1, 197, 768])\n"
     ]
    },
    {
     "name": "stderr",
     "output_type": "stream",
     "text": [
      "  3%|▎         | 35/1356 [00:03<02:01, 10.88it/s]"
     ]
    },
    {
     "name": "stdout",
     "output_type": "stream",
     "text": [
      "Processed /Users/chy/Projects/Thesis/spectrograms/tt6359956.png with feature shape: torch.Size([1, 197, 768])\n",
      "Processed /Users/chy/Projects/Thesis/spectrograms/tt0468492.png with feature shape: torch.Size([1, 197, 768])\n",
      "Processed /Users/chy/Projects/Thesis/spectrograms/tt0271367.png with feature shape: torch.Size([1, 197, 768])\n"
     ]
    },
    {
     "name": "stderr",
     "output_type": "stream",
     "text": [
      "  3%|▎         | 37/1356 [00:03<02:01, 10.89it/s]"
     ]
    },
    {
     "name": "stdout",
     "output_type": "stream",
     "text": [
      "Processed /Users/chy/Projects/Thesis/spectrograms/tt0120812.png with feature shape: torch.Size([1, 197, 768])\n",
      "Processed /Users/chy/Projects/Thesis/spectrograms/tt0289635.png with feature shape: torch.Size([1, 197, 768])\n",
      "Processed /Users/chy/Projects/Thesis/spectrograms/tt0486946.png with feature shape: torch.Size([1, 197, 768])\n"
     ]
    },
    {
     "name": "stderr",
     "output_type": "stream",
     "text": [
      "  3%|▎         | 39/1356 [00:03<02:04, 10.54it/s]"
     ]
    },
    {
     "name": "stdout",
     "output_type": "stream",
     "text": [
      "Processed /Users/chy/Projects/Thesis/spectrograms/tt0449851.png with feature shape: torch.Size([1, 197, 768])\n",
      "Processed /Users/chy/Projects/Thesis/spectrograms/tt0273982.png with feature shape: torch.Size([1, 197, 768])\n"
     ]
    },
    {
     "name": "stderr",
     "output_type": "stream",
     "text": [
      "  3%|▎         | 43/1356 [00:03<02:10, 10.10it/s]"
     ]
    },
    {
     "name": "stdout",
     "output_type": "stream",
     "text": [
      "Processed /Users/chy/Projects/Thesis/spectrograms/tt2099556.png with feature shape: torch.Size([1, 197, 768])\n",
      "Processed /Users/chy/Projects/Thesis/spectrograms/tt10876506.png with feature shape: torch.Size([1, 197, 768])\n",
      "Processed /Users/chy/Projects/Thesis/spectrograms/tt0107711.png with feature shape: torch.Size([1, 197, 768])\n"
     ]
    },
    {
     "name": "stderr",
     "output_type": "stream",
     "text": [
      "  3%|▎         | 45/1356 [00:04<02:09, 10.15it/s]"
     ]
    },
    {
     "name": "stdout",
     "output_type": "stream",
     "text": [
      "Processed /Users/chy/Projects/Thesis/spectrograms/tt1430077.png with feature shape: torch.Size([1, 197, 768])\n",
      "Processed /Users/chy/Projects/Thesis/spectrograms/tt0313911.png with feature shape: torch.Size([1, 197, 768])\n"
     ]
    },
    {
     "name": "stderr",
     "output_type": "stream",
     "text": [
      "  3%|▎         | 47/1356 [00:04<02:09, 10.09it/s]"
     ]
    },
    {
     "name": "stdout",
     "output_type": "stream",
     "text": [
      "Processed /Users/chy/Projects/Thesis/spectrograms/tt6400674.png with feature shape: torch.Size([1, 197, 768])\n",
      "Processed /Users/chy/Projects/Thesis/spectrograms/tt6521876.png with feature shape: torch.Size([1, 197, 768])\n",
      "Processed /Users/chy/Projects/Thesis/spectrograms/tt3850214.png with feature shape: torch.Size([1, 197, 768])\n"
     ]
    },
    {
     "name": "stderr",
     "output_type": "stream",
     "text": [
      "  4%|▍         | 51/1356 [00:04<02:14,  9.72it/s]"
     ]
    },
    {
     "name": "stdout",
     "output_type": "stream",
     "text": [
      "Processed /Users/chy/Projects/Thesis/spectrograms/tt0116621.png with feature shape: torch.Size([1, 197, 768])\n",
      "Processed /Users/chy/Projects/Thesis/spectrograms/tt1145144.png with feature shape: torch.Size([1, 197, 768])\n",
      "Processed /Users/chy/Projects/Thesis/spectrograms/tt0361411.png with feature shape: torch.Size([1, 197, 768])\n"
     ]
    },
    {
     "name": "stderr",
     "output_type": "stream",
     "text": [
      "  4%|▍         | 53/1356 [00:05<02:08, 10.12it/s]"
     ]
    },
    {
     "name": "stdout",
     "output_type": "stream",
     "text": [
      "Processed /Users/chy/Projects/Thesis/spectrograms/tt0364569.png with feature shape: torch.Size([1, 197, 768])\n",
      "Processed /Users/chy/Projects/Thesis/spectrograms/tt1303803.png with feature shape: torch.Size([1, 197, 768])\n",
      "Processed /Users/chy/Projects/Thesis/spectrograms/tt0918927.png with feature shape: torch.Size([1, 197, 768])\n"
     ]
    },
    {
     "name": "stderr",
     "output_type": "stream",
     "text": [
      "  4%|▍         | 57/1356 [00:05<02:05, 10.36it/s]"
     ]
    },
    {
     "name": "stdout",
     "output_type": "stream",
     "text": [
      "Processed /Users/chy/Projects/Thesis/spectrograms/tt4103724.png with feature shape: torch.Size([1, 197, 768])\n",
      "Processed /Users/chy/Projects/Thesis/spectrograms/tt1663333.png with feature shape: torch.Size([1, 197, 768])\n",
      "Processed /Users/chy/Projects/Thesis/spectrograms/tt0031507.png with feature shape: torch.Size([1, 197, 768])\n"
     ]
    },
    {
     "name": "stderr",
     "output_type": "stream",
     "text": [
      "  4%|▍         | 59/1356 [00:05<02:07, 10.20it/s]"
     ]
    },
    {
     "name": "stdout",
     "output_type": "stream",
     "text": [
      "Processed /Users/chy/Projects/Thesis/spectrograms/tt1296373.png with feature shape: torch.Size([1, 197, 768])\n",
      "Processed /Users/chy/Projects/Thesis/spectrograms/tt0309593.png with feature shape: torch.Size([1, 197, 768])\n",
      "Processed /Users/chy/Projects/Thesis/spectrograms/tt1950135.png with feature shape: torch.Size([1, 197, 768])\n"
     ]
    },
    {
     "name": "stderr",
     "output_type": "stream",
     "text": [
      "  5%|▍         | 63/1356 [00:05<02:04, 10.38it/s]"
     ]
    },
    {
     "name": "stdout",
     "output_type": "stream",
     "text": [
      "Processed /Users/chy/Projects/Thesis/spectrograms/tt0119062.png with feature shape: torch.Size([1, 197, 768])\n",
      "Processed /Users/chy/Projects/Thesis/spectrograms/tt0460742.png with feature shape: torch.Size([1, 197, 768])\n",
      "Processed /Users/chy/Projects/Thesis/spectrograms/tt1637574.png with feature shape: torch.Size([1, 197, 768])\n"
     ]
    },
    {
     "name": "stderr",
     "output_type": "stream",
     "text": [
      "  5%|▍         | 65/1356 [00:06<02:06, 10.24it/s]"
     ]
    },
    {
     "name": "stdout",
     "output_type": "stream",
     "text": [
      "Processed /Users/chy/Projects/Thesis/spectrograms/tt0284674.png with feature shape: torch.Size([1, 197, 768])\n",
      "Processed /Users/chy/Projects/Thesis/spectrograms/tt0441773.png with feature shape: torch.Size([1, 197, 768])\n"
     ]
    },
    {
     "name": "stderr",
     "output_type": "stream",
     "text": [
      "  5%|▍         | 67/1356 [00:06<02:07, 10.13it/s]"
     ]
    },
    {
     "name": "stdout",
     "output_type": "stream",
     "text": [
      "Processed /Users/chy/Projects/Thesis/spectrograms/tt0261983.png with feature shape: torch.Size([1, 197, 768])\n",
      "Processed /Users/chy/Projects/Thesis/spectrograms/tt0360323.png with feature shape: torch.Size([1, 197, 768])\n",
      "Processed /Users/chy/Projects/Thesis/spectrograms/tt0141369.png with feature shape: torch.Size([1, 197, 768])\n"
     ]
    },
    {
     "name": "stderr",
     "output_type": "stream",
     "text": [
      "  5%|▌         | 71/1356 [00:06<01:58, 10.84it/s]"
     ]
    },
    {
     "name": "stdout",
     "output_type": "stream",
     "text": [
      "Processed /Users/chy/Projects/Thesis/spectrograms/tt0283084.png with feature shape: torch.Size([1, 197, 768])\n",
      "Processed /Users/chy/Projects/Thesis/spectrograms/tt0134084.png with feature shape: torch.Size([1, 197, 768])\n",
      "Processed /Users/chy/Projects/Thesis/spectrograms/tt4731136.png with feature shape: torch.Size([1, 197, 768])\n"
     ]
    },
    {
     "name": "stderr",
     "output_type": "stream",
     "text": [
      "  5%|▌         | 73/1356 [00:06<02:01, 10.53it/s]"
     ]
    },
    {
     "name": "stdout",
     "output_type": "stream",
     "text": [
      "Processed /Users/chy/Projects/Thesis/spectrograms/tt0292610.png with feature shape: torch.Size([1, 197, 768])\n",
      "Processed /Users/chy/Projects/Thesis/spectrograms/tt1925435.png with feature shape: torch.Size([1, 197, 768])\n"
     ]
    },
    {
     "name": "stderr",
     "output_type": "stream",
     "text": [
      "  6%|▌         | 75/1356 [00:07<02:16,  9.38it/s]"
     ]
    },
    {
     "name": "stdout",
     "output_type": "stream",
     "text": [
      "Processed /Users/chy/Projects/Thesis/spectrograms/tt3349578.png with feature shape: torch.Size([1, 197, 768])\n",
      "Processed /Users/chy/Projects/Thesis/spectrograms/tt0088814.png with feature shape: torch.Size([1, 197, 768])\n",
      "Processed /Users/chy/Projects/Thesis/spectrograms/tt0118744.png with feature shape: torch.Size([1, 197, 768])\n",
      "Processed /Users/chy/Projects/Thesis/spectrograms/tt0985025.png with feature shape: torch.Size([1, 197, 768])\n"
     ]
    },
    {
     "name": "stderr",
     "output_type": "stream",
     "text": [
      "  6%|▌         | 79/1356 [00:07<01:54, 11.20it/s]"
     ]
    },
    {
     "name": "stdout",
     "output_type": "stream",
     "text": [
      "Processed /Users/chy/Projects/Thesis/spectrograms/tt0359950.png with feature shape: torch.Size([1, 197, 768])\n",
      "Processed /Users/chy/Projects/Thesis/spectrograms/tt1232200.png with feature shape: torch.Size([1, 197, 768])\n",
      "Processed /Users/chy/Projects/Thesis/spectrograms/tt0489282.png with feature shape: torch.Size([1, 197, 768])\n"
     ]
    },
    {
     "name": "stderr",
     "output_type": "stream",
     "text": [
      "  6%|▌         | 83/1356 [00:07<01:49, 11.64it/s]"
     ]
    },
    {
     "name": "stdout",
     "output_type": "stream",
     "text": [
      "Processed /Users/chy/Projects/Thesis/spectrograms/tt1155592.png with feature shape: torch.Size([1, 197, 768])\n",
      "Processed /Users/chy/Projects/Thesis/spectrograms/tt0463854.png with feature shape: torch.Size([1, 197, 768])\n",
      "Processed /Users/chy/Projects/Thesis/spectrograms/tt0462590.png with feature shape: torch.Size([1, 197, 768])\n"
     ]
    },
    {
     "name": "stderr",
     "output_type": "stream",
     "text": [
      "  6%|▋         | 85/1356 [00:07<01:47, 11.82it/s]"
     ]
    },
    {
     "name": "stdout",
     "output_type": "stream",
     "text": [
      "Processed /Users/chy/Projects/Thesis/spectrograms/tt0159097.png with feature shape: torch.Size([1, 197, 768])\n",
      "Processed /Users/chy/Projects/Thesis/spectrograms/tt0408985.png with feature shape: torch.Size([1, 197, 768])\n",
      "Processed /Users/chy/Projects/Thesis/spectrograms/tt0281322.png with feature shape: torch.Size([1, 197, 768])\n"
     ]
    },
    {
     "name": "stderr",
     "output_type": "stream",
     "text": [
      "  7%|▋         | 89/1356 [00:08<01:44, 12.10it/s]"
     ]
    },
    {
     "name": "stdout",
     "output_type": "stream",
     "text": [
      "Processed /Users/chy/Projects/Thesis/spectrograms/tt0359013.png with feature shape: torch.Size([1, 197, 768])\n",
      "Processed /Users/chy/Projects/Thesis/spectrograms/tt0432402.png with feature shape: torch.Size([1, 197, 768])\n",
      "Processed /Users/chy/Projects/Thesis/spectrograms/tt3564472.png with feature shape: torch.Size([1, 197, 768])\n"
     ]
    },
    {
     "name": "stderr",
     "output_type": "stream",
     "text": [
      "  7%|▋         | 91/1356 [00:08<01:43, 12.20it/s]"
     ]
    },
    {
     "name": "stdout",
     "output_type": "stream",
     "text": [
      "Processed /Users/chy/Projects/Thesis/spectrograms/tt0800039.png with feature shape: torch.Size([1, 197, 768])\n",
      "Processed /Users/chy/Projects/Thesis/spectrograms/tt1606378.png with feature shape: torch.Size([1, 197, 768])\n",
      "Processed /Users/chy/Projects/Thesis/spectrograms/tt0804505.png with feature shape: torch.Size([1, 197, 768])\n"
     ]
    },
    {
     "name": "stderr",
     "output_type": "stream",
     "text": [
      "  7%|▋         | 95/1356 [00:08<01:43, 12.24it/s]"
     ]
    },
    {
     "name": "stdout",
     "output_type": "stream",
     "text": [
      "Processed /Users/chy/Projects/Thesis/spectrograms/tt0412922.png with feature shape: torch.Size([1, 197, 768])\n",
      "Processed /Users/chy/Projects/Thesis/spectrograms/tt4002772.png with feature shape: torch.Size([1, 197, 768])\n",
      "Processed /Users/chy/Projects/Thesis/spectrograms/tt7740510.png with feature shape: torch.Size([1, 197, 768])\n"
     ]
    },
    {
     "name": "stderr",
     "output_type": "stream",
     "text": [
      "  7%|▋         | 97/1356 [00:09<01:55, 10.91it/s]"
     ]
    },
    {
     "name": "stdout",
     "output_type": "stream",
     "text": [
      "Processed /Users/chy/Projects/Thesis/spectrograms/tt0395169.png with feature shape: torch.Size([1, 197, 768])\n",
      "Processed /Users/chy/Projects/Thesis/spectrograms/tt0371589.png with feature shape: torch.Size([1, 197, 768])\n",
      "Processed /Users/chy/Projects/Thesis/spectrograms/tt0381849.png with feature shape: torch.Size([1, 197, 768])\n",
      "Processed /Users/chy/Projects/Thesis/spectrograms/tt0477348.png with feature shape: torch.Size([1, 197, 768])\n"
     ]
    },
    {
     "name": "stderr",
     "output_type": "stream",
     "text": [
      "  7%|▋         | 101/1356 [00:09<01:47, 11.66it/s]"
     ]
    },
    {
     "name": "stdout",
     "output_type": "stream",
     "text": [
      "Processed /Users/chy/Projects/Thesis/spectrograms/tt0117887.png with feature shape: torch.Size([1, 197, 768])\n",
      "Processed /Users/chy/Projects/Thesis/spectrograms/tt1647668.png with feature shape: torch.Size([1, 197, 768])\n",
      "Processed /Users/chy/Projects/Thesis/spectrograms/tt0377107.png with feature shape: torch.Size([1, 197, 768])\n"
     ]
    },
    {
     "name": "stderr",
     "output_type": "stream",
     "text": [
      "  8%|▊         | 105/1356 [00:09<01:42, 12.23it/s]"
     ]
    },
    {
     "name": "stdout",
     "output_type": "stream",
     "text": [
      "Processed /Users/chy/Projects/Thesis/spectrograms/tt1706620.png with feature shape: torch.Size([1, 197, 768])\n",
      "Processed /Users/chy/Projects/Thesis/spectrograms/tt0072951.png with feature shape: torch.Size([1, 197, 768])\n",
      "Processed /Users/chy/Projects/Thesis/spectrograms/tt0107302.png with feature shape: torch.Size([1, 197, 768])\n"
     ]
    },
    {
     "name": "stderr",
     "output_type": "stream",
     "text": [
      "  8%|▊         | 107/1356 [00:09<01:41, 12.32it/s]"
     ]
    },
    {
     "name": "stdout",
     "output_type": "stream",
     "text": [
      "Processed /Users/chy/Projects/Thesis/spectrograms/tt0427543.png with feature shape: torch.Size([1, 197, 768])\n",
      "Processed /Users/chy/Projects/Thesis/spectrograms/tt0257360.png with feature shape: torch.Size([1, 197, 768])\n",
      "Processed /Users/chy/Projects/Thesis/spectrograms/tt0834001.png with feature shape: torch.Size([1, 197, 768])\n"
     ]
    },
    {
     "name": "stderr",
     "output_type": "stream",
     "text": [
      "  8%|▊         | 109/1356 [00:09<01:40, 12.39it/s]"
     ]
    },
    {
     "name": "stdout",
     "output_type": "stream",
     "text": [
      "Processed /Users/chy/Projects/Thesis/spectrograms/tt3829266.png with feature shape: torch.Size([1, 197, 768])\n",
      "Processed /Users/chy/Projects/Thesis/spectrograms/tt1490017.png with feature shape: torch.Size([1, 197, 768])\n",
      "Processed /Users/chy/Projects/Thesis/spectrograms/tt3165612.png with feature shape: torch.Size([1, 197, 768])\n"
     ]
    },
    {
     "name": "stderr",
     "output_type": "stream",
     "text": [
      "  8%|▊         | 113/1356 [00:10<01:43, 12.02it/s]"
     ]
    },
    {
     "name": "stdout",
     "output_type": "stream",
     "text": [
      "Processed /Users/chy/Projects/Thesis/spectrograms/tt0762110.png with feature shape: torch.Size([1, 197, 768])\n",
      "Processed /Users/chy/Projects/Thesis/spectrograms/tt0116353.png with feature shape: torch.Size([1, 197, 768])\n",
      "Processed /Users/chy/Projects/Thesis/spectrograms/tt0383694.png with feature shape: torch.Size([1, 197, 768])\n"
     ]
    },
    {
     "name": "stderr",
     "output_type": "stream",
     "text": [
      "  9%|▊         | 117/1356 [00:10<01:39, 12.42it/s]"
     ]
    },
    {
     "name": "stdout",
     "output_type": "stream",
     "text": [
      "Processed /Users/chy/Projects/Thesis/spectrograms/tt1792647.png with feature shape: torch.Size([1, 197, 768])\n",
      "Processed /Users/chy/Projects/Thesis/spectrograms/tt0475417.png with feature shape: torch.Size([1, 197, 768])\n",
      "Processed /Users/chy/Projects/Thesis/spectrograms/tt0473700.png with feature shape: torch.Size([1, 197, 768])\n"
     ]
    },
    {
     "name": "stderr",
     "output_type": "stream",
     "text": [
      "  9%|▉         | 119/1356 [00:10<01:38, 12.57it/s]"
     ]
    },
    {
     "name": "stdout",
     "output_type": "stream",
     "text": [
      "Processed /Users/chy/Projects/Thesis/spectrograms/tt0388500.png with feature shape: torch.Size([1, 197, 768])\n",
      "Processed /Users/chy/Projects/Thesis/spectrograms/tt0479952.png with feature shape: torch.Size([1, 197, 768])\n",
      "Processed /Users/chy/Projects/Thesis/spectrograms/tt3451230.png with feature shape: torch.Size([1, 197, 768])\n"
     ]
    },
    {
     "name": "stderr",
     "output_type": "stream",
     "text": [
      "  9%|▉         | 123/1356 [00:11<01:54, 10.75it/s]"
     ]
    },
    {
     "name": "stdout",
     "output_type": "stream",
     "text": [
      "Processed /Users/chy/Projects/Thesis/spectrograms/tt0107048.png with feature shape: torch.Size([1, 197, 768])\n",
      "Processed /Users/chy/Projects/Thesis/spectrograms/tt0328007.png with feature shape: torch.Size([1, 197, 768])\n",
      "Processed /Users/chy/Projects/Thesis/spectrograms/tt2231461.png with feature shape: torch.Size([1, 197, 768])\n"
     ]
    },
    {
     "name": "stderr",
     "output_type": "stream",
     "text": [
      "  9%|▉         | 125/1356 [00:11<01:48, 11.34it/s]"
     ]
    },
    {
     "name": "stdout",
     "output_type": "stream",
     "text": [
      "Processed /Users/chy/Projects/Thesis/spectrograms/tt0353489.png with feature shape: torch.Size([1, 197, 768])\n",
      "Processed /Users/chy/Projects/Thesis/spectrograms/tt1462054.png with feature shape: torch.Size([1, 197, 768])\n",
      "Processed /Users/chy/Projects/Thesis/spectrograms/tt0365885.png with feature shape: torch.Size([1, 197, 768])\n"
     ]
    },
    {
     "name": "stderr",
     "output_type": "stream",
     "text": [
      " 10%|▉         | 129/1356 [00:11<01:43, 11.87it/s]"
     ]
    },
    {
     "name": "stdout",
     "output_type": "stream",
     "text": [
      "Processed /Users/chy/Projects/Thesis/spectrograms/tt1055369.png with feature shape: torch.Size([1, 197, 768])\n",
      "Processed /Users/chy/Projects/Thesis/spectrograms/tt0808510.png with feature shape: torch.Size([1, 197, 768])\n",
      "Processed /Users/chy/Projects/Thesis/spectrograms/tt2802136.png with feature shape: torch.Size([1, 197, 768])\n"
     ]
    },
    {
     "name": "stderr",
     "output_type": "stream",
     "text": [
      " 10%|▉         | 131/1356 [00:11<01:41, 12.06it/s]"
     ]
    },
    {
     "name": "stdout",
     "output_type": "stream",
     "text": [
      "Processed /Users/chy/Projects/Thesis/spectrograms/tt0393109.png with feature shape: torch.Size([1, 197, 768])\n",
      "Processed /Users/chy/Projects/Thesis/spectrograms/tt0079540.png with feature shape: torch.Size([1, 197, 768])\n",
      "Processed /Users/chy/Projects/Thesis/spectrograms/tt0120347.png with feature shape: torch.Size([1, 197, 768])\n"
     ]
    },
    {
     "name": "stderr",
     "output_type": "stream",
     "text": [
      " 10%|▉         | 135/1356 [00:12<01:40, 12.15it/s]"
     ]
    },
    {
     "name": "stdout",
     "output_type": "stream",
     "text": [
      "Processed /Users/chy/Projects/Thesis/spectrograms/tt0382992.png with feature shape: torch.Size([1, 197, 768])\n",
      "Processed /Users/chy/Projects/Thesis/spectrograms/tt0096787.png with feature shape: torch.Size([1, 197, 768])\n",
      "Processed /Users/chy/Projects/Thesis/spectrograms/tt0970468.png with feature shape: torch.Size([1, 197, 768])\n"
     ]
    },
    {
     "name": "stderr",
     "output_type": "stream",
     "text": [
      " 10%|█         | 137/1356 [00:12<01:39, 12.26it/s]"
     ]
    },
    {
     "name": "stdout",
     "output_type": "stream",
     "text": [
      "Processed /Users/chy/Projects/Thesis/spectrograms/tt0833960.png with feature shape: torch.Size([1, 197, 768])\n",
      "Processed /Users/chy/Projects/Thesis/spectrograms/tt0120804.png with feature shape: torch.Size([1, 197, 768])\n",
      "Processed /Users/chy/Projects/Thesis/spectrograms/tt0327679.png with feature shape: torch.Size([1, 197, 768])\n"
     ]
    },
    {
     "name": "stderr",
     "output_type": "stream",
     "text": [
      " 10%|█         | 141/1356 [00:12<01:38, 12.31it/s]"
     ]
    },
    {
     "name": "stdout",
     "output_type": "stream",
     "text": [
      "Processed /Users/chy/Projects/Thesis/spectrograms/tt7545566.png with feature shape: torch.Size([1, 197, 768])\n",
      "Processed /Users/chy/Projects/Thesis/spectrograms/tt0903135.png with feature shape: torch.Size([1, 197, 768])\n",
      "Processed /Users/chy/Projects/Thesis/spectrograms/tt0411806.png with feature shape: torch.Size([1, 197, 768])\n"
     ]
    },
    {
     "name": "stderr",
     "output_type": "stream",
     "text": [
      " 11%|█         | 143/1356 [00:12<01:39, 12.22it/s]"
     ]
    },
    {
     "name": "stdout",
     "output_type": "stream",
     "text": [
      "Processed /Users/chy/Projects/Thesis/spectrograms/tt0081748.png with feature shape: torch.Size([1, 197, 768])\n",
      "Processed /Users/chy/Projects/Thesis/spectrograms/tt0785007.png with feature shape: torch.Size([1, 197, 768])\n",
      "Processed /Users/chy/Projects/Thesis/spectrograms/tt0304711.png with feature shape: torch.Size([1, 197, 768])\n"
     ]
    },
    {
     "name": "stderr",
     "output_type": "stream",
     "text": [
      " 11%|█         | 147/1356 [00:13<01:49, 11.07it/s]"
     ]
    },
    {
     "name": "stdout",
     "output_type": "stream",
     "text": [
      "Processed /Users/chy/Projects/Thesis/spectrograms/tt1150947.png with feature shape: torch.Size([1, 197, 768])\n",
      "Processed /Users/chy/Projects/Thesis/spectrograms/tt0430770.png with feature shape: torch.Size([1, 197, 768])\n",
      "Processed /Users/chy/Projects/Thesis/spectrograms/tt3832914.png with feature shape: torch.Size([1, 197, 768])\n"
     ]
    },
    {
     "name": "stderr",
     "output_type": "stream",
     "text": [
      " 11%|█         | 149/1356 [00:13<01:42, 11.76it/s]"
     ]
    },
    {
     "name": "stdout",
     "output_type": "stream",
     "text": [
      "Processed /Users/chy/Projects/Thesis/spectrograms/tt0375063.png with feature shape: torch.Size([1, 197, 768])\n",
      "Processed /Users/chy/Projects/Thesis/spectrograms/tt0431308.png with feature shape: torch.Size([1, 197, 768])\n",
      "Processed /Users/chy/Projects/Thesis/spectrograms/tt0101969.png with feature shape: torch.Size([1, 197, 768])\n"
     ]
    },
    {
     "name": "stderr",
     "output_type": "stream",
     "text": [
      " 11%|█▏        | 153/1356 [00:13<01:39, 12.12it/s]"
     ]
    },
    {
     "name": "stdout",
     "output_type": "stream",
     "text": [
      "Processed /Users/chy/Projects/Thesis/spectrograms/tt0845955.png with feature shape: torch.Size([1, 197, 768])\n",
      "Processed /Users/chy/Projects/Thesis/spectrograms/tt0212985.png with feature shape: torch.Size([1, 197, 768])\n",
      "Processed /Users/chy/Projects/Thesis/spectrograms/tt7798634.png with feature shape: torch.Size([1, 197, 768])\n"
     ]
    },
    {
     "name": "stderr",
     "output_type": "stream",
     "text": [
      " 11%|█▏        | 155/1356 [00:13<01:37, 12.27it/s]"
     ]
    },
    {
     "name": "stdout",
     "output_type": "stream",
     "text": [
      "Processed /Users/chy/Projects/Thesis/spectrograms/tt0084787.png with feature shape: torch.Size([1, 197, 768])\n",
      "Processed /Users/chy/Projects/Thesis/spectrograms/tt3385398.png with feature shape: torch.Size([1, 197, 768])\n",
      "Processed /Users/chy/Projects/Thesis/spectrograms/tt0829482.png with feature shape: torch.Size([1, 197, 768])\n"
     ]
    },
    {
     "name": "stderr",
     "output_type": "stream",
     "text": [
      " 12%|█▏        | 159/1356 [00:14<01:38, 12.18it/s]"
     ]
    },
    {
     "name": "stdout",
     "output_type": "stream",
     "text": [
      "Processed /Users/chy/Projects/Thesis/spectrograms/tt0372532.png with feature shape: torch.Size([1, 197, 768])\n",
      "Processed /Users/chy/Projects/Thesis/spectrograms/tt0454962.png with feature shape: torch.Size([1, 197, 768])\n",
      "Processed /Users/chy/Projects/Thesis/spectrograms/tt0118747.png with feature shape: torch.Size([1, 197, 768])\n"
     ]
    },
    {
     "name": "stderr",
     "output_type": "stream",
     "text": [
      " 12%|█▏        | 161/1356 [00:14<01:39, 12.04it/s]"
     ]
    },
    {
     "name": "stdout",
     "output_type": "stream",
     "text": [
      "Processed /Users/chy/Projects/Thesis/spectrograms/tt0332658.png with feature shape: torch.Size([1, 197, 768])\n",
      "Processed /Users/chy/Projects/Thesis/spectrograms/tt0489281.png with feature shape: torch.Size([1, 197, 768])\n",
      "Processed /Users/chy/Projects/Thesis/spectrograms/tt2449810.png with feature shape: torch.Size([1, 197, 768])\n"
     ]
    },
    {
     "name": "stderr",
     "output_type": "stream",
     "text": [
      " 12%|█▏        | 165/1356 [00:14<01:38, 12.10it/s]"
     ]
    },
    {
     "name": "stdout",
     "output_type": "stream",
     "text": [
      "Processed /Users/chy/Projects/Thesis/spectrograms/tt0109676.png with feature shape: torch.Size([1, 197, 768])\n",
      "Processed /Users/chy/Projects/Thesis/spectrograms/tt1815708.png with feature shape: torch.Size([1, 197, 768])\n",
      "Processed /Users/chy/Projects/Thesis/spectrograms/tt7650514.png with feature shape: torch.Size([1, 197, 768])\n"
     ]
    },
    {
     "name": "stderr",
     "output_type": "stream",
     "text": [
      " 12%|█▏        | 167/1356 [00:14<01:37, 12.24it/s]"
     ]
    },
    {
     "name": "stdout",
     "output_type": "stream",
     "text": [
      "Processed /Users/chy/Projects/Thesis/spectrograms/tt0112281.png with feature shape: torch.Size([1, 197, 768])\n",
      "Processed /Users/chy/Projects/Thesis/spectrograms/tt0125439.png with feature shape: torch.Size([1, 197, 768])\n",
      "Processed /Users/chy/Projects/Thesis/spectrograms/tt0286306.png with feature shape: torch.Size([1, 197, 768])\n"
     ]
    },
    {
     "name": "stderr",
     "output_type": "stream",
     "text": [
      " 13%|█▎        | 171/1356 [00:15<01:46, 11.16it/s]"
     ]
    },
    {
     "name": "stdout",
     "output_type": "stream",
     "text": [
      "Processed /Users/chy/Projects/Thesis/spectrograms/tt0337917.png with feature shape: torch.Size([1, 197, 768])\n",
      "Processed /Users/chy/Projects/Thesis/spectrograms/tt0356443.png with feature shape: torch.Size([1, 197, 768])\n",
      "Processed /Users/chy/Projects/Thesis/spectrograms/tt1247667.png with feature shape: torch.Size([1, 197, 768])\n"
     ]
    },
    {
     "name": "stderr",
     "output_type": "stream",
     "text": [
      " 13%|█▎        | 173/1356 [00:15<01:39, 11.88it/s]"
     ]
    },
    {
     "name": "stdout",
     "output_type": "stream",
     "text": [
      "Processed /Users/chy/Projects/Thesis/spectrograms/tt9354944.png with feature shape: torch.Size([1, 197, 768])\n",
      "Processed /Users/chy/Projects/Thesis/spectrograms/tt0449089.png with feature shape: torch.Size([1, 197, 768])\n",
      "Processed /Users/chy/Projects/Thesis/spectrograms/tt1333125.png with feature shape: torch.Size([1, 197, 768])\n"
     ]
    },
    {
     "name": "stderr",
     "output_type": "stream",
     "text": [
      " 13%|█▎        | 177/1356 [00:15<01:36, 12.21it/s]"
     ]
    },
    {
     "name": "stdout",
     "output_type": "stream",
     "text": [
      "Processed /Users/chy/Projects/Thesis/spectrograms/tt0467406.png with feature shape: torch.Size([1, 197, 768])\n",
      "Processed /Users/chy/Projects/Thesis/spectrograms/tt1220617.png with feature shape: torch.Size([1, 197, 768])\n",
      "Processed /Users/chy/Projects/Thesis/spectrograms/tt0120586.png with feature shape: torch.Size([1, 197, 768])\n"
     ]
    },
    {
     "name": "stderr",
     "output_type": "stream",
     "text": [
      " 13%|█▎        | 179/1356 [00:15<01:35, 12.27it/s]"
     ]
    },
    {
     "name": "stdout",
     "output_type": "stream",
     "text": [
      "Processed /Users/chy/Projects/Thesis/spectrograms/tt0106233.png with feature shape: torch.Size([1, 197, 768])\n",
      "Processed /Users/chy/Projects/Thesis/spectrograms/tt1214983.png with feature shape: torch.Size([1, 197, 768])\n",
      "Processed /Users/chy/Projects/Thesis/spectrograms/tt2334871.png with feature shape: torch.Size([1, 197, 768])\n"
     ]
    },
    {
     "name": "stderr",
     "output_type": "stream",
     "text": [
      " 13%|█▎        | 183/1356 [00:16<01:35, 12.33it/s]"
     ]
    },
    {
     "name": "stdout",
     "output_type": "stream",
     "text": [
      "Processed /Users/chy/Projects/Thesis/spectrograms/tt0974554.png with feature shape: torch.Size([1, 197, 768])\n",
      "Processed /Users/chy/Projects/Thesis/spectrograms/tt0120753.png with feature shape: torch.Size([1, 197, 768])\n",
      "Processed /Users/chy/Projects/Thesis/spectrograms/tt1078188.png with feature shape: torch.Size([1, 197, 768])\n"
     ]
    },
    {
     "name": "stderr",
     "output_type": "stream",
     "text": [
      " 14%|█▎        | 185/1356 [00:16<01:34, 12.33it/s]"
     ]
    },
    {
     "name": "stdout",
     "output_type": "stream",
     "text": [
      "Processed /Users/chy/Projects/Thesis/spectrograms/tt4653950.png with feature shape: torch.Size([1, 197, 768])\n",
      "Processed /Users/chy/Projects/Thesis/spectrograms/tt0118541.png with feature shape: torch.Size([1, 197, 768])\n",
      "Processed /Users/chy/Projects/Thesis/spectrograms/tt0373416.png with feature shape: torch.Size([1, 197, 768])\n"
     ]
    },
    {
     "name": "stderr",
     "output_type": "stream",
     "text": [
      " 14%|█▍        | 189/1356 [00:16<01:43, 11.24it/s]"
     ]
    },
    {
     "name": "stdout",
     "output_type": "stream",
     "text": [
      "Processed /Users/chy/Projects/Thesis/spectrograms/tt2179936.png with feature shape: torch.Size([1, 197, 768])\n",
      "Processed /Users/chy/Projects/Thesis/spectrograms/tt2041488.png with feature shape: torch.Size([1, 197, 768])\n",
      "Processed /Users/chy/Projects/Thesis/spectrograms/tt0356721.png with feature shape: torch.Size([1, 197, 768])\n"
     ]
    },
    {
     "name": "stderr",
     "output_type": "stream",
     "text": [
      " 14%|█▍        | 191/1356 [00:16<01:37, 11.91it/s]"
     ]
    },
    {
     "name": "stdout",
     "output_type": "stream",
     "text": [
      "Processed /Users/chy/Projects/Thesis/spectrograms/tt0460792.png with feature shape: torch.Size([1, 197, 768])\n",
      "Processed /Users/chy/Projects/Thesis/spectrograms/tt0117060.png with feature shape: torch.Size([1, 197, 768])\n",
      "Processed /Users/chy/Projects/Thesis/spectrograms/tt5292624.png with feature shape: torch.Size([1, 197, 768])\n"
     ]
    },
    {
     "name": "stderr",
     "output_type": "stream",
     "text": [
      " 14%|█▍        | 195/1356 [00:17<01:35, 12.21it/s]"
     ]
    },
    {
     "name": "stdout",
     "output_type": "stream",
     "text": [
      "Processed /Users/chy/Projects/Thesis/spectrograms/tt0377062.png with feature shape: torch.Size([1, 197, 768])\n",
      "Processed /Users/chy/Projects/Thesis/spectrograms/tt4139124.png with feature shape: torch.Size([1, 197, 768])\n",
      "Processed /Users/chy/Projects/Thesis/spectrograms/tt0040662.png with feature shape: torch.Size([1, 197, 768])\n"
     ]
    },
    {
     "name": "stderr",
     "output_type": "stream",
     "text": [
      " 15%|█▍        | 197/1356 [00:17<01:34, 12.28it/s]"
     ]
    },
    {
     "name": "stdout",
     "output_type": "stream",
     "text": [
      "Processed /Users/chy/Projects/Thesis/spectrograms/tt0206314.png with feature shape: torch.Size([1, 197, 768])\n",
      "Processed /Users/chy/Projects/Thesis/spectrograms/tt0923752.png with feature shape: torch.Size([1, 197, 768])\n",
      "Processed /Users/chy/Projects/Thesis/spectrograms/tt0821810.png with feature shape: torch.Size([1, 197, 768])\n"
     ]
    },
    {
     "name": "stderr",
     "output_type": "stream",
     "text": [
      " 15%|█▍        | 201/1356 [00:17<01:34, 12.20it/s]"
     ]
    },
    {
     "name": "stdout",
     "output_type": "stream",
     "text": [
      "Processed /Users/chy/Projects/Thesis/spectrograms/tt4481514.png with feature shape: torch.Size([1, 197, 768])\n",
      "Processed /Users/chy/Projects/Thesis/spectrograms/tt0113010.png with feature shape: torch.Size([1, 197, 768])\n",
      "Processed /Users/chy/Projects/Thesis/spectrograms/tt0101414.png with feature shape: torch.Size([1, 197, 768])\n"
     ]
    },
    {
     "name": "stderr",
     "output_type": "stream",
     "text": [
      " 15%|█▍        | 203/1356 [00:17<01:34, 12.26it/s]"
     ]
    },
    {
     "name": "stdout",
     "output_type": "stream",
     "text": [
      "Processed /Users/chy/Projects/Thesis/spectrograms/tt0099329.png with feature shape: torch.Size([1, 197, 768])\n",
      "Processed /Users/chy/Projects/Thesis/spectrograms/tt0422774.png with feature shape: torch.Size([1, 197, 768])\n",
      "Processed /Users/chy/Projects/Thesis/spectrograms/tt1107365.png with feature shape: torch.Size([1, 197, 768])\n"
     ]
    },
    {
     "name": "stderr",
     "output_type": "stream",
     "text": [
      " 15%|█▌        | 207/1356 [00:18<01:33, 12.24it/s]"
     ]
    },
    {
     "name": "stdout",
     "output_type": "stream",
     "text": [
      "Processed /Users/chy/Projects/Thesis/spectrograms/tt0804461.png with feature shape: torch.Size([1, 197, 768])\n",
      "Processed /Users/chy/Projects/Thesis/spectrograms/tt0119528.png with feature shape: torch.Size([1, 197, 768])\n",
      "Processed /Users/chy/Projects/Thesis/spectrograms/tt3721964.png with feature shape: torch.Size([1, 197, 768])\n"
     ]
    },
    {
     "name": "stderr",
     "output_type": "stream",
     "text": [
      " 15%|█▌        | 209/1356 [00:18<01:32, 12.43it/s]"
     ]
    },
    {
     "name": "stdout",
     "output_type": "stream",
     "text": [
      "Processed /Users/chy/Projects/Thesis/spectrograms/tt0102685.png with feature shape: torch.Size([1, 197, 768])\n",
      "Processed /Users/chy/Projects/Thesis/spectrograms/tt0765451.png with feature shape: torch.Size([1, 197, 768])\n",
      "Processed /Users/chy/Projects/Thesis/spectrograms/tt0276816.png with feature shape: torch.Size([1, 197, 768])\n"
     ]
    },
    {
     "name": "stderr",
     "output_type": "stream",
     "text": [
      " 16%|█▌        | 213/1356 [00:18<01:44, 10.95it/s]"
     ]
    },
    {
     "name": "stdout",
     "output_type": "stream",
     "text": [
      "Processed /Users/chy/Projects/Thesis/spectrograms/tt0105698.png with feature shape: torch.Size([1, 197, 768])\n",
      "Processed /Users/chy/Projects/Thesis/spectrograms/tt0245562.png with feature shape: torch.Size([1, 197, 768])\n",
      "Processed /Users/chy/Projects/Thesis/spectrograms/tt0337876.png with feature shape: torch.Size([1, 197, 768])\n"
     ]
    },
    {
     "name": "stderr",
     "output_type": "stream",
     "text": [
      " 16%|█▌        | 215/1356 [00:18<01:38, 11.57it/s]"
     ]
    },
    {
     "name": "stdout",
     "output_type": "stream",
     "text": [
      "Processed /Users/chy/Projects/Thesis/spectrograms/tt0780608.png with feature shape: torch.Size([1, 197, 768])\n",
      "Processed /Users/chy/Projects/Thesis/spectrograms/tt0479201.png with feature shape: torch.Size([1, 197, 768])\n",
      "Processed /Users/chy/Projects/Thesis/spectrograms/tt0364751.png with feature shape: torch.Size([1, 197, 768])\n"
     ]
    },
    {
     "name": "stderr",
     "output_type": "stream",
     "text": [
      " 16%|█▌        | 217/1356 [00:19<01:37, 11.72it/s]"
     ]
    },
    {
     "name": "stdout",
     "output_type": "stream",
     "text": [
      "Processed /Users/chy/Projects/Thesis/spectrograms/tt3708886.png with feature shape: torch.Size([1, 197, 768])\n",
      "Processed /Users/chy/Projects/Thesis/spectrograms/tt0093407.png with feature shape: torch.Size([1, 197, 768])\n",
      "Processed /Users/chy/Projects/Thesis/spectrograms/tt0211443.png with feature shape: torch.Size([1, 197, 768])\n"
     ]
    },
    {
     "name": "stderr",
     "output_type": "stream",
     "text": [
      " 16%|█▋        | 221/1356 [00:19<01:38, 11.50it/s]"
     ]
    },
    {
     "name": "stdout",
     "output_type": "stream",
     "text": [
      "Processed /Users/chy/Projects/Thesis/spectrograms/tt0409043.png with feature shape: torch.Size([1, 197, 768])\n",
      "Processed /Users/chy/Projects/Thesis/spectrograms/tt2978462.png with feature shape: torch.Size([1, 197, 768])\n",
      "Processed /Users/chy/Projects/Thesis/spectrograms/tt2179116.png with feature shape: torch.Size([1, 197, 768])\n"
     ]
    },
    {
     "name": "stderr",
     "output_type": "stream",
     "text": [
      " 17%|█▋        | 225/1356 [00:19<01:36, 11.77it/s]"
     ]
    },
    {
     "name": "stdout",
     "output_type": "stream",
     "text": [
      "Processed /Users/chy/Projects/Thesis/spectrograms/tt1664894.png with feature shape: torch.Size([1, 197, 768])\n",
      "Processed /Users/chy/Projects/Thesis/spectrograms/tt0441007.png with feature shape: torch.Size([1, 197, 768])\n",
      "Processed /Users/chy/Projects/Thesis/spectrograms/tt0976222.png with feature shape: torch.Size([1, 197, 768])\n"
     ]
    },
    {
     "name": "stderr",
     "output_type": "stream",
     "text": [
      " 17%|█▋        | 227/1356 [00:20<01:35, 11.86it/s]"
     ]
    },
    {
     "name": "stdout",
     "output_type": "stream",
     "text": [
      "Processed /Users/chy/Projects/Thesis/spectrograms/tt0438315.png with feature shape: torch.Size([1, 197, 768])\n",
      "Processed /Users/chy/Projects/Thesis/spectrograms/tt0484207.png with feature shape: torch.Size([1, 197, 768])\n",
      "Processed /Users/chy/Projects/Thesis/spectrograms/tt0305224.png with feature shape: torch.Size([1, 197, 768])\n"
     ]
    },
    {
     "name": "stderr",
     "output_type": "stream",
     "text": [
      " 17%|█▋        | 231/1356 [00:20<01:35, 11.75it/s]"
     ]
    },
    {
     "name": "stdout",
     "output_type": "stream",
     "text": [
      "Processed /Users/chy/Projects/Thesis/spectrograms/tt2609912.png with feature shape: torch.Size([1, 197, 768])\n",
      "Processed /Users/chy/Projects/Thesis/spectrograms/tt1956620.png with feature shape: torch.Size([1, 197, 768])\n",
      "Processed /Users/chy/Projects/Thesis/spectrograms/tt0804529.png with feature shape: torch.Size([1, 197, 768])\n"
     ]
    },
    {
     "name": "stderr",
     "output_type": "stream",
     "text": [
      " 17%|█▋        | 233/1356 [00:20<01:33, 12.03it/s]"
     ]
    },
    {
     "name": "stdout",
     "output_type": "stream",
     "text": [
      "Processed /Users/chy/Projects/Thesis/spectrograms/tt0432348.png with feature shape: torch.Size([1, 197, 768])\n",
      "Processed /Users/chy/Projects/Thesis/spectrograms/tt0113617.png with feature shape: torch.Size([1, 197, 768])\n",
      "Processed /Users/chy/Projects/Thesis/spectrograms/tt0206275.png with feature shape: torch.Size([1, 197, 768])\n"
     ]
    },
    {
     "name": "stderr",
     "output_type": "stream",
     "text": [
      " 17%|█▋        | 235/1356 [00:20<01:41, 11.00it/s]"
     ]
    },
    {
     "name": "stdout",
     "output_type": "stream",
     "text": [
      "Processed /Users/chy/Projects/Thesis/spectrograms/tt1060277.png with feature shape: torch.Size([1, 197, 768])\n",
      "Processed /Users/chy/Projects/Thesis/spectrograms/tt1127896.png with feature shape: torch.Size([1, 197, 768])\n"
     ]
    },
    {
     "name": "stderr",
     "output_type": "stream",
     "text": [
      " 18%|█▊        | 239/1356 [00:21<01:35, 11.65it/s]"
     ]
    },
    {
     "name": "stdout",
     "output_type": "stream",
     "text": [
      "Processed /Users/chy/Projects/Thesis/spectrograms/tt0319343.png with feature shape: torch.Size([1, 197, 768])\n",
      "Processed /Users/chy/Projects/Thesis/spectrograms/tt0480249.png with feature shape: torch.Size([1, 197, 768])\n",
      "Processed /Users/chy/Projects/Thesis/spectrograms/tt1104083.png with feature shape: torch.Size([1, 197, 768])\n"
     ]
    },
    {
     "name": "stderr",
     "output_type": "stream",
     "text": [
      " 18%|█▊        | 241/1356 [00:21<01:33, 11.91it/s]"
     ]
    },
    {
     "name": "stdout",
     "output_type": "stream",
     "text": [
      "Processed /Users/chy/Projects/Thesis/spectrograms/tt0498348.png with feature shape: torch.Size([1, 197, 768])\n",
      "Processed /Users/chy/Projects/Thesis/spectrograms/tt1142798.png with feature shape: torch.Size([1, 197, 768])\n",
      "Processed /Users/chy/Projects/Thesis/spectrograms/tt1287468.png with feature shape: torch.Size([1, 197, 768])\n"
     ]
    },
    {
     "name": "stderr",
     "output_type": "stream",
     "text": [
      " 18%|█▊        | 245/1356 [00:21<01:32, 11.99it/s]"
     ]
    },
    {
     "name": "stdout",
     "output_type": "stream",
     "text": [
      "Processed /Users/chy/Projects/Thesis/spectrograms/tt1922612.png with feature shape: torch.Size([1, 197, 768])\n",
      "Processed /Users/chy/Projects/Thesis/spectrograms/tt1860353.png with feature shape: torch.Size([1, 197, 768])\n",
      "Processed /Users/chy/Projects/Thesis/spectrograms/tt0437232.png with feature shape: torch.Size([1, 197, 768])\n"
     ]
    },
    {
     "name": "stderr",
     "output_type": "stream",
     "text": [
      " 18%|█▊        | 247/1356 [00:21<01:31, 12.15it/s]"
     ]
    },
    {
     "name": "stdout",
     "output_type": "stream",
     "text": [
      "Processed /Users/chy/Projects/Thesis/spectrograms/tt0800003.png with feature shape: torch.Size([1, 197, 768])\n",
      "Processed /Users/chy/Projects/Thesis/spectrograms/tt0473464.png with feature shape: torch.Size([1, 197, 768])\n",
      "Processed /Users/chy/Projects/Thesis/spectrograms/tt2059171.png with feature shape: torch.Size([1, 197, 768])\n"
     ]
    },
    {
     "name": "stderr",
     "output_type": "stream",
     "text": [
      " 19%|█▊        | 251/1356 [00:22<01:30, 12.15it/s]"
     ]
    },
    {
     "name": "stdout",
     "output_type": "stream",
     "text": [
      "Processed /Users/chy/Projects/Thesis/spectrograms/tt0379306.png with feature shape: torch.Size([1, 197, 768])\n",
      "Processed /Users/chy/Projects/Thesis/spectrograms/tt5688932.png with feature shape: torch.Size([1, 197, 768])\n",
      "Processed /Users/chy/Projects/Thesis/spectrograms/tt0120591.png with feature shape: torch.Size([1, 197, 768])\n"
     ]
    },
    {
     "name": "stderr",
     "output_type": "stream",
     "text": [
      " 19%|█▊        | 253/1356 [00:22<01:31, 12.08it/s]"
     ]
    },
    {
     "name": "stdout",
     "output_type": "stream",
     "text": [
      "Processed /Users/chy/Projects/Thesis/spectrograms/tt1631707.png with feature shape: torch.Size([1, 197, 768])\n",
      "Processed /Users/chy/Projects/Thesis/spectrograms/tt0418004.png with feature shape: torch.Size([1, 197, 768])\n",
      "Processed /Users/chy/Projects/Thesis/spectrograms/tt0203119.png with feature shape: torch.Size([1, 197, 768])\n"
     ]
    },
    {
     "name": "stderr",
     "output_type": "stream",
     "text": [
      " 19%|█▉        | 255/1356 [00:22<01:30, 12.18it/s]"
     ]
    },
    {
     "name": "stdout",
     "output_type": "stream",
     "text": [
      "Processed /Users/chy/Projects/Thesis/spectrograms/tt0333780.png with feature shape: torch.Size([1, 197, 768])\n",
      "Processed /Users/chy/Projects/Thesis/spectrograms/tt0358135.png with feature shape: torch.Size([1, 197, 768])\n"
     ]
    },
    {
     "name": "stderr",
     "output_type": "stream",
     "text": [
      " 19%|█▉        | 259/1356 [00:22<01:38, 11.19it/s]"
     ]
    },
    {
     "name": "stdout",
     "output_type": "stream",
     "text": [
      "Processed /Users/chy/Projects/Thesis/spectrograms/tt2870612.png with feature shape: torch.Size([1, 197, 768])\n",
      "Processed /Users/chy/Projects/Thesis/spectrograms/tt0118556.png with feature shape: torch.Size([1, 197, 768])\n",
      "Processed /Users/chy/Projects/Thesis/spectrograms/tt0117665.png with feature shape: torch.Size([1, 197, 768])\n"
     ]
    },
    {
     "name": "stderr",
     "output_type": "stream",
     "text": [
      " 19%|█▉        | 261/1356 [00:22<01:34, 11.57it/s]"
     ]
    },
    {
     "name": "stdout",
     "output_type": "stream",
     "text": [
      "Processed /Users/chy/Projects/Thesis/spectrograms/tt0422401.png with feature shape: torch.Size([1, 197, 768])\n",
      "Processed /Users/chy/Projects/Thesis/spectrograms/tt0854678.png with feature shape: torch.Size([1, 197, 768])\n",
      "Processed /Users/chy/Projects/Thesis/spectrograms/tt2017020.png with feature shape: torch.Size([1, 197, 768])\n"
     ]
    },
    {
     "name": "stderr",
     "output_type": "stream",
     "text": [
      " 20%|█▉        | 265/1356 [00:23<01:32, 11.82it/s]"
     ]
    },
    {
     "name": "stdout",
     "output_type": "stream",
     "text": [
      "Processed /Users/chy/Projects/Thesis/spectrograms/tt4191054.png with feature shape: torch.Size([1, 197, 768])\n",
      "Processed /Users/chy/Projects/Thesis/spectrograms/tt1079444.png with feature shape: torch.Size([1, 197, 768])\n",
      "Processed /Users/chy/Projects/Thesis/spectrograms/tt0404203.png with feature shape: torch.Size([1, 197, 768])\n"
     ]
    },
    {
     "name": "stderr",
     "output_type": "stream",
     "text": [
      " 20%|█▉        | 267/1356 [00:23<01:30, 12.00it/s]"
     ]
    },
    {
     "name": "stdout",
     "output_type": "stream",
     "text": [
      "Processed /Users/chy/Projects/Thesis/spectrograms/tt4160708.png with feature shape: torch.Size([1, 197, 768])\n",
      "Processed /Users/chy/Projects/Thesis/spectrograms/tt0046238.png with feature shape: torch.Size([1, 197, 768])\n",
      "Processed /Users/chy/Projects/Thesis/spectrograms/tt0814314.png with feature shape: torch.Size([1, 197, 768])\n"
     ]
    },
    {
     "name": "stderr",
     "output_type": "stream",
     "text": [
      " 20%|█▉        | 271/1356 [00:23<01:29, 12.14it/s]"
     ]
    },
    {
     "name": "stdout",
     "output_type": "stream",
     "text": [
      "Processed /Users/chy/Projects/Thesis/spectrograms/tt0375104.png with feature shape: torch.Size([1, 197, 768])\n",
      "Processed /Users/chy/Projects/Thesis/spectrograms/tt1477675.png with feature shape: torch.Size([1, 197, 768])\n",
      "Processed /Users/chy/Projects/Thesis/spectrograms/tt0358082.png with feature shape: torch.Size([1, 197, 768])\n"
     ]
    },
    {
     "name": "stderr",
     "output_type": "stream",
     "text": [
      " 20%|██        | 273/1356 [00:23<01:30, 11.92it/s]"
     ]
    },
    {
     "name": "stdout",
     "output_type": "stream",
     "text": [
      "Processed /Users/chy/Projects/Thesis/spectrograms/tt0406158.png with feature shape: torch.Size([1, 197, 768])\n",
      "Processed /Users/chy/Projects/Thesis/spectrograms/tt2261287.png with feature shape: torch.Size([1, 197, 768])\n",
      "Processed /Users/chy/Projects/Thesis/spectrograms/tt4649466.png with feature shape: torch.Size([1, 197, 768])\n"
     ]
    },
    {
     "name": "stderr",
     "output_type": "stream",
     "text": [
      " 20%|██        | 277/1356 [00:24<01:29, 12.03it/s]"
     ]
    },
    {
     "name": "stdout",
     "output_type": "stream",
     "text": [
      "Processed /Users/chy/Projects/Thesis/spectrograms/tt0479968.png with feature shape: torch.Size([1, 197, 768])\n",
      "Processed /Users/chy/Projects/Thesis/spectrograms/tt3687186.png with feature shape: torch.Size([1, 197, 768])\n",
      "Processed /Users/chy/Projects/Thesis/spectrograms/tt0127349.png with feature shape: torch.Size([1, 197, 768])\n"
     ]
    },
    {
     "name": "stderr",
     "output_type": "stream",
     "text": [
      " 21%|██        | 279/1356 [00:24<01:42, 10.50it/s]"
     ]
    },
    {
     "name": "stdout",
     "output_type": "stream",
     "text": [
      "Processed /Users/chy/Projects/Thesis/spectrograms/tt0355954.png with feature shape: torch.Size([1, 197, 768])\n",
      "Processed /Users/chy/Projects/Thesis/spectrograms/tt1182345.png with feature shape: torch.Size([1, 197, 768])\n"
     ]
    },
    {
     "name": "stderr",
     "output_type": "stream",
     "text": [
      " 21%|██        | 281/1356 [00:24<01:34, 11.40it/s]"
     ]
    },
    {
     "name": "stdout",
     "output_type": "stream",
     "text": [
      "Processed /Users/chy/Projects/Thesis/spectrograms/tt0371606.png with feature shape: torch.Size([1, 197, 768])\n",
      "Processed /Users/chy/Projects/Thesis/spectrograms/tt0368343.png with feature shape: torch.Size([1, 197, 768])\n",
      "Processed /Users/chy/Projects/Thesis/spectrograms/tt0462346.png with feature shape: torch.Size([1, 197, 768])\n"
     ]
    },
    {
     "name": "stderr",
     "output_type": "stream",
     "text": [
      " 21%|██        | 285/1356 [00:24<01:28, 12.10it/s]"
     ]
    },
    {
     "name": "stdout",
     "output_type": "stream",
     "text": [
      "Processed /Users/chy/Projects/Thesis/spectrograms/tt1097013.png with feature shape: torch.Size([1, 197, 768])\n",
      "Processed /Users/chy/Projects/Thesis/spectrograms/tt0209958.png with feature shape: torch.Size([1, 197, 768])\n",
      "Processed /Users/chy/Projects/Thesis/spectrograms/tt0112495.png with feature shape: torch.Size([1, 197, 768])\n"
     ]
    },
    {
     "name": "stderr",
     "output_type": "stream",
     "text": [
      " 21%|██        | 287/1356 [00:25<01:29, 11.95it/s]"
     ]
    },
    {
     "name": "stdout",
     "output_type": "stream",
     "text": [
      "Processed /Users/chy/Projects/Thesis/spectrograms/tt2626460.png with feature shape: torch.Size([1, 197, 768])\n",
      "Processed /Users/chy/Projects/Thesis/spectrograms/tt1986953.png with feature shape: torch.Size([1, 197, 768])\n"
     ]
    },
    {
     "name": "stderr",
     "output_type": "stream",
     "text": [
      " 21%|██▏       | 289/1356 [00:25<01:39, 10.74it/s]"
     ]
    },
    {
     "name": "stdout",
     "output_type": "stream",
     "text": [
      "Processed /Users/chy/Projects/Thesis/spectrograms/tt0082910.png with feature shape: torch.Size([1, 197, 768])\n",
      "Processed /Users/chy/Projects/Thesis/spectrograms/tt0405336.png with feature shape: torch.Size([1, 197, 768])\n",
      "Processed /Users/chy/Projects/Thesis/spectrograms/tt1878870.png with feature shape: torch.Size([1, 197, 768])\n"
     ]
    },
    {
     "name": "stderr",
     "output_type": "stream",
     "text": [
      " 21%|██▏       | 291/1356 [00:25<01:33, 11.38it/s]"
     ]
    },
    {
     "name": "stdout",
     "output_type": "stream",
     "text": [
      "Processed /Users/chy/Projects/Thesis/spectrograms/tt0356910.png with feature shape: torch.Size([1, 197, 768])\n",
      "Processed /Users/chy/Projects/Thesis/spectrograms/tt0210945.png with feature shape: torch.Size([1, 197, 768])\n"
     ]
    },
    {
     "name": "stderr",
     "output_type": "stream",
     "text": [
      " 22%|██▏       | 295/1356 [00:25<01:44, 10.17it/s]"
     ]
    },
    {
     "name": "stdout",
     "output_type": "stream",
     "text": [
      "Processed /Users/chy/Projects/Thesis/spectrograms/tt1469304.png with feature shape: torch.Size([1, 197, 768])\n",
      "Processed /Users/chy/Projects/Thesis/spectrograms/tt0283877.png with feature shape: torch.Size([1, 197, 768])\n",
      "Processed /Users/chy/Projects/Thesis/spectrograms/tt0144348.png with feature shape: torch.Size([1, 197, 768])\n"
     ]
    },
    {
     "name": "stderr",
     "output_type": "stream",
     "text": [
      " 22%|██▏       | 297/1356 [00:26<01:56,  9.12it/s]"
     ]
    },
    {
     "name": "stdout",
     "output_type": "stream",
     "text": [
      "Processed /Users/chy/Projects/Thesis/spectrograms/tt1302067.png with feature shape: torch.Size([1, 197, 768])\n",
      "Processed /Users/chy/Projects/Thesis/spectrograms/tt1082807.png with feature shape: torch.Size([1, 197, 768])\n",
      "Processed /Users/chy/Projects/Thesis/spectrograms/tt0129167.png with feature shape: torch.Size([1, 197, 768])\n"
     ]
    },
    {
     "name": "stderr",
     "output_type": "stream",
     "text": [
      " 22%|██▏       | 301/1356 [00:26<01:45, 10.01it/s]"
     ]
    },
    {
     "name": "stdout",
     "output_type": "stream",
     "text": [
      "Processed /Users/chy/Projects/Thesis/spectrograms/tt1781827.png with feature shape: torch.Size([1, 197, 768])\n",
      "Processed /Users/chy/Projects/Thesis/spectrograms/tt0870122.png with feature shape: torch.Size([1, 197, 768])\n",
      "Processed /Users/chy/Projects/Thesis/spectrograms/tt0120619.png with feature shape: torch.Size([1, 197, 768])\n",
      "Processed /Users/chy/Projects/Thesis/spectrograms/tt1390539.png with feature shape: torch.Size([1, 197, 768])\n",
      "Processed /Users/chy/Projects/Thesis/spectrograms/tt2312718.png with feature shape: torch.Size([1, 197, 768])\n"
     ]
    },
    {
     "name": "stderr",
     "output_type": "stream",
     "text": [
      " 22%|██▏       | 305/1356 [00:27<02:25,  7.22it/s]"
     ]
    },
    {
     "name": "stdout",
     "output_type": "stream",
     "text": [
      "Processed /Users/chy/Projects/Thesis/spectrograms/tt1174954.png with feature shape: torch.Size([1, 197, 768])\n",
      "Processed /Users/chy/Projects/Thesis/spectrograms/tt3289956.png with feature shape: torch.Size([1, 197, 768])\n"
     ]
    },
    {
     "name": "stderr",
     "output_type": "stream",
     "text": [
      " 23%|██▎       | 307/1356 [00:27<03:30,  4.99it/s]"
     ]
    },
    {
     "name": "stdout",
     "output_type": "stream",
     "text": [
      "Processed /Users/chy/Projects/Thesis/spectrograms/tt0087277.png with feature shape: torch.Size([1, 197, 768])\n",
      "Processed /Users/chy/Projects/Thesis/spectrograms/tt0356680.png with feature shape: torch.Size([1, 197, 768])\n"
     ]
    },
    {
     "name": "stderr",
     "output_type": "stream",
     "text": [
      " 23%|██▎       | 308/1356 [00:28<03:03,  5.72it/s]"
     ]
    },
    {
     "name": "stdout",
     "output_type": "stream",
     "text": [
      "Processed /Users/chy/Projects/Thesis/spectrograms/tt0906665.png with feature shape: torch.Size([1, 197, 768])\n",
      "Processed /Users/chy/Projects/Thesis/spectrograms/tt0484562.png with feature shape: torch.Size([1, 197, 768])\n"
     ]
    },
    {
     "name": "stderr",
     "output_type": "stream",
     "text": [
      " 23%|██▎       | 311/1356 [00:28<02:49,  6.16it/s]"
     ]
    },
    {
     "name": "stdout",
     "output_type": "stream",
     "text": [
      "Processed /Users/chy/Projects/Thesis/spectrograms/tt0286106.png with feature shape: torch.Size([1, 197, 768])\n",
      "Processed /Users/chy/Projects/Thesis/spectrograms/tt0244521.png with feature shape: torch.Size([1, 197, 768])\n"
     ]
    },
    {
     "name": "stderr",
     "output_type": "stream",
     "text": [
      " 23%|██▎       | 313/1356 [00:28<02:16,  7.65it/s]"
     ]
    },
    {
     "name": "stdout",
     "output_type": "stream",
     "text": [
      "Processed /Users/chy/Projects/Thesis/spectrograms/tt0065225.png with feature shape: torch.Size([1, 197, 768])\n",
      "Processed /Users/chy/Projects/Thesis/spectrograms/tt0382189.png with feature shape: torch.Size([1, 197, 768])\n"
     ]
    },
    {
     "name": "stderr",
     "output_type": "stream",
     "text": [
      " 23%|██▎       | 314/1356 [00:28<02:17,  7.57it/s]"
     ]
    },
    {
     "name": "stdout",
     "output_type": "stream",
     "text": [
      "Processed /Users/chy/Projects/Thesis/spectrograms/tt2101441.png with feature shape: torch.Size([1, 197, 768])\n"
     ]
    },
    {
     "name": "stderr",
     "output_type": "stream",
     "text": [
      " 23%|██▎       | 316/1356 [00:29<02:26,  7.08it/s]"
     ]
    },
    {
     "name": "stdout",
     "output_type": "stream",
     "text": [
      "Processed /Users/chy/Projects/Thesis/spectrograms/tt0102057.png with feature shape: torch.Size([1, 197, 768])\n",
      "Processed /Users/chy/Projects/Thesis/spectrograms/tt0119311.png with feature shape: torch.Size([1, 197, 768])\n",
      "Processed /Users/chy/Projects/Thesis/spectrograms/tt0360130.png with feature shape: torch.Size([1, 197, 768])\n"
     ]
    },
    {
     "name": "stderr",
     "output_type": "stream",
     "text": [
      " 24%|██▎       | 319/1356 [00:29<02:01,  8.56it/s]"
     ]
    },
    {
     "name": "stdout",
     "output_type": "stream",
     "text": [
      "Processed /Users/chy/Projects/Thesis/spectrograms/tt0804516.png with feature shape: torch.Size([1, 197, 768])\n",
      "Processed /Users/chy/Projects/Thesis/spectrograms/tt0116778.png with feature shape: torch.Size([1, 197, 768])\n",
      "Processed /Users/chy/Projects/Thesis/spectrograms/tt0368578.png with feature shape: torch.Size([1, 197, 768])\n"
     ]
    },
    {
     "name": "stderr",
     "output_type": "stream",
     "text": [
      " 24%|██▎       | 322/1356 [00:29<02:02,  8.44it/s]"
     ]
    },
    {
     "name": "stdout",
     "output_type": "stream",
     "text": [
      "Processed /Users/chy/Projects/Thesis/spectrograms/tt2359137.png with feature shape: torch.Size([1, 197, 768])\n",
      "Processed /Users/chy/Projects/Thesis/spectrograms/tt0443559.png with feature shape: torch.Size([1, 197, 768])\n"
     ]
    },
    {
     "name": "stderr",
     "output_type": "stream",
     "text": [
      " 24%|██▍       | 324/1356 [00:29<01:53,  9.11it/s]"
     ]
    },
    {
     "name": "stdout",
     "output_type": "stream",
     "text": [
      "Processed /Users/chy/Projects/Thesis/spectrograms/tt0388473.png with feature shape: torch.Size([1, 197, 768])\n",
      "Processed /Users/chy/Projects/Thesis/spectrograms/tt1012804.png with feature shape: torch.Size([1, 197, 768])\n"
     ]
    },
    {
     "name": "stderr",
     "output_type": "stream",
     "text": [
      " 24%|██▍       | 326/1356 [00:30<01:56,  8.82it/s]"
     ]
    },
    {
     "name": "stdout",
     "output_type": "stream",
     "text": [
      "Processed /Users/chy/Projects/Thesis/spectrograms/tt1629439.png with feature shape: torch.Size([1, 197, 768])\n",
      "Processed /Users/chy/Projects/Thesis/spectrograms/tt0457510.png with feature shape: torch.Size([1, 197, 768])\n"
     ]
    },
    {
     "name": "stderr",
     "output_type": "stream",
     "text": [
      " 24%|██▍       | 328/1356 [00:30<02:05,  8.16it/s]"
     ]
    },
    {
     "name": "stdout",
     "output_type": "stream",
     "text": [
      "Processed /Users/chy/Projects/Thesis/spectrograms/tt0318761.png with feature shape: torch.Size([1, 197, 768])\n",
      "Processed /Users/chy/Projects/Thesis/spectrograms/tt0257076.png with feature shape: torch.Size([1, 197, 768])\n"
     ]
    },
    {
     "name": "stderr",
     "output_type": "stream",
     "text": [
      " 24%|██▍       | 331/1356 [00:30<01:45,  9.68it/s]"
     ]
    },
    {
     "name": "stdout",
     "output_type": "stream",
     "text": [
      "Processed /Users/chy/Projects/Thesis/spectrograms/tt0483726.png with feature shape: torch.Size([1, 197, 768])\n",
      "Processed /Users/chy/Projects/Thesis/spectrograms/tt0109830.png with feature shape: torch.Size([1, 197, 768])\n",
      "Processed /Users/chy/Projects/Thesis/spectrograms/tt0078788.png with feature shape: torch.Size([1, 197, 768])\n"
     ]
    },
    {
     "name": "stderr",
     "output_type": "stream",
     "text": [
      " 25%|██▍       | 333/1356 [00:31<02:11,  7.77it/s]"
     ]
    },
    {
     "name": "stdout",
     "output_type": "stream",
     "text": [
      "Processed /Users/chy/Projects/Thesis/spectrograms/tt1224366.png with feature shape: torch.Size([1, 197, 768])\n",
      "Processed /Users/chy/Projects/Thesis/spectrograms/tt1959563.png with feature shape: torch.Size([1, 197, 768])\n"
     ]
    },
    {
     "name": "stderr",
     "output_type": "stream",
     "text": [
      " 25%|██▍       | 335/1356 [00:31<02:13,  7.64it/s]"
     ]
    },
    {
     "name": "stdout",
     "output_type": "stream",
     "text": [
      "Processed /Users/chy/Projects/Thesis/spectrograms/tt0951216.png with feature shape: torch.Size([1, 197, 768])\n",
      "Processed /Users/chy/Projects/Thesis/spectrograms/tt1148204.png with feature shape: torch.Size([1, 197, 768])\n"
     ]
    },
    {
     "name": "stderr",
     "output_type": "stream",
     "text": [
      " 25%|██▍       | 338/1356 [00:31<01:55,  8.80it/s]"
     ]
    },
    {
     "name": "stdout",
     "output_type": "stream",
     "text": [
      "Processed /Users/chy/Projects/Thesis/spectrograms/tt0338466.png with feature shape: torch.Size([1, 197, 768])\n",
      "Processed /Users/chy/Projects/Thesis/spectrograms/tt0146882.png with feature shape: torch.Size([1, 197, 768])\n",
      "Processed /Users/chy/Projects/Thesis/spectrograms/tt0188453.png with feature shape: torch.Size([1, 197, 768])\n"
     ]
    },
    {
     "name": "stderr",
     "output_type": "stream",
     "text": [
      " 25%|██▌       | 340/1356 [00:31<01:55,  8.78it/s]"
     ]
    },
    {
     "name": "stdout",
     "output_type": "stream",
     "text": [
      "Processed /Users/chy/Projects/Thesis/spectrograms/tt0452625.png with feature shape: torch.Size([1, 197, 768])\n",
      "Processed /Users/chy/Projects/Thesis/spectrograms/tt2278388.png with feature shape: torch.Size([1, 197, 768])\n"
     ]
    },
    {
     "name": "stderr",
     "output_type": "stream",
     "text": [
      " 25%|██▌       | 342/1356 [00:32<01:51,  9.10it/s]"
     ]
    },
    {
     "name": "stdout",
     "output_type": "stream",
     "text": [
      "Processed /Users/chy/Projects/Thesis/spectrograms/tt0482606.png with feature shape: torch.Size([1, 197, 768])\n",
      "Processed /Users/chy/Projects/Thesis/spectrograms/tt0397044.png with feature shape: torch.Size([1, 197, 768])\n"
     ]
    },
    {
     "name": "stderr",
     "output_type": "stream",
     "text": [
      " 25%|██▌       | 343/1356 [00:32<02:03,  8.17it/s]"
     ]
    },
    {
     "name": "stdout",
     "output_type": "stream",
     "text": [
      "Processed /Users/chy/Projects/Thesis/spectrograms/tt1032755.png with feature shape: torch.Size([1, 197, 768])\n",
      "Processed /Users/chy/Projects/Thesis/spectrograms/tt0349710.png with feature shape: torch.Size([1, 197, 768])\n"
     ]
    },
    {
     "name": "stderr",
     "output_type": "stream",
     "text": [
      " 26%|██▌       | 346/1356 [00:32<02:24,  6.99it/s]"
     ]
    },
    {
     "name": "stdout",
     "output_type": "stream",
     "text": [
      "Processed /Users/chy/Projects/Thesis/spectrograms/tt0842929.png with feature shape: torch.Size([1, 197, 768])\n",
      "Processed /Users/chy/Projects/Thesis/spectrograms/tt0359517.png with feature shape: torch.Size([1, 197, 768])\n"
     ]
    },
    {
     "name": "stderr",
     "output_type": "stream",
     "text": [
      " 26%|██▌       | 347/1356 [00:32<02:39,  6.32it/s]"
     ]
    },
    {
     "name": "stdout",
     "output_type": "stream",
     "text": [
      "Processed /Users/chy/Projects/Thesis/spectrograms/tt0082432.png with feature shape: torch.Size([1, 197, 768])\n",
      "Processed /Users/chy/Projects/Thesis/spectrograms/tt0100419.png with feature shape: torch.Size([1, 197, 768])\n"
     ]
    },
    {
     "name": "stderr",
     "output_type": "stream",
     "text": [
      " 26%|██▌       | 350/1356 [00:33<02:11,  7.65it/s]"
     ]
    },
    {
     "name": "stdout",
     "output_type": "stream",
     "text": [
      "Processed /Users/chy/Projects/Thesis/spectrograms/tt0970179.png with feature shape: torch.Size([1, 197, 768])\n",
      "Processed /Users/chy/Projects/Thesis/spectrograms/tt0424823.png with feature shape: torch.Size([1, 197, 768])\n"
     ]
    },
    {
     "name": "stderr",
     "output_type": "stream",
     "text": [
      " 26%|██▌       | 352/1356 [00:33<01:51,  9.02it/s]"
     ]
    },
    {
     "name": "stdout",
     "output_type": "stream",
     "text": [
      "Processed /Users/chy/Projects/Thesis/spectrograms/tt1130988.png with feature shape: torch.Size([1, 197, 768])\n",
      "Processed /Users/chy/Projects/Thesis/spectrograms/tt1322313.png with feature shape: torch.Size([1, 197, 768])\n",
      "Processed /Users/chy/Projects/Thesis/spectrograms/tt4172430.png with feature shape: torch.Size([1, 197, 768])\n"
     ]
    },
    {
     "name": "stderr",
     "output_type": "stream",
     "text": [
      " 26%|██▋       | 356/1356 [00:33<01:37, 10.25it/s]"
     ]
    },
    {
     "name": "stdout",
     "output_type": "stream",
     "text": [
      "Processed /Users/chy/Projects/Thesis/spectrograms/tt4738776.png with feature shape: torch.Size([1, 197, 768])\n",
      "Processed /Users/chy/Projects/Thesis/spectrograms/tt0117011.png with feature shape: torch.Size([1, 197, 768])\n",
      "Processed /Users/chy/Projects/Thesis/spectrograms/tt0377749.png with feature shape: torch.Size([1, 197, 768])\n"
     ]
    },
    {
     "name": "stderr",
     "output_type": "stream",
     "text": [
      " 26%|██▋       | 358/1356 [00:34<01:37, 10.21it/s]"
     ]
    },
    {
     "name": "stdout",
     "output_type": "stream",
     "text": [
      "Processed /Users/chy/Projects/Thesis/spectrograms/tt0926129.png with feature shape: torch.Size([1, 197, 768])\n",
      "Processed /Users/chy/Projects/Thesis/spectrograms/tt0212338.png with feature shape: torch.Size([1, 197, 768])\n",
      "Processed /Users/chy/Projects/Thesis/spectrograms/tt0322589.png with feature shape: torch.Size([1, 197, 768])\n"
     ]
    },
    {
     "name": "stderr",
     "output_type": "stream",
     "text": [
      " 27%|██▋       | 361/1356 [00:34<01:42,  9.69it/s]"
     ]
    },
    {
     "name": "stdout",
     "output_type": "stream",
     "text": [
      "Processed /Users/chy/Projects/Thesis/spectrograms/tt0118691.png with feature shape: torch.Size([1, 197, 768])\n",
      "Processed /Users/chy/Projects/Thesis/spectrograms/tt0772175.png with feature shape: torch.Size([1, 197, 768])\n",
      "Processed /Users/chy/Projects/Thesis/spectrograms/tt3564200.png with feature shape: torch.Size([1, 197, 768])\n"
     ]
    },
    {
     "name": "stderr",
     "output_type": "stream",
     "text": [
      " 27%|██▋       | 363/1356 [00:34<01:35, 10.44it/s]"
     ]
    },
    {
     "name": "stdout",
     "output_type": "stream",
     "text": [
      "Processed /Users/chy/Projects/Thesis/spectrograms/tt0445946.png with feature shape: torch.Size([1, 197, 768])\n"
     ]
    },
    {
     "name": "stderr",
     "output_type": "stream",
     "text": [
      " 27%|██▋       | 365/1356 [00:34<01:52,  8.79it/s]"
     ]
    },
    {
     "name": "stdout",
     "output_type": "stream",
     "text": [
      "Processed /Users/chy/Projects/Thesis/spectrograms/tt0443489.png with feature shape: torch.Size([1, 197, 768])\n",
      "Processed /Users/chy/Projects/Thesis/spectrograms/tt0338512.png with feature shape: torch.Size([1, 197, 768])\n",
      "Processed /Users/chy/Projects/Thesis/spectrograms/tt8366502.png with feature shape: torch.Size([1, 197, 768])\n"
     ]
    },
    {
     "name": "stderr",
     "output_type": "stream",
     "text": [
      " 27%|██▋       | 368/1356 [00:35<01:47,  9.20it/s]"
     ]
    },
    {
     "name": "stdout",
     "output_type": "stream",
     "text": [
      "Processed /Users/chy/Projects/Thesis/spectrograms/tt0230600.png with feature shape: torch.Size([1, 197, 768])\n",
      "Processed /Users/chy/Projects/Thesis/spectrograms/tt0887719.png with feature shape: torch.Size([1, 197, 768])\n",
      "Processed /Users/chy/Projects/Thesis/spectrograms/tt0065874.png with feature shape: torch.Size([1, 197, 768])\n"
     ]
    },
    {
     "name": "stderr",
     "output_type": "stream",
     "text": [
      " 27%|██▋       | 372/1356 [00:35<01:34, 10.44it/s]"
     ]
    },
    {
     "name": "stdout",
     "output_type": "stream",
     "text": [
      "Processed /Users/chy/Projects/Thesis/spectrograms/tt0211181.png with feature shape: torch.Size([1, 197, 768])\n",
      "Processed /Users/chy/Projects/Thesis/spectrograms/tt0273923.png with feature shape: torch.Size([1, 197, 768])\n",
      "Processed /Users/chy/Projects/Thesis/spectrograms/tt0116695.png with feature shape: torch.Size([1, 197, 768])\n"
     ]
    },
    {
     "name": "stderr",
     "output_type": "stream",
     "text": [
      " 28%|██▊       | 374/1356 [00:35<01:33, 10.46it/s]"
     ]
    },
    {
     "name": "stdout",
     "output_type": "stream",
     "text": [
      "Processed /Users/chy/Projects/Thesis/spectrograms/tt0903627.png with feature shape: torch.Size([1, 197, 768])\n",
      "Processed /Users/chy/Projects/Thesis/spectrograms/tt2183034.png with feature shape: torch.Size([1, 197, 768])\n"
     ]
    },
    {
     "name": "stderr",
     "output_type": "stream",
     "text": [
      " 28%|██▊       | 376/1356 [00:35<01:41,  9.68it/s]"
     ]
    },
    {
     "name": "stdout",
     "output_type": "stream",
     "text": [
      "Processed /Users/chy/Projects/Thesis/spectrograms/tt0268126.png with feature shape: torch.Size([1, 197, 768])\n",
      "Processed /Users/chy/Projects/Thesis/spectrograms/tt0166158.png with feature shape: torch.Size([1, 197, 768])\n",
      "Processed /Users/chy/Projects/Thesis/spectrograms/tt0042788.png with feature shape: torch.Size([1, 197, 768])\n"
     ]
    },
    {
     "name": "stderr",
     "output_type": "stream",
     "text": [
      " 28%|██▊       | 380/1356 [00:36<01:36, 10.08it/s]"
     ]
    },
    {
     "name": "stdout",
     "output_type": "stream",
     "text": [
      "Processed /Users/chy/Projects/Thesis/spectrograms/tt1024724.png with feature shape: torch.Size([1, 197, 768])\n",
      "Processed /Users/chy/Projects/Thesis/spectrograms/tt0147800.png with feature shape: torch.Size([1, 197, 768])\n",
      "Processed /Users/chy/Projects/Thesis/spectrograms/tt0117951.png with feature shape: torch.Size([1, 197, 768])\n"
     ]
    },
    {
     "name": "stderr",
     "output_type": "stream",
     "text": [
      " 28%|██▊       | 382/1356 [00:36<01:41,  9.64it/s]"
     ]
    },
    {
     "name": "stdout",
     "output_type": "stream",
     "text": [
      "Processed /Users/chy/Projects/Thesis/spectrograms/tt0252480.png with feature shape: torch.Size([1, 197, 768])\n",
      "Processed /Users/chy/Projects/Thesis/spectrograms/tt2274570.png with feature shape: torch.Size([1, 197, 768])\n"
     ]
    },
    {
     "name": "stderr",
     "output_type": "stream",
     "text": [
      " 28%|██▊       | 383/1356 [00:36<02:12,  7.34it/s]"
     ]
    },
    {
     "name": "stdout",
     "output_type": "stream",
     "text": [
      "Processed /Users/chy/Projects/Thesis/spectrograms/tt1155056.png with feature shape: torch.Size([1, 197, 768])\n",
      "Processed /Users/chy/Projects/Thesis/spectrograms/tt1135985.png with feature shape: torch.Size([1, 197, 768])\n"
     ]
    },
    {
     "name": "stderr",
     "output_type": "stream",
     "text": [
      " 28%|██▊       | 386/1356 [00:37<01:49,  8.87it/s]"
     ]
    },
    {
     "name": "stdout",
     "output_type": "stream",
     "text": [
      "Processed /Users/chy/Projects/Thesis/spectrograms/tt1093824.png with feature shape: torch.Size([1, 197, 768])\n",
      "Processed /Users/chy/Projects/Thesis/spectrograms/tt1196948.png with feature shape: torch.Size([1, 197, 768])\n",
      "Processed /Users/chy/Projects/Thesis/spectrograms/tt0910934.png with feature shape: torch.Size([1, 197, 768])\n"
     ]
    },
    {
     "name": "stderr",
     "output_type": "stream",
     "text": [
      " 29%|██▉       | 390/1356 [00:37<01:31, 10.52it/s]"
     ]
    },
    {
     "name": "stdout",
     "output_type": "stream",
     "text": [
      "Processed /Users/chy/Projects/Thesis/spectrograms/tt5895892.png with feature shape: torch.Size([1, 197, 768])\n",
      "Processed /Users/chy/Projects/Thesis/spectrograms/tt2881698.png with feature shape: torch.Size([1, 197, 768])\n",
      "Processed /Users/chy/Projects/Thesis/spectrograms/tt1855199.png with feature shape: torch.Size([1, 197, 768])\n"
     ]
    },
    {
     "name": "stderr",
     "output_type": "stream",
     "text": [
      " 29%|██▉       | 392/1356 [00:37<01:28, 10.90it/s]"
     ]
    },
    {
     "name": "stdout",
     "output_type": "stream",
     "text": [
      "Processed /Users/chy/Projects/Thesis/spectrograms/tt7256866.png with feature shape: torch.Size([1, 197, 768])\n",
      "Processed /Users/chy/Projects/Thesis/spectrograms/tt3844362.png with feature shape: torch.Size([1, 197, 768])\n",
      "Processed /Users/chy/Projects/Thesis/spectrograms/tt0425123.png with feature shape: torch.Size([1, 197, 768])\n"
     ]
    },
    {
     "name": "stderr",
     "output_type": "stream",
     "text": [
      " 29%|██▉       | 394/1356 [00:37<01:24, 11.33it/s]"
     ]
    },
    {
     "name": "stdout",
     "output_type": "stream",
     "text": [
      "Processed /Users/chy/Projects/Thesis/spectrograms/tt0479884.png with feature shape: torch.Size([1, 197, 768])\n",
      "Processed /Users/chy/Projects/Thesis/spectrograms/tt1103984.png with feature shape: torch.Size([1, 197, 768])\n",
      "Processed /Users/chy/Projects/Thesis/spectrograms/tt1831806.png with feature shape: torch.Size([1, 197, 768])\n"
     ]
    },
    {
     "name": "stderr",
     "output_type": "stream",
     "text": [
      " 29%|██▉       | 398/1356 [00:38<01:24, 11.40it/s]"
     ]
    },
    {
     "name": "stdout",
     "output_type": "stream",
     "text": [
      "Processed /Users/chy/Projects/Thesis/spectrograms/tt0116722.png with feature shape: torch.Size([1, 197, 768])\n",
      "Processed /Users/chy/Projects/Thesis/spectrograms/tt0252866.png with feature shape: torch.Size([1, 197, 768])\n",
      "Processed /Users/chy/Projects/Thesis/spectrograms/tt1881109.png with feature shape: torch.Size([1, 197, 768])\n"
     ]
    },
    {
     "name": "stderr",
     "output_type": "stream",
     "text": [
      " 29%|██▉       | 400/1356 [00:38<01:25, 11.17it/s]"
     ]
    },
    {
     "name": "stdout",
     "output_type": "stream",
     "text": [
      "Processed /Users/chy/Projects/Thesis/spectrograms/tt1646926.png with feature shape: torch.Size([1, 197, 768])\n",
      "Processed /Users/chy/Projects/Thesis/spectrograms/tt5883570.png with feature shape: torch.Size([1, 197, 768])\n"
     ]
    },
    {
     "name": "stderr",
     "output_type": "stream",
     "text": [
      " 30%|██▉       | 403/1356 [00:38<01:45,  9.05it/s]"
     ]
    },
    {
     "name": "stdout",
     "output_type": "stream",
     "text": [
      "Processed /Users/chy/Projects/Thesis/spectrograms/tt0298148.png with feature shape: torch.Size([1, 197, 768])\n",
      "Processed /Users/chy/Projects/Thesis/spectrograms/tt0936501.png with feature shape: torch.Size([1, 197, 768])\n",
      "Processed /Users/chy/Projects/Thesis/spectrograms/tt0396171.png with feature shape: torch.Size([1, 197, 768])\n"
     ]
    },
    {
     "name": "stderr",
     "output_type": "stream",
     "text": [
      " 30%|██▉       | 406/1356 [00:39<01:53,  8.35it/s]"
     ]
    },
    {
     "name": "stdout",
     "output_type": "stream",
     "text": [
      "Processed /Users/chy/Projects/Thesis/spectrograms/tt2758904.png with feature shape: torch.Size([1, 197, 768])\n",
      "Processed /Users/chy/Projects/Thesis/spectrograms/tt0449010.png with feature shape: torch.Size([1, 197, 768])\n",
      "Processed /Users/chy/Projects/Thesis/spectrograms/tt0464196.png with feature shape: torch.Size([1, 197, 768])\n"
     ]
    },
    {
     "name": "stderr",
     "output_type": "stream",
     "text": [
      " 30%|███       | 409/1356 [00:39<01:54,  8.26it/s]"
     ]
    },
    {
     "name": "stdout",
     "output_type": "stream",
     "text": [
      "Processed /Users/chy/Projects/Thesis/spectrograms/tt1448755.png with feature shape: torch.Size([1, 197, 768])\n",
      "Processed /Users/chy/Projects/Thesis/spectrograms/tt1541995.png with feature shape: torch.Size([1, 197, 768])\n"
     ]
    },
    {
     "name": "stderr",
     "output_type": "stream",
     "text": [
      " 30%|███       | 412/1356 [00:39<01:40,  9.40it/s]"
     ]
    },
    {
     "name": "stdout",
     "output_type": "stream",
     "text": [
      "Processed /Users/chy/Projects/Thesis/spectrograms/tt0996979.png with feature shape: torch.Size([1, 197, 768])\n",
      "Processed /Users/chy/Projects/Thesis/spectrograms/tt0261289.png with feature shape: torch.Size([1, 197, 768])\n",
      "Processed /Users/chy/Projects/Thesis/spectrograms/tt0094737.png with feature shape: torch.Size([1, 197, 768])\n"
     ]
    },
    {
     "name": "stderr",
     "output_type": "stream",
     "text": [
      " 31%|███       | 414/1356 [00:39<01:29, 10.54it/s]"
     ]
    },
    {
     "name": "stdout",
     "output_type": "stream",
     "text": [
      "Processed /Users/chy/Projects/Thesis/spectrograms/tt0100156.png with feature shape: torch.Size([1, 197, 768])\n",
      "Processed /Users/chy/Projects/Thesis/spectrograms/tt2141773.png with feature shape: torch.Size([1, 197, 768])\n",
      "Processed /Users/chy/Projects/Thesis/spectrograms/tt0910936.png with feature shape: torch.Size([1, 197, 768])\n"
     ]
    },
    {
     "name": "stderr",
     "output_type": "stream",
     "text": [
      " 31%|███       | 418/1356 [00:40<01:23, 11.22it/s]"
     ]
    },
    {
     "name": "stdout",
     "output_type": "stream",
     "text": [
      "Processed /Users/chy/Projects/Thesis/spectrograms/tt1178663.png with feature shape: torch.Size([1, 197, 768])\n",
      "Processed /Users/chy/Projects/Thesis/spectrograms/tt2960470.png with feature shape: torch.Size([1, 197, 768])\n",
      "Processed /Users/chy/Projects/Thesis/spectrograms/tt0810922.png with feature shape: torch.Size([1, 197, 768])\n"
     ]
    },
    {
     "name": "stderr",
     "output_type": "stream",
     "text": [
      " 31%|███       | 420/1356 [00:40<01:20, 11.62it/s]"
     ]
    },
    {
     "name": "stdout",
     "output_type": "stream",
     "text": [
      "Processed /Users/chy/Projects/Thesis/spectrograms/tt0283026.png with feature shape: torch.Size([1, 197, 768])\n",
      "Processed /Users/chy/Projects/Thesis/spectrograms/tt0357277.png with feature shape: torch.Size([1, 197, 768])\n",
      "Processed /Users/chy/Projects/Thesis/spectrograms/tt1116186.png with feature shape: torch.Size([1, 197, 768])\n"
     ]
    },
    {
     "name": "stderr",
     "output_type": "stream",
     "text": [
      " 31%|███▏      | 424/1356 [00:40<01:18, 11.80it/s]"
     ]
    },
    {
     "name": "stdout",
     "output_type": "stream",
     "text": [
      "Processed /Users/chy/Projects/Thesis/spectrograms/tt0204175.png with feature shape: torch.Size([1, 197, 768])\n",
      "Processed /Users/chy/Projects/Thesis/spectrograms/tt0286162.png with feature shape: torch.Size([1, 197, 768])\n",
      "Processed /Users/chy/Projects/Thesis/spectrograms/tt0115759.png with feature shape: torch.Size([1, 197, 768])\n"
     ]
    },
    {
     "name": "stderr",
     "output_type": "stream",
     "text": [
      " 31%|███▏      | 426/1356 [00:40<01:17, 12.02it/s]"
     ]
    },
    {
     "name": "stdout",
     "output_type": "stream",
     "text": [
      "Processed /Users/chy/Projects/Thesis/spectrograms/tt0893356.png with feature shape: torch.Size([1, 197, 768])\n",
      "Processed /Users/chy/Projects/Thesis/spectrograms/tt3152624.png with feature shape: torch.Size([1, 197, 768])\n"
     ]
    },
    {
     "name": "stderr",
     "output_type": "stream",
     "text": [
      " 32%|███▏      | 428/1356 [00:41<01:29, 10.31it/s]"
     ]
    },
    {
     "name": "stdout",
     "output_type": "stream",
     "text": [
      "Processed /Users/chy/Projects/Thesis/spectrograms/tt0099005.png with feature shape: torch.Size([1, 197, 768])\n",
      "Processed /Users/chy/Projects/Thesis/spectrograms/tt3316948.png with feature shape: torch.Size([1, 197, 768])\n",
      "Processed /Users/chy/Projects/Thesis/spectrograms/tt0399095.png with feature shape: torch.Size([1, 197, 768])\n"
     ]
    },
    {
     "name": "stderr",
     "output_type": "stream",
     "text": [
      " 32%|███▏      | 432/1356 [00:41<01:21, 11.35it/s]"
     ]
    },
    {
     "name": "stdout",
     "output_type": "stream",
     "text": [
      "Processed /Users/chy/Projects/Thesis/spectrograms/tt3526408.png with feature shape: torch.Size([1, 197, 768])\n",
      "Processed /Users/chy/Projects/Thesis/spectrograms/tt0120912.png with feature shape: torch.Size([1, 197, 768])\n",
      "Processed /Users/chy/Projects/Thesis/spectrograms/tt0120655.png with feature shape: torch.Size([1, 197, 768])\n"
     ]
    },
    {
     "name": "stderr",
     "output_type": "stream",
     "text": [
      " 32%|███▏      | 434/1356 [00:41<01:19, 11.59it/s]"
     ]
    },
    {
     "name": "stdout",
     "output_type": "stream",
     "text": [
      "Processed /Users/chy/Projects/Thesis/spectrograms/tt1985966.png with feature shape: torch.Size([1, 197, 768])\n",
      "Processed /Users/chy/Projects/Thesis/spectrograms/tt0114296.png with feature shape: torch.Size([1, 197, 768])\n",
      "Processed /Users/chy/Projects/Thesis/spectrograms/tt1014801.png with feature shape: torch.Size([1, 197, 768])\n"
     ]
    },
    {
     "name": "stderr",
     "output_type": "stream",
     "text": [
      " 32%|███▏      | 438/1356 [00:41<01:18, 11.72it/s]"
     ]
    },
    {
     "name": "stdout",
     "output_type": "stream",
     "text": [
      "Processed /Users/chy/Projects/Thesis/spectrograms/tt1156398.png with feature shape: torch.Size([1, 197, 768])\n",
      "Processed /Users/chy/Projects/Thesis/spectrograms/tt0345061.png with feature shape: torch.Size([1, 197, 768])\n",
      "Processed /Users/chy/Projects/Thesis/spectrograms/tt3401882.png with feature shape: torch.Size([1, 197, 768])\n"
     ]
    },
    {
     "name": "stderr",
     "output_type": "stream",
     "text": [
      " 32%|███▏      | 440/1356 [00:42<01:21, 11.29it/s]"
     ]
    },
    {
     "name": "stdout",
     "output_type": "stream",
     "text": [
      "Processed /Users/chy/Projects/Thesis/spectrograms/tt1912398.png with feature shape: torch.Size([1, 197, 768])\n",
      "Processed /Users/chy/Projects/Thesis/spectrograms/tt1837642.png with feature shape: torch.Size([1, 197, 768])\n"
     ]
    },
    {
     "name": "stderr",
     "output_type": "stream",
     "text": [
      " 33%|███▎      | 442/1356 [00:42<01:20, 11.40it/s]"
     ]
    },
    {
     "name": "stdout",
     "output_type": "stream",
     "text": [
      "Processed /Users/chy/Projects/Thesis/spectrograms/tt1456635.png with feature shape: torch.Size([1, 197, 768])\n",
      "Processed /Users/chy/Projects/Thesis/spectrograms/tt0298228.png with feature shape: torch.Size([1, 197, 768])\n",
      "Processed /Users/chy/Projects/Thesis/spectrograms/tt0486259.png with feature shape: torch.Size([1, 197, 768])\n"
     ]
    },
    {
     "name": "stderr",
     "output_type": "stream",
     "text": [
      " 33%|███▎      | 444/1356 [00:42<01:20, 11.33it/s]"
     ]
    },
    {
     "name": "stdout",
     "output_type": "stream",
     "text": [
      "Processed /Users/chy/Projects/Thesis/spectrograms/tt0479528.png with feature shape: torch.Size([1, 197, 768])\n",
      "Processed /Users/chy/Projects/Thesis/spectrograms/tt6499752.png with feature shape: torch.Size([1, 197, 768])\n"
     ]
    },
    {
     "name": "stderr",
     "output_type": "stream",
     "text": [
      " 33%|███▎      | 446/1356 [00:42<01:26, 10.52it/s]"
     ]
    },
    {
     "name": "stdout",
     "output_type": "stream",
     "text": [
      "Processed /Users/chy/Projects/Thesis/spectrograms/tt0116683.png with feature shape: torch.Size([1, 197, 768])\n"
     ]
    },
    {
     "name": "stderr",
     "output_type": "stream",
     "text": [
      " 33%|███▎      | 448/1356 [00:43<01:46,  8.55it/s]"
     ]
    },
    {
     "name": "stdout",
     "output_type": "stream",
     "text": [
      "Processed /Users/chy/Projects/Thesis/spectrograms/tt0374900.png with feature shape: torch.Size([1, 197, 768])\n",
      "Processed /Users/chy/Projects/Thesis/spectrograms/tt0780486.png with feature shape: torch.Size([1, 197, 768])\n"
     ]
    },
    {
     "name": "stderr",
     "output_type": "stream",
     "text": [
      " 33%|███▎      | 450/1356 [00:43<01:46,  8.54it/s]"
     ]
    },
    {
     "name": "stdout",
     "output_type": "stream",
     "text": [
      "Processed /Users/chy/Projects/Thesis/spectrograms/tt1415283.png with feature shape: torch.Size([1, 197, 768])\n",
      "Processed /Users/chy/Projects/Thesis/spectrograms/tt0837796.png with feature shape: torch.Size([1, 197, 768])\n",
      "Processed /Users/chy/Projects/Thesis/spectrograms/tt0758774.png with feature shape: torch.Size([1, 197, 768])\n"
     ]
    },
    {
     "name": "stderr",
     "output_type": "stream",
     "text": [
      " 33%|███▎      | 453/1356 [00:43<01:45,  8.53it/s]"
     ]
    },
    {
     "name": "stdout",
     "output_type": "stream",
     "text": [
      "Processed /Users/chy/Projects/Thesis/spectrograms/tt0815245.png with feature shape: torch.Size([1, 197, 768])\n",
      "Processed /Users/chy/Projects/Thesis/spectrograms/tt0378109.png with feature shape: torch.Size([1, 197, 768])\n"
     ]
    },
    {
     "name": "stderr",
     "output_type": "stream",
     "text": [
      " 34%|███▎      | 455/1356 [00:43<01:32,  9.75it/s]"
     ]
    },
    {
     "name": "stdout",
     "output_type": "stream",
     "text": [
      "Processed /Users/chy/Projects/Thesis/spectrograms/tt1305591.png with feature shape: torch.Size([1, 197, 768])\n",
      "Processed /Users/chy/Projects/Thesis/spectrograms/tt1373406.png with feature shape: torch.Size([1, 197, 768])\n"
     ]
    },
    {
     "name": "stderr",
     "output_type": "stream",
     "text": [
      " 34%|███▍      | 458/1356 [00:44<01:25, 10.46it/s]"
     ]
    },
    {
     "name": "stdout",
     "output_type": "stream",
     "text": [
      "Processed /Users/chy/Projects/Thesis/spectrograms/tt0482599.png with feature shape: torch.Size([1, 197, 768])\n",
      "Processed /Users/chy/Projects/Thesis/spectrograms/tt0815244.png with feature shape: torch.Size([1, 197, 768])\n",
      "Processed /Users/chy/Projects/Thesis/spectrograms/tt0452592.png with feature shape: torch.Size([1, 197, 768])\n",
      "Processed /Users/chy/Projects/Thesis/spectrograms/tt0470055.png with feature shape: torch.Size([1, 197, 768])\n",
      "Processed /Users/chy/Projects/Thesis/spectrograms/tt1866197.png with feature shape: torch.Size([1, 197, 768])\n"
     ]
    },
    {
     "name": "stderr",
     "output_type": "stream",
     "text": [
      " 34%|███▍      | 462/1356 [00:44<01:27, 10.25it/s]"
     ]
    },
    {
     "name": "stdout",
     "output_type": "stream",
     "text": [
      "Processed /Users/chy/Projects/Thesis/spectrograms/tt1996264.png with feature shape: torch.Size([1, 197, 768])\n",
      "Processed /Users/chy/Projects/Thesis/spectrograms/tt0952682.png with feature shape: torch.Size([1, 197, 768])\n",
      "Processed /Users/chy/Projects/Thesis/spectrograms/tt0365830.png with feature shape: torch.Size([1, 197, 768])\n",
      "Processed /Users/chy/Projects/Thesis/spectrograms/tt1323594.png with feature shape: torch.Size([1, 197, 768])\n"
     ]
    },
    {
     "name": "stderr",
     "output_type": "stream",
     "text": [
      " 34%|███▍      | 466/1356 [00:44<01:20, 10.99it/s]"
     ]
    },
    {
     "name": "stdout",
     "output_type": "stream",
     "text": [
      "Processed /Users/chy/Projects/Thesis/spectrograms/tt2072233.png with feature shape: torch.Size([1, 197, 768])\n",
      "Processed /Users/chy/Projects/Thesis/spectrograms/tt1961175.png with feature shape: torch.Size([1, 197, 768])\n",
      "Processed /Users/chy/Projects/Thesis/spectrograms/tt3960412.png with feature shape: torch.Size([1, 197, 768])\n"
     ]
    },
    {
     "name": "stderr",
     "output_type": "stream",
     "text": [
      " 35%|███▍      | 470/1356 [00:45<01:14, 11.82it/s]"
     ]
    },
    {
     "name": "stdout",
     "output_type": "stream",
     "text": [
      "Processed /Users/chy/Projects/Thesis/spectrograms/tt0074991.png with feature shape: torch.Size([1, 197, 768])\n",
      "Processed /Users/chy/Projects/Thesis/spectrograms/tt0482572.png with feature shape: torch.Size([1, 197, 768])\n",
      "Processed /Users/chy/Projects/Thesis/spectrograms/tt0364045.png with feature shape: torch.Size([1, 197, 768])\n"
     ]
    },
    {
     "name": "stderr",
     "output_type": "stream",
     "text": [
      " 35%|███▍      | 472/1356 [00:45<01:14, 11.91it/s]"
     ]
    },
    {
     "name": "stdout",
     "output_type": "stream",
     "text": [
      "Processed /Users/chy/Projects/Thesis/spectrograms/tt0119994.png with feature shape: torch.Size([1, 197, 768])\n",
      "Processed /Users/chy/Projects/Thesis/spectrograms/tt0822832.png with feature shape: torch.Size([1, 197, 768])\n",
      "Processed /Users/chy/Projects/Thesis/spectrograms/tt5493706.png with feature shape: torch.Size([1, 197, 768])\n"
     ]
    },
    {
     "name": "stderr",
     "output_type": "stream",
     "text": [
      " 35%|███▌      | 476/1356 [00:45<01:12, 12.11it/s]"
     ]
    },
    {
     "name": "stdout",
     "output_type": "stream",
     "text": [
      "Processed /Users/chy/Projects/Thesis/spectrograms/tt0354623.png with feature shape: torch.Size([1, 197, 768])\n",
      "Processed /Users/chy/Projects/Thesis/spectrograms/tt0092794.png with feature shape: torch.Size([1, 197, 768])\n",
      "Processed /Users/chy/Projects/Thesis/spectrograms/tt0345074.png with feature shape: torch.Size([1, 197, 768])\n"
     ]
    },
    {
     "name": "stderr",
     "output_type": "stream",
     "text": [
      " 35%|███▌      | 478/1356 [00:45<01:11, 12.20it/s]"
     ]
    },
    {
     "name": "stdout",
     "output_type": "stream",
     "text": [
      "Processed /Users/chy/Projects/Thesis/spectrograms/tt4438848.png with feature shape: torch.Size([1, 197, 768])\n",
      "Processed /Users/chy/Projects/Thesis/spectrograms/tt0120913.png with feature shape: torch.Size([1, 197, 768])\n",
      "Processed /Users/chy/Projects/Thesis/spectrograms/tt6516314.png with feature shape: torch.Size([1, 197, 768])\n"
     ]
    },
    {
     "name": "stderr",
     "output_type": "stream",
     "text": [
      " 36%|███▌      | 482/1356 [00:46<01:11, 12.18it/s]"
     ]
    },
    {
     "name": "stdout",
     "output_type": "stream",
     "text": [
      "Processed /Users/chy/Projects/Thesis/spectrograms/tt0448694.png with feature shape: torch.Size([1, 197, 768])\n",
      "Processed /Users/chy/Projects/Thesis/spectrograms/tt7734218.png with feature shape: torch.Size([1, 197, 768])\n",
      "Processed /Users/chy/Projects/Thesis/spectrograms/tt1046997.png with feature shape: torch.Size([1, 197, 768])\n"
     ]
    },
    {
     "name": "stderr",
     "output_type": "stream",
     "text": [
      " 36%|███▌      | 484/1356 [00:46<01:21, 10.68it/s]"
     ]
    },
    {
     "name": "stdout",
     "output_type": "stream",
     "text": [
      "Processed /Users/chy/Projects/Thesis/spectrograms/tt1402488.png with feature shape: torch.Size([1, 197, 768])\n",
      "Processed /Users/chy/Projects/Thesis/spectrograms/tt1217209.png with feature shape: torch.Size([1, 197, 768])\n",
      "Processed /Users/chy/Projects/Thesis/spectrograms/tt6205872.png with feature shape: torch.Size([1, 197, 768])\n",
      "Processed /Users/chy/Projects/Thesis/spectrograms/tt4843640.png with feature shape: torch.Size([1, 197, 768])\n"
     ]
    },
    {
     "name": "stderr",
     "output_type": "stream",
     "text": [
      " 36%|███▌      | 488/1356 [00:46<01:14, 11.71it/s]"
     ]
    },
    {
     "name": "stdout",
     "output_type": "stream",
     "text": [
      "Processed /Users/chy/Projects/Thesis/spectrograms/tt0398375.png with feature shape: torch.Size([1, 197, 768])\n",
      "Processed /Users/chy/Projects/Thesis/spectrograms/tt1043838.png with feature shape: torch.Size([1, 197, 768])\n",
      "Processed /Users/chy/Projects/Thesis/spectrograms/tt0457993.png with feature shape: torch.Size([1, 197, 768])\n"
     ]
    },
    {
     "name": "stderr",
     "output_type": "stream",
     "text": [
      " 36%|███▋      | 492/1356 [00:47<01:12, 11.91it/s]"
     ]
    },
    {
     "name": "stdout",
     "output_type": "stream",
     "text": [
      "Processed /Users/chy/Projects/Thesis/spectrograms/tt0266915.png with feature shape: torch.Size([1, 197, 768])\n",
      "Processed /Users/chy/Projects/Thesis/spectrograms/tt0134033.png with feature shape: torch.Size([1, 197, 768])\n",
      "Processed /Users/chy/Projects/Thesis/spectrograms/tt0339034.png with feature shape: torch.Size([1, 197, 768])\n"
     ]
    },
    {
     "name": "stderr",
     "output_type": "stream",
     "text": [
      " 36%|███▋      | 494/1356 [00:47<01:10, 12.14it/s]"
     ]
    },
    {
     "name": "stdout",
     "output_type": "stream",
     "text": [
      "Processed /Users/chy/Projects/Thesis/spectrograms/tt10740584.png with feature shape: torch.Size([1, 197, 768])\n",
      "Processed /Users/chy/Projects/Thesis/spectrograms/tt0926063.png with feature shape: torch.Size([1, 197, 768])\n",
      "Processed /Users/chy/Projects/Thesis/spectrograms/tt0486674.png with feature shape: torch.Size([1, 197, 768])\n"
     ]
    },
    {
     "name": "stderr",
     "output_type": "stream",
     "text": [
      " 37%|███▋      | 498/1356 [00:47<01:10, 12.19it/s]"
     ]
    },
    {
     "name": "stdout",
     "output_type": "stream",
     "text": [
      "Processed /Users/chy/Projects/Thesis/spectrograms/tt0799934.png with feature shape: torch.Size([1, 197, 768])\n",
      "Processed /Users/chy/Projects/Thesis/spectrograms/tt0318763.png with feature shape: torch.Size([1, 197, 768])\n",
      "Processed /Users/chy/Projects/Thesis/spectrograms/tt0406706.png with feature shape: torch.Size([1, 197, 768])\n"
     ]
    },
    {
     "name": "stderr",
     "output_type": "stream",
     "text": [
      " 37%|███▋      | 500/1356 [00:47<01:09, 12.25it/s]"
     ]
    },
    {
     "name": "stdout",
     "output_type": "stream",
     "text": [
      "Processed /Users/chy/Projects/Thesis/spectrograms/tt2504022.png with feature shape: torch.Size([1, 197, 768])\n",
      "Processed /Users/chy/Projects/Thesis/spectrograms/tt7390588.png with feature shape: torch.Size([1, 197, 768])\n",
      "Processed /Users/chy/Projects/Thesis/spectrograms/tt0489225.png with feature shape: torch.Size([1, 197, 768])\n"
     ]
    },
    {
     "name": "stderr",
     "output_type": "stream",
     "text": [
      " 37%|███▋      | 504/1356 [00:47<01:09, 12.30it/s]"
     ]
    },
    {
     "name": "stdout",
     "output_type": "stream",
     "text": [
      "Processed /Users/chy/Projects/Thesis/spectrograms/tt0327597.png with feature shape: torch.Size([1, 197, 768])\n",
      "Processed /Users/chy/Projects/Thesis/spectrograms/tt0896798.png with feature shape: torch.Size([1, 197, 768])\n",
      "Processed /Users/chy/Projects/Thesis/spectrograms/tt1912996.png with feature shape: torch.Size([1, 197, 768])\n"
     ]
    },
    {
     "name": "stderr",
     "output_type": "stream",
     "text": [
      " 37%|███▋      | 506/1356 [00:48<01:17, 10.98it/s]"
     ]
    },
    {
     "name": "stdout",
     "output_type": "stream",
     "text": [
      "Processed /Users/chy/Projects/Thesis/spectrograms/tt0415965.png with feature shape: torch.Size([1, 197, 768])\n",
      "Processed /Users/chy/Projects/Thesis/spectrograms/tt0081459.png with feature shape: torch.Size([1, 197, 768])\n"
     ]
    },
    {
     "name": "stderr",
     "output_type": "stream",
     "text": [
      " 37%|███▋      | 508/1356 [00:48<01:14, 11.35it/s]"
     ]
    },
    {
     "name": "stdout",
     "output_type": "stream",
     "text": [
      "Processed /Users/chy/Projects/Thesis/spectrograms/tt0116731.png with feature shape: torch.Size([1, 197, 768])\n",
      "Processed /Users/chy/Projects/Thesis/spectrograms/tt0270197.png with feature shape: torch.Size([1, 197, 768])\n",
      "Processed /Users/chy/Projects/Thesis/spectrograms/tt4437216.png with feature shape: torch.Size([1, 197, 768])\n"
     ]
    },
    {
     "name": "stderr",
     "output_type": "stream",
     "text": [
      " 38%|███▊      | 512/1356 [00:48<01:11, 11.85it/s]"
     ]
    },
    {
     "name": "stdout",
     "output_type": "stream",
     "text": [
      "Processed /Users/chy/Projects/Thesis/spectrograms/tt3168230.png with feature shape: torch.Size([1, 197, 768])\n",
      "Processed /Users/chy/Projects/Thesis/spectrograms/tt1087842.png with feature shape: torch.Size([1, 197, 768])\n",
      "Processed /Users/chy/Projects/Thesis/spectrograms/tt1918908.png with feature shape: torch.Size([1, 197, 768])\n"
     ]
    },
    {
     "name": "stderr",
     "output_type": "stream",
     "text": [
      " 38%|███▊      | 514/1356 [00:48<01:10, 11.96it/s]"
     ]
    },
    {
     "name": "stdout",
     "output_type": "stream",
     "text": [
      "Processed /Users/chy/Projects/Thesis/spectrograms/tt1450321.png with feature shape: torch.Size([1, 197, 768])\n",
      "Processed /Users/chy/Projects/Thesis/spectrograms/tt0252444.png with feature shape: torch.Size([1, 197, 768])\n",
      "Processed /Users/chy/Projects/Thesis/spectrograms/tt0490204.png with feature shape: torch.Size([1, 197, 768])\n"
     ]
    },
    {
     "name": "stderr",
     "output_type": "stream",
     "text": [
      " 38%|███▊      | 518/1356 [00:49<01:09, 12.02it/s]"
     ]
    },
    {
     "name": "stdout",
     "output_type": "stream",
     "text": [
      "Processed /Users/chy/Projects/Thesis/spectrograms/tt0120903.png with feature shape: torch.Size([1, 197, 768])\n",
      "Processed /Users/chy/Projects/Thesis/spectrograms/tt0116269.png with feature shape: torch.Size([1, 197, 768])\n",
      "Processed /Users/chy/Projects/Thesis/spectrograms/tt1741243.png with feature shape: torch.Size([1, 197, 768])\n"
     ]
    },
    {
     "name": "stderr",
     "output_type": "stream",
     "text": [
      " 38%|███▊      | 520/1356 [00:49<01:10, 11.92it/s]"
     ]
    },
    {
     "name": "stdout",
     "output_type": "stream",
     "text": [
      "Processed /Users/chy/Projects/Thesis/spectrograms/tt0337579.png with feature shape: torch.Size([1, 197, 768])\n",
      "Processed /Users/chy/Projects/Thesis/spectrograms/tt0214388.png with feature shape: torch.Size([1, 197, 768])\n",
      "Processed /Users/chy/Projects/Thesis/spectrograms/tt3799694.png with feature shape: torch.Size([1, 197, 768])\n"
     ]
    },
    {
     "name": "stderr",
     "output_type": "stream",
     "text": [
      " 39%|███▊      | 524/1356 [00:49<01:07, 12.29it/s]"
     ]
    },
    {
     "name": "stdout",
     "output_type": "stream",
     "text": [
      "Processed /Users/chy/Projects/Thesis/spectrograms/tt0042994.png with feature shape: torch.Size([1, 197, 768])\n",
      "Processed /Users/chy/Projects/Thesis/spectrograms/tt1730294.png with feature shape: torch.Size([1, 197, 768])\n",
      "Processed /Users/chy/Projects/Thesis/spectrograms/tt0857265.png with feature shape: torch.Size([1, 197, 768])\n"
     ]
    },
    {
     "name": "stderr",
     "output_type": "stream",
     "text": [
      " 39%|███▉      | 526/1356 [00:49<01:17, 10.77it/s]"
     ]
    },
    {
     "name": "stdout",
     "output_type": "stream",
     "text": [
      "Processed /Users/chy/Projects/Thesis/spectrograms/tt0310924.png with feature shape: torch.Size([1, 197, 768])\n",
      "Processed /Users/chy/Projects/Thesis/spectrograms/tt0432289.png with feature shape: torch.Size([1, 197, 768])\n",
      "Processed /Users/chy/Projects/Thesis/spectrograms/tt0133412.png with feature shape: torch.Size([1, 197, 768])\n"
     ]
    },
    {
     "name": "stderr",
     "output_type": "stream",
     "text": [
      " 39%|███▉      | 530/1356 [00:50<01:09, 11.89it/s]"
     ]
    },
    {
     "name": "stdout",
     "output_type": "stream",
     "text": [
      "Processed /Users/chy/Projects/Thesis/spectrograms/tt0382077.png with feature shape: torch.Size([1, 197, 768])\n",
      "Processed /Users/chy/Projects/Thesis/spectrograms/tt0162661.png with feature shape: torch.Size([1, 197, 768])\n",
      "Processed /Users/chy/Projects/Thesis/spectrograms/tt0357110.png with feature shape: torch.Size([1, 197, 768])\n"
     ]
    },
    {
     "name": "stderr",
     "output_type": "stream",
     "text": [
      " 39%|███▉      | 532/1356 [00:50<01:07, 12.15it/s]"
     ]
    },
    {
     "name": "stdout",
     "output_type": "stream",
     "text": [
      "Processed /Users/chy/Projects/Thesis/spectrograms/tt0385056.png with feature shape: torch.Size([1, 197, 768])\n",
      "Processed /Users/chy/Projects/Thesis/spectrograms/tt0233469.png with feature shape: torch.Size([1, 197, 768])\n",
      "Processed /Users/chy/Projects/Thesis/spectrograms/tt4156972.png with feature shape: torch.Size([1, 197, 768])\n"
     ]
    },
    {
     "name": "stderr",
     "output_type": "stream",
     "text": [
      " 40%|███▉      | 536/1356 [00:50<01:07, 12.24it/s]"
     ]
    },
    {
     "name": "stdout",
     "output_type": "stream",
     "text": [
      "Processed /Users/chy/Projects/Thesis/spectrograms/tt0363276.png with feature shape: torch.Size([1, 197, 768])\n",
      "Processed /Users/chy/Projects/Thesis/spectrograms/tt0386588.png with feature shape: torch.Size([1, 197, 768])\n",
      "Processed /Users/chy/Projects/Thesis/spectrograms/tt0376108.png with feature shape: torch.Size([1, 197, 768])\n"
     ]
    },
    {
     "name": "stderr",
     "output_type": "stream",
     "text": [
      " 40%|███▉      | 538/1356 [00:50<01:06, 12.33it/s]"
     ]
    },
    {
     "name": "stdout",
     "output_type": "stream",
     "text": [
      "Processed /Users/chy/Projects/Thesis/spectrograms/tt0815241.png with feature shape: torch.Size([1, 197, 768])\n",
      "Processed /Users/chy/Projects/Thesis/spectrograms/tt0210299.png with feature shape: torch.Size([1, 197, 768])\n",
      "Processed /Users/chy/Projects/Thesis/spectrograms/tt0787474.png with feature shape: torch.Size([1, 197, 768])\n"
     ]
    },
    {
     "name": "stderr",
     "output_type": "stream",
     "text": [
      " 40%|███▉      | 542/1356 [00:51<01:07, 12.10it/s]"
     ]
    },
    {
     "name": "stdout",
     "output_type": "stream",
     "text": [
      "Processed /Users/chy/Projects/Thesis/spectrograms/tt1462769.png with feature shape: torch.Size([1, 197, 768])\n",
      "Processed /Users/chy/Projects/Thesis/spectrograms/tt2645164.png with feature shape: torch.Size([1, 197, 768])\n",
      "Processed /Users/chy/Projects/Thesis/spectrograms/tt3687118.png with feature shape: torch.Size([1, 197, 768])\n"
     ]
    },
    {
     "name": "stderr",
     "output_type": "stream",
     "text": [
      " 40%|████      | 544/1356 [00:51<01:05, 12.31it/s]"
     ]
    },
    {
     "name": "stdout",
     "output_type": "stream",
     "text": [
      "Processed /Users/chy/Projects/Thesis/spectrograms/tt2637294.png with feature shape: torch.Size([1, 197, 768])\n",
      "Processed /Users/chy/Projects/Thesis/spectrograms/tt0477071.png with feature shape: torch.Size([1, 197, 768])\n",
      "Processed /Users/chy/Projects/Thesis/spectrograms/tt1308728.png with feature shape: torch.Size([1, 197, 768])\n"
     ]
    },
    {
     "name": "stderr",
     "output_type": "stream",
     "text": [
      " 40%|████      | 548/1356 [00:51<01:10, 11.38it/s]"
     ]
    },
    {
     "name": "stdout",
     "output_type": "stream",
     "text": [
      "Processed /Users/chy/Projects/Thesis/spectrograms/tt0289889.png with feature shape: torch.Size([1, 197, 768])\n",
      "Processed /Users/chy/Projects/Thesis/spectrograms/tt0114906.png with feature shape: torch.Size([1, 197, 768])\n",
      "Processed /Users/chy/Projects/Thesis/spectrograms/tt1100119.png with feature shape: torch.Size([1, 197, 768])\n"
     ]
    },
    {
     "name": "stderr",
     "output_type": "stream",
     "text": [
      " 41%|████      | 550/1356 [00:51<01:06, 12.15it/s]"
     ]
    },
    {
     "name": "stdout",
     "output_type": "stream",
     "text": [
      "Processed /Users/chy/Projects/Thesis/spectrograms/tt0466342.png with feature shape: torch.Size([1, 197, 768])\n",
      "Processed /Users/chy/Projects/Thesis/spectrograms/tt0114279.png with feature shape: torch.Size([1, 197, 768])\n",
      "Processed /Users/chy/Projects/Thesis/spectrograms/tt0870195.png with feature shape: torch.Size([1, 197, 768])\n"
     ]
    },
    {
     "name": "stderr",
     "output_type": "stream",
     "text": [
      " 41%|████      | 554/1356 [00:52<01:05, 12.22it/s]"
     ]
    },
    {
     "name": "stdout",
     "output_type": "stream",
     "text": [
      "Processed /Users/chy/Projects/Thesis/spectrograms/tt0328538.png with feature shape: torch.Size([1, 197, 768])\n",
      "Processed /Users/chy/Projects/Thesis/spectrograms/tt0134630.png with feature shape: torch.Size([1, 197, 768])\n",
      "Processed /Users/chy/Projects/Thesis/spectrograms/tt1213644.png with feature shape: torch.Size([1, 197, 768])\n"
     ]
    },
    {
     "name": "stderr",
     "output_type": "stream",
     "text": [
      " 41%|████      | 556/1356 [00:52<01:05, 12.16it/s]"
     ]
    },
    {
     "name": "stdout",
     "output_type": "stream",
     "text": [
      "Processed /Users/chy/Projects/Thesis/spectrograms/tt2243537.png with feature shape: torch.Size([1, 197, 768])\n",
      "Processed /Users/chy/Projects/Thesis/spectrograms/tt2318527.png with feature shape: torch.Size([1, 197, 768])\n",
      "Processed /Users/chy/Projects/Thesis/spectrograms/tt3387648.png with feature shape: torch.Size([1, 197, 768])\n"
     ]
    },
    {
     "name": "stderr",
     "output_type": "stream",
     "text": [
      " 41%|████▏     | 560/1356 [00:52<01:05, 12.10it/s]"
     ]
    },
    {
     "name": "stdout",
     "output_type": "stream",
     "text": [
      "Processed /Users/chy/Projects/Thesis/spectrograms/tt0110157.png with feature shape: torch.Size([1, 197, 768])\n",
      "Processed /Users/chy/Projects/Thesis/spectrograms/tt1015474.png with feature shape: torch.Size([1, 197, 768])\n",
      "Processed /Users/chy/Projects/Thesis/spectrograms/tt1366344.png with feature shape: torch.Size([1, 197, 768])\n"
     ]
    },
    {
     "name": "stderr",
     "output_type": "stream",
     "text": [
      " 41%|████▏     | 562/1356 [00:52<01:05, 12.18it/s]"
     ]
    },
    {
     "name": "stdout",
     "output_type": "stream",
     "text": [
      "Processed /Users/chy/Projects/Thesis/spectrograms/tt0893346.png with feature shape: torch.Size([1, 197, 768])\n",
      "Processed /Users/chy/Projects/Thesis/spectrograms/tt0323531.png with feature shape: torch.Size([1, 197, 768])\n",
      "Processed /Users/chy/Projects/Thesis/spectrograms/tt0271263.png with feature shape: torch.Size([1, 197, 768])\n"
     ]
    },
    {
     "name": "stderr",
     "output_type": "stream",
     "text": [
      " 42%|████▏     | 566/1356 [00:53<01:04, 12.32it/s]"
     ]
    },
    {
     "name": "stdout",
     "output_type": "stream",
     "text": [
      "Processed /Users/chy/Projects/Thesis/spectrograms/tt0112740.png with feature shape: torch.Size([1, 197, 768])\n",
      "Processed /Users/chy/Projects/Thesis/spectrograms/tt0119167.png with feature shape: torch.Size([1, 197, 768])\n",
      "Processed /Users/chy/Projects/Thesis/spectrograms/tt0417395.png with feature shape: torch.Size([1, 197, 768])\n"
     ]
    },
    {
     "name": "stderr",
     "output_type": "stream",
     "text": [
      " 42%|████▏     | 568/1356 [00:53<01:13, 10.71it/s]"
     ]
    },
    {
     "name": "stdout",
     "output_type": "stream",
     "text": [
      "Processed /Users/chy/Projects/Thesis/spectrograms/tt0475276.png with feature shape: torch.Size([1, 197, 768])\n",
      "Processed /Users/chy/Projects/Thesis/spectrograms/tt0891592.png with feature shape: torch.Size([1, 197, 768])\n",
      "Processed /Users/chy/Projects/Thesis/spectrograms/tt1307989.png with feature shape: torch.Size([1, 197, 768])\n"
     ]
    },
    {
     "name": "stderr",
     "output_type": "stream",
     "text": [
      " 42%|████▏     | 572/1356 [00:53<01:07, 11.56it/s]"
     ]
    },
    {
     "name": "stdout",
     "output_type": "stream",
     "text": [
      "Processed /Users/chy/Projects/Thesis/spectrograms/tt0448134.png with feature shape: torch.Size([1, 197, 768])\n",
      "Processed /Users/chy/Projects/Thesis/spectrograms/tt2557490.png with feature shape: torch.Size([1, 197, 768])\n",
      "Processed /Users/chy/Projects/Thesis/spectrograms/tt1493828.png with feature shape: torch.Size([1, 197, 768])\n"
     ]
    },
    {
     "name": "stderr",
     "output_type": "stream",
     "text": [
      " 42%|████▏     | 574/1356 [00:53<01:05, 11.89it/s]"
     ]
    },
    {
     "name": "stdout",
     "output_type": "stream",
     "text": [
      "Processed /Users/chy/Projects/Thesis/spectrograms/tt2393845.png with feature shape: torch.Size([1, 197, 768])\n",
      "Processed /Users/chy/Projects/Thesis/spectrograms/tt0477139.png with feature shape: torch.Size([1, 197, 768])\n",
      "Processed /Users/chy/Projects/Thesis/spectrograms/tt0244970.png with feature shape: torch.Size([1, 197, 768])\n"
     ]
    },
    {
     "name": "stderr",
     "output_type": "stream",
     "text": [
      " 43%|████▎     | 578/1356 [00:54<01:04, 12.07it/s]"
     ]
    },
    {
     "name": "stdout",
     "output_type": "stream",
     "text": [
      "Processed /Users/chy/Projects/Thesis/spectrograms/tt1430615.png with feature shape: torch.Size([1, 197, 768])\n",
      "Processed /Users/chy/Projects/Thesis/spectrograms/tt2926810.png with feature shape: torch.Size([1, 197, 768])\n",
      "Processed /Users/chy/Projects/Thesis/spectrograms/tt2788710.png with feature shape: torch.Size([1, 197, 768])\n"
     ]
    },
    {
     "name": "stderr",
     "output_type": "stream",
     "text": [
      " 43%|████▎     | 580/1356 [00:54<01:04, 12.02it/s]"
     ]
    },
    {
     "name": "stdout",
     "output_type": "stream",
     "text": [
      "Processed /Users/chy/Projects/Thesis/spectrograms/tt0181316.png with feature shape: torch.Size([1, 197, 768])\n",
      "Processed /Users/chy/Projects/Thesis/spectrograms/tt0889134.png with feature shape: torch.Size([1, 197, 768])\n",
      "Processed /Users/chy/Projects/Thesis/spectrograms/tt0116095.png with feature shape: torch.Size([1, 197, 768])\n"
     ]
    },
    {
     "name": "stderr",
     "output_type": "stream",
     "text": [
      " 43%|████▎     | 584/1356 [00:54<01:05, 11.80it/s]"
     ]
    },
    {
     "name": "stdout",
     "output_type": "stream",
     "text": [
      "Processed /Users/chy/Projects/Thesis/spectrograms/tt1621039.png with feature shape: torch.Size([1, 197, 768])\n",
      "Processed /Users/chy/Projects/Thesis/spectrograms/tt0175526.png with feature shape: torch.Size([1, 197, 768])\n",
      "Processed /Users/chy/Projects/Thesis/spectrograms/tt1081942.png with feature shape: torch.Size([1, 197, 768])\n"
     ]
    },
    {
     "name": "stderr",
     "output_type": "stream",
     "text": [
      " 43%|████▎     | 586/1356 [00:54<01:04, 11.88it/s]"
     ]
    },
    {
     "name": "stdout",
     "output_type": "stream",
     "text": [
      "Processed /Users/chy/Projects/Thesis/spectrograms/tt0304415.png with feature shape: torch.Size([1, 197, 768])\n",
      "Processed /Users/chy/Projects/Thesis/spectrograms/tt0365957.png with feature shape: torch.Size([1, 197, 768])\n",
      "Processed /Users/chy/Projects/Thesis/spectrograms/tt0457572.png with feature shape: torch.Size([1, 197, 768])\n"
     ]
    },
    {
     "name": "stderr",
     "output_type": "stream",
     "text": [
      " 44%|████▎     | 590/1356 [00:55<01:12, 10.60it/s]"
     ]
    },
    {
     "name": "stdout",
     "output_type": "stream",
     "text": [
      "Processed /Users/chy/Projects/Thesis/spectrograms/tt0346156.png with feature shape: torch.Size([1, 197, 768])\n",
      "Processed /Users/chy/Projects/Thesis/spectrograms/tt2458776.png with feature shape: torch.Size([1, 197, 768])\n",
      "Processed /Users/chy/Projects/Thesis/spectrograms/tt0114694.png with feature shape: torch.Size([1, 197, 768])\n"
     ]
    },
    {
     "name": "stderr",
     "output_type": "stream",
     "text": [
      " 44%|████▎     | 592/1356 [00:55<01:12, 10.47it/s]"
     ]
    },
    {
     "name": "stdout",
     "output_type": "stream",
     "text": [
      "Processed /Users/chy/Projects/Thesis/spectrograms/tt1493157.png with feature shape: torch.Size([1, 197, 768])\n",
      "Processed /Users/chy/Projects/Thesis/spectrograms/tt3264102.png with feature shape: torch.Size([1, 197, 768])\n"
     ]
    },
    {
     "name": "stderr",
     "output_type": "stream",
     "text": [
      " 44%|████▍     | 594/1356 [00:55<01:17,  9.80it/s]"
     ]
    },
    {
     "name": "stdout",
     "output_type": "stream",
     "text": [
      "Processed /Users/chy/Projects/Thesis/spectrograms/tt8045574.png with feature shape: torch.Size([1, 197, 768])\n",
      "Processed /Users/chy/Projects/Thesis/spectrograms/tt0328880.png with feature shape: torch.Size([1, 197, 768])\n",
      "Processed /Users/chy/Projects/Thesis/spectrograms/tt3856992.png with feature shape: torch.Size([1, 197, 768])\n"
     ]
    },
    {
     "name": "stderr",
     "output_type": "stream",
     "text": [
      " 44%|████▍     | 596/1356 [00:55<01:14, 10.14it/s]"
     ]
    },
    {
     "name": "stdout",
     "output_type": "stream",
     "text": [
      "Processed /Users/chy/Projects/Thesis/spectrograms/tt2492916.png with feature shape: torch.Size([1, 197, 768])\n",
      "Processed /Users/chy/Projects/Thesis/spectrograms/tt0472043.png with feature shape: torch.Size([1, 197, 768])\n"
     ]
    },
    {
     "name": "stderr",
     "output_type": "stream",
     "text": [
      " 44%|████▍     | 598/1356 [00:56<01:13, 10.35it/s]"
     ]
    },
    {
     "name": "stdout",
     "output_type": "stream",
     "text": [
      "Processed /Users/chy/Projects/Thesis/spectrograms/tt0156841.png with feature shape: torch.Size([1, 197, 768])\n",
      "Processed /Users/chy/Projects/Thesis/spectrograms/tt3672742.png with feature shape: torch.Size([1, 197, 768])\n"
     ]
    },
    {
     "name": "stderr",
     "output_type": "stream",
     "text": [
      " 44%|████▍     | 601/1356 [00:56<01:18,  9.56it/s]"
     ]
    },
    {
     "name": "stdout",
     "output_type": "stream",
     "text": [
      "Processed /Users/chy/Projects/Thesis/spectrograms/tt1231587.png with feature shape: torch.Size([1, 197, 768])\n",
      "Processed /Users/chy/Projects/Thesis/spectrograms/tt0482603.png with feature shape: torch.Size([1, 197, 768])\n"
     ]
    },
    {
     "name": "stderr",
     "output_type": "stream",
     "text": [
      " 44%|████▍     | 603/1356 [00:56<01:28,  8.54it/s]"
     ]
    },
    {
     "name": "stdout",
     "output_type": "stream",
     "text": [
      "Processed /Users/chy/Projects/Thesis/spectrograms/tt1046947.png with feature shape: torch.Size([1, 197, 768])\n",
      "Processed /Users/chy/Projects/Thesis/spectrograms/tt0163187.png with feature shape: torch.Size([1, 197, 768])\n"
     ]
    },
    {
     "name": "stderr",
     "output_type": "stream",
     "text": [
      " 45%|████▍     | 605/1356 [00:57<01:41,  7.40it/s]"
     ]
    },
    {
     "name": "stdout",
     "output_type": "stream",
     "text": [
      "Processed /Users/chy/Projects/Thesis/spectrograms/tt1114740.png with feature shape: torch.Size([1, 197, 768])\n",
      "Processed /Users/chy/Projects/Thesis/spectrograms/tt1431045.png with feature shape: torch.Size([1, 197, 768])\n",
      "Processed /Users/chy/Projects/Thesis/spectrograms/tt1781058.png with feature shape: torch.Size([1, 197, 768])\n"
     ]
    },
    {
     "name": "stderr",
     "output_type": "stream",
     "text": [
      " 45%|████▍     | 608/1356 [00:57<01:26,  8.65it/s]"
     ]
    },
    {
     "name": "stdout",
     "output_type": "stream",
     "text": [
      "Processed /Users/chy/Projects/Thesis/spectrograms/tt0937237.png with feature shape: torch.Size([1, 197, 768])\n",
      "Processed /Users/chy/Projects/Thesis/spectrograms/tt0120647.png with feature shape: torch.Size([1, 197, 768])\n",
      "Processed /Users/chy/Projects/Thesis/spectrograms/tt1302011.png with feature shape: torch.Size([1, 197, 768])\n"
     ]
    },
    {
     "name": "stderr",
     "output_type": "stream",
     "text": [
      " 45%|████▌     | 612/1356 [00:57<01:17,  9.55it/s]"
     ]
    },
    {
     "name": "stdout",
     "output_type": "stream",
     "text": [
      "Processed /Users/chy/Projects/Thesis/spectrograms/tt0906773.png with feature shape: torch.Size([1, 197, 768])\n",
      "Processed /Users/chy/Projects/Thesis/spectrograms/tt0375173.png with feature shape: torch.Size([1, 197, 768])\n",
      "Processed /Users/chy/Projects/Thesis/spectrograms/tt1549920.png with feature shape: torch.Size([1, 197, 768])\n"
     ]
    },
    {
     "name": "stderr",
     "output_type": "stream",
     "text": [
      " 45%|████▌     | 614/1356 [00:58<01:25,  8.64it/s]"
     ]
    },
    {
     "name": "stdout",
     "output_type": "stream",
     "text": [
      "Processed /Users/chy/Projects/Thesis/spectrograms/tt0150377.png with feature shape: torch.Size([1, 197, 768])\n",
      "Processed /Users/chy/Projects/Thesis/spectrograms/tt0042767.png with feature shape: torch.Size([1, 197, 768])\n"
     ]
    },
    {
     "name": "stderr",
     "output_type": "stream",
     "text": [
      " 45%|████▌     | 616/1356 [00:58<01:36,  7.68it/s]"
     ]
    },
    {
     "name": "stdout",
     "output_type": "stream",
     "text": [
      "Processed /Users/chy/Projects/Thesis/spectrograms/tt0204946.png with feature shape: torch.Size([1, 197, 768])\n",
      "Processed /Users/chy/Projects/Thesis/spectrograms/tt0183649.png with feature shape: torch.Size([1, 197, 768])\n"
     ]
    },
    {
     "name": "stderr",
     "output_type": "stream",
     "text": [
      " 46%|████▌     | 618/1356 [00:58<01:24,  8.71it/s]"
     ]
    },
    {
     "name": "stdout",
     "output_type": "stream",
     "text": [
      "Processed /Users/chy/Projects/Thesis/spectrograms/tt0926110.png with feature shape: torch.Size([1, 197, 768])\n",
      "Processed /Users/chy/Projects/Thesis/spectrograms/tt0305669.png with feature shape: torch.Size([1, 197, 768])\n"
     ]
    },
    {
     "name": "stderr",
     "output_type": "stream",
     "text": [
      " 46%|████▌     | 620/1356 [00:58<01:34,  7.78it/s]"
     ]
    },
    {
     "name": "stdout",
     "output_type": "stream",
     "text": [
      "Processed /Users/chy/Projects/Thesis/spectrograms/tt0114938.png with feature shape: torch.Size([1, 197, 768])\n",
      "Processed /Users/chy/Projects/Thesis/spectrograms/tt5115546.png with feature shape: torch.Size([1, 197, 768])\n"
     ]
    },
    {
     "name": "stderr",
     "output_type": "stream",
     "text": [
      " 46%|████▌     | 623/1356 [00:59<01:26,  8.46it/s]"
     ]
    },
    {
     "name": "stdout",
     "output_type": "stream",
     "text": [
      "Processed /Users/chy/Projects/Thesis/spectrograms/tt1136683.png with feature shape: torch.Size([1, 197, 768])\n",
      "Processed /Users/chy/Projects/Thesis/spectrograms/tt0139699.png with feature shape: torch.Size([1, 197, 768])\n",
      "Processed /Users/chy/Projects/Thesis/spectrograms/tt1223236.png with feature shape: torch.Size([1, 197, 768])\n"
     ]
    },
    {
     "name": "stderr",
     "output_type": "stream",
     "text": [
      " 46%|████▌     | 625/1356 [00:59<01:28,  8.24it/s]"
     ]
    },
    {
     "name": "stdout",
     "output_type": "stream",
     "text": [
      "Processed /Users/chy/Projects/Thesis/spectrograms/tt0092546.png with feature shape: torch.Size([1, 197, 768])\n",
      "Processed /Users/chy/Projects/Thesis/spectrograms/tt0389860.png with feature shape: torch.Size([1, 197, 768])\n",
      "Processed /Users/chy/Projects/Thesis/spectrograms/tt4663548.png with feature shape: torch.Size([1, 197, 768])\n"
     ]
    },
    {
     "name": "stderr",
     "output_type": "stream",
     "text": [
      " 46%|████▋     | 628/1356 [00:59<01:15,  9.69it/s]"
     ]
    },
    {
     "name": "stdout",
     "output_type": "stream",
     "text": [
      "Processed /Users/chy/Projects/Thesis/spectrograms/tt2172584.png with feature shape: torch.Size([1, 197, 768])\n",
      "Processed /Users/chy/Projects/Thesis/spectrograms/tt1524930.png with feature shape: torch.Size([1, 197, 768])\n",
      "Processed /Users/chy/Projects/Thesis/spectrograms/tt0164212.png with feature shape: torch.Size([1, 197, 768])\n"
     ]
    },
    {
     "name": "stderr",
     "output_type": "stream",
     "text": [
      " 47%|████▋     | 632/1356 [01:00<01:06, 10.86it/s]"
     ]
    },
    {
     "name": "stdout",
     "output_type": "stream",
     "text": [
      "Processed /Users/chy/Projects/Thesis/spectrograms/tt6261048.png with feature shape: torch.Size([1, 197, 768])\n",
      "Processed /Users/chy/Projects/Thesis/spectrograms/tt0246989.png with feature shape: torch.Size([1, 197, 768])\n",
      "Processed /Users/chy/Projects/Thesis/spectrograms/tt0249462.png with feature shape: torch.Size([1, 197, 768])\n"
     ]
    },
    {
     "name": "stderr",
     "output_type": "stream",
     "text": [
      " 47%|████▋     | 634/1356 [01:00<01:06, 10.83it/s]"
     ]
    },
    {
     "name": "stdout",
     "output_type": "stream",
     "text": [
      "Processed /Users/chy/Projects/Thesis/spectrograms/tt0790686.png with feature shape: torch.Size([1, 197, 768])\n",
      "Processed /Users/chy/Projects/Thesis/spectrograms/tt1222698.png with feature shape: torch.Size([1, 197, 768])\n"
     ]
    },
    {
     "name": "stderr",
     "output_type": "stream",
     "text": [
      " 47%|████▋     | 636/1356 [01:00<01:11, 10.00it/s]"
     ]
    },
    {
     "name": "stdout",
     "output_type": "stream",
     "text": [
      "Processed /Users/chy/Projects/Thesis/spectrograms/tt1091617.png with feature shape: torch.Size([1, 197, 768])\n",
      "Processed /Users/chy/Projects/Thesis/spectrograms/tt0273517.png with feature shape: torch.Size([1, 197, 768])\n",
      "Processed /Users/chy/Projects/Thesis/spectrograms/tt0075860.png with feature shape: torch.Size([1, 197, 768])\n"
     ]
    },
    {
     "name": "stderr",
     "output_type": "stream",
     "text": [
      " 47%|████▋     | 638/1356 [01:00<01:07, 10.56it/s]"
     ]
    },
    {
     "name": "stdout",
     "output_type": "stream",
     "text": [
      "Processed /Users/chy/Projects/Thesis/spectrograms/tt0265349.png with feature shape: torch.Size([1, 197, 768])\n",
      "Processed /Users/chy/Projects/Thesis/spectrograms/tt0374536.png with feature shape: torch.Size([1, 197, 768])\n"
     ]
    },
    {
     "name": "stderr",
     "output_type": "stream",
     "text": [
      " 47%|████▋     | 640/1356 [01:00<01:15,  9.51it/s]"
     ]
    },
    {
     "name": "stdout",
     "output_type": "stream",
     "text": [
      "Processed /Users/chy/Projects/Thesis/spectrograms/tt1839654.png with feature shape: torch.Size([1, 197, 768])\n",
      "Processed /Users/chy/Projects/Thesis/spectrograms/tt3559422.png with feature shape: torch.Size([1, 197, 768])\n",
      "Processed /Users/chy/Projects/Thesis/spectrograms/tt0433383.png with feature shape: torch.Size([1, 197, 768])\n"
     ]
    },
    {
     "name": "stderr",
     "output_type": "stream",
     "text": [
      " 48%|████▊     | 645/1356 [01:01<01:09, 10.21it/s]"
     ]
    },
    {
     "name": "stdout",
     "output_type": "stream",
     "text": [
      "Processed /Users/chy/Projects/Thesis/spectrograms/tt0156934.png with feature shape: torch.Size([1, 197, 768])\n",
      "Processed /Users/chy/Projects/Thesis/spectrograms/tt0435679.png with feature shape: torch.Size([1, 197, 768])\n",
      "Processed /Users/chy/Projects/Thesis/spectrograms/tt0424774.png with feature shape: torch.Size([1, 197, 768])\n",
      "Processed /Users/chy/Projects/Thesis/spectrograms/tt0150216.png with feature shape: torch.Size([1, 197, 768])\n"
     ]
    },
    {
     "name": "stderr",
     "output_type": "stream",
     "text": [
      " 48%|████▊     | 649/1356 [01:01<01:02, 11.35it/s]"
     ]
    },
    {
     "name": "stdout",
     "output_type": "stream",
     "text": [
      "Processed /Users/chy/Projects/Thesis/spectrograms/tt4638148.png with feature shape: torch.Size([1, 197, 768])\n",
      "Processed /Users/chy/Projects/Thesis/spectrograms/tt0414853.png with feature shape: torch.Size([1, 197, 768])\n",
      "Processed /Users/chy/Projects/Thesis/spectrograms/tt0120915.png with feature shape: torch.Size([1, 197, 768])\n"
     ]
    },
    {
     "name": "stderr",
     "output_type": "stream",
     "text": [
      " 48%|████▊     | 651/1356 [01:01<00:59, 11.83it/s]"
     ]
    },
    {
     "name": "stdout",
     "output_type": "stream",
     "text": [
      "Processed /Users/chy/Projects/Thesis/spectrograms/tt2193418.png with feature shape: torch.Size([1, 197, 768])\n",
      "Processed /Users/chy/Projects/Thesis/spectrograms/tt0861689.png with feature shape: torch.Size([1, 197, 768])\n",
      "Processed /Users/chy/Projects/Thesis/spectrograms/tt0307453.png with feature shape: torch.Size([1, 197, 768])\n"
     ]
    },
    {
     "name": "stderr",
     "output_type": "stream",
     "text": [
      " 48%|████▊     | 655/1356 [01:02<00:57, 12.09it/s]"
     ]
    },
    {
     "name": "stdout",
     "output_type": "stream",
     "text": [
      "Processed /Users/chy/Projects/Thesis/spectrograms/tt0257516.png with feature shape: torch.Size([1, 197, 768])\n",
      "Processed /Users/chy/Projects/Thesis/spectrograms/tt0102593.png with feature shape: torch.Size([1, 197, 768])\n",
      "Processed /Users/chy/Projects/Thesis/spectrograms/tt1047494.png with feature shape: torch.Size([1, 197, 768])\n"
     ]
    },
    {
     "name": "stderr",
     "output_type": "stream",
     "text": [
      " 48%|████▊     | 657/1356 [01:02<00:57, 12.24it/s]"
     ]
    },
    {
     "name": "stdout",
     "output_type": "stream",
     "text": [
      "Processed /Users/chy/Projects/Thesis/spectrograms/tt0489019.png with feature shape: torch.Size([1, 197, 768])\n",
      "Processed /Users/chy/Projects/Thesis/spectrograms/tt0080745.png with feature shape: torch.Size([1, 197, 768])\n",
      "Processed /Users/chy/Projects/Thesis/spectrograms/tt0780536.png with feature shape: torch.Size([1, 197, 768])\n"
     ]
    },
    {
     "name": "stderr",
     "output_type": "stream",
     "text": [
      " 49%|████▊     | 659/1356 [01:02<00:56, 12.44it/s]"
     ]
    },
    {
     "name": "stdout",
     "output_type": "stream",
     "text": [
      "Processed /Users/chy/Projects/Thesis/spectrograms/tt0473360.png with feature shape: torch.Size([1, 197, 768])\n",
      "Processed /Users/chy/Projects/Thesis/spectrograms/tt0465502.png with feature shape: torch.Size([1, 197, 768])\n"
     ]
    },
    {
     "name": "stderr",
     "output_type": "stream",
     "text": [
      " 49%|████▉     | 663/1356 [01:02<01:00, 11.40it/s]"
     ]
    },
    {
     "name": "stdout",
     "output_type": "stream",
     "text": [
      "Processed /Users/chy/Projects/Thesis/spectrograms/tt0461770.png with feature shape: torch.Size([1, 197, 768])\n",
      "Processed /Users/chy/Projects/Thesis/spectrograms/tt0116928.png with feature shape: torch.Size([1, 197, 768])\n",
      "Processed /Users/chy/Projects/Thesis/spectrograms/tt1073241.png with feature shape: torch.Size([1, 197, 768])\n"
     ]
    },
    {
     "name": "stderr",
     "output_type": "stream",
     "text": [
      " 49%|████▉     | 665/1356 [01:03<00:58, 11.87it/s]"
     ]
    },
    {
     "name": "stdout",
     "output_type": "stream",
     "text": [
      "Processed /Users/chy/Projects/Thesis/spectrograms/tt0433963.png with feature shape: torch.Size([1, 197, 768])\n",
      "Processed /Users/chy/Projects/Thesis/spectrograms/tt0443274.png with feature shape: torch.Size([1, 197, 768])\n",
      "Processed /Users/chy/Projects/Thesis/spectrograms/tt0259711.png with feature shape: torch.Size([1, 197, 768])\n"
     ]
    },
    {
     "name": "stderr",
     "output_type": "stream",
     "text": [
      " 49%|████▉     | 669/1356 [01:03<01:01, 11.18it/s]"
     ]
    },
    {
     "name": "stdout",
     "output_type": "stream",
     "text": [
      "Processed /Users/chy/Projects/Thesis/spectrograms/tt0413300.png with feature shape: torch.Size([1, 197, 768])\n",
      "Processed /Users/chy/Projects/Thesis/spectrograms/tt0488120.png with feature shape: torch.Size([1, 197, 768])\n",
      "Processed /Users/chy/Projects/Thesis/spectrograms/tt0445620.png with feature shape: torch.Size([1, 197, 768])\n",
      "Processed /Users/chy/Projects/Thesis/spectrograms/tt7690016.png with feature shape: torch.Size([1, 197, 768])\n"
     ]
    },
    {
     "name": "stderr",
     "output_type": "stream",
     "text": [
      " 50%|████▉     | 673/1356 [01:03<00:56, 12.12it/s]"
     ]
    },
    {
     "name": "stdout",
     "output_type": "stream",
     "text": [
      "Processed /Users/chy/Projects/Thesis/spectrograms/tt7050082.png with feature shape: torch.Size([1, 197, 768])\n",
      "Processed /Users/chy/Projects/Thesis/spectrograms/tt0094715.png with feature shape: torch.Size([1, 197, 768])\n",
      "Processed /Users/chy/Projects/Thesis/spectrograms/tt0117420.png with feature shape: torch.Size([1, 197, 768])\n"
     ]
    },
    {
     "name": "stderr",
     "output_type": "stream",
     "text": [
      " 50%|████▉     | 675/1356 [01:03<00:55, 12.37it/s]"
     ]
    },
    {
     "name": "stdout",
     "output_type": "stream",
     "text": [
      "Processed /Users/chy/Projects/Thesis/spectrograms/tt0850667.png with feature shape: torch.Size([1, 197, 768])\n",
      "Processed /Users/chy/Projects/Thesis/spectrograms/tt1605630.png with feature shape: torch.Size([1, 197, 768])\n",
      "Processed /Users/chy/Projects/Thesis/spectrograms/tt1587310.png with feature shape: torch.Size([1, 197, 768])\n"
     ]
    },
    {
     "name": "stderr",
     "output_type": "stream",
     "text": [
      " 50%|█████     | 679/1356 [01:04<00:54, 12.48it/s]"
     ]
    },
    {
     "name": "stdout",
     "output_type": "stream",
     "text": [
      "Processed /Users/chy/Projects/Thesis/spectrograms/tt2215151.png with feature shape: torch.Size([1, 197, 768])\n",
      "Processed /Users/chy/Projects/Thesis/spectrograms/tt0490579.png with feature shape: torch.Size([1, 197, 768])\n",
      "Processed /Users/chy/Projects/Thesis/spectrograms/tt4786132.png with feature shape: torch.Size([1, 197, 768])\n"
     ]
    },
    {
     "name": "stderr",
     "output_type": "stream",
     "text": [
      " 50%|█████     | 681/1356 [01:04<00:53, 12.54it/s]"
     ]
    },
    {
     "name": "stdout",
     "output_type": "stream",
     "text": [
      "Processed /Users/chy/Projects/Thesis/spectrograms/tt2872718.png with feature shape: torch.Size([1, 197, 768])\n",
      "Processed /Users/chy/Projects/Thesis/spectrograms/tt0245686.png with feature shape: torch.Size([1, 197, 768])\n",
      "Processed /Users/chy/Projects/Thesis/spectrograms/tt1567233.png with feature shape: torch.Size([1, 197, 768])\n"
     ]
    },
    {
     "name": "stderr",
     "output_type": "stream",
     "text": [
      " 51%|█████     | 685/1356 [01:04<00:53, 12.51it/s]"
     ]
    },
    {
     "name": "stdout",
     "output_type": "stream",
     "text": [
      "Processed /Users/chy/Projects/Thesis/spectrograms/tt0170691.png with feature shape: torch.Size([1, 197, 768])\n",
      "Processed /Users/chy/Projects/Thesis/spectrograms/tt0243585.png with feature shape: torch.Size([1, 197, 768])\n",
      "Processed /Users/chy/Projects/Thesis/spectrograms/tt0809504.png with feature shape: torch.Size([1, 197, 768])\n"
     ]
    },
    {
     "name": "stderr",
     "output_type": "stream",
     "text": [
      " 51%|█████     | 687/1356 [01:04<00:53, 12.58it/s]"
     ]
    },
    {
     "name": "stdout",
     "output_type": "stream",
     "text": [
      "Processed /Users/chy/Projects/Thesis/spectrograms/tt0369436.png with feature shape: torch.Size([1, 197, 768])\n",
      "Processed /Users/chy/Projects/Thesis/spectrograms/tt1601913.png with feature shape: torch.Size([1, 197, 768])\n",
      "Processed /Users/chy/Projects/Thesis/spectrograms/tt8151874.png with feature shape: torch.Size([1, 197, 768])\n"
     ]
    },
    {
     "name": "stderr",
     "output_type": "stream",
     "text": [
      " 51%|█████     | 691/1356 [01:05<00:54, 12.26it/s]"
     ]
    },
    {
     "name": "stdout",
     "output_type": "stream",
     "text": [
      "Processed /Users/chy/Projects/Thesis/spectrograms/tt0259324.png with feature shape: torch.Size([1, 197, 768])\n",
      "Processed /Users/chy/Projects/Thesis/spectrograms/tt0379786.png with feature shape: torch.Size([1, 197, 768])\n",
      "Processed /Users/chy/Projects/Thesis/spectrograms/tt0110950.png with feature shape: torch.Size([1, 197, 768])\n"
     ]
    },
    {
     "name": "stderr",
     "output_type": "stream",
     "text": [
      " 51%|█████     | 693/1356 [01:05<00:52, 12.64it/s]"
     ]
    },
    {
     "name": "stdout",
     "output_type": "stream",
     "text": [
      "Processed /Users/chy/Projects/Thesis/spectrograms/tt1911658.png with feature shape: torch.Size([1, 197, 768])\n",
      "Processed /Users/chy/Projects/Thesis/spectrograms/tt1078912.png with feature shape: torch.Size([1, 197, 768])\n",
      "Processed /Users/chy/Projects/Thesis/spectrograms/tt1205558.png with feature shape: torch.Size([1, 197, 768])\n"
     ]
    },
    {
     "name": "stderr",
     "output_type": "stream",
     "text": [
      " 51%|█████▏    | 697/1356 [01:05<00:55, 11.97it/s]"
     ]
    },
    {
     "name": "stdout",
     "output_type": "stream",
     "text": [
      "Processed /Users/chy/Projects/Thesis/spectrograms/tt0118698.png with feature shape: torch.Size([1, 197, 768])\n",
      "Processed /Users/chy/Projects/Thesis/spectrograms/tt4651520.png with feature shape: torch.Size([1, 197, 768])\n",
      "Processed /Users/chy/Projects/Thesis/spectrograms/tt0299458.png with feature shape: torch.Size([1, 197, 768])\n"
     ]
    },
    {
     "name": "stderr",
     "output_type": "stream",
     "text": [
      " 52%|█████▏    | 699/1356 [01:05<00:52, 12.54it/s]"
     ]
    },
    {
     "name": "stdout",
     "output_type": "stream",
     "text": [
      "Processed /Users/chy/Projects/Thesis/spectrograms/tt0397313.png with feature shape: torch.Size([1, 197, 768])\n",
      "Processed /Users/chy/Projects/Thesis/spectrograms/tt4273562.png with feature shape: torch.Size([1, 197, 768])\n",
      "Processed /Users/chy/Projects/Thesis/spectrograms/tt0486051.png with feature shape: torch.Size([1, 197, 768])\n"
     ]
    },
    {
     "name": "stderr",
     "output_type": "stream",
     "text": [
      " 52%|█████▏    | 703/1356 [01:06<00:51, 12.75it/s]"
     ]
    },
    {
     "name": "stdout",
     "output_type": "stream",
     "text": [
      "Processed /Users/chy/Projects/Thesis/spectrograms/tt0772168.png with feature shape: torch.Size([1, 197, 768])\n",
      "Processed /Users/chy/Projects/Thesis/spectrograms/tt0267989.png with feature shape: torch.Size([1, 197, 768])\n",
      "Processed /Users/chy/Projects/Thesis/spectrograms/tt2235108.png with feature shape: torch.Size([1, 197, 768])\n"
     ]
    },
    {
     "name": "stderr",
     "output_type": "stream",
     "text": [
      " 52%|█████▏    | 705/1356 [01:06<00:51, 12.66it/s]"
     ]
    },
    {
     "name": "stdout",
     "output_type": "stream",
     "text": [
      "Processed /Users/chy/Projects/Thesis/spectrograms/tt0991167.png with feature shape: torch.Size([1, 197, 768])\n",
      "Processed /Users/chy/Projects/Thesis/spectrograms/tt0274711.png with feature shape: torch.Size([1, 197, 768])\n",
      "Processed /Users/chy/Projects/Thesis/spectrograms/tt0295289.png with feature shape: torch.Size([1, 197, 768])\n"
     ]
    },
    {
     "name": "stderr",
     "output_type": "stream",
     "text": [
      " 52%|█████▏    | 709/1356 [01:06<00:50, 12.74it/s]"
     ]
    },
    {
     "name": "stdout",
     "output_type": "stream",
     "text": [
      "Processed /Users/chy/Projects/Thesis/spectrograms/tt2332883.png with feature shape: torch.Size([1, 197, 768])\n",
      "Processed /Users/chy/Projects/Thesis/spectrograms/tt1817771.png with feature shape: torch.Size([1, 197, 768])\n",
      "Processed /Users/chy/Projects/Thesis/spectrograms/tt0098067.png with feature shape: torch.Size([1, 197, 768])\n"
     ]
    },
    {
     "name": "stderr",
     "output_type": "stream",
     "text": [
      " 52%|█████▏    | 711/1356 [01:06<00:49, 12.95it/s]"
     ]
    },
    {
     "name": "stdout",
     "output_type": "stream",
     "text": [
      "Processed /Users/chy/Projects/Thesis/spectrograms/tt2244901.png with feature shape: torch.Size([1, 197, 768])\n",
      "Processed /Users/chy/Projects/Thesis/spectrograms/tt0452598.png with feature shape: torch.Size([1, 197, 768])\n",
      "Processed /Users/chy/Projects/Thesis/spectrograms/tt0470705.png with feature shape: torch.Size([1, 197, 768])\n"
     ]
    },
    {
     "name": "stderr",
     "output_type": "stream",
     "text": [
      " 53%|█████▎    | 715/1356 [01:07<00:49, 12.98it/s]"
     ]
    },
    {
     "name": "stdout",
     "output_type": "stream",
     "text": [
      "Processed /Users/chy/Projects/Thesis/spectrograms/tt0190374.png with feature shape: torch.Size([1, 197, 768])\n",
      "Processed /Users/chy/Projects/Thesis/spectrograms/tt0092563.png with feature shape: torch.Size([1, 197, 768])\n",
      "Processed /Users/chy/Projects/Thesis/spectrograms/tt2381335.png with feature shape: torch.Size([1, 197, 768])\n"
     ]
    },
    {
     "name": "stderr",
     "output_type": "stream",
     "text": [
      " 53%|█████▎    | 717/1356 [01:07<00:49, 12.99it/s]"
     ]
    },
    {
     "name": "stdout",
     "output_type": "stream",
     "text": [
      "Processed /Users/chy/Projects/Thesis/spectrograms/tt0240462.png with feature shape: torch.Size([1, 197, 768])\n",
      "Processed /Users/chy/Projects/Thesis/spectrograms/tt0077504.png with feature shape: torch.Size([1, 197, 768])\n",
      "Processed /Users/chy/Projects/Thesis/spectrograms/tt0765429.png with feature shape: torch.Size([1, 197, 768])\n"
     ]
    },
    {
     "name": "stderr",
     "output_type": "stream",
     "text": [
      " 53%|█████▎    | 719/1356 [01:07<00:51, 12.32it/s]"
     ]
    },
    {
     "name": "stdout",
     "output_type": "stream",
     "text": [
      "Processed /Users/chy/Projects/Thesis/spectrograms/tt3381008.png with feature shape: torch.Size([1, 197, 768])\n",
      "Processed /Users/chy/Projects/Thesis/spectrograms/tt0339412.png with feature shape: torch.Size([1, 197, 768])\n"
     ]
    },
    {
     "name": "stderr",
     "output_type": "stream",
     "text": [
      " 53%|█████▎    | 723/1356 [01:07<00:50, 12.44it/s]"
     ]
    },
    {
     "name": "stdout",
     "output_type": "stream",
     "text": [
      "Processed /Users/chy/Projects/Thesis/spectrograms/tt1186367.png with feature shape: torch.Size([1, 197, 768])\n",
      "Processed /Users/chy/Projects/Thesis/spectrograms/tt0433416.png with feature shape: torch.Size([1, 197, 768])\n",
      "Processed /Users/chy/Projects/Thesis/spectrograms/tt0301199.png with feature shape: torch.Size([1, 197, 768])\n"
     ]
    },
    {
     "name": "stderr",
     "output_type": "stream",
     "text": [
      " 53%|█████▎    | 725/1356 [01:07<00:49, 12.68it/s]"
     ]
    },
    {
     "name": "stdout",
     "output_type": "stream",
     "text": [
      "Processed /Users/chy/Projects/Thesis/spectrograms/tt0279778.png with feature shape: torch.Size([1, 197, 768])\n",
      "Processed /Users/chy/Projects/Thesis/spectrograms/tt0277027.png with feature shape: torch.Size([1, 197, 768])\n",
      "Processed /Users/chy/Projects/Thesis/spectrograms/tt0397892.png with feature shape: torch.Size([1, 197, 768])\n"
     ]
    },
    {
     "name": "stderr",
     "output_type": "stream",
     "text": [
      " 54%|█████▍    | 729/1356 [01:08<00:49, 12.74it/s]"
     ]
    },
    {
     "name": "stdout",
     "output_type": "stream",
     "text": [
      "Processed /Users/chy/Projects/Thesis/spectrograms/tt0103939.png with feature shape: torch.Size([1, 197, 768])\n",
      "Processed /Users/chy/Projects/Thesis/spectrograms/tt0437857.png with feature shape: torch.Size([1, 197, 768])\n",
      "Processed /Users/chy/Projects/Thesis/spectrograms/tt1634003.png with feature shape: torch.Size([1, 197, 768])\n"
     ]
    },
    {
     "name": "stderr",
     "output_type": "stream",
     "text": [
      " 54%|█████▍    | 731/1356 [01:08<00:48, 12.82it/s]"
     ]
    },
    {
     "name": "stdout",
     "output_type": "stream",
     "text": [
      "Processed /Users/chy/Projects/Thesis/spectrograms/tt0120662.png with feature shape: torch.Size([1, 197, 768])\n",
      "Processed /Users/chy/Projects/Thesis/spectrograms/tt4411234.png with feature shape: torch.Size([1, 197, 768])\n",
      "Processed /Users/chy/Projects/Thesis/spectrograms/tt3322364.png with feature shape: torch.Size([1, 197, 768])\n"
     ]
    },
    {
     "name": "stderr",
     "output_type": "stream",
     "text": [
      " 54%|█████▍    | 735/1356 [01:08<00:48, 12.91it/s]"
     ]
    },
    {
     "name": "stdout",
     "output_type": "stream",
     "text": [
      "Processed /Users/chy/Projects/Thesis/spectrograms/tt1014759.png with feature shape: torch.Size([1, 197, 768])\n",
      "Processed /Users/chy/Projects/Thesis/spectrograms/tt11808946.png with feature shape: torch.Size([1, 197, 768])\n",
      "Processed /Users/chy/Projects/Thesis/spectrograms/tt2402105.png with feature shape: torch.Size([1, 197, 768])\n"
     ]
    },
    {
     "name": "stderr",
     "output_type": "stream",
     "text": [
      " 54%|█████▍    | 737/1356 [01:08<00:47, 12.96it/s]"
     ]
    },
    {
     "name": "stdout",
     "output_type": "stream",
     "text": [
      "Processed /Users/chy/Projects/Thesis/spectrograms/tt1790825.png with feature shape: torch.Size([1, 197, 768])\n",
      "Processed /Users/chy/Projects/Thesis/spectrograms/tt1071880.png with feature shape: torch.Size([1, 197, 768])\n",
      "Processed /Users/chy/Projects/Thesis/spectrograms/tt1178640.png with feature shape: torch.Size([1, 197, 768])\n"
     ]
    },
    {
     "name": "stderr",
     "output_type": "stream",
     "text": [
      " 55%|█████▍    | 741/1356 [01:09<00:47, 12.93it/s]"
     ]
    },
    {
     "name": "stdout",
     "output_type": "stream",
     "text": [
      "Processed /Users/chy/Projects/Thesis/spectrograms/tt0293564.png with feature shape: torch.Size([1, 197, 768])\n",
      "Processed /Users/chy/Projects/Thesis/spectrograms/tt0374102.png with feature shape: torch.Size([1, 197, 768])\n",
      "Processed /Users/chy/Projects/Thesis/spectrograms/tt1430626.png with feature shape: torch.Size([1, 197, 768])\n"
     ]
    },
    {
     "name": "stderr",
     "output_type": "stream",
     "text": [
      " 55%|█████▍    | 743/1356 [01:09<00:55, 10.97it/s]"
     ]
    },
    {
     "name": "stdout",
     "output_type": "stream",
     "text": [
      "Processed /Users/chy/Projects/Thesis/spectrograms/tt1104006.png with feature shape: torch.Size([1, 197, 768])\n",
      "Processed /Users/chy/Projects/Thesis/spectrograms/tt3279176.png with feature shape: torch.Size([1, 197, 768])\n",
      "Processed /Users/chy/Projects/Thesis/spectrograms/tt6251024.png with feature shape: torch.Size([1, 197, 768])\n",
      "Processed /Users/chy/Projects/Thesis/spectrograms/tt0087998.png with feature shape: torch.Size([1, 197, 768])\n"
     ]
    },
    {
     "name": "stderr",
     "output_type": "stream",
     "text": [
      " 55%|█████▌    | 747/1356 [01:09<00:51, 11.92it/s]"
     ]
    },
    {
     "name": "stdout",
     "output_type": "stream",
     "text": [
      "Processed /Users/chy/Projects/Thesis/spectrograms/tt0116059.png with feature shape: torch.Size([1, 197, 768])\n",
      "Processed /Users/chy/Projects/Thesis/spectrograms/tt1266149.png with feature shape: torch.Size([1, 197, 768])\n",
      "Processed /Users/chy/Projects/Thesis/spectrograms/tt0112571.png with feature shape: torch.Size([1, 197, 768])\n"
     ]
    },
    {
     "name": "stderr",
     "output_type": "stream",
     "text": [
      " 55%|█████▌    | 751/1356 [01:10<00:49, 12.29it/s]"
     ]
    },
    {
     "name": "stdout",
     "output_type": "stream",
     "text": [
      "Processed /Users/chy/Projects/Thesis/spectrograms/tt0113690.png with feature shape: torch.Size([1, 197, 768])\n",
      "Processed /Users/chy/Projects/Thesis/spectrograms/tt3136168.png with feature shape: torch.Size([1, 197, 768])\n",
      "Processed /Users/chy/Projects/Thesis/spectrograms/tt1407061.png with feature shape: torch.Size([1, 197, 768])\n"
     ]
    },
    {
     "name": "stderr",
     "output_type": "stream",
     "text": [
      " 56%|█████▌    | 753/1356 [01:10<00:48, 12.39it/s]"
     ]
    },
    {
     "name": "stdout",
     "output_type": "stream",
     "text": [
      "Processed /Users/chy/Projects/Thesis/spectrograms/tt0303361.png with feature shape: torch.Size([1, 197, 768])\n",
      "Processed /Users/chy/Projects/Thesis/spectrograms/tt0914797.png with feature shape: torch.Size([1, 197, 768])\n",
      "Processed /Users/chy/Projects/Thesis/spectrograms/tt0338450.png with feature shape: torch.Size([1, 197, 768])\n"
     ]
    },
    {
     "name": "stderr",
     "output_type": "stream",
     "text": [
      " 56%|█████▌    | 757/1356 [01:10<00:48, 12.32it/s]"
     ]
    },
    {
     "name": "stdout",
     "output_type": "stream",
     "text": [
      "Processed /Users/chy/Projects/Thesis/spectrograms/tt2718440.png with feature shape: torch.Size([1, 197, 768])\n",
      "Processed /Users/chy/Projects/Thesis/spectrograms/tt0780504.png with feature shape: torch.Size([1, 197, 768])\n",
      "Processed /Users/chy/Projects/Thesis/spectrograms/tt0081455.png with feature shape: torch.Size([1, 197, 768])\n"
     ]
    },
    {
     "name": "stderr",
     "output_type": "stream",
     "text": [
      " 56%|█████▌    | 759/1356 [01:10<00:47, 12.46it/s]"
     ]
    },
    {
     "name": "stdout",
     "output_type": "stream",
     "text": [
      "Processed /Users/chy/Projects/Thesis/spectrograms/tt3859304.png with feature shape: torch.Size([1, 197, 768])\n",
      "Processed /Users/chy/Projects/Thesis/spectrograms/tt0391198.png with feature shape: torch.Size([1, 197, 768])\n",
      "Processed /Users/chy/Projects/Thesis/spectrograms/tt1728979.png with feature shape: torch.Size([1, 197, 768])\n"
     ]
    },
    {
     "name": "stderr",
     "output_type": "stream",
     "text": [
      " 56%|█████▋    | 763/1356 [01:10<00:46, 12.65it/s]"
     ]
    },
    {
     "name": "stdout",
     "output_type": "stream",
     "text": [
      "Processed /Users/chy/Projects/Thesis/spectrograms/tt3824648.png with feature shape: torch.Size([1, 197, 768])\n",
      "Processed /Users/chy/Projects/Thesis/spectrograms/tt0380268.png with feature shape: torch.Size([1, 197, 768])\n",
      "Processed /Users/chy/Projects/Thesis/spectrograms/tt0763304.png with feature shape: torch.Size([1, 197, 768])\n"
     ]
    },
    {
     "name": "stderr",
     "output_type": "stream",
     "text": [
      " 56%|█████▋    | 765/1356 [01:11<00:46, 12.66it/s]"
     ]
    },
    {
     "name": "stdout",
     "output_type": "stream",
     "text": [
      "Processed /Users/chy/Projects/Thesis/spectrograms/tt1244659.png with feature shape: torch.Size([1, 197, 768])\n",
      "Processed /Users/chy/Projects/Thesis/spectrograms/tt1135781.png with feature shape: torch.Size([1, 197, 768])\n"
     ]
    },
    {
     "name": "stderr",
     "output_type": "stream",
     "text": [
      " 57%|█████▋    | 767/1356 [01:11<00:56, 10.51it/s]"
     ]
    },
    {
     "name": "stdout",
     "output_type": "stream",
     "text": [
      "Processed /Users/chy/Projects/Thesis/spectrograms/tt0278504.png with feature shape: torch.Size([1, 197, 768])\n",
      "Processed /Users/chy/Projects/Thesis/spectrograms/tt0353965.png with feature shape: torch.Size([1, 197, 768])\n",
      "Processed /Users/chy/Projects/Thesis/spectrograms/tt1478338.png with feature shape: torch.Size([1, 197, 768])\n"
     ]
    },
    {
     "name": "stderr",
     "output_type": "stream",
     "text": [
      " 57%|█████▋    | 771/1356 [01:11<00:48, 12.11it/s]"
     ]
    },
    {
     "name": "stdout",
     "output_type": "stream",
     "text": [
      "Processed /Users/chy/Projects/Thesis/spectrograms/tt0861730.png with feature shape: torch.Size([1, 197, 768])\n",
      "Processed /Users/chy/Projects/Thesis/spectrograms/tt0079073.png with feature shape: torch.Size([1, 197, 768])\n",
      "Processed /Users/chy/Projects/Thesis/spectrograms/tt1323946.png with feature shape: torch.Size([1, 197, 768])\n"
     ]
    },
    {
     "name": "stderr",
     "output_type": "stream",
     "text": [
      " 57%|█████▋    | 773/1356 [01:11<00:48, 12.03it/s]"
     ]
    },
    {
     "name": "stdout",
     "output_type": "stream",
     "text": [
      "Processed /Users/chy/Projects/Thesis/spectrograms/tt0299117.png with feature shape: torch.Size([1, 197, 768])\n",
      "Processed /Users/chy/Projects/Thesis/spectrograms/tt0192788.png with feature shape: torch.Size([1, 197, 768])\n",
      "Processed /Users/chy/Projects/Thesis/spectrograms/tt0375154.png with feature shape: torch.Size([1, 197, 768])\n"
     ]
    },
    {
     "name": "stderr",
     "output_type": "stream",
     "text": [
      " 57%|█████▋    | 777/1356 [01:12<00:47, 12.12it/s]"
     ]
    },
    {
     "name": "stdout",
     "output_type": "stream",
     "text": [
      "Processed /Users/chy/Projects/Thesis/spectrograms/tt0116477.png with feature shape: torch.Size([1, 197, 768])\n",
      "Processed /Users/chy/Projects/Thesis/spectrograms/tt0370986.png with feature shape: torch.Size([1, 197, 768])\n",
      "Processed /Users/chy/Projects/Thesis/spectrograms/tt0432291.png with feature shape: torch.Size([1, 197, 768])\n"
     ]
    },
    {
     "name": "stderr",
     "output_type": "stream",
     "text": [
      " 57%|█████▋    | 779/1356 [01:12<00:46, 12.39it/s]"
     ]
    },
    {
     "name": "stdout",
     "output_type": "stream",
     "text": [
      "Processed /Users/chy/Projects/Thesis/spectrograms/tt1924435.png with feature shape: torch.Size([1, 197, 768])\n",
      "Processed /Users/chy/Projects/Thesis/spectrograms/tt0772157.png with feature shape: torch.Size([1, 197, 768])\n",
      "Processed /Users/chy/Projects/Thesis/spectrograms/tt0403702.png with feature shape: torch.Size([1, 197, 768])\n"
     ]
    },
    {
     "name": "stderr",
     "output_type": "stream",
     "text": [
      " 58%|█████▊    | 783/1356 [01:12<00:44, 12.76it/s]"
     ]
    },
    {
     "name": "stdout",
     "output_type": "stream",
     "text": [
      "Processed /Users/chy/Projects/Thesis/spectrograms/tt1548628.png with feature shape: torch.Size([1, 197, 768])\n",
      "Processed /Users/chy/Projects/Thesis/spectrograms/tt0082766.png with feature shape: torch.Size([1, 197, 768])\n",
      "Processed /Users/chy/Projects/Thesis/spectrograms/tt0416496.png with feature shape: torch.Size([1, 197, 768])\n"
     ]
    },
    {
     "name": "stderr",
     "output_type": "stream",
     "text": [
      " 58%|█████▊    | 785/1356 [01:12<00:44, 12.86it/s]"
     ]
    },
    {
     "name": "stdout",
     "output_type": "stream",
     "text": [
      "Processed /Users/chy/Projects/Thesis/spectrograms/tt0106466.png with feature shape: torch.Size([1, 197, 768])\n",
      "Processed /Users/chy/Projects/Thesis/spectrograms/tt0421206.png with feature shape: torch.Size([1, 197, 768])\n",
      "Processed /Users/chy/Projects/Thesis/spectrograms/tt1517489.png with feature shape: torch.Size([1, 197, 768])\n"
     ]
    },
    {
     "name": "stderr",
     "output_type": "stream",
     "text": [
      " 58%|█████▊    | 787/1356 [01:12<00:44, 12.73it/s]"
     ]
    },
    {
     "name": "stdout",
     "output_type": "stream",
     "text": [
      "Processed /Users/chy/Projects/Thesis/spectrograms/tt7073710.png with feature shape: torch.Size([1, 197, 768])\n",
      "Processed /Users/chy/Projects/Thesis/spectrograms/tt0425061.png with feature shape: torch.Size([1, 197, 768])\n",
      "Processed /Users/chy/Projects/Thesis/spectrograms/tt0218839.png with feature shape: torch.Size([1, 197, 768])\n"
     ]
    },
    {
     "name": "stderr",
     "output_type": "stream",
     "text": [
      " 58%|█████▊    | 791/1356 [01:13<00:45, 12.30it/s]"
     ]
    },
    {
     "name": "stdout",
     "output_type": "stream",
     "text": [
      "Processed /Users/chy/Projects/Thesis/spectrograms/tt1392197.png with feature shape: torch.Size([1, 197, 768])\n",
      "Processed /Users/chy/Projects/Thesis/spectrograms/tt0401855.png with feature shape: torch.Size([1, 197, 768])\n",
      "Processed /Users/chy/Projects/Thesis/spectrograms/tt0094663.png with feature shape: torch.Size([1, 197, 768])\n"
     ]
    },
    {
     "name": "stderr",
     "output_type": "stream",
     "text": [
      " 59%|█████▊    | 795/1356 [01:13<00:44, 12.71it/s]"
     ]
    },
    {
     "name": "stdout",
     "output_type": "stream",
     "text": [
      "Processed /Users/chy/Projects/Thesis/spectrograms/tt1920849.png with feature shape: torch.Size([1, 197, 768])\n",
      "Processed /Users/chy/Projects/Thesis/spectrograms/tt0117218.png with feature shape: torch.Size([1, 197, 768])\n",
      "Processed /Users/chy/Projects/Thesis/spectrograms/tt0206420.png with feature shape: torch.Size([1, 197, 768])\n"
     ]
    },
    {
     "name": "stderr",
     "output_type": "stream",
     "text": [
      " 59%|█████▉    | 797/1356 [01:13<00:44, 12.70it/s]"
     ]
    },
    {
     "name": "stdout",
     "output_type": "stream",
     "text": [
      "Processed /Users/chy/Projects/Thesis/spectrograms/tt3660770.png with feature shape: torch.Size([1, 197, 768])\n",
      "Processed /Users/chy/Projects/Thesis/spectrograms/tt0140397.png with feature shape: torch.Size([1, 197, 768])\n",
      "Processed /Users/chy/Projects/Thesis/spectrograms/tt0066344.png with feature shape: torch.Size([1, 197, 768])\n"
     ]
    },
    {
     "name": "stderr",
     "output_type": "stream",
     "text": [
      " 59%|█████▉    | 801/1356 [01:14<00:44, 12.52it/s]"
     ]
    },
    {
     "name": "stdout",
     "output_type": "stream",
     "text": [
      "Processed /Users/chy/Projects/Thesis/spectrograms/tt0839980.png with feature shape: torch.Size([1, 197, 768])\n",
      "Processed /Users/chy/Projects/Thesis/spectrograms/tt0335559.png with feature shape: torch.Size([1, 197, 768])\n",
      "Processed /Users/chy/Projects/Thesis/spectrograms/tt2950418.png with feature shape: torch.Size([1, 197, 768])\n"
     ]
    },
    {
     "name": "stderr",
     "output_type": "stream",
     "text": [
      " 59%|█████▉    | 803/1356 [01:14<00:43, 12.61it/s]"
     ]
    },
    {
     "name": "stdout",
     "output_type": "stream",
     "text": [
      "Processed /Users/chy/Projects/Thesis/spectrograms/tt0374277.png with feature shape: torch.Size([1, 197, 768])\n",
      "Processed /Users/chy/Projects/Thesis/spectrograms/tt0369226.png with feature shape: torch.Size([1, 197, 768])\n",
      "Processed /Users/chy/Projects/Thesis/spectrograms/tt2406566.png with feature shape: torch.Size([1, 197, 768])\n"
     ]
    },
    {
     "name": "stderr",
     "output_type": "stream",
     "text": [
      " 60%|█████▉    | 807/1356 [01:14<00:43, 12.74it/s]"
     ]
    },
    {
     "name": "stdout",
     "output_type": "stream",
     "text": [
      "Processed /Users/chy/Projects/Thesis/spectrograms/tt0418647.png with feature shape: torch.Size([1, 197, 768])\n",
      "Processed /Users/chy/Projects/Thesis/spectrograms/tt0422295.png with feature shape: torch.Size([1, 197, 768])\n",
      "Processed /Users/chy/Projects/Thesis/spectrograms/tt2380564.png with feature shape: torch.Size([1, 197, 768])\n"
     ]
    },
    {
     "name": "stderr",
     "output_type": "stream",
     "text": [
      " 60%|█████▉    | 809/1356 [01:14<00:43, 12.49it/s]"
     ]
    },
    {
     "name": "stdout",
     "output_type": "stream",
     "text": [
      "Processed /Users/chy/Projects/Thesis/spectrograms/tt0299658.png with feature shape: torch.Size([1, 197, 768])\n",
      "Processed /Users/chy/Projects/Thesis/spectrograms/tt0414055.png with feature shape: torch.Size([1, 197, 768])\n",
      "Processed /Users/chy/Projects/Thesis/spectrograms/tt0079714.png with feature shape: torch.Size([1, 197, 768])\n"
     ]
    },
    {
     "name": "stderr",
     "output_type": "stream",
     "text": [
      " 60%|█████▉    | 813/1356 [01:15<00:47, 11.48it/s]"
     ]
    },
    {
     "name": "stdout",
     "output_type": "stream",
     "text": [
      "Processed /Users/chy/Projects/Thesis/spectrograms/tt1129381.png with feature shape: torch.Size([1, 197, 768])\n",
      "Processed /Users/chy/Projects/Thesis/spectrograms/tt0088128.png with feature shape: torch.Size([1, 197, 768])\n",
      "Processed /Users/chy/Projects/Thesis/spectrograms/tt1031280.png with feature shape: torch.Size([1, 197, 768])\n",
      "Processed /Users/chy/Projects/Thesis/spectrograms/tt1013753.png with feature shape: torch.Size([1, 197, 768])\n"
     ]
    },
    {
     "name": "stderr",
     "output_type": "stream",
     "text": [
      " 60%|██████    | 817/1356 [01:15<00:56,  9.52it/s]"
     ]
    },
    {
     "name": "stdout",
     "output_type": "stream",
     "text": [
      "Processed /Users/chy/Projects/Thesis/spectrograms/tt0867591.png with feature shape: torch.Size([1, 197, 768])\n",
      "Processed /Users/chy/Projects/Thesis/spectrograms/tt6772804.png with feature shape: torch.Size([1, 197, 768])\n",
      "Processed /Users/chy/Projects/Thesis/spectrograms/tt0890870.png with feature shape: torch.Size([1, 197, 768])\n"
     ]
    },
    {
     "name": "stderr",
     "output_type": "stream",
     "text": [
      " 60%|██████    | 819/1356 [01:15<00:49, 10.79it/s]"
     ]
    },
    {
     "name": "stdout",
     "output_type": "stream",
     "text": [
      "Processed /Users/chy/Projects/Thesis/spectrograms/tt0311941.png with feature shape: torch.Size([1, 197, 768])\n",
      "Processed /Users/chy/Projects/Thesis/spectrograms/tt1980209.png with feature shape: torch.Size([1, 197, 768])\n",
      "Processed /Users/chy/Projects/Thesis/spectrograms/tt1602613.png with feature shape: torch.Size([1, 197, 768])\n"
     ]
    },
    {
     "name": "stderr",
     "output_type": "stream",
     "text": [
      " 61%|██████    | 823/1356 [01:16<00:46, 11.42it/s]"
     ]
    },
    {
     "name": "stdout",
     "output_type": "stream",
     "text": [
      "Processed /Users/chy/Projects/Thesis/spectrograms/tt0338337.png with feature shape: torch.Size([1, 197, 768])\n",
      "Processed /Users/chy/Projects/Thesis/spectrograms/tt0277434.png with feature shape: torch.Size([1, 197, 768])\n",
      "Processed /Users/chy/Projects/Thesis/spectrograms/tt0770806.png with feature shape: torch.Size([1, 197, 768])\n"
     ]
    },
    {
     "name": "stderr",
     "output_type": "stream",
     "text": [
      " 61%|██████    | 825/1356 [01:16<00:46, 11.36it/s]"
     ]
    },
    {
     "name": "stdout",
     "output_type": "stream",
     "text": [
      "Processed /Users/chy/Projects/Thesis/spectrograms/tt0309698.png with feature shape: torch.Size([1, 197, 768])\n",
      "Processed /Users/chy/Projects/Thesis/spectrograms/tt0276919.png with feature shape: torch.Size([1, 197, 768])\n",
      "Processed /Users/chy/Projects/Thesis/spectrograms/tt0486655.png with feature shape: torch.Size([1, 197, 768])\n"
     ]
    },
    {
     "name": "stderr",
     "output_type": "stream",
     "text": [
      " 61%|██████    | 829/1356 [01:16<00:45, 11.49it/s]"
     ]
    },
    {
     "name": "stdout",
     "output_type": "stream",
     "text": [
      "Processed /Users/chy/Projects/Thesis/spectrograms/tt5918982.png with feature shape: torch.Size([1, 197, 768])\n",
      "Processed /Users/chy/Projects/Thesis/spectrograms/tt0317303.png with feature shape: torch.Size([1, 197, 768])\n",
      "Processed /Users/chy/Projects/Thesis/spectrograms/tt0439289.png with feature shape: torch.Size([1, 197, 768])\n"
     ]
    },
    {
     "name": "stderr",
     "output_type": "stream",
     "text": [
      " 61%|██████▏   | 831/1356 [01:16<00:44, 11.69it/s]"
     ]
    },
    {
     "name": "stdout",
     "output_type": "stream",
     "text": [
      "Processed /Users/chy/Projects/Thesis/spectrograms/tt5649108.png with feature shape: torch.Size([1, 197, 768])\n",
      "Processed /Users/chy/Projects/Thesis/spectrograms/tt0264464.png with feature shape: torch.Size([1, 197, 768])\n",
      "Processed /Users/chy/Projects/Thesis/spectrograms/tt1104001.png with feature shape: torch.Size([1, 197, 768])\n"
     ]
    },
    {
     "name": "stderr",
     "output_type": "stream",
     "text": [
      " 61%|██████▏   | 833/1356 [01:16<00:45, 11.62it/s]"
     ]
    },
    {
     "name": "stdout",
     "output_type": "stream",
     "text": [
      "Processed /Users/chy/Projects/Thesis/spectrograms/tt0054279.png with feature shape: torch.Size([1, 197, 768])\n",
      "Processed /Users/chy/Projects/Thesis/spectrograms/tt2784678.png with feature shape: torch.Size([1, 197, 768])\n"
     ]
    },
    {
     "name": "stderr",
     "output_type": "stream",
     "text": [
      " 62%|██████▏   | 837/1356 [01:17<00:46, 11.17it/s]"
     ]
    },
    {
     "name": "stdout",
     "output_type": "stream",
     "text": [
      "Processed /Users/chy/Projects/Thesis/spectrograms/tt1010048.png with feature shape: torch.Size([1, 197, 768])\n",
      "Processed /Users/chy/Projects/Thesis/spectrograms/tt0411061.png with feature shape: torch.Size([1, 197, 768])\n",
      "Processed /Users/chy/Projects/Thesis/spectrograms/tt1034303.png with feature shape: torch.Size([1, 197, 768])\n"
     ]
    },
    {
     "name": "stderr",
     "output_type": "stream",
     "text": [
      " 62%|██████▏   | 839/1356 [01:17<00:44, 11.58it/s]"
     ]
    },
    {
     "name": "stdout",
     "output_type": "stream",
     "text": [
      "Processed /Users/chy/Projects/Thesis/spectrograms/tt0408524.png with feature shape: torch.Size([1, 197, 768])\n",
      "Processed /Users/chy/Projects/Thesis/spectrograms/tt0113481.png with feature shape: torch.Size([1, 197, 768])\n",
      "Processed /Users/chy/Projects/Thesis/spectrograms/tt0816436.png with feature shape: torch.Size([1, 197, 768])\n"
     ]
    },
    {
     "name": "stderr",
     "output_type": "stream",
     "text": [
      " 62%|██████▏   | 843/1356 [01:17<00:43, 11.75it/s]"
     ]
    },
    {
     "name": "stdout",
     "output_type": "stream",
     "text": [
      "Processed /Users/chy/Projects/Thesis/spectrograms/tt0460883.png with feature shape: torch.Size([1, 197, 768])\n",
      "Processed /Users/chy/Projects/Thesis/spectrograms/tt0800240.png with feature shape: torch.Size([1, 197, 768])\n",
      "Processed /Users/chy/Projects/Thesis/spectrograms/tt1699147.png with feature shape: torch.Size([1, 197, 768])\n"
     ]
    },
    {
     "name": "stderr",
     "output_type": "stream",
     "text": [
      " 62%|██████▏   | 845/1356 [01:17<00:43, 11.84it/s]"
     ]
    },
    {
     "name": "stdout",
     "output_type": "stream",
     "text": [
      "Processed /Users/chy/Projects/Thesis/spectrograms/tt0116260.png with feature shape: torch.Size([1, 197, 768])\n",
      "Processed /Users/chy/Projects/Thesis/spectrograms/tt0082367.png with feature shape: torch.Size([1, 197, 768])\n",
      "Processed /Users/chy/Projects/Thesis/spectrograms/tt1082853.png with feature shape: torch.Size([1, 197, 768])\n"
     ]
    },
    {
     "name": "stderr",
     "output_type": "stream",
     "text": [
      " 63%|██████▎   | 849/1356 [01:18<00:42, 11.85it/s]"
     ]
    },
    {
     "name": "stdout",
     "output_type": "stream",
     "text": [
      "Processed /Users/chy/Projects/Thesis/spectrograms/tt0258000.png with feature shape: torch.Size([1, 197, 768])\n",
      "Processed /Users/chy/Projects/Thesis/spectrograms/tt0295700.png with feature shape: torch.Size([1, 197, 768])\n",
      "Processed /Users/chy/Projects/Thesis/spectrograms/tt1645170.png with feature shape: torch.Size([1, 197, 768])\n"
     ]
    },
    {
     "name": "stderr",
     "output_type": "stream",
     "text": [
      " 63%|██████▎   | 851/1356 [01:18<00:42, 12.01it/s]"
     ]
    },
    {
     "name": "stdout",
     "output_type": "stream",
     "text": [
      "Processed /Users/chy/Projects/Thesis/spectrograms/tt0083131.png with feature shape: torch.Size([1, 197, 768])\n",
      "Processed /Users/chy/Projects/Thesis/spectrograms/tt4552524.png with feature shape: torch.Size([1, 197, 768])\n",
      "Processed /Users/chy/Projects/Thesis/spectrograms/tt0800308.png with feature shape: torch.Size([1, 197, 768])\n"
     ]
    },
    {
     "name": "stderr",
     "output_type": "stream",
     "text": [
      " 63%|██████▎   | 855/1356 [01:18<00:41, 12.15it/s]"
     ]
    },
    {
     "name": "stdout",
     "output_type": "stream",
     "text": [
      "Processed /Users/chy/Projects/Thesis/spectrograms/tt0355295.png with feature shape: torch.Size([1, 197, 768])\n",
      "Processed /Users/chy/Projects/Thesis/spectrograms/tt0377752.png with feature shape: torch.Size([1, 197, 768])\n",
      "Processed /Users/chy/Projects/Thesis/spectrograms/tt0159365.png with feature shape: torch.Size([1, 197, 768])\n"
     ]
    },
    {
     "name": "stderr",
     "output_type": "stream",
     "text": [
      " 63%|██████▎   | 857/1356 [01:19<00:44, 11.14it/s]"
     ]
    },
    {
     "name": "stdout",
     "output_type": "stream",
     "text": [
      "Processed /Users/chy/Projects/Thesis/spectrograms/tt4938374.png with feature shape: torch.Size([1, 197, 768])\n",
      "Processed /Users/chy/Projects/Thesis/spectrograms/tt1076252.png with feature shape: torch.Size([1, 197, 768])\n",
      "Processed /Users/chy/Projects/Thesis/spectrograms/tt1027747.png with feature shape: torch.Size([1, 197, 768])\n",
      "Processed /Users/chy/Projects/Thesis/spectrograms/tt4667094.png with feature shape: torch.Size([1, 197, 768])\n"
     ]
    },
    {
     "name": "stderr",
     "output_type": "stream",
     "text": [
      " 63%|██████▎   | 861/1356 [01:19<00:40, 12.23it/s]"
     ]
    },
    {
     "name": "stdout",
     "output_type": "stream",
     "text": [
      "Processed /Users/chy/Projects/Thesis/spectrograms/tt0422093.png with feature shape: torch.Size([1, 197, 768])\n",
      "Processed /Users/chy/Projects/Thesis/spectrograms/tt0477051.png with feature shape: torch.Size([1, 197, 768])\n",
      "Processed /Users/chy/Projects/Thesis/spectrograms/tt0488085.png with feature shape: torch.Size([1, 197, 768])\n"
     ]
    },
    {
     "name": "stderr",
     "output_type": "stream",
     "text": [
      " 64%|██████▍   | 865/1356 [01:19<00:39, 12.35it/s]"
     ]
    },
    {
     "name": "stdout",
     "output_type": "stream",
     "text": [
      "Processed /Users/chy/Projects/Thesis/spectrograms/tt0446298.png with feature shape: torch.Size([1, 197, 768])\n",
      "Processed /Users/chy/Projects/Thesis/spectrograms/tt0428541.png with feature shape: torch.Size([1, 197, 768])\n",
      "Processed /Users/chy/Projects/Thesis/spectrograms/tt5879216.png with feature shape: torch.Size([1, 197, 768])\n"
     ]
    },
    {
     "name": "stderr",
     "output_type": "stream",
     "text": [
      " 64%|██████▍   | 867/1356 [01:19<00:39, 12.53it/s]"
     ]
    },
    {
     "name": "stdout",
     "output_type": "stream",
     "text": [
      "Processed /Users/chy/Projects/Thesis/spectrograms/tt6290736.png with feature shape: torch.Size([1, 197, 768])\n",
      "Processed /Users/chy/Projects/Thesis/spectrograms/tt0477078.png with feature shape: torch.Size([1, 197, 768])\n",
      "Processed /Users/chy/Projects/Thesis/spectrograms/tt1449283.png with feature shape: torch.Size([1, 197, 768])\n"
     ]
    },
    {
     "name": "stderr",
     "output_type": "stream",
     "text": [
      " 64%|██████▍   | 871/1356 [01:20<00:39, 12.18it/s]"
     ]
    },
    {
     "name": "stdout",
     "output_type": "stream",
     "text": [
      "Processed /Users/chy/Projects/Thesis/spectrograms/tt0367959.png with feature shape: torch.Size([1, 197, 768])\n",
      "Processed /Users/chy/Projects/Thesis/spectrograms/tt2165743.png with feature shape: torch.Size([1, 197, 768])\n",
      "Processed /Users/chy/Projects/Thesis/spectrograms/tt0758786.png with feature shape: torch.Size([1, 197, 768])\n"
     ]
    },
    {
     "name": "stderr",
     "output_type": "stream",
     "text": [
      " 64%|██████▍   | 873/1356 [01:20<00:38, 12.50it/s]"
     ]
    },
    {
     "name": "stdout",
     "output_type": "stream",
     "text": [
      "Processed /Users/chy/Projects/Thesis/spectrograms/tt0141926.png with feature shape: torch.Size([1, 197, 768])\n",
      "Processed /Users/chy/Projects/Thesis/spectrograms/tt0318627.png with feature shape: torch.Size([1, 197, 768])\n",
      "Processed /Users/chy/Projects/Thesis/spectrograms/tt5463162.png with feature shape: torch.Size([1, 197, 768])\n"
     ]
    },
    {
     "name": "stderr",
     "output_type": "stream",
     "text": [
      " 65%|██████▍   | 877/1356 [01:20<00:37, 12.70it/s]"
     ]
    },
    {
     "name": "stdout",
     "output_type": "stream",
     "text": [
      "Processed /Users/chy/Projects/Thesis/spectrograms/tt0974661.png with feature shape: torch.Size([1, 197, 768])\n",
      "Processed /Users/chy/Projects/Thesis/spectrograms/tt2637276.png with feature shape: torch.Size([1, 197, 768])\n",
      "Processed /Users/chy/Projects/Thesis/spectrograms/tt6511932.png with feature shape: torch.Size([1, 197, 768])\n"
     ]
    },
    {
     "name": "stderr",
     "output_type": "stream",
     "text": [
      " 65%|██████▍   | 879/1356 [01:20<00:39, 12.21it/s]"
     ]
    },
    {
     "name": "stdout",
     "output_type": "stream",
     "text": [
      "Processed /Users/chy/Projects/Thesis/spectrograms/tt0199626.png with feature shape: torch.Size([1, 197, 768])\n",
      "Processed /Users/chy/Projects/Thesis/spectrograms/tt0340855.png with feature shape: torch.Size([1, 197, 768])\n"
     ]
    },
    {
     "name": "stderr",
     "output_type": "stream",
     "text": [
      " 65%|██████▍   | 881/1356 [01:20<00:42, 11.20it/s]"
     ]
    },
    {
     "name": "stdout",
     "output_type": "stream",
     "text": [
      "Processed /Users/chy/Projects/Thesis/spectrograms/tt1547090.png with feature shape: torch.Size([1, 197, 768])\n",
      "Processed /Users/chy/Projects/Thesis/spectrograms/tt1650554.png with feature shape: torch.Size([1, 197, 768])\n",
      "Processed /Users/chy/Projects/Thesis/spectrograms/tt0431213.png with feature shape: torch.Size([1, 197, 768])\n",
      "Processed /Users/chy/Projects/Thesis/spectrograms/tt0113537.png with feature shape: torch.Size([1, 197, 768])\n"
     ]
    },
    {
     "name": "stderr",
     "output_type": "stream",
     "text": [
      " 65%|██████▌   | 885/1356 [01:21<00:39, 12.04it/s]"
     ]
    },
    {
     "name": "stdout",
     "output_type": "stream",
     "text": [
      "Processed /Users/chy/Projects/Thesis/spectrograms/tt1111948.png with feature shape: torch.Size([1, 197, 768])\n",
      "Processed /Users/chy/Projects/Thesis/spectrograms/tt0120102.png with feature shape: torch.Size([1, 197, 768])\n",
      "Processed /Users/chy/Projects/Thesis/spectrograms/tt0295701.png with feature shape: torch.Size([1, 197, 768])\n"
     ]
    },
    {
     "name": "stderr",
     "output_type": "stream",
     "text": [
      " 66%|██████▌   | 889/1356 [01:21<00:37, 12.31it/s]"
     ]
    },
    {
     "name": "stdout",
     "output_type": "stream",
     "text": [
      "Processed /Users/chy/Projects/Thesis/spectrograms/tt0088930.png with feature shape: torch.Size([1, 197, 768])\n",
      "Processed /Users/chy/Projects/Thesis/spectrograms/tt0319061.png with feature shape: torch.Size([1, 197, 768])\n",
      "Processed /Users/chy/Projects/Thesis/spectrograms/tt1596346.png with feature shape: torch.Size([1, 197, 768])\n"
     ]
    },
    {
     "name": "stderr",
     "output_type": "stream",
     "text": [
      " 66%|██████▌   | 891/1356 [01:21<00:37, 12.53it/s]"
     ]
    },
    {
     "name": "stdout",
     "output_type": "stream",
     "text": [
      "Processed /Users/chy/Projects/Thesis/spectrograms/tt1362103.png with feature shape: torch.Size([1, 197, 768])\n",
      "Processed /Users/chy/Projects/Thesis/spectrograms/tt0455805.png with feature shape: torch.Size([1, 197, 768])\n",
      "Processed /Users/chy/Projects/Thesis/spectrograms/tt0800241.png with feature shape: torch.Size([1, 197, 768])\n"
     ]
    },
    {
     "name": "stderr",
     "output_type": "stream",
     "text": [
      " 66%|██████▌   | 895/1356 [01:22<00:36, 12.47it/s]"
     ]
    },
    {
     "name": "stdout",
     "output_type": "stream",
     "text": [
      "Processed /Users/chy/Projects/Thesis/spectrograms/tt1074929.png with feature shape: torch.Size([1, 197, 768])\n",
      "Processed /Users/chy/Projects/Thesis/spectrograms/tt3882074.png with feature shape: torch.Size([1, 197, 768])\n",
      "Processed /Users/chy/Projects/Thesis/spectrograms/tt0446676.png with feature shape: torch.Size([1, 197, 768])\n"
     ]
    },
    {
     "name": "stderr",
     "output_type": "stream",
     "text": [
      " 66%|██████▌   | 897/1356 [01:22<00:36, 12.61it/s]"
     ]
    },
    {
     "name": "stdout",
     "output_type": "stream",
     "text": [
      "Processed /Users/chy/Projects/Thesis/spectrograms/tt0810913.png with feature shape: torch.Size([1, 197, 768])\n",
      "Processed /Users/chy/Projects/Thesis/spectrograms/tt2822672.png with feature shape: torch.Size([1, 197, 768])\n",
      "Processed /Users/chy/Projects/Thesis/spectrograms/tt1128071.png with feature shape: torch.Size([1, 197, 768])\n"
     ]
    },
    {
     "name": "stderr",
     "output_type": "stream",
     "text": [
      " 66%|██████▋   | 899/1356 [01:22<00:35, 12.71it/s]"
     ]
    },
    {
     "name": "stdout",
     "output_type": "stream",
     "text": [
      "Processed /Users/chy/Projects/Thesis/spectrograms/tt1018830.png with feature shape: torch.Size([1, 197, 768])\n",
      "Processed /Users/chy/Projects/Thesis/spectrograms/tt0314431.png with feature shape: torch.Size([1, 197, 768])\n",
      "Processed /Users/chy/Projects/Thesis/spectrograms/tt0115783.png with feature shape: torch.Size([1, 197, 768])\n"
     ]
    },
    {
     "name": "stderr",
     "output_type": "stream",
     "text": [
      " 67%|██████▋   | 903/1356 [01:22<00:37, 12.24it/s]"
     ]
    },
    {
     "name": "stdout",
     "output_type": "stream",
     "text": [
      "Processed /Users/chy/Projects/Thesis/spectrograms/tt5834262.png with feature shape: torch.Size([1, 197, 768])\n",
      "Processed /Users/chy/Projects/Thesis/spectrograms/tt0239986.png with feature shape: torch.Size([1, 197, 768])\n",
      "Processed /Users/chy/Projects/Thesis/spectrograms/tt1068680.png with feature shape: torch.Size([1, 197, 768])\n"
     ]
    },
    {
     "name": "stderr",
     "output_type": "stream",
     "text": [
      " 67%|██████▋   | 907/1356 [01:23<00:36, 12.36it/s]"
     ]
    },
    {
     "name": "stdout",
     "output_type": "stream",
     "text": [
      "Processed /Users/chy/Projects/Thesis/spectrograms/tt1691917.png with feature shape: torch.Size([1, 197, 768])\n",
      "Processed /Users/chy/Projects/Thesis/spectrograms/tt0118927.png with feature shape: torch.Size([1, 197, 768])\n",
      "Processed /Users/chy/Projects/Thesis/spectrograms/tt0387059.png with feature shape: torch.Size([1, 197, 768])\n"
     ]
    },
    {
     "name": "stderr",
     "output_type": "stream",
     "text": [
      " 67%|██████▋   | 909/1356 [01:23<00:35, 12.52it/s]"
     ]
    },
    {
     "name": "stdout",
     "output_type": "stream",
     "text": [
      "Processed /Users/chy/Projects/Thesis/spectrograms/tt3824458.png with feature shape: torch.Size([1, 197, 768])\n",
      "Processed /Users/chy/Projects/Thesis/spectrograms/tt0113870.png with feature shape: torch.Size([1, 197, 768])\n",
      "Processed /Users/chy/Projects/Thesis/spectrograms/tt0111732.png with feature shape: torch.Size([1, 197, 768])\n"
     ]
    },
    {
     "name": "stderr",
     "output_type": "stream",
     "text": [
      " 67%|██████▋   | 913/1356 [01:23<00:35, 12.59it/s]"
     ]
    },
    {
     "name": "stdout",
     "output_type": "stream",
     "text": [
      "Processed /Users/chy/Projects/Thesis/spectrograms/tt0118702.png with feature shape: torch.Size([1, 197, 768])\n",
      "Processed /Users/chy/Projects/Thesis/spectrograms/tt0780516.png with feature shape: torch.Size([1, 197, 768])\n",
      "Processed /Users/chy/Projects/Thesis/spectrograms/tt0331314.png with feature shape: torch.Size([1, 197, 768])\n"
     ]
    },
    {
     "name": "stderr",
     "output_type": "stream",
     "text": [
      " 67%|██████▋   | 915/1356 [01:23<00:34, 12.75it/s]"
     ]
    },
    {
     "name": "stdout",
     "output_type": "stream",
     "text": [
      "Processed /Users/chy/Projects/Thesis/spectrograms/tt0156323.png with feature shape: torch.Size([1, 197, 768])\n",
      "Processed /Users/chy/Projects/Thesis/spectrograms/tt0106500.png with feature shape: torch.Size([1, 197, 768])\n",
      "Processed /Users/chy/Projects/Thesis/spectrograms/tt0142342.png with feature shape: torch.Size([1, 197, 768])\n"
     ]
    },
    {
     "name": "stderr",
     "output_type": "stream",
     "text": [
      " 68%|██████▊   | 919/1356 [01:23<00:33, 12.87it/s]"
     ]
    },
    {
     "name": "stdout",
     "output_type": "stream",
     "text": [
      "Processed /Users/chy/Projects/Thesis/spectrograms/tt0317648.png with feature shape: torch.Size([1, 197, 768])\n",
      "Processed /Users/chy/Projects/Thesis/spectrograms/tt0134983.png with feature shape: torch.Size([1, 197, 768])\n",
      "Processed /Users/chy/Projects/Thesis/spectrograms/tt0430912.png with feature shape: torch.Size([1, 197, 768])\n"
     ]
    },
    {
     "name": "stderr",
     "output_type": "stream",
     "text": [
      " 68%|██████▊   | 921/1356 [01:24<00:33, 12.95it/s]"
     ]
    },
    {
     "name": "stdout",
     "output_type": "stream",
     "text": [
      "Processed /Users/chy/Projects/Thesis/spectrograms/tt0910905.png with feature shape: torch.Size([1, 197, 768])\n",
      "Processed /Users/chy/Projects/Thesis/spectrograms/tt4560436.png with feature shape: torch.Size([1, 197, 768])\n"
     ]
    },
    {
     "name": "stderr",
     "output_type": "stream",
     "text": [
      " 68%|██████▊   | 923/1356 [01:24<00:36, 11.73it/s]"
     ]
    },
    {
     "name": "stdout",
     "output_type": "stream",
     "text": [
      "Processed /Users/chy/Projects/Thesis/spectrograms/tt0499570.png with feature shape: torch.Size([1, 197, 768])\n",
      "Processed /Users/chy/Projects/Thesis/spectrograms/tt7947150.png with feature shape: torch.Size([1, 197, 768])\n",
      "Processed /Users/chy/Projects/Thesis/spectrograms/tt0435665.png with feature shape: torch.Size([1, 197, 768])\n",
      "Processed /Users/chy/Projects/Thesis/spectrograms/tt0111256.png with feature shape: torch.Size([1, 197, 768])\n"
     ]
    },
    {
     "name": "stderr",
     "output_type": "stream",
     "text": [
      " 68%|██████▊   | 927/1356 [01:24<00:35, 12.25it/s]"
     ]
    },
    {
     "name": "stdout",
     "output_type": "stream",
     "text": [
      "Processed /Users/chy/Projects/Thesis/spectrograms/tt1014775.png with feature shape: torch.Size([1, 197, 768])\n",
      "Processed /Users/chy/Projects/Thesis/spectrograms/tt0269341.png with feature shape: torch.Size([1, 197, 768])\n",
      "Processed /Users/chy/Projects/Thesis/spectrograms/tt0299930.png with feature shape: torch.Size([1, 197, 768])\n"
     ]
    },
    {
     "name": "stderr",
     "output_type": "stream",
     "text": [
      " 69%|██████▊   | 931/1356 [01:24<00:33, 12.67it/s]"
     ]
    },
    {
     "name": "stdout",
     "output_type": "stream",
     "text": [
      "Processed /Users/chy/Projects/Thesis/spectrograms/tt0099750.png with feature shape: torch.Size([1, 197, 768])\n",
      "Processed /Users/chy/Projects/Thesis/spectrograms/tt1661199.png with feature shape: torch.Size([1, 197, 768])\n",
      "Processed /Users/chy/Projects/Thesis/spectrograms/tt0300532.png with feature shape: torch.Size([1, 197, 768])\n"
     ]
    },
    {
     "name": "stderr",
     "output_type": "stream",
     "text": [
      " 69%|██████▉   | 933/1356 [01:25<00:33, 12.81it/s]"
     ]
    },
    {
     "name": "stdout",
     "output_type": "stream",
     "text": [
      "Processed /Users/chy/Projects/Thesis/spectrograms/tt1024715.png with feature shape: torch.Size([1, 197, 768])\n",
      "Processed /Users/chy/Projects/Thesis/spectrograms/tt0494652.png with feature shape: torch.Size([1, 197, 768])\n",
      "Processed /Users/chy/Projects/Thesis/spectrograms/tt0259484.png with feature shape: torch.Size([1, 197, 768])\n"
     ]
    },
    {
     "name": "stderr",
     "output_type": "stream",
     "text": [
      " 69%|██████▉   | 937/1356 [01:25<00:32, 12.91it/s]"
     ]
    },
    {
     "name": "stdout",
     "output_type": "stream",
     "text": [
      "Processed /Users/chy/Projects/Thesis/spectrograms/tt1783732.png with feature shape: torch.Size([1, 197, 768])\n",
      "Processed /Users/chy/Projects/Thesis/spectrograms/tt0433412.png with feature shape: torch.Size([1, 197, 768])\n",
      "Processed /Users/chy/Projects/Thesis/spectrograms/tt0435705.png with feature shape: torch.Size([1, 197, 768])\n"
     ]
    },
    {
     "name": "stderr",
     "output_type": "stream",
     "text": [
      " 69%|██████▉   | 939/1356 [01:25<00:32, 12.86it/s]"
     ]
    },
    {
     "name": "stdout",
     "output_type": "stream",
     "text": [
      "Processed /Users/chy/Projects/Thesis/spectrograms/tt0455967.png with feature shape: torch.Size([1, 197, 768])\n",
      "Processed /Users/chy/Projects/Thesis/spectrograms/tt0834904.png with feature shape: torch.Size([1, 197, 768])\n",
      "Processed /Users/chy/Projects/Thesis/spectrograms/tt0419984.png with feature shape: torch.Size([1, 197, 768])\n"
     ]
    },
    {
     "name": "stderr",
     "output_type": "stream",
     "text": [
      " 69%|██████▉   | 941/1356 [01:25<00:32, 12.92it/s]"
     ]
    },
    {
     "name": "stdout",
     "output_type": "stream",
     "text": [
      "Processed /Users/chy/Projects/Thesis/spectrograms/tt0218619.png with feature shape: torch.Size([1, 197, 768])\n",
      "Processed /Users/chy/Projects/Thesis/spectrograms/tt1176251.png with feature shape: torch.Size([1, 197, 768])\n"
     ]
    },
    {
     "name": "stderr",
     "output_type": "stream",
     "text": [
      " 70%|██████▉   | 945/1356 [01:26<00:33, 12.35it/s]"
     ]
    },
    {
     "name": "stdout",
     "output_type": "stream",
     "text": [
      "Processed /Users/chy/Projects/Thesis/spectrograms/tt0970411.png with feature shape: torch.Size([1, 197, 768])\n",
      "Processed /Users/chy/Projects/Thesis/spectrograms/tt0396752.png with feature shape: torch.Size([1, 197, 768])\n",
      "Processed /Users/chy/Projects/Thesis/spectrograms/tt0266489.png with feature shape: torch.Size([1, 197, 768])\n"
     ]
    },
    {
     "name": "stderr",
     "output_type": "stream",
     "text": [
      " 70%|██████▉   | 947/1356 [01:26<00:32, 12.59it/s]"
     ]
    },
    {
     "name": "stdout",
     "output_type": "stream",
     "text": [
      "Processed /Users/chy/Projects/Thesis/spectrograms/tt2557276.png with feature shape: torch.Size([1, 197, 768])\n",
      "Processed /Users/chy/Projects/Thesis/spectrograms/tt0113737.png with feature shape: torch.Size([1, 197, 768])\n",
      "Processed /Users/chy/Projects/Thesis/spectrograms/tt0155776.png with feature shape: torch.Size([1, 197, 768])\n"
     ]
    },
    {
     "name": "stderr",
     "output_type": "stream",
     "text": [
      " 70%|███████   | 951/1356 [01:26<00:31, 12.82it/s]"
     ]
    },
    {
     "name": "stdout",
     "output_type": "stream",
     "text": [
      "Processed /Users/chy/Projects/Thesis/spectrograms/tt0097351.png with feature shape: torch.Size([1, 197, 768])\n",
      "Processed /Users/chy/Projects/Thesis/spectrograms/tt1045670.png with feature shape: torch.Size([1, 197, 768])\n",
      "Processed /Users/chy/Projects/Thesis/spectrograms/tt0109035.png with feature shape: torch.Size([1, 197, 768])\n"
     ]
    },
    {
     "name": "stderr",
     "output_type": "stream",
     "text": [
      " 70%|███████   | 953/1356 [01:26<00:31, 12.76it/s]"
     ]
    },
    {
     "name": "stdout",
     "output_type": "stream",
     "text": [
      "Processed /Users/chy/Projects/Thesis/spectrograms/tt0112373.png with feature shape: torch.Size([1, 197, 768])\n",
      "Processed /Users/chy/Projects/Thesis/spectrograms/tt0112401.png with feature shape: torch.Size([1, 197, 768])\n",
      "Processed /Users/chy/Projects/Thesis/spectrograms/tt1198405.png with feature shape: torch.Size([1, 197, 768])\n"
     ]
    },
    {
     "name": "stderr",
     "output_type": "stream",
     "text": [
      " 71%|███████   | 957/1356 [01:27<00:31, 12.71it/s]"
     ]
    },
    {
     "name": "stdout",
     "output_type": "stream",
     "text": [
      "Processed /Users/chy/Projects/Thesis/spectrograms/tt2515086.png with feature shape: torch.Size([1, 197, 768])\n",
      "Processed /Users/chy/Projects/Thesis/spectrograms/tt2002718.png with feature shape: torch.Size([1, 197, 768])\n",
      "Processed /Users/chy/Projects/Thesis/spectrograms/tt0422720.png with feature shape: torch.Size([1, 197, 768])\n"
     ]
    },
    {
     "name": "stderr",
     "output_type": "stream",
     "text": [
      " 71%|███████   | 959/1356 [01:27<00:30, 12.83it/s]"
     ]
    },
    {
     "name": "stdout",
     "output_type": "stream",
     "text": [
      "Processed /Users/chy/Projects/Thesis/spectrograms/tt0758746.png with feature shape: torch.Size([1, 197, 768])\n",
      "Processed /Users/chy/Projects/Thesis/spectrograms/tt2433040.png with feature shape: torch.Size([1, 197, 768])\n",
      "Processed /Users/chy/Projects/Thesis/spectrograms/tt1087524.png with feature shape: torch.Size([1, 197, 768])\n"
     ]
    },
    {
     "name": "stderr",
     "output_type": "stream",
     "text": [
      " 71%|███████   | 961/1356 [01:27<00:30, 12.83it/s]"
     ]
    },
    {
     "name": "stdout",
     "output_type": "stream",
     "text": [
      "Processed /Users/chy/Projects/Thesis/spectrograms/tt1780762.png with feature shape: torch.Size([1, 197, 768])\n",
      "Processed /Users/chy/Projects/Thesis/spectrograms/tt0280870.png with feature shape: torch.Size([1, 197, 768])\n"
     ]
    },
    {
     "name": "stderr",
     "output_type": "stream",
     "text": [
      " 71%|███████   | 965/1356 [01:27<00:31, 12.40it/s]"
     ]
    },
    {
     "name": "stdout",
     "output_type": "stream",
     "text": [
      "Processed /Users/chy/Projects/Thesis/spectrograms/tt0772193.png with feature shape: torch.Size([1, 197, 768])\n",
      "Processed /Users/chy/Projects/Thesis/spectrograms/tt0118663.png with feature shape: torch.Size([1, 197, 768])\n",
      "Processed /Users/chy/Projects/Thesis/spectrograms/tt0416320.png with feature shape: torch.Size([1, 197, 768])\n"
     ]
    },
    {
     "name": "stderr",
     "output_type": "stream",
     "text": [
      " 71%|███████▏  | 967/1356 [01:27<00:31, 12.52it/s]"
     ]
    },
    {
     "name": "stdout",
     "output_type": "stream",
     "text": [
      "Processed /Users/chy/Projects/Thesis/spectrograms/tt0118688.png with feature shape: torch.Size([1, 197, 768])\n",
      "Processed /Users/chy/Projects/Thesis/spectrograms/tt0443453.png with feature shape: torch.Size([1, 197, 768])\n",
      "Processed /Users/chy/Projects/Thesis/spectrograms/tt0419749.png with feature shape: torch.Size([1, 197, 768])\n"
     ]
    },
    {
     "name": "stderr",
     "output_type": "stream",
     "text": [
      " 72%|███████▏  | 971/1356 [01:28<00:30, 12.44it/s]"
     ]
    },
    {
     "name": "stdout",
     "output_type": "stream",
     "text": [
      "Processed /Users/chy/Projects/Thesis/spectrograms/tt0493464.png with feature shape: torch.Size([1, 197, 768])\n",
      "Processed /Users/chy/Projects/Thesis/spectrograms/tt1240982.png with feature shape: torch.Size([1, 197, 768])\n",
      "Processed /Users/chy/Projects/Thesis/spectrograms/tt2097298.png with feature shape: torch.Size([1, 197, 768])\n"
     ]
    },
    {
     "name": "stderr",
     "output_type": "stream",
     "text": [
      " 72%|███████▏  | 973/1356 [01:28<00:34, 11.01it/s]"
     ]
    },
    {
     "name": "stdout",
     "output_type": "stream",
     "text": [
      "Processed /Users/chy/Projects/Thesis/spectrograms/tt1637725.png with feature shape: torch.Size([1, 197, 768])\n",
      "Processed /Users/chy/Projects/Thesis/spectrograms/tt0407205.png with feature shape: torch.Size([1, 197, 768])\n"
     ]
    },
    {
     "name": "stderr",
     "output_type": "stream",
     "text": [
      " 72%|███████▏  | 975/1356 [01:28<00:34, 11.20it/s]"
     ]
    },
    {
     "name": "stdout",
     "output_type": "stream",
     "text": [
      "Processed /Users/chy/Projects/Thesis/spectrograms/tt4429194.png with feature shape: torch.Size([1, 197, 768])\n",
      "Processed /Users/chy/Projects/Thesis/spectrograms/tt0368658.png with feature shape: torch.Size([1, 197, 768])\n",
      "Processed /Users/chy/Projects/Thesis/spectrograms/tt0325980.png with feature shape: torch.Size([1, 197, 768])\n",
      "Processed /Users/chy/Projects/Thesis/spectrograms/tt0109578.png with feature shape: torch.Size([1, 197, 768])\n"
     ]
    },
    {
     "name": "stderr",
     "output_type": "stream",
     "text": [
      " 72%|███████▏  | 979/1356 [01:28<00:30, 12.44it/s]"
     ]
    },
    {
     "name": "stdout",
     "output_type": "stream",
     "text": [
      "Processed /Users/chy/Projects/Thesis/spectrograms/tt1127221.png with feature shape: torch.Size([1, 197, 768])\n",
      "Processed /Users/chy/Projects/Thesis/spectrograms/tt2965466.png with feature shape: torch.Size([1, 197, 768])\n",
      "Processed /Users/chy/Projects/Thesis/spectrograms/tt1024714.png with feature shape: torch.Size([1, 197, 768])\n"
     ]
    },
    {
     "name": "stderr",
     "output_type": "stream",
     "text": [
      " 72%|███████▏  | 981/1356 [01:29<00:29, 12.55it/s]"
     ]
    },
    {
     "name": "stdout",
     "output_type": "stream",
     "text": [
      "Processed /Users/chy/Projects/Thesis/spectrograms/tt0491703.png with feature shape: torch.Size([1, 197, 768])\n",
      "Processed /Users/chy/Projects/Thesis/spectrograms/tt0278488.png with feature shape: torch.Size([1, 197, 768])\n"
     ]
    },
    {
     "name": "stderr",
     "output_type": "stream",
     "text": [
      " 73%|███████▎  | 985/1356 [01:29<00:31, 11.86it/s]"
     ]
    },
    {
     "name": "stdout",
     "output_type": "stream",
     "text": [
      "Processed /Users/chy/Projects/Thesis/spectrograms/tt0407761.png with feature shape: torch.Size([1, 197, 768])\n",
      "Processed /Users/chy/Projects/Thesis/spectrograms/tt0469641.png with feature shape: torch.Size([1, 197, 768])\n",
      "Processed /Users/chy/Projects/Thesis/spectrograms/tt0104114.png with feature shape: torch.Size([1, 197, 768])\n"
     ]
    },
    {
     "name": "stderr",
     "output_type": "stream",
     "text": [
      " 73%|███████▎  | 987/1356 [01:29<00:30, 12.29it/s]"
     ]
    },
    {
     "name": "stdout",
     "output_type": "stream",
     "text": [
      "Processed /Users/chy/Projects/Thesis/spectrograms/tt1666185.png with feature shape: torch.Size([1, 197, 768])\n",
      "Processed /Users/chy/Projects/Thesis/spectrograms/tt0105236.png with feature shape: torch.Size([1, 197, 768])\n",
      "Processed /Users/chy/Projects/Thesis/spectrograms/tt0477457.png with feature shape: torch.Size([1, 197, 768])\n"
     ]
    },
    {
     "name": "stderr",
     "output_type": "stream",
     "text": [
      " 73%|███████▎  | 991/1356 [01:29<00:29, 12.52it/s]"
     ]
    },
    {
     "name": "stdout",
     "output_type": "stream",
     "text": [
      "Processed /Users/chy/Projects/Thesis/spectrograms/tt0265208.png with feature shape: torch.Size([1, 197, 768])\n",
      "Processed /Users/chy/Projects/Thesis/spectrograms/tt0350258.png with feature shape: torch.Size([1, 197, 768])\n",
      "Processed /Users/chy/Projects/Thesis/spectrograms/tt0298408.png with feature shape: torch.Size([1, 197, 768])\n"
     ]
    },
    {
     "name": "stderr",
     "output_type": "stream",
     "text": [
      " 73%|███████▎  | 993/1356 [01:29<00:28, 12.69it/s]"
     ]
    },
    {
     "name": "stdout",
     "output_type": "stream",
     "text": [
      "Processed /Users/chy/Projects/Thesis/spectrograms/tt0021814.png with feature shape: torch.Size([1, 197, 768])\n",
      "Processed /Users/chy/Projects/Thesis/spectrograms/tt1127180.png with feature shape: torch.Size([1, 197, 768])\n",
      "Processed /Users/chy/Projects/Thesis/spectrograms/tt0367153.png with feature shape: torch.Size([1, 197, 768])\n"
     ]
    },
    {
     "name": "stderr",
     "output_type": "stream",
     "text": [
      " 74%|███████▎  | 997/1356 [01:30<00:27, 12.88it/s]"
     ]
    },
    {
     "name": "stdout",
     "output_type": "stream",
     "text": [
      "Processed /Users/chy/Projects/Thesis/spectrograms/tt0398839.png with feature shape: torch.Size([1, 197, 768])\n",
      "Processed /Users/chy/Projects/Thesis/spectrograms/tt2370518.png with feature shape: torch.Size([1, 197, 768])\n",
      "Processed /Users/chy/Projects/Thesis/spectrograms/tt0796375.png with feature shape: torch.Size([1, 197, 768])\n"
     ]
    },
    {
     "name": "stderr",
     "output_type": "stream",
     "text": [
      " 74%|███████▎  | 999/1356 [01:30<00:27, 12.88it/s]"
     ]
    },
    {
     "name": "stdout",
     "output_type": "stream",
     "text": [
      "Processed /Users/chy/Projects/Thesis/spectrograms/tt0264472.png with feature shape: torch.Size([1, 197, 768])\n",
      "Processed /Users/chy/Projects/Thesis/spectrograms/tt0281373.png with feature shape: torch.Size([1, 197, 768])\n",
      "Processed /Users/chy/Projects/Thesis/spectrograms/tt0256359.png with feature shape: torch.Size([1, 197, 768])\n"
     ]
    },
    {
     "name": "stderr",
     "output_type": "stream",
     "text": [
      " 74%|███████▍  | 1001/1356 [01:30<00:30, 11.81it/s]"
     ]
    },
    {
     "name": "stdout",
     "output_type": "stream",
     "text": [
      "Processed /Users/chy/Projects/Thesis/spectrograms/tt0964539.png with feature shape: torch.Size([1, 197, 768])\n",
      "Processed /Users/chy/Projects/Thesis/spectrograms/tt0314630.png with feature shape: torch.Size([1, 197, 768])\n"
     ]
    },
    {
     "name": "stderr",
     "output_type": "stream",
     "text": [
      " 74%|███████▍  | 1005/1356 [01:30<00:28, 12.53it/s]"
     ]
    },
    {
     "name": "stdout",
     "output_type": "stream",
     "text": [
      "Processed /Users/chy/Projects/Thesis/spectrograms/tt7634968.png with feature shape: torch.Size([1, 197, 768])\n",
      "Processed /Users/chy/Projects/Thesis/spectrograms/tt0029546.png with feature shape: torch.Size([1, 197, 768])\n",
      "Processed /Users/chy/Projects/Thesis/spectrograms/tt0265086.png with feature shape: torch.Size([1, 197, 768])\n"
     ]
    },
    {
     "name": "stderr",
     "output_type": "stream",
     "text": [
      " 74%|███████▍  | 1007/1356 [01:31<00:27, 12.55it/s]"
     ]
    },
    {
     "name": "stdout",
     "output_type": "stream",
     "text": [
      "Processed /Users/chy/Projects/Thesis/spectrograms/tt0288330.png with feature shape: torch.Size([1, 197, 768])\n",
      "Processed /Users/chy/Projects/Thesis/spectrograms/tt2247476.png with feature shape: torch.Size([1, 197, 768])\n",
      "Processed /Users/chy/Projects/Thesis/spectrograms/tt1646971.png with feature shape: torch.Size([1, 197, 768])\n"
     ]
    },
    {
     "name": "stderr",
     "output_type": "stream",
     "text": [
      " 75%|███████▍  | 1011/1356 [01:31<00:27, 12.57it/s]"
     ]
    },
    {
     "name": "stdout",
     "output_type": "stream",
     "text": [
      "Processed /Users/chy/Projects/Thesis/spectrograms/tt0246677.png with feature shape: torch.Size([1, 197, 768])\n",
      "Processed /Users/chy/Projects/Thesis/spectrograms/tt0279493.png with feature shape: torch.Size([1, 197, 768])\n",
      "Processed /Users/chy/Projects/Thesis/spectrograms/tt0310357.png with feature shape: torch.Size([1, 197, 768])\n"
     ]
    },
    {
     "name": "stderr",
     "output_type": "stream",
     "text": [
      " 75%|███████▍  | 1013/1356 [01:31<00:27, 12.61it/s]"
     ]
    },
    {
     "name": "stdout",
     "output_type": "stream",
     "text": [
      "Processed /Users/chy/Projects/Thesis/spectrograms/tt0337930.png with feature shape: torch.Size([1, 197, 768])\n",
      "Processed /Users/chy/Projects/Thesis/spectrograms/tt0367652.png with feature shape: torch.Size([1, 197, 768])\n",
      "Processed /Users/chy/Projects/Thesis/spectrograms/tt0862846.png with feature shape: torch.Size([1, 197, 768])\n"
     ]
    },
    {
     "name": "stderr",
     "output_type": "stream",
     "text": [
      " 75%|███████▌  | 1017/1356 [01:31<00:26, 12.73it/s]"
     ]
    },
    {
     "name": "stdout",
     "output_type": "stream",
     "text": [
      "Processed /Users/chy/Projects/Thesis/spectrograms/tt0365737.png with feature shape: torch.Size([1, 197, 768])\n",
      "Processed /Users/chy/Projects/Thesis/spectrograms/tt1124388.png with feature shape: torch.Size([1, 197, 768])\n",
      "Processed /Users/chy/Projects/Thesis/spectrograms/tt2005164.png with feature shape: torch.Size([1, 197, 768])\n"
     ]
    },
    {
     "name": "stderr",
     "output_type": "stream",
     "text": [
      " 75%|███████▌  | 1019/1356 [01:32<00:26, 12.78it/s]"
     ]
    },
    {
     "name": "stdout",
     "output_type": "stream",
     "text": [
      "Processed /Users/chy/Projects/Thesis/spectrograms/tt1270761.png with feature shape: torch.Size([1, 197, 768])\n",
      "Processed /Users/chy/Projects/Thesis/spectrograms/tt0800027.png with feature shape: torch.Size([1, 197, 768])\n",
      "Processed /Users/chy/Projects/Thesis/spectrograms/tt2917336.png with feature shape: torch.Size([1, 197, 768])\n"
     ]
    },
    {
     "name": "stderr",
     "output_type": "stream",
     "text": [
      " 75%|███████▌  | 1021/1356 [01:32<00:26, 12.75it/s]"
     ]
    },
    {
     "name": "stdout",
     "output_type": "stream",
     "text": [
      "Processed /Users/chy/Projects/Thesis/spectrograms/tt0844671.png with feature shape: torch.Size([1, 197, 768])\n",
      "Processed /Users/chy/Projects/Thesis/spectrograms/tt0299981.png with feature shape: torch.Size([1, 197, 768])\n"
     ]
    },
    {
     "name": "stderr",
     "output_type": "stream",
     "text": [
      " 76%|███████▌  | 1025/1356 [01:32<00:28, 11.55it/s]"
     ]
    },
    {
     "name": "stdout",
     "output_type": "stream",
     "text": [
      "Processed /Users/chy/Projects/Thesis/spectrograms/tt1425922.png with feature shape: torch.Size([1, 197, 768])\n",
      "Processed /Users/chy/Projects/Thesis/spectrograms/tt1129445.png with feature shape: torch.Size([1, 197, 768])\n",
      "Processed /Users/chy/Projects/Thesis/spectrograms/tt1754811.png with feature shape: torch.Size([1, 197, 768])\n"
     ]
    },
    {
     "name": "stderr",
     "output_type": "stream",
     "text": [
      " 76%|███████▌  | 1027/1356 [01:32<00:27, 11.97it/s]"
     ]
    },
    {
     "name": "stdout",
     "output_type": "stream",
     "text": [
      "Processed /Users/chy/Projects/Thesis/spectrograms/tt1049400.png with feature shape: torch.Size([1, 197, 768])\n",
      "Processed /Users/chy/Projects/Thesis/spectrograms/tt4454078.png with feature shape: torch.Size([1, 197, 768])\n",
      "Processed /Users/chy/Projects/Thesis/spectrograms/tt0101751.png with feature shape: torch.Size([1, 197, 768])\n"
     ]
    },
    {
     "name": "stderr",
     "output_type": "stream",
     "text": [
      " 76%|███████▌  | 1031/1356 [01:33<00:27, 11.72it/s]"
     ]
    },
    {
     "name": "stdout",
     "output_type": "stream",
     "text": [
      "Processed /Users/chy/Projects/Thesis/spectrograms/tt1094661.png with feature shape: torch.Size([1, 197, 768])\n",
      "Processed /Users/chy/Projects/Thesis/spectrograms/tt0329717.png with feature shape: torch.Size([1, 197, 768])\n",
      "Processed /Users/chy/Projects/Thesis/spectrograms/tt0377092.png with feature shape: torch.Size([1, 197, 768])\n"
     ]
    },
    {
     "name": "stderr",
     "output_type": "stream",
     "text": [
      " 76%|███████▌  | 1033/1356 [01:33<00:29, 10.97it/s]"
     ]
    },
    {
     "name": "stdout",
     "output_type": "stream",
     "text": [
      "Processed /Users/chy/Projects/Thesis/spectrograms/tt1217301.png with feature shape: torch.Size([1, 197, 768])\n",
      "Processed /Users/chy/Projects/Thesis/spectrograms/tt0110099.png with feature shape: torch.Size([1, 197, 768])\n",
      "Processed /Users/chy/Projects/Thesis/spectrograms/tt0472399.png with feature shape: torch.Size([1, 197, 768])\n"
     ]
    },
    {
     "name": "stderr",
     "output_type": "stream",
     "text": [
      " 76%|███████▋  | 1037/1356 [01:33<00:27, 11.73it/s]"
     ]
    },
    {
     "name": "stdout",
     "output_type": "stream",
     "text": [
      "Processed /Users/chy/Projects/Thesis/spectrograms/tt0817177.png with feature shape: torch.Size([1, 197, 768])\n",
      "Processed /Users/chy/Projects/Thesis/spectrograms/tt0082276.png with feature shape: torch.Size([1, 197, 768])\n",
      "Processed /Users/chy/Projects/Thesis/spectrograms/tt0115678.png with feature shape: torch.Size([1, 197, 768])\n"
     ]
    },
    {
     "name": "stderr",
     "output_type": "stream",
     "text": [
      " 77%|███████▋  | 1039/1356 [01:33<00:26, 11.75it/s]"
     ]
    },
    {
     "name": "stdout",
     "output_type": "stream",
     "text": [
      "Processed /Users/chy/Projects/Thesis/spectrograms/tt0455915.png with feature shape: torch.Size([1, 197, 768])\n",
      "Processed /Users/chy/Projects/Thesis/spectrograms/tt1830805.png with feature shape: torch.Size([1, 197, 768])\n",
      "Processed /Users/chy/Projects/Thesis/spectrograms/tt1655460.png with feature shape: torch.Size([1, 197, 768])\n"
     ]
    },
    {
     "name": "stderr",
     "output_type": "stream",
     "text": [
      " 77%|███████▋  | 1043/1356 [01:34<00:28, 11.04it/s]"
     ]
    },
    {
     "name": "stdout",
     "output_type": "stream",
     "text": [
      "Processed /Users/chy/Projects/Thesis/spectrograms/tt0109279.png with feature shape: torch.Size([1, 197, 768])\n",
      "Processed /Users/chy/Projects/Thesis/spectrograms/tt2386404.png with feature shape: torch.Size([1, 197, 768])\n",
      "Processed /Users/chy/Projects/Thesis/spectrograms/tt0256276.png with feature shape: torch.Size([1, 197, 768])\n"
     ]
    },
    {
     "name": "stderr",
     "output_type": "stream",
     "text": [
      " 77%|███████▋  | 1045/1356 [01:34<00:26, 11.54it/s]"
     ]
    },
    {
     "name": "stdout",
     "output_type": "stream",
     "text": [
      "Processed /Users/chy/Projects/Thesis/spectrograms/tt0978759.png with feature shape: torch.Size([1, 197, 768])\n",
      "Processed /Users/chy/Projects/Thesis/spectrograms/tt0091949.png with feature shape: torch.Size([1, 197, 768])\n",
      "Processed /Users/chy/Projects/Thesis/spectrograms/tt1153706.png with feature shape: torch.Size([1, 197, 768])\n"
     ]
    },
    {
     "name": "stderr",
     "output_type": "stream",
     "text": [
      " 77%|███████▋  | 1049/1356 [01:34<00:26, 11.62it/s]"
     ]
    },
    {
     "name": "stdout",
     "output_type": "stream",
     "text": [
      "Processed /Users/chy/Projects/Thesis/spectrograms/tt1800246.png with feature shape: torch.Size([1, 197, 768])\n",
      "Processed /Users/chy/Projects/Thesis/spectrograms/tt0428518.png with feature shape: torch.Size([1, 197, 768])\n",
      "Processed /Users/chy/Projects/Thesis/spectrograms/tt1753549.png with feature shape: torch.Size([1, 197, 768])\n"
     ]
    },
    {
     "name": "stderr",
     "output_type": "stream",
     "text": [
      " 78%|███████▊  | 1051/1356 [01:34<00:26, 11.71it/s]"
     ]
    },
    {
     "name": "stdout",
     "output_type": "stream",
     "text": [
      "Processed /Users/chy/Projects/Thesis/spectrograms/tt1564349.png with feature shape: torch.Size([1, 197, 768])\n",
      "Processed /Users/chy/Projects/Thesis/spectrograms/tt0365125.png with feature shape: torch.Size([1, 197, 768])\n",
      "Processed /Users/chy/Projects/Thesis/spectrograms/tt4435082.png with feature shape: torch.Size([1, 197, 768])\n"
     ]
    },
    {
     "name": "stderr",
     "output_type": "stream",
     "text": [
      " 78%|███████▊  | 1055/1356 [01:35<00:25, 11.68it/s]"
     ]
    },
    {
     "name": "stdout",
     "output_type": "stream",
     "text": [
      "Processed /Users/chy/Projects/Thesis/spectrograms/tt3491962.png with feature shape: torch.Size([1, 197, 768])\n",
      "Processed /Users/chy/Projects/Thesis/spectrograms/tt0434124.png with feature shape: torch.Size([1, 197, 768])\n",
      "Processed /Users/chy/Projects/Thesis/spectrograms/tt1125849.png with feature shape: torch.Size([1, 197, 768])\n"
     ]
    },
    {
     "name": "stderr",
     "output_type": "stream",
     "text": [
      " 78%|███████▊  | 1057/1356 [01:35<00:25, 11.83it/s]"
     ]
    },
    {
     "name": "stdout",
     "output_type": "stream",
     "text": [
      "Processed /Users/chy/Projects/Thesis/spectrograms/tt0493402.png with feature shape: torch.Size([1, 197, 768])\n",
      "Processed /Users/chy/Projects/Thesis/spectrograms/tt0488988.png with feature shape: torch.Size([1, 197, 768])\n",
      "Processed /Users/chy/Projects/Thesis/spectrograms/tt0765476.png with feature shape: torch.Size([1, 197, 768])\n"
     ]
    },
    {
     "name": "stderr",
     "output_type": "stream",
     "text": [
      " 78%|███████▊  | 1059/1356 [01:35<00:25, 11.85it/s]"
     ]
    },
    {
     "name": "stdout",
     "output_type": "stream",
     "text": [
      "Processed /Users/chy/Projects/Thesis/spectrograms/tt0096969.png with feature shape: torch.Size([1, 197, 768])\n",
      "Processed /Users/chy/Projects/Thesis/spectrograms/tt0404030.png with feature shape: torch.Size([1, 197, 768])\n"
     ]
    },
    {
     "name": "stderr",
     "output_type": "stream",
     "text": [
      " 78%|███████▊  | 1063/1356 [01:35<00:25, 11.34it/s]"
     ]
    },
    {
     "name": "stdout",
     "output_type": "stream",
     "text": [
      "Processed /Users/chy/Projects/Thesis/spectrograms/tt4981636.png with feature shape: torch.Size([1, 197, 768])\n",
      "Processed /Users/chy/Projects/Thesis/spectrograms/tt0104990.png with feature shape: torch.Size([1, 197, 768])\n",
      "Processed /Users/chy/Projects/Thesis/spectrograms/tt4919484.png with feature shape: torch.Size([1, 197, 768])\n"
     ]
    },
    {
     "name": "stderr",
     "output_type": "stream",
     "text": [
      " 79%|███████▊  | 1065/1356 [01:36<00:25, 11.60it/s]"
     ]
    },
    {
     "name": "stdout",
     "output_type": "stream",
     "text": [
      "Processed /Users/chy/Projects/Thesis/spectrograms/tt0880578.png with feature shape: torch.Size([1, 197, 768])\n",
      "Processed /Users/chy/Projects/Thesis/spectrograms/tt0106611.png with feature shape: torch.Size([1, 197, 768])\n",
      "Processed /Users/chy/Projects/Thesis/spectrograms/tt0263757.png with feature shape: torch.Size([1, 197, 768])\n"
     ]
    },
    {
     "name": "stderr",
     "output_type": "stream",
     "text": [
      " 79%|███████▉  | 1069/1356 [01:36<00:24, 11.77it/s]"
     ]
    },
    {
     "name": "stdout",
     "output_type": "stream",
     "text": [
      "Processed /Users/chy/Projects/Thesis/spectrograms/tt4034354.png with feature shape: torch.Size([1, 197, 768])\n",
      "Processed /Users/chy/Projects/Thesis/spectrograms/tt0087469.png with feature shape: torch.Size([1, 197, 768])\n",
      "Processed /Users/chy/Projects/Thesis/spectrograms/tt2404463.png with feature shape: torch.Size([1, 197, 768])\n"
     ]
    },
    {
     "name": "stderr",
     "output_type": "stream",
     "text": [
      " 79%|███████▉  | 1071/1356 [01:36<00:24, 11.87it/s]"
     ]
    },
    {
     "name": "stdout",
     "output_type": "stream",
     "text": [
      "Processed /Users/chy/Projects/Thesis/spectrograms/tt2404311.png with feature shape: torch.Size([1, 197, 768])\n",
      "Processed /Users/chy/Projects/Thesis/spectrograms/tt1629757.png with feature shape: torch.Size([1, 197, 768])\n",
      "Processed /Users/chy/Projects/Thesis/spectrograms/tt0115725.png with feature shape: torch.Size([1, 197, 768])\n"
     ]
    },
    {
     "name": "stderr",
     "output_type": "stream",
     "text": [
      " 79%|███████▉  | 1075/1356 [01:36<00:23, 12.10it/s]"
     ]
    },
    {
     "name": "stdout",
     "output_type": "stream",
     "text": [
      "Processed /Users/chy/Projects/Thesis/spectrograms/tt0301924.png with feature shape: torch.Size([1, 197, 768])\n",
      "Processed /Users/chy/Projects/Thesis/spectrograms/tt0096438.png with feature shape: torch.Size([1, 197, 768])\n",
      "Processed /Users/chy/Projects/Thesis/spectrograms/tt0311289.png with feature shape: torch.Size([1, 197, 768])\n"
     ]
    },
    {
     "name": "stderr",
     "output_type": "stream",
     "text": [
      " 79%|███████▉  | 1077/1356 [01:37<00:22, 12.30it/s]"
     ]
    },
    {
     "name": "stdout",
     "output_type": "stream",
     "text": [
      "Processed /Users/chy/Projects/Thesis/spectrograms/tt0280590.png with feature shape: torch.Size([1, 197, 768])\n",
      "Processed /Users/chy/Projects/Thesis/spectrograms/tt2230358.png with feature shape: torch.Size([1, 197, 768])\n",
      "Processed /Users/chy/Projects/Thesis/spectrograms/tt0864761.png with feature shape: torch.Size([1, 197, 768])\n"
     ]
    },
    {
     "name": "stderr",
     "output_type": "stream",
     "text": [
      " 80%|███████▉  | 1081/1356 [01:37<00:22, 12.48it/s]"
     ]
    },
    {
     "name": "stdout",
     "output_type": "stream",
     "text": [
      "Processed /Users/chy/Projects/Thesis/spectrograms/tt1591504.png with feature shape: torch.Size([1, 197, 768])\n",
      "Processed /Users/chy/Projects/Thesis/spectrograms/tt8097306.png with feature shape: torch.Size([1, 197, 768])\n",
      "Processed /Users/chy/Projects/Thesis/spectrograms/tt0901476.png with feature shape: torch.Size([1, 197, 768])\n"
     ]
    },
    {
     "name": "stderr",
     "output_type": "stream",
     "text": [
      " 80%|███████▉  | 1083/1356 [01:37<00:24, 10.92it/s]"
     ]
    },
    {
     "name": "stdout",
     "output_type": "stream",
     "text": [
      "Processed /Users/chy/Projects/Thesis/spectrograms/tt0841046.png with feature shape: torch.Size([1, 197, 768])\n",
      "Processed /Users/chy/Projects/Thesis/spectrograms/tt1029120.png with feature shape: torch.Size([1, 197, 768])\n",
      "Processed /Users/chy/Projects/Thesis/spectrograms/tt0323944.png with feature shape: torch.Size([1, 197, 768])\n"
     ]
    },
    {
     "name": "stderr",
     "output_type": "stream",
     "text": [
      " 80%|████████  | 1087/1356 [01:37<00:22, 12.13it/s]"
     ]
    },
    {
     "name": "stdout",
     "output_type": "stream",
     "text": [
      "Processed /Users/chy/Projects/Thesis/spectrograms/tt0219400.png with feature shape: torch.Size([1, 197, 768])\n",
      "Processed /Users/chy/Projects/Thesis/spectrograms/tt0384537.png with feature shape: torch.Size([1, 197, 768])\n",
      "Processed /Users/chy/Projects/Thesis/spectrograms/tt0265087.png with feature shape: torch.Size([1, 197, 768])\n"
     ]
    },
    {
     "name": "stderr",
     "output_type": "stream",
     "text": [
      " 80%|████████  | 1089/1356 [01:38<00:21, 12.33it/s]"
     ]
    },
    {
     "name": "stdout",
     "output_type": "stream",
     "text": [
      "Processed /Users/chy/Projects/Thesis/spectrograms/tt0839880.png with feature shape: torch.Size([1, 197, 768])\n",
      "Processed /Users/chy/Projects/Thesis/spectrograms/tt0238380.png with feature shape: torch.Size([1, 197, 768])\n",
      "Processed /Users/chy/Projects/Thesis/spectrograms/tt1772341.png with feature shape: torch.Size([1, 197, 768])\n"
     ]
    },
    {
     "name": "stderr",
     "output_type": "stream",
     "text": [
      " 81%|████████  | 1093/1356 [01:38<00:21, 12.33it/s]"
     ]
    },
    {
     "name": "stdout",
     "output_type": "stream",
     "text": [
      "Processed /Users/chy/Projects/Thesis/spectrograms/tt1763264.png with feature shape: torch.Size([1, 197, 768])\n",
      "Processed /Users/chy/Projects/Thesis/spectrograms/tt0338427.png with feature shape: torch.Size([1, 197, 768])\n",
      "Processed /Users/chy/Projects/Thesis/spectrograms/tt0841044.png with feature shape: torch.Size([1, 197, 768])\n"
     ]
    },
    {
     "name": "stderr",
     "output_type": "stream",
     "text": [
      " 81%|████████  | 1095/1356 [01:38<00:20, 12.49it/s]"
     ]
    },
    {
     "name": "stdout",
     "output_type": "stream",
     "text": [
      "Processed /Users/chy/Projects/Thesis/spectrograms/tt0462200.png with feature shape: torch.Size([1, 197, 768])\n",
      "Processed /Users/chy/Projects/Thesis/spectrograms/tt3530002.png with feature shape: torch.Size([1, 197, 768])\n",
      "Processed /Users/chy/Projects/Thesis/spectrograms/tt0287969.png with feature shape: torch.Size([1, 197, 768])\n"
     ]
    },
    {
     "name": "stderr",
     "output_type": "stream",
     "text": [
      " 81%|████████  | 1099/1356 [01:38<00:20, 12.70it/s]"
     ]
    },
    {
     "name": "stdout",
     "output_type": "stream",
     "text": [
      "Processed /Users/chy/Projects/Thesis/spectrograms/tt0332136.png with feature shape: torch.Size([1, 197, 768])\n",
      "Processed /Users/chy/Projects/Thesis/spectrograms/tt1331064.png with feature shape: torch.Size([1, 197, 768])\n",
      "Processed /Users/chy/Projects/Thesis/spectrograms/tt4501244.png with feature shape: torch.Size([1, 197, 768])\n"
     ]
    },
    {
     "name": "stderr",
     "output_type": "stream",
     "text": [
      " 81%|████████  | 1101/1356 [01:39<00:22, 11.30it/s]"
     ]
    },
    {
     "name": "stdout",
     "output_type": "stream",
     "text": [
      "Processed /Users/chy/Projects/Thesis/spectrograms/tt0780567.png with feature shape: torch.Size([1, 197, 768])\n",
      "Processed /Users/chy/Projects/Thesis/spectrograms/tt0270846.png with feature shape: torch.Size([1, 197, 768])\n",
      "Processed /Users/chy/Projects/Thesis/spectrograms/tt1821658.png with feature shape: torch.Size([1, 197, 768])\n"
     ]
    },
    {
     "name": "stderr",
     "output_type": "stream",
     "text": [
      " 81%|████████▏ | 1105/1356 [01:39<00:20, 11.97it/s]"
     ]
    },
    {
     "name": "stdout",
     "output_type": "stream",
     "text": [
      "Processed /Users/chy/Projects/Thesis/spectrograms/tt0810784.png with feature shape: torch.Size([1, 197, 768])\n",
      "Processed /Users/chy/Projects/Thesis/spectrograms/tt0332452.png with feature shape: torch.Size([1, 197, 768])\n",
      "Processed /Users/chy/Projects/Thesis/spectrograms/tt3225318.png with feature shape: torch.Size([1, 197, 768])\n"
     ]
    },
    {
     "name": "stderr",
     "output_type": "stream",
     "text": [
      " 82%|████████▏ | 1107/1356 [01:39<00:20, 12.15it/s]"
     ]
    },
    {
     "name": "stdout",
     "output_type": "stream",
     "text": [
      "Processed /Users/chy/Projects/Thesis/spectrograms/tt0271219.png with feature shape: torch.Size([1, 197, 768])\n",
      "Processed /Users/chy/Projects/Thesis/spectrograms/tt0381707.png with feature shape: torch.Size([1, 197, 768])\n",
      "Processed /Users/chy/Projects/Thesis/spectrograms/tt0120603.png with feature shape: torch.Size([1, 197, 768])\n"
     ]
    },
    {
     "name": "stderr",
     "output_type": "stream",
     "text": [
      " 82%|████████▏ | 1111/1356 [01:39<00:19, 12.29it/s]"
     ]
    },
    {
     "name": "stdout",
     "output_type": "stream",
     "text": [
      "Processed /Users/chy/Projects/Thesis/spectrograms/tt0377091.png with feature shape: torch.Size([1, 197, 768])\n",
      "Processed /Users/chy/Projects/Thesis/spectrograms/tt0381061.png with feature shape: torch.Size([1, 197, 768])\n",
      "Processed /Users/chy/Projects/Thesis/spectrograms/tt0762125.png with feature shape: torch.Size([1, 197, 768])\n"
     ]
    },
    {
     "name": "stderr",
     "output_type": "stream",
     "text": [
      " 82%|████████▏ | 1113/1356 [01:40<00:19, 12.37it/s]"
     ]
    },
    {
     "name": "stdout",
     "output_type": "stream",
     "text": [
      "Processed /Users/chy/Projects/Thesis/spectrograms/tt0105483.png with feature shape: torch.Size([1, 197, 768])\n",
      "Processed /Users/chy/Projects/Thesis/spectrograms/tt0092099.png with feature shape: torch.Size([1, 197, 768])\n",
      "Processed /Users/chy/Projects/Thesis/spectrograms/tt1130088.png with feature shape: torch.Size([1, 197, 768])\n"
     ]
    },
    {
     "name": "stderr",
     "output_type": "stream",
     "text": [
      " 82%|████████▏ | 1117/1356 [01:40<00:19, 12.29it/s]"
     ]
    },
    {
     "name": "stdout",
     "output_type": "stream",
     "text": [
      "Processed /Users/chy/Projects/Thesis/spectrograms/tt0473709.png with feature shape: torch.Size([1, 197, 768])\n",
      "Processed /Users/chy/Projects/Thesis/spectrograms/tt0083619.png with feature shape: torch.Size([1, 197, 768])\n",
      "Processed /Users/chy/Projects/Thesis/spectrograms/tt2620590.png with feature shape: torch.Size([1, 197, 768])\n"
     ]
    },
    {
     "name": "stderr",
     "output_type": "stream",
     "text": [
      " 83%|████████▎ | 1119/1356 [01:40<00:19, 12.45it/s]"
     ]
    },
    {
     "name": "stdout",
     "output_type": "stream",
     "text": [
      "Processed /Users/chy/Projects/Thesis/spectrograms/tt0421073.png with feature shape: torch.Size([1, 197, 768])\n",
      "Processed /Users/chy/Projects/Thesis/spectrograms/tt0259393.png with feature shape: torch.Size([1, 197, 768])\n"
     ]
    },
    {
     "name": "stderr",
     "output_type": "stream",
     "text": [
      " 83%|████████▎ | 1121/1356 [01:40<00:21, 11.05it/s]"
     ]
    },
    {
     "name": "stdout",
     "output_type": "stream",
     "text": [
      "Processed /Users/chy/Projects/Thesis/spectrograms/tt1198138.png with feature shape: torch.Size([1, 197, 768])\n",
      "Processed /Users/chy/Projects/Thesis/spectrograms/tt0379725.png with feature shape: torch.Size([1, 197, 768])\n",
      "Processed /Users/chy/Projects/Thesis/spectrograms/tt0375679.png with feature shape: torch.Size([1, 197, 768])\n",
      "Processed /Users/chy/Projects/Thesis/spectrograms/tt0802948.png with feature shape: torch.Size([1, 197, 768])\n"
     ]
    },
    {
     "name": "stderr",
     "output_type": "stream",
     "text": [
      " 83%|████████▎ | 1125/1356 [01:41<00:18, 12.23it/s]"
     ]
    },
    {
     "name": "stdout",
     "output_type": "stream",
     "text": [
      "Processed /Users/chy/Projects/Thesis/spectrograms/tt4008652.png with feature shape: torch.Size([1, 197, 768])\n",
      "Processed /Users/chy/Projects/Thesis/spectrograms/tt0491203.png with feature shape: torch.Size([1, 197, 768])\n",
      "Processed /Users/chy/Projects/Thesis/spectrograms/tt0472198.png with feature shape: torch.Size([1, 197, 768])\n"
     ]
    },
    {
     "name": "stderr",
     "output_type": "stream",
     "text": [
      " 83%|████████▎ | 1129/1356 [01:41<00:18, 12.49it/s]"
     ]
    },
    {
     "name": "stdout",
     "output_type": "stream",
     "text": [
      "Processed /Users/chy/Projects/Thesis/spectrograms/tt0483607.png with feature shape: torch.Size([1, 197, 768])\n",
      "Processed /Users/chy/Projects/Thesis/spectrograms/tt0351283.png with feature shape: torch.Size([1, 197, 768])\n",
      "Processed /Users/chy/Projects/Thesis/spectrograms/tt2044729.png with feature shape: torch.Size([1, 197, 768])\n"
     ]
    },
    {
     "name": "stderr",
     "output_type": "stream",
     "text": [
      " 83%|████████▎ | 1131/1356 [01:41<00:17, 12.54it/s]"
     ]
    },
    {
     "name": "stdout",
     "output_type": "stream",
     "text": [
      "Processed /Users/chy/Projects/Thesis/spectrograms/tt1650043.png with feature shape: torch.Size([1, 197, 768])\n",
      "Processed /Users/chy/Projects/Thesis/spectrograms/tt0325258.png with feature shape: torch.Size([1, 197, 768])\n",
      "Processed /Users/chy/Projects/Thesis/spectrograms/tt0117247.png with feature shape: torch.Size([1, 197, 768])\n"
     ]
    },
    {
     "name": "stderr",
     "output_type": "stream",
     "text": [
      " 84%|████████▎ | 1135/1356 [01:41<00:18, 12.02it/s]"
     ]
    },
    {
     "name": "stdout",
     "output_type": "stream",
     "text": [
      "Processed /Users/chy/Projects/Thesis/spectrograms/tt0442933.png with feature shape: torch.Size([1, 197, 768])\n",
      "Processed /Users/chy/Projects/Thesis/spectrograms/tt1742334.png with feature shape: torch.Size([1, 197, 768])\n",
      "Processed /Users/chy/Projects/Thesis/spectrograms/tt1650056.png with feature shape: torch.Size([1, 197, 768])\n"
     ]
    },
    {
     "name": "stderr",
     "output_type": "stream",
     "text": [
      " 84%|████████▍ | 1137/1356 [01:42<00:17, 12.36it/s]"
     ]
    },
    {
     "name": "stdout",
     "output_type": "stream",
     "text": [
      "Processed /Users/chy/Projects/Thesis/spectrograms/tt0804492.png with feature shape: torch.Size([1, 197, 768])\n",
      "Processed /Users/chy/Projects/Thesis/spectrograms/tt0116830.png with feature shape: torch.Size([1, 197, 768])\n",
      "Processed /Users/chy/Projects/Thesis/spectrograms/tt1152397.png with feature shape: torch.Size([1, 197, 768])\n"
     ]
    },
    {
     "name": "stderr",
     "output_type": "stream",
     "text": [
      " 84%|████████▍ | 1141/1356 [01:42<00:19, 11.13it/s]"
     ]
    },
    {
     "name": "stdout",
     "output_type": "stream",
     "text": [
      "Processed /Users/chy/Projects/Thesis/spectrograms/tt0278823.png with feature shape: torch.Size([1, 197, 768])\n",
      "Processed /Users/chy/Projects/Thesis/spectrograms/tt0896866.png with feature shape: torch.Size([1, 197, 768])\n",
      "Processed /Users/chy/Projects/Thesis/spectrograms/tt0435761.png with feature shape: torch.Size([1, 197, 768])\n",
      "Processed /Users/chy/Projects/Thesis/spectrograms/tt0486583.png with feature shape: torch.Size([1, 197, 768])\n"
     ]
    },
    {
     "name": "stderr",
     "output_type": "stream",
     "text": [
      " 84%|████████▍ | 1145/1356 [01:42<00:17, 12.27it/s]"
     ]
    },
    {
     "name": "stdout",
     "output_type": "stream",
     "text": [
      "Processed /Users/chy/Projects/Thesis/spectrograms/tt2702724.png with feature shape: torch.Size([1, 197, 768])\n",
      "Processed /Users/chy/Projects/Thesis/spectrograms/tt1001526.png with feature shape: torch.Size([1, 197, 768])\n",
      "Processed /Users/chy/Projects/Thesis/spectrograms/tt2262227.png with feature shape: torch.Size([1, 197, 768])\n"
     ]
    },
    {
     "name": "stderr",
     "output_type": "stream",
     "text": [
      " 85%|████████▍ | 1147/1356 [01:42<00:16, 12.42it/s]"
     ]
    },
    {
     "name": "stdout",
     "output_type": "stream",
     "text": [
      "Processed /Users/chy/Projects/Thesis/spectrograms/tt0119054.png with feature shape: torch.Size([1, 197, 768])\n",
      "Processed /Users/chy/Projects/Thesis/spectrograms/tt0290145.png with feature shape: torch.Size([1, 197, 768])\n",
      "Processed /Users/chy/Projects/Thesis/spectrograms/tt0384642.png with feature shape: torch.Size([1, 197, 768])\n"
     ]
    },
    {
     "name": "stderr",
     "output_type": "stream",
     "text": [
      " 85%|████████▍ | 1151/1356 [01:43<00:16, 12.51it/s]"
     ]
    },
    {
     "name": "stdout",
     "output_type": "stream",
     "text": [
      "Processed /Users/chy/Projects/Thesis/spectrograms/tt1029241.png with feature shape: torch.Size([1, 197, 768])\n",
      "Processed /Users/chy/Projects/Thesis/spectrograms/tt0300556.png with feature shape: torch.Size([1, 197, 768])\n",
      "Processed /Users/chy/Projects/Thesis/spectrograms/tt1232829.png with feature shape: torch.Size([1, 197, 768])\n"
     ]
    },
    {
     "name": "stderr",
     "output_type": "stream",
     "text": [
      " 85%|████████▌ | 1153/1356 [01:43<00:16, 12.49it/s]"
     ]
    },
    {
     "name": "stdout",
     "output_type": "stream",
     "text": [
      "Processed /Users/chy/Projects/Thesis/spectrograms/tt0308644.png with feature shape: torch.Size([1, 197, 768])\n",
      "Processed /Users/chy/Projects/Thesis/spectrograms/tt1067106.png with feature shape: torch.Size([1, 197, 768])\n",
      "Processed /Users/chy/Projects/Thesis/spectrograms/tt0120616.png with feature shape: torch.Size([1, 197, 768])\n"
     ]
    },
    {
     "name": "stderr",
     "output_type": "stream",
     "text": [
      " 85%|████████▌ | 1155/1356 [01:43<00:15, 12.69it/s]"
     ]
    },
    {
     "name": "stdout",
     "output_type": "stream",
     "text": [
      "Processed /Users/chy/Projects/Thesis/spectrograms/tt0093225.png with feature shape: torch.Size([1, 197, 768])\n",
      "Processed /Users/chy/Projects/Thesis/spectrograms/tt0457090.png with feature shape: torch.Size([1, 197, 768])\n",
      "Processed /Users/chy/Projects/Thesis/spectrograms/tt0472562.png with feature shape: torch.Size([1, 197, 768])\n"
     ]
    },
    {
     "name": "stderr",
     "output_type": "stream",
     "text": [
      " 85%|████████▌ | 1159/1356 [01:43<00:18, 10.51it/s]"
     ]
    },
    {
     "name": "stdout",
     "output_type": "stream",
     "text": [
      "Processed /Users/chy/Projects/Thesis/spectrograms/tt0357585.png with feature shape: torch.Size([1, 197, 768])\n",
      "Processed /Users/chy/Projects/Thesis/spectrograms/tt0340012.png with feature shape: torch.Size([1, 197, 768])\n"
     ]
    },
    {
     "name": "stderr",
     "output_type": "stream",
     "text": [
      " 86%|████████▌ | 1161/1356 [01:44<00:17, 11.44it/s]"
     ]
    },
    {
     "name": "stdout",
     "output_type": "stream",
     "text": [
      "Processed /Users/chy/Projects/Thesis/spectrograms/tt0424095.png with feature shape: torch.Size([1, 197, 768])\n",
      "Processed /Users/chy/Projects/Thesis/spectrograms/tt0465234.png with feature shape: torch.Size([1, 197, 768])\n",
      "Processed /Users/chy/Projects/Thesis/spectrograms/tt0117333.png with feature shape: torch.Size([1, 197, 768])\n"
     ]
    },
    {
     "name": "stderr",
     "output_type": "stream",
     "text": [
      " 86%|████████▌ | 1165/1356 [01:44<00:16, 11.71it/s]"
     ]
    },
    {
     "name": "stdout",
     "output_type": "stream",
     "text": [
      "Processed /Users/chy/Projects/Thesis/spectrograms/tt0944101.png with feature shape: torch.Size([1, 197, 768])\n",
      "Processed /Users/chy/Projects/Thesis/spectrograms/tt0851530.png with feature shape: torch.Size([1, 197, 768])\n",
      "Processed /Users/chy/Projects/Thesis/spectrograms/tt0382810.png with feature shape: torch.Size([1, 197, 768])\n"
     ]
    },
    {
     "name": "stderr",
     "output_type": "stream",
     "text": [
      " 86%|████████▌ | 1167/1356 [01:44<00:15, 12.04it/s]"
     ]
    },
    {
     "name": "stdout",
     "output_type": "stream",
     "text": [
      "Processed /Users/chy/Projects/Thesis/spectrograms/tt2980706.png with feature shape: torch.Size([1, 197, 768])\n",
      "Processed /Users/chy/Projects/Thesis/spectrograms/tt0144964.png with feature shape: torch.Size([1, 197, 768])\n",
      "Processed /Users/chy/Projects/Thesis/spectrograms/tt0094947.png with feature shape: torch.Size([1, 197, 768])\n"
     ]
    },
    {
     "name": "stderr",
     "output_type": "stream",
     "text": [
      " 86%|████████▋ | 1171/1356 [01:44<00:15, 12.13it/s]"
     ]
    },
    {
     "name": "stdout",
     "output_type": "stream",
     "text": [
      "Processed /Users/chy/Projects/Thesis/spectrograms/tt0457523.png with feature shape: torch.Size([1, 197, 768])\n",
      "Processed /Users/chy/Projects/Thesis/spectrograms/tt0300620.png with feature shape: torch.Size([1, 197, 768])\n",
      "Processed /Users/chy/Projects/Thesis/spectrograms/tt0117496.png with feature shape: torch.Size([1, 197, 768])\n"
     ]
    },
    {
     "name": "stderr",
     "output_type": "stream",
     "text": [
      " 87%|████████▋ | 1173/1356 [01:45<00:14, 12.41it/s]"
     ]
    },
    {
     "name": "stdout",
     "output_type": "stream",
     "text": [
      "Processed /Users/chy/Projects/Thesis/spectrograms/tt5579982.png with feature shape: torch.Size([1, 197, 768])\n",
      "Processed /Users/chy/Projects/Thesis/spectrograms/tt4557956.png with feature shape: torch.Size([1, 197, 768])\n",
      "Processed /Users/chy/Projects/Thesis/spectrograms/tt4669186.png with feature shape: torch.Size([1, 197, 768])\n"
     ]
    },
    {
     "name": "stderr",
     "output_type": "stream",
     "text": [
      " 87%|████████▋ | 1175/1356 [01:45<00:14, 12.47it/s]"
     ]
    },
    {
     "name": "stdout",
     "output_type": "stream",
     "text": [
      "Processed /Users/chy/Projects/Thesis/spectrograms/tt0993846.png with feature shape: torch.Size([1, 197, 768])\n",
      "Processed /Users/chy/Projects/Thesis/spectrograms/tt1151922.png with feature shape: torch.Size([1, 197, 768])\n"
     ]
    },
    {
     "name": "stderr",
     "output_type": "stream",
     "text": [
      " 87%|████████▋ | 1179/1356 [01:45<00:14, 12.16it/s]"
     ]
    },
    {
     "name": "stdout",
     "output_type": "stream",
     "text": [
      "Processed /Users/chy/Projects/Thesis/spectrograms/tt0026129.png with feature shape: torch.Size([1, 197, 768])\n",
      "Processed /Users/chy/Projects/Thesis/spectrograms/tt0313670.png with feature shape: torch.Size([1, 197, 768])\n",
      "Processed /Users/chy/Projects/Thesis/spectrograms/tt0298131.png with feature shape: torch.Size([1, 197, 768])\n"
     ]
    },
    {
     "name": "stderr",
     "output_type": "stream",
     "text": [
      " 87%|████████▋ | 1181/1356 [01:45<00:13, 12.56it/s]"
     ]
    },
    {
     "name": "stdout",
     "output_type": "stream",
     "text": [
      "Processed /Users/chy/Projects/Thesis/spectrograms/tt2298990.png with feature shape: torch.Size([1, 197, 768])\n",
      "Processed /Users/chy/Projects/Thesis/spectrograms/tt0811138.png with feature shape: torch.Size([1, 197, 768])\n"
     ]
    },
    {
     "name": "stderr",
     "output_type": "stream",
     "text": [
      " 87%|████████▋ | 1183/1356 [01:45<00:14, 11.60it/s]"
     ]
    },
    {
     "name": "stdout",
     "output_type": "stream",
     "text": [
      "Processed /Users/chy/Projects/Thesis/spectrograms/tt1190617.png with feature shape: torch.Size([1, 197, 768])\n",
      "Processed /Users/chy/Projects/Thesis/spectrograms/tt0337711.png with feature shape: torch.Size([1, 197, 768])\n",
      "Processed /Users/chy/Projects/Thesis/spectrograms/tt0090270.png with feature shape: torch.Size([1, 197, 768])\n"
     ]
    },
    {
     "name": "stderr",
     "output_type": "stream",
     "text": [
      " 88%|████████▊ | 1187/1356 [01:46<00:13, 12.23it/s]"
     ]
    },
    {
     "name": "stdout",
     "output_type": "stream",
     "text": [
      "Processed /Users/chy/Projects/Thesis/spectrograms/tt0473308.png with feature shape: torch.Size([1, 197, 768])\n",
      "Processed /Users/chy/Projects/Thesis/spectrograms/tt0479143.png with feature shape: torch.Size([1, 197, 768])\n",
      "Processed /Users/chy/Projects/Thesis/spectrograms/tt0086837.png with feature shape: torch.Size([1, 197, 768])\n"
     ]
    },
    {
     "name": "stderr",
     "output_type": "stream",
     "text": [
      " 88%|████████▊ | 1189/1356 [01:46<00:13, 12.42it/s]"
     ]
    },
    {
     "name": "stdout",
     "output_type": "stream",
     "text": [
      "Processed /Users/chy/Projects/Thesis/spectrograms/tt0251127.png with feature shape: torch.Size([1, 197, 768])\n",
      "Processed /Users/chy/Projects/Thesis/spectrograms/tt0268995.png with feature shape: torch.Size([1, 197, 768])\n",
      "Processed /Users/chy/Projects/Thesis/spectrograms/tt1231277.png with feature shape: torch.Size([1, 197, 768])\n"
     ]
    },
    {
     "name": "stderr",
     "output_type": "stream",
     "text": [
      " 88%|████████▊ | 1191/1356 [01:46<00:13, 12.46it/s]"
     ]
    },
    {
     "name": "stdout",
     "output_type": "stream",
     "text": [
      "Processed /Users/chy/Projects/Thesis/spectrograms/tt0892769.png with feature shape: torch.Size([1, 197, 768])\n",
      "Processed /Users/chy/Projects/Thesis/spectrograms/tt0906108.png with feature shape: torch.Size([1, 197, 768])\n"
     ]
    },
    {
     "name": "stderr",
     "output_type": "stream",
     "text": [
      " 88%|████████▊ | 1195/1356 [01:46<00:13, 11.68it/s]"
     ]
    },
    {
     "name": "stdout",
     "output_type": "stream",
     "text": [
      "Processed /Users/chy/Projects/Thesis/spectrograms/tt3079380.png with feature shape: torch.Size([1, 197, 768])\n",
      "Processed /Users/chy/Projects/Thesis/spectrograms/tt0323572.png with feature shape: torch.Size([1, 197, 768])\n",
      "Processed /Users/chy/Projects/Thesis/spectrograms/tt1823664.png with feature shape: torch.Size([1, 197, 768])\n"
     ]
    },
    {
     "name": "stderr",
     "output_type": "stream",
     "text": [
      " 88%|████████▊ | 1197/1356 [01:47<00:12, 12.25it/s]"
     ]
    },
    {
     "name": "stdout",
     "output_type": "stream",
     "text": [
      "Processed /Users/chy/Projects/Thesis/spectrograms/tt0468489.png with feature shape: torch.Size([1, 197, 768])\n",
      "Processed /Users/chy/Projects/Thesis/spectrograms/tt0441782.png with feature shape: torch.Size([1, 197, 768])\n",
      "Processed /Users/chy/Projects/Thesis/spectrograms/tt0105323.png with feature shape: torch.Size([1, 197, 768])\n"
     ]
    },
    {
     "name": "stderr",
     "output_type": "stream",
     "text": [
      " 89%|████████▊ | 1201/1356 [01:47<00:12, 12.16it/s]"
     ]
    },
    {
     "name": "stdout",
     "output_type": "stream",
     "text": [
      "Processed /Users/chy/Projects/Thesis/spectrograms/tt1109624.png with feature shape: torch.Size([1, 197, 768])\n",
      "Processed /Users/chy/Projects/Thesis/spectrograms/tt0881891.png with feature shape: torch.Size([1, 197, 768])\n",
      "Processed /Users/chy/Projects/Thesis/spectrograms/tt0475355.png with feature shape: torch.Size([1, 197, 768])\n"
     ]
    },
    {
     "name": "stderr",
     "output_type": "stream",
     "text": [
      " 89%|████████▊ | 1203/1356 [01:47<00:12, 12.14it/s]"
     ]
    },
    {
     "name": "stdout",
     "output_type": "stream",
     "text": [
      "Processed /Users/chy/Projects/Thesis/spectrograms/tt1142433.png with feature shape: torch.Size([1, 197, 768])\n",
      "Processed /Users/chy/Projects/Thesis/spectrograms/tt0363988.png with feature shape: torch.Size([1, 197, 768])\n",
      "Processed /Users/chy/Projects/Thesis/spectrograms/tt0102316.png with feature shape: torch.Size([1, 197, 768])\n"
     ]
    },
    {
     "name": "stderr",
     "output_type": "stream",
     "text": [
      " 89%|████████▉ | 1207/1356 [01:47<00:12, 12.22it/s]"
     ]
    },
    {
     "name": "stdout",
     "output_type": "stream",
     "text": [
      "Processed /Users/chy/Projects/Thesis/spectrograms/tt0415489.png with feature shape: torch.Size([1, 197, 768])\n",
      "Processed /Users/chy/Projects/Thesis/spectrograms/tt1384590.png with feature shape: torch.Size([1, 197, 768])\n",
      "Processed /Users/chy/Projects/Thesis/spectrograms/tt0316654.png with feature shape: torch.Size([1, 197, 768])\n"
     ]
    },
    {
     "name": "stderr",
     "output_type": "stream",
     "text": [
      " 89%|████████▉ | 1209/1356 [01:48<00:11, 12.51it/s]"
     ]
    },
    {
     "name": "stdout",
     "output_type": "stream",
     "text": [
      "Processed /Users/chy/Projects/Thesis/spectrograms/tt0493405.png with feature shape: torch.Size([1, 197, 768])\n",
      "Processed /Users/chy/Projects/Thesis/spectrograms/tt0450314.png with feature shape: torch.Size([1, 197, 768])\n",
      "Processed /Users/chy/Projects/Thesis/spectrograms/tt0365686.png with feature shape: torch.Size([1, 197, 768])\n"
     ]
    },
    {
     "name": "stderr",
     "output_type": "stream",
     "text": [
      " 89%|████████▉ | 1213/1356 [01:48<00:12, 11.80it/s]"
     ]
    },
    {
     "name": "stdout",
     "output_type": "stream",
     "text": [
      "Processed /Users/chy/Projects/Thesis/spectrograms/tt1879032.png with feature shape: torch.Size([1, 197, 768])\n",
      "Processed /Users/chy/Projects/Thesis/spectrograms/tt0486020.png with feature shape: torch.Size([1, 197, 768])\n",
      "Processed /Users/chy/Projects/Thesis/spectrograms/tt0330136.png with feature shape: torch.Size([1, 197, 768])\n"
     ]
    },
    {
     "name": "stderr",
     "output_type": "stream",
     "text": [
      " 90%|████████▉ | 1215/1356 [01:48<00:11, 12.34it/s]"
     ]
    },
    {
     "name": "stdout",
     "output_type": "stream",
     "text": [
      "Processed /Users/chy/Projects/Thesis/spectrograms/tt0337881.png with feature shape: torch.Size([1, 197, 768])\n",
      "Processed /Users/chy/Projects/Thesis/spectrograms/tt0332047.png with feature shape: torch.Size([1, 197, 768])\n",
      "Processed /Users/chy/Projects/Thesis/spectrograms/tt0408194.png with feature shape: torch.Size([1, 197, 768])\n"
     ]
    },
    {
     "name": "stderr",
     "output_type": "stream",
     "text": [
      " 90%|████████▉ | 1219/1356 [01:48<00:10, 12.52it/s]"
     ]
    },
    {
     "name": "stdout",
     "output_type": "stream",
     "text": [
      "Processed /Users/chy/Projects/Thesis/spectrograms/tt0165831.png with feature shape: torch.Size([1, 197, 768])\n",
      "Processed /Users/chy/Projects/Thesis/spectrograms/tt0124879.png with feature shape: torch.Size([1, 197, 768])\n",
      "Processed /Users/chy/Projects/Thesis/spectrograms/tt1712261.png with feature shape: torch.Size([1, 197, 768])\n"
     ]
    },
    {
     "name": "stderr",
     "output_type": "stream",
     "text": [
      " 90%|█████████ | 1221/1356 [01:49<00:10, 12.65it/s]"
     ]
    },
    {
     "name": "stdout",
     "output_type": "stream",
     "text": [
      "Processed /Users/chy/Projects/Thesis/spectrograms/tt0118158.png with feature shape: torch.Size([1, 197, 768])\n",
      "Processed /Users/chy/Projects/Thesis/spectrograms/tt0272338.png with feature shape: torch.Size([1, 197, 768])\n",
      "Processed /Users/chy/Projects/Thesis/spectrograms/tt0116606.png with feature shape: torch.Size([1, 197, 768])\n"
     ]
    },
    {
     "name": "stderr",
     "output_type": "stream",
     "text": [
      " 90%|█████████ | 1225/1356 [01:49<00:10, 12.54it/s]"
     ]
    },
    {
     "name": "stdout",
     "output_type": "stream",
     "text": [
      "Processed /Users/chy/Projects/Thesis/spectrograms/tt0228750.png with feature shape: torch.Size([1, 197, 768])\n",
      "Processed /Users/chy/Projects/Thesis/spectrograms/tt0093624.png with feature shape: torch.Size([1, 197, 768])\n",
      "Processed /Users/chy/Projects/Thesis/spectrograms/tt0790604.png with feature shape: torch.Size([1, 197, 768])\n"
     ]
    },
    {
     "name": "stderr",
     "output_type": "stream",
     "text": [
      " 90%|█████████ | 1227/1356 [01:49<00:10, 12.02it/s]"
     ]
    },
    {
     "name": "stdout",
     "output_type": "stream",
     "text": [
      "Processed /Users/chy/Projects/Thesis/spectrograms/tt0118617.png with feature shape: torch.Size([1, 197, 768])\n",
      "Processed /Users/chy/Projects/Thesis/spectrograms/tt1798603.png with feature shape: torch.Size([1, 197, 768])\n"
     ]
    },
    {
     "name": "stderr",
     "output_type": "stream",
     "text": [
      " 91%|█████████ | 1229/1356 [01:49<00:11, 10.65it/s]"
     ]
    },
    {
     "name": "stdout",
     "output_type": "stream",
     "text": [
      "Processed /Users/chy/Projects/Thesis/spectrograms/tt0113965.png with feature shape: torch.Size([1, 197, 768])\n",
      "Processed /Users/chy/Projects/Thesis/spectrograms/tt0422783.png with feature shape: torch.Size([1, 197, 768])\n",
      "Processed /Users/chy/Projects/Thesis/spectrograms/tt0311648.png with feature shape: torch.Size([1, 197, 768])\n"
     ]
    },
    {
     "name": "stderr",
     "output_type": "stream",
     "text": [
      " 91%|█████████ | 1233/1356 [01:50<00:10, 11.86it/s]"
     ]
    },
    {
     "name": "stdout",
     "output_type": "stream",
     "text": [
      "Processed /Users/chy/Projects/Thesis/spectrograms/tt0407265.png with feature shape: torch.Size([1, 197, 768])\n",
      "Processed /Users/chy/Projects/Thesis/spectrograms/tt0116410.png with feature shape: torch.Size([1, 197, 768])\n",
      "Processed /Users/chy/Projects/Thesis/spectrograms/tt3614530.png with feature shape: torch.Size([1, 197, 768])\n"
     ]
    },
    {
     "name": "stderr",
     "output_type": "stream",
     "text": [
      " 91%|█████████ | 1235/1356 [01:50<00:09, 12.20it/s]"
     ]
    },
    {
     "name": "stdout",
     "output_type": "stream",
     "text": [
      "Processed /Users/chy/Projects/Thesis/spectrograms/tt1640718.png with feature shape: torch.Size([1, 197, 768])\n",
      "Processed /Users/chy/Projects/Thesis/spectrograms/tt10054316.png with feature shape: torch.Size([1, 197, 768])\n",
      "Processed /Users/chy/Projects/Thesis/spectrograms/tt0888693.png with feature shape: torch.Size([1, 197, 768])\n"
     ]
    },
    {
     "name": "stderr",
     "output_type": "stream",
     "text": [
      " 91%|█████████▏| 1239/1356 [01:50<00:09, 12.56it/s]"
     ]
    },
    {
     "name": "stdout",
     "output_type": "stream",
     "text": [
      "Processed /Users/chy/Projects/Thesis/spectrograms/tt3955808.png with feature shape: torch.Size([1, 197, 768])\n",
      "Processed /Users/chy/Projects/Thesis/spectrograms/tt0084827.png with feature shape: torch.Size([1, 197, 768])\n",
      "Processed /Users/chy/Projects/Thesis/spectrograms/tt0340163.png with feature shape: torch.Size([1, 197, 768])\n"
     ]
    },
    {
     "name": "stderr",
     "output_type": "stream",
     "text": [
      " 92%|█████████▏| 1241/1356 [01:50<00:09, 12.63it/s]"
     ]
    },
    {
     "name": "stdout",
     "output_type": "stream",
     "text": [
      "Processed /Users/chy/Projects/Thesis/spectrograms/tt0765128.png with feature shape: torch.Size([1, 197, 768])\n",
      "Processed /Users/chy/Projects/Thesis/spectrograms/tt2213342.png with feature shape: torch.Size([1, 197, 768])\n",
      "Processed /Users/chy/Projects/Thesis/spectrograms/tt1176740.png with feature shape: torch.Size([1, 197, 768])\n"
     ]
    },
    {
     "name": "stderr",
     "output_type": "stream",
     "text": [
      " 92%|█████████▏| 1243/1356 [01:50<00:09, 12.24it/s]"
     ]
    },
    {
     "name": "stdout",
     "output_type": "stream",
     "text": [
      "Processed /Users/chy/Projects/Thesis/spectrograms/tt0762121.png with feature shape: torch.Size([1, 197, 768])\n",
      "Processed /Users/chy/Projects/Thesis/spectrograms/tt0109444.png with feature shape: torch.Size([1, 197, 768])\n"
     ]
    },
    {
     "name": "stderr",
     "output_type": "stream",
     "text": [
      " 92%|█████████▏| 1247/1356 [01:51<00:09, 11.52it/s]"
     ]
    },
    {
     "name": "stdout",
     "output_type": "stream",
     "text": [
      "Processed /Users/chy/Projects/Thesis/spectrograms/tt0102511.png with feature shape: torch.Size([1, 197, 768])\n",
      "Processed /Users/chy/Projects/Thesis/spectrograms/tt0114367.png with feature shape: torch.Size([1, 197, 768])\n",
      "Processed /Users/chy/Projects/Thesis/spectrograms/tt0317198.png with feature shape: torch.Size([1, 197, 768])\n"
     ]
    },
    {
     "name": "stderr",
     "output_type": "stream",
     "text": [
      " 92%|█████████▏| 1249/1356 [01:51<00:08, 12.17it/s]"
     ]
    },
    {
     "name": "stdout",
     "output_type": "stream",
     "text": [
      "Processed /Users/chy/Projects/Thesis/spectrograms/tt1212450.png with feature shape: torch.Size([1, 197, 768])\n",
      "Processed /Users/chy/Projects/Thesis/spectrograms/tt0412536.png with feature shape: torch.Size([1, 197, 768])\n",
      "Processed /Users/chy/Projects/Thesis/spectrograms/tt0489070.png with feature shape: torch.Size([1, 197, 768])\n"
     ]
    },
    {
     "name": "stderr",
     "output_type": "stream",
     "text": [
      " 92%|█████████▏| 1253/1356 [01:51<00:08, 12.35it/s]"
     ]
    },
    {
     "name": "stdout",
     "output_type": "stream",
     "text": [
      "Processed /Users/chy/Projects/Thesis/spectrograms/tt1129442.png with feature shape: torch.Size([1, 197, 768])\n",
      "Processed /Users/chy/Projects/Thesis/spectrograms/tt0375912.png with feature shape: torch.Size([1, 197, 768])\n",
      "Processed /Users/chy/Projects/Thesis/spectrograms/tt0102288.png with feature shape: torch.Size([1, 197, 768])\n"
     ]
    },
    {
     "name": "stderr",
     "output_type": "stream",
     "text": [
      " 93%|█████████▎| 1255/1356 [01:51<00:09, 11.00it/s]"
     ]
    },
    {
     "name": "stdout",
     "output_type": "stream",
     "text": [
      "Processed /Users/chy/Projects/Thesis/spectrograms/tt0173840.png with feature shape: torch.Size([1, 197, 768])\n",
      "Processed /Users/chy/Projects/Thesis/spectrograms/tt1027862.png with feature shape: torch.Size([1, 197, 768])\n",
      "Processed /Users/chy/Projects/Thesis/spectrograms/tt0211933.png with feature shape: torch.Size([1, 197, 768])\n"
     ]
    },
    {
     "name": "stderr",
     "output_type": "stream",
     "text": [
      " 93%|█████████▎| 1259/1356 [01:52<00:08, 11.92it/s]"
     ]
    },
    {
     "name": "stdout",
     "output_type": "stream",
     "text": [
      "Processed /Users/chy/Projects/Thesis/spectrograms/tt1028576.png with feature shape: torch.Size([1, 197, 768])\n",
      "Processed /Users/chy/Projects/Thesis/spectrograms/tt1543652.png with feature shape: torch.Size([1, 197, 768])\n",
      "Processed /Users/chy/Projects/Thesis/spectrograms/tt2278871.png with feature shape: torch.Size([1, 197, 768])\n"
     ]
    },
    {
     "name": "stderr",
     "output_type": "stream",
     "text": [
      " 93%|█████████▎| 1261/1356 [01:52<00:07, 12.01it/s]"
     ]
    },
    {
     "name": "stdout",
     "output_type": "stream",
     "text": [
      "Processed /Users/chy/Projects/Thesis/spectrograms/tt1142977.png with feature shape: torch.Size([1, 197, 768])\n",
      "Processed /Users/chy/Projects/Thesis/spectrograms/tt0829459.png with feature shape: torch.Size([1, 197, 768])\n"
     ]
    },
    {
     "name": "stderr",
     "output_type": "stream",
     "text": [
      " 93%|█████████▎| 1263/1356 [01:52<00:08, 10.65it/s]"
     ]
    },
    {
     "name": "stdout",
     "output_type": "stream",
     "text": [
      "Processed /Users/chy/Projects/Thesis/spectrograms/tt2294629.png with feature shape: torch.Size([1, 197, 768])\n",
      "Processed /Users/chy/Projects/Thesis/spectrograms/tt0465580.png with feature shape: torch.Size([1, 197, 768])\n",
      "Processed /Users/chy/Projects/Thesis/spectrograms/tt5460226.png with feature shape: torch.Size([1, 197, 768])\n"
     ]
    },
    {
     "name": "stderr",
     "output_type": "stream",
     "text": [
      " 93%|█████████▎| 1267/1356 [01:52<00:07, 11.21it/s]"
     ]
    },
    {
     "name": "stdout",
     "output_type": "stream",
     "text": [
      "Processed /Users/chy/Projects/Thesis/spectrograms/tt0091192.png with feature shape: torch.Size([1, 197, 768])\n",
      "Processed /Users/chy/Projects/Thesis/spectrograms/tt0790799.png with feature shape: torch.Size([1, 197, 768])\n",
      "Processed /Users/chy/Projects/Thesis/spectrograms/tt0489270.png with feature shape: torch.Size([1, 197, 768])\n"
     ]
    },
    {
     "name": "stderr",
     "output_type": "stream",
     "text": [
      " 94%|█████████▎| 1269/1356 [01:53<00:07, 11.35it/s]"
     ]
    },
    {
     "name": "stdout",
     "output_type": "stream",
     "text": [
      "Processed /Users/chy/Projects/Thesis/spectrograms/tt0804522.png with feature shape: torch.Size([1, 197, 768])\n",
      "Processed /Users/chy/Projects/Thesis/spectrograms/tt0196158.png with feature shape: torch.Size([1, 197, 768])\n",
      "Processed /Users/chy/Projects/Thesis/spectrograms/tt0390022.png with feature shape: torch.Size([1, 197, 768])\n"
     ]
    },
    {
     "name": "stderr",
     "output_type": "stream",
     "text": [
      " 94%|█████████▍| 1273/1356 [01:53<00:07, 11.41it/s]"
     ]
    },
    {
     "name": "stdout",
     "output_type": "stream",
     "text": [
      "Processed /Users/chy/Projects/Thesis/spectrograms/tt0408236.png with feature shape: torch.Size([1, 197, 768])\n",
      "Processed /Users/chy/Projects/Thesis/spectrograms/tt0246464.png with feature shape: torch.Size([1, 197, 768])\n",
      "Processed /Users/chy/Projects/Thesis/spectrograms/tt0467197.png with feature shape: torch.Size([1, 197, 768])\n"
     ]
    },
    {
     "name": "stderr",
     "output_type": "stream",
     "text": [
      " 94%|█████████▍| 1275/1356 [01:53<00:07, 11.37it/s]"
     ]
    },
    {
     "name": "stdout",
     "output_type": "stream",
     "text": [
      "Processed /Users/chy/Projects/Thesis/spectrograms/tt0076245.png with feature shape: torch.Size([1, 197, 768])\n",
      "Processed /Users/chy/Projects/Thesis/spectrograms/tt0871426.png with feature shape: torch.Size([1, 197, 768])\n",
      "Processed /Users/chy/Projects/Thesis/spectrograms/tt2340650.png with feature shape: torch.Size([1, 197, 768])\n"
     ]
    },
    {
     "name": "stderr",
     "output_type": "stream",
     "text": [
      " 94%|█████████▍| 1277/1356 [01:53<00:07, 11.24it/s]"
     ]
    },
    {
     "name": "stdout",
     "output_type": "stream",
     "text": [
      "Processed /Users/chy/Projects/Thesis/spectrograms/tt0437777.png with feature shape: torch.Size([1, 197, 768])\n",
      "Processed /Users/chy/Projects/Thesis/spectrograms/tt1502397.png with feature shape: torch.Size([1, 197, 768])\n"
     ]
    },
    {
     "name": "stderr",
     "output_type": "stream",
     "text": [
      " 94%|█████████▍| 1281/1356 [01:54<00:06, 10.76it/s]"
     ]
    },
    {
     "name": "stdout",
     "output_type": "stream",
     "text": [
      "Processed /Users/chy/Projects/Thesis/spectrograms/tt0366777.png with feature shape: torch.Size([1, 197, 768])\n",
      "Processed /Users/chy/Projects/Thesis/spectrograms/tt0995039.png with feature shape: torch.Size([1, 197, 768])\n",
      "Processed /Users/chy/Projects/Thesis/spectrograms/tt0489099.png with feature shape: torch.Size([1, 197, 768])\n"
     ]
    },
    {
     "name": "stderr",
     "output_type": "stream",
     "text": [
      " 95%|█████████▍| 1283/1356 [01:54<00:06, 11.12it/s]"
     ]
    },
    {
     "name": "stdout",
     "output_type": "stream",
     "text": [
      "Processed /Users/chy/Projects/Thesis/spectrograms/tt0097722.png with feature shape: torch.Size([1, 197, 768])\n",
      "Processed /Users/chy/Projects/Thesis/spectrograms/tt1714203.png with feature shape: torch.Size([1, 197, 768])\n",
      "Processed /Users/chy/Projects/Thesis/spectrograms/tt0208092.png with feature shape: torch.Size([1, 197, 768])\n"
     ]
    },
    {
     "name": "stderr",
     "output_type": "stream",
     "text": [
      " 95%|█████████▍| 1287/1356 [01:54<00:06, 10.83it/s]"
     ]
    },
    {
     "name": "stdout",
     "output_type": "stream",
     "text": [
      "Processed /Users/chy/Projects/Thesis/spectrograms/tt0092666.png with feature shape: torch.Size([1, 197, 768])\n",
      "Processed /Users/chy/Projects/Thesis/spectrograms/tt0420223.png with feature shape: torch.Size([1, 197, 768])\n",
      "Processed /Users/chy/Projects/Thesis/spectrograms/tt0079758.png with feature shape: torch.Size([1, 197, 768])\n"
     ]
    },
    {
     "name": "stderr",
     "output_type": "stream",
     "text": [
      " 95%|█████████▌| 1289/1356 [01:55<00:06, 10.79it/s]"
     ]
    },
    {
     "name": "stdout",
     "output_type": "stream",
     "text": [
      "Processed /Users/chy/Projects/Thesis/spectrograms/tt0119906.png with feature shape: torch.Size([1, 197, 768])\n",
      "Processed /Users/chy/Projects/Thesis/spectrograms/tt0361805.png with feature shape: torch.Size([1, 197, 768])\n",
      "Processed /Users/chy/Projects/Thesis/spectrograms/tt0403217.png with feature shape: torch.Size([1, 197, 768])\n"
     ]
    },
    {
     "name": "stderr",
     "output_type": "stream",
     "text": [
      " 95%|█████████▌| 1293/1356 [01:55<00:05, 10.91it/s]"
     ]
    },
    {
     "name": "stdout",
     "output_type": "stream",
     "text": [
      "Processed /Users/chy/Projects/Thesis/spectrograms/tt3315342.png with feature shape: torch.Size([1, 197, 768])\n",
      "Processed /Users/chy/Projects/Thesis/spectrograms/tt2316204.png with feature shape: torch.Size([1, 197, 768])\n",
      "Processed /Users/chy/Projects/Thesis/spectrograms/tt0251736.png with feature shape: torch.Size([1, 197, 768])\n"
     ]
    },
    {
     "name": "stderr",
     "output_type": "stream",
     "text": [
      " 96%|█████████▌| 1295/1356 [01:55<00:06,  9.57it/s]"
     ]
    },
    {
     "name": "stdout",
     "output_type": "stream",
     "text": [
      "Processed /Users/chy/Projects/Thesis/spectrograms/tt0115641.png with feature shape: torch.Size([1, 197, 768])\n",
      "Processed /Users/chy/Projects/Thesis/spectrograms/tt0157472.png with feature shape: torch.Size([1, 197, 768])\n",
      "Processed /Users/chy/Projects/Thesis/spectrograms/tt1016075.png with feature shape: torch.Size([1, 197, 768])\n"
     ]
    },
    {
     "name": "stderr",
     "output_type": "stream",
     "text": [
      " 96%|█████████▌| 1299/1356 [01:55<00:05, 10.44it/s]"
     ]
    },
    {
     "name": "stdout",
     "output_type": "stream",
     "text": [
      "Processed /Users/chy/Projects/Thesis/spectrograms/tt2207484.png with feature shape: torch.Size([1, 197, 768])\n",
      "Processed /Users/chy/Projects/Thesis/spectrograms/tt7319064.png with feature shape: torch.Size([1, 197, 768])\n",
      "Processed /Users/chy/Projects/Thesis/spectrograms/tt0109254.png with feature shape: torch.Size([1, 197, 768])\n"
     ]
    },
    {
     "name": "stderr",
     "output_type": "stream",
     "text": [
      " 96%|█████████▌| 1301/1356 [01:56<00:05, 10.85it/s]"
     ]
    },
    {
     "name": "stdout",
     "output_type": "stream",
     "text": [
      "Processed /Users/chy/Projects/Thesis/spectrograms/tt0480687.png with feature shape: torch.Size([1, 197, 768])\n",
      "Processed /Users/chy/Projects/Thesis/spectrograms/tt0092074.png with feature shape: torch.Size([1, 197, 768])\n",
      "Processed /Users/chy/Projects/Thesis/spectrograms/tt0101393.png with feature shape: torch.Size([1, 197, 768])\n"
     ]
    },
    {
     "name": "stderr",
     "output_type": "stream",
     "text": [
      " 96%|█████████▌| 1305/1356 [01:56<00:04, 11.06it/s]"
     ]
    },
    {
     "name": "stdout",
     "output_type": "stream",
     "text": [
      "Processed /Users/chy/Projects/Thesis/spectrograms/tt1700841.png with feature shape: torch.Size([1, 197, 768])\n",
      "Processed /Users/chy/Projects/Thesis/spectrograms/tt0340377.png with feature shape: torch.Size([1, 197, 768])\n",
      "Processed /Users/chy/Projects/Thesis/spectrograms/tt0448564.png with feature shape: torch.Size([1, 197, 768])\n"
     ]
    },
    {
     "name": "stderr",
     "output_type": "stream",
     "text": [
      " 96%|█████████▋| 1307/1356 [01:56<00:04, 11.28it/s]"
     ]
    },
    {
     "name": "stdout",
     "output_type": "stream",
     "text": [
      "Processed /Users/chy/Projects/Thesis/spectrograms/tt2210463.png with feature shape: torch.Size([1, 197, 768])\n",
      "Processed /Users/chy/Projects/Thesis/spectrograms/tt1547230.png with feature shape: torch.Size([1, 197, 768])\n",
      "Processed /Users/chy/Projects/Thesis/spectrograms/tt0398913.png with feature shape: torch.Size([1, 197, 768])\n"
     ]
    },
    {
     "name": "stderr",
     "output_type": "stream",
     "text": [
      " 97%|█████████▋| 1309/1356 [01:56<00:04, 11.54it/s]"
     ]
    },
    {
     "name": "stdout",
     "output_type": "stream",
     "text": [
      "Processed /Users/chy/Projects/Thesis/spectrograms/tt1999890.png with feature shape: torch.Size([1, 197, 768])\n",
      "Processed /Users/chy/Projects/Thesis/spectrograms/tt0373024.png with feature shape: torch.Size([1, 197, 768])\n"
     ]
    },
    {
     "name": "stderr",
     "output_type": "stream",
     "text": [
      " 97%|█████████▋| 1313/1356 [01:57<00:03, 11.20it/s]"
     ]
    },
    {
     "name": "stdout",
     "output_type": "stream",
     "text": [
      "Processed /Users/chy/Projects/Thesis/spectrograms/tt0808244.png with feature shape: torch.Size([1, 197, 768])\n",
      "Processed /Users/chy/Projects/Thesis/spectrograms/tt0410097.png with feature shape: torch.Size([1, 197, 768])\n",
      "Processed /Users/chy/Projects/Thesis/spectrograms/tt0086216.png with feature shape: torch.Size([1, 197, 768])\n"
     ]
    },
    {
     "name": "stderr",
     "output_type": "stream",
     "text": [
      " 97%|█████████▋| 1315/1356 [01:57<00:03, 11.60it/s]"
     ]
    },
    {
     "name": "stdout",
     "output_type": "stream",
     "text": [
      "Processed /Users/chy/Projects/Thesis/spectrograms/tt0472160.png with feature shape: torch.Size([1, 197, 768])\n",
      "Processed /Users/chy/Projects/Thesis/spectrograms/tt1135487.png with feature shape: torch.Size([1, 197, 768])\n",
      "Processed /Users/chy/Projects/Thesis/spectrograms/tt0478303.png with feature shape: torch.Size([1, 197, 768])\n"
     ]
    },
    {
     "name": "stderr",
     "output_type": "stream",
     "text": [
      " 97%|█████████▋| 1317/1356 [01:57<00:03, 11.03it/s]"
     ]
    },
    {
     "name": "stdout",
     "output_type": "stream",
     "text": [
      "Processed /Users/chy/Projects/Thesis/spectrograms/tt2980648.png with feature shape: torch.Size([1, 197, 768])\n",
      "Processed /Users/chy/Projects/Thesis/spectrograms/tt0470993.png with feature shape: torch.Size([1, 197, 768])\n",
      "Processed /Users/chy/Projects/Thesis/spectrograms/tt1142800.png with feature shape: torch.Size([1, 197, 768])\n"
     ]
    },
    {
     "name": "stderr",
     "output_type": "stream",
     "text": [
      " 97%|█████████▋| 1321/1356 [01:57<00:03, 10.91it/s]"
     ]
    },
    {
     "name": "stdout",
     "output_type": "stream",
     "text": [
      "Processed /Users/chy/Projects/Thesis/spectrograms/tt0247425.png with feature shape: torch.Size([1, 197, 768])\n",
      "Processed /Users/chy/Projects/Thesis/spectrograms/tt1860213.png with feature shape: torch.Size([1, 197, 768])\n",
      "Processed /Users/chy/Projects/Thesis/spectrograms/tt0340376.png with feature shape: torch.Size([1, 197, 768])\n"
     ]
    },
    {
     "name": "stderr",
     "output_type": "stream",
     "text": [
      " 98%|█████████▊| 1323/1356 [01:58<00:02, 11.03it/s]"
     ]
    },
    {
     "name": "stdout",
     "output_type": "stream",
     "text": [
      "Processed /Users/chy/Projects/Thesis/spectrograms/tt0963194.png with feature shape: torch.Size([1, 197, 768])\n",
      "Processed /Users/chy/Projects/Thesis/spectrograms/tt0398286.png with feature shape: torch.Size([1, 197, 768])\n"
     ]
    },
    {
     "name": "stderr",
     "output_type": "stream",
     "text": [
      " 98%|█████████▊| 1327/1356 [01:58<00:02, 10.84it/s]"
     ]
    },
    {
     "name": "stdout",
     "output_type": "stream",
     "text": [
      "Processed /Users/chy/Projects/Thesis/spectrograms/tt0247196.png with feature shape: torch.Size([1, 197, 768])\n",
      "Processed /Users/chy/Projects/Thesis/spectrograms/tt2531344.png with feature shape: torch.Size([1, 197, 768])\n",
      "Processed /Users/chy/Projects/Thesis/spectrograms/tt0460766.png with feature shape: torch.Size([1, 197, 768])\n"
     ]
    },
    {
     "name": "stderr",
     "output_type": "stream",
     "text": [
      " 98%|█████████▊| 1329/1356 [01:58<00:02, 11.24it/s]"
     ]
    },
    {
     "name": "stdout",
     "output_type": "stream",
     "text": [
      "Processed /Users/chy/Projects/Thesis/spectrograms/tt0335266.png with feature shape: torch.Size([1, 197, 768])\n",
      "Processed /Users/chy/Projects/Thesis/spectrograms/tt1080016.png with feature shape: torch.Size([1, 197, 768])\n",
      "Processed /Users/chy/Projects/Thesis/spectrograms/tt0297162.png with feature shape: torch.Size([1, 197, 768])\n"
     ]
    },
    {
     "name": "stderr",
     "output_type": "stream",
     "text": [
      " 98%|█████████▊| 1333/1356 [01:59<00:01, 11.56it/s]"
     ]
    },
    {
     "name": "stdout",
     "output_type": "stream",
     "text": [
      "Processed /Users/chy/Projects/Thesis/spectrograms/tt0282209.png with feature shape: torch.Size([1, 197, 768])\n",
      "Processed /Users/chy/Projects/Thesis/spectrograms/tt0172156.png with feature shape: torch.Size([1, 197, 768])\n",
      "Processed /Users/chy/Projects/Thesis/spectrograms/tt1124039.png with feature shape: torch.Size([1, 197, 768])\n"
     ]
    },
    {
     "name": "stderr",
     "output_type": "stream",
     "text": [
      " 98%|█████████▊| 1335/1356 [01:59<00:01, 11.77it/s]"
     ]
    },
    {
     "name": "stdout",
     "output_type": "stream",
     "text": [
      "Processed /Users/chy/Projects/Thesis/spectrograms/tt0120610.png with feature shape: torch.Size([1, 197, 768])\n",
      "Processed /Users/chy/Projects/Thesis/spectrograms/tt0832318.png with feature shape: torch.Size([1, 197, 768])\n",
      "Processed /Users/chy/Projects/Thesis/spectrograms/tt4448290.png with feature shape: torch.Size([1, 197, 768])\n"
     ]
    },
    {
     "name": "stderr",
     "output_type": "stream",
     "text": [
      " 99%|█████████▊| 1337/1356 [01:59<00:01, 11.93it/s]"
     ]
    },
    {
     "name": "stdout",
     "output_type": "stream",
     "text": [
      "Processed /Users/chy/Projects/Thesis/spectrograms/tt0236784.png with feature shape: torch.Size([1, 197, 768])\n",
      "Processed /Users/chy/Projects/Thesis/spectrograms/tt0115683.png with feature shape: torch.Size([1, 197, 768])\n"
     ]
    },
    {
     "name": "stderr",
     "output_type": "stream",
     "text": [
      " 99%|█████████▉| 1341/1356 [01:59<00:01, 11.61it/s]"
     ]
    },
    {
     "name": "stdout",
     "output_type": "stream",
     "text": [
      "Processed /Users/chy/Projects/Thesis/spectrograms/tt0469965.png with feature shape: torch.Size([1, 197, 768])\n",
      "Processed /Users/chy/Projects/Thesis/spectrograms/tt0200550.png with feature shape: torch.Size([1, 197, 768])\n",
      "Processed /Users/chy/Projects/Thesis/spectrograms/tt5716848.png with feature shape: torch.Size([1, 197, 768])\n"
     ]
    },
    {
     "name": "stderr",
     "output_type": "stream",
     "text": [
      " 99%|█████████▉| 1343/1356 [01:59<00:01, 12.06it/s]"
     ]
    },
    {
     "name": "stdout",
     "output_type": "stream",
     "text": [
      "Processed /Users/chy/Projects/Thesis/spectrograms/tt2063781.png with feature shape: torch.Size([1, 197, 768])\n",
      "Processed /Users/chy/Projects/Thesis/spectrograms/tt0795421.png with feature shape: torch.Size([1, 197, 768])\n",
      "Processed /Users/chy/Projects/Thesis/spectrograms/tt0273435.png with feature shape: torch.Size([1, 197, 768])\n"
     ]
    },
    {
     "name": "stderr",
     "output_type": "stream",
     "text": [
      " 99%|█████████▉| 1347/1356 [02:00<00:00, 12.29it/s]"
     ]
    },
    {
     "name": "stdout",
     "output_type": "stream",
     "text": [
      "Processed /Users/chy/Projects/Thesis/spectrograms/tt3090252.png with feature shape: torch.Size([1, 197, 768])\n",
      "Processed /Users/chy/Projects/Thesis/spectrograms/tt0112701.png with feature shape: torch.Size([1, 197, 768])\n",
      "Processed /Users/chy/Projects/Thesis/spectrograms/tt0327919.png with feature shape: torch.Size([1, 197, 768])\n"
     ]
    },
    {
     "name": "stderr",
     "output_type": "stream",
     "text": [
      " 99%|█████████▉| 1349/1356 [02:00<00:00, 12.42it/s]"
     ]
    },
    {
     "name": "stdout",
     "output_type": "stream",
     "text": [
      "Processed /Users/chy/Projects/Thesis/spectrograms/tt0389957.png with feature shape: torch.Size([1, 197, 768])\n",
      "Processed /Users/chy/Projects/Thesis/spectrograms/tt2170299.png with feature shape: torch.Size([1, 197, 768])\n",
      "Processed /Users/chy/Projects/Thesis/spectrograms/tt0285823.png with feature shape: torch.Size([1, 197, 768])\n"
     ]
    },
    {
     "name": "stderr",
     "output_type": "stream",
     "text": [
      "100%|█████████▉| 1353/1356 [02:00<00:00, 12.39it/s]"
     ]
    },
    {
     "name": "stdout",
     "output_type": "stream",
     "text": [
      "Processed /Users/chy/Projects/Thesis/spectrograms/tt0454776.png with feature shape: torch.Size([1, 197, 768])\n",
      "Processed /Users/chy/Projects/Thesis/spectrograms/tt0480269.png with feature shape: torch.Size([1, 197, 768])\n",
      "Processed /Users/chy/Projects/Thesis/spectrograms/tt1723121.png with feature shape: torch.Size([1, 197, 768])\n"
     ]
    },
    {
     "name": "stderr",
     "output_type": "stream",
     "text": [
      "100%|█████████▉| 1355/1356 [02:00<00:00, 12.57it/s]"
     ]
    },
    {
     "name": "stdout",
     "output_type": "stream",
     "text": [
      "Processed /Users/chy/Projects/Thesis/spectrograms/tt2823054.png with feature shape: torch.Size([1, 197, 768])\n",
      "Processed /Users/chy/Projects/Thesis/spectrograms/tt0138467.png with feature shape: torch.Size([1, 197, 768])\n"
     ]
    },
    {
     "name": "stderr",
     "output_type": "stream",
     "text": [
      "100%|██████████| 1356/1356 [02:00<00:00, 11.21it/s]\n"
     ]
    },
    {
     "name": "stdout",
     "output_type": "stream",
     "text": [
      "Processed /Users/chy/Projects/Thesis/spectrograms/tt0409459.png with feature shape: torch.Size([1, 197, 768])\n"
     ]
    },
    {
     "name": "stderr",
     "output_type": "stream",
     "text": [
      "  0%|          | 2/1356 [00:00<01:28, 15.33it/s]"
     ]
    },
    {
     "name": "stdout",
     "output_type": "stream",
     "text": [
      "Processed /Users/chy/Projects/Thesis/mfcc/tt0408524_mfcc.png with feature shape: torch.Size([1, 197, 768])\n",
      "Processed /Users/chy/Projects/Thesis/mfcc/tt0439289_mfcc.png with feature shape: torch.Size([1, 197, 768])\n",
      "Processed /Users/chy/Projects/Thesis/mfcc/tt0251127_mfcc.png with feature shape: torch.Size([1, 197, 768])\n",
      "Processed /Users/chy/Projects/Thesis/mfcc/tt0804505_mfcc.png with feature shape: torch.Size([1, 197, 768])\n"
     ]
    },
    {
     "name": "stderr",
     "output_type": "stream",
     "text": [
      "  0%|          | 4/1356 [00:00<01:31, 14.81it/s]"
     ]
    },
    {
     "name": "stdout",
     "output_type": "stream",
     "text": [
      "Processed /Users/chy/Projects/Thesis/mfcc/tt0443559_mfcc.png with feature shape: torch.Size([1, 197, 768])\n"
     ]
    },
    {
     "name": "stderr",
     "output_type": "stream",
     "text": [
      "  0%|          | 6/1356 [00:00<01:54, 11.81it/s]"
     ]
    },
    {
     "name": "stdout",
     "output_type": "stream",
     "text": [
      "Processed /Users/chy/Projects/Thesis/mfcc/tt0092074_mfcc.png with feature shape: torch.Size([1, 197, 768])\n",
      "Processed /Users/chy/Projects/Thesis/mfcc/tt0119528_mfcc.png with feature shape: torch.Size([1, 197, 768])\n"
     ]
    },
    {
     "name": "stderr",
     "output_type": "stream",
     "text": [
      "  1%|          | 8/1356 [00:00<02:34,  8.75it/s]"
     ]
    },
    {
     "name": "stdout",
     "output_type": "stream",
     "text": [
      "Processed /Users/chy/Projects/Thesis/mfcc/tt1136683_mfcc.png with feature shape: torch.Size([1, 197, 768])\n"
     ]
    },
    {
     "name": "stderr",
     "output_type": "stream",
     "text": [
      "  1%|          | 10/1356 [00:00<02:09, 10.40it/s]"
     ]
    },
    {
     "name": "stdout",
     "output_type": "stream",
     "text": [
      "Processed /Users/chy/Projects/Thesis/mfcc/tt0286106_mfcc.png with feature shape: torch.Size([1, 197, 768])\n",
      "Processed /Users/chy/Projects/Thesis/mfcc/tt0800039_mfcc.png with feature shape: torch.Size([1, 197, 768])\n",
      "Processed /Users/chy/Projects/Thesis/mfcc/tt2402105_mfcc.png with feature shape: torch.Size([1, 197, 768])\n",
      "Processed /Users/chy/Projects/Thesis/mfcc/tt1299653_mfcc.png with feature shape: torch.Size([1, 197, 768])\n"
     ]
    },
    {
     "name": "stderr",
     "output_type": "stream",
     "text": [
      "  1%|          | 14/1356 [00:01<01:51, 12.01it/s]"
     ]
    },
    {
     "name": "stdout",
     "output_type": "stream",
     "text": [
      "Processed /Users/chy/Projects/Thesis/mfcc/tt1790825_mfcc.png with feature shape: torch.Size([1, 197, 768])\n",
      "Processed /Users/chy/Projects/Thesis/mfcc/tt1430626_mfcc.png with feature shape: torch.Size([1, 197, 768])\n",
      "Processed /Users/chy/Projects/Thesis/mfcc/tt1130988_mfcc.png with feature shape: torch.Size([1, 197, 768])\n"
     ]
    },
    {
     "name": "stderr",
     "output_type": "stream",
     "text": [
      "  1%|          | 16/1356 [00:01<01:50, 12.16it/s]"
     ]
    },
    {
     "name": "stdout",
     "output_type": "stream",
     "text": [
      "Processed /Users/chy/Projects/Thesis/mfcc/tt3387648_mfcc.png with feature shape: torch.Size([1, 197, 768])\n",
      "Processed /Users/chy/Projects/Thesis/mfcc/tt0116059_mfcc.png with feature shape: torch.Size([1, 197, 768])\n",
      "Processed /Users/chy/Projects/Thesis/mfcc/tt0360323_mfcc.png with feature shape: torch.Size([1, 197, 768])\n"
     ]
    },
    {
     "name": "stderr",
     "output_type": "stream",
     "text": [
      "  1%|▏         | 20/1356 [00:01<01:54, 11.64it/s]"
     ]
    },
    {
     "name": "stdout",
     "output_type": "stream",
     "text": [
      "Processed /Users/chy/Projects/Thesis/mfcc/tt0271219_mfcc.png with feature shape: torch.Size([1, 197, 768])\n",
      "Processed /Users/chy/Projects/Thesis/mfcc/tt0115759_mfcc.png with feature shape: torch.Size([1, 197, 768])\n",
      "Processed /Users/chy/Projects/Thesis/mfcc/tt1605630_mfcc.png with feature shape: torch.Size([1, 197, 768])\n"
     ]
    },
    {
     "name": "stderr",
     "output_type": "stream",
     "text": [
      "  2%|▏         | 22/1356 [00:01<01:55, 11.56it/s]"
     ]
    },
    {
     "name": "stdout",
     "output_type": "stream",
     "text": [
      "Processed /Users/chy/Projects/Thesis/mfcc/tt0079073_mfcc.png with feature shape: torch.Size([1, 197, 768])\n"
     ]
    },
    {
     "name": "stderr",
     "output_type": "stream",
     "text": [
      "  2%|▏         | 24/1356 [00:02<02:12, 10.05it/s]"
     ]
    },
    {
     "name": "stdout",
     "output_type": "stream",
     "text": [
      "Processed /Users/chy/Projects/Thesis/mfcc/tt0211443_mfcc.png with feature shape: torch.Size([1, 197, 768])\n",
      "Processed /Users/chy/Projects/Thesis/mfcc/tt0101751_mfcc.png with feature shape: torch.Size([1, 197, 768])\n",
      "Processed /Users/chy/Projects/Thesis/mfcc/tt0100156_mfcc.png with feature shape: torch.Size([1, 197, 768])\n"
     ]
    },
    {
     "name": "stderr",
     "output_type": "stream",
     "text": [
      "  2%|▏         | 28/1356 [00:02<02:01, 10.97it/s]"
     ]
    },
    {
     "name": "stdout",
     "output_type": "stream",
     "text": [
      "Processed /Users/chy/Projects/Thesis/mfcc/tt1661199_mfcc.png with feature shape: torch.Size([1, 197, 768])\n",
      "Processed /Users/chy/Projects/Thesis/mfcc/tt0159097_mfcc.png with feature shape: torch.Size([1, 197, 768])\n",
      "Processed /Users/chy/Projects/Thesis/mfcc/tt0314431_mfcc.png with feature shape: torch.Size([1, 197, 768])\n"
     ]
    },
    {
     "name": "stderr",
     "output_type": "stream",
     "text": [
      "  2%|▏         | 30/1356 [00:02<01:58, 11.16it/s]"
     ]
    },
    {
     "name": "stdout",
     "output_type": "stream",
     "text": [
      "Processed /Users/chy/Projects/Thesis/mfcc/tt0230600_mfcc.png with feature shape: torch.Size([1, 197, 768])\n",
      "Processed /Users/chy/Projects/Thesis/mfcc/tt0115783_mfcc.png with feature shape: torch.Size([1, 197, 768])\n",
      "Processed /Users/chy/Projects/Thesis/mfcc/tt1091617_mfcc.png with feature shape: torch.Size([1, 197, 768])\n"
     ]
    },
    {
     "name": "stderr",
     "output_type": "stream",
     "text": [
      "  3%|▎         | 34/1356 [00:03<01:58, 11.13it/s]"
     ]
    },
    {
     "name": "stdout",
     "output_type": "stream",
     "text": [
      "Processed /Users/chy/Projects/Thesis/mfcc/tt0355295_mfcc.png with feature shape: torch.Size([1, 197, 768])\n",
      "Processed /Users/chy/Projects/Thesis/mfcc/tt4448290_mfcc.png with feature shape: torch.Size([1, 197, 768])\n",
      "Processed /Users/chy/Projects/Thesis/mfcc/tt0409459_mfcc.png with feature shape: torch.Size([1, 197, 768])\n"
     ]
    },
    {
     "name": "stderr",
     "output_type": "stream",
     "text": [
      "  3%|▎         | 36/1356 [00:03<01:57, 11.23it/s]"
     ]
    },
    {
     "name": "stdout",
     "output_type": "stream",
     "text": [
      "Processed /Users/chy/Projects/Thesis/mfcc/tt0335266_mfcc.png with feature shape: torch.Size([1, 197, 768])\n",
      "Processed /Users/chy/Projects/Thesis/mfcc/tt0288330_mfcc.png with feature shape: torch.Size([1, 197, 768])\n",
      "Processed /Users/chy/Projects/Thesis/mfcc/tt1912996_mfcc.png with feature shape: torch.Size([1, 197, 768])\n"
     ]
    },
    {
     "name": "stderr",
     "output_type": "stream",
     "text": [
      "  3%|▎         | 40/1356 [00:03<02:01, 10.85it/s]"
     ]
    },
    {
     "name": "stdout",
     "output_type": "stream",
     "text": [
      "Processed /Users/chy/Projects/Thesis/mfcc/tt0455915_mfcc.png with feature shape: torch.Size([1, 197, 768])\n",
      "Processed /Users/chy/Projects/Thesis/mfcc/tt0758746_mfcc.png with feature shape: torch.Size([1, 197, 768])\n",
      "Processed /Users/chy/Projects/Thesis/mfcc/tt0281373_mfcc.png with feature shape: torch.Size([1, 197, 768])\n"
     ]
    },
    {
     "name": "stderr",
     "output_type": "stream",
     "text": [
      "  3%|▎         | 42/1356 [00:03<02:03, 10.65it/s]"
     ]
    },
    {
     "name": "stdout",
     "output_type": "stream",
     "text": [
      "Processed /Users/chy/Projects/Thesis/mfcc/tt0462346_mfcc.png with feature shape: torch.Size([1, 197, 768])\n",
      "Processed /Users/chy/Projects/Thesis/mfcc/tt0114279_mfcc.png with feature shape: torch.Size([1, 197, 768])\n",
      "Processed /Users/chy/Projects/Thesis/mfcc/tt0116722_mfcc.png with feature shape: torch.Size([1, 197, 768])\n"
     ]
    },
    {
     "name": "stderr",
     "output_type": "stream",
     "text": [
      "  3%|▎         | 46/1356 [00:04<01:54, 11.43it/s]"
     ]
    },
    {
     "name": "stdout",
     "output_type": "stream",
     "text": [
      "Processed /Users/chy/Projects/Thesis/mfcc/tt1152397_mfcc.png with feature shape: torch.Size([1, 197, 768])\n",
      "Processed /Users/chy/Projects/Thesis/mfcc/tt1079444_mfcc.png with feature shape: torch.Size([1, 197, 768])\n",
      "Processed /Users/chy/Projects/Thesis/mfcc/tt0379786_mfcc.png with feature shape: torch.Size([1, 197, 768])\n"
     ]
    },
    {
     "name": "stderr",
     "output_type": "stream",
     "text": [
      "  4%|▎         | 48/1356 [00:04<01:52, 11.60it/s]"
     ]
    },
    {
     "name": "stdout",
     "output_type": "stream",
     "text": [
      "Processed /Users/chy/Projects/Thesis/mfcc/tt0491703_mfcc.png with feature shape: torch.Size([1, 197, 768])\n",
      "Processed /Users/chy/Projects/Thesis/mfcc/tt2230358_mfcc.png with feature shape: torch.Size([1, 197, 768])\n",
      "Processed /Users/chy/Projects/Thesis/mfcc/tt0479952_mfcc.png with feature shape: torch.Size([1, 197, 768])\n"
     ]
    },
    {
     "name": "stderr",
     "output_type": "stream",
     "text": [
      "  4%|▍         | 52/1356 [00:04<01:48, 12.00it/s]"
     ]
    },
    {
     "name": "stdout",
     "output_type": "stream",
     "text": [
      "Processed /Users/chy/Projects/Thesis/mfcc/tt0259393_mfcc.png with feature shape: torch.Size([1, 197, 768])\n",
      "Processed /Users/chy/Projects/Thesis/mfcc/tt0358135_mfcc.png with feature shape: torch.Size([1, 197, 768])\n",
      "Processed /Users/chy/Projects/Thesis/mfcc/tt0125439_mfcc.png with feature shape: torch.Size([1, 197, 768])\n"
     ]
    },
    {
     "name": "stderr",
     "output_type": "stream",
     "text": [
      "  4%|▍         | 54/1356 [00:04<01:45, 12.31it/s]"
     ]
    },
    {
     "name": "stdout",
     "output_type": "stream",
     "text": [
      "Processed /Users/chy/Projects/Thesis/mfcc/tt0310924_mfcc.png with feature shape: torch.Size([1, 197, 768])\n",
      "Processed /Users/chy/Projects/Thesis/mfcc/tt0257076_mfcc.png with feature shape: torch.Size([1, 197, 768])\n"
     ]
    },
    {
     "name": "stderr",
     "output_type": "stream",
     "text": [
      "  4%|▍         | 56/1356 [00:05<02:00, 10.75it/s]"
     ]
    },
    {
     "name": "stdout",
     "output_type": "stream",
     "text": [
      "Processed /Users/chy/Projects/Thesis/mfcc/tt0277027_mfcc.png with feature shape: torch.Size([1, 197, 768])\n",
      "Processed /Users/chy/Projects/Thesis/mfcc/tt1517489_mfcc.png with feature shape: torch.Size([1, 197, 768])\n",
      "Processed /Users/chy/Projects/Thesis/mfcc/tt3614530_mfcc.png with feature shape: torch.Size([1, 197, 768])\n",
      "Processed /Users/chy/Projects/Thesis/mfcc/tt2042568_mfcc.png with feature shape: torch.Size([1, 197, 768])\n"
     ]
    },
    {
     "name": "stderr",
     "output_type": "stream",
     "text": [
      "  4%|▍         | 60/1356 [00:05<01:49, 11.86it/s]"
     ]
    },
    {
     "name": "stdout",
     "output_type": "stream",
     "text": [
      "Processed /Users/chy/Projects/Thesis/mfcc/tt0280590_mfcc.png with feature shape: torch.Size([1, 197, 768])\n",
      "Processed /Users/chy/Projects/Thesis/mfcc/tt0113965_mfcc.png with feature shape: torch.Size([1, 197, 768])\n",
      "Processed /Users/chy/Projects/Thesis/mfcc/tt2449810_mfcc.png with feature shape: torch.Size([1, 197, 768])\n"
     ]
    },
    {
     "name": "stderr",
     "output_type": "stream",
     "text": [
      "  5%|▍         | 64/1356 [00:05<01:47, 12.00it/s]"
     ]
    },
    {
     "name": "stdout",
     "output_type": "stream",
     "text": [
      "Processed /Users/chy/Projects/Thesis/mfcc/tt1323594_mfcc.png with feature shape: torch.Size([1, 197, 768])\n",
      "Processed /Users/chy/Projects/Thesis/mfcc/tt0214388_mfcc.png with feature shape: torch.Size([1, 197, 768])\n",
      "Processed /Users/chy/Projects/Thesis/mfcc/tt0357110_mfcc.png with feature shape: torch.Size([1, 197, 768])\n"
     ]
    },
    {
     "name": "stderr",
     "output_type": "stream",
     "text": [
      "  5%|▍         | 66/1356 [00:05<01:44, 12.30it/s]"
     ]
    },
    {
     "name": "stdout",
     "output_type": "stream",
     "text": [
      "Processed /Users/chy/Projects/Thesis/mfcc/tt0974554_mfcc.png with feature shape: torch.Size([1, 197, 768])\n",
      "Processed /Users/chy/Projects/Thesis/mfcc/tt4034354_mfcc.png with feature shape: torch.Size([1, 197, 768])\n",
      "Processed /Users/chy/Projects/Thesis/mfcc/tt3687186_mfcc.png with feature shape: torch.Size([1, 197, 768])\n"
     ]
    },
    {
     "name": "stderr",
     "output_type": "stream",
     "text": [
      "  5%|▌         | 70/1356 [00:06<01:41, 12.64it/s]"
     ]
    },
    {
     "name": "stdout",
     "output_type": "stream",
     "text": [
      "Processed /Users/chy/Projects/Thesis/mfcc/tt2170299_mfcc.png with feature shape: torch.Size([1, 197, 768])\n",
      "Processed /Users/chy/Projects/Thesis/mfcc/tt1111948_mfcc.png with feature shape: torch.Size([1, 197, 768])\n",
      "Processed /Users/chy/Projects/Thesis/mfcc/tt8097306_mfcc.png with feature shape: torch.Size([1, 197, 768])\n"
     ]
    },
    {
     "name": "stderr",
     "output_type": "stream",
     "text": [
      "  5%|▌         | 72/1356 [00:06<01:41, 12.62it/s]"
     ]
    },
    {
     "name": "stdout",
     "output_type": "stream",
     "text": [
      "Processed /Users/chy/Projects/Thesis/mfcc/tt0880578_mfcc.png with feature shape: torch.Size([1, 197, 768])\n",
      "Processed /Users/chy/Projects/Thesis/mfcc/tt1043838_mfcc.png with feature shape: torch.Size([1, 197, 768])\n"
     ]
    },
    {
     "name": "stderr",
     "output_type": "stream",
     "text": [
      "  5%|▌         | 74/1356 [00:06<01:53, 11.28it/s]"
     ]
    },
    {
     "name": "stdout",
     "output_type": "stream",
     "text": [
      "Processed /Users/chy/Projects/Thesis/mfcc/tt0327597_mfcc.png with feature shape: torch.Size([1, 197, 768])\n",
      "Processed /Users/chy/Projects/Thesis/mfcc/tt2609912_mfcc.png with feature shape: torch.Size([1, 197, 768])\n",
      "Processed /Users/chy/Projects/Thesis/mfcc/tt1129445_mfcc.png with feature shape: torch.Size([1, 197, 768])\n",
      "Processed /Users/chy/Projects/Thesis/mfcc/tt0271367_mfcc.png with feature shape: torch.Size([1, 197, 768])\n"
     ]
    },
    {
     "name": "stderr",
     "output_type": "stream",
     "text": [
      "  6%|▌         | 78/1356 [00:06<01:42, 12.51it/s]"
     ]
    },
    {
     "name": "stdout",
     "output_type": "stream",
     "text": [
      "Processed /Users/chy/Projects/Thesis/mfcc/tt2620590_mfcc.png with feature shape: torch.Size([1, 197, 768])\n",
      "Processed /Users/chy/Projects/Thesis/mfcc/tt0431213_mfcc.png with feature shape: torch.Size([1, 197, 768])\n",
      "Processed /Users/chy/Projects/Thesis/mfcc/tt7734218_mfcc.png with feature shape: torch.Size([1, 197, 768])\n"
     ]
    },
    {
     "name": "stderr",
     "output_type": "stream",
     "text": [
      "  6%|▌         | 82/1356 [00:07<01:39, 12.86it/s]"
     ]
    },
    {
     "name": "stdout",
     "output_type": "stream",
     "text": [
      "Processed /Users/chy/Projects/Thesis/mfcc/tt0156841_mfcc.png with feature shape: torch.Size([1, 197, 768])\n",
      "Processed /Users/chy/Projects/Thesis/mfcc/tt3856992_mfcc.png with feature shape: torch.Size([1, 197, 768])\n",
      "Processed /Users/chy/Projects/Thesis/mfcc/tt0790686_mfcc.png with feature shape: torch.Size([1, 197, 768])\n"
     ]
    },
    {
     "name": "stderr",
     "output_type": "stream",
     "text": [
      "  6%|▌         | 84/1356 [00:07<01:38, 12.88it/s]"
     ]
    },
    {
     "name": "stdout",
     "output_type": "stream",
     "text": [
      "Processed /Users/chy/Projects/Thesis/mfcc/tt0340163_mfcc.png with feature shape: torch.Size([1, 197, 768])\n",
      "Processed /Users/chy/Projects/Thesis/mfcc/tt2557276_mfcc.png with feature shape: torch.Size([1, 197, 768])\n",
      "Processed /Users/chy/Projects/Thesis/mfcc/tt2041488_mfcc.png with feature shape: torch.Size([1, 197, 768])\n"
     ]
    },
    {
     "name": "stderr",
     "output_type": "stream",
     "text": [
      "  6%|▋         | 88/1356 [00:07<01:38, 12.92it/s]"
     ]
    },
    {
     "name": "stdout",
     "output_type": "stream",
     "text": [
      "Processed /Users/chy/Projects/Thesis/mfcc/tt0365830_mfcc.png with feature shape: torch.Size([1, 197, 768])\n",
      "Processed /Users/chy/Projects/Thesis/mfcc/tt0377092_mfcc.png with feature shape: torch.Size([1, 197, 768])\n",
      "Processed /Users/chy/Projects/Thesis/mfcc/tt0441773_mfcc.png with feature shape: torch.Size([1, 197, 768])\n"
     ]
    },
    {
     "name": "stderr",
     "output_type": "stream",
     "text": [
      "  7%|▋         | 90/1356 [00:07<01:45, 11.95it/s]"
     ]
    },
    {
     "name": "stdout",
     "output_type": "stream",
     "text": [
      "Processed /Users/chy/Projects/Thesis/mfcc/tt0772157_mfcc.png with feature shape: torch.Size([1, 197, 768])\n",
      "Processed /Users/chy/Projects/Thesis/mfcc/tt0118556_mfcc.png with feature shape: torch.Size([1, 197, 768])\n",
      "Processed /Users/chy/Projects/Thesis/mfcc/tt0112740_mfcc.png with feature shape: torch.Size([1, 197, 768])\n"
     ]
    },
    {
     "name": "stderr",
     "output_type": "stream",
     "text": [
      "  7%|▋         | 94/1356 [00:08<01:37, 12.95it/s]"
     ]
    },
    {
     "name": "stdout",
     "output_type": "stream",
     "text": [
      "Processed /Users/chy/Projects/Thesis/mfcc/tt0472043_mfcc.png with feature shape: torch.Size([1, 197, 768])\n",
      "Processed /Users/chy/Projects/Thesis/mfcc/tt2393845_mfcc.png with feature shape: torch.Size([1, 197, 768])\n",
      "Processed /Users/chy/Projects/Thesis/mfcc/tt0978759_mfcc.png with feature shape: torch.Size([1, 197, 768])\n"
     ]
    },
    {
     "name": "stderr",
     "output_type": "stream",
     "text": [
      "  7%|▋         | 96/1356 [00:08<01:36, 13.07it/s]"
     ]
    },
    {
     "name": "stdout",
     "output_type": "stream",
     "text": [
      "Processed /Users/chy/Projects/Thesis/mfcc/tt1645170_mfcc.png with feature shape: torch.Size([1, 197, 768])\n",
      "Processed /Users/chy/Projects/Thesis/mfcc/tt0433412_mfcc.png with feature shape: torch.Size([1, 197, 768])\n",
      "Processed /Users/chy/Projects/Thesis/mfcc/tt0854678_mfcc.png with feature shape: torch.Size([1, 197, 768])\n"
     ]
    },
    {
     "name": "stderr",
     "output_type": "stream",
     "text": [
      "  7%|▋         | 100/1356 [00:08<01:37, 12.84it/s]"
     ]
    },
    {
     "name": "stdout",
     "output_type": "stream",
     "text": [
      "Processed /Users/chy/Projects/Thesis/mfcc/tt0422720_mfcc.png with feature shape: torch.Size([1, 197, 768])\n",
      "Processed /Users/chy/Projects/Thesis/mfcc/tt2499414_mfcc.png with feature shape: torch.Size([1, 197, 768])\n",
      "Processed /Users/chy/Projects/Thesis/mfcc/tt0256359_mfcc.png with feature shape: torch.Size([1, 197, 768])\n"
     ]
    },
    {
     "name": "stderr",
     "output_type": "stream",
     "text": [
      "  8%|▊         | 102/1356 [00:08<01:37, 12.86it/s]"
     ]
    },
    {
     "name": "stdout",
     "output_type": "stream",
     "text": [
      "Processed /Users/chy/Projects/Thesis/mfcc/tt0350258_mfcc.png with feature shape: torch.Size([1, 197, 768])\n",
      "Processed /Users/chy/Projects/Thesis/mfcc/tt0113481_mfcc.png with feature shape: torch.Size([1, 197, 768])\n",
      "Processed /Users/chy/Projects/Thesis/mfcc/tt0116621_mfcc.png with feature shape: torch.Size([1, 197, 768])\n"
     ]
    },
    {
     "name": "stderr",
     "output_type": "stream",
     "text": [
      "  8%|▊         | 104/1356 [00:08<01:38, 12.72it/s]"
     ]
    },
    {
     "name": "stdout",
     "output_type": "stream",
     "text": [
      "Processed /Users/chy/Projects/Thesis/mfcc/tt0120812_mfcc.png with feature shape: torch.Size([1, 197, 768])\n",
      "Processed /Users/chy/Projects/Thesis/mfcc/tt3844362_mfcc.png with feature shape: torch.Size([1, 197, 768])\n"
     ]
    },
    {
     "name": "stderr",
     "output_type": "stream",
     "text": [
      "  8%|▊         | 108/1356 [00:09<01:43, 12.11it/s]"
     ]
    },
    {
     "name": "stdout",
     "output_type": "stream",
     "text": [
      "Processed /Users/chy/Projects/Thesis/mfcc/tt0092563_mfcc.png with feature shape: torch.Size([1, 197, 768])\n",
      "Processed /Users/chy/Projects/Thesis/mfcc/tt0156934_mfcc.png with feature shape: torch.Size([1, 197, 768])\n",
      "Processed /Users/chy/Projects/Thesis/mfcc/tt2637276_mfcc.png with feature shape: torch.Size([1, 197, 768])\n",
      "Processed /Users/chy/Projects/Thesis/mfcc/tt0084827_mfcc.png with feature shape: torch.Size([1, 197, 768])\n"
     ]
    },
    {
     "name": "stderr",
     "output_type": "stream",
     "text": [
      "  8%|▊         | 112/1356 [00:09<01:38, 12.65it/s]"
     ]
    },
    {
     "name": "stdout",
     "output_type": "stream",
     "text": [
      "Processed /Users/chy/Projects/Thesis/mfcc/tt0093225_mfcc.png with feature shape: torch.Size([1, 197, 768])\n",
      "Processed /Users/chy/Projects/Thesis/mfcc/tt0822832_mfcc.png with feature shape: torch.Size([1, 197, 768])\n",
      "Processed /Users/chy/Projects/Thesis/mfcc/tt0414853_mfcc.png with feature shape: torch.Size([1, 197, 768])\n"
     ]
    },
    {
     "name": "stderr",
     "output_type": "stream",
     "text": [
      "  8%|▊         | 114/1356 [00:09<01:38, 12.64it/s]"
     ]
    },
    {
     "name": "stdout",
     "output_type": "stream",
     "text": [
      "Processed /Users/chy/Projects/Thesis/mfcc/tt0963194_mfcc.png with feature shape: torch.Size([1, 197, 768])\n",
      "Processed /Users/chy/Projects/Thesis/mfcc/tt0780567_mfcc.png with feature shape: torch.Size([1, 197, 768])\n",
      "Processed /Users/chy/Projects/Thesis/mfcc/tt0257516_mfcc.png with feature shape: torch.Size([1, 197, 768])\n"
     ]
    },
    {
     "name": "stderr",
     "output_type": "stream",
     "text": [
      "  9%|▊         | 118/1356 [00:09<01:37, 12.75it/s]"
     ]
    },
    {
     "name": "stdout",
     "output_type": "stream",
     "text": [
      "Processed /Users/chy/Projects/Thesis/mfcc/tt0480249_mfcc.png with feature shape: torch.Size([1, 197, 768])\n",
      "Processed /Users/chy/Projects/Thesis/mfcc/tt0464196_mfcc.png with feature shape: torch.Size([1, 197, 768])\n",
      "Processed /Users/chy/Projects/Thesis/mfcc/tt1621039_mfcc.png with feature shape: torch.Size([1, 197, 768])\n"
     ]
    },
    {
     "name": "stderr",
     "output_type": "stream",
     "text": [
      "  9%|▉         | 120/1356 [00:10<01:36, 12.75it/s]"
     ]
    },
    {
     "name": "stdout",
     "output_type": "stream",
     "text": [
      "Processed /Users/chy/Projects/Thesis/mfcc/tt0480687_mfcc.png with feature shape: torch.Size([1, 197, 768])\n",
      "Processed /Users/chy/Projects/Thesis/mfcc/tt0411806_mfcc.png with feature shape: torch.Size([1, 197, 768])\n",
      "Processed /Users/chy/Projects/Thesis/mfcc/tt0083619_mfcc.png with feature shape: torch.Size([1, 197, 768])\n"
     ]
    },
    {
     "name": "stderr",
     "output_type": "stream",
     "text": [
      "  9%|▉         | 124/1356 [00:10<01:44, 11.74it/s]"
     ]
    },
    {
     "name": "stdout",
     "output_type": "stream",
     "text": [
      "Processed /Users/chy/Projects/Thesis/mfcc/tt0293564_mfcc.png with feature shape: torch.Size([1, 197, 768])\n",
      "Processed /Users/chy/Projects/Thesis/mfcc/tt8366502_mfcc.png with feature shape: torch.Size([1, 197, 768])\n",
      "Processed /Users/chy/Projects/Thesis/mfcc/tt1493157_mfcc.png with feature shape: torch.Size([1, 197, 768])\n",
      "Processed /Users/chy/Projects/Thesis/mfcc/tt0337881_mfcc.png with feature shape: torch.Size([1, 197, 768])\n"
     ]
    },
    {
     "name": "stderr",
     "output_type": "stream",
     "text": [
      "  9%|▉         | 128/1356 [00:10<01:38, 12.43it/s]"
     ]
    },
    {
     "name": "stdout",
     "output_type": "stream",
     "text": [
      "Processed /Users/chy/Projects/Thesis/mfcc/tt0780608_mfcc.png with feature shape: torch.Size([1, 197, 768])\n",
      "Processed /Users/chy/Projects/Thesis/mfcc/tt0486259_mfcc.png with feature shape: torch.Size([1, 197, 768])\n",
      "Processed /Users/chy/Projects/Thesis/mfcc/tt0102685_mfcc.png with feature shape: torch.Size([1, 197, 768])\n"
     ]
    },
    {
     "name": "stderr",
     "output_type": "stream",
     "text": [
      " 10%|▉         | 130/1356 [00:10<01:37, 12.55it/s]"
     ]
    },
    {
     "name": "stdout",
     "output_type": "stream",
     "text": [
      "Processed /Users/chy/Projects/Thesis/mfcc/tt1323946_mfcc.png with feature shape: torch.Size([1, 197, 768])\n",
      "Processed /Users/chy/Projects/Thesis/mfcc/tt0817177_mfcc.png with feature shape: torch.Size([1, 197, 768])\n",
      "Processed /Users/chy/Projects/Thesis/mfcc/tt0430770_mfcc.png with feature shape: torch.Size([1, 197, 768])\n"
     ]
    },
    {
     "name": "stderr",
     "output_type": "stream",
     "text": [
      " 10%|▉         | 134/1356 [00:11<01:37, 12.52it/s]"
     ]
    },
    {
     "name": "stdout",
     "output_type": "stream",
     "text": [
      "Processed /Users/chy/Projects/Thesis/mfcc/tt0772168_mfcc.png with feature shape: torch.Size([1, 197, 768])\n",
      "Processed /Users/chy/Projects/Thesis/mfcc/tt3530002_mfcc.png with feature shape: torch.Size([1, 197, 768])\n",
      "Processed /Users/chy/Projects/Thesis/mfcc/tt0353965_mfcc.png with feature shape: torch.Size([1, 197, 768])\n"
     ]
    },
    {
     "name": "stderr",
     "output_type": "stream",
     "text": [
      " 10%|█         | 136/1356 [00:11<01:37, 12.58it/s]"
     ]
    },
    {
     "name": "stdout",
     "output_type": "stream",
     "text": [
      "Processed /Users/chy/Projects/Thesis/mfcc/tt0810784_mfcc.png with feature shape: torch.Size([1, 197, 768])\n",
      "Processed /Users/chy/Projects/Thesis/mfcc/tt1124039_mfcc.png with feature shape: torch.Size([1, 197, 768])\n",
      "Processed /Users/chy/Projects/Thesis/mfcc/tt0448694_mfcc.png with feature shape: torch.Size([1, 197, 768])\n"
     ]
    },
    {
     "name": "stderr",
     "output_type": "stream",
     "text": [
      " 10%|█         | 138/1356 [00:11<01:38, 12.38it/s]"
     ]
    },
    {
     "name": "stdout",
     "output_type": "stream",
     "text": [
      "Processed /Users/chy/Projects/Thesis/mfcc/tt1231277_mfcc.png with feature shape: torch.Size([1, 197, 768])\n",
      "Processed /Users/chy/Projects/Thesis/mfcc/tt0115725_mfcc.png with feature shape: torch.Size([1, 197, 768])\n"
     ]
    },
    {
     "name": "stderr",
     "output_type": "stream",
     "text": [
      " 10%|█         | 142/1356 [00:11<01:41, 12.00it/s]"
     ]
    },
    {
     "name": "stdout",
     "output_type": "stream",
     "text": [
      "Processed /Users/chy/Projects/Thesis/mfcc/tt0359517_mfcc.png with feature shape: torch.Size([1, 197, 768])\n",
      "Processed /Users/chy/Projects/Thesis/mfcc/tt0465580_mfcc.png with feature shape: torch.Size([1, 197, 768])\n",
      "Processed /Users/chy/Projects/Thesis/mfcc/tt0415489_mfcc.png with feature shape: torch.Size([1, 197, 768])\n",
      "Processed /Users/chy/Projects/Thesis/mfcc/tt0283026_mfcc.png with feature shape: torch.Size([1, 197, 768])\n"
     ]
    },
    {
     "name": "stderr",
     "output_type": "stream",
     "text": [
      " 11%|█         | 146/1356 [00:12<01:36, 12.57it/s]"
     ]
    },
    {
     "name": "stdout",
     "output_type": "stream",
     "text": [
      "Processed /Users/chy/Projects/Thesis/mfcc/tt0448134_mfcc.png with feature shape: torch.Size([1, 197, 768])\n",
      "Processed /Users/chy/Projects/Thesis/mfcc/tt6516314_mfcc.png with feature shape: torch.Size([1, 197, 768])\n",
      "Processed /Users/chy/Projects/Thesis/mfcc/tt0349710_mfcc.png with feature shape: torch.Size([1, 197, 768])\n"
     ]
    },
    {
     "name": "stderr",
     "output_type": "stream",
     "text": [
      " 11%|█         | 148/1356 [00:12<01:36, 12.55it/s]"
     ]
    },
    {
     "name": "stdout",
     "output_type": "stream",
     "text": [
      "Processed /Users/chy/Projects/Thesis/mfcc/tt0435665_mfcc.png with feature shape: torch.Size([1, 197, 768])\n",
      "Processed /Users/chy/Projects/Thesis/mfcc/tt2386404_mfcc.png with feature shape: torch.Size([1, 197, 768])\n",
      "Processed /Users/chy/Projects/Thesis/mfcc/tt1217301_mfcc.png with feature shape: torch.Size([1, 197, 768])\n"
     ]
    },
    {
     "name": "stderr",
     "output_type": "stream",
     "text": [
      " 11%|█         | 152/1356 [00:12<01:37, 12.35it/s]"
     ]
    },
    {
     "name": "stdout",
     "output_type": "stream",
     "text": [
      "Processed /Users/chy/Projects/Thesis/mfcc/tt3850214_mfcc.png with feature shape: torch.Size([1, 197, 768])\n",
      "Processed /Users/chy/Projects/Thesis/mfcc/tt0118747_mfcc.png with feature shape: torch.Size([1, 197, 768])\n",
      "Processed /Users/chy/Projects/Thesis/mfcc/tt1918908_mfcc.png with feature shape: torch.Size([1, 197, 768])\n"
     ]
    },
    {
     "name": "stderr",
     "output_type": "stream",
     "text": [
      " 11%|█▏        | 154/1356 [00:12<01:38, 12.16it/s]"
     ]
    },
    {
     "name": "stdout",
     "output_type": "stream",
     "text": [
      "Processed /Users/chy/Projects/Thesis/mfcc/tt0960731_mfcc.png with feature shape: torch.Size([1, 197, 768])\n",
      "Processed /Users/chy/Projects/Thesis/mfcc/tt0110099_mfcc.png with feature shape: torch.Size([1, 197, 768])\n"
     ]
    },
    {
     "name": "stderr",
     "output_type": "stream",
     "text": [
      " 12%|█▏        | 156/1356 [00:13<01:52, 10.71it/s]"
     ]
    },
    {
     "name": "stdout",
     "output_type": "stream",
     "text": [
      "Processed /Users/chy/Projects/Thesis/mfcc/tt4481514_mfcc.png with feature shape: torch.Size([1, 197, 768])\n",
      "Processed /Users/chy/Projects/Thesis/mfcc/tt0114296_mfcc.png with feature shape: torch.Size([1, 197, 768])\n",
      "Processed /Users/chy/Projects/Thesis/mfcc/tt0094715_mfcc.png with feature shape: torch.Size([1, 197, 768])\n"
     ]
    },
    {
     "name": "stderr",
     "output_type": "stream",
     "text": [
      " 12%|█▏        | 160/1356 [00:13<01:48, 11.05it/s]"
     ]
    },
    {
     "name": "stdout",
     "output_type": "stream",
     "text": [
      "Processed /Users/chy/Projects/Thesis/mfcc/tt1649444_mfcc.png with feature shape: torch.Size([1, 197, 768])\n",
      "Processed /Users/chy/Projects/Thesis/mfcc/tt0267989_mfcc.png with feature shape: torch.Size([1, 197, 768])\n",
      "Processed /Users/chy/Projects/Thesis/mfcc/tt0144964_mfcc.png with feature shape: torch.Size([1, 197, 768])\n"
     ]
    },
    {
     "name": "stderr",
     "output_type": "stream",
     "text": [
      " 12%|█▏        | 162/1356 [00:13<01:47, 11.07it/s]"
     ]
    },
    {
     "name": "stdout",
     "output_type": "stream",
     "text": [
      "Processed /Users/chy/Projects/Thesis/mfcc/tt0313670_mfcc.png with feature shape: torch.Size([1, 197, 768])\n",
      "Processed /Users/chy/Projects/Thesis/mfcc/tt1217209_mfcc.png with feature shape: torch.Size([1, 197, 768])\n",
      "Processed /Users/chy/Projects/Thesis/mfcc/tt0850667_mfcc.png with feature shape: torch.Size([1, 197, 768])\n"
     ]
    },
    {
     "name": "stderr",
     "output_type": "stream",
     "text": [
      " 12%|█▏        | 166/1356 [00:14<01:45, 11.24it/s]"
     ]
    },
    {
     "name": "stdout",
     "output_type": "stream",
     "text": [
      "Processed /Users/chy/Projects/Thesis/mfcc/tt0134033_mfcc.png with feature shape: torch.Size([1, 197, 768])\n",
      "Processed /Users/chy/Projects/Thesis/mfcc/tt0428541_mfcc.png with feature shape: torch.Size([1, 197, 768])\n",
      "Processed /Users/chy/Projects/Thesis/mfcc/tt0113690_mfcc.png with feature shape: torch.Size([1, 197, 768])\n"
     ]
    },
    {
     "name": "stderr",
     "output_type": "stream",
     "text": [
      " 12%|█▏        | 168/1356 [00:14<01:47, 11.05it/s]"
     ]
    },
    {
     "name": "stdout",
     "output_type": "stream",
     "text": [
      "Processed /Users/chy/Projects/Thesis/mfcc/tt0183649_mfcc.png with feature shape: torch.Size([1, 197, 768])\n",
      "Processed /Users/chy/Projects/Thesis/mfcc/tt0446298_mfcc.png with feature shape: torch.Size([1, 197, 768])\n"
     ]
    },
    {
     "name": "stderr",
     "output_type": "stream",
     "text": [
      " 13%|█▎        | 170/1356 [00:14<02:04,  9.50it/s]"
     ]
    },
    {
     "name": "stdout",
     "output_type": "stream",
     "text": [
      "Processed /Users/chy/Projects/Thesis/mfcc/tt0365125_mfcc.png with feature shape: torch.Size([1, 197, 768])\n",
      "Processed /Users/chy/Projects/Thesis/mfcc/tt0845955_mfcc.png with feature shape: torch.Size([1, 197, 768])\n",
      "Processed /Users/chy/Projects/Thesis/mfcc/tt0800308_mfcc.png with feature shape: torch.Size([1, 197, 768])\n"
     ]
    },
    {
     "name": "stderr",
     "output_type": "stream",
     "text": [
      " 13%|█▎        | 174/1356 [00:14<01:52, 10.53it/s]"
     ]
    },
    {
     "name": "stdout",
     "output_type": "stream",
     "text": [
      "Processed /Users/chy/Projects/Thesis/mfcc/tt1781827_mfcc.png with feature shape: torch.Size([1, 197, 768])\n",
      "Processed /Users/chy/Projects/Thesis/mfcc/tt0477457_mfcc.png with feature shape: torch.Size([1, 197, 768])\n",
      "Processed /Users/chy/Projects/Thesis/mfcc/tt0206314_mfcc.png with feature shape: torch.Size([1, 197, 768])\n"
     ]
    },
    {
     "name": "stderr",
     "output_type": "stream",
     "text": [
      " 13%|█▎        | 176/1356 [00:15<01:49, 10.80it/s]"
     ]
    },
    {
     "name": "stdout",
     "output_type": "stream",
     "text": [
      "Processed /Users/chy/Projects/Thesis/mfcc/tt1321862_mfcc.png with feature shape: torch.Size([1, 197, 768])\n",
      "Processed /Users/chy/Projects/Thesis/mfcc/tt0116260_mfcc.png with feature shape: torch.Size([1, 197, 768])\n",
      "Processed /Users/chy/Projects/Thesis/mfcc/tt0114367_mfcc.png with feature shape: torch.Size([1, 197, 768])\n"
     ]
    },
    {
     "name": "stderr",
     "output_type": "stream",
     "text": [
      " 13%|█▎        | 178/1356 [00:15<01:52, 10.47it/s]"
     ]
    },
    {
     "name": "stdout",
     "output_type": "stream",
     "text": [
      "Processed /Users/chy/Projects/Thesis/mfcc/tt4663548_mfcc.png with feature shape: torch.Size([1, 197, 768])\n",
      "Processed /Users/chy/Projects/Thesis/mfcc/tt0309698_mfcc.png with feature shape: torch.Size([1, 197, 768])\n"
     ]
    },
    {
     "name": "stderr",
     "output_type": "stream",
     "text": [
      " 13%|█▎        | 182/1356 [00:15<01:47, 10.89it/s]"
     ]
    },
    {
     "name": "stdout",
     "output_type": "stream",
     "text": [
      "Processed /Users/chy/Projects/Thesis/mfcc/tt0382992_mfcc.png with feature shape: torch.Size([1, 197, 768])\n",
      "Processed /Users/chy/Projects/Thesis/mfcc/tt0116095_mfcc.png with feature shape: torch.Size([1, 197, 768])\n",
      "Processed /Users/chy/Projects/Thesis/mfcc/tt0042994_mfcc.png with feature shape: torch.Size([1, 197, 768])\n"
     ]
    },
    {
     "name": "stderr",
     "output_type": "stream",
     "text": [
      " 14%|█▎        | 184/1356 [00:15<02:00,  9.72it/s]"
     ]
    },
    {
     "name": "stdout",
     "output_type": "stream",
     "text": [
      "Processed /Users/chy/Projects/Thesis/mfcc/tt2207484_mfcc.png with feature shape: torch.Size([1, 197, 768])\n",
      "Processed /Users/chy/Projects/Thesis/mfcc/tt0371589_mfcc.png with feature shape: torch.Size([1, 197, 768])\n",
      "Processed /Users/chy/Projects/Thesis/mfcc/tt6359956_mfcc.png with feature shape: torch.Size([1, 197, 768])\n"
     ]
    },
    {
     "name": "stderr",
     "output_type": "stream",
     "text": [
      " 14%|█▍        | 188/1356 [00:16<01:48, 10.78it/s]"
     ]
    },
    {
     "name": "stdout",
     "output_type": "stream",
     "text": [
      "Processed /Users/chy/Projects/Thesis/mfcc/tt1174954_mfcc.png with feature shape: torch.Size([1, 197, 768])\n",
      "Processed /Users/chy/Projects/Thesis/mfcc/tt0396271_mfcc.png with feature shape: torch.Size([1, 197, 768])\n",
      "Processed /Users/chy/Projects/Thesis/mfcc/tt0488988_mfcc.png with feature shape: torch.Size([1, 197, 768])\n"
     ]
    },
    {
     "name": "stderr",
     "output_type": "stream",
     "text": [
      " 14%|█▍        | 190/1356 [00:16<01:45, 11.05it/s]"
     ]
    },
    {
     "name": "stdout",
     "output_type": "stream",
     "text": [
      "Processed /Users/chy/Projects/Thesis/mfcc/tt4435082_mfcc.png with feature shape: torch.Size([1, 197, 768])\n",
      "Processed /Users/chy/Projects/Thesis/mfcc/tt0384642_mfcc.png with feature shape: torch.Size([1, 197, 768])\n",
      "Processed /Users/chy/Projects/Thesis/mfcc/tt2165743_mfcc.png with feature shape: torch.Size([1, 197, 768])\n"
     ]
    },
    {
     "name": "stderr",
     "output_type": "stream",
     "text": [
      " 14%|█▍        | 194/1356 [00:16<01:43, 11.23it/s]"
     ]
    },
    {
     "name": "stdout",
     "output_type": "stream",
     "text": [
      "Processed /Users/chy/Projects/Thesis/mfcc/tt1240982_mfcc.png with feature shape: torch.Size([1, 197, 768])\n",
      "Processed /Users/chy/Projects/Thesis/mfcc/tt0432348_mfcc.png with feature shape: torch.Size([1, 197, 768])\n",
      "Processed /Users/chy/Projects/Thesis/mfcc/tt1046997_mfcc.png with feature shape: torch.Size([1, 197, 768])\n"
     ]
    },
    {
     "name": "stderr",
     "output_type": "stream",
     "text": [
      " 14%|█▍        | 196/1356 [00:16<01:40, 11.53it/s]"
     ]
    },
    {
     "name": "stdout",
     "output_type": "stream",
     "text": [
      "Processed /Users/chy/Projects/Thesis/mfcc/tt0021814_mfcc.png with feature shape: torch.Size([1, 197, 768])\n",
      "Processed /Users/chy/Projects/Thesis/mfcc/tt0054279_mfcc.png with feature shape: torch.Size([1, 197, 768])\n",
      "Processed /Users/chy/Projects/Thesis/mfcc/tt0094737_mfcc.png with feature shape: torch.Size([1, 197, 768])\n"
     ]
    },
    {
     "name": "stderr",
     "output_type": "stream",
     "text": [
      " 15%|█▍        | 198/1356 [00:17<01:38, 11.76it/s]"
     ]
    },
    {
     "name": "stdout",
     "output_type": "stream",
     "text": [
      "Processed /Users/chy/Projects/Thesis/mfcc/tt2960470_mfcc.png with feature shape: torch.Size([1, 197, 768])\n",
      "Processed /Users/chy/Projects/Thesis/mfcc/tt0340855_mfcc.png with feature shape: torch.Size([1, 197, 768])\n"
     ]
    },
    {
     "name": "stderr",
     "output_type": "stream",
     "text": [
      " 15%|█▍        | 202/1356 [00:17<01:39, 11.62it/s]"
     ]
    },
    {
     "name": "stdout",
     "output_type": "stream",
     "text": [
      "Processed /Users/chy/Projects/Thesis/mfcc/tt0325258_mfcc.png with feature shape: torch.Size([1, 197, 768])\n",
      "Processed /Users/chy/Projects/Thesis/mfcc/tt0482606_mfcc.png with feature shape: torch.Size([1, 197, 768])\n",
      "Processed /Users/chy/Projects/Thesis/mfcc/tt0489070_mfcc.png with feature shape: torch.Size([1, 197, 768])\n"
     ]
    },
    {
     "name": "stderr",
     "output_type": "stream",
     "text": [
      " 15%|█▌        | 204/1356 [00:17<01:35, 12.07it/s]"
     ]
    },
    {
     "name": "stdout",
     "output_type": "stream",
     "text": [
      "Processed /Users/chy/Projects/Thesis/mfcc/tt0422774_mfcc.png with feature shape: torch.Size([1, 197, 768])\n",
      "Processed /Users/chy/Projects/Thesis/mfcc/tt1462054_mfcc.png with feature shape: torch.Size([1, 197, 768])\n",
      "Processed /Users/chy/Projects/Thesis/mfcc/tt0150377_mfcc.png with feature shape: torch.Size([1, 197, 768])\n"
     ]
    },
    {
     "name": "stderr",
     "output_type": "stream",
     "text": [
      " 15%|█▌        | 208/1356 [00:17<01:32, 12.41it/s]"
     ]
    },
    {
     "name": "stdout",
     "output_type": "stream",
     "text": [
      "Processed /Users/chy/Projects/Thesis/mfcc/tt4103724_mfcc.png with feature shape: torch.Size([1, 197, 768])\n",
      "Processed /Users/chy/Projects/Thesis/mfcc/tt1407061_mfcc.png with feature shape: torch.Size([1, 197, 768])\n",
      "Processed /Users/chy/Projects/Thesis/mfcc/tt0377752_mfcc.png with feature shape: torch.Size([1, 197, 768])\n"
     ]
    },
    {
     "name": "stderr",
     "output_type": "stream",
     "text": [
      " 15%|█▌        | 210/1356 [00:18<01:30, 12.61it/s]"
     ]
    },
    {
     "name": "stdout",
     "output_type": "stream",
     "text": [
      "Processed /Users/chy/Projects/Thesis/mfcc/tt0118688_mfcc.png with feature shape: torch.Size([1, 197, 768])\n",
      "Processed /Users/chy/Projects/Thesis/mfcc/tt0110157_mfcc.png with feature shape: torch.Size([1, 197, 768])\n",
      "Processed /Users/chy/Projects/Thesis/mfcc/tt2261287_mfcc.png with feature shape: torch.Size([1, 197, 768])\n"
     ]
    },
    {
     "name": "stderr",
     "output_type": "stream",
     "text": [
      " 16%|█▌        | 212/1356 [00:18<01:30, 12.67it/s]"
     ]
    },
    {
     "name": "stdout",
     "output_type": "stream",
     "text": [
      "Processed /Users/chy/Projects/Thesis/mfcc/tt0120655_mfcc.png with feature shape: torch.Size([1, 197, 768])\n"
     ]
    },
    {
     "name": "stderr",
     "output_type": "stream",
     "text": [
      " 16%|█▌        | 214/1356 [00:18<01:46, 10.76it/s]"
     ]
    },
    {
     "name": "stdout",
     "output_type": "stream",
     "text": [
      "Processed /Users/chy/Projects/Thesis/mfcc/tt0772175_mfcc.png with feature shape: torch.Size([1, 197, 768])\n",
      "Processed /Users/chy/Projects/Thesis/mfcc/tt1007028_mfcc.png with feature shape: torch.Size([1, 197, 768])\n",
      "Processed /Users/chy/Projects/Thesis/mfcc/tt0396752_mfcc.png with feature shape: torch.Size([1, 197, 768])\n",
      "Processed /Users/chy/Projects/Thesis/mfcc/tt5460226_mfcc.png with feature shape: torch.Size([1, 197, 768])\n"
     ]
    },
    {
     "name": "stderr",
     "output_type": "stream",
     "text": [
      " 16%|█▌        | 218/1356 [00:18<01:33, 12.23it/s]"
     ]
    },
    {
     "name": "stdout",
     "output_type": "stream",
     "text": [
      "Processed /Users/chy/Projects/Thesis/mfcc/tt0335121_mfcc.png with feature shape: torch.Size([1, 197, 768])\n",
      "Processed /Users/chy/Projects/Thesis/mfcc/tt3090252_mfcc.png with feature shape: torch.Size([1, 197, 768])\n",
      "Processed /Users/chy/Projects/Thesis/mfcc/tt0834001_mfcc.png with feature shape: torch.Size([1, 197, 768])\n"
     ]
    },
    {
     "name": "stderr",
     "output_type": "stream",
     "text": [
      " 16%|█▋        | 222/1356 [00:19<01:31, 12.43it/s]"
     ]
    },
    {
     "name": "stdout",
     "output_type": "stream",
     "text": [
      "Processed /Users/chy/Projects/Thesis/mfcc/tt1763264_mfcc.png with feature shape: torch.Size([1, 197, 768])\n",
      "Processed /Users/chy/Projects/Thesis/mfcc/tt0203119_mfcc.png with feature shape: torch.Size([1, 197, 768])\n",
      "Processed /Users/chy/Projects/Thesis/mfcc/tt1730294_mfcc.png with feature shape: torch.Size([1, 197, 768])\n"
     ]
    },
    {
     "name": "stderr",
     "output_type": "stream",
     "text": [
      " 17%|█▋        | 224/1356 [00:19<01:30, 12.55it/s]"
     ]
    },
    {
     "name": "stdout",
     "output_type": "stream",
     "text": [
      "Processed /Users/chy/Projects/Thesis/mfcc/tt0475355_mfcc.png with feature shape: torch.Size([1, 197, 768])\n",
      "Processed /Users/chy/Projects/Thesis/mfcc/tt0790799_mfcc.png with feature shape: torch.Size([1, 197, 768])\n",
      "Processed /Users/chy/Projects/Thesis/mfcc/tt2262227_mfcc.png with feature shape: torch.Size([1, 197, 768])\n"
     ]
    },
    {
     "name": "stderr",
     "output_type": "stream",
     "text": [
      " 17%|█▋        | 228/1356 [00:19<01:29, 12.60it/s]"
     ]
    },
    {
     "name": "stdout",
     "output_type": "stream",
     "text": [
      "Processed /Users/chy/Projects/Thesis/mfcc/tt11808946_mfcc.png with feature shape: torch.Size([1, 197, 768])\n",
      "Processed /Users/chy/Projects/Thesis/mfcc/tt0364045_mfcc.png with feature shape: torch.Size([1, 197, 768])\n",
      "Processed /Users/chy/Projects/Thesis/mfcc/tt1016075_mfcc.png with feature shape: torch.Size([1, 197, 768])\n"
     ]
    },
    {
     "name": "stderr",
     "output_type": "stream",
     "text": [
      " 17%|█▋        | 230/1356 [00:19<01:40, 11.26it/s]"
     ]
    },
    {
     "name": "stdout",
     "output_type": "stream",
     "text": [
      "Processed /Users/chy/Projects/Thesis/mfcc/tt1303803_mfcc.png with feature shape: torch.Size([1, 197, 768])\n",
      "Processed /Users/chy/Projects/Thesis/mfcc/tt0318761_mfcc.png with feature shape: torch.Size([1, 197, 768])\n"
     ]
    },
    {
     "name": "stderr",
     "output_type": "stream",
     "text": [
      " 17%|█▋        | 232/1356 [00:19<01:35, 11.76it/s]"
     ]
    },
    {
     "name": "stdout",
     "output_type": "stream",
     "text": [
      "Processed /Users/chy/Projects/Thesis/mfcc/tt0092666_mfcc.png with feature shape: torch.Size([1, 197, 768])\n",
      "Processed /Users/chy/Projects/Thesis/mfcc/tt0345061_mfcc.png with feature shape: torch.Size([1, 197, 768])\n",
      "Processed /Users/chy/Projects/Thesis/mfcc/tt1232829_mfcc.png with feature shape: torch.Size([1, 197, 768])\n",
      "Processed /Users/chy/Projects/Thesis/mfcc/tt0493402_mfcc.png with feature shape: torch.Size([1, 197, 768])\n"
     ]
    },
    {
     "name": "stderr",
     "output_type": "stream",
     "text": [
      " 17%|█▋        | 236/1356 [00:20<01:28, 12.61it/s]"
     ]
    },
    {
     "name": "stdout",
     "output_type": "stream",
     "text": [
      "Processed /Users/chy/Projects/Thesis/mfcc/tt0299658_mfcc.png with feature shape: torch.Size([1, 197, 768])\n",
      "Processed /Users/chy/Projects/Thesis/mfcc/tt7319064_mfcc.png with feature shape: torch.Size([1, 197, 768])\n",
      "Processed /Users/chy/Projects/Thesis/mfcc/tt1390539_mfcc.png with feature shape: torch.Size([1, 197, 768])\n"
     ]
    },
    {
     "name": "stderr",
     "output_type": "stream",
     "text": [
      " 18%|█▊        | 240/1356 [00:20<01:27, 12.68it/s]"
     ]
    },
    {
     "name": "stdout",
     "output_type": "stream",
     "text": [
      "Processed /Users/chy/Projects/Thesis/mfcc/tt1629757_mfcc.png with feature shape: torch.Size([1, 197, 768])\n",
      "Processed /Users/chy/Projects/Thesis/mfcc/tt0435679_mfcc.png with feature shape: torch.Size([1, 197, 768])\n",
      "Processed /Users/chy/Projects/Thesis/mfcc/tt1543652_mfcc.png with feature shape: torch.Size([1, 197, 768])\n"
     ]
    },
    {
     "name": "stderr",
     "output_type": "stream",
     "text": [
      " 18%|█▊        | 242/1356 [00:20<01:27, 12.71it/s]"
     ]
    },
    {
     "name": "stdout",
     "output_type": "stream",
     "text": [
      "Processed /Users/chy/Projects/Thesis/mfcc/tt0119054_mfcc.png with feature shape: torch.Size([1, 197, 768])\n",
      "Processed /Users/chy/Projects/Thesis/mfcc/tt1029120_mfcc.png with feature shape: torch.Size([1, 197, 768])\n",
      "Processed /Users/chy/Projects/Thesis/mfcc/tt1449283_mfcc.png with feature shape: torch.Size([1, 197, 768])\n"
     ]
    },
    {
     "name": "stderr",
     "output_type": "stream",
     "text": [
      " 18%|█▊        | 244/1356 [00:20<01:34, 11.79it/s]"
     ]
    },
    {
     "name": "stdout",
     "output_type": "stream",
     "text": [
      "Processed /Users/chy/Projects/Thesis/mfcc/tt0102316_mfcc.png with feature shape: torch.Size([1, 197, 768])\n",
      "Processed /Users/chy/Projects/Thesis/mfcc/tt0802948_mfcc.png with feature shape: torch.Size([1, 197, 768])\n"
     ]
    },
    {
     "name": "stderr",
     "output_type": "stream",
     "text": [
      " 18%|█▊        | 248/1356 [00:21<01:29, 12.34it/s]"
     ]
    },
    {
     "name": "stdout",
     "output_type": "stream",
     "text": [
      "Processed /Users/chy/Projects/Thesis/mfcc/tt1783732_mfcc.png with feature shape: torch.Size([1, 197, 768])\n",
      "Processed /Users/chy/Projects/Thesis/mfcc/tt1078912_mfcc.png with feature shape: torch.Size([1, 197, 768])\n",
      "Processed /Users/chy/Projects/Thesis/mfcc/tt1629439_mfcc.png with feature shape: torch.Size([1, 197, 768])\n"
     ]
    },
    {
     "name": "stderr",
     "output_type": "stream",
     "text": [
      " 18%|█▊        | 250/1356 [00:21<01:27, 12.68it/s]"
     ]
    },
    {
     "name": "stdout",
     "output_type": "stream",
     "text": [
      "Processed /Users/chy/Projects/Thesis/mfcc/tt0109035_mfcc.png with feature shape: torch.Size([1, 197, 768])\n",
      "Processed /Users/chy/Projects/Thesis/mfcc/tt0115678_mfcc.png with feature shape: torch.Size([1, 197, 768])\n",
      "Processed /Users/chy/Projects/Thesis/mfcc/tt0478303_mfcc.png with feature shape: torch.Size([1, 197, 768])\n"
     ]
    },
    {
     "name": "stderr",
     "output_type": "stream",
     "text": [
      " 19%|█▊        | 254/1356 [00:21<01:26, 12.74it/s]"
     ]
    },
    {
     "name": "stdout",
     "output_type": "stream",
     "text": [
      "Processed /Users/chy/Projects/Thesis/mfcc/tt0139699_mfcc.png with feature shape: torch.Size([1, 197, 768])\n",
      "Processed /Users/chy/Projects/Thesis/mfcc/tt0113010_mfcc.png with feature shape: torch.Size([1, 197, 768])\n",
      "Processed /Users/chy/Projects/Thesis/mfcc/tt0498348_mfcc.png with feature shape: torch.Size([1, 197, 768])\n"
     ]
    },
    {
     "name": "stderr",
     "output_type": "stream",
     "text": [
      " 19%|█▉        | 256/1356 [00:21<01:25, 12.81it/s]"
     ]
    },
    {
     "name": "stdout",
     "output_type": "stream",
     "text": [
      "Processed /Users/chy/Projects/Thesis/mfcc/tt1220617_mfcc.png with feature shape: torch.Size([1, 197, 768])\n",
      "Processed /Users/chy/Projects/Thesis/mfcc/tt3381008_mfcc.png with feature shape: torch.Size([1, 197, 768])\n",
      "Processed /Users/chy/Projects/Thesis/mfcc/tt0332452_mfcc.png with feature shape: torch.Size([1, 197, 768])\n"
     ]
    },
    {
     "name": "stderr",
     "output_type": "stream",
     "text": [
      " 19%|█▉        | 258/1356 [00:21<01:25, 12.87it/s]"
     ]
    },
    {
     "name": "stdout",
     "output_type": "stream",
     "text": [
      "Processed /Users/chy/Projects/Thesis/mfcc/tt0491203_mfcc.png with feature shape: torch.Size([1, 197, 768])\n",
      "Processed /Users/chy/Projects/Thesis/mfcc/tt0087998_mfcc.png with feature shape: torch.Size([1, 197, 768])\n"
     ]
    },
    {
     "name": "stderr",
     "output_type": "stream",
     "text": [
      " 19%|█▉        | 262/1356 [00:22<01:31, 12.01it/s]"
     ]
    },
    {
     "name": "stdout",
     "output_type": "stream",
     "text": [
      "Processed /Users/chy/Projects/Thesis/mfcc/tt2718440_mfcc.png with feature shape: torch.Size([1, 197, 768])\n",
      "Processed /Users/chy/Projects/Thesis/mfcc/tt0082367_mfcc.png with feature shape: torch.Size([1, 197, 768])\n",
      "Processed /Users/chy/Projects/Thesis/mfcc/tt1142800_mfcc.png with feature shape: torch.Size([1, 197, 768])\n"
     ]
    },
    {
     "name": "stderr",
     "output_type": "stream",
     "text": [
      " 19%|█▉        | 264/1356 [00:22<01:27, 12.51it/s]"
     ]
    },
    {
     "name": "stdout",
     "output_type": "stream",
     "text": [
      "Processed /Users/chy/Projects/Thesis/mfcc/tt1524930_mfcc.png with feature shape: torch.Size([1, 197, 768])\n",
      "Processed /Users/chy/Projects/Thesis/mfcc/tt0365737_mfcc.png with feature shape: torch.Size([1, 197, 768])\n",
      "Processed /Users/chy/Projects/Thesis/mfcc/tt1855199_mfcc.png with feature shape: torch.Size([1, 197, 768])\n"
     ]
    },
    {
     "name": "stderr",
     "output_type": "stream",
     "text": [
      " 20%|█▉        | 268/1356 [00:22<01:25, 12.74it/s]"
     ]
    },
    {
     "name": "stdout",
     "output_type": "stream",
     "text": [
      "Processed /Users/chy/Projects/Thesis/mfcc/tt2870612_mfcc.png with feature shape: torch.Size([1, 197, 768])\n",
      "Processed /Users/chy/Projects/Thesis/mfcc/tt0810913_mfcc.png with feature shape: torch.Size([1, 197, 768])\n",
      "Processed /Users/chy/Projects/Thesis/mfcc/tt0066344_mfcc.png with feature shape: torch.Size([1, 197, 768])\n"
     ]
    },
    {
     "name": "stderr",
     "output_type": "stream",
     "text": [
      " 20%|█▉        | 270/1356 [00:22<01:24, 12.89it/s]"
     ]
    },
    {
     "name": "stdout",
     "output_type": "stream",
     "text": [
      "Processed /Users/chy/Projects/Thesis/mfcc/tt0332047_mfcc.png with feature shape: torch.Size([1, 197, 768])\n",
      "Processed /Users/chy/Projects/Thesis/mfcc/tt2965466_mfcc.png with feature shape: torch.Size([1, 197, 768])\n",
      "Processed /Users/chy/Projects/Thesis/mfcc/tt1961175_mfcc.png with feature shape: torch.Size([1, 197, 768])\n"
     ]
    },
    {
     "name": "stderr",
     "output_type": "stream",
     "text": [
      " 20%|██        | 272/1356 [00:23<01:23, 13.05it/s]"
     ]
    },
    {
     "name": "stdout",
     "output_type": "stream",
     "text": [
      "Processed /Users/chy/Projects/Thesis/mfcc/tt1145144_mfcc.png with feature shape: torch.Size([1, 197, 768])\n",
      "Processed /Users/chy/Projects/Thesis/mfcc/tt0442933_mfcc.png with feature shape: torch.Size([1, 197, 768])\n"
     ]
    },
    {
     "name": "stderr",
     "output_type": "stream",
     "text": [
      " 20%|██        | 276/1356 [00:23<01:31, 11.85it/s]"
     ]
    },
    {
     "name": "stdout",
     "output_type": "stream",
     "text": [
      "Processed /Users/chy/Projects/Thesis/mfcc/tt1046947_mfcc.png with feature shape: torch.Size([1, 197, 768])\n",
      "Processed /Users/chy/Projects/Thesis/mfcc/tt0816436_mfcc.png with feature shape: torch.Size([1, 197, 768])\n",
      "Processed /Users/chy/Projects/Thesis/mfcc/tt0120804_mfcc.png with feature shape: torch.Size([1, 197, 768])\n",
      "Processed /Users/chy/Projects/Thesis/mfcc/tt0867591_mfcc.png with feature shape: torch.Size([1, 197, 768])\n"
     ]
    },
    {
     "name": "stderr",
     "output_type": "stream",
     "text": [
      " 21%|██        | 280/1356 [00:23<01:28, 12.19it/s]"
     ]
    },
    {
     "name": "stdout",
     "output_type": "stream",
     "text": [
      "Processed /Users/chy/Projects/Thesis/mfcc/tt1742334_mfcc.png with feature shape: torch.Size([1, 197, 768])\n",
      "Processed /Users/chy/Projects/Thesis/mfcc/tt0084787_mfcc.png with feature shape: torch.Size([1, 197, 768])\n",
      "Processed /Users/chy/Projects/Thesis/mfcc/tt0374277_mfcc.png with feature shape: torch.Size([1, 197, 768])\n"
     ]
    },
    {
     "name": "stderr",
     "output_type": "stream",
     "text": [
      " 21%|██        | 282/1356 [00:23<01:28, 12.14it/s]"
     ]
    },
    {
     "name": "stdout",
     "output_type": "stream",
     "text": [
      "Processed /Users/chy/Projects/Thesis/mfcc/tt0923752_mfcc.png with feature shape: torch.Size([1, 197, 768])\n",
      "Processed /Users/chy/Projects/Thesis/mfcc/tt0811138_mfcc.png with feature shape: torch.Size([1, 197, 768])\n",
      "Processed /Users/chy/Projects/Thesis/mfcc/tt0762121_mfcc.png with feature shape: torch.Size([1, 197, 768])\n"
     ]
    },
    {
     "name": "stderr",
     "output_type": "stream",
     "text": [
      " 21%|██        | 286/1356 [00:24<01:27, 12.21it/s]"
     ]
    },
    {
     "name": "stdout",
     "output_type": "stream",
     "text": [
      "Processed /Users/chy/Projects/Thesis/mfcc/tt2404463_mfcc.png with feature shape: torch.Size([1, 197, 768])\n",
      "Processed /Users/chy/Projects/Thesis/mfcc/tt0910934_mfcc.png with feature shape: torch.Size([1, 197, 768])\n",
      "Processed /Users/chy/Projects/Thesis/mfcc/tt0996979_mfcc.png with feature shape: torch.Size([1, 197, 768])\n"
     ]
    },
    {
     "name": "stderr",
     "output_type": "stream",
     "text": [
      " 21%|██        | 288/1356 [00:24<01:25, 12.50it/s]"
     ]
    },
    {
     "name": "stdout",
     "output_type": "stream",
     "text": [
      "Processed /Users/chy/Projects/Thesis/mfcc/tt0373416_mfcc.png with feature shape: torch.Size([1, 197, 768])\n",
      "Processed /Users/chy/Projects/Thesis/mfcc/tt0079714_mfcc.png with feature shape: torch.Size([1, 197, 768])\n",
      "Processed /Users/chy/Projects/Thesis/mfcc/tt0141369_mfcc.png with feature shape: torch.Size([1, 197, 768])\n"
     ]
    },
    {
     "name": "stderr",
     "output_type": "stream",
     "text": [
      " 21%|██▏       | 290/1356 [00:24<01:32, 11.52it/s]"
     ]
    },
    {
     "name": "stdout",
     "output_type": "stream",
     "text": [
      "Processed /Users/chy/Projects/Thesis/mfcc/tt0936501_mfcc.png with feature shape: torch.Size([1, 197, 768])\n",
      "Processed /Users/chy/Projects/Thesis/mfcc/tt0432291_mfcc.png with feature shape: torch.Size([1, 197, 768])\n"
     ]
    },
    {
     "name": "stderr",
     "output_type": "stream",
     "text": [
      " 22%|██▏       | 294/1356 [00:24<01:26, 12.34it/s]"
     ]
    },
    {
     "name": "stdout",
     "output_type": "stream",
     "text": [
      "Processed /Users/chy/Projects/Thesis/mfcc/tt0299117_mfcc.png with feature shape: torch.Size([1, 197, 768])\n",
      "Processed /Users/chy/Projects/Thesis/mfcc/tt0118541_mfcc.png with feature shape: torch.Size([1, 197, 768])\n",
      "Processed /Users/chy/Projects/Thesis/mfcc/tt0393109_mfcc.png with feature shape: torch.Size([1, 197, 768])\n",
      "Processed /Users/chy/Projects/Thesis/mfcc/tt1047494_mfcc.png with feature shape: torch.Size([1, 197, 768])\n"
     ]
    },
    {
     "name": "stderr",
     "output_type": "stream",
     "text": [
      " 22%|██▏       | 298/1356 [00:25<01:23, 12.71it/s]"
     ]
    },
    {
     "name": "stdout",
     "output_type": "stream",
     "text": [
      "Processed /Users/chy/Projects/Thesis/mfcc/tt1128071_mfcc.png with feature shape: torch.Size([1, 197, 768])\n",
      "Processed /Users/chy/Projects/Thesis/mfcc/tt0499570_mfcc.png with feature shape: torch.Size([1, 197, 768])\n",
      "Processed /Users/chy/Projects/Thesis/mfcc/tt0330136_mfcc.png with feature shape: torch.Size([1, 197, 768])\n"
     ]
    },
    {
     "name": "stderr",
     "output_type": "stream",
     "text": [
      " 22%|██▏       | 300/1356 [00:25<01:22, 12.77it/s]"
     ]
    },
    {
     "name": "stdout",
     "output_type": "stream",
     "text": [
      "Processed /Users/chy/Projects/Thesis/mfcc/tt0319343_mfcc.png with feature shape: torch.Size([1, 197, 768])\n",
      "Processed /Users/chy/Projects/Thesis/mfcc/tt4454078_mfcc.png with feature shape: torch.Size([1, 197, 768])\n",
      "Processed /Users/chy/Projects/Thesis/mfcc/tt0298408_mfcc.png with feature shape: torch.Size([1, 197, 768])\n"
     ]
    },
    {
     "name": "stderr",
     "output_type": "stream",
     "text": [
      " 22%|██▏       | 304/1356 [00:25<01:21, 12.83it/s]"
     ]
    },
    {
     "name": "stdout",
     "output_type": "stream",
     "text": [
      "Processed /Users/chy/Projects/Thesis/mfcc/tt0457572_mfcc.png with feature shape: torch.Size([1, 197, 768])\n",
      "Processed /Users/chy/Projects/Thesis/mfcc/tt2215151_mfcc.png with feature shape: torch.Size([1, 197, 768])\n",
      "Processed /Users/chy/Projects/Thesis/mfcc/tt2926810_mfcc.png with feature shape: torch.Size([1, 197, 768])\n"
     ]
    },
    {
     "name": "stderr",
     "output_type": "stream",
     "text": [
      " 23%|██▎       | 306/1356 [00:25<01:34, 11.09it/s]"
     ]
    },
    {
     "name": "stdout",
     "output_type": "stream",
     "text": [
      "Processed /Users/chy/Projects/Thesis/mfcc/tt0952682_mfcc.png with feature shape: torch.Size([1, 197, 768])\n",
      "Processed /Users/chy/Projects/Thesis/mfcc/tt0113870_mfcc.png with feature shape: torch.Size([1, 197, 768])\n",
      "Processed /Users/chy/Projects/Thesis/mfcc/tt0164212_mfcc.png with feature shape: torch.Size([1, 197, 768])\n",
      "Processed /Users/chy/Projects/Thesis/mfcc/tt0120616_mfcc.png with feature shape: torch.Size([1, 197, 768])\n"
     ]
    },
    {
     "name": "stderr",
     "output_type": "stream",
     "text": [
      " 23%|██▎       | 310/1356 [00:26<01:24, 12.33it/s]"
     ]
    },
    {
     "name": "stdout",
     "output_type": "stream",
     "text": [
      "Processed /Users/chy/Projects/Thesis/mfcc/tt0096969_mfcc.png with feature shape: torch.Size([1, 197, 768])\n",
      "Processed /Users/chy/Projects/Thesis/mfcc/tt0129167_mfcc.png with feature shape: torch.Size([1, 197, 768])\n",
      "Processed /Users/chy/Projects/Thesis/mfcc/tt0196158_mfcc.png with feature shape: torch.Size([1, 197, 768])\n"
     ]
    },
    {
     "name": "stderr",
     "output_type": "stream",
     "text": [
      " 23%|██▎       | 314/1356 [00:26<01:22, 12.69it/s]"
     ]
    },
    {
     "name": "stdout",
     "output_type": "stream",
     "text": [
      "Processed /Users/chy/Projects/Thesis/mfcc/tt2822672_mfcc.png with feature shape: torch.Size([1, 197, 768])\n",
      "Processed /Users/chy/Projects/Thesis/mfcc/tt3559422_mfcc.png with feature shape: torch.Size([1, 197, 768])\n",
      "Processed /Users/chy/Projects/Thesis/mfcc/tt1493828_mfcc.png with feature shape: torch.Size([1, 197, 768])\n"
     ]
    },
    {
     "name": "stderr",
     "output_type": "stream",
     "text": [
      " 23%|██▎       | 316/1356 [00:26<01:22, 12.61it/s]"
     ]
    },
    {
     "name": "stdout",
     "output_type": "stream",
     "text": [
      "Processed /Users/chy/Projects/Thesis/mfcc/tt0399095_mfcc.png with feature shape: torch.Size([1, 197, 768])\n",
      "Processed /Users/chy/Projects/Thesis/mfcc/tt4552524_mfcc.png with feature shape: torch.Size([1, 197, 768])\n",
      "Processed /Users/chy/Projects/Thesis/mfcc/tt1637725_mfcc.png with feature shape: torch.Size([1, 197, 768])\n"
     ]
    },
    {
     "name": "stderr",
     "output_type": "stream",
     "text": [
      " 24%|██▎       | 320/1356 [00:26<01:21, 12.73it/s]"
     ]
    },
    {
     "name": "stdout",
     "output_type": "stream",
     "text": [
      "Processed /Users/chy/Projects/Thesis/mfcc/tt0141926_mfcc.png with feature shape: torch.Size([1, 197, 768])\n",
      "Processed /Users/chy/Projects/Thesis/mfcc/tt0081459_mfcc.png with feature shape: torch.Size([1, 197, 768])\n",
      "Processed /Users/chy/Projects/Thesis/mfcc/tt1366344_mfcc.png with feature shape: torch.Size([1, 197, 768])\n"
     ]
    },
    {
     "name": "stderr",
     "output_type": "stream",
     "text": [
      " 24%|██▎       | 322/1356 [00:27<01:32, 11.16it/s]"
     ]
    },
    {
     "name": "stdout",
     "output_type": "stream",
     "text": [
      "Processed /Users/chy/Projects/Thesis/mfcc/tt1430077_mfcc.png with feature shape: torch.Size([1, 197, 768])\n",
      "Processed /Users/chy/Projects/Thesis/mfcc/tt1879032_mfcc.png with feature shape: torch.Size([1, 197, 768])\n",
      "Processed /Users/chy/Projects/Thesis/mfcc/tt0398286_mfcc.png with feature shape: torch.Size([1, 197, 768])\n"
     ]
    },
    {
     "name": "stderr",
     "output_type": "stream",
     "text": [
      " 24%|██▍       | 326/1356 [00:27<01:23, 12.35it/s]"
     ]
    },
    {
     "name": "stdout",
     "output_type": "stream",
     "text": [
      "Processed /Users/chy/Projects/Thesis/mfcc/tt3832914_mfcc.png with feature shape: torch.Size([1, 197, 768])\n",
      "Processed /Users/chy/Projects/Thesis/mfcc/tt0410097_mfcc.png with feature shape: torch.Size([1, 197, 768])\n",
      "Processed /Users/chy/Projects/Thesis/mfcc/tt0276919_mfcc.png with feature shape: torch.Size([1, 197, 768])\n"
     ]
    },
    {
     "name": "stderr",
     "output_type": "stream",
     "text": [
      " 24%|██▍       | 328/1356 [00:27<01:22, 12.48it/s]"
     ]
    },
    {
     "name": "stdout",
     "output_type": "stream",
     "text": [
      "Processed /Users/chy/Projects/Thesis/mfcc/tt0114694_mfcc.png with feature shape: torch.Size([1, 197, 768])\n",
      "Processed /Users/chy/Projects/Thesis/mfcc/tt0425061_mfcc.png with feature shape: torch.Size([1, 197, 768])\n",
      "Processed /Users/chy/Projects/Thesis/mfcc/tt6251024_mfcc.png with feature shape: torch.Size([1, 197, 768])\n"
     ]
    },
    {
     "name": "stderr",
     "output_type": "stream",
     "text": [
      " 24%|██▍       | 332/1356 [00:27<01:21, 12.49it/s]"
     ]
    },
    {
     "name": "stdout",
     "output_type": "stream",
     "text": [
      "Processed /Users/chy/Projects/Thesis/mfcc/tt0785007_mfcc.png with feature shape: torch.Size([1, 197, 768])\n",
      "Processed /Users/chy/Projects/Thesis/mfcc/tt0147800_mfcc.png with feature shape: torch.Size([1, 197, 768])\n",
      "Processed /Users/chy/Projects/Thesis/mfcc/tt1308728_mfcc.png with feature shape: torch.Size([1, 197, 768])\n"
     ]
    },
    {
     "name": "stderr",
     "output_type": "stream",
     "text": [
      " 25%|██▍       | 334/1356 [00:28<01:21, 12.60it/s]"
     ]
    },
    {
     "name": "stdout",
     "output_type": "stream",
     "text": [
      "Processed /Users/chy/Projects/Thesis/mfcc/tt1031280_mfcc.png with feature shape: torch.Size([1, 197, 768])\n",
      "Processed /Users/chy/Projects/Thesis/mfcc/tt1362103_mfcc.png with feature shape: torch.Size([1, 197, 768])\n"
     ]
    },
    {
     "name": "stderr",
     "output_type": "stream",
     "text": [
      " 25%|██▍       | 338/1356 [00:28<01:29, 11.37it/s]"
     ]
    },
    {
     "name": "stdout",
     "output_type": "stream",
     "text": [
      "Processed /Users/chy/Projects/Thesis/mfcc/tt0162661_mfcc.png with feature shape: torch.Size([1, 197, 768])\n",
      "Processed /Users/chy/Projects/Thesis/mfcc/tt0339034_mfcc.png with feature shape: torch.Size([1, 197, 768])\n",
      "Processed /Users/chy/Projects/Thesis/mfcc/tt1185836_mfcc.png with feature shape: torch.Size([1, 197, 768])\n",
      "Processed /Users/chy/Projects/Thesis/mfcc/tt7390588_mfcc.png with feature shape: torch.Size([1, 197, 768])\n"
     ]
    },
    {
     "name": "stderr",
     "output_type": "stream",
     "text": [
      " 25%|██▌       | 340/1356 [00:28<01:24, 12.04it/s]"
     ]
    },
    {
     "name": "stdout",
     "output_type": "stream",
     "text": [
      "Processed /Users/chy/Projects/Thesis/mfcc/tt0337579_mfcc.png with feature shape: torch.Size([1, 197, 768])\n",
      "Processed /Users/chy/Projects/Thesis/mfcc/tt1094661_mfcc.png with feature shape: torch.Size([1, 197, 768])\n",
      "Processed /Users/chy/Projects/Thesis/mfcc/tt0112495_mfcc.png with feature shape: torch.Size([1, 197, 768])\n"
     ]
    },
    {
     "name": "stderr",
     "output_type": "stream",
     "text": [
      " 25%|██▌       | 344/1356 [00:28<01:21, 12.43it/s]"
     ]
    },
    {
     "name": "stdout",
     "output_type": "stream",
     "text": [
      "Processed /Users/chy/Projects/Thesis/mfcc/tt7798634_mfcc.png with feature shape: torch.Size([1, 197, 768])\n",
      "Processed /Users/chy/Projects/Thesis/mfcc/tt1135985_mfcc.png with feature shape: torch.Size([1, 197, 768])\n",
      "Processed /Users/chy/Projects/Thesis/mfcc/tt1956620_mfcc.png with feature shape: torch.Size([1, 197, 768])\n"
     ]
    },
    {
     "name": "stderr",
     "output_type": "stream",
     "text": [
      " 26%|██▌       | 346/1356 [00:29<01:20, 12.48it/s]"
     ]
    },
    {
     "name": "stdout",
     "output_type": "stream",
     "text": [
      "Processed /Users/chy/Projects/Thesis/mfcc/tt1712261_mfcc.png with feature shape: torch.Size([1, 197, 768])\n",
      "Processed /Users/chy/Projects/Thesis/mfcc/tt0040662_mfcc.png with feature shape: torch.Size([1, 197, 768])\n",
      "Processed /Users/chy/Projects/Thesis/mfcc/tt0246677_mfcc.png with feature shape: torch.Size([1, 197, 768])\n"
     ]
    },
    {
     "name": "stderr",
     "output_type": "stream",
     "text": [
      " 26%|██▌       | 350/1356 [00:29<01:18, 12.83it/s]"
     ]
    },
    {
     "name": "stdout",
     "output_type": "stream",
     "text": [
      "Processed /Users/chy/Projects/Thesis/mfcc/tt0470993_mfcc.png with feature shape: torch.Size([1, 197, 768])\n",
      "Processed /Users/chy/Projects/Thesis/mfcc/tt4649466_mfcc.png with feature shape: torch.Size([1, 197, 768])\n",
      "Processed /Users/chy/Projects/Thesis/mfcc/tt1650056_mfcc.png with feature shape: torch.Size([1, 197, 768])\n"
     ]
    },
    {
     "name": "stderr",
     "output_type": "stream",
     "text": [
      " 26%|██▌       | 352/1356 [00:29<01:31, 11.03it/s]"
     ]
    },
    {
     "name": "stdout",
     "output_type": "stream",
     "text": [
      "Processed /Users/chy/Projects/Thesis/mfcc/tt0091949_mfcc.png with feature shape: torch.Size([1, 197, 768])\n",
      "Processed /Users/chy/Projects/Thesis/mfcc/tt0120591_mfcc.png with feature shape: torch.Size([1, 197, 768])\n"
     ]
    },
    {
     "name": "stderr",
     "output_type": "stream",
     "text": [
      " 26%|██▌       | 354/1356 [00:29<01:24, 11.92it/s]"
     ]
    },
    {
     "name": "stdout",
     "output_type": "stream",
     "text": [
      "Processed /Users/chy/Projects/Thesis/mfcc/tt0246989_mfcc.png with feature shape: torch.Size([1, 197, 768])\n",
      "Processed /Users/chy/Projects/Thesis/mfcc/tt0338466_mfcc.png with feature shape: torch.Size([1, 197, 768])\n",
      "Processed /Users/chy/Projects/Thesis/mfcc/tt7634968_mfcc.png with feature shape: torch.Size([1, 197, 768])\n"
     ]
    },
    {
     "name": "stderr",
     "output_type": "stream",
     "text": [
      " 26%|██▋       | 358/1356 [00:30<01:21, 12.29it/s]"
     ]
    },
    {
     "name": "stdout",
     "output_type": "stream",
     "text": [
      "Processed /Users/chy/Projects/Thesis/mfcc/tt1159961_mfcc.png with feature shape: torch.Size([1, 197, 768])\n",
      "Processed /Users/chy/Projects/Thesis/mfcc/tt0206420_mfcc.png with feature shape: torch.Size([1, 197, 768])\n",
      "Processed /Users/chy/Projects/Thesis/mfcc/tt0903135_mfcc.png with feature shape: torch.Size([1, 197, 768])\n"
     ]
    },
    {
     "name": "stderr",
     "output_type": "stream",
     "text": [
      " 27%|██▋       | 360/1356 [00:30<01:20, 12.43it/s]"
     ]
    },
    {
     "name": "stdout",
     "output_type": "stream",
     "text": [
      "Processed /Users/chy/Projects/Thesis/mfcc/tt0391198_mfcc.png with feature shape: torch.Size([1, 197, 768])\n",
      "Processed /Users/chy/Projects/Thesis/mfcc/tt0261983_mfcc.png with feature shape: torch.Size([1, 197, 768])\n",
      "Processed /Users/chy/Projects/Thesis/mfcc/tt1198405_mfcc.png with feature shape: torch.Size([1, 197, 768])\n"
     ]
    },
    {
     "name": "stderr",
     "output_type": "stream",
     "text": [
      " 27%|██▋       | 364/1356 [00:30<01:18, 12.61it/s]"
     ]
    },
    {
     "name": "stdout",
     "output_type": "stream",
     "text": [
      "Processed /Users/chy/Projects/Thesis/mfcc/tt1093824_mfcc.png with feature shape: torch.Size([1, 197, 768])\n",
      "Processed /Users/chy/Projects/Thesis/mfcc/tt0339412_mfcc.png with feature shape: torch.Size([1, 197, 768])\n",
      "Processed /Users/chy/Projects/Thesis/mfcc/tt0115641_mfcc.png with feature shape: torch.Size([1, 197, 768])\n"
     ]
    },
    {
     "name": "stderr",
     "output_type": "stream",
     "text": [
      " 27%|██▋       | 366/1356 [00:30<01:33, 10.59it/s]"
     ]
    },
    {
     "name": "stdout",
     "output_type": "stream",
     "text": [
      "Processed /Users/chy/Projects/Thesis/mfcc/tt0421073_mfcc.png with feature shape: torch.Size([1, 197, 768])\n",
      "Processed /Users/chy/Projects/Thesis/mfcc/tt0303361_mfcc.png with feature shape: torch.Size([1, 197, 768])\n",
      "Processed /Users/chy/Projects/Thesis/mfcc/tt1772341_mfcc.png with feature shape: torch.Size([1, 197, 768])\n",
      "Processed /Users/chy/Projects/Thesis/mfcc/tt0118158_mfcc.png with feature shape: torch.Size([1, 197, 768])\n"
     ]
    },
    {
     "name": "stderr",
     "output_type": "stream",
     "text": [
      " 27%|██▋       | 370/1356 [00:31<01:21, 12.08it/s]"
     ]
    },
    {
     "name": "stdout",
     "output_type": "stream",
     "text": [
      "Processed /Users/chy/Projects/Thesis/mfcc/tt1097013_mfcc.png with feature shape: torch.Size([1, 197, 768])\n",
      "Processed /Users/chy/Projects/Thesis/mfcc/tt0083131_mfcc.png with feature shape: torch.Size([1, 197, 768])\n",
      "Processed /Users/chy/Projects/Thesis/mfcc/tt1081942_mfcc.png with feature shape: torch.Size([1, 197, 768])\n"
     ]
    },
    {
     "name": "stderr",
     "output_type": "stream",
     "text": [
      " 28%|██▊       | 374/1356 [00:31<01:21, 12.01it/s]"
     ]
    },
    {
     "name": "stdout",
     "output_type": "stream",
     "text": [
      "Processed /Users/chy/Projects/Thesis/mfcc/tt1055369_mfcc.png with feature shape: torch.Size([1, 197, 768])\n",
      "Processed /Users/chy/Projects/Thesis/mfcc/tt0475417_mfcc.png with feature shape: torch.Size([1, 197, 768])\n",
      "Processed /Users/chy/Projects/Thesis/mfcc/tt4191054_mfcc.png with feature shape: torch.Size([1, 197, 768])\n"
     ]
    },
    {
     "name": "stderr",
     "output_type": "stream",
     "text": [
      " 28%|██▊       | 376/1356 [00:31<01:21, 11.99it/s]"
     ]
    },
    {
     "name": "stdout",
     "output_type": "stream",
     "text": [
      "Processed /Users/chy/Projects/Thesis/mfcc/tt0245562_mfcc.png with feature shape: torch.Size([1, 197, 768])\n",
      "Processed /Users/chy/Projects/Thesis/mfcc/tt0461770_mfcc.png with feature shape: torch.Size([1, 197, 768])\n"
     ]
    },
    {
     "name": "stderr",
     "output_type": "stream",
     "text": [
      " 28%|██▊       | 378/1356 [00:31<01:24, 11.54it/s]"
     ]
    },
    {
     "name": "stdout",
     "output_type": "stream",
     "text": [
      "Processed /Users/chy/Projects/Thesis/mfcc/tt2872718_mfcc.png with feature shape: torch.Size([1, 197, 768])\n",
      "Processed /Users/chy/Projects/Thesis/mfcc/tt1866197_mfcc.png with feature shape: torch.Size([1, 197, 768])\n",
      "Processed /Users/chy/Projects/Thesis/mfcc/tt1302011_mfcc.png with feature shape: torch.Size([1, 197, 768])\n"
     ]
    },
    {
     "name": "stderr",
     "output_type": "stream",
     "text": [
      " 28%|██▊       | 380/1356 [00:31<01:20, 12.16it/s]"
     ]
    },
    {
     "name": "stdout",
     "output_type": "stream",
     "text": [
      "Processed /Users/chy/Projects/Thesis/mfcc/tt0163187_mfcc.png with feature shape: torch.Size([1, 197, 768])\n",
      "Processed /Users/chy/Projects/Thesis/mfcc/tt2210463_mfcc.png with feature shape: torch.Size([1, 197, 768])\n"
     ]
    },
    {
     "name": "stderr",
     "output_type": "stream",
     "text": [
      " 28%|██▊       | 384/1356 [00:32<01:20, 12.12it/s]"
     ]
    },
    {
     "name": "stdout",
     "output_type": "stream",
     "text": [
      "Processed /Users/chy/Projects/Thesis/mfcc/tt0489282_mfcc.png with feature shape: torch.Size([1, 197, 768])\n",
      "Processed /Users/chy/Projects/Thesis/mfcc/tt0134084_mfcc.png with feature shape: torch.Size([1, 197, 768])\n",
      "Processed /Users/chy/Projects/Thesis/mfcc/tt1373406_mfcc.png with feature shape: torch.Size([1, 197, 768])\n"
     ]
    },
    {
     "name": "stderr",
     "output_type": "stream",
     "text": [
      " 28%|██▊       | 386/1356 [00:32<01:19, 12.21it/s]"
     ]
    },
    {
     "name": "stdout",
     "output_type": "stream",
     "text": [
      "Processed /Users/chy/Projects/Thesis/mfcc/tt1116186_mfcc.png with feature shape: torch.Size([1, 197, 768])\n",
      "Processed /Users/chy/Projects/Thesis/mfcc/tt1655460_mfcc.png with feature shape: torch.Size([1, 197, 768])\n",
      "Processed /Users/chy/Projects/Thesis/mfcc/tt0829482_mfcc.png with feature shape: torch.Size([1, 197, 768])\n"
     ]
    },
    {
     "name": "stderr",
     "output_type": "stream",
     "text": [
      " 29%|██▊       | 388/1356 [00:32<01:18, 12.28it/s]"
     ]
    },
    {
     "name": "stdout",
     "output_type": "stream",
     "text": [
      "Processed /Users/chy/Projects/Thesis/mfcc/tt0861730_mfcc.png with feature shape: torch.Size([1, 197, 768])\n",
      "Processed /Users/chy/Projects/Thesis/mfcc/tt0790604_mfcc.png with feature shape: torch.Size([1, 197, 768])\n",
      "Processed /Users/chy/Projects/Thesis/mfcc/tt0286306_mfcc.png with feature shape: torch.Size([1, 197, 768])\n"
     ]
    },
    {
     "name": "stderr",
     "output_type": "stream",
     "text": [
      " 29%|██▉       | 392/1356 [00:32<01:20, 11.99it/s]"
     ]
    },
    {
     "name": "stdout",
     "output_type": "stream",
     "text": [
      "Processed /Users/chy/Projects/Thesis/mfcc/tt0092546_mfcc.png with feature shape: torch.Size([1, 197, 768])\n",
      "Processed /Users/chy/Projects/Thesis/mfcc/tt1631707_mfcc.png with feature shape: torch.Size([1, 197, 768])\n",
      "Processed /Users/chy/Projects/Thesis/mfcc/tt1331064_mfcc.png with feature shape: torch.Size([1, 197, 768])\n"
     ]
    },
    {
     "name": "stderr",
     "output_type": "stream",
     "text": [
      " 29%|██▉       | 394/1356 [00:33<01:19, 12.04it/s]"
     ]
    },
    {
     "name": "stdout",
     "output_type": "stream",
     "text": [
      "Processed /Users/chy/Projects/Thesis/mfcc/tt1302067_mfcc.png with feature shape: torch.Size([1, 197, 768])\n",
      "Processed /Users/chy/Projects/Thesis/mfcc/tt0304711_mfcc.png with feature shape: torch.Size([1, 197, 768])\n"
     ]
    },
    {
     "name": "stderr",
     "output_type": "stream",
     "text": [
      " 29%|██▉       | 398/1356 [00:33<01:25, 11.18it/s]"
     ]
    },
    {
     "name": "stdout",
     "output_type": "stream",
     "text": [
      "Processed /Users/chy/Projects/Thesis/mfcc/tt0449089_mfcc.png with feature shape: torch.Size([1, 197, 768])\n",
      "Processed /Users/chy/Projects/Thesis/mfcc/tt0311941_mfcc.png with feature shape: torch.Size([1, 197, 768])\n",
      "Processed /Users/chy/Projects/Thesis/mfcc/tt2072233_mfcc.png with feature shape: torch.Size([1, 197, 768])\n",
      "Processed /Users/chy/Projects/Thesis/mfcc/tt0170691_mfcc.png with feature shape: torch.Size([1, 197, 768])\n"
     ]
    },
    {
     "name": "stderr",
     "output_type": "stream",
     "text": [
      " 30%|██▉       | 402/1356 [00:33<01:20, 11.90it/s]"
     ]
    },
    {
     "name": "stdout",
     "output_type": "stream",
     "text": [
      "Processed /Users/chy/Projects/Thesis/mfcc/tt0078788_mfcc.png with feature shape: torch.Size([1, 197, 768])\n",
      "Processed /Users/chy/Projects/Thesis/mfcc/tt1647668_mfcc.png with feature shape: torch.Size([1, 197, 768])\n",
      "Processed /Users/chy/Projects/Thesis/mfcc/tt0079540_mfcc.png with feature shape: torch.Size([1, 197, 768])\n"
     ]
    },
    {
     "name": "stderr",
     "output_type": "stream",
     "text": [
      " 30%|██▉       | 404/1356 [00:34<01:19, 11.98it/s]"
     ]
    },
    {
     "name": "stdout",
     "output_type": "stream",
     "text": [
      "Processed /Users/chy/Projects/Thesis/mfcc/tt1646971_mfcc.png with feature shape: torch.Size([1, 197, 768])\n",
      "Processed /Users/chy/Projects/Thesis/mfcc/tt2298990_mfcc.png with feature shape: torch.Size([1, 197, 768])\n",
      "Processed /Users/chy/Projects/Thesis/mfcc/tt0314630_mfcc.png with feature shape: torch.Size([1, 197, 768])\n"
     ]
    },
    {
     "name": "stderr",
     "output_type": "stream",
     "text": [
      " 30%|███       | 408/1356 [00:34<01:19, 11.89it/s]"
     ]
    },
    {
     "name": "stdout",
     "output_type": "stream",
     "text": [
      "Processed /Users/chy/Projects/Thesis/mfcc/tt0386588_mfcc.png with feature shape: torch.Size([1, 197, 768])\n",
      "Processed /Users/chy/Projects/Thesis/mfcc/tt0065874_mfcc.png with feature shape: torch.Size([1, 197, 768])\n",
      "Processed /Users/chy/Projects/Thesis/mfcc/tt0088814_mfcc.png with feature shape: torch.Size([1, 197, 768])\n"
     ]
    },
    {
     "name": "stderr",
     "output_type": "stream",
     "text": [
      " 30%|███       | 410/1356 [00:34<01:18, 12.00it/s]"
     ]
    },
    {
     "name": "stdout",
     "output_type": "stream",
     "text": [
      "Processed /Users/chy/Projects/Thesis/mfcc/tt1214983_mfcc.png with feature shape: torch.Size([1, 197, 768])\n",
      "Processed /Users/chy/Projects/Thesis/mfcc/tt1080016_mfcc.png with feature shape: torch.Size([1, 197, 768])\n",
      "Processed /Users/chy/Projects/Thesis/mfcc/tt0109254_mfcc.png with feature shape: torch.Size([1, 197, 768])\n"
     ]
    },
    {
     "name": "stderr",
     "output_type": "stream",
     "text": [
      " 31%|███       | 414/1356 [00:34<01:20, 11.64it/s]"
     ]
    },
    {
     "name": "stdout",
     "output_type": "stream",
     "text": [
      "Processed /Users/chy/Projects/Thesis/mfcc/tt1156398_mfcc.png with feature shape: torch.Size([1, 197, 768])\n",
      "Processed /Users/chy/Projects/Thesis/mfcc/tt1155056_mfcc.png with feature shape: torch.Size([1, 197, 768])\n",
      "Processed /Users/chy/Projects/Thesis/mfcc/tt7650514_mfcc.png with feature shape: torch.Size([1, 197, 768])\n"
     ]
    },
    {
     "name": "stderr",
     "output_type": "stream",
     "text": [
      " 31%|███       | 416/1356 [00:35<01:19, 11.84it/s]"
     ]
    },
    {
     "name": "stdout",
     "output_type": "stream",
     "text": [
      "Processed /Users/chy/Projects/Thesis/mfcc/tt0366551_mfcc.png with feature shape: torch.Size([1, 197, 768])\n",
      "Processed /Users/chy/Projects/Thesis/mfcc/tt0081455_mfcc.png with feature shape: torch.Size([1, 197, 768])\n",
      "Processed /Users/chy/Projects/Thesis/mfcc/tt0815245_mfcc.png with feature shape: torch.Size([1, 197, 768])\n"
     ]
    },
    {
     "name": "stderr",
     "output_type": "stream",
     "text": [
      " 31%|███       | 420/1356 [00:35<01:20, 11.60it/s]"
     ]
    },
    {
     "name": "stdout",
     "output_type": "stream",
     "text": [
      "Processed /Users/chy/Projects/Thesis/mfcc/tt0829459_mfcc.png with feature shape: torch.Size([1, 197, 768])\n",
      "Processed /Users/chy/Projects/Thesis/mfcc/tt0815244_mfcc.png with feature shape: torch.Size([1, 197, 768])\n",
      "Processed /Users/chy/Projects/Thesis/mfcc/tt0318627_mfcc.png with feature shape: torch.Size([1, 197, 768])\n"
     ]
    },
    {
     "name": "stderr",
     "output_type": "stream",
     "text": [
      " 31%|███       | 422/1356 [00:35<01:21, 11.47it/s]"
     ]
    },
    {
     "name": "stdout",
     "output_type": "stream",
     "text": [
      "Processed /Users/chy/Projects/Thesis/mfcc/tt0493405_mfcc.png with feature shape: torch.Size([1, 197, 768])\n",
      "Processed /Users/chy/Projects/Thesis/mfcc/tt0300556_mfcc.png with feature shape: torch.Size([1, 197, 768])\n",
      "Processed /Users/chy/Projects/Thesis/mfcc/tt1606378_mfcc.png with feature shape: torch.Size([1, 197, 768])\n"
     ]
    },
    {
     "name": "stderr",
     "output_type": "stream",
     "text": [
      " 31%|███▏      | 424/1356 [00:35<01:21, 11.43it/s]"
     ]
    },
    {
     "name": "stdout",
     "output_type": "stream",
     "text": [
      "Processed /Users/chy/Projects/Thesis/mfcc/tt2243537_mfcc.png with feature shape: torch.Size([1, 197, 768])\n",
      "Processed /Users/chy/Projects/Thesis/mfcc/tt1700841_mfcc.png with feature shape: torch.Size([1, 197, 768])\n"
     ]
    },
    {
     "name": "stderr",
     "output_type": "stream",
     "text": [
      " 32%|███▏      | 428/1356 [00:36<01:25, 10.86it/s]"
     ]
    },
    {
     "name": "stdout",
     "output_type": "stream",
     "text": [
      "Processed /Users/chy/Projects/Thesis/mfcc/tt0117887_mfcc.png with feature shape: torch.Size([1, 197, 768])\n",
      "Processed /Users/chy/Projects/Thesis/mfcc/tt4669186_mfcc.png with feature shape: torch.Size([1, 197, 768])\n",
      "Processed /Users/chy/Projects/Thesis/mfcc/tt0891592_mfcc.png with feature shape: torch.Size([1, 197, 768])\n"
     ]
    },
    {
     "name": "stderr",
     "output_type": "stream",
     "text": [
      " 32%|███▏      | 430/1356 [00:36<01:22, 11.24it/s]"
     ]
    },
    {
     "name": "stdout",
     "output_type": "stream",
     "text": [
      "Processed /Users/chy/Projects/Thesis/mfcc/tt0420223_mfcc.png with feature shape: torch.Size([1, 197, 768])\n",
      "Processed /Users/chy/Projects/Thesis/mfcc/tt0329717_mfcc.png with feature shape: torch.Size([1, 197, 768])\n",
      "Processed /Users/chy/Projects/Thesis/mfcc/tt3316948_mfcc.png with feature shape: torch.Size([1, 197, 768])\n"
     ]
    },
    {
     "name": "stderr",
     "output_type": "stream",
     "text": [
      " 32%|███▏      | 434/1356 [00:36<01:22, 11.23it/s]"
     ]
    },
    {
     "name": "stdout",
     "output_type": "stream",
     "text": [
      "Processed /Users/chy/Projects/Thesis/mfcc/tt3451230_mfcc.png with feature shape: torch.Size([1, 197, 768])\n",
      "Processed /Users/chy/Projects/Thesis/mfcc/tt0758786_mfcc.png with feature shape: torch.Size([1, 197, 768])\n",
      "Processed /Users/chy/Projects/Thesis/mfcc/tt0821810_mfcc.png with feature shape: torch.Size([1, 197, 768])\n"
     ]
    },
    {
     "name": "stderr",
     "output_type": "stream",
     "text": [
      " 32%|███▏      | 436/1356 [00:36<01:22, 11.11it/s]"
     ]
    },
    {
     "name": "stdout",
     "output_type": "stream",
     "text": [
      "Processed /Users/chy/Projects/Thesis/mfcc/tt1190617_mfcc.png with feature shape: torch.Size([1, 197, 768])\n",
      "Processed /Users/chy/Projects/Thesis/mfcc/tt0375063_mfcc.png with feature shape: torch.Size([1, 197, 768])\n",
      "Processed /Users/chy/Projects/Thesis/mfcc/tt3315342_mfcc.png with feature shape: torch.Size([1, 197, 768])\n"
     ]
    },
    {
     "name": "stderr",
     "output_type": "stream",
     "text": [
      " 32%|███▏      | 440/1356 [00:37<01:23, 10.93it/s]"
     ]
    },
    {
     "name": "stdout",
     "output_type": "stream",
     "text": [
      "Processed /Users/chy/Projects/Thesis/mfcc/tt0259324_mfcc.png with feature shape: torch.Size([1, 197, 768])\n",
      "Processed /Users/chy/Projects/Thesis/mfcc/tt0382189_mfcc.png with feature shape: torch.Size([1, 197, 768])\n",
      "Processed /Users/chy/Projects/Thesis/mfcc/tt0100419_mfcc.png with feature shape: torch.Size([1, 197, 768])\n"
     ]
    },
    {
     "name": "stderr",
     "output_type": "stream",
     "text": [
      " 33%|███▎      | 442/1356 [00:37<01:20, 11.36it/s]"
     ]
    },
    {
     "name": "stdout",
     "output_type": "stream",
     "text": [
      "Processed /Users/chy/Projects/Thesis/mfcc/tt0272338_mfcc.png with feature shape: torch.Size([1, 197, 768])\n",
      "Processed /Users/chy/Projects/Thesis/mfcc/tt0117218_mfcc.png with feature shape: torch.Size([1, 197, 768])\n",
      "Processed /Users/chy/Projects/Thesis/mfcc/tt2978462_mfcc.png with feature shape: torch.Size([1, 197, 768])\n"
     ]
    },
    {
     "name": "stderr",
     "output_type": "stream",
     "text": [
      " 33%|███▎      | 446/1356 [00:37<01:16, 11.83it/s]"
     ]
    },
    {
     "name": "stdout",
     "output_type": "stream",
     "text": [
      "Processed /Users/chy/Projects/Thesis/mfcc/tt0970411_mfcc.png with feature shape: torch.Size([1, 197, 768])\n",
      "Processed /Users/chy/Projects/Thesis/mfcc/tt0382628_mfcc.png with feature shape: torch.Size([1, 197, 768])\n",
      "Processed /Users/chy/Projects/Thesis/mfcc/tt0259484_mfcc.png with feature shape: torch.Size([1, 197, 768])\n"
     ]
    },
    {
     "name": "stderr",
     "output_type": "stream",
     "text": [
      " 33%|███▎      | 448/1356 [00:37<01:15, 12.10it/s]"
     ]
    },
    {
     "name": "stdout",
     "output_type": "stream",
     "text": [
      "Processed /Users/chy/Projects/Thesis/mfcc/tt1384590_mfcc.png with feature shape: torch.Size([1, 197, 768])\n",
      "Processed /Users/chy/Projects/Thesis/mfcc/tt0414055_mfcc.png with feature shape: torch.Size([1, 197, 768])\n",
      "Processed /Users/chy/Projects/Thesis/mfcc/tt0765429_mfcc.png with feature shape: torch.Size([1, 197, 768])\n"
     ]
    },
    {
     "name": "stderr",
     "output_type": "stream",
     "text": [
      " 33%|███▎      | 452/1356 [00:38<01:12, 12.50it/s]"
     ]
    },
    {
     "name": "stdout",
     "output_type": "stream",
     "text": [
      "Processed /Users/chy/Projects/Thesis/mfcc/tt3401882_mfcc.png with feature shape: torch.Size([1, 197, 768])\n",
      "Processed /Users/chy/Projects/Thesis/mfcc/tt9354944_mfcc.png with feature shape: torch.Size([1, 197, 768])\n",
      "Processed /Users/chy/Projects/Thesis/mfcc/tt0252480_mfcc.png with feature shape: torch.Size([1, 197, 768])\n"
     ]
    },
    {
     "name": "stderr",
     "output_type": "stream",
     "text": [
      " 33%|███▎      | 454/1356 [00:38<01:22, 10.88it/s]"
     ]
    },
    {
     "name": "stdout",
     "output_type": "stream",
     "text": [
      "Processed /Users/chy/Projects/Thesis/mfcc/tt0082910_mfcc.png with feature shape: torch.Size([1, 197, 768])\n",
      "Processed /Users/chy/Projects/Thesis/mfcc/tt1223236_mfcc.png with feature shape: torch.Size([1, 197, 768])\n",
      "Processed /Users/chy/Projects/Thesis/mfcc/tt0457993_mfcc.png with feature shape: torch.Size([1, 197, 768])\n",
      "Processed /Users/chy/Projects/Thesis/mfcc/tt4919484_mfcc.png with feature shape: torch.Size([1, 197, 768])\n"
     ]
    },
    {
     "name": "stderr",
     "output_type": "stream",
     "text": [
      " 34%|███▍      | 458/1356 [00:38<01:13, 12.15it/s]"
     ]
    },
    {
     "name": "stdout",
     "output_type": "stream",
     "text": [
      "Processed /Users/chy/Projects/Thesis/mfcc/tt0395169_mfcc.png with feature shape: torch.Size([1, 197, 768])\n",
      "Processed /Users/chy/Projects/Thesis/mfcc/tt0486946_mfcc.png with feature shape: torch.Size([1, 197, 768])\n",
      "Processed /Users/chy/Projects/Thesis/mfcc/tt0378109_mfcc.png with feature shape: torch.Size([1, 197, 768])\n"
     ]
    },
    {
     "name": "stderr",
     "output_type": "stream",
     "text": [
      " 34%|███▍      | 462/1356 [00:39<01:11, 12.49it/s]"
     ]
    },
    {
     "name": "stdout",
     "output_type": "stream",
     "text": [
      "Processed /Users/chy/Projects/Thesis/mfcc/tt0120610_mfcc.png with feature shape: torch.Size([1, 197, 768])\n",
      "Processed /Users/chy/Projects/Thesis/mfcc/tt8695030_mfcc.png with feature shape: torch.Size([1, 197, 768])\n",
      "Processed /Users/chy/Projects/Thesis/mfcc/tt7740510_mfcc.png with feature shape: torch.Size([1, 197, 768])\n"
     ]
    },
    {
     "name": "stderr",
     "output_type": "stream",
     "text": [
      " 34%|███▍      | 464/1356 [00:39<01:10, 12.62it/s]"
     ]
    },
    {
     "name": "stdout",
     "output_type": "stream",
     "text": [
      "Processed /Users/chy/Projects/Thesis/mfcc/tt0796375_mfcc.png with feature shape: torch.Size([1, 197, 768])\n",
      "Processed /Users/chy/Projects/Thesis/mfcc/tt0252866_mfcc.png with feature shape: torch.Size([1, 197, 768])\n",
      "Processed /Users/chy/Projects/Thesis/mfcc/tt1068680_mfcc.png with feature shape: torch.Size([1, 197, 768])\n"
     ]
    },
    {
     "name": "stderr",
     "output_type": "stream",
     "text": [
      " 34%|███▍      | 466/1356 [00:39<01:12, 12.34it/s]"
     ]
    },
    {
     "name": "stdout",
     "output_type": "stream",
     "text": [
      "Processed /Users/chy/Projects/Thesis/mfcc/tt0156323_mfcc.png with feature shape: torch.Size([1, 197, 768])\n",
      "Processed /Users/chy/Projects/Thesis/mfcc/tt1027862_mfcc.png with feature shape: torch.Size([1, 197, 768])\n"
     ]
    },
    {
     "name": "stderr",
     "output_type": "stream",
     "text": [
      " 35%|███▍      | 468/1356 [00:39<01:20, 11.01it/s]"
     ]
    },
    {
     "name": "stdout",
     "output_type": "stream",
     "text": [
      "Processed /Users/chy/Projects/Thesis/mfcc/tt0450314_mfcc.png with feature shape: torch.Size([1, 197, 768])\n",
      "Processed /Users/chy/Projects/Thesis/mfcc/tt0289635_mfcc.png with feature shape: torch.Size([1, 197, 768])\n"
     ]
    },
    {
     "name": "stderr",
     "output_type": "stream",
     "text": [
      " 35%|███▍      | 472/1356 [00:39<01:15, 11.76it/s]"
     ]
    },
    {
     "name": "stdout",
     "output_type": "stream",
     "text": [
      "Processed /Users/chy/Projects/Thesis/mfcc/tt0489225_mfcc.png with feature shape: torch.Size([1, 197, 768])\n",
      "Processed /Users/chy/Projects/Thesis/mfcc/tt1287468_mfcc.png with feature shape: torch.Size([1, 197, 768])\n",
      "Processed /Users/chy/Projects/Thesis/mfcc/tt0466342_mfcc.png with feature shape: torch.Size([1, 197, 768])\n",
      "Processed /Users/chy/Projects/Thesis/mfcc/tt0247196_mfcc.png with feature shape: torch.Size([1, 197, 768])\n"
     ]
    },
    {
     "name": "stderr",
     "output_type": "stream",
     "text": [
      " 35%|███▌      | 476/1356 [00:40<01:11, 12.26it/s]"
     ]
    },
    {
     "name": "stdout",
     "output_type": "stream",
     "text": [
      "Processed /Users/chy/Projects/Thesis/mfcc/tt0346156_mfcc.png with feature shape: torch.Size([1, 197, 768])\n",
      "Processed /Users/chy/Projects/Thesis/mfcc/tt0477071_mfcc.png with feature shape: torch.Size([1, 197, 768])\n",
      "Processed /Users/chy/Projects/Thesis/mfcc/tt0375154_mfcc.png with feature shape: torch.Size([1, 197, 768])\n"
     ]
    },
    {
     "name": "stderr",
     "output_type": "stream",
     "text": [
      " 35%|███▌      | 478/1356 [00:40<01:12, 12.14it/s]"
     ]
    },
    {
     "name": "stdout",
     "output_type": "stream",
     "text": [
      "Processed /Users/chy/Projects/Thesis/mfcc/tt1924435_mfcc.png with feature shape: torch.Size([1, 197, 768])\n",
      "Processed /Users/chy/Projects/Thesis/mfcc/tt0338512_mfcc.png with feature shape: torch.Size([1, 197, 768])\n",
      "Processed /Users/chy/Projects/Thesis/mfcc/tt0258000_mfcc.png with feature shape: torch.Size([1, 197, 768])\n"
     ]
    },
    {
     "name": "stderr",
     "output_type": "stream",
     "text": [
      " 35%|███▌      | 480/1356 [00:40<01:11, 12.22it/s]"
     ]
    },
    {
     "name": "stdout",
     "output_type": "stream",
     "text": [
      "Processed /Users/chy/Projects/Thesis/mfcc/tt0437857_mfcc.png with feature shape: torch.Size([1, 197, 768])\n"
     ]
    },
    {
     "name": "stderr",
     "output_type": "stream",
     "text": [
      " 36%|███▌      | 482/1356 [00:40<01:30,  9.68it/s]"
     ]
    },
    {
     "name": "stdout",
     "output_type": "stream",
     "text": [
      "Processed /Users/chy/Projects/Thesis/mfcc/tt0418647_mfcc.png with feature shape: torch.Size([1, 197, 768])\n",
      "Processed /Users/chy/Projects/Thesis/mfcc/tt6290736_mfcc.png with feature shape: torch.Size([1, 197, 768])\n",
      "Processed /Users/chy/Projects/Thesis/mfcc/tt4139124_mfcc.png with feature shape: torch.Size([1, 197, 768])\n",
      "Processed /Users/chy/Projects/Thesis/mfcc/tt0106233_mfcc.png with feature shape: torch.Size([1, 197, 768])\n"
     ]
    },
    {
     "name": "stderr",
     "output_type": "stream",
     "text": [
      " 36%|███▌      | 486/1356 [00:41<01:15, 11.45it/s]"
     ]
    },
    {
     "name": "stdout",
     "output_type": "stream",
     "text": [
      "Processed /Users/chy/Projects/Thesis/mfcc/tt5512872_mfcc.png with feature shape: torch.Size([1, 197, 768])\n",
      "Processed /Users/chy/Projects/Thesis/mfcc/tt0276816_mfcc.png with feature shape: torch.Size([1, 197, 768])\n",
      "Processed /Users/chy/Projects/Thesis/mfcc/tt3165612_mfcc.png with feature shape: torch.Size([1, 197, 768])\n"
     ]
    },
    {
     "name": "stderr",
     "output_type": "stream",
     "text": [
      " 36%|███▌      | 490/1356 [00:41<01:10, 12.21it/s]"
     ]
    },
    {
     "name": "stdout",
     "output_type": "stream",
     "text": [
      "Processed /Users/chy/Projects/Thesis/mfcc/tt0489099_mfcc.png with feature shape: torch.Size([1, 197, 768])\n",
      "Processed /Users/chy/Projects/Thesis/mfcc/tt1027747_mfcc.png with feature shape: torch.Size([1, 197, 768])\n",
      "Processed /Users/chy/Projects/Thesis/mfcc/tt0419984_mfcc.png with feature shape: torch.Size([1, 197, 768])\n"
     ]
    },
    {
     "name": "stderr",
     "output_type": "stream",
     "text": [
      " 36%|███▋      | 492/1356 [00:41<01:10, 12.29it/s]"
     ]
    },
    {
     "name": "stdout",
     "output_type": "stream",
     "text": [
      "Processed /Users/chy/Projects/Thesis/mfcc/tt0465502_mfcc.png with feature shape: torch.Size([1, 197, 768])\n",
      "Processed /Users/chy/Projects/Thesis/mfcc/tt0804461_mfcc.png with feature shape: torch.Size([1, 197, 768])\n",
      "Processed /Users/chy/Projects/Thesis/mfcc/tt0090270_mfcc.png with feature shape: torch.Size([1, 197, 768])\n"
     ]
    },
    {
     "name": "stderr",
     "output_type": "stream",
     "text": [
      " 36%|███▋      | 494/1356 [00:41<01:09, 12.48it/s]"
     ]
    },
    {
     "name": "stdout",
     "output_type": "stream",
     "text": [
      "Processed /Users/chy/Projects/Thesis/mfcc/tt0080745_mfcc.png with feature shape: torch.Size([1, 197, 768])\n",
      "Processed /Users/chy/Projects/Thesis/mfcc/tt2381335_mfcc.png with feature shape: torch.Size([1, 197, 768])\n"
     ]
    },
    {
     "name": "stderr",
     "output_type": "stream",
     "text": [
      " 37%|███▋      | 498/1356 [00:42<01:14, 11.50it/s]"
     ]
    },
    {
     "name": "stdout",
     "output_type": "stream",
     "text": [
      "Processed /Users/chy/Projects/Thesis/mfcc/tt0106500_mfcc.png with feature shape: torch.Size([1, 197, 768])\n",
      "Processed /Users/chy/Projects/Thesis/mfcc/tt0278504_mfcc.png with feature shape: torch.Size([1, 197, 768])\n",
      "Processed /Users/chy/Projects/Thesis/mfcc/tt2370518_mfcc.png with feature shape: torch.Size([1, 197, 768])\n"
     ]
    },
    {
     "name": "stderr",
     "output_type": "stream",
     "text": [
      " 37%|███▋      | 500/1356 [00:42<01:12, 11.74it/s]"
     ]
    },
    {
     "name": "stdout",
     "output_type": "stream",
     "text": [
      "Processed /Users/chy/Projects/Thesis/mfcc/tt1127180_mfcc.png with feature shape: torch.Size([1, 197, 768])\n",
      "Processed /Users/chy/Projects/Thesis/mfcc/tt0112401_mfcc.png with feature shape: torch.Size([1, 197, 768])\n",
      "Processed /Users/chy/Projects/Thesis/mfcc/tt1564349_mfcc.png with feature shape: torch.Size([1, 197, 768])\n"
     ]
    },
    {
     "name": "stderr",
     "output_type": "stream",
     "text": [
      " 37%|███▋      | 504/1356 [00:42<01:10, 12.15it/s]"
     ]
    },
    {
     "name": "stdout",
     "output_type": "stream",
     "text": [
      "Processed /Users/chy/Projects/Thesis/mfcc/tt0937237_mfcc.png with feature shape: torch.Size([1, 197, 768])\n",
      "Processed /Users/chy/Projects/Thesis/mfcc/tt4411234_mfcc.png with feature shape: torch.Size([1, 197, 768])\n",
      "Processed /Users/chy/Projects/Thesis/mfcc/tt0118617_mfcc.png with feature shape: torch.Size([1, 197, 768])\n"
     ]
    },
    {
     "name": "stderr",
     "output_type": "stream",
     "text": [
      " 37%|███▋      | 506/1356 [00:42<01:08, 12.43it/s]"
     ]
    },
    {
     "name": "stdout",
     "output_type": "stream",
     "text": [
      "Processed /Users/chy/Projects/Thesis/mfcc/tt0212985_mfcc.png with feature shape: torch.Size([1, 197, 768])\n",
      "Processed /Users/chy/Projects/Thesis/mfcc/tt0449010_mfcc.png with feature shape: torch.Size([1, 197, 768])\n",
      "Processed /Users/chy/Projects/Thesis/mfcc/tt0325980_mfcc.png with feature shape: torch.Size([1, 197, 768])\n"
     ]
    },
    {
     "name": "stderr",
     "output_type": "stream",
     "text": [
      " 37%|███▋      | 508/1356 [00:42<01:06, 12.68it/s]"
     ]
    },
    {
     "name": "stdout",
     "output_type": "stream",
     "text": [
      "Processed /Users/chy/Projects/Thesis/mfcc/tt0889134_mfcc.png with feature shape: torch.Size([1, 197, 768])\n",
      "Processed /Users/chy/Projects/Thesis/mfcc/tt0428518_mfcc.png with feature shape: torch.Size([1, 197, 768])\n"
     ]
    },
    {
     "name": "stderr",
     "output_type": "stream",
     "text": [
      " 38%|███▊      | 512/1356 [00:43<01:11, 11.77it/s]"
     ]
    },
    {
     "name": "stdout",
     "output_type": "stream",
     "text": [
      "Processed /Users/chy/Projects/Thesis/mfcc/tt1100119_mfcc.png with feature shape: torch.Size([1, 197, 768])\n",
      "Processed /Users/chy/Projects/Thesis/mfcc/tt0839880_mfcc.png with feature shape: torch.Size([1, 197, 768])\n",
      "Processed /Users/chy/Projects/Thesis/mfcc/tt2492916_mfcc.png with feature shape: torch.Size([1, 197, 768])\n",
      "Processed /Users/chy/Projects/Thesis/mfcc/tt0462200_mfcc.png with feature shape: torch.Size([1, 197, 768])\n"
     ]
    },
    {
     "name": "stderr",
     "output_type": "stream",
     "text": [
      " 38%|███▊      | 516/1356 [00:43<01:07, 12.40it/s]"
     ]
    },
    {
     "name": "stdout",
     "output_type": "stream",
     "text": [
      "Processed /Users/chy/Projects/Thesis/mfcc/tt1114740_mfcc.png with feature shape: torch.Size([1, 197, 768])\n",
      "Processed /Users/chy/Projects/Thesis/mfcc/tt0114906_mfcc.png with feature shape: torch.Size([1, 197, 768])\n",
      "Processed /Users/chy/Projects/Thesis/mfcc/tt0479143_mfcc.png with feature shape: torch.Size([1, 197, 768])\n"
     ]
    },
    {
     "name": "stderr",
     "output_type": "stream",
     "text": [
      " 38%|███▊      | 518/1356 [00:43<01:07, 12.41it/s]"
     ]
    },
    {
     "name": "stdout",
     "output_type": "stream",
     "text": [
      "Processed /Users/chy/Projects/Thesis/mfcc/tt0379306_mfcc.png with feature shape: torch.Size([1, 197, 768])\n",
      "Processed /Users/chy/Projects/Thesis/mfcc/tt6499752_mfcc.png with feature shape: torch.Size([1, 197, 768])\n",
      "Processed /Users/chy/Projects/Thesis/mfcc/tt4557956_mfcc.png with feature shape: torch.Size([1, 197, 768])\n"
     ]
    },
    {
     "name": "stderr",
     "output_type": "stream",
     "text": [
      " 38%|███▊      | 522/1356 [00:44<01:06, 12.63it/s]"
     ]
    },
    {
     "name": "stdout",
     "output_type": "stream",
     "text": [
      "Processed /Users/chy/Projects/Thesis/mfcc/tt4560436_mfcc.png with feature shape: torch.Size([1, 197, 768])\n",
      "Processed /Users/chy/Projects/Thesis/mfcc/tt0765128_mfcc.png with feature shape: torch.Size([1, 197, 768])\n",
      "Processed /Users/chy/Projects/Thesis/mfcc/tt0407761_mfcc.png with feature shape: torch.Size([1, 197, 768])\n"
     ]
    },
    {
     "name": "stderr",
     "output_type": "stream",
     "text": [
      " 39%|███▊      | 524/1356 [00:44<01:10, 11.76it/s]"
     ]
    },
    {
     "name": "stdout",
     "output_type": "stream",
     "text": [
      "Processed /Users/chy/Projects/Thesis/mfcc/tt0457090_mfcc.png with feature shape: torch.Size([1, 197, 768])\n",
      "Processed /Users/chy/Projects/Thesis/mfcc/tt0102057_mfcc.png with feature shape: torch.Size([1, 197, 768])\n"
     ]
    },
    {
     "name": "stderr",
     "output_type": "stream",
     "text": [
      " 39%|███▉      | 526/1356 [00:44<01:09, 12.02it/s]"
     ]
    },
    {
     "name": "stdout",
     "output_type": "stream",
     "text": [
      "Processed /Users/chy/Projects/Thesis/mfcc/tt2702724_mfcc.png with feature shape: torch.Size([1, 197, 768])\n",
      "Processed /Users/chy/Projects/Thesis/mfcc/tt0266915_mfcc.png with feature shape: torch.Size([1, 197, 768])\n",
      "Processed /Users/chy/Projects/Thesis/mfcc/tt0944101_mfcc.png with feature shape: torch.Size([1, 197, 768])\n",
      "Processed /Users/chy/Projects/Thesis/mfcc/tt1073241_mfcc.png with feature shape: torch.Size([1, 197, 768])\n"
     ]
    },
    {
     "name": "stderr",
     "output_type": "stream",
     "text": [
      " 39%|███▉      | 530/1356 [00:44<01:04, 12.87it/s]"
     ]
    },
    {
     "name": "stdout",
     "output_type": "stream",
     "text": [
      "Processed /Users/chy/Projects/Thesis/mfcc/tt0473709_mfcc.png with feature shape: torch.Size([1, 197, 768])\n",
      "Processed /Users/chy/Projects/Thesis/mfcc/tt0486583_mfcc.png with feature shape: torch.Size([1, 197, 768])\n",
      "Processed /Users/chy/Projects/Thesis/mfcc/tt0337917_mfcc.png with feature shape: torch.Size([1, 197, 768])\n"
     ]
    },
    {
     "name": "stderr",
     "output_type": "stream",
     "text": [
      " 39%|███▉      | 534/1356 [00:45<01:04, 12.83it/s]"
     ]
    },
    {
     "name": "stdout",
     "output_type": "stream",
     "text": [
      "Processed /Users/chy/Projects/Thesis/mfcc/tt1839654_mfcc.png with feature shape: torch.Size([1, 197, 768])\n",
      "Processed /Users/chy/Projects/Thesis/mfcc/tt2063781_mfcc.png with feature shape: torch.Size([1, 197, 768])\n",
      "Processed /Users/chy/Projects/Thesis/mfcc/tt0374102_mfcc.png with feature shape: torch.Size([1, 197, 768])\n"
     ]
    },
    {
     "name": "stderr",
     "output_type": "stream",
     "text": [
      " 40%|███▉      | 536/1356 [00:45<01:04, 12.79it/s]"
     ]
    },
    {
     "name": "stdout",
     "output_type": "stream",
     "text": [
      "Processed /Users/chy/Projects/Thesis/mfcc/tt0120586_mfcc.png with feature shape: torch.Size([1, 197, 768])\n",
      "Processed /Users/chy/Projects/Thesis/mfcc/tt0991167_mfcc.png with feature shape: torch.Size([1, 197, 768])\n"
     ]
    },
    {
     "name": "stderr",
     "output_type": "stream",
     "text": [
      " 40%|███▉      | 538/1356 [00:45<01:17, 10.54it/s]"
     ]
    },
    {
     "name": "stdout",
     "output_type": "stream",
     "text": [
      "Processed /Users/chy/Projects/Thesis/mfcc/tt0269341_mfcc.png with feature shape: torch.Size([1, 197, 768])\n",
      "Processed /Users/chy/Projects/Thesis/mfcc/tt0284674_mfcc.png with feature shape: torch.Size([1, 197, 768])\n",
      "Processed /Users/chy/Projects/Thesis/mfcc/tt2950418_mfcc.png with feature shape: torch.Size([1, 197, 768])\n"
     ]
    },
    {
     "name": "stderr",
     "output_type": "stream",
     "text": [
      " 40%|███▉      | 542/1356 [00:45<01:13, 11.04it/s]"
     ]
    },
    {
     "name": "stdout",
     "output_type": "stream",
     "text": [
      "Processed /Users/chy/Projects/Thesis/mfcc/tt0460780_mfcc.png with feature shape: torch.Size([1, 197, 768])\n",
      "Processed /Users/chy/Projects/Thesis/mfcc/tt0299458_mfcc.png with feature shape: torch.Size([1, 197, 768])\n",
      "Processed /Users/chy/Projects/Thesis/mfcc/tt0493464_mfcc.png with feature shape: torch.Size([1, 197, 768])\n"
     ]
    },
    {
     "name": "stderr",
     "output_type": "stream",
     "text": [
      " 40%|████      | 544/1356 [00:46<01:12, 11.13it/s]"
     ]
    },
    {
     "name": "stdout",
     "output_type": "stream",
     "text": [
      "Processed /Users/chy/Projects/Thesis/mfcc/tt0328880_mfcc.png with feature shape: torch.Size([1, 197, 768])\n",
      "Processed /Users/chy/Projects/Thesis/mfcc/tt1196948_mfcc.png with feature shape: torch.Size([1, 197, 768])\n"
     ]
    },
    {
     "name": "stderr",
     "output_type": "stream",
     "text": [
      " 40%|████      | 546/1356 [00:46<01:17, 10.52it/s]"
     ]
    },
    {
     "name": "stdout",
     "output_type": "stream",
     "text": [
      "Processed /Users/chy/Projects/Thesis/mfcc/tt0369226_mfcc.png with feature shape: torch.Size([1, 197, 768])\n",
      "Processed /Users/chy/Projects/Thesis/mfcc/tt0210299_mfcc.png with feature shape: torch.Size([1, 197, 768])\n",
      "Processed /Users/chy/Projects/Thesis/mfcc/tt0270197_mfcc.png with feature shape: torch.Size([1, 197, 768])\n"
     ]
    },
    {
     "name": "stderr",
     "output_type": "stream",
     "text": [
      " 40%|████      | 548/1356 [00:46<01:14, 10.90it/s]"
     ]
    },
    {
     "name": "stdout",
     "output_type": "stream",
     "text": [
      "Processed /Users/chy/Projects/Thesis/mfcc/tt0091192_mfcc.png with feature shape: torch.Size([1, 197, 768])\n",
      "Processed /Users/chy/Projects/Thesis/mfcc/tt0298131_mfcc.png with feature shape: torch.Size([1, 197, 768])\n"
     ]
    },
    {
     "name": "stderr",
     "output_type": "stream",
     "text": [
      " 41%|████      | 552/1356 [00:46<01:16, 10.56it/s]"
     ]
    },
    {
     "name": "stdout",
     "output_type": "stream",
     "text": [
      "Processed /Users/chy/Projects/Thesis/mfcc/tt1753549_mfcc.png with feature shape: torch.Size([1, 197, 768])\n",
      "Processed /Users/chy/Projects/Thesis/mfcc/tt1831806_mfcc.png with feature shape: torch.Size([1, 197, 768])\n",
      "Processed /Users/chy/Projects/Thesis/mfcc/tt0452625_mfcc.png with feature shape: torch.Size([1, 197, 768])\n"
     ]
    },
    {
     "name": "stderr",
     "output_type": "stream",
     "text": [
      " 41%|████      | 554/1356 [00:46<01:12, 11.02it/s]"
     ]
    },
    {
     "name": "stdout",
     "output_type": "stream",
     "text": [
      "Processed /Users/chy/Projects/Thesis/mfcc/tt0862846_mfcc.png with feature shape: torch.Size([1, 197, 768])\n",
      "Processed /Users/chy/Projects/Thesis/mfcc/tt0406158_mfcc.png with feature shape: torch.Size([1, 197, 768])\n",
      "Processed /Users/chy/Projects/Thesis/mfcc/tt1232200_mfcc.png with feature shape: torch.Size([1, 197, 768])\n"
     ]
    },
    {
     "name": "stderr",
     "output_type": "stream",
     "text": [
      " 41%|████      | 558/1356 [00:47<01:07, 11.77it/s]"
     ]
    },
    {
     "name": "stdout",
     "output_type": "stream",
     "text": [
      "Processed /Users/chy/Projects/Thesis/mfcc/tt0297162_mfcc.png with feature shape: torch.Size([1, 197, 768])\n",
      "Processed /Users/chy/Projects/Thesis/mfcc/tt0117333_mfcc.png with feature shape: torch.Size([1, 197, 768])\n",
      "Processed /Users/chy/Projects/Thesis/mfcc/tt0072951_mfcc.png with feature shape: torch.Size([1, 197, 768])\n"
     ]
    },
    {
     "name": "stderr",
     "output_type": "stream",
     "text": [
      " 41%|████▏     | 560/1356 [00:47<01:06, 11.99it/s]"
     ]
    },
    {
     "name": "stdout",
     "output_type": "stream",
     "text": [
      "Processed /Users/chy/Projects/Thesis/mfcc/tt0298228_mfcc.png with feature shape: torch.Size([1, 197, 768])\n",
      "Processed /Users/chy/Projects/Thesis/mfcc/tt0114938_mfcc.png with feature shape: torch.Size([1, 197, 768])\n",
      "Processed /Users/chy/Projects/Thesis/mfcc/tt0110950_mfcc.png with feature shape: torch.Size([1, 197, 768])\n"
     ]
    },
    {
     "name": "stderr",
     "output_type": "stream",
     "text": [
      " 42%|████▏     | 564/1356 [00:47<01:09, 11.34it/s]"
     ]
    },
    {
     "name": "stdout",
     "output_type": "stream",
     "text": [
      "Processed /Users/chy/Projects/Thesis/mfcc/tt1205558_mfcc.png with feature shape: torch.Size([1, 197, 768])\n",
      "Processed /Users/chy/Projects/Thesis/mfcc/tt2557490_mfcc.png with feature shape: torch.Size([1, 197, 768])\n",
      "Processed /Users/chy/Projects/Thesis/mfcc/tt0359950_mfcc.png with feature shape: torch.Size([1, 197, 768])\n"
     ]
    },
    {
     "name": "stderr",
     "output_type": "stream",
     "text": [
      " 42%|████▏     | 566/1356 [00:47<01:06, 11.95it/s]"
     ]
    },
    {
     "name": "stdout",
     "output_type": "stream",
     "text": [
      "Processed /Users/chy/Projects/Thesis/mfcc/tt1135781_mfcc.png with feature shape: torch.Size([1, 197, 768])\n",
      "Processed /Users/chy/Projects/Thesis/mfcc/tt0433963_mfcc.png with feature shape: torch.Size([1, 197, 768])\n",
      "Processed /Users/chy/Projects/Thesis/mfcc/tt2917336_mfcc.png with feature shape: torch.Size([1, 197, 768])\n"
     ]
    },
    {
     "name": "stderr",
     "output_type": "stream",
     "text": [
      " 42%|████▏     | 570/1356 [00:48<01:04, 12.14it/s]"
     ]
    },
    {
     "name": "stdout",
     "output_type": "stream",
     "text": [
      "Processed /Users/chy/Projects/Thesis/mfcc/tt3168230_mfcc.png with feature shape: torch.Size([1, 197, 768])\n",
      "Processed /Users/chy/Projects/Thesis/mfcc/tt0313911_mfcc.png with feature shape: torch.Size([1, 197, 768])\n",
      "Processed /Users/chy/Projects/Thesis/mfcc/tt6511932_mfcc.png with feature shape: torch.Size([1, 197, 768])\n"
     ]
    },
    {
     "name": "stderr",
     "output_type": "stream",
     "text": [
      " 42%|████▏     | 572/1356 [00:48<01:04, 12.24it/s]"
     ]
    },
    {
     "name": "stdout",
     "output_type": "stream",
     "text": [
      "Processed /Users/chy/Projects/Thesis/mfcc/tt1477675_mfcc.png with feature shape: torch.Size([1, 197, 768])\n",
      "Processed /Users/chy/Projects/Thesis/mfcc/tt0435761_mfcc.png with feature shape: torch.Size([1, 197, 768])\n",
      "Processed /Users/chy/Projects/Thesis/mfcc/tt1186367_mfcc.png with feature shape: torch.Size([1, 197, 768])\n"
     ]
    },
    {
     "name": "stderr",
     "output_type": "stream",
     "text": [
      " 42%|████▏     | 574/1356 [00:48<01:02, 12.48it/s]"
     ]
    },
    {
     "name": "stdout",
     "output_type": "stream",
     "text": [
      "Processed /Users/chy/Projects/Thesis/mfcc/tt0470705_mfcc.png with feature shape: torch.Size([1, 197, 768])\n",
      "Processed /Users/chy/Projects/Thesis/mfcc/tt0467197_mfcc.png with feature shape: torch.Size([1, 197, 768])\n"
     ]
    },
    {
     "name": "stderr",
     "output_type": "stream",
     "text": [
      " 43%|████▎     | 578/1356 [00:48<01:06, 11.66it/s]"
     ]
    },
    {
     "name": "stdout",
     "output_type": "stream",
     "text": [
      "Processed /Users/chy/Projects/Thesis/mfcc/tt0401855_mfcc.png with feature shape: torch.Size([1, 197, 768])\n",
      "Processed /Users/chy/Projects/Thesis/mfcc/tt0918927_mfcc.png with feature shape: torch.Size([1, 197, 768])\n",
      "Processed /Users/chy/Projects/Thesis/mfcc/tt0046238_mfcc.png with feature shape: torch.Size([1, 197, 768])\n",
      "Processed /Users/chy/Projects/Thesis/mfcc/tt2179936_mfcc.png with feature shape: torch.Size([1, 197, 768])\n"
     ]
    },
    {
     "name": "stderr",
     "output_type": "stream",
     "text": [
      " 43%|████▎     | 582/1356 [00:49<01:02, 12.43it/s]"
     ]
    },
    {
     "name": "stdout",
     "output_type": "stream",
     "text": [
      "Processed /Users/chy/Projects/Thesis/mfcc/tt0795421_mfcc.png with feature shape: torch.Size([1, 197, 768])\n",
      "Processed /Users/chy/Projects/Thesis/mfcc/tt0424774_mfcc.png with feature shape: torch.Size([1, 197, 768])\n",
      "Processed /Users/chy/Projects/Thesis/mfcc/tt1014759_mfcc.png with feature shape: torch.Size([1, 197, 768])\n"
     ]
    },
    {
     "name": "stderr",
     "output_type": "stream",
     "text": [
      " 43%|████▎     | 584/1356 [00:49<01:01, 12.60it/s]"
     ]
    },
    {
     "name": "stdout",
     "output_type": "stream",
     "text": [
      "Processed /Users/chy/Projects/Thesis/mfcc/tt3660770_mfcc.png with feature shape: torch.Size([1, 197, 768])\n",
      "Processed /Users/chy/Projects/Thesis/mfcc/tt0906773_mfcc.png with feature shape: torch.Size([1, 197, 768])\n",
      "Processed /Users/chy/Projects/Thesis/mfcc/tt0086637_mfcc.png with feature shape: torch.Size([1, 197, 768])\n"
     ]
    },
    {
     "name": "stderr",
     "output_type": "stream",
     "text": [
      " 43%|████▎     | 588/1356 [00:49<01:02, 12.35it/s]"
     ]
    },
    {
     "name": "stdout",
     "output_type": "stream",
     "text": [
      "Processed /Users/chy/Projects/Thesis/mfcc/tt0118698_mfcc.png with feature shape: torch.Size([1, 197, 768])\n",
      "Processed /Users/chy/Projects/Thesis/mfcc/tt0277434_mfcc.png with feature shape: torch.Size([1, 197, 768])\n",
      "Processed /Users/chy/Projects/Thesis/mfcc/tt1490017_mfcc.png with feature shape: torch.Size([1, 197, 768])\n"
     ]
    },
    {
     "name": "stderr",
     "output_type": "stream",
     "text": [
      " 44%|████▎     | 590/1356 [00:49<01:08, 11.14it/s]"
     ]
    },
    {
     "name": "stdout",
     "output_type": "stream",
     "text": [
      "Processed /Users/chy/Projects/Thesis/mfcc/tt0780486_mfcc.png with feature shape: torch.Size([1, 197, 768])\n",
      "Processed /Users/chy/Projects/Thesis/mfcc/tt1830805_mfcc.png with feature shape: torch.Size([1, 197, 768])\n",
      "Processed /Users/chy/Projects/Thesis/mfcc/tt0332658_mfcc.png with feature shape: torch.Size([1, 197, 768])\n",
      "Processed /Users/chy/Projects/Thesis/mfcc/tt0448564_mfcc.png with feature shape: torch.Size([1, 197, 768])\n"
     ]
    },
    {
     "name": "stderr",
     "output_type": "stream",
     "text": [
      " 44%|████▍     | 594/1356 [00:50<01:02, 12.25it/s]"
     ]
    },
    {
     "name": "stdout",
     "output_type": "stream",
     "text": [
      "Processed /Users/chy/Projects/Thesis/mfcc/tt0118702_mfcc.png with feature shape: torch.Size([1, 197, 768])\n",
      "Processed /Users/chy/Projects/Thesis/mfcc/tt0489270_mfcc.png with feature shape: torch.Size([1, 197, 768])\n",
      "Processed /Users/chy/Projects/Thesis/mfcc/tt0832318_mfcc.png with feature shape: torch.Size([1, 197, 768])\n"
     ]
    },
    {
     "name": "stderr",
     "output_type": "stream",
     "text": [
      " 44%|████▍     | 598/1356 [00:50<01:00, 12.61it/s]"
     ]
    },
    {
     "name": "stdout",
     "output_type": "stream",
     "text": [
      "Processed /Users/chy/Projects/Thesis/mfcc/tt1129442_mfcc.png with feature shape: torch.Size([1, 197, 768])\n",
      "Processed /Users/chy/Projects/Thesis/mfcc/tt0445620_mfcc.png with feature shape: torch.Size([1, 197, 768])\n",
      "Processed /Users/chy/Projects/Thesis/mfcc/tt0238380_mfcc.png with feature shape: torch.Size([1, 197, 768])\n"
     ]
    },
    {
     "name": "stderr",
     "output_type": "stream",
     "text": [
      " 44%|████▍     | 600/1356 [00:50<00:59, 12.68it/s]"
     ]
    },
    {
     "name": "stdout",
     "output_type": "stream",
     "text": [
      "Processed /Users/chy/Projects/Thesis/mfcc/tt0995039_mfcc.png with feature shape: torch.Size([1, 197, 768])\n",
      "Processed /Users/chy/Projects/Thesis/mfcc/tt0841044_mfcc.png with feature shape: torch.Size([1, 197, 768])\n",
      "Processed /Users/chy/Projects/Thesis/mfcc/tt2278388_mfcc.png with feature shape: torch.Size([1, 197, 768])\n"
     ]
    },
    {
     "name": "stderr",
     "output_type": "stream",
     "text": [
      " 45%|████▍     | 604/1356 [00:51<00:59, 12.74it/s]"
     ]
    },
    {
     "name": "stdout",
     "output_type": "stream",
     "text": [
      "Processed /Users/chy/Projects/Thesis/mfcc/tt0335559_mfcc.png with feature shape: torch.Size([1, 197, 768])\n",
      "Processed /Users/chy/Projects/Thesis/mfcc/tt0390022_mfcc.png with feature shape: torch.Size([1, 197, 768])\n",
      "Processed /Users/chy/Projects/Thesis/mfcc/tt2980706_mfcc.png with feature shape: torch.Size([1, 197, 768])\n"
     ]
    },
    {
     "name": "stderr",
     "output_type": "stream",
     "text": [
      " 45%|████▍     | 606/1356 [00:51<01:03, 11.82it/s]"
     ]
    },
    {
     "name": "stdout",
     "output_type": "stream",
     "text": [
      "Processed /Users/chy/Projects/Thesis/mfcc/tt1640718_mfcc.png with feature shape: torch.Size([1, 197, 768])\n",
      "Processed /Users/chy/Projects/Thesis/mfcc/tt0861689_mfcc.png with feature shape: torch.Size([1, 197, 768])\n",
      "Processed /Users/chy/Projects/Thesis/mfcc/tt5879216_mfcc.png with feature shape: torch.Size([1, 197, 768])\n",
      "Processed /Users/chy/Projects/Thesis/mfcc/tt0117247_mfcc.png with feature shape: torch.Size([1, 197, 768])\n"
     ]
    },
    {
     "name": "stderr",
     "output_type": "stream",
     "text": [
      " 45%|████▍     | 610/1356 [00:51<01:00, 12.32it/s]"
     ]
    },
    {
     "name": "stdout",
     "output_type": "stream",
     "text": [
      "Processed /Users/chy/Projects/Thesis/mfcc/tt0112281_mfcc.png with feature shape: torch.Size([1, 197, 768])\n",
      "Processed /Users/chy/Projects/Thesis/mfcc/tt0290145_mfcc.png with feature shape: torch.Size([1, 197, 768])\n",
      "Processed /Users/chy/Projects/Thesis/mfcc/tt0389957_mfcc.png with feature shape: torch.Size([1, 197, 768])\n"
     ]
    },
    {
     "name": "stderr",
     "output_type": "stream",
     "text": [
      " 45%|████▌     | 612/1356 [00:51<00:59, 12.51it/s]"
     ]
    },
    {
     "name": "stdout",
     "output_type": "stream",
     "text": [
      "Processed /Users/chy/Projects/Thesis/mfcc/tt6521876_mfcc.png with feature shape: torch.Size([1, 197, 768])\n"
     ]
    },
    {
     "name": "stderr",
     "output_type": "stream",
     "text": [
      " 45%|████▌     | 614/1356 [00:52<01:17,  9.59it/s]"
     ]
    },
    {
     "name": "stdout",
     "output_type": "stream",
     "text": [
      "Processed /Users/chy/Projects/Thesis/mfcc/tt0372532_mfcc.png with feature shape: torch.Size([1, 197, 768])\n",
      "Processed /Users/chy/Projects/Thesis/mfcc/tt2316204_mfcc.png with feature shape: torch.Size([1, 197, 768])\n",
      "Processed /Users/chy/Projects/Thesis/mfcc/tt0316654_mfcc.png with feature shape: torch.Size([1, 197, 768])\n",
      "Processed /Users/chy/Projects/Thesis/mfcc/tt0494652_mfcc.png with feature shape: torch.Size([1, 197, 768])\n"
     ]
    },
    {
     "name": "stderr",
     "output_type": "stream",
     "text": [
      " 46%|████▌     | 618/1356 [00:52<01:03, 11.59it/s]"
     ]
    },
    {
     "name": "stdout",
     "output_type": "stream",
     "text": [
      "Processed /Users/chy/Projects/Thesis/mfcc/tt0088128_mfcc.png with feature shape: torch.Size([1, 197, 768])\n",
      "Processed /Users/chy/Projects/Thesis/mfcc/tt1014801_mfcc.png with feature shape: torch.Size([1, 197, 768])\n",
      "Processed /Users/chy/Projects/Thesis/mfcc/tt1881109_mfcc.png with feature shape: torch.Size([1, 197, 768])\n"
     ]
    },
    {
     "name": "stderr",
     "output_type": "stream",
     "text": [
      " 46%|████▌     | 620/1356 [00:52<01:02, 11.84it/s]"
     ]
    },
    {
     "name": "stdout",
     "output_type": "stream",
     "text": [
      "Processed /Users/chy/Projects/Thesis/mfcc/tt0377749_mfcc.png with feature shape: torch.Size([1, 197, 768])\n",
      "Processed /Users/chy/Projects/Thesis/mfcc/tt0086216_mfcc.png with feature shape: torch.Size([1, 197, 768])\n"
     ]
    },
    {
     "name": "stderr",
     "output_type": "stream",
     "text": [
      " 46%|████▌     | 624/1356 [00:52<01:08, 10.76it/s]"
     ]
    },
    {
     "name": "stdout",
     "output_type": "stream",
     "text": [
      "Processed /Users/chy/Projects/Thesis/mfcc/tt1305591_mfcc.png with feature shape: torch.Size([1, 197, 768])\n",
      "Processed /Users/chy/Projects/Thesis/mfcc/tt0804492_mfcc.png with feature shape: torch.Size([1, 197, 768])\n",
      "Processed /Users/chy/Projects/Thesis/mfcc/tt0304415_mfcc.png with feature shape: torch.Size([1, 197, 768])\n"
     ]
    },
    {
     "name": "stderr",
     "output_type": "stream",
     "text": [
      " 46%|████▌     | 626/1356 [00:53<01:05, 11.12it/s]"
     ]
    },
    {
     "name": "stdout",
     "output_type": "stream",
     "text": [
      "Processed /Users/chy/Projects/Thesis/mfcc/tt0384537_mfcc.png with feature shape: torch.Size([1, 197, 768])\n",
      "Processed /Users/chy/Projects/Thesis/mfcc/tt0985025_mfcc.png with feature shape: torch.Size([1, 197, 768])\n",
      "Processed /Users/chy/Projects/Thesis/mfcc/tt2359137_mfcc.png with feature shape: torch.Size([1, 197, 768])\n"
     ]
    },
    {
     "name": "stderr",
     "output_type": "stream",
     "text": [
      " 46%|████▋     | 630/1356 [00:53<01:02, 11.66it/s]"
     ]
    },
    {
     "name": "stdout",
     "output_type": "stream",
     "text": [
      "Processed /Users/chy/Projects/Thesis/mfcc/tt0486674_mfcc.png with feature shape: torch.Size([1, 197, 768])\n",
      "Processed /Users/chy/Projects/Thesis/mfcc/tt5493706_mfcc.png with feature shape: torch.Size([1, 197, 768])\n",
      "Processed /Users/chy/Projects/Thesis/mfcc/tt0403702_mfcc.png with feature shape: torch.Size([1, 197, 768])\n"
     ]
    },
    {
     "name": "stderr",
     "output_type": "stream",
     "text": [
      " 47%|████▋     | 632/1356 [00:53<01:01, 11.85it/s]"
     ]
    },
    {
     "name": "stdout",
     "output_type": "stream",
     "text": [
      "Processed /Users/chy/Projects/Thesis/mfcc/tt0833960_mfcc.png with feature shape: torch.Size([1, 197, 768])\n",
      "Processed /Users/chy/Projects/Thesis/mfcc/tt1024714_mfcc.png with feature shape: torch.Size([1, 197, 768])\n",
      "Processed /Users/chy/Projects/Thesis/mfcc/tt0268995_mfcc.png with feature shape: torch.Size([1, 197, 768])\n"
     ]
    },
    {
     "name": "stderr",
     "output_type": "stream",
     "text": [
      " 47%|████▋     | 634/1356 [00:53<01:08, 10.61it/s]"
     ]
    },
    {
     "name": "stdout",
     "output_type": "stream",
     "text": [
      "Processed /Users/chy/Projects/Thesis/mfcc/tt0101393_mfcc.png with feature shape: torch.Size([1, 197, 768])\n",
      "Processed /Users/chy/Projects/Thesis/mfcc/tt0134630_mfcc.png with feature shape: torch.Size([1, 197, 768])\n",
      "Processed /Users/chy/Projects/Thesis/mfcc/tt1024715_mfcc.png with feature shape: torch.Size([1, 197, 768])\n"
     ]
    },
    {
     "name": "stderr",
     "output_type": "stream",
     "text": [
      " 47%|████▋     | 638/1356 [00:54<01:04, 11.12it/s]"
     ]
    },
    {
     "name": "stdout",
     "output_type": "stream",
     "text": [
      "Processed /Users/chy/Projects/Thesis/mfcc/tt0311289_mfcc.png with feature shape: torch.Size([1, 197, 768])\n",
      "Processed /Users/chy/Projects/Thesis/mfcc/tt0074991_mfcc.png with feature shape: torch.Size([1, 197, 768])\n",
      "Processed /Users/chy/Projects/Thesis/mfcc/tt0422401_mfcc.png with feature shape: torch.Size([1, 197, 768])\n"
     ]
    },
    {
     "name": "stderr",
     "output_type": "stream",
     "text": [
      " 47%|████▋     | 642/1356 [00:54<01:04, 10.99it/s]"
     ]
    },
    {
     "name": "stdout",
     "output_type": "stream",
     "text": [
      "Processed /Users/chy/Projects/Thesis/mfcc/tt0354623_mfcc.png with feature shape: torch.Size([1, 197, 768])\n",
      "Processed /Users/chy/Projects/Thesis/mfcc/tt0482572_mfcc.png with feature shape: torch.Size([1, 197, 768])\n",
      "Processed /Users/chy/Projects/Thesis/mfcc/tt0287969_mfcc.png with feature shape: torch.Size([1, 197, 768])\n"
     ]
    },
    {
     "name": "stderr",
     "output_type": "stream",
     "text": [
      " 47%|████▋     | 644/1356 [00:54<01:01, 11.51it/s]"
     ]
    },
    {
     "name": "stdout",
     "output_type": "stream",
     "text": [
      "Processed /Users/chy/Projects/Thesis/mfcc/tt0765476_mfcc.png with feature shape: torch.Size([1, 197, 768])\n",
      "Processed /Users/chy/Projects/Thesis/mfcc/tt1723121_mfcc.png with feature shape: torch.Size([1, 197, 768])\n",
      "Processed /Users/chy/Projects/Thesis/mfcc/tt0317303_mfcc.png with feature shape: torch.Size([1, 197, 768])\n"
     ]
    },
    {
     "name": "stderr",
     "output_type": "stream",
     "text": [
      " 48%|████▊     | 648/1356 [00:55<00:59, 11.87it/s]"
     ]
    },
    {
     "name": "stdout",
     "output_type": "stream",
     "text": [
      "Processed /Users/chy/Projects/Thesis/mfcc/tt0157472_mfcc.png with feature shape: torch.Size([1, 197, 768])\n",
      "Processed /Users/chy/Projects/Thesis/mfcc/tt1142798_mfcc.png with feature shape: torch.Size([1, 197, 768])\n",
      "Processed /Users/chy/Projects/Thesis/mfcc/tt2340650_mfcc.png with feature shape: torch.Size([1, 197, 768])\n"
     ]
    },
    {
     "name": "stderr",
     "output_type": "stream",
     "text": [
      " 48%|████▊     | 650/1356 [00:55<01:12,  9.77it/s]"
     ]
    },
    {
     "name": "stdout",
     "output_type": "stream",
     "text": [
      "Processed /Users/chy/Projects/Thesis/mfcc/tt0445946_mfcc.png with feature shape: torch.Size([1, 197, 768])\n",
      "Processed /Users/chy/Projects/Thesis/mfcc/tt0758774_mfcc.png with feature shape: torch.Size([1, 197, 768])\n",
      "Processed /Users/chy/Projects/Thesis/mfcc/tt0434124_mfcc.png with feature shape: torch.Size([1, 197, 768])\n"
     ]
    },
    {
     "name": "stderr",
     "output_type": "stream",
     "text": [
      " 48%|████▊     | 654/1356 [00:55<01:02, 11.15it/s]"
     ]
    },
    {
     "name": "stdout",
     "output_type": "stream",
     "text": [
      "Processed /Users/chy/Projects/Thesis/mfcc/tt2637294_mfcc.png with feature shape: torch.Size([1, 197, 768])\n",
      "Processed /Users/chy/Projects/Thesis/mfcc/tt0389860_mfcc.png with feature shape: torch.Size([1, 197, 768])\n",
      "Processed /Users/chy/Projects/Thesis/mfcc/tt0484562_mfcc.png with feature shape: torch.Size([1, 197, 768])\n"
     ]
    },
    {
     "name": "stderr",
     "output_type": "stream",
     "text": [
      " 48%|████▊     | 656/1356 [00:55<01:00, 11.55it/s]"
     ]
    },
    {
     "name": "stdout",
     "output_type": "stream",
     "text": [
      "Processed /Users/chy/Projects/Thesis/mfcc/tt0430912_mfcc.png with feature shape: torch.Size([1, 197, 768])\n",
      "Processed /Users/chy/Projects/Thesis/mfcc/tt0278488_mfcc.png with feature shape: torch.Size([1, 197, 768])\n",
      "Processed /Users/chy/Projects/Thesis/mfcc/tt1132130_mfcc.png with feature shape: torch.Size([1, 197, 768])\n"
     ]
    },
    {
     "name": "stderr",
     "output_type": "stream",
     "text": [
      " 49%|████▊     | 660/1356 [00:56<00:59, 11.69it/s]"
     ]
    },
    {
     "name": "stdout",
     "output_type": "stream",
     "text": [
      "Processed /Users/chy/Projects/Thesis/mfcc/tt0211933_mfcc.png with feature shape: torch.Size([1, 197, 768])\n",
      "Processed /Users/chy/Projects/Thesis/mfcc/tt2626460_mfcc.png with feature shape: torch.Size([1, 197, 768])\n",
      "Processed /Users/chy/Projects/Thesis/mfcc/tt0212338_mfcc.png with feature shape: torch.Size([1, 197, 768])\n"
     ]
    },
    {
     "name": "stderr",
     "output_type": "stream",
     "text": [
      " 49%|████▉     | 662/1356 [00:56<00:58, 11.85it/s]"
     ]
    },
    {
     "name": "stdout",
     "output_type": "stream",
     "text": [
      "Processed /Users/chy/Projects/Thesis/mfcc/tt0780516_mfcc.png with feature shape: torch.Size([1, 197, 768])\n",
      "Processed /Users/chy/Projects/Thesis/mfcc/tt0082432_mfcc.png with feature shape: torch.Size([1, 197, 768])\n"
     ]
    },
    {
     "name": "stderr",
     "output_type": "stream",
     "text": [
      " 49%|████▉     | 664/1356 [00:56<01:05, 10.65it/s]"
     ]
    },
    {
     "name": "stdout",
     "output_type": "stream",
     "text": [
      "Processed /Users/chy/Projects/Thesis/mfcc/tt0281686_mfcc.png with feature shape: torch.Size([1, 197, 768])\n",
      "Processed /Users/chy/Projects/Thesis/mfcc/tt0271263_mfcc.png with feature shape: torch.Size([1, 197, 768])\n",
      "Processed /Users/chy/Projects/Thesis/mfcc/tt0363988_mfcc.png with feature shape: torch.Size([1, 197, 768])\n",
      "Processed /Users/chy/Projects/Thesis/mfcc/tt1450321_mfcc.png with feature shape: torch.Size([1, 197, 768])\n"
     ]
    },
    {
     "name": "stderr",
     "output_type": "stream",
     "text": [
      " 49%|████▉     | 668/1356 [00:56<00:58, 11.77it/s]"
     ]
    },
    {
     "name": "stdout",
     "output_type": "stream",
     "text": [
      "Processed /Users/chy/Projects/Thesis/mfcc/tt3687118_mfcc.png with feature shape: torch.Size([1, 197, 768])\n",
      "Processed /Users/chy/Projects/Thesis/mfcc/tt7050082_mfcc.png with feature shape: torch.Size([1, 197, 768])\n",
      "Processed /Users/chy/Projects/Thesis/mfcc/tt0273517_mfcc.png with feature shape: torch.Size([1, 197, 768])\n"
     ]
    },
    {
     "name": "stderr",
     "output_type": "stream",
     "text": [
      " 50%|████▉     | 672/1356 [00:57<00:57, 11.92it/s]"
     ]
    },
    {
     "name": "stdout",
     "output_type": "stream",
     "text": [
      "Processed /Users/chy/Projects/Thesis/mfcc/tt0411061_mfcc.png with feature shape: torch.Size([1, 197, 768])\n",
      "Processed /Users/chy/Projects/Thesis/mfcc/tt0413300_mfcc.png with feature shape: torch.Size([1, 197, 768])\n",
      "Processed /Users/chy/Projects/Thesis/mfcc/tt0473360_mfcc.png with feature shape: torch.Size([1, 197, 768])\n"
     ]
    },
    {
     "name": "stderr",
     "output_type": "stream",
     "text": [
      " 50%|████▉     | 674/1356 [00:57<00:57, 11.89it/s]"
     ]
    },
    {
     "name": "stdout",
     "output_type": "stream",
     "text": [
      "Processed /Users/chy/Projects/Thesis/mfcc/tt0192788_mfcc.png with feature shape: torch.Size([1, 197, 768])\n",
      "Processed /Users/chy/Projects/Thesis/mfcc/tt0834904_mfcc.png with feature shape: torch.Size([1, 197, 768])\n",
      "Processed /Users/chy/Projects/Thesis/mfcc/tt1430615_mfcc.png with feature shape: torch.Size([1, 197, 768])\n"
     ]
    },
    {
     "name": "stderr",
     "output_type": "stream",
     "text": [
      " 50%|█████     | 678/1356 [00:57<00:59, 11.41it/s]"
     ]
    },
    {
     "name": "stdout",
     "output_type": "stream",
     "text": [
      "Processed /Users/chy/Projects/Thesis/mfcc/tt1920849_mfcc.png with feature shape: torch.Size([1, 197, 768])\n",
      "Processed /Users/chy/Projects/Thesis/mfcc/tt1270761_mfcc.png with feature shape: torch.Size([1, 197, 768])\n",
      "Processed /Users/chy/Projects/Thesis/mfcc/tt0111256_mfcc.png with feature shape: torch.Size([1, 197, 768])\n",
      "Processed /Users/chy/Projects/Thesis/mfcc/tt0356680_mfcc.png with feature shape: torch.Size([1, 197, 768])\n"
     ]
    },
    {
     "name": "stderr",
     "output_type": "stream",
     "text": [
      " 50%|█████     | 682/1356 [00:57<00:55, 12.18it/s]"
     ]
    },
    {
     "name": "stdout",
     "output_type": "stream",
     "text": [
      "Processed /Users/chy/Projects/Thesis/mfcc/tt0964539_mfcc.png with feature shape: torch.Size([1, 197, 768])\n",
      "Processed /Users/chy/Projects/Thesis/mfcc/tt4638148_mfcc.png with feature shape: torch.Size([1, 197, 768])\n",
      "Processed /Users/chy/Projects/Thesis/mfcc/tt0113189_mfcc.png with feature shape: torch.Size([1, 197, 768])\n"
     ]
    },
    {
     "name": "stderr",
     "output_type": "stream",
     "text": [
      " 50%|█████     | 684/1356 [00:58<00:55, 12.10it/s]"
     ]
    },
    {
     "name": "stdout",
     "output_type": "stream",
     "text": [
      "Processed /Users/chy/Projects/Thesis/mfcc/tt0368343_mfcc.png with feature shape: torch.Size([1, 197, 768])\n",
      "Processed /Users/chy/Projects/Thesis/mfcc/tt1231287_mfcc.png with feature shape: torch.Size([1, 197, 768])\n",
      "Processed /Users/chy/Projects/Thesis/mfcc/tt0097351_mfcc.png with feature shape: torch.Size([1, 197, 768])\n"
     ]
    },
    {
     "name": "stderr",
     "output_type": "stream",
     "text": [
      " 51%|█████     | 686/1356 [00:58<00:55, 12.06it/s]"
     ]
    },
    {
     "name": "stdout",
     "output_type": "stream",
     "text": [
      "Processed /Users/chy/Projects/Thesis/mfcc/tt0460742_mfcc.png with feature shape: torch.Size([1, 197, 768])\n",
      "Processed /Users/chy/Projects/Thesis/mfcc/tt1028576_mfcc.png with feature shape: torch.Size([1, 197, 768])\n"
     ]
    },
    {
     "name": "stderr",
     "output_type": "stream",
     "text": [
      " 51%|█████     | 688/1356 [00:58<01:04, 10.32it/s]"
     ]
    },
    {
     "name": "stdout",
     "output_type": "stream",
     "text": [
      "Processed /Users/chy/Projects/Thesis/mfcc/tt0800240_mfcc.png with feature shape: torch.Size([1, 197, 768])\n",
      "Processed /Users/chy/Projects/Thesis/mfcc/tt2278871_mfcc.png with feature shape: torch.Size([1, 197, 768])\n",
      "Processed /Users/chy/Projects/Thesis/mfcc/tt0155776_mfcc.png with feature shape: torch.Size([1, 197, 768])\n"
     ]
    },
    {
     "name": "stderr",
     "output_type": "stream",
     "text": [
      " 51%|█████     | 692/1356 [00:58<00:58, 11.32it/s]"
     ]
    },
    {
     "name": "stdout",
     "output_type": "stream",
     "text": [
      "Processed /Users/chy/Projects/Thesis/mfcc/tt0443274_mfcc.png with feature shape: torch.Size([1, 197, 768])\n",
      "Processed /Users/chy/Projects/Thesis/mfcc/tt0119062_mfcc.png with feature shape: torch.Size([1, 197, 768])\n",
      "Processed /Users/chy/Projects/Thesis/mfcc/tt0800027_mfcc.png with feature shape: torch.Size([1, 197, 768])\n"
     ]
    },
    {
     "name": "stderr",
     "output_type": "stream",
     "text": [
      " 51%|█████▏    | 696/1356 [00:59<00:54, 12.08it/s]"
     ]
    },
    {
     "name": "stdout",
     "output_type": "stream",
     "text": [
      "Processed /Users/chy/Projects/Thesis/mfcc/tt0800241_mfcc.png with feature shape: torch.Size([1, 197, 768])\n",
      "Processed /Users/chy/Projects/Thesis/mfcc/tt1541995_mfcc.png with feature shape: torch.Size([1, 197, 768])\n",
      "Processed /Users/chy/Projects/Thesis/mfcc/tt2172584_mfcc.png with feature shape: torch.Size([1, 197, 768])\n"
     ]
    },
    {
     "name": "stderr",
     "output_type": "stream",
     "text": [
      " 51%|█████▏    | 698/1356 [00:59<00:53, 12.25it/s]"
     ]
    },
    {
     "name": "stdout",
     "output_type": "stream",
     "text": [
      "Processed /Users/chy/Projects/Thesis/mfcc/tt2784678_mfcc.png with feature shape: torch.Size([1, 197, 768])\n",
      "Processed /Users/chy/Projects/Thesis/mfcc/tt2141773_mfcc.png with feature shape: torch.Size([1, 197, 768])\n",
      "Processed /Users/chy/Projects/Thesis/mfcc/tt1548628_mfcc.png with feature shape: torch.Size([1, 197, 768])\n"
     ]
    },
    {
     "name": "stderr",
     "output_type": "stream",
     "text": [
      " 52%|█████▏    | 702/1356 [00:59<00:51, 12.65it/s]"
     ]
    },
    {
     "name": "stdout",
     "output_type": "stream",
     "text": [
      "Processed /Users/chy/Projects/Thesis/mfcc/tt0469965_mfcc.png with feature shape: torch.Size([1, 197, 768])\n",
      "Processed /Users/chy/Projects/Thesis/mfcc/tt0368578_mfcc.png with feature shape: torch.Size([1, 197, 768])\n",
      "Processed /Users/chy/Projects/Thesis/mfcc/tt3225318_mfcc.png with feature shape: torch.Size([1, 197, 768])\n"
     ]
    },
    {
     "name": "stderr",
     "output_type": "stream",
     "text": [
      " 52%|█████▏    | 704/1356 [00:59<00:55, 11.70it/s]"
     ]
    },
    {
     "name": "stdout",
     "output_type": "stream",
     "text": [
      "Processed /Users/chy/Projects/Thesis/mfcc/tt1247667_mfcc.png with feature shape: torch.Size([1, 197, 768])\n",
      "Processed /Users/chy/Projects/Thesis/mfcc/tt0888693_mfcc.png with feature shape: torch.Size([1, 197, 768])\n"
     ]
    },
    {
     "name": "stderr",
     "output_type": "stream",
     "text": [
      " 52%|█████▏    | 706/1356 [01:00<00:54, 12.01it/s]"
     ]
    },
    {
     "name": "stdout",
     "output_type": "stream",
     "text": [
      "Processed /Users/chy/Projects/Thesis/mfcc/tt0463854_mfcc.png with feature shape: torch.Size([1, 197, 768])\n",
      "Processed /Users/chy/Projects/Thesis/mfcc/tt0204175_mfcc.png with feature shape: torch.Size([1, 197, 768])\n",
      "Processed /Users/chy/Projects/Thesis/mfcc/tt0093624_mfcc.png with feature shape: torch.Size([1, 197, 768])\n",
      "Processed /Users/chy/Projects/Thesis/mfcc/tt0388473_mfcc.png with feature shape: torch.Size([1, 197, 768])\n"
     ]
    },
    {
     "name": "stderr",
     "output_type": "stream",
     "text": [
      " 52%|█████▏    | 710/1356 [01:00<00:50, 12.71it/s]"
     ]
    },
    {
     "name": "stdout",
     "output_type": "stream",
     "text": [
      "Processed /Users/chy/Projects/Thesis/mfcc/tt2334871_mfcc.png with feature shape: torch.Size([1, 197, 768])\n",
      "Processed /Users/chy/Projects/Thesis/mfcc/tt3960412_mfcc.png with feature shape: torch.Size([1, 197, 768])\n",
      "Processed /Users/chy/Projects/Thesis/mfcc/tt1130088_mfcc.png with feature shape: torch.Size([1, 197, 768])\n"
     ]
    },
    {
     "name": "stderr",
     "output_type": "stream",
     "text": [
      " 53%|█████▎    | 714/1356 [01:00<00:49, 12.97it/s]"
     ]
    },
    {
     "name": "stdout",
     "output_type": "stream",
     "text": [
      "Processed /Users/chy/Projects/Thesis/mfcc/tt0404030_mfcc.png with feature shape: torch.Size([1, 197, 768])\n",
      "Processed /Users/chy/Projects/Thesis/mfcc/tt0116269_mfcc.png with feature shape: torch.Size([1, 197, 768])\n",
      "Processed /Users/chy/Projects/Thesis/mfcc/tt2406566_mfcc.png with feature shape: torch.Size([1, 197, 768])\n"
     ]
    },
    {
     "name": "stderr",
     "output_type": "stream",
     "text": [
      " 53%|█████▎    | 716/1356 [01:00<00:49, 13.00it/s]"
     ]
    },
    {
     "name": "stdout",
     "output_type": "stream",
     "text": [
      "Processed /Users/chy/Projects/Thesis/mfcc/tt3322364_mfcc.png with feature shape: torch.Size([1, 197, 768])\n",
      "Processed /Users/chy/Projects/Thesis/mfcc/tt0910936_mfcc.png with feature shape: torch.Size([1, 197, 768])\n"
     ]
    },
    {
     "name": "stderr",
     "output_type": "stream",
     "text": [
      " 53%|█████▎    | 718/1356 [01:01<00:56, 11.27it/s]"
     ]
    },
    {
     "name": "stdout",
     "output_type": "stream",
     "text": [
      "Processed /Users/chy/Projects/Thesis/mfcc/tt0120662_mfcc.png with feature shape: torch.Size([1, 197, 768])\n",
      "Processed /Users/chy/Projects/Thesis/mfcc/tt5292624_mfcc.png with feature shape: torch.Size([1, 197, 768])\n",
      "Processed /Users/chy/Projects/Thesis/mfcc/tt2059171_mfcc.png with feature shape: torch.Size([1, 197, 768])\n",
      "Processed /Users/chy/Projects/Thesis/mfcc/tt0469641_mfcc.png with feature shape: torch.Size([1, 197, 768])\n"
     ]
    },
    {
     "name": "stderr",
     "output_type": "stream",
     "text": [
      " 53%|█████▎    | 722/1356 [01:01<00:50, 12.51it/s]"
     ]
    },
    {
     "name": "stdout",
     "output_type": "stream",
     "text": [
      "Processed /Users/chy/Projects/Thesis/mfcc/tt0407265_mfcc.png with feature shape: torch.Size([1, 197, 768])\n",
      "Processed /Users/chy/Projects/Thesis/mfcc/tt0468489_mfcc.png with feature shape: torch.Size([1, 197, 768])\n",
      "Processed /Users/chy/Projects/Thesis/mfcc/tt0419749_mfcc.png with feature shape: torch.Size([1, 197, 768])\n"
     ]
    },
    {
     "name": "stderr",
     "output_type": "stream",
     "text": [
      " 54%|█████▎    | 726/1356 [01:01<00:49, 12.79it/s]"
     ]
    },
    {
     "name": "stdout",
     "output_type": "stream",
     "text": [
      "Processed /Users/chy/Projects/Thesis/mfcc/tt3564200_mfcc.png with feature shape: torch.Size([1, 197, 768])\n",
      "Processed /Users/chy/Projects/Thesis/mfcc/tt0408236_mfcc.png with feature shape: torch.Size([1, 197, 768])\n",
      "Processed /Users/chy/Projects/Thesis/mfcc/tt0337930_mfcc.png with feature shape: torch.Size([1, 197, 768])\n"
     ]
    },
    {
     "name": "stderr",
     "output_type": "stream",
     "text": [
      " 54%|█████▎    | 728/1356 [01:01<00:48, 12.85it/s]"
     ]
    },
    {
     "name": "stdout",
     "output_type": "stream",
     "text": [
      "Processed /Users/chy/Projects/Thesis/mfcc/tt0441782_mfcc.png with feature shape: torch.Size([1, 197, 768])\n",
      "Processed /Users/chy/Projects/Thesis/mfcc/tt0144348_mfcc.png with feature shape: torch.Size([1, 197, 768])\n",
      "Processed /Users/chy/Projects/Thesis/mfcc/tt0295289_mfcc.png with feature shape: torch.Size([1, 197, 768])\n"
     ]
    },
    {
     "name": "stderr",
     "output_type": "stream",
     "text": [
      " 54%|█████▍    | 732/1356 [01:02<00:49, 12.52it/s]"
     ]
    },
    {
     "name": "stdout",
     "output_type": "stream",
     "text": [
      "Processed /Users/chy/Projects/Thesis/mfcc/tt1109624_mfcc.png with feature shape: torch.Size([1, 197, 768])\n",
      "Processed /Users/chy/Projects/Thesis/mfcc/tt1013753_mfcc.png with feature shape: torch.Size([1, 197, 768])\n",
      "Processed /Users/chy/Projects/Thesis/mfcc/tt1999890_mfcc.png with feature shape: torch.Size([1, 197, 768])\n"
     ]
    },
    {
     "name": "stderr",
     "output_type": "stream",
     "text": [
      " 54%|█████▍    | 734/1356 [01:02<00:54, 11.31it/s]"
     ]
    },
    {
     "name": "stdout",
     "output_type": "stream",
     "text": [
      "Processed /Users/chy/Projects/Thesis/mfcc/tt4981636_mfcc.png with feature shape: torch.Size([1, 197, 768])\n",
      "Processed /Users/chy/Projects/Thesis/mfcc/tt0460883_mfcc.png with feature shape: torch.Size([1, 197, 768])\n",
      "Processed /Users/chy/Projects/Thesis/mfcc/tt4156972_mfcc.png with feature shape: torch.Size([1, 197, 768])\n",
      "Processed /Users/chy/Projects/Thesis/mfcc/tt3079380_mfcc.png with feature shape: torch.Size([1, 197, 768])\n"
     ]
    },
    {
     "name": "stderr",
     "output_type": "stream",
     "text": [
      " 54%|█████▍    | 738/1356 [01:02<00:49, 12.58it/s]"
     ]
    },
    {
     "name": "stdout",
     "output_type": "stream",
     "text": [
      "Processed /Users/chy/Projects/Thesis/mfcc/tt1333125_mfcc.png with feature shape: torch.Size([1, 197, 768])\n",
      "Processed /Users/chy/Projects/Thesis/mfcc/tt0425123_mfcc.png with feature shape: torch.Size([1, 197, 768])\n",
      "Processed /Users/chy/Projects/Thesis/mfcc/tt0437777_mfcc.png with feature shape: torch.Size([1, 197, 768])\n"
     ]
    },
    {
     "name": "stderr",
     "output_type": "stream",
     "text": [
      " 55%|█████▍    | 742/1356 [01:02<00:47, 12.83it/s]"
     ]
    },
    {
     "name": "stdout",
     "output_type": "stream",
     "text": [
      "Processed /Users/chy/Projects/Thesis/mfcc/tt0113617_mfcc.png with feature shape: torch.Size([1, 197, 768])\n",
      "Processed /Users/chy/Projects/Thesis/mfcc/tt6400674_mfcc.png with feature shape: torch.Size([1, 197, 768])\n",
      "Processed /Users/chy/Projects/Thesis/mfcc/tt1691917_mfcc.png with feature shape: torch.Size([1, 197, 768])\n"
     ]
    },
    {
     "name": "stderr",
     "output_type": "stream",
     "text": [
      " 55%|█████▍    | 744/1356 [01:03<00:49, 12.35it/s]"
     ]
    },
    {
     "name": "stdout",
     "output_type": "stream",
     "text": [
      "Processed /Users/chy/Projects/Thesis/mfcc/tt0327919_mfcc.png with feature shape: torch.Size([1, 197, 768])\n",
      "Processed /Users/chy/Projects/Thesis/mfcc/tt2458776_mfcc.png with feature shape: torch.Size([1, 197, 768])\n",
      "Processed /Users/chy/Projects/Thesis/mfcc/tt0472160_mfcc.png with feature shape: torch.Size([1, 197, 768])\n"
     ]
    },
    {
     "name": "stderr",
     "output_type": "stream",
     "text": [
      " 55%|█████▌    | 746/1356 [01:03<00:48, 12.45it/s]"
     ]
    },
    {
     "name": "stdout",
     "output_type": "stream",
     "text": [
      "Processed /Users/chy/Projects/Thesis/mfcc/tt0490579_mfcc.png with feature shape: torch.Size([1, 197, 768])\n",
      "Processed /Users/chy/Projects/Thesis/mfcc/tt0893346_mfcc.png with feature shape: torch.Size([1, 197, 768])\n"
     ]
    },
    {
     "name": "stderr",
     "output_type": "stream",
     "text": [
      " 55%|█████▌    | 750/1356 [01:03<00:51, 11.77it/s]"
     ]
    },
    {
     "name": "stdout",
     "output_type": "stream",
     "text": [
      "Processed /Users/chy/Projects/Thesis/mfcc/tt0107302_mfcc.png with feature shape: torch.Size([1, 197, 768])\n",
      "Processed /Users/chy/Projects/Thesis/mfcc/tt2788710_mfcc.png with feature shape: torch.Size([1, 197, 768])\n",
      "Processed /Users/chy/Projects/Thesis/mfcc/tt0780504_mfcc.png with feature shape: torch.Size([1, 197, 768])\n"
     ]
    },
    {
     "name": "stderr",
     "output_type": "stream",
     "text": [
      " 55%|█████▌    | 752/1356 [01:03<00:51, 11.71it/s]"
     ]
    },
    {
     "name": "stdout",
     "output_type": "stream",
     "text": [
      "Processed /Users/chy/Projects/Thesis/mfcc/tt0914797_mfcc.png with feature shape: torch.Size([1, 197, 768])\n",
      "Processed /Users/chy/Projects/Thesis/mfcc/tt3564472_mfcc.png with feature shape: torch.Size([1, 197, 768])\n",
      "Processed /Users/chy/Projects/Thesis/mfcc/tt1176740_mfcc.png with feature shape: torch.Size([1, 197, 768])\n"
     ]
    },
    {
     "name": "stderr",
     "output_type": "stream",
     "text": [
      " 56%|█████▌    | 756/1356 [01:04<00:49, 12.03it/s]"
     ]
    },
    {
     "name": "stdout",
     "output_type": "stream",
     "text": [
      "Processed /Users/chy/Projects/Thesis/mfcc/tt0465234_mfcc.png with feature shape: torch.Size([1, 197, 768])\n",
      "Processed /Users/chy/Projects/Thesis/mfcc/tt0323572_mfcc.png with feature shape: torch.Size([1, 197, 768])\n",
      "Processed /Users/chy/Projects/Thesis/mfcc/tt4160708_mfcc.png with feature shape: torch.Size([1, 197, 768])\n"
     ]
    },
    {
     "name": "stderr",
     "output_type": "stream",
     "text": [
      " 56%|█████▌    | 758/1356 [01:04<00:48, 12.31it/s]"
     ]
    },
    {
     "name": "stdout",
     "output_type": "stream",
     "text": [
      "Processed /Users/chy/Projects/Thesis/mfcc/tt0417395_mfcc.png with feature shape: torch.Size([1, 197, 768])\n",
      "Processed /Users/chy/Projects/Thesis/mfcc/tt1014775_mfcc.png with feature shape: torch.Size([1, 197, 768])\n"
     ]
    },
    {
     "name": "stderr",
     "output_type": "stream",
     "text": [
      " 56%|█████▌    | 760/1356 [01:04<00:54, 10.88it/s]"
     ]
    },
    {
     "name": "stdout",
     "output_type": "stream",
     "text": [
      "Processed /Users/chy/Projects/Thesis/mfcc/tt0460792_mfcc.png with feature shape: torch.Size([1, 197, 768])\n",
      "Processed /Users/chy/Projects/Thesis/mfcc/tt0890870_mfcc.png with feature shape: torch.Size([1, 197, 768])\n",
      "Processed /Users/chy/Projects/Thesis/mfcc/tt3824648_mfcc.png with feature shape: torch.Size([1, 197, 768])\n",
      "Processed /Users/chy/Projects/Thesis/mfcc/tt1714203_mfcc.png with feature shape: torch.Size([1, 197, 768])\n"
     ]
    },
    {
     "name": "stderr",
     "output_type": "stream",
     "text": [
      " 56%|█████▋    | 764/1356 [01:04<00:48, 12.16it/s]"
     ]
    },
    {
     "name": "stdout",
     "output_type": "stream",
     "text": [
      "Processed /Users/chy/Projects/Thesis/mfcc/tt0406706_mfcc.png with feature shape: torch.Size([1, 197, 768])\n",
      "Processed /Users/chy/Projects/Thesis/mfcc/tt0101969_mfcc.png with feature shape: torch.Size([1, 197, 768])\n",
      "Processed /Users/chy/Projects/Thesis/mfcc/tt0398913_mfcc.png with feature shape: torch.Size([1, 197, 768])\n"
     ]
    },
    {
     "name": "stderr",
     "output_type": "stream",
     "text": [
      " 57%|█████▋    | 768/1356 [01:05<00:46, 12.61it/s]"
     ]
    },
    {
     "name": "stdout",
     "output_type": "stream",
     "text": [
      "Processed /Users/chy/Projects/Thesis/mfcc/tt0323944_mfcc.png with feature shape: torch.Size([1, 197, 768])\n",
      "Processed /Users/chy/Projects/Thesis/mfcc/tt0279493_mfcc.png with feature shape: torch.Size([1, 197, 768])\n",
      "Processed /Users/chy/Projects/Thesis/mfcc/tt1001526_mfcc.png with feature shape: torch.Size([1, 197, 768])\n"
     ]
    },
    {
     "name": "stderr",
     "output_type": "stream",
     "text": [
      " 57%|█████▋    | 770/1356 [01:05<00:46, 12.59it/s]"
     ]
    },
    {
     "name": "stdout",
     "output_type": "stream",
     "text": [
      "Processed /Users/chy/Projects/Thesis/mfcc/tt0435705_mfcc.png with feature shape: torch.Size([1, 197, 768])\n",
      "Processed /Users/chy/Projects/Thesis/mfcc/tt3349578_mfcc.png with feature shape: torch.Size([1, 197, 768])\n",
      "Processed /Users/chy/Projects/Thesis/mfcc/tt0356910_mfcc.png with feature shape: torch.Size([1, 197, 768])\n"
     ]
    },
    {
     "name": "stderr",
     "output_type": "stream",
     "text": [
      " 57%|█████▋    | 772/1356 [01:05<00:51, 11.31it/s]"
     ]
    },
    {
     "name": "stdout",
     "output_type": "stream",
     "text": [
      "Processed /Users/chy/Projects/Thesis/mfcc/tt1425922_mfcc.png with feature shape: torch.Size([1, 197, 768])\n",
      "Processed /Users/chy/Projects/Thesis/mfcc/tt0081748_mfcc.png with feature shape: torch.Size([1, 197, 768])\n"
     ]
    },
    {
     "name": "stderr",
     "output_type": "stream",
     "text": [
      " 57%|█████▋    | 776/1356 [01:05<00:47, 12.33it/s]"
     ]
    },
    {
     "name": "stdout",
     "output_type": "stream",
     "text": [
      "Processed /Users/chy/Projects/Thesis/mfcc/tt1456635_mfcc.png with feature shape: torch.Size([1, 197, 768])\n",
      "Processed /Users/chy/Projects/Thesis/mfcc/tt0112571_mfcc.png with feature shape: torch.Size([1, 197, 768])\n",
      "Processed /Users/chy/Projects/Thesis/mfcc/tt2404311_mfcc.png with feature shape: torch.Size([1, 197, 768])\n"
     ]
    },
    {
     "name": "stderr",
     "output_type": "stream",
     "text": [
      " 57%|█████▋    | 778/1356 [01:05<00:45, 12.68it/s]"
     ]
    },
    {
     "name": "stdout",
     "output_type": "stream",
     "text": [
      "Processed /Users/chy/Projects/Thesis/mfcc/tt1637574_mfcc.png with feature shape: torch.Size([1, 197, 768])\n",
      "Processed /Users/chy/Projects/Thesis/mfcc/tt0412922_mfcc.png with feature shape: torch.Size([1, 197, 768])\n",
      "Processed /Users/chy/Projects/Thesis/mfcc/tt1104001_mfcc.png with feature shape: torch.Size([1, 197, 768])\n"
     ]
    },
    {
     "name": "stderr",
     "output_type": "stream",
     "text": [
      " 58%|█████▊    | 782/1356 [01:06<00:44, 12.79it/s]"
     ]
    },
    {
     "name": "stdout",
     "output_type": "stream",
     "text": [
      "Processed /Users/chy/Projects/Thesis/mfcc/tt0102511_mfcc.png with feature shape: torch.Size([1, 197, 768])\n",
      "Processed /Users/chy/Projects/Thesis/mfcc/tt1821658_mfcc.png with feature shape: torch.Size([1, 197, 768])\n",
      "Processed /Users/chy/Projects/Thesis/mfcc/tt0317198_mfcc.png with feature shape: torch.Size([1, 197, 768])\n"
     ]
    },
    {
     "name": "stderr",
     "output_type": "stream",
     "text": [
      " 58%|█████▊    | 784/1356 [01:06<00:49, 11.49it/s]"
     ]
    },
    {
     "name": "stdout",
     "output_type": "stream",
     "text": [
      "Processed /Users/chy/Projects/Thesis/mfcc/tt1815708_mfcc.png with feature shape: torch.Size([1, 197, 768])\n",
      "Processed /Users/chy/Projects/Thesis/mfcc/tt0116410_mfcc.png with feature shape: torch.Size([1, 197, 768])\n",
      "Processed /Users/chy/Projects/Thesis/mfcc/tt0446676_mfcc.png with feature shape: torch.Size([1, 197, 768])\n",
      "Processed /Users/chy/Projects/Thesis/mfcc/tt0086837_mfcc.png with feature shape: torch.Size([1, 197, 768])\n"
     ]
    },
    {
     "name": "stderr",
     "output_type": "stream",
     "text": [
      " 58%|█████▊    | 788/1356 [01:06<00:44, 12.74it/s]"
     ]
    },
    {
     "name": "stdout",
     "output_type": "stream",
     "text": [
      "Processed /Users/chy/Projects/Thesis/mfcc/tt0377062_mfcc.png with feature shape: torch.Size([1, 197, 768])\n",
      "Processed /Users/chy/Projects/Thesis/mfcc/tt0772193_mfcc.png with feature shape: torch.Size([1, 197, 768])\n",
      "Processed /Users/chy/Projects/Thesis/mfcc/tt0418004_mfcc.png with feature shape: torch.Size([1, 197, 768])\n"
     ]
    },
    {
     "name": "stderr",
     "output_type": "stream",
     "text": [
      " 58%|█████▊    | 792/1356 [01:07<00:43, 12.85it/s]"
     ]
    },
    {
     "name": "stdout",
     "output_type": "stream",
     "text": [
      "Processed /Users/chy/Projects/Thesis/mfcc/tt0117951_mfcc.png with feature shape: torch.Size([1, 197, 768])\n",
      "Processed /Users/chy/Projects/Thesis/mfcc/tt7690016_mfcc.png with feature shape: torch.Size([1, 197, 768])\n",
      "Processed /Users/chy/Projects/Thesis/mfcc/tt1817771_mfcc.png with feature shape: torch.Size([1, 197, 768])\n"
     ]
    },
    {
     "name": "stderr",
     "output_type": "stream",
     "text": [
      " 59%|█████▊    | 794/1356 [01:07<00:43, 12.95it/s]"
     ]
    },
    {
     "name": "stdout",
     "output_type": "stream",
     "text": [
      "Processed /Users/chy/Projects/Thesis/mfcc/tt0887719_mfcc.png with feature shape: torch.Size([1, 197, 768])\n",
      "Processed /Users/chy/Projects/Thesis/mfcc/tt0864761_mfcc.png with feature shape: torch.Size([1, 197, 768])\n",
      "Processed /Users/chy/Projects/Thesis/mfcc/tt0486020_mfcc.png with feature shape: torch.Size([1, 197, 768])\n"
     ]
    },
    {
     "name": "stderr",
     "output_type": "stream",
     "text": [
      " 59%|█████▊    | 796/1356 [01:07<00:42, 13.03it/s]"
     ]
    },
    {
     "name": "stdout",
     "output_type": "stream",
     "text": [
      "Processed /Users/chy/Projects/Thesis/mfcc/tt0461703_mfcc.png with feature shape: torch.Size([1, 197, 768])\n",
      "Processed /Users/chy/Projects/Thesis/mfcc/tt7073710_mfcc.png with feature shape: torch.Size([1, 197, 768])\n"
     ]
    },
    {
     "name": "stderr",
     "output_type": "stream",
     "text": [
      " 59%|█████▉    | 800/1356 [01:07<00:46, 11.94it/s]"
     ]
    },
    {
     "name": "stdout",
     "output_type": "stream",
     "text": [
      "Processed /Users/chy/Projects/Thesis/mfcc/tt0301924_mfcc.png with feature shape: torch.Size([1, 197, 768])\n",
      "Processed /Users/chy/Projects/Thesis/mfcc/tt0397892_mfcc.png with feature shape: torch.Size([1, 197, 768])\n",
      "Processed /Users/chy/Projects/Thesis/mfcc/tt0318763_mfcc.png with feature shape: torch.Size([1, 197, 768])\n"
     ]
    },
    {
     "name": "stderr",
     "output_type": "stream",
     "text": [
      " 59%|█████▉    | 802/1356 [01:07<00:46, 11.88it/s]"
     ]
    },
    {
     "name": "stdout",
     "output_type": "stream",
     "text": [
      "Processed /Users/chy/Projects/Thesis/mfcc/tt1060277_mfcc.png with feature shape: torch.Size([1, 197, 768])\n",
      "Processed /Users/chy/Projects/Thesis/mfcc/tt3721964_mfcc.png with feature shape: torch.Size([1, 197, 768])\n",
      "Processed /Users/chy/Projects/Thesis/mfcc/tt2758904_mfcc.png with feature shape: torch.Size([1, 197, 768])\n"
     ]
    },
    {
     "name": "stderr",
     "output_type": "stream",
     "text": [
      " 59%|█████▉    | 804/1356 [01:08<00:47, 11.51it/s]"
     ]
    },
    {
     "name": "stdout",
     "output_type": "stream",
     "text": [
      "Processed /Users/chy/Projects/Thesis/mfcc/tt1142977_mfcc.png with feature shape: torch.Size([1, 197, 768])\n",
      "Processed /Users/chy/Projects/Thesis/mfcc/tt1018830_mfcc.png with feature shape: torch.Size([1, 197, 768])\n",
      "Processed /Users/chy/Projects/Thesis/mfcc/tt1071880_mfcc.png with feature shape: torch.Size([1, 197, 768])\n"
     ]
    },
    {
     "name": "stderr",
     "output_type": "stream",
     "text": [
      " 60%|█████▉    | 808/1356 [01:08<00:49, 11.04it/s]"
     ]
    },
    {
     "name": "stdout",
     "output_type": "stream",
     "text": [
      "Processed /Users/chy/Projects/Thesis/mfcc/tt3491962_mfcc.png with feature shape: torch.Size([1, 197, 768])\n",
      "Processed /Users/chy/Projects/Thesis/mfcc/tt0098067_mfcc.png with feature shape: torch.Size([1, 197, 768])\n",
      "Processed /Users/chy/Projects/Thesis/mfcc/tt0970468_mfcc.png with feature shape: torch.Size([1, 197, 768])\n"
     ]
    },
    {
     "name": "stderr",
     "output_type": "stream",
     "text": [
      " 60%|█████▉    | 810/1356 [01:08<00:49, 10.96it/s]"
     ]
    },
    {
     "name": "stdout",
     "output_type": "stream",
     "text": [
      "Processed /Users/chy/Projects/Thesis/mfcc/tt0261289_mfcc.png with feature shape: torch.Size([1, 197, 768])\n",
      "Processed /Users/chy/Projects/Thesis/mfcc/tt0265087_mfcc.png with feature shape: torch.Size([1, 197, 768])\n"
     ]
    },
    {
     "name": "stderr",
     "output_type": "stream",
     "text": [
      " 60%|██████    | 814/1356 [01:09<00:51, 10.58it/s]"
     ]
    },
    {
     "name": "stdout",
     "output_type": "stream",
     "text": [
      "Processed /Users/chy/Projects/Thesis/mfcc/tt0104990_mfcc.png with feature shape: torch.Size([1, 197, 768])\n",
      "Processed /Users/chy/Projects/Thesis/mfcc/tt0265086_mfcc.png with feature shape: torch.Size([1, 197, 768])\n",
      "Processed /Users/chy/Projects/Thesis/mfcc/tt5579982_mfcc.png with feature shape: torch.Size([1, 197, 768])\n"
     ]
    },
    {
     "name": "stderr",
     "output_type": "stream",
     "text": [
      " 60%|██████    | 816/1356 [01:09<00:51, 10.48it/s]"
     ]
    },
    {
     "name": "stdout",
     "output_type": "stream",
     "text": [
      "Processed /Users/chy/Projects/Thesis/mfcc/tt0765451_mfcc.png with feature shape: torch.Size([1, 197, 768])\n",
      "Processed /Users/chy/Projects/Thesis/mfcc/tt0305669_mfcc.png with feature shape: torch.Size([1, 197, 768])\n",
      "Processed /Users/chy/Projects/Thesis/mfcc/tt0251736_mfcc.png with feature shape: torch.Size([1, 197, 768])\n"
     ]
    },
    {
     "name": "stderr",
     "output_type": "stream",
     "text": [
      " 60%|██████    | 820/1356 [01:09<00:48, 11.16it/s]"
     ]
    },
    {
     "name": "stdout",
     "output_type": "stream",
     "text": [
      "Processed /Users/chy/Projects/Thesis/mfcc/tt3824458_mfcc.png with feature shape: torch.Size([1, 197, 768])\n",
      "Processed /Users/chy/Projects/Thesis/mfcc/tt0323531_mfcc.png with feature shape: torch.Size([1, 197, 768])\n",
      "Processed /Users/chy/Projects/Thesis/mfcc/tt0815241_mfcc.png with feature shape: torch.Size([1, 197, 768])\n"
     ]
    },
    {
     "name": "stderr",
     "output_type": "stream",
     "text": [
      " 61%|██████    | 822/1356 [01:09<00:46, 11.50it/s]"
     ]
    },
    {
     "name": "stdout",
     "output_type": "stream",
     "text": [
      "Processed /Users/chy/Projects/Thesis/mfcc/tt0104114_mfcc.png with feature shape: torch.Size([1, 197, 768])\n",
      "Processed /Users/chy/Projects/Thesis/mfcc/tt0483607_mfcc.png with feature shape: torch.Size([1, 197, 768])\n"
     ]
    },
    {
     "name": "stderr",
     "output_type": "stream",
     "text": [
      " 61%|██████    | 826/1356 [01:10<00:47, 11.17it/s]"
     ]
    },
    {
     "name": "stdout",
     "output_type": "stream",
     "text": [
      "Processed /Users/chy/Projects/Thesis/mfcc/tt0361805_mfcc.png with feature shape: torch.Size([1, 197, 768])\n",
      "Processed /Users/chy/Projects/Thesis/mfcc/tt5834262_mfcc.png with feature shape: torch.Size([1, 197, 768])\n",
      "Processed /Users/chy/Projects/Thesis/mfcc/tt0355954_mfcc.png with feature shape: torch.Size([1, 197, 768])\n",
      "Processed /Users/chy/Projects/Thesis/mfcc/tt1153706_mfcc.png with feature shape: torch.Size([1, 197, 768])\n"
     ]
    },
    {
     "name": "stderr",
     "output_type": "stream",
     "text": [
      " 61%|██████    | 828/1356 [01:10<00:46, 11.37it/s]"
     ]
    },
    {
     "name": "stdout",
     "output_type": "stream",
     "text": [
      "Processed /Users/chy/Projects/Thesis/mfcc/tt0479201_mfcc.png with feature shape: torch.Size([1, 197, 768])\n",
      "Processed /Users/chy/Projects/Thesis/mfcc/tt0480269_mfcc.png with feature shape: torch.Size([1, 197, 768])\n",
      "Processed /Users/chy/Projects/Thesis/mfcc/tt0844671_mfcc.png with feature shape: torch.Size([1, 197, 768])\n"
     ]
    },
    {
     "name": "stderr",
     "output_type": "stream",
     "text": [
      " 61%|██████▏   | 832/1356 [01:10<00:43, 12.18it/s]"
     ]
    },
    {
     "name": "stdout",
     "output_type": "stream",
     "text": [
      "Processed /Users/chy/Projects/Thesis/mfcc/tt0101414_mfcc.png with feature shape: torch.Size([1, 197, 768])\n",
      "Processed /Users/chy/Projects/Thesis/mfcc/tt2235108_mfcc.png with feature shape: torch.Size([1, 197, 768])\n",
      "Processed /Users/chy/Projects/Thesis/mfcc/tt3955808_mfcc.png with feature shape: torch.Size([1, 197, 768])\n"
     ]
    },
    {
     "name": "stderr",
     "output_type": "stream",
     "text": [
      " 62%|██████▏   | 834/1356 [01:10<00:42, 12.29it/s]"
     ]
    },
    {
     "name": "stdout",
     "output_type": "stream",
     "text": [
      "Processed /Users/chy/Projects/Thesis/mfcc/tt0763304_mfcc.png with feature shape: torch.Size([1, 197, 768])\n",
      "Processed /Users/chy/Projects/Thesis/mfcc/tt0138467_mfcc.png with feature shape: torch.Size([1, 197, 768])\n",
      "Processed /Users/chy/Projects/Thesis/mfcc/tt0809504_mfcc.png with feature shape: torch.Size([1, 197, 768])\n"
     ]
    },
    {
     "name": "stderr",
     "output_type": "stream",
     "text": [
      " 62%|██████▏   | 838/1356 [01:11<00:46, 11.13it/s]"
     ]
    },
    {
     "name": "stdout",
     "output_type": "stream",
     "text": [
      "Processed /Users/chy/Projects/Thesis/mfcc/tt1547090_mfcc.png with feature shape: torch.Size([1, 197, 768])\n",
      "Processed /Users/chy/Projects/Thesis/mfcc/tt4273562_mfcc.png with feature shape: torch.Size([1, 197, 768])\n",
      "Processed /Users/chy/Projects/Thesis/mfcc/tt0115683_mfcc.png with feature shape: torch.Size([1, 197, 768])\n"
     ]
    },
    {
     "name": "stderr",
     "output_type": "stream",
     "text": [
      " 62%|██████▏   | 840/1356 [01:11<00:49, 10.44it/s]"
     ]
    },
    {
     "name": "stdout",
     "output_type": "stream",
     "text": [
      "Processed /Users/chy/Projects/Thesis/mfcc/tt0397313_mfcc.png with feature shape: torch.Size([1, 197, 768])\n",
      "Processed /Users/chy/Projects/Thesis/mfcc/tt0278823_mfcc.png with feature shape: torch.Size([1, 197, 768])\n",
      "Processed /Users/chy/Projects/Thesis/mfcc/tt0285823_mfcc.png with feature shape: torch.Size([1, 197, 768])\n"
     ]
    },
    {
     "name": "stderr",
     "output_type": "stream",
     "text": [
      " 62%|██████▏   | 844/1356 [01:11<00:43, 11.72it/s]"
     ]
    },
    {
     "name": "stdout",
     "output_type": "stream",
     "text": [
      "Processed /Users/chy/Projects/Thesis/mfcc/tt2097298_mfcc.png with feature shape: torch.Size([1, 197, 768])\n",
      "Processed /Users/chy/Projects/Thesis/mfcc/tt1076252_mfcc.png with feature shape: torch.Size([1, 197, 768])\n",
      "Processed /Users/chy/Projects/Thesis/mfcc/tt5649108_mfcc.png with feature shape: torch.Size([1, 197, 768])\n"
     ]
    },
    {
     "name": "stderr",
     "output_type": "stream",
     "text": [
      " 62%|██████▏   | 846/1356 [01:11<00:42, 11.95it/s]"
     ]
    },
    {
     "name": "stdout",
     "output_type": "stream",
     "text": [
      "Processed /Users/chy/Projects/Thesis/mfcc/tt0092794_mfcc.png with feature shape: torch.Size([1, 197, 768])\n",
      "Processed /Users/chy/Projects/Thesis/mfcc/tt0901476_mfcc.png with feature shape: torch.Size([1, 197, 768])\n",
      "Processed /Users/chy/Projects/Thesis/mfcc/tt0134983_mfcc.png with feature shape: torch.Size([1, 197, 768])\n"
     ]
    },
    {
     "name": "stderr",
     "output_type": "stream",
     "text": [
      " 63%|██████▎   | 850/1356 [01:12<00:47, 10.63it/s]"
     ]
    },
    {
     "name": "stdout",
     "output_type": "stream",
     "text": [
      "Processed /Users/chy/Projects/Thesis/mfcc/tt2433040_mfcc.png with feature shape: torch.Size([1, 197, 768])\n",
      "Processed /Users/chy/Projects/Thesis/mfcc/tt0926129_mfcc.png with feature shape: torch.Size([1, 197, 768])\n",
      "Processed /Users/chy/Projects/Thesis/mfcc/tt0124879_mfcc.png with feature shape: torch.Size([1, 197, 768])\n"
     ]
    },
    {
     "name": "stderr",
     "output_type": "stream",
     "text": [
      " 63%|██████▎   | 852/1356 [01:12<00:44, 11.25it/s]"
     ]
    },
    {
     "name": "stdout",
     "output_type": "stream",
     "text": [
      "Processed /Users/chy/Projects/Thesis/mfcc/tt0457510_mfcc.png with feature shape: torch.Size([1, 197, 768])\n",
      "Processed /Users/chy/Projects/Thesis/mfcc/tt0082766_mfcc.png with feature shape: torch.Size([1, 197, 768])\n",
      "Processed /Users/chy/Projects/Thesis/mfcc/tt2244901_mfcc.png with feature shape: torch.Size([1, 197, 768])\n"
     ]
    },
    {
     "name": "stderr",
     "output_type": "stream",
     "text": [
      " 63%|██████▎   | 856/1356 [01:12<00:43, 11.53it/s]"
     ]
    },
    {
     "name": "stdout",
     "output_type": "stream",
     "text": [
      "Processed /Users/chy/Projects/Thesis/mfcc/tt5918982_mfcc.png with feature shape: torch.Size([1, 197, 768])\n",
      "Processed /Users/chy/Projects/Thesis/mfcc/tt0356721_mfcc.png with feature shape: torch.Size([1, 197, 768])\n",
      "Processed /Users/chy/Projects/Thesis/mfcc/tt0166158_mfcc.png with feature shape: torch.Size([1, 197, 768])\n"
     ]
    },
    {
     "name": "stderr",
     "output_type": "stream",
     "text": [
      " 63%|██████▎   | 858/1356 [01:12<00:42, 11.58it/s]"
     ]
    },
    {
     "name": "stdout",
     "output_type": "stream",
     "text": [
      "Processed /Users/chy/Projects/Thesis/mfcc/tt3799694_mfcc.png with feature shape: torch.Size([1, 197, 768])\n",
      "Processed /Users/chy/Projects/Thesis/mfcc/tt0282209_mfcc.png with feature shape: torch.Size([1, 197, 768])\n",
      "Processed /Users/chy/Projects/Thesis/mfcc/tt0415965_mfcc.png with feature shape: torch.Size([1, 197, 768])\n"
     ]
    },
    {
     "name": "stderr",
     "output_type": "stream",
     "text": [
      " 63%|██████▎   | 860/1356 [01:13<00:42, 11.65it/s]"
     ]
    },
    {
     "name": "stdout",
     "output_type": "stream",
     "text": [
      "Processed /Users/chy/Projects/Thesis/mfcc/tt0245686_mfcc.png with feature shape: torch.Size([1, 197, 768])\n",
      "Processed /Users/chy/Projects/Thesis/mfcc/tt4786132_mfcc.png with feature shape: torch.Size([1, 197, 768])\n"
     ]
    },
    {
     "name": "stderr",
     "output_type": "stream",
     "text": [
      " 64%|██████▎   | 864/1356 [01:13<00:44, 10.94it/s]"
     ]
    },
    {
     "name": "stdout",
     "output_type": "stream",
     "text": [
      "Processed /Users/chy/Projects/Thesis/mfcc/tt0353489_mfcc.png with feature shape: torch.Size([1, 197, 768])\n",
      "Processed /Users/chy/Projects/Thesis/mfcc/tt0274711_mfcc.png with feature shape: torch.Size([1, 197, 768])\n",
      "Processed /Users/chy/Projects/Thesis/mfcc/tt0383694_mfcc.png with feature shape: torch.Size([1, 197, 768])\n"
     ]
    },
    {
     "name": "stderr",
     "output_type": "stream",
     "text": [
      " 64%|██████▍   | 866/1356 [01:13<00:43, 11.30it/s]"
     ]
    },
    {
     "name": "stdout",
     "output_type": "stream",
     "text": [
      "Processed /Users/chy/Projects/Thesis/mfcc/tt0113737_mfcc.png with feature shape: torch.Size([1, 197, 768])\n",
      "Processed /Users/chy/Projects/Thesis/mfcc/tt1792647_mfcc.png with feature shape: torch.Size([1, 197, 768])\n",
      "Processed /Users/chy/Projects/Thesis/mfcc/tt0380268_mfcc.png with feature shape: torch.Size([1, 197, 768])\n"
     ]
    },
    {
     "name": "stderr",
     "output_type": "stream",
     "text": [
      " 64%|██████▍   | 870/1356 [01:14<00:43, 11.19it/s]"
     ]
    },
    {
     "name": "stdout",
     "output_type": "stream",
     "text": [
      "Processed /Users/chy/Projects/Thesis/mfcc/tt1837642_mfcc.png with feature shape: torch.Size([1, 197, 768])\n",
      "Processed /Users/chy/Projects/Thesis/mfcc/tt4651520_mfcc.png with feature shape: torch.Size([1, 197, 768])\n",
      "Processed /Users/chy/Projects/Thesis/mfcc/tt3708886_mfcc.png with feature shape: torch.Size([1, 197, 768])\n"
     ]
    },
    {
     "name": "stderr",
     "output_type": "stream",
     "text": [
      " 64%|██████▍   | 872/1356 [01:14<00:42, 11.47it/s]"
     ]
    },
    {
     "name": "stdout",
     "output_type": "stream",
     "text": [
      "Processed /Users/chy/Projects/Thesis/mfcc/tt0398839_mfcc.png with feature shape: torch.Size([1, 197, 768])\n",
      "Processed /Users/chy/Projects/Thesis/mfcc/tt1547230_mfcc.png with feature shape: torch.Size([1, 197, 768])\n"
     ]
    },
    {
     "name": "stderr",
     "output_type": "stream",
     "text": [
      " 64%|██████▍   | 874/1356 [01:14<00:48,  9.88it/s]"
     ]
    },
    {
     "name": "stdout",
     "output_type": "stream",
     "text": [
      "Processed /Users/chy/Projects/Thesis/mfcc/tt0367652_mfcc.png with feature shape: torch.Size([1, 197, 768])\n",
      "Processed /Users/chy/Projects/Thesis/mfcc/tt0382077_mfcc.png with feature shape: torch.Size([1, 197, 768])\n",
      "Processed /Users/chy/Projects/Thesis/mfcc/tt1078188_mfcc.png with feature shape: torch.Size([1, 197, 768])\n"
     ]
    },
    {
     "name": "stderr",
     "output_type": "stream",
     "text": [
      " 65%|██████▍   | 878/1356 [01:14<00:43, 11.01it/s]"
     ]
    },
    {
     "name": "stdout",
     "output_type": "stream",
     "text": [
      "Processed /Users/chy/Projects/Thesis/mfcc/tt4429194_mfcc.png with feature shape: torch.Size([1, 197, 768])\n",
      "Processed /Users/chy/Projects/Thesis/mfcc/tt0092099_mfcc.png with feature shape: torch.Size([1, 197, 768])\n",
      "Processed /Users/chy/Projects/Thesis/mfcc/tt0150216_mfcc.png with feature shape: torch.Size([1, 197, 768])\n"
     ]
    },
    {
     "name": "stderr",
     "output_type": "stream",
     "text": [
      " 65%|██████▍   | 880/1356 [01:14<00:43, 11.03it/s]"
     ]
    },
    {
     "name": "stdout",
     "output_type": "stream",
     "text": [
      "Processed /Users/chy/Projects/Thesis/mfcc/tt0871426_mfcc.png with feature shape: torch.Size([1, 197, 768])\n",
      "Processed /Users/chy/Projects/Thesis/mfcc/tt0218619_mfcc.png with feature shape: torch.Size([1, 197, 768])\n",
      "Processed /Users/chy/Projects/Thesis/mfcc/tt1781058_mfcc.png with feature shape: torch.Size([1, 197, 768])\n"
     ]
    },
    {
     "name": "stderr",
     "output_type": "stream",
     "text": [
      " 65%|██████▌   | 882/1356 [01:15<00:41, 11.35it/s]"
     ]
    },
    {
     "name": "stdout",
     "output_type": "stream",
     "text": [
      "Processed /Users/chy/Projects/Thesis/mfcc/tt2183034_mfcc.png with feature shape: torch.Size([1, 197, 768])\n",
      "Processed /Users/chy/Projects/Thesis/mfcc/tt0489019_mfcc.png with feature shape: torch.Size([1, 197, 768])\n"
     ]
    },
    {
     "name": "stderr",
     "output_type": "stream",
     "text": [
      " 65%|██████▌   | 885/1356 [01:15<00:52,  8.89it/s]"
     ]
    },
    {
     "name": "stdout",
     "output_type": "stream",
     "text": [
      "Processed /Users/chy/Projects/Thesis/mfcc/tt1912398_mfcc.png with feature shape: torch.Size([1, 197, 768])\n",
      "Processed /Users/chy/Projects/Thesis/mfcc/tt0408194_mfcc.png with feature shape: torch.Size([1, 197, 768])\n"
     ]
    },
    {
     "name": "stderr",
     "output_type": "stream",
     "text": [
      " 65%|██████▌   | 886/1356 [01:15<01:09,  6.73it/s]"
     ]
    },
    {
     "name": "stdout",
     "output_type": "stream",
     "text": [
      "Processed /Users/chy/Projects/Thesis/mfcc/tt2231461_mfcc.png with feature shape: torch.Size([1, 197, 768])\n"
     ]
    },
    {
     "name": "stderr",
     "output_type": "stream",
     "text": [
      " 65%|██████▌   | 887/1356 [01:16<01:27,  5.37it/s]"
     ]
    },
    {
     "name": "stdout",
     "output_type": "stream",
     "text": [
      "Processed /Users/chy/Projects/Thesis/mfcc/tt2294629_mfcc.png with feature shape: torch.Size([1, 197, 768])\n",
      "Processed /Users/chy/Projects/Thesis/mfcc/tt1087842_mfcc.png with feature shape: torch.Size([1, 197, 768])\n"
     ]
    },
    {
     "name": "stderr",
     "output_type": "stream",
     "text": [
      " 66%|██████▌   | 889/1356 [01:16<01:05,  7.12it/s]"
     ]
    },
    {
     "name": "stdout",
     "output_type": "stream",
     "text": [
      "Processed /Users/chy/Projects/Thesis/mfcc/tt2044729_mfcc.png with feature shape: torch.Size([1, 197, 768])\n"
     ]
    },
    {
     "name": "stderr",
     "output_type": "stream",
     "text": [
      " 66%|██████▌   | 892/1356 [01:16<01:03,  7.32it/s]"
     ]
    },
    {
     "name": "stdout",
     "output_type": "stream",
     "text": [
      "Processed /Users/chy/Projects/Thesis/mfcc/tt0099329_mfcc.png with feature shape: torch.Size([1, 197, 768])\n",
      "Processed /Users/chy/Projects/Thesis/mfcc/tt0993846_mfcc.png with feature shape: torch.Size([1, 197, 768])\n",
      "Processed /Users/chy/Projects/Thesis/mfcc/tt0118744_mfcc.png with feature shape: torch.Size([1, 197, 768])\n"
     ]
    },
    {
     "name": "stderr",
     "output_type": "stream",
     "text": [
      " 66%|██████▌   | 894/1356 [01:16<00:53,  8.64it/s]"
     ]
    },
    {
     "name": "stdout",
     "output_type": "stream",
     "text": [
      "Processed /Users/chy/Projects/Thesis/mfcc/tt0365686_mfcc.png with feature shape: torch.Size([1, 197, 768])\n",
      "Processed /Users/chy/Projects/Thesis/mfcc/tt0407205_mfcc.png with feature shape: torch.Size([1, 197, 768])\n",
      "Processed /Users/chy/Projects/Thesis/mfcc/tt0116830_mfcc.png with feature shape: torch.Size([1, 197, 768])\n"
     ]
    },
    {
     "name": "stderr",
     "output_type": "stream",
     "text": [
      " 66%|██████▌   | 898/1356 [01:17<00:44, 10.34it/s]"
     ]
    },
    {
     "name": "stdout",
     "output_type": "stream",
     "text": [
      "Processed /Users/chy/Projects/Thesis/mfcc/tt0120603_mfcc.png with feature shape: torch.Size([1, 197, 768])\n",
      "Processed /Users/chy/Projects/Thesis/mfcc/tt0472562_mfcc.png with feature shape: torch.Size([1, 197, 768])\n",
      "Processed /Users/chy/Projects/Thesis/mfcc/tt0870195_mfcc.png with feature shape: torch.Size([1, 197, 768])\n"
     ]
    },
    {
     "name": "stderr",
     "output_type": "stream",
     "text": [
      " 66%|██████▋   | 900/1356 [01:17<00:41, 10.94it/s]"
     ]
    },
    {
     "name": "stdout",
     "output_type": "stream",
     "text": [
      "Processed /Users/chy/Projects/Thesis/mfcc/tt6261048_mfcc.png with feature shape: torch.Size([1, 197, 768])\n",
      "Processed /Users/chy/Projects/Thesis/mfcc/tt0206275_mfcc.png with feature shape: torch.Size([1, 197, 768])\n"
     ]
    },
    {
     "name": "stderr",
     "output_type": "stream",
     "text": [
      " 67%|██████▋   | 902/1356 [01:17<00:44, 10.28it/s]"
     ]
    },
    {
     "name": "stdout",
     "output_type": "stream",
     "text": [
      "Processed /Users/chy/Projects/Thesis/mfcc/tt5115546_mfcc.png with feature shape: torch.Size([1, 197, 768])\n",
      "Processed /Users/chy/Projects/Thesis/mfcc/tt5895892_mfcc.png with feature shape: torch.Size([1, 197, 768])\n",
      "Processed /Users/chy/Projects/Thesis/mfcc/tt0351283_mfcc.png with feature shape: torch.Size([1, 197, 768])\n",
      "Processed /Users/chy/Projects/Thesis/mfcc/tt0273982_mfcc.png with feature shape: torch.Size([1, 197, 768])\n"
     ]
    },
    {
     "name": "stderr",
     "output_type": "stream",
     "text": [
      " 67%|██████▋   | 906/1356 [01:17<00:38, 11.64it/s]"
     ]
    },
    {
     "name": "stdout",
     "output_type": "stream",
     "text": [
      "Processed /Users/chy/Projects/Thesis/mfcc/tt0298148_mfcc.png with feature shape: torch.Size([1, 197, 768])\n",
      "Processed /Users/chy/Projects/Thesis/mfcc/tt0357277_mfcc.png with feature shape: torch.Size([1, 197, 768])\n",
      "Processed /Users/chy/Projects/Thesis/mfcc/tt0462590_mfcc.png with feature shape: torch.Size([1, 197, 768])\n"
     ]
    },
    {
     "name": "stderr",
     "output_type": "stream",
     "text": [
      " 67%|██████▋   | 908/1356 [01:18<00:37, 11.89it/s]"
     ]
    },
    {
     "name": "stdout",
     "output_type": "stream",
     "text": [
      "Processed /Users/chy/Projects/Thesis/mfcc/tt0300620_mfcc.png with feature shape: torch.Size([1, 197, 768])\n",
      "Processed /Users/chy/Projects/Thesis/mfcc/tt2099556_mfcc.png with feature shape: torch.Size([1, 197, 768])\n"
     ]
    },
    {
     "name": "stderr",
     "output_type": "stream",
     "text": [
      " 67%|██████▋   | 910/1356 [01:18<00:41, 10.79it/s]"
     ]
    },
    {
     "name": "stdout",
     "output_type": "stream",
     "text": [
      "Processed /Users/chy/Projects/Thesis/mfcc/tt0483726_mfcc.png with feature shape: torch.Size([1, 197, 768])\n"
     ]
    },
    {
     "name": "stderr",
     "output_type": "stream",
     "text": [
      " 67%|██████▋   | 912/1356 [01:18<00:48,  9.22it/s]"
     ]
    },
    {
     "name": "stdout",
     "output_type": "stream",
     "text": [
      "Processed /Users/chy/Projects/Thesis/mfcc/tt0412536_mfcc.png with feature shape: torch.Size([1, 197, 768])\n",
      "Processed /Users/chy/Projects/Thesis/mfcc/tt0094947_mfcc.png with feature shape: torch.Size([1, 197, 768])\n",
      "Processed /Users/chy/Projects/Thesis/mfcc/tt0106466_mfcc.png with feature shape: torch.Size([1, 197, 768])\n"
     ]
    },
    {
     "name": "stderr",
     "output_type": "stream",
     "text": [
      " 68%|██████▊   | 916/1356 [01:18<00:41, 10.51it/s]"
     ]
    },
    {
     "name": "stdout",
     "output_type": "stream",
     "text": [
      "Processed /Users/chy/Projects/Thesis/mfcc/tt1212450_mfcc.png with feature shape: torch.Size([1, 197, 768])\n",
      "Processed /Users/chy/Projects/Thesis/mfcc/tt0109279_mfcc.png with feature shape: torch.Size([1, 197, 768])\n",
      "Processed /Users/chy/Projects/Thesis/mfcc/tt0421206_mfcc.png with feature shape: torch.Size([1, 197, 768])\n"
     ]
    },
    {
     "name": "stderr",
     "output_type": "stream",
     "text": [
      " 68%|██████▊   | 918/1356 [01:19<00:51,  8.49it/s]"
     ]
    },
    {
     "name": "stdout",
     "output_type": "stream",
     "text": [
      "Processed /Users/chy/Projects/Thesis/mfcc/tt0375173_mfcc.png with feature shape: torch.Size([1, 197, 768])\n",
      "Processed /Users/chy/Projects/Thesis/mfcc/tt5688932_mfcc.png with feature shape: torch.Size([1, 197, 768])\n"
     ]
    },
    {
     "name": "stderr",
     "output_type": "stream",
     "text": [
      " 68%|██████▊   | 920/1356 [01:19<00:47,  9.18it/s]"
     ]
    },
    {
     "name": "stdout",
     "output_type": "stream",
     "text": [
      "Processed /Users/chy/Projects/Thesis/mfcc/tt0398375_mfcc.png with feature shape: torch.Size([1, 197, 768])\n",
      "Processed /Users/chy/Projects/Thesis/mfcc/tt0926063_mfcc.png with feature shape: torch.Size([1, 197, 768])\n"
     ]
    },
    {
     "name": "stderr",
     "output_type": "stream",
     "text": [
      " 68%|██████▊   | 922/1356 [01:19<00:51,  8.49it/s]"
     ]
    },
    {
     "name": "stdout",
     "output_type": "stream",
     "text": [
      "Processed /Users/chy/Projects/Thesis/mfcc/tt1922612_mfcc.png with feature shape: torch.Size([1, 197, 768])\n",
      "Processed /Users/chy/Projects/Thesis/mfcc/tt0119311_mfcc.png with feature shape: torch.Size([1, 197, 768])\n",
      "Processed /Users/chy/Projects/Thesis/mfcc/tt8045574_mfcc.png with feature shape: torch.Size([1, 197, 768])\n"
     ]
    },
    {
     "name": "stderr",
     "output_type": "stream",
     "text": [
      " 68%|██████▊   | 926/1356 [01:20<00:41, 10.42it/s]"
     ]
    },
    {
     "name": "stdout",
     "output_type": "stream",
     "text": [
      "Processed /Users/chy/Projects/Thesis/mfcc/tt0454962_mfcc.png with feature shape: torch.Size([1, 197, 768])\n",
      "Processed /Users/chy/Projects/Thesis/mfcc/tt0088930_mfcc.png with feature shape: torch.Size([1, 197, 768])\n",
      "Processed /Users/chy/Projects/Thesis/mfcc/tt0112701_mfcc.png with feature shape: torch.Size([1, 197, 768])\n"
     ]
    },
    {
     "name": "stderr",
     "output_type": "stream",
     "text": [
      " 68%|██████▊   | 928/1356 [01:20<00:39, 10.83it/s]"
     ]
    },
    {
     "name": "stdout",
     "output_type": "stream",
     "text": [
      "Processed /Users/chy/Projects/Thesis/mfcc/tt0404203_mfcc.png with feature shape: torch.Size([1, 197, 768])\n",
      "Processed /Users/chy/Projects/Thesis/mfcc/tt0243585_mfcc.png with feature shape: torch.Size([1, 197, 768])\n",
      "Processed /Users/chy/Projects/Thesis/mfcc/tt2274570_mfcc.png with feature shape: torch.Size([1, 197, 768])\n"
     ]
    },
    {
     "name": "stderr",
     "output_type": "stream",
     "text": [
      " 69%|██████▊   | 930/1356 [01:20<00:38, 10.93it/s]"
     ]
    },
    {
     "name": "stdout",
     "output_type": "stream",
     "text": [
      "Processed /Users/chy/Projects/Thesis/mfcc/tt2980648_mfcc.png with feature shape: torch.Size([1, 197, 768])\n",
      "Processed /Users/chy/Projects/Thesis/mfcc/tt2823054_mfcc.png with feature shape: torch.Size([1, 197, 768])\n"
     ]
    },
    {
     "name": "stderr",
     "output_type": "stream",
     "text": [
      " 69%|██████▉   | 934/1356 [01:20<00:39, 10.72it/s]"
     ]
    },
    {
     "name": "stdout",
     "output_type": "stream",
     "text": [
      "Processed /Users/chy/Projects/Thesis/mfcc/tt0103939_mfcc.png with feature shape: torch.Size([1, 197, 768])\n",
      "Processed /Users/chy/Projects/Thesis/mfcc/tt0472198_mfcc.png with feature shape: torch.Size([1, 197, 768])\n",
      "Processed /Users/chy/Projects/Thesis/mfcc/tt0111732_mfcc.png with feature shape: torch.Size([1, 197, 768])\n"
     ]
    },
    {
     "name": "stderr",
     "output_type": "stream",
     "text": [
      " 69%|██████▉   | 936/1356 [01:20<00:37, 11.07it/s]"
     ]
    },
    {
     "name": "stdout",
     "output_type": "stream",
     "text": [
      "Processed /Users/chy/Projects/Thesis/mfcc/tt0443453_mfcc.png with feature shape: torch.Size([1, 197, 768])\n",
      "Processed /Users/chy/Projects/Thesis/mfcc/tt0405336_mfcc.png with feature shape: torch.Size([1, 197, 768])\n",
      "Processed /Users/chy/Projects/Thesis/mfcc/tt0311648_mfcc.png with feature shape: torch.Size([1, 197, 768])\n"
     ]
    },
    {
     "name": "stderr",
     "output_type": "stream",
     "text": [
      " 69%|██████▉   | 940/1356 [01:21<00:36, 11.45it/s]"
     ]
    },
    {
     "name": "stdout",
     "output_type": "stream",
     "text": [
      "Processed /Users/chy/Projects/Thesis/mfcc/tt0808510_mfcc.png with feature shape: torch.Size([1, 197, 768])\n",
      "Processed /Users/chy/Projects/Thesis/mfcc/tt0266489_mfcc.png with feature shape: torch.Size([1, 197, 768])\n",
      "Processed /Users/chy/Projects/Thesis/mfcc/tt4008652_mfcc.png with feature shape: torch.Size([1, 197, 768])\n"
     ]
    },
    {
     "name": "stderr",
     "output_type": "stream",
     "text": [
      " 69%|██████▉   | 942/1356 [01:21<00:35, 11.66it/s]"
     ]
    },
    {
     "name": "stdout",
     "output_type": "stream",
     "text": [
      "Processed /Users/chy/Projects/Thesis/mfcc/tt0199626_mfcc.png with feature shape: torch.Size([1, 197, 768])\n",
      "Processed /Users/chy/Projects/Thesis/mfcc/tt5883570_mfcc.png with feature shape: torch.Size([1, 197, 768])\n"
     ]
    },
    {
     "name": "stderr",
     "output_type": "stream",
     "text": [
      " 70%|██████▉   | 944/1356 [01:21<00:41, 10.01it/s]"
     ]
    },
    {
     "name": "stdout",
     "output_type": "stream",
     "text": [
      "Processed /Users/chy/Projects/Thesis/mfcc/tt0951216_mfcc.png with feature shape: torch.Size([1, 197, 768])\n",
      "Processed /Users/chy/Projects/Thesis/mfcc/tt1032755_mfcc.png with feature shape: torch.Size([1, 197, 768])\n",
      "Processed /Users/chy/Projects/Thesis/mfcc/tt0376108_mfcc.png with feature shape: torch.Size([1, 197, 768])\n"
     ]
    },
    {
     "name": "stderr",
     "output_type": "stream",
     "text": [
      " 70%|██████▉   | 948/1356 [01:22<00:35, 11.41it/s]"
     ]
    },
    {
     "name": "stdout",
     "output_type": "stream",
     "text": [
      "Processed /Users/chy/Projects/Thesis/mfcc/tt0443489_mfcc.png with feature shape: torch.Size([1, 197, 768])\n",
      "Processed /Users/chy/Projects/Thesis/mfcc/tt0787474_mfcc.png with feature shape: torch.Size([1, 197, 768])\n",
      "Processed /Users/chy/Projects/Thesis/mfcc/tt2531344_mfcc.png with feature shape: torch.Size([1, 197, 768])\n"
     ]
    },
    {
     "name": "stderr",
     "output_type": "stream",
     "text": [
      " 70%|███████   | 950/1356 [01:22<00:34, 11.72it/s]"
     ]
    },
    {
     "name": "stdout",
     "output_type": "stream",
     "text": [
      "Processed /Users/chy/Projects/Thesis/mfcc/tt1780762_mfcc.png with feature shape: torch.Size([1, 197, 768])\n",
      "Processed /Users/chy/Projects/Thesis/mfcc/tt0094663_mfcc.png with feature shape: torch.Size([1, 197, 768])\n",
      "Processed /Users/chy/Projects/Thesis/mfcc/tt0279778_mfcc.png with feature shape: torch.Size([1, 197, 768])\n"
     ]
    },
    {
     "name": "stderr",
     "output_type": "stream",
     "text": [
      " 70%|███████   | 952/1356 [01:22<00:34, 11.87it/s]"
     ]
    },
    {
     "name": "stdout",
     "output_type": "stream",
     "text": [
      "Processed /Users/chy/Projects/Thesis/mfcc/tt0475276_mfcc.png with feature shape: torch.Size([1, 197, 768])\n",
      "Processed /Users/chy/Projects/Thesis/mfcc/tt0814314_mfcc.png with feature shape: torch.Size([1, 197, 768])\n"
     ]
    },
    {
     "name": "stderr",
     "output_type": "stream",
     "text": [
      " 71%|███████   | 956/1356 [01:22<00:34, 11.43it/s]"
     ]
    },
    {
     "name": "stdout",
     "output_type": "stream",
     "text": [
      "Processed /Users/chy/Projects/Thesis/mfcc/tt0300532_mfcc.png with feature shape: torch.Size([1, 197, 768])\n",
      "Processed /Users/chy/Projects/Thesis/mfcc/tt1878870_mfcc.png with feature shape: torch.Size([1, 197, 768])\n",
      "Processed /Users/chy/Projects/Thesis/mfcc/tt1911658_mfcc.png with feature shape: torch.Size([1, 197, 768])\n",
      "Processed /Users/chy/Projects/Thesis/mfcc/tt0120912_mfcc.png with feature shape: torch.Size([1, 197, 768])\n"
     ]
    },
    {
     "name": "stderr",
     "output_type": "stream",
     "text": [
      " 71%|███████   | 960/1356 [01:23<00:31, 12.45it/s]"
     ]
    },
    {
     "name": "stdout",
     "output_type": "stream",
     "text": [
      "Processed /Users/chy/Projects/Thesis/mfcc/tt0120913_mfcc.png with feature shape: torch.Size([1, 197, 768])\n",
      "Processed /Users/chy/Projects/Thesis/mfcc/tt0424823_mfcc.png with feature shape: torch.Size([1, 197, 768])\n",
      "Processed /Users/chy/Projects/Thesis/mfcc/tt0770806_mfcc.png with feature shape: torch.Size([1, 197, 768])\n"
     ]
    },
    {
     "name": "stderr",
     "output_type": "stream",
     "text": [
      " 71%|███████   | 962/1356 [01:23<00:31, 12.69it/s]"
     ]
    },
    {
     "name": "stdout",
     "output_type": "stream",
     "text": [
      "Processed /Users/chy/Projects/Thesis/mfcc/tt1798603_mfcc.png with feature shape: torch.Size([1, 197, 768])\n",
      "Processed /Users/chy/Projects/Thesis/mfcc/tt0361411_mfcc.png with feature shape: torch.Size([1, 197, 768])\n",
      "Processed /Users/chy/Projects/Thesis/mfcc/tt0219400_mfcc.png with feature shape: torch.Size([1, 197, 768])\n"
     ]
    },
    {
     "name": "stderr",
     "output_type": "stream",
     "text": [
      " 71%|███████   | 964/1356 [01:23<00:30, 12.86it/s]"
     ]
    },
    {
     "name": "stdout",
     "output_type": "stream",
     "text": [
      "Processed /Users/chy/Projects/Thesis/mfcc/tt1986953_mfcc.png with feature shape: torch.Size([1, 197, 768])\n",
      "Processed /Users/chy/Projects/Thesis/mfcc/tt0375912_mfcc.png with feature shape: torch.Size([1, 197, 768])\n"
     ]
    },
    {
     "name": "stderr",
     "output_type": "stream",
     "text": [
      " 71%|███████▏  | 968/1356 [01:23<00:32, 12.10it/s]"
     ]
    },
    {
     "name": "stdout",
     "output_type": "stream",
     "text": [
      "Processed /Users/chy/Projects/Thesis/mfcc/tt0117496_mfcc.png with feature shape: torch.Size([1, 197, 768])\n",
      "Processed /Users/chy/Projects/Thesis/mfcc/tt1045670_mfcc.png with feature shape: torch.Size([1, 197, 768])\n",
      "Processed /Users/chy/Projects/Thesis/mfcc/tt0208092_mfcc.png with feature shape: torch.Size([1, 197, 768])\n"
     ]
    },
    {
     "name": "stderr",
     "output_type": "stream",
     "text": [
      " 72%|███████▏  | 970/1356 [01:23<00:30, 12.58it/s]"
     ]
    },
    {
     "name": "stdout",
     "output_type": "stream",
     "text": [
      "Processed /Users/chy/Projects/Thesis/mfcc/tt0244970_mfcc.png with feature shape: torch.Size([1, 197, 768])\n",
      "Processed /Users/chy/Projects/Thesis/mfcc/tt1150947_mfcc.png with feature shape: torch.Size([1, 197, 768])\n",
      "Processed /Users/chy/Projects/Thesis/mfcc/tt0120609_mfcc.png with feature shape: torch.Size([1, 197, 768])\n"
     ]
    },
    {
     "name": "stderr",
     "output_type": "stream",
     "text": [
      " 72%|███████▏  | 974/1356 [01:24<00:30, 12.42it/s]"
     ]
    },
    {
     "name": "stdout",
     "output_type": "stream",
     "text": [
      "Processed /Users/chy/Projects/Thesis/mfcc/tt1618421_mfcc.png with feature shape: torch.Size([1, 197, 768])\n",
      "Processed /Users/chy/Projects/Thesis/mfcc/tt0099005_mfcc.png with feature shape: torch.Size([1, 197, 768])\n",
      "Processed /Users/chy/Projects/Thesis/mfcc/tt1024724_mfcc.png with feature shape: torch.Size([1, 197, 768])\n"
     ]
    },
    {
     "name": "stderr",
     "output_type": "stream",
     "text": [
      " 72%|███████▏  | 976/1356 [01:24<00:29, 12.70it/s]"
     ]
    },
    {
     "name": "stdout",
     "output_type": "stream",
     "text": [
      "Processed /Users/chy/Projects/Thesis/mfcc/tt0322589_mfcc.png with feature shape: torch.Size([1, 197, 768])\n",
      "Processed /Users/chy/Projects/Thesis/mfcc/tt1049400_mfcc.png with feature shape: torch.Size([1, 197, 768])\n"
     ]
    },
    {
     "name": "stderr",
     "output_type": "stream",
     "text": [
      " 72%|███████▏  | 978/1356 [01:24<00:32, 11.71it/s]"
     ]
    },
    {
     "name": "stdout",
     "output_type": "stream",
     "text": [
      "Processed /Users/chy/Projects/Thesis/mfcc/tt0345074_mfcc.png with feature shape: torch.Size([1, 197, 768])\n",
      "Processed /Users/chy/Projects/Thesis/mfcc/tt0117011_mfcc.png with feature shape: torch.Size([1, 197, 768])\n",
      "Processed /Users/chy/Projects/Thesis/mfcc/tt0976222_mfcc.png with feature shape: torch.Size([1, 197, 768])\n",
      "Processed /Users/chy/Projects/Thesis/mfcc/tt0076245_mfcc.png with feature shape: torch.Size([1, 197, 768])\n"
     ]
    },
    {
     "name": "stderr",
     "output_type": "stream",
     "text": [
      " 72%|███████▏  | 982/1356 [01:24<00:29, 12.61it/s]"
     ]
    },
    {
     "name": "stdout",
     "output_type": "stream",
     "text": [
      "Processed /Users/chy/Projects/Thesis/mfcc/tt0482599_mfcc.png with feature shape: torch.Size([1, 197, 768])\n",
      "Processed /Users/chy/Projects/Thesis/mfcc/tt0087469_mfcc.png with feature shape: torch.Size([1, 197, 768])\n",
      "Processed /Users/chy/Projects/Thesis/mfcc/tt0180093_mfcc.png with feature shape: torch.Size([1, 197, 768])\n"
     ]
    },
    {
     "name": "stderr",
     "output_type": "stream",
     "text": [
      " 73%|███████▎  | 986/1356 [01:25<00:28, 12.95it/s]"
     ]
    },
    {
     "name": "stdout",
     "output_type": "stream",
     "text": [
      "Processed /Users/chy/Projects/Thesis/mfcc/tt0310357_mfcc.png with feature shape: torch.Size([1, 197, 768])\n",
      "Processed /Users/chy/Projects/Thesis/mfcc/tt0233469_mfcc.png with feature shape: torch.Size([1, 197, 768])\n",
      "Processed /Users/chy/Projects/Thesis/mfcc/tt0263757_mfcc.png with feature shape: torch.Size([1, 197, 768])\n"
     ]
    },
    {
     "name": "stderr",
     "output_type": "stream",
     "text": [
      " 73%|███████▎  | 988/1356 [01:25<00:28, 13.05it/s]"
     ]
    },
    {
     "name": "stdout",
     "output_type": "stream",
     "text": [
      "Processed /Users/chy/Projects/Thesis/mfcc/tt0375104_mfcc.png with feature shape: torch.Size([1, 197, 768])\n",
      "Processed /Users/chy/Projects/Thesis/mfcc/tt4653950_mfcc.png with feature shape: torch.Size([1, 197, 768])\n"
     ]
    },
    {
     "name": "stderr",
     "output_type": "stream",
     "text": [
      " 73%|███████▎  | 990/1356 [01:25<00:30, 11.87it/s]"
     ]
    },
    {
     "name": "stdout",
     "output_type": "stream",
     "text": [
      "Processed /Users/chy/Projects/Thesis/mfcc/tt4738776_mfcc.png with feature shape: torch.Size([1, 197, 768])\n",
      "Processed /Users/chy/Projects/Thesis/mfcc/tt7545566_mfcc.png with feature shape: torch.Size([1, 197, 768])\n",
      "Processed /Users/chy/Projects/Thesis/mfcc/tt0377091_mfcc.png with feature shape: torch.Size([1, 197, 768])\n"
     ]
    },
    {
     "name": "stderr",
     "output_type": "stream",
     "text": [
      " 73%|███████▎  | 994/1356 [01:25<00:28, 12.58it/s]"
     ]
    },
    {
     "name": "stdout",
     "output_type": "stream",
     "text": [
      "Processed /Users/chy/Projects/Thesis/mfcc/tt0360130_mfcc.png with feature shape: torch.Size([1, 197, 768])\n",
      "Processed /Users/chy/Projects/Thesis/mfcc/tt10740584_mfcc.png with feature shape: torch.Size([1, 197, 768])\n",
      "Processed /Users/chy/Projects/Thesis/mfcc/tt0364751_mfcc.png with feature shape: torch.Size([1, 197, 768])\n"
     ]
    },
    {
     "name": "stderr",
     "output_type": "stream",
     "text": [
      " 73%|███████▎  | 996/1356 [01:25<00:28, 12.77it/s]"
     ]
    },
    {
     "name": "stdout",
     "output_type": "stream",
     "text": [
      "Processed /Users/chy/Projects/Thesis/mfcc/tt3136168_mfcc.png with feature shape: torch.Size([1, 197, 768])\n",
      "Processed /Users/chy/Projects/Thesis/mfcc/tt0280870_mfcc.png with feature shape: torch.Size([1, 197, 768])\n",
      "Processed /Users/chy/Projects/Thesis/mfcc/tt0065225_mfcc.png with feature shape: torch.Size([1, 197, 768])\n"
     ]
    },
    {
     "name": "stderr",
     "output_type": "stream",
     "text": [
      " 74%|███████▎  | 998/1356 [01:26<00:27, 12.91it/s]"
     ]
    },
    {
     "name": "stdout",
     "output_type": "stream",
     "text": [
      "Processed /Users/chy/Projects/Thesis/mfcc/tt1754811_mfcc.png with feature shape: torch.Size([1, 197, 768])\n",
      "Processed /Users/chy/Projects/Thesis/mfcc/tt0159365_mfcc.png with feature shape: torch.Size([1, 197, 768])\n",
      "Processed /Users/chy/Projects/Thesis/mfcc/tt0105323_mfcc.png with feature shape: torch.Size([1, 197, 768])\n"
     ]
    },
    {
     "name": "stderr",
     "output_type": "stream",
     "text": [
      " 74%|███████▍  | 1002/1356 [01:26<00:29, 12.20it/s]"
     ]
    },
    {
     "name": "stdout",
     "output_type": "stream",
     "text": [
      "Processed /Users/chy/Projects/Thesis/mfcc/tt0433416_mfcc.png with feature shape: torch.Size([1, 197, 768])\n",
      "Processed /Users/chy/Projects/Thesis/mfcc/tt3882074_mfcc.png with feature shape: torch.Size([1, 197, 768])\n",
      "Processed /Users/chy/Projects/Thesis/mfcc/tt1549920_mfcc.png with feature shape: torch.Size([1, 197, 768])\n"
     ]
    },
    {
     "name": "stderr",
     "output_type": "stream",
     "text": [
      " 74%|███████▍  | 1004/1356 [01:26<00:31, 11.16it/s]"
     ]
    },
    {
     "name": "stdout",
     "output_type": "stream",
     "text": [
      "Processed /Users/chy/Projects/Thesis/mfcc/tt1392197_mfcc.png with feature shape: torch.Size([1, 197, 768])\n",
      "Processed /Users/chy/Projects/Thesis/mfcc/tt0382810_mfcc.png with feature shape: torch.Size([1, 197, 768])\n"
     ]
    },
    {
     "name": "stderr",
     "output_type": "stream",
     "text": [
      " 74%|███████▍  | 1008/1356 [01:26<00:29, 11.96it/s]"
     ]
    },
    {
     "name": "stdout",
     "output_type": "stream",
     "text": [
      "Processed /Users/chy/Projects/Thesis/mfcc/tt0146882_mfcc.png with feature shape: torch.Size([1, 197, 768])\n",
      "Processed /Users/chy/Projects/Thesis/mfcc/tt1860353_mfcc.png with feature shape: torch.Size([1, 197, 768])\n",
      "Processed /Users/chy/Projects/Thesis/mfcc/tt1596346_mfcc.png with feature shape: torch.Size([1, 197, 768])\n"
     ]
    },
    {
     "name": "stderr",
     "output_type": "stream",
     "text": [
      " 74%|███████▍  | 1010/1356 [01:27<00:28, 12.30it/s]"
     ]
    },
    {
     "name": "stdout",
     "output_type": "stream",
     "text": [
      "Processed /Users/chy/Projects/Thesis/mfcc/tt1666185_mfcc.png with feature shape: torch.Size([1, 197, 768])\n",
      "Processed /Users/chy/Projects/Thesis/mfcc/tt0257360_mfcc.png with feature shape: torch.Size([1, 197, 768])\n"
     ]
    },
    {
     "name": "stderr",
     "output_type": "stream",
     "text": [
      " 75%|███████▍  | 1012/1356 [01:27<00:31, 10.76it/s]"
     ]
    },
    {
     "name": "stdout",
     "output_type": "stream",
     "text": [
      "Processed /Users/chy/Projects/Thesis/mfcc/tt1411250_mfcc.png with feature shape: torch.Size([1, 197, 768])\n",
      "Processed /Users/chy/Projects/Thesis/mfcc/tt0200550_mfcc.png with feature shape: torch.Size([1, 197, 768])\n",
      "Processed /Users/chy/Projects/Thesis/mfcc/tt0105483_mfcc.png with feature shape: torch.Size([1, 197, 768])\n",
      "Processed /Users/chy/Projects/Thesis/mfcc/tt0416320_mfcc.png with feature shape: torch.Size([1, 197, 768])\n"
     ]
    },
    {
     "name": "stderr",
     "output_type": "stream",
     "text": [
      " 75%|███████▍  | 1016/1356 [01:27<00:27, 12.18it/s]"
     ]
    },
    {
     "name": "stdout",
     "output_type": "stream",
     "text": [
      "Processed /Users/chy/Projects/Thesis/mfcc/tt0299981_mfcc.png with feature shape: torch.Size([1, 197, 768])\n",
      "Processed /Users/chy/Projects/Thesis/mfcc/tt0340012_mfcc.png with feature shape: torch.Size([1, 197, 768])\n",
      "Processed /Users/chy/Projects/Thesis/mfcc/tt0375920_mfcc.png with feature shape: torch.Size([1, 197, 768])\n"
     ]
    },
    {
     "name": "stderr",
     "output_type": "stream",
     "text": [
      " 75%|███████▌  | 1020/1356 [01:27<00:26, 12.53it/s]"
     ]
    },
    {
     "name": "stdout",
     "output_type": "stream",
     "text": [
      "Processed /Users/chy/Projects/Thesis/mfcc/tt0209958_mfcc.png with feature shape: torch.Size([1, 197, 768])\n",
      "Processed /Users/chy/Projects/Thesis/mfcc/tt0228750_mfcc.png with feature shape: torch.Size([1, 197, 768])\n",
      "Processed /Users/chy/Projects/Thesis/mfcc/tt0839980_mfcc.png with feature shape: torch.Size([1, 197, 768])\n"
     ]
    },
    {
     "name": "stderr",
     "output_type": "stream",
     "text": [
      " 75%|███████▌  | 1022/1356 [01:28<00:26, 12.62it/s]"
     ]
    },
    {
     "name": "stdout",
     "output_type": "stream",
     "text": [
      "Processed /Users/chy/Projects/Thesis/mfcc/tt0190374_mfcc.png with feature shape: torch.Size([1, 197, 768])\n",
      "Processed /Users/chy/Projects/Thesis/mfcc/tt2247476_mfcc.png with feature shape: torch.Size([1, 197, 768])\n",
      "Processed /Users/chy/Projects/Thesis/mfcc/tt0473700_mfcc.png with feature shape: torch.Size([1, 197, 768])\n"
     ]
    },
    {
     "name": "stderr",
     "output_type": "stream",
     "text": [
      " 76%|███████▌  | 1026/1356 [01:28<00:28, 11.54it/s]"
     ]
    },
    {
     "name": "stdout",
     "output_type": "stream",
     "text": [
      "Processed /Users/chy/Projects/Thesis/mfcc/tt0452598_mfcc.png with feature shape: torch.Size([1, 197, 768])\n",
      "Processed /Users/chy/Projects/Thesis/mfcc/tt1860213_mfcc.png with feature shape: torch.Size([1, 197, 768])\n",
      "Processed /Users/chy/Projects/Thesis/mfcc/tt1650554_mfcc.png with feature shape: torch.Size([1, 197, 768])\n"
     ]
    },
    {
     "name": "stderr",
     "output_type": "stream",
     "text": [
      " 76%|███████▌  | 1028/1356 [01:28<00:26, 12.28it/s]"
     ]
    },
    {
     "name": "stdout",
     "output_type": "stream",
     "text": [
      "Processed /Users/chy/Projects/Thesis/mfcc/tt0333780_mfcc.png with feature shape: torch.Size([1, 197, 768])\n",
      "Processed /Users/chy/Projects/Thesis/mfcc/tt7256866_mfcc.png with feature shape: torch.Size([1, 197, 768])\n",
      "Processed /Users/chy/Projects/Thesis/mfcc/tt1664894_mfcc.png with feature shape: torch.Size([1, 197, 768])\n"
     ]
    },
    {
     "name": "stderr",
     "output_type": "stream",
     "text": [
      " 76%|███████▌  | 1032/1356 [01:28<00:26, 12.33it/s]"
     ]
    },
    {
     "name": "stdout",
     "output_type": "stream",
     "text": [
      "Processed /Users/chy/Projects/Thesis/mfcc/tt2179116_mfcc.png with feature shape: torch.Size([1, 197, 768])\n",
      "Processed /Users/chy/Projects/Thesis/mfcc/tt1103984_mfcc.png with feature shape: torch.Size([1, 197, 768])\n",
      "Processed /Users/chy/Projects/Thesis/mfcc/tt0249462_mfcc.png with feature shape: torch.Size([1, 197, 768])\n"
     ]
    },
    {
     "name": "stderr",
     "output_type": "stream",
     "text": [
      " 76%|███████▋  | 1034/1356 [01:29<00:26, 12.36it/s]"
     ]
    },
    {
     "name": "stdout",
     "output_type": "stream",
     "text": [
      "Processed /Users/chy/Projects/Thesis/mfcc/tt0409043_mfcc.png with feature shape: torch.Size([1, 197, 768])\n",
      "Processed /Users/chy/Projects/Thesis/mfcc/tt1222698_mfcc.png with feature shape: torch.Size([1, 197, 768])\n"
     ]
    },
    {
     "name": "stderr",
     "output_type": "stream",
     "text": [
      " 76%|███████▋  | 1036/1356 [01:29<00:28, 11.06it/s]"
     ]
    },
    {
     "name": "stdout",
     "output_type": "stream",
     "text": [
      "Processed /Users/chy/Projects/Thesis/mfcc/tt1015474_mfcc.png with feature shape: torch.Size([1, 197, 768])\n",
      "Processed /Users/chy/Projects/Thesis/mfcc/tt0172156_mfcc.png with feature shape: torch.Size([1, 197, 768])\n",
      "Processed /Users/chy/Projects/Thesis/mfcc/tt0381707_mfcc.png with feature shape: torch.Size([1, 197, 768])\n",
      "Processed /Users/chy/Projects/Thesis/mfcc/tt5463162_mfcc.png with feature shape: torch.Size([1, 197, 768])\n"
     ]
    },
    {
     "name": "stderr",
     "output_type": "stream",
     "text": [
      " 77%|███████▋  | 1040/1356 [01:29<00:26, 11.81it/s]"
     ]
    },
    {
     "name": "stdout",
     "output_type": "stream",
     "text": [
      "Processed /Users/chy/Projects/Thesis/mfcc/tt0396171_mfcc.png with feature shape: torch.Size([1, 197, 768])\n",
      "Processed /Users/chy/Projects/Thesis/mfcc/tt1198138_mfcc.png with feature shape: torch.Size([1, 197, 768])\n",
      "Processed /Users/chy/Projects/Thesis/mfcc/tt0307453_mfcc.png with feature shape: torch.Size([1, 197, 768])\n"
     ]
    },
    {
     "name": "stderr",
     "output_type": "stream",
     "text": [
      " 77%|███████▋  | 1044/1356 [01:29<00:25, 12.09it/s]"
     ]
    },
    {
     "name": "stdout",
     "output_type": "stream",
     "text": [
      "Processed /Users/chy/Projects/Thesis/mfcc/tt0893356_mfcc.png with feature shape: torch.Size([1, 197, 768])\n",
      "Processed /Users/chy/Projects/Thesis/mfcc/tt0926110_mfcc.png with feature shape: torch.Size([1, 197, 768])\n",
      "Processed /Users/chy/Projects/Thesis/mfcc/tt0799934_mfcc.png with feature shape: torch.Size([1, 197, 768])\n"
     ]
    },
    {
     "name": "stderr",
     "output_type": "stream",
     "text": [
      " 77%|███████▋  | 1046/1356 [01:30<00:28, 10.93it/s]"
     ]
    },
    {
     "name": "stdout",
     "output_type": "stream",
     "text": [
      "Processed /Users/chy/Projects/Thesis/mfcc/tt1646926_mfcc.png with feature shape: torch.Size([1, 197, 768])\n",
      "Processed /Users/chy/Projects/Thesis/mfcc/tt0175526_mfcc.png with feature shape: torch.Size([1, 197, 768])\n",
      "Processed /Users/chy/Projects/Thesis/mfcc/tt2645164_mfcc.png with feature shape: torch.Size([1, 197, 768])\n",
      "Processed /Users/chy/Projects/Thesis/mfcc/tt0379725_mfcc.png with feature shape: torch.Size([1, 197, 768])\n"
     ]
    },
    {
     "name": "stderr",
     "output_type": "stream",
     "text": [
      " 77%|███████▋  | 1050/1356 [01:30<00:25, 11.94it/s]"
     ]
    },
    {
     "name": "stdout",
     "output_type": "stream",
     "text": [
      "Processed /Users/chy/Projects/Thesis/mfcc/tt1178640_mfcc.png with feature shape: torch.Size([1, 197, 768])\n",
      "Processed /Users/chy/Projects/Thesis/mfcc/tt0397044_mfcc.png with feature shape: torch.Size([1, 197, 768])\n",
      "Processed /Users/chy/Projects/Thesis/mfcc/tt0842929_mfcc.png with feature shape: torch.Size([1, 197, 768])\n"
     ]
    },
    {
     "name": "stderr",
     "output_type": "stream",
     "text": [
      " 78%|███████▊  | 1054/1356 [01:30<00:24, 12.30it/s]"
     ]
    },
    {
     "name": "stdout",
     "output_type": "stream",
     "text": [
      "Processed /Users/chy/Projects/Thesis/mfcc/tt0377107_mfcc.png with feature shape: torch.Size([1, 197, 768])\n",
      "Processed /Users/chy/Projects/Thesis/mfcc/tt0118691_mfcc.png with feature shape: torch.Size([1, 197, 768])\n",
      "Processed /Users/chy/Projects/Thesis/mfcc/tt0096438_mfcc.png with feature shape: torch.Size([1, 197, 768])\n"
     ]
    },
    {
     "name": "stderr",
     "output_type": "stream",
     "text": [
      " 78%|███████▊  | 1056/1356 [01:30<00:24, 12.42it/s]"
     ]
    },
    {
     "name": "stdout",
     "output_type": "stream",
     "text": [
      "Processed /Users/chy/Projects/Thesis/mfcc/tt4437216_mfcc.png with feature shape: torch.Size([1, 197, 768])\n",
      "Processed /Users/chy/Projects/Thesis/mfcc/tt0903627_mfcc.png with feature shape: torch.Size([1, 197, 768])\n",
      "Processed /Users/chy/Projects/Thesis/mfcc/tt1602613_mfcc.png with feature shape: torch.Size([1, 197, 768])\n"
     ]
    },
    {
     "name": "stderr",
     "output_type": "stream",
     "text": [
      " 78%|███████▊  | 1058/1356 [01:31<00:23, 12.59it/s]"
     ]
    },
    {
     "name": "stdout",
     "output_type": "stream",
     "text": [
      "Processed /Users/chy/Projects/Thesis/mfcc/tt0851530_mfcc.png with feature shape: torch.Size([1, 197, 768])\n",
      "Processed /Users/chy/Projects/Thesis/mfcc/tt0109578_mfcc.png with feature shape: torch.Size([1, 197, 768])\n"
     ]
    },
    {
     "name": "stderr",
     "output_type": "stream",
     "text": [
      " 78%|███████▊  | 1062/1356 [01:31<00:24, 11.88it/s]"
     ]
    },
    {
     "name": "stdout",
     "output_type": "stream",
     "text": [
      "Processed /Users/chy/Projects/Thesis/mfcc/tt0029546_mfcc.png with feature shape: torch.Size([1, 197, 768])\n",
      "Processed /Users/chy/Projects/Thesis/mfcc/tt0479528_mfcc.png with feature shape: torch.Size([1, 197, 768])\n",
      "Processed /Users/chy/Projects/Thesis/mfcc/tt0906108_mfcc.png with feature shape: torch.Size([1, 197, 768])\n"
     ]
    },
    {
     "name": "stderr",
     "output_type": "stream",
     "text": [
      " 78%|███████▊  | 1064/1356 [01:31<00:23, 12.33it/s]"
     ]
    },
    {
     "name": "stdout",
     "output_type": "stream",
     "text": [
      "Processed /Users/chy/Projects/Thesis/mfcc/tt0118927_mfcc.png with feature shape: torch.Size([1, 197, 768])\n",
      "Processed /Users/chy/Projects/Thesis/mfcc/tt0424095_mfcc.png with feature shape: torch.Size([1, 197, 768])\n",
      "Processed /Users/chy/Projects/Thesis/mfcc/tt0210945_mfcc.png with feature shape: torch.Size([1, 197, 768])\n"
     ]
    },
    {
     "name": "stderr",
     "output_type": "stream",
     "text": [
      " 79%|███████▉  | 1068/1356 [01:31<00:23, 12.24it/s]"
     ]
    },
    {
     "name": "stdout",
     "output_type": "stream",
     "text": [
      "Processed /Users/chy/Projects/Thesis/mfcc/tt1980209_mfcc.png with feature shape: torch.Size([1, 197, 768])\n",
      "Processed /Users/chy/Projects/Thesis/mfcc/tt0408985_mfcc.png with feature shape: torch.Size([1, 197, 768])\n",
      "Processed /Users/chy/Projects/Thesis/mfcc/tt3152624_mfcc.png with feature shape: torch.Size([1, 197, 768])\n"
     ]
    },
    {
     "name": "stderr",
     "output_type": "stream",
     "text": [
      " 79%|███████▉  | 1070/1356 [01:32<00:23, 12.31it/s]"
     ]
    },
    {
     "name": "stdout",
     "output_type": "stream",
     "text": [
      "Processed /Users/chy/Projects/Thesis/mfcc/tt0437232_mfcc.png with feature shape: torch.Size([1, 197, 768])\n",
      "Processed /Users/chy/Projects/Thesis/mfcc/tt1127221_mfcc.png with feature shape: torch.Size([1, 197, 768])\n",
      "Processed /Users/chy/Projects/Thesis/mfcc/tt2213342_mfcc.png with feature shape: torch.Size([1, 197, 768])\n"
     ]
    },
    {
     "name": "stderr",
     "output_type": "stream",
     "text": [
      " 79%|███████▉  | 1074/1356 [01:32<00:24, 11.50it/s]"
     ]
    },
    {
     "name": "stdout",
     "output_type": "stream",
     "text": [
      "Processed /Users/chy/Projects/Thesis/mfcc/tt1124388_mfcc.png with feature shape: torch.Size([1, 197, 768])\n",
      "Processed /Users/chy/Projects/Thesis/mfcc/tt0422295_mfcc.png with feature shape: torch.Size([1, 197, 768])\n",
      "Processed /Users/chy/Projects/Thesis/mfcc/tt1728979_mfcc.png with feature shape: torch.Size([1, 197, 768])\n",
      "Processed /Users/chy/Projects/Thesis/mfcc/tt0236784_mfcc.png with feature shape: torch.Size([1, 197, 768])\n"
     ]
    },
    {
     "name": "stderr",
     "output_type": "stream",
     "text": [
      " 79%|███████▉  | 1078/1356 [01:32<00:22, 12.45it/s]"
     ]
    },
    {
     "name": "stdout",
     "output_type": "stream",
     "text": [
      "Processed /Users/chy/Projects/Thesis/mfcc/tt0857265_mfcc.png with feature shape: torch.Size([1, 197, 768])\n",
      "Processed /Users/chy/Projects/Thesis/mfcc/tt0181316_mfcc.png with feature shape: torch.Size([1, 197, 768])\n",
      "Processed /Users/chy/Projects/Thesis/mfcc/tt0097722_mfcc.png with feature shape: torch.Size([1, 197, 768])\n"
     ]
    },
    {
     "name": "stderr",
     "output_type": "stream",
     "text": [
      " 80%|███████▉  | 1080/1356 [01:32<00:21, 12.62it/s]"
     ]
    },
    {
     "name": "stdout",
     "output_type": "stream",
     "text": [
      "Processed /Users/chy/Projects/Thesis/mfcc/tt0109444_mfcc.png with feature shape: torch.Size([1, 197, 768])\n",
      "Processed /Users/chy/Projects/Thesis/mfcc/tt0140397_mfcc.png with feature shape: torch.Size([1, 197, 768])\n",
      "Processed /Users/chy/Projects/Thesis/mfcc/tt0479884_mfcc.png with feature shape: torch.Size([1, 197, 768])\n"
     ]
    },
    {
     "name": "stderr",
     "output_type": "stream",
     "text": [
      " 80%|███████▉  | 1082/1356 [01:33<00:21, 12.75it/s]"
     ]
    },
    {
     "name": "stdout",
     "output_type": "stream",
     "text": [
      "Processed /Users/chy/Projects/Thesis/mfcc/tt0441007_mfcc.png with feature shape: torch.Size([1, 197, 768])\n",
      "Processed /Users/chy/Projects/Thesis/mfcc/tt3289956_mfcc.png with feature shape: torch.Size([1, 197, 768])\n"
     ]
    },
    {
     "name": "stderr",
     "output_type": "stream",
     "text": [
      " 80%|████████  | 1086/1356 [01:33<00:22, 12.13it/s]"
     ]
    },
    {
     "name": "stdout",
     "output_type": "stream",
     "text": [
      "Processed /Users/chy/Projects/Thesis/mfcc/tt0473464_mfcc.png with feature shape: torch.Size([1, 197, 768])\n",
      "Processed /Users/chy/Projects/Thesis/mfcc/tt2802136_mfcc.png with feature shape: torch.Size([1, 197, 768])\n",
      "Processed /Users/chy/Projects/Thesis/mfcc/tt1634003_mfcc.png with feature shape: torch.Size([1, 197, 768])\n"
     ]
    },
    {
     "name": "stderr",
     "output_type": "stream",
     "text": [
      " 80%|████████  | 1088/1356 [01:33<00:21, 12.57it/s]"
     ]
    },
    {
     "name": "stdout",
     "output_type": "stream",
     "text": [
      "Processed /Users/chy/Projects/Thesis/mfcc/tt0120102_mfcc.png with feature shape: torch.Size([1, 197, 768])\n",
      "Processed /Users/chy/Projects/Thesis/mfcc/tt0385056_mfcc.png with feature shape: torch.Size([1, 197, 768])\n",
      "Processed /Users/chy/Projects/Thesis/mfcc/tt0340376_mfcc.png with feature shape: torch.Size([1, 197, 768])\n"
     ]
    },
    {
     "name": "stderr",
     "output_type": "stream",
     "text": [
      " 81%|████████  | 1092/1356 [01:33<00:20, 12.80it/s]"
     ]
    },
    {
     "name": "stdout",
     "output_type": "stream",
     "text": [
      "Processed /Users/chy/Projects/Thesis/mfcc/tt0340377_mfcc.png with feature shape: torch.Size([1, 197, 768])\n",
      "Processed /Users/chy/Projects/Thesis/mfcc/tt0273923_mfcc.png with feature shape: torch.Size([1, 197, 768])\n",
      "Processed /Users/chy/Projects/Thesis/mfcc/tt1478338_mfcc.png with feature shape: torch.Size([1, 197, 768])\n"
     ]
    },
    {
     "name": "stderr",
     "output_type": "stream",
     "text": [
      " 81%|████████  | 1094/1356 [01:34<00:23, 11.36it/s]"
     ]
    },
    {
     "name": "stdout",
     "output_type": "stream",
     "text": [
      "Processed /Users/chy/Projects/Thesis/mfcc/tt0188453_mfcc.png with feature shape: torch.Size([1, 197, 768])\n",
      "Processed /Users/chy/Projects/Thesis/mfcc/tt1074929_mfcc.png with feature shape: torch.Size([1, 197, 768])\n",
      "Processed /Users/chy/Projects/Thesis/mfcc/tt2005164_mfcc.png with feature shape: torch.Size([1, 197, 768])\n",
      "Processed /Users/chy/Projects/Thesis/mfcc/tt0102593_mfcc.png with feature shape: torch.Size([1, 197, 768])\n"
     ]
    },
    {
     "name": "stderr",
     "output_type": "stream",
     "text": [
      " 81%|████████  | 1098/1356 [01:34<00:22, 11.47it/s]"
     ]
    },
    {
     "name": "stdout",
     "output_type": "stream",
     "text": [
      "Processed /Users/chy/Projects/Thesis/mfcc/tt1104083_mfcc.png with feature shape: torch.Size([1, 197, 768])\n",
      "Processed /Users/chy/Projects/Thesis/mfcc/tt0117060_mfcc.png with feature shape: torch.Size([1, 197, 768])\n",
      "Processed /Users/chy/Projects/Thesis/mfcc/tt0082276_mfcc.png with feature shape: torch.Size([1, 197, 768])\n"
     ]
    },
    {
     "name": "stderr",
     "output_type": "stream",
     "text": [
      " 81%|████████  | 1100/1356 [01:34<00:23, 10.98it/s]"
     ]
    },
    {
     "name": "stdout",
     "output_type": "stream",
     "text": [
      "Processed /Users/chy/Projects/Thesis/mfcc/tt0452592_mfcc.png with feature shape: torch.Size([1, 197, 768])\n",
      "Processed /Users/chy/Projects/Thesis/mfcc/tt0328007_mfcc.png with feature shape: torch.Size([1, 197, 768])\n",
      "Processed /Users/chy/Projects/Thesis/mfcc/tt0165831_mfcc.png with feature shape: torch.Size([1, 197, 768])\n"
     ]
    },
    {
     "name": "stderr",
     "output_type": "stream",
     "text": [
      " 81%|████████▏ | 1104/1356 [01:35<00:26,  9.47it/s]"
     ]
    },
    {
     "name": "stdout",
     "output_type": "stream",
     "text": [
      "Processed /Users/chy/Projects/Thesis/mfcc/tt3829266_mfcc.png with feature shape: torch.Size([1, 197, 768])\n",
      "Processed /Users/chy/Projects/Thesis/mfcc/tt0387059_mfcc.png with feature shape: torch.Size([1, 197, 768])\n"
     ]
    },
    {
     "name": "stderr",
     "output_type": "stream",
     "text": [
      " 82%|████████▏ | 1106/1356 [01:35<00:25,  9.92it/s]"
     ]
    },
    {
     "name": "stdout",
     "output_type": "stream",
     "text": [
      "Processed /Users/chy/Projects/Thesis/mfcc/tt0252444_mfcc.png with feature shape: torch.Size([1, 197, 768])\n",
      "Processed /Users/chy/Projects/Thesis/mfcc/tt1448755_mfcc.png with feature shape: torch.Size([1, 197, 768])\n",
      "Processed /Users/chy/Projects/Thesis/mfcc/tt0356443_mfcc.png with feature shape: torch.Size([1, 197, 768])\n"
     ]
    },
    {
     "name": "stderr",
     "output_type": "stream",
     "text": [
      " 82%|████████▏ | 1109/1356 [01:35<00:25,  9.65it/s]"
     ]
    },
    {
     "name": "stdout",
     "output_type": "stream",
     "text": [
      "Processed /Users/chy/Projects/Thesis/mfcc/tt0211181_mfcc.png with feature shape: torch.Size([1, 197, 768])\n",
      "Processed /Users/chy/Projects/Thesis/mfcc/tt0477051_mfcc.png with feature shape: torch.Size([1, 197, 768])\n",
      "Processed /Users/chy/Projects/Thesis/mfcc/tt0468492_mfcc.png with feature shape: torch.Size([1, 197, 768])\n"
     ]
    },
    {
     "name": "stderr",
     "output_type": "stream",
     "text": [
      " 82%|████████▏ | 1112/1356 [01:35<00:25,  9.71it/s]"
     ]
    },
    {
     "name": "stdout",
     "output_type": "stream",
     "text": [
      "Processed /Users/chy/Projects/Thesis/mfcc/tt0403217_mfcc.png with feature shape: torch.Size([1, 197, 768])\n",
      "Processed /Users/chy/Projects/Thesis/mfcc/tt0142342_mfcc.png with feature shape: torch.Size([1, 197, 768])\n",
      "Processed /Users/chy/Projects/Thesis/mfcc/tt2318527_mfcc.png with feature shape: torch.Size([1, 197, 768])\n"
     ]
    },
    {
     "name": "stderr",
     "output_type": "stream",
     "text": [
      " 82%|████████▏ | 1116/1356 [01:36<00:24,  9.63it/s]"
     ]
    },
    {
     "name": "stdout",
     "output_type": "stream",
     "text": [
      "Processed /Users/chy/Projects/Thesis/mfcc/tt1706620_mfcc.png with feature shape: torch.Size([1, 197, 768])\n",
      "Processed /Users/chy/Projects/Thesis/mfcc/tt0240462_mfcc.png with feature shape: torch.Size([1, 197, 768])\n",
      "Processed /Users/chy/Projects/Thesis/mfcc/tt0432289_mfcc.png with feature shape: torch.Size([1, 197, 768])\n"
     ]
    },
    {
     "name": "stderr",
     "output_type": "stream",
     "text": [
      " 82%|████████▏ | 1118/1356 [01:36<00:23,  9.95it/s]"
     ]
    },
    {
     "name": "stdout",
     "output_type": "stream",
     "text": [
      "Processed /Users/chy/Projects/Thesis/mfcc/tt0283084_mfcc.png with feature shape: torch.Size([1, 197, 768])\n",
      "Processed /Users/chy/Projects/Thesis/mfcc/tt0120915_mfcc.png with feature shape: torch.Size([1, 197, 768])\n",
      "Processed /Users/chy/Projects/Thesis/mfcc/tt1213644_mfcc.png with feature shape: torch.Size([1, 197, 768])\n"
     ]
    },
    {
     "name": "stderr",
     "output_type": "stream",
     "text": [
      " 83%|████████▎ | 1121/1356 [01:36<00:24,  9.61it/s]"
     ]
    },
    {
     "name": "stdout",
     "output_type": "stream",
     "text": [
      "Processed /Users/chy/Projects/Thesis/mfcc/tt0367153_mfcc.png with feature shape: torch.Size([1, 197, 768])\n",
      "Processed /Users/chy/Projects/Thesis/mfcc/tt0107048_mfcc.png with feature shape: torch.Size([1, 197, 768])\n",
      "Processed /Users/chy/Projects/Thesis/mfcc/tt2515086_mfcc.png with feature shape: torch.Size([1, 197, 768])\n"
     ]
    },
    {
     "name": "stderr",
     "output_type": "stream",
     "text": [
      " 83%|████████▎ | 1125/1356 [01:37<00:25,  9.22it/s]"
     ]
    },
    {
     "name": "stdout",
     "output_type": "stream",
     "text": [
      "Processed /Users/chy/Projects/Thesis/mfcc/tt1650043_mfcc.png with feature shape: torch.Size([1, 197, 768])\n",
      "Processed /Users/chy/Projects/Thesis/mfcc/tt0488085_mfcc.png with feature shape: torch.Size([1, 197, 768])\n",
      "Processed /Users/chy/Projects/Thesis/mfcc/tt4731136_mfcc.png with feature shape: torch.Size([1, 197, 768])\n"
     ]
    },
    {
     "name": "stderr",
     "output_type": "stream",
     "text": [
      " 83%|████████▎ | 1127/1356 [01:37<00:23,  9.73it/s]"
     ]
    },
    {
     "name": "stdout",
     "output_type": "stream",
     "text": [
      "Processed /Users/chy/Projects/Thesis/mfcc/tt5716848_mfcc.png with feature shape: torch.Size([1, 197, 768])\n",
      "Processed /Users/chy/Projects/Thesis/mfcc/tt1587310_mfcc.png with feature shape: torch.Size([1, 197, 768])\n",
      "Processed /Users/chy/Projects/Thesis/mfcc/tt2380564_mfcc.png with feature shape: torch.Size([1, 197, 768])\n"
     ]
    },
    {
     "name": "stderr",
     "output_type": "stream",
     "text": [
      " 83%|████████▎ | 1129/1356 [01:37<00:23,  9.58it/s]"
     ]
    },
    {
     "name": "stdout",
     "output_type": "stream",
     "text": [
      "Processed /Users/chy/Projects/Thesis/mfcc/tt0117665_mfcc.png with feature shape: torch.Size([1, 197, 768])\n",
      "Processed /Users/chy/Projects/Thesis/mfcc/tt1800246_mfcc.png with feature shape: torch.Size([1, 197, 768])\n",
      "Processed /Users/chy/Projects/Thesis/mfcc/tt1082853_mfcc.png with feature shape: torch.Size([1, 197, 768])\n"
     ]
    },
    {
     "name": "stderr",
     "output_type": "stream",
     "text": [
      " 84%|████████▎ | 1133/1356 [01:38<00:23,  9.66it/s]"
     ]
    },
    {
     "name": "stdout",
     "output_type": "stream",
     "text": [
      "Processed /Users/chy/Projects/Thesis/mfcc/tt0438315_mfcc.png with feature shape: torch.Size([1, 197, 768])\n",
      "Processed /Users/chy/Projects/Thesis/mfcc/tt0096787_mfcc.png with feature shape: torch.Size([1, 197, 768])\n",
      "Processed /Users/chy/Projects/Thesis/mfcc/tt0105698_mfcc.png with feature shape: torch.Size([1, 197, 768])\n"
     ]
    },
    {
     "name": "stderr",
     "output_type": "stream",
     "text": [
      " 84%|████████▍ | 1137/1356 [01:38<00:23,  9.23it/s]"
     ]
    },
    {
     "name": "stdout",
     "output_type": "stream",
     "text": [
      "Processed /Users/chy/Projects/Thesis/mfcc/tt0338337_mfcc.png with feature shape: torch.Size([1, 197, 768])\n",
      "Processed /Users/chy/Projects/Thesis/mfcc/tt1010048_mfcc.png with feature shape: torch.Size([1, 197, 768])\n",
      "Processed /Users/chy/Projects/Thesis/mfcc/tt0077504_mfcc.png with feature shape: torch.Size([1, 197, 768])\n"
     ]
    },
    {
     "name": "stderr",
     "output_type": "stream",
     "text": [
      " 84%|████████▍ | 1139/1356 [01:38<00:22,  9.60it/s]"
     ]
    },
    {
     "name": "stdout",
     "output_type": "stream",
     "text": [
      "Processed /Users/chy/Projects/Thesis/mfcc/tt0373024_mfcc.png with feature shape: torch.Size([1, 197, 768])\n",
      "Processed /Users/chy/Projects/Thesis/mfcc/tt0218839_mfcc.png with feature shape: torch.Size([1, 197, 768])\n",
      "Processed /Users/chy/Projects/Thesis/mfcc/tt0305224_mfcc.png with feature shape: torch.Size([1, 197, 768])\n"
     ]
    },
    {
     "name": "stderr",
     "output_type": "stream",
     "text": [
      " 84%|████████▍ | 1142/1356 [01:39<00:22,  9.46it/s]"
     ]
    },
    {
     "name": "stdout",
     "output_type": "stream",
     "text": [
      "Processed /Users/chy/Projects/Thesis/mfcc/tt4438848_mfcc.png with feature shape: torch.Size([1, 197, 768])\n",
      "Processed /Users/chy/Projects/Thesis/mfcc/tt0309593_mfcc.png with feature shape: torch.Size([1, 197, 768])\n",
      "Processed /Users/chy/Projects/Thesis/mfcc/tt0455967_mfcc.png with feature shape: torch.Size([1, 197, 768])\n"
     ]
    },
    {
     "name": "stderr",
     "output_type": "stream",
     "text": [
      " 85%|████████▍ | 1146/1356 [01:39<00:19, 10.81it/s]"
     ]
    },
    {
     "name": "stdout",
     "output_type": "stream",
     "text": [
      "Processed /Users/chy/Projects/Thesis/mfcc/tt1985966_mfcc.png with feature shape: torch.Size([1, 197, 768])\n",
      "Processed /Users/chy/Projects/Thesis/mfcc/tt0460766_mfcc.png with feature shape: torch.Size([1, 197, 768])\n",
      "Processed /Users/chy/Projects/Thesis/mfcc/tt0375679_mfcc.png with feature shape: torch.Size([1, 197, 768])\n"
     ]
    },
    {
     "name": "stderr",
     "output_type": "stream",
     "text": [
      " 85%|████████▍ | 1148/1356 [01:39<00:18, 11.37it/s]"
     ]
    },
    {
     "name": "stdout",
     "output_type": "stream",
     "text": [
      "Processed /Users/chy/Projects/Thesis/mfcc/tt0204946_mfcc.png with feature shape: torch.Size([1, 197, 768])\n",
      "Processed /Users/chy/Projects/Thesis/mfcc/tt0800003_mfcc.png with feature shape: torch.Size([1, 197, 768])\n"
     ]
    },
    {
     "name": "stderr",
     "output_type": "stream",
     "text": [
      " 85%|████████▍ | 1150/1356 [01:39<00:20, 10.02it/s]"
     ]
    },
    {
     "name": "stdout",
     "output_type": "stream",
     "text": [
      "Processed /Users/chy/Projects/Thesis/mfcc/tt2101441_mfcc.png with feature shape: torch.Size([1, 197, 768])\n",
      "Processed /Users/chy/Projects/Thesis/mfcc/tt0422783_mfcc.png with feature shape: torch.Size([1, 197, 768])\n",
      "Processed /Users/chy/Projects/Thesis/mfcc/tt0881891_mfcc.png with feature shape: torch.Size([1, 197, 768])\n"
     ]
    },
    {
     "name": "stderr",
     "output_type": "stream",
     "text": [
      " 85%|████████▍ | 1152/1356 [01:40<00:18, 11.03it/s]"
     ]
    },
    {
     "name": "stdout",
     "output_type": "stream",
     "text": [
      "Processed /Users/chy/Projects/Thesis/mfcc/tt0264464_mfcc.png with feature shape: torch.Size([1, 197, 768])\n",
      "Processed /Users/chy/Projects/Thesis/mfcc/tt0120647_mfcc.png with feature shape: torch.Size([1, 197, 768])\n"
     ]
    },
    {
     "name": "stderr",
     "output_type": "stream",
     "text": [
      " 85%|████████▌ | 1155/1356 [01:40<00:31,  6.28it/s]"
     ]
    },
    {
     "name": "stdout",
     "output_type": "stream",
     "text": [
      "Processed /Users/chy/Projects/Thesis/mfcc/tt0433383_mfcc.png with feature shape: torch.Size([1, 197, 768])\n",
      "Processed /Users/chy/Projects/Thesis/mfcc/tt0173840_mfcc.png with feature shape: torch.Size([1, 197, 768])\n"
     ]
    },
    {
     "name": "stderr",
     "output_type": "stream",
     "text": [
      " 85%|████████▌ | 1157/1356 [01:41<00:35,  5.60it/s]"
     ]
    },
    {
     "name": "stdout",
     "output_type": "stream",
     "text": [
      "Processed /Users/chy/Projects/Thesis/mfcc/tt0479968_mfcc.png with feature shape: torch.Size([1, 197, 768])\n",
      "Processed /Users/chy/Projects/Thesis/mfcc/tt0116683_mfcc.png with feature shape: torch.Size([1, 197, 768])\n"
     ]
    },
    {
     "name": "stderr",
     "output_type": "stream",
     "text": [
      " 85%|████████▌ | 1159/1356 [01:41<00:27,  7.09it/s]"
     ]
    },
    {
     "name": "stdout",
     "output_type": "stream",
     "text": [
      "Processed /Users/chy/Projects/Thesis/mfcc/tt0477348_mfcc.png with feature shape: torch.Size([1, 197, 768])\n",
      "Processed /Users/chy/Projects/Thesis/mfcc/tt0127349_mfcc.png with feature shape: torch.Size([1, 197, 768])\n",
      "Processed /Users/chy/Projects/Thesis/mfcc/tt0239986_mfcc.png with feature shape: torch.Size([1, 197, 768])\n"
     ]
    },
    {
     "name": "stderr",
     "output_type": "stream",
     "text": [
      " 86%|████████▌ | 1162/1356 [01:41<00:24,  7.78it/s]"
     ]
    },
    {
     "name": "stdout",
     "output_type": "stream",
     "text": [
      "Processed /Users/chy/Projects/Thesis/mfcc/tt0488120_mfcc.png with feature shape: torch.Size([1, 197, 768])\n",
      "Processed /Users/chy/Projects/Thesis/mfcc/tt0259711_mfcc.png with feature shape: torch.Size([1, 197, 768])\n"
     ]
    },
    {
     "name": "stderr",
     "output_type": "stream",
     "text": [
      " 86%|████████▌ | 1164/1356 [01:41<00:21,  8.94it/s]"
     ]
    },
    {
     "name": "stdout",
     "output_type": "stream",
     "text": [
      "Processed /Users/chy/Projects/Thesis/mfcc/tt0457523_mfcc.png with feature shape: torch.Size([1, 197, 768])\n",
      "Processed /Users/chy/Projects/Thesis/mfcc/tt0116477_mfcc.png with feature shape: torch.Size([1, 197, 768])\n"
     ]
    },
    {
     "name": "stderr",
     "output_type": "stream",
     "text": [
      " 86%|████████▌ | 1167/1356 [01:42<00:20,  9.01it/s]"
     ]
    },
    {
     "name": "stdout",
     "output_type": "stream",
     "text": [
      "Processed /Users/chy/Projects/Thesis/mfcc/tt0841046_mfcc.png with feature shape: torch.Size([1, 197, 768])\n",
      "Processed /Users/chy/Projects/Thesis/mfcc/tt0449851_mfcc.png with feature shape: torch.Size([1, 197, 768])\n",
      "Processed /Users/chy/Projects/Thesis/mfcc/tt0454776_mfcc.png with feature shape: torch.Size([1, 197, 768])\n"
     ]
    },
    {
     "name": "stderr",
     "output_type": "stream",
     "text": [
      " 86%|████████▋ | 1170/1356 [01:42<00:18, 10.02it/s]"
     ]
    },
    {
     "name": "stdout",
     "output_type": "stream",
     "text": [
      "Processed /Users/chy/Projects/Thesis/mfcc/tt0268126_mfcc.png with feature shape: torch.Size([1, 197, 768])\n",
      "Processed /Users/chy/Projects/Thesis/mfcc/tt0109830_mfcc.png with feature shape: torch.Size([1, 197, 768])\n",
      "Processed /Users/chy/Projects/Thesis/mfcc/tt0283877_mfcc.png with feature shape: torch.Size([1, 197, 768])\n"
     ]
    },
    {
     "name": "stderr",
     "output_type": "stream",
     "text": [
      " 86%|████████▋ | 1172/1356 [01:42<00:17, 10.49it/s]"
     ]
    },
    {
     "name": "stdout",
     "output_type": "stream",
     "text": [
      "Processed /Users/chy/Projects/Thesis/mfcc/tt1182345_mfcc.png with feature shape: torch.Size([1, 197, 768])\n",
      "Processed /Users/chy/Projects/Thesis/mfcc/tt3385398_mfcc.png with feature shape: torch.Size([1, 197, 768])\n",
      "Processed /Users/chy/Projects/Thesis/mfcc/tt10876506_mfcc.png with feature shape: torch.Size([1, 197, 768])\n"
     ]
    },
    {
     "name": "stderr",
     "output_type": "stream",
     "text": [
      " 87%|████████▋ | 1174/1356 [01:42<00:17, 10.40it/s]"
     ]
    },
    {
     "name": "stdout",
     "output_type": "stream",
     "text": [
      "Processed /Users/chy/Projects/Thesis/mfcc/tt0117420_mfcc.png with feature shape: torch.Size([1, 197, 768])\n"
     ]
    },
    {
     "name": "stderr",
     "output_type": "stream",
     "text": [
      " 87%|████████▋ | 1176/1356 [01:43<00:20,  8.97it/s]"
     ]
    },
    {
     "name": "stdout",
     "output_type": "stream",
     "text": [
      "Processed /Users/chy/Projects/Thesis/mfcc/tt1741243_mfcc.png with feature shape: torch.Size([1, 197, 768])\n",
      "Processed /Users/chy/Projects/Thesis/mfcc/tt1950135_mfcc.png with feature shape: torch.Size([1, 197, 768])\n"
     ]
    },
    {
     "name": "stderr",
     "output_type": "stream",
     "text": [
      " 87%|████████▋ | 1178/1356 [01:43<00:22,  7.85it/s]"
     ]
    },
    {
     "name": "stdout",
     "output_type": "stream",
     "text": [
      "Processed /Users/chy/Projects/Thesis/mfcc/tt1699147_mfcc.png with feature shape: torch.Size([1, 197, 768])\n",
      "Processed /Users/chy/Projects/Thesis/mfcc/tt1925435_mfcc.png with feature shape: torch.Size([1, 197, 768])\n"
     ]
    },
    {
     "name": "stderr",
     "output_type": "stream",
     "text": [
      " 87%|████████▋ | 1180/1356 [01:43<00:18,  9.43it/s]"
     ]
    },
    {
     "name": "stdout",
     "output_type": "stream",
     "text": [
      "Processed /Users/chy/Projects/Thesis/mfcc/tt0338427_mfcc.png with feature shape: torch.Size([1, 197, 768])\n",
      "Processed /Users/chy/Projects/Thesis/mfcc/tt0367959_mfcc.png with feature shape: torch.Size([1, 197, 768])\n",
      "Processed /Users/chy/Projects/Thesis/mfcc/tt0273435_mfcc.png with feature shape: torch.Size([1, 197, 768])\n"
     ]
    },
    {
     "name": "stderr",
     "output_type": "stream",
     "text": [
      " 87%|████████▋ | 1183/1356 [01:44<00:25,  6.70it/s]"
     ]
    },
    {
     "name": "stdout",
     "output_type": "stream",
     "text": [
      "Processed /Users/chy/Projects/Thesis/mfcc/tt0265208_mfcc.png with feature shape: torch.Size([1, 197, 768])\n",
      "Processed /Users/chy/Projects/Thesis/mfcc/tt0079758_mfcc.png with feature shape: torch.Size([1, 197, 768])\n"
     ]
    },
    {
     "name": "stderr",
     "output_type": "stream",
     "text": [
      " 87%|████████▋ | 1185/1356 [01:44<00:26,  6.54it/s]"
     ]
    },
    {
     "name": "stdout",
     "output_type": "stream",
     "text": [
      "Processed /Users/chy/Projects/Thesis/mfcc/tt1307989_mfcc.png with feature shape: torch.Size([1, 197, 768])\n",
      "Processed /Users/chy/Projects/Thesis/mfcc/tt2002718_mfcc.png with feature shape: torch.Size([1, 197, 768])\n"
     ]
    },
    {
     "name": "stderr",
     "output_type": "stream",
     "text": [
      " 88%|████████▊ | 1188/1356 [01:45<00:30,  5.45it/s]"
     ]
    },
    {
     "name": "stdout",
     "output_type": "stream",
     "text": [
      "Processed /Users/chy/Projects/Thesis/mfcc/tt1462769_mfcc.png with feature shape: torch.Size([1, 197, 768])\n",
      "Processed /Users/chy/Projects/Thesis/mfcc/tt0281322_mfcc.png with feature shape: torch.Size([1, 197, 768])\n",
      "Processed /Users/chy/Projects/Thesis/mfcc/tt0365957_mfcc.png with feature shape: torch.Size([1, 197, 768])\n"
     ]
    },
    {
     "name": "stderr",
     "output_type": "stream",
     "text": [
      " 88%|████████▊ | 1190/1356 [01:45<00:24,  6.89it/s]"
     ]
    },
    {
     "name": "stdout",
     "output_type": "stream",
     "text": [
      "Processed /Users/chy/Projects/Thesis/mfcc/tt0364569_mfcc.png with feature shape: torch.Size([1, 197, 768])\n",
      "Processed /Users/chy/Projects/Thesis/mfcc/tt0118663_mfcc.png with feature shape: torch.Size([1, 197, 768])\n",
      "Processed /Users/chy/Projects/Thesis/mfcc/tt0109676_mfcc.png with feature shape: torch.Size([1, 197, 768])\n"
     ]
    },
    {
     "name": "stderr",
     "output_type": "stream",
     "text": [
      " 88%|████████▊ | 1194/1356 [01:46<00:20,  7.77it/s]"
     ]
    },
    {
     "name": "stdout",
     "output_type": "stream",
     "text": [
      "Processed /Users/chy/Projects/Thesis/mfcc/tt3279176_mfcc.png with feature shape: torch.Size([1, 197, 768])\n",
      "Processed /Users/chy/Projects/Thesis/mfcc/tt1296373_mfcc.png with feature shape: torch.Size([1, 197, 768])\n",
      "Processed /Users/chy/Projects/Thesis/mfcc/tt1148204_mfcc.png with feature shape: torch.Size([1, 197, 768])\n"
     ]
    },
    {
     "name": "stderr",
     "output_type": "stream",
     "text": [
      " 88%|████████▊ | 1196/1356 [01:46<00:20,  7.75it/s]"
     ]
    },
    {
     "name": "stdout",
     "output_type": "stream",
     "text": [
      "Processed /Users/chy/Projects/Thesis/mfcc/tt0762125_mfcc.png with feature shape: torch.Size([1, 197, 768])\n",
      "Processed /Users/chy/Projects/Thesis/mfcc/tt1224366_mfcc.png with feature shape: torch.Size([1, 197, 768])\n",
      "Processed /Users/chy/Projects/Thesis/mfcc/tt0087277_mfcc.png with feature shape: torch.Size([1, 197, 768])\n"
     ]
    },
    {
     "name": "stderr",
     "output_type": "stream",
     "text": [
      " 88%|████████▊ | 1200/1356 [01:46<00:15,  9.99it/s]"
     ]
    },
    {
     "name": "stdout",
     "output_type": "stream",
     "text": [
      "Processed /Users/chy/Projects/Thesis/mfcc/tt0455805_mfcc.png with feature shape: torch.Size([1, 197, 768])\n",
      "Processed /Users/chy/Projects/Thesis/mfcc/tt0247425_mfcc.png with feature shape: torch.Size([1, 197, 768])\n",
      "Processed /Users/chy/Projects/Thesis/mfcc/tt4172430_mfcc.png with feature shape: torch.Size([1, 197, 768])\n"
     ]
    },
    {
     "name": "stderr",
     "output_type": "stream",
     "text": [
      " 89%|████████▊ | 1202/1356 [01:46<00:15,  9.93it/s]"
     ]
    },
    {
     "name": "stdout",
     "output_type": "stream",
     "text": [
      "Processed /Users/chy/Projects/Thesis/mfcc/tt0422093_mfcc.png with feature shape: torch.Size([1, 197, 768])\n",
      "Processed /Users/chy/Projects/Thesis/mfcc/tt1663333_mfcc.png with feature shape: torch.Size([1, 197, 768])\n",
      "Processed /Users/chy/Projects/Thesis/mfcc/tt4062536_mfcc.png with feature shape: torch.Size([1, 197, 768])\n"
     ]
    },
    {
     "name": "stderr",
     "output_type": "stream",
     "text": [
      " 89%|████████▉ | 1204/1356 [01:46<00:14, 10.65it/s]"
     ]
    },
    {
     "name": "stdout",
     "output_type": "stream",
     "text": [
      "Processed /Users/chy/Projects/Thesis/mfcc/tt0265349_mfcc.png with feature shape: torch.Size([1, 197, 768])\n"
     ]
    },
    {
     "name": "stderr",
     "output_type": "stream",
     "text": [
      " 89%|████████▉ | 1206/1356 [01:47<00:15,  9.50it/s]"
     ]
    },
    {
     "name": "stdout",
     "output_type": "stream",
     "text": [
      "Processed /Users/chy/Projects/Thesis/mfcc/tt2332883_mfcc.png with feature shape: torch.Size([1, 197, 768])\n",
      "Processed /Users/chy/Projects/Thesis/mfcc/tt0368658_mfcc.png with feature shape: torch.Size([1, 197, 768])\n",
      "Processed /Users/chy/Projects/Thesis/mfcc/tt1959563_mfcc.png with feature shape: torch.Size([1, 197, 768])\n",
      "Processed /Users/chy/Projects/Thesis/mfcc/tt1135487_mfcc.png with feature shape: torch.Size([1, 197, 768])\n"
     ]
    },
    {
     "name": "stderr",
     "output_type": "stream",
     "text": [
      " 89%|████████▉ | 1210/1356 [01:47<00:13, 10.95it/s]"
     ]
    },
    {
     "name": "stdout",
     "output_type": "stream",
     "text": [
      "Processed /Users/chy/Projects/Thesis/mfcc/tt0416496_mfcc.png with feature shape: torch.Size([1, 197, 768])\n",
      "Processed /Users/chy/Projects/Thesis/mfcc/tt0365885_mfcc.png with feature shape: torch.Size([1, 197, 768])\n",
      "Processed /Users/chy/Projects/Thesis/mfcc/tt1502397_mfcc.png with feature shape: torch.Size([1, 197, 768])\n"
     ]
    },
    {
     "name": "stderr",
     "output_type": "stream",
     "text": [
      " 90%|████████▉ | 1214/1356 [01:47<00:12, 11.75it/s]"
     ]
    },
    {
     "name": "stdout",
     "output_type": "stream",
     "text": [
      "Processed /Users/chy/Projects/Thesis/mfcc/tt1029241_mfcc.png with feature shape: torch.Size([1, 197, 768])\n",
      "Processed /Users/chy/Projects/Thesis/mfcc/tt4799050_mfcc.png with feature shape: torch.Size([1, 197, 768])\n",
      "Processed /Users/chy/Projects/Thesis/mfcc/tt2017020_mfcc.png with feature shape: torch.Size([1, 197, 768])\n"
     ]
    },
    {
     "name": "stderr",
     "output_type": "stream",
     "text": [
      " 90%|████████▉ | 1216/1356 [01:48<00:14,  9.93it/s]"
     ]
    },
    {
     "name": "stdout",
     "output_type": "stream",
     "text": [
      "Processed /Users/chy/Projects/Thesis/mfcc/tt1266149_mfcc.png with feature shape: torch.Size([1, 197, 768])\n",
      "Processed /Users/chy/Projects/Thesis/mfcc/tt6772804_mfcc.png with feature shape: torch.Size([1, 197, 768])\n",
      "Processed /Users/chy/Projects/Thesis/mfcc/tt1601913_mfcc.png with feature shape: torch.Size([1, 197, 768])\n"
     ]
    },
    {
     "name": "stderr",
     "output_type": "stream",
     "text": [
      " 90%|████████▉ | 1220/1356 [01:48<00:12, 10.89it/s]"
     ]
    },
    {
     "name": "stdout",
     "output_type": "stream",
     "text": [
      "Processed /Users/chy/Projects/Thesis/mfcc/tt0120347_mfcc.png with feature shape: torch.Size([1, 197, 768])\n",
      "Processed /Users/chy/Projects/Thesis/mfcc/tt1067106_mfcc.png with feature shape: torch.Size([1, 197, 768])\n",
      "Processed /Users/chy/Projects/Thesis/mfcc/tt0042788_mfcc.png with feature shape: torch.Size([1, 197, 768])\n"
     ]
    },
    {
     "name": "stderr",
     "output_type": "stream",
     "text": [
      " 90%|█████████ | 1222/1356 [01:48<00:11, 11.33it/s]"
     ]
    },
    {
     "name": "stdout",
     "output_type": "stream",
     "text": [
      "Processed /Users/chy/Projects/Thesis/mfcc/tt0970179_mfcc.png with feature shape: torch.Size([1, 197, 768])\n",
      "Processed /Users/chy/Projects/Thesis/mfcc/tt1012804_mfcc.png with feature shape: torch.Size([1, 197, 768])\n",
      "Processed /Users/chy/Projects/Thesis/mfcc/tt0107711_mfcc.png with feature shape: torch.Size([1, 197, 768])\n"
     ]
    },
    {
     "name": "stderr",
     "output_type": "stream",
     "text": [
      " 90%|█████████ | 1224/1356 [01:48<00:11, 11.64it/s]"
     ]
    },
    {
     "name": "stdout",
     "output_type": "stream",
     "text": [
      "Processed /Users/chy/Projects/Thesis/mfcc/tt1034303_mfcc.png with feature shape: torch.Size([1, 197, 768])\n",
      "Processed /Users/chy/Projects/Thesis/mfcc/tt2504022_mfcc.png with feature shape: torch.Size([1, 197, 768])\n"
     ]
    },
    {
     "name": "stderr",
     "output_type": "stream",
     "text": [
      " 91%|█████████ | 1228/1356 [01:49<00:11, 10.92it/s]"
     ]
    },
    {
     "name": "stdout",
     "output_type": "stream",
     "text": [
      "Processed /Users/chy/Projects/Thesis/mfcc/tt0026129_mfcc.png with feature shape: torch.Size([1, 197, 768])\n",
      "Processed /Users/chy/Projects/Thesis/mfcc/tt0892769_mfcc.png with feature shape: torch.Size([1, 197, 768])\n",
      "Processed /Users/chy/Projects/Thesis/mfcc/tt0374536_mfcc.png with feature shape: torch.Size([1, 197, 768])\n"
     ]
    },
    {
     "name": "stderr",
     "output_type": "stream",
     "text": [
      " 91%|█████████ | 1230/1356 [01:49<00:10, 11.66it/s]"
     ]
    },
    {
     "name": "stdout",
     "output_type": "stream",
     "text": [
      "Processed /Users/chy/Projects/Thesis/mfcc/tt1823664_mfcc.png with feature shape: torch.Size([1, 197, 768])\n",
      "Processed /Users/chy/Projects/Thesis/mfcc/tt7947150_mfcc.png with feature shape: torch.Size([1, 197, 768])\n",
      "Processed /Users/chy/Projects/Thesis/mfcc/tt0116928_mfcc.png with feature shape: torch.Size([1, 197, 768])\n"
     ]
    },
    {
     "name": "stderr",
     "output_type": "stream",
     "text": [
      " 91%|█████████ | 1234/1356 [01:49<00:10, 11.64it/s]"
     ]
    },
    {
     "name": "stdout",
     "output_type": "stream",
     "text": [
      "Processed /Users/chy/Projects/Thesis/mfcc/tt0804522_mfcc.png with feature shape: torch.Size([1, 197, 768])\n",
      "Processed /Users/chy/Projects/Thesis/mfcc/tt0490204_mfcc.png with feature shape: torch.Size([1, 197, 768])\n",
      "Processed /Users/chy/Projects/Thesis/mfcc/tt0169547_mfcc.png with feature shape: torch.Size([1, 197, 768])\n"
     ]
    },
    {
     "name": "stderr",
     "output_type": "stream",
     "text": [
      " 91%|█████████ | 1236/1356 [01:49<00:11, 10.16it/s]"
     ]
    },
    {
     "name": "stdout",
     "output_type": "stream",
     "text": [
      "Processed /Users/chy/Projects/Thesis/mfcc/tt0467406_mfcc.png with feature shape: torch.Size([1, 197, 768])\n",
      "Processed /Users/chy/Projects/Thesis/mfcc/tt0031507_mfcc.png with feature shape: torch.Size([1, 197, 768])\n",
      "Processed /Users/chy/Projects/Thesis/mfcc/tt0295701_mfcc.png with feature shape: torch.Size([1, 197, 768])\n"
     ]
    },
    {
     "name": "stderr",
     "output_type": "stream",
     "text": [
      " 91%|█████████▏| 1240/1356 [01:50<00:11, 10.32it/s]"
     ]
    },
    {
     "name": "stdout",
     "output_type": "stream",
     "text": [
      "Processed /Users/chy/Projects/Thesis/mfcc/tt1082807_mfcc.png with feature shape: torch.Size([1, 197, 768])\n",
      "Processed /Users/chy/Projects/Thesis/mfcc/tt2193418_mfcc.png with feature shape: torch.Size([1, 197, 768])\n",
      "Processed /Users/chy/Projects/Thesis/mfcc/tt0295700_mfcc.png with feature shape: torch.Size([1, 197, 768])\n"
     ]
    },
    {
     "name": "stderr",
     "output_type": "stream",
     "text": [
      " 92%|█████████▏| 1242/1356 [01:50<00:12,  8.93it/s]"
     ]
    },
    {
     "name": "stdout",
     "output_type": "stream",
     "text": [
      "Processed /Users/chy/Projects/Thesis/mfcc/tt0366777_mfcc.png with feature shape: torch.Size([1, 197, 768])\n",
      "Processed /Users/chy/Projects/Thesis/mfcc/tt0432402_mfcc.png with feature shape: torch.Size([1, 197, 768])\n",
      "Processed /Users/chy/Projects/Thesis/mfcc/tt0338450_mfcc.png with feature shape: torch.Size([1, 197, 768])\n"
     ]
    },
    {
     "name": "stderr",
     "output_type": "stream",
     "text": [
      " 92%|█████████▏| 1244/1356 [01:50<00:11,  9.91it/s]"
     ]
    },
    {
     "name": "stdout",
     "output_type": "stream",
     "text": [
      "Processed /Users/chy/Projects/Thesis/mfcc/tt3264102_mfcc.png with feature shape: torch.Size([1, 197, 768])\n",
      "Processed /Users/chy/Projects/Thesis/mfcc/tt0337876_mfcc.png with feature shape: torch.Size([1, 197, 768])\n"
     ]
    },
    {
     "name": "stderr",
     "output_type": "stream",
     "text": [
      " 92%|█████████▏| 1248/1356 [01:51<00:10, 10.02it/s]"
     ]
    },
    {
     "name": "stdout",
     "output_type": "stream",
     "text": [
      "Processed /Users/chy/Projects/Thesis/mfcc/tt8151874_mfcc.png with feature shape: torch.Size([1, 197, 768])\n",
      "Processed /Users/chy/Projects/Thesis/mfcc/tt0289889_mfcc.png with feature shape: torch.Size([1, 197, 768])\n",
      "Processed /Users/chy/Projects/Thesis/mfcc/tt0319061_mfcc.png with feature shape: torch.Size([1, 197, 768])\n",
      "Processed /Users/chy/Projects/Thesis/mfcc/tt0906665_mfcc.png with feature shape: torch.Size([1, 197, 768])\n"
     ]
    },
    {
     "name": "stderr",
     "output_type": "stream",
     "text": [
      " 92%|█████████▏| 1252/1356 [01:51<00:09, 11.47it/s]"
     ]
    },
    {
     "name": "stdout",
     "output_type": "stream",
     "text": [
      "Processed /Users/chy/Projects/Thesis/mfcc/tt0113537_mfcc.png with feature shape: torch.Size([1, 197, 768])\n",
      "Processed /Users/chy/Projects/Thesis/mfcc/tt4938374_mfcc.png with feature shape: torch.Size([1, 197, 768])\n",
      "Processed /Users/chy/Projects/Thesis/mfcc/tt0120753_mfcc.png with feature shape: torch.Size([1, 197, 768])\n"
     ]
    },
    {
     "name": "stderr",
     "output_type": "stream",
     "text": [
      " 92%|█████████▏| 1254/1356 [01:51<00:08, 11.73it/s]"
     ]
    },
    {
     "name": "stdout",
     "output_type": "stream",
     "text": [
      "Processed /Users/chy/Projects/Thesis/mfcc/tt0328538_mfcc.png with feature shape: torch.Size([1, 197, 768])\n",
      "Processed /Users/chy/Projects/Thesis/mfcc/tt0370986_mfcc.png with feature shape: torch.Size([1, 197, 768])\n",
      "Processed /Users/chy/Projects/Thesis/mfcc/tt1125849_mfcc.png with feature shape: torch.Size([1, 197, 768])\n"
     ]
    },
    {
     "name": "stderr",
     "output_type": "stream",
     "text": [
      " 93%|█████████▎| 1258/1356 [01:52<00:09, 10.35it/s]"
     ]
    },
    {
     "name": "stdout",
     "output_type": "stream",
     "text": [
      "Processed /Users/chy/Projects/Thesis/mfcc/tt1415283_mfcc.png with feature shape: torch.Size([1, 197, 768])\n",
      "Processed /Users/chy/Projects/Thesis/mfcc/tt0244521_mfcc.png with feature shape: torch.Size([1, 197, 768])\n",
      "Processed /Users/chy/Projects/Thesis/mfcc/tt3859304_mfcc.png with feature shape: torch.Size([1, 197, 768])\n"
     ]
    },
    {
     "name": "stderr",
     "output_type": "stream",
     "text": [
      " 93%|█████████▎| 1260/1356 [01:52<00:08, 11.06it/s]"
     ]
    },
    {
     "name": "stdout",
     "output_type": "stream",
     "text": [
      "Processed /Users/chy/Projects/Thesis/mfcc/tt0363276_mfcc.png with feature shape: torch.Size([1, 197, 768])\n",
      "Processed /Users/chy/Projects/Thesis/mfcc/tt1244659_mfcc.png with feature shape: torch.Size([1, 197, 768])\n",
      "Processed /Users/chy/Projects/Thesis/mfcc/tt0075860_mfcc.png with feature shape: torch.Size([1, 197, 768])\n"
     ]
    },
    {
     "name": "stderr",
     "output_type": "stream",
     "text": [
      " 93%|█████████▎| 1264/1356 [01:52<00:07, 11.65it/s]"
     ]
    },
    {
     "name": "stdout",
     "output_type": "stream",
     "text": [
      "Processed /Users/chy/Projects/Thesis/mfcc/tt0270846_mfcc.png with feature shape: torch.Size([1, 197, 768])\n",
      "Processed /Users/chy/Projects/Thesis/mfcc/tt1178663_mfcc.png with feature shape: torch.Size([1, 197, 768])\n",
      "Processed /Users/chy/Projects/Thesis/mfcc/tt1796581_mfcc.png with feature shape: torch.Size([1, 197, 768])\n"
     ]
    },
    {
     "name": "stderr",
     "output_type": "stream",
     "text": [
      " 93%|█████████▎| 1266/1356 [01:52<00:07, 11.79it/s]"
     ]
    },
    {
     "name": "stdout",
     "output_type": "stream",
     "text": [
      "Processed /Users/chy/Projects/Thesis/mfcc/tt0470055_mfcc.png with feature shape: torch.Size([1, 197, 768])\n",
      "Processed /Users/chy/Projects/Thesis/mfcc/tt0042767_mfcc.png with feature shape: torch.Size([1, 197, 768])\n",
      "Processed /Users/chy/Projects/Thesis/mfcc/tt0099750_mfcc.png with feature shape: torch.Size([1, 197, 768])\n"
     ]
    },
    {
     "name": "stderr",
     "output_type": "stream",
     "text": [
      " 94%|█████████▎| 1270/1356 [01:53<00:08, 10.39it/s]"
     ]
    },
    {
     "name": "stdout",
     "output_type": "stream",
     "text": [
      "Processed /Users/chy/Projects/Thesis/mfcc/tt0381061_mfcc.png with feature shape: torch.Size([1, 197, 768])\n",
      "Processed /Users/chy/Projects/Thesis/mfcc/tt0780536_mfcc.png with feature shape: torch.Size([1, 197, 768])\n",
      "Processed /Users/chy/Projects/Thesis/mfcc/tt6205872_mfcc.png with feature shape: torch.Size([1, 197, 768])\n"
     ]
    },
    {
     "name": "stderr",
     "output_type": "stream",
     "text": [
      " 94%|█████████▍| 1272/1356 [01:53<00:07, 11.34it/s]"
     ]
    },
    {
     "name": "stdout",
     "output_type": "stream",
     "text": [
      "Processed /Users/chy/Projects/Thesis/mfcc/tt0105236_mfcc.png with feature shape: torch.Size([1, 197, 768])\n",
      "Processed /Users/chy/Projects/Thesis/mfcc/tt0473308_mfcc.png with feature shape: torch.Size([1, 197, 768])\n",
      "Processed /Users/chy/Projects/Thesis/mfcc/tt0331314_mfcc.png with feature shape: torch.Size([1, 197, 768])\n",
      "Processed /Users/chy/Projects/Thesis/mfcc/tt0120903_mfcc.png with feature shape: torch.Size([1, 197, 768])\n"
     ]
    },
    {
     "name": "stderr",
     "output_type": "stream",
     "text": [
      " 94%|█████████▍| 1276/1356 [01:53<00:07, 10.92it/s]"
     ]
    },
    {
     "name": "stdout",
     "output_type": "stream",
     "text": [
      "Processed /Users/chy/Projects/Thesis/mfcc/tt1996264_mfcc.png with feature shape: torch.Size([1, 197, 768])\n",
      "Processed /Users/chy/Projects/Thesis/mfcc/tt0116731_mfcc.png with feature shape: torch.Size([1, 197, 768])\n",
      "Processed /Users/chy/Projects/Thesis/mfcc/tt0301199_mfcc.png with feature shape: torch.Size([1, 197, 768])\n",
      "Processed /Users/chy/Projects/Thesis/mfcc/tt0870122_mfcc.png with feature shape: torch.Size([1, 197, 768])\n"
     ]
    },
    {
     "name": "stderr",
     "output_type": "stream",
     "text": [
      " 94%|█████████▍| 1280/1356 [01:54<00:07, 10.41it/s]"
     ]
    },
    {
     "name": "stdout",
     "output_type": "stream",
     "text": [
      "Processed /Users/chy/Projects/Thesis/mfcc/tt0358082_mfcc.png with feature shape: torch.Size([1, 197, 768])\n",
      "Processed /Users/chy/Projects/Thesis/mfcc/tt0482603_mfcc.png with feature shape: torch.Size([1, 197, 768])\n",
      "Processed /Users/chy/Projects/Thesis/mfcc/tt0804516_mfcc.png with feature shape: torch.Size([1, 197, 768])\n",
      "Processed /Users/chy/Projects/Thesis/mfcc/tt1087524_mfcc.png with feature shape: torch.Size([1, 197, 768])\n"
     ]
    },
    {
     "name": "stderr",
     "output_type": "stream",
     "text": [
      " 95%|█████████▍| 1284/1356 [01:54<00:06, 11.77it/s]"
     ]
    },
    {
     "name": "stdout",
     "output_type": "stream",
     "text": [
      "Processed /Users/chy/Projects/Thesis/mfcc/tt4501244_mfcc.png with feature shape: torch.Size([1, 197, 768])\n",
      "Processed /Users/chy/Projects/Thesis/mfcc/tt0093407_mfcc.png with feature shape: torch.Size([1, 197, 768])\n",
      "Processed /Users/chy/Projects/Thesis/mfcc/tt0106611_mfcc.png with feature shape: torch.Size([1, 197, 768])\n"
     ]
    },
    {
     "name": "stderr",
     "output_type": "stream",
     "text": [
      " 95%|█████████▍| 1288/1356 [01:54<00:05, 12.29it/s]"
     ]
    },
    {
     "name": "stdout",
     "output_type": "stream",
     "text": [
      "Processed /Users/chy/Projects/Thesis/mfcc/tt0116778_mfcc.png with feature shape: torch.Size([1, 197, 768])\n",
      "Processed /Users/chy/Projects/Thesis/mfcc/tt0486051_mfcc.png with feature shape: torch.Size([1, 197, 768])\n",
      "Processed /Users/chy/Projects/Thesis/mfcc/tt0374900_mfcc.png with feature shape: torch.Size([1, 197, 768])\n"
     ]
    },
    {
     "name": "stderr",
     "output_type": "stream",
     "text": [
      " 95%|█████████▌| 1290/1356 [01:54<00:05, 12.49it/s]"
     ]
    },
    {
     "name": "stdout",
     "output_type": "stream",
     "text": [
      "Processed /Users/chy/Projects/Thesis/mfcc/tt0119167_mfcc.png with feature shape: torch.Size([1, 197, 768])\n",
      "Processed /Users/chy/Projects/Thesis/mfcc/tt0427543_mfcc.png with feature shape: torch.Size([1, 197, 768])\n",
      "Processed /Users/chy/Projects/Thesis/mfcc/tt0489281_mfcc.png with feature shape: torch.Size([1, 197, 768])\n"
     ]
    },
    {
     "name": "stderr",
     "output_type": "stream",
     "text": [
      " 95%|█████████▌| 1294/1356 [01:55<00:04, 12.62it/s]"
     ]
    },
    {
     "name": "stdout",
     "output_type": "stream",
     "text": [
      "Processed /Users/chy/Projects/Thesis/mfcc/tt4002772_mfcc.png with feature shape: torch.Size([1, 197, 768])\n",
      "Processed /Users/chy/Projects/Thesis/mfcc/tt0133412_mfcc.png with feature shape: torch.Size([1, 197, 768])\n",
      "Processed /Users/chy/Projects/Thesis/mfcc/tt1104006_mfcc.png with feature shape: torch.Size([1, 197, 768])\n"
     ]
    },
    {
     "name": "stderr",
     "output_type": "stream",
     "text": [
      " 96%|█████████▌| 1296/1356 [01:55<00:05, 11.36it/s]"
     ]
    },
    {
     "name": "stdout",
     "output_type": "stream",
     "text": [
      "Processed /Users/chy/Projects/Thesis/mfcc/tt2881698_mfcc.png with feature shape: torch.Size([1, 197, 768])\n",
      "Processed /Users/chy/Projects/Thesis/mfcc/tt1129381_mfcc.png with feature shape: torch.Size([1, 197, 768])\n",
      "Processed /Users/chy/Projects/Thesis/mfcc/tt0116606_mfcc.png with feature shape: torch.Size([1, 197, 768])\n",
      "Processed /Users/chy/Projects/Thesis/mfcc/tt1591504_mfcc.png with feature shape: torch.Size([1, 197, 768])\n"
     ]
    },
    {
     "name": "stderr",
     "output_type": "stream",
     "text": [
      " 96%|█████████▌| 1300/1356 [01:55<00:04, 12.39it/s]"
     ]
    },
    {
     "name": "stdout",
     "output_type": "stream",
     "text": [
      "Processed /Users/chy/Projects/Thesis/mfcc/tt1151922_mfcc.png with feature shape: torch.Size([1, 197, 768])\n",
      "Processed /Users/chy/Projects/Thesis/mfcc/tt0286162_mfcc.png with feature shape: torch.Size([1, 197, 768])\n",
      "Processed /Users/chy/Projects/Thesis/mfcc/tt0327679_mfcc.png with feature shape: torch.Size([1, 197, 768])\n"
     ]
    },
    {
     "name": "stderr",
     "output_type": "stream",
     "text": [
      " 96%|█████████▌| 1302/1356 [01:55<00:04, 12.66it/s]"
     ]
    },
    {
     "name": "stdout",
     "output_type": "stream",
     "text": [
      "Processed /Users/chy/Projects/Thesis/mfcc/tt1469304_mfcc.png with feature shape: torch.Size([1, 197, 768])\n",
      "Processed /Users/chy/Projects/Thesis/mfcc/tt0317648_mfcc.png with feature shape: torch.Size([1, 197, 768])\n",
      "Processed /Users/chy/Projects/Thesis/mfcc/tt0974661_mfcc.png with feature shape: torch.Size([1, 197, 768])\n"
     ]
    },
    {
     "name": "stderr",
     "output_type": "stream",
     "text": [
      " 96%|█████████▋| 1306/1356 [01:56<00:04, 11.94it/s]"
     ]
    },
    {
     "name": "stdout",
     "output_type": "stream",
     "text": [
      "Processed /Users/chy/Projects/Thesis/mfcc/tt0478087_mfcc.png with feature shape: torch.Size([1, 197, 768])\n",
      "Processed /Users/chy/Projects/Thesis/mfcc/tt0116353_mfcc.png with feature shape: torch.Size([1, 197, 768])\n",
      "Processed /Users/chy/Projects/Thesis/mfcc/tt0264472_mfcc.png with feature shape: torch.Size([1, 197, 768])\n"
     ]
    },
    {
     "name": "stderr",
     "output_type": "stream",
     "text": [
      " 96%|█████████▋| 1308/1356 [01:56<00:03, 12.33it/s]"
     ]
    },
    {
     "name": "stdout",
     "output_type": "stream",
     "text": [
      "Processed /Users/chy/Projects/Thesis/mfcc/tt10054316_mfcc.png with feature shape: torch.Size([1, 197, 768])\n",
      "Processed /Users/chy/Projects/Thesis/mfcc/tt0256276_mfcc.png with feature shape: torch.Size([1, 197, 768])\n"
     ]
    },
    {
     "name": "stderr",
     "output_type": "stream",
     "text": [
      " 97%|█████████▋| 1310/1356 [01:56<00:04,  9.83it/s]"
     ]
    },
    {
     "name": "stdout",
     "output_type": "stream",
     "text": [
      "Processed /Users/chy/Projects/Thesis/mfcc/tt2312718_mfcc.png with feature shape: torch.Size([1, 197, 768])\n",
      "Processed /Users/chy/Projects/Thesis/mfcc/tt0837796_mfcc.png with feature shape: torch.Size([1, 197, 768])\n"
     ]
    },
    {
     "name": "stderr",
     "output_type": "stream",
     "text": [
      " 97%|█████████▋| 1314/1356 [01:56<00:03, 10.74it/s]"
     ]
    },
    {
     "name": "stdout",
     "output_type": "stream",
     "text": [
      "Processed /Users/chy/Projects/Thesis/mfcc/tt0808244_mfcc.png with feature shape: torch.Size([1, 197, 768])\n",
      "Processed /Users/chy/Projects/Thesis/mfcc/tt0431308_mfcc.png with feature shape: torch.Size([1, 197, 768])\n",
      "Processed /Users/chy/Projects/Thesis/mfcc/tt1402488_mfcc.png with feature shape: torch.Size([1, 197, 768])\n"
     ]
    },
    {
     "name": "stderr",
     "output_type": "stream",
     "text": [
      " 97%|█████████▋| 1316/1356 [01:57<00:03, 11.70it/s]"
     ]
    },
    {
     "name": "stdout",
     "output_type": "stream",
     "text": [
      "Processed /Users/chy/Projects/Thesis/mfcc/tt0472399_mfcc.png with feature shape: torch.Size([1, 197, 768])\n",
      "Processed /Users/chy/Projects/Thesis/mfcc/tt0477139_mfcc.png with feature shape: torch.Size([1, 197, 768])\n",
      "Processed /Users/chy/Projects/Thesis/mfcc/tt0369436_mfcc.png with feature shape: torch.Size([1, 197, 768])\n"
     ]
    },
    {
     "name": "stderr",
     "output_type": "stream",
     "text": [
      " 97%|█████████▋| 1320/1356 [01:57<00:03, 11.27it/s]"
     ]
    },
    {
     "name": "stdout",
     "output_type": "stream",
     "text": [
      "Processed /Users/chy/Projects/Thesis/mfcc/tt0337711_mfcc.png with feature shape: torch.Size([1, 197, 768])\n",
      "Processed /Users/chy/Projects/Thesis/mfcc/tt1431045_mfcc.png with feature shape: torch.Size([1, 197, 768])\n",
      "Processed /Users/chy/Projects/Thesis/mfcc/tt0116695_mfcc.png with feature shape: torch.Size([1, 197, 768])\n",
      "Processed /Users/chy/Projects/Thesis/mfcc/tt0910905_mfcc.png with feature shape: torch.Size([1, 197, 768])\n"
     ]
    },
    {
     "name": "stderr",
     "output_type": "stream",
     "text": [
      " 98%|█████████▊| 1324/1356 [01:57<00:03, 10.16it/s]"
     ]
    },
    {
     "name": "stdout",
     "output_type": "stream",
     "text": [
      "Processed /Users/chy/Projects/Thesis/mfcc/tt0357585_mfcc.png with feature shape: torch.Size([1, 197, 768])\n",
      "Processed /Users/chy/Projects/Thesis/mfcc/tt0762110_mfcc.png with feature shape: torch.Size([1, 197, 768])\n",
      "Processed /Users/chy/Projects/Thesis/mfcc/tt0112373_mfcc.png with feature shape: torch.Size([1, 197, 768])\n"
     ]
    },
    {
     "name": "stderr",
     "output_type": "stream",
     "text": [
      " 98%|█████████▊| 1326/1356 [01:58<00:02, 10.33it/s]"
     ]
    },
    {
     "name": "stdout",
     "output_type": "stream",
     "text": [
      "Processed /Users/chy/Projects/Thesis/mfcc/tt1231587_mfcc.png with feature shape: torch.Size([1, 197, 768])\n",
      "Processed /Users/chy/Projects/Thesis/mfcc/tt1142433_mfcc.png with feature shape: torch.Size([1, 197, 768])\n",
      "Processed /Users/chy/Projects/Thesis/mfcc/tt1322313_mfcc.png with feature shape: torch.Size([1, 197, 768])\n"
     ]
    },
    {
     "name": "stderr",
     "output_type": "stream",
     "text": [
      " 98%|█████████▊| 1328/1356 [01:58<00:02,  9.90it/s]"
     ]
    },
    {
     "name": "stdout",
     "output_type": "stream",
     "text": [
      "Processed /Users/chy/Projects/Thesis/mfcc/tt0896866_mfcc.png with feature shape: torch.Size([1, 197, 768])\n",
      "Processed /Users/chy/Projects/Thesis/mfcc/tt0486655_mfcc.png with feature shape: torch.Size([1, 197, 768])\n"
     ]
    },
    {
     "name": "stderr",
     "output_type": "stream",
     "text": [
      " 98%|█████████▊| 1330/1356 [01:58<00:02,  9.55it/s]"
     ]
    },
    {
     "name": "stdout",
     "output_type": "stream",
     "text": [
      "Processed /Users/chy/Projects/Thesis/mfcc/tt0102288_mfcc.png with feature shape: torch.Size([1, 197, 768])\n"
     ]
    },
    {
     "name": "stderr",
     "output_type": "stream",
     "text": [
      " 98%|█████████▊| 1332/1356 [01:58<00:02,  8.08it/s]"
     ]
    },
    {
     "name": "stdout",
     "output_type": "stream",
     "text": [
      "Processed /Users/chy/Projects/Thesis/mfcc/tt0119994_mfcc.png with feature shape: torch.Size([1, 197, 768])\n",
      "Processed /Users/chy/Projects/Thesis/mfcc/tt0804529_mfcc.png with feature shape: torch.Size([1, 197, 768])\n",
      "Processed /Users/chy/Projects/Thesis/mfcc/tt0477078_mfcc.png with feature shape: torch.Size([1, 197, 768])\n"
     ]
    },
    {
     "name": "stderr",
     "output_type": "stream",
     "text": [
      " 98%|█████████▊| 1335/1356 [01:59<00:02,  8.86it/s]"
     ]
    },
    {
     "name": "stdout",
     "output_type": "stream",
     "text": [
      "Processed /Users/chy/Projects/Thesis/mfcc/tt4843640_mfcc.png with feature shape: torch.Size([1, 197, 768])\n",
      "Processed /Users/chy/Projects/Thesis/mfcc/tt4667094_mfcc.png with feature shape: torch.Size([1, 197, 768])\n",
      "Processed /Users/chy/Projects/Thesis/mfcc/tt1127896_mfcc.png with feature shape: torch.Size([1, 197, 768])\n"
     ]
    },
    {
     "name": "stderr",
     "output_type": "stream",
     "text": [
      " 99%|█████████▊| 1338/1356 [01:59<00:02,  9.00it/s]"
     ]
    },
    {
     "name": "stdout",
     "output_type": "stream",
     "text": [
      "Processed /Users/chy/Projects/Thesis/mfcc/tt0359013_mfcc.png with feature shape: torch.Size([1, 197, 768])\n",
      "Processed /Users/chy/Projects/Thesis/mfcc/tt1107365_mfcc.png with feature shape: torch.Size([1, 197, 768])\n",
      "Processed /Users/chy/Projects/Thesis/mfcc/tt0371606_mfcc.png with feature shape: torch.Size([1, 197, 768])\n"
     ]
    },
    {
     "name": "stderr",
     "output_type": "stream",
     "text": [
      " 99%|█████████▉| 1342/1356 [02:00<00:01,  8.84it/s]"
     ]
    },
    {
     "name": "stdout",
     "output_type": "stream",
     "text": [
      "Processed /Users/chy/Projects/Thesis/mfcc/tt0292610_mfcc.png with feature shape: torch.Size([1, 197, 768])\n",
      "Processed /Users/chy/Projects/Thesis/mfcc/tt0484207_mfcc.png with feature shape: torch.Size([1, 197, 768])\n",
      "Processed /Users/chy/Projects/Thesis/mfcc/tt0246464_mfcc.png with feature shape: torch.Size([1, 197, 768])\n"
     ]
    },
    {
     "name": "stderr",
     "output_type": "stream",
     "text": [
      " 99%|█████████▉| 1344/1356 [02:00<00:01,  8.62it/s]"
     ]
    },
    {
     "name": "stdout",
     "output_type": "stream",
     "text": [
      "Processed /Users/chy/Projects/Thesis/mfcc/tt3672742_mfcc.png with feature shape: torch.Size([1, 197, 768])\n",
      "Processed /Users/chy/Projects/Thesis/mfcc/tt1155592_mfcc.png with feature shape: torch.Size([1, 197, 768])\n",
      "Processed /Users/chy/Projects/Thesis/mfcc/tt0810922_mfcc.png with feature shape: torch.Size([1, 197, 768])\n"
     ]
    },
    {
     "name": "stderr",
     "output_type": "stream",
     "text": [
      " 99%|█████████▉| 1347/1356 [02:00<00:00,  9.27it/s]"
     ]
    },
    {
     "name": "stdout",
     "output_type": "stream",
     "text": [
      "Processed /Users/chy/Projects/Thesis/mfcc/tt0332136_mfcc.png with feature shape: torch.Size([1, 197, 768])\n",
      "Processed /Users/chy/Projects/Thesis/mfcc/tt0308644_mfcc.png with feature shape: torch.Size([1, 197, 768])\n",
      "Processed /Users/chy/Projects/Thesis/mfcc/tt1176251_mfcc.png with feature shape: torch.Size([1, 197, 768])\n"
     ]
    },
    {
     "name": "stderr",
     "output_type": "stream",
     "text": [
      "100%|█████████▉| 1350/1356 [02:00<00:00,  9.50it/s]"
     ]
    },
    {
     "name": "stdout",
     "output_type": "stream",
     "text": [
      "Processed /Users/chy/Projects/Thesis/mfcc/tt0120619_mfcc.png with feature shape: torch.Size([1, 197, 768])\n",
      "Processed /Users/chy/Projects/Thesis/mfcc/tt0896798_mfcc.png with feature shape: torch.Size([1, 197, 768])\n",
      "Processed /Users/chy/Projects/Thesis/mfcc/tt0381849_mfcc.png with feature shape: torch.Size([1, 197, 768])\n"
     ]
    },
    {
     "name": "stderr",
     "output_type": "stream",
     "text": [
      "100%|█████████▉| 1354/1356 [02:01<00:00,  9.11it/s]"
     ]
    },
    {
     "name": "stdout",
     "output_type": "stream",
     "text": [
      "Processed /Users/chy/Projects/Thesis/mfcc/tt1567233_mfcc.png with feature shape: torch.Size([1, 197, 768])\n",
      "Processed /Users/chy/Projects/Thesis/mfcc/tt0388500_mfcc.png with feature shape: torch.Size([1, 197, 768])\n",
      "Processed /Users/chy/Projects/Thesis/mfcc/tt0299930_mfcc.png with feature shape: torch.Size([1, 197, 768])\n"
     ]
    },
    {
     "name": "stderr",
     "output_type": "stream",
     "text": [
      "100%|██████████| 1356/1356 [02:01<00:00, 11.16it/s]"
     ]
    },
    {
     "name": "stdout",
     "output_type": "stream",
     "text": [
      "Processed /Users/chy/Projects/Thesis/mfcc/tt0119906_mfcc.png with feature shape: torch.Size([1, 197, 768])\n",
      "Processed /Users/chy/Projects/Thesis/mfcc/tt3526408_mfcc.png with feature shape: torch.Size([1, 197, 768])\n"
     ]
    },
    {
     "name": "stderr",
     "output_type": "stream",
     "text": [
      "\n"
     ]
    }
   ],
   "source": [
    "extract_features(log_mel_spectrograms_path, logmel_output_path)\n",
    "extract_features(mfcc_path, mfcc_output_path)"
   ]
  }
 ],
 "metadata": {
  "kernelspec": {
   "display_name": "Python 3",
   "language": "python",
   "name": "python3"
  },
  "language_info": {
   "codemirror_mode": {
    "name": "ipython",
    "version": 3
   },
   "file_extension": ".py",
   "mimetype": "text/x-python",
   "name": "python",
   "nbconvert_exporter": "python",
   "pygments_lexer": "ipython3",
   "version": "3.12.4"
  }
 },
 "nbformat": 4,
 "nbformat_minor": 2
}
