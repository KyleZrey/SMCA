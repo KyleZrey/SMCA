{
 "cells": [
  {
   "cell_type": "code",
   "execution_count": 1,
   "metadata": {},
   "outputs": [],
   "source": [
    "import pandas as pd"
   ]
  },
  {
   "cell_type": "code",
   "execution_count": 2,
   "metadata": {},
   "outputs": [
    {
     "name": "stdout",
     "output_type": "stream",
     "text": [
      "         IMDBid                 Movie Title  \\\n",
      "1062  tt2072233                   Sleepless   \n",
      "67    tt0415489              American Crude   \n",
      "1332  tt1860353                       Turbo   \n",
      "760   tt0079540                   Meatballs   \n",
      "1061  tt3165612  Sleeping with Other People   \n",
      "\n",
      "                                                    URL  Label  \n",
      "1062      https://www.imdb.com/videoplayer/vi2938549785    red  \n",
      "67        https://www.imdb.com/videoplayer/vi3085173017  green  \n",
      "1332       https://www.imdb.com/videoplayer/vi127903257  green  \n",
      "760        https://www.imdb.com/videoplayer/vi496369945  green  \n",
      "1061  https://www.youtube.com/watch?v=otMQKxRQ3pM&li...    red  \n"
     ]
    }
   ],
   "source": [
    "# Load the Dataset\n",
    "df = pd.read_excel('MM-Trailer_dataset.xlsx')\n",
    "print(df.sample(5))"
   ]
  },
  {
   "cell_type": "code",
   "execution_count": 3,
   "metadata": {},
   "outputs": [
    {
     "name": "stdout",
     "output_type": "stream",
     "text": [
      "IMDBid         1433\n",
      "Movie Title    1433\n",
      "URL            1433\n",
      "Label          1433\n",
      "dtype: int64\n"
     ]
    }
   ],
   "source": [
    "# Inspect the dataset\n",
    "# Count of non-empty values per column\n",
    "print(df.count())"
   ]
  },
  {
   "cell_type": "code",
   "execution_count": 4,
   "metadata": {},
   "outputs": [
    {
     "name": "stdout",
     "output_type": "stream",
     "text": [
      "IMDBid         1433\n",
      "Movie Title    1428\n",
      "URL            1433\n",
      "Label             2\n",
      "dtype: int64\n"
     ]
    }
   ],
   "source": [
    "# Count of unique values per column\n",
    "print(df.nunique())"
   ]
  },
  {
   "cell_type": "code",
   "execution_count": 5,
   "metadata": {},
   "outputs": [
    {
     "name": "stdout",
     "output_type": "stream",
     "text": [
      "         IMDBid   Movie Title  \\\n",
      "261   tt1024714         Choke   \n",
      "262   tt1024715         Choke   \n",
      "379   tt0079073       Dracula   \n",
      "380   tt0021814       Dracula   \n",
      "479   tt0808279   Funny Games   \n",
      "480   tt0119167   Funny Games   \n",
      "653   tt0903627         Julia   \n",
      "654   tt0076245         Julia   \n",
      "1019  tt5460226  Search Party   \n",
      "1020  tt2758904  Search Party   \n",
      "\n",
      "                                                    URL  Label  \n",
      "261       https://www.imdb.com/videoplayer/vi1843855641  green  \n",
      "262         https://www.youtube.com/watch?v=ijbusd2lVRA    red  \n",
      "379         https://www.youtube.com/watch?v=fgFPIh5mvNc  green  \n",
      "380         https://www.youtube.com/watch?v=4qLS_DEIrYA    red  \n",
      "479         https://www.youtube.com/watch?v=hAENTZUN688    red  \n",
      "480         https://www.youtube.com/watch?v=Ec-70W_K77U  green  \n",
      "653        https://www.imdb.com/videoplayer/vi944636697  green  \n",
      "654         https://www.youtube.com/watch?v=xWU9TJ5VNTc  green  \n",
      "1019  https://www.youtube.com/watch?v=AkMGjTEtCYI&li...    red  \n",
      "1020      https://www.imdb.com/videoplayer/vi1012118809  green  \n"
     ]
    }
   ],
   "source": [
    "# Preprocess the dataset\n",
    "\n",
    "# Find and print duplicate rows based on 'IMDBid', 'Movie Title', and 'URL'\n",
    "duplicates_movie_title = df[df.duplicated(subset=['Movie Title'], keep=False)]\n",
    "duplicates_imdbid = df[df.duplicated(subset=['IMDBid'], keep=False)]\n",
    "duplicates_url = df[df.duplicated(subset=['URL'], keep=False)]\n",
    "\n",
    "# Combine all duplicates into one DataFrame\n",
    "duplicates = pd.concat([duplicates_imdbid, duplicates_movie_title, duplicates_url]).drop_duplicates()\n",
    "\n",
    "print(duplicates)"
   ]
  },
  {
   "cell_type": "code",
   "execution_count": 6,
   "metadata": {},
   "outputs": [],
   "source": [
    "# dracula, funny games, julia - same name different movies\n",
    "\n",
    "# choke, search party - same movie, different trailers, different ratings"
   ]
  }
 ],
 "metadata": {
  "kernelspec": {
   "display_name": "Python 3",
   "language": "python",
   "name": "python3"
  },
  "language_info": {
   "codemirror_mode": {
    "name": "ipython",
    "version": 3
   },
   "file_extension": ".py",
   "mimetype": "text/x-python",
   "name": "python",
   "nbconvert_exporter": "python",
   "pygments_lexer": "ipython3",
   "version": "3.12.4"
  }
 },
 "nbformat": 4,
 "nbformat_minor": 2
}
