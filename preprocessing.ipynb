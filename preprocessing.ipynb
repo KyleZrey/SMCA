{
 "cells": [
  {
   "cell_type": "code",
   "execution_count": 1,
   "metadata": {},
   "outputs": [],
   "source": [
    "import pandas as pd"
   ]
  },
  {
   "cell_type": "code",
   "execution_count": 2,
   "metadata": {},
   "outputs": [
    {
     "name": "stdout",
     "output_type": "stream",
     "text": [
      "         IMDBid         Movie Title  \\\n",
      "566   tt0311289               Holes   \n",
      "918   tt0477457             Pirates   \n",
      "1406  tt0118158        White Squall   \n",
      "950   tt0450314  Punisher: War Zone   \n",
      "648   tt4552524           Jeruzalem   \n",
      "\n",
      "                                                URL  Label  \n",
      "566    https://www.imdb.com/videoplayer/vi450822425  green  \n",
      "918     https://www.youtube.com/watch?v=HKSZtp_OGHY  green  \n",
      "1406  https://www.imdb.com/videoplayer/vi1457651993  green  \n",
      "950     https://www.imdb.com/videoplayer/vi65536281  green  \n",
      "648     https://www.youtube.com/watch?v=8EhqqJpDNSw    red  \n"
     ]
    }
   ],
   "source": [
    "# Load the Dataset\n",
    "df = pd.read_excel('MM-Trailer_dataset.xlsx')\n",
    "print(df.sample(5))"
   ]
  },
  {
   "cell_type": "code",
   "execution_count": 3,
   "metadata": {},
   "outputs": [
    {
     "name": "stdout",
     "output_type": "stream",
     "text": [
      "IMDBid         1448\n",
      "Movie Title    1448\n",
      "URL            1448\n",
      "Label          1448\n",
      "dtype: int64\n",
      "IMDBid         1446\n",
      "Movie Title    1433\n",
      "URL            1442\n",
      "Label             2\n",
      "dtype: int64\n"
     ]
    }
   ],
   "source": [
    "# Inspect the dataset\n",
    "\n",
    "# Count of non-empty values per column\n",
    "print(df.count())\n",
    "\n",
    "# Count of unique values per column\n",
    "print(df.nunique())"
   ]
  },
  {
   "cell_type": "code",
   "execution_count": 4,
   "metadata": {},
   "outputs": [
    {
     "name": "stdout",
     "output_type": "stream",
     "text": [
      "          IMDBid                    Movie Title  \\\n",
      "264    tt1024715                          Choke   \n",
      "265    tt1024715                          Choke   \n",
      "1045   tt1135985                      Sex Drive   \n",
      "1046   tt1135985                      Sex Drive   \n",
      "117    tt1438173                           Bait   \n",
      "118    tt0211938                           Bait   \n",
      "169    tt0090727                    Big Trouble   \n",
      "170    tt0246464                    Big Trouble   \n",
      "382    tt0079073                        Dracula   \n",
      "383    tt0021814                        Dracula   \n",
      "456    tt6051948                         Flower   \n",
      "457    tt2582784                         Flower   \n",
      "484    tt0808279                    Funny Games   \n",
      "485    tt0119167                    Funny Games   \n",
      "552    tt2274648                        Hellboy   \n",
      "553    tt0167190                        Hellboy   \n",
      "660    tt0903627                          Julia   \n",
      "661    tt0076245                          Julia   \n",
      "726    tt7390588                Little Monsters   \n",
      "727    tt0097758                Little Monsters   \n",
      "787    tt0100156                  Mirror Mirror   \n",
      "788    tt1667353                  Mirror Mirror   \n",
      "838    tt0105001             Night and the City   \n",
      "839    tt0042788             Night and the City   \n",
      "848    tt0110684                  Nobody's Fool   \n",
      "849    tt8097306                  Nobody's Fool   \n",
      "982    tt8215922                        Revenge   \n",
      "983    tt1837642                        Revenge   \n",
      "1032   tt5460226                   Search Party   \n",
      "1033   tt2758904                   Search Party   \n",
      "525   tt10054316                    Guest House   \n",
      "935    tt2182256                      Premature   \n",
      "1232  tt12204610  The Killer in the Guest House   \n",
      "1423   tt1403241                         Wolves   \n",
      "\n",
      "                                                    URL  Label  \n",
      "264       https://www.imdb.com/videoplayer/vi1843855641  green  \n",
      "265         https://www.youtube.com/watch?v=ijbusd2lVRA    red  \n",
      "1045      https://www.imdb.com/videoplayer/vi3200385305    red  \n",
      "1046      https://www.imdb.com/videoplayer/vi3200385305  green  \n",
      "117         https://www.youtube.com/watch?v=nN8h8-otUw4    red  \n",
      "118         https://www.youtube.com/watch?v=TSUUBiHea68    red  \n",
      "169         https://www.youtube.com/watch?v=gqAgkcRwSkc  green  \n",
      "170       https://www.imdb.com/videoplayer/vi2102591513  green  \n",
      "382         https://www.youtube.com/watch?v=fgFPIh5mvNc  green  \n",
      "383         https://www.youtube.com/watch?v=4qLS_DEIrYA    red  \n",
      "456   https://www.youtube.com/watch?v=xwNFEG6MkgA&li...    red  \n",
      "457   https://www.youtube.com/watch?v=xwNFEG6MkgA&li...    red  \n",
      "484         https://www.youtube.com/watch?v=hAENTZUN688    red  \n",
      "485         https://www.youtube.com/watch?v=Ec-70W_K77U  green  \n",
      "552   https://www.youtube.com/watch?v=8YfUvAIE68o&li...    red  \n",
      "553   https://www.youtube.com/watch?v=8YfUvAIE68o&li...    red  \n",
      "660        https://www.imdb.com/videoplayer/vi944636697  green  \n",
      "661         https://www.youtube.com/watch?v=xWU9TJ5VNTc  green  \n",
      "726         https://www.youtube.com/watch?v=HnH8Hqc5mn4    red  \n",
      "727         https://www.youtube.com/watch?v=XlKnp52moe4    red  \n",
      "787         https://www.youtube.com/watch?v=ILDeA7AqA84    red  \n",
      "788       https://www.imdb.com/videoplayer/vi3708919321  green  \n",
      "838       https://www.imdb.com/videoplayer/vi2677604633  green  \n",
      "839         https://www.youtube.com/watch?v=d1NmpF0M4SM  green  \n",
      "848         https://www.youtube.com/watch?v=2FbDY0MeJf8    red  \n",
      "849         https://www.youtube.com/watch?v=2FbDY0MeJf8    red  \n",
      "982         https://www.youtube.com/watch?v=07wouvzPcvI    red  \n",
      "983         https://www.youtube.com/watch?v=wEVxKimr1MU    red  \n",
      "1032  https://www.youtube.com/watch?v=AkMGjTEtCYI&li...    red  \n",
      "1033      https://www.imdb.com/videoplayer/vi1012118809    red  \n",
      "525         https://www.youtube.com/watch?v=yoXFhob6AmI    red  \n",
      "935         https://www.youtube.com/watch?v=xQvJN8BNkO4    red  \n",
      "1232        https://www.youtube.com/watch?v=yoXFhob6AmI    red  \n",
      "1423        https://www.youtube.com/watch?v=xQvJN8BNkO4    red  \n"
     ]
    }
   ],
   "source": [
    "# Preprocess the dataset\n",
    "\n",
    "# Find and print duplicate rows based on 'IMDBid', 'Movie Title', and 'URL'\n",
    "duplicates_imdbid = df[df.duplicated(subset=['IMDBid'], keep=False)]\n",
    "duplicates_movie_title = df[df.duplicated(subset=['Movie Title'], keep=False)]\n",
    "duplicates_url = df[df.duplicated(subset=['URL'], keep=False)]\n",
    "\n",
    "# Combine all duplicates into one DataFrame\n",
    "duplicates = pd.concat([duplicates_imdbid, duplicates_movie_title, duplicates_url]).drop_duplicates()\n",
    "\n",
    "print(duplicates)"
   ]
  }
 ],
 "metadata": {
  "kernelspec": {
   "display_name": "Python 3",
   "language": "python",
   "name": "python3"
  },
  "language_info": {
   "codemirror_mode": {
    "name": "ipython",
    "version": 3
   },
   "file_extension": ".py",
   "mimetype": "text/x-python",
   "name": "python",
   "nbconvert_exporter": "python",
   "pygments_lexer": "ipython3",
   "version": "3.12.4"
  }
 },
 "nbformat": 4,
 "nbformat_minor": 2
}
