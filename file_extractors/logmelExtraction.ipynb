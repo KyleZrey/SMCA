{
 "cells": [
  {
   "cell_type": "code",
   "execution_count": null,
   "metadata": {},
   "outputs": [],
   "source": [
    "pip install librosa numpy matplotlib tqdm"
   ]
  },
  {
   "cell_type": "code",
   "execution_count": null,
   "metadata": {},
   "outputs": [],
   "source": [
    "import librosa\n",
    "import librosa.display\n",
    "import numpy as np\n",
    "import matplotlib.pyplot as plt\n",
    "import subprocess\n",
    "import os\n",
    "import glob\n",
    "from tqdm import tqdm\n",
    "import time"
   ]
  },
  {
   "cell_type": "markdown",
   "metadata": {},
   "source": [
    "## Directories"
   ]
  },
  {
   "cell_type": "code",
   "execution_count": null,
   "metadata": {},
   "outputs": [],
   "source": [
    "def convert(video_filepath, audio_filepath):\n",
    "    command = \"ffmpeg -i {} -vn -ar 44100 -ac 2 -b:a 192k {}\".format(video_filepath, audio_filepath)\n",
    "    subprocess.call(command, shell=True)\n",
    "\n",
    "video_dir = \"E:\\\\Thesis\\\\Videos\"\n",
    "audio_dir = \"E:\\\\Thesis\\\\Audio\"\n",
    "spectrogram_dir = \"spectrograms\"\n",
    "mfcc_dir = \"mfcc\"\n",
    "\n",
    "contents = glob.glob(os.path.join(video_dir, \"*.mp4\"))\n",
    "contents_spec = glob.glob(os.path.join(spectrogram_dir, \"*.png\"))\n",
    "\n",
    "print(\"Contents of the directory: \")\n",
    "for item in contents:\n",
    "    print(item)\n",
    "\n",
    "for item in contents_spec:\n",
    "    print(item)"
   ]
  },
  {
   "cell_type": "markdown",
   "metadata": {},
   "source": [
    "# Process each .mp4 file"
   ]
  },
  {
   "cell_type": "code",
   "execution_count": null,
   "metadata": {},
   "outputs": [],
   "source": [
    "for video_file in tqdm(glob.glob(os.path.join(video_dir, \"*.mp4\")), desc=\"Processing videos\"):\n",
    "    start_time = time.time()\n",
    "    \n",
    "    audio_file = os.path.join(audio_dir, os.path.basename(video_file).replace(\".mp4\", \".mp3\"))\n",
    "    \n",
    "    # Convert video to audio\n",
    "    print(f\"\\nConverting video to audio for {os.path.basename(video_file)}...\")\n",
    "    convert_start_time = time.time()\n",
    "    convert(video_file, audio_file)\n",
    "    print(f\"Conversion took {time.time() - convert_start_time:.2f} seconds\")\n",
    "    \n",
    "    # Load audio\n",
    "    print(\"Loading audio...\")\n",
    "    load_start_time = time.time()\n",
    "    y, sr = librosa.load(audio_file, sr=None)\n",
    "    print(f\"Loading audio took {time.time() - load_start_time:.2f} seconds\")\n",
    "    \n",
    "    # Convert to Mel Spectrogram\n",
    "    print(\"Converting to Mel Spectrogram...\")\n",
    "    mel_start_time = time.time()\n",
    "    S = librosa.feature.melspectrogram(y=y, sr=sr, n_mels=128, fmax=8000)\n",
    "    print(f\"Mel Spectrogram conversion took {time.time() - mel_start_time:.2f} seconds\")\n",
    "    \n",
    "    # Convert to Log-Mel Spectrogram\n",
    "    print(\"Converting to Log-Mel Spectrogram...\")\n",
    "    logmel_start_time = time.time()\n",
    "    log_S = librosa.power_to_db(S, ref=np.max)\n",
    "    print(f\"Log-Mel Spectrogram conversion took {time.time() - logmel_start_time:.2f} seconds\")\n",
    "    \n",
    "    # Visualize\n",
    "    print(\"Visualizing Log-Mel Spectrogram...\")\n",
    "    visualize_start_time = time.time()\n",
    "    plt.figure(figsize=(10, 4))\n",
    "    librosa.display.specshow(log_S, sr=sr, x_axis=None, y_axis=None, fmax=8000)\n",
    "    plt.axis('off') \n",
    "    plt.tight_layout(pad=0)\n",
    "    fig1 = plt.gcf()\n",
    "    plt.show()\n",
    "    plt.draw()\n",
    "    \n",
    "    # Save\n",
    "    spectrogram_file = os.path.join(spectrogram_dir, os.path.basename(video_file).replace(\".mp4\", \".png\"))\n",
    "    fig1.savefig(spectrogram_file, bbox_inches='tight', pad_inches=0)\n",
    "    plt.close(fig1)\n",
    "    print(f\"Visualization and saving took {time.time() - visualize_start_time:.2f} seconds\")\n",
    "    \n",
    "    # Extract\n",
    "    print(\"Extracting MFCCs...\")\n",
    "    mfcc_start_time = time.time()\n",
    "    mfccs = librosa.feature.mfcc(y=y, sr=sr, n_mfcc=13)\n",
    "    print(f\"MFCC extraction took {time.time() - mfcc_start_time:.2f} seconds\")\n",
    "    \n",
    "    # Visualize\n",
    "    print(\"Visualizing MFCCs...\")\n",
    "    visualize_mfcc_start_time = time.time()\n",
    "    plt.figure(figsize=(10, 4))\n",
    "    librosa.display.specshow(mfccs, sr=sr, x_axis=None, y_axis=None)\n",
    "    plt.axis('off')  \n",
    "    plt.tight_layout(pad=0)\n",
    "    fig2 = plt.gcf()\n",
    "    plt.show()\n",
    "    plt.draw()\n",
    "    \n",
    "    # Save\n",
    "    mfcc_file = os.path.join(mfcc_dir, os.path.basename(video_file).replace(\".mp4\", \"_mfcc.png\"))\n",
    "    fig2.savefig(mfcc_file, bbox_inches='tight', pad_inches=0)\n",
    "    plt.close(fig2)\n",
    "    print(f\"MFCC visualization and saving took {time.time() - visualize_mfcc_start_time:.2f} seconds\")\n",
    "\n",
    "    # # Optionally, save MFCCs to a file (e.g., CSV)\n",
    "    # print(\"Saving MFCCs to CSV...\")\n",
    "    # save_mfcc_start_time = time.time()\n",
    "    # mfcc_csv_file = os.path.join(mfcc_dir, os.path.basename(video_file).replace(\".mp4\", \"_mfcc.csv\"))\n",
    "    # np.savetxt(mfcc_csv_file, mfccs, delimiter=\",\")\n",
    "    # print(f\"Saving MFCCs to CSV took {time.time() - save_mfcc_start_time:.2f} seconds\")\n",
    "\n",
    "    total_time = time.time() - start_time\n",
    "    print(f\"Total processing time for {os.path.basename(video_file)}: {total_time:.2f} seconds\")"
   ]
  }
 ],
 "metadata": {
  "kernelspec": {
   "display_name": "Python 3",
   "language": "python",
   "name": "python3"
  },
  "language_info": {
   "codemirror_mode": {
    "name": "ipython",
    "version": 3
   },
   "file_extension": ".py",
   "mimetype": "text/x-python",
   "name": "python",
   "nbconvert_exporter": "python",
   "pygments_lexer": "ipython3",
   "version": "3.12.3"
  }
 },
 "nbformat": 4,
 "nbformat_minor": 2
}
