{
 "cells": [
  {
   "cell_type": "code",
   "execution_count": null,
   "metadata": {},
   "outputs": [],
   "source": [
    "%pip install transformers pandas"
   ]
  },
  {
   "cell_type": "code",
   "execution_count": null,
   "metadata": {},
   "outputs": [],
   "source": [
    "import pandas as pd\n",
    "import numpy as np\n",
    "from transformers import BertModel, BertTokenizer\n",
    "import torch\n",
    "\n",
    "# Initialize BERT model and tokenizer\n",
    "tokenizer = BertTokenizer.from_pretrained('bert-base-uncased')\n",
    "model = BertModel.from_pretrained('bert-base-uncased')\n",
    "\n",
    "# Function to extract features from transcript using BERT\n",
    "def extract_features(transcript):\n",
    "    inputs = tokenizer(transcript, return_tensors='pt')\n",
    "    outputs = model(**inputs)\n",
    "    last_hidden_states = outputs.last_hidden_state\n",
    "    mean_last_hidden_states = torch.mean(last_hidden_states, dim=1).squeeze().detach().numpy()\n",
    "    return mean_last_hidden_states\n",
    "\n",
    "# Read CSV file\n",
    "df = pd.read_csv('transcriptions (1353).csv')\n",
    "\n",
    "# Create an empty list to store feature vectors\n",
    "feature_vectors = []\n",
    "\n",
    "# Iterate through each transcript in the DataFrame\n",
    "for index, row in df.iterrows():\n",
    "    transcript = row['Transcription']  # Assuming 'transcript' is the second column\n",
    "    \n",
    "    # Extract features for the current transcript\n",
    "    feature_vector = extract_features(transcript)\n",
    "   \n"
   ]
  }
 ],
 "metadata": {
  "kernelspec": {
   "display_name": "Python 3",
   "language": "python",
   "name": "python3"
  },
  "language_info": {
   "name": "python",
   "version": "3.12.3"
  }
 },
 "nbformat": 4,
 "nbformat_minor": 2
}
