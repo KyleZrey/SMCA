{
 "cells": [
  {
   "cell_type": "code",
   "execution_count": 13,
   "metadata": {},
   "outputs": [],
   "source": [
    "import torch\n",
    "import torch.nn as nn\n",
    "import numpy as np\n",
    "import os\n",
    "import torch.nn.functional as F"
   ]
  },
  {
   "cell_type": "code",
   "execution_count": 14,
   "metadata": {},
   "outputs": [],
   "source": [
    "import sys\n",
    "sys.path.append('../')\n",
    "\n",
    "from modules.cross_attention import CrossAttention"
   ]
  },
  {
   "cell_type": "code",
   "execution_count": 15,
   "metadata": {},
   "outputs": [],
   "source": [
    "def load_npy_files(directory):\n",
    "    file_list = [os.path.join(directory, file) for file in os.listdir(directory) if file.endswith('.npy')]\n",
    "    feature_vectors = [(file, torch.tensor(np.load(file))) for file in file_list]\n",
    "    return feature_vectors"
   ]
  },
  {
   "cell_type": "code",
   "execution_count": 16,
   "metadata": {},
   "outputs": [],
   "source": [
    "# Linear transformation to match dimensions\n",
    "class LinearTransformations(nn.Module):\n",
    "    def __init__(self, input_dim, output_dim):\n",
    "        super(LinearTransformations, self).__init__()\n",
    "        self.linear = nn.Linear(input_dim, output_dim)\n",
    "    \n",
    "    def forward(self, x):\n",
    "        return self.linear(x)"
   ]
  },
  {
   "cell_type": "code",
   "execution_count": 17,
   "metadata": {},
   "outputs": [],
   "source": [
    "# Stage 1 of SMCA\n",
    "def SMCAStage1(modalityAlpha, modalityBeta, d_out_kq, d_out_v):\n",
    "    cross_attn = CrossAttention(modalityAlpha.shape[-1], modalityBeta.shape[-1], d_out_kq, d_out_v)\n",
    "    modalityAlphaBeta = cross_attn(modalityAlpha, modalityBeta)\n",
    "    return modalityAlphaBeta"
   ]
  },
  {
   "cell_type": "code",
   "execution_count": 18,
   "metadata": {},
   "outputs": [],
   "source": [
    "# Stage 2 of SMCA - Model A: Stage 1 Output as Query\n",
    "def SMCAStage2_ModelA(modalityAlphaBeta, modalityGamma, d_out_kq, d_out_v):\n",
    "    cross_attn = CrossAttention(modalityAlphaBeta.shape[-1], modalityGamma.shape[-1], d_out_kq, d_out_v)\n",
    "    multimodal_representation = cross_attn(modalityAlphaBeta, modalityGamma)\n",
    "    return multimodal_representation"
   ]
  },
  {
   "cell_type": "code",
   "execution_count": 19,
   "metadata": {},
   "outputs": [],
   "source": [
    "# Stage 2 of SMCA - Model B: Stage 1 Output as Key-Value\n",
    "def SMCAStage2_ModelB(modalityGamma, modalityAlphaBeta, d_out_kq, d_out_v):\n",
    "    cross_attn = CrossAttention(modalityGamma.shape[-1], modalityAlphaBeta.shape[-1], d_out_kq, d_out_v)\n",
    "    multimodal_representation = cross_attn(modalityGamma, modalityAlphaBeta)\n",
    "    return multimodal_representation"
   ]
  },
  {
   "cell_type": "code",
   "execution_count": 21,
   "metadata": {},
   "outputs": [
    {
     "name": "stdout",
     "output_type": "stream",
     "text": [
      "\n",
      "Selected File Names:\n",
      "Audio file: D:\\Projects\\SMCA\\misc\\audio_fe\\logmel_spectrograms\\feature_tt0021814.npy\n",
      "Video file: D:\\Projects\\Thesis\\Video\\tt0021814_features.npy\n",
      "Text file: D:\\Projects\\SMCA\\misc\\textStream_BERT\\feature_vectors\\tt0021814.npy\n",
      "Modality Alpha Shape: torch.Size([1, 197, 768])\n",
      "Modality Beta Shape: torch.Size([1, 768])\n",
      "Modality Gamma Shape: torch.Size([1, 95, 768])\n",
      "Stage 1 Bimodal Representation Shape: torch.Size([1, 197, 768])\n",
      "Final Multimodal Representation (Model A) Shape: torch.Size([1, 197, 768])\n",
      "Final Multimodal Representation (Model B) Shape: torch.Size([1, 95, 768])\n"
     ]
    }
   ],
   "source": [
    "if __name__ == \"__main__\":\n",
    "    torch.manual_seed(42)\n",
    "    \n",
    "    # Load .npy files\n",
    "    video_features = load_npy_files(r'D:\\Projects\\Thesis\\Video')\n",
    "    audio_features = load_npy_files(r'D:\\Projects\\SMCA\\misc\\audio_fe\\logmel_spectrograms')\n",
    "    text_features = load_npy_files(r'D:\\Projects\\SMCA\\misc\\textStream_BERT\\feature_vectors')\n",
    "\n",
    "    # Select the first file from each modality directories (for testing)\n",
    "    video_file_name, video_features = video_features[0]\n",
    "    audio_file_name, audio_features = audio_features[0]\n",
    "    text_file_name, text_features = text_features[0]\n",
    "\n",
    "    # Print the file names\n",
    "    print(\"\\nSelected File Names:\")\n",
    "    print(\"Audio file:\", audio_file_name)\n",
    "    print(\"Video file:\", video_file_name)\n",
    "    print(\"Text file:\", text_file_name)\n",
    "    \n",
    "    # Reshape features\n",
    "    video_features = video_features.unsqueeze(0)  # Add batch dimension\n",
    "    text_features = text_features.unsqueeze(0)    # Add batch dimension\n",
    "\n",
    "    # # Randomize assignment of Alpha, Beta, Gamma\n",
    "    # modalityAlpha, modalityBeta, modalityGamma = randomize_modalities(audio_features, video_features, text_features)\n",
    "\n",
    "    # Manual assignment of modalities\n",
    "    modalityAlpha = audio_features\n",
    "    modalityBeta = text_features\n",
    "    modalityGamma = video_features\n",
    "\n",
    "    # Apply linear transformation to match dimensions\n",
    "    linear_transform_Alpha = LinearTransformations(modalityAlpha.shape[-1], 768)\n",
    "    linear_transform_Beta = LinearTransformations(modalityBeta.shape[-1], 768)\n",
    "    linear_transform_Gamma = LinearTransformations(modalityGamma.shape[-1], 768)\n",
    "\n",
    "    modalityAlpha = linear_transform_Alpha(modalityAlpha)\n",
    "    modalityBeta = linear_transform_Beta(modalityBeta)\n",
    "    modalityGamma = linear_transform_Gamma(modalityGamma)\n",
    "\n",
    "    # Determine the output dimensions\n",
    "    d_out_kq = 768  # Final transformed dimension\n",
    "    d_out_v = 768\n",
    "\n",
    "    # Stage 1: Bimodal Representation\n",
    "    modalityAlphaBeta = SMCAStage1(modalityAlpha, modalityBeta, d_out_kq, d_out_v)\n",
    "    \n",
    "    # Stage 2, Model A: Multimodal Representation (using AlphaBeta as Query)\n",
    "    final_representation_A = SMCAStage2_ModelA(modalityAlphaBeta, modalityGamma, d_out_kq, d_out_v)\n",
    "    \n",
    "    # Stage 2, Model B: Multimodal Representation (using AlphaBeta as Key-Value)\n",
    "    final_representation_B = SMCAStage2_ModelB(modalityGamma, modalityAlphaBeta, d_out_kq, d_out_v)\n",
    "\n",
    "    print(\"Modality Alpha Shape:\", modalityAlpha.shape)\n",
    "    print(\"Modality Beta Shape:\", modalityBeta.shape)\n",
    "    print(\"Modality Gamma Shape:\", modalityGamma.shape)\n",
    "    print(\"Stage 1 Bimodal Representation Shape:\", modalityAlphaBeta.shape)\n",
    "    print(\"Final Multimodal Representation (Model A) Shape:\", final_representation_A.shape)\n",
    "    print(\"Final Multimodal Representation (Model B) Shape:\", final_representation_B.shape)\n"
   ]
  },
  {
   "cell_type": "code",
   "execution_count": 22,
   "metadata": {},
   "outputs": [
    {
     "name": "stdout",
     "output_type": "stream",
     "text": [
      "Audio features shape: torch.Size([1, 197, 768])\n",
      "Video features shape: torch.Size([1, 95, 768])\n",
      "Text features shape: torch.Size([1, 1024])\n"
     ]
    }
   ],
   "source": [
    "print(\"Audio features shape:\", audio_features.shape)\n",
    "print(\"Video features shape:\", video_features.shape)\n",
    "print(\"Text features shape:\", text_features.shape)"
   ]
  }
 ],
 "metadata": {
  "kernelspec": {
   "display_name": "smca",
   "language": "python",
   "name": "python3"
  },
  "language_info": {
   "codemirror_mode": {
    "name": "ipython",
    "version": 3
   },
   "file_extension": ".py",
   "mimetype": "text/x-python",
   "name": "python",
   "nbconvert_exporter": "python",
   "pygments_lexer": "ipython3",
   "version": "3.11.9"
  }
 },
 "nbformat": 4,
 "nbformat_minor": 2
}
